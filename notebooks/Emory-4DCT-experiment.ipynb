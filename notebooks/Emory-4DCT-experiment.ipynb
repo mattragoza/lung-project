{
 "cells": [
  {
   "cell_type": "code",
   "execution_count": 1,
   "id": "5640f439",
   "metadata": {},
   "outputs": [
    {
     "data": {
      "text/plain": [
       "'/ocean/projects/asc170022p/mtragoza/lung-project/notebooks'"
      ]
     },
     "execution_count": 1,
     "metadata": {},
     "output_type": "execute_result"
    }
   ],
   "source": [
    "%matplotlib notebook\n",
    "%load_ext autoreload\n",
    "%pwd"
   ]
  },
  {
   "cell_type": "code",
   "execution_count": 2,
   "id": "2e5ce3d6",
   "metadata": {},
   "outputs": [],
   "source": [
    "import sys\n",
    "import pandas as pd\n",
    "sys.path.append('../../param_search')\n",
    "import param_search as ps"
   ]
  },
  {
   "cell_type": "markdown",
   "id": "40d9c092",
   "metadata": {},
   "source": [
    "## Setup experiment\n",
    "\n",
    "[[Setup](#Setup-experiment)] [[Submit](#Submit-jobs)] [[Monitor](#Monitor-jobs)] [[Analyze](#Analyze-results)]"
   ]
  },
  {
   "cell_type": "code",
   "execution_count": 3,
   "id": "3d8a9061",
   "metadata": {},
   "outputs": [],
   "source": [
    "# define a job template and name format\n",
    "template = '''\\\n",
    "#!/bin/bash\n",
    "#SBATCH --job-name={job_name}\n",
    "#SBATCH --account=asc170022p\n",
    "#SBATCH --partition=GPU-shared\n",
    "#SBATCH --gres=gpu::1\n",
    "#SBATCH --mem=64000M\n",
    "#SBATCH -x v034\n",
    "#SBATCH --time=48:00:00\n",
    "#SBATCH -o %J.stdout\n",
    "#SBATCH -e %J.stderr\n",
    "#SBATCH --mail-type=all\n",
    "\n",
    "hostname\n",
    "pwd\n",
    "module load anaconda3\n",
    "conda activate /ocean/projects/asc170022p/mtragoza/mambaforge/envs/lung-project\n",
    "nvidia-smi\n",
    "\n",
    "python ../../../train.py \\\\\n",
    "    --data_name emory \\\\\n",
    "    --data_root /ocean/projects/asc170022p/shared/Data/4DLungCT/Emory/ \\\\\n",
    "    --mask_roi {mask_roi} \\\\\n",
    "    --mesh_version {mesh_version} \\\\\n",
    "    --test_case {test_case} \\\\\n",
    "    --test_phase {test_phase} \\\\\n",
    "    --rho_value {rho_value} \\\\\n",
    "    --conv_channels {conv_channels} \\\\\n",
    "    --output_func {output_func} \\\\\n",
    "    --interp_size {interp_size} \\\\\n",
    "    --save_prefix {job_name} \n",
    "\n",
    "echo Done\n",
    "'''\n",
    "name_format = 'train__emory__{test_case}__{test_phase}__{rho_value}__{output_func}'"
   ]
  },
  {
   "cell_type": "code",
   "execution_count": 4,
   "id": "ad44989d",
   "metadata": {
    "scrolled": true
   },
   "outputs": [
    {
     "name": "stdout",
     "output_type": "stream",
     "text": [
      "train__emory__None__0__0__relu\n",
      "train__emory__None__0__0__exp\n",
      "train__emory__None__0__0__softplus\n",
      "train__emory__None__0__1000__relu\n",
      "train__emory__None__0__1000__exp\n",
      "train__emory__None__0__1000__softplus\n",
      "train__emory__None__0__anat__relu\n",
      "train__emory__None__0__anat__exp\n",
      "train__emory__None__0__anat__softplus\n",
      "9\n"
     ]
    }
   ],
   "source": [
    "param_space = ps.ParamSpace(\n",
    "    mask_roi='lung_regions2',\n",
    "    mesh_version=11,\n",
    "    test_case=[None], #['Case1Pack', 'Case2Pack', 'Case3Pack', 'Case4Pack', 'Case5Pack', 'Case6Pack', 'Case7Pack', 'Case8Deploy', 'Case9Pack'],\n",
    "    test_phase=[0], # 10, 20, 30, 40, 50, 60, 70, 80, 90],\n",
    "    rho_value=[0, 1000, 'anat'],\n",
    "    conv_channels=[32],\n",
    "    interp_size=[5],\n",
    "    output_func=['relu', 'exp', 'softplus'],\n",
    ")\n",
    "\n",
    "for p in param_space:\n",
    "    print(name_format.format(**p))\n",
    "\n",
    "print(len(param_space))"
   ]
  },
  {
   "cell_type": "markdown",
   "id": "0759389e",
   "metadata": {},
   "source": [
    "## Submit jobs\n",
    "\n",
    "[[Setup](#Setup-experiment)] [[Submit](#Submit-jobs)] [[Monitor](#Monitor-jobs)] [[Analyze](#Analyze-results)]"
   ]
  },
  {
   "cell_type": "code",
   "execution_count": null,
   "id": "9600c15f",
   "metadata": {},
   "outputs": [],
   "source": [
    "expt_name = [\n",
    "    '2024-11-22__phantom__250',\n",
    "    '2024-11-22__phantom__250__resub',\n",
    "    '2024-11-30__emory__phase',\n",
    "    '2024-12-02__emory__interp_size',\n",
    "    '2024-12-03__emory__gpu_shared',\n",
    "    '2024-12-07__emory__interface',\n",
    "    '2024-12-08__emory__lung_regions2',\n",
    "    '2024-12-08__emory__clamp'\n",
    "][-1]\n",
    "expt_name"
   ]
  },
  {
   "cell_type": "code",
   "execution_count": null,
   "id": "9a28d1cd",
   "metadata": {
    "scrolled": true
   },
   "outputs": [],
   "source": [
    "do_submit = True\n",
    "if do_submit:\n",
    "    jobs = ps.submit(template, name_format, param_space, work_dir=expt_name)\n",
    "    jobs.to_csv(f'{expt_name}.jobs')"
   ]
  },
  {
   "cell_type": "markdown",
   "id": "06b48edc",
   "metadata": {},
   "source": [
    "## Monitor jobs\n",
    "\n",
    "[[Setup](#Setup-experiment)] [[Submit](#Submit-jobs)] [[Monitor](#Monitor-jobs)] [[Analyze](#Analyze-results)]"
   ]
  },
  {
   "cell_type": "code",
   "execution_count": null,
   "id": "d5070f09",
   "metadata": {},
   "outputs": [],
   "source": [
    "jobs = pd.read_csv(f'{expt_name}.jobs', index_col=0)\n",
    "status = ps.status(jobs, parse_stderr=True)\n",
    "status"
   ]
  },
  {
   "cell_type": "code",
   "execution_count": null,
   "id": "6a65c071",
   "metadata": {},
   "outputs": [],
   "source": [
    "status['job_state'] = status['job_state'].fillna('DONE')\n",
    "status['stderr'] = status['stderr'].fillna('N/A')\n",
    "status.groupby(['job_state', 'stderr'])[['job_name']].count()"
   ]
  },
  {
   "cell_type": "code",
   "execution_count": null,
   "id": "aedcdbc5",
   "metadata": {},
   "outputs": [],
   "source": [
    "status.iloc[0]"
   ]
  },
  {
   "cell_type": "markdown",
   "id": "165d0311",
   "metadata": {},
   "source": [
    "## Analyze results\n",
    "\n",
    "[[Setup](#Setup-experiment)] [[Submit](#Submit-jobs)] [[Monitor](#Monitor-jobs)] [[Analyze](#Analyze-results)]"
   ]
  },
  {
   "cell_type": "code",
   "execution_count": null,
   "id": "8e06ac01",
   "metadata": {},
   "outputs": [],
   "source": [
    "m = ps.metrics(jobs, sep=',')\n",
    "m"
   ]
  },
  {
   "cell_type": "code",
   "execution_count": null,
   "id": "91e10915",
   "metadata": {},
   "outputs": [],
   "source": [
    "m.groupby(['job_name'])[['epoch']].max()"
   ]
  },
  {
   "cell_type": "code",
   "execution_count": null,
   "id": "23955bb3",
   "metadata": {},
   "outputs": [],
   "source": [
    "unfinished_jobs = d[d.epoch < 100]\n",
    "unfinished_jobs"
   ]
  },
  {
   "cell_type": "code",
   "execution_count": null,
   "id": "9b605652",
   "metadata": {},
   "outputs": [],
   "source": [
    "m.groupby(['job_name'])[['batch']].max()"
   ]
  },
  {
   "cell_type": "code",
   "execution_count": null,
   "id": "ca37f1e8",
   "metadata": {},
   "outputs": [],
   "source": [
    "m.columns"
   ]
  },
  {
   "cell_type": "code",
   "execution_count": null,
   "id": "ce71c06f",
   "metadata": {},
   "outputs": [],
   "source": [
    "%autoreload\n",
    "fig = ps.plot(\n",
    "    m[(m.phase == 'train') & (m.epoch > 190) & (m.conv_channels > 8)],\n",
    "    x=['dummy_targets', 'conv_channels', 'output_func'],\n",
    "    y=['u_error', 'e_error', 'e_anat_corr', 'CTE'],\n",
    "    hue=None,\n",
    "    legend=True,\n",
    "    legend_kws=dict(bbox_to_anchor=(0, -0.2)),\n",
    "    tight=True,\n",
    "    height=2.25, width=2.75\n",
    ")"
   ]
  },
  {
   "cell_type": "code",
   "execution_count": null,
   "id": "6cbf7117",
   "metadata": {
    "scrolled": false
   },
   "outputs": [],
   "source": [
    "%autoreload\n",
    "fig = ps.plot(\n",
    "    m[(m.phase == 'train') & (m.epoch > 190) & (m.conv_channels > 8)],\n",
    "    x=['dummy_targets', 'conv_channels', 'output_func'],\n",
    "    y=['u_error', 'e_error', 'e_anat_corr', 'CTE'],\n",
    "    hue=None,\n",
    "    legend=True,\n",
    "    legend_kws=dict(bbox_to_anchor=(0, -0.2)),\n",
    "    tight=True,\n",
    "    height=2.25, width=2.75\n",
    ")"
   ]
  },
  {
   "cell_type": "code",
   "execution_count": null,
   "id": "99223f6e",
   "metadata": {},
   "outputs": [],
   "source": [
    "%autoreload\n",
    "fig = ps.plot(\n",
    "    m[(m.phase == 'test') & (m.epoch > 190) & (m.conv_channels > 8)],\n",
    "    x=['dummy_targets', 'conv_channels', 'output_func'],\n",
    "    y=['u_error', 'e_error', 'e_anat_corr', 'CTE'],\n",
    "    hue=None,\n",
    "    legend=True,\n",
    "    legend_kws=dict(bbox_to_anchor=(0, -0.2)),\n",
    "    tight=True,\n",
    "    height=2.25, width=2.75\n",
    ")"
   ]
  },
  {
   "cell_type": "code",
   "execution_count": null,
   "id": "327edfce",
   "metadata": {},
   "outputs": [],
   "source": [
    "m[(m.phase == 'test') & (m.epoch > 190) & (m.conv_channels > 8)].groupby(['dummy_targets', 'conv_channels', 'output_func', 'phase'])[['u_error', 'e_error', 'e_anat_corr', 'CTE']].describe()"
   ]
  },
  {
   "cell_type": "code",
   "execution_count": null,
   "id": "79b09de5",
   "metadata": {},
   "outputs": [],
   "source": []
  }
 ],
 "metadata": {
  "kernelspec": {
   "display_name": "lung-project",
   "language": "python",
   "name": "lung-project"
  },
  "language_info": {
   "codemirror_mode": {
    "name": "ipython",
    "version": 3
   },
   "file_extension": ".py",
   "mimetype": "text/x-python",
   "name": "python",
   "nbconvert_exporter": "python",
   "pygments_lexer": "ipython3",
   "version": "3.10.15"
  }
 },
 "nbformat": 4,
 "nbformat_minor": 5
}
