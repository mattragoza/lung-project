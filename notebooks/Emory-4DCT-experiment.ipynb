{
 "cells": [
  {
   "cell_type": "code",
   "execution_count": 1,
   "id": "5640f439",
   "metadata": {},
   "outputs": [
    {
     "data": {
      "text/plain": [
       "'/ocean/projects/asc170022p/mtragoza/lung-project/notebooks'"
      ]
     },
     "execution_count": 1,
     "metadata": {},
     "output_type": "execute_result"
    }
   ],
   "source": [
    "%matplotlib notebook\n",
    "%load_ext autoreload\n",
    "%pwd"
   ]
  },
  {
   "cell_type": "code",
   "execution_count": 2,
   "id": "2e5ce3d6",
   "metadata": {},
   "outputs": [],
   "source": [
    "import sys\n",
    "import pandas as pd\n",
    "sys.path.append('../../param_search')\n",
    "import param_search as ps"
   ]
  },
  {
   "cell_type": "markdown",
   "id": "40d9c092",
   "metadata": {},
   "source": [
    "## Setup experiment\n",
    "\n",
    "[[Setup](#Setup-experiment)] [[Submit](#Submit-jobs)] [[Monitor](#Monitor-jobs)] [[Analyze](#Analyze-results)]"
   ]
  },
  {
   "cell_type": "code",
   "execution_count": 8,
   "id": "3d8a9061",
   "metadata": {},
   "outputs": [],
   "source": [
    "# define a job template and name format\n",
    "template = '''\\\n",
    "#!/bin/bash\n",
    "#SBATCH --job-name={job_name}\n",
    "#SBATCH --account=bio170034p\n",
    "#SBATCH --partition=BatComputer\n",
    "#SBATCH --gres=gpu:rtx6000:1\n",
    "#SBATCH --mem=64000M\n",
    "#SBATCH -x v034\n",
    "#SBATCH --time=48:00:00\n",
    "#SBATCH -o %J.stdout\n",
    "#SBATCH -e %J.stderr\n",
    "#SBATCH --mail-type=all\n",
    "\n",
    "hostname\n",
    "pwd\n",
    "module load anaconda3\n",
    "conda activate /ocean/projects/asc170022p/mtragoza/mambaforge/envs/lung-project\n",
    "nvidia-smi\n",
    "\n",
    "python ../../../train.py \\\\\n",
    "    --data_name emory \\\\\n",
    "    --data_root /ocean/projects/asc170022p/shared/Data/4DLungCT/Emory/ \\\\\n",
    "    --mesh_version {mesh_version} \\\\\n",
    "    --test_case {test_case} \\\\\n",
    "    --test_phase {test_phase} \\\\\n",
    "    --rho_value {rho_value} \\\\\n",
    "    --conv_channels {conv_channels} \\\\\n",
    "    --output_func {output_func} \\\\\n",
    "    --interp_size {interp_size} \\\\\n",
    "    --save_prefix {job_name} \n",
    "\n",
    "echo Done\n",
    "'''\n",
    "name_format = 'train__emory__{test_case}__{test_phase}__{rho_value}__{output_func}'"
   ]
  },
  {
   "cell_type": "code",
   "execution_count": 9,
   "id": "ad44989d",
   "metadata": {
    "scrolled": true
   },
   "outputs": [
    {
     "name": "stdout",
     "output_type": "stream",
     "text": [
      "train__emory__None__0__0__relu\n",
      "train__emory__None__0__0__softplus\n",
      "train__emory__None__0__0__exp\n",
      "train__emory__None__0__1000__relu\n",
      "train__emory__None__0__1000__softplus\n",
      "train__emory__None__0__1000__exp\n",
      "train__emory__None__0__anat__relu\n",
      "train__emory__None__0__anat__softplus\n",
      "train__emory__None__0__anat__exp\n",
      "9\n"
     ]
    }
   ],
   "source": [
    "param_space = ps.ParamSpace(\n",
    "    mesh_version=11,\n",
    "    test_case=[None], #['Case1Pack', 'Case2Pack', 'Case3Pack', 'Case4Pack', 'Case5Pack', 'Case6Pack', 'Case7Pack', 'Case8Deploy', 'Case9Pack'],\n",
    "    test_phase=[0],# 10, 20, 30, 40, 50, 60, 70, 80, 90],\n",
    "    rho_value=[0, 1000, 'anat'],\n",
    "    conv_channels=[32],\n",
    "    interp_size=[5],\n",
    "    output_func=['relu', 'softplus', 'exp'],\n",
    ")\n",
    "\n",
    "for p in param_space:\n",
    "    print(name_format.format(**p))\n",
    "\n",
    "print(len(param_space))"
   ]
  },
  {
   "cell_type": "markdown",
   "id": "0759389e",
   "metadata": {},
   "source": [
    "## Submit jobs\n",
    "\n",
    "[[Setup](#Setup-experiment)] [[Submit](#Submit-jobs)] [[Monitor](#Monitor-jobs)] [[Analyze](#Analyze-results)]"
   ]
  },
  {
   "cell_type": "code",
   "execution_count": 10,
   "id": "9600c15f",
   "metadata": {},
   "outputs": [
    {
     "data": {
      "text/plain": [
       "'2024-12-07__emory__interface'"
      ]
     },
     "execution_count": 10,
     "metadata": {},
     "output_type": "execute_result"
    }
   ],
   "source": [
    "expt_name = [\n",
    "    '2024-11-22__phantom__250',\n",
    "    '2024-11-22__phantom__250__resub',\n",
    "    '2024-11-30__emory__phase',\n",
    "    '2024-12-02__emory__interp_size',\n",
    "    '2024-12-03__emory__gpu_shared',\n",
    "    '2024-12-07__emory__interface'\n",
    "][-1]\n",
    "expt_name"
   ]
  },
  {
   "cell_type": "code",
   "execution_count": 32,
   "id": "9a28d1cd",
   "metadata": {
    "scrolled": true
   },
   "outputs": [
    {
     "name": "stdout",
     "output_type": "stream",
     "text": [
      "100%|██████████| 9/9 [00:00<00:00, 105.67it/s]\n"
     ]
    },
    {
     "name": "stderr",
     "output_type": "stream",
     "text": [
      "/ocean/projects/asc170022p/mtragoza/lung-project/notebooks/../../param_search/param_search/job_queues.py:235: FutureWarning: Downcasting behavior in `replace` is deprecated and will be removed in a future version. To retain the old behavior, explicitly call `result.infer_objects(copy=False)`. To opt-in to the future behavior, set `pd.set_option('future.no_silent_downcasting', True)`\n",
      "  .replace('', float('nan')).map(pd.to_numeric)\n"
     ]
    }
   ],
   "source": [
    "do_submit = True\n",
    "if do_submit:\n",
    "    jobs = ps.submit(template, name_format, param_space, work_dir=expt_name)\n",
    "    jobs.to_csv(f'{expt_name}.jobs')"
   ]
  },
  {
   "cell_type": "markdown",
   "id": "06b48edc",
   "metadata": {},
   "source": [
    "## Monitor jobs\n",
    "\n",
    "[[Setup](#Setup-experiment)] [[Submit](#Submit-jobs)] [[Monitor](#Monitor-jobs)] [[Analyze](#Analyze-results)]"
   ]
  },
  {
   "cell_type": "code",
   "execution_count": 34,
   "id": "d5070f09",
   "metadata": {},
   "outputs": [
    {
     "name": "stderr",
     "output_type": "stream",
     "text": [
      "/ocean/projects/asc170022p/mtragoza/lung-project/notebooks/../../param_search/param_search/job_queues.py:235: FutureWarning: Downcasting behavior in `replace` is deprecated and will be removed in a future version. To retain the old behavior, explicitly call `result.infer_objects(copy=False)`. To opt-in to the future behavior, set `pd.set_option('future.no_silent_downcasting', True)`\n",
      "  .replace('', float('nan')).map(pd.to_numeric)\n",
      "/ocean/projects/asc170022p/mtragoza/lung-project/notebooks/../../param_search/param_search/__init__.py:80: FutureWarning: Setting an item of incompatible dtype is deprecated and will raise in a future error of pandas. Value '[nan 'RUNNING' 'PENDING' 'PENDING' 'PENDING' 'PENDING' 'PENDING' 'PENDING'\n",
      " 'PENDING']' has dtype incompatible with float64, please explicitly cast to a compatible dtype first.\n",
      "  status.update(new_status)\n",
      "/ocean/projects/asc170022p/mtragoza/lung-project/notebooks/../../param_search/param_search/__init__.py:80: FutureWarning: Setting an item of incompatible dtype is deprecated and will raise in a future error of pandas. Value '[nan 'dv004' '(Resources)' '(Priority)' '(Priority)' '(Priority)'\n",
      " '(Priority)' '(Priority)' '(Priority)']' has dtype incompatible with float64, please explicitly cast to a compatible dtype first.\n",
      "  status.update(new_status)\n",
      "/ocean/projects/asc170022p/mtragoza/lung-project/notebooks/../../param_search/param_search/__init__.py:80: FutureWarning: Setting an item of incompatible dtype is deprecated and will raise in a future error of pandas. Value '[nan '7:31' '0:00' '0:00' '0:00' '0:00' '0:00' '0:00' '0:00']' has dtype incompatible with float64, please explicitly cast to a compatible dtype first.\n",
      "  status.update(new_status)\n"
     ]
    },
    {
     "data": {
      "text/html": [
       "<div>\n",
       "<style scoped>\n",
       "    .dataframe tbody tr th:only-of-type {\n",
       "        vertical-align: middle;\n",
       "    }\n",
       "\n",
       "    .dataframe tbody tr th {\n",
       "        vertical-align: top;\n",
       "    }\n",
       "\n",
       "    .dataframe thead th {\n",
       "        text-align: right;\n",
       "    }\n",
       "</style>\n",
       "<table border=\"1\" class=\"dataframe\">\n",
       "  <thead>\n",
       "    <tr style=\"text-align: right;\">\n",
       "      <th></th>\n",
       "      <th>index</th>\n",
       "      <th>test_case</th>\n",
       "      <th>test_phase</th>\n",
       "      <th>rho_value</th>\n",
       "      <th>conv_channels</th>\n",
       "      <th>interp_size</th>\n",
       "      <th>output_func</th>\n",
       "      <th>job_name</th>\n",
       "      <th>partition</th>\n",
       "      <th>job_state</th>\n",
       "      <th>node_id</th>\n",
       "      <th>runtime</th>\n",
       "      <th>work_dir</th>\n",
       "      <th>array_idx</th>\n",
       "      <th>stdout</th>\n",
       "      <th>stderr</th>\n",
       "    </tr>\n",
       "    <tr>\n",
       "      <th>job_id</th>\n",
       "      <th></th>\n",
       "      <th></th>\n",
       "      <th></th>\n",
       "      <th></th>\n",
       "      <th></th>\n",
       "      <th></th>\n",
       "      <th></th>\n",
       "      <th></th>\n",
       "      <th></th>\n",
       "      <th></th>\n",
       "      <th></th>\n",
       "      <th></th>\n",
       "      <th></th>\n",
       "      <th></th>\n",
       "      <th></th>\n",
       "      <th></th>\n",
       "    </tr>\n",
       "  </thead>\n",
       "  <tbody>\n",
       "    <tr>\n",
       "      <th>27477882</th>\n",
       "      <td>0</td>\n",
       "      <td>NaN</td>\n",
       "      <td>0</td>\n",
       "      <td>0</td>\n",
       "      <td>32</td>\n",
       "      <td>5</td>\n",
       "      <td>relu</td>\n",
       "      <td>train__emory__None__0__0__relu</td>\n",
       "      <td>BatComputer</td>\n",
       "      <td>NaN</td>\n",
       "      <td>NaN</td>\n",
       "      <td>NaN</td>\n",
       "      <td>/ocean/projects/asc170022p/mtragoza/lung-proje...</td>\n",
       "      <td>NaN</td>\n",
       "      <td>dv004.ib.bridges2.psc.edu\\n/ocean/projects/asc...</td>\n",
       "      <td>AssertionError: u_pred_dofs contains nan (case...</td>\n",
       "    </tr>\n",
       "    <tr>\n",
       "      <th>27477883</th>\n",
       "      <td>1</td>\n",
       "      <td>NaN</td>\n",
       "      <td>0</td>\n",
       "      <td>0</td>\n",
       "      <td>32</td>\n",
       "      <td>5</td>\n",
       "      <td>softplus</td>\n",
       "      <td>train__emory__None__0__0__softplus</td>\n",
       "      <td>BatComputer</td>\n",
       "      <td>RUNNING</td>\n",
       "      <td>dv004</td>\n",
       "      <td>7:31</td>\n",
       "      <td>/ocean/projects/asc170022p/mtragoza/lung-proje...</td>\n",
       "      <td>NaN</td>\n",
       "      <td>dv004.ib.bridges2.psc.edu\\n/ocean/projects/asc...</td>\n",
       "      <td></td>\n",
       "    </tr>\n",
       "    <tr>\n",
       "      <th>27477884</th>\n",
       "      <td>2</td>\n",
       "      <td>NaN</td>\n",
       "      <td>0</td>\n",
       "      <td>0</td>\n",
       "      <td>32</td>\n",
       "      <td>5</td>\n",
       "      <td>exp</td>\n",
       "      <td>train__emory__None__0__0__exp</td>\n",
       "      <td>BatComputer</td>\n",
       "      <td>PENDING</td>\n",
       "      <td>(Resources)</td>\n",
       "      <td>0:00</td>\n",
       "      <td>/ocean/projects/asc170022p/mtragoza/lung-proje...</td>\n",
       "      <td>NaN</td>\n",
       "      <td>NaN</td>\n",
       "      <td>NaN</td>\n",
       "    </tr>\n",
       "    <tr>\n",
       "      <th>27477885</th>\n",
       "      <td>3</td>\n",
       "      <td>NaN</td>\n",
       "      <td>0</td>\n",
       "      <td>1000</td>\n",
       "      <td>32</td>\n",
       "      <td>5</td>\n",
       "      <td>relu</td>\n",
       "      <td>train__emory__None__0__1000__relu</td>\n",
       "      <td>BatComputer</td>\n",
       "      <td>PENDING</td>\n",
       "      <td>(Priority)</td>\n",
       "      <td>0:00</td>\n",
       "      <td>/ocean/projects/asc170022p/mtragoza/lung-proje...</td>\n",
       "      <td>NaN</td>\n",
       "      <td>NaN</td>\n",
       "      <td>NaN</td>\n",
       "    </tr>\n",
       "    <tr>\n",
       "      <th>27477886</th>\n",
       "      <td>4</td>\n",
       "      <td>NaN</td>\n",
       "      <td>0</td>\n",
       "      <td>1000</td>\n",
       "      <td>32</td>\n",
       "      <td>5</td>\n",
       "      <td>softplus</td>\n",
       "      <td>train__emory__None__0__1000__softplus</td>\n",
       "      <td>BatComputer</td>\n",
       "      <td>PENDING</td>\n",
       "      <td>(Priority)</td>\n",
       "      <td>0:00</td>\n",
       "      <td>/ocean/projects/asc170022p/mtragoza/lung-proje...</td>\n",
       "      <td>NaN</td>\n",
       "      <td>NaN</td>\n",
       "      <td>NaN</td>\n",
       "    </tr>\n",
       "    <tr>\n",
       "      <th>27477887</th>\n",
       "      <td>5</td>\n",
       "      <td>NaN</td>\n",
       "      <td>0</td>\n",
       "      <td>1000</td>\n",
       "      <td>32</td>\n",
       "      <td>5</td>\n",
       "      <td>exp</td>\n",
       "      <td>train__emory__None__0__1000__exp</td>\n",
       "      <td>BatComputer</td>\n",
       "      <td>PENDING</td>\n",
       "      <td>(Priority)</td>\n",
       "      <td>0:00</td>\n",
       "      <td>/ocean/projects/asc170022p/mtragoza/lung-proje...</td>\n",
       "      <td>NaN</td>\n",
       "      <td>NaN</td>\n",
       "      <td>NaN</td>\n",
       "    </tr>\n",
       "    <tr>\n",
       "      <th>27477888</th>\n",
       "      <td>6</td>\n",
       "      <td>NaN</td>\n",
       "      <td>0</td>\n",
       "      <td>anat</td>\n",
       "      <td>32</td>\n",
       "      <td>5</td>\n",
       "      <td>relu</td>\n",
       "      <td>train__emory__None__0__anat__relu</td>\n",
       "      <td>BatComputer</td>\n",
       "      <td>PENDING</td>\n",
       "      <td>(Priority)</td>\n",
       "      <td>0:00</td>\n",
       "      <td>/ocean/projects/asc170022p/mtragoza/lung-proje...</td>\n",
       "      <td>NaN</td>\n",
       "      <td>NaN</td>\n",
       "      <td>NaN</td>\n",
       "    </tr>\n",
       "    <tr>\n",
       "      <th>27477889</th>\n",
       "      <td>7</td>\n",
       "      <td>NaN</td>\n",
       "      <td>0</td>\n",
       "      <td>anat</td>\n",
       "      <td>32</td>\n",
       "      <td>5</td>\n",
       "      <td>softplus</td>\n",
       "      <td>train__emory__None__0__anat__softplus</td>\n",
       "      <td>BatComputer</td>\n",
       "      <td>PENDING</td>\n",
       "      <td>(Priority)</td>\n",
       "      <td>0:00</td>\n",
       "      <td>/ocean/projects/asc170022p/mtragoza/lung-proje...</td>\n",
       "      <td>NaN</td>\n",
       "      <td>NaN</td>\n",
       "      <td>NaN</td>\n",
       "    </tr>\n",
       "    <tr>\n",
       "      <th>27477890</th>\n",
       "      <td>8</td>\n",
       "      <td>NaN</td>\n",
       "      <td>0</td>\n",
       "      <td>anat</td>\n",
       "      <td>32</td>\n",
       "      <td>5</td>\n",
       "      <td>exp</td>\n",
       "      <td>train__emory__None__0__anat__exp</td>\n",
       "      <td>BatComputer</td>\n",
       "      <td>PENDING</td>\n",
       "      <td>(Priority)</td>\n",
       "      <td>0:00</td>\n",
       "      <td>/ocean/projects/asc170022p/mtragoza/lung-proje...</td>\n",
       "      <td>NaN</td>\n",
       "      <td>NaN</td>\n",
       "      <td>NaN</td>\n",
       "    </tr>\n",
       "  </tbody>\n",
       "</table>\n",
       "</div>"
      ],
      "text/plain": [
       "          index  test_case  test_phase rho_value  conv_channels  interp_size  \\\n",
       "job_id                                                                         \n",
       "27477882      0        NaN           0         0             32            5   \n",
       "27477883      1        NaN           0         0             32            5   \n",
       "27477884      2        NaN           0         0             32            5   \n",
       "27477885      3        NaN           0      1000             32            5   \n",
       "27477886      4        NaN           0      1000             32            5   \n",
       "27477887      5        NaN           0      1000             32            5   \n",
       "27477888      6        NaN           0      anat             32            5   \n",
       "27477889      7        NaN           0      anat             32            5   \n",
       "27477890      8        NaN           0      anat             32            5   \n",
       "\n",
       "         output_func                               job_name    partition  \\\n",
       "job_id                                                                     \n",
       "27477882        relu         train__emory__None__0__0__relu  BatComputer   \n",
       "27477883    softplus     train__emory__None__0__0__softplus  BatComputer   \n",
       "27477884         exp          train__emory__None__0__0__exp  BatComputer   \n",
       "27477885        relu      train__emory__None__0__1000__relu  BatComputer   \n",
       "27477886    softplus  train__emory__None__0__1000__softplus  BatComputer   \n",
       "27477887         exp       train__emory__None__0__1000__exp  BatComputer   \n",
       "27477888        relu      train__emory__None__0__anat__relu  BatComputer   \n",
       "27477889    softplus  train__emory__None__0__anat__softplus  BatComputer   \n",
       "27477890         exp       train__emory__None__0__anat__exp  BatComputer   \n",
       "\n",
       "         job_state      node_id runtime  \\\n",
       "job_id                                    \n",
       "27477882       NaN          NaN     NaN   \n",
       "27477883   RUNNING        dv004    7:31   \n",
       "27477884   PENDING  (Resources)    0:00   \n",
       "27477885   PENDING   (Priority)    0:00   \n",
       "27477886   PENDING   (Priority)    0:00   \n",
       "27477887   PENDING   (Priority)    0:00   \n",
       "27477888   PENDING   (Priority)    0:00   \n",
       "27477889   PENDING   (Priority)    0:00   \n",
       "27477890   PENDING   (Priority)    0:00   \n",
       "\n",
       "                                                   work_dir  array_idx  \\\n",
       "job_id                                                                   \n",
       "27477882  /ocean/projects/asc170022p/mtragoza/lung-proje...        NaN   \n",
       "27477883  /ocean/projects/asc170022p/mtragoza/lung-proje...        NaN   \n",
       "27477884  /ocean/projects/asc170022p/mtragoza/lung-proje...        NaN   \n",
       "27477885  /ocean/projects/asc170022p/mtragoza/lung-proje...        NaN   \n",
       "27477886  /ocean/projects/asc170022p/mtragoza/lung-proje...        NaN   \n",
       "27477887  /ocean/projects/asc170022p/mtragoza/lung-proje...        NaN   \n",
       "27477888  /ocean/projects/asc170022p/mtragoza/lung-proje...        NaN   \n",
       "27477889  /ocean/projects/asc170022p/mtragoza/lung-proje...        NaN   \n",
       "27477890  /ocean/projects/asc170022p/mtragoza/lung-proje...        NaN   \n",
       "\n",
       "                                                     stdout  \\\n",
       "job_id                                                        \n",
       "27477882  dv004.ib.bridges2.psc.edu\\n/ocean/projects/asc...   \n",
       "27477883  dv004.ib.bridges2.psc.edu\\n/ocean/projects/asc...   \n",
       "27477884                                                NaN   \n",
       "27477885                                                NaN   \n",
       "27477886                                                NaN   \n",
       "27477887                                                NaN   \n",
       "27477888                                                NaN   \n",
       "27477889                                                NaN   \n",
       "27477890                                                NaN   \n",
       "\n",
       "                                                     stderr  \n",
       "job_id                                                       \n",
       "27477882  AssertionError: u_pred_dofs contains nan (case...  \n",
       "27477883                                                     \n",
       "27477884                                                NaN  \n",
       "27477885                                                NaN  \n",
       "27477886                                                NaN  \n",
       "27477887                                                NaN  \n",
       "27477888                                                NaN  \n",
       "27477889                                                NaN  \n",
       "27477890                                                NaN  "
      ]
     },
     "execution_count": 34,
     "metadata": {},
     "output_type": "execute_result"
    }
   ],
   "source": [
    "jobs = pd.read_csv(f'{expt_name}.jobs', index_col=0)\n",
    "status = ps.status(jobs, parse_stderr=True)\n",
    "status"
   ]
  },
  {
   "cell_type": "code",
   "execution_count": 35,
   "id": "6a65c071",
   "metadata": {},
   "outputs": [
    {
     "data": {
      "text/html": [
       "<div>\n",
       "<style scoped>\n",
       "    .dataframe tbody tr th:only-of-type {\n",
       "        vertical-align: middle;\n",
       "    }\n",
       "\n",
       "    .dataframe tbody tr th {\n",
       "        vertical-align: top;\n",
       "    }\n",
       "\n",
       "    .dataframe thead th {\n",
       "        text-align: right;\n",
       "    }\n",
       "</style>\n",
       "<table border=\"1\" class=\"dataframe\">\n",
       "  <thead>\n",
       "    <tr style=\"text-align: right;\">\n",
       "      <th></th>\n",
       "      <th></th>\n",
       "      <th>job_name</th>\n",
       "    </tr>\n",
       "    <tr>\n",
       "      <th>job_state</th>\n",
       "      <th>stderr</th>\n",
       "      <th></th>\n",
       "    </tr>\n",
       "  </thead>\n",
       "  <tbody>\n",
       "    <tr>\n",
       "      <th>DONE</th>\n",
       "      <th>AssertionError: u_pred_dofs contains nan (case7_T00.nii)</th>\n",
       "      <td>1</td>\n",
       "    </tr>\n",
       "    <tr>\n",
       "      <th>PENDING</th>\n",
       "      <th>N/A</th>\n",
       "      <td>7</td>\n",
       "    </tr>\n",
       "    <tr>\n",
       "      <th>RUNNING</th>\n",
       "      <th></th>\n",
       "      <td>1</td>\n",
       "    </tr>\n",
       "  </tbody>\n",
       "</table>\n",
       "</div>"
      ],
      "text/plain": [
       "                                                              job_name\n",
       "job_state stderr                                                      \n",
       "DONE      AssertionError: u_pred_dofs contains nan (case7...         1\n",
       "PENDING   N/A                                                        7\n",
       "RUNNING                                                              1"
      ]
     },
     "execution_count": 35,
     "metadata": {},
     "output_type": "execute_result"
    }
   ],
   "source": [
    "status['job_state'] = status['job_state'].fillna('DONE')\n",
    "status['stderr'] = status['stderr'].fillna('N/A')\n",
    "status.groupby(['job_state', 'stderr'])[['job_name']].count()"
   ]
  },
  {
   "cell_type": "code",
   "execution_count": 37,
   "id": "aedcdbc5",
   "metadata": {},
   "outputs": [
    {
     "data": {
      "text/plain": [
       "index                                                            0\n",
       "test_case                                                      NaN\n",
       "test_phase                                                       0\n",
       "rho_value                                                        0\n",
       "conv_channels                                                   32\n",
       "interp_size                                                      5\n",
       "output_func                                                   relu\n",
       "job_name                            train__emory__None__0__0__relu\n",
       "partition                                              BatComputer\n",
       "job_state                                                     DONE\n",
       "node_id                                                        NaN\n",
       "runtime                                                        NaN\n",
       "work_dir         /ocean/projects/asc170022p/mtragoza/lung-proje...\n",
       "array_idx                                                      NaN\n",
       "stdout           dv004.ib.bridges2.psc.edu\\n/ocean/projects/asc...\n",
       "stderr           AssertionError: u_pred_dofs contains nan (case...\n",
       "Name: 27477882, dtype: object"
      ]
     },
     "execution_count": 37,
     "metadata": {},
     "output_type": "execute_result"
    }
   ],
   "source": [
    "status.iloc[0]"
   ]
  },
  {
   "cell_type": "markdown",
   "id": "165d0311",
   "metadata": {},
   "source": [
    "## Analyze results\n",
    "\n",
    "[[Setup](#Setup-experiment)] [[Submit](#Submit-jobs)] [[Monitor](#Monitor-jobs)] [[Analyze](#Analyze-results)]"
   ]
  },
  {
   "cell_type": "code",
   "execution_count": null,
   "id": "8e06ac01",
   "metadata": {},
   "outputs": [],
   "source": [
    "m = ps.metrics(jobs, sep=',')\n",
    "m"
   ]
  },
  {
   "cell_type": "code",
   "execution_count": null,
   "id": "91e10915",
   "metadata": {},
   "outputs": [],
   "source": [
    "m.groupby(['job_name'])[['epoch']].max()"
   ]
  },
  {
   "cell_type": "code",
   "execution_count": null,
   "id": "23955bb3",
   "metadata": {},
   "outputs": [],
   "source": [
    "unfinished_jobs = d[d.epoch < 100]\n",
    "unfinished_jobs"
   ]
  },
  {
   "cell_type": "code",
   "execution_count": null,
   "id": "9b605652",
   "metadata": {},
   "outputs": [],
   "source": [
    "m.groupby(['job_name'])[['batch']].max()"
   ]
  },
  {
   "cell_type": "code",
   "execution_count": null,
   "id": "ca37f1e8",
   "metadata": {},
   "outputs": [],
   "source": [
    "m.columns"
   ]
  },
  {
   "cell_type": "code",
   "execution_count": null,
   "id": "ce71c06f",
   "metadata": {},
   "outputs": [],
   "source": [
    "%autoreload\n",
    "fig = ps.plot(\n",
    "    m[(m.phase == 'train') & (m.epoch > 190) & (m.conv_channels > 8)],\n",
    "    x=['dummy_targets', 'conv_channels', 'output_func'],\n",
    "    y=['u_error', 'e_error', 'e_anat_corr', 'CTE'],\n",
    "    hue=None,\n",
    "    legend=True,\n",
    "    legend_kws=dict(bbox_to_anchor=(0, -0.2)),\n",
    "    tight=True,\n",
    "    height=2.25, width=2.75\n",
    ")"
   ]
  },
  {
   "cell_type": "code",
   "execution_count": null,
   "id": "6cbf7117",
   "metadata": {
    "scrolled": false
   },
   "outputs": [],
   "source": [
    "%autoreload\n",
    "fig = ps.plot(\n",
    "    m[(m.phase == 'train') & (m.epoch > 190) & (m.conv_channels > 8)],\n",
    "    x=['dummy_targets', 'conv_channels', 'output_func'],\n",
    "    y=['u_error', 'e_error', 'e_anat_corr', 'CTE'],\n",
    "    hue=None,\n",
    "    legend=True,\n",
    "    legend_kws=dict(bbox_to_anchor=(0, -0.2)),\n",
    "    tight=True,\n",
    "    height=2.25, width=2.75\n",
    ")"
   ]
  },
  {
   "cell_type": "code",
   "execution_count": null,
   "id": "99223f6e",
   "metadata": {},
   "outputs": [],
   "source": [
    "%autoreload\n",
    "fig = ps.plot(\n",
    "    m[(m.phase == 'test') & (m.epoch > 190) & (m.conv_channels > 8)],\n",
    "    x=['dummy_targets', 'conv_channels', 'output_func'],\n",
    "    y=['u_error', 'e_error', 'e_anat_corr', 'CTE'],\n",
    "    hue=None,\n",
    "    legend=True,\n",
    "    legend_kws=dict(bbox_to_anchor=(0, -0.2)),\n",
    "    tight=True,\n",
    "    height=2.25, width=2.75\n",
    ")"
   ]
  },
  {
   "cell_type": "code",
   "execution_count": null,
   "id": "327edfce",
   "metadata": {},
   "outputs": [],
   "source": [
    "m[(m.phase == 'test') & (m.epoch > 190) & (m.conv_channels > 8)].groupby(['dummy_targets', 'conv_channels', 'output_func', 'phase'])[['u_error', 'e_error', 'e_anat_corr', 'CTE']].describe()"
   ]
  },
  {
   "cell_type": "code",
   "execution_count": null,
   "id": "79b09de5",
   "metadata": {},
   "outputs": [],
   "source": []
  }
 ],
 "metadata": {
  "kernelspec": {
   "display_name": "lung-project",
   "language": "python",
   "name": "lung-project"
  },
  "language_info": {
   "codemirror_mode": {
    "name": "ipython",
    "version": 3
   },
   "file_extension": ".py",
   "mimetype": "text/x-python",
   "name": "python",
   "nbconvert_exporter": "python",
   "pygments_lexer": "ipython3",
   "version": "3.10.15"
  }
 },
 "nbformat": 4,
 "nbformat_minor": 5
}
