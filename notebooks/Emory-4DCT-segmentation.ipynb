{
 "cells": [
  {
   "cell_type": "code",
   "execution_count": 1,
   "id": "5640f439",
   "metadata": {},
   "outputs": [
    {
     "data": {
      "text/plain": [
       "'/ocean/projects/asc170022p/mtragoza/lung-project/notebooks'"
      ]
     },
     "execution_count": 1,
     "metadata": {},
     "output_type": "execute_result"
    }
   ],
   "source": [
    "%matplotlib notebook\n",
    "%load_ext autoreload\n",
    "%pwd"
   ]
  },
  {
   "cell_type": "code",
   "execution_count": 2,
   "id": "4f0066b0",
   "metadata": {},
   "outputs": [
    {
     "name": "stderr",
     "output_type": "stream",
     "text": [
      "--------------------------------------------------------------------------\n",
      "WARNING: There is at least one non-excluded one OpenFabrics device found,\n",
      "but there are no active ports detected (or Open MPI was unable to use\n",
      "them).  This is most certainly not what you wanted.  Check your\n",
      "cables, subnet manager configuration, etc.  The openib BTL will be\n",
      "ignored for this job.\n",
      "\n",
      "  Local host: dv004\n",
      "--------------------------------------------------------------------------\n"
     ]
    },
    {
     "data": {
      "application/javascript": [
       "(function(root) {\n",
       "  function now() {\n",
       "    return new Date();\n",
       "  }\n",
       "\n",
       "  var force = true;\n",
       "  var py_version = '3.4.1'.replace('rc', '-rc.').replace('.dev', '-dev.');\n",
       "  var reloading = false;\n",
       "  var Bokeh = root.Bokeh;\n",
       "\n",
       "  if (typeof (root._bokeh_timeout) === \"undefined\" || force) {\n",
       "    root._bokeh_timeout = Date.now() + 5000;\n",
       "    root._bokeh_failed_load = false;\n",
       "  }\n",
       "\n",
       "  function run_callbacks() {\n",
       "    try {\n",
       "      root._bokeh_onload_callbacks.forEach(function(callback) {\n",
       "        if (callback != null)\n",
       "          callback();\n",
       "      });\n",
       "    } finally {\n",
       "      delete root._bokeh_onload_callbacks;\n",
       "    }\n",
       "    console.debug(\"Bokeh: all callbacks have finished\");\n",
       "  }\n",
       "\n",
       "  function load_libs(css_urls, js_urls, js_modules, js_exports, callback) {\n",
       "    if (css_urls == null) css_urls = [];\n",
       "    if (js_urls == null) js_urls = [];\n",
       "    if (js_modules == null) js_modules = [];\n",
       "    if (js_exports == null) js_exports = {};\n",
       "\n",
       "    root._bokeh_onload_callbacks.push(callback);\n",
       "\n",
       "    if (root._bokeh_is_loading > 0) {\n",
       "      console.debug(\"Bokeh: BokehJS is being loaded, scheduling callback at\", now());\n",
       "      return null;\n",
       "    }\n",
       "    if (js_urls.length === 0 && js_modules.length === 0 && Object.keys(js_exports).length === 0) {\n",
       "      run_callbacks();\n",
       "      return null;\n",
       "    }\n",
       "    if (!reloading) {\n",
       "      console.debug(\"Bokeh: BokehJS not loaded, scheduling load and callback at\", now());\n",
       "    }\n",
       "\n",
       "    function on_load() {\n",
       "      root._bokeh_is_loading--;\n",
       "      if (root._bokeh_is_loading === 0) {\n",
       "        console.debug(\"Bokeh: all BokehJS libraries/stylesheets loaded\");\n",
       "        run_callbacks()\n",
       "      }\n",
       "    }\n",
       "    window._bokeh_on_load = on_load\n",
       "\n",
       "    function on_error() {\n",
       "      console.error(\"failed to load \" + url);\n",
       "    }\n",
       "\n",
       "    var skip = [];\n",
       "    if (window.requirejs) {\n",
       "      window.requirejs.config({'packages': {}, 'paths': {}, 'shim': {}});\n",
       "      root._bokeh_is_loading = css_urls.length + 0;\n",
       "    } else {\n",
       "      root._bokeh_is_loading = css_urls.length + js_urls.length + js_modules.length + Object.keys(js_exports).length;\n",
       "    }\n",
       "\n",
       "    var existing_stylesheets = []\n",
       "    var links = document.getElementsByTagName('link')\n",
       "    for (var i = 0; i < links.length; i++) {\n",
       "      var link = links[i]\n",
       "      if (link.href != null) {\n",
       "\texisting_stylesheets.push(link.href)\n",
       "      }\n",
       "    }\n",
       "    for (var i = 0; i < css_urls.length; i++) {\n",
       "      var url = css_urls[i];\n",
       "      if (existing_stylesheets.indexOf(url) !== -1) {\n",
       "\ton_load()\n",
       "\tcontinue;\n",
       "      }\n",
       "      const element = document.createElement(\"link\");\n",
       "      element.onload = on_load;\n",
       "      element.onerror = on_error;\n",
       "      element.rel = \"stylesheet\";\n",
       "      element.type = \"text/css\";\n",
       "      element.href = url;\n",
       "      console.debug(\"Bokeh: injecting link tag for BokehJS stylesheet: \", url);\n",
       "      document.body.appendChild(element);\n",
       "    }    var existing_scripts = []\n",
       "    var scripts = document.getElementsByTagName('script')\n",
       "    for (var i = 0; i < scripts.length; i++) {\n",
       "      var script = scripts[i]\n",
       "      if (script.src != null) {\n",
       "\texisting_scripts.push(script.src)\n",
       "      }\n",
       "    }\n",
       "    for (var i = 0; i < js_urls.length; i++) {\n",
       "      var url = js_urls[i];\n",
       "      if (skip.indexOf(url) !== -1 || existing_scripts.indexOf(url) !== -1) {\n",
       "\tif (!window.requirejs) {\n",
       "\t  on_load();\n",
       "\t}\n",
       "\tcontinue;\n",
       "      }\n",
       "      var element = document.createElement('script');\n",
       "      element.onload = on_load;\n",
       "      element.onerror = on_error;\n",
       "      element.async = false;\n",
       "      element.src = url;\n",
       "      console.debug(\"Bokeh: injecting script tag for BokehJS library: \", url);\n",
       "      document.head.appendChild(element);\n",
       "    }\n",
       "    for (var i = 0; i < js_modules.length; i++) {\n",
       "      var url = js_modules[i];\n",
       "      if (skip.indexOf(url) !== -1 || existing_scripts.indexOf(url) !== -1) {\n",
       "\tif (!window.requirejs) {\n",
       "\t  on_load();\n",
       "\t}\n",
       "\tcontinue;\n",
       "      }\n",
       "      var element = document.createElement('script');\n",
       "      element.onload = on_load;\n",
       "      element.onerror = on_error;\n",
       "      element.async = false;\n",
       "      element.src = url;\n",
       "      element.type = \"module\";\n",
       "      console.debug(\"Bokeh: injecting script tag for BokehJS library: \", url);\n",
       "      document.head.appendChild(element);\n",
       "    }\n",
       "    for (const name in js_exports) {\n",
       "      var url = js_exports[name];\n",
       "      if (skip.indexOf(url) >= 0 || root[name] != null) {\n",
       "\tif (!window.requirejs) {\n",
       "\t  on_load();\n",
       "\t}\n",
       "\tcontinue;\n",
       "      }\n",
       "      var element = document.createElement('script');\n",
       "      element.onerror = on_error;\n",
       "      element.async = false;\n",
       "      element.type = \"module\";\n",
       "      console.debug(\"Bokeh: injecting script tag for BokehJS library: \", url);\n",
       "      element.textContent = `\n",
       "      import ${name} from \"${url}\"\n",
       "      window.${name} = ${name}\n",
       "      window._bokeh_on_load()\n",
       "      `\n",
       "      document.head.appendChild(element);\n",
       "    }\n",
       "    if (!js_urls.length && !js_modules.length) {\n",
       "      on_load()\n",
       "    }\n",
       "  };\n",
       "\n",
       "  function inject_raw_css(css) {\n",
       "    const element = document.createElement(\"style\");\n",
       "    element.appendChild(document.createTextNode(css));\n",
       "    document.body.appendChild(element);\n",
       "  }\n",
       "\n",
       "  var js_urls = [\"https://cdn.bokeh.org/bokeh/release/bokeh-3.4.1.min.js\", \"https://cdn.bokeh.org/bokeh/release/bokeh-gl-3.4.1.min.js\", \"https://cdn.bokeh.org/bokeh/release/bokeh-widgets-3.4.1.min.js\", \"https://cdn.bokeh.org/bokeh/release/bokeh-tables-3.4.1.min.js\", \"https://cdn.holoviz.org/panel/1.4.2/dist/panel.min.js\"];\n",
       "  var js_modules = [];\n",
       "  var js_exports = {};\n",
       "  var css_urls = [];\n",
       "  var inline_js = [    function(Bokeh) {\n",
       "      Bokeh.set_log_level(\"info\");\n",
       "    },\n",
       "function(Bokeh) {} // ensure no trailing comma for IE\n",
       "  ];\n",
       "\n",
       "  function run_inline_js() {\n",
       "    if ((root.Bokeh !== undefined) || (force === true)) {\n",
       "      for (var i = 0; i < inline_js.length; i++) {\n",
       "\ttry {\n",
       "          inline_js[i].call(root, root.Bokeh);\n",
       "\t} catch(e) {\n",
       "\t  if (!reloading) {\n",
       "\t    throw e;\n",
       "\t  }\n",
       "\t}\n",
       "      }\n",
       "      // Cache old bokeh versions\n",
       "      if (Bokeh != undefined && !reloading) {\n",
       "\tvar NewBokeh = root.Bokeh;\n",
       "\tif (Bokeh.versions === undefined) {\n",
       "\t  Bokeh.versions = new Map();\n",
       "\t}\n",
       "\tif (NewBokeh.version !== Bokeh.version) {\n",
       "\t  Bokeh.versions.set(NewBokeh.version, NewBokeh)\n",
       "\t}\n",
       "\troot.Bokeh = Bokeh;\n",
       "      }} else if (Date.now() < root._bokeh_timeout) {\n",
       "      setTimeout(run_inline_js, 100);\n",
       "    } else if (!root._bokeh_failed_load) {\n",
       "      console.log(\"Bokeh: BokehJS failed to load within specified timeout.\");\n",
       "      root._bokeh_failed_load = true;\n",
       "    }\n",
       "    root._bokeh_is_initializing = false\n",
       "  }\n",
       "\n",
       "  function load_or_wait() {\n",
       "    // Implement a backoff loop that tries to ensure we do not load multiple\n",
       "    // versions of Bokeh and its dependencies at the same time.\n",
       "    // In recent versions we use the root._bokeh_is_initializing flag\n",
       "    // to determine whether there is an ongoing attempt to initialize\n",
       "    // bokeh, however for backward compatibility we also try to ensure\n",
       "    // that we do not start loading a newer (Panel>=1.0 and Bokeh>3) version\n",
       "    // before older versions are fully initialized.\n",
       "    if (root._bokeh_is_initializing && Date.now() > root._bokeh_timeout) {\n",
       "      root._bokeh_is_initializing = false;\n",
       "      root._bokeh_onload_callbacks = undefined;\n",
       "      console.log(\"Bokeh: BokehJS was loaded multiple times but one version failed to initialize.\");\n",
       "      load_or_wait();\n",
       "    } else if (root._bokeh_is_initializing || (typeof root._bokeh_is_initializing === \"undefined\" && root._bokeh_onload_callbacks !== undefined)) {\n",
       "      setTimeout(load_or_wait, 100);\n",
       "    } else {\n",
       "      root._bokeh_is_initializing = true\n",
       "      root._bokeh_onload_callbacks = []\n",
       "      var bokeh_loaded = Bokeh != null && (Bokeh.version === py_version || (Bokeh.versions !== undefined && Bokeh.versions.has(py_version)));\n",
       "      if (!reloading && !bokeh_loaded) {\n",
       "\troot.Bokeh = undefined;\n",
       "      }\n",
       "      load_libs(css_urls, js_urls, js_modules, js_exports, function() {\n",
       "\tconsole.debug(\"Bokeh: BokehJS plotting callback run at\", now());\n",
       "\trun_inline_js();\n",
       "      });\n",
       "    }\n",
       "  }\n",
       "  // Give older versions of the autoload script a head-start to ensure\n",
       "  // they initialize before we start loading newer version.\n",
       "  setTimeout(load_or_wait, 100)\n",
       "}(window));"
      ],
      "application/vnd.holoviews_load.v0+json": "(function(root) {\n  function now() {\n    return new Date();\n  }\n\n  var force = true;\n  var py_version = '3.4.1'.replace('rc', '-rc.').replace('.dev', '-dev.');\n  var reloading = false;\n  var Bokeh = root.Bokeh;\n\n  if (typeof (root._bokeh_timeout) === \"undefined\" || force) {\n    root._bokeh_timeout = Date.now() + 5000;\n    root._bokeh_failed_load = false;\n  }\n\n  function run_callbacks() {\n    try {\n      root._bokeh_onload_callbacks.forEach(function(callback) {\n        if (callback != null)\n          callback();\n      });\n    } finally {\n      delete root._bokeh_onload_callbacks;\n    }\n    console.debug(\"Bokeh: all callbacks have finished\");\n  }\n\n  function load_libs(css_urls, js_urls, js_modules, js_exports, callback) {\n    if (css_urls == null) css_urls = [];\n    if (js_urls == null) js_urls = [];\n    if (js_modules == null) js_modules = [];\n    if (js_exports == null) js_exports = {};\n\n    root._bokeh_onload_callbacks.push(callback);\n\n    if (root._bokeh_is_loading > 0) {\n      console.debug(\"Bokeh: BokehJS is being loaded, scheduling callback at\", now());\n      return null;\n    }\n    if (js_urls.length === 0 && js_modules.length === 0 && Object.keys(js_exports).length === 0) {\n      run_callbacks();\n      return null;\n    }\n    if (!reloading) {\n      console.debug(\"Bokeh: BokehJS not loaded, scheduling load and callback at\", now());\n    }\n\n    function on_load() {\n      root._bokeh_is_loading--;\n      if (root._bokeh_is_loading === 0) {\n        console.debug(\"Bokeh: all BokehJS libraries/stylesheets loaded\");\n        run_callbacks()\n      }\n    }\n    window._bokeh_on_load = on_load\n\n    function on_error() {\n      console.error(\"failed to load \" + url);\n    }\n\n    var skip = [];\n    if (window.requirejs) {\n      window.requirejs.config({'packages': {}, 'paths': {}, 'shim': {}});\n      root._bokeh_is_loading = css_urls.length + 0;\n    } else {\n      root._bokeh_is_loading = css_urls.length + js_urls.length + js_modules.length + Object.keys(js_exports).length;\n    }\n\n    var existing_stylesheets = []\n    var links = document.getElementsByTagName('link')\n    for (var i = 0; i < links.length; i++) {\n      var link = links[i]\n      if (link.href != null) {\n\texisting_stylesheets.push(link.href)\n      }\n    }\n    for (var i = 0; i < css_urls.length; i++) {\n      var url = css_urls[i];\n      if (existing_stylesheets.indexOf(url) !== -1) {\n\ton_load()\n\tcontinue;\n      }\n      const element = document.createElement(\"link\");\n      element.onload = on_load;\n      element.onerror = on_error;\n      element.rel = \"stylesheet\";\n      element.type = \"text/css\";\n      element.href = url;\n      console.debug(\"Bokeh: injecting link tag for BokehJS stylesheet: \", url);\n      document.body.appendChild(element);\n    }    var existing_scripts = []\n    var scripts = document.getElementsByTagName('script')\n    for (var i = 0; i < scripts.length; i++) {\n      var script = scripts[i]\n      if (script.src != null) {\n\texisting_scripts.push(script.src)\n      }\n    }\n    for (var i = 0; i < js_urls.length; i++) {\n      var url = js_urls[i];\n      if (skip.indexOf(url) !== -1 || existing_scripts.indexOf(url) !== -1) {\n\tif (!window.requirejs) {\n\t  on_load();\n\t}\n\tcontinue;\n      }\n      var element = document.createElement('script');\n      element.onload = on_load;\n      element.onerror = on_error;\n      element.async = false;\n      element.src = url;\n      console.debug(\"Bokeh: injecting script tag for BokehJS library: \", url);\n      document.head.appendChild(element);\n    }\n    for (var i = 0; i < js_modules.length; i++) {\n      var url = js_modules[i];\n      if (skip.indexOf(url) !== -1 || existing_scripts.indexOf(url) !== -1) {\n\tif (!window.requirejs) {\n\t  on_load();\n\t}\n\tcontinue;\n      }\n      var element = document.createElement('script');\n      element.onload = on_load;\n      element.onerror = on_error;\n      element.async = false;\n      element.src = url;\n      element.type = \"module\";\n      console.debug(\"Bokeh: injecting script tag for BokehJS library: \", url);\n      document.head.appendChild(element);\n    }\n    for (const name in js_exports) {\n      var url = js_exports[name];\n      if (skip.indexOf(url) >= 0 || root[name] != null) {\n\tif (!window.requirejs) {\n\t  on_load();\n\t}\n\tcontinue;\n      }\n      var element = document.createElement('script');\n      element.onerror = on_error;\n      element.async = false;\n      element.type = \"module\";\n      console.debug(\"Bokeh: injecting script tag for BokehJS library: \", url);\n      element.textContent = `\n      import ${name} from \"${url}\"\n      window.${name} = ${name}\n      window._bokeh_on_load()\n      `\n      document.head.appendChild(element);\n    }\n    if (!js_urls.length && !js_modules.length) {\n      on_load()\n    }\n  };\n\n  function inject_raw_css(css) {\n    const element = document.createElement(\"style\");\n    element.appendChild(document.createTextNode(css));\n    document.body.appendChild(element);\n  }\n\n  var js_urls = [\"https://cdn.bokeh.org/bokeh/release/bokeh-3.4.1.min.js\", \"https://cdn.bokeh.org/bokeh/release/bokeh-gl-3.4.1.min.js\", \"https://cdn.bokeh.org/bokeh/release/bokeh-widgets-3.4.1.min.js\", \"https://cdn.bokeh.org/bokeh/release/bokeh-tables-3.4.1.min.js\", \"https://cdn.holoviz.org/panel/1.4.2/dist/panel.min.js\"];\n  var js_modules = [];\n  var js_exports = {};\n  var css_urls = [];\n  var inline_js = [    function(Bokeh) {\n      Bokeh.set_log_level(\"info\");\n    },\nfunction(Bokeh) {} // ensure no trailing comma for IE\n  ];\n\n  function run_inline_js() {\n    if ((root.Bokeh !== undefined) || (force === true)) {\n      for (var i = 0; i < inline_js.length; i++) {\n\ttry {\n          inline_js[i].call(root, root.Bokeh);\n\t} catch(e) {\n\t  if (!reloading) {\n\t    throw e;\n\t  }\n\t}\n      }\n      // Cache old bokeh versions\n      if (Bokeh != undefined && !reloading) {\n\tvar NewBokeh = root.Bokeh;\n\tif (Bokeh.versions === undefined) {\n\t  Bokeh.versions = new Map();\n\t}\n\tif (NewBokeh.version !== Bokeh.version) {\n\t  Bokeh.versions.set(NewBokeh.version, NewBokeh)\n\t}\n\troot.Bokeh = Bokeh;\n      }} else if (Date.now() < root._bokeh_timeout) {\n      setTimeout(run_inline_js, 100);\n    } else if (!root._bokeh_failed_load) {\n      console.log(\"Bokeh: BokehJS failed to load within specified timeout.\");\n      root._bokeh_failed_load = true;\n    }\n    root._bokeh_is_initializing = false\n  }\n\n  function load_or_wait() {\n    // Implement a backoff loop that tries to ensure we do not load multiple\n    // versions of Bokeh and its dependencies at the same time.\n    // In recent versions we use the root._bokeh_is_initializing flag\n    // to determine whether there is an ongoing attempt to initialize\n    // bokeh, however for backward compatibility we also try to ensure\n    // that we do not start loading a newer (Panel>=1.0 and Bokeh>3) version\n    // before older versions are fully initialized.\n    if (root._bokeh_is_initializing && Date.now() > root._bokeh_timeout) {\n      root._bokeh_is_initializing = false;\n      root._bokeh_onload_callbacks = undefined;\n      console.log(\"Bokeh: BokehJS was loaded multiple times but one version failed to initialize.\");\n      load_or_wait();\n    } else if (root._bokeh_is_initializing || (typeof root._bokeh_is_initializing === \"undefined\" && root._bokeh_onload_callbacks !== undefined)) {\n      setTimeout(load_or_wait, 100);\n    } else {\n      root._bokeh_is_initializing = true\n      root._bokeh_onload_callbacks = []\n      var bokeh_loaded = Bokeh != null && (Bokeh.version === py_version || (Bokeh.versions !== undefined && Bokeh.versions.has(py_version)));\n      if (!reloading && !bokeh_loaded) {\n\troot.Bokeh = undefined;\n      }\n      load_libs(css_urls, js_urls, js_modules, js_exports, function() {\n\tconsole.debug(\"Bokeh: BokehJS plotting callback run at\", now());\n\trun_inline_js();\n      });\n    }\n  }\n  // Give older versions of the autoload script a head-start to ensure\n  // they initialize before we start loading newer version.\n  setTimeout(load_or_wait, 100)\n}(window));"
     },
     "metadata": {},
     "output_type": "display_data"
    },
    {
     "data": {
      "application/javascript": [
       "\n",
       "if ((window.PyViz === undefined) || (window.PyViz instanceof HTMLElement)) {\n",
       "  window.PyViz = {comms: {}, comm_status:{}, kernels:{}, receivers: {}, plot_index: []}\n",
       "}\n",
       "\n",
       "\n",
       "    function JupyterCommManager() {\n",
       "    }\n",
       "\n",
       "    JupyterCommManager.prototype.register_target = function(plot_id, comm_id, msg_handler) {\n",
       "      if (window.comm_manager || ((window.Jupyter !== undefined) && (Jupyter.notebook.kernel != null))) {\n",
       "        var comm_manager = window.comm_manager || Jupyter.notebook.kernel.comm_manager;\n",
       "        comm_manager.register_target(comm_id, function(comm) {\n",
       "          comm.on_msg(msg_handler);\n",
       "        });\n",
       "      } else if ((plot_id in window.PyViz.kernels) && (window.PyViz.kernels[plot_id])) {\n",
       "        window.PyViz.kernels[plot_id].registerCommTarget(comm_id, function(comm) {\n",
       "          comm.onMsg = msg_handler;\n",
       "        });\n",
       "      } else if (typeof google != 'undefined' && google.colab.kernel != null) {\n",
       "        google.colab.kernel.comms.registerTarget(comm_id, (comm) => {\n",
       "          var messages = comm.messages[Symbol.asyncIterator]();\n",
       "          function processIteratorResult(result) {\n",
       "            var message = result.value;\n",
       "            console.log(message)\n",
       "            var content = {data: message.data, comm_id};\n",
       "            var buffers = []\n",
       "            for (var buffer of message.buffers || []) {\n",
       "              buffers.push(new DataView(buffer))\n",
       "            }\n",
       "            var metadata = message.metadata || {};\n",
       "            var msg = {content, buffers, metadata}\n",
       "            msg_handler(msg);\n",
       "            return messages.next().then(processIteratorResult);\n",
       "          }\n",
       "          return messages.next().then(processIteratorResult);\n",
       "        })\n",
       "      }\n",
       "    }\n",
       "\n",
       "    JupyterCommManager.prototype.get_client_comm = function(plot_id, comm_id, msg_handler) {\n",
       "      if (comm_id in window.PyViz.comms) {\n",
       "        return window.PyViz.comms[comm_id];\n",
       "      } else if (window.comm_manager || ((window.Jupyter !== undefined) && (Jupyter.notebook.kernel != null))) {\n",
       "        var comm_manager = window.comm_manager || Jupyter.notebook.kernel.comm_manager;\n",
       "        var comm = comm_manager.new_comm(comm_id, {}, {}, {}, comm_id);\n",
       "        if (msg_handler) {\n",
       "          comm.on_msg(msg_handler);\n",
       "        }\n",
       "      } else if ((plot_id in window.PyViz.kernels) && (window.PyViz.kernels[plot_id])) {\n",
       "        var comm = window.PyViz.kernels[plot_id].connectToComm(comm_id);\n",
       "        comm.open();\n",
       "        if (msg_handler) {\n",
       "          comm.onMsg = msg_handler;\n",
       "        }\n",
       "      } else if (typeof google != 'undefined' && google.colab.kernel != null) {\n",
       "        var comm_promise = google.colab.kernel.comms.open(comm_id)\n",
       "        comm_promise.then((comm) => {\n",
       "          window.PyViz.comms[comm_id] = comm;\n",
       "          if (msg_handler) {\n",
       "            var messages = comm.messages[Symbol.asyncIterator]();\n",
       "            function processIteratorResult(result) {\n",
       "              var message = result.value;\n",
       "              var content = {data: message.data};\n",
       "              var metadata = message.metadata || {comm_id};\n",
       "              var msg = {content, metadata}\n",
       "              msg_handler(msg);\n",
       "              return messages.next().then(processIteratorResult);\n",
       "            }\n",
       "            return messages.next().then(processIteratorResult);\n",
       "          }\n",
       "        }) \n",
       "        var sendClosure = (data, metadata, buffers, disposeOnDone) => {\n",
       "          return comm_promise.then((comm) => {\n",
       "            comm.send(data, metadata, buffers, disposeOnDone);\n",
       "          });\n",
       "        };\n",
       "        var comm = {\n",
       "          send: sendClosure\n",
       "        };\n",
       "      }\n",
       "      window.PyViz.comms[comm_id] = comm;\n",
       "      return comm;\n",
       "    }\n",
       "    window.PyViz.comm_manager = new JupyterCommManager();\n",
       "    \n",
       "\n",
       "\n",
       "var JS_MIME_TYPE = 'application/javascript';\n",
       "var HTML_MIME_TYPE = 'text/html';\n",
       "var EXEC_MIME_TYPE = 'application/vnd.holoviews_exec.v0+json';\n",
       "var CLASS_NAME = 'output';\n",
       "\n",
       "/**\n",
       " * Render data to the DOM node\n",
       " */\n",
       "function render(props, node) {\n",
       "  var div = document.createElement(\"div\");\n",
       "  var script = document.createElement(\"script\");\n",
       "  node.appendChild(div);\n",
       "  node.appendChild(script);\n",
       "}\n",
       "\n",
       "/**\n",
       " * Handle when a new output is added\n",
       " */\n",
       "function handle_add_output(event, handle) {\n",
       "  var output_area = handle.output_area;\n",
       "  var output = handle.output;\n",
       "  if ((output.data == undefined) || (!output.data.hasOwnProperty(EXEC_MIME_TYPE))) {\n",
       "    return\n",
       "  }\n",
       "  var id = output.metadata[EXEC_MIME_TYPE][\"id\"];\n",
       "  var toinsert = output_area.element.find(\".\" + CLASS_NAME.split(' ')[0]);\n",
       "  if (id !== undefined) {\n",
       "    var nchildren = toinsert.length;\n",
       "    var html_node = toinsert[nchildren-1].children[0];\n",
       "    html_node.innerHTML = output.data[HTML_MIME_TYPE];\n",
       "    var scripts = [];\n",
       "    var nodelist = html_node.querySelectorAll(\"script\");\n",
       "    for (var i in nodelist) {\n",
       "      if (nodelist.hasOwnProperty(i)) {\n",
       "        scripts.push(nodelist[i])\n",
       "      }\n",
       "    }\n",
       "\n",
       "    scripts.forEach( function (oldScript) {\n",
       "      var newScript = document.createElement(\"script\");\n",
       "      var attrs = [];\n",
       "      var nodemap = oldScript.attributes;\n",
       "      for (var j in nodemap) {\n",
       "        if (nodemap.hasOwnProperty(j)) {\n",
       "          attrs.push(nodemap[j])\n",
       "        }\n",
       "      }\n",
       "      attrs.forEach(function(attr) { newScript.setAttribute(attr.name, attr.value) });\n",
       "      newScript.appendChild(document.createTextNode(oldScript.innerHTML));\n",
       "      oldScript.parentNode.replaceChild(newScript, oldScript);\n",
       "    });\n",
       "    if (JS_MIME_TYPE in output.data) {\n",
       "      toinsert[nchildren-1].children[1].textContent = output.data[JS_MIME_TYPE];\n",
       "    }\n",
       "    output_area._hv_plot_id = id;\n",
       "    if ((window.Bokeh !== undefined) && (id in Bokeh.index)) {\n",
       "      window.PyViz.plot_index[id] = Bokeh.index[id];\n",
       "    } else {\n",
       "      window.PyViz.plot_index[id] = null;\n",
       "    }\n",
       "  } else if (output.metadata[EXEC_MIME_TYPE][\"server_id\"] !== undefined) {\n",
       "    var bk_div = document.createElement(\"div\");\n",
       "    bk_div.innerHTML = output.data[HTML_MIME_TYPE];\n",
       "    var script_attrs = bk_div.children[0].attributes;\n",
       "    for (var i = 0; i < script_attrs.length; i++) {\n",
       "      toinsert[toinsert.length - 1].childNodes[1].setAttribute(script_attrs[i].name, script_attrs[i].value);\n",
       "    }\n",
       "    // store reference to server id on output_area\n",
       "    output_area._bokeh_server_id = output.metadata[EXEC_MIME_TYPE][\"server_id\"];\n",
       "  }\n",
       "}\n",
       "\n",
       "/**\n",
       " * Handle when an output is cleared or removed\n",
       " */\n",
       "function handle_clear_output(event, handle) {\n",
       "  var id = handle.cell.output_area._hv_plot_id;\n",
       "  var server_id = handle.cell.output_area._bokeh_server_id;\n",
       "  if (((id === undefined) || !(id in PyViz.plot_index)) && (server_id !== undefined)) { return; }\n",
       "  var comm = window.PyViz.comm_manager.get_client_comm(\"hv-extension-comm\", \"hv-extension-comm\", function () {});\n",
       "  if (server_id !== null) {\n",
       "    comm.send({event_type: 'server_delete', 'id': server_id});\n",
       "    return;\n",
       "  } else if (comm !== null) {\n",
       "    comm.send({event_type: 'delete', 'id': id});\n",
       "  }\n",
       "  delete PyViz.plot_index[id];\n",
       "  if ((window.Bokeh !== undefined) & (id in window.Bokeh.index)) {\n",
       "    var doc = window.Bokeh.index[id].model.document\n",
       "    doc.clear();\n",
       "    const i = window.Bokeh.documents.indexOf(doc);\n",
       "    if (i > -1) {\n",
       "      window.Bokeh.documents.splice(i, 1);\n",
       "    }\n",
       "  }\n",
       "}\n",
       "\n",
       "/**\n",
       " * Handle kernel restart event\n",
       " */\n",
       "function handle_kernel_cleanup(event, handle) {\n",
       "  delete PyViz.comms[\"hv-extension-comm\"];\n",
       "  window.PyViz.plot_index = {}\n",
       "}\n",
       "\n",
       "/**\n",
       " * Handle update_display_data messages\n",
       " */\n",
       "function handle_update_output(event, handle) {\n",
       "  handle_clear_output(event, {cell: {output_area: handle.output_area}})\n",
       "  handle_add_output(event, handle)\n",
       "}\n",
       "\n",
       "function register_renderer(events, OutputArea) {\n",
       "  function append_mime(data, metadata, element) {\n",
       "    // create a DOM node to render to\n",
       "    var toinsert = this.create_output_subarea(\n",
       "    metadata,\n",
       "    CLASS_NAME,\n",
       "    EXEC_MIME_TYPE\n",
       "    );\n",
       "    this.keyboard_manager.register_events(toinsert);\n",
       "    // Render to node\n",
       "    var props = {data: data, metadata: metadata[EXEC_MIME_TYPE]};\n",
       "    render(props, toinsert[0]);\n",
       "    element.append(toinsert);\n",
       "    return toinsert\n",
       "  }\n",
       "\n",
       "  events.on('output_added.OutputArea', handle_add_output);\n",
       "  events.on('output_updated.OutputArea', handle_update_output);\n",
       "  events.on('clear_output.CodeCell', handle_clear_output);\n",
       "  events.on('delete.Cell', handle_clear_output);\n",
       "  events.on('kernel_ready.Kernel', handle_kernel_cleanup);\n",
       "\n",
       "  OutputArea.prototype.register_mime_type(EXEC_MIME_TYPE, append_mime, {\n",
       "    safe: true,\n",
       "    index: 0\n",
       "  });\n",
       "}\n",
       "\n",
       "if (window.Jupyter !== undefined) {\n",
       "  try {\n",
       "    var events = require('base/js/events');\n",
       "    var OutputArea = require('notebook/js/outputarea').OutputArea;\n",
       "    if (OutputArea.prototype.mime_types().indexOf(EXEC_MIME_TYPE) == -1) {\n",
       "      register_renderer(events, OutputArea);\n",
       "    }\n",
       "  } catch(err) {\n",
       "  }\n",
       "}\n"
      ],
      "application/vnd.holoviews_load.v0+json": "\nif ((window.PyViz === undefined) || (window.PyViz instanceof HTMLElement)) {\n  window.PyViz = {comms: {}, comm_status:{}, kernels:{}, receivers: {}, plot_index: []}\n}\n\n\n    function JupyterCommManager() {\n    }\n\n    JupyterCommManager.prototype.register_target = function(plot_id, comm_id, msg_handler) {\n      if (window.comm_manager || ((window.Jupyter !== undefined) && (Jupyter.notebook.kernel != null))) {\n        var comm_manager = window.comm_manager || Jupyter.notebook.kernel.comm_manager;\n        comm_manager.register_target(comm_id, function(comm) {\n          comm.on_msg(msg_handler);\n        });\n      } else if ((plot_id in window.PyViz.kernels) && (window.PyViz.kernels[plot_id])) {\n        window.PyViz.kernels[plot_id].registerCommTarget(comm_id, function(comm) {\n          comm.onMsg = msg_handler;\n        });\n      } else if (typeof google != 'undefined' && google.colab.kernel != null) {\n        google.colab.kernel.comms.registerTarget(comm_id, (comm) => {\n          var messages = comm.messages[Symbol.asyncIterator]();\n          function processIteratorResult(result) {\n            var message = result.value;\n            console.log(message)\n            var content = {data: message.data, comm_id};\n            var buffers = []\n            for (var buffer of message.buffers || []) {\n              buffers.push(new DataView(buffer))\n            }\n            var metadata = message.metadata || {};\n            var msg = {content, buffers, metadata}\n            msg_handler(msg);\n            return messages.next().then(processIteratorResult);\n          }\n          return messages.next().then(processIteratorResult);\n        })\n      }\n    }\n\n    JupyterCommManager.prototype.get_client_comm = function(plot_id, comm_id, msg_handler) {\n      if (comm_id in window.PyViz.comms) {\n        return window.PyViz.comms[comm_id];\n      } else if (window.comm_manager || ((window.Jupyter !== undefined) && (Jupyter.notebook.kernel != null))) {\n        var comm_manager = window.comm_manager || Jupyter.notebook.kernel.comm_manager;\n        var comm = comm_manager.new_comm(comm_id, {}, {}, {}, comm_id);\n        if (msg_handler) {\n          comm.on_msg(msg_handler);\n        }\n      } else if ((plot_id in window.PyViz.kernels) && (window.PyViz.kernels[plot_id])) {\n        var comm = window.PyViz.kernels[plot_id].connectToComm(comm_id);\n        comm.open();\n        if (msg_handler) {\n          comm.onMsg = msg_handler;\n        }\n      } else if (typeof google != 'undefined' && google.colab.kernel != null) {\n        var comm_promise = google.colab.kernel.comms.open(comm_id)\n        comm_promise.then((comm) => {\n          window.PyViz.comms[comm_id] = comm;\n          if (msg_handler) {\n            var messages = comm.messages[Symbol.asyncIterator]();\n            function processIteratorResult(result) {\n              var message = result.value;\n              var content = {data: message.data};\n              var metadata = message.metadata || {comm_id};\n              var msg = {content, metadata}\n              msg_handler(msg);\n              return messages.next().then(processIteratorResult);\n            }\n            return messages.next().then(processIteratorResult);\n          }\n        }) \n        var sendClosure = (data, metadata, buffers, disposeOnDone) => {\n          return comm_promise.then((comm) => {\n            comm.send(data, metadata, buffers, disposeOnDone);\n          });\n        };\n        var comm = {\n          send: sendClosure\n        };\n      }\n      window.PyViz.comms[comm_id] = comm;\n      return comm;\n    }\n    window.PyViz.comm_manager = new JupyterCommManager();\n    \n\n\nvar JS_MIME_TYPE = 'application/javascript';\nvar HTML_MIME_TYPE = 'text/html';\nvar EXEC_MIME_TYPE = 'application/vnd.holoviews_exec.v0+json';\nvar CLASS_NAME = 'output';\n\n/**\n * Render data to the DOM node\n */\nfunction render(props, node) {\n  var div = document.createElement(\"div\");\n  var script = document.createElement(\"script\");\n  node.appendChild(div);\n  node.appendChild(script);\n}\n\n/**\n * Handle when a new output is added\n */\nfunction handle_add_output(event, handle) {\n  var output_area = handle.output_area;\n  var output = handle.output;\n  if ((output.data == undefined) || (!output.data.hasOwnProperty(EXEC_MIME_TYPE))) {\n    return\n  }\n  var id = output.metadata[EXEC_MIME_TYPE][\"id\"];\n  var toinsert = output_area.element.find(\".\" + CLASS_NAME.split(' ')[0]);\n  if (id !== undefined) {\n    var nchildren = toinsert.length;\n    var html_node = toinsert[nchildren-1].children[0];\n    html_node.innerHTML = output.data[HTML_MIME_TYPE];\n    var scripts = [];\n    var nodelist = html_node.querySelectorAll(\"script\");\n    for (var i in nodelist) {\n      if (nodelist.hasOwnProperty(i)) {\n        scripts.push(nodelist[i])\n      }\n    }\n\n    scripts.forEach( function (oldScript) {\n      var newScript = document.createElement(\"script\");\n      var attrs = [];\n      var nodemap = oldScript.attributes;\n      for (var j in nodemap) {\n        if (nodemap.hasOwnProperty(j)) {\n          attrs.push(nodemap[j])\n        }\n      }\n      attrs.forEach(function(attr) { newScript.setAttribute(attr.name, attr.value) });\n      newScript.appendChild(document.createTextNode(oldScript.innerHTML));\n      oldScript.parentNode.replaceChild(newScript, oldScript);\n    });\n    if (JS_MIME_TYPE in output.data) {\n      toinsert[nchildren-1].children[1].textContent = output.data[JS_MIME_TYPE];\n    }\n    output_area._hv_plot_id = id;\n    if ((window.Bokeh !== undefined) && (id in Bokeh.index)) {\n      window.PyViz.plot_index[id] = Bokeh.index[id];\n    } else {\n      window.PyViz.plot_index[id] = null;\n    }\n  } else if (output.metadata[EXEC_MIME_TYPE][\"server_id\"] !== undefined) {\n    var bk_div = document.createElement(\"div\");\n    bk_div.innerHTML = output.data[HTML_MIME_TYPE];\n    var script_attrs = bk_div.children[0].attributes;\n    for (var i = 0; i < script_attrs.length; i++) {\n      toinsert[toinsert.length - 1].childNodes[1].setAttribute(script_attrs[i].name, script_attrs[i].value);\n    }\n    // store reference to server id on output_area\n    output_area._bokeh_server_id = output.metadata[EXEC_MIME_TYPE][\"server_id\"];\n  }\n}\n\n/**\n * Handle when an output is cleared or removed\n */\nfunction handle_clear_output(event, handle) {\n  var id = handle.cell.output_area._hv_plot_id;\n  var server_id = handle.cell.output_area._bokeh_server_id;\n  if (((id === undefined) || !(id in PyViz.plot_index)) && (server_id !== undefined)) { return; }\n  var comm = window.PyViz.comm_manager.get_client_comm(\"hv-extension-comm\", \"hv-extension-comm\", function () {});\n  if (server_id !== null) {\n    comm.send({event_type: 'server_delete', 'id': server_id});\n    return;\n  } else if (comm !== null) {\n    comm.send({event_type: 'delete', 'id': id});\n  }\n  delete PyViz.plot_index[id];\n  if ((window.Bokeh !== undefined) & (id in window.Bokeh.index)) {\n    var doc = window.Bokeh.index[id].model.document\n    doc.clear();\n    const i = window.Bokeh.documents.indexOf(doc);\n    if (i > -1) {\n      window.Bokeh.documents.splice(i, 1);\n    }\n  }\n}\n\n/**\n * Handle kernel restart event\n */\nfunction handle_kernel_cleanup(event, handle) {\n  delete PyViz.comms[\"hv-extension-comm\"];\n  window.PyViz.plot_index = {}\n}\n\n/**\n * Handle update_display_data messages\n */\nfunction handle_update_output(event, handle) {\n  handle_clear_output(event, {cell: {output_area: handle.output_area}})\n  handle_add_output(event, handle)\n}\n\nfunction register_renderer(events, OutputArea) {\n  function append_mime(data, metadata, element) {\n    // create a DOM node to render to\n    var toinsert = this.create_output_subarea(\n    metadata,\n    CLASS_NAME,\n    EXEC_MIME_TYPE\n    );\n    this.keyboard_manager.register_events(toinsert);\n    // Render to node\n    var props = {data: data, metadata: metadata[EXEC_MIME_TYPE]};\n    render(props, toinsert[0]);\n    element.append(toinsert);\n    return toinsert\n  }\n\n  events.on('output_added.OutputArea', handle_add_output);\n  events.on('output_updated.OutputArea', handle_update_output);\n  events.on('clear_output.CodeCell', handle_clear_output);\n  events.on('delete.Cell', handle_clear_output);\n  events.on('kernel_ready.Kernel', handle_kernel_cleanup);\n\n  OutputArea.prototype.register_mime_type(EXEC_MIME_TYPE, append_mime, {\n    safe: true,\n    index: 0\n  });\n}\n\nif (window.Jupyter !== undefined) {\n  try {\n    var events = require('base/js/events');\n    var OutputArea = require('notebook/js/outputarea').OutputArea;\n    if (OutputArea.prototype.mime_types().indexOf(EXEC_MIME_TYPE) == -1) {\n      register_renderer(events, OutputArea);\n    }\n  } catch(err) {\n  }\n}\n"
     },
     "metadata": {},
     "output_type": "display_data"
    },
    {
     "data": {
      "text/html": [
       "<style>*[data-root-id],\n",
       "*[data-root-id] > * {\n",
       "  box-sizing: border-box;\n",
       "  font-family: var(--jp-ui-font-family);\n",
       "  font-size: var(--jp-ui-font-size1);\n",
       "  color: var(--vscode-editor-foreground, var(--jp-ui-font-color1));\n",
       "}\n",
       "\n",
       "/* Override VSCode background color */\n",
       ".cell-output-ipywidget-background:has(\n",
       "    > .cell-output-ipywidget-background > .lm-Widget > *[data-root-id]\n",
       "  ),\n",
       ".cell-output-ipywidget-background:has(> .lm-Widget > *[data-root-id]) {\n",
       "  background-color: transparent !important;\n",
       "}\n",
       "</style>"
      ]
     },
     "metadata": {},
     "output_type": "display_data"
    },
    {
     "data": {
      "application/vnd.holoviews_exec.v0+json": "",
      "text/html": [
       "<div id='p1002'>\n",
       "  <div id=\"fb174277-1a34-4701-8dfe-f21d755453d6\" data-root-id=\"p1002\" style=\"display: contents;\"></div>\n",
       "</div>\n",
       "<script type=\"application/javascript\">(function(root) {\n",
       "  var docs_json = {\"a9272d38-dafc-42b1-bc17-ff05e591f8ae\":{\"version\":\"3.4.1\",\"title\":\"Bokeh Application\",\"roots\":[{\"type\":\"object\",\"name\":\"panel.models.browser.BrowserInfo\",\"id\":\"p1002\"},{\"type\":\"object\",\"name\":\"panel.models.comm_manager.CommManager\",\"id\":\"p1003\",\"attributes\":{\"plot_id\":\"p1002\",\"comm_id\":\"fe8410c97b7748d6bda972facae0632e\",\"client_comm_id\":\"884fcbcca0464359986095adf30c3e57\"}}],\"defs\":[{\"type\":\"model\",\"name\":\"ReactiveHTML1\"},{\"type\":\"model\",\"name\":\"FlexBox1\",\"properties\":[{\"name\":\"align_content\",\"kind\":\"Any\",\"default\":\"flex-start\"},{\"name\":\"align_items\",\"kind\":\"Any\",\"default\":\"flex-start\"},{\"name\":\"flex_direction\",\"kind\":\"Any\",\"default\":\"row\"},{\"name\":\"flex_wrap\",\"kind\":\"Any\",\"default\":\"wrap\"},{\"name\":\"gap\",\"kind\":\"Any\",\"default\":\"\"},{\"name\":\"justify_content\",\"kind\":\"Any\",\"default\":\"flex-start\"}]},{\"type\":\"model\",\"name\":\"FloatPanel1\",\"properties\":[{\"name\":\"config\",\"kind\":\"Any\",\"default\":{\"type\":\"map\"}},{\"name\":\"contained\",\"kind\":\"Any\",\"default\":true},{\"name\":\"position\",\"kind\":\"Any\",\"default\":\"right-top\"},{\"name\":\"offsetx\",\"kind\":\"Any\",\"default\":null},{\"name\":\"offsety\",\"kind\":\"Any\",\"default\":null},{\"name\":\"theme\",\"kind\":\"Any\",\"default\":\"primary\"},{\"name\":\"status\",\"kind\":\"Any\",\"default\":\"normalized\"}]},{\"type\":\"model\",\"name\":\"GridStack1\",\"properties\":[{\"name\":\"mode\",\"kind\":\"Any\",\"default\":\"warn\"},{\"name\":\"ncols\",\"kind\":\"Any\",\"default\":null},{\"name\":\"nrows\",\"kind\":\"Any\",\"default\":null},{\"name\":\"allow_resize\",\"kind\":\"Any\",\"default\":true},{\"name\":\"allow_drag\",\"kind\":\"Any\",\"default\":true},{\"name\":\"state\",\"kind\":\"Any\",\"default\":[]}]},{\"type\":\"model\",\"name\":\"drag1\",\"properties\":[{\"name\":\"slider_width\",\"kind\":\"Any\",\"default\":5},{\"name\":\"slider_color\",\"kind\":\"Any\",\"default\":\"black\"},{\"name\":\"value\",\"kind\":\"Any\",\"default\":50}]},{\"type\":\"model\",\"name\":\"click1\",\"properties\":[{\"name\":\"terminal_output\",\"kind\":\"Any\",\"default\":\"\"},{\"name\":\"debug_name\",\"kind\":\"Any\",\"default\":\"\"},{\"name\":\"clears\",\"kind\":\"Any\",\"default\":0}]},{\"type\":\"model\",\"name\":\"FastWrapper1\",\"properties\":[{\"name\":\"object\",\"kind\":\"Any\",\"default\":null},{\"name\":\"style\",\"kind\":\"Any\",\"default\":null}]},{\"type\":\"model\",\"name\":\"NotificationAreaBase1\",\"properties\":[{\"name\":\"js_events\",\"kind\":\"Any\",\"default\":{\"type\":\"map\"}},{\"name\":\"position\",\"kind\":\"Any\",\"default\":\"bottom-right\"},{\"name\":\"_clear\",\"kind\":\"Any\",\"default\":0}]},{\"type\":\"model\",\"name\":\"NotificationArea1\",\"properties\":[{\"name\":\"js_events\",\"kind\":\"Any\",\"default\":{\"type\":\"map\"}},{\"name\":\"notifications\",\"kind\":\"Any\",\"default\":[]},{\"name\":\"position\",\"kind\":\"Any\",\"default\":\"bottom-right\"},{\"name\":\"_clear\",\"kind\":\"Any\",\"default\":0},{\"name\":\"types\",\"kind\":\"Any\",\"default\":[{\"type\":\"map\",\"entries\":[[\"type\",\"warning\"],[\"background\",\"#ffc107\"],[\"icon\",{\"type\":\"map\",\"entries\":[[\"className\",\"fas fa-exclamation-triangle\"],[\"tagName\",\"i\"],[\"color\",\"white\"]]}]]},{\"type\":\"map\",\"entries\":[[\"type\",\"info\"],[\"background\",\"#007bff\"],[\"icon\",{\"type\":\"map\",\"entries\":[[\"className\",\"fas fa-info-circle\"],[\"tagName\",\"i\"],[\"color\",\"white\"]]}]]}]}]},{\"type\":\"model\",\"name\":\"Notification\",\"properties\":[{\"name\":\"background\",\"kind\":\"Any\",\"default\":null},{\"name\":\"duration\",\"kind\":\"Any\",\"default\":3000},{\"name\":\"icon\",\"kind\":\"Any\",\"default\":null},{\"name\":\"message\",\"kind\":\"Any\",\"default\":\"\"},{\"name\":\"notification_type\",\"kind\":\"Any\",\"default\":null},{\"name\":\"_destroyed\",\"kind\":\"Any\",\"default\":false}]},{\"type\":\"model\",\"name\":\"TemplateActions1\",\"properties\":[{\"name\":\"open_modal\",\"kind\":\"Any\",\"default\":0},{\"name\":\"close_modal\",\"kind\":\"Any\",\"default\":0}]},{\"type\":\"model\",\"name\":\"BootstrapTemplateActions1\",\"properties\":[{\"name\":\"open_modal\",\"kind\":\"Any\",\"default\":0},{\"name\":\"close_modal\",\"kind\":\"Any\",\"default\":0}]},{\"type\":\"model\",\"name\":\"TemplateEditor1\",\"properties\":[{\"name\":\"layout\",\"kind\":\"Any\",\"default\":[]}]},{\"type\":\"model\",\"name\":\"MaterialTemplateActions1\",\"properties\":[{\"name\":\"open_modal\",\"kind\":\"Any\",\"default\":0},{\"name\":\"close_modal\",\"kind\":\"Any\",\"default\":0}]},{\"type\":\"model\",\"name\":\"copy_to_clipboard1\",\"properties\":[{\"name\":\"fill\",\"kind\":\"Any\",\"default\":\"none\"},{\"name\":\"value\",\"kind\":\"Any\",\"default\":null}]}]}};\n",
       "  var render_items = [{\"docid\":\"a9272d38-dafc-42b1-bc17-ff05e591f8ae\",\"roots\":{\"p1002\":\"fb174277-1a34-4701-8dfe-f21d755453d6\"},\"root_ids\":[\"p1002\"]}];\n",
       "  var docs = Object.values(docs_json)\n",
       "  if (!docs) {\n",
       "    return\n",
       "  }\n",
       "  const py_version = docs[0].version.replace('rc', '-rc.').replace('.dev', '-dev.')\n",
       "  function embed_document(root) {\n",
       "    var Bokeh = get_bokeh(root)\n",
       "    Bokeh.embed.embed_items_notebook(docs_json, render_items);\n",
       "    for (const render_item of render_items) {\n",
       "      for (const root_id of render_item.root_ids) {\n",
       "\tconst id_el = document.getElementById(root_id)\n",
       "\tif (id_el.children.length && (id_el.children[0].className === 'bk-root')) {\n",
       "\t  const root_el = id_el.children[0]\n",
       "\t  root_el.id = root_el.id + '-rendered'\n",
       "\t}\n",
       "      }\n",
       "    }\n",
       "  }\n",
       "  function get_bokeh(root) {\n",
       "    if (root.Bokeh === undefined) {\n",
       "      return null\n",
       "    } else if (root.Bokeh.version !== py_version) {\n",
       "      if (root.Bokeh.versions === undefined || !root.Bokeh.versions.has(py_version)) {\n",
       "\treturn null\n",
       "      }\n",
       "      return root.Bokeh.versions.get(py_version);\n",
       "    } else if (root.Bokeh.version === py_version) {\n",
       "      return root.Bokeh\n",
       "    }\n",
       "    return null\n",
       "  }\n",
       "  function is_loaded(root) {\n",
       "    var Bokeh = get_bokeh(root)\n",
       "    return (Bokeh != null && Bokeh.Panel !== undefined)\n",
       "  }\n",
       "  if (is_loaded(root)) {\n",
       "    embed_document(root);\n",
       "  } else {\n",
       "    var attempts = 0;\n",
       "    var timer = setInterval(function(root) {\n",
       "      if (is_loaded(root)) {\n",
       "        clearInterval(timer);\n",
       "        embed_document(root);\n",
       "      } else if (document.readyState == \"complete\") {\n",
       "        attempts++;\n",
       "        if (attempts > 200) {\n",
       "          clearInterval(timer);\n",
       "\t  var Bokeh = get_bokeh(root)\n",
       "\t  if (Bokeh == null || Bokeh.Panel == null) {\n",
       "            console.warn(\"Panel: ERROR: Unable to run Panel code because Bokeh or Panel library is missing\");\n",
       "\t  } else {\n",
       "\t    console.warn(\"Panel: WARNING: Attempting to render but not all required libraries could be resolved.\")\n",
       "\t    embed_document(root)\n",
       "\t  }\n",
       "        }\n",
       "      }\n",
       "    }, 25, root)\n",
       "  }\n",
       "})(window);</script>"
      ]
     },
     "metadata": {
      "application/vnd.holoviews_exec.v0+json": {
       "id": "p1002"
      }
     },
     "output_type": "display_data"
    },
    {
     "data": {
      "text/plain": [
       "True"
      ]
     },
     "execution_count": 2,
     "metadata": {},
     "output_type": "execute_result"
    }
   ],
   "source": [
    "import sys, os\n",
    "os.environ['PKG_CONFIG_PATH'] = '/ocean/projects/asc170022p/mtragoza/mambaforge/envs/lung-project/lib/pkgconfig'\n",
    "\n",
    "import numpy as np\n",
    "import skimage\n",
    "import torch\n",
    "import nibabel as nib\n",
    "\n",
    "from totalsegmentator.python_api import totalsegmentator\n",
    "from totalsegmentator.libs import combine_masks\n",
    "\n",
    "import pygalmesh\n",
    "import meshio\n",
    "\n",
    "sys.path.append('..')\n",
    "import project\n",
    "\n",
    "torch.cuda.is_available()"
   ]
  },
  {
   "cell_type": "code",
   "execution_count": 4,
   "id": "df97eb45",
   "metadata": {},
   "outputs": [
    {
     "data": {
      "text/plain": [
       "Emory4DCT('../data/Emory-4DCT', 10 cases)"
      ]
     },
     "execution_count": 4,
     "metadata": {},
     "output_type": "execute_result"
    }
   ],
   "source": [
    "%autoreload\n",
    "emory4dct = project.imaging.Emory4DCT('../data/Emory-4DCT')\n",
    "emory4dct"
   ]
  },
  {
   "cell_type": "code",
   "execution_count": 25,
   "id": "3da085dc",
   "metadata": {},
   "outputs": [
    {
     "data": {
      "text/plain": [
       "array([[1, 1, 0, 1, 1],\n",
       "       [1, 1, 0, 1, 1],\n",
       "       [1, 1, 0, 1, 1],\n",
       "       [0, 0, 0, 0, 0],\n",
       "       [0, 0, 0, 0, 0]])"
      ]
     },
     "execution_count": 25,
     "metadata": {},
     "output_type": "execute_result"
    }
   ],
   "source": [
    "def select_regions_by_size(mask, which=slice(1, 3)):\n",
    "    regions = skimage.measure.label(mask)\n",
    "    region_sizes = np.unique(regions, return_counts=True)[1]\n",
    "    selected_regions = np.argsort(-region_sizes)[which]\n",
    "    return np.isin(regions, selected_regions).astype(mask.dtype)\n",
    "\n",
    "mask = np.array([\n",
    "    [1, 1, 0, 1, 1],\n",
    "    [1, 1, 0, 1, 1],\n",
    "    [1, 1, 0, 1, 1],\n",
    "    [0, 0, 0, 0, 0],\n",
    "    [1, 0, 0, 1, 1],\n",
    "])\n",
    "select_regions_by_size(mask)"
   ]
  },
  {
   "cell_type": "code",
   "execution_count": 26,
   "id": "83a50d29",
   "metadata": {
    "scrolled": true
   },
   "outputs": [
    {
     "name": "stdout",
     "output_type": "stream",
     "text": [
      "Segmenting Case1Pack phase 0\n",
      "\n",
      "If you use this tool please cite: https://pubs.rsna.org/doi/10.1148/ryai.230024\n",
      "\n",
      "Generating rough body segmentation...\n",
      "Resampling...\n",
      "  Resampled in 0.22s\n",
      "Predicting...\n"
     ]
    },
    {
     "name": "stderr",
     "output_type": "stream",
     "text": [
      "/ocean/projects/asc170022p/mtragoza/mambaforge/envs/lung-project/lib/python3.10/site-packages/nnunetv2/utilities/plans_handling/plans_handler.py:37: UserWarning: Detected old nnU-Net plans format. Attempting to reconstruct network architecture parameters. If this fails, rerun nnUNetv2_plan_experiment for your dataset. If you use a custom architecture, please downgrade nnU-Net to the version you implemented this or update your implementation + plans.\n",
      "  warnings.warn(\"Detected old nnU-Net plans format. Attempting to reconstruct network architecture \"\n",
      "100%|██████████| 1/1 [00:00<00:00, 97.76it/s]\n"
     ]
    },
    {
     "name": "stdout",
     "output_type": "stream",
     "text": [
      "  Predicted in 7.08s\n",
      "Resampling...\n",
      "  cropping from (256, 256, 94) to (256, 193, 94)\n",
      "Resampling...\n",
      "  Resampled in 1.16s\n",
      "Predicting part 1 of 1 ...\n"
     ]
    },
    {
     "name": "stderr",
     "output_type": "stream",
     "text": [
      "100%|██████████| 4/4 [00:00<00:00, 175.24it/s]\n"
     ]
    },
    {
     "name": "stdout",
     "output_type": "stream",
     "text": [
      "  Predicted in 8.52s\n",
      "Resampling...\n",
      "Saving segmentations...\n"
     ]
    },
    {
     "data": {
      "application/vnd.jupyter.widget-view+json": {
       "model_id": "27535331398e482794b7b34586ced253",
       "version_major": 2,
       "version_minor": 0
      },
      "text/plain": [
       "  0%|          | 0/5 [00:00<?, ?it/s]"
      ]
     },
     "metadata": {},
     "output_type": "display_data"
    },
    {
     "name": "stdout",
     "output_type": "stream",
     "text": [
      "  Saved in 0.52s\n",
      "\n",
      "If you use this tool please cite: https://pubs.rsna.org/doi/10.1148/ryai.230024\n",
      "\n",
      "Generating rough body segmentation...\n",
      "Resampling...\n",
      "  Resampled in 0.22s\n",
      "Predicting...\n"
     ]
    },
    {
     "name": "stderr",
     "output_type": "stream",
     "text": [
      "/ocean/projects/asc170022p/mtragoza/mambaforge/envs/lung-project/lib/python3.10/site-packages/nnunetv2/utilities/plans_handling/plans_handler.py:37: UserWarning: Detected old nnU-Net plans format. Attempting to reconstruct network architecture parameters. If this fails, rerun nnUNetv2_plan_experiment for your dataset. If you use a custom architecture, please downgrade nnU-Net to the version you implemented this or update your implementation + plans.\n",
      "  warnings.warn(\"Detected old nnU-Net plans format. Attempting to reconstruct network architecture \"\n",
      "100%|██████████| 1/1 [00:00<00:00, 93.54it/s]\n"
     ]
    },
    {
     "name": "stdout",
     "output_type": "stream",
     "text": [
      "  Predicted in 7.01s\n",
      "Resampling...\n",
      "  cropping from (256, 256, 94) to (256, 193, 94)\n",
      "Predicting...\n"
     ]
    },
    {
     "name": "stderr",
     "output_type": "stream",
     "text": [
      "100%|██████████| 48/48 [00:02<00:00, 18.28it/s]\n"
     ]
    },
    {
     "name": "stdout",
     "output_type": "stream",
     "text": [
      "  Predicted in 19.94s\n",
      "Saving segmentations...\n",
      "Creating lung_vessels.nii.gz"
     ]
    },
    {
     "data": {
      "application/vnd.jupyter.widget-view+json": {
       "model_id": "27be1edf52fa4c2ba5662b4208c89e03",
       "version_major": 2,
       "version_minor": 0
      },
      "text/plain": [
       "  0%|          | 0/2 [00:00<?, ?it/s]"
      ]
     },
     "metadata": {},
     "output_type": "display_data"
    },
    {
     "name": "stdout",
     "output_type": "stream",
     "text": [
      "\n",
      "Creating lung_trachea_bronchia.nii.gz\n",
      "  Saved in 0.46s\n",
      "\n",
      "If you use this tool please cite: https://pubs.rsna.org/doi/10.1148/ryai.230024\n",
      "\n",
      "Resampling...\n",
      "  Resampled in 1.58s\n",
      "Predicting...\n"
     ]
    },
    {
     "name": "stderr",
     "output_type": "stream",
     "text": [
      "/ocean/projects/asc170022p/mtragoza/mambaforge/envs/lung-project/lib/python3.10/site-packages/nnunetv2/utilities/plans_handling/plans_handler.py:37: UserWarning: Detected old nnU-Net plans format. Attempting to reconstruct network architecture parameters. If this fails, rerun nnUNetv2_plan_experiment for your dataset. If you use a custom architecture, please downgrade nnU-Net to the version you implemented this or update your implementation + plans.\n",
      "  warnings.warn(\"Detected old nnU-Net plans format. Attempting to reconstruct network architecture \"\n",
      "100%|██████████| 8/8 [00:00<00:00, 33.39it/s]\n"
     ]
    },
    {
     "name": "stdout",
     "output_type": "stream",
     "text": [
      "  Predicted in 8.49s\n"
     ]
    },
    {
     "name": "stderr",
     "output_type": "stream",
     "text": [
      "100%|██████████| 1/1 [00:00<00:00, 14.73it/s]\n",
      "100%|██████████| 1/1 [00:00<00:00, 17.53it/s]"
     ]
    },
    {
     "name": "stdout",
     "output_type": "stream",
     "text": [
      "Resampling...\n"
     ]
    },
    {
     "name": "stderr",
     "output_type": "stream",
     "text": [
      "\n"
     ]
    },
    {
     "name": "stdout",
     "output_type": "stream",
     "text": [
      "Saving segmentations...\n",
      "Creating body_trunc.nii.gz\n"
     ]
    },
    {
     "data": {
      "application/vnd.jupyter.widget-view+json": {
       "model_id": "1c3ae44fdeac4ac4b6fd9dcaec352680",
       "version_major": 2,
       "version_minor": 0
      },
      "text/plain": [
       "  0%|          | 0/2 [00:00<?, ?it/s]"
      ]
     },
     "metadata": {},
     "output_type": "display_data"
    },
    {
     "name": "stdout",
     "output_type": "stream",
     "text": [
      "Creating body_extremities.nii.gz\n",
      "  Saved in 158.95s\n",
      "Creating body.nii.gz\n",
      "Creating skin.nii.gz\n",
      "Segmenting Case1Pack phase 10\n",
      "\n",
      "If you use this tool please cite: https://pubs.rsna.org/doi/10.1148/ryai.230024\n",
      "\n",
      "Generating rough body segmentation...\n",
      "Resampling...\n",
      "  Resampled in 0.22s\n",
      "Predicting...\n"
     ]
    },
    {
     "name": "stderr",
     "output_type": "stream",
     "text": [
      "/ocean/projects/asc170022p/mtragoza/mambaforge/envs/lung-project/lib/python3.10/site-packages/nnunetv2/utilities/plans_handling/plans_handler.py:37: UserWarning: Detected old nnU-Net plans format. Attempting to reconstruct network architecture parameters. If this fails, rerun nnUNetv2_plan_experiment for your dataset. If you use a custom architecture, please downgrade nnU-Net to the version you implemented this or update your implementation + plans.\n",
      "  warnings.warn(\"Detected old nnU-Net plans format. Attempting to reconstruct network architecture \"\n",
      "100%|██████████| 1/1 [00:00<00:00, 79.40it/s]\n"
     ]
    },
    {
     "name": "stdout",
     "output_type": "stream",
     "text": [
      "  Predicted in 7.49s\n",
      "Resampling...\n",
      "  cropping from (256, 256, 94) to (256, 193, 94)\n",
      "Resampling...\n",
      "  Resampled in 1.16s\n",
      "Predicting part 1 of 1 ...\n"
     ]
    },
    {
     "name": "stderr",
     "output_type": "stream",
     "text": [
      "100%|██████████| 4/4 [00:00<00:00, 174.47it/s]\n"
     ]
    },
    {
     "name": "stdout",
     "output_type": "stream",
     "text": [
      "  Predicted in 8.70s\n",
      "Resampling...\n",
      "Saving segmentations...\n"
     ]
    },
    {
     "data": {
      "application/vnd.jupyter.widget-view+json": {
       "model_id": "db151f4bc54444e6ae489644c31ec0f5",
       "version_major": 2,
       "version_minor": 0
      },
      "text/plain": [
       "  0%|          | 0/5 [00:00<?, ?it/s]"
      ]
     },
     "metadata": {},
     "output_type": "display_data"
    },
    {
     "name": "stdout",
     "output_type": "stream",
     "text": [
      "  Saved in 0.56s\n",
      "\n",
      "If you use this tool please cite: https://pubs.rsna.org/doi/10.1148/ryai.230024\n",
      "\n",
      "Generating rough body segmentation...\n",
      "Resampling...\n",
      "  Resampled in 0.23s\n",
      "Predicting...\n"
     ]
    },
    {
     "name": "stderr",
     "output_type": "stream",
     "text": [
      "/ocean/projects/asc170022p/mtragoza/mambaforge/envs/lung-project/lib/python3.10/site-packages/nnunetv2/utilities/plans_handling/plans_handler.py:37: UserWarning: Detected old nnU-Net plans format. Attempting to reconstruct network architecture parameters. If this fails, rerun nnUNetv2_plan_experiment for your dataset. If you use a custom architecture, please downgrade nnU-Net to the version you implemented this or update your implementation + plans.\n",
      "  warnings.warn(\"Detected old nnU-Net plans format. Attempting to reconstruct network architecture \"\n",
      "100%|██████████| 1/1 [00:00<00:00, 111.20it/s]\n"
     ]
    },
    {
     "name": "stdout",
     "output_type": "stream",
     "text": [
      "  Predicted in 7.17s\n",
      "Resampling...\n",
      "  cropping from (256, 256, 94) to (256, 193, 94)\n",
      "Predicting...\n"
     ]
    },
    {
     "name": "stderr",
     "output_type": "stream",
     "text": [
      "100%|██████████| 48/48 [00:02<00:00, 18.27it/s]\n"
     ]
    },
    {
     "name": "stdout",
     "output_type": "stream",
     "text": [
      "  Predicted in 19.99s\n",
      "Saving segmentations...\n",
      "Creating lung_vessels.nii.gz\n",
      "\n",
      "Creating lung_trachea_bronchia.nii.gz"
     ]
    },
    {
     "data": {
      "application/vnd.jupyter.widget-view+json": {
       "model_id": "d102865e42e24800a5d0f4ec75fb04ac",
       "version_major": 2,
       "version_minor": 0
      },
      "text/plain": [
       "  0%|          | 0/2 [00:00<?, ?it/s]"
      ]
     },
     "metadata": {},
     "output_type": "display_data"
    },
    {
     "name": "stdout",
     "output_type": "stream",
     "text": [
      "  Saved in 0.50s\n",
      "\n",
      "If you use this tool please cite: https://pubs.rsna.org/doi/10.1148/ryai.230024\n",
      "\n",
      "Resampling...\n",
      "  Resampled in 1.59s\n",
      "Predicting...\n"
     ]
    },
    {
     "name": "stderr",
     "output_type": "stream",
     "text": [
      "/ocean/projects/asc170022p/mtragoza/mambaforge/envs/lung-project/lib/python3.10/site-packages/nnunetv2/utilities/plans_handling/plans_handler.py:37: UserWarning: Detected old nnU-Net plans format. Attempting to reconstruct network architecture parameters. If this fails, rerun nnUNetv2_plan_experiment for your dataset. If you use a custom architecture, please downgrade nnU-Net to the version you implemented this or update your implementation + plans.\n",
      "  warnings.warn(\"Detected old nnU-Net plans format. Attempting to reconstruct network architecture \"\n",
      "100%|██████████| 8/8 [00:00<00:00, 34.53it/s]\n"
     ]
    },
    {
     "name": "stdout",
     "output_type": "stream",
     "text": [
      "  Predicted in 8.57s\n"
     ]
    },
    {
     "name": "stderr",
     "output_type": "stream",
     "text": [
      "100%|██████████| 1/1 [00:00<00:00, 14.60it/s]\n",
      "100%|██████████| 1/1 [00:00<00:00, 18.41it/s]"
     ]
    },
    {
     "name": "stdout",
     "output_type": "stream",
     "text": [
      "Resampling...\n"
     ]
    },
    {
     "name": "stderr",
     "output_type": "stream",
     "text": [
      "\n"
     ]
    },
    {
     "name": "stdout",
     "output_type": "stream",
     "text": [
      "Saving segmentations...\n",
      "Creating body_trunc.nii.gzCreating body_extremities.nii.gz\n",
      "\n"
     ]
    },
    {
     "data": {
      "application/vnd.jupyter.widget-view+json": {
       "model_id": "b846dcca1d0141f4ad8fc5b1b9bfe854",
       "version_major": 2,
       "version_minor": 0
      },
      "text/plain": [
       "  0%|          | 0/2 [00:00<?, ?it/s]"
      ]
     },
     "metadata": {},
     "output_type": "display_data"
    },
    {
     "name": "stdout",
     "output_type": "stream",
     "text": [
      "  Saved in 0.37s\n",
      "Creating body.nii.gz\n",
      "Creating skin.nii.gz\n",
      "Segmenting Case1Pack phase 20\n",
      "\n",
      "If you use this tool please cite: https://pubs.rsna.org/doi/10.1148/ryai.230024\n",
      "\n",
      "Generating rough body segmentation...\n",
      "Resampling...\n",
      "  Resampled in 0.22s\n",
      "Predicting...\n"
     ]
    },
    {
     "name": "stderr",
     "output_type": "stream",
     "text": [
      "/ocean/projects/asc170022p/mtragoza/mambaforge/envs/lung-project/lib/python3.10/site-packages/nnunetv2/utilities/plans_handling/plans_handler.py:37: UserWarning: Detected old nnU-Net plans format. Attempting to reconstruct network architecture parameters. If this fails, rerun nnUNetv2_plan_experiment for your dataset. If you use a custom architecture, please downgrade nnU-Net to the version you implemented this or update your implementation + plans.\n",
      "  warnings.warn(\"Detected old nnU-Net plans format. Attempting to reconstruct network architecture \"\n",
      "100%|██████████| 1/1 [00:00<00:00, 97.34it/s]\n"
     ]
    },
    {
     "name": "stdout",
     "output_type": "stream",
     "text": [
      "  Predicted in 7.14s\n",
      "Resampling...\n",
      "  cropping from (256, 256, 94) to (256, 193, 94)\n",
      "Resampling...\n",
      "  Resampled in 1.16s\n",
      "Predicting part 1 of 1 ...\n"
     ]
    },
    {
     "name": "stderr",
     "output_type": "stream",
     "text": [
      "100%|██████████| 4/4 [00:00<00:00, 171.48it/s]\n"
     ]
    },
    {
     "name": "stdout",
     "output_type": "stream",
     "text": [
      "  Predicted in 8.58s\n",
      "Resampling...\n",
      "Saving segmentations...\n"
     ]
    },
    {
     "data": {
      "application/vnd.jupyter.widget-view+json": {
       "model_id": "1e8970ca1f92416ebdb5b745ba6b4b40",
       "version_major": 2,
       "version_minor": 0
      },
      "text/plain": [
       "  0%|          | 0/5 [00:00<?, ?it/s]"
      ]
     },
     "metadata": {},
     "output_type": "display_data"
    },
    {
     "name": "stdout",
     "output_type": "stream",
     "text": [
      "  Saved in 1.27s\n",
      "\n",
      "If you use this tool please cite: https://pubs.rsna.org/doi/10.1148/ryai.230024\n",
      "\n",
      "Generating rough body segmentation...\n",
      "Resampling...\n",
      "  Resampled in 0.22s\n",
      "Predicting...\n"
     ]
    },
    {
     "name": "stderr",
     "output_type": "stream",
     "text": [
      "/ocean/projects/asc170022p/mtragoza/mambaforge/envs/lung-project/lib/python3.10/site-packages/nnunetv2/utilities/plans_handling/plans_handler.py:37: UserWarning: Detected old nnU-Net plans format. Attempting to reconstruct network architecture parameters. If this fails, rerun nnUNetv2_plan_experiment for your dataset. If you use a custom architecture, please downgrade nnU-Net to the version you implemented this or update your implementation + plans.\n",
      "  warnings.warn(\"Detected old nnU-Net plans format. Attempting to reconstruct network architecture \"\n",
      "100%|██████████| 1/1 [00:00<00:00, 98.19it/s]\n"
     ]
    },
    {
     "name": "stdout",
     "output_type": "stream",
     "text": [
      "  Predicted in 7.16s\n",
      "Resampling...\n",
      "  cropping from (256, 256, 94) to (256, 193, 94)\n",
      "Predicting...\n"
     ]
    },
    {
     "name": "stderr",
     "output_type": "stream",
     "text": [
      "100%|██████████| 48/48 [00:02<00:00, 18.22it/s]\n"
     ]
    },
    {
     "name": "stdout",
     "output_type": "stream",
     "text": [
      "  Predicted in 19.88s\n",
      "Saving segmentations...\n",
      "Creating lung_vessels.nii.gz\n",
      "Creating lung_trachea_bronchia.nii.gz\n"
     ]
    },
    {
     "data": {
      "application/vnd.jupyter.widget-view+json": {
       "model_id": "6890dbc0800f4217a20ad832bef4a58b",
       "version_major": 2,
       "version_minor": 0
      },
      "text/plain": [
       "  0%|          | 0/2 [00:00<?, ?it/s]"
      ]
     },
     "metadata": {},
     "output_type": "display_data"
    },
    {
     "name": "stdout",
     "output_type": "stream",
     "text": [
      "  Saved in 0.45s\n",
      "\n",
      "If you use this tool please cite: https://pubs.rsna.org/doi/10.1148/ryai.230024\n",
      "\n",
      "Resampling...\n",
      "  Resampled in 1.57s\n",
      "Predicting...\n"
     ]
    },
    {
     "name": "stderr",
     "output_type": "stream",
     "text": [
      "/ocean/projects/asc170022p/mtragoza/mambaforge/envs/lung-project/lib/python3.10/site-packages/nnunetv2/utilities/plans_handling/plans_handler.py:37: UserWarning: Detected old nnU-Net plans format. Attempting to reconstruct network architecture parameters. If this fails, rerun nnUNetv2_plan_experiment for your dataset. If you use a custom architecture, please downgrade nnU-Net to the version you implemented this or update your implementation + plans.\n",
      "  warnings.warn(\"Detected old nnU-Net plans format. Attempting to reconstruct network architecture \"\n",
      "100%|██████████| 8/8 [00:00<00:00, 34.37it/s]\n"
     ]
    },
    {
     "name": "stdout",
     "output_type": "stream",
     "text": [
      "  Predicted in 8.45s\n"
     ]
    },
    {
     "name": "stderr",
     "output_type": "stream",
     "text": [
      "100%|██████████| 1/1 [00:00<00:00, 14.09it/s]\n",
      "100%|██████████| 1/1 [00:00<00:00, 17.46it/s]"
     ]
    },
    {
     "name": "stdout",
     "output_type": "stream",
     "text": [
      "Resampling...\n"
     ]
    },
    {
     "name": "stderr",
     "output_type": "stream",
     "text": [
      "\n"
     ]
    },
    {
     "name": "stdout",
     "output_type": "stream",
     "text": [
      "Saving segmentations...\n",
      "Creating body_trunc.nii.gz\n",
      "Creating body_extremities.nii.gz\n"
     ]
    },
    {
     "data": {
      "application/vnd.jupyter.widget-view+json": {
       "model_id": "b2859c22d6f34e0f9cdace6151eca1cd",
       "version_major": 2,
       "version_minor": 0
      },
      "text/plain": [
       "  0%|          | 0/2 [00:00<?, ?it/s]"
      ]
     },
     "metadata": {},
     "output_type": "display_data"
    },
    {
     "name": "stdout",
     "output_type": "stream",
     "text": [
      "  Saved in 0.36s\n",
      "Creating body.nii.gz\n",
      "Creating skin.nii.gz\n",
      "Segmenting Case1Pack phase 30\n",
      "\n",
      "If you use this tool please cite: https://pubs.rsna.org/doi/10.1148/ryai.230024\n",
      "\n",
      "Generating rough body segmentation...\n",
      "Resampling...\n",
      "  Resampled in 0.22s\n",
      "Predicting...\n"
     ]
    },
    {
     "name": "stderr",
     "output_type": "stream",
     "text": [
      "/ocean/projects/asc170022p/mtragoza/mambaforge/envs/lung-project/lib/python3.10/site-packages/nnunetv2/utilities/plans_handling/plans_handler.py:37: UserWarning: Detected old nnU-Net plans format. Attempting to reconstruct network architecture parameters. If this fails, rerun nnUNetv2_plan_experiment for your dataset. If you use a custom architecture, please downgrade nnU-Net to the version you implemented this or update your implementation + plans.\n",
      "  warnings.warn(\"Detected old nnU-Net plans format. Attempting to reconstruct network architecture \"\n",
      "100%|██████████| 1/1 [00:00<00:00, 85.85it/s]\n"
     ]
    },
    {
     "name": "stdout",
     "output_type": "stream",
     "text": [
      "  Predicted in 7.18s\n",
      "Resampling...\n",
      "  cropping from (256, 256, 94) to (256, 193, 94)\n",
      "Resampling...\n",
      "  Resampled in 1.15s\n",
      "Predicting part 1 of 1 ...\n"
     ]
    },
    {
     "name": "stderr",
     "output_type": "stream",
     "text": [
      "100%|██████████| 4/4 [00:00<00:00, 172.03it/s]\n"
     ]
    },
    {
     "name": "stdout",
     "output_type": "stream",
     "text": [
      "  Predicted in 8.36s\n",
      "Resampling...\n",
      "Saving segmentations...\n"
     ]
    },
    {
     "data": {
      "application/vnd.jupyter.widget-view+json": {
       "model_id": "c719efff35654429aa14a56ddeac1719",
       "version_major": 2,
       "version_minor": 0
      },
      "text/plain": [
       "  0%|          | 0/5 [00:00<?, ?it/s]"
      ]
     },
     "metadata": {},
     "output_type": "display_data"
    },
    {
     "name": "stdout",
     "output_type": "stream",
     "text": [
      "  Saved in 0.58s\n",
      "\n",
      "If you use this tool please cite: https://pubs.rsna.org/doi/10.1148/ryai.230024\n",
      "\n",
      "Generating rough body segmentation...\n",
      "Resampling...\n",
      "  Resampled in 0.23s\n",
      "Predicting...\n"
     ]
    },
    {
     "name": "stderr",
     "output_type": "stream",
     "text": [
      "/ocean/projects/asc170022p/mtragoza/mambaforge/envs/lung-project/lib/python3.10/site-packages/nnunetv2/utilities/plans_handling/plans_handler.py:37: UserWarning: Detected old nnU-Net plans format. Attempting to reconstruct network architecture parameters. If this fails, rerun nnUNetv2_plan_experiment for your dataset. If you use a custom architecture, please downgrade nnU-Net to the version you implemented this or update your implementation + plans.\n",
      "  warnings.warn(\"Detected old nnU-Net plans format. Attempting to reconstruct network architecture \"\n",
      "100%|██████████| 1/1 [00:00<00:00, 105.29it/s]\n"
     ]
    },
    {
     "name": "stdout",
     "output_type": "stream",
     "text": [
      "  Predicted in 7.20s\n",
      "Resampling...\n",
      "  cropping from (256, 256, 94) to (256, 193, 94)\n",
      "Predicting...\n"
     ]
    },
    {
     "name": "stderr",
     "output_type": "stream",
     "text": [
      "100%|██████████| 48/48 [00:02<00:00, 18.28it/s]\n"
     ]
    },
    {
     "name": "stdout",
     "output_type": "stream",
     "text": [
      "  Predicted in 19.89s\n",
      "Saving segmentations...\n",
      "Creating lung_vessels.nii.gz\n",
      "Creating lung_trachea_bronchia.nii.gz\n"
     ]
    },
    {
     "data": {
      "application/vnd.jupyter.widget-view+json": {
       "model_id": "b04ac85f133e45c1ab309b2f6e8b61e5",
       "version_major": 2,
       "version_minor": 0
      },
      "text/plain": [
       "  0%|          | 0/2 [00:00<?, ?it/s]"
      ]
     },
     "metadata": {},
     "output_type": "display_data"
    },
    {
     "name": "stdout",
     "output_type": "stream",
     "text": [
      "  Saved in 0.45s\n",
      "\n",
      "If you use this tool please cite: https://pubs.rsna.org/doi/10.1148/ryai.230024\n",
      "\n",
      "Resampling...\n",
      "  Resampled in 1.58s\n",
      "Predicting...\n"
     ]
    },
    {
     "name": "stderr",
     "output_type": "stream",
     "text": [
      "/ocean/projects/asc170022p/mtragoza/mambaforge/envs/lung-project/lib/python3.10/site-packages/nnunetv2/utilities/plans_handling/plans_handler.py:37: UserWarning: Detected old nnU-Net plans format. Attempting to reconstruct network architecture parameters. If this fails, rerun nnUNetv2_plan_experiment for your dataset. If you use a custom architecture, please downgrade nnU-Net to the version you implemented this or update your implementation + plans.\n",
      "  warnings.warn(\"Detected old nnU-Net plans format. Attempting to reconstruct network architecture \"\n",
      "100%|██████████| 8/8 [00:00<00:00, 34.06it/s]\n"
     ]
    },
    {
     "name": "stdout",
     "output_type": "stream",
     "text": [
      "  Predicted in 8.47s\n"
     ]
    },
    {
     "name": "stderr",
     "output_type": "stream",
     "text": [
      "100%|██████████| 1/1 [00:00<00:00, 14.12it/s]\n",
      "100%|██████████| 1/1 [00:00<00:00, 17.30it/s]"
     ]
    },
    {
     "name": "stdout",
     "output_type": "stream",
     "text": [
      "Resampling...\n"
     ]
    },
    {
     "name": "stderr",
     "output_type": "stream",
     "text": [
      "\n"
     ]
    },
    {
     "name": "stdout",
     "output_type": "stream",
     "text": [
      "Saving segmentations...\n",
      "Creating body_trunc.nii.gz\n",
      "Creating body_extremities.nii.gz\n"
     ]
    },
    {
     "data": {
      "application/vnd.jupyter.widget-view+json": {
       "model_id": "1a9851e582ae460eae27a5e19ad0c0c2",
       "version_major": 2,
       "version_minor": 0
      },
      "text/plain": [
       "  0%|          | 0/2 [00:00<?, ?it/s]"
      ]
     },
     "metadata": {},
     "output_type": "display_data"
    },
    {
     "name": "stdout",
     "output_type": "stream",
     "text": [
      "  Saved in 0.38s\n",
      "Creating body.nii.gz\n",
      "Creating skin.nii.gz\n",
      "Segmenting Case1Pack phase 40\n",
      "\n",
      "If you use this tool please cite: https://pubs.rsna.org/doi/10.1148/ryai.230024\n",
      "\n",
      "Generating rough body segmentation...\n",
      "Resampling...\n",
      "  Resampled in 0.22s\n",
      "Predicting...\n"
     ]
    },
    {
     "name": "stderr",
     "output_type": "stream",
     "text": [
      "/ocean/projects/asc170022p/mtragoza/mambaforge/envs/lung-project/lib/python3.10/site-packages/nnunetv2/utilities/plans_handling/plans_handler.py:37: UserWarning: Detected old nnU-Net plans format. Attempting to reconstruct network architecture parameters. If this fails, rerun nnUNetv2_plan_experiment for your dataset. If you use a custom architecture, please downgrade nnU-Net to the version you implemented this or update your implementation + plans.\n",
      "  warnings.warn(\"Detected old nnU-Net plans format. Attempting to reconstruct network architecture \"\n",
      "100%|██████████| 1/1 [00:00<00:00, 78.49it/s]\n"
     ]
    },
    {
     "name": "stdout",
     "output_type": "stream",
     "text": [
      "  Predicted in 7.19s\n",
      "Resampling...\n",
      "  cropping from (256, 256, 94) to (256, 193, 94)\n",
      "Resampling...\n",
      "  Resampled in 1.15s\n",
      "Predicting part 1 of 1 ...\n"
     ]
    },
    {
     "name": "stderr",
     "output_type": "stream",
     "text": [
      "100%|██████████| 4/4 [00:00<00:00, 173.72it/s]\n"
     ]
    },
    {
     "name": "stdout",
     "output_type": "stream",
     "text": [
      "  Predicted in 8.57s\n",
      "Resampling...\n",
      "Saving segmentations...\n"
     ]
    },
    {
     "data": {
      "application/vnd.jupyter.widget-view+json": {
       "model_id": "63b3674d546d479db5e7f375829f436c",
       "version_major": 2,
       "version_minor": 0
      },
      "text/plain": [
       "  0%|          | 0/5 [00:00<?, ?it/s]"
      ]
     },
     "metadata": {},
     "output_type": "display_data"
    },
    {
     "name": "stdout",
     "output_type": "stream",
     "text": [
      "  Saved in 0.55s\n",
      "\n",
      "If you use this tool please cite: https://pubs.rsna.org/doi/10.1148/ryai.230024\n",
      "\n",
      "Generating rough body segmentation...\n",
      "Resampling...\n",
      "  Resampled in 0.22s\n",
      "Predicting...\n"
     ]
    },
    {
     "name": "stderr",
     "output_type": "stream",
     "text": [
      "/ocean/projects/asc170022p/mtragoza/mambaforge/envs/lung-project/lib/python3.10/site-packages/nnunetv2/utilities/plans_handling/plans_handler.py:37: UserWarning: Detected old nnU-Net plans format. Attempting to reconstruct network architecture parameters. If this fails, rerun nnUNetv2_plan_experiment for your dataset. If you use a custom architecture, please downgrade nnU-Net to the version you implemented this or update your implementation + plans.\n",
      "  warnings.warn(\"Detected old nnU-Net plans format. Attempting to reconstruct network architecture \"\n",
      "100%|██████████| 1/1 [00:00<00:00, 82.01it/s]\n"
     ]
    },
    {
     "name": "stdout",
     "output_type": "stream",
     "text": [
      "  Predicted in 7.28s\n",
      "Resampling...\n",
      "  cropping from (256, 256, 94) to (256, 193, 94)\n",
      "Predicting...\n"
     ]
    },
    {
     "name": "stderr",
     "output_type": "stream",
     "text": [
      "100%|██████████| 48/48 [00:02<00:00, 18.25it/s]\n"
     ]
    },
    {
     "name": "stdout",
     "output_type": "stream",
     "text": [
      "  Predicted in 19.90s\n",
      "Saving segmentations...\n",
      "Creating lung_vessels.nii.gz\n",
      "Creating lung_trachea_bronchia.nii.gz\n"
     ]
    },
    {
     "data": {
      "application/vnd.jupyter.widget-view+json": {
       "model_id": "5b33d3a08f2045a8b7fd55e9f411082c",
       "version_major": 2,
       "version_minor": 0
      },
      "text/plain": [
       "  0%|          | 0/2 [00:00<?, ?it/s]"
      ]
     },
     "metadata": {},
     "output_type": "display_data"
    },
    {
     "name": "stdout",
     "output_type": "stream",
     "text": [
      "  Saved in 0.45s\n",
      "\n",
      "If you use this tool please cite: https://pubs.rsna.org/doi/10.1148/ryai.230024\n",
      "\n",
      "Resampling...\n",
      "  Resampled in 1.58s\n",
      "Predicting...\n"
     ]
    },
    {
     "name": "stderr",
     "output_type": "stream",
     "text": [
      "/ocean/projects/asc170022p/mtragoza/mambaforge/envs/lung-project/lib/python3.10/site-packages/nnunetv2/utilities/plans_handling/plans_handler.py:37: UserWarning: Detected old nnU-Net plans format. Attempting to reconstruct network architecture parameters. If this fails, rerun nnUNetv2_plan_experiment for your dataset. If you use a custom architecture, please downgrade nnU-Net to the version you implemented this or update your implementation + plans.\n",
      "  warnings.warn(\"Detected old nnU-Net plans format. Attempting to reconstruct network architecture \"\n",
      "100%|██████████| 8/8 [00:00<00:00, 34.35it/s]\n"
     ]
    },
    {
     "name": "stdout",
     "output_type": "stream",
     "text": [
      "  Predicted in 8.55s\n"
     ]
    },
    {
     "name": "stderr",
     "output_type": "stream",
     "text": [
      "100%|██████████| 1/1 [00:00<00:00, 14.31it/s]\n",
      "100%|██████████| 1/1 [00:00<00:00, 17.14it/s]"
     ]
    },
    {
     "name": "stdout",
     "output_type": "stream",
     "text": [
      "Resampling...\n"
     ]
    },
    {
     "name": "stderr",
     "output_type": "stream",
     "text": [
      "\n"
     ]
    },
    {
     "name": "stdout",
     "output_type": "stream",
     "text": [
      "Saving segmentations...\n",
      "Creating body_trunc.nii.gz\n",
      "\n",
      "Creating body_extremities.nii.gz"
     ]
    },
    {
     "data": {
      "application/vnd.jupyter.widget-view+json": {
       "model_id": "b0a73eb98c6d41ec9dbda01145c0104e",
       "version_major": 2,
       "version_minor": 0
      },
      "text/plain": [
       "  0%|          | 0/2 [00:00<?, ?it/s]"
      ]
     },
     "metadata": {},
     "output_type": "display_data"
    },
    {
     "name": "stdout",
     "output_type": "stream",
     "text": [
      "  Saved in 0.32s\n",
      "Creating body.nii.gz\n",
      "Creating skin.nii.gz\n",
      "Segmenting Case1Pack phase 50\n",
      "\n",
      "If you use this tool please cite: https://pubs.rsna.org/doi/10.1148/ryai.230024\n",
      "\n",
      "Generating rough body segmentation...\n",
      "Resampling...\n",
      "  Resampled in 0.22s\n",
      "Predicting...\n"
     ]
    },
    {
     "name": "stderr",
     "output_type": "stream",
     "text": [
      "/ocean/projects/asc170022p/mtragoza/mambaforge/envs/lung-project/lib/python3.10/site-packages/nnunetv2/utilities/plans_handling/plans_handler.py:37: UserWarning: Detected old nnU-Net plans format. Attempting to reconstruct network architecture parameters. If this fails, rerun nnUNetv2_plan_experiment for your dataset. If you use a custom architecture, please downgrade nnU-Net to the version you implemented this or update your implementation + plans.\n",
      "  warnings.warn(\"Detected old nnU-Net plans format. Attempting to reconstruct network architecture \"\n",
      "100%|██████████| 1/1 [00:00<00:00, 96.64it/s]\n"
     ]
    },
    {
     "name": "stdout",
     "output_type": "stream",
     "text": [
      "  Predicted in 7.19s\n",
      "Resampling...\n",
      "  cropping from (256, 256, 94) to (256, 193, 94)\n",
      "Resampling...\n",
      "  Resampled in 1.16s\n",
      "Predicting part 1 of 1 ...\n"
     ]
    },
    {
     "name": "stderr",
     "output_type": "stream",
     "text": [
      "100%|██████████| 4/4 [00:00<00:00, 171.01it/s]\n"
     ]
    },
    {
     "name": "stdout",
     "output_type": "stream",
     "text": [
      "  Predicted in 8.74s\n",
      "Resampling...\n",
      "Saving segmentations...\n"
     ]
    },
    {
     "data": {
      "application/vnd.jupyter.widget-view+json": {
       "model_id": "69900ade80c346b1b1b5dddaa00be33a",
       "version_major": 2,
       "version_minor": 0
      },
      "text/plain": [
       "  0%|          | 0/5 [00:00<?, ?it/s]"
      ]
     },
     "metadata": {},
     "output_type": "display_data"
    },
    {
     "name": "stdout",
     "output_type": "stream",
     "text": [
      "  Saved in 0.65s\n",
      "\n",
      "If you use this tool please cite: https://pubs.rsna.org/doi/10.1148/ryai.230024\n",
      "\n",
      "Generating rough body segmentation...\n",
      "Resampling...\n",
      "  Resampled in 0.22s\n",
      "Predicting...\n"
     ]
    },
    {
     "name": "stderr",
     "output_type": "stream",
     "text": [
      "/ocean/projects/asc170022p/mtragoza/mambaforge/envs/lung-project/lib/python3.10/site-packages/nnunetv2/utilities/plans_handling/plans_handler.py:37: UserWarning: Detected old nnU-Net plans format. Attempting to reconstruct network architecture parameters. If this fails, rerun nnUNetv2_plan_experiment for your dataset. If you use a custom architecture, please downgrade nnU-Net to the version you implemented this or update your implementation + plans.\n",
      "  warnings.warn(\"Detected old nnU-Net plans format. Attempting to reconstruct network architecture \"\n",
      "100%|██████████| 1/1 [00:00<00:00, 83.63it/s]\n"
     ]
    },
    {
     "name": "stdout",
     "output_type": "stream",
     "text": [
      "  Predicted in 7.37s\n",
      "Resampling...\n",
      "  cropping from (256, 256, 94) to (256, 193, 94)\n",
      "Predicting...\n"
     ]
    },
    {
     "name": "stderr",
     "output_type": "stream",
     "text": [
      "100%|██████████| 48/48 [00:02<00:00, 18.26it/s]\n"
     ]
    },
    {
     "name": "stdout",
     "output_type": "stream",
     "text": [
      "  Predicted in 19.88s\n",
      "Saving segmentations...\n",
      "Creating lung_vessels.nii.gz\n"
     ]
    },
    {
     "data": {
      "application/vnd.jupyter.widget-view+json": {
       "model_id": "c49343d90b324e6c8388acd954ae0db2",
       "version_major": 2,
       "version_minor": 0
      },
      "text/plain": [
       "  0%|          | 0/2 [00:00<?, ?it/s]"
      ]
     },
     "metadata": {},
     "output_type": "display_data"
    },
    {
     "name": "stdout",
     "output_type": "stream",
     "text": [
      "Creating lung_trachea_bronchia.nii.gz\n",
      "  Saved in 0.46s\n",
      "\n",
      "If you use this tool please cite: https://pubs.rsna.org/doi/10.1148/ryai.230024\n",
      "\n",
      "Resampling...\n",
      "  Resampled in 1.57s\n",
      "Predicting...\n"
     ]
    },
    {
     "name": "stderr",
     "output_type": "stream",
     "text": [
      "/ocean/projects/asc170022p/mtragoza/mambaforge/envs/lung-project/lib/python3.10/site-packages/nnunetv2/utilities/plans_handling/plans_handler.py:37: UserWarning: Detected old nnU-Net plans format. Attempting to reconstruct network architecture parameters. If this fails, rerun nnUNetv2_plan_experiment for your dataset. If you use a custom architecture, please downgrade nnU-Net to the version you implemented this or update your implementation + plans.\n",
      "  warnings.warn(\"Detected old nnU-Net plans format. Attempting to reconstruct network architecture \"\n",
      "100%|██████████| 8/8 [00:00<00:00, 33.77it/s]\n"
     ]
    },
    {
     "name": "stdout",
     "output_type": "stream",
     "text": [
      "  Predicted in 8.52s\n"
     ]
    },
    {
     "name": "stderr",
     "output_type": "stream",
     "text": [
      "100%|██████████| 1/1 [00:00<00:00, 14.39it/s]\n",
      "100%|██████████| 1/1 [00:00<00:00, 17.71it/s]"
     ]
    },
    {
     "name": "stdout",
     "output_type": "stream",
     "text": [
      "Resampling...\n"
     ]
    },
    {
     "name": "stderr",
     "output_type": "stream",
     "text": [
      "\n"
     ]
    },
    {
     "name": "stdout",
     "output_type": "stream",
     "text": [
      "Saving segmentations...\n",
      "Creating body_trunc.nii.gz\n",
      "Creating body_extremities.nii.gz\n"
     ]
    },
    {
     "data": {
      "application/vnd.jupyter.widget-view+json": {
       "model_id": "bf15f89bd9e843f9a5c7605f02311924",
       "version_major": 2,
       "version_minor": 0
      },
      "text/plain": [
       "  0%|          | 0/2 [00:00<?, ?it/s]"
      ]
     },
     "metadata": {},
     "output_type": "display_data"
    },
    {
     "name": "stdout",
     "output_type": "stream",
     "text": [
      "  Saved in 0.34s\n",
      "Creating body.nii.gz\n",
      "Creating skin.nii.gz\n",
      "Segmenting Case1Pack phase 60\n",
      "\n",
      "If you use this tool please cite: https://pubs.rsna.org/doi/10.1148/ryai.230024\n",
      "\n",
      "Generating rough body segmentation...\n",
      "Resampling...\n",
      "  Resampled in 0.22s\n",
      "Predicting...\n"
     ]
    },
    {
     "name": "stderr",
     "output_type": "stream",
     "text": [
      "/ocean/projects/asc170022p/mtragoza/mambaforge/envs/lung-project/lib/python3.10/site-packages/nnunetv2/utilities/plans_handling/plans_handler.py:37: UserWarning: Detected old nnU-Net plans format. Attempting to reconstruct network architecture parameters. If this fails, rerun nnUNetv2_plan_experiment for your dataset. If you use a custom architecture, please downgrade nnU-Net to the version you implemented this or update your implementation + plans.\n",
      "  warnings.warn(\"Detected old nnU-Net plans format. Attempting to reconstruct network architecture \"\n",
      "100%|██████████| 1/1 [00:00<00:00, 86.48it/s]\n"
     ]
    },
    {
     "name": "stdout",
     "output_type": "stream",
     "text": [
      "  Predicted in 7.20s\n",
      "Resampling...\n",
      "  cropping from (256, 256, 94) to (256, 193, 94)\n",
      "Resampling...\n",
      "  Resampled in 1.16s\n",
      "Predicting part 1 of 1 ...\n"
     ]
    },
    {
     "name": "stderr",
     "output_type": "stream",
     "text": [
      "100%|██████████| 4/4 [00:00<00:00, 169.84it/s]\n"
     ]
    },
    {
     "name": "stdout",
     "output_type": "stream",
     "text": [
      "  Predicted in 8.49s\n",
      "Resampling...\n",
      "Saving segmentations...\n"
     ]
    },
    {
     "data": {
      "application/vnd.jupyter.widget-view+json": {
       "model_id": "ed6e694eb4da403f8262847e8b6acf4c",
       "version_major": 2,
       "version_minor": 0
      },
      "text/plain": [
       "  0%|          | 0/5 [00:00<?, ?it/s]"
      ]
     },
     "metadata": {},
     "output_type": "display_data"
    },
    {
     "name": "stdout",
     "output_type": "stream",
     "text": [
      "  Saved in 0.54s\n",
      "\n",
      "If you use this tool please cite: https://pubs.rsna.org/doi/10.1148/ryai.230024\n",
      "\n",
      "Generating rough body segmentation...\n",
      "Resampling...\n",
      "  Resampled in 0.22s\n",
      "Predicting...\n"
     ]
    },
    {
     "name": "stderr",
     "output_type": "stream",
     "text": [
      "/ocean/projects/asc170022p/mtragoza/mambaforge/envs/lung-project/lib/python3.10/site-packages/nnunetv2/utilities/plans_handling/plans_handler.py:37: UserWarning: Detected old nnU-Net plans format. Attempting to reconstruct network architecture parameters. If this fails, rerun nnUNetv2_plan_experiment for your dataset. If you use a custom architecture, please downgrade nnU-Net to the version you implemented this or update your implementation + plans.\n",
      "  warnings.warn(\"Detected old nnU-Net plans format. Attempting to reconstruct network architecture \"\n",
      "100%|██████████| 1/1 [00:00<00:00, 85.50it/s]\n"
     ]
    },
    {
     "name": "stdout",
     "output_type": "stream",
     "text": [
      "  Predicted in 7.08s\n",
      "Resampling...\n",
      "  cropping from (256, 256, 94) to (256, 193, 94)\n",
      "Predicting...\n"
     ]
    },
    {
     "name": "stderr",
     "output_type": "stream",
     "text": [
      "100%|██████████| 48/48 [00:02<00:00, 18.24it/s]\n"
     ]
    },
    {
     "name": "stdout",
     "output_type": "stream",
     "text": [
      "  Predicted in 19.96s\n",
      "Saving segmentations...\n",
      "Creating lung_vessels.nii.gz\n",
      "Creating lung_trachea_bronchia.nii.gz\n"
     ]
    },
    {
     "data": {
      "application/vnd.jupyter.widget-view+json": {
       "model_id": "0425ff0565c44917938aa0f02f7afd12",
       "version_major": 2,
       "version_minor": 0
      },
      "text/plain": [
       "  0%|          | 0/2 [00:00<?, ?it/s]"
      ]
     },
     "metadata": {},
     "output_type": "display_data"
    },
    {
     "name": "stdout",
     "output_type": "stream",
     "text": [
      "  Saved in 0.50s\n",
      "\n",
      "If you use this tool please cite: https://pubs.rsna.org/doi/10.1148/ryai.230024\n",
      "\n",
      "Resampling...\n",
      "  Resampled in 1.57s\n",
      "Predicting...\n"
     ]
    },
    {
     "name": "stderr",
     "output_type": "stream",
     "text": [
      "/ocean/projects/asc170022p/mtragoza/mambaforge/envs/lung-project/lib/python3.10/site-packages/nnunetv2/utilities/plans_handling/plans_handler.py:37: UserWarning: Detected old nnU-Net plans format. Attempting to reconstruct network architecture parameters. If this fails, rerun nnUNetv2_plan_experiment for your dataset. If you use a custom architecture, please downgrade nnU-Net to the version you implemented this or update your implementation + plans.\n",
      "  warnings.warn(\"Detected old nnU-Net plans format. Attempting to reconstruct network architecture \"\n",
      "100%|██████████| 8/8 [00:00<00:00, 33.97it/s]\n"
     ]
    },
    {
     "name": "stdout",
     "output_type": "stream",
     "text": [
      "  Predicted in 8.49s\n"
     ]
    },
    {
     "name": "stderr",
     "output_type": "stream",
     "text": [
      "100%|██████████| 1/1 [00:00<00:00, 14.38it/s]\n",
      "100%|██████████| 1/1 [00:00<00:00, 17.52it/s]"
     ]
    },
    {
     "name": "stdout",
     "output_type": "stream",
     "text": [
      "Resampling...\n"
     ]
    },
    {
     "name": "stderr",
     "output_type": "stream",
     "text": [
      "\n"
     ]
    },
    {
     "name": "stdout",
     "output_type": "stream",
     "text": [
      "Saving segmentations...\n",
      "Creating body_trunc.nii.gz\n",
      "Creating body_extremities.nii.gz\n"
     ]
    },
    {
     "data": {
      "application/vnd.jupyter.widget-view+json": {
       "model_id": "11f10cfb692649f4b2a1901669c25890",
       "version_major": 2,
       "version_minor": 0
      },
      "text/plain": [
       "  0%|          | 0/2 [00:00<?, ?it/s]"
      ]
     },
     "metadata": {},
     "output_type": "display_data"
    },
    {
     "name": "stdout",
     "output_type": "stream",
     "text": [
      "  Saved in 0.48s\n",
      "Creating body.nii.gz\n",
      "Creating skin.nii.gz\n",
      "Segmenting Case1Pack phase 70\n",
      "\n",
      "If you use this tool please cite: https://pubs.rsna.org/doi/10.1148/ryai.230024\n",
      "\n",
      "Generating rough body segmentation...\n",
      "Resampling...\n",
      "  Resampled in 0.22s\n",
      "Predicting...\n"
     ]
    },
    {
     "name": "stderr",
     "output_type": "stream",
     "text": [
      "/ocean/projects/asc170022p/mtragoza/mambaforge/envs/lung-project/lib/python3.10/site-packages/nnunetv2/utilities/plans_handling/plans_handler.py:37: UserWarning: Detected old nnU-Net plans format. Attempting to reconstruct network architecture parameters. If this fails, rerun nnUNetv2_plan_experiment for your dataset. If you use a custom architecture, please downgrade nnU-Net to the version you implemented this or update your implementation + plans.\n",
      "  warnings.warn(\"Detected old nnU-Net plans format. Attempting to reconstruct network architecture \"\n",
      "100%|██████████| 1/1 [00:00<00:00, 95.49it/s]\n"
     ]
    },
    {
     "name": "stdout",
     "output_type": "stream",
     "text": [
      "  Predicted in 7.10s\n",
      "Resampling...\n",
      "  cropping from (256, 256, 94) to (256, 193, 94)\n",
      "Resampling...\n",
      "  Resampled in 1.15s\n",
      "Predicting part 1 of 1 ...\n"
     ]
    },
    {
     "name": "stderr",
     "output_type": "stream",
     "text": [
      "100%|██████████| 4/4 [00:00<00:00, 171.18it/s]\n"
     ]
    },
    {
     "name": "stdout",
     "output_type": "stream",
     "text": [
      "  Predicted in 8.68s\n",
      "Resampling...\n",
      "Saving segmentations...\n"
     ]
    },
    {
     "data": {
      "application/vnd.jupyter.widget-view+json": {
       "model_id": "c0e4cdfd2d35469c8e4e2604ad2938ff",
       "version_major": 2,
       "version_minor": 0
      },
      "text/plain": [
       "  0%|          | 0/5 [00:00<?, ?it/s]"
      ]
     },
     "metadata": {},
     "output_type": "display_data"
    },
    {
     "name": "stdout",
     "output_type": "stream",
     "text": [
      "  Saved in 0.55s\n",
      "\n",
      "If you use this tool please cite: https://pubs.rsna.org/doi/10.1148/ryai.230024\n",
      "\n",
      "Generating rough body segmentation...\n",
      "Resampling...\n",
      "  Resampled in 0.22s\n",
      "Predicting...\n"
     ]
    },
    {
     "name": "stderr",
     "output_type": "stream",
     "text": [
      "/ocean/projects/asc170022p/mtragoza/mambaforge/envs/lung-project/lib/python3.10/site-packages/nnunetv2/utilities/plans_handling/plans_handler.py:37: UserWarning: Detected old nnU-Net plans format. Attempting to reconstruct network architecture parameters. If this fails, rerun nnUNetv2_plan_experiment for your dataset. If you use a custom architecture, please downgrade nnU-Net to the version you implemented this or update your implementation + plans.\n",
      "  warnings.warn(\"Detected old nnU-Net plans format. Attempting to reconstruct network architecture \"\n",
      "100%|██████████| 1/1 [00:00<00:00, 93.14it/s]\n"
     ]
    },
    {
     "name": "stdout",
     "output_type": "stream",
     "text": [
      "  Predicted in 7.09s\n",
      "Resampling...\n",
      "  cropping from (256, 256, 94) to (256, 193, 94)\n",
      "Predicting...\n"
     ]
    },
    {
     "name": "stderr",
     "output_type": "stream",
     "text": [
      "100%|██████████| 48/48 [00:02<00:00, 18.23it/s]\n"
     ]
    },
    {
     "name": "stdout",
     "output_type": "stream",
     "text": [
      "  Predicted in 19.90s\n",
      "Saving segmentations...\n",
      "Creating lung_vessels.nii.gz\n",
      "Creating lung_trachea_bronchia.nii.gz\n"
     ]
    },
    {
     "data": {
      "application/vnd.jupyter.widget-view+json": {
       "model_id": "b71a1cdd6fc545c3b1eb4bec04a26252",
       "version_major": 2,
       "version_minor": 0
      },
      "text/plain": [
       "  0%|          | 0/2 [00:00<?, ?it/s]"
      ]
     },
     "metadata": {},
     "output_type": "display_data"
    },
    {
     "name": "stdout",
     "output_type": "stream",
     "text": [
      "  Saved in 0.47s\n",
      "\n",
      "If you use this tool please cite: https://pubs.rsna.org/doi/10.1148/ryai.230024\n",
      "\n",
      "Resampling...\n",
      "  Resampled in 1.57s\n",
      "Predicting...\n"
     ]
    },
    {
     "name": "stderr",
     "output_type": "stream",
     "text": [
      "/ocean/projects/asc170022p/mtragoza/mambaforge/envs/lung-project/lib/python3.10/site-packages/nnunetv2/utilities/plans_handling/plans_handler.py:37: UserWarning: Detected old nnU-Net plans format. Attempting to reconstruct network architecture parameters. If this fails, rerun nnUNetv2_plan_experiment for your dataset. If you use a custom architecture, please downgrade nnU-Net to the version you implemented this or update your implementation + plans.\n",
      "  warnings.warn(\"Detected old nnU-Net plans format. Attempting to reconstruct network architecture \"\n",
      "100%|██████████| 8/8 [00:00<00:00, 34.26it/s]\n"
     ]
    },
    {
     "name": "stdout",
     "output_type": "stream",
     "text": [
      "  Predicted in 8.65s\n"
     ]
    },
    {
     "name": "stderr",
     "output_type": "stream",
     "text": [
      "100%|██████████| 1/1 [00:00<00:00, 14.56it/s]\n",
      "100%|██████████| 1/1 [00:00<00:00, 17.61it/s]"
     ]
    },
    {
     "name": "stdout",
     "output_type": "stream",
     "text": [
      "Resampling...\n"
     ]
    },
    {
     "name": "stderr",
     "output_type": "stream",
     "text": [
      "\n"
     ]
    },
    {
     "name": "stdout",
     "output_type": "stream",
     "text": [
      "Saving segmentations...\n",
      "Creating body_trunc.nii.gz\n",
      "Creating body_extremities.nii.gz\n"
     ]
    },
    {
     "data": {
      "application/vnd.jupyter.widget-view+json": {
       "model_id": "1a8d47feeee141c6ba5d9b7123d58a56",
       "version_major": 2,
       "version_minor": 0
      },
      "text/plain": [
       "  0%|          | 0/2 [00:00<?, ?it/s]"
      ]
     },
     "metadata": {},
     "output_type": "display_data"
    },
    {
     "name": "stdout",
     "output_type": "stream",
     "text": [
      "  Saved in 0.33s\n",
      "Creating body.nii.gz\n",
      "Creating skin.nii.gz\n",
      "Segmenting Case1Pack phase 80\n",
      "\n",
      "If you use this tool please cite: https://pubs.rsna.org/doi/10.1148/ryai.230024\n",
      "\n",
      "Generating rough body segmentation...\n",
      "Resampling...\n",
      "  Resampled in 0.22s\n",
      "Predicting...\n"
     ]
    },
    {
     "name": "stderr",
     "output_type": "stream",
     "text": [
      "/ocean/projects/asc170022p/mtragoza/mambaforge/envs/lung-project/lib/python3.10/site-packages/nnunetv2/utilities/plans_handling/plans_handler.py:37: UserWarning: Detected old nnU-Net plans format. Attempting to reconstruct network architecture parameters. If this fails, rerun nnUNetv2_plan_experiment for your dataset. If you use a custom architecture, please downgrade nnU-Net to the version you implemented this or update your implementation + plans.\n",
      "  warnings.warn(\"Detected old nnU-Net plans format. Attempting to reconstruct network architecture \"\n",
      "100%|██████████| 1/1 [00:00<00:00, 102.73it/s]\n"
     ]
    },
    {
     "name": "stdout",
     "output_type": "stream",
     "text": [
      "  Predicted in 7.23s\n",
      "Resampling...\n",
      "  cropping from (256, 256, 94) to (256, 193, 94)\n",
      "Resampling...\n",
      "  Resampled in 1.16s\n",
      "Predicting part 1 of 1 ...\n"
     ]
    },
    {
     "name": "stderr",
     "output_type": "stream",
     "text": [
      "100%|██████████| 4/4 [00:00<00:00, 169.63it/s]\n"
     ]
    },
    {
     "name": "stdout",
     "output_type": "stream",
     "text": [
      "  Predicted in 8.53s\n",
      "Resampling...\n",
      "Saving segmentations...\n"
     ]
    },
    {
     "data": {
      "application/vnd.jupyter.widget-view+json": {
       "model_id": "f7a57cf5d00d40a3ab1de6de8a8eadc7",
       "version_major": 2,
       "version_minor": 0
      },
      "text/plain": [
       "  0%|          | 0/5 [00:00<?, ?it/s]"
      ]
     },
     "metadata": {},
     "output_type": "display_data"
    },
    {
     "name": "stdout",
     "output_type": "stream",
     "text": [
      "  Saved in 0.58s\n",
      "\n",
      "If you use this tool please cite: https://pubs.rsna.org/doi/10.1148/ryai.230024\n",
      "\n",
      "Generating rough body segmentation...\n",
      "Resampling...\n",
      "  Resampled in 0.22s\n",
      "Predicting...\n"
     ]
    },
    {
     "name": "stderr",
     "output_type": "stream",
     "text": [
      "/ocean/projects/asc170022p/mtragoza/mambaforge/envs/lung-project/lib/python3.10/site-packages/nnunetv2/utilities/plans_handling/plans_handler.py:37: UserWarning: Detected old nnU-Net plans format. Attempting to reconstruct network architecture parameters. If this fails, rerun nnUNetv2_plan_experiment for your dataset. If you use a custom architecture, please downgrade nnU-Net to the version you implemented this or update your implementation + plans.\n",
      "  warnings.warn(\"Detected old nnU-Net plans format. Attempting to reconstruct network architecture \"\n",
      "100%|██████████| 1/1 [00:00<00:00, 109.10it/s]\n"
     ]
    },
    {
     "name": "stdout",
     "output_type": "stream",
     "text": [
      "  Predicted in 7.25s\n",
      "Resampling...\n",
      "  cropping from (256, 256, 94) to (256, 193, 94)\n",
      "Predicting...\n"
     ]
    },
    {
     "name": "stderr",
     "output_type": "stream",
     "text": [
      "100%|██████████| 48/48 [00:02<00:00, 18.27it/s]\n"
     ]
    },
    {
     "name": "stdout",
     "output_type": "stream",
     "text": [
      "  Predicted in 19.93s\n",
      "Saving segmentations...\n",
      "Creating lung_vessels.nii.gz"
     ]
    },
    {
     "data": {
      "application/vnd.jupyter.widget-view+json": {
       "model_id": "97a0959841014a4abc0d6ad6b7a2519c",
       "version_major": 2,
       "version_minor": 0
      },
      "text/plain": [
       "  0%|          | 0/2 [00:00<?, ?it/s]"
      ]
     },
     "metadata": {},
     "output_type": "display_data"
    },
    {
     "name": "stdout",
     "output_type": "stream",
     "text": [
      "\n",
      "Creating lung_trachea_bronchia.nii.gz\n",
      "  Saved in 0.51s\n",
      "\n",
      "If you use this tool please cite: https://pubs.rsna.org/doi/10.1148/ryai.230024\n",
      "\n",
      "Resampling...\n",
      "  Resampled in 1.57s\n",
      "Predicting...\n"
     ]
    },
    {
     "name": "stderr",
     "output_type": "stream",
     "text": [
      "/ocean/projects/asc170022p/mtragoza/mambaforge/envs/lung-project/lib/python3.10/site-packages/nnunetv2/utilities/plans_handling/plans_handler.py:37: UserWarning: Detected old nnU-Net plans format. Attempting to reconstruct network architecture parameters. If this fails, rerun nnUNetv2_plan_experiment for your dataset. If you use a custom architecture, please downgrade nnU-Net to the version you implemented this or update your implementation + plans.\n",
      "  warnings.warn(\"Detected old nnU-Net plans format. Attempting to reconstruct network architecture \"\n",
      "100%|██████████| 8/8 [00:00<00:00, 33.91it/s]\n"
     ]
    },
    {
     "name": "stdout",
     "output_type": "stream",
     "text": [
      "  Predicted in 8.65s\n"
     ]
    },
    {
     "name": "stderr",
     "output_type": "stream",
     "text": [
      "100%|██████████| 1/1 [00:00<00:00, 14.53it/s]\n",
      "100%|██████████| 1/1 [00:00<00:00, 17.66it/s]"
     ]
    },
    {
     "name": "stdout",
     "output_type": "stream",
     "text": [
      "Resampling...\n"
     ]
    },
    {
     "name": "stderr",
     "output_type": "stream",
     "text": [
      "\n"
     ]
    },
    {
     "name": "stdout",
     "output_type": "stream",
     "text": [
      "Saving segmentations...\n",
      "Creating body_trunc.nii.gz\n",
      "Creating body_extremities.nii.gz"
     ]
    },
    {
     "data": {
      "application/vnd.jupyter.widget-view+json": {
       "model_id": "23d8d3b9ae4d420ea7096d9ba17f533d",
       "version_major": 2,
       "version_minor": 0
      },
      "text/plain": [
       "  0%|          | 0/2 [00:00<?, ?it/s]"
      ]
     },
     "metadata": {},
     "output_type": "display_data"
    },
    {
     "name": "stdout",
     "output_type": "stream",
     "text": [
      "\n",
      "  Saved in 0.32s\n",
      "Creating body.nii.gz\n",
      "Creating skin.nii.gz\n",
      "Segmenting Case1Pack phase 90\n",
      "\n",
      "If you use this tool please cite: https://pubs.rsna.org/doi/10.1148/ryai.230024\n",
      "\n",
      "Generating rough body segmentation...\n",
      "Resampling...\n",
      "  Resampled in 0.22s\n",
      "Predicting...\n"
     ]
    },
    {
     "name": "stderr",
     "output_type": "stream",
     "text": [
      "/ocean/projects/asc170022p/mtragoza/mambaforge/envs/lung-project/lib/python3.10/site-packages/nnunetv2/utilities/plans_handling/plans_handler.py:37: UserWarning: Detected old nnU-Net plans format. Attempting to reconstruct network architecture parameters. If this fails, rerun nnUNetv2_plan_experiment for your dataset. If you use a custom architecture, please downgrade nnU-Net to the version you implemented this or update your implementation + plans.\n",
      "  warnings.warn(\"Detected old nnU-Net plans format. Attempting to reconstruct network architecture \"\n",
      "100%|██████████| 1/1 [00:00<00:00, 106.30it/s]\n"
     ]
    },
    {
     "name": "stdout",
     "output_type": "stream",
     "text": [
      "  Predicted in 7.17s\n",
      "Resampling...\n",
      "  cropping from (256, 256, 94) to (256, 193, 94)\n",
      "Resampling...\n",
      "  Resampled in 1.15s\n",
      "Predicting part 1 of 1 ...\n"
     ]
    },
    {
     "name": "stderr",
     "output_type": "stream",
     "text": [
      "100%|██████████| 4/4 [00:00<00:00, 171.04it/s]\n"
     ]
    },
    {
     "name": "stdout",
     "output_type": "stream",
     "text": [
      "  Predicted in 8.68s\n",
      "Resampling...\n",
      "Saving segmentations...\n"
     ]
    },
    {
     "data": {
      "application/vnd.jupyter.widget-view+json": {
       "model_id": "f62fe1818d5d4ab496883d072adcf21d",
       "version_major": 2,
       "version_minor": 0
      },
      "text/plain": [
       "  0%|          | 0/5 [00:00<?, ?it/s]"
      ]
     },
     "metadata": {},
     "output_type": "display_data"
    },
    {
     "name": "stdout",
     "output_type": "stream",
     "text": [
      "  Saved in 0.56s\n",
      "\n",
      "If you use this tool please cite: https://pubs.rsna.org/doi/10.1148/ryai.230024\n",
      "\n",
      "Generating rough body segmentation...\n",
      "Resampling...\n",
      "  Resampled in 0.22s\n",
      "Predicting...\n"
     ]
    },
    {
     "name": "stderr",
     "output_type": "stream",
     "text": [
      "/ocean/projects/asc170022p/mtragoza/mambaforge/envs/lung-project/lib/python3.10/site-packages/nnunetv2/utilities/plans_handling/plans_handler.py:37: UserWarning: Detected old nnU-Net plans format. Attempting to reconstruct network architecture parameters. If this fails, rerun nnUNetv2_plan_experiment for your dataset. If you use a custom architecture, please downgrade nnU-Net to the version you implemented this or update your implementation + plans.\n",
      "  warnings.warn(\"Detected old nnU-Net plans format. Attempting to reconstruct network architecture \"\n",
      "100%|██████████| 1/1 [00:00<00:00, 107.13it/s]\n"
     ]
    },
    {
     "name": "stdout",
     "output_type": "stream",
     "text": [
      "  Predicted in 7.11s\n",
      "Resampling...\n",
      "  cropping from (256, 256, 94) to (256, 193, 94)\n",
      "Predicting...\n"
     ]
    },
    {
     "name": "stderr",
     "output_type": "stream",
     "text": [
      "100%|██████████| 48/48 [00:02<00:00, 18.24it/s]\n"
     ]
    },
    {
     "name": "stdout",
     "output_type": "stream",
     "text": [
      "  Predicted in 20.01s\n",
      "Saving segmentations...\n"
     ]
    },
    {
     "data": {
      "application/vnd.jupyter.widget-view+json": {
       "model_id": "6e75f3df51c2459e8b88f529e37e7ed0",
       "version_major": 2,
       "version_minor": 0
      },
      "text/plain": [
       "  0%|          | 0/2 [00:00<?, ?it/s]"
      ]
     },
     "metadata": {},
     "output_type": "display_data"
    },
    {
     "name": "stdout",
     "output_type": "stream",
     "text": [
      "Creating lung_vessels.nii.gzCreating lung_trachea_bronchia.nii.gz\n",
      "\n",
      "  Saved in 0.55s\n",
      "\n",
      "If you use this tool please cite: https://pubs.rsna.org/doi/10.1148/ryai.230024\n",
      "\n",
      "Resampling...\n",
      "  Resampled in 1.58s\n",
      "Predicting...\n"
     ]
    },
    {
     "name": "stderr",
     "output_type": "stream",
     "text": [
      "/ocean/projects/asc170022p/mtragoza/mambaforge/envs/lung-project/lib/python3.10/site-packages/nnunetv2/utilities/plans_handling/plans_handler.py:37: UserWarning: Detected old nnU-Net plans format. Attempting to reconstruct network architecture parameters. If this fails, rerun nnUNetv2_plan_experiment for your dataset. If you use a custom architecture, please downgrade nnU-Net to the version you implemented this or update your implementation + plans.\n",
      "  warnings.warn(\"Detected old nnU-Net plans format. Attempting to reconstruct network architecture \"\n",
      "100%|██████████| 8/8 [00:00<00:00, 33.13it/s]\n"
     ]
    },
    {
     "name": "stdout",
     "output_type": "stream",
     "text": [
      "  Predicted in 8.73s\n"
     ]
    },
    {
     "name": "stderr",
     "output_type": "stream",
     "text": [
      "100%|██████████| 1/1 [00:00<00:00, 14.09it/s]\n",
      "100%|██████████| 1/1 [00:00<00:00, 17.17it/s]"
     ]
    },
    {
     "name": "stdout",
     "output_type": "stream",
     "text": [
      "Resampling...\n"
     ]
    },
    {
     "name": "stderr",
     "output_type": "stream",
     "text": [
      "\n"
     ]
    },
    {
     "name": "stdout",
     "output_type": "stream",
     "text": [
      "Saving segmentations...\n",
      "Creating body_trunc.nii.gz\n",
      "Creating body_extremities.nii.gz"
     ]
    },
    {
     "data": {
      "application/vnd.jupyter.widget-view+json": {
       "model_id": "643178c74ba14c9c91993c45fd5d2593",
       "version_major": 2,
       "version_minor": 0
      },
      "text/plain": [
       "  0%|          | 0/2 [00:00<?, ?it/s]"
      ]
     },
     "metadata": {},
     "output_type": "display_data"
    },
    {
     "name": "stdout",
     "output_type": "stream",
     "text": [
      "\n",
      "  Saved in 0.36s\n",
      "Creating body.nii.gz\n",
      "Creating skin.nii.gz\n",
      "Segmenting Case2Pack phase 0\n",
      "\n",
      "If you use this tool please cite: https://pubs.rsna.org/doi/10.1148/ryai.230024\n",
      "\n",
      "Generating rough body segmentation...\n",
      "Resampling...\n",
      "  Resampled in 0.24s\n",
      "Predicting...\n"
     ]
    },
    {
     "name": "stderr",
     "output_type": "stream",
     "text": [
      "/ocean/projects/asc170022p/mtragoza/mambaforge/envs/lung-project/lib/python3.10/site-packages/nnunetv2/utilities/plans_handling/plans_handler.py:37: UserWarning: Detected old nnU-Net plans format. Attempting to reconstruct network architecture parameters. If this fails, rerun nnUNetv2_plan_experiment for your dataset. If you use a custom architecture, please downgrade nnU-Net to the version you implemented this or update your implementation + plans.\n",
      "  warnings.warn(\"Detected old nnU-Net plans format. Attempting to reconstruct network architecture \"\n",
      "100%|██████████| 1/1 [00:00<00:00, 82.23it/s]\n"
     ]
    },
    {
     "name": "stdout",
     "output_type": "stream",
     "text": [
      "  Predicted in 7.33s\n",
      "Resampling...\n",
      "  cropping from (256, 256, 94) to (256, 204, 94)\n",
      "Resampling...\n",
      "  Resampled in 1.97s\n",
      "Predicting part 1 of 1 ...\n"
     ]
    },
    {
     "name": "stderr",
     "output_type": "stream",
     "text": [
      "100%|██████████| 8/8 [00:00<00:00, 32.13it/s]\n"
     ]
    },
    {
     "name": "stdout",
     "output_type": "stream",
     "text": [
      "  Predicted in 9.63s\n",
      "Resampling...\n",
      "Saving segmentations...\n"
     ]
    },
    {
     "data": {
      "application/vnd.jupyter.widget-view+json": {
       "model_id": "ee584e2a67f74091a7bc6cd5dae35eff",
       "version_major": 2,
       "version_minor": 0
      },
      "text/plain": [
       "  0%|          | 0/5 [00:00<?, ?it/s]"
      ]
     },
     "metadata": {},
     "output_type": "display_data"
    },
    {
     "name": "stdout",
     "output_type": "stream",
     "text": [
      "  Saved in 0.55s\n",
      "\n",
      "If you use this tool please cite: https://pubs.rsna.org/doi/10.1148/ryai.230024\n",
      "\n",
      "Generating rough body segmentation...\n",
      "Resampling...\n",
      "  Resampled in 0.24s\n",
      "Predicting...\n"
     ]
    },
    {
     "name": "stderr",
     "output_type": "stream",
     "text": [
      "/ocean/projects/asc170022p/mtragoza/mambaforge/envs/lung-project/lib/python3.10/site-packages/nnunetv2/utilities/plans_handling/plans_handler.py:37: UserWarning: Detected old nnU-Net plans format. Attempting to reconstruct network architecture parameters. If this fails, rerun nnUNetv2_plan_experiment for your dataset. If you use a custom architecture, please downgrade nnU-Net to the version you implemented this or update your implementation + plans.\n",
      "  warnings.warn(\"Detected old nnU-Net plans format. Attempting to reconstruct network architecture \"\n",
      "100%|██████████| 1/1 [00:00<00:00, 81.67it/s]\n"
     ]
    },
    {
     "name": "stdout",
     "output_type": "stream",
     "text": [
      "  Predicted in 7.21s\n",
      "Resampling...\n",
      "  cropping from (256, 256, 94) to (256, 204, 94)\n",
      "Predicting...\n"
     ]
    },
    {
     "name": "stderr",
     "output_type": "stream",
     "text": [
      "100%|██████████| 80/80 [00:04<00:00, 17.64it/s]\n"
     ]
    },
    {
     "name": "stdout",
     "output_type": "stream",
     "text": [
      "  Predicted in 28.31s\n",
      "Saving segmentations...\n",
      "Creating lung_vessels.nii.gz\n",
      "\n"
     ]
    },
    {
     "data": {
      "application/vnd.jupyter.widget-view+json": {
       "model_id": "61f314cac24240baac40ed5155bc88b9",
       "version_major": 2,
       "version_minor": 0
      },
      "text/plain": [
       "  0%|          | 0/2 [00:00<?, ?it/s]"
      ]
     },
     "metadata": {},
     "output_type": "display_data"
    },
    {
     "name": "stdout",
     "output_type": "stream",
     "text": [
      "Creating lung_trachea_bronchia.nii.gz  Saved in 0.46s\n",
      "\n",
      "If you use this tool please cite: https://pubs.rsna.org/doi/10.1148/ryai.230024\n",
      "\n",
      "Resampling...\n",
      "  Resampled in 2.53s\n",
      "Predicting...\n"
     ]
    },
    {
     "name": "stderr",
     "output_type": "stream",
     "text": [
      "/ocean/projects/asc170022p/mtragoza/mambaforge/envs/lung-project/lib/python3.10/site-packages/nnunetv2/utilities/plans_handling/plans_handler.py:37: UserWarning: Detected old nnU-Net plans format. Attempting to reconstruct network architecture parameters. If this fails, rerun nnUNetv2_plan_experiment for your dataset. If you use a custom architecture, please downgrade nnU-Net to the version you implemented this or update your implementation + plans.\n",
      "  warnings.warn(\"Detected old nnU-Net plans format. Attempting to reconstruct network architecture \"\n",
      "100%|██████████| 18/18 [00:00<00:00, 23.05it/s]\n"
     ]
    },
    {
     "name": "stdout",
     "output_type": "stream",
     "text": [
      "  Predicted in 9.80s\n"
     ]
    },
    {
     "name": "stderr",
     "output_type": "stream",
     "text": [
      "100%|██████████| 1/1 [00:00<00:00,  7.88it/s]\n",
      "100%|██████████| 1/1 [00:00<00:00,  8.29it/s]\n"
     ]
    },
    {
     "name": "stdout",
     "output_type": "stream",
     "text": [
      "Resampling...\n",
      "Saving segmentations...\n",
      "Creating body_trunc.nii.gz\n",
      "Creating body_extremities.nii.gz\n"
     ]
    },
    {
     "data": {
      "application/vnd.jupyter.widget-view+json": {
       "model_id": "01346758dcee498391d9d9c2f9cea36d",
       "version_major": 2,
       "version_minor": 0
      },
      "text/plain": [
       "  0%|          | 0/2 [00:00<?, ?it/s]"
      ]
     },
     "metadata": {},
     "output_type": "display_data"
    },
    {
     "name": "stdout",
     "output_type": "stream",
     "text": [
      "  Saved in 0.40s\n",
      "Creating body.nii.gz\n",
      "Creating skin.nii.gz\n",
      "Segmenting Case2Pack phase 10\n",
      "\n",
      "If you use this tool please cite: https://pubs.rsna.org/doi/10.1148/ryai.230024\n",
      "\n",
      "Generating rough body segmentation...\n",
      "Resampling...\n",
      "  Resampled in 0.24s\n",
      "Predicting...\n"
     ]
    },
    {
     "name": "stderr",
     "output_type": "stream",
     "text": [
      "/ocean/projects/asc170022p/mtragoza/mambaforge/envs/lung-project/lib/python3.10/site-packages/nnunetv2/utilities/plans_handling/plans_handler.py:37: UserWarning: Detected old nnU-Net plans format. Attempting to reconstruct network architecture parameters. If this fails, rerun nnUNetv2_plan_experiment for your dataset. If you use a custom architecture, please downgrade nnU-Net to the version you implemented this or update your implementation + plans.\n",
      "  warnings.warn(\"Detected old nnU-Net plans format. Attempting to reconstruct network architecture \"\n",
      "100%|██████████| 1/1 [00:00<00:00, 80.31it/s]\n"
     ]
    },
    {
     "name": "stdout",
     "output_type": "stream",
     "text": [
      "  Predicted in 7.19s\n",
      "Resampling...\n",
      "  cropping from (256, 256, 94) to (256, 204, 94)\n",
      "Resampling...\n",
      "  Resampled in 1.97s\n",
      "Predicting part 1 of 1 ...\n"
     ]
    },
    {
     "name": "stderr",
     "output_type": "stream",
     "text": [
      "100%|██████████| 8/8 [00:00<00:00, 32.66it/s]\n"
     ]
    },
    {
     "name": "stdout",
     "output_type": "stream",
     "text": [
      "  Predicted in 9.58s\n",
      "Resampling...\n",
      "Saving segmentations...\n"
     ]
    },
    {
     "data": {
      "application/vnd.jupyter.widget-view+json": {
       "model_id": "921cde7fa08c4849a0d252366bd52aa1",
       "version_major": 2,
       "version_minor": 0
      },
      "text/plain": [
       "  0%|          | 0/5 [00:00<?, ?it/s]"
      ]
     },
     "metadata": {},
     "output_type": "display_data"
    },
    {
     "name": "stdout",
     "output_type": "stream",
     "text": [
      "  Saved in 0.57s\n",
      "\n",
      "If you use this tool please cite: https://pubs.rsna.org/doi/10.1148/ryai.230024\n",
      "\n",
      "Generating rough body segmentation...\n",
      "Resampling...\n",
      "  Resampled in 0.24s\n",
      "Predicting...\n"
     ]
    },
    {
     "name": "stderr",
     "output_type": "stream",
     "text": [
      "/ocean/projects/asc170022p/mtragoza/mambaforge/envs/lung-project/lib/python3.10/site-packages/nnunetv2/utilities/plans_handling/plans_handler.py:37: UserWarning: Detected old nnU-Net plans format. Attempting to reconstruct network architecture parameters. If this fails, rerun nnUNetv2_plan_experiment for your dataset. If you use a custom architecture, please downgrade nnU-Net to the version you implemented this or update your implementation + plans.\n",
      "  warnings.warn(\"Detected old nnU-Net plans format. Attempting to reconstruct network architecture \"\n",
      "100%|██████████| 1/1 [00:00<00:00, 111.22it/s]\n"
     ]
    },
    {
     "name": "stdout",
     "output_type": "stream",
     "text": [
      "  Predicted in 7.25s\n",
      "Resampling...\n",
      "  cropping from (256, 256, 94) to (256, 204, 94)\n",
      "Predicting...\n"
     ]
    },
    {
     "name": "stderr",
     "output_type": "stream",
     "text": [
      "100%|██████████| 80/80 [00:04<00:00, 17.63it/s]\n"
     ]
    },
    {
     "name": "stdout",
     "output_type": "stream",
     "text": [
      "  Predicted in 28.16s\n",
      "Saving segmentations...\n",
      "Creating lung_vessels.nii.gz\n",
      "\n",
      "Creating lung_trachea_bronchia.nii.gz"
     ]
    },
    {
     "data": {
      "application/vnd.jupyter.widget-view+json": {
       "model_id": "2314c80d49914811bf9717f0ec5b5712",
       "version_major": 2,
       "version_minor": 0
      },
      "text/plain": [
       "  0%|          | 0/2 [00:00<?, ?it/s]"
      ]
     },
     "metadata": {},
     "output_type": "display_data"
    },
    {
     "name": "stdout",
     "output_type": "stream",
     "text": [
      "  Saved in 0.47s\n",
      "\n",
      "If you use this tool please cite: https://pubs.rsna.org/doi/10.1148/ryai.230024\n",
      "\n",
      "Resampling...\n",
      "  Resampled in 2.53s\n",
      "Predicting...\n"
     ]
    },
    {
     "name": "stderr",
     "output_type": "stream",
     "text": [
      "/ocean/projects/asc170022p/mtragoza/mambaforge/envs/lung-project/lib/python3.10/site-packages/nnunetv2/utilities/plans_handling/plans_handler.py:37: UserWarning: Detected old nnU-Net plans format. Attempting to reconstruct network architecture parameters. If this fails, rerun nnUNetv2_plan_experiment for your dataset. If you use a custom architecture, please downgrade nnU-Net to the version you implemented this or update your implementation + plans.\n",
      "  warnings.warn(\"Detected old nnU-Net plans format. Attempting to reconstruct network architecture \"\n",
      "100%|██████████| 18/18 [00:00<00:00, 23.13it/s]\n"
     ]
    },
    {
     "name": "stdout",
     "output_type": "stream",
     "text": [
      "  Predicted in 9.70s\n"
     ]
    },
    {
     "name": "stderr",
     "output_type": "stream",
     "text": [
      "100%|██████████| 1/1 [00:00<00:00,  7.83it/s]\n",
      "100%|██████████| 1/1 [00:00<00:00,  8.15it/s]\n"
     ]
    },
    {
     "name": "stdout",
     "output_type": "stream",
     "text": [
      "Resampling...\n",
      "Saving segmentations...\n",
      "Creating body_trunc.nii.gz\n",
      "Creating body_extremities.nii.gz\n"
     ]
    },
    {
     "data": {
      "application/vnd.jupyter.widget-view+json": {
       "model_id": "266e1904b2de4a6ea30573137bb249e4",
       "version_major": 2,
       "version_minor": 0
      },
      "text/plain": [
       "  0%|          | 0/2 [00:00<?, ?it/s]"
      ]
     },
     "metadata": {},
     "output_type": "display_data"
    },
    {
     "name": "stdout",
     "output_type": "stream",
     "text": [
      "  Saved in 0.36s\n",
      "Creating body.nii.gz\n",
      "Creating skin.nii.gz\n",
      "Segmenting Case2Pack phase 20\n",
      "\n",
      "If you use this tool please cite: https://pubs.rsna.org/doi/10.1148/ryai.230024\n",
      "\n",
      "Generating rough body segmentation...\n",
      "Resampling...\n",
      "  Resampled in 0.24s\n",
      "Predicting...\n"
     ]
    },
    {
     "name": "stderr",
     "output_type": "stream",
     "text": [
      "/ocean/projects/asc170022p/mtragoza/mambaforge/envs/lung-project/lib/python3.10/site-packages/nnunetv2/utilities/plans_handling/plans_handler.py:37: UserWarning: Detected old nnU-Net plans format. Attempting to reconstruct network architecture parameters. If this fails, rerun nnUNetv2_plan_experiment for your dataset. If you use a custom architecture, please downgrade nnU-Net to the version you implemented this or update your implementation + plans.\n",
      "  warnings.warn(\"Detected old nnU-Net plans format. Attempting to reconstruct network architecture \"\n",
      "100%|██████████| 1/1 [00:00<00:00, 109.39it/s]\n"
     ]
    },
    {
     "name": "stdout",
     "output_type": "stream",
     "text": [
      "  Predicted in 7.15s\n",
      "Resampling...\n",
      "  cropping from (256, 256, 94) to (256, 204, 94)\n",
      "Resampling...\n",
      "  Resampled in 1.97s\n",
      "Predicting part 1 of 1 ...\n"
     ]
    },
    {
     "name": "stderr",
     "output_type": "stream",
     "text": [
      "100%|██████████| 8/8 [00:00<00:00, 32.16it/s]\n"
     ]
    },
    {
     "name": "stdout",
     "output_type": "stream",
     "text": [
      "  Predicted in 9.43s\n",
      "Resampling...\n",
      "Saving segmentations...\n"
     ]
    },
    {
     "data": {
      "application/vnd.jupyter.widget-view+json": {
       "model_id": "8300f9b511b345e9a44a2ec33a221f77",
       "version_major": 2,
       "version_minor": 0
      },
      "text/plain": [
       "  0%|          | 0/5 [00:00<?, ?it/s]"
      ]
     },
     "metadata": {},
     "output_type": "display_data"
    },
    {
     "name": "stdout",
     "output_type": "stream",
     "text": [
      "  Saved in 0.75s\n",
      "\n",
      "If you use this tool please cite: https://pubs.rsna.org/doi/10.1148/ryai.230024\n",
      "\n",
      "Generating rough body segmentation...\n",
      "Resampling...\n",
      "  Resampled in 0.24s\n",
      "Predicting...\n"
     ]
    },
    {
     "name": "stderr",
     "output_type": "stream",
     "text": [
      "/ocean/projects/asc170022p/mtragoza/mambaforge/envs/lung-project/lib/python3.10/site-packages/nnunetv2/utilities/plans_handling/plans_handler.py:37: UserWarning: Detected old nnU-Net plans format. Attempting to reconstruct network architecture parameters. If this fails, rerun nnUNetv2_plan_experiment for your dataset. If you use a custom architecture, please downgrade nnU-Net to the version you implemented this or update your implementation + plans.\n",
      "  warnings.warn(\"Detected old nnU-Net plans format. Attempting to reconstruct network architecture \"\n",
      "100%|██████████| 1/1 [00:00<00:00, 106.43it/s]\n"
     ]
    },
    {
     "name": "stdout",
     "output_type": "stream",
     "text": [
      "  Predicted in 7.18s\n",
      "Resampling...\n",
      "  cropping from (256, 256, 94) to (256, 204, 94)\n",
      "Predicting...\n"
     ]
    },
    {
     "name": "stderr",
     "output_type": "stream",
     "text": [
      "100%|██████████| 80/80 [00:04<00:00, 17.63it/s]\n"
     ]
    },
    {
     "name": "stdout",
     "output_type": "stream",
     "text": [
      "  Predicted in 28.43s\n",
      "Saving segmentations...\n"
     ]
    },
    {
     "data": {
      "application/vnd.jupyter.widget-view+json": {
       "model_id": "6af3e8334f874e64bf7ef928dce1358b",
       "version_major": 2,
       "version_minor": 0
      },
      "text/plain": [
       "  0%|          | 0/2 [00:00<?, ?it/s]"
      ]
     },
     "metadata": {},
     "output_type": "display_data"
    },
    {
     "name": "stdout",
     "output_type": "stream",
     "text": [
      "Creating lung_trachea_bronchia.nii.gzCreating lung_vessels.nii.gz\n",
      "\n",
      "  Saved in 0.53s\n",
      "\n",
      "If you use this tool please cite: https://pubs.rsna.org/doi/10.1148/ryai.230024\n",
      "\n",
      "Resampling...\n",
      "  Resampled in 2.52s\n",
      "Predicting...\n"
     ]
    },
    {
     "name": "stderr",
     "output_type": "stream",
     "text": [
      "/ocean/projects/asc170022p/mtragoza/mambaforge/envs/lung-project/lib/python3.10/site-packages/nnunetv2/utilities/plans_handling/plans_handler.py:37: UserWarning: Detected old nnU-Net plans format. Attempting to reconstruct network architecture parameters. If this fails, rerun nnUNetv2_plan_experiment for your dataset. If you use a custom architecture, please downgrade nnU-Net to the version you implemented this or update your implementation + plans.\n",
      "  warnings.warn(\"Detected old nnU-Net plans format. Attempting to reconstruct network architecture \"\n",
      "100%|██████████| 18/18 [00:00<00:00, 22.85it/s]\n"
     ]
    },
    {
     "name": "stdout",
     "output_type": "stream",
     "text": [
      "  Predicted in 9.65s\n"
     ]
    },
    {
     "name": "stderr",
     "output_type": "stream",
     "text": [
      "100%|██████████| 1/1 [00:00<00:00,  7.85it/s]\n",
      "100%|██████████| 1/1 [00:00<00:00,  8.04it/s]\n"
     ]
    },
    {
     "name": "stdout",
     "output_type": "stream",
     "text": [
      "Resampling...\n",
      "Saving segmentations...\n",
      "Creating body_trunc.nii.gz\n",
      "Creating body_extremities.nii.gz\n"
     ]
    },
    {
     "data": {
      "application/vnd.jupyter.widget-view+json": {
       "model_id": "51e8e3832ec1451d8a18b32d7d1131bd",
       "version_major": 2,
       "version_minor": 0
      },
      "text/plain": [
       "  0%|          | 0/2 [00:00<?, ?it/s]"
      ]
     },
     "metadata": {},
     "output_type": "display_data"
    },
    {
     "name": "stdout",
     "output_type": "stream",
     "text": [
      "  Saved in 0.34s\n",
      "Creating body.nii.gz\n",
      "Creating skin.nii.gz\n",
      "Segmenting Case2Pack phase 30\n",
      "\n",
      "If you use this tool please cite: https://pubs.rsna.org/doi/10.1148/ryai.230024\n",
      "\n",
      "Generating rough body segmentation...\n",
      "Resampling...\n",
      "  Resampled in 0.24s\n",
      "Predicting...\n"
     ]
    },
    {
     "name": "stderr",
     "output_type": "stream",
     "text": [
      "/ocean/projects/asc170022p/mtragoza/mambaforge/envs/lung-project/lib/python3.10/site-packages/nnunetv2/utilities/plans_handling/plans_handler.py:37: UserWarning: Detected old nnU-Net plans format. Attempting to reconstruct network architecture parameters. If this fails, rerun nnUNetv2_plan_experiment for your dataset. If you use a custom architecture, please downgrade nnU-Net to the version you implemented this or update your implementation + plans.\n",
      "  warnings.warn(\"Detected old nnU-Net plans format. Attempting to reconstruct network architecture \"\n",
      "100%|██████████| 1/1 [00:00<00:00, 86.31it/s]\n"
     ]
    },
    {
     "name": "stdout",
     "output_type": "stream",
     "text": [
      "  Predicted in 7.06s\n",
      "Resampling...\n",
      "  cropping from (256, 256, 94) to (256, 204, 94)\n",
      "Resampling...\n",
      "  Resampled in 1.97s\n",
      "Predicting part 1 of 1 ...\n"
     ]
    },
    {
     "name": "stderr",
     "output_type": "stream",
     "text": [
      "100%|██████████| 8/8 [00:00<00:00, 32.68it/s]\n"
     ]
    },
    {
     "name": "stdout",
     "output_type": "stream",
     "text": [
      "  Predicted in 9.70s\n",
      "Resampling...\n",
      "Saving segmentations...\n"
     ]
    },
    {
     "data": {
      "application/vnd.jupyter.widget-view+json": {
       "model_id": "a8ad3a587c5d48d3aea01a44766f2513",
       "version_major": 2,
       "version_minor": 0
      },
      "text/plain": [
       "  0%|          | 0/5 [00:00<?, ?it/s]"
      ]
     },
     "metadata": {},
     "output_type": "display_data"
    },
    {
     "name": "stdout",
     "output_type": "stream",
     "text": [
      "  Saved in 0.58s\n",
      "\n",
      "If you use this tool please cite: https://pubs.rsna.org/doi/10.1148/ryai.230024\n",
      "\n",
      "Generating rough body segmentation...\n",
      "Resampling...\n",
      "  Resampled in 0.25s\n",
      "Predicting...\n"
     ]
    },
    {
     "name": "stderr",
     "output_type": "stream",
     "text": [
      "/ocean/projects/asc170022p/mtragoza/mambaforge/envs/lung-project/lib/python3.10/site-packages/nnunetv2/utilities/plans_handling/plans_handler.py:37: UserWarning: Detected old nnU-Net plans format. Attempting to reconstruct network architecture parameters. If this fails, rerun nnUNetv2_plan_experiment for your dataset. If you use a custom architecture, please downgrade nnU-Net to the version you implemented this or update your implementation + plans.\n",
      "  warnings.warn(\"Detected old nnU-Net plans format. Attempting to reconstruct network architecture \"\n",
      "100%|██████████| 1/1 [00:00<00:00, 91.51it/s]\n"
     ]
    },
    {
     "name": "stdout",
     "output_type": "stream",
     "text": [
      "  Predicted in 7.45s\n",
      "Resampling...\n",
      "  cropping from (256, 256, 94) to (256, 204, 94)\n",
      "Predicting...\n"
     ]
    },
    {
     "name": "stderr",
     "output_type": "stream",
     "text": [
      "100%|██████████| 80/80 [00:04<00:00, 17.61it/s]\n"
     ]
    },
    {
     "name": "stdout",
     "output_type": "stream",
     "text": [
      "  Predicted in 28.22s\n",
      "Saving segmentations...\n"
     ]
    },
    {
     "data": {
      "application/vnd.jupyter.widget-view+json": {
       "model_id": "a5d6d6a105964a90b686f523c17f619e",
       "version_major": 2,
       "version_minor": 0
      },
      "text/plain": [
       "  0%|          | 0/2 [00:00<?, ?it/s]"
      ]
     },
     "metadata": {},
     "output_type": "display_data"
    },
    {
     "name": "stdout",
     "output_type": "stream",
     "text": [
      "Creating lung_vessels.nii.gz\n",
      "Creating lung_trachea_bronchia.nii.gz\n",
      "  Saved in 31.81s\n",
      "\n",
      "If you use this tool please cite: https://pubs.rsna.org/doi/10.1148/ryai.230024\n",
      "\n",
      "Resampling...\n",
      "  Resampled in 2.52s\n",
      "Predicting...\n"
     ]
    },
    {
     "name": "stderr",
     "output_type": "stream",
     "text": [
      "/ocean/projects/asc170022p/mtragoza/mambaforge/envs/lung-project/lib/python3.10/site-packages/nnunetv2/utilities/plans_handling/plans_handler.py:37: UserWarning: Detected old nnU-Net plans format. Attempting to reconstruct network architecture parameters. If this fails, rerun nnUNetv2_plan_experiment for your dataset. If you use a custom architecture, please downgrade nnU-Net to the version you implemented this or update your implementation + plans.\n",
      "  warnings.warn(\"Detected old nnU-Net plans format. Attempting to reconstruct network architecture \"\n",
      "100%|██████████| 18/18 [00:00<00:00, 22.95it/s]\n"
     ]
    },
    {
     "name": "stdout",
     "output_type": "stream",
     "text": [
      "  Predicted in 11.24s\n"
     ]
    },
    {
     "name": "stderr",
     "output_type": "stream",
     "text": [
      "100%|██████████| 1/1 [00:00<00:00,  7.84it/s]\n",
      "100%|██████████| 1/1 [00:00<00:00,  8.22it/s]\n"
     ]
    },
    {
     "name": "stdout",
     "output_type": "stream",
     "text": [
      "Resampling...\n",
      "Saving segmentations...\n",
      "Creating body_trunc.nii.gz\n",
      "\n",
      "Creating body_extremities.nii.gz"
     ]
    },
    {
     "data": {
      "application/vnd.jupyter.widget-view+json": {
       "model_id": "fbab4614383048ecb1b7f13811cb2916",
       "version_major": 2,
       "version_minor": 0
      },
      "text/plain": [
       "  0%|          | 0/2 [00:00<?, ?it/s]"
      ]
     },
     "metadata": {},
     "output_type": "display_data"
    },
    {
     "name": "stdout",
     "output_type": "stream",
     "text": [
      "  Saved in 0.33s\n",
      "Creating body.nii.gz\n",
      "Creating skin.nii.gz\n",
      "Segmenting Case2Pack phase 40\n",
      "\n",
      "If you use this tool please cite: https://pubs.rsna.org/doi/10.1148/ryai.230024\n",
      "\n",
      "Generating rough body segmentation...\n",
      "Resampling...\n",
      "  Resampled in 0.24s\n",
      "Predicting...\n"
     ]
    },
    {
     "name": "stderr",
     "output_type": "stream",
     "text": [
      "/ocean/projects/asc170022p/mtragoza/mambaforge/envs/lung-project/lib/python3.10/site-packages/nnunetv2/utilities/plans_handling/plans_handler.py:37: UserWarning: Detected old nnU-Net plans format. Attempting to reconstruct network architecture parameters. If this fails, rerun nnUNetv2_plan_experiment for your dataset. If you use a custom architecture, please downgrade nnU-Net to the version you implemented this or update your implementation + plans.\n",
      "  warnings.warn(\"Detected old nnU-Net plans format. Attempting to reconstruct network architecture \"\n",
      "100%|██████████| 1/1 [00:00<00:00, 109.79it/s]\n"
     ]
    },
    {
     "name": "stdout",
     "output_type": "stream",
     "text": [
      "  Predicted in 10.10s\n",
      "Resampling...\n",
      "  cropping from (256, 256, 94) to (256, 204, 94)\n",
      "Resampling...\n",
      "  Resampled in 1.97s\n",
      "Predicting part 1 of 1 ...\n"
     ]
    },
    {
     "name": "stderr",
     "output_type": "stream",
     "text": [
      "100%|██████████| 8/8 [00:00<00:00, 32.96it/s]\n"
     ]
    },
    {
     "name": "stdout",
     "output_type": "stream",
     "text": [
      "  Predicted in 9.55s\n",
      "Resampling...\n",
      "Saving segmentations...\n"
     ]
    },
    {
     "data": {
      "application/vnd.jupyter.widget-view+json": {
       "model_id": "a7676de491f54561b281237d4d501715",
       "version_major": 2,
       "version_minor": 0
      },
      "text/plain": [
       "  0%|          | 0/5 [00:00<?, ?it/s]"
      ]
     },
     "metadata": {},
     "output_type": "display_data"
    },
    {
     "name": "stdout",
     "output_type": "stream",
     "text": [
      "  Saved in 1.33s\n",
      "\n",
      "If you use this tool please cite: https://pubs.rsna.org/doi/10.1148/ryai.230024\n",
      "\n",
      "Generating rough body segmentation...\n",
      "Resampling...\n",
      "  Resampled in 0.24s\n",
      "Predicting...\n"
     ]
    },
    {
     "name": "stderr",
     "output_type": "stream",
     "text": [
      "/ocean/projects/asc170022p/mtragoza/mambaforge/envs/lung-project/lib/python3.10/site-packages/nnunetv2/utilities/plans_handling/plans_handler.py:37: UserWarning: Detected old nnU-Net plans format. Attempting to reconstruct network architecture parameters. If this fails, rerun nnUNetv2_plan_experiment for your dataset. If you use a custom architecture, please downgrade nnU-Net to the version you implemented this or update your implementation + plans.\n",
      "  warnings.warn(\"Detected old nnU-Net plans format. Attempting to reconstruct network architecture \"\n",
      "100%|██████████| 1/1 [00:00<00:00, 110.09it/s]\n"
     ]
    },
    {
     "name": "stdout",
     "output_type": "stream",
     "text": [
      "  Predicted in 7.18s\n",
      "Resampling...\n",
      "  cropping from (256, 256, 94) to (256, 204, 94)\n",
      "Predicting...\n"
     ]
    },
    {
     "name": "stderr",
     "output_type": "stream",
     "text": [
      "100%|██████████| 80/80 [00:04<00:00, 17.68it/s]\n"
     ]
    },
    {
     "name": "stdout",
     "output_type": "stream",
     "text": [
      "  Predicted in 28.15s\n",
      "Saving segmentations...\n",
      "Creating lung_vessels.nii.gz\n",
      "Creating lung_trachea_bronchia.nii.gz\n"
     ]
    },
    {
     "data": {
      "application/vnd.jupyter.widget-view+json": {
       "model_id": "5cecbbe846114641ac24fa1a81d04f9a",
       "version_major": 2,
       "version_minor": 0
      },
      "text/plain": [
       "  0%|          | 0/2 [00:00<?, ?it/s]"
      ]
     },
     "metadata": {},
     "output_type": "display_data"
    },
    {
     "name": "stdout",
     "output_type": "stream",
     "text": [
      "  Saved in 0.88s\n",
      "\n",
      "If you use this tool please cite: https://pubs.rsna.org/doi/10.1148/ryai.230024\n",
      "\n",
      "Resampling...\n",
      "  Resampled in 2.53s\n",
      "Predicting...\n"
     ]
    },
    {
     "name": "stderr",
     "output_type": "stream",
     "text": [
      "/ocean/projects/asc170022p/mtragoza/mambaforge/envs/lung-project/lib/python3.10/site-packages/nnunetv2/utilities/plans_handling/plans_handler.py:37: UserWarning: Detected old nnU-Net plans format. Attempting to reconstruct network architecture parameters. If this fails, rerun nnUNetv2_plan_experiment for your dataset. If you use a custom architecture, please downgrade nnU-Net to the version you implemented this or update your implementation + plans.\n",
      "  warnings.warn(\"Detected old nnU-Net plans format. Attempting to reconstruct network architecture \"\n",
      "100%|██████████| 18/18 [00:00<00:00, 22.82it/s]\n"
     ]
    },
    {
     "name": "stdout",
     "output_type": "stream",
     "text": [
      "  Predicted in 9.55s\n"
     ]
    },
    {
     "name": "stderr",
     "output_type": "stream",
     "text": [
      "100%|██████████| 1/1 [00:00<00:00,  7.91it/s]\n",
      "100%|██████████| 1/1 [00:00<00:00,  8.20it/s]\n"
     ]
    },
    {
     "name": "stdout",
     "output_type": "stream",
     "text": [
      "Resampling...\n",
      "Saving segmentations...\n",
      "Creating body_trunc.nii.gz\n",
      "Creating body_extremities.nii.gz"
     ]
    },
    {
     "data": {
      "application/vnd.jupyter.widget-view+json": {
       "model_id": "b3e60da9b9c648afbcf8bfac0f27b275",
       "version_major": 2,
       "version_minor": 0
      },
      "text/plain": [
       "  0%|          | 0/2 [00:00<?, ?it/s]"
      ]
     },
     "metadata": {},
     "output_type": "display_data"
    },
    {
     "name": "stdout",
     "output_type": "stream",
     "text": [
      "\n",
      "  Saved in 0.36s\n",
      "Creating body.nii.gz\n",
      "Creating skin.nii.gz\n",
      "Segmenting Case2Pack phase 50\n",
      "\n",
      "If you use this tool please cite: https://pubs.rsna.org/doi/10.1148/ryai.230024\n",
      "\n",
      "Generating rough body segmentation...\n",
      "Resampling...\n",
      "  Resampled in 0.24s\n",
      "Predicting...\n"
     ]
    },
    {
     "name": "stderr",
     "output_type": "stream",
     "text": [
      "/ocean/projects/asc170022p/mtragoza/mambaforge/envs/lung-project/lib/python3.10/site-packages/nnunetv2/utilities/plans_handling/plans_handler.py:37: UserWarning: Detected old nnU-Net plans format. Attempting to reconstruct network architecture parameters. If this fails, rerun nnUNetv2_plan_experiment for your dataset. If you use a custom architecture, please downgrade nnU-Net to the version you implemented this or update your implementation + plans.\n",
      "  warnings.warn(\"Detected old nnU-Net plans format. Attempting to reconstruct network architecture \"\n",
      "100%|██████████| 1/1 [00:00<00:00, 106.75it/s]\n"
     ]
    },
    {
     "name": "stdout",
     "output_type": "stream",
     "text": [
      "  Predicted in 7.32s\n",
      "Resampling...\n",
      "  cropping from (256, 256, 94) to (256, 204, 94)\n",
      "Resampling...\n",
      "  Resampled in 1.97s\n",
      "Predicting part 1 of 1 ...\n"
     ]
    },
    {
     "name": "stderr",
     "output_type": "stream",
     "text": [
      "100%|██████████| 8/8 [00:00<00:00, 32.93it/s]\n"
     ]
    },
    {
     "name": "stdout",
     "output_type": "stream",
     "text": [
      "  Predicted in 9.47s\n",
      "Resampling...\n",
      "Saving segmentations...\n"
     ]
    },
    {
     "data": {
      "application/vnd.jupyter.widget-view+json": {
       "model_id": "613b94975e72485296e04f2fccb920b4",
       "version_major": 2,
       "version_minor": 0
      },
      "text/plain": [
       "  0%|          | 0/5 [00:00<?, ?it/s]"
      ]
     },
     "metadata": {},
     "output_type": "display_data"
    },
    {
     "name": "stdout",
     "output_type": "stream",
     "text": [
      "  Saved in 0.56s\n",
      "\n",
      "If you use this tool please cite: https://pubs.rsna.org/doi/10.1148/ryai.230024\n",
      "\n",
      "Generating rough body segmentation...\n",
      "Resampling...\n",
      "  Resampled in 0.25s\n",
      "Predicting...\n"
     ]
    },
    {
     "name": "stderr",
     "output_type": "stream",
     "text": [
      "/ocean/projects/asc170022p/mtragoza/mambaforge/envs/lung-project/lib/python3.10/site-packages/nnunetv2/utilities/plans_handling/plans_handler.py:37: UserWarning: Detected old nnU-Net plans format. Attempting to reconstruct network architecture parameters. If this fails, rerun nnUNetv2_plan_experiment for your dataset. If you use a custom architecture, please downgrade nnU-Net to the version you implemented this or update your implementation + plans.\n",
      "  warnings.warn(\"Detected old nnU-Net plans format. Attempting to reconstruct network architecture \"\n",
      "100%|██████████| 1/1 [00:00<00:00, 105.73it/s]\n"
     ]
    },
    {
     "name": "stdout",
     "output_type": "stream",
     "text": [
      "  Predicted in 7.27s\n",
      "Resampling...\n",
      "  cropping from (256, 256, 94) to (256, 204, 94)\n",
      "Predicting...\n"
     ]
    },
    {
     "name": "stderr",
     "output_type": "stream",
     "text": [
      "100%|██████████| 80/80 [00:04<00:00, 17.65it/s]\n"
     ]
    },
    {
     "name": "stdout",
     "output_type": "stream",
     "text": [
      "  Predicted in 28.17s\n",
      "Saving segmentations...\n",
      "Creating lung_vessels.nii.gz\n",
      "Creating lung_trachea_bronchia.nii.gz\n"
     ]
    },
    {
     "data": {
      "application/vnd.jupyter.widget-view+json": {
       "model_id": "76941281361946c9981e6ff181d81d5a",
       "version_major": 2,
       "version_minor": 0
      },
      "text/plain": [
       "  0%|          | 0/2 [00:00<?, ?it/s]"
      ]
     },
     "metadata": {},
     "output_type": "display_data"
    },
    {
     "name": "stdout",
     "output_type": "stream",
     "text": [
      "  Saved in 0.49s\n",
      "\n",
      "If you use this tool please cite: https://pubs.rsna.org/doi/10.1148/ryai.230024\n",
      "\n",
      "Resampling...\n",
      "  Resampled in 2.53s\n",
      "Predicting...\n"
     ]
    },
    {
     "name": "stderr",
     "output_type": "stream",
     "text": [
      "/ocean/projects/asc170022p/mtragoza/mambaforge/envs/lung-project/lib/python3.10/site-packages/nnunetv2/utilities/plans_handling/plans_handler.py:37: UserWarning: Detected old nnU-Net plans format. Attempting to reconstruct network architecture parameters. If this fails, rerun nnUNetv2_plan_experiment for your dataset. If you use a custom architecture, please downgrade nnU-Net to the version you implemented this or update your implementation + plans.\n",
      "  warnings.warn(\"Detected old nnU-Net plans format. Attempting to reconstruct network architecture \"\n",
      "100%|██████████| 18/18 [00:00<00:00, 23.24it/s]\n"
     ]
    },
    {
     "name": "stdout",
     "output_type": "stream",
     "text": [
      "  Predicted in 9.62s\n"
     ]
    },
    {
     "name": "stderr",
     "output_type": "stream",
     "text": [
      "100%|██████████| 1/1 [00:00<00:00,  7.78it/s]\n",
      "100%|██████████| 1/1 [00:00<00:00,  8.22it/s]\n"
     ]
    },
    {
     "name": "stdout",
     "output_type": "stream",
     "text": [
      "Resampling...\n",
      "Saving segmentations...\n",
      "Creating body_trunc.nii.gz\n",
      "Creating body_extremities.nii.gz\n"
     ]
    },
    {
     "data": {
      "application/vnd.jupyter.widget-view+json": {
       "model_id": "71c01043a01a4a52be9a578688cec6ed",
       "version_major": 2,
       "version_minor": 0
      },
      "text/plain": [
       "  0%|          | 0/2 [00:00<?, ?it/s]"
      ]
     },
     "metadata": {},
     "output_type": "display_data"
    },
    {
     "name": "stdout",
     "output_type": "stream",
     "text": [
      "  Saved in 0.32s\n",
      "Creating body.nii.gz\n",
      "Creating skin.nii.gz\n",
      "Segmenting Case2Pack phase 60\n",
      "\n",
      "If you use this tool please cite: https://pubs.rsna.org/doi/10.1148/ryai.230024\n",
      "\n",
      "Generating rough body segmentation...\n",
      "Resampling...\n",
      "  Resampled in 0.24s\n",
      "Predicting...\n"
     ]
    },
    {
     "name": "stderr",
     "output_type": "stream",
     "text": [
      "/ocean/projects/asc170022p/mtragoza/mambaforge/envs/lung-project/lib/python3.10/site-packages/nnunetv2/utilities/plans_handling/plans_handler.py:37: UserWarning: Detected old nnU-Net plans format. Attempting to reconstruct network architecture parameters. If this fails, rerun nnUNetv2_plan_experiment for your dataset. If you use a custom architecture, please downgrade nnU-Net to the version you implemented this or update your implementation + plans.\n",
      "  warnings.warn(\"Detected old nnU-Net plans format. Attempting to reconstruct network architecture \"\n",
      "100%|██████████| 1/1 [00:00<00:00, 92.08it/s]\n"
     ]
    },
    {
     "name": "stdout",
     "output_type": "stream",
     "text": [
      "  Predicted in 7.19s\n",
      "Resampling...\n",
      "  cropping from (256, 256, 94) to (256, 204, 94)\n",
      "Resampling...\n",
      "  Resampled in 1.97s\n",
      "Predicting part 1 of 1 ...\n"
     ]
    },
    {
     "name": "stderr",
     "output_type": "stream",
     "text": [
      "100%|██████████| 8/8 [00:00<00:00, 32.04it/s]\n"
     ]
    },
    {
     "name": "stdout",
     "output_type": "stream",
     "text": [
      "  Predicted in 9.54s\n",
      "Resampling...\n",
      "Saving segmentations...\n"
     ]
    },
    {
     "data": {
      "application/vnd.jupyter.widget-view+json": {
       "model_id": "0dc130b622f343faba20a20b77aec29d",
       "version_major": 2,
       "version_minor": 0
      },
      "text/plain": [
       "  0%|          | 0/5 [00:00<?, ?it/s]"
      ]
     },
     "metadata": {},
     "output_type": "display_data"
    },
    {
     "name": "stdout",
     "output_type": "stream",
     "text": [
      "  Saved in 0.60s\n",
      "\n",
      "If you use this tool please cite: https://pubs.rsna.org/doi/10.1148/ryai.230024\n",
      "\n",
      "Generating rough body segmentation...\n",
      "Resampling...\n",
      "  Resampled in 0.24s\n",
      "Predicting...\n"
     ]
    },
    {
     "name": "stderr",
     "output_type": "stream",
     "text": [
      "/ocean/projects/asc170022p/mtragoza/mambaforge/envs/lung-project/lib/python3.10/site-packages/nnunetv2/utilities/plans_handling/plans_handler.py:37: UserWarning: Detected old nnU-Net plans format. Attempting to reconstruct network architecture parameters. If this fails, rerun nnUNetv2_plan_experiment for your dataset. If you use a custom architecture, please downgrade nnU-Net to the version you implemented this or update your implementation + plans.\n",
      "  warnings.warn(\"Detected old nnU-Net plans format. Attempting to reconstruct network architecture \"\n",
      "100%|██████████| 1/1 [00:00<00:00, 97.42it/s]\n"
     ]
    },
    {
     "name": "stdout",
     "output_type": "stream",
     "text": [
      "  Predicted in 7.11s\n",
      "Resampling...\n",
      "  cropping from (256, 256, 94) to (256, 204, 94)\n",
      "Predicting...\n"
     ]
    },
    {
     "name": "stderr",
     "output_type": "stream",
     "text": [
      "100%|██████████| 80/80 [00:04<00:00, 17.67it/s]\n"
     ]
    },
    {
     "name": "stdout",
     "output_type": "stream",
     "text": [
      "  Predicted in 28.23s\n",
      "Saving segmentations...\n",
      "Creating lung_vessels.nii.gz\n",
      "\n",
      "Creating lung_trachea_bronchia.nii.gz"
     ]
    },
    {
     "data": {
      "application/vnd.jupyter.widget-view+json": {
       "model_id": "1ea85fd4a6d64d17a03cf8889a82e7eb",
       "version_major": 2,
       "version_minor": 0
      },
      "text/plain": [
       "  0%|          | 0/2 [00:00<?, ?it/s]"
      ]
     },
     "metadata": {},
     "output_type": "display_data"
    },
    {
     "name": "stdout",
     "output_type": "stream",
     "text": [
      "  Saved in 0.49s\n",
      "\n",
      "If you use this tool please cite: https://pubs.rsna.org/doi/10.1148/ryai.230024\n",
      "\n",
      "Resampling...\n",
      "  Resampled in 2.53s\n",
      "Predicting...\n"
     ]
    },
    {
     "name": "stderr",
     "output_type": "stream",
     "text": [
      "/ocean/projects/asc170022p/mtragoza/mambaforge/envs/lung-project/lib/python3.10/site-packages/nnunetv2/utilities/plans_handling/plans_handler.py:37: UserWarning: Detected old nnU-Net plans format. Attempting to reconstruct network architecture parameters. If this fails, rerun nnUNetv2_plan_experiment for your dataset. If you use a custom architecture, please downgrade nnU-Net to the version you implemented this or update your implementation + plans.\n",
      "  warnings.warn(\"Detected old nnU-Net plans format. Attempting to reconstruct network architecture \"\n",
      "100%|██████████| 18/18 [00:00<00:00, 23.12it/s]\n"
     ]
    },
    {
     "name": "stdout",
     "output_type": "stream",
     "text": [
      "  Predicted in 9.64s\n"
     ]
    },
    {
     "name": "stderr",
     "output_type": "stream",
     "text": [
      "100%|██████████| 1/1 [00:00<00:00,  7.90it/s]\n",
      "100%|██████████| 1/1 [00:00<00:00,  8.07it/s]\n"
     ]
    },
    {
     "name": "stdout",
     "output_type": "stream",
     "text": [
      "Resampling...\n",
      "Saving segmentations...\n",
      "Creating body_trunc.nii.gz\n",
      "Creating body_extremities.nii.gz\n"
     ]
    },
    {
     "data": {
      "application/vnd.jupyter.widget-view+json": {
       "model_id": "818b710ce6e44f8380c0e6d2d32d43c9",
       "version_major": 2,
       "version_minor": 0
      },
      "text/plain": [
       "  0%|          | 0/2 [00:00<?, ?it/s]"
      ]
     },
     "metadata": {},
     "output_type": "display_data"
    },
    {
     "name": "stdout",
     "output_type": "stream",
     "text": [
      "  Saved in 0.33s\n",
      "Creating body.nii.gz\n",
      "Creating skin.nii.gz\n",
      "Segmenting Case2Pack phase 70\n",
      "\n",
      "If you use this tool please cite: https://pubs.rsna.org/doi/10.1148/ryai.230024\n",
      "\n",
      "Generating rough body segmentation...\n",
      "Resampling...\n",
      "  Resampled in 0.24s\n",
      "Predicting...\n"
     ]
    },
    {
     "name": "stderr",
     "output_type": "stream",
     "text": [
      "/ocean/projects/asc170022p/mtragoza/mambaforge/envs/lung-project/lib/python3.10/site-packages/nnunetv2/utilities/plans_handling/plans_handler.py:37: UserWarning: Detected old nnU-Net plans format. Attempting to reconstruct network architecture parameters. If this fails, rerun nnUNetv2_plan_experiment for your dataset. If you use a custom architecture, please downgrade nnU-Net to the version you implemented this or update your implementation + plans.\n",
      "  warnings.warn(\"Detected old nnU-Net plans format. Attempting to reconstruct network architecture \"\n",
      "100%|██████████| 1/1 [00:00<00:00, 75.96it/s]\n"
     ]
    },
    {
     "name": "stdout",
     "output_type": "stream",
     "text": [
      "  Predicted in 7.16s\n",
      "Resampling...\n",
      "  cropping from (256, 256, 94) to (256, 204, 94)\n",
      "Resampling...\n",
      "  Resampled in 1.97s\n",
      "Predicting part 1 of 1 ...\n"
     ]
    },
    {
     "name": "stderr",
     "output_type": "stream",
     "text": [
      "100%|██████████| 8/8 [00:00<00:00, 32.12it/s]\n"
     ]
    },
    {
     "name": "stdout",
     "output_type": "stream",
     "text": [
      "  Predicted in 9.67s\n",
      "Resampling...\n",
      "Saving segmentations...\n"
     ]
    },
    {
     "data": {
      "application/vnd.jupyter.widget-view+json": {
       "model_id": "4c8c0a8556e44bd881259e9fd9604b50",
       "version_major": 2,
       "version_minor": 0
      },
      "text/plain": [
       "  0%|          | 0/5 [00:00<?, ?it/s]"
      ]
     },
     "metadata": {},
     "output_type": "display_data"
    },
    {
     "name": "stdout",
     "output_type": "stream",
     "text": [
      "  Saved in 0.55s\n",
      "\n",
      "If you use this tool please cite: https://pubs.rsna.org/doi/10.1148/ryai.230024\n",
      "\n",
      "Generating rough body segmentation...\n",
      "Resampling...\n",
      "  Resampled in 0.24s\n",
      "Predicting...\n"
     ]
    },
    {
     "name": "stderr",
     "output_type": "stream",
     "text": [
      "/ocean/projects/asc170022p/mtragoza/mambaforge/envs/lung-project/lib/python3.10/site-packages/nnunetv2/utilities/plans_handling/plans_handler.py:37: UserWarning: Detected old nnU-Net plans format. Attempting to reconstruct network architecture parameters. If this fails, rerun nnUNetv2_plan_experiment for your dataset. If you use a custom architecture, please downgrade nnU-Net to the version you implemented this or update your implementation + plans.\n",
      "  warnings.warn(\"Detected old nnU-Net plans format. Attempting to reconstruct network architecture \"\n",
      "100%|██████████| 1/1 [00:00<00:00, 106.09it/s]\n"
     ]
    },
    {
     "name": "stdout",
     "output_type": "stream",
     "text": [
      "  Predicted in 7.29s\n",
      "Resampling...\n",
      "  cropping from (256, 256, 94) to (256, 204, 94)\n",
      "Predicting...\n"
     ]
    },
    {
     "name": "stderr",
     "output_type": "stream",
     "text": [
      "100%|██████████| 80/80 [00:04<00:00, 17.66it/s]\n"
     ]
    },
    {
     "name": "stdout",
     "output_type": "stream",
     "text": [
      "  Predicted in 28.28s\n",
      "Saving segmentations...\n",
      "Creating lung_vessels.nii.gz"
     ]
    },
    {
     "data": {
      "application/vnd.jupyter.widget-view+json": {
       "model_id": "d5e670776da54783b1298748fc1b2e4c",
       "version_major": 2,
       "version_minor": 0
      },
      "text/plain": [
       "  0%|          | 0/2 [00:00<?, ?it/s]"
      ]
     },
     "metadata": {},
     "output_type": "display_data"
    },
    {
     "name": "stdout",
     "output_type": "stream",
     "text": [
      "\n",
      "Creating lung_trachea_bronchia.nii.gz\n",
      "  Saved in 13.93s\n",
      "\n",
      "If you use this tool please cite: https://pubs.rsna.org/doi/10.1148/ryai.230024\n",
      "\n",
      "Resampling...\n",
      "  Resampled in 2.53s\n",
      "Predicting...\n"
     ]
    },
    {
     "name": "stderr",
     "output_type": "stream",
     "text": [
      "/ocean/projects/asc170022p/mtragoza/mambaforge/envs/lung-project/lib/python3.10/site-packages/nnunetv2/utilities/plans_handling/plans_handler.py:37: UserWarning: Detected old nnU-Net plans format. Attempting to reconstruct network architecture parameters. If this fails, rerun nnUNetv2_plan_experiment for your dataset. If you use a custom architecture, please downgrade nnU-Net to the version you implemented this or update your implementation + plans.\n",
      "  warnings.warn(\"Detected old nnU-Net plans format. Attempting to reconstruct network architecture \"\n",
      "100%|██████████| 18/18 [00:00<00:00, 22.80it/s]\n"
     ]
    },
    {
     "name": "stdout",
     "output_type": "stream",
     "text": [
      "  Predicted in 9.53s\n"
     ]
    },
    {
     "name": "stderr",
     "output_type": "stream",
     "text": [
      "100%|██████████| 1/1 [00:00<00:00,  7.77it/s]\n",
      "100%|██████████| 1/1 [00:00<00:00,  8.09it/s]\n"
     ]
    },
    {
     "name": "stdout",
     "output_type": "stream",
     "text": [
      "Resampling...\n",
      "Saving segmentations...\n",
      "Creating body_trunc.nii.gz\n",
      "Creating body_extremities.nii.gz\n"
     ]
    },
    {
     "data": {
      "application/vnd.jupyter.widget-view+json": {
       "model_id": "5487f3524bb244b4ba183ef4aa01f4e5",
       "version_major": 2,
       "version_minor": 0
      },
      "text/plain": [
       "  0%|          | 0/2 [00:00<?, ?it/s]"
      ]
     },
     "metadata": {},
     "output_type": "display_data"
    },
    {
     "name": "stdout",
     "output_type": "stream",
     "text": [
      "  Saved in 0.34s\n",
      "Creating body.nii.gz\n",
      "Creating skin.nii.gz\n",
      "Segmenting Case2Pack phase 80\n",
      "\n",
      "If you use this tool please cite: https://pubs.rsna.org/doi/10.1148/ryai.230024\n",
      "\n",
      "Generating rough body segmentation...\n",
      "Resampling...\n",
      "  Resampled in 0.24s\n",
      "Predicting...\n"
     ]
    },
    {
     "name": "stderr",
     "output_type": "stream",
     "text": [
      "/ocean/projects/asc170022p/mtragoza/mambaforge/envs/lung-project/lib/python3.10/site-packages/nnunetv2/utilities/plans_handling/plans_handler.py:37: UserWarning: Detected old nnU-Net plans format. Attempting to reconstruct network architecture parameters. If this fails, rerun nnUNetv2_plan_experiment for your dataset. If you use a custom architecture, please downgrade nnU-Net to the version you implemented this or update your implementation + plans.\n",
      "  warnings.warn(\"Detected old nnU-Net plans format. Attempting to reconstruct network architecture \"\n",
      "100%|██████████| 1/1 [00:00<00:00, 81.83it/s]\n"
     ]
    },
    {
     "name": "stdout",
     "output_type": "stream",
     "text": [
      "  Predicted in 7.29s\n",
      "Resampling...\n",
      "  cropping from (256, 256, 94) to (256, 204, 92)\n",
      "Resampling...\n",
      "  Resampled in 1.93s\n",
      "Predicting part 1 of 1 ...\n"
     ]
    },
    {
     "name": "stderr",
     "output_type": "stream",
     "text": [
      "100%|██████████| 8/8 [00:00<00:00, 32.49it/s]\n"
     ]
    },
    {
     "name": "stdout",
     "output_type": "stream",
     "text": [
      "  Predicted in 9.64s\n",
      "Resampling...\n",
      "Saving segmentations...\n"
     ]
    },
    {
     "data": {
      "application/vnd.jupyter.widget-view+json": {
       "model_id": "9d483d5d49cc4fd0bbdb01c2fd605770",
       "version_major": 2,
       "version_minor": 0
      },
      "text/plain": [
       "  0%|          | 0/5 [00:00<?, ?it/s]"
      ]
     },
     "metadata": {},
     "output_type": "display_data"
    },
    {
     "name": "stdout",
     "output_type": "stream",
     "text": [
      "  Saved in 0.56s\n",
      "\n",
      "If you use this tool please cite: https://pubs.rsna.org/doi/10.1148/ryai.230024\n",
      "\n",
      "Generating rough body segmentation...\n",
      "Resampling...\n",
      "  Resampled in 0.24s\n",
      "Predicting...\n"
     ]
    },
    {
     "name": "stderr",
     "output_type": "stream",
     "text": [
      "/ocean/projects/asc170022p/mtragoza/mambaforge/envs/lung-project/lib/python3.10/site-packages/nnunetv2/utilities/plans_handling/plans_handler.py:37: UserWarning: Detected old nnU-Net plans format. Attempting to reconstruct network architecture parameters. If this fails, rerun nnUNetv2_plan_experiment for your dataset. If you use a custom architecture, please downgrade nnU-Net to the version you implemented this or update your implementation + plans.\n",
      "  warnings.warn(\"Detected old nnU-Net plans format. Attempting to reconstruct network architecture \"\n",
      "100%|██████████| 1/1 [00:00<00:00, 81.82it/s]\n"
     ]
    },
    {
     "name": "stdout",
     "output_type": "stream",
     "text": [
      "  Predicted in 7.13s\n",
      "Resampling...\n",
      "  cropping from (256, 256, 94) to (256, 204, 92)\n",
      "Predicting...\n"
     ]
    },
    {
     "name": "stderr",
     "output_type": "stream",
     "text": [
      "100%|██████████| 80/80 [00:04<00:00, 17.65it/s]\n"
     ]
    },
    {
     "name": "stdout",
     "output_type": "stream",
     "text": [
      "  Predicted in 30.54s\n",
      "Saving segmentations...\n",
      "Creating lung_vessels.nii.gz\n",
      "Creating lung_trachea_bronchia.nii.gz"
     ]
    },
    {
     "data": {
      "application/vnd.jupyter.widget-view+json": {
       "model_id": "642aead1f0c14b11a1c84c2f3d2bbcf4",
       "version_major": 2,
       "version_minor": 0
      },
      "text/plain": [
       "  0%|          | 0/2 [00:00<?, ?it/s]"
      ]
     },
     "metadata": {},
     "output_type": "display_data"
    },
    {
     "name": "stdout",
     "output_type": "stream",
     "text": [
      "\n",
      "  Saved in 0.49s\n",
      "\n",
      "If you use this tool please cite: https://pubs.rsna.org/doi/10.1148/ryai.230024\n",
      "\n",
      "Resampling...\n",
      "  Resampled in 2.53s\n",
      "Predicting...\n"
     ]
    },
    {
     "name": "stderr",
     "output_type": "stream",
     "text": [
      "/ocean/projects/asc170022p/mtragoza/mambaforge/envs/lung-project/lib/python3.10/site-packages/nnunetv2/utilities/plans_handling/plans_handler.py:37: UserWarning: Detected old nnU-Net plans format. Attempting to reconstruct network architecture parameters. If this fails, rerun nnUNetv2_plan_experiment for your dataset. If you use a custom architecture, please downgrade nnU-Net to the version you implemented this or update your implementation + plans.\n",
      "  warnings.warn(\"Detected old nnU-Net plans format. Attempting to reconstruct network architecture \"\n",
      "100%|██████████| 18/18 [00:00<00:00, 23.07it/s]\n"
     ]
    },
    {
     "name": "stdout",
     "output_type": "stream",
     "text": [
      "  Predicted in 9.82s\n"
     ]
    },
    {
     "name": "stderr",
     "output_type": "stream",
     "text": [
      "100%|██████████| 1/1 [00:00<00:00,  7.93it/s]\n",
      "100%|██████████| 1/1 [00:00<00:00,  8.02it/s]\n"
     ]
    },
    {
     "name": "stdout",
     "output_type": "stream",
     "text": [
      "Resampling...\n",
      "Saving segmentations...\n",
      "Creating body_trunc.nii.gz\n",
      "Creating body_extremities.nii.gz\n"
     ]
    },
    {
     "data": {
      "application/vnd.jupyter.widget-view+json": {
       "model_id": "fb459299096e47ebaf3b0f686f045960",
       "version_major": 2,
       "version_minor": 0
      },
      "text/plain": [
       "  0%|          | 0/2 [00:00<?, ?it/s]"
      ]
     },
     "metadata": {},
     "output_type": "display_data"
    },
    {
     "name": "stdout",
     "output_type": "stream",
     "text": [
      "  Saved in 0.33s\n",
      "Creating body.nii.gz\n",
      "Creating skin.nii.gz\n",
      "Segmenting Case2Pack phase 90\n",
      "\n",
      "If you use this tool please cite: https://pubs.rsna.org/doi/10.1148/ryai.230024\n",
      "\n",
      "Generating rough body segmentation...\n",
      "Resampling...\n",
      "  Resampled in 0.24s\n",
      "Predicting...\n"
     ]
    },
    {
     "name": "stderr",
     "output_type": "stream",
     "text": [
      "/ocean/projects/asc170022p/mtragoza/mambaforge/envs/lung-project/lib/python3.10/site-packages/nnunetv2/utilities/plans_handling/plans_handler.py:37: UserWarning: Detected old nnU-Net plans format. Attempting to reconstruct network architecture parameters. If this fails, rerun nnUNetv2_plan_experiment for your dataset. If you use a custom architecture, please downgrade nnU-Net to the version you implemented this or update your implementation + plans.\n",
      "  warnings.warn(\"Detected old nnU-Net plans format. Attempting to reconstruct network architecture \"\n",
      "100%|██████████| 1/1 [00:00<00:00, 93.54it/s]\n"
     ]
    },
    {
     "name": "stdout",
     "output_type": "stream",
     "text": [
      "  Predicted in 7.22s\n",
      "Resampling...\n",
      "  cropping from (256, 256, 94) to (256, 204, 92)\n",
      "Resampling...\n",
      "  Resampled in 1.92s\n",
      "Predicting part 1 of 1 ...\n"
     ]
    },
    {
     "name": "stderr",
     "output_type": "stream",
     "text": [
      "100%|██████████| 8/8 [00:00<00:00, 33.09it/s]\n"
     ]
    },
    {
     "name": "stdout",
     "output_type": "stream",
     "text": [
      "  Predicted in 9.67s\n",
      "Resampling...\n",
      "Saving segmentations...\n"
     ]
    },
    {
     "data": {
      "application/vnd.jupyter.widget-view+json": {
       "model_id": "1da19bb0576d43229be48934049557c3",
       "version_major": 2,
       "version_minor": 0
      },
      "text/plain": [
       "  0%|          | 0/5 [00:00<?, ?it/s]"
      ]
     },
     "metadata": {},
     "output_type": "display_data"
    },
    {
     "name": "stdout",
     "output_type": "stream",
     "text": [
      "  Saved in 0.58s\n",
      "\n",
      "If you use this tool please cite: https://pubs.rsna.org/doi/10.1148/ryai.230024\n",
      "\n",
      "Generating rough body segmentation...\n",
      "Resampling...\n",
      "  Resampled in 0.24s\n",
      "Predicting...\n"
     ]
    },
    {
     "name": "stderr",
     "output_type": "stream",
     "text": [
      "/ocean/projects/asc170022p/mtragoza/mambaforge/envs/lung-project/lib/python3.10/site-packages/nnunetv2/utilities/plans_handling/plans_handler.py:37: UserWarning: Detected old nnU-Net plans format. Attempting to reconstruct network architecture parameters. If this fails, rerun nnUNetv2_plan_experiment for your dataset. If you use a custom architecture, please downgrade nnU-Net to the version you implemented this or update your implementation + plans.\n",
      "  warnings.warn(\"Detected old nnU-Net plans format. Attempting to reconstruct network architecture \"\n",
      "100%|██████████| 1/1 [00:00<00:00, 109.65it/s]\n"
     ]
    },
    {
     "name": "stdout",
     "output_type": "stream",
     "text": [
      "  Predicted in 7.18s\n",
      "Resampling...\n",
      "  cropping from (256, 256, 94) to (256, 204, 92)\n",
      "Predicting...\n"
     ]
    },
    {
     "name": "stderr",
     "output_type": "stream",
     "text": [
      "100%|██████████| 80/80 [00:04<00:00, 17.64it/s]\n"
     ]
    },
    {
     "name": "stdout",
     "output_type": "stream",
     "text": [
      "  Predicted in 28.06s\n",
      "Saving segmentations...\n",
      "Creating lung_vessels.nii.gz\n",
      "Creating lung_trachea_bronchia.nii.gz\n"
     ]
    },
    {
     "data": {
      "application/vnd.jupyter.widget-view+json": {
       "model_id": "9f2618f8efe54076b2826ed54a87fd7e",
       "version_major": 2,
       "version_minor": 0
      },
      "text/plain": [
       "  0%|          | 0/2 [00:00<?, ?it/s]"
      ]
     },
     "metadata": {},
     "output_type": "display_data"
    },
    {
     "name": "stdout",
     "output_type": "stream",
     "text": [
      "  Saved in 0.49s\n",
      "\n",
      "If you use this tool please cite: https://pubs.rsna.org/doi/10.1148/ryai.230024\n",
      "\n",
      "Resampling...\n",
      "  Resampled in 2.53s\n",
      "Predicting...\n"
     ]
    },
    {
     "name": "stderr",
     "output_type": "stream",
     "text": [
      "/ocean/projects/asc170022p/mtragoza/mambaforge/envs/lung-project/lib/python3.10/site-packages/nnunetv2/utilities/plans_handling/plans_handler.py:37: UserWarning: Detected old nnU-Net plans format. Attempting to reconstruct network architecture parameters. If this fails, rerun nnUNetv2_plan_experiment for your dataset. If you use a custom architecture, please downgrade nnU-Net to the version you implemented this or update your implementation + plans.\n",
      "  warnings.warn(\"Detected old nnU-Net plans format. Attempting to reconstruct network architecture \"\n",
      "100%|██████████| 18/18 [00:00<00:00, 23.19it/s]\n"
     ]
    },
    {
     "name": "stdout",
     "output_type": "stream",
     "text": [
      "  Predicted in 10.10s\n"
     ]
    },
    {
     "name": "stderr",
     "output_type": "stream",
     "text": [
      "100%|██████████| 1/1 [00:00<00:00,  7.40it/s]\n",
      "100%|██████████| 1/1 [00:00<00:00,  8.06it/s]\n"
     ]
    },
    {
     "name": "stdout",
     "output_type": "stream",
     "text": [
      "Resampling...\n",
      "Saving segmentations...\n",
      "Creating body_trunc.nii.gz\n",
      "Creating body_extremities.nii.gz\n"
     ]
    },
    {
     "data": {
      "application/vnd.jupyter.widget-view+json": {
       "model_id": "81a9a7f5150a47f6b2a368ab1630aacb",
       "version_major": 2,
       "version_minor": 0
      },
      "text/plain": [
       "  0%|          | 0/2 [00:00<?, ?it/s]"
      ]
     },
     "metadata": {},
     "output_type": "display_data"
    },
    {
     "name": "stdout",
     "output_type": "stream",
     "text": [
      "  Saved in 249.74s\n",
      "Creating body.nii.gz\n",
      "Creating skin.nii.gz\n",
      "Segmenting Case3Pack phase 0\n",
      "\n",
      "If you use this tool please cite: https://pubs.rsna.org/doi/10.1148/ryai.230024\n",
      "\n",
      "Generating rough body segmentation...\n",
      "Resampling...\n",
      "  Resampled in 0.23s\n",
      "Predicting...\n"
     ]
    },
    {
     "name": "stderr",
     "output_type": "stream",
     "text": [
      "/ocean/projects/asc170022p/mtragoza/mambaforge/envs/lung-project/lib/python3.10/site-packages/nnunetv2/utilities/plans_handling/plans_handler.py:37: UserWarning: Detected old nnU-Net plans format. Attempting to reconstruct network architecture parameters. If this fails, rerun nnUNetv2_plan_experiment for your dataset. If you use a custom architecture, please downgrade nnU-Net to the version you implemented this or update your implementation + plans.\n",
      "  warnings.warn(\"Detected old nnU-Net plans format. Attempting to reconstruct network architecture \"\n",
      "100%|██████████| 1/1 [00:02<00:00,  2.29s/it]\n"
     ]
    },
    {
     "name": "stdout",
     "output_type": "stream",
     "text": [
      "  Predicted in 10.35s\n",
      "Resampling...\n",
      "  cropping from (256, 256, 94) to (256, 206, 94)\n",
      "Resampling...\n",
      "  Resampled in 1.66s\n",
      "Predicting part 1 of 1 ...\n"
     ]
    },
    {
     "name": "stderr",
     "output_type": "stream",
     "text": [
      "100%|██████████| 8/8 [00:00<00:00, 23.02it/s]\n"
     ]
    },
    {
     "name": "stdout",
     "output_type": "stream",
     "text": [
      "  Predicted in 9.25s\n",
      "Resampling...\n",
      "Saving segmentations...\n"
     ]
    },
    {
     "data": {
      "application/vnd.jupyter.widget-view+json": {
       "model_id": "a2c6230c16cc473795e148bfef2c123d",
       "version_major": 2,
       "version_minor": 0
      },
      "text/plain": [
       "  0%|          | 0/5 [00:00<?, ?it/s]"
      ]
     },
     "metadata": {},
     "output_type": "display_data"
    },
    {
     "name": "stdout",
     "output_type": "stream",
     "text": [
      "  Saved in 0.65s\n",
      "\n",
      "If you use this tool please cite: https://pubs.rsna.org/doi/10.1148/ryai.230024\n",
      "\n",
      "Generating rough body segmentation...\n",
      "Resampling...\n",
      "  Resampled in 0.24s\n",
      "Predicting...\n"
     ]
    },
    {
     "name": "stderr",
     "output_type": "stream",
     "text": [
      "/ocean/projects/asc170022p/mtragoza/mambaforge/envs/lung-project/lib/python3.10/site-packages/nnunetv2/utilities/plans_handling/plans_handler.py:37: UserWarning: Detected old nnU-Net plans format. Attempting to reconstruct network architecture parameters. If this fails, rerun nnUNetv2_plan_experiment for your dataset. If you use a custom architecture, please downgrade nnU-Net to the version you implemented this or update your implementation + plans.\n",
      "  warnings.warn(\"Detected old nnU-Net plans format. Attempting to reconstruct network architecture \"\n",
      "100%|██████████| 1/1 [00:00<00:00, 106.62it/s]\n"
     ]
    },
    {
     "name": "stdout",
     "output_type": "stream",
     "text": [
      "  Predicted in 7.24s\n",
      "Resampling...\n",
      "  cropping from (256, 256, 94) to (256, 206, 94)\n",
      "Predicting...\n"
     ]
    },
    {
     "name": "stderr",
     "output_type": "stream",
     "text": [
      "100%|██████████| 80/80 [00:04<00:00, 17.68it/s]\n"
     ]
    },
    {
     "name": "stdout",
     "output_type": "stream",
     "text": [
      "  Predicted in 25.46s\n",
      "Saving segmentations...\n",
      "Creating lung_vessels.nii.gz\n",
      "Creating lung_trachea_bronchia.nii.gz"
     ]
    },
    {
     "data": {
      "application/vnd.jupyter.widget-view+json": {
       "model_id": "941a678c451c4529a9e9becbfc2081de",
       "version_major": 2,
       "version_minor": 0
      },
      "text/plain": [
       "  0%|          | 0/2 [00:00<?, ?it/s]"
      ]
     },
     "metadata": {},
     "output_type": "display_data"
    },
    {
     "name": "stdout",
     "output_type": "stream",
     "text": [
      "\n",
      "  Saved in 0.48s\n",
      "\n",
      "If you use this tool please cite: https://pubs.rsna.org/doi/10.1148/ryai.230024\n",
      "\n",
      "Resampling...\n",
      "  Resampled in 2.06s\n",
      "Predicting...\n"
     ]
    },
    {
     "name": "stderr",
     "output_type": "stream",
     "text": [
      "/ocean/projects/asc170022p/mtragoza/mambaforge/envs/lung-project/lib/python3.10/site-packages/nnunetv2/utilities/plans_handling/plans_handler.py:37: UserWarning: Detected old nnU-Net plans format. Attempting to reconstruct network architecture parameters. If this fails, rerun nnUNetv2_plan_experiment for your dataset. If you use a custom architecture, please downgrade nnU-Net to the version you implemented this or update your implementation + plans.\n",
      "  warnings.warn(\"Detected old nnU-Net plans format. Attempting to reconstruct network architecture \"\n",
      "100%|██████████| 8/8 [00:00<00:00, 33.89it/s]\n"
     ]
    },
    {
     "name": "stdout",
     "output_type": "stream",
     "text": [
      "  Predicted in 8.61s\n"
     ]
    },
    {
     "name": "stderr",
     "output_type": "stream",
     "text": [
      "100%|██████████| 1/1 [00:00<00:00, 10.05it/s]\n",
      "100%|██████████| 1/1 [00:00<00:00, 10.58it/s]\n"
     ]
    },
    {
     "name": "stdout",
     "output_type": "stream",
     "text": [
      "Resampling...\n",
      "Saving segmentations...\n",
      "Creating body_trunc.nii.gz"
     ]
    },
    {
     "data": {
      "application/vnd.jupyter.widget-view+json": {
       "model_id": "8351983310d843b2a00879613af0052a",
       "version_major": 2,
       "version_minor": 0
      },
      "text/plain": [
       "  0%|          | 0/2 [00:00<?, ?it/s]"
      ]
     },
     "metadata": {},
     "output_type": "display_data"
    },
    {
     "name": "stdout",
     "output_type": "stream",
     "text": [
      "\n",
      "Creating body_extremities.nii.gz\n",
      "  Saved in 0.33s\n",
      "Creating body.nii.gz\n",
      "Creating skin.nii.gz\n",
      "Segmenting Case3Pack phase 10\n",
      "\n",
      "If you use this tool please cite: https://pubs.rsna.org/doi/10.1148/ryai.230024\n",
      "\n",
      "Generating rough body segmentation...\n",
      "Resampling...\n",
      "  Resampled in 0.23s\n",
      "Predicting...\n"
     ]
    },
    {
     "name": "stderr",
     "output_type": "stream",
     "text": [
      "/ocean/projects/asc170022p/mtragoza/mambaforge/envs/lung-project/lib/python3.10/site-packages/nnunetv2/utilities/plans_handling/plans_handler.py:37: UserWarning: Detected old nnU-Net plans format. Attempting to reconstruct network architecture parameters. If this fails, rerun nnUNetv2_plan_experiment for your dataset. If you use a custom architecture, please downgrade nnU-Net to the version you implemented this or update your implementation + plans.\n",
      "  warnings.warn(\"Detected old nnU-Net plans format. Attempting to reconstruct network architecture \"\n",
      "100%|██████████| 1/1 [00:00<00:00, 95.50it/s]\n"
     ]
    },
    {
     "name": "stdout",
     "output_type": "stream",
     "text": [
      "  Predicted in 7.04s\n",
      "Resampling...\n",
      "  cropping from (256, 256, 94) to (256, 206, 94)\n",
      "Resampling...\n",
      "  Resampled in 1.62s\n",
      "Predicting part 1 of 1 ...\n"
     ]
    },
    {
     "name": "stderr",
     "output_type": "stream",
     "text": [
      "100%|██████████| 8/8 [00:00<00:00, 32.78it/s]\n"
     ]
    },
    {
     "name": "stdout",
     "output_type": "stream",
     "text": [
      "  Predicted in 9.08s\n",
      "Resampling...\n",
      "Saving segmentations...\n"
     ]
    },
    {
     "data": {
      "application/vnd.jupyter.widget-view+json": {
       "model_id": "f49a42030ec44995b1e4539d05f9b7d3",
       "version_major": 2,
       "version_minor": 0
      },
      "text/plain": [
       "  0%|          | 0/5 [00:00<?, ?it/s]"
      ]
     },
     "metadata": {},
     "output_type": "display_data"
    },
    {
     "name": "stdout",
     "output_type": "stream",
     "text": [
      "  Saved in 0.70s\n",
      "\n",
      "If you use this tool please cite: https://pubs.rsna.org/doi/10.1148/ryai.230024\n",
      "\n",
      "Generating rough body segmentation...\n",
      "Resampling...\n",
      "  Resampled in 0.23s\n",
      "Predicting...\n"
     ]
    },
    {
     "name": "stderr",
     "output_type": "stream",
     "text": [
      "/ocean/projects/asc170022p/mtragoza/mambaforge/envs/lung-project/lib/python3.10/site-packages/nnunetv2/utilities/plans_handling/plans_handler.py:37: UserWarning: Detected old nnU-Net plans format. Attempting to reconstruct network architecture parameters. If this fails, rerun nnUNetv2_plan_experiment for your dataset. If you use a custom architecture, please downgrade nnU-Net to the version you implemented this or update your implementation + plans.\n",
      "  warnings.warn(\"Detected old nnU-Net plans format. Attempting to reconstruct network architecture \"\n",
      "100%|██████████| 1/1 [00:00<00:00, 109.80it/s]\n"
     ]
    },
    {
     "name": "stdout",
     "output_type": "stream",
     "text": [
      "  Predicted in 7.20s\n",
      "Resampling...\n",
      "  cropping from (256, 256, 94) to (256, 206, 94)\n",
      "Predicting...\n"
     ]
    },
    {
     "name": "stderr",
     "output_type": "stream",
     "text": [
      "100%|██████████| 80/80 [00:04<00:00, 17.68it/s]\n"
     ]
    },
    {
     "name": "stdout",
     "output_type": "stream",
     "text": [
      "  Predicted in 25.62s\n",
      "Saving segmentations...\n",
      "Creating lung_vessels.nii.gz\n",
      "\n",
      "Creating lung_trachea_bronchia.nii.gz"
     ]
    },
    {
     "data": {
      "application/vnd.jupyter.widget-view+json": {
       "model_id": "e540405422524aeeb4857bb48eab5314",
       "version_major": 2,
       "version_minor": 0
      },
      "text/plain": [
       "  0%|          | 0/2 [00:00<?, ?it/s]"
      ]
     },
     "metadata": {},
     "output_type": "display_data"
    },
    {
     "name": "stdout",
     "output_type": "stream",
     "text": [
      "  Saved in 0.50s\n",
      "\n",
      "If you use this tool please cite: https://pubs.rsna.org/doi/10.1148/ryai.230024\n",
      "\n",
      "Resampling...\n",
      "  Resampled in 2.05s\n",
      "Predicting...\n"
     ]
    },
    {
     "name": "stderr",
     "output_type": "stream",
     "text": [
      "/ocean/projects/asc170022p/mtragoza/mambaforge/envs/lung-project/lib/python3.10/site-packages/nnunetv2/utilities/plans_handling/plans_handler.py:37: UserWarning: Detected old nnU-Net plans format. Attempting to reconstruct network architecture parameters. If this fails, rerun nnUNetv2_plan_experiment for your dataset. If you use a custom architecture, please downgrade nnU-Net to the version you implemented this or update your implementation + plans.\n",
      "  warnings.warn(\"Detected old nnU-Net plans format. Attempting to reconstruct network architecture \"\n",
      "100%|██████████| 8/8 [00:00<00:00, 33.23it/s]\n"
     ]
    },
    {
     "name": "stdout",
     "output_type": "stream",
     "text": [
      "  Predicted in 8.87s\n"
     ]
    },
    {
     "name": "stderr",
     "output_type": "stream",
     "text": [
      "100%|██████████| 1/1 [00:00<00:00,  9.71it/s]\n",
      "100%|██████████| 1/1 [00:00<00:00, 10.42it/s]\n"
     ]
    },
    {
     "name": "stdout",
     "output_type": "stream",
     "text": [
      "Resampling...\n",
      "Saving segmentations...\n",
      "Creating body_trunc.nii.gz\n",
      "Creating body_extremities.nii.gz\n"
     ]
    },
    {
     "data": {
      "application/vnd.jupyter.widget-view+json": {
       "model_id": "972132ec3c1540ccbf71194da3a75461",
       "version_major": 2,
       "version_minor": 0
      },
      "text/plain": [
       "  0%|          | 0/2 [00:00<?, ?it/s]"
      ]
     },
     "metadata": {},
     "output_type": "display_data"
    },
    {
     "name": "stdout",
     "output_type": "stream",
     "text": [
      "  Saved in 0.34s\n",
      "Creating body.nii.gz\n",
      "Creating skin.nii.gz\n",
      "Segmenting Case3Pack phase 20\n",
      "\n",
      "If you use this tool please cite: https://pubs.rsna.org/doi/10.1148/ryai.230024\n",
      "\n",
      "Generating rough body segmentation...\n",
      "Resampling...\n",
      "  Resampled in 0.23s\n",
      "Predicting...\n"
     ]
    },
    {
     "name": "stderr",
     "output_type": "stream",
     "text": [
      "/ocean/projects/asc170022p/mtragoza/mambaforge/envs/lung-project/lib/python3.10/site-packages/nnunetv2/utilities/plans_handling/plans_handler.py:37: UserWarning: Detected old nnU-Net plans format. Attempting to reconstruct network architecture parameters. If this fails, rerun nnUNetv2_plan_experiment for your dataset. If you use a custom architecture, please downgrade nnU-Net to the version you implemented this or update your implementation + plans.\n",
      "  warnings.warn(\"Detected old nnU-Net plans format. Attempting to reconstruct network architecture \"\n",
      "100%|██████████| 1/1 [00:00<00:00, 85.05it/s]\n"
     ]
    },
    {
     "name": "stdout",
     "output_type": "stream",
     "text": [
      "  Predicted in 7.09s\n",
      "Resampling...\n",
      "  cropping from (256, 256, 94) to (256, 206, 93)\n",
      "Resampling...\n",
      "  Resampled in 1.60s\n",
      "Predicting part 1 of 1 ...\n"
     ]
    },
    {
     "name": "stderr",
     "output_type": "stream",
     "text": [
      "100%|██████████| 8/8 [00:00<00:00, 32.74it/s]\n"
     ]
    },
    {
     "name": "stdout",
     "output_type": "stream",
     "text": [
      "  Predicted in 9.12s\n",
      "Resampling...\n",
      "Saving segmentations...\n"
     ]
    },
    {
     "data": {
      "application/vnd.jupyter.widget-view+json": {
       "model_id": "0ac62298f59343959a6a2437b342bc02",
       "version_major": 2,
       "version_minor": 0
      },
      "text/plain": [
       "  0%|          | 0/5 [00:00<?, ?it/s]"
      ]
     },
     "metadata": {},
     "output_type": "display_data"
    },
    {
     "name": "stdout",
     "output_type": "stream",
     "text": [
      "  Saved in 0.55s\n",
      "\n",
      "If you use this tool please cite: https://pubs.rsna.org/doi/10.1148/ryai.230024\n",
      "\n",
      "Generating rough body segmentation...\n",
      "Resampling...\n",
      "  Resampled in 0.23s\n",
      "Predicting...\n"
     ]
    },
    {
     "name": "stderr",
     "output_type": "stream",
     "text": [
      "/ocean/projects/asc170022p/mtragoza/mambaforge/envs/lung-project/lib/python3.10/site-packages/nnunetv2/utilities/plans_handling/plans_handler.py:37: UserWarning: Detected old nnU-Net plans format. Attempting to reconstruct network architecture parameters. If this fails, rerun nnUNetv2_plan_experiment for your dataset. If you use a custom architecture, please downgrade nnU-Net to the version you implemented this or update your implementation + plans.\n",
      "  warnings.warn(\"Detected old nnU-Net plans format. Attempting to reconstruct network architecture \"\n",
      "100%|██████████| 1/1 [00:00<00:00, 50.42it/s]\n"
     ]
    },
    {
     "name": "stdout",
     "output_type": "stream",
     "text": [
      "  Predicted in 7.27s\n",
      "Resampling...\n",
      "  cropping from (256, 256, 94) to (256, 206, 93)\n",
      "Predicting...\n"
     ]
    },
    {
     "name": "stderr",
     "output_type": "stream",
     "text": [
      "100%|██████████| 80/80 [00:04<00:00, 17.62it/s]\n"
     ]
    },
    {
     "name": "stdout",
     "output_type": "stream",
     "text": [
      "  Predicted in 25.27s\n",
      "Saving segmentations...\n",
      "Creating lung_vessels.nii.gz"
     ]
    },
    {
     "data": {
      "application/vnd.jupyter.widget-view+json": {
       "model_id": "790040910658494da69a52e092f36373",
       "version_major": 2,
       "version_minor": 0
      },
      "text/plain": [
       "  0%|          | 0/2 [00:00<?, ?it/s]"
      ]
     },
     "metadata": {},
     "output_type": "display_data"
    },
    {
     "name": "stdout",
     "output_type": "stream",
     "text": [
      "Creating lung_trachea_bronchia.nii.gz\n",
      "\n",
      "  Saved in 0.48s\n",
      "\n",
      "If you use this tool please cite: https://pubs.rsna.org/doi/10.1148/ryai.230024\n",
      "\n",
      "Resampling...\n",
      "  Resampled in 2.04s\n",
      "Predicting...\n"
     ]
    },
    {
     "name": "stderr",
     "output_type": "stream",
     "text": [
      "/ocean/projects/asc170022p/mtragoza/mambaforge/envs/lung-project/lib/python3.10/site-packages/nnunetv2/utilities/plans_handling/plans_handler.py:37: UserWarning: Detected old nnU-Net plans format. Attempting to reconstruct network architecture parameters. If this fails, rerun nnUNetv2_plan_experiment for your dataset. If you use a custom architecture, please downgrade nnU-Net to the version you implemented this or update your implementation + plans.\n",
      "  warnings.warn(\"Detected old nnU-Net plans format. Attempting to reconstruct network architecture \"\n",
      "100%|██████████| 8/8 [00:00<00:00, 33.86it/s]\n"
     ]
    },
    {
     "name": "stdout",
     "output_type": "stream",
     "text": [
      "  Predicted in 8.88s\n"
     ]
    },
    {
     "name": "stderr",
     "output_type": "stream",
     "text": [
      "100%|██████████| 1/1 [00:00<00:00,  9.72it/s]\n",
      "100%|██████████| 1/1 [00:00<00:00, 10.61it/s]\n"
     ]
    },
    {
     "name": "stdout",
     "output_type": "stream",
     "text": [
      "Resampling...\n",
      "Saving segmentations...\n",
      "Creating body_trunc.nii.gz\n",
      "Creating body_extremities.nii.gz\n"
     ]
    },
    {
     "data": {
      "application/vnd.jupyter.widget-view+json": {
       "model_id": "fd6feebb9edf42219f17ec84e95e26f7",
       "version_major": 2,
       "version_minor": 0
      },
      "text/plain": [
       "  0%|          | 0/2 [00:00<?, ?it/s]"
      ]
     },
     "metadata": {},
     "output_type": "display_data"
    },
    {
     "name": "stdout",
     "output_type": "stream",
     "text": [
      "  Saved in 0.91s\n",
      "Creating body.nii.gz\n",
      "Creating skin.nii.gz\n",
      "Segmenting Case3Pack phase 30\n",
      "\n",
      "If you use this tool please cite: https://pubs.rsna.org/doi/10.1148/ryai.230024\n",
      "\n",
      "Generating rough body segmentation...\n",
      "Resampling...\n",
      "  Resampled in 0.23s\n",
      "Predicting...\n"
     ]
    },
    {
     "name": "stderr",
     "output_type": "stream",
     "text": [
      "/ocean/projects/asc170022p/mtragoza/mambaforge/envs/lung-project/lib/python3.10/site-packages/nnunetv2/utilities/plans_handling/plans_handler.py:37: UserWarning: Detected old nnU-Net plans format. Attempting to reconstruct network architecture parameters. If this fails, rerun nnUNetv2_plan_experiment for your dataset. If you use a custom architecture, please downgrade nnU-Net to the version you implemented this or update your implementation + plans.\n",
      "  warnings.warn(\"Detected old nnU-Net plans format. Attempting to reconstruct network architecture \"\n",
      "100%|██████████| 1/1 [00:00<00:00, 89.76it/s]\n"
     ]
    },
    {
     "name": "stdout",
     "output_type": "stream",
     "text": [
      "  Predicted in 6.99s\n",
      "Resampling...\n",
      "  cropping from (256, 256, 94) to (256, 206, 93)\n",
      "Resampling...\n",
      "  Resampled in 1.60s\n",
      "Predicting part 1 of 1 ...\n"
     ]
    },
    {
     "name": "stderr",
     "output_type": "stream",
     "text": [
      "100%|██████████| 8/8 [00:00<00:00, 33.28it/s]\n"
     ]
    },
    {
     "name": "stdout",
     "output_type": "stream",
     "text": [
      "  Predicted in 9.27s\n",
      "Resampling...\n",
      "Saving segmentations...\n"
     ]
    },
    {
     "data": {
      "application/vnd.jupyter.widget-view+json": {
       "model_id": "7de55308f6bc4b3c94cac48266a053a0",
       "version_major": 2,
       "version_minor": 0
      },
      "text/plain": [
       "  0%|          | 0/5 [00:00<?, ?it/s]"
      ]
     },
     "metadata": {},
     "output_type": "display_data"
    },
    {
     "name": "stdout",
     "output_type": "stream",
     "text": [
      "  Saved in 0.64s\n",
      "\n",
      "If you use this tool please cite: https://pubs.rsna.org/doi/10.1148/ryai.230024\n",
      "\n",
      "Generating rough body segmentation...\n",
      "Resampling...\n",
      "  Resampled in 0.23s\n",
      "Predicting...\n"
     ]
    },
    {
     "name": "stderr",
     "output_type": "stream",
     "text": [
      "/ocean/projects/asc170022p/mtragoza/mambaforge/envs/lung-project/lib/python3.10/site-packages/nnunetv2/utilities/plans_handling/plans_handler.py:37: UserWarning: Detected old nnU-Net plans format. Attempting to reconstruct network architecture parameters. If this fails, rerun nnUNetv2_plan_experiment for your dataset. If you use a custom architecture, please downgrade nnU-Net to the version you implemented this or update your implementation + plans.\n",
      "  warnings.warn(\"Detected old nnU-Net plans format. Attempting to reconstruct network architecture \"\n",
      "100%|██████████| 1/1 [00:00<00:00, 109.86it/s]\n"
     ]
    },
    {
     "name": "stdout",
     "output_type": "stream",
     "text": [
      "  Predicted in 7.21s\n",
      "Resampling...\n",
      "  cropping from (256, 256, 94) to (256, 206, 93)\n",
      "Predicting...\n"
     ]
    },
    {
     "name": "stderr",
     "output_type": "stream",
     "text": [
      "100%|██████████| 80/80 [00:04<00:00, 17.63it/s]\n"
     ]
    },
    {
     "name": "stdout",
     "output_type": "stream",
     "text": [
      "  Predicted in 25.44s\n",
      "Saving segmentations...\n",
      "Creating lung_vessels.nii.gz\n",
      "Creating lung_trachea_bronchia.nii.gz\n"
     ]
    },
    {
     "data": {
      "application/vnd.jupyter.widget-view+json": {
       "model_id": "d2492b025fda43828c5d090568e96792",
       "version_major": 2,
       "version_minor": 0
      },
      "text/plain": [
       "  0%|          | 0/2 [00:00<?, ?it/s]"
      ]
     },
     "metadata": {},
     "output_type": "display_data"
    },
    {
     "name": "stdout",
     "output_type": "stream",
     "text": [
      "  Saved in 0.68s\n",
      "\n",
      "If you use this tool please cite: https://pubs.rsna.org/doi/10.1148/ryai.230024\n",
      "\n",
      "Resampling...\n",
      "  Resampled in 2.05s\n",
      "Predicting...\n"
     ]
    },
    {
     "name": "stderr",
     "output_type": "stream",
     "text": [
      "/ocean/projects/asc170022p/mtragoza/mambaforge/envs/lung-project/lib/python3.10/site-packages/nnunetv2/utilities/plans_handling/plans_handler.py:37: UserWarning: Detected old nnU-Net plans format. Attempting to reconstruct network architecture parameters. If this fails, rerun nnUNetv2_plan_experiment for your dataset. If you use a custom architecture, please downgrade nnU-Net to the version you implemented this or update your implementation + plans.\n",
      "  warnings.warn(\"Detected old nnU-Net plans format. Attempting to reconstruct network architecture \"\n",
      "100%|██████████| 8/8 [00:00<00:00, 33.27it/s]\n"
     ]
    },
    {
     "name": "stdout",
     "output_type": "stream",
     "text": [
      "  Predicted in 8.70s\n"
     ]
    },
    {
     "name": "stderr",
     "output_type": "stream",
     "text": [
      "100%|██████████| 1/1 [00:00<00:00, 10.20it/s]\n",
      "100%|██████████| 1/1 [00:00<00:00, 10.69it/s]\n"
     ]
    },
    {
     "name": "stdout",
     "output_type": "stream",
     "text": [
      "Resampling...\n",
      "Saving segmentations...\n",
      "Creating body_trunc.nii.gz\n",
      "Creating body_extremities.nii.gz\n"
     ]
    },
    {
     "data": {
      "application/vnd.jupyter.widget-view+json": {
       "model_id": "76e08fb667524e43acae57a493efe426",
       "version_major": 2,
       "version_minor": 0
      },
      "text/plain": [
       "  0%|          | 0/2 [00:00<?, ?it/s]"
      ]
     },
     "metadata": {},
     "output_type": "display_data"
    },
    {
     "name": "stdout",
     "output_type": "stream",
     "text": [
      "  Saved in 0.37s\n",
      "Creating body.nii.gz\n",
      "Creating skin.nii.gz\n",
      "Segmenting Case3Pack phase 40\n",
      "\n",
      "If you use this tool please cite: https://pubs.rsna.org/doi/10.1148/ryai.230024\n",
      "\n",
      "Generating rough body segmentation...\n",
      "Resampling...\n",
      "  Resampled in 0.23s\n",
      "Predicting...\n"
     ]
    },
    {
     "name": "stderr",
     "output_type": "stream",
     "text": [
      "/ocean/projects/asc170022p/mtragoza/mambaforge/envs/lung-project/lib/python3.10/site-packages/nnunetv2/utilities/plans_handling/plans_handler.py:37: UserWarning: Detected old nnU-Net plans format. Attempting to reconstruct network architecture parameters. If this fails, rerun nnUNetv2_plan_experiment for your dataset. If you use a custom architecture, please downgrade nnU-Net to the version you implemented this or update your implementation + plans.\n",
      "  warnings.warn(\"Detected old nnU-Net plans format. Attempting to reconstruct network architecture \"\n",
      "100%|██████████| 1/1 [00:00<00:00, 106.89it/s]\n"
     ]
    },
    {
     "name": "stdout",
     "output_type": "stream",
     "text": [
      "  Predicted in 7.10s\n",
      "Resampling...\n",
      "  cropping from (256, 256, 94) to (256, 206, 94)\n",
      "Resampling...\n",
      "  Resampled in 1.64s\n",
      "Predicting part 1 of 1 ...\n"
     ]
    },
    {
     "name": "stderr",
     "output_type": "stream",
     "text": [
      "100%|██████████| 8/8 [00:00<00:00, 32.72it/s]\n"
     ]
    },
    {
     "name": "stdout",
     "output_type": "stream",
     "text": [
      "  Predicted in 9.05s\n",
      "Resampling...\n",
      "Saving segmentations...\n"
     ]
    },
    {
     "data": {
      "application/vnd.jupyter.widget-view+json": {
       "model_id": "ac44381246c84855847766c425a36337",
       "version_major": 2,
       "version_minor": 0
      },
      "text/plain": [
       "  0%|          | 0/5 [00:00<?, ?it/s]"
      ]
     },
     "metadata": {},
     "output_type": "display_data"
    },
    {
     "name": "stdout",
     "output_type": "stream",
     "text": [
      "  Saved in 0.60s\n",
      "\n",
      "If you use this tool please cite: https://pubs.rsna.org/doi/10.1148/ryai.230024\n",
      "\n",
      "Generating rough body segmentation...\n",
      "Resampling...\n",
      "  Resampled in 0.23s\n",
      "Predicting...\n"
     ]
    },
    {
     "name": "stderr",
     "output_type": "stream",
     "text": [
      "/ocean/projects/asc170022p/mtragoza/mambaforge/envs/lung-project/lib/python3.10/site-packages/nnunetv2/utilities/plans_handling/plans_handler.py:37: UserWarning: Detected old nnU-Net plans format. Attempting to reconstruct network architecture parameters. If this fails, rerun nnUNetv2_plan_experiment for your dataset. If you use a custom architecture, please downgrade nnU-Net to the version you implemented this or update your implementation + plans.\n",
      "  warnings.warn(\"Detected old nnU-Net plans format. Attempting to reconstruct network architecture \"\n",
      "100%|██████████| 1/1 [00:00<00:00, 110.14it/s]\n"
     ]
    },
    {
     "name": "stdout",
     "output_type": "stream",
     "text": [
      "  Predicted in 7.23s\n",
      "Resampling...\n",
      "  cropping from (256, 256, 94) to (256, 206, 94)\n",
      "Predicting...\n"
     ]
    },
    {
     "name": "stderr",
     "output_type": "stream",
     "text": [
      "100%|██████████| 80/80 [00:04<00:00, 17.63it/s]\n"
     ]
    },
    {
     "name": "stdout",
     "output_type": "stream",
     "text": [
      "  Predicted in 25.48s\n",
      "Saving segmentations...\n",
      "Creating lung_vessels.nii.gz\n",
      "Creating lung_trachea_bronchia.nii.gz"
     ]
    },
    {
     "data": {
      "application/vnd.jupyter.widget-view+json": {
       "model_id": "db5a5bf597c94b098a3c592aae198438",
       "version_major": 2,
       "version_minor": 0
      },
      "text/plain": [
       "  0%|          | 0/2 [00:00<?, ?it/s]"
      ]
     },
     "metadata": {},
     "output_type": "display_data"
    },
    {
     "name": "stdout",
     "output_type": "stream",
     "text": [
      "\n",
      "  Saved in 0.48s\n",
      "\n",
      "If you use this tool please cite: https://pubs.rsna.org/doi/10.1148/ryai.230024\n",
      "\n",
      "Resampling...\n",
      "  Resampled in 2.04s\n",
      "Predicting...\n"
     ]
    },
    {
     "name": "stderr",
     "output_type": "stream",
     "text": [
      "/ocean/projects/asc170022p/mtragoza/mambaforge/envs/lung-project/lib/python3.10/site-packages/nnunetv2/utilities/plans_handling/plans_handler.py:37: UserWarning: Detected old nnU-Net plans format. Attempting to reconstruct network architecture parameters. If this fails, rerun nnUNetv2_plan_experiment for your dataset. If you use a custom architecture, please downgrade nnU-Net to the version you implemented this or update your implementation + plans.\n",
      "  warnings.warn(\"Detected old nnU-Net plans format. Attempting to reconstruct network architecture \"\n",
      "100%|██████████| 8/8 [00:00<00:00, 34.05it/s]\n"
     ]
    },
    {
     "name": "stdout",
     "output_type": "stream",
     "text": [
      "  Predicted in 8.83s\n"
     ]
    },
    {
     "name": "stderr",
     "output_type": "stream",
     "text": [
      "100%|██████████| 1/1 [00:00<00:00,  9.74it/s]\n",
      "100%|██████████| 1/1 [00:00<00:00, 10.19it/s]\n"
     ]
    },
    {
     "name": "stdout",
     "output_type": "stream",
     "text": [
      "Resampling...\n",
      "Saving segmentations...\n",
      "Creating body_trunc.nii.gz\n",
      "Creating body_extremities.nii.gz\n"
     ]
    },
    {
     "data": {
      "application/vnd.jupyter.widget-view+json": {
       "model_id": "62b84d12faa34e6784763dea771e178a",
       "version_major": 2,
       "version_minor": 0
      },
      "text/plain": [
       "  0%|          | 0/2 [00:00<?, ?it/s]"
      ]
     },
     "metadata": {},
     "output_type": "display_data"
    },
    {
     "name": "stdout",
     "output_type": "stream",
     "text": [
      "  Saved in 0.38s\n",
      "Creating body.nii.gz\n",
      "Creating skin.nii.gz\n",
      "Segmenting Case3Pack phase 50\n",
      "\n",
      "If you use this tool please cite: https://pubs.rsna.org/doi/10.1148/ryai.230024\n",
      "\n",
      "Generating rough body segmentation...\n",
      "Resampling...\n",
      "  Resampled in 0.23s\n",
      "Predicting...\n"
     ]
    },
    {
     "name": "stderr",
     "output_type": "stream",
     "text": [
      "/ocean/projects/asc170022p/mtragoza/mambaforge/envs/lung-project/lib/python3.10/site-packages/nnunetv2/utilities/plans_handling/plans_handler.py:37: UserWarning: Detected old nnU-Net plans format. Attempting to reconstruct network architecture parameters. If this fails, rerun nnUNetv2_plan_experiment for your dataset. If you use a custom architecture, please downgrade nnU-Net to the version you implemented this or update your implementation + plans.\n",
      "  warnings.warn(\"Detected old nnU-Net plans format. Attempting to reconstruct network architecture \"\n",
      "100%|██████████| 1/1 [00:00<00:00, 96.92it/s]\n"
     ]
    },
    {
     "name": "stdout",
     "output_type": "stream",
     "text": [
      "  Predicted in 7.01s\n",
      "Resampling...\n",
      "  cropping from (256, 256, 94) to (256, 206, 94)\n",
      "Resampling...\n",
      "  Resampled in 1.63s\n",
      "Predicting part 1 of 1 ...\n"
     ]
    },
    {
     "name": "stderr",
     "output_type": "stream",
     "text": [
      "100%|██████████| 8/8 [00:00<00:00, 33.25it/s]\n"
     ]
    },
    {
     "name": "stdout",
     "output_type": "stream",
     "text": [
      "  Predicted in 9.08s\n",
      "Resampling...\n",
      "Saving segmentations...\n"
     ]
    },
    {
     "data": {
      "application/vnd.jupyter.widget-view+json": {
       "model_id": "6d4832ead8cb4a0db824cbdd805cb57f",
       "version_major": 2,
       "version_minor": 0
      },
      "text/plain": [
       "  0%|          | 0/5 [00:00<?, ?it/s]"
      ]
     },
     "metadata": {},
     "output_type": "display_data"
    },
    {
     "name": "stdout",
     "output_type": "stream",
     "text": [
      "  Saved in 0.58s\n",
      "\n",
      "If you use this tool please cite: https://pubs.rsna.org/doi/10.1148/ryai.230024\n",
      "\n",
      "Generating rough body segmentation...\n",
      "Resampling...\n",
      "  Resampled in 0.24s\n",
      "Predicting...\n"
     ]
    },
    {
     "name": "stderr",
     "output_type": "stream",
     "text": [
      "/ocean/projects/asc170022p/mtragoza/mambaforge/envs/lung-project/lib/python3.10/site-packages/nnunetv2/utilities/plans_handling/plans_handler.py:37: UserWarning: Detected old nnU-Net plans format. Attempting to reconstruct network architecture parameters. If this fails, rerun nnUNetv2_plan_experiment for your dataset. If you use a custom architecture, please downgrade nnU-Net to the version you implemented this or update your implementation + plans.\n",
      "  warnings.warn(\"Detected old nnU-Net plans format. Attempting to reconstruct network architecture \"\n",
      "100%|██████████| 1/1 [00:00<00:00, 109.28it/s]\n"
     ]
    },
    {
     "name": "stdout",
     "output_type": "stream",
     "text": [
      "  Predicted in 7.18s\n",
      "Resampling...\n",
      "  cropping from (256, 256, 94) to (256, 206, 94)\n",
      "Predicting...\n"
     ]
    },
    {
     "name": "stderr",
     "output_type": "stream",
     "text": [
      "100%|██████████| 80/80 [00:04<00:00, 17.63it/s]\n"
     ]
    },
    {
     "name": "stdout",
     "output_type": "stream",
     "text": [
      "  Predicted in 25.38s\n",
      "Saving segmentations...\n",
      "Creating lung_vessels.nii.gz\n",
      "Creating lung_trachea_bronchia.nii.gz\n"
     ]
    },
    {
     "data": {
      "application/vnd.jupyter.widget-view+json": {
       "model_id": "dd48f2636fec49fdbe41182bb996ee22",
       "version_major": 2,
       "version_minor": 0
      },
      "text/plain": [
       "  0%|          | 0/2 [00:00<?, ?it/s]"
      ]
     },
     "metadata": {},
     "output_type": "display_data"
    },
    {
     "name": "stdout",
     "output_type": "stream",
     "text": [
      "  Saved in 0.58s\n",
      "\n",
      "If you use this tool please cite: https://pubs.rsna.org/doi/10.1148/ryai.230024\n",
      "\n",
      "Resampling...\n",
      "  Resampled in 2.06s\n",
      "Predicting...\n"
     ]
    },
    {
     "name": "stderr",
     "output_type": "stream",
     "text": [
      "/ocean/projects/asc170022p/mtragoza/mambaforge/envs/lung-project/lib/python3.10/site-packages/nnunetv2/utilities/plans_handling/plans_handler.py:37: UserWarning: Detected old nnU-Net plans format. Attempting to reconstruct network architecture parameters. If this fails, rerun nnUNetv2_plan_experiment for your dataset. If you use a custom architecture, please downgrade nnU-Net to the version you implemented this or update your implementation + plans.\n",
      "  warnings.warn(\"Detected old nnU-Net plans format. Attempting to reconstruct network architecture \"\n",
      "100%|██████████| 8/8 [00:00<00:00, 34.04it/s]\n"
     ]
    },
    {
     "name": "stdout",
     "output_type": "stream",
     "text": [
      "  Predicted in 8.53s\n"
     ]
    },
    {
     "name": "stderr",
     "output_type": "stream",
     "text": [
      "100%|██████████| 1/1 [00:00<00:00, 10.16it/s]\n",
      "100%|██████████| 1/1 [00:00<00:00, 10.47it/s]\n"
     ]
    },
    {
     "name": "stdout",
     "output_type": "stream",
     "text": [
      "Resampling...\n",
      "Saving segmentations...\n",
      "Creating body_trunc.nii.gz\n"
     ]
    },
    {
     "data": {
      "application/vnd.jupyter.widget-view+json": {
       "model_id": "8d00e9c1b9e94f779cf8f884ef02b7b3",
       "version_major": 2,
       "version_minor": 0
      },
      "text/plain": [
       "  0%|          | 0/2 [00:00<?, ?it/s]"
      ]
     },
     "metadata": {},
     "output_type": "display_data"
    },
    {
     "name": "stdout",
     "output_type": "stream",
     "text": [
      "Creating body_extremities.nii.gz\n",
      "  Saved in 1.84s\n",
      "Creating body.nii.gz\n",
      "Creating skin.nii.gz\n",
      "Segmenting Case3Pack phase 60\n",
      "\n",
      "If you use this tool please cite: https://pubs.rsna.org/doi/10.1148/ryai.230024\n",
      "\n",
      "Generating rough body segmentation...\n",
      "Resampling...\n",
      "  Resampled in 0.23s\n",
      "Predicting...\n"
     ]
    },
    {
     "name": "stderr",
     "output_type": "stream",
     "text": [
      "/ocean/projects/asc170022p/mtragoza/mambaforge/envs/lung-project/lib/python3.10/site-packages/nnunetv2/utilities/plans_handling/plans_handler.py:37: UserWarning: Detected old nnU-Net plans format. Attempting to reconstruct network architecture parameters. If this fails, rerun nnUNetv2_plan_experiment for your dataset. If you use a custom architecture, please downgrade nnU-Net to the version you implemented this or update your implementation + plans.\n",
      "  warnings.warn(\"Detected old nnU-Net plans format. Attempting to reconstruct network architecture \"\n",
      "100%|██████████| 1/1 [00:00<00:00, 108.84it/s]\n"
     ]
    },
    {
     "name": "stdout",
     "output_type": "stream",
     "text": [
      "  Predicted in 7.16s\n",
      "Resampling...\n",
      "  cropping from (256, 256, 94) to (256, 206, 93)\n",
      "Resampling...\n",
      "  Resampled in 1.60s\n",
      "Predicting part 1 of 1 ...\n"
     ]
    },
    {
     "name": "stderr",
     "output_type": "stream",
     "text": [
      "100%|██████████| 8/8 [00:00<00:00, 32.99it/s]\n"
     ]
    },
    {
     "name": "stdout",
     "output_type": "stream",
     "text": [
      "  Predicted in 9.04s\n",
      "Resampling...\n",
      "Saving segmentations...\n"
     ]
    },
    {
     "data": {
      "application/vnd.jupyter.widget-view+json": {
       "model_id": "d4dc8fbc95da4d63a64e88c6759fdfc0",
       "version_major": 2,
       "version_minor": 0
      },
      "text/plain": [
       "  0%|          | 0/5 [00:00<?, ?it/s]"
      ]
     },
     "metadata": {},
     "output_type": "display_data"
    },
    {
     "name": "stdout",
     "output_type": "stream",
     "text": [
      "  Saved in 1.03s\n",
      "\n",
      "If you use this tool please cite: https://pubs.rsna.org/doi/10.1148/ryai.230024\n",
      "\n",
      "Generating rough body segmentation...\n",
      "Resampling...\n",
      "  Resampled in 0.24s\n",
      "Predicting...\n"
     ]
    },
    {
     "name": "stderr",
     "output_type": "stream",
     "text": [
      "/ocean/projects/asc170022p/mtragoza/mambaforge/envs/lung-project/lib/python3.10/site-packages/nnunetv2/utilities/plans_handling/plans_handler.py:37: UserWarning: Detected old nnU-Net plans format. Attempting to reconstruct network architecture parameters. If this fails, rerun nnUNetv2_plan_experiment for your dataset. If you use a custom architecture, please downgrade nnU-Net to the version you implemented this or update your implementation + plans.\n",
      "  warnings.warn(\"Detected old nnU-Net plans format. Attempting to reconstruct network architecture \"\n",
      "100%|██████████| 1/1 [00:00<00:00, 108.08it/s]\n"
     ]
    },
    {
     "name": "stdout",
     "output_type": "stream",
     "text": [
      "  Predicted in 8.15s\n",
      "Resampling...\n",
      "  cropping from (256, 256, 94) to (256, 206, 93)\n",
      "Predicting...\n"
     ]
    },
    {
     "name": "stderr",
     "output_type": "stream",
     "text": [
      "100%|██████████| 80/80 [00:04<00:00, 17.64it/s]\n"
     ]
    },
    {
     "name": "stdout",
     "output_type": "stream",
     "text": [
      "  Predicted in 25.44s\n",
      "Saving segmentations...\n",
      "Creating lung_vessels.nii.gz\n",
      "Creating lung_trachea_bronchia.nii.gz\n"
     ]
    },
    {
     "data": {
      "application/vnd.jupyter.widget-view+json": {
       "model_id": "1b9943b27068487b88bdbed82a4dce86",
       "version_major": 2,
       "version_minor": 0
      },
      "text/plain": [
       "  0%|          | 0/2 [00:00<?, ?it/s]"
      ]
     },
     "metadata": {},
     "output_type": "display_data"
    },
    {
     "name": "stdout",
     "output_type": "stream",
     "text": [
      "  Saved in 0.52s\n",
      "\n",
      "If you use this tool please cite: https://pubs.rsna.org/doi/10.1148/ryai.230024\n",
      "\n",
      "Resampling...\n",
      "  Resampled in 2.05s\n",
      "Predicting...\n"
     ]
    },
    {
     "name": "stderr",
     "output_type": "stream",
     "text": [
      "/ocean/projects/asc170022p/mtragoza/mambaforge/envs/lung-project/lib/python3.10/site-packages/nnunetv2/utilities/plans_handling/plans_handler.py:37: UserWarning: Detected old nnU-Net plans format. Attempting to reconstruct network architecture parameters. If this fails, rerun nnUNetv2_plan_experiment for your dataset. If you use a custom architecture, please downgrade nnU-Net to the version you implemented this or update your implementation + plans.\n",
      "  warnings.warn(\"Detected old nnU-Net plans format. Attempting to reconstruct network architecture \"\n",
      "100%|██████████| 8/8 [00:00<00:00, 33.74it/s]\n"
     ]
    },
    {
     "name": "stdout",
     "output_type": "stream",
     "text": [
      "  Predicted in 8.75s\n"
     ]
    },
    {
     "name": "stderr",
     "output_type": "stream",
     "text": [
      "100%|██████████| 1/1 [00:00<00:00, 10.06it/s]\n",
      "100%|██████████| 1/1 [00:00<00:00, 11.06it/s]\n"
     ]
    },
    {
     "name": "stdout",
     "output_type": "stream",
     "text": [
      "Resampling...\n",
      "Saving segmentations...\n",
      "Creating body_trunc.nii.gz\n",
      "Creating body_extremities.nii.gz\n"
     ]
    },
    {
     "data": {
      "application/vnd.jupyter.widget-view+json": {
       "model_id": "55a17c03725f4fc2bb3cca6f1c7dbad0",
       "version_major": 2,
       "version_minor": 0
      },
      "text/plain": [
       "  0%|          | 0/2 [00:00<?, ?it/s]"
      ]
     },
     "metadata": {},
     "output_type": "display_data"
    },
    {
     "name": "stdout",
     "output_type": "stream",
     "text": [
      "  Saved in 0.34s\n",
      "Creating body.nii.gz\n",
      "Creating skin.nii.gz\n",
      "Segmenting Case3Pack phase 70\n",
      "\n",
      "If you use this tool please cite: https://pubs.rsna.org/doi/10.1148/ryai.230024\n",
      "\n",
      "Generating rough body segmentation...\n",
      "Resampling...\n",
      "  Resampled in 0.23s\n",
      "Predicting...\n"
     ]
    },
    {
     "name": "stderr",
     "output_type": "stream",
     "text": [
      "/ocean/projects/asc170022p/mtragoza/mambaforge/envs/lung-project/lib/python3.10/site-packages/nnunetv2/utilities/plans_handling/plans_handler.py:37: UserWarning: Detected old nnU-Net plans format. Attempting to reconstruct network architecture parameters. If this fails, rerun nnUNetv2_plan_experiment for your dataset. If you use a custom architecture, please downgrade nnU-Net to the version you implemented this or update your implementation + plans.\n",
      "  warnings.warn(\"Detected old nnU-Net plans format. Attempting to reconstruct network architecture \"\n",
      "100%|██████████| 1/1 [00:00<00:00, 110.27it/s]\n"
     ]
    },
    {
     "name": "stdout",
     "output_type": "stream",
     "text": [
      "  Predicted in 7.21s\n",
      "Resampling...\n",
      "  cropping from (256, 256, 94) to (256, 206, 93)\n",
      "Resampling...\n",
      "  Resampled in 1.61s\n",
      "Predicting part 1 of 1 ...\n"
     ]
    },
    {
     "name": "stderr",
     "output_type": "stream",
     "text": [
      "100%|██████████| 8/8 [00:00<00:00, 32.63it/s]\n"
     ]
    },
    {
     "name": "stdout",
     "output_type": "stream",
     "text": [
      "  Predicted in 9.09s\n",
      "Resampling...\n",
      "Saving segmentations...\n"
     ]
    },
    {
     "data": {
      "application/vnd.jupyter.widget-view+json": {
       "model_id": "9373c8869ff549c8bf58dd67fc59971c",
       "version_major": 2,
       "version_minor": 0
      },
      "text/plain": [
       "  0%|          | 0/5 [00:00<?, ?it/s]"
      ]
     },
     "metadata": {},
     "output_type": "display_data"
    },
    {
     "name": "stdout",
     "output_type": "stream",
     "text": [
      "  Saved in 0.67s\n",
      "\n",
      "If you use this tool please cite: https://pubs.rsna.org/doi/10.1148/ryai.230024\n",
      "\n",
      "Generating rough body segmentation...\n",
      "Resampling...\n",
      "  Resampled in 0.23s\n",
      "Predicting...\n"
     ]
    },
    {
     "name": "stderr",
     "output_type": "stream",
     "text": [
      "/ocean/projects/asc170022p/mtragoza/mambaforge/envs/lung-project/lib/python3.10/site-packages/nnunetv2/utilities/plans_handling/plans_handler.py:37: UserWarning: Detected old nnU-Net plans format. Attempting to reconstruct network architecture parameters. If this fails, rerun nnUNetv2_plan_experiment for your dataset. If you use a custom architecture, please downgrade nnU-Net to the version you implemented this or update your implementation + plans.\n",
      "  warnings.warn(\"Detected old nnU-Net plans format. Attempting to reconstruct network architecture \"\n",
      "100%|██████████| 1/1 [00:00<00:00, 74.44it/s]\n"
     ]
    },
    {
     "name": "stdout",
     "output_type": "stream",
     "text": [
      "  Predicted in 7.23s\n",
      "Resampling...\n",
      "  cropping from (256, 256, 94) to (256, 206, 93)\n",
      "Predicting...\n"
     ]
    },
    {
     "name": "stderr",
     "output_type": "stream",
     "text": [
      "100%|██████████| 80/80 [00:04<00:00, 17.64it/s]\n"
     ]
    },
    {
     "name": "stdout",
     "output_type": "stream",
     "text": [
      "  Predicted in 25.39s\n",
      "Saving segmentations...\n",
      "Creating lung_vessels.nii.gz\n",
      "Creating lung_trachea_bronchia.nii.gz"
     ]
    },
    {
     "data": {
      "application/vnd.jupyter.widget-view+json": {
       "model_id": "48cbecaa83a347bda99dbb9c84cdad9f",
       "version_major": 2,
       "version_minor": 0
      },
      "text/plain": [
       "  0%|          | 0/2 [00:00<?, ?it/s]"
      ]
     },
     "metadata": {},
     "output_type": "display_data"
    },
    {
     "name": "stdout",
     "output_type": "stream",
     "text": [
      "\n",
      "  Saved in 0.60s\n",
      "\n",
      "If you use this tool please cite: https://pubs.rsna.org/doi/10.1148/ryai.230024\n",
      "\n",
      "Resampling...\n",
      "  Resampled in 2.05s\n",
      "Predicting...\n"
     ]
    },
    {
     "name": "stderr",
     "output_type": "stream",
     "text": [
      "/ocean/projects/asc170022p/mtragoza/mambaforge/envs/lung-project/lib/python3.10/site-packages/nnunetv2/utilities/plans_handling/plans_handler.py:37: UserWarning: Detected old nnU-Net plans format. Attempting to reconstruct network architecture parameters. If this fails, rerun nnUNetv2_plan_experiment for your dataset. If you use a custom architecture, please downgrade nnU-Net to the version you implemented this or update your implementation + plans.\n",
      "  warnings.warn(\"Detected old nnU-Net plans format. Attempting to reconstruct network architecture \"\n",
      "100%|██████████| 8/8 [00:00<00:00, 34.74it/s]\n"
     ]
    },
    {
     "name": "stdout",
     "output_type": "stream",
     "text": [
      "  Predicted in 8.88s\n"
     ]
    },
    {
     "name": "stderr",
     "output_type": "stream",
     "text": [
      "100%|██████████| 1/1 [00:00<00:00,  9.60it/s]\n",
      "100%|██████████| 1/1 [00:00<00:00, 10.43it/s]\n"
     ]
    },
    {
     "name": "stdout",
     "output_type": "stream",
     "text": [
      "Resampling...\n",
      "Saving segmentations...\n",
      "Creating body_trunc.nii.gz\n",
      "\n",
      "Creating body_extremities.nii.gz"
     ]
    },
    {
     "data": {
      "application/vnd.jupyter.widget-view+json": {
       "model_id": "d3ae125433084ff4a2720de3e8d0f6cc",
       "version_major": 2,
       "version_minor": 0
      },
      "text/plain": [
       "  0%|          | 0/2 [00:00<?, ?it/s]"
      ]
     },
     "metadata": {},
     "output_type": "display_data"
    },
    {
     "name": "stdout",
     "output_type": "stream",
     "text": [
      "  Saved in 0.33s\n",
      "Creating body.nii.gz\n",
      "Creating skin.nii.gz\n",
      "Segmenting Case3Pack phase 80\n",
      "\n",
      "If you use this tool please cite: https://pubs.rsna.org/doi/10.1148/ryai.230024\n",
      "\n",
      "Generating rough body segmentation...\n",
      "Resampling...\n",
      "  Resampled in 0.23s\n",
      "Predicting...\n"
     ]
    },
    {
     "name": "stderr",
     "output_type": "stream",
     "text": [
      "/ocean/projects/asc170022p/mtragoza/mambaforge/envs/lung-project/lib/python3.10/site-packages/nnunetv2/utilities/plans_handling/plans_handler.py:37: UserWarning: Detected old nnU-Net plans format. Attempting to reconstruct network architecture parameters. If this fails, rerun nnUNetv2_plan_experiment for your dataset. If you use a custom architecture, please downgrade nnU-Net to the version you implemented this or update your implementation + plans.\n",
      "  warnings.warn(\"Detected old nnU-Net plans format. Attempting to reconstruct network architecture \"\n",
      "100%|██████████| 1/1 [00:00<00:00, 102.80it/s]\n"
     ]
    },
    {
     "name": "stdout",
     "output_type": "stream",
     "text": [
      "  Predicted in 7.18s\n",
      "Resampling...\n",
      "  cropping from (256, 256, 94) to (256, 200, 93)\n",
      "Resampling...\n",
      "  Resampled in 1.55s\n",
      "Predicting part 1 of 1 ...\n"
     ]
    },
    {
     "name": "stderr",
     "output_type": "stream",
     "text": [
      "100%|██████████| 8/8 [00:00<00:00, 32.68it/s]\n"
     ]
    },
    {
     "name": "stdout",
     "output_type": "stream",
     "text": [
      "  Predicted in 8.89s\n",
      "Resampling...\n",
      "Saving segmentations...\n"
     ]
    },
    {
     "data": {
      "application/vnd.jupyter.widget-view+json": {
       "model_id": "161be01b048b4b05815a060008323d8a",
       "version_major": 2,
       "version_minor": 0
      },
      "text/plain": [
       "  0%|          | 0/5 [00:00<?, ?it/s]"
      ]
     },
     "metadata": {},
     "output_type": "display_data"
    },
    {
     "name": "stdout",
     "output_type": "stream",
     "text": [
      "  Saved in 0.63s\n",
      "\n",
      "If you use this tool please cite: https://pubs.rsna.org/doi/10.1148/ryai.230024\n",
      "\n",
      "Generating rough body segmentation...\n",
      "Resampling...\n",
      "  Resampled in 0.23s\n",
      "Predicting...\n"
     ]
    },
    {
     "name": "stderr",
     "output_type": "stream",
     "text": [
      "/ocean/projects/asc170022p/mtragoza/mambaforge/envs/lung-project/lib/python3.10/site-packages/nnunetv2/utilities/plans_handling/plans_handler.py:37: UserWarning: Detected old nnU-Net plans format. Attempting to reconstruct network architecture parameters. If this fails, rerun nnUNetv2_plan_experiment for your dataset. If you use a custom architecture, please downgrade nnU-Net to the version you implemented this or update your implementation + plans.\n",
      "  warnings.warn(\"Detected old nnU-Net plans format. Attempting to reconstruct network architecture \"\n",
      "100%|██████████| 1/1 [00:00<00:00, 109.56it/s]\n"
     ]
    },
    {
     "name": "stdout",
     "output_type": "stream",
     "text": [
      "  Predicted in 7.15s\n",
      "Resampling...\n",
      "  cropping from (256, 256, 94) to (256, 200, 93)\n",
      "Predicting...\n"
     ]
    },
    {
     "name": "stderr",
     "output_type": "stream",
     "text": [
      "100%|██████████| 64/64 [00:03<00:00, 17.83it/s]\n"
     ]
    },
    {
     "name": "stdout",
     "output_type": "stream",
     "text": [
      "  Predicted in 24.02s\n",
      "Saving segmentations...\n",
      "Creating lung_vessels.nii.gz\n",
      "Creating lung_trachea_bronchia.nii.gz\n"
     ]
    },
    {
     "data": {
      "application/vnd.jupyter.widget-view+json": {
       "model_id": "47d9f8fdd5e14a57b9e35401885ee60a",
       "version_major": 2,
       "version_minor": 0
      },
      "text/plain": [
       "  0%|          | 0/2 [00:00<?, ?it/s]"
      ]
     },
     "metadata": {},
     "output_type": "display_data"
    },
    {
     "name": "stdout",
     "output_type": "stream",
     "text": [
      "  Saved in 31.37s\n",
      "\n",
      "If you use this tool please cite: https://pubs.rsna.org/doi/10.1148/ryai.230024\n",
      "\n",
      "Resampling...\n",
      "  Resampled in 2.05s\n",
      "Predicting...\n"
     ]
    },
    {
     "name": "stderr",
     "output_type": "stream",
     "text": [
      "/ocean/projects/asc170022p/mtragoza/mambaforge/envs/lung-project/lib/python3.10/site-packages/nnunetv2/utilities/plans_handling/plans_handler.py:37: UserWarning: Detected old nnU-Net plans format. Attempting to reconstruct network architecture parameters. If this fails, rerun nnUNetv2_plan_experiment for your dataset. If you use a custom architecture, please downgrade nnU-Net to the version you implemented this or update your implementation + plans.\n",
      "  warnings.warn(\"Detected old nnU-Net plans format. Attempting to reconstruct network architecture \"\n",
      "100%|██████████| 8/8 [00:00<00:00, 34.24it/s]\n"
     ]
    },
    {
     "name": "stdout",
     "output_type": "stream",
     "text": [
      "  Predicted in 8.91s\n"
     ]
    },
    {
     "name": "stderr",
     "output_type": "stream",
     "text": [
      "100%|██████████| 1/1 [00:00<00:00,  9.78it/s]\n",
      "100%|██████████| 1/1 [00:00<00:00, 10.67it/s]\n"
     ]
    },
    {
     "name": "stdout",
     "output_type": "stream",
     "text": [
      "Resampling...\n",
      "Saving segmentations...\n",
      "Creating body_trunc.nii.gz"
     ]
    },
    {
     "data": {
      "application/vnd.jupyter.widget-view+json": {
       "model_id": "28fecac0da244970b0eeafa6c6ecd4b1",
       "version_major": 2,
       "version_minor": 0
      },
      "text/plain": [
       "  0%|          | 0/2 [00:00<?, ?it/s]"
      ]
     },
     "metadata": {},
     "output_type": "display_data"
    },
    {
     "name": "stdout",
     "output_type": "stream",
     "text": [
      "\n",
      "Creating body_extremities.nii.gz\n",
      "  Saved in 0.40s\n",
      "Creating body.nii.gz\n",
      "Creating skin.nii.gz\n",
      "Segmenting Case3Pack phase 90\n",
      "\n",
      "If you use this tool please cite: https://pubs.rsna.org/doi/10.1148/ryai.230024\n",
      "\n",
      "Generating rough body segmentation...\n",
      "Resampling...\n",
      "  Resampled in 0.23s\n",
      "Predicting...\n"
     ]
    },
    {
     "name": "stderr",
     "output_type": "stream",
     "text": [
      "/ocean/projects/asc170022p/mtragoza/mambaforge/envs/lung-project/lib/python3.10/site-packages/nnunetv2/utilities/plans_handling/plans_handler.py:37: UserWarning: Detected old nnU-Net plans format. Attempting to reconstruct network architecture parameters. If this fails, rerun nnUNetv2_plan_experiment for your dataset. If you use a custom architecture, please downgrade nnU-Net to the version you implemented this or update your implementation + plans.\n",
      "  warnings.warn(\"Detected old nnU-Net plans format. Attempting to reconstruct network architecture \"\n",
      "100%|██████████| 1/1 [00:00<00:00, 97.61it/s]\n"
     ]
    },
    {
     "name": "stdout",
     "output_type": "stream",
     "text": [
      "  Predicted in 7.28s\n",
      "Resampling...\n",
      "  cropping from (256, 256, 94) to (256, 206, 93)\n",
      "Resampling...\n",
      "  Resampled in 1.60s\n",
      "Predicting part 1 of 1 ...\n"
     ]
    },
    {
     "name": "stderr",
     "output_type": "stream",
     "text": [
      "100%|██████████| 8/8 [00:00<00:00, 31.89it/s]\n"
     ]
    },
    {
     "name": "stdout",
     "output_type": "stream",
     "text": [
      "  Predicted in 9.19s\n",
      "Resampling...\n",
      "Saving segmentations...\n"
     ]
    },
    {
     "data": {
      "application/vnd.jupyter.widget-view+json": {
       "model_id": "2cbc87017e094d1e9a5ff6d29e48e0a1",
       "version_major": 2,
       "version_minor": 0
      },
      "text/plain": [
       "  0%|          | 0/5 [00:00<?, ?it/s]"
      ]
     },
     "metadata": {},
     "output_type": "display_data"
    },
    {
     "name": "stdout",
     "output_type": "stream",
     "text": [
      "  Saved in 0.57s\n",
      "\n",
      "If you use this tool please cite: https://pubs.rsna.org/doi/10.1148/ryai.230024\n",
      "\n",
      "Generating rough body segmentation...\n",
      "Resampling...\n",
      "  Resampled in 0.24s\n",
      "Predicting...\n"
     ]
    },
    {
     "name": "stderr",
     "output_type": "stream",
     "text": [
      "/ocean/projects/asc170022p/mtragoza/mambaforge/envs/lung-project/lib/python3.10/site-packages/nnunetv2/utilities/plans_handling/plans_handler.py:37: UserWarning: Detected old nnU-Net plans format. Attempting to reconstruct network architecture parameters. If this fails, rerun nnUNetv2_plan_experiment for your dataset. If you use a custom architecture, please downgrade nnU-Net to the version you implemented this or update your implementation + plans.\n",
      "  warnings.warn(\"Detected old nnU-Net plans format. Attempting to reconstruct network architecture \"\n",
      "100%|██████████| 1/1 [00:00<00:00, 95.61it/s]\n"
     ]
    },
    {
     "name": "stdout",
     "output_type": "stream",
     "text": [
      "  Predicted in 7.14s\n",
      "Resampling...\n",
      "  cropping from (256, 256, 94) to (256, 206, 93)\n",
      "Predicting...\n"
     ]
    },
    {
     "name": "stderr",
     "output_type": "stream",
     "text": [
      "100%|██████████| 80/80 [00:04<00:00, 17.65it/s]\n"
     ]
    },
    {
     "name": "stdout",
     "output_type": "stream",
     "text": [
      "  Predicted in 25.48s\n",
      "Saving segmentations...\n",
      "Creating lung_vessels.nii.gz\n",
      "Creating lung_trachea_bronchia.nii.gz\n"
     ]
    },
    {
     "data": {
      "application/vnd.jupyter.widget-view+json": {
       "model_id": "82d1a3d0a4a242e5ba54f119e2c7039c",
       "version_major": 2,
       "version_minor": 0
      },
      "text/plain": [
       "  0%|          | 0/2 [00:00<?, ?it/s]"
      ]
     },
     "metadata": {},
     "output_type": "display_data"
    },
    {
     "name": "stdout",
     "output_type": "stream",
     "text": [
      "  Saved in 0.51s\n",
      "\n",
      "If you use this tool please cite: https://pubs.rsna.org/doi/10.1148/ryai.230024\n",
      "\n",
      "Resampling...\n",
      "  Resampled in 2.05s\n",
      "Predicting...\n"
     ]
    },
    {
     "name": "stderr",
     "output_type": "stream",
     "text": [
      "/ocean/projects/asc170022p/mtragoza/mambaforge/envs/lung-project/lib/python3.10/site-packages/nnunetv2/utilities/plans_handling/plans_handler.py:37: UserWarning: Detected old nnU-Net plans format. Attempting to reconstruct network architecture parameters. If this fails, rerun nnUNetv2_plan_experiment for your dataset. If you use a custom architecture, please downgrade nnU-Net to the version you implemented this or update your implementation + plans.\n",
      "  warnings.warn(\"Detected old nnU-Net plans format. Attempting to reconstruct network architecture \"\n",
      "100%|██████████| 8/8 [00:00<00:00, 33.28it/s]\n"
     ]
    },
    {
     "name": "stdout",
     "output_type": "stream",
     "text": [
      "  Predicted in 8.64s\n"
     ]
    },
    {
     "name": "stderr",
     "output_type": "stream",
     "text": [
      "100%|██████████| 1/1 [00:00<00:00,  9.71it/s]\n",
      "100%|██████████| 1/1 [00:00<00:00, 10.42it/s]\n"
     ]
    },
    {
     "name": "stdout",
     "output_type": "stream",
     "text": [
      "Resampling...\n",
      "Saving segmentations...\n",
      "Creating body_trunc.nii.gz\n",
      "Creating body_extremities.nii.gz"
     ]
    },
    {
     "data": {
      "application/vnd.jupyter.widget-view+json": {
       "model_id": "e35742e61e9741418237e8f29fbd6c02",
       "version_major": 2,
       "version_minor": 0
      },
      "text/plain": [
       "  0%|          | 0/2 [00:00<?, ?it/s]"
      ]
     },
     "metadata": {},
     "output_type": "display_data"
    },
    {
     "name": "stdout",
     "output_type": "stream",
     "text": [
      "\n",
      "  Saved in 0.35s\n",
      "Creating body.nii.gz\n",
      "Creating skin.nii.gz\n",
      "Segmenting Case4Pack phase 0\n",
      "\n",
      "If you use this tool please cite: https://pubs.rsna.org/doi/10.1148/ryai.230024\n",
      "\n",
      "Generating rough body segmentation...\n",
      "Resampling...\n",
      "  Resampled in 0.22s\n",
      "Predicting...\n"
     ]
    },
    {
     "name": "stderr",
     "output_type": "stream",
     "text": [
      "/ocean/projects/asc170022p/mtragoza/mambaforge/envs/lung-project/lib/python3.10/site-packages/nnunetv2/utilities/plans_handling/plans_handler.py:37: UserWarning: Detected old nnU-Net plans format. Attempting to reconstruct network architecture parameters. If this fails, rerun nnUNetv2_plan_experiment for your dataset. If you use a custom architecture, please downgrade nnU-Net to the version you implemented this or update your implementation + plans.\n",
      "  warnings.warn(\"Detected old nnU-Net plans format. Attempting to reconstruct network architecture \"\n",
      "100%|██████████| 1/1 [00:00<00:00, 78.76it/s]\n"
     ]
    },
    {
     "name": "stdout",
     "output_type": "stream",
     "text": [
      "  Predicted in 7.08s\n",
      "Resampling...\n",
      "  cropping from (256, 256, 94) to (256, 216, 94)\n",
      "Resampling...\n",
      "  Resampled in 1.46s\n",
      "Predicting part 1 of 1 ...\n"
     ]
    },
    {
     "name": "stderr",
     "output_type": "stream",
     "text": [
      "100%|██████████| 8/8 [00:00<00:00, 32.53it/s]\n"
     ]
    },
    {
     "name": "stdout",
     "output_type": "stream",
     "text": [
      "  Predicted in 9.12s\n",
      "Resampling...\n",
      "Saving segmentations...\n"
     ]
    },
    {
     "data": {
      "application/vnd.jupyter.widget-view+json": {
       "model_id": "03b86338c31140cea0f008930ff84e5e",
       "version_major": 2,
       "version_minor": 0
      },
      "text/plain": [
       "  0%|          | 0/5 [00:00<?, ?it/s]"
      ]
     },
     "metadata": {},
     "output_type": "display_data"
    },
    {
     "name": "stdout",
     "output_type": "stream",
     "text": [
      "  Saved in 0.59s\n",
      "\n",
      "If you use this tool please cite: https://pubs.rsna.org/doi/10.1148/ryai.230024\n",
      "\n",
      "Generating rough body segmentation...\n",
      "Resampling...\n",
      "  Resampled in 0.22s\n",
      "Predicting...\n"
     ]
    },
    {
     "name": "stderr",
     "output_type": "stream",
     "text": [
      "/ocean/projects/asc170022p/mtragoza/mambaforge/envs/lung-project/lib/python3.10/site-packages/nnunetv2/utilities/plans_handling/plans_handler.py:37: UserWarning: Detected old nnU-Net plans format. Attempting to reconstruct network architecture parameters. If this fails, rerun nnUNetv2_plan_experiment for your dataset. If you use a custom architecture, please downgrade nnU-Net to the version you implemented this or update your implementation + plans.\n",
      "  warnings.warn(\"Detected old nnU-Net plans format. Attempting to reconstruct network architecture \"\n",
      "100%|██████████| 1/1 [00:00<00:00, 109.97it/s]\n"
     ]
    },
    {
     "name": "stdout",
     "output_type": "stream",
     "text": [
      "  Predicted in 7.16s\n",
      "Resampling...\n",
      "  cropping from (256, 256, 94) to (256, 216, 94)\n",
      "Predicting...\n"
     ]
    },
    {
     "name": "stderr",
     "output_type": "stream",
     "text": [
      "100%|██████████| 60/60 [00:03<00:00, 17.93it/s]\n"
     ]
    },
    {
     "name": "stdout",
     "output_type": "stream",
     "text": [
      "  Predicted in 23.36s\n",
      "Saving segmentations...\n",
      "Creating lung_vessels.nii.gz\n",
      "Creating lung_trachea_bronchia.nii.gz\n"
     ]
    },
    {
     "data": {
      "application/vnd.jupyter.widget-view+json": {
       "model_id": "73caf224b3424324889d089481bd19a4",
       "version_major": 2,
       "version_minor": 0
      },
      "text/plain": [
       "  0%|          | 0/2 [00:00<?, ?it/s]"
      ]
     },
     "metadata": {},
     "output_type": "display_data"
    },
    {
     "name": "stdout",
     "output_type": "stream",
     "text": [
      "  Saved in 0.53s\n",
      "\n",
      "If you use this tool please cite: https://pubs.rsna.org/doi/10.1148/ryai.230024\n",
      "\n",
      "Resampling...\n",
      "  Resampled in 1.76s\n",
      "Predicting...\n"
     ]
    },
    {
     "name": "stderr",
     "output_type": "stream",
     "text": [
      "/ocean/projects/asc170022p/mtragoza/mambaforge/envs/lung-project/lib/python3.10/site-packages/nnunetv2/utilities/plans_handling/plans_handler.py:37: UserWarning: Detected old nnU-Net plans format. Attempting to reconstruct network architecture parameters. If this fails, rerun nnUNetv2_plan_experiment for your dataset. If you use a custom architecture, please downgrade nnU-Net to the version you implemented this or update your implementation + plans.\n",
      "  warnings.warn(\"Detected old nnU-Net plans format. Attempting to reconstruct network architecture \"\n",
      "100%|██████████| 8/8 [00:00<00:00, 33.27it/s]\n"
     ]
    },
    {
     "name": "stdout",
     "output_type": "stream",
     "text": [
      "  Predicted in 8.65s\n"
     ]
    },
    {
     "name": "stderr",
     "output_type": "stream",
     "text": [
      "100%|██████████| 1/1 [00:00<00:00, 11.15it/s]\n",
      "100%|██████████| 1/1 [00:00<00:00, 15.12it/s]"
     ]
    },
    {
     "name": "stdout",
     "output_type": "stream",
     "text": [
      "Resampling...\n"
     ]
    },
    {
     "name": "stderr",
     "output_type": "stream",
     "text": [
      "\n"
     ]
    },
    {
     "name": "stdout",
     "output_type": "stream",
     "text": [
      "Saving segmentations...\n",
      "Creating body_trunc.nii.gz\n",
      "Creating body_extremities.nii.gz\n"
     ]
    },
    {
     "data": {
      "application/vnd.jupyter.widget-view+json": {
       "model_id": "3cf1d9e7c6b14777b5d58a1170e26a67",
       "version_major": 2,
       "version_minor": 0
      },
      "text/plain": [
       "  0%|          | 0/2 [00:00<?, ?it/s]"
      ]
     },
     "metadata": {},
     "output_type": "display_data"
    },
    {
     "name": "stdout",
     "output_type": "stream",
     "text": [
      "  Saved in 0.36s\n",
      "Creating body.nii.gz\n",
      "Creating skin.nii.gz\n",
      "Segmenting Case4Pack phase 10\n",
      "\n",
      "If you use this tool please cite: https://pubs.rsna.org/doi/10.1148/ryai.230024\n",
      "\n",
      "Generating rough body segmentation...\n",
      "Resampling...\n",
      "  Resampled in 0.22s\n",
      "Predicting...\n"
     ]
    },
    {
     "name": "stderr",
     "output_type": "stream",
     "text": [
      "/ocean/projects/asc170022p/mtragoza/mambaforge/envs/lung-project/lib/python3.10/site-packages/nnunetv2/utilities/plans_handling/plans_handler.py:37: UserWarning: Detected old nnU-Net plans format. Attempting to reconstruct network architecture parameters. If this fails, rerun nnUNetv2_plan_experiment for your dataset. If you use a custom architecture, please downgrade nnU-Net to the version you implemented this or update your implementation + plans.\n",
      "  warnings.warn(\"Detected old nnU-Net plans format. Attempting to reconstruct network architecture \"\n",
      "100%|██████████| 1/1 [00:00<00:00, 104.77it/s]\n"
     ]
    },
    {
     "name": "stdout",
     "output_type": "stream",
     "text": [
      "  Predicted in 7.14s\n",
      "Resampling...\n",
      "  cropping from (256, 256, 94) to (256, 222, 94)\n",
      "Resampling...\n",
      "  Resampled in 1.50s\n",
      "Predicting part 1 of 1 ...\n"
     ]
    },
    {
     "name": "stderr",
     "output_type": "stream",
     "text": [
      "100%|██████████| 8/8 [00:00<00:00, 32.28it/s]\n"
     ]
    },
    {
     "name": "stdout",
     "output_type": "stream",
     "text": [
      "  Predicted in 9.22s\n",
      "Resampling...\n",
      "Saving segmentations...\n"
     ]
    },
    {
     "data": {
      "application/vnd.jupyter.widget-view+json": {
       "model_id": "b3ccfac345bf41a9aa5ceefe43808bd2",
       "version_major": 2,
       "version_minor": 0
      },
      "text/plain": [
       "  0%|          | 0/5 [00:00<?, ?it/s]"
      ]
     },
     "metadata": {},
     "output_type": "display_data"
    },
    {
     "name": "stdout",
     "output_type": "stream",
     "text": [
      "  Saved in 104.10s\n",
      "\n",
      "If you use this tool please cite: https://pubs.rsna.org/doi/10.1148/ryai.230024\n",
      "\n",
      "Generating rough body segmentation...\n",
      "Resampling...\n",
      "  Resampled in 0.22s\n",
      "Predicting...\n"
     ]
    },
    {
     "name": "stderr",
     "output_type": "stream",
     "text": [
      "/ocean/projects/asc170022p/mtragoza/mambaforge/envs/lung-project/lib/python3.10/site-packages/nnunetv2/utilities/plans_handling/plans_handler.py:37: UserWarning: Detected old nnU-Net plans format. Attempting to reconstruct network architecture parameters. If this fails, rerun nnUNetv2_plan_experiment for your dataset. If you use a custom architecture, please downgrade nnU-Net to the version you implemented this or update your implementation + plans.\n",
      "  warnings.warn(\"Detected old nnU-Net plans format. Attempting to reconstruct network architecture \"\n",
      "100%|██████████| 1/1 [00:00<00:00, 101.59it/s]\n"
     ]
    },
    {
     "name": "stdout",
     "output_type": "stream",
     "text": [
      "  Predicted in 7.07s\n",
      "Resampling...\n",
      "  cropping from (256, 256, 94) to (256, 222, 94)\n",
      "Predicting...\n"
     ]
    },
    {
     "name": "stderr",
     "output_type": "stream",
     "text": [
      "100%|██████████| 60/60 [00:03<00:00, 17.96it/s]\n"
     ]
    },
    {
     "name": "stdout",
     "output_type": "stream",
     "text": [
      "  Predicted in 23.55s\n",
      "Saving segmentations...\n",
      "Creating lung_vessels.nii.gz\n"
     ]
    },
    {
     "data": {
      "application/vnd.jupyter.widget-view+json": {
       "model_id": "b35a8ab3932d4307a007c45f46aa840e",
       "version_major": 2,
       "version_minor": 0
      },
      "text/plain": [
       "  0%|          | 0/2 [00:00<?, ?it/s]"
      ]
     },
     "metadata": {},
     "output_type": "display_data"
    },
    {
     "name": "stdout",
     "output_type": "stream",
     "text": [
      "Creating lung_trachea_bronchia.nii.gz\n",
      "  Saved in 0.53s\n",
      "\n",
      "If you use this tool please cite: https://pubs.rsna.org/doi/10.1148/ryai.230024\n",
      "\n",
      "Resampling...\n",
      "  Resampled in 1.76s\n",
      "Predicting...\n"
     ]
    },
    {
     "name": "stderr",
     "output_type": "stream",
     "text": [
      "/ocean/projects/asc170022p/mtragoza/mambaforge/envs/lung-project/lib/python3.10/site-packages/nnunetv2/utilities/plans_handling/plans_handler.py:37: UserWarning: Detected old nnU-Net plans format. Attempting to reconstruct network architecture parameters. If this fails, rerun nnUNetv2_plan_experiment for your dataset. If you use a custom architecture, please downgrade nnU-Net to the version you implemented this or update your implementation + plans.\n",
      "  warnings.warn(\"Detected old nnU-Net plans format. Attempting to reconstruct network architecture \"\n",
      "100%|██████████| 8/8 [00:00<00:00, 33.71it/s]\n"
     ]
    },
    {
     "name": "stdout",
     "output_type": "stream",
     "text": [
      "  Predicted in 8.70s\n"
     ]
    },
    {
     "name": "stderr",
     "output_type": "stream",
     "text": [
      "100%|██████████| 1/1 [00:00<00:00, 10.87it/s]\n",
      "100%|██████████| 1/1 [00:00<00:00, 15.16it/s]"
     ]
    },
    {
     "name": "stdout",
     "output_type": "stream",
     "text": [
      "Resampling...\n"
     ]
    },
    {
     "name": "stderr",
     "output_type": "stream",
     "text": [
      "\n"
     ]
    },
    {
     "name": "stdout",
     "output_type": "stream",
     "text": [
      "Saving segmentations...\n",
      "Creating body_trunc.nii.gz\n",
      "Creating body_extremities.nii.gz"
     ]
    },
    {
     "data": {
      "application/vnd.jupyter.widget-view+json": {
       "model_id": "48151fe01a154dc9ad563827a5c273c1",
       "version_major": 2,
       "version_minor": 0
      },
      "text/plain": [
       "  0%|          | 0/2 [00:00<?, ?it/s]"
      ]
     },
     "metadata": {},
     "output_type": "display_data"
    },
    {
     "name": "stdout",
     "output_type": "stream",
     "text": [
      "\n",
      "  Saved in 0.41s\n",
      "Creating body.nii.gz\n",
      "Creating skin.nii.gz\n",
      "Segmenting Case4Pack phase 20\n",
      "\n",
      "If you use this tool please cite: https://pubs.rsna.org/doi/10.1148/ryai.230024\n",
      "\n",
      "Generating rough body segmentation...\n",
      "Resampling...\n",
      "  Resampled in 0.22s\n",
      "Predicting...\n"
     ]
    },
    {
     "name": "stderr",
     "output_type": "stream",
     "text": [
      "/ocean/projects/asc170022p/mtragoza/mambaforge/envs/lung-project/lib/python3.10/site-packages/nnunetv2/utilities/plans_handling/plans_handler.py:37: UserWarning: Detected old nnU-Net plans format. Attempting to reconstruct network architecture parameters. If this fails, rerun nnUNetv2_plan_experiment for your dataset. If you use a custom architecture, please downgrade nnU-Net to the version you implemented this or update your implementation + plans.\n",
      "  warnings.warn(\"Detected old nnU-Net plans format. Attempting to reconstruct network architecture \"\n",
      "100%|██████████| 1/1 [00:00<00:00, 76.32it/s]\n"
     ]
    },
    {
     "name": "stdout",
     "output_type": "stream",
     "text": [
      "  Predicted in 6.95s\n",
      "Resampling...\n",
      "  cropping from (256, 256, 94) to (256, 222, 94)\n",
      "Resampling...\n",
      "  Resampled in 1.50s\n",
      "Predicting part 1 of 1 ...\n"
     ]
    },
    {
     "name": "stderr",
     "output_type": "stream",
     "text": [
      "100%|██████████| 8/8 [00:00<00:00, 33.37it/s]\n"
     ]
    },
    {
     "name": "stdout",
     "output_type": "stream",
     "text": [
      "  Predicted in 8.90s\n",
      "Resampling...\n",
      "Saving segmentations...\n"
     ]
    },
    {
     "data": {
      "application/vnd.jupyter.widget-view+json": {
       "model_id": "72e7f6649a594af982f27b4a1677b032",
       "version_major": 2,
       "version_minor": 0
      },
      "text/plain": [
       "  0%|          | 0/5 [00:00<?, ?it/s]"
      ]
     },
     "metadata": {},
     "output_type": "display_data"
    },
    {
     "name": "stdout",
     "output_type": "stream",
     "text": [
      "  Saved in 0.66s\n",
      "\n",
      "If you use this tool please cite: https://pubs.rsna.org/doi/10.1148/ryai.230024\n",
      "\n",
      "Generating rough body segmentation...\n",
      "Resampling...\n",
      "  Resampled in 0.22s\n",
      "Predicting...\n"
     ]
    },
    {
     "name": "stderr",
     "output_type": "stream",
     "text": [
      "/ocean/projects/asc170022p/mtragoza/mambaforge/envs/lung-project/lib/python3.10/site-packages/nnunetv2/utilities/plans_handling/plans_handler.py:37: UserWarning: Detected old nnU-Net plans format. Attempting to reconstruct network architecture parameters. If this fails, rerun nnUNetv2_plan_experiment for your dataset. If you use a custom architecture, please downgrade nnU-Net to the version you implemented this or update your implementation + plans.\n",
      "  warnings.warn(\"Detected old nnU-Net plans format. Attempting to reconstruct network architecture \"\n",
      "100%|██████████| 1/1 [00:00<00:00, 95.26it/s]\n"
     ]
    },
    {
     "name": "stdout",
     "output_type": "stream",
     "text": [
      "  Predicted in 6.95s\n",
      "Resampling...\n",
      "  cropping from (256, 256, 94) to (256, 222, 94)\n",
      "Predicting...\n"
     ]
    },
    {
     "name": "stderr",
     "output_type": "stream",
     "text": [
      "100%|██████████| 60/60 [00:03<00:00, 17.89it/s]\n"
     ]
    },
    {
     "name": "stdout",
     "output_type": "stream",
     "text": [
      "  Predicted in 23.84s\n",
      "Saving segmentations...\n",
      "Creating lung_vessels.nii.gz\n",
      "Creating lung_trachea_bronchia.nii.gz\n"
     ]
    },
    {
     "data": {
      "application/vnd.jupyter.widget-view+json": {
       "model_id": "1513d9d4672d43c287066c2e3191dd96",
       "version_major": 2,
       "version_minor": 0
      },
      "text/plain": [
       "  0%|          | 0/2 [00:00<?, ?it/s]"
      ]
     },
     "metadata": {},
     "output_type": "display_data"
    },
    {
     "name": "stdout",
     "output_type": "stream",
     "text": [
      "  Saved in 0.51s\n",
      "\n",
      "If you use this tool please cite: https://pubs.rsna.org/doi/10.1148/ryai.230024\n",
      "\n",
      "Resampling...\n",
      "  Resampled in 1.76s\n",
      "Predicting...\n"
     ]
    },
    {
     "name": "stderr",
     "output_type": "stream",
     "text": [
      "/ocean/projects/asc170022p/mtragoza/mambaforge/envs/lung-project/lib/python3.10/site-packages/nnunetv2/utilities/plans_handling/plans_handler.py:37: UserWarning: Detected old nnU-Net plans format. Attempting to reconstruct network architecture parameters. If this fails, rerun nnUNetv2_plan_experiment for your dataset. If you use a custom architecture, please downgrade nnU-Net to the version you implemented this or update your implementation + plans.\n",
      "  warnings.warn(\"Detected old nnU-Net plans format. Attempting to reconstruct network architecture \"\n",
      "100%|██████████| 8/8 [00:00<00:00, 33.72it/s]\n"
     ]
    },
    {
     "name": "stdout",
     "output_type": "stream",
     "text": [
      "  Predicted in 8.56s\n"
     ]
    },
    {
     "name": "stderr",
     "output_type": "stream",
     "text": [
      "100%|██████████| 1/1 [00:00<00:00, 11.06it/s]\n",
      "100%|██████████| 1/1 [00:00<00:00, 15.08it/s]"
     ]
    },
    {
     "name": "stdout",
     "output_type": "stream",
     "text": [
      "Resampling...\n"
     ]
    },
    {
     "name": "stderr",
     "output_type": "stream",
     "text": [
      "\n"
     ]
    },
    {
     "name": "stdout",
     "output_type": "stream",
     "text": [
      "Saving segmentations...\n",
      "Creating body_trunc.nii.gz\n"
     ]
    },
    {
     "data": {
      "application/vnd.jupyter.widget-view+json": {
       "model_id": "46065170731344afa0c529d094754b87",
       "version_major": 2,
       "version_minor": 0
      },
      "text/plain": [
       "  0%|          | 0/2 [00:00<?, ?it/s]"
      ]
     },
     "metadata": {},
     "output_type": "display_data"
    },
    {
     "name": "stdout",
     "output_type": "stream",
     "text": [
      "Creating body_extremities.nii.gz\n",
      "  Saved in 0.34s\n",
      "Creating body.nii.gz\n",
      "Creating skin.nii.gz\n",
      "Segmenting Case4Pack phase 30\n",
      "\n",
      "If you use this tool please cite: https://pubs.rsna.org/doi/10.1148/ryai.230024\n",
      "\n",
      "Generating rough body segmentation...\n",
      "Resampling...\n",
      "  Resampled in 0.23s\n",
      "Predicting...\n"
     ]
    },
    {
     "name": "stderr",
     "output_type": "stream",
     "text": [
      "/ocean/projects/asc170022p/mtragoza/mambaforge/envs/lung-project/lib/python3.10/site-packages/nnunetv2/utilities/plans_handling/plans_handler.py:37: UserWarning: Detected old nnU-Net plans format. Attempting to reconstruct network architecture parameters. If this fails, rerun nnUNetv2_plan_experiment for your dataset. If you use a custom architecture, please downgrade nnU-Net to the version you implemented this or update your implementation + plans.\n",
      "  warnings.warn(\"Detected old nnU-Net plans format. Attempting to reconstruct network architecture \"\n",
      "100%|██████████| 1/1 [00:00<00:00, 110.49it/s]\n"
     ]
    },
    {
     "name": "stdout",
     "output_type": "stream",
     "text": [
      "  Predicted in 6.97s\n",
      "Resampling...\n",
      "  cropping from (256, 256, 94) to (256, 216, 94)\n",
      "Resampling...\n",
      "  Resampled in 1.48s\n",
      "Predicting part 1 of 1 ...\n"
     ]
    },
    {
     "name": "stderr",
     "output_type": "stream",
     "text": [
      "100%|██████████| 8/8 [00:00<00:00, 33.02it/s]\n"
     ]
    },
    {
     "name": "stdout",
     "output_type": "stream",
     "text": [
      "  Predicted in 9.09s\n",
      "Resampling...\n",
      "Saving segmentations...\n"
     ]
    },
    {
     "data": {
      "application/vnd.jupyter.widget-view+json": {
       "model_id": "b68f6cfe8aad431f94168c9624b755f6",
       "version_major": 2,
       "version_minor": 0
      },
      "text/plain": [
       "  0%|          | 0/5 [00:00<?, ?it/s]"
      ]
     },
     "metadata": {},
     "output_type": "display_data"
    },
    {
     "name": "stdout",
     "output_type": "stream",
     "text": [
      "  Saved in 0.55s\n",
      "\n",
      "If you use this tool please cite: https://pubs.rsna.org/doi/10.1148/ryai.230024\n",
      "\n",
      "Generating rough body segmentation...\n",
      "Resampling...\n",
      "  Resampled in 0.22s\n",
      "Predicting...\n"
     ]
    },
    {
     "name": "stderr",
     "output_type": "stream",
     "text": [
      "/ocean/projects/asc170022p/mtragoza/mambaforge/envs/lung-project/lib/python3.10/site-packages/nnunetv2/utilities/plans_handling/plans_handler.py:37: UserWarning: Detected old nnU-Net plans format. Attempting to reconstruct network architecture parameters. If this fails, rerun nnUNetv2_plan_experiment for your dataset. If you use a custom architecture, please downgrade nnU-Net to the version you implemented this or update your implementation + plans.\n",
      "  warnings.warn(\"Detected old nnU-Net plans format. Attempting to reconstruct network architecture \"\n",
      "100%|██████████| 1/1 [00:00<00:00, 92.52it/s]\n"
     ]
    },
    {
     "name": "stdout",
     "output_type": "stream",
     "text": [
      "  Predicted in 7.03s\n",
      "Resampling...\n",
      "  cropping from (256, 256, 94) to (256, 216, 94)\n",
      "Predicting...\n"
     ]
    },
    {
     "name": "stderr",
     "output_type": "stream",
     "text": [
      "100%|██████████| 60/60 [00:03<00:00, 17.92it/s]\n"
     ]
    },
    {
     "name": "stdout",
     "output_type": "stream",
     "text": [
      "  Predicted in 23.21s\n",
      "Saving segmentations...\n",
      "Creating lung_vessels.nii.gz\n",
      "Creating lung_trachea_bronchia.nii.gz\n"
     ]
    },
    {
     "data": {
      "application/vnd.jupyter.widget-view+json": {
       "model_id": "1b35b66be6b34f2480823e2bd7ec1ecf",
       "version_major": 2,
       "version_minor": 0
      },
      "text/plain": [
       "  0%|          | 0/2 [00:00<?, ?it/s]"
      ]
     },
     "metadata": {},
     "output_type": "display_data"
    },
    {
     "name": "stdout",
     "output_type": "stream",
     "text": [
      "  Saved in 0.54s\n",
      "\n",
      "If you use this tool please cite: https://pubs.rsna.org/doi/10.1148/ryai.230024\n",
      "\n",
      "Resampling...\n",
      "  Resampled in 1.77s\n",
      "Predicting...\n"
     ]
    },
    {
     "name": "stderr",
     "output_type": "stream",
     "text": [
      "/ocean/projects/asc170022p/mtragoza/mambaforge/envs/lung-project/lib/python3.10/site-packages/nnunetv2/utilities/plans_handling/plans_handler.py:37: UserWarning: Detected old nnU-Net plans format. Attempting to reconstruct network architecture parameters. If this fails, rerun nnUNetv2_plan_experiment for your dataset. If you use a custom architecture, please downgrade nnU-Net to the version you implemented this or update your implementation + plans.\n",
      "  warnings.warn(\"Detected old nnU-Net plans format. Attempting to reconstruct network architecture \"\n",
      "100%|██████████| 8/8 [00:00<00:00, 34.40it/s]\n"
     ]
    },
    {
     "name": "stdout",
     "output_type": "stream",
     "text": [
      "  Predicted in 8.48s\n"
     ]
    },
    {
     "name": "stderr",
     "output_type": "stream",
     "text": [
      "100%|██████████| 1/1 [00:00<00:00, 10.97it/s]\n",
      "100%|██████████| 1/1 [00:00<00:00, 15.19it/s]"
     ]
    },
    {
     "name": "stdout",
     "output_type": "stream",
     "text": [
      "Resampling...\n"
     ]
    },
    {
     "name": "stderr",
     "output_type": "stream",
     "text": [
      "\n"
     ]
    },
    {
     "name": "stdout",
     "output_type": "stream",
     "text": [
      "Saving segmentations...\n",
      "Creating body_trunc.nii.gz\n",
      "Creating body_extremities.nii.gz"
     ]
    },
    {
     "data": {
      "application/vnd.jupyter.widget-view+json": {
       "model_id": "316edefe652c468d8700b3948c8fa046",
       "version_major": 2,
       "version_minor": 0
      },
      "text/plain": [
       "  0%|          | 0/2 [00:00<?, ?it/s]"
      ]
     },
     "metadata": {},
     "output_type": "display_data"
    },
    {
     "name": "stdout",
     "output_type": "stream",
     "text": [
      "\n",
      "  Saved in 0.38s\n",
      "Creating body.nii.gz\n",
      "Creating skin.nii.gz\n",
      "Segmenting Case4Pack phase 40\n",
      "\n",
      "If you use this tool please cite: https://pubs.rsna.org/doi/10.1148/ryai.230024\n",
      "\n",
      "Generating rough body segmentation...\n",
      "Resampling...\n",
      "  Resampled in 0.23s\n",
      "Predicting...\n"
     ]
    },
    {
     "name": "stderr",
     "output_type": "stream",
     "text": [
      "/ocean/projects/asc170022p/mtragoza/mambaforge/envs/lung-project/lib/python3.10/site-packages/nnunetv2/utilities/plans_handling/plans_handler.py:37: UserWarning: Detected old nnU-Net plans format. Attempting to reconstruct network architecture parameters. If this fails, rerun nnUNetv2_plan_experiment for your dataset. If you use a custom architecture, please downgrade nnU-Net to the version you implemented this or update your implementation + plans.\n",
      "  warnings.warn(\"Detected old nnU-Net plans format. Attempting to reconstruct network architecture \"\n",
      "100%|██████████| 1/1 [00:00<00:00, 62.90it/s]\n"
     ]
    },
    {
     "name": "stdout",
     "output_type": "stream",
     "text": [
      "  Predicted in 7.04s\n",
      "Resampling...\n",
      "  cropping from (256, 256, 94) to (256, 222, 94)\n",
      "Resampling...\n",
      "  Resampled in 1.51s\n",
      "Predicting part 1 of 1 ...\n"
     ]
    },
    {
     "name": "stderr",
     "output_type": "stream",
     "text": [
      "100%|██████████| 8/8 [00:00<00:00, 33.04it/s]\n"
     ]
    },
    {
     "name": "stdout",
     "output_type": "stream",
     "text": [
      "  Predicted in 8.88s\n",
      "Resampling...\n",
      "Saving segmentations...\n"
     ]
    },
    {
     "data": {
      "application/vnd.jupyter.widget-view+json": {
       "model_id": "087c71d9e1f94a4bbe8fb904a53e41dc",
       "version_major": 2,
       "version_minor": 0
      },
      "text/plain": [
       "  0%|          | 0/5 [00:00<?, ?it/s]"
      ]
     },
     "metadata": {},
     "output_type": "display_data"
    },
    {
     "name": "stdout",
     "output_type": "stream",
     "text": [
      "  Saved in 0.64s\n",
      "\n",
      "If you use this tool please cite: https://pubs.rsna.org/doi/10.1148/ryai.230024\n",
      "\n",
      "Generating rough body segmentation...\n",
      "Resampling...\n",
      "  Resampled in 0.22s\n",
      "Predicting...\n"
     ]
    },
    {
     "name": "stderr",
     "output_type": "stream",
     "text": [
      "/ocean/projects/asc170022p/mtragoza/mambaforge/envs/lung-project/lib/python3.10/site-packages/nnunetv2/utilities/plans_handling/plans_handler.py:37: UserWarning: Detected old nnU-Net plans format. Attempting to reconstruct network architecture parameters. If this fails, rerun nnUNetv2_plan_experiment for your dataset. If you use a custom architecture, please downgrade nnU-Net to the version you implemented this or update your implementation + plans.\n",
      "  warnings.warn(\"Detected old nnU-Net plans format. Attempting to reconstruct network architecture \"\n",
      "100%|██████████| 1/1 [00:00<00:00, 98.27it/s]\n"
     ]
    },
    {
     "name": "stdout",
     "output_type": "stream",
     "text": [
      "  Predicted in 7.03s\n",
      "Resampling...\n",
      "  cropping from (256, 256, 94) to (256, 222, 94)\n",
      "Predicting...\n"
     ]
    },
    {
     "name": "stderr",
     "output_type": "stream",
     "text": [
      "100%|██████████| 60/60 [00:03<00:00, 17.88it/s]\n"
     ]
    },
    {
     "name": "stdout",
     "output_type": "stream",
     "text": [
      "  Predicted in 23.60s\n",
      "Saving segmentations...\n",
      "Creating lung_vessels.nii.gz\n",
      "Creating lung_trachea_bronchia.nii.gz\n"
     ]
    },
    {
     "data": {
      "application/vnd.jupyter.widget-view+json": {
       "model_id": "e837a79a5d8c4c44ab11372f14d193ec",
       "version_major": 2,
       "version_minor": 0
      },
      "text/plain": [
       "  0%|          | 0/2 [00:00<?, ?it/s]"
      ]
     },
     "metadata": {},
     "output_type": "display_data"
    },
    {
     "name": "stdout",
     "output_type": "stream",
     "text": [
      "  Saved in 0.56s\n",
      "\n",
      "If you use this tool please cite: https://pubs.rsna.org/doi/10.1148/ryai.230024\n",
      "\n",
      "Resampling...\n",
      "  Resampled in 1.76s\n",
      "Predicting...\n"
     ]
    },
    {
     "name": "stderr",
     "output_type": "stream",
     "text": [
      "/ocean/projects/asc170022p/mtragoza/mambaforge/envs/lung-project/lib/python3.10/site-packages/nnunetv2/utilities/plans_handling/plans_handler.py:37: UserWarning: Detected old nnU-Net plans format. Attempting to reconstruct network architecture parameters. If this fails, rerun nnUNetv2_plan_experiment for your dataset. If you use a custom architecture, please downgrade nnU-Net to the version you implemented this or update your implementation + plans.\n",
      "  warnings.warn(\"Detected old nnU-Net plans format. Attempting to reconstruct network architecture \"\n",
      "100%|██████████| 8/8 [00:00<00:00, 33.21it/s]\n"
     ]
    },
    {
     "name": "stdout",
     "output_type": "stream",
     "text": [
      "  Predicted in 8.71s\n"
     ]
    },
    {
     "name": "stderr",
     "output_type": "stream",
     "text": [
      "100%|██████████| 1/1 [00:00<00:00, 10.19it/s]\n",
      "100%|██████████| 1/1 [00:00<00:00, 15.12it/s]"
     ]
    },
    {
     "name": "stdout",
     "output_type": "stream",
     "text": [
      "Resampling...\n"
     ]
    },
    {
     "name": "stderr",
     "output_type": "stream",
     "text": [
      "\n"
     ]
    },
    {
     "name": "stdout",
     "output_type": "stream",
     "text": [
      "Saving segmentations...\n",
      "Creating body_trunc.nii.gz\n"
     ]
    },
    {
     "data": {
      "application/vnd.jupyter.widget-view+json": {
       "model_id": "d733fb67c7fc4a3fa38c1c42caa91273",
       "version_major": 2,
       "version_minor": 0
      },
      "text/plain": [
       "  0%|          | 0/2 [00:00<?, ?it/s]"
      ]
     },
     "metadata": {},
     "output_type": "display_data"
    },
    {
     "name": "stdout",
     "output_type": "stream",
     "text": [
      "Creating body_extremities.nii.gz\n",
      "  Saved in 0.39s\n",
      "Creating body.nii.gz\n",
      "Creating skin.nii.gz\n",
      "Segmenting Case4Pack phase 50\n",
      "\n",
      "If you use this tool please cite: https://pubs.rsna.org/doi/10.1148/ryai.230024\n",
      "\n",
      "Generating rough body segmentation...\n",
      "Resampling...\n",
      "  Resampled in 0.22s\n",
      "Predicting...\n"
     ]
    },
    {
     "name": "stderr",
     "output_type": "stream",
     "text": [
      "/ocean/projects/asc170022p/mtragoza/mambaforge/envs/lung-project/lib/python3.10/site-packages/nnunetv2/utilities/plans_handling/plans_handler.py:37: UserWarning: Detected old nnU-Net plans format. Attempting to reconstruct network architecture parameters. If this fails, rerun nnUNetv2_plan_experiment for your dataset. If you use a custom architecture, please downgrade nnU-Net to the version you implemented this or update your implementation + plans.\n",
      "  warnings.warn(\"Detected old nnU-Net plans format. Attempting to reconstruct network architecture \"\n",
      "100%|██████████| 1/1 [00:00<00:00, 83.52it/s]\n"
     ]
    },
    {
     "name": "stdout",
     "output_type": "stream",
     "text": [
      "  Predicted in 7.06s\n",
      "Resampling...\n",
      "  cropping from (256, 256, 94) to (256, 222, 92)\n",
      "Resampling...\n",
      "  Resampled in 1.47s\n",
      "Predicting part 1 of 1 ...\n"
     ]
    },
    {
     "name": "stderr",
     "output_type": "stream",
     "text": [
      "100%|██████████| 8/8 [00:00<00:00, 32.72it/s]\n"
     ]
    },
    {
     "name": "stdout",
     "output_type": "stream",
     "text": [
      "  Predicted in 9.04s\n",
      "Resampling...\n",
      "Saving segmentations...\n"
     ]
    },
    {
     "data": {
      "application/vnd.jupyter.widget-view+json": {
       "model_id": "d56adb1aba114983bcf6fafd9fe4978d",
       "version_major": 2,
       "version_minor": 0
      },
      "text/plain": [
       "  0%|          | 0/5 [00:00<?, ?it/s]"
      ]
     },
     "metadata": {},
     "output_type": "display_data"
    },
    {
     "name": "stdout",
     "output_type": "stream",
     "text": [
      "  Saved in 0.60s\n",
      "\n",
      "If you use this tool please cite: https://pubs.rsna.org/doi/10.1148/ryai.230024\n",
      "\n",
      "Generating rough body segmentation...\n",
      "Resampling...\n",
      "  Resampled in 0.22s\n",
      "Predicting...\n"
     ]
    },
    {
     "name": "stderr",
     "output_type": "stream",
     "text": [
      "/ocean/projects/asc170022p/mtragoza/mambaforge/envs/lung-project/lib/python3.10/site-packages/nnunetv2/utilities/plans_handling/plans_handler.py:37: UserWarning: Detected old nnU-Net plans format. Attempting to reconstruct network architecture parameters. If this fails, rerun nnUNetv2_plan_experiment for your dataset. If you use a custom architecture, please downgrade nnU-Net to the version you implemented this or update your implementation + plans.\n",
      "  warnings.warn(\"Detected old nnU-Net plans format. Attempting to reconstruct network architecture \"\n",
      "100%|██████████| 1/1 [00:00<00:00, 106.75it/s]\n"
     ]
    },
    {
     "name": "stdout",
     "output_type": "stream",
     "text": [
      "  Predicted in 6.99s\n",
      "Resampling...\n",
      "  cropping from (256, 256, 94) to (256, 222, 92)\n",
      "Predicting...\n"
     ]
    },
    {
     "name": "stderr",
     "output_type": "stream",
     "text": [
      "100%|██████████| 60/60 [00:03<00:00, 17.95it/s]\n"
     ]
    },
    {
     "name": "stdout",
     "output_type": "stream",
     "text": [
      "  Predicted in 23.26s\n",
      "Saving segmentations...\n",
      "Creating lung_vessels.nii.gz"
     ]
    },
    {
     "data": {
      "application/vnd.jupyter.widget-view+json": {
       "model_id": "fedbcd4939a041d69eedb660e67e165f",
       "version_major": 2,
       "version_minor": 0
      },
      "text/plain": [
       "  0%|          | 0/2 [00:00<?, ?it/s]"
      ]
     },
     "metadata": {},
     "output_type": "display_data"
    },
    {
     "name": "stdout",
     "output_type": "stream",
     "text": [
      "\n",
      "Creating lung_trachea_bronchia.nii.gz\n",
      "  Saved in 0.63s\n",
      "\n",
      "If you use this tool please cite: https://pubs.rsna.org/doi/10.1148/ryai.230024\n",
      "\n",
      "Resampling...\n",
      "  Resampled in 1.76s\n",
      "Predicting...\n"
     ]
    },
    {
     "name": "stderr",
     "output_type": "stream",
     "text": [
      "/ocean/projects/asc170022p/mtragoza/mambaforge/envs/lung-project/lib/python3.10/site-packages/nnunetv2/utilities/plans_handling/plans_handler.py:37: UserWarning: Detected old nnU-Net plans format. Attempting to reconstruct network architecture parameters. If this fails, rerun nnUNetv2_plan_experiment for your dataset. If you use a custom architecture, please downgrade nnU-Net to the version you implemented this or update your implementation + plans.\n",
      "  warnings.warn(\"Detected old nnU-Net plans format. Attempting to reconstruct network architecture \"\n",
      "100%|██████████| 8/8 [00:00<00:00, 33.23it/s]\n"
     ]
    },
    {
     "name": "stdout",
     "output_type": "stream",
     "text": [
      "  Predicted in 8.72s\n"
     ]
    },
    {
     "name": "stderr",
     "output_type": "stream",
     "text": [
      "100%|██████████| 1/1 [00:00<00:00, 11.00it/s]\n",
      "100%|██████████| 1/1 [00:00<00:00, 15.24it/s]"
     ]
    },
    {
     "name": "stdout",
     "output_type": "stream",
     "text": [
      "Resampling...\n"
     ]
    },
    {
     "name": "stderr",
     "output_type": "stream",
     "text": [
      "\n"
     ]
    },
    {
     "name": "stdout",
     "output_type": "stream",
     "text": [
      "Saving segmentations...\n",
      "Creating body_trunc.nii.gz\n",
      "Creating body_extremities.nii.gz"
     ]
    },
    {
     "data": {
      "application/vnd.jupyter.widget-view+json": {
       "model_id": "dbba3414b67a48d8b4265923a41627dc",
       "version_major": 2,
       "version_minor": 0
      },
      "text/plain": [
       "  0%|          | 0/2 [00:00<?, ?it/s]"
      ]
     },
     "metadata": {},
     "output_type": "display_data"
    },
    {
     "name": "stdout",
     "output_type": "stream",
     "text": [
      "\n",
      "  Saved in 0.44s\n",
      "Creating body.nii.gz\n",
      "Creating skin.nii.gz\n",
      "Segmenting Case4Pack phase 60\n",
      "\n",
      "If you use this tool please cite: https://pubs.rsna.org/doi/10.1148/ryai.230024\n",
      "\n",
      "Generating rough body segmentation...\n",
      "Resampling...\n",
      "  Resampled in 0.22s\n",
      "Predicting...\n"
     ]
    },
    {
     "name": "stderr",
     "output_type": "stream",
     "text": [
      "/ocean/projects/asc170022p/mtragoza/mambaforge/envs/lung-project/lib/python3.10/site-packages/nnunetv2/utilities/plans_handling/plans_handler.py:37: UserWarning: Detected old nnU-Net plans format. Attempting to reconstruct network architecture parameters. If this fails, rerun nnUNetv2_plan_experiment for your dataset. If you use a custom architecture, please downgrade nnU-Net to the version you implemented this or update your implementation + plans.\n",
      "  warnings.warn(\"Detected old nnU-Net plans format. Attempting to reconstruct network architecture \"\n",
      "100%|██████████| 1/1 [00:00<00:00, 81.58it/s]\n"
     ]
    },
    {
     "name": "stdout",
     "output_type": "stream",
     "text": [
      "  Predicted in 6.94s\n",
      "Resampling...\n",
      "  cropping from (256, 256, 94) to (256, 222, 92)\n",
      "Resampling...\n",
      "  Resampled in 1.47s\n",
      "Predicting part 1 of 1 ...\n"
     ]
    },
    {
     "name": "stderr",
     "output_type": "stream",
     "text": [
      "100%|██████████| 8/8 [00:00<00:00, 33.09it/s]\n"
     ]
    },
    {
     "name": "stdout",
     "output_type": "stream",
     "text": [
      "  Predicted in 9.06s\n",
      "Resampling...\n",
      "Saving segmentations...\n"
     ]
    },
    {
     "data": {
      "application/vnd.jupyter.widget-view+json": {
       "model_id": "deb557e053784d48a4498a15ddefaaf7",
       "version_major": 2,
       "version_minor": 0
      },
      "text/plain": [
       "  0%|          | 0/5 [00:00<?, ?it/s]"
      ]
     },
     "metadata": {},
     "output_type": "display_data"
    },
    {
     "name": "stdout",
     "output_type": "stream",
     "text": [
      "  Saved in 0.62s\n",
      "\n",
      "If you use this tool please cite: https://pubs.rsna.org/doi/10.1148/ryai.230024\n",
      "\n",
      "Generating rough body segmentation...\n",
      "Resampling...\n",
      "  Resampled in 0.22s\n",
      "Predicting...\n"
     ]
    },
    {
     "name": "stderr",
     "output_type": "stream",
     "text": [
      "/ocean/projects/asc170022p/mtragoza/mambaforge/envs/lung-project/lib/python3.10/site-packages/nnunetv2/utilities/plans_handling/plans_handler.py:37: UserWarning: Detected old nnU-Net plans format. Attempting to reconstruct network architecture parameters. If this fails, rerun nnUNetv2_plan_experiment for your dataset. If you use a custom architecture, please downgrade nnU-Net to the version you implemented this or update your implementation + plans.\n",
      "  warnings.warn(\"Detected old nnU-Net plans format. Attempting to reconstruct network architecture \"\n",
      "100%|██████████| 1/1 [00:00<00:00, 105.97it/s]\n"
     ]
    },
    {
     "name": "stdout",
     "output_type": "stream",
     "text": [
      "  Predicted in 7.02s\n",
      "Resampling...\n",
      "  cropping from (256, 256, 94) to (256, 222, 92)\n",
      "Predicting...\n"
     ]
    },
    {
     "name": "stderr",
     "output_type": "stream",
     "text": [
      "100%|██████████| 60/60 [00:03<00:00, 17.89it/s]\n"
     ]
    },
    {
     "name": "stdout",
     "output_type": "stream",
     "text": [
      "  Predicted in 23.22s\n",
      "Saving segmentations...\n",
      "Creating lung_vessels.nii.gz\n",
      "Creating lung_trachea_bronchia.nii.gz\n"
     ]
    },
    {
     "data": {
      "application/vnd.jupyter.widget-view+json": {
       "model_id": "0f6862c3c51947328c3561e15aaa243b",
       "version_major": 2,
       "version_minor": 0
      },
      "text/plain": [
       "  0%|          | 0/2 [00:00<?, ?it/s]"
      ]
     },
     "metadata": {},
     "output_type": "display_data"
    },
    {
     "name": "stdout",
     "output_type": "stream",
     "text": [
      "  Saved in 0.52s\n",
      "\n",
      "If you use this tool please cite: https://pubs.rsna.org/doi/10.1148/ryai.230024\n",
      "\n",
      "Resampling...\n",
      "  Resampled in 1.76s\n",
      "Predicting...\n"
     ]
    },
    {
     "name": "stderr",
     "output_type": "stream",
     "text": [
      "/ocean/projects/asc170022p/mtragoza/mambaforge/envs/lung-project/lib/python3.10/site-packages/nnunetv2/utilities/plans_handling/plans_handler.py:37: UserWarning: Detected old nnU-Net plans format. Attempting to reconstruct network architecture parameters. If this fails, rerun nnUNetv2_plan_experiment for your dataset. If you use a custom architecture, please downgrade nnU-Net to the version you implemented this or update your implementation + plans.\n",
      "  warnings.warn(\"Detected old nnU-Net plans format. Attempting to reconstruct network architecture \"\n",
      "100%|██████████| 8/8 [00:00<00:00, 33.26it/s]\n"
     ]
    },
    {
     "name": "stdout",
     "output_type": "stream",
     "text": [
      "  Predicted in 8.43s\n"
     ]
    },
    {
     "name": "stderr",
     "output_type": "stream",
     "text": [
      "100%|██████████| 1/1 [00:00<00:00, 10.88it/s]\n",
      "100%|██████████| 1/1 [00:00<00:00, 14.98it/s]"
     ]
    },
    {
     "name": "stdout",
     "output_type": "stream",
     "text": [
      "Resampling...\n"
     ]
    },
    {
     "name": "stderr",
     "output_type": "stream",
     "text": [
      "\n"
     ]
    },
    {
     "name": "stdout",
     "output_type": "stream",
     "text": [
      "Saving segmentations...\n",
      "Creating body_trunc.nii.gz"
     ]
    },
    {
     "data": {
      "application/vnd.jupyter.widget-view+json": {
       "model_id": "890d364373a24a759b86b6f0126643bc",
       "version_major": 2,
       "version_minor": 0
      },
      "text/plain": [
       "  0%|          | 0/2 [00:00<?, ?it/s]"
      ]
     },
     "metadata": {},
     "output_type": "display_data"
    },
    {
     "name": "stdout",
     "output_type": "stream",
     "text": [
      "\n",
      "Creating body_extremities.nii.gz\n",
      "  Saved in 168.01s\n",
      "Creating body.nii.gz\n",
      "Creating skin.nii.gz\n",
      "Segmenting Case4Pack phase 70\n",
      "\n",
      "If you use this tool please cite: https://pubs.rsna.org/doi/10.1148/ryai.230024\n",
      "\n",
      "Generating rough body segmentation...\n",
      "Resampling...\n",
      "  Resampled in 0.22s\n",
      "Predicting...\n"
     ]
    },
    {
     "name": "stderr",
     "output_type": "stream",
     "text": [
      "/ocean/projects/asc170022p/mtragoza/mambaforge/envs/lung-project/lib/python3.10/site-packages/nnunetv2/utilities/plans_handling/plans_handler.py:37: UserWarning: Detected old nnU-Net plans format. Attempting to reconstruct network architecture parameters. If this fails, rerun nnUNetv2_plan_experiment for your dataset. If you use a custom architecture, please downgrade nnU-Net to the version you implemented this or update your implementation + plans.\n",
      "  warnings.warn(\"Detected old nnU-Net plans format. Attempting to reconstruct network architecture \"\n",
      "100%|██████████| 1/1 [00:00<00:00, 104.23it/s]\n"
     ]
    },
    {
     "name": "stdout",
     "output_type": "stream",
     "text": [
      "  Predicted in 7.17s\n",
      "Resampling...\n",
      "  cropping from (256, 256, 94) to (256, 222, 92)\n",
      "Resampling...\n",
      "  Resampled in 1.47s\n",
      "Predicting part 1 of 1 ...\n"
     ]
    },
    {
     "name": "stderr",
     "output_type": "stream",
     "text": [
      "100%|██████████| 8/8 [00:00<00:00, 32.02it/s]\n"
     ]
    },
    {
     "name": "stdout",
     "output_type": "stream",
     "text": [
      "  Predicted in 8.86s\n",
      "Resampling...\n",
      "Saving segmentations...\n"
     ]
    },
    {
     "data": {
      "application/vnd.jupyter.widget-view+json": {
       "model_id": "ed45321ef22a415ba70d02e69802d919",
       "version_major": 2,
       "version_minor": 0
      },
      "text/plain": [
       "  0%|          | 0/5 [00:00<?, ?it/s]"
      ]
     },
     "metadata": {},
     "output_type": "display_data"
    },
    {
     "name": "stdout",
     "output_type": "stream",
     "text": [
      "  Saved in 0.76s\n",
      "\n",
      "If you use this tool please cite: https://pubs.rsna.org/doi/10.1148/ryai.230024\n",
      "\n",
      "Generating rough body segmentation...\n",
      "Resampling...\n",
      "  Resampled in 0.22s\n",
      "Predicting...\n"
     ]
    },
    {
     "name": "stderr",
     "output_type": "stream",
     "text": [
      "/ocean/projects/asc170022p/mtragoza/mambaforge/envs/lung-project/lib/python3.10/site-packages/nnunetv2/utilities/plans_handling/plans_handler.py:37: UserWarning: Detected old nnU-Net plans format. Attempting to reconstruct network architecture parameters. If this fails, rerun nnUNetv2_plan_experiment for your dataset. If you use a custom architecture, please downgrade nnU-Net to the version you implemented this or update your implementation + plans.\n",
      "  warnings.warn(\"Detected old nnU-Net plans format. Attempting to reconstruct network architecture \"\n",
      "100%|██████████| 1/1 [00:00<00:00, 94.78it/s]\n"
     ]
    },
    {
     "name": "stdout",
     "output_type": "stream",
     "text": [
      "  Predicted in 7.06s\n",
      "Resampling...\n",
      "  cropping from (256, 256, 94) to (256, 222, 92)\n",
      "Predicting...\n"
     ]
    },
    {
     "name": "stderr",
     "output_type": "stream",
     "text": [
      "100%|██████████| 60/60 [00:03<00:00, 17.94it/s]\n"
     ]
    },
    {
     "name": "stdout",
     "output_type": "stream",
     "text": [
      "  Predicted in 23.35s\n",
      "Saving segmentations...\n",
      "Creating lung_vessels.nii.gz\n",
      "Creating lung_trachea_bronchia.nii.gz\n"
     ]
    },
    {
     "data": {
      "application/vnd.jupyter.widget-view+json": {
       "model_id": "2f971e0a3c8f4c3f838db10c6d63ef49",
       "version_major": 2,
       "version_minor": 0
      },
      "text/plain": [
       "  0%|          | 0/2 [00:00<?, ?it/s]"
      ]
     },
     "metadata": {},
     "output_type": "display_data"
    },
    {
     "name": "stdout",
     "output_type": "stream",
     "text": [
      "  Saved in 0.53s\n",
      "\n",
      "If you use this tool please cite: https://pubs.rsna.org/doi/10.1148/ryai.230024\n",
      "\n",
      "Resampling...\n",
      "  Resampled in 1.77s\n",
      "Predicting...\n"
     ]
    },
    {
     "name": "stderr",
     "output_type": "stream",
     "text": [
      "/ocean/projects/asc170022p/mtragoza/mambaforge/envs/lung-project/lib/python3.10/site-packages/nnunetv2/utilities/plans_handling/plans_handler.py:37: UserWarning: Detected old nnU-Net plans format. Attempting to reconstruct network architecture parameters. If this fails, rerun nnUNetv2_plan_experiment for your dataset. If you use a custom architecture, please downgrade nnU-Net to the version you implemented this or update your implementation + plans.\n",
      "  warnings.warn(\"Detected old nnU-Net plans format. Attempting to reconstruct network architecture \"\n",
      "100%|██████████| 8/8 [00:00<00:00, 33.26it/s]\n"
     ]
    },
    {
     "name": "stdout",
     "output_type": "stream",
     "text": [
      "  Predicted in 8.70s\n"
     ]
    },
    {
     "name": "stderr",
     "output_type": "stream",
     "text": [
      "100%|██████████| 1/1 [00:00<00:00, 10.91it/s]\n",
      "100%|██████████| 1/1 [00:00<00:00, 15.09it/s]"
     ]
    },
    {
     "name": "stdout",
     "output_type": "stream",
     "text": [
      "Resampling...\n"
     ]
    },
    {
     "name": "stderr",
     "output_type": "stream",
     "text": [
      "\n"
     ]
    },
    {
     "name": "stdout",
     "output_type": "stream",
     "text": [
      "Saving segmentations...\n",
      "Creating body_trunc.nii.gz\n",
      "Creating body_extremities.nii.gz\n"
     ]
    },
    {
     "data": {
      "application/vnd.jupyter.widget-view+json": {
       "model_id": "4d27888e2e9646a8bce8e7fa0cdf98c1",
       "version_major": 2,
       "version_minor": 0
      },
      "text/plain": [
       "  0%|          | 0/2 [00:00<?, ?it/s]"
      ]
     },
     "metadata": {},
     "output_type": "display_data"
    },
    {
     "name": "stdout",
     "output_type": "stream",
     "text": [
      "  Saved in 0.35s\n",
      "Creating body.nii.gz\n",
      "Creating skin.nii.gz\n",
      "Segmenting Case4Pack phase 80\n",
      "\n",
      "If you use this tool please cite: https://pubs.rsna.org/doi/10.1148/ryai.230024\n",
      "\n",
      "Generating rough body segmentation...\n",
      "Resampling...\n",
      "  Resampled in 0.23s\n",
      "Predicting...\n"
     ]
    },
    {
     "name": "stderr",
     "output_type": "stream",
     "text": [
      "/ocean/projects/asc170022p/mtragoza/mambaforge/envs/lung-project/lib/python3.10/site-packages/nnunetv2/utilities/plans_handling/plans_handler.py:37: UserWarning: Detected old nnU-Net plans format. Attempting to reconstruct network architecture parameters. If this fails, rerun nnUNetv2_plan_experiment for your dataset. If you use a custom architecture, please downgrade nnU-Net to the version you implemented this or update your implementation + plans.\n",
      "  warnings.warn(\"Detected old nnU-Net plans format. Attempting to reconstruct network architecture \"\n",
      "100%|██████████| 1/1 [00:00<00:00, 91.34it/s]\n"
     ]
    },
    {
     "name": "stdout",
     "output_type": "stream",
     "text": [
      "  Predicted in 7.04s\n",
      "Resampling...\n",
      "  cropping from (256, 256, 94) to (256, 216, 94)\n",
      "Resampling...\n",
      "  Resampled in 1.47s\n",
      "Predicting part 1 of 1 ...\n"
     ]
    },
    {
     "name": "stderr",
     "output_type": "stream",
     "text": [
      "100%|██████████| 8/8 [00:00<00:00, 33.24it/s]\n"
     ]
    },
    {
     "name": "stdout",
     "output_type": "stream",
     "text": [
      "  Predicted in 8.85s\n",
      "Resampling...\n",
      "Saving segmentations...\n"
     ]
    },
    {
     "data": {
      "application/vnd.jupyter.widget-view+json": {
       "model_id": "9bce7bc342b94f448451248224ab270e",
       "version_major": 2,
       "version_minor": 0
      },
      "text/plain": [
       "  0%|          | 0/5 [00:00<?, ?it/s]"
      ]
     },
     "metadata": {},
     "output_type": "display_data"
    },
    {
     "name": "stdout",
     "output_type": "stream",
     "text": [
      "  Saved in 0.64s\n",
      "\n",
      "If you use this tool please cite: https://pubs.rsna.org/doi/10.1148/ryai.230024\n",
      "\n",
      "Generating rough body segmentation...\n",
      "Resampling...\n",
      "  Resampled in 0.23s\n",
      "Predicting...\n"
     ]
    },
    {
     "name": "stderr",
     "output_type": "stream",
     "text": [
      "/ocean/projects/asc170022p/mtragoza/mambaforge/envs/lung-project/lib/python3.10/site-packages/nnunetv2/utilities/plans_handling/plans_handler.py:37: UserWarning: Detected old nnU-Net plans format. Attempting to reconstruct network architecture parameters. If this fails, rerun nnUNetv2_plan_experiment for your dataset. If you use a custom architecture, please downgrade nnU-Net to the version you implemented this or update your implementation + plans.\n",
      "  warnings.warn(\"Detected old nnU-Net plans format. Attempting to reconstruct network architecture \"\n",
      "100%|██████████| 1/1 [00:00<00:00, 75.84it/s]\n"
     ]
    },
    {
     "name": "stdout",
     "output_type": "stream",
     "text": [
      "  Predicted in 7.05s\n",
      "Resampling...\n",
      "  cropping from (256, 256, 94) to (256, 216, 94)\n",
      "Predicting...\n"
     ]
    },
    {
     "name": "stderr",
     "output_type": "stream",
     "text": [
      "100%|██████████| 60/60 [00:03<00:00, 17.90it/s]\n"
     ]
    },
    {
     "name": "stdout",
     "output_type": "stream",
     "text": [
      "  Predicted in 23.26s\n",
      "Saving segmentations...\n",
      "Creating lung_trachea_bronchia.nii.gzCreating lung_vessels.nii.gz"
     ]
    },
    {
     "data": {
      "application/vnd.jupyter.widget-view+json": {
       "model_id": "073b5ffef1fc46a88f7bf78c09271f0a",
       "version_major": 2,
       "version_minor": 0
      },
      "text/plain": [
       "  0%|          | 0/2 [00:00<?, ?it/s]"
      ]
     },
     "metadata": {},
     "output_type": "display_data"
    },
    {
     "name": "stdout",
     "output_type": "stream",
     "text": [
      "\n",
      "\n",
      "  Saved in 0.48s\n",
      "\n",
      "If you use this tool please cite: https://pubs.rsna.org/doi/10.1148/ryai.230024\n",
      "\n",
      "Resampling...\n",
      "  Resampled in 1.77s\n",
      "Predicting...\n"
     ]
    },
    {
     "name": "stderr",
     "output_type": "stream",
     "text": [
      "/ocean/projects/asc170022p/mtragoza/mambaforge/envs/lung-project/lib/python3.10/site-packages/nnunetv2/utilities/plans_handling/plans_handler.py:37: UserWarning: Detected old nnU-Net plans format. Attempting to reconstruct network architecture parameters. If this fails, rerun nnUNetv2_plan_experiment for your dataset. If you use a custom architecture, please downgrade nnU-Net to the version you implemented this or update your implementation + plans.\n",
      "  warnings.warn(\"Detected old nnU-Net plans format. Attempting to reconstruct network architecture \"\n",
      "100%|██████████| 8/8 [00:00<00:00, 34.61it/s]\n"
     ]
    },
    {
     "name": "stdout",
     "output_type": "stream",
     "text": [
      "  Predicted in 8.50s\n"
     ]
    },
    {
     "name": "stderr",
     "output_type": "stream",
     "text": [
      "100%|██████████| 1/1 [00:00<00:00, 11.01it/s]\n",
      "100%|██████████| 1/1 [00:00<00:00, 15.00it/s]"
     ]
    },
    {
     "name": "stdout",
     "output_type": "stream",
     "text": [
      "Resampling...\n"
     ]
    },
    {
     "name": "stderr",
     "output_type": "stream",
     "text": [
      "\n"
     ]
    },
    {
     "name": "stdout",
     "output_type": "stream",
     "text": [
      "Saving segmentations...\n",
      "Creating body_trunc.nii.gz\n",
      "Creating body_extremities.nii.gz"
     ]
    },
    {
     "data": {
      "application/vnd.jupyter.widget-view+json": {
       "model_id": "b1c8232f24ad40d0b1a7011389d2a3d4",
       "version_major": 2,
       "version_minor": 0
      },
      "text/plain": [
       "  0%|          | 0/2 [00:00<?, ?it/s]"
      ]
     },
     "metadata": {},
     "output_type": "display_data"
    },
    {
     "name": "stdout",
     "output_type": "stream",
     "text": [
      "\n",
      "  Saved in 187.43s\n",
      "Creating body.nii.gz\n",
      "Creating skin.nii.gz\n",
      "Segmenting Case4Pack phase 90\n",
      "\n",
      "If you use this tool please cite: https://pubs.rsna.org/doi/10.1148/ryai.230024\n",
      "\n",
      "Generating rough body segmentation...\n",
      "Resampling...\n",
      "  Resampled in 0.23s\n",
      "Predicting...\n"
     ]
    },
    {
     "name": "stderr",
     "output_type": "stream",
     "text": [
      "/ocean/projects/asc170022p/mtragoza/mambaforge/envs/lung-project/lib/python3.10/site-packages/nnunetv2/utilities/plans_handling/plans_handler.py:37: UserWarning: Detected old nnU-Net plans format. Attempting to reconstruct network architecture parameters. If this fails, rerun nnUNetv2_plan_experiment for your dataset. If you use a custom architecture, please downgrade nnU-Net to the version you implemented this or update your implementation + plans.\n",
      "  warnings.warn(\"Detected old nnU-Net plans format. Attempting to reconstruct network architecture \"\n",
      "100%|██████████| 1/1 [00:00<00:00, 80.89it/s]\n"
     ]
    },
    {
     "name": "stdout",
     "output_type": "stream",
     "text": [
      "  Predicted in 7.50s\n",
      "Resampling...\n",
      "  cropping from (256, 256, 94) to (256, 216, 94)\n",
      "Resampling...\n",
      "  Resampled in 1.47s\n",
      "Predicting part 1 of 1 ...\n"
     ]
    },
    {
     "name": "stderr",
     "output_type": "stream",
     "text": [
      "100%|██████████| 8/8 [00:00<00:00, 32.14it/s]\n"
     ]
    },
    {
     "name": "stdout",
     "output_type": "stream",
     "text": [
      "  Predicted in 9.24s\n",
      "Resampling...\n",
      "Saving segmentations...\n"
     ]
    },
    {
     "data": {
      "application/vnd.jupyter.widget-view+json": {
       "model_id": "8cd440fb616b4775bce5c1311a98b761",
       "version_major": 2,
       "version_minor": 0
      },
      "text/plain": [
       "  0%|          | 0/5 [00:00<?, ?it/s]"
      ]
     },
     "metadata": {},
     "output_type": "display_data"
    },
    {
     "name": "stdout",
     "output_type": "stream",
     "text": [
      "  Saved in 369.56s\n",
      "\n",
      "If you use this tool please cite: https://pubs.rsna.org/doi/10.1148/ryai.230024\n",
      "\n",
      "Generating rough body segmentation...\n",
      "Resampling...\n",
      "  Resampled in 0.23s\n",
      "Predicting...\n"
     ]
    },
    {
     "name": "stderr",
     "output_type": "stream",
     "text": [
      "/ocean/projects/asc170022p/mtragoza/mambaforge/envs/lung-project/lib/python3.10/site-packages/nnunetv2/utilities/plans_handling/plans_handler.py:37: UserWarning: Detected old nnU-Net plans format. Attempting to reconstruct network architecture parameters. If this fails, rerun nnUNetv2_plan_experiment for your dataset. If you use a custom architecture, please downgrade nnU-Net to the version you implemented this or update your implementation + plans.\n",
      "  warnings.warn(\"Detected old nnU-Net plans format. Attempting to reconstruct network architecture \"\n",
      "100%|██████████| 1/1 [00:00<00:00, 95.00it/s]\n"
     ]
    },
    {
     "name": "stdout",
     "output_type": "stream",
     "text": [
      "  Predicted in 7.32s\n",
      "Resampling...\n",
      "  cropping from (256, 256, 94) to (256, 216, 94)\n",
      "Predicting...\n"
     ]
    },
    {
     "name": "stderr",
     "output_type": "stream",
     "text": [
      "100%|██████████| 60/60 [00:03<00:00, 17.96it/s]\n"
     ]
    },
    {
     "name": "stdout",
     "output_type": "stream",
     "text": [
      "  Predicted in 23.63s\n",
      "Saving segmentations...\n"
     ]
    },
    {
     "data": {
      "application/vnd.jupyter.widget-view+json": {
       "model_id": "32ea616cfbed409cba64f2e40ab59835",
       "version_major": 2,
       "version_minor": 0
      },
      "text/plain": [
       "  0%|          | 0/2 [00:00<?, ?it/s]"
      ]
     },
     "metadata": {},
     "output_type": "display_data"
    },
    {
     "name": "stdout",
     "output_type": "stream",
     "text": [
      "Creating lung_vessels.nii.gz\n",
      "Creating lung_trachea_bronchia.nii.gz\n",
      "  Saved in 0.79s\n",
      "\n",
      "If you use this tool please cite: https://pubs.rsna.org/doi/10.1148/ryai.230024\n",
      "\n",
      "Resampling...\n",
      "  Resampled in 1.76s\n",
      "Predicting...\n"
     ]
    },
    {
     "name": "stderr",
     "output_type": "stream",
     "text": [
      "/ocean/projects/asc170022p/mtragoza/mambaforge/envs/lung-project/lib/python3.10/site-packages/nnunetv2/utilities/plans_handling/plans_handler.py:37: UserWarning: Detected old nnU-Net plans format. Attempting to reconstruct network architecture parameters. If this fails, rerun nnUNetv2_plan_experiment for your dataset. If you use a custom architecture, please downgrade nnU-Net to the version you implemented this or update your implementation + plans.\n",
      "  warnings.warn(\"Detected old nnU-Net plans format. Attempting to reconstruct network architecture \"\n",
      "100%|██████████| 8/8 [00:00<00:00, 33.23it/s]\n"
     ]
    },
    {
     "name": "stdout",
     "output_type": "stream",
     "text": [
      "  Predicted in 8.79s\n"
     ]
    },
    {
     "name": "stderr",
     "output_type": "stream",
     "text": [
      "100%|██████████| 1/1 [00:00<00:00, 10.93it/s]\n",
      "100%|██████████| 1/1 [00:00<00:00, 14.92it/s]"
     ]
    },
    {
     "name": "stdout",
     "output_type": "stream",
     "text": [
      "Resampling...\n"
     ]
    },
    {
     "name": "stderr",
     "output_type": "stream",
     "text": [
      "\n"
     ]
    },
    {
     "name": "stdout",
     "output_type": "stream",
     "text": [
      "Saving segmentations...\n",
      "Creating body_trunc.nii.gz\n",
      "Creating body_extremities.nii.gz\n"
     ]
    },
    {
     "data": {
      "application/vnd.jupyter.widget-view+json": {
       "model_id": "b8a052028c7d44a6994fb5a5e20d3d02",
       "version_major": 2,
       "version_minor": 0
      },
      "text/plain": [
       "  0%|          | 0/2 [00:00<?, ?it/s]"
      ]
     },
     "metadata": {},
     "output_type": "display_data"
    },
    {
     "name": "stdout",
     "output_type": "stream",
     "text": [
      "  Saved in 0.33s\n",
      "Creating body.nii.gz\n",
      "Creating skin.nii.gz\n",
      "Segmenting Case5Pack phase 0\n",
      "\n",
      "If you use this tool please cite: https://pubs.rsna.org/doi/10.1148/ryai.230024\n",
      "\n",
      "Generating rough body segmentation...\n",
      "Resampling...\n",
      "  Resampled in 0.23s\n",
      "Predicting...\n"
     ]
    },
    {
     "name": "stderr",
     "output_type": "stream",
     "text": [
      "/ocean/projects/asc170022p/mtragoza/mambaforge/envs/lung-project/lib/python3.10/site-packages/nnunetv2/utilities/plans_handling/plans_handler.py:37: UserWarning: Detected old nnU-Net plans format. Attempting to reconstruct network architecture parameters. If this fails, rerun nnUNetv2_plan_experiment for your dataset. If you use a custom architecture, please downgrade nnU-Net to the version you implemented this or update your implementation + plans.\n",
      "  warnings.warn(\"Detected old nnU-Net plans format. Attempting to reconstruct network architecture \"\n",
      "100%|██████████| 1/1 [00:00<00:00, 74.15it/s]\n"
     ]
    },
    {
     "name": "stdout",
     "output_type": "stream",
     "text": [
      "  Predicted in 7.22s\n",
      "Resampling...\n",
      "  cropping from (256, 256, 94) to (256, 207, 94)\n",
      "Resampling...\n",
      "  Resampled in 1.78s\n",
      "Predicting part 1 of 1 ...\n"
     ]
    },
    {
     "name": "stderr",
     "output_type": "stream",
     "text": [
      "100%|██████████| 8/8 [00:00<00:00, 31.86it/s]\n"
     ]
    },
    {
     "name": "stdout",
     "output_type": "stream",
     "text": [
      "  Predicted in 9.44s\n",
      "Resampling...\n",
      "Saving segmentations...\n"
     ]
    },
    {
     "data": {
      "application/vnd.jupyter.widget-view+json": {
       "model_id": "cbb557c5cf6d43d5a455591dc69c7338",
       "version_major": 2,
       "version_minor": 0
      },
      "text/plain": [
       "  0%|          | 0/5 [00:00<?, ?it/s]"
      ]
     },
     "metadata": {},
     "output_type": "display_data"
    },
    {
     "name": "stdout",
     "output_type": "stream",
     "text": [
      "  Saved in 197.68s\n",
      "\n",
      "If you use this tool please cite: https://pubs.rsna.org/doi/10.1148/ryai.230024\n",
      "\n",
      "Generating rough body segmentation...\n",
      "Resampling...\n",
      "  Resampled in 0.24s\n",
      "Predicting...\n"
     ]
    },
    {
     "name": "stderr",
     "output_type": "stream",
     "text": [
      "/ocean/projects/asc170022p/mtragoza/mambaforge/envs/lung-project/lib/python3.10/site-packages/nnunetv2/utilities/plans_handling/plans_handler.py:37: UserWarning: Detected old nnU-Net plans format. Attempting to reconstruct network architecture parameters. If this fails, rerun nnUNetv2_plan_experiment for your dataset. If you use a custom architecture, please downgrade nnU-Net to the version you implemented this or update your implementation + plans.\n",
      "  warnings.warn(\"Detected old nnU-Net plans format. Attempting to reconstruct network architecture \"\n",
      "100%|██████████| 1/1 [00:00<00:00, 91.90it/s]\n"
     ]
    },
    {
     "name": "stdout",
     "output_type": "stream",
     "text": [
      "  Predicted in 9.56s\n",
      "Resampling...\n",
      "  cropping from (256, 256, 94) to (256, 207, 94)\n",
      "Predicting...\n"
     ]
    },
    {
     "name": "stderr",
     "output_type": "stream",
     "text": [
      "100%|██████████| 80/80 [00:04<00:00, 17.68it/s]\n"
     ]
    },
    {
     "name": "stdout",
     "output_type": "stream",
     "text": [
      "  Predicted in 26.36s\n",
      "Saving segmentations...\n"
     ]
    },
    {
     "data": {
      "application/vnd.jupyter.widget-view+json": {
       "model_id": "545b4b46fbeb4fa180eb252aab1b013b",
       "version_major": 2,
       "version_minor": 0
      },
      "text/plain": [
       "  0%|          | 0/2 [00:00<?, ?it/s]"
      ]
     },
     "metadata": {},
     "output_type": "display_data"
    },
    {
     "name": "stdout",
     "output_type": "stream",
     "text": [
      "Creating lung_trachea_bronchia.nii.gzCreating lung_vessels.nii.gz\n",
      "\n",
      "  Saved in 0.55s\n",
      "\n",
      "If you use this tool please cite: https://pubs.rsna.org/doi/10.1148/ryai.230024\n",
      "\n",
      "Resampling...\n",
      "  Resampled in 2.17s\n",
      "Predicting...\n"
     ]
    },
    {
     "name": "stderr",
     "output_type": "stream",
     "text": [
      "/ocean/projects/asc170022p/mtragoza/mambaforge/envs/lung-project/lib/python3.10/site-packages/nnunetv2/utilities/plans_handling/plans_handler.py:37: UserWarning: Detected old nnU-Net plans format. Attempting to reconstruct network architecture parameters. If this fails, rerun nnUNetv2_plan_experiment for your dataset. If you use a custom architecture, please downgrade nnU-Net to the version you implemented this or update your implementation + plans.\n",
      "  warnings.warn(\"Detected old nnU-Net plans format. Attempting to reconstruct network architecture \"\n",
      "100%|██████████| 8/8 [00:00<00:00, 33.58it/s]\n"
     ]
    },
    {
     "name": "stdout",
     "output_type": "stream",
     "text": [
      "  Predicted in 8.96s\n"
     ]
    },
    {
     "name": "stderr",
     "output_type": "stream",
     "text": [
      "100%|██████████| 1/1 [00:00<00:00,  8.99it/s]\n",
      "100%|██████████| 1/1 [00:00<00:00, 12.24it/s]\n"
     ]
    },
    {
     "name": "stdout",
     "output_type": "stream",
     "text": [
      "Resampling...\n",
      "Saving segmentations...\n",
      "Creating body_trunc.nii.gz\n",
      "Creating body_extremities.nii.gz\n"
     ]
    },
    {
     "data": {
      "application/vnd.jupyter.widget-view+json": {
       "model_id": "b14ee9808c0b494ead5b9da84c49cc64",
       "version_major": 2,
       "version_minor": 0
      },
      "text/plain": [
       "  0%|          | 0/2 [00:00<?, ?it/s]"
      ]
     },
     "metadata": {},
     "output_type": "display_data"
    },
    {
     "name": "stdout",
     "output_type": "stream",
     "text": [
      "  Saved in 0.38s\n",
      "Creating body.nii.gz\n",
      "Creating skin.nii.gz\n",
      "Segmenting Case5Pack phase 10\n",
      "\n",
      "If you use this tool please cite: https://pubs.rsna.org/doi/10.1148/ryai.230024\n",
      "\n",
      "Generating rough body segmentation...\n",
      "Resampling...\n",
      "  Resampled in 0.23s\n",
      "Predicting...\n"
     ]
    },
    {
     "name": "stderr",
     "output_type": "stream",
     "text": [
      "/ocean/projects/asc170022p/mtragoza/mambaforge/envs/lung-project/lib/python3.10/site-packages/nnunetv2/utilities/plans_handling/plans_handler.py:37: UserWarning: Detected old nnU-Net plans format. Attempting to reconstruct network architecture parameters. If this fails, rerun nnUNetv2_plan_experiment for your dataset. If you use a custom architecture, please downgrade nnU-Net to the version you implemented this or update your implementation + plans.\n",
      "  warnings.warn(\"Detected old nnU-Net plans format. Attempting to reconstruct network architecture \"\n",
      "100%|██████████| 1/1 [00:00<00:00, 77.04it/s]\n"
     ]
    },
    {
     "name": "stdout",
     "output_type": "stream",
     "text": [
      "  Predicted in 7.27s\n",
      "Resampling...\n",
      "  cropping from (256, 256, 94) to (256, 207, 94)\n",
      "Resampling...\n",
      "  Resampled in 1.72s\n",
      "Predicting part 1 of 1 ...\n"
     ]
    },
    {
     "name": "stderr",
     "output_type": "stream",
     "text": [
      "100%|██████████| 8/8 [00:00<00:00, 31.91it/s]\n"
     ]
    },
    {
     "name": "stdout",
     "output_type": "stream",
     "text": [
      "  Predicted in 9.48s\n",
      "Resampling...\n",
      "Saving segmentations...\n"
     ]
    },
    {
     "data": {
      "application/vnd.jupyter.widget-view+json": {
       "model_id": "1b3f471a867e4547beed06443608d768",
       "version_major": 2,
       "version_minor": 0
      },
      "text/plain": [
       "  0%|          | 0/5 [00:00<?, ?it/s]"
      ]
     },
     "metadata": {},
     "output_type": "display_data"
    },
    {
     "name": "stdout",
     "output_type": "stream",
     "text": [
      "  Saved in 0.58s\n",
      "\n",
      "If you use this tool please cite: https://pubs.rsna.org/doi/10.1148/ryai.230024\n",
      "\n",
      "Generating rough body segmentation...\n",
      "Resampling...\n",
      "  Resampled in 0.23s\n",
      "Predicting...\n"
     ]
    },
    {
     "name": "stderr",
     "output_type": "stream",
     "text": [
      "/ocean/projects/asc170022p/mtragoza/mambaforge/envs/lung-project/lib/python3.10/site-packages/nnunetv2/utilities/plans_handling/plans_handler.py:37: UserWarning: Detected old nnU-Net plans format. Attempting to reconstruct network architecture parameters. If this fails, rerun nnUNetv2_plan_experiment for your dataset. If you use a custom architecture, please downgrade nnU-Net to the version you implemented this or update your implementation + plans.\n",
      "  warnings.warn(\"Detected old nnU-Net plans format. Attempting to reconstruct network architecture \"\n",
      "100%|██████████| 1/1 [00:00<00:00, 91.00it/s]\n"
     ]
    },
    {
     "name": "stdout",
     "output_type": "stream",
     "text": [
      "  Predicted in 7.37s\n",
      "Resampling...\n",
      "  cropping from (256, 256, 94) to (256, 207, 94)\n",
      "Predicting...\n"
     ]
    },
    {
     "name": "stderr",
     "output_type": "stream",
     "text": [
      "100%|██████████| 80/80 [00:04<00:00, 17.67it/s]\n"
     ]
    },
    {
     "name": "stdout",
     "output_type": "stream",
     "text": [
      "  Predicted in 26.34s\n",
      "Saving segmentations...\n",
      "Creating lung_vessels.nii.gz\n",
      "Creating lung_trachea_bronchia.nii.gz\n"
     ]
    },
    {
     "data": {
      "application/vnd.jupyter.widget-view+json": {
       "model_id": "26841c3e78964f4bb30aafdd10716ec1",
       "version_major": 2,
       "version_minor": 0
      },
      "text/plain": [
       "  0%|          | 0/2 [00:00<?, ?it/s]"
      ]
     },
     "metadata": {},
     "output_type": "display_data"
    },
    {
     "name": "stdout",
     "output_type": "stream",
     "text": [
      "  Saved in 0.51s\n",
      "\n",
      "If you use this tool please cite: https://pubs.rsna.org/doi/10.1148/ryai.230024\n",
      "\n",
      "Resampling...\n",
      "  Resampled in 2.17s\n",
      "Predicting...\n"
     ]
    },
    {
     "name": "stderr",
     "output_type": "stream",
     "text": [
      "/ocean/projects/asc170022p/mtragoza/mambaforge/envs/lung-project/lib/python3.10/site-packages/nnunetv2/utilities/plans_handling/plans_handler.py:37: UserWarning: Detected old nnU-Net plans format. Attempting to reconstruct network architecture parameters. If this fails, rerun nnUNetv2_plan_experiment for your dataset. If you use a custom architecture, please downgrade nnU-Net to the version you implemented this or update your implementation + plans.\n",
      "  warnings.warn(\"Detected old nnU-Net plans format. Attempting to reconstruct network architecture \"\n",
      "100%|██████████| 8/8 [00:00<00:00, 33.90it/s]\n"
     ]
    },
    {
     "name": "stdout",
     "output_type": "stream",
     "text": [
      "  Predicted in 9.65s\n"
     ]
    },
    {
     "name": "stderr",
     "output_type": "stream",
     "text": [
      "100%|██████████| 1/1 [00:00<00:00,  8.85it/s]\n",
      "100%|██████████| 1/1 [00:00<00:00, 11.98it/s]\n"
     ]
    },
    {
     "name": "stdout",
     "output_type": "stream",
     "text": [
      "Resampling...\n",
      "Saving segmentations...\n",
      "Creating body_trunc.nii.gz\n",
      "\n",
      "Creating body_extremities.nii.gz"
     ]
    },
    {
     "data": {
      "application/vnd.jupyter.widget-view+json": {
       "model_id": "66b4532614474377b732d57a93107486",
       "version_major": 2,
       "version_minor": 0
      },
      "text/plain": [
       "  0%|          | 0/2 [00:00<?, ?it/s]"
      ]
     },
     "metadata": {},
     "output_type": "display_data"
    },
    {
     "name": "stdout",
     "output_type": "stream",
     "text": [
      "  Saved in 0.36s\n",
      "Creating body.nii.gz\n",
      "Creating skin.nii.gz\n",
      "Segmenting Case5Pack phase 20\n",
      "\n",
      "If you use this tool please cite: https://pubs.rsna.org/doi/10.1148/ryai.230024\n",
      "\n",
      "Generating rough body segmentation...\n",
      "Resampling...\n",
      "  Resampled in 0.23s\n",
      "Predicting...\n"
     ]
    },
    {
     "name": "stderr",
     "output_type": "stream",
     "text": [
      "/ocean/projects/asc170022p/mtragoza/mambaforge/envs/lung-project/lib/python3.10/site-packages/nnunetv2/utilities/plans_handling/plans_handler.py:37: UserWarning: Detected old nnU-Net plans format. Attempting to reconstruct network architecture parameters. If this fails, rerun nnUNetv2_plan_experiment for your dataset. If you use a custom architecture, please downgrade nnU-Net to the version you implemented this or update your implementation + plans.\n",
      "  warnings.warn(\"Detected old nnU-Net plans format. Attempting to reconstruct network architecture \"\n",
      "100%|██████████| 1/1 [00:00<00:00, 82.99it/s]\n"
     ]
    },
    {
     "name": "stdout",
     "output_type": "stream",
     "text": [
      "  Predicted in 7.26s\n",
      "Resampling...\n",
      "  cropping from (256, 256, 94) to (256, 207, 93)\n",
      "Resampling...\n",
      "  Resampled in 1.70s\n",
      "Predicting part 1 of 1 ...\n"
     ]
    },
    {
     "name": "stderr",
     "output_type": "stream",
     "text": [
      "100%|██████████| 8/8 [00:00<00:00, 32.11it/s]\n"
     ]
    },
    {
     "name": "stdout",
     "output_type": "stream",
     "text": [
      "  Predicted in 9.47s\n",
      "Resampling...\n",
      "Saving segmentations...\n"
     ]
    },
    {
     "data": {
      "application/vnd.jupyter.widget-view+json": {
       "model_id": "0cd993642cc246e3a92d2288b736ab27",
       "version_major": 2,
       "version_minor": 0
      },
      "text/plain": [
       "  0%|          | 0/5 [00:00<?, ?it/s]"
      ]
     },
     "metadata": {},
     "output_type": "display_data"
    },
    {
     "name": "stdout",
     "output_type": "stream",
     "text": [
      "  Saved in 0.56s\n",
      "\n",
      "If you use this tool please cite: https://pubs.rsna.org/doi/10.1148/ryai.230024\n",
      "\n",
      "Generating rough body segmentation...\n",
      "Resampling...\n",
      "  Resampled in 0.23s\n",
      "Predicting...\n"
     ]
    },
    {
     "name": "stderr",
     "output_type": "stream",
     "text": [
      "/ocean/projects/asc170022p/mtragoza/mambaforge/envs/lung-project/lib/python3.10/site-packages/nnunetv2/utilities/plans_handling/plans_handler.py:37: UserWarning: Detected old nnU-Net plans format. Attempting to reconstruct network architecture parameters. If this fails, rerun nnUNetv2_plan_experiment for your dataset. If you use a custom architecture, please downgrade nnU-Net to the version you implemented this or update your implementation + plans.\n",
      "  warnings.warn(\"Detected old nnU-Net plans format. Attempting to reconstruct network architecture \"\n",
      "100%|██████████| 1/1 [00:00<00:00, 95.47it/s]\n"
     ]
    },
    {
     "name": "stdout",
     "output_type": "stream",
     "text": [
      "  Predicted in 7.21s\n",
      "Resampling...\n",
      "  cropping from (256, 256, 94) to (256, 207, 93)\n",
      "Predicting...\n"
     ]
    },
    {
     "name": "stderr",
     "output_type": "stream",
     "text": [
      "100%|██████████| 80/80 [00:04<00:00, 17.61it/s]\n"
     ]
    },
    {
     "name": "stdout",
     "output_type": "stream",
     "text": [
      "  Predicted in 27.12s\n",
      "Saving segmentations...\n"
     ]
    },
    {
     "data": {
      "application/vnd.jupyter.widget-view+json": {
       "model_id": "93f57cdb09484ef3b545dac5becc1fd3",
       "version_major": 2,
       "version_minor": 0
      },
      "text/plain": [
       "  0%|          | 0/2 [00:00<?, ?it/s]"
      ]
     },
     "metadata": {},
     "output_type": "display_data"
    },
    {
     "name": "stdout",
     "output_type": "stream",
     "text": [
      "Creating lung_vessels.nii.gz\n",
      "Creating lung_trachea_bronchia.nii.gz\n",
      "  Saved in 0.51s\n",
      "\n",
      "If you use this tool please cite: https://pubs.rsna.org/doi/10.1148/ryai.230024\n",
      "\n",
      "Resampling...\n",
      "  Resampled in 2.16s\n",
      "Predicting...\n"
     ]
    },
    {
     "name": "stderr",
     "output_type": "stream",
     "text": [
      "/ocean/projects/asc170022p/mtragoza/mambaforge/envs/lung-project/lib/python3.10/site-packages/nnunetv2/utilities/plans_handling/plans_handler.py:37: UserWarning: Detected old nnU-Net plans format. Attempting to reconstruct network architecture parameters. If this fails, rerun nnUNetv2_plan_experiment for your dataset. If you use a custom architecture, please downgrade nnU-Net to the version you implemented this or update your implementation + plans.\n",
      "  warnings.warn(\"Detected old nnU-Net plans format. Attempting to reconstruct network architecture \"\n",
      "100%|██████████| 8/8 [00:00<00:00, 33.73it/s]\n"
     ]
    },
    {
     "name": "stdout",
     "output_type": "stream",
     "text": [
      "  Predicted in 9.14s\n"
     ]
    },
    {
     "name": "stderr",
     "output_type": "stream",
     "text": [
      "100%|██████████| 1/1 [00:00<00:00,  8.93it/s]\n",
      "100%|██████████| 1/1 [00:00<00:00, 12.25it/s]\n"
     ]
    },
    {
     "name": "stdout",
     "output_type": "stream",
     "text": [
      "Resampling...\n",
      "Saving segmentations...\n"
     ]
    },
    {
     "data": {
      "application/vnd.jupyter.widget-view+json": {
       "model_id": "c7b2c253142a4a8d8357a08ba41ec52d",
       "version_major": 2,
       "version_minor": 0
      },
      "text/plain": [
       "  0%|          | 0/2 [00:00<?, ?it/s]"
      ]
     },
     "metadata": {},
     "output_type": "display_data"
    },
    {
     "name": "stdout",
     "output_type": "stream",
     "text": [
      "Creating body_trunc.nii.gz\n",
      "Creating body_extremities.nii.gz\n",
      "  Saved in 1.99s\n",
      "Creating body.nii.gz\n",
      "Creating skin.nii.gz\n",
      "Segmenting Case5Pack phase 30\n",
      "\n",
      "If you use this tool please cite: https://pubs.rsna.org/doi/10.1148/ryai.230024\n",
      "\n",
      "Generating rough body segmentation...\n",
      "Resampling...\n",
      "  Resampled in 0.23s\n",
      "Predicting...\n"
     ]
    },
    {
     "name": "stderr",
     "output_type": "stream",
     "text": [
      "/ocean/projects/asc170022p/mtragoza/mambaforge/envs/lung-project/lib/python3.10/site-packages/nnunetv2/utilities/plans_handling/plans_handler.py:37: UserWarning: Detected old nnU-Net plans format. Attempting to reconstruct network architecture parameters. If this fails, rerun nnUNetv2_plan_experiment for your dataset. If you use a custom architecture, please downgrade nnU-Net to the version you implemented this or update your implementation + plans.\n",
      "  warnings.warn(\"Detected old nnU-Net plans format. Attempting to reconstruct network architecture \"\n",
      "100%|██████████| 1/1 [00:00<00:00, 78.57it/s]\n"
     ]
    },
    {
     "name": "stdout",
     "output_type": "stream",
     "text": [
      "  Predicted in 7.21s\n",
      "Resampling...\n",
      "  cropping from (256, 256, 94) to (256, 207, 91)\n",
      "Resampling...\n",
      "  Resampled in 1.65s\n",
      "Predicting part 1 of 1 ...\n"
     ]
    },
    {
     "name": "stderr",
     "output_type": "stream",
     "text": [
      "100%|██████████| 8/8 [00:00<00:00, 31.89it/s]\n"
     ]
    },
    {
     "name": "stdout",
     "output_type": "stream",
     "text": [
      "  Predicted in 9.36s\n",
      "Resampling...\n",
      "Saving segmentations...\n"
     ]
    },
    {
     "data": {
      "application/vnd.jupyter.widget-view+json": {
       "model_id": "1150de0e14604c9e8a126098e5703f89",
       "version_major": 2,
       "version_minor": 0
      },
      "text/plain": [
       "  0%|          | 0/5 [00:00<?, ?it/s]"
      ]
     },
     "metadata": {},
     "output_type": "display_data"
    },
    {
     "name": "stdout",
     "output_type": "stream",
     "text": [
      "  Saved in 0.64s\n",
      "\n",
      "If you use this tool please cite: https://pubs.rsna.org/doi/10.1148/ryai.230024\n",
      "\n",
      "Generating rough body segmentation...\n",
      "Resampling...\n",
      "  Resampled in 0.23s\n",
      "Predicting...\n"
     ]
    },
    {
     "name": "stderr",
     "output_type": "stream",
     "text": [
      "/ocean/projects/asc170022p/mtragoza/mambaforge/envs/lung-project/lib/python3.10/site-packages/nnunetv2/utilities/plans_handling/plans_handler.py:37: UserWarning: Detected old nnU-Net plans format. Attempting to reconstruct network architecture parameters. If this fails, rerun nnUNetv2_plan_experiment for your dataset. If you use a custom architecture, please downgrade nnU-Net to the version you implemented this or update your implementation + plans.\n",
      "  warnings.warn(\"Detected old nnU-Net plans format. Attempting to reconstruct network architecture \"\n",
      "100%|██████████| 1/1 [00:00<00:00, 48.30it/s]\n"
     ]
    },
    {
     "name": "stdout",
     "output_type": "stream",
     "text": [
      "  Predicted in 7.28s\n",
      "Resampling...\n",
      "  cropping from (256, 256, 94) to (256, 207, 91)\n",
      "Predicting...\n"
     ]
    },
    {
     "name": "stderr",
     "output_type": "stream",
     "text": [
      "100%|██████████| 80/80 [00:04<00:00, 17.61it/s]\n"
     ]
    },
    {
     "name": "stdout",
     "output_type": "stream",
     "text": [
      "  Predicted in 25.97s\n",
      "Saving segmentations...\n",
      "Creating lung_vessels.nii.gz\n",
      "\n",
      "Creating lung_trachea_bronchia.nii.gz"
     ]
    },
    {
     "data": {
      "application/vnd.jupyter.widget-view+json": {
       "model_id": "defeaedd5a9b43949428cfa9809b8e43",
       "version_major": 2,
       "version_minor": 0
      },
      "text/plain": [
       "  0%|          | 0/2 [00:00<?, ?it/s]"
      ]
     },
     "metadata": {},
     "output_type": "display_data"
    },
    {
     "name": "stdout",
     "output_type": "stream",
     "text": [
      "  Saved in 0.48s\n",
      "\n",
      "If you use this tool please cite: https://pubs.rsna.org/doi/10.1148/ryai.230024\n",
      "\n",
      "Resampling...\n",
      "  Resampled in 2.16s\n",
      "Predicting...\n"
     ]
    },
    {
     "name": "stderr",
     "output_type": "stream",
     "text": [
      "/ocean/projects/asc170022p/mtragoza/mambaforge/envs/lung-project/lib/python3.10/site-packages/nnunetv2/utilities/plans_handling/plans_handler.py:37: UserWarning: Detected old nnU-Net plans format. Attempting to reconstruct network architecture parameters. If this fails, rerun nnUNetv2_plan_experiment for your dataset. If you use a custom architecture, please downgrade nnU-Net to the version you implemented this or update your implementation + plans.\n",
      "  warnings.warn(\"Detected old nnU-Net plans format. Attempting to reconstruct network architecture \"\n",
      "100%|██████████| 8/8 [00:00<00:00, 33.28it/s]\n"
     ]
    },
    {
     "name": "stdout",
     "output_type": "stream",
     "text": [
      "  Predicted in 9.04s\n"
     ]
    },
    {
     "name": "stderr",
     "output_type": "stream",
     "text": [
      "100%|██████████| 1/1 [00:00<00:00,  9.03it/s]\n",
      "100%|██████████| 1/1 [00:00<00:00, 12.19it/s]\n"
     ]
    },
    {
     "name": "stdout",
     "output_type": "stream",
     "text": [
      "Resampling...\n",
      "Saving segmentations...\n",
      "Creating body_trunc.nii.gz\n",
      "Creating body_extremities.nii.gz\n"
     ]
    },
    {
     "data": {
      "application/vnd.jupyter.widget-view+json": {
       "model_id": "06b2966f16a54a289aa7631c16710e1f",
       "version_major": 2,
       "version_minor": 0
      },
      "text/plain": [
       "  0%|          | 0/2 [00:00<?, ?it/s]"
      ]
     },
     "metadata": {},
     "output_type": "display_data"
    },
    {
     "name": "stdout",
     "output_type": "stream",
     "text": [
      "  Saved in 0.35s\n",
      "Creating body.nii.gz\n",
      "Creating skin.nii.gz\n",
      "Segmenting Case5Pack phase 40\n",
      "\n",
      "If you use this tool please cite: https://pubs.rsna.org/doi/10.1148/ryai.230024\n",
      "\n",
      "Generating rough body segmentation...\n",
      "Resampling...\n",
      "  Resampled in 0.23s\n",
      "Predicting...\n"
     ]
    },
    {
     "name": "stderr",
     "output_type": "stream",
     "text": [
      "/ocean/projects/asc170022p/mtragoza/mambaforge/envs/lung-project/lib/python3.10/site-packages/nnunetv2/utilities/plans_handling/plans_handler.py:37: UserWarning: Detected old nnU-Net plans format. Attempting to reconstruct network architecture parameters. If this fails, rerun nnUNetv2_plan_experiment for your dataset. If you use a custom architecture, please downgrade nnU-Net to the version you implemented this or update your implementation + plans.\n",
      "  warnings.warn(\"Detected old nnU-Net plans format. Attempting to reconstruct network architecture \"\n",
      "100%|██████████| 1/1 [00:00<00:00, 105.37it/s]\n"
     ]
    },
    {
     "name": "stdout",
     "output_type": "stream",
     "text": [
      "  Predicted in 7.34s\n",
      "Resampling...\n",
      "  cropping from (256, 256, 94) to (256, 207, 91)\n",
      "Resampling...\n",
      "  Resampled in 1.66s\n",
      "Predicting part 1 of 1 ...\n"
     ]
    },
    {
     "name": "stderr",
     "output_type": "stream",
     "text": [
      "100%|██████████| 8/8 [00:00<00:00, 32.89it/s]\n"
     ]
    },
    {
     "name": "stdout",
     "output_type": "stream",
     "text": [
      "  Predicted in 9.18s\n",
      "Resampling...\n",
      "Saving segmentations...\n"
     ]
    },
    {
     "data": {
      "application/vnd.jupyter.widget-view+json": {
       "model_id": "e26fbcd05b7c47448c3b4946c1f32cf5",
       "version_major": 2,
       "version_minor": 0
      },
      "text/plain": [
       "  0%|          | 0/5 [00:00<?, ?it/s]"
      ]
     },
     "metadata": {},
     "output_type": "display_data"
    },
    {
     "name": "stdout",
     "output_type": "stream",
     "text": [
      "  Saved in 0.62s\n",
      "\n",
      "If you use this tool please cite: https://pubs.rsna.org/doi/10.1148/ryai.230024\n",
      "\n",
      "Generating rough body segmentation...\n",
      "Resampling...\n",
      "  Resampled in 0.23s\n",
      "Predicting...\n"
     ]
    },
    {
     "name": "stderr",
     "output_type": "stream",
     "text": [
      "/ocean/projects/asc170022p/mtragoza/mambaforge/envs/lung-project/lib/python3.10/site-packages/nnunetv2/utilities/plans_handling/plans_handler.py:37: UserWarning: Detected old nnU-Net plans format. Attempting to reconstruct network architecture parameters. If this fails, rerun nnUNetv2_plan_experiment for your dataset. If you use a custom architecture, please downgrade nnU-Net to the version you implemented this or update your implementation + plans.\n",
      "  warnings.warn(\"Detected old nnU-Net plans format. Attempting to reconstruct network architecture \"\n",
      "100%|██████████| 1/1 [00:00<00:00, 84.02it/s]\n"
     ]
    },
    {
     "name": "stdout",
     "output_type": "stream",
     "text": [
      "  Predicted in 7.16s\n",
      "Resampling...\n",
      "  cropping from (256, 256, 94) to (256, 207, 91)\n",
      "Predicting...\n"
     ]
    },
    {
     "name": "stderr",
     "output_type": "stream",
     "text": [
      "100%|██████████| 80/80 [00:04<00:00, 17.62it/s]\n"
     ]
    },
    {
     "name": "stdout",
     "output_type": "stream",
     "text": [
      "  Predicted in 25.91s\n",
      "Saving segmentations...\n",
      "Creating lung_vessels.nii.gz\n",
      "Creating lung_trachea_bronchia.nii.gz"
     ]
    },
    {
     "data": {
      "application/vnd.jupyter.widget-view+json": {
       "model_id": "f008a0525b0b4ebc8d6566e6fc1fe5b1",
       "version_major": 2,
       "version_minor": 0
      },
      "text/plain": [
       "  0%|          | 0/2 [00:00<?, ?it/s]"
      ]
     },
     "metadata": {},
     "output_type": "display_data"
    },
    {
     "name": "stdout",
     "output_type": "stream",
     "text": [
      "\n",
      "  Saved in 0.46s\n",
      "\n",
      "If you use this tool please cite: https://pubs.rsna.org/doi/10.1148/ryai.230024\n",
      "\n",
      "Resampling...\n",
      "  Resampled in 2.17s\n",
      "Predicting...\n"
     ]
    },
    {
     "name": "stderr",
     "output_type": "stream",
     "text": [
      "/ocean/projects/asc170022p/mtragoza/mambaforge/envs/lung-project/lib/python3.10/site-packages/nnunetv2/utilities/plans_handling/plans_handler.py:37: UserWarning: Detected old nnU-Net plans format. Attempting to reconstruct network architecture parameters. If this fails, rerun nnUNetv2_plan_experiment for your dataset. If you use a custom architecture, please downgrade nnU-Net to the version you implemented this or update your implementation + plans.\n",
      "  warnings.warn(\"Detected old nnU-Net plans format. Attempting to reconstruct network architecture \"\n",
      "100%|██████████| 8/8 [00:00<00:00, 34.31it/s]\n"
     ]
    },
    {
     "name": "stdout",
     "output_type": "stream",
     "text": [
      "  Predicted in 8.79s\n"
     ]
    },
    {
     "name": "stderr",
     "output_type": "stream",
     "text": [
      "100%|██████████| 1/1 [00:00<00:00,  9.10it/s]\n",
      "100%|██████████| 1/1 [00:00<00:00, 12.45it/s]\n"
     ]
    },
    {
     "name": "stdout",
     "output_type": "stream",
     "text": [
      "Resampling...\n",
      "Saving segmentations...\n",
      "Creating body_trunc.nii.gz\n",
      "Creating body_extremities.nii.gz"
     ]
    },
    {
     "data": {
      "application/vnd.jupyter.widget-view+json": {
       "model_id": "2e0a58cff6b04529b5c6d9067cb13bd1",
       "version_major": 2,
       "version_minor": 0
      },
      "text/plain": [
       "  0%|          | 0/2 [00:00<?, ?it/s]"
      ]
     },
     "metadata": {},
     "output_type": "display_data"
    },
    {
     "name": "stdout",
     "output_type": "stream",
     "text": [
      "\n",
      "  Saved in 0.35s\n",
      "Creating body.nii.gz\n",
      "Creating skin.nii.gz\n",
      "Segmenting Case5Pack phase 50\n",
      "\n",
      "If you use this tool please cite: https://pubs.rsna.org/doi/10.1148/ryai.230024\n",
      "\n",
      "Generating rough body segmentation...\n",
      "Resampling...\n",
      "  Resampled in 0.23s\n",
      "Predicting...\n"
     ]
    },
    {
     "name": "stderr",
     "output_type": "stream",
     "text": [
      "/ocean/projects/asc170022p/mtragoza/mambaforge/envs/lung-project/lib/python3.10/site-packages/nnunetv2/utilities/plans_handling/plans_handler.py:37: UserWarning: Detected old nnU-Net plans format. Attempting to reconstruct network architecture parameters. If this fails, rerun nnUNetv2_plan_experiment for your dataset. If you use a custom architecture, please downgrade nnU-Net to the version you implemented this or update your implementation + plans.\n",
      "  warnings.warn(\"Detected old nnU-Net plans format. Attempting to reconstruct network architecture \"\n",
      "100%|██████████| 1/1 [00:00<00:00, 108.37it/s]\n"
     ]
    },
    {
     "name": "stdout",
     "output_type": "stream",
     "text": [
      "  Predicted in 7.24s\n",
      "Resampling...\n",
      "  cropping from (256, 256, 94) to (256, 207, 91)\n",
      "Resampling...\n",
      "  Resampled in 1.66s\n",
      "Predicting part 1 of 1 ...\n"
     ]
    },
    {
     "name": "stderr",
     "output_type": "stream",
     "text": [
      "100%|██████████| 8/8 [00:00<00:00, 32.37it/s]\n"
     ]
    },
    {
     "name": "stdout",
     "output_type": "stream",
     "text": [
      "  Predicted in 9.45s\n",
      "Resampling...\n",
      "Saving segmentations...\n"
     ]
    },
    {
     "data": {
      "application/vnd.jupyter.widget-view+json": {
       "model_id": "2cae044fbdf8490c865975a90a8adcee",
       "version_major": 2,
       "version_minor": 0
      },
      "text/plain": [
       "  0%|          | 0/5 [00:00<?, ?it/s]"
      ]
     },
     "metadata": {},
     "output_type": "display_data"
    },
    {
     "name": "stdout",
     "output_type": "stream",
     "text": [
      "  Saved in 0.57s\n",
      "\n",
      "If you use this tool please cite: https://pubs.rsna.org/doi/10.1148/ryai.230024\n",
      "\n",
      "Generating rough body segmentation...\n",
      "Resampling...\n",
      "  Resampled in 0.23s\n",
      "Predicting...\n"
     ]
    },
    {
     "name": "stderr",
     "output_type": "stream",
     "text": [
      "/ocean/projects/asc170022p/mtragoza/mambaforge/envs/lung-project/lib/python3.10/site-packages/nnunetv2/utilities/plans_handling/plans_handler.py:37: UserWarning: Detected old nnU-Net plans format. Attempting to reconstruct network architecture parameters. If this fails, rerun nnUNetv2_plan_experiment for your dataset. If you use a custom architecture, please downgrade nnU-Net to the version you implemented this or update your implementation + plans.\n",
      "  warnings.warn(\"Detected old nnU-Net plans format. Attempting to reconstruct network architecture \"\n",
      "100%|██████████| 1/1 [00:00<00:00, 53.11it/s]\n"
     ]
    },
    {
     "name": "stdout",
     "output_type": "stream",
     "text": [
      "  Predicted in 7.50s\n",
      "Resampling...\n",
      "  cropping from (256, 256, 94) to (256, 207, 91)\n",
      "Predicting...\n"
     ]
    },
    {
     "name": "stderr",
     "output_type": "stream",
     "text": [
      "100%|██████████| 80/80 [00:04<00:00, 17.60it/s]\n"
     ]
    },
    {
     "name": "stdout",
     "output_type": "stream",
     "text": [
      "  Predicted in 25.86s\n",
      "Saving segmentations...\n",
      "Creating lung_vessels.nii.gz\n",
      "Creating lung_trachea_bronchia.nii.gz\n"
     ]
    },
    {
     "data": {
      "application/vnd.jupyter.widget-view+json": {
       "model_id": "ddad64b4527247c0bc025ed68e4c1ea2",
       "version_major": 2,
       "version_minor": 0
      },
      "text/plain": [
       "  0%|          | 0/2 [00:00<?, ?it/s]"
      ]
     },
     "metadata": {},
     "output_type": "display_data"
    },
    {
     "name": "stdout",
     "output_type": "stream",
     "text": [
      "  Saved in 0.51s\n",
      "\n",
      "If you use this tool please cite: https://pubs.rsna.org/doi/10.1148/ryai.230024\n",
      "\n",
      "Resampling...\n",
      "  Resampled in 2.16s\n",
      "Predicting...\n"
     ]
    },
    {
     "name": "stderr",
     "output_type": "stream",
     "text": [
      "/ocean/projects/asc170022p/mtragoza/mambaforge/envs/lung-project/lib/python3.10/site-packages/nnunetv2/utilities/plans_handling/plans_handler.py:37: UserWarning: Detected old nnU-Net plans format. Attempting to reconstruct network architecture parameters. If this fails, rerun nnUNetv2_plan_experiment for your dataset. If you use a custom architecture, please downgrade nnU-Net to the version you implemented this or update your implementation + plans.\n",
      "  warnings.warn(\"Detected old nnU-Net plans format. Attempting to reconstruct network architecture \"\n",
      "100%|██████████| 8/8 [00:00<00:00, 33.65it/s]\n"
     ]
    },
    {
     "name": "stdout",
     "output_type": "stream",
     "text": [
      "  Predicted in 9.06s\n"
     ]
    },
    {
     "name": "stderr",
     "output_type": "stream",
     "text": [
      "100%|██████████| 1/1 [00:00<00:00,  9.04it/s]\n",
      "100%|██████████| 1/1 [00:00<00:00, 12.22it/s]\n"
     ]
    },
    {
     "name": "stdout",
     "output_type": "stream",
     "text": [
      "Resampling...\n",
      "Saving segmentations...\n",
      "Creating body_trunc.nii.gz\n",
      "Creating body_extremities.nii.gz"
     ]
    },
    {
     "data": {
      "application/vnd.jupyter.widget-view+json": {
       "model_id": "bb1b3b79687d4d78a00ac5a63cfededb",
       "version_major": 2,
       "version_minor": 0
      },
      "text/plain": [
       "  0%|          | 0/2 [00:00<?, ?it/s]"
      ]
     },
     "metadata": {},
     "output_type": "display_data"
    },
    {
     "name": "stdout",
     "output_type": "stream",
     "text": [
      "\n",
      "  Saved in 0.37s\n",
      "Creating body.nii.gz\n",
      "Creating skin.nii.gz\n",
      "Segmenting Case5Pack phase 60\n",
      "\n",
      "If you use this tool please cite: https://pubs.rsna.org/doi/10.1148/ryai.230024\n",
      "\n",
      "Generating rough body segmentation...\n",
      "Resampling...\n",
      "  Resampled in 0.24s\n",
      "Predicting...\n"
     ]
    },
    {
     "name": "stderr",
     "output_type": "stream",
     "text": [
      "/ocean/projects/asc170022p/mtragoza/mambaforge/envs/lung-project/lib/python3.10/site-packages/nnunetv2/utilities/plans_handling/plans_handler.py:37: UserWarning: Detected old nnU-Net plans format. Attempting to reconstruct network architecture parameters. If this fails, rerun nnUNetv2_plan_experiment for your dataset. If you use a custom architecture, please downgrade nnU-Net to the version you implemented this or update your implementation + plans.\n",
      "  warnings.warn(\"Detected old nnU-Net plans format. Attempting to reconstruct network architecture \"\n",
      "100%|██████████| 1/1 [00:00<00:00, 97.71it/s]\n"
     ]
    },
    {
     "name": "stdout",
     "output_type": "stream",
     "text": [
      "  Predicted in 7.25s\n",
      "Resampling...\n",
      "  cropping from (256, 256, 94) to (256, 202, 91)\n",
      "Resampling...\n",
      "  Resampled in 1.62s\n",
      "Predicting part 1 of 1 ...\n"
     ]
    },
    {
     "name": "stderr",
     "output_type": "stream",
     "text": [
      "100%|██████████| 8/8 [00:00<00:00, 32.21it/s]\n"
     ]
    },
    {
     "name": "stdout",
     "output_type": "stream",
     "text": [
      "  Predicted in 9.23s\n",
      "Resampling...\n",
      "Saving segmentations...\n"
     ]
    },
    {
     "data": {
      "application/vnd.jupyter.widget-view+json": {
       "model_id": "1dec90a43d16415e9ff4bca10b88a9a4",
       "version_major": 2,
       "version_minor": 0
      },
      "text/plain": [
       "  0%|          | 0/5 [00:00<?, ?it/s]"
      ]
     },
     "metadata": {},
     "output_type": "display_data"
    },
    {
     "name": "stdout",
     "output_type": "stream",
     "text": [
      "  Saved in 0.55s\n",
      "\n",
      "If you use this tool please cite: https://pubs.rsna.org/doi/10.1148/ryai.230024\n",
      "\n",
      "Generating rough body segmentation...\n",
      "Resampling...\n",
      "  Resampled in 0.23s\n",
      "Predicting...\n"
     ]
    },
    {
     "name": "stderr",
     "output_type": "stream",
     "text": [
      "/ocean/projects/asc170022p/mtragoza/mambaforge/envs/lung-project/lib/python3.10/site-packages/nnunetv2/utilities/plans_handling/plans_handler.py:37: UserWarning: Detected old nnU-Net plans format. Attempting to reconstruct network architecture parameters. If this fails, rerun nnUNetv2_plan_experiment for your dataset. If you use a custom architecture, please downgrade nnU-Net to the version you implemented this or update your implementation + plans.\n",
      "  warnings.warn(\"Detected old nnU-Net plans format. Attempting to reconstruct network architecture \"\n",
      "100%|██████████| 1/1 [00:00<00:00, 107.70it/s]\n"
     ]
    },
    {
     "name": "stdout",
     "output_type": "stream",
     "text": [
      "  Predicted in 7.28s\n",
      "Resampling...\n",
      "  cropping from (256, 256, 94) to (256, 202, 91)\n",
      "Predicting...\n"
     ]
    },
    {
     "name": "stderr",
     "output_type": "stream",
     "text": [
      "100%|██████████| 80/80 [00:04<00:00, 17.62it/s]\n"
     ]
    },
    {
     "name": "stdout",
     "output_type": "stream",
     "text": [
      "  Predicted in 25.53s\n",
      "Saving segmentations...\n",
      "Creating lung_vessels.nii.gz\n",
      "Creating lung_trachea_bronchia.nii.gz"
     ]
    },
    {
     "data": {
      "application/vnd.jupyter.widget-view+json": {
       "model_id": "2bbde407ce414640bd81edcf34fa0896",
       "version_major": 2,
       "version_minor": 0
      },
      "text/plain": [
       "  0%|          | 0/2 [00:00<?, ?it/s]"
      ]
     },
     "metadata": {},
     "output_type": "display_data"
    },
    {
     "name": "stdout",
     "output_type": "stream",
     "text": [
      "\n",
      "  Saved in 0.46s\n",
      "\n",
      "If you use this tool please cite: https://pubs.rsna.org/doi/10.1148/ryai.230024\n",
      "\n",
      "Resampling...\n",
      "  Resampled in 2.16s\n",
      "Predicting...\n"
     ]
    },
    {
     "name": "stderr",
     "output_type": "stream",
     "text": [
      "/ocean/projects/asc170022p/mtragoza/mambaforge/envs/lung-project/lib/python3.10/site-packages/nnunetv2/utilities/plans_handling/plans_handler.py:37: UserWarning: Detected old nnU-Net plans format. Attempting to reconstruct network architecture parameters. If this fails, rerun nnUNetv2_plan_experiment for your dataset. If you use a custom architecture, please downgrade nnU-Net to the version you implemented this or update your implementation + plans.\n",
      "  warnings.warn(\"Detected old nnU-Net plans format. Attempting to reconstruct network architecture \"\n",
      "100%|██████████| 8/8 [00:00<00:00, 33.20it/s]\n"
     ]
    },
    {
     "name": "stdout",
     "output_type": "stream",
     "text": [
      "  Predicted in 8.69s\n"
     ]
    },
    {
     "name": "stderr",
     "output_type": "stream",
     "text": [
      "100%|██████████| 1/1 [00:00<00:00,  9.03it/s]\n",
      "100%|██████████| 1/1 [00:00<00:00, 12.46it/s]\n"
     ]
    },
    {
     "name": "stdout",
     "output_type": "stream",
     "text": [
      "Resampling...\n",
      "Saving segmentations...\n",
      "Creating body_trunc.nii.gz\n",
      "Creating body_extremities.nii.gz\n"
     ]
    },
    {
     "data": {
      "application/vnd.jupyter.widget-view+json": {
       "model_id": "7baa61f5e87544e8844f4c5a6ff648c7",
       "version_major": 2,
       "version_minor": 0
      },
      "text/plain": [
       "  0%|          | 0/2 [00:00<?, ?it/s]"
      ]
     },
     "metadata": {},
     "output_type": "display_data"
    },
    {
     "name": "stdout",
     "output_type": "stream",
     "text": [
      "  Saved in 0.36s\n",
      "Creating body.nii.gz\n",
      "Creating skin.nii.gz\n",
      "Segmenting Case5Pack phase 70\n",
      "\n",
      "If you use this tool please cite: https://pubs.rsna.org/doi/10.1148/ryai.230024\n",
      "\n",
      "Generating rough body segmentation...\n",
      "Resampling...\n",
      "  Resampled in 0.23s\n",
      "Predicting...\n"
     ]
    },
    {
     "name": "stderr",
     "output_type": "stream",
     "text": [
      "/ocean/projects/asc170022p/mtragoza/mambaforge/envs/lung-project/lib/python3.10/site-packages/nnunetv2/utilities/plans_handling/plans_handler.py:37: UserWarning: Detected old nnU-Net plans format. Attempting to reconstruct network architecture parameters. If this fails, rerun nnUNetv2_plan_experiment for your dataset. If you use a custom architecture, please downgrade nnU-Net to the version you implemented this or update your implementation + plans.\n",
      "  warnings.warn(\"Detected old nnU-Net plans format. Attempting to reconstruct network architecture \"\n",
      "100%|██████████| 1/1 [00:00<00:00, 93.91it/s]\n"
     ]
    },
    {
     "name": "stdout",
     "output_type": "stream",
     "text": [
      "  Predicted in 7.21s\n",
      "Resampling...\n",
      "  cropping from (256, 256, 94) to (256, 207, 93)\n",
      "Resampling...\n",
      "  Resampled in 1.69s\n",
      "Predicting part 1 of 1 ...\n"
     ]
    },
    {
     "name": "stderr",
     "output_type": "stream",
     "text": [
      "100%|██████████| 8/8 [00:00<00:00, 32.02it/s]\n"
     ]
    },
    {
     "name": "stdout",
     "output_type": "stream",
     "text": [
      "  Predicted in 9.30s\n",
      "Resampling...\n",
      "Saving segmentations...\n"
     ]
    },
    {
     "data": {
      "application/vnd.jupyter.widget-view+json": {
       "model_id": "2620204d00854607a5fc240a9115d0f2",
       "version_major": 2,
       "version_minor": 0
      },
      "text/plain": [
       "  0%|          | 0/5 [00:00<?, ?it/s]"
      ]
     },
     "metadata": {},
     "output_type": "display_data"
    },
    {
     "name": "stdout",
     "output_type": "stream",
     "text": [
      "  Saved in 0.57s\n",
      "\n",
      "If you use this tool please cite: https://pubs.rsna.org/doi/10.1148/ryai.230024\n",
      "\n",
      "Generating rough body segmentation...\n",
      "Resampling...\n",
      "  Resampled in 0.23s\n",
      "Predicting...\n"
     ]
    },
    {
     "name": "stderr",
     "output_type": "stream",
     "text": [
      "/ocean/projects/asc170022p/mtragoza/mambaforge/envs/lung-project/lib/python3.10/site-packages/nnunetv2/utilities/plans_handling/plans_handler.py:37: UserWarning: Detected old nnU-Net plans format. Attempting to reconstruct network architecture parameters. If this fails, rerun nnUNetv2_plan_experiment for your dataset. If you use a custom architecture, please downgrade nnU-Net to the version you implemented this or update your implementation + plans.\n",
      "  warnings.warn(\"Detected old nnU-Net plans format. Attempting to reconstruct network architecture \"\n",
      "100%|██████████| 1/1 [00:00<00:00, 105.55it/s]\n"
     ]
    },
    {
     "name": "stdout",
     "output_type": "stream",
     "text": [
      "  Predicted in 7.28s\n",
      "Resampling...\n",
      "  cropping from (256, 256, 94) to (256, 207, 93)\n",
      "Predicting...\n"
     ]
    },
    {
     "name": "stderr",
     "output_type": "stream",
     "text": [
      "100%|██████████| 80/80 [00:04<00:00, 17.64it/s]\n"
     ]
    },
    {
     "name": "stdout",
     "output_type": "stream",
     "text": [
      "  Predicted in 26.17s\n",
      "Saving segmentations...\n",
      "Creating lung_vessels.nii.gz\n",
      "Creating lung_trachea_bronchia.nii.gz\n"
     ]
    },
    {
     "data": {
      "application/vnd.jupyter.widget-view+json": {
       "model_id": "be1aa401cd604a8590c75c16c568bdef",
       "version_major": 2,
       "version_minor": 0
      },
      "text/plain": [
       "  0%|          | 0/2 [00:00<?, ?it/s]"
      ]
     },
     "metadata": {},
     "output_type": "display_data"
    },
    {
     "name": "stdout",
     "output_type": "stream",
     "text": [
      "  Saved in 0.44s\n",
      "\n",
      "If you use this tool please cite: https://pubs.rsna.org/doi/10.1148/ryai.230024\n",
      "\n",
      "Resampling...\n",
      "  Resampled in 2.17s\n",
      "Predicting...\n"
     ]
    },
    {
     "name": "stderr",
     "output_type": "stream",
     "text": [
      "/ocean/projects/asc170022p/mtragoza/mambaforge/envs/lung-project/lib/python3.10/site-packages/nnunetv2/utilities/plans_handling/plans_handler.py:37: UserWarning: Detected old nnU-Net plans format. Attempting to reconstruct network architecture parameters. If this fails, rerun nnUNetv2_plan_experiment for your dataset. If you use a custom architecture, please downgrade nnU-Net to the version you implemented this or update your implementation + plans.\n",
      "  warnings.warn(\"Detected old nnU-Net plans format. Attempting to reconstruct network architecture \"\n",
      "100%|██████████| 8/8 [00:00<00:00, 34.65it/s]\n"
     ]
    },
    {
     "name": "stdout",
     "output_type": "stream",
     "text": [
      "  Predicted in 8.83s\n"
     ]
    },
    {
     "name": "stderr",
     "output_type": "stream",
     "text": [
      "100%|██████████| 1/1 [00:00<00:00,  9.02it/s]\n",
      "100%|██████████| 1/1 [00:00<00:00, 11.90it/s]\n"
     ]
    },
    {
     "name": "stdout",
     "output_type": "stream",
     "text": [
      "Resampling...\n",
      "Saving segmentations...\n",
      "Creating body_trunc.nii.gz\n",
      "Creating body_extremities.nii.gz\n"
     ]
    },
    {
     "data": {
      "application/vnd.jupyter.widget-view+json": {
       "model_id": "72e7da4464054e5381d5bf17bf5c5f69",
       "version_major": 2,
       "version_minor": 0
      },
      "text/plain": [
       "  0%|          | 0/2 [00:00<?, ?it/s]"
      ]
     },
     "metadata": {},
     "output_type": "display_data"
    },
    {
     "name": "stdout",
     "output_type": "stream",
     "text": [
      "  Saved in 0.32s\n",
      "Creating body.nii.gz\n",
      "Creating skin.nii.gz\n",
      "Segmenting Case5Pack phase 80\n",
      "\n",
      "If you use this tool please cite: https://pubs.rsna.org/doi/10.1148/ryai.230024\n",
      "\n",
      "Generating rough body segmentation...\n",
      "Resampling...\n",
      "  Resampled in 0.23s\n",
      "Predicting...\n"
     ]
    },
    {
     "name": "stderr",
     "output_type": "stream",
     "text": [
      "/ocean/projects/asc170022p/mtragoza/mambaforge/envs/lung-project/lib/python3.10/site-packages/nnunetv2/utilities/plans_handling/plans_handler.py:37: UserWarning: Detected old nnU-Net plans format. Attempting to reconstruct network architecture parameters. If this fails, rerun nnUNetv2_plan_experiment for your dataset. If you use a custom architecture, please downgrade nnU-Net to the version you implemented this or update your implementation + plans.\n",
      "  warnings.warn(\"Detected old nnU-Net plans format. Attempting to reconstruct network architecture \"\n",
      "100%|██████████| 1/1 [00:00<00:00, 66.49it/s]\n"
     ]
    },
    {
     "name": "stdout",
     "output_type": "stream",
     "text": [
      "  Predicted in 7.36s\n",
      "Resampling...\n",
      "  cropping from (256, 256, 94) to (256, 202, 94)\n",
      "Resampling...\n",
      "  Resampled in 1.68s\n",
      "Predicting part 1 of 1 ...\n"
     ]
    },
    {
     "name": "stderr",
     "output_type": "stream",
     "text": [
      "100%|██████████| 8/8 [00:00<00:00, 33.19it/s]\n"
     ]
    },
    {
     "name": "stdout",
     "output_type": "stream",
     "text": [
      "  Predicted in 9.35s\n",
      "Resampling...\n",
      "Saving segmentations...\n"
     ]
    },
    {
     "data": {
      "application/vnd.jupyter.widget-view+json": {
       "model_id": "4926863ed99646a0a02486a67b626c09",
       "version_major": 2,
       "version_minor": 0
      },
      "text/plain": [
       "  0%|          | 0/5 [00:00<?, ?it/s]"
      ]
     },
     "metadata": {},
     "output_type": "display_data"
    },
    {
     "name": "stdout",
     "output_type": "stream",
     "text": [
      "  Saved in 0.60s\n",
      "\n",
      "If you use this tool please cite: https://pubs.rsna.org/doi/10.1148/ryai.230024\n",
      "\n",
      "Generating rough body segmentation...\n",
      "Resampling...\n",
      "  Resampled in 0.23s\n",
      "Predicting...\n"
     ]
    },
    {
     "name": "stderr",
     "output_type": "stream",
     "text": [
      "/ocean/projects/asc170022p/mtragoza/mambaforge/envs/lung-project/lib/python3.10/site-packages/nnunetv2/utilities/plans_handling/plans_handler.py:37: UserWarning: Detected old nnU-Net plans format. Attempting to reconstruct network architecture parameters. If this fails, rerun nnUNetv2_plan_experiment for your dataset. If you use a custom architecture, please downgrade nnU-Net to the version you implemented this or update your implementation + plans.\n",
      "  warnings.warn(\"Detected old nnU-Net plans format. Attempting to reconstruct network architecture \"\n",
      "100%|██████████| 1/1 [00:00<00:00, 108.56it/s]\n"
     ]
    },
    {
     "name": "stdout",
     "output_type": "stream",
     "text": [
      "  Predicted in 7.36s\n",
      "Resampling...\n",
      "  cropping from (256, 256, 94) to (256, 202, 94)\n",
      "Predicting...\n"
     ]
    },
    {
     "name": "stderr",
     "output_type": "stream",
     "text": [
      "100%|██████████| 80/80 [00:04<00:00, 17.61it/s]\n"
     ]
    },
    {
     "name": "stdout",
     "output_type": "stream",
     "text": [
      "  Predicted in 26.15s\n",
      "Saving segmentations...\n",
      "Creating lung_vessels.nii.gz\n",
      "Creating lung_trachea_bronchia.nii.gz"
     ]
    },
    {
     "data": {
      "application/vnd.jupyter.widget-view+json": {
       "model_id": "630162e52d03472ea9360d98099ec8f1",
       "version_major": 2,
       "version_minor": 0
      },
      "text/plain": [
       "  0%|          | 0/2 [00:00<?, ?it/s]"
      ]
     },
     "metadata": {},
     "output_type": "display_data"
    },
    {
     "name": "stdout",
     "output_type": "stream",
     "text": [
      "\n",
      "  Saved in 0.56s\n",
      "\n",
      "If you use this tool please cite: https://pubs.rsna.org/doi/10.1148/ryai.230024\n",
      "\n",
      "Resampling...\n",
      "  Resampled in 2.17s\n",
      "Predicting...\n"
     ]
    },
    {
     "name": "stderr",
     "output_type": "stream",
     "text": [
      "/ocean/projects/asc170022p/mtragoza/mambaforge/envs/lung-project/lib/python3.10/site-packages/nnunetv2/utilities/plans_handling/plans_handler.py:37: UserWarning: Detected old nnU-Net plans format. Attempting to reconstruct network architecture parameters. If this fails, rerun nnUNetv2_plan_experiment for your dataset. If you use a custom architecture, please downgrade nnU-Net to the version you implemented this or update your implementation + plans.\n",
      "  warnings.warn(\"Detected old nnU-Net plans format. Attempting to reconstruct network architecture \"\n",
      "100%|██████████| 8/8 [00:00<00:00, 34.05it/s]\n"
     ]
    },
    {
     "name": "stdout",
     "output_type": "stream",
     "text": [
      "  Predicted in 8.97s\n"
     ]
    },
    {
     "name": "stderr",
     "output_type": "stream",
     "text": [
      "100%|██████████| 1/1 [00:00<00:00,  9.16it/s]\n",
      "100%|██████████| 1/1 [00:00<00:00, 12.72it/s]\n"
     ]
    },
    {
     "name": "stdout",
     "output_type": "stream",
     "text": [
      "Resampling...\n",
      "Saving segmentations...\n",
      "Creating body_trunc.nii.gz\n",
      "Creating body_extremities.nii.gz"
     ]
    },
    {
     "data": {
      "application/vnd.jupyter.widget-view+json": {
       "model_id": "b761714284464adc9651ee96f3043120",
       "version_major": 2,
       "version_minor": 0
      },
      "text/plain": [
       "  0%|          | 0/2 [00:00<?, ?it/s]"
      ]
     },
     "metadata": {},
     "output_type": "display_data"
    },
    {
     "name": "stdout",
     "output_type": "stream",
     "text": [
      "\n",
      "  Saved in 0.38s\n",
      "Creating body.nii.gz\n",
      "Creating skin.nii.gz\n",
      "Segmenting Case5Pack phase 90\n",
      "\n",
      "If you use this tool please cite: https://pubs.rsna.org/doi/10.1148/ryai.230024\n",
      "\n",
      "Generating rough body segmentation...\n",
      "Resampling...\n",
      "  Resampled in 0.23s\n",
      "Predicting...\n"
     ]
    },
    {
     "name": "stderr",
     "output_type": "stream",
     "text": [
      "/ocean/projects/asc170022p/mtragoza/mambaforge/envs/lung-project/lib/python3.10/site-packages/nnunetv2/utilities/plans_handling/plans_handler.py:37: UserWarning: Detected old nnU-Net plans format. Attempting to reconstruct network architecture parameters. If this fails, rerun nnUNetv2_plan_experiment for your dataset. If you use a custom architecture, please downgrade nnU-Net to the version you implemented this or update your implementation + plans.\n",
      "  warnings.warn(\"Detected old nnU-Net plans format. Attempting to reconstruct network architecture \"\n",
      "100%|██████████| 1/1 [00:00<00:00, 76.85it/s]\n"
     ]
    },
    {
     "name": "stdout",
     "output_type": "stream",
     "text": [
      "  Predicted in 7.43s\n",
      "Resampling...\n",
      "  cropping from (256, 256, 94) to (256, 202, 94)\n",
      "Resampling...\n",
      "  Resampled in 1.68s\n",
      "Predicting part 1 of 1 ...\n"
     ]
    },
    {
     "name": "stderr",
     "output_type": "stream",
     "text": [
      "100%|██████████| 8/8 [00:00<00:00, 32.62it/s]\n"
     ]
    },
    {
     "name": "stdout",
     "output_type": "stream",
     "text": [
      "  Predicted in 9.18s\n",
      "Resampling...\n",
      "Saving segmentations...\n"
     ]
    },
    {
     "data": {
      "application/vnd.jupyter.widget-view+json": {
       "model_id": "326c48c179ef41849de3e04cba01db7c",
       "version_major": 2,
       "version_minor": 0
      },
      "text/plain": [
       "  0%|          | 0/5 [00:00<?, ?it/s]"
      ]
     },
     "metadata": {},
     "output_type": "display_data"
    },
    {
     "name": "stdout",
     "output_type": "stream",
     "text": [
      "  Saved in 0.59s\n",
      "\n",
      "If you use this tool please cite: https://pubs.rsna.org/doi/10.1148/ryai.230024\n",
      "\n",
      "Generating rough body segmentation...\n",
      "Resampling...\n",
      "  Resampled in 0.23s\n",
      "Predicting...\n"
     ]
    },
    {
     "name": "stderr",
     "output_type": "stream",
     "text": [
      "/ocean/projects/asc170022p/mtragoza/mambaforge/envs/lung-project/lib/python3.10/site-packages/nnunetv2/utilities/plans_handling/plans_handler.py:37: UserWarning: Detected old nnU-Net plans format. Attempting to reconstruct network architecture parameters. If this fails, rerun nnUNetv2_plan_experiment for your dataset. If you use a custom architecture, please downgrade nnU-Net to the version you implemented this or update your implementation + plans.\n",
      "  warnings.warn(\"Detected old nnU-Net plans format. Attempting to reconstruct network architecture \"\n",
      "100%|██████████| 1/1 [00:00<00:00, 109.07it/s]\n"
     ]
    },
    {
     "name": "stdout",
     "output_type": "stream",
     "text": [
      "  Predicted in 7.33s\n",
      "Resampling...\n",
      "  cropping from (256, 256, 94) to (256, 202, 94)\n",
      "Predicting...\n"
     ]
    },
    {
     "name": "stderr",
     "output_type": "stream",
     "text": [
      "100%|██████████| 80/80 [00:04<00:00, 17.59it/s]\n"
     ]
    },
    {
     "name": "stdout",
     "output_type": "stream",
     "text": [
      "  Predicted in 26.02s\n",
      "Saving segmentations...\n",
      "Creating lung_vessels.nii.gz\n",
      "Creating lung_trachea_bronchia.nii.gz\n"
     ]
    },
    {
     "data": {
      "application/vnd.jupyter.widget-view+json": {
       "model_id": "3229e40821884c03ab2313429a70ec43",
       "version_major": 2,
       "version_minor": 0
      },
      "text/plain": [
       "  0%|          | 0/2 [00:00<?, ?it/s]"
      ]
     },
     "metadata": {},
     "output_type": "display_data"
    },
    {
     "name": "stdout",
     "output_type": "stream",
     "text": [
      "  Saved in 0.79s\n",
      "\n",
      "If you use this tool please cite: https://pubs.rsna.org/doi/10.1148/ryai.230024\n",
      "\n",
      "Resampling...\n",
      "  Resampled in 2.17s\n",
      "Predicting...\n"
     ]
    },
    {
     "name": "stderr",
     "output_type": "stream",
     "text": [
      "/ocean/projects/asc170022p/mtragoza/mambaforge/envs/lung-project/lib/python3.10/site-packages/nnunetv2/utilities/plans_handling/plans_handler.py:37: UserWarning: Detected old nnU-Net plans format. Attempting to reconstruct network architecture parameters. If this fails, rerun nnUNetv2_plan_experiment for your dataset. If you use a custom architecture, please downgrade nnU-Net to the version you implemented this or update your implementation + plans.\n",
      "  warnings.warn(\"Detected old nnU-Net plans format. Attempting to reconstruct network architecture \"\n",
      "100%|██████████| 8/8 [00:00<00:00, 33.35it/s]\n"
     ]
    },
    {
     "name": "stdout",
     "output_type": "stream",
     "text": [
      "  Predicted in 8.77s\n"
     ]
    },
    {
     "name": "stderr",
     "output_type": "stream",
     "text": [
      "100%|██████████| 1/1 [00:00<00:00,  9.35it/s]\n",
      "100%|██████████| 1/1 [00:00<00:00, 12.72it/s]\n"
     ]
    },
    {
     "name": "stdout",
     "output_type": "stream",
     "text": [
      "Resampling...\n",
      "Saving segmentations...\n",
      "Creating body_trunc.nii.gz\n",
      "Creating body_extremities.nii.gz"
     ]
    },
    {
     "data": {
      "application/vnd.jupyter.widget-view+json": {
       "model_id": "ab012513f1dc4de6a5fb672a391e4b3e",
       "version_major": 2,
       "version_minor": 0
      },
      "text/plain": [
       "  0%|          | 0/2 [00:00<?, ?it/s]"
      ]
     },
     "metadata": {},
     "output_type": "display_data"
    },
    {
     "name": "stdout",
     "output_type": "stream",
     "text": [
      "\n",
      "  Saved in 0.40s\n",
      "Creating body.nii.gz\n",
      "Creating skin.nii.gz\n",
      "Segmenting Case6Pack phase 0\n",
      "\n",
      "If you use this tool please cite: https://pubs.rsna.org/doi/10.1148/ryai.230024\n",
      "\n",
      "Generating rough body segmentation...\n",
      "Resampling...\n",
      "  Resampled in 0.26s\n",
      "Predicting...\n"
     ]
    },
    {
     "name": "stderr",
     "output_type": "stream",
     "text": [
      "/ocean/projects/asc170022p/mtragoza/mambaforge/envs/lung-project/lib/python3.10/site-packages/nnunetv2/utilities/plans_handling/plans_handler.py:37: UserWarning: Detected old nnU-Net plans format. Attempting to reconstruct network architecture parameters. If this fails, rerun nnUNetv2_plan_experiment for your dataset. If you use a custom architecture, please downgrade nnU-Net to the version you implemented this or update your implementation + plans.\n",
      "  warnings.warn(\"Detected old nnU-Net plans format. Attempting to reconstruct network architecture \"\n",
      "100%|██████████| 1/1 [00:00<00:00, 86.62it/s]\n"
     ]
    },
    {
     "name": "stdout",
     "output_type": "stream",
     "text": [
      "  Predicted in 7.28s\n",
      "Resampling...\n",
      "  cropping from (256, 256, 94) to (249, 171, 82)\n",
      "Resampling...\n",
      "  Resampled in 2.08s\n",
      "Predicting part 1 of 1 ...\n"
     ]
    },
    {
     "name": "stderr",
     "output_type": "stream",
     "text": [
      "100%|██████████| 8/8 [00:00<00:00, 32.70it/s]\n"
     ]
    },
    {
     "name": "stdout",
     "output_type": "stream",
     "text": [
      "  Predicted in 9.68s\n",
      "Resampling...\n",
      "Saving segmentations...\n"
     ]
    },
    {
     "data": {
      "application/vnd.jupyter.widget-view+json": {
       "model_id": "867f9ed7df564558b04321df0a1232fe",
       "version_major": 2,
       "version_minor": 0
      },
      "text/plain": [
       "  0%|          | 0/5 [00:00<?, ?it/s]"
      ]
     },
     "metadata": {},
     "output_type": "display_data"
    },
    {
     "name": "stdout",
     "output_type": "stream",
     "text": [
      "  Saved in 0.63s\n",
      "\n",
      "If you use this tool please cite: https://pubs.rsna.org/doi/10.1148/ryai.230024\n",
      "\n",
      "Generating rough body segmentation...\n",
      "Resampling...\n",
      "  Resampled in 0.27s\n",
      "Predicting...\n"
     ]
    },
    {
     "name": "stderr",
     "output_type": "stream",
     "text": [
      "/ocean/projects/asc170022p/mtragoza/mambaforge/envs/lung-project/lib/python3.10/site-packages/nnunetv2/utilities/plans_handling/plans_handler.py:37: UserWarning: Detected old nnU-Net plans format. Attempting to reconstruct network architecture parameters. If this fails, rerun nnUNetv2_plan_experiment for your dataset. If you use a custom architecture, please downgrade nnU-Net to the version you implemented this or update your implementation + plans.\n",
      "  warnings.warn(\"Detected old nnU-Net plans format. Attempting to reconstruct network architecture \"\n",
      "100%|██████████| 1/1 [00:00<00:00, 96.05it/s]\n"
     ]
    },
    {
     "name": "stdout",
     "output_type": "stream",
     "text": [
      "  Predicted in 7.28s\n",
      "Resampling...\n",
      "  cropping from (256, 256, 94) to (249, 171, 82)\n",
      "Predicting...\n"
     ]
    },
    {
     "name": "stderr",
     "output_type": "stream",
     "text": [
      "100%|██████████| 100/100 [00:05<00:00, 17.44it/s]\n"
     ]
    },
    {
     "name": "stdout",
     "output_type": "stream",
     "text": [
      "  Predicted in 30.01s\n",
      "Saving segmentations...\n",
      "Creating lung_vessels.nii.gz\n",
      "Creating lung_trachea_bronchia.nii.gz\n"
     ]
    },
    {
     "data": {
      "application/vnd.jupyter.widget-view+json": {
       "model_id": "9c2629ea14234d5d894367760cbb0904",
       "version_major": 2,
       "version_minor": 0
      },
      "text/plain": [
       "  0%|          | 0/2 [00:00<?, ?it/s]"
      ]
     },
     "metadata": {},
     "output_type": "display_data"
    },
    {
     "name": "stdout",
     "output_type": "stream",
     "text": [
      "  Saved in 0.50s\n",
      "\n",
      "If you use this tool please cite: https://pubs.rsna.org/doi/10.1148/ryai.230024\n",
      "\n",
      "Resampling...\n",
      "  Resampled in 3.69s\n",
      "Predicting...\n"
     ]
    },
    {
     "name": "stderr",
     "output_type": "stream",
     "text": [
      "/ocean/projects/asc170022p/mtragoza/mambaforge/envs/lung-project/lib/python3.10/site-packages/nnunetv2/utilities/plans_handling/plans_handler.py:37: UserWarning: Detected old nnU-Net plans format. Attempting to reconstruct network architecture parameters. If this fails, rerun nnUNetv2_plan_experiment for your dataset. If you use a custom architecture, please downgrade nnU-Net to the version you implemented this or update your implementation + plans.\n",
      "  warnings.warn(\"Detected old nnU-Net plans format. Attempting to reconstruct network architecture \"\n",
      "100%|██████████| 27/27 [00:01<00:00, 21.19it/s]\n"
     ]
    },
    {
     "name": "stdout",
     "output_type": "stream",
     "text": [
      "  Predicted in 10.80s\n"
     ]
    },
    {
     "name": "stderr",
     "output_type": "stream",
     "text": [
      "100%|██████████| 1/1 [00:00<00:00,  5.40it/s]\n",
      "100%|██████████| 1/1 [00:00<00:00,  5.60it/s]\n"
     ]
    },
    {
     "name": "stdout",
     "output_type": "stream",
     "text": [
      "Resampling...\n",
      "Saving segmentations...\n",
      "Creating body_trunc.nii.gz\n",
      "Creating body_extremities.nii.gz"
     ]
    },
    {
     "data": {
      "application/vnd.jupyter.widget-view+json": {
       "model_id": "b12745adc4f8418691eada2a82a22342",
       "version_major": 2,
       "version_minor": 0
      },
      "text/plain": [
       "  0%|          | 0/2 [00:00<?, ?it/s]"
      ]
     },
     "metadata": {},
     "output_type": "display_data"
    },
    {
     "name": "stdout",
     "output_type": "stream",
     "text": [
      "\n",
      "  Saved in 0.35s\n",
      "Creating body.nii.gz\n",
      "Creating skin.nii.gz\n",
      "Segmenting Case6Pack phase 10\n",
      "\n",
      "If you use this tool please cite: https://pubs.rsna.org/doi/10.1148/ryai.230024\n",
      "\n",
      "Generating rough body segmentation...\n",
      "Resampling...\n",
      "  Resampled in 0.26s\n",
      "Predicting...\n"
     ]
    },
    {
     "name": "stderr",
     "output_type": "stream",
     "text": [
      "/ocean/projects/asc170022p/mtragoza/mambaforge/envs/lung-project/lib/python3.10/site-packages/nnunetv2/utilities/plans_handling/plans_handler.py:37: UserWarning: Detected old nnU-Net plans format. Attempting to reconstruct network architecture parameters. If this fails, rerun nnUNetv2_plan_experiment for your dataset. If you use a custom architecture, please downgrade nnU-Net to the version you implemented this or update your implementation + plans.\n",
      "  warnings.warn(\"Detected old nnU-Net plans format. Attempting to reconstruct network architecture \"\n",
      "100%|██████████| 1/1 [00:00<00:00, 105.70it/s]\n"
     ]
    },
    {
     "name": "stdout",
     "output_type": "stream",
     "text": [
      "  Predicted in 7.31s\n",
      "Resampling...\n",
      "  cropping from (256, 256, 94) to (249, 171, 82)\n",
      "Resampling...\n",
      "  Resampled in 2.10s\n",
      "Predicting part 1 of 1 ...\n"
     ]
    },
    {
     "name": "stderr",
     "output_type": "stream",
     "text": [
      "100%|██████████| 8/8 [00:00<00:00, 32.16it/s]\n"
     ]
    },
    {
     "name": "stdout",
     "output_type": "stream",
     "text": [
      "  Predicted in 9.77s\n",
      "Resampling...\n",
      "Saving segmentations...\n"
     ]
    },
    {
     "data": {
      "application/vnd.jupyter.widget-view+json": {
       "model_id": "aa791f2f17244a52b08fee5742911faa",
       "version_major": 2,
       "version_minor": 0
      },
      "text/plain": [
       "  0%|          | 0/5 [00:00<?, ?it/s]"
      ]
     },
     "metadata": {},
     "output_type": "display_data"
    },
    {
     "name": "stdout",
     "output_type": "stream",
     "text": [
      "  Saved in 0.58s\n",
      "\n",
      "If you use this tool please cite: https://pubs.rsna.org/doi/10.1148/ryai.230024\n",
      "\n",
      "Generating rough body segmentation...\n",
      "Resampling...\n",
      "  Resampled in 0.26s\n",
      "Predicting...\n"
     ]
    },
    {
     "name": "stderr",
     "output_type": "stream",
     "text": [
      "/ocean/projects/asc170022p/mtragoza/mambaforge/envs/lung-project/lib/python3.10/site-packages/nnunetv2/utilities/plans_handling/plans_handler.py:37: UserWarning: Detected old nnU-Net plans format. Attempting to reconstruct network architecture parameters. If this fails, rerun nnUNetv2_plan_experiment for your dataset. If you use a custom architecture, please downgrade nnU-Net to the version you implemented this or update your implementation + plans.\n",
      "  warnings.warn(\"Detected old nnU-Net plans format. Attempting to reconstruct network architecture \"\n",
      "100%|██████████| 1/1 [00:00<00:00, 103.98it/s]\n"
     ]
    },
    {
     "name": "stdout",
     "output_type": "stream",
     "text": [
      "  Predicted in 7.44s\n",
      "Resampling...\n",
      "  cropping from (256, 256, 94) to (249, 171, 82)\n",
      "Predicting...\n"
     ]
    },
    {
     "name": "stderr",
     "output_type": "stream",
     "text": [
      "100%|██████████| 100/100 [00:05<00:00, 17.43it/s]\n"
     ]
    },
    {
     "name": "stdout",
     "output_type": "stream",
     "text": [
      "  Predicted in 29.94s\n",
      "Saving segmentations...\n",
      "Creating lung_vessels.nii.gz\n",
      "Creating lung_trachea_bronchia.nii.gz\n"
     ]
    },
    {
     "data": {
      "application/vnd.jupyter.widget-view+json": {
       "model_id": "e0fdf85940e1464e9307eda2b7a07936",
       "version_major": 2,
       "version_minor": 0
      },
      "text/plain": [
       "  0%|          | 0/2 [00:00<?, ?it/s]"
      ]
     },
     "metadata": {},
     "output_type": "display_data"
    },
    {
     "name": "stdout",
     "output_type": "stream",
     "text": [
      "  Saved in 0.51s\n",
      "\n",
      "If you use this tool please cite: https://pubs.rsna.org/doi/10.1148/ryai.230024\n",
      "\n",
      "Resampling...\n",
      "  Resampled in 3.67s\n",
      "Predicting...\n"
     ]
    },
    {
     "name": "stderr",
     "output_type": "stream",
     "text": [
      "/ocean/projects/asc170022p/mtragoza/mambaforge/envs/lung-project/lib/python3.10/site-packages/nnunetv2/utilities/plans_handling/plans_handler.py:37: UserWarning: Detected old nnU-Net plans format. Attempting to reconstruct network architecture parameters. If this fails, rerun nnUNetv2_plan_experiment for your dataset. If you use a custom architecture, please downgrade nnU-Net to the version you implemented this or update your implementation + plans.\n",
      "  warnings.warn(\"Detected old nnU-Net plans format. Attempting to reconstruct network architecture \"\n",
      "100%|██████████| 27/27 [00:01<00:00, 21.07it/s]\n"
     ]
    },
    {
     "name": "stdout",
     "output_type": "stream",
     "text": [
      "  Predicted in 10.62s\n"
     ]
    },
    {
     "name": "stderr",
     "output_type": "stream",
     "text": [
      "100%|██████████| 1/1 [00:00<00:00,  5.43it/s]\n",
      "100%|██████████| 1/1 [00:00<00:00,  5.46it/s]\n"
     ]
    },
    {
     "name": "stdout",
     "output_type": "stream",
     "text": [
      "Resampling...\n",
      "Saving segmentations...\n",
      "Creating body_trunc.nii.gz\n",
      "Creating body_extremities.nii.gz"
     ]
    },
    {
     "data": {
      "application/vnd.jupyter.widget-view+json": {
       "model_id": "638c2ff340824c59b03db2e6bf0df859",
       "version_major": 2,
       "version_minor": 0
      },
      "text/plain": [
       "  0%|          | 0/2 [00:00<?, ?it/s]"
      ]
     },
     "metadata": {},
     "output_type": "display_data"
    },
    {
     "name": "stdout",
     "output_type": "stream",
     "text": [
      "\n",
      "  Saved in 0.37s\n",
      "Creating body.nii.gz\n",
      "Creating skin.nii.gz\n",
      "Segmenting Case6Pack phase 20\n",
      "\n",
      "If you use this tool please cite: https://pubs.rsna.org/doi/10.1148/ryai.230024\n",
      "\n",
      "Generating rough body segmentation...\n",
      "Resampling...\n",
      "  Resampled in 0.26s\n",
      "Predicting...\n"
     ]
    },
    {
     "name": "stderr",
     "output_type": "stream",
     "text": [
      "/ocean/projects/asc170022p/mtragoza/mambaforge/envs/lung-project/lib/python3.10/site-packages/nnunetv2/utilities/plans_handling/plans_handler.py:37: UserWarning: Detected old nnU-Net plans format. Attempting to reconstruct network architecture parameters. If this fails, rerun nnUNetv2_plan_experiment for your dataset. If you use a custom architecture, please downgrade nnU-Net to the version you implemented this or update your implementation + plans.\n",
      "  warnings.warn(\"Detected old nnU-Net plans format. Attempting to reconstruct network architecture \"\n",
      "100%|██████████| 1/1 [00:00<00:00, 79.59it/s]\n"
     ]
    },
    {
     "name": "stdout",
     "output_type": "stream",
     "text": [
      "  Predicted in 7.57s\n",
      "Resampling...\n",
      "  cropping from (256, 256, 94) to (244, 171, 78)\n",
      "Resampling...\n",
      "  Resampled in 1.92s\n",
      "Predicting part 1 of 1 ...\n"
     ]
    },
    {
     "name": "stderr",
     "output_type": "stream",
     "text": [
      "100%|██████████| 8/8 [00:00<00:00, 31.96it/s]\n"
     ]
    },
    {
     "name": "stdout",
     "output_type": "stream",
     "text": [
      "  Predicted in 9.62s\n",
      "Resampling...\n",
      "Saving segmentations...\n"
     ]
    },
    {
     "data": {
      "application/vnd.jupyter.widget-view+json": {
       "model_id": "1745effaa1dd49fab5c98c3036d07c23",
       "version_major": 2,
       "version_minor": 0
      },
      "text/plain": [
       "  0%|          | 0/5 [00:00<?, ?it/s]"
      ]
     },
     "metadata": {},
     "output_type": "display_data"
    },
    {
     "name": "stdout",
     "output_type": "stream",
     "text": [
      "  Saved in 4.40s\n",
      "\n",
      "If you use this tool please cite: https://pubs.rsna.org/doi/10.1148/ryai.230024\n",
      "\n",
      "Generating rough body segmentation...\n",
      "Resampling...\n",
      "  Resampled in 0.27s\n",
      "Predicting...\n"
     ]
    },
    {
     "name": "stderr",
     "output_type": "stream",
     "text": [
      "/ocean/projects/asc170022p/mtragoza/mambaforge/envs/lung-project/lib/python3.10/site-packages/nnunetv2/utilities/plans_handling/plans_handler.py:37: UserWarning: Detected old nnU-Net plans format. Attempting to reconstruct network architecture parameters. If this fails, rerun nnUNetv2_plan_experiment for your dataset. If you use a custom architecture, please downgrade nnU-Net to the version you implemented this or update your implementation + plans.\n",
      "  warnings.warn(\"Detected old nnU-Net plans format. Attempting to reconstruct network architecture \"\n",
      "100%|██████████| 1/1 [00:00<00:00, 75.99it/s]\n"
     ]
    },
    {
     "name": "stdout",
     "output_type": "stream",
     "text": [
      "  Predicted in 7.35s\n",
      "Resampling...\n",
      "  cropping from (256, 256, 94) to (244, 171, 78)\n",
      "Predicting...\n"
     ]
    },
    {
     "name": "stderr",
     "output_type": "stream",
     "text": [
      "100%|██████████| 100/100 [00:05<00:00, 17.44it/s]\n"
     ]
    },
    {
     "name": "stdout",
     "output_type": "stream",
     "text": [
      "  Predicted in 28.97s\n",
      "Saving segmentations...\n"
     ]
    },
    {
     "data": {
      "application/vnd.jupyter.widget-view+json": {
       "model_id": "7c93066680bc416b99e6ef929985af23",
       "version_major": 2,
       "version_minor": 0
      },
      "text/plain": [
       "  0%|          | 0/2 [00:00<?, ?it/s]"
      ]
     },
     "metadata": {},
     "output_type": "display_data"
    },
    {
     "name": "stdout",
     "output_type": "stream",
     "text": [
      "Creating lung_vessels.nii.gz\n",
      "Creating lung_trachea_bronchia.nii.gz\n",
      "  Saved in 1.47s\n",
      "\n",
      "If you use this tool please cite: https://pubs.rsna.org/doi/10.1148/ryai.230024\n",
      "\n",
      "Resampling...\n",
      "  Resampled in 3.70s\n",
      "Predicting...\n"
     ]
    },
    {
     "name": "stderr",
     "output_type": "stream",
     "text": [
      "/ocean/projects/asc170022p/mtragoza/mambaforge/envs/lung-project/lib/python3.10/site-packages/nnunetv2/utilities/plans_handling/plans_handler.py:37: UserWarning: Detected old nnU-Net plans format. Attempting to reconstruct network architecture parameters. If this fails, rerun nnUNetv2_plan_experiment for your dataset. If you use a custom architecture, please downgrade nnU-Net to the version you implemented this or update your implementation + plans.\n",
      "  warnings.warn(\"Detected old nnU-Net plans format. Attempting to reconstruct network architecture \"\n",
      "100%|██████████| 27/27 [00:01<00:00, 21.04it/s]\n"
     ]
    },
    {
     "name": "stdout",
     "output_type": "stream",
     "text": [
      "  Predicted in 10.86s\n"
     ]
    },
    {
     "name": "stderr",
     "output_type": "stream",
     "text": [
      "100%|██████████| 1/1 [00:00<00:00,  5.41it/s]\n",
      "100%|██████████| 1/1 [00:00<00:00,  5.54it/s]\n"
     ]
    },
    {
     "name": "stdout",
     "output_type": "stream",
     "text": [
      "Resampling...\n",
      "Saving segmentations...\n",
      "Creating body_trunc.nii.gz\n",
      "Creating body_extremities.nii.gz\n"
     ]
    },
    {
     "data": {
      "application/vnd.jupyter.widget-view+json": {
       "model_id": "e87d6e2c73484d52a90907f1797c9781",
       "version_major": 2,
       "version_minor": 0
      },
      "text/plain": [
       "  0%|          | 0/2 [00:00<?, ?it/s]"
      ]
     },
     "metadata": {},
     "output_type": "display_data"
    },
    {
     "name": "stdout",
     "output_type": "stream",
     "text": [
      "  Saved in 0.34s\n",
      "Creating body.nii.gz\n",
      "Creating skin.nii.gz\n",
      "Segmenting Case6Pack phase 30\n",
      "\n",
      "If you use this tool please cite: https://pubs.rsna.org/doi/10.1148/ryai.230024\n",
      "\n",
      "Generating rough body segmentation...\n",
      "Resampling...\n",
      "  Resampled in 0.26s\n",
      "Predicting...\n"
     ]
    },
    {
     "name": "stderr",
     "output_type": "stream",
     "text": [
      "/ocean/projects/asc170022p/mtragoza/mambaforge/envs/lung-project/lib/python3.10/site-packages/nnunetv2/utilities/plans_handling/plans_handler.py:37: UserWarning: Detected old nnU-Net plans format. Attempting to reconstruct network architecture parameters. If this fails, rerun nnUNetv2_plan_experiment for your dataset. If you use a custom architecture, please downgrade nnU-Net to the version you implemented this or update your implementation + plans.\n",
      "  warnings.warn(\"Detected old nnU-Net plans format. Attempting to reconstruct network architecture \"\n",
      "100%|██████████| 1/1 [00:00<00:00, 86.10it/s]\n"
     ]
    },
    {
     "name": "stdout",
     "output_type": "stream",
     "text": [
      "  Predicted in 7.32s\n",
      "Resampling...\n",
      "  cropping from (256, 256, 94) to (244, 171, 76)\n",
      "Resampling...\n",
      "  Resampled in 1.86s\n",
      "Predicting part 1 of 1 ...\n"
     ]
    },
    {
     "name": "stderr",
     "output_type": "stream",
     "text": [
      "100%|██████████| 8/8 [00:00<00:00, 32.75it/s]\n"
     ]
    },
    {
     "name": "stdout",
     "output_type": "stream",
     "text": [
      "  Predicted in 9.81s\n",
      "Resampling...\n",
      "Saving segmentations...\n"
     ]
    },
    {
     "data": {
      "application/vnd.jupyter.widget-view+json": {
       "model_id": "645e407d9d234198b00c4cb8ce90e822",
       "version_major": 2,
       "version_minor": 0
      },
      "text/plain": [
       "  0%|          | 0/5 [00:00<?, ?it/s]"
      ]
     },
     "metadata": {},
     "output_type": "display_data"
    },
    {
     "name": "stdout",
     "output_type": "stream",
     "text": [
      "  Saved in 0.55s\n",
      "\n",
      "If you use this tool please cite: https://pubs.rsna.org/doi/10.1148/ryai.230024\n",
      "\n",
      "Generating rough body segmentation...\n",
      "Resampling...\n",
      "  Resampled in 0.26s\n",
      "Predicting...\n"
     ]
    },
    {
     "name": "stderr",
     "output_type": "stream",
     "text": [
      "/ocean/projects/asc170022p/mtragoza/mambaforge/envs/lung-project/lib/python3.10/site-packages/nnunetv2/utilities/plans_handling/plans_handler.py:37: UserWarning: Detected old nnU-Net plans format. Attempting to reconstruct network architecture parameters. If this fails, rerun nnUNetv2_plan_experiment for your dataset. If you use a custom architecture, please downgrade nnU-Net to the version you implemented this or update your implementation + plans.\n",
      "  warnings.warn(\"Detected old nnU-Net plans format. Attempting to reconstruct network architecture \"\n",
      "100%|██████████| 1/1 [00:00<00:00, 93.20it/s]\n"
     ]
    },
    {
     "name": "stdout",
     "output_type": "stream",
     "text": [
      "  Predicted in 7.33s\n",
      "Resampling...\n",
      "  cropping from (256, 256, 94) to (244, 171, 76)\n",
      "Predicting...\n"
     ]
    },
    {
     "name": "stderr",
     "output_type": "stream",
     "text": [
      "100%|██████████| 100/100 [00:05<00:00, 17.44it/s]\n"
     ]
    },
    {
     "name": "stdout",
     "output_type": "stream",
     "text": [
      "  Predicted in 28.50s\n",
      "Saving segmentations...\n",
      "Creating lung_vessels.nii.gz\n",
      "Creating lung_trachea_bronchia.nii.gz\n"
     ]
    },
    {
     "data": {
      "application/vnd.jupyter.widget-view+json": {
       "model_id": "f79bf5481bf7458c976d1d0c2d996f73",
       "version_major": 2,
       "version_minor": 0
      },
      "text/plain": [
       "  0%|          | 0/2 [00:00<?, ?it/s]"
      ]
     },
     "metadata": {},
     "output_type": "display_data"
    },
    {
     "name": "stdout",
     "output_type": "stream",
     "text": [
      "  Saved in 0.50s\n",
      "\n",
      "If you use this tool please cite: https://pubs.rsna.org/doi/10.1148/ryai.230024\n",
      "\n",
      "Resampling...\n",
      "  Resampled in 3.69s\n",
      "Predicting...\n"
     ]
    },
    {
     "name": "stderr",
     "output_type": "stream",
     "text": [
      "/ocean/projects/asc170022p/mtragoza/mambaforge/envs/lung-project/lib/python3.10/site-packages/nnunetv2/utilities/plans_handling/plans_handler.py:37: UserWarning: Detected old nnU-Net plans format. Attempting to reconstruct network architecture parameters. If this fails, rerun nnUNetv2_plan_experiment for your dataset. If you use a custom architecture, please downgrade nnU-Net to the version you implemented this or update your implementation + plans.\n",
      "  warnings.warn(\"Detected old nnU-Net plans format. Attempting to reconstruct network architecture \"\n",
      "100%|██████████| 27/27 [00:01<00:00, 21.11it/s]\n"
     ]
    },
    {
     "name": "stdout",
     "output_type": "stream",
     "text": [
      "  Predicted in 10.81s\n"
     ]
    },
    {
     "name": "stderr",
     "output_type": "stream",
     "text": [
      "100%|██████████| 1/1 [00:00<00:00,  5.35it/s]\n",
      "100%|██████████| 1/1 [00:00<00:00,  5.21it/s]\n"
     ]
    },
    {
     "name": "stdout",
     "output_type": "stream",
     "text": [
      "Resampling...\n",
      "Saving segmentations...\n",
      "Creating body_trunc.nii.gz\n",
      "Creating body_extremities.nii.gz\n"
     ]
    },
    {
     "data": {
      "application/vnd.jupyter.widget-view+json": {
       "model_id": "fc67d6375d6f46da9a1d091dde6cf8a6",
       "version_major": 2,
       "version_minor": 0
      },
      "text/plain": [
       "  0%|          | 0/2 [00:00<?, ?it/s]"
      ]
     },
     "metadata": {},
     "output_type": "display_data"
    },
    {
     "name": "stdout",
     "output_type": "stream",
     "text": [
      "  Saved in 0.36s\n",
      "Creating body.nii.gz\n",
      "Creating skin.nii.gz\n",
      "Segmenting Case6Pack phase 40\n",
      "\n",
      "If you use this tool please cite: https://pubs.rsna.org/doi/10.1148/ryai.230024\n",
      "\n",
      "Generating rough body segmentation...\n",
      "Resampling...\n",
      "  Resampled in 0.26s\n",
      "Predicting...\n"
     ]
    },
    {
     "name": "stderr",
     "output_type": "stream",
     "text": [
      "/ocean/projects/asc170022p/mtragoza/mambaforge/envs/lung-project/lib/python3.10/site-packages/nnunetv2/utilities/plans_handling/plans_handler.py:37: UserWarning: Detected old nnU-Net plans format. Attempting to reconstruct network architecture parameters. If this fails, rerun nnUNetv2_plan_experiment for your dataset. If you use a custom architecture, please downgrade nnU-Net to the version you implemented this or update your implementation + plans.\n",
      "  warnings.warn(\"Detected old nnU-Net plans format. Attempting to reconstruct network architecture \"\n",
      "100%|██████████| 1/1 [00:00<00:00, 78.22it/s]\n"
     ]
    },
    {
     "name": "stdout",
     "output_type": "stream",
     "text": [
      "  Predicted in 7.29s\n",
      "Resampling...\n",
      "  cropping from (256, 256, 94) to (244, 162, 75)\n",
      "Resampling...\n",
      "  Resampled in 1.76s\n",
      "Predicting part 1 of 1 ...\n"
     ]
    },
    {
     "name": "stderr",
     "output_type": "stream",
     "text": [
      "100%|██████████| 8/8 [00:00<00:00, 32.77it/s]\n"
     ]
    },
    {
     "name": "stdout",
     "output_type": "stream",
     "text": [
      "  Predicted in 9.74s\n",
      "Resampling...\n",
      "Saving segmentations...\n"
     ]
    },
    {
     "data": {
      "application/vnd.jupyter.widget-view+json": {
       "model_id": "0f2335ad8f49461a903146054f101e2e",
       "version_major": 2,
       "version_minor": 0
      },
      "text/plain": [
       "  0%|          | 0/5 [00:00<?, ?it/s]"
      ]
     },
     "metadata": {},
     "output_type": "display_data"
    },
    {
     "name": "stdout",
     "output_type": "stream",
     "text": [
      "  Saved in 0.56s\n",
      "\n",
      "If you use this tool please cite: https://pubs.rsna.org/doi/10.1148/ryai.230024\n",
      "\n",
      "Generating rough body segmentation...\n",
      "Resampling...\n",
      "  Resampled in 0.26s\n",
      "Predicting...\n"
     ]
    },
    {
     "name": "stderr",
     "output_type": "stream",
     "text": [
      "/ocean/projects/asc170022p/mtragoza/mambaforge/envs/lung-project/lib/python3.10/site-packages/nnunetv2/utilities/plans_handling/plans_handler.py:37: UserWarning: Detected old nnU-Net plans format. Attempting to reconstruct network architecture parameters. If this fails, rerun nnUNetv2_plan_experiment for your dataset. If you use a custom architecture, please downgrade nnU-Net to the version you implemented this or update your implementation + plans.\n",
      "  warnings.warn(\"Detected old nnU-Net plans format. Attempting to reconstruct network architecture \"\n",
      "100%|██████████| 1/1 [00:00<00:00, 95.01it/s]\n"
     ]
    },
    {
     "name": "stdout",
     "output_type": "stream",
     "text": [
      "  Predicted in 7.21s\n",
      "Resampling...\n",
      "  cropping from (256, 256, 94) to (244, 162, 75)\n",
      "Predicting...\n"
     ]
    },
    {
     "name": "stderr",
     "output_type": "stream",
     "text": [
      "100%|██████████| 60/60 [00:03<00:00, 17.87it/s]\n"
     ]
    },
    {
     "name": "stdout",
     "output_type": "stream",
     "text": [
      "  Predicted in 25.12s\n",
      "Saving segmentations...\n",
      "Creating lung_vessels.nii.gz\n",
      "Creating lung_trachea_bronchia.nii.gz\n"
     ]
    },
    {
     "data": {
      "application/vnd.jupyter.widget-view+json": {
       "model_id": "317b5c87bc084b9084ca9cbf5be64c4c",
       "version_major": 2,
       "version_minor": 0
      },
      "text/plain": [
       "  0%|          | 0/2 [00:00<?, ?it/s]"
      ]
     },
     "metadata": {},
     "output_type": "display_data"
    },
    {
     "name": "stdout",
     "output_type": "stream",
     "text": [
      "  Saved in 0.49s\n",
      "\n",
      "If you use this tool please cite: https://pubs.rsna.org/doi/10.1148/ryai.230024\n",
      "\n",
      "Resampling...\n",
      "  Resampled in 3.68s\n",
      "Predicting...\n"
     ]
    },
    {
     "name": "stderr",
     "output_type": "stream",
     "text": [
      "/ocean/projects/asc170022p/mtragoza/mambaforge/envs/lung-project/lib/python3.10/site-packages/nnunetv2/utilities/plans_handling/plans_handler.py:37: UserWarning: Detected old nnU-Net plans format. Attempting to reconstruct network architecture parameters. If this fails, rerun nnUNetv2_plan_experiment for your dataset. If you use a custom architecture, please downgrade nnU-Net to the version you implemented this or update your implementation + plans.\n",
      "  warnings.warn(\"Detected old nnU-Net plans format. Attempting to reconstruct network architecture \"\n",
      "100%|██████████| 27/27 [00:01<00:00, 21.10it/s]\n"
     ]
    },
    {
     "name": "stdout",
     "output_type": "stream",
     "text": [
      "  Predicted in 11.04s\n"
     ]
    },
    {
     "name": "stderr",
     "output_type": "stream",
     "text": [
      "100%|██████████| 1/1 [00:00<00:00,  5.25it/s]\n",
      "100%|██████████| 1/1 [00:00<00:00,  5.40it/s]\n"
     ]
    },
    {
     "name": "stdout",
     "output_type": "stream",
     "text": [
      "Resampling...\n",
      "Saving segmentations...\n",
      "Creating body_trunc.nii.gz\n",
      "Creating body_extremities.nii.gz\n"
     ]
    },
    {
     "data": {
      "application/vnd.jupyter.widget-view+json": {
       "model_id": "43aad08855874919accdd50d357c24c2",
       "version_major": 2,
       "version_minor": 0
      },
      "text/plain": [
       "  0%|          | 0/2 [00:00<?, ?it/s]"
      ]
     },
     "metadata": {},
     "output_type": "display_data"
    },
    {
     "name": "stdout",
     "output_type": "stream",
     "text": [
      "  Saved in 0.32s\n",
      "Creating body.nii.gz\n",
      "Creating skin.nii.gz\n",
      "Segmenting Case6Pack phase 50\n",
      "\n",
      "If you use this tool please cite: https://pubs.rsna.org/doi/10.1148/ryai.230024\n",
      "\n",
      "Generating rough body segmentation...\n",
      "Resampling...\n",
      "  Resampled in 0.26s\n",
      "Predicting...\n"
     ]
    },
    {
     "name": "stderr",
     "output_type": "stream",
     "text": [
      "/ocean/projects/asc170022p/mtragoza/mambaforge/envs/lung-project/lib/python3.10/site-packages/nnunetv2/utilities/plans_handling/plans_handler.py:37: UserWarning: Detected old nnU-Net plans format. Attempting to reconstruct network architecture parameters. If this fails, rerun nnUNetv2_plan_experiment for your dataset. If you use a custom architecture, please downgrade nnU-Net to the version you implemented this or update your implementation + plans.\n",
      "  warnings.warn(\"Detected old nnU-Net plans format. Attempting to reconstruct network architecture \"\n",
      "100%|██████████| 1/1 [00:00<00:00, 77.68it/s]\n"
     ]
    },
    {
     "name": "stdout",
     "output_type": "stream",
     "text": [
      "  Predicted in 7.38s\n",
      "Resampling...\n",
      "  cropping from (256, 256, 94) to (244, 162, 75)\n",
      "Resampling...\n",
      "  Resampled in 1.76s\n",
      "Predicting part 1 of 1 ...\n"
     ]
    },
    {
     "name": "stderr",
     "output_type": "stream",
     "text": [
      "100%|██████████| 8/8 [00:00<00:00, 32.34it/s]\n"
     ]
    },
    {
     "name": "stdout",
     "output_type": "stream",
     "text": [
      "  Predicted in 9.41s\n",
      "Resampling...\n",
      "Saving segmentations...\n"
     ]
    },
    {
     "data": {
      "application/vnd.jupyter.widget-view+json": {
       "model_id": "b72ec9f640c74715b09895687c6529a0",
       "version_major": 2,
       "version_minor": 0
      },
      "text/plain": [
       "  0%|          | 0/5 [00:00<?, ?it/s]"
      ]
     },
     "metadata": {},
     "output_type": "display_data"
    },
    {
     "name": "stdout",
     "output_type": "stream",
     "text": [
      "  Saved in 3.77s\n",
      "\n",
      "If you use this tool please cite: https://pubs.rsna.org/doi/10.1148/ryai.230024\n",
      "\n",
      "Generating rough body segmentation...\n",
      "Resampling...\n",
      "  Resampled in 0.26s\n",
      "Predicting...\n"
     ]
    },
    {
     "name": "stderr",
     "output_type": "stream",
     "text": [
      "/ocean/projects/asc170022p/mtragoza/mambaforge/envs/lung-project/lib/python3.10/site-packages/nnunetv2/utilities/plans_handling/plans_handler.py:37: UserWarning: Detected old nnU-Net plans format. Attempting to reconstruct network architecture parameters. If this fails, rerun nnUNetv2_plan_experiment for your dataset. If you use a custom architecture, please downgrade nnU-Net to the version you implemented this or update your implementation + plans.\n",
      "  warnings.warn(\"Detected old nnU-Net plans format. Attempting to reconstruct network architecture \"\n",
      "100%|██████████| 1/1 [00:00<00:00, 100.07it/s]\n"
     ]
    },
    {
     "name": "stdout",
     "output_type": "stream",
     "text": [
      "  Predicted in 7.48s\n",
      "Resampling...\n",
      "  cropping from (256, 256, 94) to (244, 162, 75)\n",
      "Predicting...\n"
     ]
    },
    {
     "name": "stderr",
     "output_type": "stream",
     "text": [
      "100%|██████████| 60/60 [00:03<00:00, 17.93it/s]\n"
     ]
    },
    {
     "name": "stdout",
     "output_type": "stream",
     "text": [
      "  Predicted in 25.17s\n",
      "Saving segmentations...\n",
      "Creating lung_vessels.nii.gz\n",
      "Creating lung_trachea_bronchia.nii.gz\n"
     ]
    },
    {
     "data": {
      "application/vnd.jupyter.widget-view+json": {
       "model_id": "fc0db41873c541679179cb8e4e2e2c9a",
       "version_major": 2,
       "version_minor": 0
      },
      "text/plain": [
       "  0%|          | 0/2 [00:00<?, ?it/s]"
      ]
     },
     "metadata": {},
     "output_type": "display_data"
    },
    {
     "name": "stdout",
     "output_type": "stream",
     "text": [
      "  Saved in 0.46s\n",
      "\n",
      "If you use this tool please cite: https://pubs.rsna.org/doi/10.1148/ryai.230024\n",
      "\n",
      "Resampling...\n",
      "  Resampled in 3.68s\n",
      "Predicting...\n"
     ]
    },
    {
     "name": "stderr",
     "output_type": "stream",
     "text": [
      "/ocean/projects/asc170022p/mtragoza/mambaforge/envs/lung-project/lib/python3.10/site-packages/nnunetv2/utilities/plans_handling/plans_handler.py:37: UserWarning: Detected old nnU-Net plans format. Attempting to reconstruct network architecture parameters. If this fails, rerun nnUNetv2_plan_experiment for your dataset. If you use a custom architecture, please downgrade nnU-Net to the version you implemented this or update your implementation + plans.\n",
      "  warnings.warn(\"Detected old nnU-Net plans format. Attempting to reconstruct network architecture \"\n",
      "100%|██████████| 27/27 [00:01<00:00, 21.10it/s]\n"
     ]
    },
    {
     "name": "stdout",
     "output_type": "stream",
     "text": [
      "  Predicted in 11.02s\n"
     ]
    },
    {
     "name": "stderr",
     "output_type": "stream",
     "text": [
      "100%|██████████| 1/1 [00:00<00:00,  5.34it/s]\n",
      "100%|██████████| 1/1 [00:00<00:00,  5.56it/s]\n"
     ]
    },
    {
     "name": "stdout",
     "output_type": "stream",
     "text": [
      "Resampling...\n",
      "Saving segmentations...\n",
      "Creating body_trunc.nii.gz\n",
      "Creating body_extremities.nii.gz\n"
     ]
    },
    {
     "data": {
      "application/vnd.jupyter.widget-view+json": {
       "model_id": "e070def10c5c4c7ab67e1ea7ed51ba51",
       "version_major": 2,
       "version_minor": 0
      },
      "text/plain": [
       "  0%|          | 0/2 [00:00<?, ?it/s]"
      ]
     },
     "metadata": {},
     "output_type": "display_data"
    },
    {
     "name": "stdout",
     "output_type": "stream",
     "text": [
      "  Saved in 0.35s\n",
      "Creating body.nii.gz\n",
      "Creating skin.nii.gz\n",
      "Segmenting Case6Pack phase 60\n",
      "\n",
      "If you use this tool please cite: https://pubs.rsna.org/doi/10.1148/ryai.230024\n",
      "\n",
      "Generating rough body segmentation...\n",
      "Resampling...\n",
      "  Resampled in 0.26s\n",
      "Predicting...\n"
     ]
    },
    {
     "name": "stderr",
     "output_type": "stream",
     "text": [
      "/ocean/projects/asc170022p/mtragoza/mambaforge/envs/lung-project/lib/python3.10/site-packages/nnunetv2/utilities/plans_handling/plans_handler.py:37: UserWarning: Detected old nnU-Net plans format. Attempting to reconstruct network architecture parameters. If this fails, rerun nnUNetv2_plan_experiment for your dataset. If you use a custom architecture, please downgrade nnU-Net to the version you implemented this or update your implementation + plans.\n",
      "  warnings.warn(\"Detected old nnU-Net plans format. Attempting to reconstruct network architecture \"\n",
      "100%|██████████| 1/1 [00:00<00:00, 94.92it/s]\n"
     ]
    },
    {
     "name": "stdout",
     "output_type": "stream",
     "text": [
      "  Predicted in 7.32s\n",
      "Resampling...\n",
      "  cropping from (256, 256, 94) to (244, 162, 78)\n",
      "Resampling...\n",
      "  Resampled in 1.82s\n",
      "Predicting part 1 of 1 ...\n"
     ]
    },
    {
     "name": "stderr",
     "output_type": "stream",
     "text": [
      "100%|██████████| 8/8 [00:00<00:00, 31.89it/s]\n"
     ]
    },
    {
     "name": "stdout",
     "output_type": "stream",
     "text": [
      "  Predicted in 9.59s\n",
      "Resampling...\n",
      "Saving segmentations...\n"
     ]
    },
    {
     "data": {
      "application/vnd.jupyter.widget-view+json": {
       "model_id": "8b772966c56a4218b4b00b15dc200655",
       "version_major": 2,
       "version_minor": 0
      },
      "text/plain": [
       "  0%|          | 0/5 [00:00<?, ?it/s]"
      ]
     },
     "metadata": {},
     "output_type": "display_data"
    },
    {
     "name": "stdout",
     "output_type": "stream",
     "text": [
      "  Saved in 0.56s\n",
      "\n",
      "If you use this tool please cite: https://pubs.rsna.org/doi/10.1148/ryai.230024\n",
      "\n",
      "Generating rough body segmentation...\n",
      "Resampling...\n",
      "  Resampled in 0.26s\n",
      "Predicting...\n"
     ]
    },
    {
     "name": "stderr",
     "output_type": "stream",
     "text": [
      "/ocean/projects/asc170022p/mtragoza/mambaforge/envs/lung-project/lib/python3.10/site-packages/nnunetv2/utilities/plans_handling/plans_handler.py:37: UserWarning: Detected old nnU-Net plans format. Attempting to reconstruct network architecture parameters. If this fails, rerun nnUNetv2_plan_experiment for your dataset. If you use a custom architecture, please downgrade nnU-Net to the version you implemented this or update your implementation + plans.\n",
      "  warnings.warn(\"Detected old nnU-Net plans format. Attempting to reconstruct network architecture \"\n",
      "100%|██████████| 1/1 [00:00<00:00, 82.70it/s]\n"
     ]
    },
    {
     "name": "stdout",
     "output_type": "stream",
     "text": [
      "  Predicted in 7.31s\n",
      "Resampling...\n",
      "  cropping from (256, 256, 94) to (244, 162, 78)\n",
      "Predicting...\n"
     ]
    },
    {
     "name": "stderr",
     "output_type": "stream",
     "text": [
      "100%|██████████| 80/80 [00:04<00:00, 17.63it/s]\n"
     ]
    },
    {
     "name": "stdout",
     "output_type": "stream",
     "text": [
      "  Predicted in 26.95s\n",
      "Saving segmentations...\n",
      "Creating lung_vessels.nii.gz\n",
      "Creating lung_trachea_bronchia.nii.gz\n"
     ]
    },
    {
     "data": {
      "application/vnd.jupyter.widget-view+json": {
       "model_id": "5bf71801dcec4679a822efd999523cf7",
       "version_major": 2,
       "version_minor": 0
      },
      "text/plain": [
       "  0%|          | 0/2 [00:00<?, ?it/s]"
      ]
     },
     "metadata": {},
     "output_type": "display_data"
    },
    {
     "name": "stdout",
     "output_type": "stream",
     "text": [
      "  Saved in 0.63s\n",
      "\n",
      "If you use this tool please cite: https://pubs.rsna.org/doi/10.1148/ryai.230024\n",
      "\n",
      "Resampling...\n",
      "  Resampled in 3.69s\n",
      "Predicting...\n"
     ]
    },
    {
     "name": "stderr",
     "output_type": "stream",
     "text": [
      "/ocean/projects/asc170022p/mtragoza/mambaforge/envs/lung-project/lib/python3.10/site-packages/nnunetv2/utilities/plans_handling/plans_handler.py:37: UserWarning: Detected old nnU-Net plans format. Attempting to reconstruct network architecture parameters. If this fails, rerun nnUNetv2_plan_experiment for your dataset. If you use a custom architecture, please downgrade nnU-Net to the version you implemented this or update your implementation + plans.\n",
      "  warnings.warn(\"Detected old nnU-Net plans format. Attempting to reconstruct network architecture \"\n",
      "100%|██████████| 27/27 [00:01<00:00, 21.08it/s]\n"
     ]
    },
    {
     "name": "stdout",
     "output_type": "stream",
     "text": [
      "  Predicted in 10.89s\n"
     ]
    },
    {
     "name": "stderr",
     "output_type": "stream",
     "text": [
      "100%|██████████| 1/1 [00:00<00:00,  5.38it/s]\n",
      "100%|██████████| 1/1 [00:00<00:00,  5.35it/s]\n"
     ]
    },
    {
     "name": "stdout",
     "output_type": "stream",
     "text": [
      "Resampling...\n",
      "Saving segmentations...\n",
      "Creating body_trunc.nii.gz\n",
      "Creating body_extremities.nii.gz"
     ]
    },
    {
     "data": {
      "application/vnd.jupyter.widget-view+json": {
       "model_id": "13b4d411de534cc095be72f7202abb29",
       "version_major": 2,
       "version_minor": 0
      },
      "text/plain": [
       "  0%|          | 0/2 [00:00<?, ?it/s]"
      ]
     },
     "metadata": {},
     "output_type": "display_data"
    },
    {
     "name": "stdout",
     "output_type": "stream",
     "text": [
      "\n",
      "  Saved in 0.38s\n",
      "Creating body.nii.gz\n",
      "Creating skin.nii.gz\n",
      "Segmenting Case6Pack phase 70\n",
      "\n",
      "If you use this tool please cite: https://pubs.rsna.org/doi/10.1148/ryai.230024\n",
      "\n",
      "Generating rough body segmentation...\n",
      "Resampling...\n",
      "  Resampled in 0.26s\n",
      "Predicting...\n"
     ]
    },
    {
     "name": "stderr",
     "output_type": "stream",
     "text": [
      "/ocean/projects/asc170022p/mtragoza/mambaforge/envs/lung-project/lib/python3.10/site-packages/nnunetv2/utilities/plans_handling/plans_handler.py:37: UserWarning: Detected old nnU-Net plans format. Attempting to reconstruct network architecture parameters. If this fails, rerun nnUNetv2_plan_experiment for your dataset. If you use a custom architecture, please downgrade nnU-Net to the version you implemented this or update your implementation + plans.\n",
      "  warnings.warn(\"Detected old nnU-Net plans format. Attempting to reconstruct network architecture \"\n",
      "100%|██████████| 1/1 [00:00<00:00, 78.99it/s]\n"
     ]
    },
    {
     "name": "stdout",
     "output_type": "stream",
     "text": [
      "  Predicted in 7.26s\n",
      "Resampling...\n",
      "  cropping from (256, 256, 94) to (244, 166, 75)\n",
      "Resampling...\n",
      "  Resampled in 1.81s\n",
      "Predicting part 1 of 1 ...\n"
     ]
    },
    {
     "name": "stderr",
     "output_type": "stream",
     "text": [
      "100%|██████████| 8/8 [00:00<00:00, 32.43it/s]\n"
     ]
    },
    {
     "name": "stdout",
     "output_type": "stream",
     "text": [
      "  Predicted in 9.49s\n",
      "Resampling...\n",
      "Saving segmentations...\n"
     ]
    },
    {
     "data": {
      "application/vnd.jupyter.widget-view+json": {
       "model_id": "5df817436cd7489a86351b441309d084",
       "version_major": 2,
       "version_minor": 0
      },
      "text/plain": [
       "  0%|          | 0/5 [00:00<?, ?it/s]"
      ]
     },
     "metadata": {},
     "output_type": "display_data"
    },
    {
     "name": "stdout",
     "output_type": "stream",
     "text": [
      "  Saved in 3.99s\n",
      "\n",
      "If you use this tool please cite: https://pubs.rsna.org/doi/10.1148/ryai.230024\n",
      "\n",
      "Generating rough body segmentation...\n",
      "Resampling...\n",
      "  Resampled in 0.26s\n",
      "Predicting...\n"
     ]
    },
    {
     "name": "stderr",
     "output_type": "stream",
     "text": [
      "/ocean/projects/asc170022p/mtragoza/mambaforge/envs/lung-project/lib/python3.10/site-packages/nnunetv2/utilities/plans_handling/plans_handler.py:37: UserWarning: Detected old nnU-Net plans format. Attempting to reconstruct network architecture parameters. If this fails, rerun nnUNetv2_plan_experiment for your dataset. If you use a custom architecture, please downgrade nnU-Net to the version you implemented this or update your implementation + plans.\n",
      "  warnings.warn(\"Detected old nnU-Net plans format. Attempting to reconstruct network architecture \"\n",
      "100%|██████████| 1/1 [00:00<00:00,  2.51it/s]\n"
     ]
    },
    {
     "name": "stdout",
     "output_type": "stream",
     "text": [
      "  Predicted in 7.76s\n",
      "Resampling...\n",
      "  cropping from (256, 256, 94) to (244, 166, 75)\n",
      "Predicting...\n"
     ]
    },
    {
     "name": "stderr",
     "output_type": "stream",
     "text": [
      "100%|██████████| 75/75 [00:04<00:00, 17.69it/s]\n"
     ]
    },
    {
     "name": "stdout",
     "output_type": "stream",
     "text": [
      "  Predicted in 26.54s\n",
      "Saving segmentations...\n",
      "Creating lung_vessels.nii.gz\n",
      "Creating lung_trachea_bronchia.nii.gz"
     ]
    },
    {
     "data": {
      "application/vnd.jupyter.widget-view+json": {
       "model_id": "cb5af7e7c1804857b441752e1e5b980d",
       "version_major": 2,
       "version_minor": 0
      },
      "text/plain": [
       "  0%|          | 0/2 [00:00<?, ?it/s]"
      ]
     },
     "metadata": {},
     "output_type": "display_data"
    },
    {
     "name": "stdout",
     "output_type": "stream",
     "text": [
      "\n",
      "  Saved in 4.69s\n",
      "\n",
      "If you use this tool please cite: https://pubs.rsna.org/doi/10.1148/ryai.230024\n",
      "\n",
      "Resampling...\n",
      "  Resampled in 3.67s\n",
      "Predicting...\n"
     ]
    },
    {
     "name": "stderr",
     "output_type": "stream",
     "text": [
      "/ocean/projects/asc170022p/mtragoza/mambaforge/envs/lung-project/lib/python3.10/site-packages/nnunetv2/utilities/plans_handling/plans_handler.py:37: UserWarning: Detected old nnU-Net plans format. Attempting to reconstruct network architecture parameters. If this fails, rerun nnUNetv2_plan_experiment for your dataset. If you use a custom architecture, please downgrade nnU-Net to the version you implemented this or update your implementation + plans.\n",
      "  warnings.warn(\"Detected old nnU-Net plans format. Attempting to reconstruct network architecture \"\n",
      "100%|██████████| 27/27 [00:01<00:00, 21.16it/s]\n"
     ]
    },
    {
     "name": "stdout",
     "output_type": "stream",
     "text": [
      "  Predicted in 10.94s\n"
     ]
    },
    {
     "name": "stderr",
     "output_type": "stream",
     "text": [
      "100%|██████████| 1/1 [00:00<00:00,  5.30it/s]\n",
      "100%|██████████| 1/1 [00:00<00:00,  5.45it/s]\n"
     ]
    },
    {
     "name": "stdout",
     "output_type": "stream",
     "text": [
      "Resampling...\n",
      "Saving segmentations...\n",
      "Creating body_trunc.nii.gz\n"
     ]
    },
    {
     "data": {
      "application/vnd.jupyter.widget-view+json": {
       "model_id": "afa6bc17006e4082b57c5254bb3b3c37",
       "version_major": 2,
       "version_minor": 0
      },
      "text/plain": [
       "  0%|          | 0/2 [00:00<?, ?it/s]"
      ]
     },
     "metadata": {},
     "output_type": "display_data"
    },
    {
     "name": "stdout",
     "output_type": "stream",
     "text": [
      "Creating body_extremities.nii.gz\n",
      "  Saved in 0.36s\n",
      "Creating body.nii.gz\n",
      "Creating skin.nii.gz\n",
      "Segmenting Case6Pack phase 80\n",
      "\n",
      "If you use this tool please cite: https://pubs.rsna.org/doi/10.1148/ryai.230024\n",
      "\n",
      "Generating rough body segmentation...\n",
      "Resampling...\n",
      "  Resampled in 0.26s\n",
      "Predicting...\n"
     ]
    },
    {
     "name": "stderr",
     "output_type": "stream",
     "text": [
      "/ocean/projects/asc170022p/mtragoza/mambaforge/envs/lung-project/lib/python3.10/site-packages/nnunetv2/utilities/plans_handling/plans_handler.py:37: UserWarning: Detected old nnU-Net plans format. Attempting to reconstruct network architecture parameters. If this fails, rerun nnUNetv2_plan_experiment for your dataset. If you use a custom architecture, please downgrade nnU-Net to the version you implemented this or update your implementation + plans.\n",
      "  warnings.warn(\"Detected old nnU-Net plans format. Attempting to reconstruct network architecture \"\n",
      "100%|██████████| 1/1 [00:00<00:00, 94.80it/s]\n"
     ]
    },
    {
     "name": "stdout",
     "output_type": "stream",
     "text": [
      "  Predicted in 7.39s\n",
      "Resampling...\n",
      "  cropping from (256, 256, 94) to (249, 162, 80)\n",
      "Resampling...\n",
      "  Resampled in 1.92s\n",
      "Predicting part 1 of 1 ...\n"
     ]
    },
    {
     "name": "stderr",
     "output_type": "stream",
     "text": [
      "100%|██████████| 8/8 [00:00<00:00, 32.53it/s]\n"
     ]
    },
    {
     "name": "stdout",
     "output_type": "stream",
     "text": [
      "  Predicted in 9.66s\n",
      "Resampling...\n",
      "Saving segmentations...\n"
     ]
    },
    {
     "data": {
      "application/vnd.jupyter.widget-view+json": {
       "model_id": "b2e17bee760f438e85f598c428dcda74",
       "version_major": 2,
       "version_minor": 0
      },
      "text/plain": [
       "  0%|          | 0/5 [00:00<?, ?it/s]"
      ]
     },
     "metadata": {},
     "output_type": "display_data"
    },
    {
     "name": "stdout",
     "output_type": "stream",
     "text": [
      "  Saved in 0.58s\n",
      "\n",
      "If you use this tool please cite: https://pubs.rsna.org/doi/10.1148/ryai.230024\n",
      "\n",
      "Generating rough body segmentation...\n",
      "Resampling...\n",
      "  Resampled in 0.26s\n",
      "Predicting...\n"
     ]
    },
    {
     "name": "stderr",
     "output_type": "stream",
     "text": [
      "/ocean/projects/asc170022p/mtragoza/mambaforge/envs/lung-project/lib/python3.10/site-packages/nnunetv2/utilities/plans_handling/plans_handler.py:37: UserWarning: Detected old nnU-Net plans format. Attempting to reconstruct network architecture parameters. If this fails, rerun nnUNetv2_plan_experiment for your dataset. If you use a custom architecture, please downgrade nnU-Net to the version you implemented this or update your implementation + plans.\n",
      "  warnings.warn(\"Detected old nnU-Net plans format. Attempting to reconstruct network architecture \"\n",
      "100%|██████████| 1/1 [00:00<00:00, 66.61it/s]\n"
     ]
    },
    {
     "name": "stdout",
     "output_type": "stream",
     "text": [
      "  Predicted in 7.34s\n",
      "Resampling...\n",
      "  cropping from (256, 256, 94) to (249, 162, 80)\n",
      "Predicting...\n"
     ]
    },
    {
     "name": "stderr",
     "output_type": "stream",
     "text": [
      "100%|██████████| 80/80 [00:04<00:00, 17.62it/s]\n"
     ]
    },
    {
     "name": "stdout",
     "output_type": "stream",
     "text": [
      "  Predicted in 28.03s\n",
      "Saving segmentations...\n",
      "Creating lung_vessels.nii.gz\n",
      "Creating lung_trachea_bronchia.nii.gz\n"
     ]
    },
    {
     "data": {
      "application/vnd.jupyter.widget-view+json": {
       "model_id": "518b7bb33d8f482eb5c3646196a2ccd7",
       "version_major": 2,
       "version_minor": 0
      },
      "text/plain": [
       "  0%|          | 0/2 [00:00<?, ?it/s]"
      ]
     },
     "metadata": {},
     "output_type": "display_data"
    },
    {
     "name": "stdout",
     "output_type": "stream",
     "text": [
      "  Saved in 0.48s\n",
      "\n",
      "If you use this tool please cite: https://pubs.rsna.org/doi/10.1148/ryai.230024\n",
      "\n",
      "Resampling...\n",
      "  Resampled in 3.72s\n",
      "Predicting...\n"
     ]
    },
    {
     "name": "stderr",
     "output_type": "stream",
     "text": [
      "/ocean/projects/asc170022p/mtragoza/mambaforge/envs/lung-project/lib/python3.10/site-packages/nnunetv2/utilities/plans_handling/plans_handler.py:37: UserWarning: Detected old nnU-Net plans format. Attempting to reconstruct network architecture parameters. If this fails, rerun nnUNetv2_plan_experiment for your dataset. If you use a custom architecture, please downgrade nnU-Net to the version you implemented this or update your implementation + plans.\n",
      "  warnings.warn(\"Detected old nnU-Net plans format. Attempting to reconstruct network architecture \"\n",
      "100%|██████████| 27/27 [00:01<00:00, 21.23it/s]\n"
     ]
    },
    {
     "name": "stdout",
     "output_type": "stream",
     "text": [
      "  Predicted in 10.95s\n"
     ]
    },
    {
     "name": "stderr",
     "output_type": "stream",
     "text": [
      "100%|██████████| 1/1 [00:00<00:00,  5.33it/s]\n",
      "100%|██████████| 1/1 [00:00<00:00,  5.56it/s]\n"
     ]
    },
    {
     "name": "stdout",
     "output_type": "stream",
     "text": [
      "Resampling...\n",
      "Saving segmentations...\n",
      "Creating body_trunc.nii.gz\n"
     ]
    },
    {
     "data": {
      "application/vnd.jupyter.widget-view+json": {
       "model_id": "d0f3ce5376c6466bb40db307eb6c70e1",
       "version_major": 2,
       "version_minor": 0
      },
      "text/plain": [
       "  0%|          | 0/2 [00:00<?, ?it/s]"
      ]
     },
     "metadata": {},
     "output_type": "display_data"
    },
    {
     "name": "stdout",
     "output_type": "stream",
     "text": [
      "Creating body_extremities.nii.gz\n",
      "  Saved in 0.32s\n",
      "Creating body.nii.gz\n",
      "Creating skin.nii.gz\n",
      "Segmenting Case6Pack phase 90\n",
      "\n",
      "If you use this tool please cite: https://pubs.rsna.org/doi/10.1148/ryai.230024\n",
      "\n",
      "Generating rough body segmentation...\n",
      "Resampling...\n",
      "  Resampled in 0.26s\n",
      "Predicting...\n"
     ]
    },
    {
     "name": "stderr",
     "output_type": "stream",
     "text": [
      "/ocean/projects/asc170022p/mtragoza/mambaforge/envs/lung-project/lib/python3.10/site-packages/nnunetv2/utilities/plans_handling/plans_handler.py:37: UserWarning: Detected old nnU-Net plans format. Attempting to reconstruct network architecture parameters. If this fails, rerun nnUNetv2_plan_experiment for your dataset. If you use a custom architecture, please downgrade nnU-Net to the version you implemented this or update your implementation + plans.\n",
      "  warnings.warn(\"Detected old nnU-Net plans format. Attempting to reconstruct network architecture \"\n",
      "100%|██████████| 1/1 [00:00<00:00, 97.87it/s]\n"
     ]
    },
    {
     "name": "stdout",
     "output_type": "stream",
     "text": [
      "  Predicted in 7.37s\n",
      "Resampling...\n",
      "  cropping from (256, 256, 94) to (249, 171, 80)\n",
      "Resampling...\n",
      "  Resampled in 2.03s\n",
      "Predicting part 1 of 1 ...\n"
     ]
    },
    {
     "name": "stderr",
     "output_type": "stream",
     "text": [
      "100%|██████████| 8/8 [00:00<00:00, 32.01it/s]\n"
     ]
    },
    {
     "name": "stdout",
     "output_type": "stream",
     "text": [
      "  Predicted in 9.82s\n",
      "Resampling...\n",
      "Saving segmentations...\n"
     ]
    },
    {
     "data": {
      "application/vnd.jupyter.widget-view+json": {
       "model_id": "9d17b89058e74c5fb3e109ac14096785",
       "version_major": 2,
       "version_minor": 0
      },
      "text/plain": [
       "  0%|          | 0/5 [00:00<?, ?it/s]"
      ]
     },
     "metadata": {},
     "output_type": "display_data"
    },
    {
     "name": "stdout",
     "output_type": "stream",
     "text": [
      "  Saved in 0.57s\n",
      "\n",
      "If you use this tool please cite: https://pubs.rsna.org/doi/10.1148/ryai.230024\n",
      "\n",
      "Generating rough body segmentation...\n",
      "Resampling...\n",
      "  Resampled in 0.26s\n",
      "Predicting...\n"
     ]
    },
    {
     "name": "stderr",
     "output_type": "stream",
     "text": [
      "/ocean/projects/asc170022p/mtragoza/mambaforge/envs/lung-project/lib/python3.10/site-packages/nnunetv2/utilities/plans_handling/plans_handler.py:37: UserWarning: Detected old nnU-Net plans format. Attempting to reconstruct network architecture parameters. If this fails, rerun nnUNetv2_plan_experiment for your dataset. If you use a custom architecture, please downgrade nnU-Net to the version you implemented this or update your implementation + plans.\n",
      "  warnings.warn(\"Detected old nnU-Net plans format. Attempting to reconstruct network architecture \"\n",
      "100%|██████████| 1/1 [00:00<00:00, 79.73it/s]\n"
     ]
    },
    {
     "name": "stdout",
     "output_type": "stream",
     "text": [
      "  Predicted in 7.46s\n",
      "Resampling...\n",
      "  cropping from (256, 256, 94) to (249, 171, 80)\n",
      "Predicting...\n"
     ]
    },
    {
     "name": "stderr",
     "output_type": "stream",
     "text": [
      "100%|██████████| 100/100 [00:05<00:00, 17.43it/s]\n"
     ]
    },
    {
     "name": "stdout",
     "output_type": "stream",
     "text": [
      "  Predicted in 29.59s\n",
      "Saving segmentations...\n",
      "Creating lung_vessels.nii.gz\n",
      "Creating lung_trachea_bronchia.nii.gz\n"
     ]
    },
    {
     "data": {
      "application/vnd.jupyter.widget-view+json": {
       "model_id": "a88e52a617ca4a3ba20f2c2772b5f99e",
       "version_major": 2,
       "version_minor": 0
      },
      "text/plain": [
       "  0%|          | 0/2 [00:00<?, ?it/s]"
      ]
     },
     "metadata": {},
     "output_type": "display_data"
    },
    {
     "name": "stdout",
     "output_type": "stream",
     "text": [
      "  Saved in 0.52s\n",
      "\n",
      "If you use this tool please cite: https://pubs.rsna.org/doi/10.1148/ryai.230024\n",
      "\n",
      "Resampling...\n",
      "  Resampled in 3.69s\n",
      "Predicting...\n"
     ]
    },
    {
     "name": "stderr",
     "output_type": "stream",
     "text": [
      "/ocean/projects/asc170022p/mtragoza/mambaforge/envs/lung-project/lib/python3.10/site-packages/nnunetv2/utilities/plans_handling/plans_handler.py:37: UserWarning: Detected old nnU-Net plans format. Attempting to reconstruct network architecture parameters. If this fails, rerun nnUNetv2_plan_experiment for your dataset. If you use a custom architecture, please downgrade nnU-Net to the version you implemented this or update your implementation + plans.\n",
      "  warnings.warn(\"Detected old nnU-Net plans format. Attempting to reconstruct network architecture \"\n",
      "100%|██████████| 27/27 [00:01<00:00, 21.12it/s]\n"
     ]
    },
    {
     "name": "stdout",
     "output_type": "stream",
     "text": [
      "  Predicted in 10.87s\n"
     ]
    },
    {
     "name": "stderr",
     "output_type": "stream",
     "text": [
      "100%|██████████| 1/1 [00:00<00:00,  5.46it/s]\n",
      "100%|██████████| 1/1 [00:00<00:00,  5.50it/s]\n"
     ]
    },
    {
     "name": "stdout",
     "output_type": "stream",
     "text": [
      "Resampling...\n",
      "Saving segmentations...\n",
      "Creating body_trunc.nii.gz\n",
      "Creating body_extremities.nii.gz\n"
     ]
    },
    {
     "data": {
      "application/vnd.jupyter.widget-view+json": {
       "model_id": "c11534ff130b4df988a5f070933311e6",
       "version_major": 2,
       "version_minor": 0
      },
      "text/plain": [
       "  0%|          | 0/2 [00:00<?, ?it/s]"
      ]
     },
     "metadata": {},
     "output_type": "display_data"
    },
    {
     "name": "stdout",
     "output_type": "stream",
     "text": [
      "  Saved in 410.86s\n",
      "Creating body.nii.gz\n",
      "Creating skin.nii.gz\n",
      "Segmenting Case7Pack phase 0\n",
      "\n",
      "If you use this tool please cite: https://pubs.rsna.org/doi/10.1148/ryai.230024\n",
      "\n",
      "Generating rough body segmentation...\n",
      "Resampling...\n",
      "  Resampled in 0.28s\n",
      "Predicting...\n"
     ]
    },
    {
     "name": "stderr",
     "output_type": "stream",
     "text": [
      "/ocean/projects/asc170022p/mtragoza/mambaforge/envs/lung-project/lib/python3.10/site-packages/nnunetv2/utilities/plans_handling/plans_handler.py:37: UserWarning: Detected old nnU-Net plans format. Attempting to reconstruct network architecture parameters. If this fails, rerun nnUNetv2_plan_experiment for your dataset. If you use a custom architecture, please downgrade nnU-Net to the version you implemented this or update your implementation + plans.\n",
      "  warnings.warn(\"Detected old nnU-Net plans format. Attempting to reconstruct network architecture \"\n",
      "100%|██████████| 1/1 [00:00<00:00, 74.68it/s]\n"
     ]
    },
    {
     "name": "stdout",
     "output_type": "stream",
     "text": [
      "  Predicted in 7.99s\n",
      "Resampling...\n",
      "  cropping from (256, 256, 94) to (235, 162, 85)\n",
      "Resampling...\n",
      "  Resampled in 2.28s\n",
      "Predicting part 1 of 1 ...\n"
     ]
    },
    {
     "name": "stderr",
     "output_type": "stream",
     "text": [
      "100%|██████████| 8/8 [00:00<00:00, 31.90it/s]\n"
     ]
    },
    {
     "name": "stdout",
     "output_type": "stream",
     "text": [
      "  Predicted in 10.02s\n",
      "Resampling...\n",
      "Saving segmentations...\n"
     ]
    },
    {
     "data": {
      "application/vnd.jupyter.widget-view+json": {
       "model_id": "b447900f7f2144e3a198a70568351dce",
       "version_major": 2,
       "version_minor": 0
      },
      "text/plain": [
       "  0%|          | 0/5 [00:00<?, ?it/s]"
      ]
     },
     "metadata": {},
     "output_type": "display_data"
    },
    {
     "name": "stdout",
     "output_type": "stream",
     "text": [
      "  Saved in 30.89s\n",
      "\n",
      "If you use this tool please cite: https://pubs.rsna.org/doi/10.1148/ryai.230024\n",
      "\n",
      "Generating rough body segmentation...\n",
      "Resampling...\n",
      "  Resampled in 0.28s\n",
      "Predicting...\n"
     ]
    },
    {
     "name": "stderr",
     "output_type": "stream",
     "text": [
      "/ocean/projects/asc170022p/mtragoza/mambaforge/envs/lung-project/lib/python3.10/site-packages/nnunetv2/utilities/plans_handling/plans_handler.py:37: UserWarning: Detected old nnU-Net plans format. Attempting to reconstruct network architecture parameters. If this fails, rerun nnUNetv2_plan_experiment for your dataset. If you use a custom architecture, please downgrade nnU-Net to the version you implemented this or update your implementation + plans.\n",
      "  warnings.warn(\"Detected old nnU-Net plans format. Attempting to reconstruct network architecture \"\n",
      "100%|██████████| 1/1 [00:00<00:00, 102.39it/s]\n"
     ]
    },
    {
     "name": "stdout",
     "output_type": "stream",
     "text": [
      "  Predicted in 7.61s\n",
      "Resampling...\n",
      "  cropping from (256, 256, 94) to (235, 162, 85)\n",
      "Predicting...\n"
     ]
    },
    {
     "name": "stderr",
     "output_type": "stream",
     "text": [
      "100%|██████████| 100/100 [00:05<00:00, 17.48it/s]\n"
     ]
    },
    {
     "name": "stdout",
     "output_type": "stream",
     "text": [
      "  Predicted in 31.88s\n",
      "Saving segmentations...\n",
      "Creating lung_vessels.nii.gz\n",
      "\n",
      "Creating lung_trachea_bronchia.nii.gz"
     ]
    },
    {
     "data": {
      "application/vnd.jupyter.widget-view+json": {
       "model_id": "f04f1a55a9ed46e6ad407eae844c6800",
       "version_major": 2,
       "version_minor": 0
      },
      "text/plain": [
       "  0%|          | 0/2 [00:00<?, ?it/s]"
      ]
     },
     "metadata": {},
     "output_type": "display_data"
    },
    {
     "name": "stdout",
     "output_type": "stream",
     "text": [
      "  Saved in 0.53s\n",
      "\n",
      "If you use this tool please cite: https://pubs.rsna.org/doi/10.1148/ryai.230024\n",
      "\n",
      "Resampling...\n",
      "  Resampled in 4.39s\n",
      "Predicting...\n"
     ]
    },
    {
     "name": "stderr",
     "output_type": "stream",
     "text": [
      "/ocean/projects/asc170022p/mtragoza/mambaforge/envs/lung-project/lib/python3.10/site-packages/nnunetv2/utilities/plans_handling/plans_handler.py:37: UserWarning: Detected old nnU-Net plans format. Attempting to reconstruct network architecture parameters. If this fails, rerun nnUNetv2_plan_experiment for your dataset. If you use a custom architecture, please downgrade nnU-Net to the version you implemented this or update your implementation + plans.\n",
      "  warnings.warn(\"Detected old nnU-Net plans format. Attempting to reconstruct network architecture \"\n",
      "100%|██████████| 27/27 [00:01<00:00, 21.31it/s]\n"
     ]
    },
    {
     "name": "stdout",
     "output_type": "stream",
     "text": [
      "  Predicted in 11.32s\n"
     ]
    },
    {
     "name": "stderr",
     "output_type": "stream",
     "text": [
      "100%|██████████| 1/1 [00:00<00:00,  4.84it/s]\n",
      "100%|██████████| 1/1 [00:00<00:00,  4.71it/s]"
     ]
    },
    {
     "name": "stdout",
     "output_type": "stream",
     "text": [
      "Resampling...\n",
      "Saving segmentations...\n"
     ]
    },
    {
     "name": "stderr",
     "output_type": "stream",
     "text": [
      "\n"
     ]
    },
    {
     "name": "stdout",
     "output_type": "stream",
     "text": [
      "Creating body_trunc.nii.gz\n",
      "Creating body_extremities.nii.gz"
     ]
    },
    {
     "data": {
      "application/vnd.jupyter.widget-view+json": {
       "model_id": "9f4b38e4be5940bbba55a84c3b8dbf40",
       "version_major": 2,
       "version_minor": 0
      },
      "text/plain": [
       "  0%|          | 0/2 [00:00<?, ?it/s]"
      ]
     },
     "metadata": {},
     "output_type": "display_data"
    },
    {
     "name": "stdout",
     "output_type": "stream",
     "text": [
      "\n",
      "  Saved in 0.43s\n",
      "Creating body.nii.gz\n",
      "Creating skin.nii.gz\n",
      "Segmenting Case7Pack phase 10\n",
      "\n",
      "If you use this tool please cite: https://pubs.rsna.org/doi/10.1148/ryai.230024\n",
      "\n",
      "Generating rough body segmentation...\n",
      "Resampling...\n",
      "  Resampled in 0.27s\n",
      "Predicting...\n"
     ]
    },
    {
     "name": "stderr",
     "output_type": "stream",
     "text": [
      "/ocean/projects/asc170022p/mtragoza/mambaforge/envs/lung-project/lib/python3.10/site-packages/nnunetv2/utilities/plans_handling/plans_handler.py:37: UserWarning: Detected old nnU-Net plans format. Attempting to reconstruct network architecture parameters. If this fails, rerun nnUNetv2_plan_experiment for your dataset. If you use a custom architecture, please downgrade nnU-Net to the version you implemented this or update your implementation + plans.\n",
      "  warnings.warn(\"Detected old nnU-Net plans format. Attempting to reconstruct network architecture \"\n",
      "100%|██████████| 1/1 [00:00<00:00, 70.54it/s]\n"
     ]
    },
    {
     "name": "stdout",
     "output_type": "stream",
     "text": [
      "  Predicted in 7.62s\n",
      "Resampling...\n",
      "  cropping from (256, 256, 94) to (235, 162, 86)\n",
      "Resampling...\n",
      "  Resampled in 2.31s\n",
      "Predicting part 1 of 1 ...\n"
     ]
    },
    {
     "name": "stderr",
     "output_type": "stream",
     "text": [
      "100%|██████████| 8/8 [00:00<00:00, 32.87it/s]\n"
     ]
    },
    {
     "name": "stdout",
     "output_type": "stream",
     "text": [
      "  Predicted in 10.61s\n",
      "Resampling...\n",
      "Saving segmentations...\n"
     ]
    },
    {
     "data": {
      "application/vnd.jupyter.widget-view+json": {
       "model_id": "ed58ee058b094b2586f7282334437f53",
       "version_major": 2,
       "version_minor": 0
      },
      "text/plain": [
       "  0%|          | 0/5 [00:00<?, ?it/s]"
      ]
     },
     "metadata": {},
     "output_type": "display_data"
    },
    {
     "name": "stdout",
     "output_type": "stream",
     "text": [
      "  Saved in 0.58s\n",
      "\n",
      "If you use this tool please cite: https://pubs.rsna.org/doi/10.1148/ryai.230024\n",
      "\n",
      "Generating rough body segmentation...\n",
      "Resampling...\n",
      "  Resampled in 0.27s\n",
      "Predicting...\n"
     ]
    },
    {
     "name": "stderr",
     "output_type": "stream",
     "text": [
      "/ocean/projects/asc170022p/mtragoza/mambaforge/envs/lung-project/lib/python3.10/site-packages/nnunetv2/utilities/plans_handling/plans_handler.py:37: UserWarning: Detected old nnU-Net plans format. Attempting to reconstruct network architecture parameters. If this fails, rerun nnUNetv2_plan_experiment for your dataset. If you use a custom architecture, please downgrade nnU-Net to the version you implemented this or update your implementation + plans.\n",
      "  warnings.warn(\"Detected old nnU-Net plans format. Attempting to reconstruct network architecture \"\n",
      "100%|██████████| 1/1 [00:00<00:00, 75.62it/s]\n"
     ]
    },
    {
     "name": "stdout",
     "output_type": "stream",
     "text": [
      "  Predicted in 7.60s\n",
      "Resampling...\n",
      "  cropping from (256, 256, 94) to (235, 162, 86)\n",
      "Predicting...\n"
     ]
    },
    {
     "name": "stderr",
     "output_type": "stream",
     "text": [
      "100%|██████████| 100/100 [00:05<00:00, 17.47it/s]\n"
     ]
    },
    {
     "name": "stdout",
     "output_type": "stream",
     "text": [
      "  Predicted in 32.01s\n",
      "Saving segmentations...\n",
      "Creating lung_vessels.nii.gz\n",
      "Creating lung_trachea_bronchia.nii.gz\n"
     ]
    },
    {
     "data": {
      "application/vnd.jupyter.widget-view+json": {
       "model_id": "fee7f9c5640447e1b9009d0fcd27db26",
       "version_major": 2,
       "version_minor": 0
      },
      "text/plain": [
       "  0%|          | 0/2 [00:00<?, ?it/s]"
      ]
     },
     "metadata": {},
     "output_type": "display_data"
    },
    {
     "name": "stdout",
     "output_type": "stream",
     "text": [
      "  Saved in 0.49s\n",
      "\n",
      "If you use this tool please cite: https://pubs.rsna.org/doi/10.1148/ryai.230024\n",
      "\n",
      "Resampling...\n",
      "  Resampled in 4.36s\n",
      "Predicting...\n"
     ]
    },
    {
     "name": "stderr",
     "output_type": "stream",
     "text": [
      "/ocean/projects/asc170022p/mtragoza/mambaforge/envs/lung-project/lib/python3.10/site-packages/nnunetv2/utilities/plans_handling/plans_handler.py:37: UserWarning: Detected old nnU-Net plans format. Attempting to reconstruct network architecture parameters. If this fails, rerun nnUNetv2_plan_experiment for your dataset. If you use a custom architecture, please downgrade nnU-Net to the version you implemented this or update your implementation + plans.\n",
      "  warnings.warn(\"Detected old nnU-Net plans format. Attempting to reconstruct network architecture \"\n",
      "100%|██████████| 27/27 [00:01<00:00, 21.10it/s]\n"
     ]
    },
    {
     "name": "stdout",
     "output_type": "stream",
     "text": [
      "  Predicted in 11.36s\n"
     ]
    },
    {
     "name": "stderr",
     "output_type": "stream",
     "text": [
      "100%|██████████| 1/1 [00:00<00:00,  4.78it/s]\n",
      "100%|██████████| 1/1 [00:00<00:00,  4.51it/s]"
     ]
    },
    {
     "name": "stdout",
     "output_type": "stream",
     "text": [
      "Resampling...\n",
      "Saving segmentations...\n"
     ]
    },
    {
     "name": "stderr",
     "output_type": "stream",
     "text": [
      "\n"
     ]
    },
    {
     "name": "stdout",
     "output_type": "stream",
     "text": [
      "Creating body_trunc.nii.gz\n",
      "Creating body_extremities.nii.gz\n"
     ]
    },
    {
     "data": {
      "application/vnd.jupyter.widget-view+json": {
       "model_id": "c7dc3734ee634f0ab36bde8b4940dfbe",
       "version_major": 2,
       "version_minor": 0
      },
      "text/plain": [
       "  0%|          | 0/2 [00:00<?, ?it/s]"
      ]
     },
     "metadata": {},
     "output_type": "display_data"
    },
    {
     "name": "stdout",
     "output_type": "stream",
     "text": [
      "  Saved in 0.41s\n",
      "Creating body.nii.gz\n",
      "Creating skin.nii.gz\n",
      "Segmenting Case7Pack phase 20\n",
      "\n",
      "If you use this tool please cite: https://pubs.rsna.org/doi/10.1148/ryai.230024\n",
      "\n",
      "Generating rough body segmentation...\n",
      "Resampling...\n",
      "  Resampled in 0.27s\n",
      "Predicting...\n"
     ]
    },
    {
     "name": "stderr",
     "output_type": "stream",
     "text": [
      "/ocean/projects/asc170022p/mtragoza/mambaforge/envs/lung-project/lib/python3.10/site-packages/nnunetv2/utilities/plans_handling/plans_handler.py:37: UserWarning: Detected old nnU-Net plans format. Attempting to reconstruct network architecture parameters. If this fails, rerun nnUNetv2_plan_experiment for your dataset. If you use a custom architecture, please downgrade nnU-Net to the version you implemented this or update your implementation + plans.\n",
      "  warnings.warn(\"Detected old nnU-Net plans format. Attempting to reconstruct network architecture \"\n",
      "100%|██████████| 1/1 [00:00<00:00, 94.87it/s]\n"
     ]
    },
    {
     "name": "stdout",
     "output_type": "stream",
     "text": [
      "  Predicted in 7.59s\n",
      "Resampling...\n",
      "  cropping from (256, 256, 94) to (235, 158, 86)\n",
      "Resampling...\n",
      "  Resampled in 2.26s\n",
      "Predicting part 1 of 1 ...\n"
     ]
    },
    {
     "name": "stderr",
     "output_type": "stream",
     "text": [
      "100%|██████████| 8/8 [00:00<00:00, 32.38it/s]\n"
     ]
    },
    {
     "name": "stdout",
     "output_type": "stream",
     "text": [
      "  Predicted in 10.31s\n",
      "Resampling...\n",
      "Saving segmentations...\n"
     ]
    },
    {
     "data": {
      "application/vnd.jupyter.widget-view+json": {
       "model_id": "022512ffca68480ab25655d520e16587",
       "version_major": 2,
       "version_minor": 0
      },
      "text/plain": [
       "  0%|          | 0/5 [00:00<?, ?it/s]"
      ]
     },
     "metadata": {},
     "output_type": "display_data"
    },
    {
     "name": "stdout",
     "output_type": "stream",
     "text": [
      "  Saved in 0.58s\n",
      "\n",
      "If you use this tool please cite: https://pubs.rsna.org/doi/10.1148/ryai.230024\n",
      "\n",
      "Generating rough body segmentation...\n",
      "Resampling...\n",
      "  Resampled in 0.28s\n",
      "Predicting...\n"
     ]
    },
    {
     "name": "stderr",
     "output_type": "stream",
     "text": [
      "/ocean/projects/asc170022p/mtragoza/mambaforge/envs/lung-project/lib/python3.10/site-packages/nnunetv2/utilities/plans_handling/plans_handler.py:37: UserWarning: Detected old nnU-Net plans format. Attempting to reconstruct network architecture parameters. If this fails, rerun nnUNetv2_plan_experiment for your dataset. If you use a custom architecture, please downgrade nnU-Net to the version you implemented this or update your implementation + plans.\n",
      "  warnings.warn(\"Detected old nnU-Net plans format. Attempting to reconstruct network architecture \"\n",
      "100%|██████████| 1/1 [00:00<00:00, 85.43it/s]\n"
     ]
    },
    {
     "name": "stdout",
     "output_type": "stream",
     "text": [
      "  Predicted in 7.61s\n",
      "Resampling...\n",
      "  cropping from (256, 256, 94) to (235, 158, 86)\n",
      "Predicting...\n"
     ]
    },
    {
     "name": "stderr",
     "output_type": "stream",
     "text": [
      "100%|██████████| 100/100 [00:05<00:00, 17.49it/s]\n"
     ]
    },
    {
     "name": "stdout",
     "output_type": "stream",
     "text": [
      "  Predicted in 31.49s\n",
      "Saving segmentations...\n",
      "Creating lung_vessels.nii.gz\n",
      "Creating lung_trachea_bronchia.nii.gz"
     ]
    },
    {
     "data": {
      "application/vnd.jupyter.widget-view+json": {
       "model_id": "8931adf17cd44563948f8b1473c391ef",
       "version_major": 2,
       "version_minor": 0
      },
      "text/plain": [
       "  0%|          | 0/2 [00:00<?, ?it/s]"
      ]
     },
     "metadata": {},
     "output_type": "display_data"
    },
    {
     "name": "stdout",
     "output_type": "stream",
     "text": [
      "\n",
      "  Saved in 0.52s\n",
      "\n",
      "If you use this tool please cite: https://pubs.rsna.org/doi/10.1148/ryai.230024\n",
      "\n",
      "Resampling...\n",
      "  Resampled in 4.33s\n",
      "Predicting...\n"
     ]
    },
    {
     "name": "stderr",
     "output_type": "stream",
     "text": [
      "/ocean/projects/asc170022p/mtragoza/mambaforge/envs/lung-project/lib/python3.10/site-packages/nnunetv2/utilities/plans_handling/plans_handler.py:37: UserWarning: Detected old nnU-Net plans format. Attempting to reconstruct network architecture parameters. If this fails, rerun nnUNetv2_plan_experiment for your dataset. If you use a custom architecture, please downgrade nnU-Net to the version you implemented this or update your implementation + plans.\n",
      "  warnings.warn(\"Detected old nnU-Net plans format. Attempting to reconstruct network architecture \"\n",
      "100%|██████████| 27/27 [00:01<00:00, 21.23it/s]\n"
     ]
    },
    {
     "name": "stdout",
     "output_type": "stream",
     "text": [
      "  Predicted in 11.23s\n"
     ]
    },
    {
     "name": "stderr",
     "output_type": "stream",
     "text": [
      "100%|██████████| 1/1 [00:00<00:00,  4.83it/s]\n",
      "100%|██████████| 1/1 [00:00<00:00,  4.57it/s]"
     ]
    },
    {
     "name": "stdout",
     "output_type": "stream",
     "text": [
      "Resampling...\n",
      "Saving segmentations...\n"
     ]
    },
    {
     "name": "stderr",
     "output_type": "stream",
     "text": [
      "\n"
     ]
    },
    {
     "name": "stdout",
     "output_type": "stream",
     "text": [
      "Creating body_trunc.nii.gz\n",
      "Creating body_extremities.nii.gz\n"
     ]
    },
    {
     "data": {
      "application/vnd.jupyter.widget-view+json": {
       "model_id": "6bead7b81d0841df898f4c0283947040",
       "version_major": 2,
       "version_minor": 0
      },
      "text/plain": [
       "  0%|          | 0/2 [00:00<?, ?it/s]"
      ]
     },
     "metadata": {},
     "output_type": "display_data"
    },
    {
     "name": "stdout",
     "output_type": "stream",
     "text": [
      "  Saved in 0.40s\n",
      "Creating body.nii.gz\n",
      "Creating skin.nii.gz\n",
      "Segmenting Case7Pack phase 30\n",
      "\n",
      "If you use this tool please cite: https://pubs.rsna.org/doi/10.1148/ryai.230024\n",
      "\n",
      "Generating rough body segmentation...\n",
      "Resampling...\n",
      "  Resampled in 0.27s\n",
      "Predicting...\n"
     ]
    },
    {
     "name": "stderr",
     "output_type": "stream",
     "text": [
      "/ocean/projects/asc170022p/mtragoza/mambaforge/envs/lung-project/lib/python3.10/site-packages/nnunetv2/utilities/plans_handling/plans_handler.py:37: UserWarning: Detected old nnU-Net plans format. Attempting to reconstruct network architecture parameters. If this fails, rerun nnUNetv2_plan_experiment for your dataset. If you use a custom architecture, please downgrade nnU-Net to the version you implemented this or update your implementation + plans.\n",
      "  warnings.warn(\"Detected old nnU-Net plans format. Attempting to reconstruct network architecture \"\n",
      "100%|██████████| 1/1 [00:00<00:00, 90.17it/s]\n"
     ]
    },
    {
     "name": "stdout",
     "output_type": "stream",
     "text": [
      "  Predicted in 7.49s\n",
      "Resampling...\n",
      "  cropping from (256, 256, 94) to (235, 158, 85)\n",
      "Resampling...\n",
      "  Resampled in 2.24s\n",
      "Predicting part 1 of 1 ...\n"
     ]
    },
    {
     "name": "stderr",
     "output_type": "stream",
     "text": [
      "100%|██████████| 8/8 [00:00<00:00, 33.32it/s]\n"
     ]
    },
    {
     "name": "stdout",
     "output_type": "stream",
     "text": [
      "  Predicted in 9.92s\n",
      "Resampling...\n",
      "Saving segmentations...\n"
     ]
    },
    {
     "data": {
      "application/vnd.jupyter.widget-view+json": {
       "model_id": "7ce58966c79845ae850c4a1d0b775646",
       "version_major": 2,
       "version_minor": 0
      },
      "text/plain": [
       "  0%|          | 0/5 [00:00<?, ?it/s]"
      ]
     },
     "metadata": {},
     "output_type": "display_data"
    },
    {
     "name": "stdout",
     "output_type": "stream",
     "text": [
      "  Saved in 0.64s\n",
      "\n",
      "If you use this tool please cite: https://pubs.rsna.org/doi/10.1148/ryai.230024\n",
      "\n",
      "Generating rough body segmentation...\n",
      "Resampling...\n",
      "  Resampled in 0.28s\n",
      "Predicting...\n"
     ]
    },
    {
     "name": "stderr",
     "output_type": "stream",
     "text": [
      "/ocean/projects/asc170022p/mtragoza/mambaforge/envs/lung-project/lib/python3.10/site-packages/nnunetv2/utilities/plans_handling/plans_handler.py:37: UserWarning: Detected old nnU-Net plans format. Attempting to reconstruct network architecture parameters. If this fails, rerun nnUNetv2_plan_experiment for your dataset. If you use a custom architecture, please downgrade nnU-Net to the version you implemented this or update your implementation + plans.\n",
      "  warnings.warn(\"Detected old nnU-Net plans format. Attempting to reconstruct network architecture \"\n",
      "100%|██████████| 1/1 [00:00<00:00, 92.26it/s]\n"
     ]
    },
    {
     "name": "stdout",
     "output_type": "stream",
     "text": [
      "  Predicted in 7.41s\n",
      "Resampling...\n",
      "  cropping from (256, 256, 94) to (235, 158, 85)\n",
      "Predicting...\n"
     ]
    },
    {
     "name": "stderr",
     "output_type": "stream",
     "text": [
      "100%|██████████| 100/100 [00:05<00:00, 17.48it/s]\n"
     ]
    },
    {
     "name": "stdout",
     "output_type": "stream",
     "text": [
      "  Predicted in 31.43s\n",
      "Saving segmentations...\n",
      "Creating lung_vessels.nii.gz\n",
      "Creating lung_trachea_bronchia.nii.gz"
     ]
    },
    {
     "data": {
      "application/vnd.jupyter.widget-view+json": {
       "model_id": "a82623f544444ec792a6eb43b7fcc240",
       "version_major": 2,
       "version_minor": 0
      },
      "text/plain": [
       "  0%|          | 0/2 [00:00<?, ?it/s]"
      ]
     },
     "metadata": {},
     "output_type": "display_data"
    },
    {
     "name": "stdout",
     "output_type": "stream",
     "text": [
      "\n",
      "  Saved in 0.60s\n",
      "\n",
      "If you use this tool please cite: https://pubs.rsna.org/doi/10.1148/ryai.230024\n",
      "\n",
      "Resampling...\n",
      "  Resampled in 4.40s\n",
      "Predicting...\n"
     ]
    },
    {
     "name": "stderr",
     "output_type": "stream",
     "text": [
      "/ocean/projects/asc170022p/mtragoza/mambaforge/envs/lung-project/lib/python3.10/site-packages/nnunetv2/utilities/plans_handling/plans_handler.py:37: UserWarning: Detected old nnU-Net plans format. Attempting to reconstruct network architecture parameters. If this fails, rerun nnUNetv2_plan_experiment for your dataset. If you use a custom architecture, please downgrade nnU-Net to the version you implemented this or update your implementation + plans.\n",
      "  warnings.warn(\"Detected old nnU-Net plans format. Attempting to reconstruct network architecture \"\n",
      "100%|██████████| 27/27 [00:01<00:00, 21.18it/s]\n"
     ]
    },
    {
     "name": "stdout",
     "output_type": "stream",
     "text": [
      "  Predicted in 11.25s\n"
     ]
    },
    {
     "name": "stderr",
     "output_type": "stream",
     "text": [
      "100%|██████████| 1/1 [00:00<00:00,  4.58it/s]\n",
      "100%|██████████| 1/1 [00:00<00:00,  4.55it/s]"
     ]
    },
    {
     "name": "stdout",
     "output_type": "stream",
     "text": [
      "Resampling...\n",
      "Saving segmentations...\n"
     ]
    },
    {
     "name": "stderr",
     "output_type": "stream",
     "text": [
      "\n"
     ]
    },
    {
     "name": "stdout",
     "output_type": "stream",
     "text": [
      "Creating body_trunc.nii.gz\n",
      "Creating body_extremities.nii.gz"
     ]
    },
    {
     "data": {
      "application/vnd.jupyter.widget-view+json": {
       "model_id": "16d2289941054cc3ba4d777715ebc656",
       "version_major": 2,
       "version_minor": 0
      },
      "text/plain": [
       "  0%|          | 0/2 [00:00<?, ?it/s]"
      ]
     },
     "metadata": {},
     "output_type": "display_data"
    },
    {
     "name": "stdout",
     "output_type": "stream",
     "text": [
      "\n",
      "  Saved in 0.38s\n",
      "Creating body.nii.gz\n",
      "Creating skin.nii.gz\n",
      "Segmenting Case7Pack phase 40\n",
      "\n",
      "If you use this tool please cite: https://pubs.rsna.org/doi/10.1148/ryai.230024\n",
      "\n",
      "Generating rough body segmentation...\n",
      "Resampling...\n",
      "  Resampled in 0.28s\n",
      "Predicting...\n"
     ]
    },
    {
     "name": "stderr",
     "output_type": "stream",
     "text": [
      "/ocean/projects/asc170022p/mtragoza/mambaforge/envs/lung-project/lib/python3.10/site-packages/nnunetv2/utilities/plans_handling/plans_handler.py:37: UserWarning: Detected old nnU-Net plans format. Attempting to reconstruct network architecture parameters. If this fails, rerun nnUNetv2_plan_experiment for your dataset. If you use a custom architecture, please downgrade nnU-Net to the version you implemented this or update your implementation + plans.\n",
      "  warnings.warn(\"Detected old nnU-Net plans format. Attempting to reconstruct network architecture \"\n",
      "100%|██████████| 1/1 [00:00<00:00, 94.01it/s]\n"
     ]
    },
    {
     "name": "stdout",
     "output_type": "stream",
     "text": [
      "  Predicted in 7.49s\n",
      "Resampling...\n",
      "  cropping from (256, 256, 94) to (235, 158, 86)\n",
      "Resampling...\n",
      "  Resampled in 2.24s\n",
      "Predicting part 1 of 1 ...\n"
     ]
    },
    {
     "name": "stderr",
     "output_type": "stream",
     "text": [
      "100%|██████████| 8/8 [00:00<00:00, 32.10it/s]\n"
     ]
    },
    {
     "name": "stdout",
     "output_type": "stream",
     "text": [
      "  Predicted in 10.21s\n",
      "Resampling...\n",
      "Saving segmentations...\n"
     ]
    },
    {
     "data": {
      "application/vnd.jupyter.widget-view+json": {
       "model_id": "07dc14895ee04a04be567c3fdf2d1a95",
       "version_major": 2,
       "version_minor": 0
      },
      "text/plain": [
       "  0%|          | 0/5 [00:00<?, ?it/s]"
      ]
     },
     "metadata": {},
     "output_type": "display_data"
    },
    {
     "name": "stdout",
     "output_type": "stream",
     "text": [
      "  Saved in 0.58s\n",
      "\n",
      "If you use this tool please cite: https://pubs.rsna.org/doi/10.1148/ryai.230024\n",
      "\n",
      "Generating rough body segmentation...\n",
      "Resampling...\n",
      "  Resampled in 0.28s\n",
      "Predicting...\n"
     ]
    },
    {
     "name": "stderr",
     "output_type": "stream",
     "text": [
      "/ocean/projects/asc170022p/mtragoza/mambaforge/envs/lung-project/lib/python3.10/site-packages/nnunetv2/utilities/plans_handling/plans_handler.py:37: UserWarning: Detected old nnU-Net plans format. Attempting to reconstruct network architecture parameters. If this fails, rerun nnUNetv2_plan_experiment for your dataset. If you use a custom architecture, please downgrade nnU-Net to the version you implemented this or update your implementation + plans.\n",
      "  warnings.warn(\"Detected old nnU-Net plans format. Attempting to reconstruct network architecture \"\n",
      "100%|██████████| 1/1 [00:00<00:00, 103.52it/s]\n"
     ]
    },
    {
     "name": "stdout",
     "output_type": "stream",
     "text": [
      "  Predicted in 7.59s\n",
      "Resampling...\n",
      "  cropping from (256, 256, 94) to (235, 158, 86)\n",
      "Predicting...\n"
     ]
    },
    {
     "name": "stderr",
     "output_type": "stream",
     "text": [
      "100%|██████████| 100/100 [00:05<00:00, 17.49it/s]\n"
     ]
    },
    {
     "name": "stdout",
     "output_type": "stream",
     "text": [
      "  Predicted in 31.46s\n",
      "Saving segmentations...\n",
      "Creating lung_vessels.nii.gz\n",
      "\n",
      "Creating lung_trachea_bronchia.nii.gz"
     ]
    },
    {
     "data": {
      "application/vnd.jupyter.widget-view+json": {
       "model_id": "cf597d27f855433b88efab729ab96071",
       "version_major": 2,
       "version_minor": 0
      },
      "text/plain": [
       "  0%|          | 0/2 [00:00<?, ?it/s]"
      ]
     },
     "metadata": {},
     "output_type": "display_data"
    },
    {
     "name": "stdout",
     "output_type": "stream",
     "text": [
      "  Saved in 0.50s\n",
      "\n",
      "If you use this tool please cite: https://pubs.rsna.org/doi/10.1148/ryai.230024\n",
      "\n",
      "Resampling...\n",
      "  Resampled in 4.40s\n",
      "Predicting...\n"
     ]
    },
    {
     "name": "stderr",
     "output_type": "stream",
     "text": [
      "/ocean/projects/asc170022p/mtragoza/mambaforge/envs/lung-project/lib/python3.10/site-packages/nnunetv2/utilities/plans_handling/plans_handler.py:37: UserWarning: Detected old nnU-Net plans format. Attempting to reconstruct network architecture parameters. If this fails, rerun nnUNetv2_plan_experiment for your dataset. If you use a custom architecture, please downgrade nnU-Net to the version you implemented this or update your implementation + plans.\n",
      "  warnings.warn(\"Detected old nnU-Net plans format. Attempting to reconstruct network architecture \"\n",
      "100%|██████████| 27/27 [00:01<00:00, 21.10it/s]\n"
     ]
    },
    {
     "name": "stdout",
     "output_type": "stream",
     "text": [
      "  Predicted in 11.31s\n"
     ]
    },
    {
     "name": "stderr",
     "output_type": "stream",
     "text": [
      "100%|██████████| 1/1 [00:00<00:00,  4.54it/s]\n",
      "100%|██████████| 1/1 [00:00<00:00,  4.49it/s]"
     ]
    },
    {
     "name": "stdout",
     "output_type": "stream",
     "text": [
      "Resampling...\n",
      "Saving segmentations...\n"
     ]
    },
    {
     "name": "stderr",
     "output_type": "stream",
     "text": [
      "\n"
     ]
    },
    {
     "name": "stdout",
     "output_type": "stream",
     "text": [
      "Creating body_trunc.nii.gz\n",
      "Creating body_extremities.nii.gz\n"
     ]
    },
    {
     "data": {
      "application/vnd.jupyter.widget-view+json": {
       "model_id": "e78312f2435d4edaa5f956c9f1c17b4a",
       "version_major": 2,
       "version_minor": 0
      },
      "text/plain": [
       "  0%|          | 0/2 [00:00<?, ?it/s]"
      ]
     },
     "metadata": {},
     "output_type": "display_data"
    },
    {
     "name": "stdout",
     "output_type": "stream",
     "text": [
      "  Saved in 0.37s\n",
      "Creating body.nii.gz\n",
      "Creating skin.nii.gz\n",
      "Segmenting Case7Pack phase 50\n",
      "\n",
      "If you use this tool please cite: https://pubs.rsna.org/doi/10.1148/ryai.230024\n",
      "\n",
      "Generating rough body segmentation...\n",
      "Resampling...\n",
      "  Resampled in 0.28s\n",
      "Predicting...\n"
     ]
    },
    {
     "name": "stderr",
     "output_type": "stream",
     "text": [
      "/ocean/projects/asc170022p/mtragoza/mambaforge/envs/lung-project/lib/python3.10/site-packages/nnunetv2/utilities/plans_handling/plans_handler.py:37: UserWarning: Detected old nnU-Net plans format. Attempting to reconstruct network architecture parameters. If this fails, rerun nnUNetv2_plan_experiment for your dataset. If you use a custom architecture, please downgrade nnU-Net to the version you implemented this or update your implementation + plans.\n",
      "  warnings.warn(\"Detected old nnU-Net plans format. Attempting to reconstruct network architecture \"\n",
      "100%|██████████| 1/1 [00:00<00:00, 82.48it/s]\n"
     ]
    },
    {
     "name": "stdout",
     "output_type": "stream",
     "text": [
      "  Predicted in 7.52s\n",
      "Resampling...\n",
      "  cropping from (256, 256, 94) to (235, 158, 86)\n",
      "Resampling...\n",
      "  Resampled in 2.27s\n",
      "Predicting part 1 of 1 ...\n"
     ]
    },
    {
     "name": "stderr",
     "output_type": "stream",
     "text": [
      "100%|██████████| 8/8 [00:00<00:00, 32.31it/s]\n"
     ]
    },
    {
     "name": "stdout",
     "output_type": "stream",
     "text": [
      "  Predicted in 10.27s\n",
      "Resampling...\n",
      "Saving segmentations...\n"
     ]
    },
    {
     "data": {
      "application/vnd.jupyter.widget-view+json": {
       "model_id": "f7a09b5dbe684437826b1ef14d28c48b",
       "version_major": 2,
       "version_minor": 0
      },
      "text/plain": [
       "  0%|          | 0/5 [00:00<?, ?it/s]"
      ]
     },
     "metadata": {},
     "output_type": "display_data"
    },
    {
     "name": "stdout",
     "output_type": "stream",
     "text": [
      "  Saved in 0.69s\n",
      "\n",
      "If you use this tool please cite: https://pubs.rsna.org/doi/10.1148/ryai.230024\n",
      "\n",
      "Generating rough body segmentation...\n",
      "Resampling...\n",
      "  Resampled in 0.28s\n",
      "Predicting...\n"
     ]
    },
    {
     "name": "stderr",
     "output_type": "stream",
     "text": [
      "/ocean/projects/asc170022p/mtragoza/mambaforge/envs/lung-project/lib/python3.10/site-packages/nnunetv2/utilities/plans_handling/plans_handler.py:37: UserWarning: Detected old nnU-Net plans format. Attempting to reconstruct network architecture parameters. If this fails, rerun nnUNetv2_plan_experiment for your dataset. If you use a custom architecture, please downgrade nnU-Net to the version you implemented this or update your implementation + plans.\n",
      "  warnings.warn(\"Detected old nnU-Net plans format. Attempting to reconstruct network architecture \"\n",
      "100%|██████████| 1/1 [00:00<00:00, 109.61it/s]\n"
     ]
    },
    {
     "name": "stdout",
     "output_type": "stream",
     "text": [
      "  Predicted in 8.34s\n",
      "Resampling...\n",
      "  cropping from (256, 256, 94) to (235, 158, 86)\n",
      "Predicting...\n"
     ]
    },
    {
     "name": "stderr",
     "output_type": "stream",
     "text": [
      "100%|██████████| 100/100 [00:05<00:00, 17.47it/s]\n"
     ]
    },
    {
     "name": "stdout",
     "output_type": "stream",
     "text": [
      "  Predicted in 31.66s\n",
      "Saving segmentations...\n",
      "Creating lung_vessels.nii.gz\n",
      "Creating lung_trachea_bronchia.nii.gz\n"
     ]
    },
    {
     "data": {
      "application/vnd.jupyter.widget-view+json": {
       "model_id": "26e6b93a195644e2aafd00b5e23305cb",
       "version_major": 2,
       "version_minor": 0
      },
      "text/plain": [
       "  0%|          | 0/2 [00:00<?, ?it/s]"
      ]
     },
     "metadata": {},
     "output_type": "display_data"
    },
    {
     "name": "stdout",
     "output_type": "stream",
     "text": [
      "  Saved in 0.52s\n",
      "\n",
      "If you use this tool please cite: https://pubs.rsna.org/doi/10.1148/ryai.230024\n",
      "\n",
      "Resampling...\n",
      "  Resampled in 4.37s\n",
      "Predicting...\n"
     ]
    },
    {
     "name": "stderr",
     "output_type": "stream",
     "text": [
      "/ocean/projects/asc170022p/mtragoza/mambaforge/envs/lung-project/lib/python3.10/site-packages/nnunetv2/utilities/plans_handling/plans_handler.py:37: UserWarning: Detected old nnU-Net plans format. Attempting to reconstruct network architecture parameters. If this fails, rerun nnUNetv2_plan_experiment for your dataset. If you use a custom architecture, please downgrade nnU-Net to the version you implemented this or update your implementation + plans.\n",
      "  warnings.warn(\"Detected old nnU-Net plans format. Attempting to reconstruct network architecture \"\n",
      "100%|██████████| 27/27 [00:01<00:00, 21.26it/s]\n"
     ]
    },
    {
     "name": "stdout",
     "output_type": "stream",
     "text": [
      "  Predicted in 11.43s\n"
     ]
    },
    {
     "name": "stderr",
     "output_type": "stream",
     "text": [
      "100%|██████████| 1/1 [00:00<00:00,  4.19it/s]\n",
      "100%|██████████| 1/1 [00:00<00:00,  4.44it/s]"
     ]
    },
    {
     "name": "stdout",
     "output_type": "stream",
     "text": [
      "Resampling...\n",
      "Saving segmentations...\n"
     ]
    },
    {
     "name": "stderr",
     "output_type": "stream",
     "text": [
      "\n"
     ]
    },
    {
     "name": "stdout",
     "output_type": "stream",
     "text": [
      "Creating body_trunc.nii.gz\n",
      "Creating body_extremities.nii.gz"
     ]
    },
    {
     "data": {
      "application/vnd.jupyter.widget-view+json": {
       "model_id": "62039acf33ca43399666883a4ca0240d",
       "version_major": 2,
       "version_minor": 0
      },
      "text/plain": [
       "  0%|          | 0/2 [00:00<?, ?it/s]"
      ]
     },
     "metadata": {},
     "output_type": "display_data"
    },
    {
     "name": "stdout",
     "output_type": "stream",
     "text": [
      "\n",
      "  Saved in 0.39s\n",
      "Creating body.nii.gz\n",
      "Creating skin.nii.gz\n",
      "Segmenting Case7Pack phase 60\n",
      "\n",
      "If you use this tool please cite: https://pubs.rsna.org/doi/10.1148/ryai.230024\n",
      "\n",
      "Generating rough body segmentation...\n",
      "Resampling...\n",
      "  Resampled in 0.27s\n",
      "Predicting...\n"
     ]
    },
    {
     "name": "stderr",
     "output_type": "stream",
     "text": [
      "/ocean/projects/asc170022p/mtragoza/mambaforge/envs/lung-project/lib/python3.10/site-packages/nnunetv2/utilities/plans_handling/plans_handler.py:37: UserWarning: Detected old nnU-Net plans format. Attempting to reconstruct network architecture parameters. If this fails, rerun nnUNetv2_plan_experiment for your dataset. If you use a custom architecture, please downgrade nnU-Net to the version you implemented this or update your implementation + plans.\n",
      "  warnings.warn(\"Detected old nnU-Net plans format. Attempting to reconstruct network architecture \"\n",
      "100%|██████████| 1/1 [00:00<00:00, 76.66it/s]\n"
     ]
    },
    {
     "name": "stdout",
     "output_type": "stream",
     "text": [
      "  Predicted in 7.68s\n",
      "Resampling...\n",
      "  cropping from (256, 256, 94) to (235, 158, 71)\n",
      "Resampling...\n",
      "  Resampled in 1.89s\n",
      "Predicting part 1 of 1 ...\n"
     ]
    },
    {
     "name": "stderr",
     "output_type": "stream",
     "text": [
      "100%|██████████| 8/8 [00:00<00:00, 33.11it/s]\n"
     ]
    },
    {
     "name": "stdout",
     "output_type": "stream",
     "text": [
      "  Predicted in 9.65s\n",
      "Resampling...\n",
      "Saving segmentations...\n"
     ]
    },
    {
     "data": {
      "application/vnd.jupyter.widget-view+json": {
       "model_id": "efeff8440ec4440782aaf349ffbd8d70",
       "version_major": 2,
       "version_minor": 0
      },
      "text/plain": [
       "  0%|          | 0/5 [00:00<?, ?it/s]"
      ]
     },
     "metadata": {},
     "output_type": "display_data"
    },
    {
     "name": "stdout",
     "output_type": "stream",
     "text": [
      "  Saved in 0.59s\n",
      "\n",
      "If you use this tool please cite: https://pubs.rsna.org/doi/10.1148/ryai.230024\n",
      "\n",
      "Generating rough body segmentation...\n",
      "Resampling...\n",
      "  Resampled in 0.28s\n",
      "Predicting...\n"
     ]
    },
    {
     "name": "stderr",
     "output_type": "stream",
     "text": [
      "/ocean/projects/asc170022p/mtragoza/mambaforge/envs/lung-project/lib/python3.10/site-packages/nnunetv2/utilities/plans_handling/plans_handler.py:37: UserWarning: Detected old nnU-Net plans format. Attempting to reconstruct network architecture parameters. If this fails, rerun nnUNetv2_plan_experiment for your dataset. If you use a custom architecture, please downgrade nnU-Net to the version you implemented this or update your implementation + plans.\n",
      "  warnings.warn(\"Detected old nnU-Net plans format. Attempting to reconstruct network architecture \"\n",
      "100%|██████████| 1/1 [00:00<00:00, 95.17it/s]\n"
     ]
    },
    {
     "name": "stdout",
     "output_type": "stream",
     "text": [
      "  Predicted in 7.62s\n",
      "Resampling...\n",
      "  cropping from (256, 256, 94) to (235, 158, 71)\n",
      "Predicting...\n"
     ]
    },
    {
     "name": "stderr",
     "output_type": "stream",
     "text": [
      "100%|██████████| 100/100 [00:05<00:00, 17.45it/s]\n"
     ]
    },
    {
     "name": "stdout",
     "output_type": "stream",
     "text": [
      "  Predicted in 28.52s\n",
      "Saving segmentations...\n",
      "Creating lung_vessels.nii.gz\n",
      "Creating lung_trachea_bronchia.nii.gz\n"
     ]
    },
    {
     "data": {
      "application/vnd.jupyter.widget-view+json": {
       "model_id": "3cccbc75e9ae40829d0110e6f15bf873",
       "version_major": 2,
       "version_minor": 0
      },
      "text/plain": [
       "  0%|          | 0/2 [00:00<?, ?it/s]"
      ]
     },
     "metadata": {},
     "output_type": "display_data"
    },
    {
     "name": "stdout",
     "output_type": "stream",
     "text": [
      "  Saved in 0.51s\n",
      "\n",
      "If you use this tool please cite: https://pubs.rsna.org/doi/10.1148/ryai.230024\n",
      "\n",
      "Resampling...\n",
      "  Resampled in 4.36s\n",
      "Predicting...\n"
     ]
    },
    {
     "name": "stderr",
     "output_type": "stream",
     "text": [
      "/ocean/projects/asc170022p/mtragoza/mambaforge/envs/lung-project/lib/python3.10/site-packages/nnunetv2/utilities/plans_handling/plans_handler.py:37: UserWarning: Detected old nnU-Net plans format. Attempting to reconstruct network architecture parameters. If this fails, rerun nnUNetv2_plan_experiment for your dataset. If you use a custom architecture, please downgrade nnU-Net to the version you implemented this or update your implementation + plans.\n",
      "  warnings.warn(\"Detected old nnU-Net plans format. Attempting to reconstruct network architecture \"\n",
      "100%|██████████| 27/27 [00:01<00:00, 21.17it/s]\n"
     ]
    },
    {
     "name": "stdout",
     "output_type": "stream",
     "text": [
      "  Predicted in 11.22s\n"
     ]
    },
    {
     "name": "stderr",
     "output_type": "stream",
     "text": [
      "100%|██████████| 1/1 [00:00<00:00,  4.85it/s]\n",
      "100%|██████████| 1/1 [00:00<00:00,  4.62it/s]"
     ]
    },
    {
     "name": "stdout",
     "output_type": "stream",
     "text": [
      "Resampling...\n",
      "Saving segmentations...\n"
     ]
    },
    {
     "name": "stderr",
     "output_type": "stream",
     "text": [
      "\n"
     ]
    },
    {
     "name": "stdout",
     "output_type": "stream",
     "text": [
      "Creating body_trunc.nii.gz\n",
      "Creating body_extremities.nii.gz\n"
     ]
    },
    {
     "data": {
      "application/vnd.jupyter.widget-view+json": {
       "model_id": "d5d21cabca6d4f25b2c36b2f86a61fe9",
       "version_major": 2,
       "version_minor": 0
      },
      "text/plain": [
       "  0%|          | 0/2 [00:00<?, ?it/s]"
      ]
     },
     "metadata": {},
     "output_type": "display_data"
    },
    {
     "name": "stdout",
     "output_type": "stream",
     "text": [
      "  Saved in 0.39s\n",
      "Creating body.nii.gz\n",
      "Creating skin.nii.gz\n",
      "Segmenting Case7Pack phase 70\n",
      "\n",
      "If you use this tool please cite: https://pubs.rsna.org/doi/10.1148/ryai.230024\n",
      "\n",
      "Generating rough body segmentation...\n",
      "Resampling...\n",
      "  Resampled in 0.27s\n",
      "Predicting...\n"
     ]
    },
    {
     "name": "stderr",
     "output_type": "stream",
     "text": [
      "/ocean/projects/asc170022p/mtragoza/mambaforge/envs/lung-project/lib/python3.10/site-packages/nnunetv2/utilities/plans_handling/plans_handler.py:37: UserWarning: Detected old nnU-Net plans format. Attempting to reconstruct network architecture parameters. If this fails, rerun nnUNetv2_plan_experiment for your dataset. If you use a custom architecture, please downgrade nnU-Net to the version you implemented this or update your implementation + plans.\n",
      "  warnings.warn(\"Detected old nnU-Net plans format. Attempting to reconstruct network architecture \"\n",
      "100%|██████████| 1/1 [00:00<00:00, 78.94it/s]\n"
     ]
    },
    {
     "name": "stdout",
     "output_type": "stream",
     "text": [
      "  Predicted in 7.65s\n",
      "Resampling...\n",
      "  cropping from (256, 256, 94) to (235, 158, 86)\n",
      "Resampling...\n",
      "  Resampled in 2.24s\n",
      "Predicting part 1 of 1 ...\n"
     ]
    },
    {
     "name": "stderr",
     "output_type": "stream",
     "text": [
      "100%|██████████| 8/8 [00:00<00:00, 31.98it/s]\n"
     ]
    },
    {
     "name": "stdout",
     "output_type": "stream",
     "text": [
      "  Predicted in 10.15s\n",
      "Resampling...\n",
      "Saving segmentations...\n"
     ]
    },
    {
     "data": {
      "application/vnd.jupyter.widget-view+json": {
       "model_id": "285f16ab36fe45c8aaf9b638f8f04728",
       "version_major": 2,
       "version_minor": 0
      },
      "text/plain": [
       "  0%|          | 0/5 [00:00<?, ?it/s]"
      ]
     },
     "metadata": {},
     "output_type": "display_data"
    },
    {
     "name": "stdout",
     "output_type": "stream",
     "text": [
      "  Saved in 0.69s\n",
      "\n",
      "If you use this tool please cite: https://pubs.rsna.org/doi/10.1148/ryai.230024\n",
      "\n",
      "Generating rough body segmentation...\n",
      "Resampling...\n",
      "  Resampled in 0.28s\n",
      "Predicting...\n"
     ]
    },
    {
     "name": "stderr",
     "output_type": "stream",
     "text": [
      "/ocean/projects/asc170022p/mtragoza/mambaforge/envs/lung-project/lib/python3.10/site-packages/nnunetv2/utilities/plans_handling/plans_handler.py:37: UserWarning: Detected old nnU-Net plans format. Attempting to reconstruct network architecture parameters. If this fails, rerun nnUNetv2_plan_experiment for your dataset. If you use a custom architecture, please downgrade nnU-Net to the version you implemented this or update your implementation + plans.\n",
      "  warnings.warn(\"Detected old nnU-Net plans format. Attempting to reconstruct network architecture \"\n",
      "100%|██████████| 1/1 [00:00<00:00, 108.95it/s]\n"
     ]
    },
    {
     "name": "stdout",
     "output_type": "stream",
     "text": [
      "  Predicted in 7.53s\n",
      "Resampling...\n",
      "  cropping from (256, 256, 94) to (235, 158, 86)\n",
      "Predicting...\n"
     ]
    },
    {
     "name": "stderr",
     "output_type": "stream",
     "text": [
      "100%|██████████| 100/100 [00:05<00:00, 17.45it/s]\n"
     ]
    },
    {
     "name": "stdout",
     "output_type": "stream",
     "text": [
      "  Predicted in 31.53s\n",
      "Saving segmentations...\n",
      "Creating lung_vessels.nii.gz\n",
      "Creating lung_trachea_bronchia.nii.gz"
     ]
    },
    {
     "data": {
      "application/vnd.jupyter.widget-view+json": {
       "model_id": "eb04fa39e2b845d4861e03855cb62d56",
       "version_major": 2,
       "version_minor": 0
      },
      "text/plain": [
       "  0%|          | 0/2 [00:00<?, ?it/s]"
      ]
     },
     "metadata": {},
     "output_type": "display_data"
    },
    {
     "name": "stdout",
     "output_type": "stream",
     "text": [
      "\n",
      "  Saved in 0.53s\n",
      "\n",
      "If you use this tool please cite: https://pubs.rsna.org/doi/10.1148/ryai.230024\n",
      "\n",
      "Resampling...\n",
      "  Resampled in 4.39s\n",
      "Predicting...\n"
     ]
    },
    {
     "name": "stderr",
     "output_type": "stream",
     "text": [
      "/ocean/projects/asc170022p/mtragoza/mambaforge/envs/lung-project/lib/python3.10/site-packages/nnunetv2/utilities/plans_handling/plans_handler.py:37: UserWarning: Detected old nnU-Net plans format. Attempting to reconstruct network architecture parameters. If this fails, rerun nnUNetv2_plan_experiment for your dataset. If you use a custom architecture, please downgrade nnU-Net to the version you implemented this or update your implementation + plans.\n",
      "  warnings.warn(\"Detected old nnU-Net plans format. Attempting to reconstruct network architecture \"\n",
      "100%|██████████| 27/27 [00:01<00:00, 21.14it/s]\n"
     ]
    },
    {
     "name": "stdout",
     "output_type": "stream",
     "text": [
      "  Predicted in 11.11s\n"
     ]
    },
    {
     "name": "stderr",
     "output_type": "stream",
     "text": [
      "100%|██████████| 1/1 [00:00<00:00,  4.46it/s]\n",
      "100%|██████████| 1/1 [00:00<00:00,  4.59it/s]"
     ]
    },
    {
     "name": "stdout",
     "output_type": "stream",
     "text": [
      "Resampling...\n",
      "Saving segmentations...\n"
     ]
    },
    {
     "name": "stderr",
     "output_type": "stream",
     "text": [
      "\n"
     ]
    },
    {
     "name": "stdout",
     "output_type": "stream",
     "text": [
      "Creating body_trunc.nii.gz\n",
      "Creating body_extremities.nii.gz\n"
     ]
    },
    {
     "data": {
      "application/vnd.jupyter.widget-view+json": {
       "model_id": "c0e06bdefe4341d2817d2d2242d900d4",
       "version_major": 2,
       "version_minor": 0
      },
      "text/plain": [
       "  0%|          | 0/2 [00:00<?, ?it/s]"
      ]
     },
     "metadata": {},
     "output_type": "display_data"
    },
    {
     "name": "stdout",
     "output_type": "stream",
     "text": [
      "  Saved in 0.56s\n",
      "Creating body.nii.gz\n",
      "Creating skin.nii.gz\n",
      "Segmenting Case7Pack phase 80\n",
      "\n",
      "If you use this tool please cite: https://pubs.rsna.org/doi/10.1148/ryai.230024\n",
      "\n",
      "Generating rough body segmentation...\n",
      "Resampling...\n",
      "  Resampled in 0.29s\n",
      "Predicting...\n"
     ]
    },
    {
     "name": "stderr",
     "output_type": "stream",
     "text": [
      "/ocean/projects/asc170022p/mtragoza/mambaforge/envs/lung-project/lib/python3.10/site-packages/nnunetv2/utilities/plans_handling/plans_handler.py:37: UserWarning: Detected old nnU-Net plans format. Attempting to reconstruct network architecture parameters. If this fails, rerun nnUNetv2_plan_experiment for your dataset. If you use a custom architecture, please downgrade nnU-Net to the version you implemented this or update your implementation + plans.\n",
      "  warnings.warn(\"Detected old nnU-Net plans format. Attempting to reconstruct network architecture \"\n",
      "100%|██████████| 1/1 [00:00<00:00, 76.80it/s]\n"
     ]
    },
    {
     "name": "stdout",
     "output_type": "stream",
     "text": [
      "  Predicted in 7.54s\n",
      "Resampling...\n",
      "  cropping from (256, 256, 94) to (235, 158, 86)\n",
      "Resampling...\n",
      "  Resampled in 2.24s\n",
      "Predicting part 1 of 1 ...\n"
     ]
    },
    {
     "name": "stderr",
     "output_type": "stream",
     "text": [
      "100%|██████████| 8/8 [00:00<00:00, 32.20it/s]\n"
     ]
    },
    {
     "name": "stdout",
     "output_type": "stream",
     "text": [
      "  Predicted in 10.21s\n",
      "Resampling...\n",
      "Saving segmentations...\n"
     ]
    },
    {
     "data": {
      "application/vnd.jupyter.widget-view+json": {
       "model_id": "a8dcc17476ff45998c196b9fc818a195",
       "version_major": 2,
       "version_minor": 0
      },
      "text/plain": [
       "  0%|          | 0/5 [00:00<?, ?it/s]"
      ]
     },
     "metadata": {},
     "output_type": "display_data"
    },
    {
     "name": "stdout",
     "output_type": "stream",
     "text": [
      "  Saved in 0.70s\n",
      "\n",
      "If you use this tool please cite: https://pubs.rsna.org/doi/10.1148/ryai.230024\n",
      "\n",
      "Generating rough body segmentation...\n",
      "Resampling...\n",
      "  Resampled in 0.28s\n",
      "Predicting...\n"
     ]
    },
    {
     "name": "stderr",
     "output_type": "stream",
     "text": [
      "/ocean/projects/asc170022p/mtragoza/mambaforge/envs/lung-project/lib/python3.10/site-packages/nnunetv2/utilities/plans_handling/plans_handler.py:37: UserWarning: Detected old nnU-Net plans format. Attempting to reconstruct network architecture parameters. If this fails, rerun nnUNetv2_plan_experiment for your dataset. If you use a custom architecture, please downgrade nnU-Net to the version you implemented this or update your implementation + plans.\n",
      "  warnings.warn(\"Detected old nnU-Net plans format. Attempting to reconstruct network architecture \"\n",
      "100%|██████████| 1/1 [00:00<00:00, 84.79it/s]\n"
     ]
    },
    {
     "name": "stdout",
     "output_type": "stream",
     "text": [
      "  Predicted in 7.45s\n",
      "Resampling...\n",
      "  cropping from (256, 256, 94) to (235, 158, 86)\n",
      "Predicting...\n"
     ]
    },
    {
     "name": "stderr",
     "output_type": "stream",
     "text": [
      "100%|██████████| 100/100 [00:05<00:00, 17.47it/s]\n"
     ]
    },
    {
     "name": "stdout",
     "output_type": "stream",
     "text": [
      "  Predicted in 31.45s\n",
      "Saving segmentations...\n",
      "Creating lung_vessels.nii.gz\n",
      "Creating lung_trachea_bronchia.nii.gz\n"
     ]
    },
    {
     "data": {
      "application/vnd.jupyter.widget-view+json": {
       "model_id": "9665c6eec242481a96e119253288824b",
       "version_major": 2,
       "version_minor": 0
      },
      "text/plain": [
       "  0%|          | 0/2 [00:00<?, ?it/s]"
      ]
     },
     "metadata": {},
     "output_type": "display_data"
    },
    {
     "name": "stdout",
     "output_type": "stream",
     "text": [
      "  Saved in 0.52s\n",
      "\n",
      "If you use this tool please cite: https://pubs.rsna.org/doi/10.1148/ryai.230024\n",
      "\n",
      "Resampling...\n",
      "  Resampled in 4.35s\n",
      "Predicting...\n"
     ]
    },
    {
     "name": "stderr",
     "output_type": "stream",
     "text": [
      "/ocean/projects/asc170022p/mtragoza/mambaforge/envs/lung-project/lib/python3.10/site-packages/nnunetv2/utilities/plans_handling/plans_handler.py:37: UserWarning: Detected old nnU-Net plans format. Attempting to reconstruct network architecture parameters. If this fails, rerun nnUNetv2_plan_experiment for your dataset. If you use a custom architecture, please downgrade nnU-Net to the version you implemented this or update your implementation + plans.\n",
      "  warnings.warn(\"Detected old nnU-Net plans format. Attempting to reconstruct network architecture \"\n",
      "100%|██████████| 27/27 [00:01<00:00, 21.11it/s]\n"
     ]
    },
    {
     "name": "stdout",
     "output_type": "stream",
     "text": [
      "  Predicted in 11.36s\n"
     ]
    },
    {
     "name": "stderr",
     "output_type": "stream",
     "text": [
      "100%|██████████| 1/1 [00:00<00:00,  4.75it/s]\n",
      "100%|██████████| 1/1 [00:00<00:00,  4.44it/s]"
     ]
    },
    {
     "name": "stdout",
     "output_type": "stream",
     "text": [
      "Resampling...\n",
      "Saving segmentations...\n"
     ]
    },
    {
     "name": "stderr",
     "output_type": "stream",
     "text": [
      "\n"
     ]
    },
    {
     "name": "stdout",
     "output_type": "stream",
     "text": [
      "Creating body_trunc.nii.gz\n",
      "Creating body_extremities.nii.gz\n"
     ]
    },
    {
     "data": {
      "application/vnd.jupyter.widget-view+json": {
       "model_id": "1219bd0533b248f29251a8366e0c4957",
       "version_major": 2,
       "version_minor": 0
      },
      "text/plain": [
       "  0%|          | 0/2 [00:00<?, ?it/s]"
      ]
     },
     "metadata": {},
     "output_type": "display_data"
    },
    {
     "name": "stdout",
     "output_type": "stream",
     "text": [
      "  Saved in 0.43s\n",
      "Creating body.nii.gz\n",
      "Creating skin.nii.gz\n",
      "Segmenting Case7Pack phase 90\n",
      "\n",
      "If you use this tool please cite: https://pubs.rsna.org/doi/10.1148/ryai.230024\n",
      "\n",
      "Generating rough body segmentation...\n",
      "Resampling...\n",
      "  Resampled in 0.29s\n",
      "Predicting...\n"
     ]
    },
    {
     "name": "stderr",
     "output_type": "stream",
     "text": [
      "/ocean/projects/asc170022p/mtragoza/mambaforge/envs/lung-project/lib/python3.10/site-packages/nnunetv2/utilities/plans_handling/plans_handler.py:37: UserWarning: Detected old nnU-Net plans format. Attempting to reconstruct network architecture parameters. If this fails, rerun nnUNetv2_plan_experiment for your dataset. If you use a custom architecture, please downgrade nnU-Net to the version you implemented this or update your implementation + plans.\n",
      "  warnings.warn(\"Detected old nnU-Net plans format. Attempting to reconstruct network architecture \"\n",
      "100%|██████████| 1/1 [00:00<00:00, 101.42it/s]\n"
     ]
    },
    {
     "name": "stdout",
     "output_type": "stream",
     "text": [
      "  Predicted in 7.50s\n",
      "Resampling...\n",
      "  cropping from (256, 256, 94) to (235, 162, 86)\n",
      "Resampling...\n",
      "  Resampled in 2.30s\n",
      "Predicting part 1 of 1 ...\n"
     ]
    },
    {
     "name": "stderr",
     "output_type": "stream",
     "text": [
      "100%|██████████| 8/8 [00:00<00:00, 32.20it/s]\n"
     ]
    },
    {
     "name": "stdout",
     "output_type": "stream",
     "text": [
      "  Predicted in 10.46s\n",
      "Resampling...\n",
      "Saving segmentations...\n"
     ]
    },
    {
     "data": {
      "application/vnd.jupyter.widget-view+json": {
       "model_id": "7df9b40dee534c7db545ee79afa19172",
       "version_major": 2,
       "version_minor": 0
      },
      "text/plain": [
       "  0%|          | 0/5 [00:00<?, ?it/s]"
      ]
     },
     "metadata": {},
     "output_type": "display_data"
    },
    {
     "name": "stdout",
     "output_type": "stream",
     "text": [
      "  Saved in 0.60s\n",
      "\n",
      "If you use this tool please cite: https://pubs.rsna.org/doi/10.1148/ryai.230024\n",
      "\n",
      "Generating rough body segmentation...\n",
      "Resampling...\n",
      "  Resampled in 0.28s\n",
      "Predicting...\n"
     ]
    },
    {
     "name": "stderr",
     "output_type": "stream",
     "text": [
      "/ocean/projects/asc170022p/mtragoza/mambaforge/envs/lung-project/lib/python3.10/site-packages/nnunetv2/utilities/plans_handling/plans_handler.py:37: UserWarning: Detected old nnU-Net plans format. Attempting to reconstruct network architecture parameters. If this fails, rerun nnUNetv2_plan_experiment for your dataset. If you use a custom architecture, please downgrade nnU-Net to the version you implemented this or update your implementation + plans.\n",
      "  warnings.warn(\"Detected old nnU-Net plans format. Attempting to reconstruct network architecture \"\n",
      "100%|██████████| 1/1 [00:00<00:00, 93.11it/s]\n"
     ]
    },
    {
     "name": "stdout",
     "output_type": "stream",
     "text": [
      "  Predicted in 7.52s\n",
      "Resampling...\n",
      "  cropping from (256, 256, 94) to (235, 162, 86)\n",
      "Predicting...\n"
     ]
    },
    {
     "name": "stderr",
     "output_type": "stream",
     "text": [
      "100%|██████████| 100/100 [00:05<00:00, 17.46it/s]\n"
     ]
    },
    {
     "name": "stdout",
     "output_type": "stream",
     "text": [
      "  Predicted in 31.81s\n",
      "Saving segmentations...\n",
      "Creating lung_vessels.nii.gz\n",
      "Creating lung_trachea_bronchia.nii.gz\n"
     ]
    },
    {
     "data": {
      "application/vnd.jupyter.widget-view+json": {
       "model_id": "a6cf9bf5e2cd4e3d866edaa85694afcf",
       "version_major": 2,
       "version_minor": 0
      },
      "text/plain": [
       "  0%|          | 0/2 [00:00<?, ?it/s]"
      ]
     },
     "metadata": {},
     "output_type": "display_data"
    },
    {
     "name": "stdout",
     "output_type": "stream",
     "text": [
      "  Saved in 0.61s\n",
      "\n",
      "If you use this tool please cite: https://pubs.rsna.org/doi/10.1148/ryai.230024\n",
      "\n",
      "Resampling...\n",
      "  Resampled in 4.37s\n",
      "Predicting...\n"
     ]
    },
    {
     "name": "stderr",
     "output_type": "stream",
     "text": [
      "/ocean/projects/asc170022p/mtragoza/mambaforge/envs/lung-project/lib/python3.10/site-packages/nnunetv2/utilities/plans_handling/plans_handler.py:37: UserWarning: Detected old nnU-Net plans format. Attempting to reconstruct network architecture parameters. If this fails, rerun nnUNetv2_plan_experiment for your dataset. If you use a custom architecture, please downgrade nnU-Net to the version you implemented this or update your implementation + plans.\n",
      "  warnings.warn(\"Detected old nnU-Net plans format. Attempting to reconstruct network architecture \"\n",
      "100%|██████████| 27/27 [00:01<00:00, 21.11it/s]\n"
     ]
    },
    {
     "name": "stdout",
     "output_type": "stream",
     "text": [
      "  Predicted in 11.40s\n"
     ]
    },
    {
     "name": "stderr",
     "output_type": "stream",
     "text": [
      "100%|██████████| 1/1 [00:00<00:00,  4.59it/s]\n",
      "100%|██████████| 1/1 [00:00<00:00,  4.57it/s]"
     ]
    },
    {
     "name": "stdout",
     "output_type": "stream",
     "text": [
      "Resampling...\n",
      "Saving segmentations...\n"
     ]
    },
    {
     "name": "stderr",
     "output_type": "stream",
     "text": [
      "\n"
     ]
    },
    {
     "name": "stdout",
     "output_type": "stream",
     "text": [
      "Creating body_trunc.nii.gz\n",
      "Creating body_extremities.nii.gz\n"
     ]
    },
    {
     "data": {
      "application/vnd.jupyter.widget-view+json": {
       "model_id": "69974b66436f4a50979e810b21950c85",
       "version_major": 2,
       "version_minor": 0
      },
      "text/plain": [
       "  0%|          | 0/2 [00:00<?, ?it/s]"
      ]
     },
     "metadata": {},
     "output_type": "display_data"
    },
    {
     "name": "stdout",
     "output_type": "stream",
     "text": [
      "  Saved in 0.37s\n",
      "Creating body.nii.gz\n",
      "Creating skin.nii.gz\n",
      "Segmenting Case8Deploy phase 0\n",
      "\n",
      "If you use this tool please cite: https://pubs.rsna.org/doi/10.1148/ryai.230024\n",
      "\n",
      "Generating rough body segmentation...\n",
      "Resampling...\n",
      "  Resampled in 0.27s\n",
      "Predicting...\n"
     ]
    },
    {
     "name": "stderr",
     "output_type": "stream",
     "text": [
      "/ocean/projects/asc170022p/mtragoza/mambaforge/envs/lung-project/lib/python3.10/site-packages/nnunetv2/utilities/plans_handling/plans_handler.py:37: UserWarning: Detected old nnU-Net plans format. Attempting to reconstruct network architecture parameters. If this fails, rerun nnUNetv2_plan_experiment for your dataset. If you use a custom architecture, please downgrade nnU-Net to the version you implemented this or update your implementation + plans.\n",
      "  warnings.warn(\"Detected old nnU-Net plans format. Attempting to reconstruct network architecture \"\n",
      "100%|██████████| 1/1 [00:00<00:00, 89.03it/s]\n"
     ]
    },
    {
     "name": "stdout",
     "output_type": "stream",
     "text": [
      "  Predicted in 7.56s\n",
      "Resampling...\n",
      "  cropping from (256, 256, 94) to (240, 189, 82)\n",
      "Resampling...\n",
      "  Resampled in 2.19s\n",
      "Predicting part 1 of 1 ...\n"
     ]
    },
    {
     "name": "stderr",
     "output_type": "stream",
     "text": [
      "100%|██████████| 8/8 [00:00<00:00, 32.15it/s]\n"
     ]
    },
    {
     "name": "stdout",
     "output_type": "stream",
     "text": [
      "  Predicted in 10.22s\n",
      "Resampling...\n",
      "Saving segmentations...\n"
     ]
    },
    {
     "data": {
      "application/vnd.jupyter.widget-view+json": {
       "model_id": "0f52a9defeef41a9a4b567a39ba8d803",
       "version_major": 2,
       "version_minor": 0
      },
      "text/plain": [
       "  0%|          | 0/5 [00:00<?, ?it/s]"
      ]
     },
     "metadata": {},
     "output_type": "display_data"
    },
    {
     "name": "stdout",
     "output_type": "stream",
     "text": [
      "  Saved in 0.63s\n",
      "\n",
      "If you use this tool please cite: https://pubs.rsna.org/doi/10.1148/ryai.230024\n",
      "\n",
      "Generating rough body segmentation...\n",
      "Resampling...\n",
      "  Resampled in 0.27s\n",
      "Predicting...\n"
     ]
    },
    {
     "name": "stderr",
     "output_type": "stream",
     "text": [
      "/ocean/projects/asc170022p/mtragoza/mambaforge/envs/lung-project/lib/python3.10/site-packages/nnunetv2/utilities/plans_handling/plans_handler.py:37: UserWarning: Detected old nnU-Net plans format. Attempting to reconstruct network architecture parameters. If this fails, rerun nnUNetv2_plan_experiment for your dataset. If you use a custom architecture, please downgrade nnU-Net to the version you implemented this or update your implementation + plans.\n",
      "  warnings.warn(\"Detected old nnU-Net plans format. Attempting to reconstruct network architecture \"\n",
      "100%|██████████| 1/1 [00:00<00:00, 83.69it/s]\n"
     ]
    },
    {
     "name": "stdout",
     "output_type": "stream",
     "text": [
      "  Predicted in 7.29s\n",
      "Resampling...\n",
      "  cropping from (256, 256, 94) to (240, 189, 82)\n",
      "Predicting...\n"
     ]
    },
    {
     "name": "stderr",
     "output_type": "stream",
     "text": [
      "100%|██████████| 100/100 [00:05<00:00, 17.45it/s]\n"
     ]
    },
    {
     "name": "stdout",
     "output_type": "stream",
     "text": [
      "  Predicted in 31.31s\n",
      "Saving segmentations...\n",
      "Creating lung_vessels.nii.gz\n",
      "Creating lung_trachea_bronchia.nii.gz\n"
     ]
    },
    {
     "data": {
      "application/vnd.jupyter.widget-view+json": {
       "model_id": "59f702d850eb481ea5df72108bc44710",
       "version_major": 2,
       "version_minor": 0
      },
      "text/plain": [
       "  0%|          | 0/2 [00:00<?, ?it/s]"
      ]
     },
     "metadata": {},
     "output_type": "display_data"
    },
    {
     "name": "stdout",
     "output_type": "stream",
     "text": [
      "  Saved in 0.47s\n",
      "\n",
      "If you use this tool please cite: https://pubs.rsna.org/doi/10.1148/ryai.230024\n",
      "\n",
      "Resampling...\n",
      "  Resampled in 3.72s\n",
      "Predicting...\n"
     ]
    },
    {
     "name": "stderr",
     "output_type": "stream",
     "text": [
      "/ocean/projects/asc170022p/mtragoza/mambaforge/envs/lung-project/lib/python3.10/site-packages/nnunetv2/utilities/plans_handling/plans_handler.py:37: UserWarning: Detected old nnU-Net plans format. Attempting to reconstruct network architecture parameters. If this fails, rerun nnUNetv2_plan_experiment for your dataset. If you use a custom architecture, please downgrade nnU-Net to the version you implemented this or update your implementation + plans.\n",
      "  warnings.warn(\"Detected old nnU-Net plans format. Attempting to reconstruct network architecture \"\n",
      "100%|██████████| 27/27 [00:01<00:00, 21.10it/s]\n"
     ]
    },
    {
     "name": "stdout",
     "output_type": "stream",
     "text": [
      "  Predicted in 11.00s\n"
     ]
    },
    {
     "name": "stderr",
     "output_type": "stream",
     "text": [
      "100%|██████████| 1/1 [00:00<00:00,  5.17it/s]\n",
      "100%|██████████| 1/1 [00:00<00:00,  5.61it/s]\n"
     ]
    },
    {
     "name": "stdout",
     "output_type": "stream",
     "text": [
      "Resampling...\n",
      "Saving segmentations...\n",
      "Creating body_trunc.nii.gz\n",
      "Creating body_extremities.nii.gz\n"
     ]
    },
    {
     "data": {
      "application/vnd.jupyter.widget-view+json": {
       "model_id": "ad2758b3e6004586b45e4db023501d24",
       "version_major": 2,
       "version_minor": 0
      },
      "text/plain": [
       "  0%|          | 0/2 [00:00<?, ?it/s]"
      ]
     },
     "metadata": {},
     "output_type": "display_data"
    },
    {
     "name": "stdout",
     "output_type": "stream",
     "text": [
      "  Saved in 0.39s\n",
      "Creating body.nii.gz\n",
      "Creating skin.nii.gz\n",
      "Segmenting Case8Deploy phase 10\n",
      "\n",
      "If you use this tool please cite: https://pubs.rsna.org/doi/10.1148/ryai.230024\n",
      "\n",
      "Generating rough body segmentation...\n",
      "Resampling...\n",
      "  Resampled in 0.27s\n",
      "Predicting...\n"
     ]
    },
    {
     "name": "stderr",
     "output_type": "stream",
     "text": [
      "/ocean/projects/asc170022p/mtragoza/mambaforge/envs/lung-project/lib/python3.10/site-packages/nnunetv2/utilities/plans_handling/plans_handler.py:37: UserWarning: Detected old nnU-Net plans format. Attempting to reconstruct network architecture parameters. If this fails, rerun nnUNetv2_plan_experiment for your dataset. If you use a custom architecture, please downgrade nnU-Net to the version you implemented this or update your implementation + plans.\n",
      "  warnings.warn(\"Detected old nnU-Net plans format. Attempting to reconstruct network architecture \"\n",
      "100%|██████████| 1/1 [00:00<00:00, 95.58it/s]\n"
     ]
    },
    {
     "name": "stdout",
     "output_type": "stream",
     "text": [
      "  Predicted in 7.51s\n",
      "Resampling...\n",
      "  cropping from (256, 256, 94) to (235, 189, 82)\n",
      "Resampling...\n",
      "  Resampled in 2.15s\n",
      "Predicting part 1 of 1 ...\n"
     ]
    },
    {
     "name": "stderr",
     "output_type": "stream",
     "text": [
      "100%|██████████| 8/8 [00:00<00:00, 32.42it/s]\n"
     ]
    },
    {
     "name": "stdout",
     "output_type": "stream",
     "text": [
      "  Predicted in 10.04s\n",
      "Resampling...\n",
      "Saving segmentations...\n"
     ]
    },
    {
     "data": {
      "application/vnd.jupyter.widget-view+json": {
       "model_id": "e3d7e3eaa93e483599903b1f9ec99f95",
       "version_major": 2,
       "version_minor": 0
      },
      "text/plain": [
       "  0%|          | 0/5 [00:00<?, ?it/s]"
      ]
     },
     "metadata": {},
     "output_type": "display_data"
    },
    {
     "name": "stdout",
     "output_type": "stream",
     "text": [
      "  Saved in 2.64s\n",
      "\n",
      "If you use this tool please cite: https://pubs.rsna.org/doi/10.1148/ryai.230024\n",
      "\n",
      "Generating rough body segmentation...\n",
      "Resampling...\n",
      "  Resampled in 0.27s\n",
      "Predicting...\n"
     ]
    },
    {
     "name": "stderr",
     "output_type": "stream",
     "text": [
      "/ocean/projects/asc170022p/mtragoza/mambaforge/envs/lung-project/lib/python3.10/site-packages/nnunetv2/utilities/plans_handling/plans_handler.py:37: UserWarning: Detected old nnU-Net plans format. Attempting to reconstruct network architecture parameters. If this fails, rerun nnUNetv2_plan_experiment for your dataset. If you use a custom architecture, please downgrade nnU-Net to the version you implemented this or update your implementation + plans.\n",
      "  warnings.warn(\"Detected old nnU-Net plans format. Attempting to reconstruct network architecture \"\n",
      "100%|██████████| 1/1 [00:00<00:00, 78.62it/s]\n"
     ]
    },
    {
     "name": "stdout",
     "output_type": "stream",
     "text": [
      "  Predicted in 7.51s\n",
      "Resampling...\n",
      "  cropping from (256, 256, 94) to (235, 189, 82)\n",
      "Predicting...\n"
     ]
    },
    {
     "name": "stderr",
     "output_type": "stream",
     "text": [
      "100%|██████████| 100/100 [00:05<00:00, 17.45it/s]\n"
     ]
    },
    {
     "name": "stdout",
     "output_type": "stream",
     "text": [
      "  Predicted in 30.88s\n",
      "Saving segmentations...\n",
      "Creating lung_vessels.nii.gz\n",
      "Creating lung_trachea_bronchia.nii.gz\n"
     ]
    },
    {
     "data": {
      "application/vnd.jupyter.widget-view+json": {
       "model_id": "3f024a4f861f4d8aaa247bae598184da",
       "version_major": 2,
       "version_minor": 0
      },
      "text/plain": [
       "  0%|          | 0/2 [00:00<?, ?it/s]"
      ]
     },
     "metadata": {},
     "output_type": "display_data"
    },
    {
     "name": "stdout",
     "output_type": "stream",
     "text": [
      "  Saved in 0.48s\n",
      "\n",
      "If you use this tool please cite: https://pubs.rsna.org/doi/10.1148/ryai.230024\n",
      "\n",
      "Resampling...\n",
      "  Resampled in 3.70s\n",
      "Predicting...\n"
     ]
    },
    {
     "name": "stderr",
     "output_type": "stream",
     "text": [
      "/ocean/projects/asc170022p/mtragoza/mambaforge/envs/lung-project/lib/python3.10/site-packages/nnunetv2/utilities/plans_handling/plans_handler.py:37: UserWarning: Detected old nnU-Net plans format. Attempting to reconstruct network architecture parameters. If this fails, rerun nnUNetv2_plan_experiment for your dataset. If you use a custom architecture, please downgrade nnU-Net to the version you implemented this or update your implementation + plans.\n",
      "  warnings.warn(\"Detected old nnU-Net plans format. Attempting to reconstruct network architecture \"\n",
      "100%|██████████| 27/27 [00:01<00:00, 21.06it/s]\n"
     ]
    },
    {
     "name": "stdout",
     "output_type": "stream",
     "text": [
      "  Predicted in 11.27s\n"
     ]
    },
    {
     "name": "stderr",
     "output_type": "stream",
     "text": [
      "100%|██████████| 1/1 [00:00<00:00,  4.99it/s]\n",
      "100%|██████████| 1/1 [00:00<00:00,  5.43it/s]\n"
     ]
    },
    {
     "name": "stdout",
     "output_type": "stream",
     "text": [
      "Resampling...\n",
      "Saving segmentations...\n",
      "Creating body_trunc.nii.gz\n",
      "Creating body_extremities.nii.gz\n"
     ]
    },
    {
     "data": {
      "application/vnd.jupyter.widget-view+json": {
       "model_id": "230e095757c84bc2b4bf7083955d5917",
       "version_major": 2,
       "version_minor": 0
      },
      "text/plain": [
       "  0%|          | 0/2 [00:00<?, ?it/s]"
      ]
     },
     "metadata": {},
     "output_type": "display_data"
    },
    {
     "name": "stdout",
     "output_type": "stream",
     "text": [
      "  Saved in 0.39s\n",
      "Creating body.nii.gz\n",
      "Creating skin.nii.gz\n",
      "Segmenting Case8Deploy phase 20\n",
      "\n",
      "If you use this tool please cite: https://pubs.rsna.org/doi/10.1148/ryai.230024\n",
      "\n",
      "Generating rough body segmentation...\n",
      "Resampling...\n",
      "  Resampled in 0.27s\n",
      "Predicting...\n"
     ]
    },
    {
     "name": "stderr",
     "output_type": "stream",
     "text": [
      "/ocean/projects/asc170022p/mtragoza/mambaforge/envs/lung-project/lib/python3.10/site-packages/nnunetv2/utilities/plans_handling/plans_handler.py:37: UserWarning: Detected old nnU-Net plans format. Attempting to reconstruct network architecture parameters. If this fails, rerun nnUNetv2_plan_experiment for your dataset. If you use a custom architecture, please downgrade nnU-Net to the version you implemented this or update your implementation + plans.\n",
      "  warnings.warn(\"Detected old nnU-Net plans format. Attempting to reconstruct network architecture \"\n",
      "100%|██████████| 1/1 [00:00<00:00, 91.17it/s]\n"
     ]
    },
    {
     "name": "stdout",
     "output_type": "stream",
     "text": [
      "  Predicted in 7.46s\n",
      "Resampling...\n",
      "  cropping from (256, 256, 94) to (235, 185, 83)\n",
      "Resampling...\n",
      "  Resampled in 2.14s\n",
      "Predicting part 1 of 1 ...\n"
     ]
    },
    {
     "name": "stderr",
     "output_type": "stream",
     "text": [
      "100%|██████████| 8/8 [00:00<00:00, 33.41it/s]\n"
     ]
    },
    {
     "name": "stdout",
     "output_type": "stream",
     "text": [
      "  Predicted in 10.14s\n",
      "Resampling...\n",
      "Saving segmentations...\n"
     ]
    },
    {
     "data": {
      "application/vnd.jupyter.widget-view+json": {
       "model_id": "fa82ec3b25434c73b49b7e4596d97c34",
       "version_major": 2,
       "version_minor": 0
      },
      "text/plain": [
       "  0%|          | 0/5 [00:00<?, ?it/s]"
      ]
     },
     "metadata": {},
     "output_type": "display_data"
    },
    {
     "name": "stdout",
     "output_type": "stream",
     "text": [
      "  Saved in 17.52s\n",
      "\n",
      "If you use this tool please cite: https://pubs.rsna.org/doi/10.1148/ryai.230024\n",
      "\n",
      "Generating rough body segmentation...\n",
      "Resampling...\n",
      "  Resampled in 0.27s\n",
      "Predicting...\n"
     ]
    },
    {
     "name": "stderr",
     "output_type": "stream",
     "text": [
      "/ocean/projects/asc170022p/mtragoza/mambaforge/envs/lung-project/lib/python3.10/site-packages/nnunetv2/utilities/plans_handling/plans_handler.py:37: UserWarning: Detected old nnU-Net plans format. Attempting to reconstruct network architecture parameters. If this fails, rerun nnUNetv2_plan_experiment for your dataset. If you use a custom architecture, please downgrade nnU-Net to the version you implemented this or update your implementation + plans.\n",
      "  warnings.warn(\"Detected old nnU-Net plans format. Attempting to reconstruct network architecture \"\n",
      "100%|██████████| 1/1 [00:00<00:00, 108.25it/s]\n"
     ]
    },
    {
     "name": "stdout",
     "output_type": "stream",
     "text": [
      "  Predicted in 7.66s\n",
      "Resampling...\n",
      "  cropping from (256, 256, 94) to (235, 185, 83)\n",
      "Predicting...\n"
     ]
    },
    {
     "name": "stderr",
     "output_type": "stream",
     "text": [
      "100%|██████████| 100/100 [00:05<00:00, 17.45it/s]\n"
     ]
    },
    {
     "name": "stdout",
     "output_type": "stream",
     "text": [
      "  Predicted in 30.83s\n",
      "Saving segmentations...\n",
      "Creating lung_vessels.nii.gz\n",
      "Creating lung_trachea_bronchia.nii.gz\n"
     ]
    },
    {
     "data": {
      "application/vnd.jupyter.widget-view+json": {
       "model_id": "df549b9d199c458087f71331f583675e",
       "version_major": 2,
       "version_minor": 0
      },
      "text/plain": [
       "  0%|          | 0/2 [00:00<?, ?it/s]"
      ]
     },
     "metadata": {},
     "output_type": "display_data"
    },
    {
     "name": "stdout",
     "output_type": "stream",
     "text": [
      "  Saved in 1.85s\n",
      "\n",
      "If you use this tool please cite: https://pubs.rsna.org/doi/10.1148/ryai.230024\n",
      "\n",
      "Resampling...\n",
      "  Resampled in 3.70s\n",
      "Predicting...\n"
     ]
    },
    {
     "name": "stderr",
     "output_type": "stream",
     "text": [
      "/ocean/projects/asc170022p/mtragoza/mambaforge/envs/lung-project/lib/python3.10/site-packages/nnunetv2/utilities/plans_handling/plans_handler.py:37: UserWarning: Detected old nnU-Net plans format. Attempting to reconstruct network architecture parameters. If this fails, rerun nnUNetv2_plan_experiment for your dataset. If you use a custom architecture, please downgrade nnU-Net to the version you implemented this or update your implementation + plans.\n",
      "  warnings.warn(\"Detected old nnU-Net plans format. Attempting to reconstruct network architecture \"\n",
      "100%|██████████| 27/27 [00:01<00:00, 21.10it/s]\n"
     ]
    },
    {
     "name": "stdout",
     "output_type": "stream",
     "text": [
      "  Predicted in 10.91s\n"
     ]
    },
    {
     "name": "stderr",
     "output_type": "stream",
     "text": [
      "100%|██████████| 1/1 [00:00<00:00,  5.41it/s]\n",
      "100%|██████████| 1/1 [00:00<00:00,  5.45it/s]\n"
     ]
    },
    {
     "name": "stdout",
     "output_type": "stream",
     "text": [
      "Resampling...\n",
      "Saving segmentations...\n",
      "Creating body_trunc.nii.gz\n",
      "Creating body_extremities.nii.gz\n"
     ]
    },
    {
     "data": {
      "application/vnd.jupyter.widget-view+json": {
       "model_id": "47fb293bcb6a4b5b93a45c184cfdd31c",
       "version_major": 2,
       "version_minor": 0
      },
      "text/plain": [
       "  0%|          | 0/2 [00:00<?, ?it/s]"
      ]
     },
     "metadata": {},
     "output_type": "display_data"
    },
    {
     "name": "stdout",
     "output_type": "stream",
     "text": [
      "  Saved in 0.38s\n",
      "Creating body.nii.gz\n",
      "Creating skin.nii.gz\n",
      "Segmenting Case8Deploy phase 30\n",
      "\n",
      "If you use this tool please cite: https://pubs.rsna.org/doi/10.1148/ryai.230024\n",
      "\n",
      "Generating rough body segmentation...\n",
      "Resampling...\n",
      "  Resampled in 0.27s\n",
      "Predicting...\n"
     ]
    },
    {
     "name": "stderr",
     "output_type": "stream",
     "text": [
      "/ocean/projects/asc170022p/mtragoza/mambaforge/envs/lung-project/lib/python3.10/site-packages/nnunetv2/utilities/plans_handling/plans_handler.py:37: UserWarning: Detected old nnU-Net plans format. Attempting to reconstruct network architecture parameters. If this fails, rerun nnUNetv2_plan_experiment for your dataset. If you use a custom architecture, please downgrade nnU-Net to the version you implemented this or update your implementation + plans.\n",
      "  warnings.warn(\"Detected old nnU-Net plans format. Attempting to reconstruct network architecture \"\n",
      "100%|██████████| 1/1 [00:00<00:00, 69.95it/s]\n"
     ]
    },
    {
     "name": "stdout",
     "output_type": "stream",
     "text": [
      "  Predicted in 7.46s\n",
      "Resampling...\n",
      "  cropping from (256, 256, 94) to (235, 185, 83)\n",
      "Resampling...\n",
      "  Resampled in 2.14s\n",
      "Predicting part 1 of 1 ...\n"
     ]
    },
    {
     "name": "stderr",
     "output_type": "stream",
     "text": [
      "100%|██████████| 8/8 [00:00<00:00, 32.91it/s]\n"
     ]
    },
    {
     "name": "stdout",
     "output_type": "stream",
     "text": [
      "  Predicted in 10.15s\n",
      "Resampling...\n",
      "Saving segmentations...\n"
     ]
    },
    {
     "data": {
      "application/vnd.jupyter.widget-view+json": {
       "model_id": "d7d5999abd6b446490fb8e25c01420e0",
       "version_major": 2,
       "version_minor": 0
      },
      "text/plain": [
       "  0%|          | 0/5 [00:00<?, ?it/s]"
      ]
     },
     "metadata": {},
     "output_type": "display_data"
    },
    {
     "name": "stdout",
     "output_type": "stream",
     "text": [
      "  Saved in 0.59s\n",
      "\n",
      "If you use this tool please cite: https://pubs.rsna.org/doi/10.1148/ryai.230024\n",
      "\n",
      "Generating rough body segmentation...\n",
      "Resampling...\n",
      "  Resampled in 0.27s\n",
      "Predicting...\n"
     ]
    },
    {
     "name": "stderr",
     "output_type": "stream",
     "text": [
      "/ocean/projects/asc170022p/mtragoza/mambaforge/envs/lung-project/lib/python3.10/site-packages/nnunetv2/utilities/plans_handling/plans_handler.py:37: UserWarning: Detected old nnU-Net plans format. Attempting to reconstruct network architecture parameters. If this fails, rerun nnUNetv2_plan_experiment for your dataset. If you use a custom architecture, please downgrade nnU-Net to the version you implemented this or update your implementation + plans.\n",
      "  warnings.warn(\"Detected old nnU-Net plans format. Attempting to reconstruct network architecture \"\n",
      "100%|██████████| 1/1 [00:00<00:00, 102.29it/s]\n"
     ]
    },
    {
     "name": "stdout",
     "output_type": "stream",
     "text": [
      "  Predicted in 7.69s\n",
      "Resampling...\n",
      "  cropping from (256, 256, 94) to (235, 185, 83)\n",
      "Predicting...\n"
     ]
    },
    {
     "name": "stderr",
     "output_type": "stream",
     "text": [
      "100%|██████████| 100/100 [00:05<00:00, 17.47it/s]\n"
     ]
    },
    {
     "name": "stdout",
     "output_type": "stream",
     "text": [
      "  Predicted in 30.69s\n",
      "Saving segmentations...\n",
      "Creating lung_vessels.nii.gz\n",
      "Creating lung_trachea_bronchia.nii.gz\n"
     ]
    },
    {
     "data": {
      "application/vnd.jupyter.widget-view+json": {
       "model_id": "aba443a2460b49648affb2907f2a3835",
       "version_major": 2,
       "version_minor": 0
      },
      "text/plain": [
       "  0%|          | 0/2 [00:00<?, ?it/s]"
      ]
     },
     "metadata": {},
     "output_type": "display_data"
    },
    {
     "name": "stdout",
     "output_type": "stream",
     "text": [
      "  Saved in 0.54s\n",
      "\n",
      "If you use this tool please cite: https://pubs.rsna.org/doi/10.1148/ryai.230024\n",
      "\n",
      "Resampling...\n",
      "  Resampled in 3.71s\n",
      "Predicting...\n"
     ]
    },
    {
     "name": "stderr",
     "output_type": "stream",
     "text": [
      "/ocean/projects/asc170022p/mtragoza/mambaforge/envs/lung-project/lib/python3.10/site-packages/nnunetv2/utilities/plans_handling/plans_handler.py:37: UserWarning: Detected old nnU-Net plans format. Attempting to reconstruct network architecture parameters. If this fails, rerun nnUNetv2_plan_experiment for your dataset. If you use a custom architecture, please downgrade nnU-Net to the version you implemented this or update your implementation + plans.\n",
      "  warnings.warn(\"Detected old nnU-Net plans format. Attempting to reconstruct network architecture \"\n",
      "100%|██████████| 27/27 [00:01<00:00, 21.25it/s]\n"
     ]
    },
    {
     "name": "stdout",
     "output_type": "stream",
     "text": [
      "  Predicted in 10.94s\n"
     ]
    },
    {
     "name": "stderr",
     "output_type": "stream",
     "text": [
      "100%|██████████| 1/1 [00:00<00:00,  5.32it/s]\n",
      "100%|██████████| 1/1 [00:00<00:00,  5.43it/s]\n"
     ]
    },
    {
     "name": "stdout",
     "output_type": "stream",
     "text": [
      "Resampling...\n",
      "Saving segmentations...\n",
      "Creating body_trunc.nii.gz\n",
      "Creating body_extremities.nii.gz\n"
     ]
    },
    {
     "data": {
      "application/vnd.jupyter.widget-view+json": {
       "model_id": "375fbcc6f56442d7923ac893c140b3ea",
       "version_major": 2,
       "version_minor": 0
      },
      "text/plain": [
       "  0%|          | 0/2 [00:00<?, ?it/s]"
      ]
     },
     "metadata": {},
     "output_type": "display_data"
    },
    {
     "name": "stdout",
     "output_type": "stream",
     "text": [
      "  Saved in 0.36s\n",
      "Creating body.nii.gz\n",
      "Creating skin.nii.gz\n",
      "Segmenting Case8Deploy phase 40\n",
      "\n",
      "If you use this tool please cite: https://pubs.rsna.org/doi/10.1148/ryai.230024\n",
      "\n",
      "Generating rough body segmentation...\n",
      "Resampling...\n",
      "  Resampled in 0.27s\n",
      "Predicting...\n"
     ]
    },
    {
     "name": "stderr",
     "output_type": "stream",
     "text": [
      "/ocean/projects/asc170022p/mtragoza/mambaforge/envs/lung-project/lib/python3.10/site-packages/nnunetv2/utilities/plans_handling/plans_handler.py:37: UserWarning: Detected old nnU-Net plans format. Attempting to reconstruct network architecture parameters. If this fails, rerun nnUNetv2_plan_experiment for your dataset. If you use a custom architecture, please downgrade nnU-Net to the version you implemented this or update your implementation + plans.\n",
      "  warnings.warn(\"Detected old nnU-Net plans format. Attempting to reconstruct network architecture \"\n",
      "100%|██████████| 1/1 [00:00<00:00, 75.81it/s]\n"
     ]
    },
    {
     "name": "stdout",
     "output_type": "stream",
     "text": [
      "  Predicted in 7.54s\n",
      "Resampling...\n",
      "  cropping from (256, 256, 94) to (230, 185, 78)\n",
      "Resampling...\n",
      "  Resampled in 1.96s\n",
      "Predicting part 1 of 1 ...\n"
     ]
    },
    {
     "name": "stderr",
     "output_type": "stream",
     "text": [
      "100%|██████████| 8/8 [00:00<00:00, 32.69it/s]\n"
     ]
    },
    {
     "name": "stdout",
     "output_type": "stream",
     "text": [
      "  Predicted in 9.99s\n",
      "Resampling...\n",
      "Saving segmentations...\n"
     ]
    },
    {
     "data": {
      "application/vnd.jupyter.widget-view+json": {
       "model_id": "2ff93b56ecb24664bd8d6e983b101245",
       "version_major": 2,
       "version_minor": 0
      },
      "text/plain": [
       "  0%|          | 0/5 [00:00<?, ?it/s]"
      ]
     },
     "metadata": {},
     "output_type": "display_data"
    },
    {
     "name": "stdout",
     "output_type": "stream",
     "text": [
      "  Saved in 0.59s\n",
      "\n",
      "If you use this tool please cite: https://pubs.rsna.org/doi/10.1148/ryai.230024\n",
      "\n",
      "Generating rough body segmentation...\n",
      "Resampling...\n",
      "  Resampled in 0.27s\n",
      "Predicting...\n"
     ]
    },
    {
     "name": "stderr",
     "output_type": "stream",
     "text": [
      "/ocean/projects/asc170022p/mtragoza/mambaforge/envs/lung-project/lib/python3.10/site-packages/nnunetv2/utilities/plans_handling/plans_handler.py:37: UserWarning: Detected old nnU-Net plans format. Attempting to reconstruct network architecture parameters. If this fails, rerun nnUNetv2_plan_experiment for your dataset. If you use a custom architecture, please downgrade nnU-Net to the version you implemented this or update your implementation + plans.\n",
      "  warnings.warn(\"Detected old nnU-Net plans format. Attempting to reconstruct network architecture \"\n",
      "100%|██████████| 1/1 [00:00<00:00, 107.65it/s]\n"
     ]
    },
    {
     "name": "stdout",
     "output_type": "stream",
     "text": [
      "  Predicted in 7.67s\n",
      "Resampling...\n",
      "  cropping from (256, 256, 94) to (230, 185, 78)\n",
      "Predicting...\n"
     ]
    },
    {
     "name": "stderr",
     "output_type": "stream",
     "text": [
      "100%|██████████| 100/100 [00:05<00:00, 17.47it/s]\n"
     ]
    },
    {
     "name": "stdout",
     "output_type": "stream",
     "text": [
      "  Predicted in 29.17s\n",
      "Saving segmentations...\n",
      "Creating lung_vessels.nii.gz"
     ]
    },
    {
     "data": {
      "application/vnd.jupyter.widget-view+json": {
       "model_id": "25c27e631cd2470e8f1d71216ea3eaa9",
       "version_major": 2,
       "version_minor": 0
      },
      "text/plain": [
       "  0%|          | 0/2 [00:00<?, ?it/s]"
      ]
     },
     "metadata": {},
     "output_type": "display_data"
    },
    {
     "name": "stdout",
     "output_type": "stream",
     "text": [
      "\n",
      "Creating lung_trachea_bronchia.nii.gz\n",
      "  Saved in 0.48s\n",
      "\n",
      "If you use this tool please cite: https://pubs.rsna.org/doi/10.1148/ryai.230024\n",
      "\n",
      "Resampling...\n",
      "  Resampled in 3.67s\n",
      "Predicting...\n"
     ]
    },
    {
     "name": "stderr",
     "output_type": "stream",
     "text": [
      "/ocean/projects/asc170022p/mtragoza/mambaforge/envs/lung-project/lib/python3.10/site-packages/nnunetv2/utilities/plans_handling/plans_handler.py:37: UserWarning: Detected old nnU-Net plans format. Attempting to reconstruct network architecture parameters. If this fails, rerun nnUNetv2_plan_experiment for your dataset. If you use a custom architecture, please downgrade nnU-Net to the version you implemented this or update your implementation + plans.\n",
      "  warnings.warn(\"Detected old nnU-Net plans format. Attempting to reconstruct network architecture \"\n",
      "100%|██████████| 27/27 [00:01<00:00, 21.17it/s]\n"
     ]
    },
    {
     "name": "stdout",
     "output_type": "stream",
     "text": [
      "  Predicted in 11.01s\n"
     ]
    },
    {
     "name": "stderr",
     "output_type": "stream",
     "text": [
      "100%|██████████| 1/1 [00:00<00:00,  5.36it/s]\n",
      "100%|██████████| 1/1 [00:00<00:00,  5.38it/s]\n"
     ]
    },
    {
     "name": "stdout",
     "output_type": "stream",
     "text": [
      "Resampling...\n",
      "Saving segmentations...\n",
      "Creating body_trunc.nii.gz\n",
      "Creating body_extremities.nii.gz\n"
     ]
    },
    {
     "data": {
      "application/vnd.jupyter.widget-view+json": {
       "model_id": "2386a75356664682bba503cecda45705",
       "version_major": 2,
       "version_minor": 0
      },
      "text/plain": [
       "  0%|          | 0/2 [00:00<?, ?it/s]"
      ]
     },
     "metadata": {},
     "output_type": "display_data"
    },
    {
     "name": "stdout",
     "output_type": "stream",
     "text": [
      "  Saved in 0.40s\n",
      "Creating body.nii.gz\n",
      "Creating skin.nii.gz\n",
      "Segmenting Case8Deploy phase 50\n",
      "\n",
      "If you use this tool please cite: https://pubs.rsna.org/doi/10.1148/ryai.230024\n",
      "\n",
      "Generating rough body segmentation...\n",
      "Resampling...\n",
      "  Resampled in 0.27s\n",
      "Predicting...\n"
     ]
    },
    {
     "name": "stderr",
     "output_type": "stream",
     "text": [
      "/ocean/projects/asc170022p/mtragoza/mambaforge/envs/lung-project/lib/python3.10/site-packages/nnunetv2/utilities/plans_handling/plans_handler.py:37: UserWarning: Detected old nnU-Net plans format. Attempting to reconstruct network architecture parameters. If this fails, rerun nnUNetv2_plan_experiment for your dataset. If you use a custom architecture, please downgrade nnU-Net to the version you implemented this or update your implementation + plans.\n",
      "  warnings.warn(\"Detected old nnU-Net plans format. Attempting to reconstruct network architecture \"\n",
      "100%|██████████| 1/1 [00:00<00:00, 102.04it/s]\n"
     ]
    },
    {
     "name": "stdout",
     "output_type": "stream",
     "text": [
      "  Predicted in 7.50s\n",
      "Resampling...\n",
      "  cropping from (256, 256, 94) to (230, 185, 83)\n",
      "Resampling...\n",
      "  Resampled in 2.09s\n",
      "Predicting part 1 of 1 ...\n"
     ]
    },
    {
     "name": "stderr",
     "output_type": "stream",
     "text": [
      "100%|██████████| 8/8 [00:00<00:00, 33.30it/s]\n"
     ]
    },
    {
     "name": "stdout",
     "output_type": "stream",
     "text": [
      "  Predicted in 10.13s\n",
      "Resampling...\n",
      "Saving segmentations...\n"
     ]
    },
    {
     "data": {
      "application/vnd.jupyter.widget-view+json": {
       "model_id": "b23c336e3ed4439eab06426d79d758ee",
       "version_major": 2,
       "version_minor": 0
      },
      "text/plain": [
       "  0%|          | 0/5 [00:00<?, ?it/s]"
      ]
     },
     "metadata": {},
     "output_type": "display_data"
    },
    {
     "name": "stdout",
     "output_type": "stream",
     "text": [
      "  Saved in 0.59s\n",
      "\n",
      "If you use this tool please cite: https://pubs.rsna.org/doi/10.1148/ryai.230024\n",
      "\n",
      "Generating rough body segmentation...\n",
      "Resampling...\n",
      "  Resampled in 0.27s\n",
      "Predicting...\n"
     ]
    },
    {
     "name": "stderr",
     "output_type": "stream",
     "text": [
      "/ocean/projects/asc170022p/mtragoza/mambaforge/envs/lung-project/lib/python3.10/site-packages/nnunetv2/utilities/plans_handling/plans_handler.py:37: UserWarning: Detected old nnU-Net plans format. Attempting to reconstruct network architecture parameters. If this fails, rerun nnUNetv2_plan_experiment for your dataset. If you use a custom architecture, please downgrade nnU-Net to the version you implemented this or update your implementation + plans.\n",
      "  warnings.warn(\"Detected old nnU-Net plans format. Attempting to reconstruct network architecture \"\n",
      "100%|██████████| 1/1 [00:00<00:00, 81.92it/s]\n"
     ]
    },
    {
     "name": "stdout",
     "output_type": "stream",
     "text": [
      "  Predicted in 7.54s\n",
      "Resampling...\n",
      "  cropping from (256, 256, 94) to (230, 185, 83)\n",
      "Predicting...\n"
     ]
    },
    {
     "name": "stderr",
     "output_type": "stream",
     "text": [
      "100%|██████████| 100/100 [00:05<00:00, 17.49it/s]\n"
     ]
    },
    {
     "name": "stdout",
     "output_type": "stream",
     "text": [
      "  Predicted in 30.37s\n",
      "Saving segmentations...\n",
      "Creating lung_vessels.nii.gz\n",
      "\n",
      "Creating lung_trachea_bronchia.nii.gz"
     ]
    },
    {
     "data": {
      "application/vnd.jupyter.widget-view+json": {
       "model_id": "d2074f7776b94a6f8961eb8df689eb68",
       "version_major": 2,
       "version_minor": 0
      },
      "text/plain": [
       "  0%|          | 0/2 [00:00<?, ?it/s]"
      ]
     },
     "metadata": {},
     "output_type": "display_data"
    },
    {
     "name": "stdout",
     "output_type": "stream",
     "text": [
      "  Saved in 82.24s\n",
      "\n",
      "If you use this tool please cite: https://pubs.rsna.org/doi/10.1148/ryai.230024\n",
      "\n",
      "Resampling...\n",
      "  Resampled in 3.71s\n",
      "Predicting...\n"
     ]
    },
    {
     "name": "stderr",
     "output_type": "stream",
     "text": [
      "/ocean/projects/asc170022p/mtragoza/mambaforge/envs/lung-project/lib/python3.10/site-packages/nnunetv2/utilities/plans_handling/plans_handler.py:37: UserWarning: Detected old nnU-Net plans format. Attempting to reconstruct network architecture parameters. If this fails, rerun nnUNetv2_plan_experiment for your dataset. If you use a custom architecture, please downgrade nnU-Net to the version you implemented this or update your implementation + plans.\n",
      "  warnings.warn(\"Detected old nnU-Net plans format. Attempting to reconstruct network architecture \"\n",
      "100%|██████████| 27/27 [00:01<00:00, 21.13it/s]\n"
     ]
    },
    {
     "name": "stdout",
     "output_type": "stream",
     "text": [
      "  Predicted in 10.98s\n"
     ]
    },
    {
     "name": "stderr",
     "output_type": "stream",
     "text": [
      "100%|██████████| 1/1 [00:00<00:00,  4.82it/s]\n",
      "100%|██████████| 1/1 [00:00<00:00,  5.60it/s]\n"
     ]
    },
    {
     "name": "stdout",
     "output_type": "stream",
     "text": [
      "Resampling...\n",
      "Saving segmentations...\n",
      "Creating body_trunc.nii.gz\n",
      "Creating body_extremities.nii.gz\n"
     ]
    },
    {
     "data": {
      "application/vnd.jupyter.widget-view+json": {
       "model_id": "2c50a08bd80740f9b68e716d79267e1c",
       "version_major": 2,
       "version_minor": 0
      },
      "text/plain": [
       "  0%|          | 0/2 [00:00<?, ?it/s]"
      ]
     },
     "metadata": {},
     "output_type": "display_data"
    },
    {
     "name": "stdout",
     "output_type": "stream",
     "text": [
      "  Saved in 0.35s\n",
      "Creating body.nii.gz\n",
      "Creating skin.nii.gz\n",
      "Segmenting Case8Deploy phase 60\n",
      "\n",
      "If you use this tool please cite: https://pubs.rsna.org/doi/10.1148/ryai.230024\n",
      "\n",
      "Generating rough body segmentation...\n",
      "Resampling...\n",
      "  Resampled in 0.27s\n",
      "Predicting...\n"
     ]
    },
    {
     "name": "stderr",
     "output_type": "stream",
     "text": [
      "/ocean/projects/asc170022p/mtragoza/mambaforge/envs/lung-project/lib/python3.10/site-packages/nnunetv2/utilities/plans_handling/plans_handler.py:37: UserWarning: Detected old nnU-Net plans format. Attempting to reconstruct network architecture parameters. If this fails, rerun nnUNetv2_plan_experiment for your dataset. If you use a custom architecture, please downgrade nnU-Net to the version you implemented this or update your implementation + plans.\n",
      "  warnings.warn(\"Detected old nnU-Net plans format. Attempting to reconstruct network architecture \"\n",
      "100%|██████████| 1/1 [00:01<00:00,  1.13s/it]\n"
     ]
    },
    {
     "name": "stdout",
     "output_type": "stream",
     "text": [
      "  Predicted in 11.42s\n",
      "Resampling...\n",
      "  cropping from (256, 256, 94) to (230, 185, 82)\n",
      "Resampling...\n",
      "  Resampled in 2.07s\n",
      "Predicting part 1 of 1 ...\n"
     ]
    },
    {
     "name": "stderr",
     "output_type": "stream",
     "text": [
      "100%|██████████| 8/8 [00:00<00:00, 29.24it/s]\n"
     ]
    },
    {
     "name": "stdout",
     "output_type": "stream",
     "text": [
      "  Predicted in 10.09s\n",
      "Resampling...\n",
      "Saving segmentations...\n"
     ]
    },
    {
     "data": {
      "application/vnd.jupyter.widget-view+json": {
       "model_id": "6228331ea8dc4c25a8a220bd30c81780",
       "version_major": 2,
       "version_minor": 0
      },
      "text/plain": [
       "  0%|          | 0/5 [00:00<?, ?it/s]"
      ]
     },
     "metadata": {},
     "output_type": "display_data"
    },
    {
     "name": "stdout",
     "output_type": "stream",
     "text": [
      "  Saved in 0.59s\n",
      "\n",
      "If you use this tool please cite: https://pubs.rsna.org/doi/10.1148/ryai.230024\n",
      "\n",
      "Generating rough body segmentation...\n",
      "Resampling...\n",
      "  Resampled in 0.27s\n",
      "Predicting...\n"
     ]
    },
    {
     "name": "stderr",
     "output_type": "stream",
     "text": [
      "/ocean/projects/asc170022p/mtragoza/mambaforge/envs/lung-project/lib/python3.10/site-packages/nnunetv2/utilities/plans_handling/plans_handler.py:37: UserWarning: Detected old nnU-Net plans format. Attempting to reconstruct network architecture parameters. If this fails, rerun nnUNetv2_plan_experiment for your dataset. If you use a custom architecture, please downgrade nnU-Net to the version you implemented this or update your implementation + plans.\n",
      "  warnings.warn(\"Detected old nnU-Net plans format. Attempting to reconstruct network architecture \"\n",
      "100%|██████████| 1/1 [00:00<00:00, 89.74it/s]\n"
     ]
    },
    {
     "name": "stdout",
     "output_type": "stream",
     "text": [
      "  Predicted in 7.53s\n",
      "Resampling...\n",
      "  cropping from (256, 256, 94) to (230, 185, 82)\n",
      "Predicting...\n"
     ]
    },
    {
     "name": "stderr",
     "output_type": "stream",
     "text": [
      "100%|██████████| 100/100 [00:05<00:00, 17.49it/s]\n"
     ]
    },
    {
     "name": "stdout",
     "output_type": "stream",
     "text": [
      "  Predicted in 30.37s\n",
      "Saving segmentations...\n"
     ]
    },
    {
     "data": {
      "application/vnd.jupyter.widget-view+json": {
       "model_id": "9cf2ab3456aa484f8ab269b145c0aafa",
       "version_major": 2,
       "version_minor": 0
      },
      "text/plain": [
       "  0%|          | 0/2 [00:00<?, ?it/s]"
      ]
     },
     "metadata": {},
     "output_type": "display_data"
    },
    {
     "name": "stdout",
     "output_type": "stream",
     "text": [
      "Creating lung_vessels.nii.gzCreating lung_trachea_bronchia.nii.gz\n",
      "\n",
      "  Saved in 0.53s\n",
      "\n",
      "If you use this tool please cite: https://pubs.rsna.org/doi/10.1148/ryai.230024\n",
      "\n",
      "Resampling...\n",
      "  Resampled in 3.73s\n",
      "Predicting...\n"
     ]
    },
    {
     "name": "stderr",
     "output_type": "stream",
     "text": [
      "/ocean/projects/asc170022p/mtragoza/mambaforge/envs/lung-project/lib/python3.10/site-packages/nnunetv2/utilities/plans_handling/plans_handler.py:37: UserWarning: Detected old nnU-Net plans format. Attempting to reconstruct network architecture parameters. If this fails, rerun nnUNetv2_plan_experiment for your dataset. If you use a custom architecture, please downgrade nnU-Net to the version you implemented this or update your implementation + plans.\n",
      "  warnings.warn(\"Detected old nnU-Net plans format. Attempting to reconstruct network architecture \"\n",
      "100%|██████████| 27/27 [00:01<00:00, 21.28it/s]\n"
     ]
    },
    {
     "name": "stdout",
     "output_type": "stream",
     "text": [
      "  Predicted in 10.88s\n"
     ]
    },
    {
     "name": "stderr",
     "output_type": "stream",
     "text": [
      "100%|██████████| 1/1 [00:00<00:00,  5.37it/s]\n",
      "100%|██████████| 1/1 [00:00<00:00,  6.20it/s]\n"
     ]
    },
    {
     "name": "stdout",
     "output_type": "stream",
     "text": [
      "Resampling...\n",
      "Saving segmentations...\n",
      "Creating body_trunc.nii.gz\n",
      "Creating body_extremities.nii.gz"
     ]
    },
    {
     "data": {
      "application/vnd.jupyter.widget-view+json": {
       "model_id": "4d992eb01f0d42be8414d7e41a1f7544",
       "version_major": 2,
       "version_minor": 0
      },
      "text/plain": [
       "  0%|          | 0/2 [00:00<?, ?it/s]"
      ]
     },
     "metadata": {},
     "output_type": "display_data"
    },
    {
     "name": "stdout",
     "output_type": "stream",
     "text": [
      "\n",
      "  Saved in 0.44s\n",
      "Creating body.nii.gz\n",
      "Creating skin.nii.gz\n",
      "Segmenting Case8Deploy phase 70\n",
      "\n",
      "If you use this tool please cite: https://pubs.rsna.org/doi/10.1148/ryai.230024\n",
      "\n",
      "Generating rough body segmentation...\n",
      "Resampling...\n",
      "  Resampled in 0.27s\n",
      "Predicting...\n"
     ]
    },
    {
     "name": "stderr",
     "output_type": "stream",
     "text": [
      "/ocean/projects/asc170022p/mtragoza/mambaforge/envs/lung-project/lib/python3.10/site-packages/nnunetv2/utilities/plans_handling/plans_handler.py:37: UserWarning: Detected old nnU-Net plans format. Attempting to reconstruct network architecture parameters. If this fails, rerun nnUNetv2_plan_experiment for your dataset. If you use a custom architecture, please downgrade nnU-Net to the version you implemented this or update your implementation + plans.\n",
      "  warnings.warn(\"Detected old nnU-Net plans format. Attempting to reconstruct network architecture \"\n",
      "100%|██████████| 1/1 [00:00<00:00, 108.86it/s]\n"
     ]
    },
    {
     "name": "stdout",
     "output_type": "stream",
     "text": [
      "  Predicted in 7.66s\n",
      "Resampling...\n",
      "  cropping from (256, 256, 94) to (230, 185, 75)\n",
      "Resampling...\n",
      "  Resampled in 1.90s\n",
      "Predicting part 1 of 1 ...\n"
     ]
    },
    {
     "name": "stderr",
     "output_type": "stream",
     "text": [
      "100%|██████████| 8/8 [00:00<00:00, 32.79it/s]\n"
     ]
    },
    {
     "name": "stdout",
     "output_type": "stream",
     "text": [
      "  Predicted in 9.68s\n",
      "Resampling...\n",
      "Saving segmentations...\n"
     ]
    },
    {
     "data": {
      "application/vnd.jupyter.widget-view+json": {
       "model_id": "3f966ad4cc7f4bc68d2e3f0e0c9d9935",
       "version_major": 2,
       "version_minor": 0
      },
      "text/plain": [
       "  0%|          | 0/5 [00:00<?, ?it/s]"
      ]
     },
     "metadata": {},
     "output_type": "display_data"
    },
    {
     "name": "stdout",
     "output_type": "stream",
     "text": [
      "  Saved in 0.60s\n",
      "\n",
      "If you use this tool please cite: https://pubs.rsna.org/doi/10.1148/ryai.230024\n",
      "\n",
      "Generating rough body segmentation...\n",
      "Resampling...\n",
      "  Resampled in 0.27s\n",
      "Predicting...\n"
     ]
    },
    {
     "name": "stderr",
     "output_type": "stream",
     "text": [
      "/ocean/projects/asc170022p/mtragoza/mambaforge/envs/lung-project/lib/python3.10/site-packages/nnunetv2/utilities/plans_handling/plans_handler.py:37: UserWarning: Detected old nnU-Net plans format. Attempting to reconstruct network architecture parameters. If this fails, rerun nnUNetv2_plan_experiment for your dataset. If you use a custom architecture, please downgrade nnU-Net to the version you implemented this or update your implementation + plans.\n",
      "  warnings.warn(\"Detected old nnU-Net plans format. Attempting to reconstruct network architecture \"\n",
      "100%|██████████| 1/1 [00:00<00:00, 82.09it/s]\n"
     ]
    },
    {
     "name": "stdout",
     "output_type": "stream",
     "text": [
      "  Predicted in 7.65s\n",
      "Resampling...\n",
      "  cropping from (256, 256, 94) to (230, 185, 75)\n",
      "Predicting...\n"
     ]
    },
    {
     "name": "stderr",
     "output_type": "stream",
     "text": [
      "100%|██████████| 75/75 [00:04<00:00, 17.69it/s]\n"
     ]
    },
    {
     "name": "stdout",
     "output_type": "stream",
     "text": [
      "  Predicted in 27.32s\n",
      "Saving segmentations...\n",
      "Creating lung_vessels.nii.gz\n",
      "Creating lung_trachea_bronchia.nii.gz\n"
     ]
    },
    {
     "data": {
      "application/vnd.jupyter.widget-view+json": {
       "model_id": "fb97bf8a07ba46c2b9957a013c7f88c2",
       "version_major": 2,
       "version_minor": 0
      },
      "text/plain": [
       "  0%|          | 0/2 [00:00<?, ?it/s]"
      ]
     },
     "metadata": {},
     "output_type": "display_data"
    },
    {
     "name": "stdout",
     "output_type": "stream",
     "text": [
      "  Saved in 0.54s\n",
      "\n",
      "If you use this tool please cite: https://pubs.rsna.org/doi/10.1148/ryai.230024\n",
      "\n",
      "Resampling...\n",
      "  Resampled in 3.71s\n",
      "Predicting...\n"
     ]
    },
    {
     "name": "stderr",
     "output_type": "stream",
     "text": [
      "/ocean/projects/asc170022p/mtragoza/mambaforge/envs/lung-project/lib/python3.10/site-packages/nnunetv2/utilities/plans_handling/plans_handler.py:37: UserWarning: Detected old nnU-Net plans format. Attempting to reconstruct network architecture parameters. If this fails, rerun nnUNetv2_plan_experiment for your dataset. If you use a custom architecture, please downgrade nnU-Net to the version you implemented this or update your implementation + plans.\n",
      "  warnings.warn(\"Detected old nnU-Net plans format. Attempting to reconstruct network architecture \"\n",
      "100%|██████████| 27/27 [00:01<00:00, 21.27it/s]\n"
     ]
    },
    {
     "name": "stdout",
     "output_type": "stream",
     "text": [
      "  Predicted in 11.14s\n"
     ]
    },
    {
     "name": "stderr",
     "output_type": "stream",
     "text": [
      "100%|██████████| 1/1 [00:00<00:00,  5.23it/s]\n",
      "100%|██████████| 1/1 [00:00<00:00,  5.43it/s]\n"
     ]
    },
    {
     "name": "stdout",
     "output_type": "stream",
     "text": [
      "Resampling...\n",
      "Saving segmentations...\n",
      "Creating body_trunc.nii.gz\n",
      "\n",
      "Creating body_extremities.nii.gz"
     ]
    },
    {
     "data": {
      "application/vnd.jupyter.widget-view+json": {
       "model_id": "3eaee91c197641aaacf21fec636e4551",
       "version_major": 2,
       "version_minor": 0
      },
      "text/plain": [
       "  0%|          | 0/2 [00:00<?, ?it/s]"
      ]
     },
     "metadata": {},
     "output_type": "display_data"
    },
    {
     "name": "stdout",
     "output_type": "stream",
     "text": [
      "  Saved in 0.40s\n",
      "Creating body.nii.gz\n",
      "Creating skin.nii.gz\n",
      "Segmenting Case8Deploy phase 80\n",
      "\n",
      "If you use this tool please cite: https://pubs.rsna.org/doi/10.1148/ryai.230024\n",
      "\n",
      "Generating rough body segmentation...\n",
      "Resampling...\n",
      "  Resampled in 0.27s\n",
      "Predicting...\n"
     ]
    },
    {
     "name": "stderr",
     "output_type": "stream",
     "text": [
      "/ocean/projects/asc170022p/mtragoza/mambaforge/envs/lung-project/lib/python3.10/site-packages/nnunetv2/utilities/plans_handling/plans_handler.py:37: UserWarning: Detected old nnU-Net plans format. Attempting to reconstruct network architecture parameters. If this fails, rerun nnUNetv2_plan_experiment for your dataset. If you use a custom architecture, please downgrade nnU-Net to the version you implemented this or update your implementation + plans.\n",
      "  warnings.warn(\"Detected old nnU-Net plans format. Attempting to reconstruct network architecture \"\n",
      "100%|██████████| 1/1 [00:00<00:00, 92.53it/s]\n"
     ]
    },
    {
     "name": "stdout",
     "output_type": "stream",
     "text": [
      "  Predicted in 7.47s\n",
      "Resampling...\n",
      "  cropping from (256, 256, 94) to (230, 185, 80)\n",
      "Resampling...\n",
      "  Resampled in 2.02s\n",
      "Predicting part 1 of 1 ...\n"
     ]
    },
    {
     "name": "stderr",
     "output_type": "stream",
     "text": [
      "100%|██████████| 8/8 [00:00<00:00, 31.91it/s]\n"
     ]
    },
    {
     "name": "stdout",
     "output_type": "stream",
     "text": [
      "  Predicted in 10.41s\n",
      "Resampling...\n",
      "Saving segmentations...\n"
     ]
    },
    {
     "data": {
      "application/vnd.jupyter.widget-view+json": {
       "model_id": "b6b5aa0862e145b7b5bd1fe2fec881fa",
       "version_major": 2,
       "version_minor": 0
      },
      "text/plain": [
       "  0%|          | 0/5 [00:00<?, ?it/s]"
      ]
     },
     "metadata": {},
     "output_type": "display_data"
    },
    {
     "name": "stdout",
     "output_type": "stream",
     "text": [
      "  Saved in 0.58s\n",
      "\n",
      "If you use this tool please cite: https://pubs.rsna.org/doi/10.1148/ryai.230024\n",
      "\n",
      "Generating rough body segmentation...\n",
      "Resampling...\n",
      "  Resampled in 0.27s\n",
      "Predicting...\n"
     ]
    },
    {
     "name": "stderr",
     "output_type": "stream",
     "text": [
      "/ocean/projects/asc170022p/mtragoza/mambaforge/envs/lung-project/lib/python3.10/site-packages/nnunetv2/utilities/plans_handling/plans_handler.py:37: UserWarning: Detected old nnU-Net plans format. Attempting to reconstruct network architecture parameters. If this fails, rerun nnUNetv2_plan_experiment for your dataset. If you use a custom architecture, please downgrade nnU-Net to the version you implemented this or update your implementation + plans.\n",
      "  warnings.warn(\"Detected old nnU-Net plans format. Attempting to reconstruct network architecture \"\n",
      "100%|██████████| 1/1 [00:00<00:00, 83.10it/s]\n"
     ]
    },
    {
     "name": "stdout",
     "output_type": "stream",
     "text": [
      "  Predicted in 7.68s\n",
      "Resampling...\n",
      "  cropping from (256, 256, 94) to (230, 185, 80)\n",
      "Predicting...\n"
     ]
    },
    {
     "name": "stderr",
     "output_type": "stream",
     "text": [
      "100%|██████████| 100/100 [00:05<00:00, 17.46it/s]\n"
     ]
    },
    {
     "name": "stdout",
     "output_type": "stream",
     "text": [
      "  Predicted in 29.90s\n",
      "Saving segmentations...\n",
      "Creating lung_vessels.nii.gz\n",
      "Creating lung_trachea_bronchia.nii.gz\n"
     ]
    },
    {
     "data": {
      "application/vnd.jupyter.widget-view+json": {
       "model_id": "c06551ad9e274273afeb30f1d4da0989",
       "version_major": 2,
       "version_minor": 0
      },
      "text/plain": [
       "  0%|          | 0/2 [00:00<?, ?it/s]"
      ]
     },
     "metadata": {},
     "output_type": "display_data"
    },
    {
     "name": "stdout",
     "output_type": "stream",
     "text": [
      "  Saved in 0.52s\n",
      "\n",
      "If you use this tool please cite: https://pubs.rsna.org/doi/10.1148/ryai.230024\n",
      "\n",
      "Resampling...\n",
      "  Resampled in 3.70s\n",
      "Predicting...\n"
     ]
    },
    {
     "name": "stderr",
     "output_type": "stream",
     "text": [
      "/ocean/projects/asc170022p/mtragoza/mambaforge/envs/lung-project/lib/python3.10/site-packages/nnunetv2/utilities/plans_handling/plans_handler.py:37: UserWarning: Detected old nnU-Net plans format. Attempting to reconstruct network architecture parameters. If this fails, rerun nnUNetv2_plan_experiment for your dataset. If you use a custom architecture, please downgrade nnU-Net to the version you implemented this or update your implementation + plans.\n",
      "  warnings.warn(\"Detected old nnU-Net plans format. Attempting to reconstruct network architecture \"\n",
      "100%|██████████| 27/27 [00:01<00:00, 21.12it/s]\n"
     ]
    },
    {
     "name": "stdout",
     "output_type": "stream",
     "text": [
      "  Predicted in 11.20s\n"
     ]
    },
    {
     "name": "stderr",
     "output_type": "stream",
     "text": [
      "100%|██████████| 1/1 [00:00<00:00,  5.34it/s]\n",
      "100%|██████████| 1/1 [00:00<00:00,  5.57it/s]\n"
     ]
    },
    {
     "name": "stdout",
     "output_type": "stream",
     "text": [
      "Resampling...\n",
      "Saving segmentations...\n",
      "Creating body_trunc.nii.gz\n",
      "Creating body_extremities.nii.gz\n"
     ]
    },
    {
     "data": {
      "application/vnd.jupyter.widget-view+json": {
       "model_id": "6f3e70df6a0349f8bd2739f47e07b3b0",
       "version_major": 2,
       "version_minor": 0
      },
      "text/plain": [
       "  0%|          | 0/2 [00:00<?, ?it/s]"
      ]
     },
     "metadata": {},
     "output_type": "display_data"
    },
    {
     "name": "stdout",
     "output_type": "stream",
     "text": [
      "  Saved in 0.40s\n",
      "Creating body.nii.gz\n",
      "Creating skin.nii.gz\n",
      "Segmenting Case8Deploy phase 90\n",
      "\n",
      "If you use this tool please cite: https://pubs.rsna.org/doi/10.1148/ryai.230024\n",
      "\n",
      "Generating rough body segmentation...\n",
      "Resampling...\n",
      "  Resampled in 0.28s\n",
      "Predicting...\n"
     ]
    },
    {
     "name": "stderr",
     "output_type": "stream",
     "text": [
      "/ocean/projects/asc170022p/mtragoza/mambaforge/envs/lung-project/lib/python3.10/site-packages/nnunetv2/utilities/plans_handling/plans_handler.py:37: UserWarning: Detected old nnU-Net plans format. Attempting to reconstruct network architecture parameters. If this fails, rerun nnUNetv2_plan_experiment for your dataset. If you use a custom architecture, please downgrade nnU-Net to the version you implemented this or update your implementation + plans.\n",
      "  warnings.warn(\"Detected old nnU-Net plans format. Attempting to reconstruct network architecture \"\n",
      "100%|██████████| 1/1 [00:00<00:00,  1.51it/s]\n"
     ]
    },
    {
     "name": "stdout",
     "output_type": "stream",
     "text": [
      "  Predicted in 9.78s\n",
      "Resampling...\n",
      "  cropping from (256, 256, 94) to (235, 189, 82)\n",
      "Resampling...\n",
      "  Resampled in 2.16s\n",
      "Predicting part 1 of 1 ...\n"
     ]
    },
    {
     "name": "stderr",
     "output_type": "stream",
     "text": [
      "100%|██████████| 8/8 [00:00<00:00, 31.92it/s]\n"
     ]
    },
    {
     "name": "stdout",
     "output_type": "stream",
     "text": [
      "  Predicted in 10.36s\n",
      "Resampling...\n",
      "Saving segmentations...\n"
     ]
    },
    {
     "data": {
      "application/vnd.jupyter.widget-view+json": {
       "model_id": "279d36b4a5e3492a86c2e744f149768a",
       "version_major": 2,
       "version_minor": 0
      },
      "text/plain": [
       "  0%|          | 0/5 [00:00<?, ?it/s]"
      ]
     },
     "metadata": {},
     "output_type": "display_data"
    },
    {
     "name": "stdout",
     "output_type": "stream",
     "text": [
      "  Saved in 69.00s\n",
      "\n",
      "If you use this tool please cite: https://pubs.rsna.org/doi/10.1148/ryai.230024\n",
      "\n",
      "Generating rough body segmentation...\n",
      "Resampling...\n",
      "  Resampled in 0.27s\n",
      "Predicting...\n"
     ]
    },
    {
     "name": "stderr",
     "output_type": "stream",
     "text": [
      "/ocean/projects/asc170022p/mtragoza/mambaforge/envs/lung-project/lib/python3.10/site-packages/nnunetv2/utilities/plans_handling/plans_handler.py:37: UserWarning: Detected old nnU-Net plans format. Attempting to reconstruct network architecture parameters. If this fails, rerun nnUNetv2_plan_experiment for your dataset. If you use a custom architecture, please downgrade nnU-Net to the version you implemented this or update your implementation + plans.\n",
      "  warnings.warn(\"Detected old nnU-Net plans format. Attempting to reconstruct network architecture \"\n",
      "100%|██████████| 1/1 [00:00<00:00, 78.33it/s]\n"
     ]
    },
    {
     "name": "stdout",
     "output_type": "stream",
     "text": [
      "  Predicted in 7.92s\n",
      "Resampling...\n",
      "  cropping from (256, 256, 94) to (235, 189, 82)\n",
      "Predicting...\n"
     ]
    },
    {
     "name": "stderr",
     "output_type": "stream",
     "text": [
      "100%|██████████| 100/100 [00:05<00:00, 17.47it/s]\n"
     ]
    },
    {
     "name": "stdout",
     "output_type": "stream",
     "text": [
      "  Predicted in 31.31s\n",
      "Saving segmentations...\n",
      "Creating lung_vessels.nii.gz\n",
      "Creating lung_trachea_bronchia.nii.gz"
     ]
    },
    {
     "data": {
      "application/vnd.jupyter.widget-view+json": {
       "model_id": "d80c32cdfae6428691e4a512e23fa47e",
       "version_major": 2,
       "version_minor": 0
      },
      "text/plain": [
       "  0%|          | 0/2 [00:00<?, ?it/s]"
      ]
     },
     "metadata": {},
     "output_type": "display_data"
    },
    {
     "name": "stdout",
     "output_type": "stream",
     "text": [
      "\n",
      "  Saved in 0.46s\n",
      "\n",
      "If you use this tool please cite: https://pubs.rsna.org/doi/10.1148/ryai.230024\n",
      "\n",
      "Resampling...\n",
      "  Resampled in 3.73s\n",
      "Predicting...\n"
     ]
    },
    {
     "name": "stderr",
     "output_type": "stream",
     "text": [
      "/ocean/projects/asc170022p/mtragoza/mambaforge/envs/lung-project/lib/python3.10/site-packages/nnunetv2/utilities/plans_handling/plans_handler.py:37: UserWarning: Detected old nnU-Net plans format. Attempting to reconstruct network architecture parameters. If this fails, rerun nnUNetv2_plan_experiment for your dataset. If you use a custom architecture, please downgrade nnU-Net to the version you implemented this or update your implementation + plans.\n",
      "  warnings.warn(\"Detected old nnU-Net plans format. Attempting to reconstruct network architecture \"\n",
      "100%|██████████| 27/27 [00:01<00:00, 21.11it/s]\n"
     ]
    },
    {
     "name": "stdout",
     "output_type": "stream",
     "text": [
      "  Predicted in 11.34s\n"
     ]
    },
    {
     "name": "stderr",
     "output_type": "stream",
     "text": [
      "100%|██████████| 1/1 [00:00<00:00,  5.32it/s]\n",
      "100%|██████████| 1/1 [00:00<00:00,  5.46it/s]\n"
     ]
    },
    {
     "name": "stdout",
     "output_type": "stream",
     "text": [
      "Resampling...\n",
      "Saving segmentations...\n",
      "Creating body_trunc.nii.gz\n",
      "\n",
      "Creating body_extremities.nii.gz"
     ]
    },
    {
     "data": {
      "application/vnd.jupyter.widget-view+json": {
       "model_id": "3e789195f4394edba2b45edbd85d9f1b",
       "version_major": 2,
       "version_minor": 0
      },
      "text/plain": [
       "  0%|          | 0/2 [00:00<?, ?it/s]"
      ]
     },
     "metadata": {},
     "output_type": "display_data"
    },
    {
     "name": "stdout",
     "output_type": "stream",
     "text": [
      "  Saved in 0.35s\n",
      "Creating body.nii.gz\n",
      "Creating skin.nii.gz\n",
      "Segmenting Case9Pack phase 0\n",
      "\n",
      "If you use this tool please cite: https://pubs.rsna.org/doi/10.1148/ryai.230024\n",
      "\n",
      "Generating rough body segmentation...\n",
      "Resampling...\n",
      "  Resampled in 0.27s\n",
      "Predicting...\n"
     ]
    },
    {
     "name": "stderr",
     "output_type": "stream",
     "text": [
      "/ocean/projects/asc170022p/mtragoza/mambaforge/envs/lung-project/lib/python3.10/site-packages/nnunetv2/utilities/plans_handling/plans_handler.py:37: UserWarning: Detected old nnU-Net plans format. Attempting to reconstruct network architecture parameters. If this fails, rerun nnUNetv2_plan_experiment for your dataset. If you use a custom architecture, please downgrade nnU-Net to the version you implemented this or update your implementation + plans.\n",
      "  warnings.warn(\"Detected old nnU-Net plans format. Attempting to reconstruct network architecture \"\n",
      "100%|██████████| 1/1 [00:00<00:00, 104.55it/s]\n"
     ]
    },
    {
     "name": "stdout",
     "output_type": "stream",
     "text": [
      "  Predicted in 7.82s\n",
      "Resampling...\n",
      "  cropping from (256, 256, 94) to (208, 171, 69)\n",
      "Resampling...\n",
      "  Resampled in 1.48s\n",
      "Predicting part 1 of 1 ...\n"
     ]
    },
    {
     "name": "stderr",
     "output_type": "stream",
     "text": [
      "100%|██████████| 8/8 [00:00<00:00, 31.87it/s]\n"
     ]
    },
    {
     "name": "stdout",
     "output_type": "stream",
     "text": [
      "  Predicted in 9.56s\n",
      "Resampling...\n",
      "Saving segmentations...\n"
     ]
    },
    {
     "data": {
      "application/vnd.jupyter.widget-view+json": {
       "model_id": "a2d04943c1e04ac8a5209a9980ef7453",
       "version_major": 2,
       "version_minor": 0
      },
      "text/plain": [
       "  0%|          | 0/5 [00:00<?, ?it/s]"
      ]
     },
     "metadata": {},
     "output_type": "display_data"
    },
    {
     "name": "stdout",
     "output_type": "stream",
     "text": [
      "  Saved in 1815.19s\n",
      "\n",
      "If you use this tool please cite: https://pubs.rsna.org/doi/10.1148/ryai.230024\n",
      "\n",
      "Generating rough body segmentation...\n",
      "Resampling...\n",
      "  Resampled in 0.27s\n",
      "Predicting...\n"
     ]
    },
    {
     "name": "stderr",
     "output_type": "stream",
     "text": [
      "/ocean/projects/asc170022p/mtragoza/mambaforge/envs/lung-project/lib/python3.10/site-packages/nnunetv2/utilities/plans_handling/plans_handler.py:37: UserWarning: Detected old nnU-Net plans format. Attempting to reconstruct network architecture parameters. If this fails, rerun nnUNetv2_plan_experiment for your dataset. If you use a custom architecture, please downgrade nnU-Net to the version you implemented this or update your implementation + plans.\n",
      "  warnings.warn(\"Detected old nnU-Net plans format. Attempting to reconstruct network architecture \"\n",
      "100%|██████████| 1/1 [00:00<00:00, 102.30it/s]\n"
     ]
    },
    {
     "name": "stdout",
     "output_type": "stream",
     "text": [
      "  Predicted in 10.21s\n",
      "Resampling...\n",
      "  cropping from (256, 256, 94) to (208, 171, 69)\n",
      "Predicting...\n"
     ]
    },
    {
     "name": "stderr",
     "output_type": "stream",
     "text": [
      "100%|██████████| 60/60 [00:03<00:00, 17.98it/s]\n"
     ]
    },
    {
     "name": "stdout",
     "output_type": "stream",
     "text": [
      "  Predicted in 24.28s\n",
      "Saving segmentations...\n",
      "Creating lung_vessels.nii.gz\n",
      "\n",
      "Creating lung_trachea_bronchia.nii.gz"
     ]
    },
    {
     "data": {
      "application/vnd.jupyter.widget-view+json": {
       "model_id": "5c0e91e4c44244cf9f98487e143c9c26",
       "version_major": 2,
       "version_minor": 0
      },
      "text/plain": [
       "  0%|          | 0/2 [00:00<?, ?it/s]"
      ]
     },
     "metadata": {},
     "output_type": "display_data"
    },
    {
     "name": "stdout",
     "output_type": "stream",
     "text": [
      "  Saved in 0.47s\n",
      "\n",
      "If you use this tool please cite: https://pubs.rsna.org/doi/10.1148/ryai.230024\n",
      "\n",
      "Resampling...\n",
      "  Resampled in 3.70s\n",
      "Predicting...\n"
     ]
    },
    {
     "name": "stderr",
     "output_type": "stream",
     "text": [
      "/ocean/projects/asc170022p/mtragoza/mambaforge/envs/lung-project/lib/python3.10/site-packages/nnunetv2/utilities/plans_handling/plans_handler.py:37: UserWarning: Detected old nnU-Net plans format. Attempting to reconstruct network architecture parameters. If this fails, rerun nnUNetv2_plan_experiment for your dataset. If you use a custom architecture, please downgrade nnU-Net to the version you implemented this or update your implementation + plans.\n",
      "  warnings.warn(\"Detected old nnU-Net plans format. Attempting to reconstruct network architecture \"\n",
      "100%|██████████| 27/27 [00:01<00:00, 21.30it/s]\n"
     ]
    },
    {
     "name": "stdout",
     "output_type": "stream",
     "text": [
      "  Predicted in 11.88s\n"
     ]
    },
    {
     "name": "stderr",
     "output_type": "stream",
     "text": [
      "100%|██████████| 1/1 [00:00<00:00,  5.01it/s]\n",
      "100%|██████████| 1/1 [00:00<00:00,  5.48it/s]\n"
     ]
    },
    {
     "name": "stdout",
     "output_type": "stream",
     "text": [
      "Resampling...\n",
      "Saving segmentations...\n",
      "Creating body_trunc.nii.gz\n",
      "\n"
     ]
    },
    {
     "data": {
      "application/vnd.jupyter.widget-view+json": {
       "model_id": "4c549608646c418a9e6f4b2b52733531",
       "version_major": 2,
       "version_minor": 0
      },
      "text/plain": [
       "  0%|          | 0/2 [00:00<?, ?it/s]"
      ]
     },
     "metadata": {},
     "output_type": "display_data"
    },
    {
     "name": "stdout",
     "output_type": "stream",
     "text": [
      "Creating body_extremities.nii.gz  Saved in 42.49s\n",
      "Creating body.nii.gz\n",
      "Creating skin.nii.gz\n",
      "Segmenting Case9Pack phase 10\n",
      "\n",
      "If you use this tool please cite: https://pubs.rsna.org/doi/10.1148/ryai.230024\n",
      "\n",
      "Generating rough body segmentation...\n",
      "Resampling...\n",
      "  Resampled in 0.27s\n",
      "Predicting...\n"
     ]
    },
    {
     "name": "stderr",
     "output_type": "stream",
     "text": [
      "/ocean/projects/asc170022p/mtragoza/mambaforge/envs/lung-project/lib/python3.10/site-packages/nnunetv2/utilities/plans_handling/plans_handler.py:37: UserWarning: Detected old nnU-Net plans format. Attempting to reconstruct network architecture parameters. If this fails, rerun nnUNetv2_plan_experiment for your dataset. If you use a custom architecture, please downgrade nnU-Net to the version you implemented this or update your implementation + plans.\n",
      "  warnings.warn(\"Detected old nnU-Net plans format. Attempting to reconstruct network architecture \"\n",
      "100%|██████████| 1/1 [00:00<00:00, 91.99it/s]\n"
     ]
    },
    {
     "name": "stdout",
     "output_type": "stream",
     "text": [
      "  Predicted in 8.03s\n",
      "Resampling...\n",
      "  cropping from (256, 256, 94) to (208, 171, 71)\n",
      "Resampling...\n",
      "  Resampled in 1.52s\n",
      "Predicting part 1 of 1 ...\n"
     ]
    },
    {
     "name": "stderr",
     "output_type": "stream",
     "text": [
      "100%|██████████| 8/8 [00:00<00:00, 32.14it/s]\n"
     ]
    },
    {
     "name": "stdout",
     "output_type": "stream",
     "text": [
      "  Predicted in 9.91s\n",
      "Resampling...\n",
      "Saving segmentations...\n"
     ]
    },
    {
     "data": {
      "application/vnd.jupyter.widget-view+json": {
       "model_id": "3da25e74581e452faf08c300eff46cc7",
       "version_major": 2,
       "version_minor": 0
      },
      "text/plain": [
       "  0%|          | 0/5 [00:00<?, ?it/s]"
      ]
     },
     "metadata": {},
     "output_type": "display_data"
    },
    {
     "name": "stdout",
     "output_type": "stream",
     "text": [
      "  Saved in 994.23s\n",
      "\n",
      "If you use this tool please cite: https://pubs.rsna.org/doi/10.1148/ryai.230024\n",
      "\n",
      "Generating rough body segmentation...\n",
      "Resampling...\n",
      "  Resampled in 0.27s\n",
      "Predicting...\n"
     ]
    },
    {
     "name": "stderr",
     "output_type": "stream",
     "text": [
      "/ocean/projects/asc170022p/mtragoza/mambaforge/envs/lung-project/lib/python3.10/site-packages/nnunetv2/utilities/plans_handling/plans_handler.py:37: UserWarning: Detected old nnU-Net plans format. Attempting to reconstruct network architecture parameters. If this fails, rerun nnUNetv2_plan_experiment for your dataset. If you use a custom architecture, please downgrade nnU-Net to the version you implemented this or update your implementation + plans.\n",
      "  warnings.warn(\"Detected old nnU-Net plans format. Attempting to reconstruct network architecture \"\n",
      "100%|██████████| 1/1 [00:01<00:00,  1.13s/it]\n"
     ]
    },
    {
     "name": "stdout",
     "output_type": "stream",
     "text": [
      "  Predicted in 12.68s\n",
      "Resampling...\n",
      "  cropping from (256, 256, 94) to (208, 171, 71)\n",
      "Predicting...\n"
     ]
    },
    {
     "name": "stderr",
     "output_type": "stream",
     "text": [
      "100%|██████████| 60/60 [00:03<00:00, 17.65it/s]\n"
     ]
    },
    {
     "name": "stdout",
     "output_type": "stream",
     "text": [
      "  Predicted in 24.42s\n",
      "Saving segmentations...\n"
     ]
    },
    {
     "data": {
      "application/vnd.jupyter.widget-view+json": {
       "model_id": "81bb7f1febce45fda68c5cc6e0c5c3c8",
       "version_major": 2,
       "version_minor": 0
      },
      "text/plain": [
       "  0%|          | 0/2 [00:00<?, ?it/s]"
      ]
     },
     "metadata": {},
     "output_type": "display_data"
    },
    {
     "name": "stdout",
     "output_type": "stream",
     "text": [
      "Creating lung_trachea_bronchia.nii.gzCreating lung_vessels.nii.gz\n",
      "\n",
      "  Saved in 0.58s\n",
      "\n",
      "If you use this tool please cite: https://pubs.rsna.org/doi/10.1148/ryai.230024\n",
      "\n",
      "Resampling...\n",
      "  Resampled in 3.69s\n",
      "Predicting...\n"
     ]
    },
    {
     "name": "stderr",
     "output_type": "stream",
     "text": [
      "/ocean/projects/asc170022p/mtragoza/mambaforge/envs/lung-project/lib/python3.10/site-packages/nnunetv2/utilities/plans_handling/plans_handler.py:37: UserWarning: Detected old nnU-Net plans format. Attempting to reconstruct network architecture parameters. If this fails, rerun nnUNetv2_plan_experiment for your dataset. If you use a custom architecture, please downgrade nnU-Net to the version you implemented this or update your implementation + plans.\n",
      "  warnings.warn(\"Detected old nnU-Net plans format. Attempting to reconstruct network architecture \"\n",
      "100%|██████████| 27/27 [00:01<00:00, 21.10it/s]\n"
     ]
    },
    {
     "name": "stdout",
     "output_type": "stream",
     "text": [
      "  Predicted in 11.75s\n"
     ]
    },
    {
     "name": "stderr",
     "output_type": "stream",
     "text": [
      "100%|██████████| 1/1 [00:00<00:00,  5.11it/s]\n",
      "100%|██████████| 1/1 [00:00<00:00,  5.46it/s]\n"
     ]
    },
    {
     "name": "stdout",
     "output_type": "stream",
     "text": [
      "Resampling...\n",
      "Saving segmentations...\n",
      "Creating body_trunc.nii.gz\n",
      "Creating body_extremities.nii.gz\n"
     ]
    },
    {
     "data": {
      "application/vnd.jupyter.widget-view+json": {
       "model_id": "e0bf3c614d4746979123853cadab8665",
       "version_major": 2,
       "version_minor": 0
      },
      "text/plain": [
       "  0%|          | 0/2 [00:00<?, ?it/s]"
      ]
     },
     "metadata": {},
     "output_type": "display_data"
    },
    {
     "name": "stdout",
     "output_type": "stream",
     "text": [
      "  Saved in 2.00s\n",
      "Creating body.nii.gz\n",
      "Creating skin.nii.gz\n",
      "Segmenting Case9Pack phase 20\n",
      "\n",
      "If you use this tool please cite: https://pubs.rsna.org/doi/10.1148/ryai.230024\n",
      "\n",
      "Generating rough body segmentation...\n",
      "Resampling...\n",
      "  Resampled in 0.27s\n",
      "Predicting...\n"
     ]
    },
    {
     "name": "stderr",
     "output_type": "stream",
     "text": [
      "/ocean/projects/asc170022p/mtragoza/mambaforge/envs/lung-project/lib/python3.10/site-packages/nnunetv2/utilities/plans_handling/plans_handler.py:37: UserWarning: Detected old nnU-Net plans format. Attempting to reconstruct network architecture parameters. If this fails, rerun nnUNetv2_plan_experiment for your dataset. If you use a custom architecture, please downgrade nnU-Net to the version you implemented this or update your implementation + plans.\n",
      "  warnings.warn(\"Detected old nnU-Net plans format. Attempting to reconstruct network architecture \"\n",
      "100%|██████████| 1/1 [00:00<00:00, 77.41it/s]\n"
     ]
    },
    {
     "name": "stdout",
     "output_type": "stream",
     "text": [
      "  Predicted in 8.13s\n",
      "Resampling...\n",
      "  cropping from (256, 256, 94) to (208, 171, 73)\n",
      "Resampling...\n",
      "  Resampled in 1.56s\n",
      "Predicting part 1 of 1 ...\n"
     ]
    },
    {
     "name": "stderr",
     "output_type": "stream",
     "text": [
      "100%|██████████| 8/8 [00:00<00:00, 32.62it/s]\n"
     ]
    },
    {
     "name": "stdout",
     "output_type": "stream",
     "text": [
      "  Predicted in 10.30s\n",
      "Resampling...\n",
      "Saving segmentations...\n"
     ]
    },
    {
     "data": {
      "application/vnd.jupyter.widget-view+json": {
       "model_id": "4cb0089b96a34bf499a9a7f629895891",
       "version_major": 2,
       "version_minor": 0
      },
      "text/plain": [
       "  0%|          | 0/5 [00:00<?, ?it/s]"
      ]
     },
     "metadata": {},
     "output_type": "display_data"
    },
    {
     "name": "stdout",
     "output_type": "stream",
     "text": [
      "  Saved in 0.55s\n",
      "\n",
      "If you use this tool please cite: https://pubs.rsna.org/doi/10.1148/ryai.230024\n",
      "\n",
      "Generating rough body segmentation...\n",
      "Resampling...\n",
      "  Resampled in 0.27s\n",
      "Predicting...\n"
     ]
    },
    {
     "name": "stderr",
     "output_type": "stream",
     "text": [
      "/ocean/projects/asc170022p/mtragoza/mambaforge/envs/lung-project/lib/python3.10/site-packages/nnunetv2/utilities/plans_handling/plans_handler.py:37: UserWarning: Detected old nnU-Net plans format. Attempting to reconstruct network architecture parameters. If this fails, rerun nnUNetv2_plan_experiment for your dataset. If you use a custom architecture, please downgrade nnU-Net to the version you implemented this or update your implementation + plans.\n",
      "  warnings.warn(\"Detected old nnU-Net plans format. Attempting to reconstruct network architecture \"\n",
      "100%|██████████| 1/1 [00:00<00:00, 95.16it/s]\n"
     ]
    },
    {
     "name": "stdout",
     "output_type": "stream",
     "text": [
      "  Predicted in 8.03s\n",
      "Resampling...\n",
      "  cropping from (256, 256, 94) to (208, 171, 73)\n",
      "Predicting...\n"
     ]
    },
    {
     "name": "stderr",
     "output_type": "stream",
     "text": [
      "100%|██████████| 60/60 [00:03<00:00, 17.96it/s]\n"
     ]
    },
    {
     "name": "stdout",
     "output_type": "stream",
     "text": [
      "  Predicted in 24.29s\n",
      "Saving segmentations...\n",
      "Creating lung_vessels.nii.gz"
     ]
    },
    {
     "data": {
      "application/vnd.jupyter.widget-view+json": {
       "model_id": "3a11cb6bdbd54d638ff89b4d4ad88972",
       "version_major": 2,
       "version_minor": 0
      },
      "text/plain": [
       "  0%|          | 0/2 [00:00<?, ?it/s]"
      ]
     },
     "metadata": {},
     "output_type": "display_data"
    },
    {
     "name": "stdout",
     "output_type": "stream",
     "text": [
      "\n",
      "Creating lung_trachea_bronchia.nii.gz\n",
      "  Saved in 0.56s\n",
      "\n",
      "If you use this tool please cite: https://pubs.rsna.org/doi/10.1148/ryai.230024\n",
      "\n",
      "Resampling...\n",
      "  Resampled in 3.73s\n",
      "Predicting...\n"
     ]
    },
    {
     "name": "stderr",
     "output_type": "stream",
     "text": [
      "/ocean/projects/asc170022p/mtragoza/mambaforge/envs/lung-project/lib/python3.10/site-packages/nnunetv2/utilities/plans_handling/plans_handler.py:37: UserWarning: Detected old nnU-Net plans format. Attempting to reconstruct network architecture parameters. If this fails, rerun nnUNetv2_plan_experiment for your dataset. If you use a custom architecture, please downgrade nnU-Net to the version you implemented this or update your implementation + plans.\n",
      "  warnings.warn(\"Detected old nnU-Net plans format. Attempting to reconstruct network architecture \"\n",
      "100%|██████████| 27/27 [00:01<00:00, 21.14it/s]\n"
     ]
    },
    {
     "name": "stdout",
     "output_type": "stream",
     "text": [
      "  Predicted in 11.72s\n"
     ]
    },
    {
     "name": "stderr",
     "output_type": "stream",
     "text": [
      "100%|██████████| 1/1 [00:00<00:00,  5.05it/s]\n",
      "100%|██████████| 1/1 [00:00<00:00,  5.47it/s]\n"
     ]
    },
    {
     "name": "stdout",
     "output_type": "stream",
     "text": [
      "Resampling...\n",
      "Saving segmentations...\n",
      "Creating body_trunc.nii.gz\n"
     ]
    },
    {
     "data": {
      "application/vnd.jupyter.widget-view+json": {
       "model_id": "3aa7a925d0c847b896dee742ac833438",
       "version_major": 2,
       "version_minor": 0
      },
      "text/plain": [
       "  0%|          | 0/2 [00:00<?, ?it/s]"
      ]
     },
     "metadata": {},
     "output_type": "display_data"
    },
    {
     "name": "stdout",
     "output_type": "stream",
     "text": [
      "Creating body_extremities.nii.gz\n",
      "  Saved in 0.37s\n",
      "Creating body.nii.gz\n",
      "Creating skin.nii.gz\n",
      "Segmenting Case9Pack phase 30\n",
      "\n",
      "If you use this tool please cite: https://pubs.rsna.org/doi/10.1148/ryai.230024\n",
      "\n",
      "Generating rough body segmentation...\n",
      "Resampling...\n",
      "  Resampled in 0.27s\n",
      "Predicting...\n"
     ]
    },
    {
     "name": "stderr",
     "output_type": "stream",
     "text": [
      "/ocean/projects/asc170022p/mtragoza/mambaforge/envs/lung-project/lib/python3.10/site-packages/nnunetv2/utilities/plans_handling/plans_handler.py:37: UserWarning: Detected old nnU-Net plans format. Attempting to reconstruct network architecture parameters. If this fails, rerun nnUNetv2_plan_experiment for your dataset. If you use a custom architecture, please downgrade nnU-Net to the version you implemented this or update your implementation + plans.\n",
      "  warnings.warn(\"Detected old nnU-Net plans format. Attempting to reconstruct network architecture \"\n",
      "100%|██████████| 1/1 [00:00<00:00, 76.75it/s]\n"
     ]
    },
    {
     "name": "stdout",
     "output_type": "stream",
     "text": [
      "  Predicted in 8.16s\n",
      "Resampling...\n",
      "  cropping from (256, 256, 94) to (208, 167, 65)\n",
      "Resampling...\n",
      "  Resampled in 1.36s\n",
      "Predicting part 1 of 1 ...\n"
     ]
    },
    {
     "name": "stderr",
     "output_type": "stream",
     "text": [
      "100%|██████████| 8/8 [00:00<00:00, 31.96it/s]\n"
     ]
    },
    {
     "name": "stdout",
     "output_type": "stream",
     "text": [
      "  Predicted in 9.83s\n",
      "Resampling...\n",
      "Saving segmentations...\n"
     ]
    },
    {
     "data": {
      "application/vnd.jupyter.widget-view+json": {
       "model_id": "8c156d6eb1fa4068ada60b93565746a1",
       "version_major": 2,
       "version_minor": 0
      },
      "text/plain": [
       "  0%|          | 0/5 [00:00<?, ?it/s]"
      ]
     },
     "metadata": {},
     "output_type": "display_data"
    },
    {
     "name": "stdout",
     "output_type": "stream",
     "text": [
      "  Saved in 0.59s\n",
      "\n",
      "If you use this tool please cite: https://pubs.rsna.org/doi/10.1148/ryai.230024\n",
      "\n",
      "Generating rough body segmentation...\n",
      "Resampling...\n",
      "  Resampled in 0.27s\n",
      "Predicting...\n"
     ]
    },
    {
     "name": "stderr",
     "output_type": "stream",
     "text": [
      "/ocean/projects/asc170022p/mtragoza/mambaforge/envs/lung-project/lib/python3.10/site-packages/nnunetv2/utilities/plans_handling/plans_handler.py:37: UserWarning: Detected old nnU-Net plans format. Attempting to reconstruct network architecture parameters. If this fails, rerun nnUNetv2_plan_experiment for your dataset. If you use a custom architecture, please downgrade nnU-Net to the version you implemented this or update your implementation + plans.\n",
      "  warnings.warn(\"Detected old nnU-Net plans format. Attempting to reconstruct network architecture \"\n",
      "100%|██████████| 1/1 [00:00<00:00, 48.16it/s]\n"
     ]
    },
    {
     "name": "stdout",
     "output_type": "stream",
     "text": [
      "  Predicted in 8.17s\n",
      "Resampling...\n",
      "  cropping from (256, 256, 94) to (208, 167, 65)\n",
      "Predicting...\n"
     ]
    },
    {
     "name": "stderr",
     "output_type": "stream",
     "text": [
      "100%|██████████| 60/60 [00:03<00:00, 17.94it/s]\n"
     ]
    },
    {
     "name": "stdout",
     "output_type": "stream",
     "text": [
      "  Predicted in 22.65s\n",
      "Saving segmentations...\n",
      "Creating lung_vessels.nii.gz\n",
      "Creating lung_trachea_bronchia.nii.gz"
     ]
    },
    {
     "data": {
      "application/vnd.jupyter.widget-view+json": {
       "model_id": "92533b7524e244188d408cec2f3189c5",
       "version_major": 2,
       "version_minor": 0
      },
      "text/plain": [
       "  0%|          | 0/2 [00:00<?, ?it/s]"
      ]
     },
     "metadata": {},
     "output_type": "display_data"
    },
    {
     "name": "stdout",
     "output_type": "stream",
     "text": [
      "\n",
      "  Saved in 0.47s\n",
      "\n",
      "If you use this tool please cite: https://pubs.rsna.org/doi/10.1148/ryai.230024\n",
      "\n",
      "Resampling...\n",
      "  Resampled in 3.70s\n",
      "Predicting...\n"
     ]
    },
    {
     "name": "stderr",
     "output_type": "stream",
     "text": [
      "/ocean/projects/asc170022p/mtragoza/mambaforge/envs/lung-project/lib/python3.10/site-packages/nnunetv2/utilities/plans_handling/plans_handler.py:37: UserWarning: Detected old nnU-Net plans format. Attempting to reconstruct network architecture parameters. If this fails, rerun nnUNetv2_plan_experiment for your dataset. If you use a custom architecture, please downgrade nnU-Net to the version you implemented this or update your implementation + plans.\n",
      "  warnings.warn(\"Detected old nnU-Net plans format. Attempting to reconstruct network architecture \"\n",
      "100%|██████████| 27/27 [00:01<00:00, 21.25it/s]\n"
     ]
    },
    {
     "name": "stdout",
     "output_type": "stream",
     "text": [
      "  Predicted in 11.68s\n"
     ]
    },
    {
     "name": "stderr",
     "output_type": "stream",
     "text": [
      "100%|██████████| 1/1 [00:00<00:00,  5.29it/s]\n",
      "100%|██████████| 1/1 [00:00<00:00,  5.51it/s]\n"
     ]
    },
    {
     "name": "stdout",
     "output_type": "stream",
     "text": [
      "Resampling...\n",
      "Saving segmentations...\n",
      "Creating body_trunc.nii.gz\n",
      "\n",
      "Creating body_extremities.nii.gz"
     ]
    },
    {
     "data": {
      "application/vnd.jupyter.widget-view+json": {
       "model_id": "4ac9e4d0c6ff48f5a21ff6af25454ab5",
       "version_major": 2,
       "version_minor": 0
      },
      "text/plain": [
       "  0%|          | 0/2 [00:00<?, ?it/s]"
      ]
     },
     "metadata": {},
     "output_type": "display_data"
    },
    {
     "name": "stdout",
     "output_type": "stream",
     "text": [
      "  Saved in 0.41s\n",
      "Creating body.nii.gz\n",
      "Creating skin.nii.gz\n",
      "Segmenting Case9Pack phase 40\n",
      "\n",
      "If you use this tool please cite: https://pubs.rsna.org/doi/10.1148/ryai.230024\n",
      "\n",
      "Generating rough body segmentation...\n",
      "Resampling...\n",
      "  Resampled in 0.27s\n",
      "Predicting...\n"
     ]
    },
    {
     "name": "stderr",
     "output_type": "stream",
     "text": [
      "/ocean/projects/asc170022p/mtragoza/mambaforge/envs/lung-project/lib/python3.10/site-packages/nnunetv2/utilities/plans_handling/plans_handler.py:37: UserWarning: Detected old nnU-Net plans format. Attempting to reconstruct network architecture parameters. If this fails, rerun nnUNetv2_plan_experiment for your dataset. If you use a custom architecture, please downgrade nnU-Net to the version you implemented this or update your implementation + plans.\n",
      "  warnings.warn(\"Detected old nnU-Net plans format. Attempting to reconstruct network architecture \"\n",
      "100%|██████████| 1/1 [00:00<00:00, 94.56it/s]\n"
     ]
    },
    {
     "name": "stdout",
     "output_type": "stream",
     "text": [
      "  Predicted in 8.14s\n",
      "Resampling...\n",
      "  cropping from (256, 256, 94) to (208, 167, 65)\n",
      "Resampling...\n",
      "  Resampled in 1.34s\n",
      "Predicting part 1 of 1 ...\n"
     ]
    },
    {
     "name": "stderr",
     "output_type": "stream",
     "text": [
      "100%|██████████| 8/8 [00:00<00:00, 33.24it/s]\n"
     ]
    },
    {
     "name": "stdout",
     "output_type": "stream",
     "text": [
      "  Predicted in 9.95s\n",
      "Resampling...\n",
      "Saving segmentations...\n"
     ]
    },
    {
     "data": {
      "application/vnd.jupyter.widget-view+json": {
       "model_id": "0c83aeb61305431695b5eb0e13e1a08b",
       "version_major": 2,
       "version_minor": 0
      },
      "text/plain": [
       "  0%|          | 0/5 [00:00<?, ?it/s]"
      ]
     },
     "metadata": {},
     "output_type": "display_data"
    },
    {
     "name": "stdout",
     "output_type": "stream",
     "text": [
      "  Saved in 0.62s\n",
      "\n",
      "If you use this tool please cite: https://pubs.rsna.org/doi/10.1148/ryai.230024\n",
      "\n",
      "Generating rough body segmentation...\n",
      "Resampling...\n",
      "  Resampled in 0.27s\n",
      "Predicting...\n"
     ]
    },
    {
     "name": "stderr",
     "output_type": "stream",
     "text": [
      "/ocean/projects/asc170022p/mtragoza/mambaforge/envs/lung-project/lib/python3.10/site-packages/nnunetv2/utilities/plans_handling/plans_handler.py:37: UserWarning: Detected old nnU-Net plans format. Attempting to reconstruct network architecture parameters. If this fails, rerun nnUNetv2_plan_experiment for your dataset. If you use a custom architecture, please downgrade nnU-Net to the version you implemented this or update your implementation + plans.\n",
      "  warnings.warn(\"Detected old nnU-Net plans format. Attempting to reconstruct network architecture \"\n",
      "100%|██████████| 1/1 [00:00<00:00, 104.49it/s]\n"
     ]
    },
    {
     "name": "stdout",
     "output_type": "stream",
     "text": [
      "  Predicted in 8.33s\n",
      "Resampling...\n",
      "  cropping from (256, 256, 94) to (208, 167, 65)\n",
      "Predicting...\n"
     ]
    },
    {
     "name": "stderr",
     "output_type": "stream",
     "text": [
      "100%|██████████| 60/60 [00:03<00:00, 17.94it/s]\n"
     ]
    },
    {
     "name": "stdout",
     "output_type": "stream",
     "text": [
      "  Predicted in 22.62s\n",
      "Saving segmentations...\n",
      "Creating lung_vessels.nii.gz\n",
      "Creating lung_trachea_bronchia.nii.gz"
     ]
    },
    {
     "data": {
      "application/vnd.jupyter.widget-view+json": {
       "model_id": "80b6cc8716b34ea493e3c78b69cd8b0e",
       "version_major": 2,
       "version_minor": 0
      },
      "text/plain": [
       "  0%|          | 0/2 [00:00<?, ?it/s]"
      ]
     },
     "metadata": {},
     "output_type": "display_data"
    },
    {
     "name": "stdout",
     "output_type": "stream",
     "text": [
      "\n",
      "  Saved in 0.46s\n",
      "\n",
      "If you use this tool please cite: https://pubs.rsna.org/doi/10.1148/ryai.230024\n",
      "\n",
      "Resampling...\n",
      "  Resampled in 3.70s\n",
      "Predicting...\n"
     ]
    },
    {
     "name": "stderr",
     "output_type": "stream",
     "text": [
      "/ocean/projects/asc170022p/mtragoza/mambaforge/envs/lung-project/lib/python3.10/site-packages/nnunetv2/utilities/plans_handling/plans_handler.py:37: UserWarning: Detected old nnU-Net plans format. Attempting to reconstruct network architecture parameters. If this fails, rerun nnUNetv2_plan_experiment for your dataset. If you use a custom architecture, please downgrade nnU-Net to the version you implemented this or update your implementation + plans.\n",
      "  warnings.warn(\"Detected old nnU-Net plans format. Attempting to reconstruct network architecture \"\n",
      "100%|██████████| 27/27 [00:01<00:00, 21.25it/s]\n"
     ]
    },
    {
     "name": "stdout",
     "output_type": "stream",
     "text": [
      "  Predicted in 12.68s\n"
     ]
    },
    {
     "name": "stderr",
     "output_type": "stream",
     "text": [
      "100%|██████████| 1/1 [00:00<00:00,  5.23it/s]\n",
      "100%|██████████| 1/1 [00:00<00:00,  5.43it/s]\n"
     ]
    },
    {
     "name": "stdout",
     "output_type": "stream",
     "text": [
      "Resampling...\n",
      "Saving segmentations...\n",
      "Creating body_trunc.nii.gz\n"
     ]
    },
    {
     "data": {
      "application/vnd.jupyter.widget-view+json": {
       "model_id": "3f7d6151aa204153a6f753aa9408319c",
       "version_major": 2,
       "version_minor": 0
      },
      "text/plain": [
       "  0%|          | 0/2 [00:00<?, ?it/s]"
      ]
     },
     "metadata": {},
     "output_type": "display_data"
    },
    {
     "name": "stdout",
     "output_type": "stream",
     "text": [
      "Creating body_extremities.nii.gz\n",
      "  Saved in 0.43s\n",
      "Creating body.nii.gz\n",
      "Creating skin.nii.gz\n",
      "Segmenting Case9Pack phase 50\n",
      "\n",
      "If you use this tool please cite: https://pubs.rsna.org/doi/10.1148/ryai.230024\n",
      "\n",
      "Generating rough body segmentation...\n",
      "Resampling...\n",
      "  Resampled in 0.27s\n",
      "Predicting...\n"
     ]
    },
    {
     "name": "stderr",
     "output_type": "stream",
     "text": [
      "/ocean/projects/asc170022p/mtragoza/mambaforge/envs/lung-project/lib/python3.10/site-packages/nnunetv2/utilities/plans_handling/plans_handler.py:37: UserWarning: Detected old nnU-Net plans format. Attempting to reconstruct network architecture parameters. If this fails, rerun nnUNetv2_plan_experiment for your dataset. If you use a custom architecture, please downgrade nnU-Net to the version you implemented this or update your implementation + plans.\n",
      "  warnings.warn(\"Detected old nnU-Net plans format. Attempting to reconstruct network architecture \"\n",
      "100%|██████████| 1/1 [00:00<00:00, 95.12it/s]\n"
     ]
    },
    {
     "name": "stdout",
     "output_type": "stream",
     "text": [
      "  Predicted in 8.23s\n",
      "Resampling...\n",
      "  cropping from (256, 256, 94) to (208, 167, 74)\n",
      "Resampling...\n",
      "  Resampled in 1.52s\n",
      "Predicting part 1 of 1 ...\n"
     ]
    },
    {
     "name": "stderr",
     "output_type": "stream",
     "text": [
      "100%|██████████| 8/8 [00:00<00:00, 32.37it/s]\n"
     ]
    },
    {
     "name": "stdout",
     "output_type": "stream",
     "text": [
      "  Predicted in 10.06s\n",
      "Resampling...\n",
      "Saving segmentations...\n"
     ]
    },
    {
     "data": {
      "application/vnd.jupyter.widget-view+json": {
       "model_id": "98d05398ce11413a99916ee7a50573fd",
       "version_major": 2,
       "version_minor": 0
      },
      "text/plain": [
       "  0%|          | 0/5 [00:00<?, ?it/s]"
      ]
     },
     "metadata": {},
     "output_type": "display_data"
    },
    {
     "name": "stdout",
     "output_type": "stream",
     "text": [
      "  Saved in 0.54s\n",
      "\n",
      "If you use this tool please cite: https://pubs.rsna.org/doi/10.1148/ryai.230024\n",
      "\n",
      "Generating rough body segmentation...\n",
      "Resampling...\n",
      "  Resampled in 0.27s\n",
      "Predicting...\n"
     ]
    },
    {
     "name": "stderr",
     "output_type": "stream",
     "text": [
      "/ocean/projects/asc170022p/mtragoza/mambaforge/envs/lung-project/lib/python3.10/site-packages/nnunetv2/utilities/plans_handling/plans_handler.py:37: UserWarning: Detected old nnU-Net plans format. Attempting to reconstruct network architecture parameters. If this fails, rerun nnUNetv2_plan_experiment for your dataset. If you use a custom architecture, please downgrade nnU-Net to the version you implemented this or update your implementation + plans.\n",
      "  warnings.warn(\"Detected old nnU-Net plans format. Attempting to reconstruct network architecture \"\n",
      "100%|██████████| 1/1 [00:00<00:00, 78.54it/s]\n"
     ]
    },
    {
     "name": "stdout",
     "output_type": "stream",
     "text": [
      "  Predicted in 8.31s\n",
      "Resampling...\n",
      "  cropping from (256, 256, 94) to (208, 167, 74)\n",
      "Predicting...\n"
     ]
    },
    {
     "name": "stderr",
     "output_type": "stream",
     "text": [
      "100%|██████████| 60/60 [00:03<00:00, 17.88it/s]\n"
     ]
    },
    {
     "name": "stdout",
     "output_type": "stream",
     "text": [
      "  Predicted in 24.18s\n",
      "Saving segmentations...\n",
      "Creating lung_vessels.nii.gz\n",
      "\n"
     ]
    },
    {
     "data": {
      "application/vnd.jupyter.widget-view+json": {
       "model_id": "bd77012d8fde4dc88992b4149984cc2d",
       "version_major": 2,
       "version_minor": 0
      },
      "text/plain": [
       "  0%|          | 0/2 [00:00<?, ?it/s]"
      ]
     },
     "metadata": {},
     "output_type": "display_data"
    },
    {
     "name": "stdout",
     "output_type": "stream",
     "text": [
      "Creating lung_trachea_bronchia.nii.gz  Saved in 0.46s\n",
      "\n",
      "If you use this tool please cite: https://pubs.rsna.org/doi/10.1148/ryai.230024\n",
      "\n",
      "Resampling...\n",
      "  Resampled in 3.71s\n",
      "Predicting...\n"
     ]
    },
    {
     "name": "stderr",
     "output_type": "stream",
     "text": [
      "/ocean/projects/asc170022p/mtragoza/mambaforge/envs/lung-project/lib/python3.10/site-packages/nnunetv2/utilities/plans_handling/plans_handler.py:37: UserWarning: Detected old nnU-Net plans format. Attempting to reconstruct network architecture parameters. If this fails, rerun nnUNetv2_plan_experiment for your dataset. If you use a custom architecture, please downgrade nnU-Net to the version you implemented this or update your implementation + plans.\n",
      "  warnings.warn(\"Detected old nnU-Net plans format. Attempting to reconstruct network architecture \"\n",
      "100%|██████████| 27/27 [00:01<00:00, 21.16it/s]\n"
     ]
    },
    {
     "name": "stdout",
     "output_type": "stream",
     "text": [
      "  Predicted in 11.92s\n"
     ]
    },
    {
     "name": "stderr",
     "output_type": "stream",
     "text": [
      "100%|██████████| 1/1 [00:00<00:00,  5.04it/s]\n",
      "100%|██████████| 1/1 [00:00<00:00,  5.55it/s]\n"
     ]
    },
    {
     "name": "stdout",
     "output_type": "stream",
     "text": [
      "Resampling...\n",
      "Saving segmentations...\n",
      "Creating body_trunc.nii.gz\n",
      "Creating body_extremities.nii.gz\n"
     ]
    },
    {
     "data": {
      "application/vnd.jupyter.widget-view+json": {
       "model_id": "3508dcc662bf47fa858637dc7861e1fa",
       "version_major": 2,
       "version_minor": 0
      },
      "text/plain": [
       "  0%|          | 0/2 [00:00<?, ?it/s]"
      ]
     },
     "metadata": {},
     "output_type": "display_data"
    },
    {
     "name": "stdout",
     "output_type": "stream",
     "text": [
      "  Saved in 0.38s\n",
      "Creating body.nii.gz\n",
      "Creating skin.nii.gz\n",
      "Segmenting Case9Pack phase 60\n",
      "\n",
      "If you use this tool please cite: https://pubs.rsna.org/doi/10.1148/ryai.230024\n",
      "\n",
      "Generating rough body segmentation...\n",
      "Resampling...\n",
      "  Resampled in 0.27s\n",
      "Predicting...\n"
     ]
    },
    {
     "name": "stderr",
     "output_type": "stream",
     "text": [
      "/ocean/projects/asc170022p/mtragoza/mambaforge/envs/lung-project/lib/python3.10/site-packages/nnunetv2/utilities/plans_handling/plans_handler.py:37: UserWarning: Detected old nnU-Net plans format. Attempting to reconstruct network architecture parameters. If this fails, rerun nnUNetv2_plan_experiment for your dataset. If you use a custom architecture, please downgrade nnU-Net to the version you implemented this or update your implementation + plans.\n",
      "  warnings.warn(\"Detected old nnU-Net plans format. Attempting to reconstruct network architecture \"\n",
      "100%|██████████| 1/1 [00:00<00:00, 90.20it/s]\n"
     ]
    },
    {
     "name": "stdout",
     "output_type": "stream",
     "text": [
      "  Predicted in 8.29s\n",
      "Resampling...\n",
      "  cropping from (256, 256, 94) to (208, 167, 65)\n",
      "Resampling...\n",
      "  Resampled in 1.34s\n",
      "Predicting part 1 of 1 ...\n"
     ]
    },
    {
     "name": "stderr",
     "output_type": "stream",
     "text": [
      "100%|██████████| 8/8 [00:00<00:00, 31.97it/s]\n"
     ]
    },
    {
     "name": "stdout",
     "output_type": "stream",
     "text": [
      "  Predicted in 10.04s\n",
      "Resampling...\n",
      "Saving segmentations...\n"
     ]
    },
    {
     "data": {
      "application/vnd.jupyter.widget-view+json": {
       "model_id": "a6a98ff7fcec4f6a878b8c7520f848df",
       "version_major": 2,
       "version_minor": 0
      },
      "text/plain": [
       "  0%|          | 0/5 [00:00<?, ?it/s]"
      ]
     },
     "metadata": {},
     "output_type": "display_data"
    },
    {
     "name": "stdout",
     "output_type": "stream",
     "text": [
      "  Saved in 0.55s\n",
      "\n",
      "If you use this tool please cite: https://pubs.rsna.org/doi/10.1148/ryai.230024\n",
      "\n",
      "Generating rough body segmentation...\n",
      "Resampling...\n",
      "  Resampled in 0.27s\n",
      "Predicting...\n"
     ]
    },
    {
     "name": "stderr",
     "output_type": "stream",
     "text": [
      "/ocean/projects/asc170022p/mtragoza/mambaforge/envs/lung-project/lib/python3.10/site-packages/nnunetv2/utilities/plans_handling/plans_handler.py:37: UserWarning: Detected old nnU-Net plans format. Attempting to reconstruct network architecture parameters. If this fails, rerun nnUNetv2_plan_experiment for your dataset. If you use a custom architecture, please downgrade nnU-Net to the version you implemented this or update your implementation + plans.\n",
      "  warnings.warn(\"Detected old nnU-Net plans format. Attempting to reconstruct network architecture \"\n",
      "100%|██████████| 1/1 [00:00<00:00, 48.03it/s]\n"
     ]
    },
    {
     "name": "stdout",
     "output_type": "stream",
     "text": [
      "  Predicted in 8.22s\n",
      "Resampling...\n",
      "  cropping from (256, 256, 94) to (208, 167, 65)\n",
      "Predicting...\n"
     ]
    },
    {
     "name": "stderr",
     "output_type": "stream",
     "text": [
      "100%|██████████| 60/60 [00:03<00:00, 17.91it/s]\n"
     ]
    },
    {
     "name": "stdout",
     "output_type": "stream",
     "text": [
      "  Predicted in 22.65s\n",
      "Saving segmentations...\n",
      "Creating lung_vessels.nii.gz\n",
      "Creating lung_trachea_bronchia.nii.gz\n"
     ]
    },
    {
     "data": {
      "application/vnd.jupyter.widget-view+json": {
       "model_id": "d9c7474bf00d4538bee5e47ef73abf30",
       "version_major": 2,
       "version_minor": 0
      },
      "text/plain": [
       "  0%|          | 0/2 [00:00<?, ?it/s]"
      ]
     },
     "metadata": {},
     "output_type": "display_data"
    },
    {
     "name": "stdout",
     "output_type": "stream",
     "text": [
      "  Saved in 0.46s\n",
      "\n",
      "If you use this tool please cite: https://pubs.rsna.org/doi/10.1148/ryai.230024\n",
      "\n",
      "Resampling...\n",
      "  Resampled in 3.71s\n",
      "Predicting...\n"
     ]
    },
    {
     "name": "stderr",
     "output_type": "stream",
     "text": [
      "/ocean/projects/asc170022p/mtragoza/mambaforge/envs/lung-project/lib/python3.10/site-packages/nnunetv2/utilities/plans_handling/plans_handler.py:37: UserWarning: Detected old nnU-Net plans format. Attempting to reconstruct network architecture parameters. If this fails, rerun nnUNetv2_plan_experiment for your dataset. If you use a custom architecture, please downgrade nnU-Net to the version you implemented this or update your implementation + plans.\n",
      "  warnings.warn(\"Detected old nnU-Net plans format. Attempting to reconstruct network architecture \"\n",
      "100%|██████████| 27/27 [00:01<00:00, 21.17it/s]\n"
     ]
    },
    {
     "name": "stdout",
     "output_type": "stream",
     "text": [
      "  Predicted in 11.72s\n"
     ]
    },
    {
     "name": "stderr",
     "output_type": "stream",
     "text": [
      "100%|██████████| 1/1 [00:00<00:00,  5.32it/s]\n",
      "100%|██████████| 1/1 [00:00<00:00,  5.66it/s]\n"
     ]
    },
    {
     "name": "stdout",
     "output_type": "stream",
     "text": [
      "Resampling...\n",
      "Saving segmentations...\n",
      "Creating body_trunc.nii.gz\n",
      "Creating body_extremities.nii.gz\n"
     ]
    },
    {
     "data": {
      "application/vnd.jupyter.widget-view+json": {
       "model_id": "50fabecff6f848b59e5c9b3250bf6cb8",
       "version_major": 2,
       "version_minor": 0
      },
      "text/plain": [
       "  0%|          | 0/2 [00:00<?, ?it/s]"
      ]
     },
     "metadata": {},
     "output_type": "display_data"
    },
    {
     "name": "stdout",
     "output_type": "stream",
     "text": [
      "  Saved in 0.35s\n",
      "Creating body.nii.gz\n",
      "Creating skin.nii.gz\n",
      "Segmenting Case9Pack phase 70\n",
      "\n",
      "If you use this tool please cite: https://pubs.rsna.org/doi/10.1148/ryai.230024\n",
      "\n",
      "Generating rough body segmentation...\n",
      "Resampling...\n",
      "  Resampled in 0.27s\n",
      "Predicting...\n"
     ]
    },
    {
     "name": "stderr",
     "output_type": "stream",
     "text": [
      "/ocean/projects/asc170022p/mtragoza/mambaforge/envs/lung-project/lib/python3.10/site-packages/nnunetv2/utilities/plans_handling/plans_handler.py:37: UserWarning: Detected old nnU-Net plans format. Attempting to reconstruct network architecture parameters. If this fails, rerun nnUNetv2_plan_experiment for your dataset. If you use a custom architecture, please downgrade nnU-Net to the version you implemented this or update your implementation + plans.\n",
      "  warnings.warn(\"Detected old nnU-Net plans format. Attempting to reconstruct network architecture \"\n",
      "100%|██████████| 1/1 [00:00<00:00, 76.07it/s]\n"
     ]
    },
    {
     "name": "stdout",
     "output_type": "stream",
     "text": [
      "  Predicted in 8.32s\n",
      "Resampling...\n",
      "  cropping from (256, 256, 94) to (208, 167, 76)\n",
      "Resampling...\n",
      "  Resampled in 1.57s\n",
      "Predicting part 1 of 1 ...\n"
     ]
    },
    {
     "name": "stderr",
     "output_type": "stream",
     "text": [
      "100%|██████████| 8/8 [00:00<00:00, 32.96it/s]\n"
     ]
    },
    {
     "name": "stdout",
     "output_type": "stream",
     "text": [
      "  Predicted in 10.25s\n",
      "Resampling...\n",
      "Saving segmentations...\n"
     ]
    },
    {
     "data": {
      "application/vnd.jupyter.widget-view+json": {
       "model_id": "2a582576f4ad4dc29fd3c30ac49443c1",
       "version_major": 2,
       "version_minor": 0
      },
      "text/plain": [
       "  0%|          | 0/5 [00:00<?, ?it/s]"
      ]
     },
     "metadata": {},
     "output_type": "display_data"
    },
    {
     "name": "stdout",
     "output_type": "stream",
     "text": [
      "  Saved in 0.55s\n",
      "\n",
      "If you use this tool please cite: https://pubs.rsna.org/doi/10.1148/ryai.230024\n",
      "\n",
      "Generating rough body segmentation...\n",
      "Resampling...\n",
      "  Resampled in 0.27s\n",
      "Predicting...\n"
     ]
    },
    {
     "name": "stderr",
     "output_type": "stream",
     "text": [
      "/ocean/projects/asc170022p/mtragoza/mambaforge/envs/lung-project/lib/python3.10/site-packages/nnunetv2/utilities/plans_handling/plans_handler.py:37: UserWarning: Detected old nnU-Net plans format. Attempting to reconstruct network architecture parameters. If this fails, rerun nnUNetv2_plan_experiment for your dataset. If you use a custom architecture, please downgrade nnU-Net to the version you implemented this or update your implementation + plans.\n",
      "  warnings.warn(\"Detected old nnU-Net plans format. Attempting to reconstruct network architecture \"\n",
      "100%|██████████| 1/1 [00:00<00:00, 93.37it/s]\n"
     ]
    },
    {
     "name": "stdout",
     "output_type": "stream",
     "text": [
      "  Predicted in 8.16s\n",
      "Resampling...\n",
      "  cropping from (256, 256, 94) to (208, 167, 76)\n",
      "Predicting...\n"
     ]
    },
    {
     "name": "stderr",
     "output_type": "stream",
     "text": [
      "100%|██████████| 80/80 [00:04<00:00, 17.62it/s]\n"
     ]
    },
    {
     "name": "stdout",
     "output_type": "stream",
     "text": [
      "  Predicted in 25.52s\n",
      "Saving segmentations...\n",
      "Creating lung_vessels.nii.gz\n",
      "Creating lung_trachea_bronchia.nii.gz"
     ]
    },
    {
     "data": {
      "application/vnd.jupyter.widget-view+json": {
       "model_id": "59fc06b367f742f29e0ff7dc1523cf44",
       "version_major": 2,
       "version_minor": 0
      },
      "text/plain": [
       "  0%|          | 0/2 [00:00<?, ?it/s]"
      ]
     },
     "metadata": {},
     "output_type": "display_data"
    },
    {
     "name": "stdout",
     "output_type": "stream",
     "text": [
      "\n",
      "  Saved in 0.48s\n",
      "\n",
      "If you use this tool please cite: https://pubs.rsna.org/doi/10.1148/ryai.230024\n",
      "\n",
      "Resampling...\n",
      "  Resampled in 3.69s\n",
      "Predicting...\n"
     ]
    },
    {
     "name": "stderr",
     "output_type": "stream",
     "text": [
      "/ocean/projects/asc170022p/mtragoza/mambaforge/envs/lung-project/lib/python3.10/site-packages/nnunetv2/utilities/plans_handling/plans_handler.py:37: UserWarning: Detected old nnU-Net plans format. Attempting to reconstruct network architecture parameters. If this fails, rerun nnUNetv2_plan_experiment for your dataset. If you use a custom architecture, please downgrade nnU-Net to the version you implemented this or update your implementation + plans.\n",
      "  warnings.warn(\"Detected old nnU-Net plans format. Attempting to reconstruct network architecture \"\n",
      "100%|██████████| 27/27 [00:01<00:00, 21.11it/s]\n"
     ]
    },
    {
     "name": "stdout",
     "output_type": "stream",
     "text": [
      "  Predicted in 11.80s\n"
     ]
    },
    {
     "name": "stderr",
     "output_type": "stream",
     "text": [
      "100%|██████████| 1/1 [00:00<00:00,  5.57it/s]\n",
      "100%|██████████| 1/1 [00:00<00:00,  5.49it/s]\n"
     ]
    },
    {
     "name": "stdout",
     "output_type": "stream",
     "text": [
      "Resampling...\n",
      "Saving segmentations...\n",
      "Creating body_trunc.nii.gz\n",
      "Creating body_extremities.nii.gz"
     ]
    },
    {
     "data": {
      "application/vnd.jupyter.widget-view+json": {
       "model_id": "e61e83994cd84fc2a802153f4c998590",
       "version_major": 2,
       "version_minor": 0
      },
      "text/plain": [
       "  0%|          | 0/2 [00:00<?, ?it/s]"
      ]
     },
     "metadata": {},
     "output_type": "display_data"
    },
    {
     "name": "stdout",
     "output_type": "stream",
     "text": [
      "\n",
      "  Saved in 0.38s\n",
      "Creating body.nii.gz\n",
      "Creating skin.nii.gz\n",
      "Segmenting Case9Pack phase 80\n",
      "\n",
      "If you use this tool please cite: https://pubs.rsna.org/doi/10.1148/ryai.230024\n",
      "\n",
      "Generating rough body segmentation...\n",
      "Resampling...\n",
      "  Resampled in 0.27s\n",
      "Predicting...\n"
     ]
    },
    {
     "name": "stderr",
     "output_type": "stream",
     "text": [
      "/ocean/projects/asc170022p/mtragoza/mambaforge/envs/lung-project/lib/python3.10/site-packages/nnunetv2/utilities/plans_handling/plans_handler.py:37: UserWarning: Detected old nnU-Net plans format. Attempting to reconstruct network architecture parameters. If this fails, rerun nnUNetv2_plan_experiment for your dataset. If you use a custom architecture, please downgrade nnU-Net to the version you implemented this or update your implementation + plans.\n",
      "  warnings.warn(\"Detected old nnU-Net plans format. Attempting to reconstruct network architecture \"\n",
      "100%|██████████| 1/1 [00:00<00:00, 95.13it/s]\n"
     ]
    },
    {
     "name": "stdout",
     "output_type": "stream",
     "text": [
      "  Predicted in 8.17s\n",
      "Resampling...\n",
      "  cropping from (256, 256, 94) to (208, 167, 76)\n",
      "Resampling...\n",
      "  Resampled in 1.56s\n",
      "Predicting part 1 of 1 ...\n"
     ]
    },
    {
     "name": "stderr",
     "output_type": "stream",
     "text": [
      "100%|██████████| 8/8 [00:00<00:00, 33.04it/s]\n"
     ]
    },
    {
     "name": "stdout",
     "output_type": "stream",
     "text": [
      "  Predicted in 10.28s\n",
      "Resampling...\n",
      "Saving segmentations...\n"
     ]
    },
    {
     "data": {
      "application/vnd.jupyter.widget-view+json": {
       "model_id": "ebffb257f1d242c89f540487f0c86c02",
       "version_major": 2,
       "version_minor": 0
      },
      "text/plain": [
       "  0%|          | 0/5 [00:00<?, ?it/s]"
      ]
     },
     "metadata": {},
     "output_type": "display_data"
    },
    {
     "name": "stdout",
     "output_type": "stream",
     "text": [
      "  Saved in 0.62s\n",
      "\n",
      "If you use this tool please cite: https://pubs.rsna.org/doi/10.1148/ryai.230024\n",
      "\n",
      "Generating rough body segmentation...\n",
      "Resampling...\n",
      "  Resampled in 0.27s\n",
      "Predicting...\n"
     ]
    },
    {
     "name": "stderr",
     "output_type": "stream",
     "text": [
      "/ocean/projects/asc170022p/mtragoza/mambaforge/envs/lung-project/lib/python3.10/site-packages/nnunetv2/utilities/plans_handling/plans_handler.py:37: UserWarning: Detected old nnU-Net plans format. Attempting to reconstruct network architecture parameters. If this fails, rerun nnUNetv2_plan_experiment for your dataset. If you use a custom architecture, please downgrade nnU-Net to the version you implemented this or update your implementation + plans.\n",
      "  warnings.warn(\"Detected old nnU-Net plans format. Attempting to reconstruct network architecture \"\n",
      "100%|██████████| 1/1 [00:00<00:00, 95.19it/s]\n"
     ]
    },
    {
     "name": "stdout",
     "output_type": "stream",
     "text": [
      "  Predicted in 8.24s\n",
      "Resampling...\n",
      "  cropping from (256, 256, 94) to (208, 167, 76)\n",
      "Predicting...\n"
     ]
    },
    {
     "name": "stderr",
     "output_type": "stream",
     "text": [
      "100%|██████████| 80/80 [00:04<00:00, 17.63it/s]\n"
     ]
    },
    {
     "name": "stdout",
     "output_type": "stream",
     "text": [
      "  Predicted in 25.72s\n",
      "Saving segmentations...\n",
      "Creating lung_vessels.nii.gz\n"
     ]
    },
    {
     "data": {
      "application/vnd.jupyter.widget-view+json": {
       "model_id": "8418df3c1a2c4a72890e88d88ffaa1fc",
       "version_major": 2,
       "version_minor": 0
      },
      "text/plain": [
       "  0%|          | 0/2 [00:00<?, ?it/s]"
      ]
     },
     "metadata": {},
     "output_type": "display_data"
    },
    {
     "name": "stdout",
     "output_type": "stream",
     "text": [
      "Creating lung_trachea_bronchia.nii.gz\n",
      "  Saved in 0.54s\n",
      "\n",
      "If you use this tool please cite: https://pubs.rsna.org/doi/10.1148/ryai.230024\n",
      "\n",
      "Resampling...\n",
      "  Resampled in 3.69s\n",
      "Predicting...\n"
     ]
    },
    {
     "name": "stderr",
     "output_type": "stream",
     "text": [
      "/ocean/projects/asc170022p/mtragoza/mambaforge/envs/lung-project/lib/python3.10/site-packages/nnunetv2/utilities/plans_handling/plans_handler.py:37: UserWarning: Detected old nnU-Net plans format. Attempting to reconstruct network architecture parameters. If this fails, rerun nnUNetv2_plan_experiment for your dataset. If you use a custom architecture, please downgrade nnU-Net to the version you implemented this or update your implementation + plans.\n",
      "  warnings.warn(\"Detected old nnU-Net plans format. Attempting to reconstruct network architecture \"\n",
      "100%|██████████| 27/27 [00:01<00:00, 21.07it/s]\n"
     ]
    },
    {
     "name": "stdout",
     "output_type": "stream",
     "text": [
      "  Predicted in 11.82s\n"
     ]
    },
    {
     "name": "stderr",
     "output_type": "stream",
     "text": [
      "100%|██████████| 1/1 [00:00<00:00,  5.29it/s]\n",
      "100%|██████████| 1/1 [00:00<00:00,  5.63it/s]\n"
     ]
    },
    {
     "name": "stdout",
     "output_type": "stream",
     "text": [
      "Resampling...\n",
      "Saving segmentations...\n",
      "Creating body_trunc.nii.gz"
     ]
    },
    {
     "data": {
      "application/vnd.jupyter.widget-view+json": {
       "model_id": "646f45713da449d58c7c990d9b9fbab9",
       "version_major": 2,
       "version_minor": 0
      },
      "text/plain": [
       "  0%|          | 0/2 [00:00<?, ?it/s]"
      ]
     },
     "metadata": {},
     "output_type": "display_data"
    },
    {
     "name": "stdout",
     "output_type": "stream",
     "text": [
      "\n",
      "Creating body_extremities.nii.gz\n",
      "  Saved in 0.39s\n",
      "Creating body.nii.gz\n",
      "Creating skin.nii.gz\n",
      "Segmenting Case9Pack phase 90\n",
      "\n",
      "If you use this tool please cite: https://pubs.rsna.org/doi/10.1148/ryai.230024\n",
      "\n",
      "Generating rough body segmentation...\n",
      "Resampling...\n",
      "  Resampled in 0.27s\n",
      "Predicting...\n"
     ]
    },
    {
     "name": "stderr",
     "output_type": "stream",
     "text": [
      "/ocean/projects/asc170022p/mtragoza/mambaforge/envs/lung-project/lib/python3.10/site-packages/nnunetv2/utilities/plans_handling/plans_handler.py:37: UserWarning: Detected old nnU-Net plans format. Attempting to reconstruct network architecture parameters. If this fails, rerun nnUNetv2_plan_experiment for your dataset. If you use a custom architecture, please downgrade nnU-Net to the version you implemented this or update your implementation + plans.\n",
      "  warnings.warn(\"Detected old nnU-Net plans format. Attempting to reconstruct network architecture \"\n",
      "100%|██████████| 1/1 [00:00<00:00, 94.86it/s]\n"
     ]
    },
    {
     "name": "stdout",
     "output_type": "stream",
     "text": [
      "  Predicted in 8.26s\n",
      "Resampling...\n",
      "  cropping from (256, 256, 94) to (208, 167, 67)\n",
      "Resampling...\n",
      "  Resampled in 1.38s\n",
      "Predicting part 1 of 1 ...\n"
     ]
    },
    {
     "name": "stderr",
     "output_type": "stream",
     "text": [
      "100%|██████████| 8/8 [00:00<00:00, 32.66it/s]\n"
     ]
    },
    {
     "name": "stdout",
     "output_type": "stream",
     "text": [
      "  Predicted in 10.02s\n",
      "Resampling...\n",
      "Saving segmentations...\n"
     ]
    },
    {
     "data": {
      "application/vnd.jupyter.widget-view+json": {
       "model_id": "ac80478089d146a6a15ec57c903ecb77",
       "version_major": 2,
       "version_minor": 0
      },
      "text/plain": [
       "  0%|          | 0/5 [00:00<?, ?it/s]"
      ]
     },
     "metadata": {},
     "output_type": "display_data"
    },
    {
     "name": "stdout",
     "output_type": "stream",
     "text": [
      "  Saved in 0.54s\n",
      "\n",
      "If you use this tool please cite: https://pubs.rsna.org/doi/10.1148/ryai.230024\n",
      "\n",
      "Generating rough body segmentation...\n",
      "Resampling...\n",
      "  Resampled in 0.27s\n",
      "Predicting...\n"
     ]
    },
    {
     "name": "stderr",
     "output_type": "stream",
     "text": [
      "/ocean/projects/asc170022p/mtragoza/mambaforge/envs/lung-project/lib/python3.10/site-packages/nnunetv2/utilities/plans_handling/plans_handler.py:37: UserWarning: Detected old nnU-Net plans format. Attempting to reconstruct network architecture parameters. If this fails, rerun nnUNetv2_plan_experiment for your dataset. If you use a custom architecture, please downgrade nnU-Net to the version you implemented this or update your implementation + plans.\n",
      "  warnings.warn(\"Detected old nnU-Net plans format. Attempting to reconstruct network architecture \"\n",
      "100%|██████████| 1/1 [00:00<00:00, 108.46it/s]\n"
     ]
    },
    {
     "name": "stdout",
     "output_type": "stream",
     "text": [
      "  Predicted in 8.25s\n",
      "Resampling...\n",
      "  cropping from (256, 256, 94) to (208, 167, 67)\n",
      "Predicting...\n"
     ]
    },
    {
     "name": "stderr",
     "output_type": "stream",
     "text": [
      "100%|██████████| 60/60 [00:03<00:00, 17.89it/s]\n"
     ]
    },
    {
     "name": "stdout",
     "output_type": "stream",
     "text": [
      "  Predicted in 23.13s\n",
      "Saving segmentations...\n",
      "Creating lung_vessels.nii.gz\n",
      "\n"
     ]
    },
    {
     "data": {
      "application/vnd.jupyter.widget-view+json": {
       "model_id": "41669b94f49544979502eec17d648e40",
       "version_major": 2,
       "version_minor": 0
      },
      "text/plain": [
       "  0%|          | 0/2 [00:00<?, ?it/s]"
      ]
     },
     "metadata": {},
     "output_type": "display_data"
    },
    {
     "name": "stdout",
     "output_type": "stream",
     "text": [
      "Creating lung_trachea_bronchia.nii.gz  Saved in 0.51s\n",
      "\n",
      "If you use this tool please cite: https://pubs.rsna.org/doi/10.1148/ryai.230024\n",
      "\n",
      "Resampling...\n",
      "  Resampled in 3.68s\n",
      "Predicting...\n"
     ]
    },
    {
     "name": "stderr",
     "output_type": "stream",
     "text": [
      "/ocean/projects/asc170022p/mtragoza/mambaforge/envs/lung-project/lib/python3.10/site-packages/nnunetv2/utilities/plans_handling/plans_handler.py:37: UserWarning: Detected old nnU-Net plans format. Attempting to reconstruct network architecture parameters. If this fails, rerun nnUNetv2_plan_experiment for your dataset. If you use a custom architecture, please downgrade nnU-Net to the version you implemented this or update your implementation + plans.\n",
      "  warnings.warn(\"Detected old nnU-Net plans format. Attempting to reconstruct network architecture \"\n",
      "100%|██████████| 27/27 [00:01<00:00, 21.05it/s]\n"
     ]
    },
    {
     "name": "stdout",
     "output_type": "stream",
     "text": [
      "  Predicted in 11.62s\n"
     ]
    },
    {
     "name": "stderr",
     "output_type": "stream",
     "text": [
      "100%|██████████| 1/1 [00:00<00:00,  5.32it/s]\n",
      "100%|██████████| 1/1 [00:00<00:00,  5.59it/s]\n"
     ]
    },
    {
     "name": "stdout",
     "output_type": "stream",
     "text": [
      "Resampling...\n",
      "Saving segmentations...\n",
      "Creating body_trunc.nii.gz\n"
     ]
    },
    {
     "data": {
      "application/vnd.jupyter.widget-view+json": {
       "model_id": "0dc645cceb044e869be485c2f5137923",
       "version_major": 2,
       "version_minor": 0
      },
      "text/plain": [
       "  0%|          | 0/2 [00:00<?, ?it/s]"
      ]
     },
     "metadata": {},
     "output_type": "display_data"
    },
    {
     "name": "stdout",
     "output_type": "stream",
     "text": [
      "Creating body_extremities.nii.gz\n",
      "  Saved in 19.95s\n",
      "Creating body.nii.gz\n",
      "Creating skin.nii.gz\n",
      "Segmenting Case10Pack phase 0\n",
      "\n",
      "If you use this tool please cite: https://pubs.rsna.org/doi/10.1148/ryai.230024\n",
      "\n",
      "Generating rough body segmentation...\n",
      "Resampling...\n",
      "  Resampled in 0.25s\n",
      "Predicting...\n"
     ]
    },
    {
     "name": "stderr",
     "output_type": "stream",
     "text": [
      "/ocean/projects/asc170022p/mtragoza/mambaforge/envs/lung-project/lib/python3.10/site-packages/nnunetv2/utilities/plans_handling/plans_handler.py:37: UserWarning: Detected old nnU-Net plans format. Attempting to reconstruct network architecture parameters. If this fails, rerun nnUNetv2_plan_experiment for your dataset. If you use a custom architecture, please downgrade nnU-Net to the version you implemented this or update your implementation + plans.\n",
      "  warnings.warn(\"Detected old nnU-Net plans format. Attempting to reconstruct network architecture \"\n",
      "100%|██████████| 1/1 [00:00<00:00,  1.46it/s]\n"
     ]
    },
    {
     "name": "stdout",
     "output_type": "stream",
     "text": [
      "  Predicted in 16.67s\n",
      "Resampling...\n",
      "  cropping from (256, 256, 94) to (214, 199, 93)\n",
      "Resampling...\n",
      "  Resampled in 1.95s\n",
      "Predicting part 1 of 1 ...\n"
     ]
    },
    {
     "name": "stderr",
     "output_type": "stream",
     "text": [
      "100%|██████████| 8/8 [00:00<00:00, 32.84it/s]\n"
     ]
    },
    {
     "name": "stdout",
     "output_type": "stream",
     "text": [
      "  Predicted in 10.73s\n",
      "Resampling...\n",
      "Saving segmentations...\n"
     ]
    },
    {
     "data": {
      "application/vnd.jupyter.widget-view+json": {
       "model_id": "be0db3ae39f7449b944b3da5c3c02b23",
       "version_major": 2,
       "version_minor": 0
      },
      "text/plain": [
       "  0%|          | 0/5 [00:00<?, ?it/s]"
      ]
     },
     "metadata": {},
     "output_type": "display_data"
    },
    {
     "name": "stdout",
     "output_type": "stream",
     "text": [
      "  Saved in 0.57s\n",
      "\n",
      "If you use this tool please cite: https://pubs.rsna.org/doi/10.1148/ryai.230024\n",
      "\n",
      "Generating rough body segmentation...\n",
      "Resampling...\n",
      "  Resampled in 0.25s\n",
      "Predicting...\n"
     ]
    },
    {
     "name": "stderr",
     "output_type": "stream",
     "text": [
      "/ocean/projects/asc170022p/mtragoza/mambaforge/envs/lung-project/lib/python3.10/site-packages/nnunetv2/utilities/plans_handling/plans_handler.py:37: UserWarning: Detected old nnU-Net plans format. Attempting to reconstruct network architecture parameters. If this fails, rerun nnUNetv2_plan_experiment for your dataset. If you use a custom architecture, please downgrade nnU-Net to the version you implemented this or update your implementation + plans.\n",
      "  warnings.warn(\"Detected old nnU-Net plans format. Attempting to reconstruct network architecture \"\n",
      "100%|██████████| 1/1 [00:00<00:00, 93.91it/s]\n"
     ]
    },
    {
     "name": "stdout",
     "output_type": "stream",
     "text": [
      "  Predicted in 8.28s\n",
      "Resampling...\n",
      "  cropping from (256, 256, 94) to (214, 199, 93)\n",
      "Predicting...\n"
     ]
    },
    {
     "name": "stderr",
     "output_type": "stream",
     "text": [
      "100%|██████████| 80/80 [00:04<00:00, 17.68it/s]\n"
     ]
    },
    {
     "name": "stdout",
     "output_type": "stream",
     "text": [
      "  Predicted in 29.05s\n",
      "Saving segmentations...\n",
      "Creating lung_vessels.nii.gz\n",
      "Creating lung_trachea_bronchia.nii.gz\n"
     ]
    },
    {
     "data": {
      "application/vnd.jupyter.widget-view+json": {
       "model_id": "a00f7417ae564ca1b31ccc0f61eb2607",
       "version_major": 2,
       "version_minor": 0
      },
      "text/plain": [
       "  0%|          | 0/2 [00:00<?, ?it/s]"
      ]
     },
     "metadata": {},
     "output_type": "display_data"
    },
    {
     "name": "stdout",
     "output_type": "stream",
     "text": [
      "  Saved in 0.50s\n",
      "\n",
      "If you use this tool please cite: https://pubs.rsna.org/doi/10.1148/ryai.230024\n",
      "\n",
      "Resampling...\n",
      "  Resampled in 3.08s\n",
      "Predicting...\n"
     ]
    },
    {
     "name": "stderr",
     "output_type": "stream",
     "text": [
      "/ocean/projects/asc170022p/mtragoza/mambaforge/envs/lung-project/lib/python3.10/site-packages/nnunetv2/utilities/plans_handling/plans_handler.py:37: UserWarning: Detected old nnU-Net plans format. Attempting to reconstruct network architecture parameters. If this fails, rerun nnUNetv2_plan_experiment for your dataset. If you use a custom architecture, please downgrade nnU-Net to the version you implemented this or update your implementation + plans.\n",
      "  warnings.warn(\"Detected old nnU-Net plans format. Attempting to reconstruct network architecture \"\n",
      "100%|██████████| 27/27 [00:01<00:00, 21.09it/s]\n"
     ]
    },
    {
     "name": "stdout",
     "output_type": "stream",
     "text": [
      "  Predicted in 11.50s\n"
     ]
    },
    {
     "name": "stderr",
     "output_type": "stream",
     "text": [
      "100%|██████████| 1/1 [00:00<00:00,  6.66it/s]\n",
      "100%|██████████| 1/1 [00:00<00:00,  6.96it/s]\n"
     ]
    },
    {
     "name": "stdout",
     "output_type": "stream",
     "text": [
      "Resampling...\n",
      "Saving segmentations...\n",
      "Creating body_trunc.nii.gz\n",
      "Creating body_extremities.nii.gz"
     ]
    },
    {
     "data": {
      "application/vnd.jupyter.widget-view+json": {
       "model_id": "0597d919017543138a7dd0befd8e848f",
       "version_major": 2,
       "version_minor": 0
      },
      "text/plain": [
       "  0%|          | 0/2 [00:00<?, ?it/s]"
      ]
     },
     "metadata": {},
     "output_type": "display_data"
    },
    {
     "name": "stdout",
     "output_type": "stream",
     "text": [
      "\n",
      "  Saved in 0.35s\n",
      "Creating body.nii.gz\n",
      "Creating skin.nii.gz\n",
      "Segmenting Case10Pack phase 10\n",
      "\n",
      "If you use this tool please cite: https://pubs.rsna.org/doi/10.1148/ryai.230024\n",
      "\n",
      "Generating rough body segmentation...\n",
      "Resampling...\n",
      "  Resampled in 0.25s\n",
      "Predicting...\n"
     ]
    },
    {
     "name": "stderr",
     "output_type": "stream",
     "text": [
      "/ocean/projects/asc170022p/mtragoza/mambaforge/envs/lung-project/lib/python3.10/site-packages/nnunetv2/utilities/plans_handling/plans_handler.py:37: UserWarning: Detected old nnU-Net plans format. Attempting to reconstruct network architecture parameters. If this fails, rerun nnUNetv2_plan_experiment for your dataset. If you use a custom architecture, please downgrade nnU-Net to the version you implemented this or update your implementation + plans.\n",
      "  warnings.warn(\"Detected old nnU-Net plans format. Attempting to reconstruct network architecture \"\n",
      "100%|██████████| 1/1 [00:00<00:00, 100.72it/s]\n"
     ]
    },
    {
     "name": "stdout",
     "output_type": "stream",
     "text": [
      "  Predicted in 8.60s\n",
      "Resampling...\n",
      "  cropping from (256, 256, 94) to (214, 204, 93)\n",
      "Resampling...\n",
      "  Resampled in 2.00s\n",
      "Predicting part 1 of 1 ...\n"
     ]
    },
    {
     "name": "stderr",
     "output_type": "stream",
     "text": [
      "100%|██████████| 8/8 [00:00<00:00, 31.90it/s]\n"
     ]
    },
    {
     "name": "stdout",
     "output_type": "stream",
     "text": [
      "  Predicted in 10.85s\n",
      "Resampling...\n",
      "Saving segmentations...\n"
     ]
    },
    {
     "data": {
      "application/vnd.jupyter.widget-view+json": {
       "model_id": "81954f60b8f149ce88fea447da35b001",
       "version_major": 2,
       "version_minor": 0
      },
      "text/plain": [
       "  0%|          | 0/5 [00:00<?, ?it/s]"
      ]
     },
     "metadata": {},
     "output_type": "display_data"
    },
    {
     "name": "stdout",
     "output_type": "stream",
     "text": [
      "  Saved in 3.77s\n",
      "\n",
      "If you use this tool please cite: https://pubs.rsna.org/doi/10.1148/ryai.230024\n",
      "\n",
      "Generating rough body segmentation...\n",
      "Resampling...\n",
      "  Resampled in 0.25s\n",
      "Predicting...\n"
     ]
    },
    {
     "name": "stderr",
     "output_type": "stream",
     "text": [
      "/ocean/projects/asc170022p/mtragoza/mambaforge/envs/lung-project/lib/python3.10/site-packages/nnunetv2/utilities/plans_handling/plans_handler.py:37: UserWarning: Detected old nnU-Net plans format. Attempting to reconstruct network architecture parameters. If this fails, rerun nnUNetv2_plan_experiment for your dataset. If you use a custom architecture, please downgrade nnU-Net to the version you implemented this or update your implementation + plans.\n",
      "  warnings.warn(\"Detected old nnU-Net plans format. Attempting to reconstruct network architecture \"\n",
      "100%|██████████| 1/1 [00:00<00:00, 70.38it/s]\n"
     ]
    },
    {
     "name": "stdout",
     "output_type": "stream",
     "text": [
      "  Predicted in 8.35s\n",
      "Resampling...\n",
      "  cropping from (256, 256, 94) to (214, 204, 93)\n",
      "Predicting...\n"
     ]
    },
    {
     "name": "stderr",
     "output_type": "stream",
     "text": [
      "100%|██████████| 80/80 [00:04<00:00, 17.69it/s]\n"
     ]
    },
    {
     "name": "stdout",
     "output_type": "stream",
     "text": [
      "  Predicted in 29.52s\n",
      "Saving segmentations...\n",
      "Creating lung_vessels.nii.gz\n",
      "Creating lung_trachea_bronchia.nii.gz\n"
     ]
    },
    {
     "data": {
      "application/vnd.jupyter.widget-view+json": {
       "model_id": "6182690f85954fa684c72f78d778cda7",
       "version_major": 2,
       "version_minor": 0
      },
      "text/plain": [
       "  0%|          | 0/2 [00:00<?, ?it/s]"
      ]
     },
     "metadata": {},
     "output_type": "display_data"
    },
    {
     "name": "stdout",
     "output_type": "stream",
     "text": [
      "  Saved in 18.79s\n",
      "\n",
      "If you use this tool please cite: https://pubs.rsna.org/doi/10.1148/ryai.230024\n",
      "\n",
      "Resampling...\n",
      "  Resampled in 3.06s\n",
      "Predicting...\n"
     ]
    },
    {
     "name": "stderr",
     "output_type": "stream",
     "text": [
      "/ocean/projects/asc170022p/mtragoza/mambaforge/envs/lung-project/lib/python3.10/site-packages/nnunetv2/utilities/plans_handling/plans_handler.py:37: UserWarning: Detected old nnU-Net plans format. Attempting to reconstruct network architecture parameters. If this fails, rerun nnUNetv2_plan_experiment for your dataset. If you use a custom architecture, please downgrade nnU-Net to the version you implemented this or update your implementation + plans.\n",
      "  warnings.warn(\"Detected old nnU-Net plans format. Attempting to reconstruct network architecture \"\n",
      "100%|██████████| 27/27 [00:01<00:00, 21.17it/s]\n"
     ]
    },
    {
     "name": "stdout",
     "output_type": "stream",
     "text": [
      "  Predicted in 11.56s\n"
     ]
    },
    {
     "name": "stderr",
     "output_type": "stream",
     "text": [
      "100%|██████████| 1/1 [00:00<00:00,  6.77it/s]\n",
      "100%|██████████| 1/1 [00:00<00:00,  6.98it/s]\n"
     ]
    },
    {
     "name": "stdout",
     "output_type": "stream",
     "text": [
      "Resampling...\n",
      "Saving segmentations...\n",
      "Creating body_trunc.nii.gz\n",
      "Creating body_extremities.nii.gz"
     ]
    },
    {
     "data": {
      "application/vnd.jupyter.widget-view+json": {
       "model_id": "22c12c26c65c4062bd24ed36813fe8c0",
       "version_major": 2,
       "version_minor": 0
      },
      "text/plain": [
       "  0%|          | 0/2 [00:00<?, ?it/s]"
      ]
     },
     "metadata": {},
     "output_type": "display_data"
    },
    {
     "name": "stdout",
     "output_type": "stream",
     "text": [
      "\n",
      "  Saved in 0.72s\n",
      "Creating body.nii.gz\n",
      "Creating skin.nii.gz\n",
      "Segmenting Case10Pack phase 20\n",
      "\n",
      "If you use this tool please cite: https://pubs.rsna.org/doi/10.1148/ryai.230024\n",
      "\n",
      "Generating rough body segmentation...\n",
      "Resampling...\n",
      "  Resampled in 0.25s\n",
      "Predicting...\n"
     ]
    },
    {
     "name": "stderr",
     "output_type": "stream",
     "text": [
      "/ocean/projects/asc170022p/mtragoza/mambaforge/envs/lung-project/lib/python3.10/site-packages/nnunetv2/utilities/plans_handling/plans_handler.py:37: UserWarning: Detected old nnU-Net plans format. Attempting to reconstruct network architecture parameters. If this fails, rerun nnUNetv2_plan_experiment for your dataset. If you use a custom architecture, please downgrade nnU-Net to the version you implemented this or update your implementation + plans.\n",
      "  warnings.warn(\"Detected old nnU-Net plans format. Attempting to reconstruct network architecture \"\n",
      "100%|██████████| 1/1 [00:00<00:00, 98.94it/s]\n"
     ]
    },
    {
     "name": "stdout",
     "output_type": "stream",
     "text": [
      "  Predicted in 8.43s\n",
      "Resampling...\n",
      "  cropping from (256, 256, 94) to (209, 204, 91)\n",
      "Resampling...\n",
      "  Resampled in 1.92s\n",
      "Predicting part 1 of 1 ...\n"
     ]
    },
    {
     "name": "stderr",
     "output_type": "stream",
     "text": [
      "100%|██████████| 8/8 [00:00<00:00, 32.37it/s]\n"
     ]
    },
    {
     "name": "stdout",
     "output_type": "stream",
     "text": [
      "  Predicted in 10.75s\n",
      "Resampling...\n",
      "Saving segmentations...\n"
     ]
    },
    {
     "data": {
      "application/vnd.jupyter.widget-view+json": {
       "model_id": "d431e89fd5144f77b6b486e6eef490ee",
       "version_major": 2,
       "version_minor": 0
      },
      "text/plain": [
       "  0%|          | 0/5 [00:00<?, ?it/s]"
      ]
     },
     "metadata": {},
     "output_type": "display_data"
    },
    {
     "name": "stdout",
     "output_type": "stream",
     "text": [
      "  Saved in 0.68s\n",
      "\n",
      "If you use this tool please cite: https://pubs.rsna.org/doi/10.1148/ryai.230024\n",
      "\n",
      "Generating rough body segmentation...\n",
      "Resampling...\n",
      "  Resampled in 0.25s\n",
      "Predicting...\n"
     ]
    },
    {
     "name": "stderr",
     "output_type": "stream",
     "text": [
      "/ocean/projects/asc170022p/mtragoza/mambaforge/envs/lung-project/lib/python3.10/site-packages/nnunetv2/utilities/plans_handling/plans_handler.py:37: UserWarning: Detected old nnU-Net plans format. Attempting to reconstruct network architecture parameters. If this fails, rerun nnUNetv2_plan_experiment for your dataset. If you use a custom architecture, please downgrade nnU-Net to the version you implemented this or update your implementation + plans.\n",
      "  warnings.warn(\"Detected old nnU-Net plans format. Attempting to reconstruct network architecture \"\n",
      "100%|██████████| 1/1 [00:00<00:00, 107.86it/s]\n"
     ]
    },
    {
     "name": "stdout",
     "output_type": "stream",
     "text": [
      "  Predicted in 8.42s\n",
      "Resampling...\n",
      "  cropping from (256, 256, 94) to (209, 204, 91)\n",
      "Predicting...\n"
     ]
    },
    {
     "name": "stderr",
     "output_type": "stream",
     "text": [
      "100%|██████████| 80/80 [00:04<00:00, 17.63it/s]\n"
     ]
    },
    {
     "name": "stdout",
     "output_type": "stream",
     "text": [
      "  Predicted in 28.70s\n",
      "Saving segmentations...\n",
      "Creating lung_vessels.nii.gz\n",
      "Creating lung_trachea_bronchia.nii.gz\n"
     ]
    },
    {
     "data": {
      "application/vnd.jupyter.widget-view+json": {
       "model_id": "33b24e35e89b483c815511730b97740d",
       "version_major": 2,
       "version_minor": 0
      },
      "text/plain": [
       "  0%|          | 0/2 [00:00<?, ?it/s]"
      ]
     },
     "metadata": {},
     "output_type": "display_data"
    },
    {
     "name": "stdout",
     "output_type": "stream",
     "text": [
      "  Saved in 0.47s\n",
      "\n",
      "If you use this tool please cite: https://pubs.rsna.org/doi/10.1148/ryai.230024\n",
      "\n",
      "Resampling...\n",
      "  Resampled in 3.06s\n",
      "Predicting...\n"
     ]
    },
    {
     "name": "stderr",
     "output_type": "stream",
     "text": [
      "/ocean/projects/asc170022p/mtragoza/mambaforge/envs/lung-project/lib/python3.10/site-packages/nnunetv2/utilities/plans_handling/plans_handler.py:37: UserWarning: Detected old nnU-Net plans format. Attempting to reconstruct network architecture parameters. If this fails, rerun nnUNetv2_plan_experiment for your dataset. If you use a custom architecture, please downgrade nnU-Net to the version you implemented this or update your implementation + plans.\n",
      "  warnings.warn(\"Detected old nnU-Net plans format. Attempting to reconstruct network architecture \"\n",
      "100%|██████████| 27/27 [00:01<00:00, 21.28it/s]\n"
     ]
    },
    {
     "name": "stdout",
     "output_type": "stream",
     "text": [
      "  Predicted in 11.47s\n"
     ]
    },
    {
     "name": "stderr",
     "output_type": "stream",
     "text": [
      "100%|██████████| 1/1 [00:00<00:00,  6.73it/s]\n",
      "100%|██████████| 1/1 [00:00<00:00,  7.00it/s]\n"
     ]
    },
    {
     "name": "stdout",
     "output_type": "stream",
     "text": [
      "Resampling...\n",
      "Saving segmentations...\n",
      "Creating body_trunc.nii.gz\n",
      "Creating body_extremities.nii.gz"
     ]
    },
    {
     "data": {
      "application/vnd.jupyter.widget-view+json": {
       "model_id": "93d42cd29439438ca9f401be0975ddaa",
       "version_major": 2,
       "version_minor": 0
      },
      "text/plain": [
       "  0%|          | 0/2 [00:00<?, ?it/s]"
      ]
     },
     "metadata": {},
     "output_type": "display_data"
    },
    {
     "name": "stdout",
     "output_type": "stream",
     "text": [
      "\n",
      "  Saved in 0.72s\n",
      "Creating body.nii.gz\n",
      "Creating skin.nii.gz\n",
      "Segmenting Case10Pack phase 30\n",
      "\n",
      "If you use this tool please cite: https://pubs.rsna.org/doi/10.1148/ryai.230024\n",
      "\n",
      "Generating rough body segmentation...\n",
      "Resampling...\n",
      "  Resampled in 0.27s\n",
      "Predicting...\n"
     ]
    },
    {
     "name": "stderr",
     "output_type": "stream",
     "text": [
      "/ocean/projects/asc170022p/mtragoza/mambaforge/envs/lung-project/lib/python3.10/site-packages/nnunetv2/utilities/plans_handling/plans_handler.py:37: UserWarning: Detected old nnU-Net plans format. Attempting to reconstruct network architecture parameters. If this fails, rerun nnUNetv2_plan_experiment for your dataset. If you use a custom architecture, please downgrade nnU-Net to the version you implemented this or update your implementation + plans.\n",
      "  warnings.warn(\"Detected old nnU-Net plans format. Attempting to reconstruct network architecture \"\n",
      "100%|██████████| 1/1 [00:00<00:00, 94.99it/s]\n"
     ]
    },
    {
     "name": "stdout",
     "output_type": "stream",
     "text": [
      "  Predicted in 8.35s\n",
      "Resampling...\n",
      "  cropping from (256, 256, 94) to (209, 204, 78)\n",
      "Resampling...\n",
      "  Resampled in 1.64s\n",
      "Predicting part 1 of 1 ...\n"
     ]
    },
    {
     "name": "stderr",
     "output_type": "stream",
     "text": [
      "100%|██████████| 8/8 [00:00<00:00, 33.14it/s]\n"
     ]
    },
    {
     "name": "stdout",
     "output_type": "stream",
     "text": [
      "  Predicted in 10.44s\n",
      "Resampling...\n",
      "Saving segmentations...\n"
     ]
    },
    {
     "data": {
      "application/vnd.jupyter.widget-view+json": {
       "model_id": "20d7915a8b264f729ebf238fce5d7fdf",
       "version_major": 2,
       "version_minor": 0
      },
      "text/plain": [
       "  0%|          | 0/5 [00:00<?, ?it/s]"
      ]
     },
     "metadata": {},
     "output_type": "display_data"
    },
    {
     "name": "stdout",
     "output_type": "stream",
     "text": [
      "  Saved in 0.58s\n",
      "\n",
      "If you use this tool please cite: https://pubs.rsna.org/doi/10.1148/ryai.230024\n",
      "\n",
      "Generating rough body segmentation...\n",
      "Resampling...\n",
      "  Resampled in 0.25s\n",
      "Predicting...\n"
     ]
    },
    {
     "name": "stderr",
     "output_type": "stream",
     "text": [
      "/ocean/projects/asc170022p/mtragoza/mambaforge/envs/lung-project/lib/python3.10/site-packages/nnunetv2/utilities/plans_handling/plans_handler.py:37: UserWarning: Detected old nnU-Net plans format. Attempting to reconstruct network architecture parameters. If this fails, rerun nnUNetv2_plan_experiment for your dataset. If you use a custom architecture, please downgrade nnU-Net to the version you implemented this or update your implementation + plans.\n",
      "  warnings.warn(\"Detected old nnU-Net plans format. Attempting to reconstruct network architecture \"\n",
      "100%|██████████| 1/1 [00:00<00:00, 73.83it/s]\n"
     ]
    },
    {
     "name": "stdout",
     "output_type": "stream",
     "text": [
      "  Predicted in 8.28s\n",
      "Resampling...\n",
      "  cropping from (256, 256, 94) to (209, 204, 78)\n",
      "Predicting...\n"
     ]
    },
    {
     "name": "stderr",
     "output_type": "stream",
     "text": [
      "100%|██████████| 60/60 [00:03<00:00, 17.90it/s]\n"
     ]
    },
    {
     "name": "stdout",
     "output_type": "stream",
     "text": [
      "  Predicted in 25.33s\n",
      "Saving segmentations...\n",
      "Creating lung_vessels.nii.gz\n",
      "Creating lung_trachea_bronchia.nii.gz\n"
     ]
    },
    {
     "data": {
      "application/vnd.jupyter.widget-view+json": {
       "model_id": "c6cc625689c7466e8d2fc37cf599ea3f",
       "version_major": 2,
       "version_minor": 0
      },
      "text/plain": [
       "  0%|          | 0/2 [00:00<?, ?it/s]"
      ]
     },
     "metadata": {},
     "output_type": "display_data"
    },
    {
     "name": "stdout",
     "output_type": "stream",
     "text": [
      "  Saved in 0.48s\n",
      "\n",
      "If you use this tool please cite: https://pubs.rsna.org/doi/10.1148/ryai.230024\n",
      "\n",
      "Resampling...\n",
      "  Resampled in 3.06s\n",
      "Predicting...\n"
     ]
    },
    {
     "name": "stderr",
     "output_type": "stream",
     "text": [
      "/ocean/projects/asc170022p/mtragoza/mambaforge/envs/lung-project/lib/python3.10/site-packages/nnunetv2/utilities/plans_handling/plans_handler.py:37: UserWarning: Detected old nnU-Net plans format. Attempting to reconstruct network architecture parameters. If this fails, rerun nnUNetv2_plan_experiment for your dataset. If you use a custom architecture, please downgrade nnU-Net to the version you implemented this or update your implementation + plans.\n",
      "  warnings.warn(\"Detected old nnU-Net plans format. Attempting to reconstruct network architecture \"\n",
      "100%|██████████| 27/27 [00:01<00:00, 21.13it/s]\n"
     ]
    },
    {
     "name": "stdout",
     "output_type": "stream",
     "text": [
      "  Predicted in 11.47s\n"
     ]
    },
    {
     "name": "stderr",
     "output_type": "stream",
     "text": [
      "100%|██████████| 1/1 [00:00<00:00,  6.72it/s]\n",
      "100%|██████████| 1/1 [00:00<00:00,  6.83it/s]\n"
     ]
    },
    {
     "name": "stdout",
     "output_type": "stream",
     "text": [
      "Resampling...\n",
      "Saving segmentations...\n",
      "Creating body_trunc.nii.gz\n"
     ]
    },
    {
     "data": {
      "application/vnd.jupyter.widget-view+json": {
       "model_id": "b1b17c857d6344349b5f6e72ce7bfd35",
       "version_major": 2,
       "version_minor": 0
      },
      "text/plain": [
       "  0%|          | 0/2 [00:00<?, ?it/s]"
      ]
     },
     "metadata": {},
     "output_type": "display_data"
    },
    {
     "name": "stdout",
     "output_type": "stream",
     "text": [
      "Creating body_extremities.nii.gz\n",
      "  Saved in 0.47s\n",
      "Creating body.nii.gz\n",
      "Creating skin.nii.gz\n",
      "Segmenting Case10Pack phase 40\n",
      "\n",
      "If you use this tool please cite: https://pubs.rsna.org/doi/10.1148/ryai.230024\n",
      "\n",
      "Generating rough body segmentation...\n",
      "Resampling...\n",
      "  Resampled in 0.26s\n",
      "Predicting...\n"
     ]
    },
    {
     "name": "stderr",
     "output_type": "stream",
     "text": [
      "/ocean/projects/asc170022p/mtragoza/mambaforge/envs/lung-project/lib/python3.10/site-packages/nnunetv2/utilities/plans_handling/plans_handler.py:37: UserWarning: Detected old nnU-Net plans format. Attempting to reconstruct network architecture parameters. If this fails, rerun nnUNetv2_plan_experiment for your dataset. If you use a custom architecture, please downgrade nnU-Net to the version you implemented this or update your implementation + plans.\n",
      "  warnings.warn(\"Detected old nnU-Net plans format. Attempting to reconstruct network architecture \"\n",
      "100%|██████████| 1/1 [00:00<00:00, 106.91it/s]\n"
     ]
    },
    {
     "name": "stdout",
     "output_type": "stream",
     "text": [
      "  Predicted in 8.52s\n",
      "Resampling...\n",
      "  cropping from (256, 256, 94) to (209, 199, 78)\n",
      "Resampling...\n",
      "  Resampled in 1.60s\n",
      "Predicting part 1 of 1 ...\n"
     ]
    },
    {
     "name": "stderr",
     "output_type": "stream",
     "text": [
      "100%|██████████| 8/8 [00:00<00:00, 32.03it/s]\n"
     ]
    },
    {
     "name": "stdout",
     "output_type": "stream",
     "text": [
      "  Predicted in 10.53s\n",
      "Resampling...\n",
      "Saving segmentations...\n"
     ]
    },
    {
     "data": {
      "application/vnd.jupyter.widget-view+json": {
       "model_id": "7fde0cd4bf66463f853f46ea7317e705",
       "version_major": 2,
       "version_minor": 0
      },
      "text/plain": [
       "  0%|          | 0/5 [00:00<?, ?it/s]"
      ]
     },
     "metadata": {},
     "output_type": "display_data"
    },
    {
     "name": "stdout",
     "output_type": "stream",
     "text": [
      "  Saved in 0.86s\n",
      "\n",
      "If you use this tool please cite: https://pubs.rsna.org/doi/10.1148/ryai.230024\n",
      "\n",
      "Generating rough body segmentation...\n",
      "Resampling...\n",
      "  Resampled in 0.25s\n",
      "Predicting...\n"
     ]
    },
    {
     "name": "stderr",
     "output_type": "stream",
     "text": [
      "/ocean/projects/asc170022p/mtragoza/mambaforge/envs/lung-project/lib/python3.10/site-packages/nnunetv2/utilities/plans_handling/plans_handler.py:37: UserWarning: Detected old nnU-Net plans format. Attempting to reconstruct network architecture parameters. If this fails, rerun nnUNetv2_plan_experiment for your dataset. If you use a custom architecture, please downgrade nnU-Net to the version you implemented this or update your implementation + plans.\n",
      "  warnings.warn(\"Detected old nnU-Net plans format. Attempting to reconstruct network architecture \"\n",
      "100%|██████████| 1/1 [00:00<00:00, 101.23it/s]\n"
     ]
    },
    {
     "name": "stdout",
     "output_type": "stream",
     "text": [
      "  Predicted in 8.27s\n",
      "Resampling...\n",
      "  cropping from (256, 256, 94) to (209, 199, 78)\n",
      "Predicting...\n"
     ]
    },
    {
     "name": "stderr",
     "output_type": "stream",
     "text": [
      "100%|██████████| 60/60 [00:03<00:00, 17.89it/s]\n"
     ]
    },
    {
     "name": "stdout",
     "output_type": "stream",
     "text": [
      "  Predicted in 24.93s\n",
      "Saving segmentations...\n",
      "Creating lung_vessels.nii.gz\n",
      "Creating lung_trachea_bronchia.nii.gz"
     ]
    },
    {
     "data": {
      "application/vnd.jupyter.widget-view+json": {
       "model_id": "adb5e85ca9014d82b9ca0ce4223a7564",
       "version_major": 2,
       "version_minor": 0
      },
      "text/plain": [
       "  0%|          | 0/2 [00:00<?, ?it/s]"
      ]
     },
     "metadata": {},
     "output_type": "display_data"
    },
    {
     "name": "stdout",
     "output_type": "stream",
     "text": [
      "\n",
      "  Saved in 0.48s\n",
      "\n",
      "If you use this tool please cite: https://pubs.rsna.org/doi/10.1148/ryai.230024\n",
      "\n",
      "Resampling...\n",
      "  Resampled in 3.08s\n",
      "Predicting...\n"
     ]
    },
    {
     "name": "stderr",
     "output_type": "stream",
     "text": [
      "/ocean/projects/asc170022p/mtragoza/mambaforge/envs/lung-project/lib/python3.10/site-packages/nnunetv2/utilities/plans_handling/plans_handler.py:37: UserWarning: Detected old nnU-Net plans format. Attempting to reconstruct network architecture parameters. If this fails, rerun nnUNetv2_plan_experiment for your dataset. If you use a custom architecture, please downgrade nnU-Net to the version you implemented this or update your implementation + plans.\n",
      "  warnings.warn(\"Detected old nnU-Net plans format. Attempting to reconstruct network architecture \"\n",
      "100%|██████████| 27/27 [00:01<00:00, 21.05it/s]\n"
     ]
    },
    {
     "name": "stdout",
     "output_type": "stream",
     "text": [
      "  Predicted in 11.54s\n"
     ]
    },
    {
     "name": "stderr",
     "output_type": "stream",
     "text": [
      "100%|██████████| 1/1 [00:00<00:00,  6.73it/s]\n",
      "100%|██████████| 1/1 [00:00<00:00,  6.98it/s]\n"
     ]
    },
    {
     "name": "stdout",
     "output_type": "stream",
     "text": [
      "Resampling...\n",
      "Saving segmentations...\n",
      "Creating body_trunc.nii.gz\n",
      "Creating body_extremities.nii.gz"
     ]
    },
    {
     "data": {
      "application/vnd.jupyter.widget-view+json": {
       "model_id": "c0b4d41719e9491fa6b917a8c1a5c6ce",
       "version_major": 2,
       "version_minor": 0
      },
      "text/plain": [
       "  0%|          | 0/2 [00:00<?, ?it/s]"
      ]
     },
     "metadata": {},
     "output_type": "display_data"
    },
    {
     "name": "stdout",
     "output_type": "stream",
     "text": [
      "\n",
      "  Saved in 0.38s\n",
      "Creating body.nii.gz\n",
      "Creating skin.nii.gz\n",
      "Segmenting Case10Pack phase 50\n",
      "\n",
      "If you use this tool please cite: https://pubs.rsna.org/doi/10.1148/ryai.230024\n",
      "\n",
      "Generating rough body segmentation...\n",
      "Resampling...\n",
      "  Resampled in 0.26s\n",
      "Predicting...\n"
     ]
    },
    {
     "name": "stderr",
     "output_type": "stream",
     "text": [
      "/ocean/projects/asc170022p/mtragoza/mambaforge/envs/lung-project/lib/python3.10/site-packages/nnunetv2/utilities/plans_handling/plans_handler.py:37: UserWarning: Detected old nnU-Net plans format. Attempting to reconstruct network architecture parameters. If this fails, rerun nnUNetv2_plan_experiment for your dataset. If you use a custom architecture, please downgrade nnU-Net to the version you implemented this or update your implementation + plans.\n",
      "  warnings.warn(\"Detected old nnU-Net plans format. Attempting to reconstruct network architecture \"\n",
      "100%|██████████| 1/1 [00:00<00:00, 107.81it/s]\n"
     ]
    },
    {
     "name": "stdout",
     "output_type": "stream",
     "text": [
      "  Predicted in 8.27s\n",
      "Resampling...\n",
      "  cropping from (256, 256, 94) to (209, 199, 78)\n",
      "Resampling...\n",
      "  Resampled in 1.61s\n",
      "Predicting part 1 of 1 ...\n"
     ]
    },
    {
     "name": "stderr",
     "output_type": "stream",
     "text": [
      "100%|██████████| 8/8 [00:00<00:00, 33.04it/s]\n"
     ]
    },
    {
     "name": "stdout",
     "output_type": "stream",
     "text": [
      "  Predicted in 10.27s\n",
      "Resampling...\n",
      "Saving segmentations...\n"
     ]
    },
    {
     "data": {
      "application/vnd.jupyter.widget-view+json": {
       "model_id": "f3edb01f2c8b4d0492d2e07a5efe1003",
       "version_major": 2,
       "version_minor": 0
      },
      "text/plain": [
       "  0%|          | 0/5 [00:00<?, ?it/s]"
      ]
     },
     "metadata": {},
     "output_type": "display_data"
    },
    {
     "name": "stdout",
     "output_type": "stream",
     "text": [
      "  Saved in 0.92s\n",
      "\n",
      "If you use this tool please cite: https://pubs.rsna.org/doi/10.1148/ryai.230024\n",
      "\n",
      "Generating rough body segmentation...\n",
      "Resampling...\n",
      "  Resampled in 0.25s\n",
      "Predicting...\n"
     ]
    },
    {
     "name": "stderr",
     "output_type": "stream",
     "text": [
      "/ocean/projects/asc170022p/mtragoza/mambaforge/envs/lung-project/lib/python3.10/site-packages/nnunetv2/utilities/plans_handling/plans_handler.py:37: UserWarning: Detected old nnU-Net plans format. Attempting to reconstruct network architecture parameters. If this fails, rerun nnUNetv2_plan_experiment for your dataset. If you use a custom architecture, please downgrade nnU-Net to the version you implemented this or update your implementation + plans.\n",
      "  warnings.warn(\"Detected old nnU-Net plans format. Attempting to reconstruct network architecture \"\n",
      "100%|██████████| 1/1 [00:00<00:00, 89.99it/s]\n"
     ]
    },
    {
     "name": "stdout",
     "output_type": "stream",
     "text": [
      "  Predicted in 8.27s\n",
      "Resampling...\n",
      "  cropping from (256, 256, 94) to (209, 199, 78)\n",
      "Predicting...\n"
     ]
    },
    {
     "name": "stderr",
     "output_type": "stream",
     "text": [
      "100%|██████████| 60/60 [00:03<00:00, 17.89it/s]\n"
     ]
    },
    {
     "name": "stdout",
     "output_type": "stream",
     "text": [
      "  Predicted in 24.80s\n",
      "Saving segmentations...\n",
      "Creating lung_vessels.nii.gz\n",
      "Creating lung_trachea_bronchia.nii.gz"
     ]
    },
    {
     "data": {
      "application/vnd.jupyter.widget-view+json": {
       "model_id": "f4d3a7ee69a24ba8bbfaf6f71b389478",
       "version_major": 2,
       "version_minor": 0
      },
      "text/plain": [
       "  0%|          | 0/2 [00:00<?, ?it/s]"
      ]
     },
     "metadata": {},
     "output_type": "display_data"
    },
    {
     "name": "stdout",
     "output_type": "stream",
     "text": [
      "\n",
      "  Saved in 0.50s\n",
      "\n",
      "If you use this tool please cite: https://pubs.rsna.org/doi/10.1148/ryai.230024\n",
      "\n",
      "Resampling...\n",
      "  Resampled in 3.07s\n",
      "Predicting...\n"
     ]
    },
    {
     "name": "stderr",
     "output_type": "stream",
     "text": [
      "/ocean/projects/asc170022p/mtragoza/mambaforge/envs/lung-project/lib/python3.10/site-packages/nnunetv2/utilities/plans_handling/plans_handler.py:37: UserWarning: Detected old nnU-Net plans format. Attempting to reconstruct network architecture parameters. If this fails, rerun nnUNetv2_plan_experiment for your dataset. If you use a custom architecture, please downgrade nnU-Net to the version you implemented this or update your implementation + plans.\n",
      "  warnings.warn(\"Detected old nnU-Net plans format. Attempting to reconstruct network architecture \"\n",
      "100%|██████████| 27/27 [00:01<00:00, 21.08it/s]\n"
     ]
    },
    {
     "name": "stdout",
     "output_type": "stream",
     "text": [
      "  Predicted in 11.41s\n"
     ]
    },
    {
     "name": "stderr",
     "output_type": "stream",
     "text": [
      "100%|██████████| 1/1 [00:00<00:00,  6.70it/s]\n",
      "100%|██████████| 1/1 [00:00<00:00,  6.95it/s]\n"
     ]
    },
    {
     "name": "stdout",
     "output_type": "stream",
     "text": [
      "Resampling...\n",
      "Saving segmentations...\n",
      "Creating body_trunc.nii.gz\n",
      "Creating body_extremities.nii.gz\n"
     ]
    },
    {
     "data": {
      "application/vnd.jupyter.widget-view+json": {
       "model_id": "56a6ea709bd6402ea5bc98f705701237",
       "version_major": 2,
       "version_minor": 0
      },
      "text/plain": [
       "  0%|          | 0/2 [00:00<?, ?it/s]"
      ]
     },
     "metadata": {},
     "output_type": "display_data"
    },
    {
     "name": "stdout",
     "output_type": "stream",
     "text": [
      "  Saved in 0.38s\n",
      "Creating body.nii.gz\n",
      "Creating skin.nii.gz\n",
      "Segmenting Case10Pack phase 60\n",
      "\n",
      "If you use this tool please cite: https://pubs.rsna.org/doi/10.1148/ryai.230024\n",
      "\n",
      "Generating rough body segmentation...\n",
      "Resampling...\n",
      "  Resampled in 0.25s\n",
      "Predicting...\n"
     ]
    },
    {
     "name": "stderr",
     "output_type": "stream",
     "text": [
      "/ocean/projects/asc170022p/mtragoza/mambaforge/envs/lung-project/lib/python3.10/site-packages/nnunetv2/utilities/plans_handling/plans_handler.py:37: UserWarning: Detected old nnU-Net plans format. Attempting to reconstruct network architecture parameters. If this fails, rerun nnUNetv2_plan_experiment for your dataset. If you use a custom architecture, please downgrade nnU-Net to the version you implemented this or update your implementation + plans.\n",
      "  warnings.warn(\"Detected old nnU-Net plans format. Attempting to reconstruct network architecture \"\n",
      "100%|██████████| 1/1 [00:00<00:00, 92.55it/s]\n"
     ]
    },
    {
     "name": "stdout",
     "output_type": "stream",
     "text": [
      "  Predicted in 8.18s\n",
      "Resampling...\n",
      "  cropping from (256, 256, 94) to (209, 204, 78)\n",
      "Resampling...\n",
      "  Resampled in 1.64s\n",
      "Predicting part 1 of 1 ...\n"
     ]
    },
    {
     "name": "stderr",
     "output_type": "stream",
     "text": [
      "100%|██████████| 8/8 [00:00<00:00, 31.92it/s]\n"
     ]
    },
    {
     "name": "stdout",
     "output_type": "stream",
     "text": [
      "  Predicted in 10.38s\n",
      "Resampling...\n",
      "Saving segmentations...\n"
     ]
    },
    {
     "data": {
      "application/vnd.jupyter.widget-view+json": {
       "model_id": "c224175a5be54268a602023a706918ec",
       "version_major": 2,
       "version_minor": 0
      },
      "text/plain": [
       "  0%|          | 0/5 [00:00<?, ?it/s]"
      ]
     },
     "metadata": {},
     "output_type": "display_data"
    },
    {
     "name": "stdout",
     "output_type": "stream",
     "text": [
      "  Saved in 0.60s\n",
      "\n",
      "If you use this tool please cite: https://pubs.rsna.org/doi/10.1148/ryai.230024\n",
      "\n",
      "Generating rough body segmentation...\n",
      "Resampling...\n",
      "  Resampled in 0.25s\n",
      "Predicting...\n"
     ]
    },
    {
     "name": "stderr",
     "output_type": "stream",
     "text": [
      "/ocean/projects/asc170022p/mtragoza/mambaforge/envs/lung-project/lib/python3.10/site-packages/nnunetv2/utilities/plans_handling/plans_handler.py:37: UserWarning: Detected old nnU-Net plans format. Attempting to reconstruct network architecture parameters. If this fails, rerun nnUNetv2_plan_experiment for your dataset. If you use a custom architecture, please downgrade nnU-Net to the version you implemented this or update your implementation + plans.\n",
      "  warnings.warn(\"Detected old nnU-Net plans format. Attempting to reconstruct network architecture \"\n",
      "100%|██████████| 1/1 [00:00<00:00, 80.16it/s]\n"
     ]
    },
    {
     "name": "stdout",
     "output_type": "stream",
     "text": [
      "  Predicted in 8.24s\n",
      "Resampling...\n",
      "  cropping from (256, 256, 94) to (209, 204, 78)\n",
      "Predicting...\n"
     ]
    },
    {
     "name": "stderr",
     "output_type": "stream",
     "text": [
      "100%|██████████| 60/60 [00:03<00:00, 17.92it/s]\n"
     ]
    },
    {
     "name": "stdout",
     "output_type": "stream",
     "text": [
      "  Predicted in 25.22s\n",
      "Saving segmentations...\n",
      "Creating lung_vessels.nii.gz\n",
      "Creating lung_trachea_bronchia.nii.gz\n"
     ]
    },
    {
     "data": {
      "application/vnd.jupyter.widget-view+json": {
       "model_id": "8b6da24765144942b80b9be57e6a7a7e",
       "version_major": 2,
       "version_minor": 0
      },
      "text/plain": [
       "  0%|          | 0/2 [00:00<?, ?it/s]"
      ]
     },
     "metadata": {},
     "output_type": "display_data"
    },
    {
     "name": "stdout",
     "output_type": "stream",
     "text": [
      "  Saved in 0.47s\n",
      "\n",
      "If you use this tool please cite: https://pubs.rsna.org/doi/10.1148/ryai.230024\n",
      "\n",
      "Resampling...\n",
      "  Resampled in 3.08s\n",
      "Predicting...\n"
     ]
    },
    {
     "name": "stderr",
     "output_type": "stream",
     "text": [
      "/ocean/projects/asc170022p/mtragoza/mambaforge/envs/lung-project/lib/python3.10/site-packages/nnunetv2/utilities/plans_handling/plans_handler.py:37: UserWarning: Detected old nnU-Net plans format. Attempting to reconstruct network architecture parameters. If this fails, rerun nnUNetv2_plan_experiment for your dataset. If you use a custom architecture, please downgrade nnU-Net to the version you implemented this or update your implementation + plans.\n",
      "  warnings.warn(\"Detected old nnU-Net plans format. Attempting to reconstruct network architecture \"\n",
      "100%|██████████| 27/27 [00:01<00:00, 21.07it/s]\n"
     ]
    },
    {
     "name": "stdout",
     "output_type": "stream",
     "text": [
      "  Predicted in 11.33s\n"
     ]
    },
    {
     "name": "stderr",
     "output_type": "stream",
     "text": [
      "100%|██████████| 1/1 [00:00<00:00,  6.54it/s]\n",
      "100%|██████████| 1/1 [00:00<00:00,  6.96it/s]\n"
     ]
    },
    {
     "name": "stdout",
     "output_type": "stream",
     "text": [
      "Resampling...\n",
      "Saving segmentations...\n",
      "Creating body_trunc.nii.gz\n",
      "\n",
      "Creating body_extremities.nii.gz"
     ]
    },
    {
     "data": {
      "application/vnd.jupyter.widget-view+json": {
       "model_id": "0ba04ebe3c7a48b3848ea25ce80ffe76",
       "version_major": 2,
       "version_minor": 0
      },
      "text/plain": [
       "  0%|          | 0/2 [00:00<?, ?it/s]"
      ]
     },
     "metadata": {},
     "output_type": "display_data"
    },
    {
     "name": "stdout",
     "output_type": "stream",
     "text": [
      "  Saved in 0.91s\n",
      "Creating body.nii.gz\n",
      "Creating skin.nii.gz\n",
      "Segmenting Case10Pack phase 70\n",
      "\n",
      "If you use this tool please cite: https://pubs.rsna.org/doi/10.1148/ryai.230024\n",
      "\n",
      "Generating rough body segmentation...\n",
      "Resampling...\n",
      "  Resampled in 0.25s\n",
      "Predicting...\n"
     ]
    },
    {
     "name": "stderr",
     "output_type": "stream",
     "text": [
      "/ocean/projects/asc170022p/mtragoza/mambaforge/envs/lung-project/lib/python3.10/site-packages/nnunetv2/utilities/plans_handling/plans_handler.py:37: UserWarning: Detected old nnU-Net plans format. Attempting to reconstruct network architecture parameters. If this fails, rerun nnUNetv2_plan_experiment for your dataset. If you use a custom architecture, please downgrade nnU-Net to the version you implemented this or update your implementation + plans.\n",
      "  warnings.warn(\"Detected old nnU-Net plans format. Attempting to reconstruct network architecture \"\n",
      "100%|██████████| 1/1 [00:00<00:00, 105.66it/s]\n"
     ]
    },
    {
     "name": "stdout",
     "output_type": "stream",
     "text": [
      "  Predicted in 8.30s\n",
      "Resampling...\n",
      "  cropping from (256, 256, 94) to (204, 204, 91)\n",
      "Resampling...\n",
      "  Resampled in 1.88s\n",
      "Predicting part 1 of 1 ...\n"
     ]
    },
    {
     "name": "stderr",
     "output_type": "stream",
     "text": [
      "100%|██████████| 8/8 [00:00<00:00, 32.49it/s]\n"
     ]
    },
    {
     "name": "stdout",
     "output_type": "stream",
     "text": [
      "  Predicted in 10.49s\n",
      "Resampling...\n",
      "Saving segmentations...\n"
     ]
    },
    {
     "data": {
      "application/vnd.jupyter.widget-view+json": {
       "model_id": "a406f8f1240a4776952ed2ba593fb106",
       "version_major": 2,
       "version_minor": 0
      },
      "text/plain": [
       "  0%|          | 0/5 [00:00<?, ?it/s]"
      ]
     },
     "metadata": {},
     "output_type": "display_data"
    },
    {
     "name": "stdout",
     "output_type": "stream",
     "text": [
      "  Saved in 0.63s\n",
      "\n",
      "If you use this tool please cite: https://pubs.rsna.org/doi/10.1148/ryai.230024\n",
      "\n",
      "Generating rough body segmentation...\n",
      "Resampling...\n",
      "  Resampled in 0.25s\n",
      "Predicting...\n"
     ]
    },
    {
     "name": "stderr",
     "output_type": "stream",
     "text": [
      "/ocean/projects/asc170022p/mtragoza/mambaforge/envs/lung-project/lib/python3.10/site-packages/nnunetv2/utilities/plans_handling/plans_handler.py:37: UserWarning: Detected old nnU-Net plans format. Attempting to reconstruct network architecture parameters. If this fails, rerun nnUNetv2_plan_experiment for your dataset. If you use a custom architecture, please downgrade nnU-Net to the version you implemented this or update your implementation + plans.\n",
      "  warnings.warn(\"Detected old nnU-Net plans format. Attempting to reconstruct network architecture \"\n",
      "100%|██████████| 1/1 [00:00<00:00, 75.18it/s]\n"
     ]
    },
    {
     "name": "stdout",
     "output_type": "stream",
     "text": [
      "  Predicted in 8.22s\n",
      "Resampling...\n",
      "  cropping from (256, 256, 94) to (204, 204, 91)\n",
      "Predicting...\n"
     ]
    },
    {
     "name": "stderr",
     "output_type": "stream",
     "text": [
      "100%|██████████| 80/80 [00:04<00:00, 17.60it/s]\n"
     ]
    },
    {
     "name": "stdout",
     "output_type": "stream",
     "text": [
      "  Predicted in 28.53s\n",
      "Saving segmentations...\n",
      "Creating lung_vessels.nii.gz\n",
      "Creating lung_trachea_bronchia.nii.gz"
     ]
    },
    {
     "data": {
      "application/vnd.jupyter.widget-view+json": {
       "model_id": "75c8a4b205cf4a908dadabbc91cc59f8",
       "version_major": 2,
       "version_minor": 0
      },
      "text/plain": [
       "  0%|          | 0/2 [00:00<?, ?it/s]"
      ]
     },
     "metadata": {},
     "output_type": "display_data"
    },
    {
     "name": "stdout",
     "output_type": "stream",
     "text": [
      "\n",
      "  Saved in 0.51s\n",
      "\n",
      "If you use this tool please cite: https://pubs.rsna.org/doi/10.1148/ryai.230024\n",
      "\n",
      "Resampling...\n",
      "  Resampled in 3.06s\n",
      "Predicting...\n"
     ]
    },
    {
     "name": "stderr",
     "output_type": "stream",
     "text": [
      "/ocean/projects/asc170022p/mtragoza/mambaforge/envs/lung-project/lib/python3.10/site-packages/nnunetv2/utilities/plans_handling/plans_handler.py:37: UserWarning: Detected old nnU-Net plans format. Attempting to reconstruct network architecture parameters. If this fails, rerun nnUNetv2_plan_experiment for your dataset. If you use a custom architecture, please downgrade nnU-Net to the version you implemented this or update your implementation + plans.\n",
      "  warnings.warn(\"Detected old nnU-Net plans format. Attempting to reconstruct network architecture \"\n",
      "100%|██████████| 27/27 [00:01<00:00, 21.25it/s]\n"
     ]
    },
    {
     "name": "stdout",
     "output_type": "stream",
     "text": [
      "  Predicted in 11.33s\n"
     ]
    },
    {
     "name": "stderr",
     "output_type": "stream",
     "text": [
      "100%|██████████| 1/1 [00:00<00:00,  6.83it/s]\n",
      "100%|██████████| 1/1 [00:00<00:00,  7.00it/s]\n"
     ]
    },
    {
     "name": "stdout",
     "output_type": "stream",
     "text": [
      "Resampling...\n",
      "Saving segmentations...\n",
      "Creating body_trunc.nii.gz\n",
      "Creating body_extremities.nii.gz\n"
     ]
    },
    {
     "data": {
      "application/vnd.jupyter.widget-view+json": {
       "model_id": "1a48c5d6d23247acbdec0d2d164d90e8",
       "version_major": 2,
       "version_minor": 0
      },
      "text/plain": [
       "  0%|          | 0/2 [00:00<?, ?it/s]"
      ]
     },
     "metadata": {},
     "output_type": "display_data"
    },
    {
     "name": "stdout",
     "output_type": "stream",
     "text": [
      "  Saved in 0.47s\n",
      "Creating body.nii.gz\n",
      "Creating skin.nii.gz\n",
      "Segmenting Case10Pack phase 80\n",
      "\n",
      "If you use this tool please cite: https://pubs.rsna.org/doi/10.1148/ryai.230024\n",
      "\n",
      "Generating rough body segmentation...\n",
      "Resampling...\n",
      "  Resampled in 0.25s\n",
      "Predicting...\n"
     ]
    },
    {
     "name": "stderr",
     "output_type": "stream",
     "text": [
      "/ocean/projects/asc170022p/mtragoza/mambaforge/envs/lung-project/lib/python3.10/site-packages/nnunetv2/utilities/plans_handling/plans_handler.py:37: UserWarning: Detected old nnU-Net plans format. Attempting to reconstruct network architecture parameters. If this fails, rerun nnUNetv2_plan_experiment for your dataset. If you use a custom architecture, please downgrade nnU-Net to the version you implemented this or update your implementation + plans.\n",
      "  warnings.warn(\"Detected old nnU-Net plans format. Attempting to reconstruct network architecture \"\n",
      "100%|██████████| 1/1 [00:00<00:00, 103.45it/s]\n"
     ]
    },
    {
     "name": "stdout",
     "output_type": "stream",
     "text": [
      "  Predicted in 8.15s\n",
      "Resampling...\n",
      "  cropping from (256, 256, 94) to (209, 204, 93)\n",
      "Resampling...\n",
      "  Resampled in 1.96s\n",
      "Predicting part 1 of 1 ...\n"
     ]
    },
    {
     "name": "stderr",
     "output_type": "stream",
     "text": [
      "100%|██████████| 8/8 [00:00<00:00, 32.63it/s]\n"
     ]
    },
    {
     "name": "stdout",
     "output_type": "stream",
     "text": [
      "  Predicted in 10.65s\n",
      "Resampling...\n",
      "Saving segmentations...\n"
     ]
    },
    {
     "data": {
      "application/vnd.jupyter.widget-view+json": {
       "model_id": "43a5b35b123d413c9851a751f09e5995",
       "version_major": 2,
       "version_minor": 0
      },
      "text/plain": [
       "  0%|          | 0/5 [00:00<?, ?it/s]"
      ]
     },
     "metadata": {},
     "output_type": "display_data"
    },
    {
     "name": "stdout",
     "output_type": "stream",
     "text": [
      "  Saved in 0.65s\n",
      "\n",
      "If you use this tool please cite: https://pubs.rsna.org/doi/10.1148/ryai.230024\n",
      "\n",
      "Generating rough body segmentation...\n",
      "Resampling...\n",
      "  Resampled in 0.25s\n",
      "Predicting...\n"
     ]
    },
    {
     "name": "stderr",
     "output_type": "stream",
     "text": [
      "/ocean/projects/asc170022p/mtragoza/mambaforge/envs/lung-project/lib/python3.10/site-packages/nnunetv2/utilities/plans_handling/plans_handler.py:37: UserWarning: Detected old nnU-Net plans format. Attempting to reconstruct network architecture parameters. If this fails, rerun nnUNetv2_plan_experiment for your dataset. If you use a custom architecture, please downgrade nnU-Net to the version you implemented this or update your implementation + plans.\n",
      "  warnings.warn(\"Detected old nnU-Net plans format. Attempting to reconstruct network architecture \"\n",
      "100%|██████████| 1/1 [00:00<00:00, 104.03it/s]\n"
     ]
    },
    {
     "name": "stdout",
     "output_type": "stream",
     "text": [
      "  Predicted in 8.19s\n",
      "Resampling...\n",
      "  cropping from (256, 256, 94) to (209, 204, 93)\n",
      "Predicting...\n"
     ]
    },
    {
     "name": "stderr",
     "output_type": "stream",
     "text": [
      "100%|██████████| 80/80 [00:04<00:00, 17.62it/s]\n"
     ]
    },
    {
     "name": "stdout",
     "output_type": "stream",
     "text": [
      "  Predicted in 28.85s\n",
      "Saving segmentations...\n",
      "Creating lung_vessels.nii.gz\n"
     ]
    },
    {
     "data": {
      "application/vnd.jupyter.widget-view+json": {
       "model_id": "f183cbc8f5c04d4aba71234c4ed5fc62",
       "version_major": 2,
       "version_minor": 0
      },
      "text/plain": [
       "  0%|          | 0/2 [00:00<?, ?it/s]"
      ]
     },
     "metadata": {},
     "output_type": "display_data"
    },
    {
     "name": "stdout",
     "output_type": "stream",
     "text": [
      "Creating lung_trachea_bronchia.nii.gz\n",
      "  Saved in 0.51s\n",
      "\n",
      "If you use this tool please cite: https://pubs.rsna.org/doi/10.1148/ryai.230024\n",
      "\n",
      "Resampling...\n",
      "  Resampled in 3.06s\n",
      "Predicting...\n"
     ]
    },
    {
     "name": "stderr",
     "output_type": "stream",
     "text": [
      "/ocean/projects/asc170022p/mtragoza/mambaforge/envs/lung-project/lib/python3.10/site-packages/nnunetv2/utilities/plans_handling/plans_handler.py:37: UserWarning: Detected old nnU-Net plans format. Attempting to reconstruct network architecture parameters. If this fails, rerun nnUNetv2_plan_experiment for your dataset. If you use a custom architecture, please downgrade nnU-Net to the version you implemented this or update your implementation + plans.\n",
      "  warnings.warn(\"Detected old nnU-Net plans format. Attempting to reconstruct network architecture \"\n",
      "100%|██████████| 27/27 [00:01<00:00, 21.21it/s]\n"
     ]
    },
    {
     "name": "stdout",
     "output_type": "stream",
     "text": [
      "  Predicted in 11.09s\n"
     ]
    },
    {
     "name": "stderr",
     "output_type": "stream",
     "text": [
      "100%|██████████| 1/1 [00:00<00:00,  6.58it/s]\n",
      "100%|██████████| 1/1 [00:00<00:00,  7.02it/s]\n"
     ]
    },
    {
     "name": "stdout",
     "output_type": "stream",
     "text": [
      "Resampling...\n",
      "Saving segmentations...\n",
      "Creating body_trunc.nii.gz\n",
      "Creating body_extremities.nii.gz\n"
     ]
    },
    {
     "data": {
      "application/vnd.jupyter.widget-view+json": {
       "model_id": "b214cc2af621452288490d1ffb44c64c",
       "version_major": 2,
       "version_minor": 0
      },
      "text/plain": [
       "  0%|          | 0/2 [00:00<?, ?it/s]"
      ]
     },
     "metadata": {},
     "output_type": "display_data"
    },
    {
     "name": "stdout",
     "output_type": "stream",
     "text": [
      "  Saved in 0.52s\n",
      "Creating body.nii.gz\n",
      "Creating skin.nii.gz\n",
      "Segmenting Case10Pack phase 90\n",
      "\n",
      "If you use this tool please cite: https://pubs.rsna.org/doi/10.1148/ryai.230024\n",
      "\n",
      "Generating rough body segmentation...\n",
      "Resampling...\n",
      "  Resampled in 0.26s\n",
      "Predicting...\n"
     ]
    },
    {
     "name": "stderr",
     "output_type": "stream",
     "text": [
      "/ocean/projects/asc170022p/mtragoza/mambaforge/envs/lung-project/lib/python3.10/site-packages/nnunetv2/utilities/plans_handling/plans_handler.py:37: UserWarning: Detected old nnU-Net plans format. Attempting to reconstruct network architecture parameters. If this fails, rerun nnUNetv2_plan_experiment for your dataset. If you use a custom architecture, please downgrade nnU-Net to the version you implemented this or update your implementation + plans.\n",
      "  warnings.warn(\"Detected old nnU-Net plans format. Attempting to reconstruct network architecture \"\n",
      "100%|██████████| 1/1 [00:00<00:00, 105.58it/s]\n"
     ]
    },
    {
     "name": "stdout",
     "output_type": "stream",
     "text": [
      "  Predicted in 8.21s\n",
      "Resampling...\n",
      "  cropping from (256, 256, 94) to (214, 204, 93)\n",
      "Resampling...\n",
      "  Resampled in 2.00s\n",
      "Predicting part 1 of 1 ...\n"
     ]
    },
    {
     "name": "stderr",
     "output_type": "stream",
     "text": [
      "100%|██████████| 8/8 [00:00<00:00, 32.40it/s]\n"
     ]
    },
    {
     "name": "stdout",
     "output_type": "stream",
     "text": [
      "  Predicted in 10.54s\n",
      "Resampling...\n",
      "Saving segmentations...\n"
     ]
    },
    {
     "data": {
      "application/vnd.jupyter.widget-view+json": {
       "model_id": "cf3ad82bb1664f078a8f0a43f2c0eae5",
       "version_major": 2,
       "version_minor": 0
      },
      "text/plain": [
       "  0%|          | 0/5 [00:00<?, ?it/s]"
      ]
     },
     "metadata": {},
     "output_type": "display_data"
    },
    {
     "name": "stdout",
     "output_type": "stream",
     "text": [
      "  Saved in 0.61s\n",
      "\n",
      "If you use this tool please cite: https://pubs.rsna.org/doi/10.1148/ryai.230024\n",
      "\n",
      "Generating rough body segmentation...\n",
      "Resampling...\n",
      "  Resampled in 0.25s\n",
      "Predicting...\n"
     ]
    },
    {
     "name": "stderr",
     "output_type": "stream",
     "text": [
      "/ocean/projects/asc170022p/mtragoza/mambaforge/envs/lung-project/lib/python3.10/site-packages/nnunetv2/utilities/plans_handling/plans_handler.py:37: UserWarning: Detected old nnU-Net plans format. Attempting to reconstruct network architecture parameters. If this fails, rerun nnUNetv2_plan_experiment for your dataset. If you use a custom architecture, please downgrade nnU-Net to the version you implemented this or update your implementation + plans.\n",
      "  warnings.warn(\"Detected old nnU-Net plans format. Attempting to reconstruct network architecture \"\n",
      "100%|██████████| 1/1 [00:00<00:00, 79.60it/s]\n"
     ]
    },
    {
     "name": "stdout",
     "output_type": "stream",
     "text": [
      "  Predicted in 8.13s\n",
      "Resampling...\n",
      "  cropping from (256, 256, 94) to (214, 204, 93)\n",
      "Predicting...\n"
     ]
    },
    {
     "name": "stderr",
     "output_type": "stream",
     "text": [
      "100%|██████████| 80/80 [00:04<00:00, 17.65it/s]\n"
     ]
    },
    {
     "name": "stdout",
     "output_type": "stream",
     "text": [
      "  Predicted in 29.11s\n",
      "Saving segmentations...\n",
      "Creating lung_vessels.nii.gz"
     ]
    },
    {
     "data": {
      "application/vnd.jupyter.widget-view+json": {
       "model_id": "e0072e9b641f487f89ec625a171fa7d5",
       "version_major": 2,
       "version_minor": 0
      },
      "text/plain": [
       "  0%|          | 0/2 [00:00<?, ?it/s]"
      ]
     },
     "metadata": {},
     "output_type": "display_data"
    },
    {
     "name": "stdout",
     "output_type": "stream",
     "text": [
      "\n",
      "Creating lung_trachea_bronchia.nii.gz\n",
      "  Saved in 0.51s\n",
      "\n",
      "If you use this tool please cite: https://pubs.rsna.org/doi/10.1148/ryai.230024\n",
      "\n",
      "Resampling...\n",
      "  Resampled in 3.07s\n",
      "Predicting...\n"
     ]
    },
    {
     "name": "stderr",
     "output_type": "stream",
     "text": [
      "/ocean/projects/asc170022p/mtragoza/mambaforge/envs/lung-project/lib/python3.10/site-packages/nnunetv2/utilities/plans_handling/plans_handler.py:37: UserWarning: Detected old nnU-Net plans format. Attempting to reconstruct network architecture parameters. If this fails, rerun nnUNetv2_plan_experiment for your dataset. If you use a custom architecture, please downgrade nnU-Net to the version you implemented this or update your implementation + plans.\n",
      "  warnings.warn(\"Detected old nnU-Net plans format. Attempting to reconstruct network architecture \"\n",
      "100%|██████████| 27/27 [00:01<00:00, 21.08it/s]\n"
     ]
    },
    {
     "name": "stdout",
     "output_type": "stream",
     "text": [
      "  Predicted in 11.21s\n"
     ]
    },
    {
     "name": "stderr",
     "output_type": "stream",
     "text": [
      "100%|██████████| 1/1 [00:00<00:00,  6.75it/s]\n",
      "100%|██████████| 1/1 [00:00<00:00,  6.66it/s]\n"
     ]
    },
    {
     "name": "stdout",
     "output_type": "stream",
     "text": [
      "Resampling...\n",
      "Saving segmentations...\n",
      "Creating body_trunc.nii.gz\n",
      "Creating body_extremities.nii.gz\n"
     ]
    },
    {
     "data": {
      "application/vnd.jupyter.widget-view+json": {
       "model_id": "65255b5f54aa4cd3b33dd99004a99b00",
       "version_major": 2,
       "version_minor": 0
      },
      "text/plain": [
       "  0%|          | 0/2 [00:00<?, ?it/s]"
      ]
     },
     "metadata": {},
     "output_type": "display_data"
    },
    {
     "name": "stdout",
     "output_type": "stream",
     "text": [
      "  Saved in 0.46s\n",
      "Creating body.nii.gz\n",
      "Creating skin.nii.gz\n",
      "CPU times: user 33min, sys: 8min 52s, total: 41min 53s\n",
      "Wall time: 4h 14min 1s\n"
     ]
    }
   ],
   "source": [
    "%%time\n",
    "\n",
    "for case in emory4dct.cases:\n",
    "    for phase in emory4dct.phases:\n",
    "        print(f'Segmenting {case.case_name} phase {phase}')\n",
    "        \n",
    "        image_file = case.nifti_file(phase=phase)\n",
    "        mask_file = case.mask_file(phase=phase, roi='lung_combined_mask')\n",
    "        mask_dir = mask_file.parent\n",
    "        \n",
    "        totalsegmentator(\n",
    "            input=image_file,\n",
    "            output=mask_dir,\n",
    "            task='total',\n",
    "            roi_subset=[\n",
    "                'lung_upper_lobe_right',\n",
    "                'lung_middle_lobe_right',\n",
    "                'lung_lower_lobe_right',\n",
    "                'lung_upper_lobe_left',\n",
    "                'lung_lower_lobe_left'\n",
    "            ],\n",
    "        )\n",
    "        totalsegmentator(\n",
    "            input=image_file,\n",
    "            output=mask_dir,\n",
    "            task='lung_vessels'\n",
    "        )\n",
    "        totalsegmentator(\n",
    "            input=image_file,\n",
    "            output=mask_dir,\n",
    "            task='body'\n",
    "        )\n",
    "        mask_nii = combine_masks(\n",
    "            mask_dir=mask_dir,\n",
    "            class_type='lung'\n",
    "        )\n",
    "\n",
    "        # select only the largest connected regions\n",
    "        mask_data = mask_nii.get_fdata()\n",
    "        new_mask_data = select_regions_by_size(mask_data)\n",
    "        new_mask_nii = nib.nifti1.Nifti1Image(new_mask_data, mask_nii.affine)        \n",
    "        \n",
    "        nib.save(new_mask_nii, mask_file)"
   ]
  },
  {
   "cell_type": "code",
   "execution_count": 5,
   "id": "8079a93b",
   "metadata": {
    "scrolled": false
   },
   "outputs": [
    {
     "name": "stdout",
     "output_type": "stream",
     "text": [
      "Loading ../data/Emory-4DCT/Case1Pack/NIFTI/case1_T00.nii.gz\n",
      "Loading ../data/Emory-4DCT/Case1Pack/NIFTI/case1_T10.nii.gz\n",
      "Loading ../data/Emory-4DCT/Case1Pack/NIFTI/case1_T20.nii.gz\n",
      "Loading ../data/Emory-4DCT/Case1Pack/NIFTI/case1_T30.nii.gz\n",
      "Loading ../data/Emory-4DCT/Case1Pack/NIFTI/case1_T40.nii.gz\n",
      "Loading ../data/Emory-4DCT/Case1Pack/NIFTI/case1_T50.nii.gz\n",
      "Loading ../data/Emory-4DCT/Case1Pack/NIFTI/case1_T60.nii.gz\n",
      "Loading ../data/Emory-4DCT/Case1Pack/NIFTI/case1_T70.nii.gz\n",
      "Loading ../data/Emory-4DCT/Case1Pack/NIFTI/case1_T80.nii.gz\n",
      "Loading ../data/Emory-4DCT/Case1Pack/NIFTI/case1_T90.nii.gz\n",
      "Loading ../data/Emory-4DCT/Case1Pack/TotalSegment/case1_T00/lung_combined_mask.nii.gz\n",
      "Loading ../data/Emory-4DCT/Case1Pack/TotalSegment/case1_T10/lung_combined_mask.nii.gz\n",
      "Loading ../data/Emory-4DCT/Case1Pack/TotalSegment/case1_T20/lung_combined_mask.nii.gz\n",
      "Loading ../data/Emory-4DCT/Case1Pack/TotalSegment/case1_T30/lung_combined_mask.nii.gz\n",
      "Loading ../data/Emory-4DCT/Case1Pack/TotalSegment/case1_T40/lung_combined_mask.nii.gz\n",
      "Loading ../data/Emory-4DCT/Case1Pack/TotalSegment/case1_T50/lung_combined_mask.nii.gz\n",
      "Loading ../data/Emory-4DCT/Case1Pack/TotalSegment/case1_T60/lung_combined_mask.nii.gz\n",
      "Loading ../data/Emory-4DCT/Case1Pack/TotalSegment/case1_T70/lung_combined_mask.nii.gz\n",
      "Loading ../data/Emory-4DCT/Case1Pack/TotalSegment/case1_T80/lung_combined_mask.nii.gz\n",
      "Loading ../data/Emory-4DCT/Case1Pack/TotalSegment/case1_T90/lung_combined_mask.nii.gz\n"
     ]
    }
   ],
   "source": [
    "case = emory4dct[0]\n",
    "case.load_niftis()\n",
    "case.load_masks(roi='lung_combined_mask')"
   ]
  },
  {
   "cell_type": "code",
   "execution_count": 6,
   "id": "839e1d59",
   "metadata": {},
   "outputs": [
    {
     "data": {
      "application/javascript": [
       "/* Put everything inside the global mpl namespace */\n",
       "/* global mpl */\n",
       "window.mpl = {};\n",
       "\n",
       "mpl.get_websocket_type = function () {\n",
       "    if (typeof WebSocket !== 'undefined') {\n",
       "        return WebSocket;\n",
       "    } else if (typeof MozWebSocket !== 'undefined') {\n",
       "        return MozWebSocket;\n",
       "    } else {\n",
       "        alert(\n",
       "            'Your browser does not have WebSocket support. ' +\n",
       "                'Please try Chrome, Safari or Firefox ≥ 6. ' +\n",
       "                'Firefox 4 and 5 are also supported but you ' +\n",
       "                'have to enable WebSockets in about:config.'\n",
       "        );\n",
       "    }\n",
       "};\n",
       "\n",
       "mpl.figure = function (figure_id, websocket, ondownload, parent_element) {\n",
       "    this.id = figure_id;\n",
       "\n",
       "    this.ws = websocket;\n",
       "\n",
       "    this.supports_binary = this.ws.binaryType !== undefined;\n",
       "\n",
       "    if (!this.supports_binary) {\n",
       "        var warnings = document.getElementById('mpl-warnings');\n",
       "        if (warnings) {\n",
       "            warnings.style.display = 'block';\n",
       "            warnings.textContent =\n",
       "                'This browser does not support binary websocket messages. ' +\n",
       "                'Performance may be slow.';\n",
       "        }\n",
       "    }\n",
       "\n",
       "    this.imageObj = new Image();\n",
       "\n",
       "    this.context = undefined;\n",
       "    this.message = undefined;\n",
       "    this.canvas = undefined;\n",
       "    this.rubberband_canvas = undefined;\n",
       "    this.rubberband_context = undefined;\n",
       "    this.format_dropdown = undefined;\n",
       "\n",
       "    this.image_mode = 'full';\n",
       "\n",
       "    this.root = document.createElement('div');\n",
       "    this.root.setAttribute('style', 'display: inline-block');\n",
       "    this._root_extra_style(this.root);\n",
       "\n",
       "    parent_element.appendChild(this.root);\n",
       "\n",
       "    this._init_header(this);\n",
       "    this._init_canvas(this);\n",
       "    this._init_toolbar(this);\n",
       "\n",
       "    var fig = this;\n",
       "\n",
       "    this.waiting = false;\n",
       "\n",
       "    this.ws.onopen = function () {\n",
       "        fig.send_message('supports_binary', { value: fig.supports_binary });\n",
       "        fig.send_message('send_image_mode', {});\n",
       "        if (fig.ratio !== 1) {\n",
       "            fig.send_message('set_device_pixel_ratio', {\n",
       "                device_pixel_ratio: fig.ratio,\n",
       "            });\n",
       "        }\n",
       "        fig.send_message('refresh', {});\n",
       "    };\n",
       "\n",
       "    this.imageObj.onload = function () {\n",
       "        if (fig.image_mode === 'full') {\n",
       "            // Full images could contain transparency (where diff images\n",
       "            // almost always do), so we need to clear the canvas so that\n",
       "            // there is no ghosting.\n",
       "            fig.context.clearRect(0, 0, fig.canvas.width, fig.canvas.height);\n",
       "        }\n",
       "        fig.context.drawImage(fig.imageObj, 0, 0);\n",
       "    };\n",
       "\n",
       "    this.imageObj.onunload = function () {\n",
       "        fig.ws.close();\n",
       "    };\n",
       "\n",
       "    this.ws.onmessage = this._make_on_message_function(this);\n",
       "\n",
       "    this.ondownload = ondownload;\n",
       "};\n",
       "\n",
       "mpl.figure.prototype._init_header = function () {\n",
       "    var titlebar = document.createElement('div');\n",
       "    titlebar.classList =\n",
       "        'ui-dialog-titlebar ui-widget-header ui-corner-all ui-helper-clearfix';\n",
       "    var titletext = document.createElement('div');\n",
       "    titletext.classList = 'ui-dialog-title';\n",
       "    titletext.setAttribute(\n",
       "        'style',\n",
       "        'width: 100%; text-align: center; padding: 3px;'\n",
       "    );\n",
       "    titlebar.appendChild(titletext);\n",
       "    this.root.appendChild(titlebar);\n",
       "    this.header = titletext;\n",
       "};\n",
       "\n",
       "mpl.figure.prototype._canvas_extra_style = function (_canvas_div) {};\n",
       "\n",
       "mpl.figure.prototype._root_extra_style = function (_canvas_div) {};\n",
       "\n",
       "mpl.figure.prototype._init_canvas = function () {\n",
       "    var fig = this;\n",
       "\n",
       "    var canvas_div = (this.canvas_div = document.createElement('div'));\n",
       "    canvas_div.setAttribute('tabindex', '0');\n",
       "    canvas_div.setAttribute(\n",
       "        'style',\n",
       "        'border: 1px solid #ddd;' +\n",
       "            'box-sizing: content-box;' +\n",
       "            'clear: both;' +\n",
       "            'min-height: 1px;' +\n",
       "            'min-width: 1px;' +\n",
       "            'outline: 0;' +\n",
       "            'overflow: hidden;' +\n",
       "            'position: relative;' +\n",
       "            'resize: both;' +\n",
       "            'z-index: 2;'\n",
       "    );\n",
       "\n",
       "    function on_keyboard_event_closure(name) {\n",
       "        return function (event) {\n",
       "            return fig.key_event(event, name);\n",
       "        };\n",
       "    }\n",
       "\n",
       "    canvas_div.addEventListener(\n",
       "        'keydown',\n",
       "        on_keyboard_event_closure('key_press')\n",
       "    );\n",
       "    canvas_div.addEventListener(\n",
       "        'keyup',\n",
       "        on_keyboard_event_closure('key_release')\n",
       "    );\n",
       "\n",
       "    this._canvas_extra_style(canvas_div);\n",
       "    this.root.appendChild(canvas_div);\n",
       "\n",
       "    var canvas = (this.canvas = document.createElement('canvas'));\n",
       "    canvas.classList.add('mpl-canvas');\n",
       "    canvas.setAttribute(\n",
       "        'style',\n",
       "        'box-sizing: content-box;' +\n",
       "            'pointer-events: none;' +\n",
       "            'position: relative;' +\n",
       "            'z-index: 0;'\n",
       "    );\n",
       "\n",
       "    this.context = canvas.getContext('2d');\n",
       "\n",
       "    var backingStore =\n",
       "        this.context.backingStorePixelRatio ||\n",
       "        this.context.webkitBackingStorePixelRatio ||\n",
       "        this.context.mozBackingStorePixelRatio ||\n",
       "        this.context.msBackingStorePixelRatio ||\n",
       "        this.context.oBackingStorePixelRatio ||\n",
       "        this.context.backingStorePixelRatio ||\n",
       "        1;\n",
       "\n",
       "    this.ratio = (window.devicePixelRatio || 1) / backingStore;\n",
       "\n",
       "    var rubberband_canvas = (this.rubberband_canvas = document.createElement(\n",
       "        'canvas'\n",
       "    ));\n",
       "    rubberband_canvas.setAttribute(\n",
       "        'style',\n",
       "        'box-sizing: content-box;' +\n",
       "            'left: 0;' +\n",
       "            'pointer-events: none;' +\n",
       "            'position: absolute;' +\n",
       "            'top: 0;' +\n",
       "            'z-index: 1;'\n",
       "    );\n",
       "\n",
       "    // Apply a ponyfill if ResizeObserver is not implemented by browser.\n",
       "    if (this.ResizeObserver === undefined) {\n",
       "        if (window.ResizeObserver !== undefined) {\n",
       "            this.ResizeObserver = window.ResizeObserver;\n",
       "        } else {\n",
       "            var obs = _JSXTOOLS_RESIZE_OBSERVER({});\n",
       "            this.ResizeObserver = obs.ResizeObserver;\n",
       "        }\n",
       "    }\n",
       "\n",
       "    this.resizeObserverInstance = new this.ResizeObserver(function (entries) {\n",
       "        var nentries = entries.length;\n",
       "        for (var i = 0; i < nentries; i++) {\n",
       "            var entry = entries[i];\n",
       "            var width, height;\n",
       "            if (entry.contentBoxSize) {\n",
       "                if (entry.contentBoxSize instanceof Array) {\n",
       "                    // Chrome 84 implements new version of spec.\n",
       "                    width = entry.contentBoxSize[0].inlineSize;\n",
       "                    height = entry.contentBoxSize[0].blockSize;\n",
       "                } else {\n",
       "                    // Firefox implements old version of spec.\n",
       "                    width = entry.contentBoxSize.inlineSize;\n",
       "                    height = entry.contentBoxSize.blockSize;\n",
       "                }\n",
       "            } else {\n",
       "                // Chrome <84 implements even older version of spec.\n",
       "                width = entry.contentRect.width;\n",
       "                height = entry.contentRect.height;\n",
       "            }\n",
       "\n",
       "            // Keep the size of the canvas and rubber band canvas in sync with\n",
       "            // the canvas container.\n",
       "            if (entry.devicePixelContentBoxSize) {\n",
       "                // Chrome 84 implements new version of spec.\n",
       "                canvas.setAttribute(\n",
       "                    'width',\n",
       "                    entry.devicePixelContentBoxSize[0].inlineSize\n",
       "                );\n",
       "                canvas.setAttribute(\n",
       "                    'height',\n",
       "                    entry.devicePixelContentBoxSize[0].blockSize\n",
       "                );\n",
       "            } else {\n",
       "                canvas.setAttribute('width', width * fig.ratio);\n",
       "                canvas.setAttribute('height', height * fig.ratio);\n",
       "            }\n",
       "            /* This rescales the canvas back to display pixels, so that it\n",
       "             * appears correct on HiDPI screens. */\n",
       "            canvas.style.width = width + 'px';\n",
       "            canvas.style.height = height + 'px';\n",
       "\n",
       "            rubberband_canvas.setAttribute('width', width);\n",
       "            rubberband_canvas.setAttribute('height', height);\n",
       "\n",
       "            // And update the size in Python. We ignore the initial 0/0 size\n",
       "            // that occurs as the element is placed into the DOM, which should\n",
       "            // otherwise not happen due to the minimum size styling.\n",
       "            if (fig.ws.readyState == 1 && width != 0 && height != 0) {\n",
       "                fig.request_resize(width, height);\n",
       "            }\n",
       "        }\n",
       "    });\n",
       "    this.resizeObserverInstance.observe(canvas_div);\n",
       "\n",
       "    function on_mouse_event_closure(name) {\n",
       "        /* User Agent sniffing is bad, but WebKit is busted:\n",
       "         * https://bugs.webkit.org/show_bug.cgi?id=144526\n",
       "         * https://bugs.webkit.org/show_bug.cgi?id=181818\n",
       "         * The worst that happens here is that they get an extra browser\n",
       "         * selection when dragging, if this check fails to catch them.\n",
       "         */\n",
       "        var UA = navigator.userAgent;\n",
       "        var isWebKit = /AppleWebKit/.test(UA) && !/Chrome/.test(UA);\n",
       "        if(isWebKit) {\n",
       "            return function (event) {\n",
       "                /* This prevents the web browser from automatically changing to\n",
       "                 * the text insertion cursor when the button is pressed. We\n",
       "                 * want to control all of the cursor setting manually through\n",
       "                 * the 'cursor' event from matplotlib */\n",
       "                event.preventDefault()\n",
       "                return fig.mouse_event(event, name);\n",
       "            };\n",
       "        } else {\n",
       "            return function (event) {\n",
       "                return fig.mouse_event(event, name);\n",
       "            };\n",
       "        }\n",
       "    }\n",
       "\n",
       "    canvas_div.addEventListener(\n",
       "        'mousedown',\n",
       "        on_mouse_event_closure('button_press')\n",
       "    );\n",
       "    canvas_div.addEventListener(\n",
       "        'mouseup',\n",
       "        on_mouse_event_closure('button_release')\n",
       "    );\n",
       "    canvas_div.addEventListener(\n",
       "        'dblclick',\n",
       "        on_mouse_event_closure('dblclick')\n",
       "    );\n",
       "    // Throttle sequential mouse events to 1 every 20ms.\n",
       "    canvas_div.addEventListener(\n",
       "        'mousemove',\n",
       "        on_mouse_event_closure('motion_notify')\n",
       "    );\n",
       "\n",
       "    canvas_div.addEventListener(\n",
       "        'mouseenter',\n",
       "        on_mouse_event_closure('figure_enter')\n",
       "    );\n",
       "    canvas_div.addEventListener(\n",
       "        'mouseleave',\n",
       "        on_mouse_event_closure('figure_leave')\n",
       "    );\n",
       "\n",
       "    canvas_div.addEventListener('wheel', function (event) {\n",
       "        if (event.deltaY < 0) {\n",
       "            event.step = 1;\n",
       "        } else {\n",
       "            event.step = -1;\n",
       "        }\n",
       "        on_mouse_event_closure('scroll')(event);\n",
       "    });\n",
       "\n",
       "    canvas_div.appendChild(canvas);\n",
       "    canvas_div.appendChild(rubberband_canvas);\n",
       "\n",
       "    this.rubberband_context = rubberband_canvas.getContext('2d');\n",
       "    this.rubberband_context.strokeStyle = '#000000';\n",
       "\n",
       "    this._resize_canvas = function (width, height, forward) {\n",
       "        if (forward) {\n",
       "            canvas_div.style.width = width + 'px';\n",
       "            canvas_div.style.height = height + 'px';\n",
       "        }\n",
       "    };\n",
       "\n",
       "    // Disable right mouse context menu.\n",
       "    canvas_div.addEventListener('contextmenu', function (_e) {\n",
       "        event.preventDefault();\n",
       "        return false;\n",
       "    });\n",
       "\n",
       "    function set_focus() {\n",
       "        canvas.focus();\n",
       "        canvas_div.focus();\n",
       "    }\n",
       "\n",
       "    window.setTimeout(set_focus, 100);\n",
       "};\n",
       "\n",
       "mpl.figure.prototype._init_toolbar = function () {\n",
       "    var fig = this;\n",
       "\n",
       "    var toolbar = document.createElement('div');\n",
       "    toolbar.classList = 'mpl-toolbar';\n",
       "    this.root.appendChild(toolbar);\n",
       "\n",
       "    function on_click_closure(name) {\n",
       "        return function (_event) {\n",
       "            return fig.toolbar_button_onclick(name);\n",
       "        };\n",
       "    }\n",
       "\n",
       "    function on_mouseover_closure(tooltip) {\n",
       "        return function (event) {\n",
       "            if (!event.currentTarget.disabled) {\n",
       "                return fig.toolbar_button_onmouseover(tooltip);\n",
       "            }\n",
       "        };\n",
       "    }\n",
       "\n",
       "    fig.buttons = {};\n",
       "    var buttonGroup = document.createElement('div');\n",
       "    buttonGroup.classList = 'mpl-button-group';\n",
       "    for (var toolbar_ind in mpl.toolbar_items) {\n",
       "        var name = mpl.toolbar_items[toolbar_ind][0];\n",
       "        var tooltip = mpl.toolbar_items[toolbar_ind][1];\n",
       "        var image = mpl.toolbar_items[toolbar_ind][2];\n",
       "        var method_name = mpl.toolbar_items[toolbar_ind][3];\n",
       "\n",
       "        if (!name) {\n",
       "            /* Instead of a spacer, we start a new button group. */\n",
       "            if (buttonGroup.hasChildNodes()) {\n",
       "                toolbar.appendChild(buttonGroup);\n",
       "            }\n",
       "            buttonGroup = document.createElement('div');\n",
       "            buttonGroup.classList = 'mpl-button-group';\n",
       "            continue;\n",
       "        }\n",
       "\n",
       "        var button = (fig.buttons[name] = document.createElement('button'));\n",
       "        button.classList = 'mpl-widget';\n",
       "        button.setAttribute('role', 'button');\n",
       "        button.setAttribute('aria-disabled', 'false');\n",
       "        button.addEventListener('click', on_click_closure(method_name));\n",
       "        button.addEventListener('mouseover', on_mouseover_closure(tooltip));\n",
       "\n",
       "        var icon_img = document.createElement('img');\n",
       "        icon_img.src = '_images/' + image + '.png';\n",
       "        icon_img.srcset = '_images/' + image + '_large.png 2x';\n",
       "        icon_img.alt = tooltip;\n",
       "        button.appendChild(icon_img);\n",
       "\n",
       "        buttonGroup.appendChild(button);\n",
       "    }\n",
       "\n",
       "    if (buttonGroup.hasChildNodes()) {\n",
       "        toolbar.appendChild(buttonGroup);\n",
       "    }\n",
       "\n",
       "    var fmt_picker = document.createElement('select');\n",
       "    fmt_picker.classList = 'mpl-widget';\n",
       "    toolbar.appendChild(fmt_picker);\n",
       "    this.format_dropdown = fmt_picker;\n",
       "\n",
       "    for (var ind in mpl.extensions) {\n",
       "        var fmt = mpl.extensions[ind];\n",
       "        var option = document.createElement('option');\n",
       "        option.selected = fmt === mpl.default_extension;\n",
       "        option.innerHTML = fmt;\n",
       "        fmt_picker.appendChild(option);\n",
       "    }\n",
       "\n",
       "    var status_bar = document.createElement('span');\n",
       "    status_bar.classList = 'mpl-message';\n",
       "    toolbar.appendChild(status_bar);\n",
       "    this.message = status_bar;\n",
       "};\n",
       "\n",
       "mpl.figure.prototype.request_resize = function (x_pixels, y_pixels) {\n",
       "    // Request matplotlib to resize the figure. Matplotlib will then trigger a resize in the client,\n",
       "    // which will in turn request a refresh of the image.\n",
       "    this.send_message('resize', { width: x_pixels, height: y_pixels });\n",
       "};\n",
       "\n",
       "mpl.figure.prototype.send_message = function (type, properties) {\n",
       "    properties['type'] = type;\n",
       "    properties['figure_id'] = this.id;\n",
       "    this.ws.send(JSON.stringify(properties));\n",
       "};\n",
       "\n",
       "mpl.figure.prototype.send_draw_message = function () {\n",
       "    if (!this.waiting) {\n",
       "        this.waiting = true;\n",
       "        this.ws.send(JSON.stringify({ type: 'draw', figure_id: this.id }));\n",
       "    }\n",
       "};\n",
       "\n",
       "mpl.figure.prototype.handle_save = function (fig, _msg) {\n",
       "    var format_dropdown = fig.format_dropdown;\n",
       "    var format = format_dropdown.options[format_dropdown.selectedIndex].value;\n",
       "    fig.ondownload(fig, format);\n",
       "};\n",
       "\n",
       "mpl.figure.prototype.handle_resize = function (fig, msg) {\n",
       "    var size = msg['size'];\n",
       "    if (size[0] !== fig.canvas.width || size[1] !== fig.canvas.height) {\n",
       "        fig._resize_canvas(size[0], size[1], msg['forward']);\n",
       "        fig.send_message('refresh', {});\n",
       "    }\n",
       "};\n",
       "\n",
       "mpl.figure.prototype.handle_rubberband = function (fig, msg) {\n",
       "    var x0 = msg['x0'] / fig.ratio;\n",
       "    var y0 = (fig.canvas.height - msg['y0']) / fig.ratio;\n",
       "    var x1 = msg['x1'] / fig.ratio;\n",
       "    var y1 = (fig.canvas.height - msg['y1']) / fig.ratio;\n",
       "    x0 = Math.floor(x0) + 0.5;\n",
       "    y0 = Math.floor(y0) + 0.5;\n",
       "    x1 = Math.floor(x1) + 0.5;\n",
       "    y1 = Math.floor(y1) + 0.5;\n",
       "    var min_x = Math.min(x0, x1);\n",
       "    var min_y = Math.min(y0, y1);\n",
       "    var width = Math.abs(x1 - x0);\n",
       "    var height = Math.abs(y1 - y0);\n",
       "\n",
       "    fig.rubberband_context.clearRect(\n",
       "        0,\n",
       "        0,\n",
       "        fig.canvas.width / fig.ratio,\n",
       "        fig.canvas.height / fig.ratio\n",
       "    );\n",
       "\n",
       "    fig.rubberband_context.strokeRect(min_x, min_y, width, height);\n",
       "};\n",
       "\n",
       "mpl.figure.prototype.handle_figure_label = function (fig, msg) {\n",
       "    // Updates the figure title.\n",
       "    fig.header.textContent = msg['label'];\n",
       "};\n",
       "\n",
       "mpl.figure.prototype.handle_cursor = function (fig, msg) {\n",
       "    fig.canvas_div.style.cursor = msg['cursor'];\n",
       "};\n",
       "\n",
       "mpl.figure.prototype.handle_message = function (fig, msg) {\n",
       "    fig.message.textContent = msg['message'];\n",
       "};\n",
       "\n",
       "mpl.figure.prototype.handle_draw = function (fig, _msg) {\n",
       "    // Request the server to send over a new figure.\n",
       "    fig.send_draw_message();\n",
       "};\n",
       "\n",
       "mpl.figure.prototype.handle_image_mode = function (fig, msg) {\n",
       "    fig.image_mode = msg['mode'];\n",
       "};\n",
       "\n",
       "mpl.figure.prototype.handle_history_buttons = function (fig, msg) {\n",
       "    for (var key in msg) {\n",
       "        if (!(key in fig.buttons)) {\n",
       "            continue;\n",
       "        }\n",
       "        fig.buttons[key].disabled = !msg[key];\n",
       "        fig.buttons[key].setAttribute('aria-disabled', !msg[key]);\n",
       "    }\n",
       "};\n",
       "\n",
       "mpl.figure.prototype.handle_navigate_mode = function (fig, msg) {\n",
       "    if (msg['mode'] === 'PAN') {\n",
       "        fig.buttons['Pan'].classList.add('active');\n",
       "        fig.buttons['Zoom'].classList.remove('active');\n",
       "    } else if (msg['mode'] === 'ZOOM') {\n",
       "        fig.buttons['Pan'].classList.remove('active');\n",
       "        fig.buttons['Zoom'].classList.add('active');\n",
       "    } else {\n",
       "        fig.buttons['Pan'].classList.remove('active');\n",
       "        fig.buttons['Zoom'].classList.remove('active');\n",
       "    }\n",
       "};\n",
       "\n",
       "mpl.figure.prototype.updated_canvas_event = function () {\n",
       "    // Called whenever the canvas gets updated.\n",
       "    this.send_message('ack', {});\n",
       "};\n",
       "\n",
       "// A function to construct a web socket function for onmessage handling.\n",
       "// Called in the figure constructor.\n",
       "mpl.figure.prototype._make_on_message_function = function (fig) {\n",
       "    return function socket_on_message(evt) {\n",
       "        if (evt.data instanceof Blob) {\n",
       "            var img = evt.data;\n",
       "            if (img.type !== 'image/png') {\n",
       "                /* FIXME: We get \"Resource interpreted as Image but\n",
       "                 * transferred with MIME type text/plain:\" errors on\n",
       "                 * Chrome.  But how to set the MIME type?  It doesn't seem\n",
       "                 * to be part of the websocket stream */\n",
       "                img.type = 'image/png';\n",
       "            }\n",
       "\n",
       "            /* Free the memory for the previous frames */\n",
       "            if (fig.imageObj.src) {\n",
       "                (window.URL || window.webkitURL).revokeObjectURL(\n",
       "                    fig.imageObj.src\n",
       "                );\n",
       "            }\n",
       "\n",
       "            fig.imageObj.src = (window.URL || window.webkitURL).createObjectURL(\n",
       "                img\n",
       "            );\n",
       "            fig.updated_canvas_event();\n",
       "            fig.waiting = false;\n",
       "            return;\n",
       "        } else if (\n",
       "            typeof evt.data === 'string' &&\n",
       "            evt.data.slice(0, 21) === 'data:image/png;base64'\n",
       "        ) {\n",
       "            fig.imageObj.src = evt.data;\n",
       "            fig.updated_canvas_event();\n",
       "            fig.waiting = false;\n",
       "            return;\n",
       "        }\n",
       "\n",
       "        var msg = JSON.parse(evt.data);\n",
       "        var msg_type = msg['type'];\n",
       "\n",
       "        // Call the  \"handle_{type}\" callback, which takes\n",
       "        // the figure and JSON message as its only arguments.\n",
       "        try {\n",
       "            var callback = fig['handle_' + msg_type];\n",
       "        } catch (e) {\n",
       "            console.log(\n",
       "                \"No handler for the '\" + msg_type + \"' message type: \",\n",
       "                msg\n",
       "            );\n",
       "            return;\n",
       "        }\n",
       "\n",
       "        if (callback) {\n",
       "            try {\n",
       "                // console.log(\"Handling '\" + msg_type + \"' message: \", msg);\n",
       "                callback(fig, msg);\n",
       "            } catch (e) {\n",
       "                console.log(\n",
       "                    \"Exception inside the 'handler_\" + msg_type + \"' callback:\",\n",
       "                    e,\n",
       "                    e.stack,\n",
       "                    msg\n",
       "                );\n",
       "            }\n",
       "        }\n",
       "    };\n",
       "};\n",
       "\n",
       "function getModifiers(event) {\n",
       "    var mods = [];\n",
       "    if (event.ctrlKey) {\n",
       "        mods.push('ctrl');\n",
       "    }\n",
       "    if (event.altKey) {\n",
       "        mods.push('alt');\n",
       "    }\n",
       "    if (event.shiftKey) {\n",
       "        mods.push('shift');\n",
       "    }\n",
       "    if (event.metaKey) {\n",
       "        mods.push('meta');\n",
       "    }\n",
       "    return mods;\n",
       "}\n",
       "\n",
       "/*\n",
       " * return a copy of an object with only non-object keys\n",
       " * we need this to avoid circular references\n",
       " * https://stackoverflow.com/a/24161582/3208463\n",
       " */\n",
       "function simpleKeys(original) {\n",
       "    return Object.keys(original).reduce(function (obj, key) {\n",
       "        if (typeof original[key] !== 'object') {\n",
       "            obj[key] = original[key];\n",
       "        }\n",
       "        return obj;\n",
       "    }, {});\n",
       "}\n",
       "\n",
       "mpl.figure.prototype.mouse_event = function (event, name) {\n",
       "    if (name === 'button_press') {\n",
       "        this.canvas.focus();\n",
       "        this.canvas_div.focus();\n",
       "    }\n",
       "\n",
       "    // from https://stackoverflow.com/q/1114465\n",
       "    var boundingRect = this.canvas.getBoundingClientRect();\n",
       "    var x = (event.clientX - boundingRect.left) * this.ratio;\n",
       "    var y = (event.clientY - boundingRect.top) * this.ratio;\n",
       "\n",
       "    this.send_message(name, {\n",
       "        x: x,\n",
       "        y: y,\n",
       "        button: event.button,\n",
       "        step: event.step,\n",
       "        modifiers: getModifiers(event),\n",
       "        guiEvent: simpleKeys(event),\n",
       "    });\n",
       "\n",
       "    return false;\n",
       "};\n",
       "\n",
       "mpl.figure.prototype._key_event_extra = function (_event, _name) {\n",
       "    // Handle any extra behaviour associated with a key event\n",
       "};\n",
       "\n",
       "mpl.figure.prototype.key_event = function (event, name) {\n",
       "    // Prevent repeat events\n",
       "    if (name === 'key_press') {\n",
       "        if (event.key === this._key) {\n",
       "            return;\n",
       "        } else {\n",
       "            this._key = event.key;\n",
       "        }\n",
       "    }\n",
       "    if (name === 'key_release') {\n",
       "        this._key = null;\n",
       "    }\n",
       "\n",
       "    var value = '';\n",
       "    if (event.ctrlKey && event.key !== 'Control') {\n",
       "        value += 'ctrl+';\n",
       "    }\n",
       "    else if (event.altKey && event.key !== 'Alt') {\n",
       "        value += 'alt+';\n",
       "    }\n",
       "    else if (event.shiftKey && event.key !== 'Shift') {\n",
       "        value += 'shift+';\n",
       "    }\n",
       "\n",
       "    value += 'k' + event.key;\n",
       "\n",
       "    this._key_event_extra(event, name);\n",
       "\n",
       "    this.send_message(name, { key: value, guiEvent: simpleKeys(event) });\n",
       "    return false;\n",
       "};\n",
       "\n",
       "mpl.figure.prototype.toolbar_button_onclick = function (name) {\n",
       "    if (name === 'download') {\n",
       "        this.handle_save(this, null);\n",
       "    } else {\n",
       "        this.send_message('toolbar_button', { name: name });\n",
       "    }\n",
       "};\n",
       "\n",
       "mpl.figure.prototype.toolbar_button_onmouseover = function (tooltip) {\n",
       "    this.message.textContent = tooltip;\n",
       "};\n",
       "\n",
       "///////////////// REMAINING CONTENT GENERATED BY embed_js.py /////////////////\n",
       "// prettier-ignore\n",
       "var _JSXTOOLS_RESIZE_OBSERVER=function(A){var t,i=new WeakMap,n=new WeakMap,a=new WeakMap,r=new WeakMap,o=new Set;function s(e){if(!(this instanceof s))throw new TypeError(\"Constructor requires 'new' operator\");i.set(this,e)}function h(){throw new TypeError(\"Function is not a constructor\")}function c(e,t,i,n){e=0 in arguments?Number(arguments[0]):0,t=1 in arguments?Number(arguments[1]):0,i=2 in arguments?Number(arguments[2]):0,n=3 in arguments?Number(arguments[3]):0,this.right=(this.x=this.left=e)+(this.width=i),this.bottom=(this.y=this.top=t)+(this.height=n),Object.freeze(this)}function d(){t=requestAnimationFrame(d);var s=new WeakMap,p=new Set;o.forEach((function(t){r.get(t).forEach((function(i){var r=t instanceof window.SVGElement,o=a.get(t),d=r?0:parseFloat(o.paddingTop),f=r?0:parseFloat(o.paddingRight),l=r?0:parseFloat(o.paddingBottom),u=r?0:parseFloat(o.paddingLeft),g=r?0:parseFloat(o.borderTopWidth),m=r?0:parseFloat(o.borderRightWidth),w=r?0:parseFloat(o.borderBottomWidth),b=u+f,F=d+l,v=(r?0:parseFloat(o.borderLeftWidth))+m,W=g+w,y=r?0:t.offsetHeight-W-t.clientHeight,E=r?0:t.offsetWidth-v-t.clientWidth,R=b+v,z=F+W,M=r?t.width:parseFloat(o.width)-R-E,O=r?t.height:parseFloat(o.height)-z-y;if(n.has(t)){var k=n.get(t);if(k[0]===M&&k[1]===O)return}n.set(t,[M,O]);var S=Object.create(h.prototype);S.target=t,S.contentRect=new c(u,d,M,O),s.has(i)||(s.set(i,[]),p.add(i)),s.get(i).push(S)}))})),p.forEach((function(e){i.get(e).call(e,s.get(e),e)}))}return s.prototype.observe=function(i){if(i instanceof window.Element){r.has(i)||(r.set(i,new Set),o.add(i),a.set(i,window.getComputedStyle(i)));var n=r.get(i);n.has(this)||n.add(this),cancelAnimationFrame(t),t=requestAnimationFrame(d)}},s.prototype.unobserve=function(i){if(i instanceof window.Element&&r.has(i)){var n=r.get(i);n.has(this)&&(n.delete(this),n.size||(r.delete(i),o.delete(i))),n.size||r.delete(i),o.size||cancelAnimationFrame(t)}},A.DOMRectReadOnly=c,A.ResizeObserver=s,A.ResizeObserverEntry=h,A}; // eslint-disable-line\n",
       "mpl.toolbar_items = [[\"Home\", \"Reset original view\", \"fa fa-home\", \"home\"], [\"Back\", \"Back to previous view\", \"fa fa-arrow-left\", \"back\"], [\"Forward\", \"Forward to next view\", \"fa fa-arrow-right\", \"forward\"], [\"\", \"\", \"\", \"\"], [\"Pan\", \"Left button pans, Right button zooms\\nx/y fixes axis, CTRL fixes aspect\", \"fa fa-arrows\", \"pan\"], [\"Zoom\", \"Zoom to rectangle\\nx/y fixes axis\", \"fa fa-square-o\", \"zoom\"], [\"\", \"\", \"\", \"\"], [\"Download\", \"Download plot\", \"fa fa-floppy-o\", \"download\"]];\n",
       "\n",
       "mpl.extensions = [\"eps\", \"jpeg\", \"pgf\", \"pdf\", \"png\", \"ps\", \"raw\", \"svg\", \"tif\", \"webp\"];\n",
       "\n",
       "mpl.default_extension = \"png\";/* global mpl */\n",
       "\n",
       "var comm_websocket_adapter = function (comm) {\n",
       "    // Create a \"websocket\"-like object which calls the given IPython comm\n",
       "    // object with the appropriate methods. Currently this is a non binary\n",
       "    // socket, so there is still some room for performance tuning.\n",
       "    var ws = {};\n",
       "\n",
       "    ws.binaryType = comm.kernel.ws.binaryType;\n",
       "    ws.readyState = comm.kernel.ws.readyState;\n",
       "    function updateReadyState(_event) {\n",
       "        if (comm.kernel.ws) {\n",
       "            ws.readyState = comm.kernel.ws.readyState;\n",
       "        } else {\n",
       "            ws.readyState = 3; // Closed state.\n",
       "        }\n",
       "    }\n",
       "    comm.kernel.ws.addEventListener('open', updateReadyState);\n",
       "    comm.kernel.ws.addEventListener('close', updateReadyState);\n",
       "    comm.kernel.ws.addEventListener('error', updateReadyState);\n",
       "\n",
       "    ws.close = function () {\n",
       "        comm.close();\n",
       "    };\n",
       "    ws.send = function (m) {\n",
       "        //console.log('sending', m);\n",
       "        comm.send(m);\n",
       "    };\n",
       "    // Register the callback with on_msg.\n",
       "    comm.on_msg(function (msg) {\n",
       "        //console.log('receiving', msg['content']['data'], msg);\n",
       "        var data = msg['content']['data'];\n",
       "        if (data['blob'] !== undefined) {\n",
       "            data = {\n",
       "                data: new Blob(msg['buffers'], { type: data['blob'] }),\n",
       "            };\n",
       "        }\n",
       "        // Pass the mpl event to the overridden (by mpl) onmessage function.\n",
       "        ws.onmessage(data);\n",
       "    });\n",
       "    return ws;\n",
       "};\n",
       "\n",
       "mpl.mpl_figure_comm = function (comm, msg) {\n",
       "    // This is the function which gets called when the mpl process\n",
       "    // starts-up an IPython Comm through the \"matplotlib\" channel.\n",
       "\n",
       "    var id = msg.content.data.id;\n",
       "    // Get hold of the div created by the display call when the Comm\n",
       "    // socket was opened in Python.\n",
       "    var element = document.getElementById(id);\n",
       "    var ws_proxy = comm_websocket_adapter(comm);\n",
       "\n",
       "    function ondownload(figure, _format) {\n",
       "        window.open(figure.canvas.toDataURL());\n",
       "    }\n",
       "\n",
       "    var fig = new mpl.figure(id, ws_proxy, ondownload, element);\n",
       "\n",
       "    // Call onopen now - mpl needs it, as it is assuming we've passed it a real\n",
       "    // web socket which is closed, not our websocket->open comm proxy.\n",
       "    ws_proxy.onopen();\n",
       "\n",
       "    fig.parent_element = element;\n",
       "    fig.cell_info = mpl.find_output_cell(\"<div id='\" + id + \"'></div>\");\n",
       "    if (!fig.cell_info) {\n",
       "        console.error('Failed to find cell for figure', id, fig);\n",
       "        return;\n",
       "    }\n",
       "    fig.cell_info[0].output_area.element.on(\n",
       "        'cleared',\n",
       "        { fig: fig },\n",
       "        fig._remove_fig_handler\n",
       "    );\n",
       "};\n",
       "\n",
       "mpl.figure.prototype.handle_close = function (fig, msg) {\n",
       "    var width = fig.canvas.width / fig.ratio;\n",
       "    fig.cell_info[0].output_area.element.off(\n",
       "        'cleared',\n",
       "        fig._remove_fig_handler\n",
       "    );\n",
       "    fig.resizeObserverInstance.unobserve(fig.canvas_div);\n",
       "\n",
       "    // Update the output cell to use the data from the current canvas.\n",
       "    fig.push_to_output();\n",
       "    var dataURL = fig.canvas.toDataURL();\n",
       "    // Re-enable the keyboard manager in IPython - without this line, in FF,\n",
       "    // the notebook keyboard shortcuts fail.\n",
       "    IPython.keyboard_manager.enable();\n",
       "    fig.parent_element.innerHTML =\n",
       "        '<img src=\"' + dataURL + '\" width=\"' + width + '\">';\n",
       "    fig.close_ws(fig, msg);\n",
       "};\n",
       "\n",
       "mpl.figure.prototype.close_ws = function (fig, msg) {\n",
       "    fig.send_message('closing', msg);\n",
       "    // fig.ws.close()\n",
       "};\n",
       "\n",
       "mpl.figure.prototype.push_to_output = function (_remove_interactive) {\n",
       "    // Turn the data on the canvas into data in the output cell.\n",
       "    var width = this.canvas.width / this.ratio;\n",
       "    var dataURL = this.canvas.toDataURL();\n",
       "    this.cell_info[1]['text/html'] =\n",
       "        '<img src=\"' + dataURL + '\" width=\"' + width + '\">';\n",
       "};\n",
       "\n",
       "mpl.figure.prototype.updated_canvas_event = function () {\n",
       "    // Tell IPython that the notebook contents must change.\n",
       "    IPython.notebook.set_dirty(true);\n",
       "    this.send_message('ack', {});\n",
       "    var fig = this;\n",
       "    // Wait a second, then push the new image to the DOM so\n",
       "    // that it is saved nicely (might be nice to debounce this).\n",
       "    setTimeout(function () {\n",
       "        fig.push_to_output();\n",
       "    }, 1000);\n",
       "};\n",
       "\n",
       "mpl.figure.prototype._init_toolbar = function () {\n",
       "    var fig = this;\n",
       "\n",
       "    var toolbar = document.createElement('div');\n",
       "    toolbar.classList = 'btn-toolbar';\n",
       "    this.root.appendChild(toolbar);\n",
       "\n",
       "    function on_click_closure(name) {\n",
       "        return function (_event) {\n",
       "            return fig.toolbar_button_onclick(name);\n",
       "        };\n",
       "    }\n",
       "\n",
       "    function on_mouseover_closure(tooltip) {\n",
       "        return function (event) {\n",
       "            if (!event.currentTarget.disabled) {\n",
       "                return fig.toolbar_button_onmouseover(tooltip);\n",
       "            }\n",
       "        };\n",
       "    }\n",
       "\n",
       "    fig.buttons = {};\n",
       "    var buttonGroup = document.createElement('div');\n",
       "    buttonGroup.classList = 'btn-group';\n",
       "    var button;\n",
       "    for (var toolbar_ind in mpl.toolbar_items) {\n",
       "        var name = mpl.toolbar_items[toolbar_ind][0];\n",
       "        var tooltip = mpl.toolbar_items[toolbar_ind][1];\n",
       "        var image = mpl.toolbar_items[toolbar_ind][2];\n",
       "        var method_name = mpl.toolbar_items[toolbar_ind][3];\n",
       "\n",
       "        if (!name) {\n",
       "            /* Instead of a spacer, we start a new button group. */\n",
       "            if (buttonGroup.hasChildNodes()) {\n",
       "                toolbar.appendChild(buttonGroup);\n",
       "            }\n",
       "            buttonGroup = document.createElement('div');\n",
       "            buttonGroup.classList = 'btn-group';\n",
       "            continue;\n",
       "        }\n",
       "\n",
       "        button = fig.buttons[name] = document.createElement('button');\n",
       "        button.classList = 'btn btn-default';\n",
       "        button.href = '#';\n",
       "        button.title = name;\n",
       "        button.innerHTML = '<i class=\"fa ' + image + ' fa-lg\"></i>';\n",
       "        button.addEventListener('click', on_click_closure(method_name));\n",
       "        button.addEventListener('mouseover', on_mouseover_closure(tooltip));\n",
       "        buttonGroup.appendChild(button);\n",
       "    }\n",
       "\n",
       "    if (buttonGroup.hasChildNodes()) {\n",
       "        toolbar.appendChild(buttonGroup);\n",
       "    }\n",
       "\n",
       "    // Add the status bar.\n",
       "    var status_bar = document.createElement('span');\n",
       "    status_bar.classList = 'mpl-message pull-right';\n",
       "    toolbar.appendChild(status_bar);\n",
       "    this.message = status_bar;\n",
       "\n",
       "    // Add the close button to the window.\n",
       "    var buttongrp = document.createElement('div');\n",
       "    buttongrp.classList = 'btn-group inline pull-right';\n",
       "    button = document.createElement('button');\n",
       "    button.classList = 'btn btn-mini btn-primary';\n",
       "    button.href = '#';\n",
       "    button.title = 'Stop Interaction';\n",
       "    button.innerHTML = '<i class=\"fa fa-power-off icon-remove icon-large\"></i>';\n",
       "    button.addEventListener('click', function (_evt) {\n",
       "        fig.handle_close(fig, {});\n",
       "    });\n",
       "    button.addEventListener(\n",
       "        'mouseover',\n",
       "        on_mouseover_closure('Stop Interaction')\n",
       "    );\n",
       "    buttongrp.appendChild(button);\n",
       "    var titlebar = this.root.querySelector('.ui-dialog-titlebar');\n",
       "    titlebar.insertBefore(buttongrp, titlebar.firstChild);\n",
       "};\n",
       "\n",
       "mpl.figure.prototype._remove_fig_handler = function (event) {\n",
       "    var fig = event.data.fig;\n",
       "    if (event.target !== this) {\n",
       "        // Ignore bubbled events from children.\n",
       "        return;\n",
       "    }\n",
       "    fig.close_ws(fig, {});\n",
       "};\n",
       "\n",
       "mpl.figure.prototype._root_extra_style = function (el) {\n",
       "    el.style.boxSizing = 'content-box'; // override notebook setting of border-box.\n",
       "};\n",
       "\n",
       "mpl.figure.prototype._canvas_extra_style = function (el) {\n",
       "    // this is important to make the div 'focusable\n",
       "    el.setAttribute('tabindex', 0);\n",
       "    // reach out to IPython and tell the keyboard manager to turn it's self\n",
       "    // off when our div gets focus\n",
       "\n",
       "    // location in version 3\n",
       "    if (IPython.notebook.keyboard_manager) {\n",
       "        IPython.notebook.keyboard_manager.register_events(el);\n",
       "    } else {\n",
       "        // location in version 2\n",
       "        IPython.keyboard_manager.register_events(el);\n",
       "    }\n",
       "};\n",
       "\n",
       "mpl.figure.prototype._key_event_extra = function (event, _name) {\n",
       "    // Check for shift+enter\n",
       "    if (event.shiftKey && event.which === 13) {\n",
       "        this.canvas_div.blur();\n",
       "        // select the cell after this one\n",
       "        var index = IPython.notebook.find_cell_index(this.cell_info[0]);\n",
       "        IPython.notebook.select(index + 1);\n",
       "    }\n",
       "};\n",
       "\n",
       "mpl.figure.prototype.handle_save = function (fig, _msg) {\n",
       "    fig.ondownload(fig, null);\n",
       "};\n",
       "\n",
       "mpl.find_output_cell = function (html_output) {\n",
       "    // Return the cell and output element which can be found *uniquely* in the notebook.\n",
       "    // Note - this is a bit hacky, but it is done because the \"notebook_saving.Notebook\"\n",
       "    // IPython event is triggered only after the cells have been serialised, which for\n",
       "    // our purposes (turning an active figure into a static one), is too late.\n",
       "    var cells = IPython.notebook.get_cells();\n",
       "    var ncells = cells.length;\n",
       "    for (var i = 0; i < ncells; i++) {\n",
       "        var cell = cells[i];\n",
       "        if (cell.cell_type === 'code') {\n",
       "            for (var j = 0; j < cell.output_area.outputs.length; j++) {\n",
       "                var data = cell.output_area.outputs[j];\n",
       "                if (data.data) {\n",
       "                    // IPython >= 3 moved mimebundle to data attribute of output\n",
       "                    data = data.data;\n",
       "                }\n",
       "                if (data['text/html'] === html_output) {\n",
       "                    return [cell, data, j];\n",
       "                }\n",
       "            }\n",
       "        }\n",
       "    }\n",
       "};\n",
       "\n",
       "// Register the function which deals with the matplotlib target/channel.\n",
       "// The kernel may be null if the page has been refreshed.\n",
       "if (IPython.notebook.kernel !== null) {\n",
       "    IPython.notebook.kernel.comm_manager.register_target(\n",
       "        'matplotlib',\n",
       "        mpl.mpl_figure_comm\n",
       "    );\n",
       "}\n"
      ],
      "text/plain": [
       "<IPython.core.display.Javascript object>"
      ]
     },
     "metadata": {},
     "output_type": "display_data"
    },
    {
     "data": {
      "text/html": [
       "<img src=\"data:image/png;base64,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\" width=\"645\">"
      ],
      "text/plain": [
       "<IPython.core.display.HTML object>"
      ]
     },
     "metadata": {},
     "output_type": "display_data"
    },
    {
     "data": {
      "application/vnd.jupyter.widget-view+json": {
       "model_id": "b9da094495ad4472bc25aa0bd213956c",
       "version_major": 2,
       "version_minor": 0
      },
      "text/plain": [
       "interactive(children=(SelectionSlider(description='phase', options=((0, 0), (10, 1), (20, 2), (30, 3), (40, 4)…"
      ]
     },
     "metadata": {},
     "output_type": "display_data"
    },
    {
     "data": {
      "text/plain": [
       "<project.visual.XArrayViewer at 0x1460f1f1ad10>"
      ]
     },
     "execution_count": 6,
     "metadata": {},
     "output_type": "execute_result"
    }
   ],
   "source": [
    "project.visual.view(case.anat + 1000*case.mask, x='x', y='z', cmap='Greys_r', vmin=-1000, vmax=1000)"
   ]
  },
  {
   "cell_type": "code",
   "execution_count": 8,
   "id": "834df00b",
   "metadata": {},
   "outputs": [
    {
     "name": "stdout",
     "output_type": "stream",
     "text": [
      "CPU times: user 5.47 s, sys: 27.1 ms, total: 5.49 s\n",
      "Wall time: 5.51 s\n"
     ]
    },
    {
     "data": {
      "text/plain": [
       "<meshio mesh object>\n",
       "  Number of points: 15272\n",
       "  Number of cells:\n",
       "    triangle: 20676\n",
       "    tetra: 75912"
      ]
     },
     "execution_count": 8,
     "metadata": {},
     "output_type": "execute_result"
    }
   ],
   "source": [
    "%%time\n",
    "mask = case.mask.sel(phase=0, roi='lung_combined_mask')\n",
    "mesh = pygalmesh.generate_from_array(\n",
    "    mask.values.astype(np.uint16),\n",
    "    voxel_size=case.resolution,\n",
    "    max_cell_circumradius=5.0, # mm\n",
    "    odt=True\n",
    ")\n",
    "mesh = project.meshing.remove_unused_points(mesh)\n",
    "mesh"
   ]
  },
  {
   "cell_type": "code",
   "execution_count": 9,
   "id": "0675b54b",
   "metadata": {
    "scrolled": true
   },
   "outputs": [
    {
     "name": "stdout",
     "output_type": "stream",
     "text": [
      "Loading ../data/Emory-4DCT/Case1Pack/NIFTI/case1_T00.nii.gz\n",
      "Loading ../data/Emory-4DCT/Case1Pack/NIFTI/case1_T10.nii.gz\n",
      "Loading ../data/Emory-4DCT/Case1Pack/NIFTI/case1_T20.nii.gz\n",
      "Loading ../data/Emory-4DCT/Case1Pack/NIFTI/case1_T30.nii.gz\n",
      "Loading ../data/Emory-4DCT/Case1Pack/NIFTI/case1_T40.nii.gz\n",
      "Loading ../data/Emory-4DCT/Case1Pack/NIFTI/case1_T50.nii.gz\n",
      "Loading ../data/Emory-4DCT/Case1Pack/NIFTI/case1_T60.nii.gz\n",
      "Loading ../data/Emory-4DCT/Case1Pack/NIFTI/case1_T70.nii.gz\n",
      "Loading ../data/Emory-4DCT/Case1Pack/NIFTI/case1_T80.nii.gz\n",
      "Loading ../data/Emory-4DCT/Case1Pack/NIFTI/case1_T90.nii.gz\n",
      "Loading ../data/Emory-4DCT/Case1Pack/TotalSegment/case1_T00/lung_combined_mask.nii.gz\n",
      "Loading ../data/Emory-4DCT/Case1Pack/TotalSegment/case1_T10/lung_combined_mask.nii.gz\n",
      "Loading ../data/Emory-4DCT/Case1Pack/TotalSegment/case1_T20/lung_combined_mask.nii.gz\n",
      "Loading ../data/Emory-4DCT/Case1Pack/TotalSegment/case1_T30/lung_combined_mask.nii.gz\n",
      "Loading ../data/Emory-4DCT/Case1Pack/TotalSegment/case1_T40/lung_combined_mask.nii.gz\n",
      "Loading ../data/Emory-4DCT/Case1Pack/TotalSegment/case1_T50/lung_combined_mask.nii.gz\n",
      "Loading ../data/Emory-4DCT/Case1Pack/TotalSegment/case1_T60/lung_combined_mask.nii.gz\n",
      "Loading ../data/Emory-4DCT/Case1Pack/TotalSegment/case1_T70/lung_combined_mask.nii.gz\n",
      "Loading ../data/Emory-4DCT/Case1Pack/TotalSegment/case1_T80/lung_combined_mask.nii.gz\n",
      "Loading ../data/Emory-4DCT/Case1Pack/TotalSegment/case1_T90/lung_combined_mask.nii.gz\n",
      "Saving ../data/Emory-4DCT/Case1Pack/pygalmesh/case1_T00_5.xdmf... (15272, 3)\n",
      "Saving ../data/Emory-4DCT/Case1Pack/pygalmesh/case1_T00_10.xdmf... (2198, 3)\n",
      "Saving ../data/Emory-4DCT/Case1Pack/pygalmesh/case1_T00_20.xdmf... (346, 3)\n",
      "Saving ../data/Emory-4DCT/Case1Pack/pygalmesh/case1_T10_5.xdmf... (15096, 3)\n",
      "Saving ../data/Emory-4DCT/Case1Pack/pygalmesh/case1_T10_10.xdmf... (2148, 3)\n",
      "Saving ../data/Emory-4DCT/Case1Pack/pygalmesh/case1_T10_20.xdmf... (328, 3)\n",
      "Saving ../data/Emory-4DCT/Case1Pack/pygalmesh/case1_T20_5.xdmf... (14695, 3)\n",
      "Saving ../data/Emory-4DCT/Case1Pack/pygalmesh/case1_T20_10.xdmf... (2109, 3)\n",
      "Saving ../data/Emory-4DCT/Case1Pack/pygalmesh/case1_T20_20.xdmf... (314, 3)\n",
      "Saving ../data/Emory-4DCT/Case1Pack/pygalmesh/case1_T30_5.xdmf... (14517, 3)\n",
      "Saving ../data/Emory-4DCT/Case1Pack/pygalmesh/case1_T30_10.xdmf... (2065, 3)\n",
      "Saving ../data/Emory-4DCT/Case1Pack/pygalmesh/case1_T30_20.xdmf... (319, 3)\n",
      "Saving ../data/Emory-4DCT/Case1Pack/pygalmesh/case1_T40_5.xdmf... (14190, 3)\n",
      "Saving ../data/Emory-4DCT/Case1Pack/pygalmesh/case1_T40_10.xdmf... (2068, 3)\n",
      "Saving ../data/Emory-4DCT/Case1Pack/pygalmesh/case1_T40_20.xdmf... (300, 3)\n",
      "Saving ../data/Emory-4DCT/Case1Pack/pygalmesh/case1_T50_5.xdmf... (14047, 3)\n",
      "Saving ../data/Emory-4DCT/Case1Pack/pygalmesh/case1_T50_10.xdmf... (2020, 3)\n",
      "Saving ../data/Emory-4DCT/Case1Pack/pygalmesh/case1_T50_20.xdmf... (304, 3)\n",
      "Saving ../data/Emory-4DCT/Case1Pack/pygalmesh/case1_T60_5.xdmf... (14043, 3)\n",
      "Saving ../data/Emory-4DCT/Case1Pack/pygalmesh/case1_T60_10.xdmf... (2024, 3)\n",
      "Saving ../data/Emory-4DCT/Case1Pack/pygalmesh/case1_T60_20.xdmf... (314, 3)\n",
      "Saving ../data/Emory-4DCT/Case1Pack/pygalmesh/case1_T70_5.xdmf... (14385, 3)\n",
      "Saving ../data/Emory-4DCT/Case1Pack/pygalmesh/case1_T70_10.xdmf... (2066, 3)\n",
      "Saving ../data/Emory-4DCT/Case1Pack/pygalmesh/case1_T70_20.xdmf... (320, 3)\n",
      "Saving ../data/Emory-4DCT/Case1Pack/pygalmesh/case1_T80_5.xdmf... (14733, 3)\n",
      "Saving ../data/Emory-4DCT/Case1Pack/pygalmesh/case1_T80_10.xdmf... (2134, 3)\n",
      "Saving ../data/Emory-4DCT/Case1Pack/pygalmesh/case1_T80_20.xdmf... (322, 3)\n",
      "Saving ../data/Emory-4DCT/Case1Pack/pygalmesh/case1_T90_5.xdmf... (15115, 3)\n",
      "Saving ../data/Emory-4DCT/Case1Pack/pygalmesh/case1_T90_10.xdmf... (2168, 3)\n",
      "Saving ../data/Emory-4DCT/Case1Pack/pygalmesh/case1_T90_20.xdmf... (336, 3)\n",
      "Loading ../data/Emory-4DCT/Case2Pack/NIFTI/case2_T00.nii.gz\n",
      "Loading ../data/Emory-4DCT/Case2Pack/NIFTI/case2_T10.nii.gz\n",
      "Loading ../data/Emory-4DCT/Case2Pack/NIFTI/case2_T20.nii.gz\n",
      "Loading ../data/Emory-4DCT/Case2Pack/NIFTI/case2_T30.nii.gz\n",
      "Loading ../data/Emory-4DCT/Case2Pack/NIFTI/case2_T40.nii.gz\n",
      "Loading ../data/Emory-4DCT/Case2Pack/NIFTI/case2_T50.nii.gz\n",
      "Loading ../data/Emory-4DCT/Case2Pack/NIFTI/case2_T60.nii.gz\n",
      "Loading ../data/Emory-4DCT/Case2Pack/NIFTI/case2_T70.nii.gz\n",
      "Loading ../data/Emory-4DCT/Case2Pack/NIFTI/case2_T80.nii.gz\n",
      "Loading ../data/Emory-4DCT/Case2Pack/NIFTI/case2_T90.nii.gz\n",
      "Loading ../data/Emory-4DCT/Case2Pack/TotalSegment/case2_T00/lung_combined_mask.nii.gz\n",
      "Loading ../data/Emory-4DCT/Case2Pack/TotalSegment/case2_T10/lung_combined_mask.nii.gz\n",
      "Loading ../data/Emory-4DCT/Case2Pack/TotalSegment/case2_T20/lung_combined_mask.nii.gz\n",
      "Loading ../data/Emory-4DCT/Case2Pack/TotalSegment/case2_T30/lung_combined_mask.nii.gz\n",
      "Loading ../data/Emory-4DCT/Case2Pack/TotalSegment/case2_T40/lung_combined_mask.nii.gz\n",
      "Loading ../data/Emory-4DCT/Case2Pack/TotalSegment/case2_T50/lung_combined_mask.nii.gz\n",
      "Loading ../data/Emory-4DCT/Case2Pack/TotalSegment/case2_T60/lung_combined_mask.nii.gz\n",
      "Loading ../data/Emory-4DCT/Case2Pack/TotalSegment/case2_T70/lung_combined_mask.nii.gz\n",
      "Loading ../data/Emory-4DCT/Case2Pack/TotalSegment/case2_T80/lung_combined_mask.nii.gz\n",
      "Loading ../data/Emory-4DCT/Case2Pack/TotalSegment/case2_T90/lung_combined_mask.nii.gz\n",
      "Saving ../data/Emory-4DCT/Case2Pack/pygalmesh/case2_T00_5.xdmf... (33324, 3)\n",
      "Saving ../data/Emory-4DCT/Case2Pack/pygalmesh/case2_T00_10.xdmf... (4679, 3)\n",
      "Saving ../data/Emory-4DCT/Case2Pack/pygalmesh/case2_T00_20.xdmf... (682, 3)\n",
      "Saving ../data/Emory-4DCT/Case2Pack/pygalmesh/case2_T10_5.xdmf... (32777, 3)\n",
      "Saving ../data/Emory-4DCT/Case2Pack/pygalmesh/case2_T10_10.xdmf... (4609, 3)\n",
      "Saving ../data/Emory-4DCT/Case2Pack/pygalmesh/case2_T10_20.xdmf... (678, 3)\n",
      "Saving ../data/Emory-4DCT/Case2Pack/pygalmesh/case2_T20_5.xdmf... (31733, 3)\n",
      "Saving ../data/Emory-4DCT/Case2Pack/pygalmesh/case2_T20_10.xdmf... (4458, 3)\n",
      "Saving ../data/Emory-4DCT/Case2Pack/pygalmesh/case2_T20_20.xdmf... (654, 3)\n",
      "Saving ../data/Emory-4DCT/Case2Pack/pygalmesh/case2_T30_5.xdmf... (31164, 3)\n",
      "Saving ../data/Emory-4DCT/Case2Pack/pygalmesh/case2_T30_10.xdmf... (4378, 3)\n",
      "Saving ../data/Emory-4DCT/Case2Pack/pygalmesh/case2_T30_20.xdmf... (632, 3)\n",
      "Saving ../data/Emory-4DCT/Case2Pack/pygalmesh/case2_T40_5.xdmf... (30803, 3)\n",
      "Saving ../data/Emory-4DCT/Case2Pack/pygalmesh/case2_T40_10.xdmf... (4309, 3)\n",
      "Saving ../data/Emory-4DCT/Case2Pack/pygalmesh/case2_T40_20.xdmf... (640, 3)\n",
      "Saving ../data/Emory-4DCT/Case2Pack/pygalmesh/case2_T50_5.xdmf... (30647, 3)\n",
      "Saving ../data/Emory-4DCT/Case2Pack/pygalmesh/case2_T50_10.xdmf... (4311, 3)\n",
      "Saving ../data/Emory-4DCT/Case2Pack/pygalmesh/case2_T50_20.xdmf... (642, 3)\n",
      "Saving ../data/Emory-4DCT/Case2Pack/pygalmesh/case2_T60_5.xdmf... (31047, 3)\n",
      "Saving ../data/Emory-4DCT/Case2Pack/pygalmesh/case2_T60_10.xdmf... (4341, 3)\n",
      "Saving ../data/Emory-4DCT/Case2Pack/pygalmesh/case2_T60_20.xdmf... (630, 3)\n",
      "Saving ../data/Emory-4DCT/Case2Pack/pygalmesh/case2_T70_5.xdmf... (31565, 3)\n",
      "Saving ../data/Emory-4DCT/Case2Pack/pygalmesh/case2_T70_10.xdmf... (4428, 3)\n",
      "Saving ../data/Emory-4DCT/Case2Pack/pygalmesh/case2_T70_20.xdmf... (661, 3)\n",
      "Saving ../data/Emory-4DCT/Case2Pack/pygalmesh/case2_T80_5.xdmf... (32541, 3)\n",
      "Saving ../data/Emory-4DCT/Case2Pack/pygalmesh/case2_T80_10.xdmf... (4539, 3)\n",
      "Saving ../data/Emory-4DCT/Case2Pack/pygalmesh/case2_T80_20.xdmf... (669, 3)\n",
      "Saving ../data/Emory-4DCT/Case2Pack/pygalmesh/case2_T90_5.xdmf... (33294, 3)\n",
      "Saving ../data/Emory-4DCT/Case2Pack/pygalmesh/case2_T90_10.xdmf... (4616, 3)\n",
      "Saving ../data/Emory-4DCT/Case2Pack/pygalmesh/case2_T90_20.xdmf... (676, 3)\n",
      "Loading ../data/Emory-4DCT/Case3Pack/NIFTI/case3_T00.nii.gz\n",
      "Loading ../data/Emory-4DCT/Case3Pack/NIFTI/case3_T10.nii.gz\n",
      "Loading ../data/Emory-4DCT/Case3Pack/NIFTI/case3_T20.nii.gz\n",
      "Loading ../data/Emory-4DCT/Case3Pack/NIFTI/case3_T30.nii.gz\n",
      "Loading ../data/Emory-4DCT/Case3Pack/NIFTI/case3_T40.nii.gz\n",
      "Loading ../data/Emory-4DCT/Case3Pack/NIFTI/case3_T50.nii.gz\n",
      "Loading ../data/Emory-4DCT/Case3Pack/NIFTI/case3_T60.nii.gz\n",
      "Loading ../data/Emory-4DCT/Case3Pack/NIFTI/case3_T70.nii.gz\n",
      "Loading ../data/Emory-4DCT/Case3Pack/NIFTI/case3_T80.nii.gz\n",
      "Loading ../data/Emory-4DCT/Case3Pack/NIFTI/case3_T90.nii.gz\n",
      "Loading ../data/Emory-4DCT/Case3Pack/TotalSegment/case3_T00/lung_combined_mask.nii.gz\n",
      "Loading ../data/Emory-4DCT/Case3Pack/TotalSegment/case3_T10/lung_combined_mask.nii.gz\n",
      "Loading ../data/Emory-4DCT/Case3Pack/TotalSegment/case3_T20/lung_combined_mask.nii.gz\n"
     ]
    },
    {
     "name": "stdout",
     "output_type": "stream",
     "text": [
      "Loading ../data/Emory-4DCT/Case3Pack/TotalSegment/case3_T30/lung_combined_mask.nii.gz\n",
      "Loading ../data/Emory-4DCT/Case3Pack/TotalSegment/case3_T40/lung_combined_mask.nii.gz\n",
      "Loading ../data/Emory-4DCT/Case3Pack/TotalSegment/case3_T50/lung_combined_mask.nii.gz\n",
      "Loading ../data/Emory-4DCT/Case3Pack/TotalSegment/case3_T60/lung_combined_mask.nii.gz\n",
      "Loading ../data/Emory-4DCT/Case3Pack/TotalSegment/case3_T70/lung_combined_mask.nii.gz\n",
      "Loading ../data/Emory-4DCT/Case3Pack/TotalSegment/case3_T80/lung_combined_mask.nii.gz\n",
      "Loading ../data/Emory-4DCT/Case3Pack/TotalSegment/case3_T90/lung_combined_mask.nii.gz\n",
      "Saving ../data/Emory-4DCT/Case3Pack/pygalmesh/case3_T00_5.xdmf... (25560, 3)\n",
      "Saving ../data/Emory-4DCT/Case3Pack/pygalmesh/case3_T00_10.xdmf... (3608, 3)\n",
      "Saving ../data/Emory-4DCT/Case3Pack/pygalmesh/case3_T00_20.xdmf... (535, 3)\n",
      "Saving ../data/Emory-4DCT/Case3Pack/pygalmesh/case3_T10_5.xdmf... (25389, 3)\n",
      "Saving ../data/Emory-4DCT/Case3Pack/pygalmesh/case3_T10_10.xdmf... (3618, 3)\n",
      "Saving ../data/Emory-4DCT/Case3Pack/pygalmesh/case3_T10_20.xdmf... (529, 3)\n",
      "Saving ../data/Emory-4DCT/Case3Pack/pygalmesh/case3_T20_5.xdmf... (24263, 3)\n",
      "Saving ../data/Emory-4DCT/Case3Pack/pygalmesh/case3_T20_10.xdmf... (3419, 3)\n",
      "Saving ../data/Emory-4DCT/Case3Pack/pygalmesh/case3_T20_20.xdmf... (502, 3)\n",
      "Saving ../data/Emory-4DCT/Case3Pack/pygalmesh/case3_T30_5.xdmf... (23807, 3)\n",
      "Saving ../data/Emory-4DCT/Case3Pack/pygalmesh/case3_T30_10.xdmf... (3373, 3)\n",
      "Saving ../data/Emory-4DCT/Case3Pack/pygalmesh/case3_T30_20.xdmf... (488, 3)\n",
      "Saving ../data/Emory-4DCT/Case3Pack/pygalmesh/case3_T40_5.xdmf... (23243, 3)\n",
      "Saving ../data/Emory-4DCT/Case3Pack/pygalmesh/case3_T40_10.xdmf... (3315, 3)\n",
      "Saving ../data/Emory-4DCT/Case3Pack/pygalmesh/case3_T40_20.xdmf... (480, 3)\n",
      "Saving ../data/Emory-4DCT/Case3Pack/pygalmesh/case3_T50_5.xdmf... (23090, 3)\n",
      "Saving ../data/Emory-4DCT/Case3Pack/pygalmesh/case3_T50_10.xdmf... (3267, 3)\n",
      "Saving ../data/Emory-4DCT/Case3Pack/pygalmesh/case3_T50_20.xdmf... (482, 3)\n",
      "Saving ../data/Emory-4DCT/Case3Pack/pygalmesh/case3_T60_5.xdmf... (23304, 3)\n",
      "Saving ../data/Emory-4DCT/Case3Pack/pygalmesh/case3_T60_10.xdmf... (3280, 3)\n",
      "Saving ../data/Emory-4DCT/Case3Pack/pygalmesh/case3_T60_20.xdmf... (494, 3)\n",
      "Saving ../data/Emory-4DCT/Case3Pack/pygalmesh/case3_T70_5.xdmf... (23916, 3)\n",
      "Saving ../data/Emory-4DCT/Case3Pack/pygalmesh/case3_T70_10.xdmf... (3358, 3)\n",
      "Saving ../data/Emory-4DCT/Case3Pack/pygalmesh/case3_T70_20.xdmf... (500, 3)\n",
      "Saving ../data/Emory-4DCT/Case3Pack/pygalmesh/case3_T80_5.xdmf... (24258, 3)\n",
      "Saving ../data/Emory-4DCT/Case3Pack/pygalmesh/case3_T80_10.xdmf... (3445, 3)\n",
      "Saving ../data/Emory-4DCT/Case3Pack/pygalmesh/case3_T80_20.xdmf... (514, 3)\n",
      "Saving ../data/Emory-4DCT/Case3Pack/pygalmesh/case3_T90_5.xdmf... (25253, 3)\n",
      "Saving ../data/Emory-4DCT/Case3Pack/pygalmesh/case3_T90_10.xdmf... (3547, 3)\n",
      "Saving ../data/Emory-4DCT/Case3Pack/pygalmesh/case3_T90_20.xdmf... (531, 3)\n",
      "Loading ../data/Emory-4DCT/Case4Pack/NIFTI/case4_T00.nii.gz\n",
      "Loading ../data/Emory-4DCT/Case4Pack/NIFTI/case4_T10.nii.gz\n",
      "Loading ../data/Emory-4DCT/Case4Pack/NIFTI/case4_T20.nii.gz\n",
      "Loading ../data/Emory-4DCT/Case4Pack/NIFTI/case4_T30.nii.gz\n",
      "Loading ../data/Emory-4DCT/Case4Pack/NIFTI/case4_T40.nii.gz\n",
      "Loading ../data/Emory-4DCT/Case4Pack/NIFTI/case4_T50.nii.gz\n",
      "Loading ../data/Emory-4DCT/Case4Pack/NIFTI/case4_T60.nii.gz\n",
      "Loading ../data/Emory-4DCT/Case4Pack/NIFTI/case4_T70.nii.gz\n",
      "Loading ../data/Emory-4DCT/Case4Pack/NIFTI/case4_T80.nii.gz\n",
      "Loading ../data/Emory-4DCT/Case4Pack/NIFTI/case4_T90.nii.gz\n",
      "Loading ../data/Emory-4DCT/Case4Pack/TotalSegment/case4_T00/lung_combined_mask.nii.gz\n",
      "Loading ../data/Emory-4DCT/Case4Pack/TotalSegment/case4_T10/lung_combined_mask.nii.gz\n",
      "Loading ../data/Emory-4DCT/Case4Pack/TotalSegment/case4_T20/lung_combined_mask.nii.gz\n",
      "Loading ../data/Emory-4DCT/Case4Pack/TotalSegment/case4_T30/lung_combined_mask.nii.gz\n",
      "Loading ../data/Emory-4DCT/Case4Pack/TotalSegment/case4_T40/lung_combined_mask.nii.gz\n",
      "Loading ../data/Emory-4DCT/Case4Pack/TotalSegment/case4_T50/lung_combined_mask.nii.gz\n",
      "Loading ../data/Emory-4DCT/Case4Pack/TotalSegment/case4_T60/lung_combined_mask.nii.gz\n",
      "Loading ../data/Emory-4DCT/Case4Pack/TotalSegment/case4_T70/lung_combined_mask.nii.gz\n",
      "Loading ../data/Emory-4DCT/Case4Pack/TotalSegment/case4_T80/lung_combined_mask.nii.gz\n",
      "Loading ../data/Emory-4DCT/Case4Pack/TotalSegment/case4_T90/lung_combined_mask.nii.gz\n",
      "Saving ../data/Emory-4DCT/Case4Pack/pygalmesh/case4_T00_5.xdmf... (18649, 3)\n",
      "Saving ../data/Emory-4DCT/Case4Pack/pygalmesh/case4_T00_10.xdmf... (2636, 3)\n",
      "Saving ../data/Emory-4DCT/Case4Pack/pygalmesh/case4_T00_20.xdmf... (387, 3)\n",
      "Saving ../data/Emory-4DCT/Case4Pack/pygalmesh/case4_T10_5.xdmf... (18340, 3)\n",
      "Saving ../data/Emory-4DCT/Case4Pack/pygalmesh/case4_T10_10.xdmf... (2613, 3)\n",
      "Saving ../data/Emory-4DCT/Case4Pack/pygalmesh/case4_T10_20.xdmf... (392, 3)\n",
      "Saving ../data/Emory-4DCT/Case4Pack/pygalmesh/case4_T20_5.xdmf... (17442, 3)\n",
      "Saving ../data/Emory-4DCT/Case4Pack/pygalmesh/case4_T20_10.xdmf... (2481, 3)\n",
      "Saving ../data/Emory-4DCT/Case4Pack/pygalmesh/case4_T20_20.xdmf... (380, 3)\n",
      "Saving ../data/Emory-4DCT/Case4Pack/pygalmesh/case4_T30_5.xdmf... (16851, 3)\n",
      "Saving ../data/Emory-4DCT/Case4Pack/pygalmesh/case4_T30_10.xdmf... (2394, 3)\n",
      "Saving ../data/Emory-4DCT/Case4Pack/pygalmesh/case4_T30_20.xdmf... (366, 3)\n",
      "Saving ../data/Emory-4DCT/Case4Pack/pygalmesh/case4_T40_5.xdmf... (16697, 3)\n",
      "Saving ../data/Emory-4DCT/Case4Pack/pygalmesh/case4_T40_10.xdmf... (2370, 3)\n",
      "Saving ../data/Emory-4DCT/Case4Pack/pygalmesh/case4_T40_20.xdmf... (376, 3)\n",
      "Saving ../data/Emory-4DCT/Case4Pack/pygalmesh/case4_T50_5.xdmf... (16272, 3)\n",
      "Saving ../data/Emory-4DCT/Case4Pack/pygalmesh/case4_T50_10.xdmf... (2330, 3)\n",
      "Saving ../data/Emory-4DCT/Case4Pack/pygalmesh/case4_T50_20.xdmf... (358, 3)\n",
      "Saving ../data/Emory-4DCT/Case4Pack/pygalmesh/case4_T60_5.xdmf... (16047, 3)\n",
      "Saving ../data/Emory-4DCT/Case4Pack/pygalmesh/case4_T60_10.xdmf... (2314, 3)\n",
      "Saving ../data/Emory-4DCT/Case4Pack/pygalmesh/case4_T60_20.xdmf... (351, 3)\n",
      "Saving ../data/Emory-4DCT/Case4Pack/pygalmesh/case4_T70_5.xdmf... (16052, 3)\n",
      "Saving ../data/Emory-4DCT/Case4Pack/pygalmesh/case4_T70_10.xdmf... (2331, 3)\n",
      "Saving ../data/Emory-4DCT/Case4Pack/pygalmesh/case4_T70_20.xdmf... (344, 3)\n",
      "Saving ../data/Emory-4DCT/Case4Pack/pygalmesh/case4_T80_5.xdmf... (16825, 3)\n",
      "Saving ../data/Emory-4DCT/Case4Pack/pygalmesh/case4_T80_10.xdmf... (2408, 3)\n",
      "Saving ../data/Emory-4DCT/Case4Pack/pygalmesh/case4_T80_20.xdmf... (362, 3)\n",
      "Saving ../data/Emory-4DCT/Case4Pack/pygalmesh/case4_T90_5.xdmf... (17925, 3)\n",
      "Saving ../data/Emory-4DCT/Case4Pack/pygalmesh/case4_T90_10.xdmf... (2576, 3)\n",
      "Saving ../data/Emory-4DCT/Case4Pack/pygalmesh/case4_T90_20.xdmf... (391, 3)\n",
      "Loading ../data/Emory-4DCT/Case5Pack/NIFTI/case5_T00.nii.gz\n",
      "Loading ../data/Emory-4DCT/Case5Pack/NIFTI/case5_T10.nii.gz\n",
      "Loading ../data/Emory-4DCT/Case5Pack/NIFTI/case5_T20.nii.gz\n",
      "Loading ../data/Emory-4DCT/Case5Pack/NIFTI/case5_T30.nii.gz\n",
      "Loading ../data/Emory-4DCT/Case5Pack/NIFTI/case5_T40.nii.gz\n",
      "Loading ../data/Emory-4DCT/Case5Pack/NIFTI/case5_T50.nii.gz\n",
      "Loading ../data/Emory-4DCT/Case5Pack/NIFTI/case5_T60.nii.gz\n",
      "Loading ../data/Emory-4DCT/Case5Pack/NIFTI/case5_T70.nii.gz\n",
      "Loading ../data/Emory-4DCT/Case5Pack/NIFTI/case5_T80.nii.gz\n",
      "Loading ../data/Emory-4DCT/Case5Pack/NIFTI/case5_T90.nii.gz\n",
      "Loading ../data/Emory-4DCT/Case5Pack/TotalSegment/case5_T00/lung_combined_mask.nii.gz\n",
      "Loading ../data/Emory-4DCT/Case5Pack/TotalSegment/case5_T10/lung_combined_mask.nii.gz\n",
      "Loading ../data/Emory-4DCT/Case5Pack/TotalSegment/case5_T20/lung_combined_mask.nii.gz\n",
      "Loading ../data/Emory-4DCT/Case5Pack/TotalSegment/case5_T30/lung_combined_mask.nii.gz\n",
      "Loading ../data/Emory-4DCT/Case5Pack/TotalSegment/case5_T40/lung_combined_mask.nii.gz\n",
      "Loading ../data/Emory-4DCT/Case5Pack/TotalSegment/case5_T50/lung_combined_mask.nii.gz\n",
      "Loading ../data/Emory-4DCT/Case5Pack/TotalSegment/case5_T60/lung_combined_mask.nii.gz\n",
      "Loading ../data/Emory-4DCT/Case5Pack/TotalSegment/case5_T70/lung_combined_mask.nii.gz\n",
      "Loading ../data/Emory-4DCT/Case5Pack/TotalSegment/case5_T80/lung_combined_mask.nii.gz\n",
      "Loading ../data/Emory-4DCT/Case5Pack/TotalSegment/case5_T90/lung_combined_mask.nii.gz\n",
      "Saving ../data/Emory-4DCT/Case5Pack/pygalmesh/case5_T00_5.xdmf... (21291, 3)\n"
     ]
    },
    {
     "name": "stdout",
     "output_type": "stream",
     "text": [
      "Saving ../data/Emory-4DCT/Case5Pack/pygalmesh/case5_T00_10.xdmf... (3013, 3)\n",
      "Saving ../data/Emory-4DCT/Case5Pack/pygalmesh/case5_T00_20.xdmf... (464, 3)\n",
      "Saving ../data/Emory-4DCT/Case5Pack/pygalmesh/case5_T10_5.xdmf... (20972, 3)\n",
      "Saving ../data/Emory-4DCT/Case5Pack/pygalmesh/case5_T10_10.xdmf... (2938, 3)\n",
      "Saving ../data/Emory-4DCT/Case5Pack/pygalmesh/case5_T10_20.xdmf... (436, 3)\n",
      "Saving ../data/Emory-4DCT/Case5Pack/pygalmesh/case5_T20_5.xdmf... (20271, 3)\n",
      "Saving ../data/Emory-4DCT/Case5Pack/pygalmesh/case5_T20_10.xdmf... (2887, 3)\n",
      "Saving ../data/Emory-4DCT/Case5Pack/pygalmesh/case5_T20_20.xdmf... (440, 3)\n",
      "Saving ../data/Emory-4DCT/Case5Pack/pygalmesh/case5_T30_5.xdmf... (19811, 3)\n",
      "Saving ../data/Emory-4DCT/Case5Pack/pygalmesh/case5_T30_10.xdmf... (2813, 3)\n",
      "Saving ../data/Emory-4DCT/Case5Pack/pygalmesh/case5_T30_20.xdmf... (431, 3)\n",
      "Saving ../data/Emory-4DCT/Case5Pack/pygalmesh/case5_T40_5.xdmf... (19611, 3)\n",
      "Saving ../data/Emory-4DCT/Case5Pack/pygalmesh/case5_T40_10.xdmf... (2796, 3)\n",
      "Saving ../data/Emory-4DCT/Case5Pack/pygalmesh/case5_T40_20.xdmf... (409, 3)\n",
      "Saving ../data/Emory-4DCT/Case5Pack/pygalmesh/case5_T50_5.xdmf... (19486, 3)\n",
      "Saving ../data/Emory-4DCT/Case5Pack/pygalmesh/case5_T50_10.xdmf... (2764, 3)\n",
      "Saving ../data/Emory-4DCT/Case5Pack/pygalmesh/case5_T50_20.xdmf... (433, 3)\n",
      "Saving ../data/Emory-4DCT/Case5Pack/pygalmesh/case5_T60_5.xdmf... (19465, 3)\n",
      "Saving ../data/Emory-4DCT/Case5Pack/pygalmesh/case5_T60_10.xdmf... (2755, 3)\n",
      "Saving ../data/Emory-4DCT/Case5Pack/pygalmesh/case5_T60_20.xdmf... (435, 3)\n",
      "Saving ../data/Emory-4DCT/Case5Pack/pygalmesh/case5_T70_5.xdmf... (19674, 3)\n",
      "Saving ../data/Emory-4DCT/Case5Pack/pygalmesh/case5_T70_10.xdmf... (2813, 3)\n",
      "Saving ../data/Emory-4DCT/Case5Pack/pygalmesh/case5_T70_20.xdmf... (430, 3)\n",
      "Saving ../data/Emory-4DCT/Case5Pack/pygalmesh/case5_T80_5.xdmf... (20341, 3)\n",
      "Saving ../data/Emory-4DCT/Case5Pack/pygalmesh/case5_T80_10.xdmf... (2884, 3)\n",
      "Saving ../data/Emory-4DCT/Case5Pack/pygalmesh/case5_T80_20.xdmf... (448, 3)\n",
      "Saving ../data/Emory-4DCT/Case5Pack/pygalmesh/case5_T90_5.xdmf... (20976, 3)\n",
      "Saving ../data/Emory-4DCT/Case5Pack/pygalmesh/case5_T90_10.xdmf... (2961, 3)\n",
      "Saving ../data/Emory-4DCT/Case5Pack/pygalmesh/case5_T90_20.xdmf... (443, 3)\n",
      "Loading ../data/Emory-4DCT/Case6Pack/NIFTI/case6_T00.nii.gz\n",
      "Loading ../data/Emory-4DCT/Case6Pack/NIFTI/case6_T10.nii.gz\n",
      "Loading ../data/Emory-4DCT/Case6Pack/NIFTI/case6_T20.nii.gz\n",
      "Loading ../data/Emory-4DCT/Case6Pack/NIFTI/case6_T30.nii.gz\n",
      "Loading ../data/Emory-4DCT/Case6Pack/NIFTI/case6_T40.nii.gz\n",
      "Loading ../data/Emory-4DCT/Case6Pack/NIFTI/case6_T50.nii.gz\n",
      "Loading ../data/Emory-4DCT/Case6Pack/NIFTI/case6_T60.nii.gz\n",
      "Loading ../data/Emory-4DCT/Case6Pack/NIFTI/case6_T70.nii.gz\n",
      "Loading ../data/Emory-4DCT/Case6Pack/NIFTI/case6_T80.nii.gz\n",
      "Loading ../data/Emory-4DCT/Case6Pack/NIFTI/case6_T90.nii.gz\n",
      "Loading ../data/Emory-4DCT/Case6Pack/TotalSegment/case6_T00/lung_combined_mask.nii.gz\n",
      "Loading ../data/Emory-4DCT/Case6Pack/TotalSegment/case6_T10/lung_combined_mask.nii.gz\n",
      "Loading ../data/Emory-4DCT/Case6Pack/TotalSegment/case6_T20/lung_combined_mask.nii.gz\n",
      "Loading ../data/Emory-4DCT/Case6Pack/TotalSegment/case6_T30/lung_combined_mask.nii.gz\n",
      "Loading ../data/Emory-4DCT/Case6Pack/TotalSegment/case6_T40/lung_combined_mask.nii.gz\n",
      "Loading ../data/Emory-4DCT/Case6Pack/TotalSegment/case6_T50/lung_combined_mask.nii.gz\n",
      "Loading ../data/Emory-4DCT/Case6Pack/TotalSegment/case6_T60/lung_combined_mask.nii.gz\n",
      "Loading ../data/Emory-4DCT/Case6Pack/TotalSegment/case6_T70/lung_combined_mask.nii.gz\n",
      "Loading ../data/Emory-4DCT/Case6Pack/TotalSegment/case6_T80/lung_combined_mask.nii.gz\n",
      "Loading ../data/Emory-4DCT/Case6Pack/TotalSegment/case6_T90/lung_combined_mask.nii.gz\n",
      "Saving ../data/Emory-4DCT/Case6Pack/pygalmesh/case6_T00_5.xdmf... (19700, 3)\n",
      "Saving ../data/Emory-4DCT/Case6Pack/pygalmesh/case6_T00_10.xdmf... (2808, 3)\n",
      "Saving ../data/Emory-4DCT/Case6Pack/pygalmesh/case6_T00_20.xdmf... (414, 3)\n",
      "Saving ../data/Emory-4DCT/Case6Pack/pygalmesh/case6_T10_5.xdmf... (19388, 3)\n",
      "Saving ../data/Emory-4DCT/Case6Pack/pygalmesh/case6_T10_10.xdmf... (2776, 3)\n",
      "Saving ../data/Emory-4DCT/Case6Pack/pygalmesh/case6_T10_20.xdmf... (423, 3)\n",
      "Saving ../data/Emory-4DCT/Case6Pack/pygalmesh/case6_T20_5.xdmf... (18114, 3)\n",
      "Saving ../data/Emory-4DCT/Case6Pack/pygalmesh/case6_T20_10.xdmf... (2575, 3)\n",
      "Saving ../data/Emory-4DCT/Case6Pack/pygalmesh/case6_T20_20.xdmf... (214, 3)\n",
      "Saving ../data/Emory-4DCT/Case6Pack/pygalmesh/case6_T30_5.xdmf... (17366, 3)\n",
      "Saving ../data/Emory-4DCT/Case6Pack/pygalmesh/case6_T30_10.xdmf... (2441, 3)\n",
      "Saving ../data/Emory-4DCT/Case6Pack/pygalmesh/case6_T30_20.xdmf... (372, 3)\n",
      "Saving ../data/Emory-4DCT/Case6Pack/pygalmesh/case6_T40_5.xdmf... (15976, 3)\n",
      "Saving ../data/Emory-4DCT/Case6Pack/pygalmesh/case6_T40_10.xdmf... (2287, 3)\n",
      "Saving ../data/Emory-4DCT/Case6Pack/pygalmesh/case6_T40_20.xdmf... (342, 3)\n",
      "Saving ../data/Emory-4DCT/Case6Pack/pygalmesh/case6_T50_5.xdmf... (15550, 3)\n",
      "Saving ../data/Emory-4DCT/Case6Pack/pygalmesh/case6_T50_10.xdmf... (2228, 3)\n",
      "Saving ../data/Emory-4DCT/Case6Pack/pygalmesh/case6_T50_20.xdmf... (336, 3)\n",
      "Saving ../data/Emory-4DCT/Case6Pack/pygalmesh/case6_T60_5.xdmf... (15596, 3)\n",
      "Saving ../data/Emory-4DCT/Case6Pack/pygalmesh/case6_T60_10.xdmf... (2240, 3)\n",
      "Saving ../data/Emory-4DCT/Case6Pack/pygalmesh/case6_T60_20.xdmf... (344, 3)\n",
      "Saving ../data/Emory-4DCT/Case6Pack/pygalmesh/case6_T70_5.xdmf... (9493, 3)\n",
      "Saving ../data/Emory-4DCT/Case6Pack/pygalmesh/case6_T70_10.xdmf... (1368, 3)\n",
      "Saving ../data/Emory-4DCT/Case6Pack/pygalmesh/case6_T70_20.xdmf... (197, 3)\n",
      "Saving ../data/Emory-4DCT/Case6Pack/pygalmesh/case6_T80_5.xdmf... (18282, 3)\n",
      "Saving ../data/Emory-4DCT/Case6Pack/pygalmesh/case6_T80_10.xdmf... (2608, 3)\n",
      "Saving ../data/Emory-4DCT/Case6Pack/pygalmesh/case6_T80_20.xdmf... (398, 3)\n",
      "Saving ../data/Emory-4DCT/Case6Pack/pygalmesh/case6_T90_5.xdmf... (19381, 3)\n",
      "Saving ../data/Emory-4DCT/Case6Pack/pygalmesh/case6_T90_10.xdmf... (2739, 3)\n",
      "Saving ../data/Emory-4DCT/Case6Pack/pygalmesh/case6_T90_20.xdmf... (404, 3)\n",
      "Loading ../data/Emory-4DCT/Case7Pack/NIFTI/case7_T00.nii.gz\n",
      "Loading ../data/Emory-4DCT/Case7Pack/NIFTI/case7_T10.nii.gz\n",
      "Loading ../data/Emory-4DCT/Case7Pack/NIFTI/case7_T20.nii.gz\n",
      "Loading ../data/Emory-4DCT/Case7Pack/NIFTI/case7_T30.nii.gz\n",
      "Loading ../data/Emory-4DCT/Case7Pack/NIFTI/case7_T40.nii.gz\n",
      "Loading ../data/Emory-4DCT/Case7Pack/NIFTI/case7_T50.nii.gz\n",
      "Loading ../data/Emory-4DCT/Case7Pack/NIFTI/case7_T60.nii.gz\n",
      "Loading ../data/Emory-4DCT/Case7Pack/NIFTI/case7_T70.nii.gz\n",
      "Loading ../data/Emory-4DCT/Case7Pack/NIFTI/case7_T80.nii.gz\n",
      "Loading ../data/Emory-4DCT/Case7Pack/NIFTI/case7_T90.nii.gz\n",
      "Loading ../data/Emory-4DCT/Case7Pack/TotalSegment/case7_T00/lung_combined_mask.nii.gz\n",
      "Loading ../data/Emory-4DCT/Case7Pack/TotalSegment/case7_T10/lung_combined_mask.nii.gz\n",
      "Loading ../data/Emory-4DCT/Case7Pack/TotalSegment/case7_T20/lung_combined_mask.nii.gz\n",
      "Loading ../data/Emory-4DCT/Case7Pack/TotalSegment/case7_T30/lung_combined_mask.nii.gz\n",
      "Loading ../data/Emory-4DCT/Case7Pack/TotalSegment/case7_T40/lung_combined_mask.nii.gz\n",
      "Loading ../data/Emory-4DCT/Case7Pack/TotalSegment/case7_T50/lung_combined_mask.nii.gz\n",
      "Loading ../data/Emory-4DCT/Case7Pack/TotalSegment/case7_T60/lung_combined_mask.nii.gz\n",
      "Loading ../data/Emory-4DCT/Case7Pack/TotalSegment/case7_T70/lung_combined_mask.nii.gz\n",
      "Loading ../data/Emory-4DCT/Case7Pack/TotalSegment/case7_T80/lung_combined_mask.nii.gz\n",
      "Loading ../data/Emory-4DCT/Case7Pack/TotalSegment/case7_T90/lung_combined_mask.nii.gz\n",
      "Saving ../data/Emory-4DCT/Case7Pack/pygalmesh/case7_T00_5.xdmf... (23911, 3)\n",
      "Saving ../data/Emory-4DCT/Case7Pack/pygalmesh/case7_T00_10.xdmf... (3399, 3)\n",
      "Saving ../data/Emory-4DCT/Case7Pack/pygalmesh/case7_T00_20.xdmf... (492, 3)\n",
      "Saving ../data/Emory-4DCT/Case7Pack/pygalmesh/case7_T10_5.xdmf... (23106, 3)\n",
      "Saving ../data/Emory-4DCT/Case7Pack/pygalmesh/case7_T10_10.xdmf... (3254, 3)\n",
      "Saving ../data/Emory-4DCT/Case7Pack/pygalmesh/case7_T10_20.xdmf... (499, 3)\n",
      "Saving ../data/Emory-4DCT/Case7Pack/pygalmesh/case7_T20_5.xdmf... (22234, 3)\n",
      "Saving ../data/Emory-4DCT/Case7Pack/pygalmesh/case7_T20_10.xdmf... (3162, 3)\n",
      "Saving ../data/Emory-4DCT/Case7Pack/pygalmesh/case7_T20_20.xdmf... (474, 3)\n",
      "Saving ../data/Emory-4DCT/Case7Pack/pygalmesh/case7_T30_5.xdmf... (21172, 3)\n"
     ]
    },
    {
     "name": "stdout",
     "output_type": "stream",
     "text": [
      "Saving ../data/Emory-4DCT/Case7Pack/pygalmesh/case7_T30_10.xdmf... (3025, 3)\n",
      "Saving ../data/Emory-4DCT/Case7Pack/pygalmesh/case7_T30_20.xdmf... (446, 3)\n",
      "Saving ../data/Emory-4DCT/Case7Pack/pygalmesh/case7_T40_5.xdmf... (20616, 3)\n",
      "Saving ../data/Emory-4DCT/Case7Pack/pygalmesh/case7_T40_10.xdmf... (2943, 3)\n",
      "Saving ../data/Emory-4DCT/Case7Pack/pygalmesh/case7_T40_20.xdmf... (436, 3)\n",
      "Saving ../data/Emory-4DCT/Case7Pack/pygalmesh/case7_T50_5.xdmf... (19793, 3)\n",
      "Saving ../data/Emory-4DCT/Case7Pack/pygalmesh/case7_T50_10.xdmf... (2836, 3)\n",
      "Saving ../data/Emory-4DCT/Case7Pack/pygalmesh/case7_T50_20.xdmf... (417, 3)\n",
      "Saving ../data/Emory-4DCT/Case7Pack/pygalmesh/case7_T60_5.xdmf... (19766, 3)\n",
      "Saving ../data/Emory-4DCT/Case7Pack/pygalmesh/case7_T60_10.xdmf... (2851, 3)\n",
      "Saving ../data/Emory-4DCT/Case7Pack/pygalmesh/case7_T60_20.xdmf... (416, 3)\n",
      "Saving ../data/Emory-4DCT/Case7Pack/pygalmesh/case7_T70_5.xdmf... (20715, 3)\n",
      "Saving ../data/Emory-4DCT/Case7Pack/pygalmesh/case7_T70_10.xdmf... (2954, 3)\n",
      "Saving ../data/Emory-4DCT/Case7Pack/pygalmesh/case7_T70_20.xdmf... (436, 3)\n",
      "Saving ../data/Emory-4DCT/Case7Pack/pygalmesh/case7_T80_5.xdmf... (22214, 3)\n",
      "Saving ../data/Emory-4DCT/Case7Pack/pygalmesh/case7_T80_10.xdmf... (3192, 3)\n",
      "Saving ../data/Emory-4DCT/Case7Pack/pygalmesh/case7_T80_20.xdmf... (485, 3)\n",
      "Saving ../data/Emory-4DCT/Case7Pack/pygalmesh/case7_T90_5.xdmf... (23147, 3)\n",
      "Saving ../data/Emory-4DCT/Case7Pack/pygalmesh/case7_T90_10.xdmf... (3267, 3)\n",
      "Saving ../data/Emory-4DCT/Case7Pack/pygalmesh/case7_T90_20.xdmf... (495, 3)\n",
      "Loading ../data/Emory-4DCT/Case8Deploy/NIFTI/case8_T00.nii.gz\n",
      "Loading ../data/Emory-4DCT/Case8Deploy/NIFTI/case8_T10.nii.gz\n",
      "Loading ../data/Emory-4DCT/Case8Deploy/NIFTI/case8_T20.nii.gz\n",
      "Loading ../data/Emory-4DCT/Case8Deploy/NIFTI/case8_T30.nii.gz\n",
      "Loading ../data/Emory-4DCT/Case8Deploy/NIFTI/case8_T40.nii.gz\n",
      "Loading ../data/Emory-4DCT/Case8Deploy/NIFTI/case8_T50.nii.gz\n",
      "Loading ../data/Emory-4DCT/Case8Deploy/NIFTI/case8_T60.nii.gz\n",
      "Loading ../data/Emory-4DCT/Case8Deploy/NIFTI/case8_T70.nii.gz\n",
      "Loading ../data/Emory-4DCT/Case8Deploy/NIFTI/case8_T80.nii.gz\n",
      "Loading ../data/Emory-4DCT/Case8Deploy/NIFTI/case8_T90.nii.gz\n",
      "Loading ../data/Emory-4DCT/Case8Deploy/TotalSegment/case8_T00/lung_combined_mask.nii.gz\n",
      "Loading ../data/Emory-4DCT/Case8Deploy/TotalSegment/case8_T10/lung_combined_mask.nii.gz\n",
      "Loading ../data/Emory-4DCT/Case8Deploy/TotalSegment/case8_T20/lung_combined_mask.nii.gz\n",
      "Loading ../data/Emory-4DCT/Case8Deploy/TotalSegment/case8_T30/lung_combined_mask.nii.gz\n",
      "Loading ../data/Emory-4DCT/Case8Deploy/TotalSegment/case8_T40/lung_combined_mask.nii.gz\n",
      "Loading ../data/Emory-4DCT/Case8Deploy/TotalSegment/case8_T50/lung_combined_mask.nii.gz\n",
      "Loading ../data/Emory-4DCT/Case8Deploy/TotalSegment/case8_T60/lung_combined_mask.nii.gz\n",
      "Loading ../data/Emory-4DCT/Case8Deploy/TotalSegment/case8_T70/lung_combined_mask.nii.gz\n",
      "Loading ../data/Emory-4DCT/Case8Deploy/TotalSegment/case8_T80/lung_combined_mask.nii.gz\n",
      "Loading ../data/Emory-4DCT/Case8Deploy/TotalSegment/case8_T90/lung_combined_mask.nii.gz\n",
      "Saving ../data/Emory-4DCT/Case8Deploy/pygalmesh/case8_T00_5.xdmf... (34937, 3)\n",
      "Saving ../data/Emory-4DCT/Case8Deploy/pygalmesh/case8_T00_10.xdmf... (4893, 3)\n",
      "Saving ../data/Emory-4DCT/Case8Deploy/pygalmesh/case8_T00_20.xdmf... (729, 3)\n",
      "Saving ../data/Emory-4DCT/Case8Deploy/pygalmesh/case8_T10_5.xdmf... (34215, 3)\n",
      "Saving ../data/Emory-4DCT/Case8Deploy/pygalmesh/case8_T10_10.xdmf... (4821, 3)\n",
      "Saving ../data/Emory-4DCT/Case8Deploy/pygalmesh/case8_T10_20.xdmf... (698, 3)\n",
      "Saving ../data/Emory-4DCT/Case8Deploy/pygalmesh/case8_T20_5.xdmf... (32584, 3)\n",
      "Saving ../data/Emory-4DCT/Case8Deploy/pygalmesh/case8_T20_10.xdmf... (4572, 3)\n",
      "Saving ../data/Emory-4DCT/Case8Deploy/pygalmesh/case8_T20_20.xdmf... (679, 3)\n",
      "Saving ../data/Emory-4DCT/Case8Deploy/pygalmesh/case8_T30_5.xdmf... (31116, 3)\n",
      "Saving ../data/Emory-4DCT/Case8Deploy/pygalmesh/case8_T30_10.xdmf... (4352, 3)\n",
      "Saving ../data/Emory-4DCT/Case8Deploy/pygalmesh/case8_T30_20.xdmf... (647, 3)\n",
      "Saving ../data/Emory-4DCT/Case8Deploy/pygalmesh/case8_T40_5.xdmf... (29949, 3)\n",
      "Saving ../data/Emory-4DCT/Case8Deploy/pygalmesh/case8_T40_10.xdmf... (4212, 3)\n",
      "Saving ../data/Emory-4DCT/Case8Deploy/pygalmesh/case8_T40_20.xdmf... (641, 3)\n",
      "Saving ../data/Emory-4DCT/Case8Deploy/pygalmesh/case8_T50_5.xdmf... (29217, 3)\n",
      "Saving ../data/Emory-4DCT/Case8Deploy/pygalmesh/case8_T50_10.xdmf... (4085, 3)\n",
      "Saving ../data/Emory-4DCT/Case8Deploy/pygalmesh/case8_T50_20.xdmf... (629, 3)\n",
      "Saving ../data/Emory-4DCT/Case8Deploy/pygalmesh/case8_T60_5.xdmf... (28538, 3)\n",
      "Saving ../data/Emory-4DCT/Case8Deploy/pygalmesh/case8_T60_10.xdmf... (4027, 3)\n",
      "Saving ../data/Emory-4DCT/Case8Deploy/pygalmesh/case8_T60_20.xdmf... (607, 3)\n",
      "Saving ../data/Emory-4DCT/Case8Deploy/pygalmesh/case8_T70_5.xdmf... (28886, 3)\n",
      "Saving ../data/Emory-4DCT/Case8Deploy/pygalmesh/case8_T70_10.xdmf... (4062, 3)\n",
      "Saving ../data/Emory-4DCT/Case8Deploy/pygalmesh/case8_T70_20.xdmf... (607, 3)\n",
      "Saving ../data/Emory-4DCT/Case8Deploy/pygalmesh/case8_T80_5.xdmf... (31537, 3)\n",
      "Saving ../data/Emory-4DCT/Case8Deploy/pygalmesh/case8_T80_10.xdmf... (4427, 3)\n",
      "Saving ../data/Emory-4DCT/Case8Deploy/pygalmesh/case8_T80_20.xdmf... (659, 3)\n",
      "Saving ../data/Emory-4DCT/Case8Deploy/pygalmesh/case8_T90_5.xdmf... (33883, 3)\n",
      "Saving ../data/Emory-4DCT/Case8Deploy/pygalmesh/case8_T90_10.xdmf... (4749, 3)\n",
      "Saving ../data/Emory-4DCT/Case8Deploy/pygalmesh/case8_T90_20.xdmf... (711, 3)\n",
      "Loading ../data/Emory-4DCT/Case9Pack/NIFTI/case9_T00.nii.gz\n",
      "Loading ../data/Emory-4DCT/Case9Pack/NIFTI/case9_T10.nii.gz\n",
      "Loading ../data/Emory-4DCT/Case9Pack/NIFTI/case9_T20.nii.gz\n",
      "Loading ../data/Emory-4DCT/Case9Pack/NIFTI/case9_T30.nii.gz\n",
      "Loading ../data/Emory-4DCT/Case9Pack/NIFTI/case9_T40.nii.gz\n",
      "Loading ../data/Emory-4DCT/Case9Pack/NIFTI/case9_T50.nii.gz\n",
      "Loading ../data/Emory-4DCT/Case9Pack/NIFTI/case9_T60.nii.gz\n",
      "Loading ../data/Emory-4DCT/Case9Pack/NIFTI/case9_T70.nii.gz\n",
      "Loading ../data/Emory-4DCT/Case9Pack/NIFTI/case9_T80.nii.gz\n",
      "Loading ../data/Emory-4DCT/Case9Pack/NIFTI/case9_T90.nii.gz\n",
      "Loading ../data/Emory-4DCT/Case9Pack/TotalSegment/case9_T00/lung_combined_mask.nii.gz\n",
      "Loading ../data/Emory-4DCT/Case9Pack/TotalSegment/case9_T10/lung_combined_mask.nii.gz\n",
      "Loading ../data/Emory-4DCT/Case9Pack/TotalSegment/case9_T20/lung_combined_mask.nii.gz\n",
      "Loading ../data/Emory-4DCT/Case9Pack/TotalSegment/case9_T30/lung_combined_mask.nii.gz\n",
      "Loading ../data/Emory-4DCT/Case9Pack/TotalSegment/case9_T40/lung_combined_mask.nii.gz\n",
      "Loading ../data/Emory-4DCT/Case9Pack/TotalSegment/case9_T50/lung_combined_mask.nii.gz\n",
      "Loading ../data/Emory-4DCT/Case9Pack/TotalSegment/case9_T60/lung_combined_mask.nii.gz\n",
      "Loading ../data/Emory-4DCT/Case9Pack/TotalSegment/case9_T70/lung_combined_mask.nii.gz\n",
      "Loading ../data/Emory-4DCT/Case9Pack/TotalSegment/case9_T80/lung_combined_mask.nii.gz\n",
      "Loading ../data/Emory-4DCT/Case9Pack/TotalSegment/case9_T90/lung_combined_mask.nii.gz\n",
      "Saving ../data/Emory-4DCT/Case9Pack/pygalmesh/case9_T00_5.xdmf... (12824, 3)\n",
      "Saving ../data/Emory-4DCT/Case9Pack/pygalmesh/case9_T00_10.xdmf... (1821, 3)\n",
      "Saving ../data/Emory-4DCT/Case9Pack/pygalmesh/case9_T00_20.xdmf... (270, 3)\n",
      "Saving ../data/Emory-4DCT/Case9Pack/pygalmesh/case9_T10_5.xdmf... (12657, 3)\n",
      "Saving ../data/Emory-4DCT/Case9Pack/pygalmesh/case9_T10_10.xdmf... (1845, 3)\n",
      "Saving ../data/Emory-4DCT/Case9Pack/pygalmesh/case9_T10_20.xdmf... (275, 3)\n",
      "Saving ../data/Emory-4DCT/Case9Pack/pygalmesh/case9_T20_5.xdmf... (12053, 3)\n",
      "Saving ../data/Emory-4DCT/Case9Pack/pygalmesh/case9_T20_10.xdmf... (1726, 3)\n",
      "Saving ../data/Emory-4DCT/Case9Pack/pygalmesh/case9_T20_20.xdmf... (267, 3)\n",
      "Saving ../data/Emory-4DCT/Case9Pack/pygalmesh/case9_T30_5.xdmf... (11712, 3)\n",
      "Saving ../data/Emory-4DCT/Case9Pack/pygalmesh/case9_T30_10.xdmf... (1704, 3)\n",
      "Saving ../data/Emory-4DCT/Case9Pack/pygalmesh/case9_T30_20.xdmf... (255, 3)\n",
      "Saving ../data/Emory-4DCT/Case9Pack/pygalmesh/case9_T40_5.xdmf... (11404, 3)\n",
      "Saving ../data/Emory-4DCT/Case9Pack/pygalmesh/case9_T40_10.xdmf... (1668, 3)\n",
      "Saving ../data/Emory-4DCT/Case9Pack/pygalmesh/case9_T40_20.xdmf... (255, 3)\n",
      "Saving ../data/Emory-4DCT/Case9Pack/pygalmesh/case9_T50_5.xdmf... (11169, 3)\n",
      "Saving ../data/Emory-4DCT/Case9Pack/pygalmesh/case9_T50_10.xdmf... (1612, 3)\n",
      "Saving ../data/Emory-4DCT/Case9Pack/pygalmesh/case9_T50_20.xdmf... (244, 3)\n"
     ]
    },
    {
     "name": "stdout",
     "output_type": "stream",
     "text": [
      "Saving ../data/Emory-4DCT/Case9Pack/pygalmesh/case9_T60_5.xdmf... (11220, 3)\n",
      "Saving ../data/Emory-4DCT/Case9Pack/pygalmesh/case9_T60_10.xdmf... (1625, 3)\n",
      "Saving ../data/Emory-4DCT/Case9Pack/pygalmesh/case9_T60_20.xdmf... (241, 3)\n",
      "Saving ../data/Emory-4DCT/Case9Pack/pygalmesh/case9_T70_5.xdmf... (11499, 3)\n",
      "Saving ../data/Emory-4DCT/Case9Pack/pygalmesh/case9_T70_10.xdmf... (939, 3)\n",
      "Saving ../data/Emory-4DCT/Case9Pack/pygalmesh/case9_T70_20.xdmf... (148, 3)\n",
      "Saving ../data/Emory-4DCT/Case9Pack/pygalmesh/case9_T80_5.xdmf... (12094, 3)\n",
      "Saving ../data/Emory-4DCT/Case9Pack/pygalmesh/case9_T80_10.xdmf... (1736, 3)\n",
      "Saving ../data/Emory-4DCT/Case9Pack/pygalmesh/case9_T80_20.xdmf... (149, 3)\n",
      "Saving ../data/Emory-4DCT/Case9Pack/pygalmesh/case9_T90_5.xdmf... (12572, 3)\n",
      "Saving ../data/Emory-4DCT/Case9Pack/pygalmesh/case9_T90_10.xdmf... (1824, 3)\n",
      "Saving ../data/Emory-4DCT/Case9Pack/pygalmesh/case9_T90_20.xdmf... (272, 3)\n",
      "Loading ../data/Emory-4DCT/Case10Pack/NIFTI/case10_T00.nii.gz\n",
      "Loading ../data/Emory-4DCT/Case10Pack/NIFTI/case10_T10.nii.gz\n",
      "Loading ../data/Emory-4DCT/Case10Pack/NIFTI/case10_T20.nii.gz\n",
      "Loading ../data/Emory-4DCT/Case10Pack/NIFTI/case10_T30.nii.gz\n",
      "Loading ../data/Emory-4DCT/Case10Pack/NIFTI/case10_T40.nii.gz\n",
      "Loading ../data/Emory-4DCT/Case10Pack/NIFTI/case10_T50.nii.gz\n",
      "Loading ../data/Emory-4DCT/Case10Pack/NIFTI/case10_T60.nii.gz\n",
      "Loading ../data/Emory-4DCT/Case10Pack/NIFTI/case10_T70.nii.gz\n",
      "Loading ../data/Emory-4DCT/Case10Pack/NIFTI/case10_T80.nii.gz\n",
      "Loading ../data/Emory-4DCT/Case10Pack/NIFTI/case10_T90.nii.gz\n",
      "Loading ../data/Emory-4DCT/Case10Pack/TotalSegment/case10_T00/lung_combined_mask.nii.gz\n",
      "Loading ../data/Emory-4DCT/Case10Pack/TotalSegment/case10_T10/lung_combined_mask.nii.gz\n",
      "Loading ../data/Emory-4DCT/Case10Pack/TotalSegment/case10_T20/lung_combined_mask.nii.gz\n",
      "Loading ../data/Emory-4DCT/Case10Pack/TotalSegment/case10_T30/lung_combined_mask.nii.gz\n",
      "Loading ../data/Emory-4DCT/Case10Pack/TotalSegment/case10_T40/lung_combined_mask.nii.gz\n",
      "Loading ../data/Emory-4DCT/Case10Pack/TotalSegment/case10_T50/lung_combined_mask.nii.gz\n",
      "Loading ../data/Emory-4DCT/Case10Pack/TotalSegment/case10_T60/lung_combined_mask.nii.gz\n",
      "Loading ../data/Emory-4DCT/Case10Pack/TotalSegment/case10_T70/lung_combined_mask.nii.gz\n",
      "Loading ../data/Emory-4DCT/Case10Pack/TotalSegment/case10_T80/lung_combined_mask.nii.gz\n",
      "Loading ../data/Emory-4DCT/Case10Pack/TotalSegment/case10_T90/lung_combined_mask.nii.gz\n",
      "Saving ../data/Emory-4DCT/Case10Pack/pygalmesh/case10_T00_5.xdmf... (20804, 3)\n",
      "Saving ../data/Emory-4DCT/Case10Pack/pygalmesh/case10_T00_10.xdmf... (2980, 3)\n",
      "Saving ../data/Emory-4DCT/Case10Pack/pygalmesh/case10_T00_20.xdmf... (453, 3)\n",
      "Saving ../data/Emory-4DCT/Case10Pack/pygalmesh/case10_T10_5.xdmf... (20380, 3)\n",
      "Saving ../data/Emory-4DCT/Case10Pack/pygalmesh/case10_T10_10.xdmf... (2917, 3)\n",
      "Saving ../data/Emory-4DCT/Case10Pack/pygalmesh/case10_T10_20.xdmf... (447, 3)\n",
      "Saving ../data/Emory-4DCT/Case10Pack/pygalmesh/case10_T20_5.xdmf... (19553, 3)\n",
      "Saving ../data/Emory-4DCT/Case10Pack/pygalmesh/case10_T20_10.xdmf... (2774, 3)\n",
      "Saving ../data/Emory-4DCT/Case10Pack/pygalmesh/case10_T20_20.xdmf... (436, 3)\n",
      "Saving ../data/Emory-4DCT/Case10Pack/pygalmesh/case10_T30_5.xdmf... (18704, 3)\n",
      "Saving ../data/Emory-4DCT/Case10Pack/pygalmesh/case10_T30_10.xdmf... (2672, 3)\n",
      "Saving ../data/Emory-4DCT/Case10Pack/pygalmesh/case10_T30_20.xdmf... (416, 3)\n",
      "Saving ../data/Emory-4DCT/Case10Pack/pygalmesh/case10_T40_5.xdmf... (18249, 3)\n",
      "Saving ../data/Emory-4DCT/Case10Pack/pygalmesh/case10_T40_10.xdmf... (2618, 3)\n",
      "Saving ../data/Emory-4DCT/Case10Pack/pygalmesh/case10_T40_20.xdmf... (382, 3)\n",
      "Saving ../data/Emory-4DCT/Case10Pack/pygalmesh/case10_T50_5.xdmf... (17995, 3)\n",
      "Saving ../data/Emory-4DCT/Case10Pack/pygalmesh/case10_T50_10.xdmf... (2582, 3)\n",
      "Saving ../data/Emory-4DCT/Case10Pack/pygalmesh/case10_T50_20.xdmf... (395, 3)\n",
      "Saving ../data/Emory-4DCT/Case10Pack/pygalmesh/case10_T60_5.xdmf... (17882, 3)\n",
      "Saving ../data/Emory-4DCT/Case10Pack/pygalmesh/case10_T60_10.xdmf... (2548, 3)\n",
      "Saving ../data/Emory-4DCT/Case10Pack/pygalmesh/case10_T60_20.xdmf... (378, 3)\n",
      "Saving ../data/Emory-4DCT/Case10Pack/pygalmesh/case10_T70_5.xdmf... (18156, 3)\n",
      "Saving ../data/Emory-4DCT/Case10Pack/pygalmesh/case10_T70_10.xdmf... (2592, 3)\n",
      "Saving ../data/Emory-4DCT/Case10Pack/pygalmesh/case10_T70_20.xdmf... (381, 3)\n",
      "Saving ../data/Emory-4DCT/Case10Pack/pygalmesh/case10_T80_5.xdmf... (19194, 3)\n",
      "Saving ../data/Emory-4DCT/Case10Pack/pygalmesh/case10_T80_10.xdmf... (2752, 3)\n",
      "Saving ../data/Emory-4DCT/Case10Pack/pygalmesh/case10_T80_20.xdmf... (416, 3)\n",
      "Saving ../data/Emory-4DCT/Case10Pack/pygalmesh/case10_T90_5.xdmf... (20198, 3)\n",
      "Saving ../data/Emory-4DCT/Case10Pack/pygalmesh/case10_T90_10.xdmf... (2874, 3)\n",
      "Saving ../data/Emory-4DCT/Case10Pack/pygalmesh/case10_T90_20.xdmf... (449, 3)\n",
      "CPU times: user 15min 33s, sys: 10.5 s, total: 15min 44s\n",
      "Wall time: 16min 16s\n"
     ]
    }
   ],
   "source": [
    "%%time\n",
    "for case in emory4dct.cases:\n",
    "    case.load_niftis()\n",
    "    case.load_masks(roi='lung_combined_mask')\n",
    "    for phase in emory4dct.phases:\n",
    "        for radius in [5, 10, 20]:\n",
    "\n",
    "            mask = case.mask.sel(phase=phase, roi='lung_combined_mask') \n",
    "            mesh = pygalmesh.generate_from_array(\n",
    "                mask.values.astype(np.uint16),\n",
    "                voxel_size=case.resolution,\n",
    "                max_cell_circumradius=float(radius), # mm\n",
    "                odt=True\n",
    "            )\n",
    "            mesh = project.meshing.remove_unused_points(mesh)\n",
    "\n",
    "            case.mesh_dir.mkdir(exist_ok=True)\n",
    "            mesh_file = case.mesh_file(phase, radius)\n",
    "            mesh_cells = [(mesh.cells[1].type, mesh.cells[1].data)]\n",
    "            print(f'Saving {mesh_file}... {mesh.points.shape}')\n",
    "            meshio.write_points_cells(mesh_file, mesh.points, mesh_cells)          \n",
    "            "
   ]
  },
  {
   "cell_type": "code",
   "execution_count": null,
   "id": "f62a1951",
   "metadata": {},
   "outputs": [],
   "source": []
  }
 ],
 "metadata": {
  "kernelspec": {
   "display_name": "lung-project",
   "language": "python",
   "name": "lung-project"
  },
  "language_info": {
   "codemirror_mode": {
    "name": "ipython",
    "version": 3
   },
   "file_extension": ".py",
   "mimetype": "text/x-python",
   "name": "python",
   "nbconvert_exporter": "python",
   "pygments_lexer": "ipython3",
   "version": "3.10.14"
  }
 },
 "nbformat": 4,
 "nbformat_minor": 5
}
