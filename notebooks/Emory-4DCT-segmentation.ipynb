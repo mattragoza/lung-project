{
 "cells": [
  {
   "cell_type": "code",
   "execution_count": 1,
   "id": "5640f439",
   "metadata": {},
   "outputs": [
    {
     "data": {
      "text/plain": [
       "'/ocean/projects/asc170022p/mtragoza/lung-project/notebooks'"
      ]
     },
     "execution_count": 1,
     "metadata": {},
     "output_type": "execute_result"
    }
   ],
   "source": [
    "%matplotlib notebook\n",
    "%load_ext autoreload\n",
    "%pwd"
   ]
  },
  {
   "cell_type": "code",
   "execution_count": 3,
   "id": "4f0066b0",
   "metadata": {},
   "outputs": [
    {
     "data": {
      "text/plain": [
       "True"
      ]
     },
     "execution_count": 3,
     "metadata": {},
     "output_type": "execute_result"
    }
   ],
   "source": [
    "import sys, os\n",
    "os.environ['PKG_CONFIG_PATH'] = '/ocean/projects/asc170022p/mtragoza/mambaforge/envs/lung-project/lib/pkgconfig'\n",
    "\n",
    "import numpy as np\n",
    "import skimage\n",
    "import torch\n",
    "import nibabel as nib\n",
    "\n",
    "from totalsegmentator.python_api import totalsegmentator\n",
    "from totalsegmentator.libs import combine_masks\n",
    "\n",
    "import pygalmesh\n",
    "import meshio\n",
    "\n",
    "sys.path.append('..')\n",
    "import project\n",
    "\n",
    "torch.cuda.is_available()"
   ]
  },
  {
   "cell_type": "code",
   "execution_count": 4,
   "id": "df97eb45",
   "metadata": {},
   "outputs": [
    {
     "data": {
      "text/plain": [
       "Emory4DCT('../data/Emory-4DCT', 10 cases)"
      ]
     },
     "execution_count": 4,
     "metadata": {},
     "output_type": "execute_result"
    }
   ],
   "source": [
    "%autoreload\n",
    "emory4dct = project.imaging.Emory4DCT('../data/Emory-4DCT')\n",
    "emory4dct"
   ]
  },
  {
   "cell_type": "code",
   "execution_count": 25,
   "id": "3da085dc",
   "metadata": {},
   "outputs": [
    {
     "data": {
      "text/plain": [
       "array([[1, 1, 0, 1, 1],\n",
       "       [1, 1, 0, 1, 1],\n",
       "       [1, 1, 0, 1, 1],\n",
       "       [0, 0, 0, 0, 0],\n",
       "       [0, 0, 0, 0, 0]])"
      ]
     },
     "execution_count": 25,
     "metadata": {},
     "output_type": "execute_result"
    }
   ],
   "source": [
    "def select_regions_by_size(mask, which=slice(1, 3)):\n",
    "    regions = skimage.measure.label(mask)\n",
    "    region_sizes = np.unique(regions, return_counts=True)[1]\n",
    "    selected_regions = np.argsort(-region_sizes)[which]\n",
    "    return np.isin(regions, selected_regions).astype(mask.dtype)\n",
    "\n",
    "mask = np.array([\n",
    "    [1, 1, 0, 1, 1],\n",
    "    [1, 1, 0, 1, 1],\n",
    "    [1, 1, 0, 1, 1],\n",
    "    [0, 0, 0, 0, 0],\n",
    "    [1, 0, 0, 1, 1],\n",
    "])\n",
    "select_regions_by_size(mask)"
   ]
  },
  {
   "cell_type": "code",
   "execution_count": 26,
   "id": "83a50d29",
   "metadata": {
    "scrolled": false
   },
   "outputs": [
    {
     "name": "stdout",
     "output_type": "stream",
     "text": [
      "Segmenting Case1Pack phase 0\n",
      "\n",
      "If you use this tool please cite: https://pubs.rsna.org/doi/10.1148/ryai.230024\n",
      "\n",
      "Generating rough body segmentation...\n",
      "Resampling...\n",
      "  Resampled in 0.22s\n",
      "Predicting...\n"
     ]
    },
    {
     "name": "stderr",
     "output_type": "stream",
     "text": [
      "/ocean/projects/asc170022p/mtragoza/mambaforge/envs/lung-project/lib/python3.10/site-packages/nnunetv2/utilities/plans_handling/plans_handler.py:37: UserWarning: Detected old nnU-Net plans format. Attempting to reconstruct network architecture parameters. If this fails, rerun nnUNetv2_plan_experiment for your dataset. If you use a custom architecture, please downgrade nnU-Net to the version you implemented this or update your implementation + plans.\n",
      "  warnings.warn(\"Detected old nnU-Net plans format. Attempting to reconstruct network architecture \"\n",
      "100%|██████████| 1/1 [00:00<00:00, 97.76it/s]\n"
     ]
    },
    {
     "name": "stdout",
     "output_type": "stream",
     "text": [
      "  Predicted in 7.08s\n",
      "Resampling...\n",
      "  cropping from (256, 256, 94) to (256, 193, 94)\n",
      "Resampling...\n",
      "  Resampled in 1.16s\n",
      "Predicting part 1 of 1 ...\n"
     ]
    },
    {
     "name": "stderr",
     "output_type": "stream",
     "text": [
      "100%|██████████| 4/4 [00:00<00:00, 175.24it/s]\n"
     ]
    },
    {
     "name": "stdout",
     "output_type": "stream",
     "text": [
      "  Predicted in 8.52s\n",
      "Resampling...\n",
      "Saving segmentations...\n"
     ]
    },
    {
     "data": {
      "application/vnd.jupyter.widget-view+json": {
       "model_id": "27535331398e482794b7b34586ced253",
       "version_major": 2,
       "version_minor": 0
      },
      "text/plain": [
       "  0%|          | 0/5 [00:00<?, ?it/s]"
      ]
     },
     "metadata": {},
     "output_type": "display_data"
    },
    {
     "name": "stdout",
     "output_type": "stream",
     "text": [
      "  Saved in 0.52s\n",
      "\n",
      "If you use this tool please cite: https://pubs.rsna.org/doi/10.1148/ryai.230024\n",
      "\n",
      "Generating rough body segmentation...\n",
      "Resampling...\n",
      "  Resampled in 0.22s\n",
      "Predicting...\n"
     ]
    },
    {
     "name": "stderr",
     "output_type": "stream",
     "text": [
      "/ocean/projects/asc170022p/mtragoza/mambaforge/envs/lung-project/lib/python3.10/site-packages/nnunetv2/utilities/plans_handling/plans_handler.py:37: UserWarning: Detected old nnU-Net plans format. Attempting to reconstruct network architecture parameters. If this fails, rerun nnUNetv2_plan_experiment for your dataset. If you use a custom architecture, please downgrade nnU-Net to the version you implemented this or update your implementation + plans.\n",
      "  warnings.warn(\"Detected old nnU-Net plans format. Attempting to reconstruct network architecture \"\n",
      "100%|██████████| 1/1 [00:00<00:00, 93.54it/s]\n"
     ]
    },
    {
     "name": "stdout",
     "output_type": "stream",
     "text": [
      "  Predicted in 7.01s\n",
      "Resampling...\n",
      "  cropping from (256, 256, 94) to (256, 193, 94)\n",
      "Predicting...\n"
     ]
    },
    {
     "name": "stderr",
     "output_type": "stream",
     "text": [
      "100%|██████████| 48/48 [00:02<00:00, 18.28it/s]\n"
     ]
    },
    {
     "name": "stdout",
     "output_type": "stream",
     "text": [
      "  Predicted in 19.94s\n",
      "Saving segmentations...\n",
      "Creating lung_vessels.nii.gz"
     ]
    },
    {
     "data": {
      "application/vnd.jupyter.widget-view+json": {
       "model_id": "27be1edf52fa4c2ba5662b4208c89e03",
       "version_major": 2,
       "version_minor": 0
      },
      "text/plain": [
       "  0%|          | 0/2 [00:00<?, ?it/s]"
      ]
     },
     "metadata": {},
     "output_type": "display_data"
    },
    {
     "name": "stdout",
     "output_type": "stream",
     "text": [
      "\n",
      "Creating lung_trachea_bronchia.nii.gz\n",
      "  Saved in 0.46s\n",
      "\n",
      "If you use this tool please cite: https://pubs.rsna.org/doi/10.1148/ryai.230024\n",
      "\n",
      "Resampling...\n",
      "  Resampled in 1.58s\n",
      "Predicting...\n"
     ]
    },
    {
     "name": "stderr",
     "output_type": "stream",
     "text": [
      "/ocean/projects/asc170022p/mtragoza/mambaforge/envs/lung-project/lib/python3.10/site-packages/nnunetv2/utilities/plans_handling/plans_handler.py:37: UserWarning: Detected old nnU-Net plans format. Attempting to reconstruct network architecture parameters. If this fails, rerun nnUNetv2_plan_experiment for your dataset. If you use a custom architecture, please downgrade nnU-Net to the version you implemented this or update your implementation + plans.\n",
      "  warnings.warn(\"Detected old nnU-Net plans format. Attempting to reconstruct network architecture \"\n",
      "100%|██████████| 8/8 [00:00<00:00, 33.39it/s]\n"
     ]
    },
    {
     "name": "stdout",
     "output_type": "stream",
     "text": [
      "  Predicted in 8.49s\n"
     ]
    },
    {
     "name": "stderr",
     "output_type": "stream",
     "text": [
      "100%|██████████| 1/1 [00:00<00:00, 14.73it/s]\n",
      "100%|██████████| 1/1 [00:00<00:00, 17.53it/s]"
     ]
    },
    {
     "name": "stdout",
     "output_type": "stream",
     "text": [
      "Resampling...\n"
     ]
    },
    {
     "name": "stderr",
     "output_type": "stream",
     "text": [
      "\n"
     ]
    },
    {
     "name": "stdout",
     "output_type": "stream",
     "text": [
      "Saving segmentations...\n",
      "Creating body_trunc.nii.gz\n"
     ]
    },
    {
     "data": {
      "application/vnd.jupyter.widget-view+json": {
       "model_id": "1c3ae44fdeac4ac4b6fd9dcaec352680",
       "version_major": 2,
       "version_minor": 0
      },
      "text/plain": [
       "  0%|          | 0/2 [00:00<?, ?it/s]"
      ]
     },
     "metadata": {},
     "output_type": "display_data"
    },
    {
     "name": "stdout",
     "output_type": "stream",
     "text": [
      "Creating body_extremities.nii.gz\n",
      "  Saved in 158.95s\n",
      "Creating body.nii.gz\n",
      "Creating skin.nii.gz\n",
      "Segmenting Case1Pack phase 10\n",
      "\n",
      "If you use this tool please cite: https://pubs.rsna.org/doi/10.1148/ryai.230024\n",
      "\n",
      "Generating rough body segmentation...\n",
      "Resampling...\n",
      "  Resampled in 0.22s\n",
      "Predicting...\n"
     ]
    },
    {
     "name": "stderr",
     "output_type": "stream",
     "text": [
      "/ocean/projects/asc170022p/mtragoza/mambaforge/envs/lung-project/lib/python3.10/site-packages/nnunetv2/utilities/plans_handling/plans_handler.py:37: UserWarning: Detected old nnU-Net plans format. Attempting to reconstruct network architecture parameters. If this fails, rerun nnUNetv2_plan_experiment for your dataset. If you use a custom architecture, please downgrade nnU-Net to the version you implemented this or update your implementation + plans.\n",
      "  warnings.warn(\"Detected old nnU-Net plans format. Attempting to reconstruct network architecture \"\n",
      "100%|██████████| 1/1 [00:00<00:00, 79.40it/s]\n"
     ]
    },
    {
     "name": "stdout",
     "output_type": "stream",
     "text": [
      "  Predicted in 7.49s\n",
      "Resampling...\n",
      "  cropping from (256, 256, 94) to (256, 193, 94)\n",
      "Resampling...\n",
      "  Resampled in 1.16s\n",
      "Predicting part 1 of 1 ...\n"
     ]
    },
    {
     "name": "stderr",
     "output_type": "stream",
     "text": [
      "100%|██████████| 4/4 [00:00<00:00, 174.47it/s]\n"
     ]
    },
    {
     "name": "stdout",
     "output_type": "stream",
     "text": [
      "  Predicted in 8.70s\n",
      "Resampling...\n",
      "Saving segmentations...\n"
     ]
    },
    {
     "data": {
      "application/vnd.jupyter.widget-view+json": {
       "model_id": "db151f4bc54444e6ae489644c31ec0f5",
       "version_major": 2,
       "version_minor": 0
      },
      "text/plain": [
       "  0%|          | 0/5 [00:00<?, ?it/s]"
      ]
     },
     "metadata": {},
     "output_type": "display_data"
    },
    {
     "name": "stdout",
     "output_type": "stream",
     "text": [
      "  Saved in 0.56s\n",
      "\n",
      "If you use this tool please cite: https://pubs.rsna.org/doi/10.1148/ryai.230024\n",
      "\n",
      "Generating rough body segmentation...\n",
      "Resampling...\n",
      "  Resampled in 0.23s\n",
      "Predicting...\n"
     ]
    },
    {
     "name": "stderr",
     "output_type": "stream",
     "text": [
      "/ocean/projects/asc170022p/mtragoza/mambaforge/envs/lung-project/lib/python3.10/site-packages/nnunetv2/utilities/plans_handling/plans_handler.py:37: UserWarning: Detected old nnU-Net plans format. Attempting to reconstruct network architecture parameters. If this fails, rerun nnUNetv2_plan_experiment for your dataset. If you use a custom architecture, please downgrade nnU-Net to the version you implemented this or update your implementation + plans.\n",
      "  warnings.warn(\"Detected old nnU-Net plans format. Attempting to reconstruct network architecture \"\n",
      "100%|██████████| 1/1 [00:00<00:00, 111.20it/s]\n"
     ]
    },
    {
     "name": "stdout",
     "output_type": "stream",
     "text": [
      "  Predicted in 7.17s\n",
      "Resampling...\n",
      "  cropping from (256, 256, 94) to (256, 193, 94)\n",
      "Predicting...\n"
     ]
    },
    {
     "name": "stderr",
     "output_type": "stream",
     "text": [
      "100%|██████████| 48/48 [00:02<00:00, 18.27it/s]\n"
     ]
    },
    {
     "name": "stdout",
     "output_type": "stream",
     "text": [
      "  Predicted in 19.99s\n",
      "Saving segmentations...\n",
      "Creating lung_vessels.nii.gz\n",
      "\n",
      "Creating lung_trachea_bronchia.nii.gz"
     ]
    },
    {
     "data": {
      "application/vnd.jupyter.widget-view+json": {
       "model_id": "d102865e42e24800a5d0f4ec75fb04ac",
       "version_major": 2,
       "version_minor": 0
      },
      "text/plain": [
       "  0%|          | 0/2 [00:00<?, ?it/s]"
      ]
     },
     "metadata": {},
     "output_type": "display_data"
    },
    {
     "name": "stdout",
     "output_type": "stream",
     "text": [
      "  Saved in 0.50s\n",
      "\n",
      "If you use this tool please cite: https://pubs.rsna.org/doi/10.1148/ryai.230024\n",
      "\n",
      "Resampling...\n",
      "  Resampled in 1.59s\n",
      "Predicting...\n"
     ]
    },
    {
     "name": "stderr",
     "output_type": "stream",
     "text": [
      "/ocean/projects/asc170022p/mtragoza/mambaforge/envs/lung-project/lib/python3.10/site-packages/nnunetv2/utilities/plans_handling/plans_handler.py:37: UserWarning: Detected old nnU-Net plans format. Attempting to reconstruct network architecture parameters. If this fails, rerun nnUNetv2_plan_experiment for your dataset. If you use a custom architecture, please downgrade nnU-Net to the version you implemented this or update your implementation + plans.\n",
      "  warnings.warn(\"Detected old nnU-Net plans format. Attempting to reconstruct network architecture \"\n",
      "100%|██████████| 8/8 [00:00<00:00, 34.53it/s]\n"
     ]
    },
    {
     "name": "stdout",
     "output_type": "stream",
     "text": [
      "  Predicted in 8.57s\n"
     ]
    },
    {
     "name": "stderr",
     "output_type": "stream",
     "text": [
      "100%|██████████| 1/1 [00:00<00:00, 14.60it/s]\n",
      "100%|██████████| 1/1 [00:00<00:00, 18.41it/s]"
     ]
    },
    {
     "name": "stdout",
     "output_type": "stream",
     "text": [
      "Resampling...\n"
     ]
    },
    {
     "name": "stderr",
     "output_type": "stream",
     "text": [
      "\n"
     ]
    },
    {
     "name": "stdout",
     "output_type": "stream",
     "text": [
      "Saving segmentations...\n",
      "Creating body_trunc.nii.gzCreating body_extremities.nii.gz\n",
      "\n"
     ]
    },
    {
     "data": {
      "application/vnd.jupyter.widget-view+json": {
       "model_id": "b846dcca1d0141f4ad8fc5b1b9bfe854",
       "version_major": 2,
       "version_minor": 0
      },
      "text/plain": [
       "  0%|          | 0/2 [00:00<?, ?it/s]"
      ]
     },
     "metadata": {},
     "output_type": "display_data"
    },
    {
     "name": "stdout",
     "output_type": "stream",
     "text": [
      "  Saved in 0.37s\n",
      "Creating body.nii.gz\n",
      "Creating skin.nii.gz\n",
      "Segmenting Case1Pack phase 20\n",
      "\n",
      "If you use this tool please cite: https://pubs.rsna.org/doi/10.1148/ryai.230024\n",
      "\n",
      "Generating rough body segmentation...\n",
      "Resampling...\n",
      "  Resampled in 0.22s\n",
      "Predicting...\n"
     ]
    },
    {
     "name": "stderr",
     "output_type": "stream",
     "text": [
      "/ocean/projects/asc170022p/mtragoza/mambaforge/envs/lung-project/lib/python3.10/site-packages/nnunetv2/utilities/plans_handling/plans_handler.py:37: UserWarning: Detected old nnU-Net plans format. Attempting to reconstruct network architecture parameters. If this fails, rerun nnUNetv2_plan_experiment for your dataset. If you use a custom architecture, please downgrade nnU-Net to the version you implemented this or update your implementation + plans.\n",
      "  warnings.warn(\"Detected old nnU-Net plans format. Attempting to reconstruct network architecture \"\n",
      "100%|██████████| 1/1 [00:00<00:00, 97.34it/s]\n"
     ]
    },
    {
     "name": "stdout",
     "output_type": "stream",
     "text": [
      "  Predicted in 7.14s\n",
      "Resampling...\n",
      "  cropping from (256, 256, 94) to (256, 193, 94)\n",
      "Resampling...\n",
      "  Resampled in 1.16s\n",
      "Predicting part 1 of 1 ...\n"
     ]
    },
    {
     "name": "stderr",
     "output_type": "stream",
     "text": [
      "100%|██████████| 4/4 [00:00<00:00, 171.48it/s]\n"
     ]
    },
    {
     "name": "stdout",
     "output_type": "stream",
     "text": [
      "  Predicted in 8.58s\n",
      "Resampling...\n",
      "Saving segmentations...\n"
     ]
    },
    {
     "data": {
      "application/vnd.jupyter.widget-view+json": {
       "model_id": "1e8970ca1f92416ebdb5b745ba6b4b40",
       "version_major": 2,
       "version_minor": 0
      },
      "text/plain": [
       "  0%|          | 0/5 [00:00<?, ?it/s]"
      ]
     },
     "metadata": {},
     "output_type": "display_data"
    },
    {
     "name": "stdout",
     "output_type": "stream",
     "text": [
      "  Saved in 1.27s\n",
      "\n",
      "If you use this tool please cite: https://pubs.rsna.org/doi/10.1148/ryai.230024\n",
      "\n",
      "Generating rough body segmentation...\n",
      "Resampling...\n",
      "  Resampled in 0.22s\n",
      "Predicting...\n"
     ]
    },
    {
     "name": "stderr",
     "output_type": "stream",
     "text": [
      "/ocean/projects/asc170022p/mtragoza/mambaforge/envs/lung-project/lib/python3.10/site-packages/nnunetv2/utilities/plans_handling/plans_handler.py:37: UserWarning: Detected old nnU-Net plans format. Attempting to reconstruct network architecture parameters. If this fails, rerun nnUNetv2_plan_experiment for your dataset. If you use a custom architecture, please downgrade nnU-Net to the version you implemented this or update your implementation + plans.\n",
      "  warnings.warn(\"Detected old nnU-Net plans format. Attempting to reconstruct network architecture \"\n",
      "100%|██████████| 1/1 [00:00<00:00, 98.19it/s]\n"
     ]
    },
    {
     "name": "stdout",
     "output_type": "stream",
     "text": [
      "  Predicted in 7.16s\n",
      "Resampling...\n",
      "  cropping from (256, 256, 94) to (256, 193, 94)\n",
      "Predicting...\n"
     ]
    },
    {
     "name": "stderr",
     "output_type": "stream",
     "text": [
      "100%|██████████| 48/48 [00:02<00:00, 18.22it/s]\n"
     ]
    },
    {
     "name": "stdout",
     "output_type": "stream",
     "text": [
      "  Predicted in 19.88s\n",
      "Saving segmentations...\n",
      "Creating lung_vessels.nii.gz\n",
      "Creating lung_trachea_bronchia.nii.gz\n"
     ]
    },
    {
     "data": {
      "application/vnd.jupyter.widget-view+json": {
       "model_id": "6890dbc0800f4217a20ad832bef4a58b",
       "version_major": 2,
       "version_minor": 0
      },
      "text/plain": [
       "  0%|          | 0/2 [00:00<?, ?it/s]"
      ]
     },
     "metadata": {},
     "output_type": "display_data"
    },
    {
     "name": "stdout",
     "output_type": "stream",
     "text": [
      "  Saved in 0.45s\n",
      "\n",
      "If you use this tool please cite: https://pubs.rsna.org/doi/10.1148/ryai.230024\n",
      "\n",
      "Resampling...\n",
      "  Resampled in 1.57s\n",
      "Predicting...\n"
     ]
    },
    {
     "name": "stderr",
     "output_type": "stream",
     "text": [
      "/ocean/projects/asc170022p/mtragoza/mambaforge/envs/lung-project/lib/python3.10/site-packages/nnunetv2/utilities/plans_handling/plans_handler.py:37: UserWarning: Detected old nnU-Net plans format. Attempting to reconstruct network architecture parameters. If this fails, rerun nnUNetv2_plan_experiment for your dataset. If you use a custom architecture, please downgrade nnU-Net to the version you implemented this or update your implementation + plans.\n",
      "  warnings.warn(\"Detected old nnU-Net plans format. Attempting to reconstruct network architecture \"\n",
      "100%|██████████| 8/8 [00:00<00:00, 34.37it/s]\n"
     ]
    },
    {
     "name": "stdout",
     "output_type": "stream",
     "text": [
      "  Predicted in 8.45s\n"
     ]
    },
    {
     "name": "stderr",
     "output_type": "stream",
     "text": [
      "100%|██████████| 1/1 [00:00<00:00, 14.09it/s]\n",
      "100%|██████████| 1/1 [00:00<00:00, 17.46it/s]"
     ]
    },
    {
     "name": "stdout",
     "output_type": "stream",
     "text": [
      "Resampling...\n"
     ]
    },
    {
     "name": "stderr",
     "output_type": "stream",
     "text": [
      "\n"
     ]
    },
    {
     "name": "stdout",
     "output_type": "stream",
     "text": [
      "Saving segmentations...\n",
      "Creating body_trunc.nii.gz\n",
      "Creating body_extremities.nii.gz\n"
     ]
    },
    {
     "data": {
      "application/vnd.jupyter.widget-view+json": {
       "model_id": "b2859c22d6f34e0f9cdace6151eca1cd",
       "version_major": 2,
       "version_minor": 0
      },
      "text/plain": [
       "  0%|          | 0/2 [00:00<?, ?it/s]"
      ]
     },
     "metadata": {},
     "output_type": "display_data"
    },
    {
     "name": "stdout",
     "output_type": "stream",
     "text": [
      "  Saved in 0.36s\n",
      "Creating body.nii.gz\n",
      "Creating skin.nii.gz\n",
      "Segmenting Case1Pack phase 30\n",
      "\n",
      "If you use this tool please cite: https://pubs.rsna.org/doi/10.1148/ryai.230024\n",
      "\n",
      "Generating rough body segmentation...\n",
      "Resampling...\n",
      "  Resampled in 0.22s\n",
      "Predicting...\n"
     ]
    },
    {
     "name": "stderr",
     "output_type": "stream",
     "text": [
      "/ocean/projects/asc170022p/mtragoza/mambaforge/envs/lung-project/lib/python3.10/site-packages/nnunetv2/utilities/plans_handling/plans_handler.py:37: UserWarning: Detected old nnU-Net plans format. Attempting to reconstruct network architecture parameters. If this fails, rerun nnUNetv2_plan_experiment for your dataset. If you use a custom architecture, please downgrade nnU-Net to the version you implemented this or update your implementation + plans.\n",
      "  warnings.warn(\"Detected old nnU-Net plans format. Attempting to reconstruct network architecture \"\n",
      "100%|██████████| 1/1 [00:00<00:00, 85.85it/s]\n"
     ]
    },
    {
     "name": "stdout",
     "output_type": "stream",
     "text": [
      "  Predicted in 7.18s\n",
      "Resampling...\n",
      "  cropping from (256, 256, 94) to (256, 193, 94)\n",
      "Resampling...\n",
      "  Resampled in 1.15s\n",
      "Predicting part 1 of 1 ...\n"
     ]
    },
    {
     "name": "stderr",
     "output_type": "stream",
     "text": [
      "100%|██████████| 4/4 [00:00<00:00, 172.03it/s]\n"
     ]
    },
    {
     "name": "stdout",
     "output_type": "stream",
     "text": [
      "  Predicted in 8.36s\n",
      "Resampling...\n",
      "Saving segmentations...\n"
     ]
    },
    {
     "data": {
      "application/vnd.jupyter.widget-view+json": {
       "model_id": "c719efff35654429aa14a56ddeac1719",
       "version_major": 2,
       "version_minor": 0
      },
      "text/plain": [
       "  0%|          | 0/5 [00:00<?, ?it/s]"
      ]
     },
     "metadata": {},
     "output_type": "display_data"
    },
    {
     "name": "stdout",
     "output_type": "stream",
     "text": [
      "  Saved in 0.58s\n",
      "\n",
      "If you use this tool please cite: https://pubs.rsna.org/doi/10.1148/ryai.230024\n",
      "\n",
      "Generating rough body segmentation...\n",
      "Resampling...\n",
      "  Resampled in 0.23s\n",
      "Predicting...\n"
     ]
    },
    {
     "name": "stderr",
     "output_type": "stream",
     "text": [
      "/ocean/projects/asc170022p/mtragoza/mambaforge/envs/lung-project/lib/python3.10/site-packages/nnunetv2/utilities/plans_handling/plans_handler.py:37: UserWarning: Detected old nnU-Net plans format. Attempting to reconstruct network architecture parameters. If this fails, rerun nnUNetv2_plan_experiment for your dataset. If you use a custom architecture, please downgrade nnU-Net to the version you implemented this or update your implementation + plans.\n",
      "  warnings.warn(\"Detected old nnU-Net plans format. Attempting to reconstruct network architecture \"\n",
      "100%|██████████| 1/1 [00:00<00:00, 105.29it/s]\n"
     ]
    },
    {
     "name": "stdout",
     "output_type": "stream",
     "text": [
      "  Predicted in 7.20s\n",
      "Resampling...\n",
      "  cropping from (256, 256, 94) to (256, 193, 94)\n",
      "Predicting...\n"
     ]
    },
    {
     "name": "stderr",
     "output_type": "stream",
     "text": [
      "100%|██████████| 48/48 [00:02<00:00, 18.28it/s]\n"
     ]
    },
    {
     "name": "stdout",
     "output_type": "stream",
     "text": [
      "  Predicted in 19.89s\n",
      "Saving segmentations...\n",
      "Creating lung_vessels.nii.gz\n",
      "Creating lung_trachea_bronchia.nii.gz\n"
     ]
    },
    {
     "data": {
      "application/vnd.jupyter.widget-view+json": {
       "model_id": "b04ac85f133e45c1ab309b2f6e8b61e5",
       "version_major": 2,
       "version_minor": 0
      },
      "text/plain": [
       "  0%|          | 0/2 [00:00<?, ?it/s]"
      ]
     },
     "metadata": {},
     "output_type": "display_data"
    },
    {
     "name": "stdout",
     "output_type": "stream",
     "text": [
      "  Saved in 0.45s\n",
      "\n",
      "If you use this tool please cite: https://pubs.rsna.org/doi/10.1148/ryai.230024\n",
      "\n",
      "Resampling...\n",
      "  Resampled in 1.58s\n",
      "Predicting...\n"
     ]
    },
    {
     "name": "stderr",
     "output_type": "stream",
     "text": [
      "/ocean/projects/asc170022p/mtragoza/mambaforge/envs/lung-project/lib/python3.10/site-packages/nnunetv2/utilities/plans_handling/plans_handler.py:37: UserWarning: Detected old nnU-Net plans format. Attempting to reconstruct network architecture parameters. If this fails, rerun nnUNetv2_plan_experiment for your dataset. If you use a custom architecture, please downgrade nnU-Net to the version you implemented this or update your implementation + plans.\n",
      "  warnings.warn(\"Detected old nnU-Net plans format. Attempting to reconstruct network architecture \"\n",
      "100%|██████████| 8/8 [00:00<00:00, 34.06it/s]\n"
     ]
    },
    {
     "name": "stdout",
     "output_type": "stream",
     "text": [
      "  Predicted in 8.47s\n"
     ]
    },
    {
     "name": "stderr",
     "output_type": "stream",
     "text": [
      "100%|██████████| 1/1 [00:00<00:00, 14.12it/s]\n",
      "100%|██████████| 1/1 [00:00<00:00, 17.30it/s]"
     ]
    },
    {
     "name": "stdout",
     "output_type": "stream",
     "text": [
      "Resampling...\n"
     ]
    },
    {
     "name": "stderr",
     "output_type": "stream",
     "text": [
      "\n"
     ]
    },
    {
     "name": "stdout",
     "output_type": "stream",
     "text": [
      "Saving segmentations...\n",
      "Creating body_trunc.nii.gz\n",
      "Creating body_extremities.nii.gz\n"
     ]
    },
    {
     "data": {
      "application/vnd.jupyter.widget-view+json": {
       "model_id": "1a9851e582ae460eae27a5e19ad0c0c2",
       "version_major": 2,
       "version_minor": 0
      },
      "text/plain": [
       "  0%|          | 0/2 [00:00<?, ?it/s]"
      ]
     },
     "metadata": {},
     "output_type": "display_data"
    },
    {
     "name": "stdout",
     "output_type": "stream",
     "text": [
      "  Saved in 0.38s\n",
      "Creating body.nii.gz\n",
      "Creating skin.nii.gz\n",
      "Segmenting Case1Pack phase 40\n",
      "\n",
      "If you use this tool please cite: https://pubs.rsna.org/doi/10.1148/ryai.230024\n",
      "\n",
      "Generating rough body segmentation...\n",
      "Resampling...\n",
      "  Resampled in 0.22s\n",
      "Predicting...\n"
     ]
    },
    {
     "name": "stderr",
     "output_type": "stream",
     "text": [
      "/ocean/projects/asc170022p/mtragoza/mambaforge/envs/lung-project/lib/python3.10/site-packages/nnunetv2/utilities/plans_handling/plans_handler.py:37: UserWarning: Detected old nnU-Net plans format. Attempting to reconstruct network architecture parameters. If this fails, rerun nnUNetv2_plan_experiment for your dataset. If you use a custom architecture, please downgrade nnU-Net to the version you implemented this or update your implementation + plans.\n",
      "  warnings.warn(\"Detected old nnU-Net plans format. Attempting to reconstruct network architecture \"\n",
      "100%|██████████| 1/1 [00:00<00:00, 78.49it/s]\n"
     ]
    },
    {
     "name": "stdout",
     "output_type": "stream",
     "text": [
      "  Predicted in 7.19s\n",
      "Resampling...\n",
      "  cropping from (256, 256, 94) to (256, 193, 94)\n",
      "Resampling...\n",
      "  Resampled in 1.15s\n",
      "Predicting part 1 of 1 ...\n"
     ]
    },
    {
     "name": "stderr",
     "output_type": "stream",
     "text": [
      "100%|██████████| 4/4 [00:00<00:00, 173.72it/s]\n"
     ]
    },
    {
     "name": "stdout",
     "output_type": "stream",
     "text": [
      "  Predicted in 8.57s\n",
      "Resampling...\n",
      "Saving segmentations...\n"
     ]
    },
    {
     "data": {
      "application/vnd.jupyter.widget-view+json": {
       "model_id": "63b3674d546d479db5e7f375829f436c",
       "version_major": 2,
       "version_minor": 0
      },
      "text/plain": [
       "  0%|          | 0/5 [00:00<?, ?it/s]"
      ]
     },
     "metadata": {},
     "output_type": "display_data"
    },
    {
     "name": "stdout",
     "output_type": "stream",
     "text": [
      "  Saved in 0.55s\n",
      "\n",
      "If you use this tool please cite: https://pubs.rsna.org/doi/10.1148/ryai.230024\n",
      "\n",
      "Generating rough body segmentation...\n",
      "Resampling...\n",
      "  Resampled in 0.22s\n",
      "Predicting...\n"
     ]
    },
    {
     "name": "stderr",
     "output_type": "stream",
     "text": [
      "/ocean/projects/asc170022p/mtragoza/mambaforge/envs/lung-project/lib/python3.10/site-packages/nnunetv2/utilities/plans_handling/plans_handler.py:37: UserWarning: Detected old nnU-Net plans format. Attempting to reconstruct network architecture parameters. If this fails, rerun nnUNetv2_plan_experiment for your dataset. If you use a custom architecture, please downgrade nnU-Net to the version you implemented this or update your implementation + plans.\n",
      "  warnings.warn(\"Detected old nnU-Net plans format. Attempting to reconstruct network architecture \"\n",
      "100%|██████████| 1/1 [00:00<00:00, 82.01it/s]\n"
     ]
    },
    {
     "name": "stdout",
     "output_type": "stream",
     "text": [
      "  Predicted in 7.28s\n",
      "Resampling...\n",
      "  cropping from (256, 256, 94) to (256, 193, 94)\n",
      "Predicting...\n"
     ]
    },
    {
     "name": "stderr",
     "output_type": "stream",
     "text": [
      "100%|██████████| 48/48 [00:02<00:00, 18.25it/s]\n"
     ]
    },
    {
     "name": "stdout",
     "output_type": "stream",
     "text": [
      "  Predicted in 19.90s\n",
      "Saving segmentations...\n",
      "Creating lung_vessels.nii.gz\n",
      "Creating lung_trachea_bronchia.nii.gz\n"
     ]
    },
    {
     "data": {
      "application/vnd.jupyter.widget-view+json": {
       "model_id": "5b33d3a08f2045a8b7fd55e9f411082c",
       "version_major": 2,
       "version_minor": 0
      },
      "text/plain": [
       "  0%|          | 0/2 [00:00<?, ?it/s]"
      ]
     },
     "metadata": {},
     "output_type": "display_data"
    },
    {
     "name": "stdout",
     "output_type": "stream",
     "text": [
      "  Saved in 0.45s\n",
      "\n",
      "If you use this tool please cite: https://pubs.rsna.org/doi/10.1148/ryai.230024\n",
      "\n",
      "Resampling...\n",
      "  Resampled in 1.58s\n",
      "Predicting...\n"
     ]
    },
    {
     "name": "stderr",
     "output_type": "stream",
     "text": [
      "/ocean/projects/asc170022p/mtragoza/mambaforge/envs/lung-project/lib/python3.10/site-packages/nnunetv2/utilities/plans_handling/plans_handler.py:37: UserWarning: Detected old nnU-Net plans format. Attempting to reconstruct network architecture parameters. If this fails, rerun nnUNetv2_plan_experiment for your dataset. If you use a custom architecture, please downgrade nnU-Net to the version you implemented this or update your implementation + plans.\n",
      "  warnings.warn(\"Detected old nnU-Net plans format. Attempting to reconstruct network architecture \"\n",
      "100%|██████████| 8/8 [00:00<00:00, 34.35it/s]\n"
     ]
    },
    {
     "name": "stdout",
     "output_type": "stream",
     "text": [
      "  Predicted in 8.55s\n"
     ]
    },
    {
     "name": "stderr",
     "output_type": "stream",
     "text": [
      "100%|██████████| 1/1 [00:00<00:00, 14.31it/s]\n",
      "100%|██████████| 1/1 [00:00<00:00, 17.14it/s]"
     ]
    },
    {
     "name": "stdout",
     "output_type": "stream",
     "text": [
      "Resampling...\n"
     ]
    },
    {
     "name": "stderr",
     "output_type": "stream",
     "text": [
      "\n"
     ]
    },
    {
     "name": "stdout",
     "output_type": "stream",
     "text": [
      "Saving segmentations...\n",
      "Creating body_trunc.nii.gz\n",
      "\n",
      "Creating body_extremities.nii.gz"
     ]
    },
    {
     "data": {
      "application/vnd.jupyter.widget-view+json": {
       "model_id": "b0a73eb98c6d41ec9dbda01145c0104e",
       "version_major": 2,
       "version_minor": 0
      },
      "text/plain": [
       "  0%|          | 0/2 [00:00<?, ?it/s]"
      ]
     },
     "metadata": {},
     "output_type": "display_data"
    },
    {
     "name": "stdout",
     "output_type": "stream",
     "text": [
      "  Saved in 0.32s\n",
      "Creating body.nii.gz\n",
      "Creating skin.nii.gz\n",
      "Segmenting Case1Pack phase 50\n",
      "\n",
      "If you use this tool please cite: https://pubs.rsna.org/doi/10.1148/ryai.230024\n",
      "\n",
      "Generating rough body segmentation...\n",
      "Resampling...\n",
      "  Resampled in 0.22s\n",
      "Predicting...\n"
     ]
    },
    {
     "name": "stderr",
     "output_type": "stream",
     "text": [
      "/ocean/projects/asc170022p/mtragoza/mambaforge/envs/lung-project/lib/python3.10/site-packages/nnunetv2/utilities/plans_handling/plans_handler.py:37: UserWarning: Detected old nnU-Net plans format. Attempting to reconstruct network architecture parameters. If this fails, rerun nnUNetv2_plan_experiment for your dataset. If you use a custom architecture, please downgrade nnU-Net to the version you implemented this or update your implementation + plans.\n",
      "  warnings.warn(\"Detected old nnU-Net plans format. Attempting to reconstruct network architecture \"\n",
      "100%|██████████| 1/1 [00:00<00:00, 96.64it/s]\n"
     ]
    },
    {
     "name": "stdout",
     "output_type": "stream",
     "text": [
      "  Predicted in 7.19s\n",
      "Resampling...\n",
      "  cropping from (256, 256, 94) to (256, 193, 94)\n",
      "Resampling...\n",
      "  Resampled in 1.16s\n",
      "Predicting part 1 of 1 ...\n"
     ]
    },
    {
     "name": "stderr",
     "output_type": "stream",
     "text": [
      "100%|██████████| 4/4 [00:00<00:00, 171.01it/s]\n"
     ]
    },
    {
     "name": "stdout",
     "output_type": "stream",
     "text": [
      "  Predicted in 8.74s\n",
      "Resampling...\n",
      "Saving segmentations...\n"
     ]
    },
    {
     "data": {
      "application/vnd.jupyter.widget-view+json": {
       "model_id": "69900ade80c346b1b1b5dddaa00be33a",
       "version_major": 2,
       "version_minor": 0
      },
      "text/plain": [
       "  0%|          | 0/5 [00:00<?, ?it/s]"
      ]
     },
     "metadata": {},
     "output_type": "display_data"
    },
    {
     "name": "stdout",
     "output_type": "stream",
     "text": [
      "  Saved in 0.65s\n",
      "\n",
      "If you use this tool please cite: https://pubs.rsna.org/doi/10.1148/ryai.230024\n",
      "\n",
      "Generating rough body segmentation...\n",
      "Resampling...\n",
      "  Resampled in 0.22s\n",
      "Predicting...\n"
     ]
    },
    {
     "name": "stderr",
     "output_type": "stream",
     "text": [
      "/ocean/projects/asc170022p/mtragoza/mambaforge/envs/lung-project/lib/python3.10/site-packages/nnunetv2/utilities/plans_handling/plans_handler.py:37: UserWarning: Detected old nnU-Net plans format. Attempting to reconstruct network architecture parameters. If this fails, rerun nnUNetv2_plan_experiment for your dataset. If you use a custom architecture, please downgrade nnU-Net to the version you implemented this or update your implementation + plans.\n",
      "  warnings.warn(\"Detected old nnU-Net plans format. Attempting to reconstruct network architecture \"\n",
      "100%|██████████| 1/1 [00:00<00:00, 83.63it/s]\n"
     ]
    },
    {
     "name": "stdout",
     "output_type": "stream",
     "text": [
      "  Predicted in 7.37s\n",
      "Resampling...\n",
      "  cropping from (256, 256, 94) to (256, 193, 94)\n",
      "Predicting...\n"
     ]
    },
    {
     "name": "stderr",
     "output_type": "stream",
     "text": [
      "100%|██████████| 48/48 [00:02<00:00, 18.26it/s]\n"
     ]
    },
    {
     "name": "stdout",
     "output_type": "stream",
     "text": [
      "  Predicted in 19.88s\n",
      "Saving segmentations...\n",
      "Creating lung_vessels.nii.gz\n"
     ]
    },
    {
     "data": {
      "application/vnd.jupyter.widget-view+json": {
       "model_id": "c49343d90b324e6c8388acd954ae0db2",
       "version_major": 2,
       "version_minor": 0
      },
      "text/plain": [
       "  0%|          | 0/2 [00:00<?, ?it/s]"
      ]
     },
     "metadata": {},
     "output_type": "display_data"
    },
    {
     "name": "stdout",
     "output_type": "stream",
     "text": [
      "Creating lung_trachea_bronchia.nii.gz\n",
      "  Saved in 0.46s\n",
      "\n",
      "If you use this tool please cite: https://pubs.rsna.org/doi/10.1148/ryai.230024\n",
      "\n",
      "Resampling...\n",
      "  Resampled in 1.57s\n",
      "Predicting...\n"
     ]
    },
    {
     "name": "stderr",
     "output_type": "stream",
     "text": [
      "/ocean/projects/asc170022p/mtragoza/mambaforge/envs/lung-project/lib/python3.10/site-packages/nnunetv2/utilities/plans_handling/plans_handler.py:37: UserWarning: Detected old nnU-Net plans format. Attempting to reconstruct network architecture parameters. If this fails, rerun nnUNetv2_plan_experiment for your dataset. If you use a custom architecture, please downgrade nnU-Net to the version you implemented this or update your implementation + plans.\n",
      "  warnings.warn(\"Detected old nnU-Net plans format. Attempting to reconstruct network architecture \"\n",
      "100%|██████████| 8/8 [00:00<00:00, 33.77it/s]\n"
     ]
    },
    {
     "name": "stdout",
     "output_type": "stream",
     "text": [
      "  Predicted in 8.52s\n"
     ]
    },
    {
     "name": "stderr",
     "output_type": "stream",
     "text": [
      "100%|██████████| 1/1 [00:00<00:00, 14.39it/s]\n",
      "100%|██████████| 1/1 [00:00<00:00, 17.71it/s]"
     ]
    },
    {
     "name": "stdout",
     "output_type": "stream",
     "text": [
      "Resampling...\n"
     ]
    },
    {
     "name": "stderr",
     "output_type": "stream",
     "text": [
      "\n"
     ]
    },
    {
     "name": "stdout",
     "output_type": "stream",
     "text": [
      "Saving segmentations...\n",
      "Creating body_trunc.nii.gz\n",
      "Creating body_extremities.nii.gz\n"
     ]
    },
    {
     "data": {
      "application/vnd.jupyter.widget-view+json": {
       "model_id": "bf15f89bd9e843f9a5c7605f02311924",
       "version_major": 2,
       "version_minor": 0
      },
      "text/plain": [
       "  0%|          | 0/2 [00:00<?, ?it/s]"
      ]
     },
     "metadata": {},
     "output_type": "display_data"
    },
    {
     "name": "stdout",
     "output_type": "stream",
     "text": [
      "  Saved in 0.34s\n",
      "Creating body.nii.gz\n",
      "Creating skin.nii.gz\n",
      "Segmenting Case1Pack phase 60\n",
      "\n",
      "If you use this tool please cite: https://pubs.rsna.org/doi/10.1148/ryai.230024\n",
      "\n",
      "Generating rough body segmentation...\n",
      "Resampling...\n",
      "  Resampled in 0.22s\n",
      "Predicting...\n"
     ]
    },
    {
     "name": "stderr",
     "output_type": "stream",
     "text": [
      "/ocean/projects/asc170022p/mtragoza/mambaforge/envs/lung-project/lib/python3.10/site-packages/nnunetv2/utilities/plans_handling/plans_handler.py:37: UserWarning: Detected old nnU-Net plans format. Attempting to reconstruct network architecture parameters. If this fails, rerun nnUNetv2_plan_experiment for your dataset. If you use a custom architecture, please downgrade nnU-Net to the version you implemented this or update your implementation + plans.\n",
      "  warnings.warn(\"Detected old nnU-Net plans format. Attempting to reconstruct network architecture \"\n",
      "100%|██████████| 1/1 [00:00<00:00, 86.48it/s]\n"
     ]
    },
    {
     "name": "stdout",
     "output_type": "stream",
     "text": [
      "  Predicted in 7.20s\n",
      "Resampling...\n",
      "  cropping from (256, 256, 94) to (256, 193, 94)\n",
      "Resampling...\n",
      "  Resampled in 1.16s\n",
      "Predicting part 1 of 1 ...\n"
     ]
    },
    {
     "name": "stderr",
     "output_type": "stream",
     "text": [
      "100%|██████████| 4/4 [00:00<00:00, 169.84it/s]\n"
     ]
    },
    {
     "name": "stdout",
     "output_type": "stream",
     "text": [
      "  Predicted in 8.49s\n",
      "Resampling...\n",
      "Saving segmentations...\n"
     ]
    },
    {
     "data": {
      "application/vnd.jupyter.widget-view+json": {
       "model_id": "ed6e694eb4da403f8262847e8b6acf4c",
       "version_major": 2,
       "version_minor": 0
      },
      "text/plain": [
       "  0%|          | 0/5 [00:00<?, ?it/s]"
      ]
     },
     "metadata": {},
     "output_type": "display_data"
    },
    {
     "name": "stdout",
     "output_type": "stream",
     "text": [
      "  Saved in 0.54s\n",
      "\n",
      "If you use this tool please cite: https://pubs.rsna.org/doi/10.1148/ryai.230024\n",
      "\n",
      "Generating rough body segmentation...\n",
      "Resampling...\n",
      "  Resampled in 0.22s\n",
      "Predicting...\n"
     ]
    },
    {
     "name": "stderr",
     "output_type": "stream",
     "text": [
      "/ocean/projects/asc170022p/mtragoza/mambaforge/envs/lung-project/lib/python3.10/site-packages/nnunetv2/utilities/plans_handling/plans_handler.py:37: UserWarning: Detected old nnU-Net plans format. Attempting to reconstruct network architecture parameters. If this fails, rerun nnUNetv2_plan_experiment for your dataset. If you use a custom architecture, please downgrade nnU-Net to the version you implemented this or update your implementation + plans.\n",
      "  warnings.warn(\"Detected old nnU-Net plans format. Attempting to reconstruct network architecture \"\n",
      "100%|██████████| 1/1 [00:00<00:00, 85.50it/s]\n"
     ]
    },
    {
     "name": "stdout",
     "output_type": "stream",
     "text": [
      "  Predicted in 7.08s\n",
      "Resampling...\n",
      "  cropping from (256, 256, 94) to (256, 193, 94)\n",
      "Predicting...\n"
     ]
    },
    {
     "name": "stderr",
     "output_type": "stream",
     "text": [
      "100%|██████████| 48/48 [00:02<00:00, 18.24it/s]\n"
     ]
    },
    {
     "name": "stdout",
     "output_type": "stream",
     "text": [
      "  Predicted in 19.96s\n",
      "Saving segmentations...\n",
      "Creating lung_vessels.nii.gz\n",
      "Creating lung_trachea_bronchia.nii.gz\n"
     ]
    },
    {
     "data": {
      "application/vnd.jupyter.widget-view+json": {
       "model_id": "0425ff0565c44917938aa0f02f7afd12",
       "version_major": 2,
       "version_minor": 0
      },
      "text/plain": [
       "  0%|          | 0/2 [00:00<?, ?it/s]"
      ]
     },
     "metadata": {},
     "output_type": "display_data"
    },
    {
     "name": "stdout",
     "output_type": "stream",
     "text": [
      "  Saved in 0.50s\n",
      "\n",
      "If you use this tool please cite: https://pubs.rsna.org/doi/10.1148/ryai.230024\n",
      "\n",
      "Resampling...\n",
      "  Resampled in 1.57s\n",
      "Predicting...\n"
     ]
    },
    {
     "name": "stderr",
     "output_type": "stream",
     "text": [
      "/ocean/projects/asc170022p/mtragoza/mambaforge/envs/lung-project/lib/python3.10/site-packages/nnunetv2/utilities/plans_handling/plans_handler.py:37: UserWarning: Detected old nnU-Net plans format. Attempting to reconstruct network architecture parameters. If this fails, rerun nnUNetv2_plan_experiment for your dataset. If you use a custom architecture, please downgrade nnU-Net to the version you implemented this or update your implementation + plans.\n",
      "  warnings.warn(\"Detected old nnU-Net plans format. Attempting to reconstruct network architecture \"\n",
      "100%|██████████| 8/8 [00:00<00:00, 33.97it/s]\n"
     ]
    },
    {
     "name": "stdout",
     "output_type": "stream",
     "text": [
      "  Predicted in 8.49s\n"
     ]
    },
    {
     "name": "stderr",
     "output_type": "stream",
     "text": [
      "100%|██████████| 1/1 [00:00<00:00, 14.38it/s]\n",
      "100%|██████████| 1/1 [00:00<00:00, 17.52it/s]"
     ]
    },
    {
     "name": "stdout",
     "output_type": "stream",
     "text": [
      "Resampling...\n"
     ]
    },
    {
     "name": "stderr",
     "output_type": "stream",
     "text": [
      "\n"
     ]
    },
    {
     "name": "stdout",
     "output_type": "stream",
     "text": [
      "Saving segmentations...\n",
      "Creating body_trunc.nii.gz\n",
      "Creating body_extremities.nii.gz\n"
     ]
    },
    {
     "data": {
      "application/vnd.jupyter.widget-view+json": {
       "model_id": "11f10cfb692649f4b2a1901669c25890",
       "version_major": 2,
       "version_minor": 0
      },
      "text/plain": [
       "  0%|          | 0/2 [00:00<?, ?it/s]"
      ]
     },
     "metadata": {},
     "output_type": "display_data"
    },
    {
     "name": "stdout",
     "output_type": "stream",
     "text": [
      "  Saved in 0.48s\n",
      "Creating body.nii.gz\n",
      "Creating skin.nii.gz\n",
      "Segmenting Case1Pack phase 70\n",
      "\n",
      "If you use this tool please cite: https://pubs.rsna.org/doi/10.1148/ryai.230024\n",
      "\n",
      "Generating rough body segmentation...\n",
      "Resampling...\n",
      "  Resampled in 0.22s\n",
      "Predicting...\n"
     ]
    },
    {
     "name": "stderr",
     "output_type": "stream",
     "text": [
      "/ocean/projects/asc170022p/mtragoza/mambaforge/envs/lung-project/lib/python3.10/site-packages/nnunetv2/utilities/plans_handling/plans_handler.py:37: UserWarning: Detected old nnU-Net plans format. Attempting to reconstruct network architecture parameters. If this fails, rerun nnUNetv2_plan_experiment for your dataset. If you use a custom architecture, please downgrade nnU-Net to the version you implemented this or update your implementation + plans.\n",
      "  warnings.warn(\"Detected old nnU-Net plans format. Attempting to reconstruct network architecture \"\n",
      "100%|██████████| 1/1 [00:00<00:00, 95.49it/s]\n"
     ]
    },
    {
     "name": "stdout",
     "output_type": "stream",
     "text": [
      "  Predicted in 7.10s\n",
      "Resampling...\n",
      "  cropping from (256, 256, 94) to (256, 193, 94)\n",
      "Resampling...\n",
      "  Resampled in 1.15s\n",
      "Predicting part 1 of 1 ...\n"
     ]
    },
    {
     "name": "stderr",
     "output_type": "stream",
     "text": [
      "100%|██████████| 4/4 [00:00<00:00, 171.18it/s]\n"
     ]
    },
    {
     "name": "stdout",
     "output_type": "stream",
     "text": [
      "  Predicted in 8.68s\n",
      "Resampling...\n",
      "Saving segmentations...\n"
     ]
    },
    {
     "data": {
      "application/vnd.jupyter.widget-view+json": {
       "model_id": "c0e4cdfd2d35469c8e4e2604ad2938ff",
       "version_major": 2,
       "version_minor": 0
      },
      "text/plain": [
       "  0%|          | 0/5 [00:00<?, ?it/s]"
      ]
     },
     "metadata": {},
     "output_type": "display_data"
    },
    {
     "name": "stdout",
     "output_type": "stream",
     "text": [
      "  Saved in 0.55s\n",
      "\n",
      "If you use this tool please cite: https://pubs.rsna.org/doi/10.1148/ryai.230024\n",
      "\n",
      "Generating rough body segmentation...\n",
      "Resampling...\n",
      "  Resampled in 0.22s\n",
      "Predicting...\n"
     ]
    },
    {
     "name": "stderr",
     "output_type": "stream",
     "text": [
      "/ocean/projects/asc170022p/mtragoza/mambaforge/envs/lung-project/lib/python3.10/site-packages/nnunetv2/utilities/plans_handling/plans_handler.py:37: UserWarning: Detected old nnU-Net plans format. Attempting to reconstruct network architecture parameters. If this fails, rerun nnUNetv2_plan_experiment for your dataset. If you use a custom architecture, please downgrade nnU-Net to the version you implemented this or update your implementation + plans.\n",
      "  warnings.warn(\"Detected old nnU-Net plans format. Attempting to reconstruct network architecture \"\n",
      "100%|██████████| 1/1 [00:00<00:00, 93.14it/s]\n"
     ]
    },
    {
     "name": "stdout",
     "output_type": "stream",
     "text": [
      "  Predicted in 7.09s\n",
      "Resampling...\n",
      "  cropping from (256, 256, 94) to (256, 193, 94)\n",
      "Predicting...\n"
     ]
    },
    {
     "name": "stderr",
     "output_type": "stream",
     "text": [
      "100%|██████████| 48/48 [00:02<00:00, 18.23it/s]\n"
     ]
    },
    {
     "name": "stdout",
     "output_type": "stream",
     "text": [
      "  Predicted in 19.90s\n",
      "Saving segmentations...\n",
      "Creating lung_vessels.nii.gz\n",
      "Creating lung_trachea_bronchia.nii.gz\n"
     ]
    },
    {
     "data": {
      "application/vnd.jupyter.widget-view+json": {
       "model_id": "b71a1cdd6fc545c3b1eb4bec04a26252",
       "version_major": 2,
       "version_minor": 0
      },
      "text/plain": [
       "  0%|          | 0/2 [00:00<?, ?it/s]"
      ]
     },
     "metadata": {},
     "output_type": "display_data"
    },
    {
     "name": "stdout",
     "output_type": "stream",
     "text": [
      "  Saved in 0.47s\n",
      "\n",
      "If you use this tool please cite: https://pubs.rsna.org/doi/10.1148/ryai.230024\n",
      "\n",
      "Resampling...\n",
      "  Resampled in 1.57s\n",
      "Predicting...\n"
     ]
    },
    {
     "name": "stderr",
     "output_type": "stream",
     "text": [
      "/ocean/projects/asc170022p/mtragoza/mambaforge/envs/lung-project/lib/python3.10/site-packages/nnunetv2/utilities/plans_handling/plans_handler.py:37: UserWarning: Detected old nnU-Net plans format. Attempting to reconstruct network architecture parameters. If this fails, rerun nnUNetv2_plan_experiment for your dataset. If you use a custom architecture, please downgrade nnU-Net to the version you implemented this or update your implementation + plans.\n",
      "  warnings.warn(\"Detected old nnU-Net plans format. Attempting to reconstruct network architecture \"\n",
      "100%|██████████| 8/8 [00:00<00:00, 34.26it/s]\n"
     ]
    },
    {
     "name": "stdout",
     "output_type": "stream",
     "text": [
      "  Predicted in 8.65s\n"
     ]
    },
    {
     "name": "stderr",
     "output_type": "stream",
     "text": [
      "100%|██████████| 1/1 [00:00<00:00, 14.56it/s]\n",
      "100%|██████████| 1/1 [00:00<00:00, 17.61it/s]"
     ]
    },
    {
     "name": "stdout",
     "output_type": "stream",
     "text": [
      "Resampling...\n"
     ]
    },
    {
     "name": "stderr",
     "output_type": "stream",
     "text": [
      "\n"
     ]
    },
    {
     "name": "stdout",
     "output_type": "stream",
     "text": [
      "Saving segmentations...\n",
      "Creating body_trunc.nii.gz\n",
      "Creating body_extremities.nii.gz\n"
     ]
    },
    {
     "data": {
      "application/vnd.jupyter.widget-view+json": {
       "model_id": "1a8d47feeee141c6ba5d9b7123d58a56",
       "version_major": 2,
       "version_minor": 0
      },
      "text/plain": [
       "  0%|          | 0/2 [00:00<?, ?it/s]"
      ]
     },
     "metadata": {},
     "output_type": "display_data"
    },
    {
     "name": "stdout",
     "output_type": "stream",
     "text": [
      "  Saved in 0.33s\n",
      "Creating body.nii.gz\n",
      "Creating skin.nii.gz\n",
      "Segmenting Case1Pack phase 80\n",
      "\n",
      "If you use this tool please cite: https://pubs.rsna.org/doi/10.1148/ryai.230024\n",
      "\n",
      "Generating rough body segmentation...\n",
      "Resampling...\n",
      "  Resampled in 0.22s\n",
      "Predicting...\n"
     ]
    },
    {
     "name": "stderr",
     "output_type": "stream",
     "text": [
      "/ocean/projects/asc170022p/mtragoza/mambaforge/envs/lung-project/lib/python3.10/site-packages/nnunetv2/utilities/plans_handling/plans_handler.py:37: UserWarning: Detected old nnU-Net plans format. Attempting to reconstruct network architecture parameters. If this fails, rerun nnUNetv2_plan_experiment for your dataset. If you use a custom architecture, please downgrade nnU-Net to the version you implemented this or update your implementation + plans.\n",
      "  warnings.warn(\"Detected old nnU-Net plans format. Attempting to reconstruct network architecture \"\n",
      "100%|██████████| 1/1 [00:00<00:00, 102.73it/s]\n"
     ]
    },
    {
     "name": "stdout",
     "output_type": "stream",
     "text": [
      "  Predicted in 7.23s\n",
      "Resampling...\n",
      "  cropping from (256, 256, 94) to (256, 193, 94)\n",
      "Resampling...\n",
      "  Resampled in 1.16s\n",
      "Predicting part 1 of 1 ...\n"
     ]
    },
    {
     "name": "stderr",
     "output_type": "stream",
     "text": [
      "100%|██████████| 4/4 [00:00<00:00, 169.63it/s]\n"
     ]
    },
    {
     "name": "stdout",
     "output_type": "stream",
     "text": [
      "  Predicted in 8.53s\n",
      "Resampling...\n",
      "Saving segmentations...\n"
     ]
    },
    {
     "data": {
      "application/vnd.jupyter.widget-view+json": {
       "model_id": "f7a57cf5d00d40a3ab1de6de8a8eadc7",
       "version_major": 2,
       "version_minor": 0
      },
      "text/plain": [
       "  0%|          | 0/5 [00:00<?, ?it/s]"
      ]
     },
     "metadata": {},
     "output_type": "display_data"
    },
    {
     "name": "stdout",
     "output_type": "stream",
     "text": [
      "  Saved in 0.58s\n",
      "\n",
      "If you use this tool please cite: https://pubs.rsna.org/doi/10.1148/ryai.230024\n",
      "\n",
      "Generating rough body segmentation...\n",
      "Resampling...\n",
      "  Resampled in 0.22s\n",
      "Predicting...\n"
     ]
    },
    {
     "name": "stderr",
     "output_type": "stream",
     "text": [
      "/ocean/projects/asc170022p/mtragoza/mambaforge/envs/lung-project/lib/python3.10/site-packages/nnunetv2/utilities/plans_handling/plans_handler.py:37: UserWarning: Detected old nnU-Net plans format. Attempting to reconstruct network architecture parameters. If this fails, rerun nnUNetv2_plan_experiment for your dataset. If you use a custom architecture, please downgrade nnU-Net to the version you implemented this or update your implementation + plans.\n",
      "  warnings.warn(\"Detected old nnU-Net plans format. Attempting to reconstruct network architecture \"\n",
      "100%|██████████| 1/1 [00:00<00:00, 109.10it/s]\n"
     ]
    },
    {
     "name": "stdout",
     "output_type": "stream",
     "text": [
      "  Predicted in 7.25s\n",
      "Resampling...\n",
      "  cropping from (256, 256, 94) to (256, 193, 94)\n",
      "Predicting...\n"
     ]
    },
    {
     "name": "stderr",
     "output_type": "stream",
     "text": [
      "100%|██████████| 48/48 [00:02<00:00, 18.27it/s]\n"
     ]
    },
    {
     "name": "stdout",
     "output_type": "stream",
     "text": [
      "  Predicted in 19.93s\n",
      "Saving segmentations...\n",
      "Creating lung_vessels.nii.gz"
     ]
    },
    {
     "data": {
      "application/vnd.jupyter.widget-view+json": {
       "model_id": "97a0959841014a4abc0d6ad6b7a2519c",
       "version_major": 2,
       "version_minor": 0
      },
      "text/plain": [
       "  0%|          | 0/2 [00:00<?, ?it/s]"
      ]
     },
     "metadata": {},
     "output_type": "display_data"
    },
    {
     "name": "stdout",
     "output_type": "stream",
     "text": [
      "\n",
      "Creating lung_trachea_bronchia.nii.gz\n",
      "  Saved in 0.51s\n",
      "\n",
      "If you use this tool please cite: https://pubs.rsna.org/doi/10.1148/ryai.230024\n",
      "\n",
      "Resampling...\n",
      "  Resampled in 1.57s\n",
      "Predicting...\n"
     ]
    },
    {
     "name": "stderr",
     "output_type": "stream",
     "text": [
      "/ocean/projects/asc170022p/mtragoza/mambaforge/envs/lung-project/lib/python3.10/site-packages/nnunetv2/utilities/plans_handling/plans_handler.py:37: UserWarning: Detected old nnU-Net plans format. Attempting to reconstruct network architecture parameters. If this fails, rerun nnUNetv2_plan_experiment for your dataset. If you use a custom architecture, please downgrade nnU-Net to the version you implemented this or update your implementation + plans.\n",
      "  warnings.warn(\"Detected old nnU-Net plans format. Attempting to reconstruct network architecture \"\n",
      "100%|██████████| 8/8 [00:00<00:00, 33.91it/s]\n"
     ]
    },
    {
     "name": "stdout",
     "output_type": "stream",
     "text": [
      "  Predicted in 8.65s\n"
     ]
    },
    {
     "name": "stderr",
     "output_type": "stream",
     "text": [
      "100%|██████████| 1/1 [00:00<00:00, 14.53it/s]\n",
      "100%|██████████| 1/1 [00:00<00:00, 17.66it/s]"
     ]
    },
    {
     "name": "stdout",
     "output_type": "stream",
     "text": [
      "Resampling...\n"
     ]
    },
    {
     "name": "stderr",
     "output_type": "stream",
     "text": [
      "\n"
     ]
    },
    {
     "name": "stdout",
     "output_type": "stream",
     "text": [
      "Saving segmentations...\n",
      "Creating body_trunc.nii.gz\n",
      "Creating body_extremities.nii.gz"
     ]
    },
    {
     "data": {
      "application/vnd.jupyter.widget-view+json": {
       "model_id": "23d8d3b9ae4d420ea7096d9ba17f533d",
       "version_major": 2,
       "version_minor": 0
      },
      "text/plain": [
       "  0%|          | 0/2 [00:00<?, ?it/s]"
      ]
     },
     "metadata": {},
     "output_type": "display_data"
    },
    {
     "name": "stdout",
     "output_type": "stream",
     "text": [
      "\n",
      "  Saved in 0.32s\n",
      "Creating body.nii.gz\n",
      "Creating skin.nii.gz\n",
      "Segmenting Case1Pack phase 90\n",
      "\n",
      "If you use this tool please cite: https://pubs.rsna.org/doi/10.1148/ryai.230024\n",
      "\n",
      "Generating rough body segmentation...\n",
      "Resampling...\n",
      "  Resampled in 0.22s\n",
      "Predicting...\n"
     ]
    },
    {
     "name": "stderr",
     "output_type": "stream",
     "text": [
      "/ocean/projects/asc170022p/mtragoza/mambaforge/envs/lung-project/lib/python3.10/site-packages/nnunetv2/utilities/plans_handling/plans_handler.py:37: UserWarning: Detected old nnU-Net plans format. Attempting to reconstruct network architecture parameters. If this fails, rerun nnUNetv2_plan_experiment for your dataset. If you use a custom architecture, please downgrade nnU-Net to the version you implemented this or update your implementation + plans.\n",
      "  warnings.warn(\"Detected old nnU-Net plans format. Attempting to reconstruct network architecture \"\n",
      "100%|██████████| 1/1 [00:00<00:00, 106.30it/s]\n"
     ]
    },
    {
     "name": "stdout",
     "output_type": "stream",
     "text": [
      "  Predicted in 7.17s\n",
      "Resampling...\n",
      "  cropping from (256, 256, 94) to (256, 193, 94)\n",
      "Resampling...\n",
      "  Resampled in 1.15s\n",
      "Predicting part 1 of 1 ...\n"
     ]
    },
    {
     "name": "stderr",
     "output_type": "stream",
     "text": [
      "100%|██████████| 4/4 [00:00<00:00, 171.04it/s]\n"
     ]
    },
    {
     "name": "stdout",
     "output_type": "stream",
     "text": [
      "  Predicted in 8.68s\n",
      "Resampling...\n",
      "Saving segmentations...\n"
     ]
    },
    {
     "data": {
      "application/vnd.jupyter.widget-view+json": {
       "model_id": "f62fe1818d5d4ab496883d072adcf21d",
       "version_major": 2,
       "version_minor": 0
      },
      "text/plain": [
       "  0%|          | 0/5 [00:00<?, ?it/s]"
      ]
     },
     "metadata": {},
     "output_type": "display_data"
    },
    {
     "name": "stdout",
     "output_type": "stream",
     "text": [
      "  Saved in 0.56s\n",
      "\n",
      "If you use this tool please cite: https://pubs.rsna.org/doi/10.1148/ryai.230024\n",
      "\n",
      "Generating rough body segmentation...\n",
      "Resampling...\n",
      "  Resampled in 0.22s\n",
      "Predicting...\n"
     ]
    },
    {
     "name": "stderr",
     "output_type": "stream",
     "text": [
      "/ocean/projects/asc170022p/mtragoza/mambaforge/envs/lung-project/lib/python3.10/site-packages/nnunetv2/utilities/plans_handling/plans_handler.py:37: UserWarning: Detected old nnU-Net plans format. Attempting to reconstruct network architecture parameters. If this fails, rerun nnUNetv2_plan_experiment for your dataset. If you use a custom architecture, please downgrade nnU-Net to the version you implemented this or update your implementation + plans.\n",
      "  warnings.warn(\"Detected old nnU-Net plans format. Attempting to reconstruct network architecture \"\n",
      "100%|██████████| 1/1 [00:00<00:00, 107.13it/s]\n"
     ]
    },
    {
     "name": "stdout",
     "output_type": "stream",
     "text": [
      "  Predicted in 7.11s\n",
      "Resampling...\n",
      "  cropping from (256, 256, 94) to (256, 193, 94)\n",
      "Predicting...\n"
     ]
    },
    {
     "name": "stderr",
     "output_type": "stream",
     "text": [
      "100%|██████████| 48/48 [00:02<00:00, 18.24it/s]\n"
     ]
    },
    {
     "name": "stdout",
     "output_type": "stream",
     "text": [
      "  Predicted in 20.01s\n",
      "Saving segmentations...\n"
     ]
    },
    {
     "data": {
      "application/vnd.jupyter.widget-view+json": {
       "model_id": "6e75f3df51c2459e8b88f529e37e7ed0",
       "version_major": 2,
       "version_minor": 0
      },
      "text/plain": [
       "  0%|          | 0/2 [00:00<?, ?it/s]"
      ]
     },
     "metadata": {},
     "output_type": "display_data"
    },
    {
     "name": "stdout",
     "output_type": "stream",
     "text": [
      "Creating lung_vessels.nii.gzCreating lung_trachea_bronchia.nii.gz\n",
      "\n",
      "  Saved in 0.55s\n",
      "\n",
      "If you use this tool please cite: https://pubs.rsna.org/doi/10.1148/ryai.230024\n",
      "\n",
      "Resampling...\n",
      "  Resampled in 1.58s\n",
      "Predicting...\n"
     ]
    },
    {
     "name": "stderr",
     "output_type": "stream",
     "text": [
      "/ocean/projects/asc170022p/mtragoza/mambaforge/envs/lung-project/lib/python3.10/site-packages/nnunetv2/utilities/plans_handling/plans_handler.py:37: UserWarning: Detected old nnU-Net plans format. Attempting to reconstruct network architecture parameters. If this fails, rerun nnUNetv2_plan_experiment for your dataset. If you use a custom architecture, please downgrade nnU-Net to the version you implemented this or update your implementation + plans.\n",
      "  warnings.warn(\"Detected old nnU-Net plans format. Attempting to reconstruct network architecture \"\n",
      "100%|██████████| 8/8 [00:00<00:00, 33.13it/s]\n"
     ]
    },
    {
     "name": "stdout",
     "output_type": "stream",
     "text": [
      "  Predicted in 8.73s\n"
     ]
    },
    {
     "name": "stderr",
     "output_type": "stream",
     "text": [
      "100%|██████████| 1/1 [00:00<00:00, 14.09it/s]\n",
      "100%|██████████| 1/1 [00:00<00:00, 17.17it/s]"
     ]
    },
    {
     "name": "stdout",
     "output_type": "stream",
     "text": [
      "Resampling...\n"
     ]
    },
    {
     "name": "stderr",
     "output_type": "stream",
     "text": [
      "\n"
     ]
    },
    {
     "name": "stdout",
     "output_type": "stream",
     "text": [
      "Saving segmentations...\n",
      "Creating body_trunc.nii.gz\n",
      "Creating body_extremities.nii.gz"
     ]
    },
    {
     "data": {
      "application/vnd.jupyter.widget-view+json": {
       "model_id": "643178c74ba14c9c91993c45fd5d2593",
       "version_major": 2,
       "version_minor": 0
      },
      "text/plain": [
       "  0%|          | 0/2 [00:00<?, ?it/s]"
      ]
     },
     "metadata": {},
     "output_type": "display_data"
    },
    {
     "name": "stdout",
     "output_type": "stream",
     "text": [
      "\n",
      "  Saved in 0.36s\n",
      "Creating body.nii.gz\n",
      "Creating skin.nii.gz\n",
      "Segmenting Case2Pack phase 0\n",
      "\n",
      "If you use this tool please cite: https://pubs.rsna.org/doi/10.1148/ryai.230024\n",
      "\n",
      "Generating rough body segmentation...\n",
      "Resampling...\n",
      "  Resampled in 0.24s\n",
      "Predicting...\n"
     ]
    },
    {
     "name": "stderr",
     "output_type": "stream",
     "text": [
      "/ocean/projects/asc170022p/mtragoza/mambaforge/envs/lung-project/lib/python3.10/site-packages/nnunetv2/utilities/plans_handling/plans_handler.py:37: UserWarning: Detected old nnU-Net plans format. Attempting to reconstruct network architecture parameters. If this fails, rerun nnUNetv2_plan_experiment for your dataset. If you use a custom architecture, please downgrade nnU-Net to the version you implemented this or update your implementation + plans.\n",
      "  warnings.warn(\"Detected old nnU-Net plans format. Attempting to reconstruct network architecture \"\n",
      "100%|██████████| 1/1 [00:00<00:00, 82.23it/s]\n"
     ]
    },
    {
     "name": "stdout",
     "output_type": "stream",
     "text": [
      "  Predicted in 7.33s\n",
      "Resampling...\n",
      "  cropping from (256, 256, 94) to (256, 204, 94)\n",
      "Resampling...\n",
      "  Resampled in 1.97s\n",
      "Predicting part 1 of 1 ...\n"
     ]
    },
    {
     "name": "stderr",
     "output_type": "stream",
     "text": [
      "100%|██████████| 8/8 [00:00<00:00, 32.13it/s]\n"
     ]
    },
    {
     "name": "stdout",
     "output_type": "stream",
     "text": [
      "  Predicted in 9.63s\n",
      "Resampling...\n",
      "Saving segmentations...\n"
     ]
    },
    {
     "data": {
      "application/vnd.jupyter.widget-view+json": {
       "model_id": "ee584e2a67f74091a7bc6cd5dae35eff",
       "version_major": 2,
       "version_minor": 0
      },
      "text/plain": [
       "  0%|          | 0/5 [00:00<?, ?it/s]"
      ]
     },
     "metadata": {},
     "output_type": "display_data"
    },
    {
     "name": "stdout",
     "output_type": "stream",
     "text": [
      "  Saved in 0.55s\n",
      "\n",
      "If you use this tool please cite: https://pubs.rsna.org/doi/10.1148/ryai.230024\n",
      "\n",
      "Generating rough body segmentation...\n",
      "Resampling...\n",
      "  Resampled in 0.24s\n",
      "Predicting...\n"
     ]
    },
    {
     "name": "stderr",
     "output_type": "stream",
     "text": [
      "/ocean/projects/asc170022p/mtragoza/mambaforge/envs/lung-project/lib/python3.10/site-packages/nnunetv2/utilities/plans_handling/plans_handler.py:37: UserWarning: Detected old nnU-Net plans format. Attempting to reconstruct network architecture parameters. If this fails, rerun nnUNetv2_plan_experiment for your dataset. If you use a custom architecture, please downgrade nnU-Net to the version you implemented this or update your implementation + plans.\n",
      "  warnings.warn(\"Detected old nnU-Net plans format. Attempting to reconstruct network architecture \"\n",
      "100%|██████████| 1/1 [00:00<00:00, 81.67it/s]\n"
     ]
    },
    {
     "name": "stdout",
     "output_type": "stream",
     "text": [
      "  Predicted in 7.21s\n",
      "Resampling...\n",
      "  cropping from (256, 256, 94) to (256, 204, 94)\n",
      "Predicting...\n"
     ]
    },
    {
     "name": "stderr",
     "output_type": "stream",
     "text": [
      "100%|██████████| 80/80 [00:04<00:00, 17.64it/s]\n"
     ]
    },
    {
     "name": "stdout",
     "output_type": "stream",
     "text": [
      "  Predicted in 28.31s\n",
      "Saving segmentations...\n",
      "Creating lung_vessels.nii.gz\n",
      "\n"
     ]
    },
    {
     "data": {
      "application/vnd.jupyter.widget-view+json": {
       "model_id": "61f314cac24240baac40ed5155bc88b9",
       "version_major": 2,
       "version_minor": 0
      },
      "text/plain": [
       "  0%|          | 0/2 [00:00<?, ?it/s]"
      ]
     },
     "metadata": {},
     "output_type": "display_data"
    },
    {
     "name": "stdout",
     "output_type": "stream",
     "text": [
      "Creating lung_trachea_bronchia.nii.gz  Saved in 0.46s\n",
      "\n",
      "If you use this tool please cite: https://pubs.rsna.org/doi/10.1148/ryai.230024\n",
      "\n",
      "Resampling...\n",
      "  Resampled in 2.53s\n",
      "Predicting...\n"
     ]
    },
    {
     "name": "stderr",
     "output_type": "stream",
     "text": [
      "/ocean/projects/asc170022p/mtragoza/mambaforge/envs/lung-project/lib/python3.10/site-packages/nnunetv2/utilities/plans_handling/plans_handler.py:37: UserWarning: Detected old nnU-Net plans format. Attempting to reconstruct network architecture parameters. If this fails, rerun nnUNetv2_plan_experiment for your dataset. If you use a custom architecture, please downgrade nnU-Net to the version you implemented this or update your implementation + plans.\n",
      "  warnings.warn(\"Detected old nnU-Net plans format. Attempting to reconstruct network architecture \"\n",
      "100%|██████████| 18/18 [00:00<00:00, 23.05it/s]\n"
     ]
    },
    {
     "name": "stdout",
     "output_type": "stream",
     "text": [
      "  Predicted in 9.80s\n"
     ]
    },
    {
     "name": "stderr",
     "output_type": "stream",
     "text": [
      "100%|██████████| 1/1 [00:00<00:00,  7.88it/s]\n",
      "100%|██████████| 1/1 [00:00<00:00,  8.29it/s]\n"
     ]
    },
    {
     "name": "stdout",
     "output_type": "stream",
     "text": [
      "Resampling...\n",
      "Saving segmentations...\n",
      "Creating body_trunc.nii.gz\n",
      "Creating body_extremities.nii.gz\n"
     ]
    },
    {
     "data": {
      "application/vnd.jupyter.widget-view+json": {
       "model_id": "01346758dcee498391d9d9c2f9cea36d",
       "version_major": 2,
       "version_minor": 0
      },
      "text/plain": [
       "  0%|          | 0/2 [00:00<?, ?it/s]"
      ]
     },
     "metadata": {},
     "output_type": "display_data"
    },
    {
     "name": "stdout",
     "output_type": "stream",
     "text": [
      "  Saved in 0.40s\n",
      "Creating body.nii.gz\n",
      "Creating skin.nii.gz\n",
      "Segmenting Case2Pack phase 10\n",
      "\n",
      "If you use this tool please cite: https://pubs.rsna.org/doi/10.1148/ryai.230024\n",
      "\n",
      "Generating rough body segmentation...\n",
      "Resampling...\n",
      "  Resampled in 0.24s\n",
      "Predicting...\n"
     ]
    },
    {
     "name": "stderr",
     "output_type": "stream",
     "text": [
      "/ocean/projects/asc170022p/mtragoza/mambaforge/envs/lung-project/lib/python3.10/site-packages/nnunetv2/utilities/plans_handling/plans_handler.py:37: UserWarning: Detected old nnU-Net plans format. Attempting to reconstruct network architecture parameters. If this fails, rerun nnUNetv2_plan_experiment for your dataset. If you use a custom architecture, please downgrade nnU-Net to the version you implemented this or update your implementation + plans.\n",
      "  warnings.warn(\"Detected old nnU-Net plans format. Attempting to reconstruct network architecture \"\n",
      "100%|██████████| 1/1 [00:00<00:00, 80.31it/s]\n"
     ]
    },
    {
     "name": "stdout",
     "output_type": "stream",
     "text": [
      "  Predicted in 7.19s\n",
      "Resampling...\n",
      "  cropping from (256, 256, 94) to (256, 204, 94)\n",
      "Resampling...\n",
      "  Resampled in 1.97s\n",
      "Predicting part 1 of 1 ...\n"
     ]
    },
    {
     "name": "stderr",
     "output_type": "stream",
     "text": [
      "100%|██████████| 8/8 [00:00<00:00, 32.66it/s]\n"
     ]
    },
    {
     "name": "stdout",
     "output_type": "stream",
     "text": [
      "  Predicted in 9.58s\n",
      "Resampling...\n",
      "Saving segmentations...\n"
     ]
    },
    {
     "data": {
      "application/vnd.jupyter.widget-view+json": {
       "model_id": "921cde7fa08c4849a0d252366bd52aa1",
       "version_major": 2,
       "version_minor": 0
      },
      "text/plain": [
       "  0%|          | 0/5 [00:00<?, ?it/s]"
      ]
     },
     "metadata": {},
     "output_type": "display_data"
    },
    {
     "name": "stdout",
     "output_type": "stream",
     "text": [
      "  Saved in 0.57s\n",
      "\n",
      "If you use this tool please cite: https://pubs.rsna.org/doi/10.1148/ryai.230024\n",
      "\n",
      "Generating rough body segmentation...\n",
      "Resampling...\n",
      "  Resampled in 0.24s\n",
      "Predicting...\n"
     ]
    },
    {
     "name": "stderr",
     "output_type": "stream",
     "text": [
      "/ocean/projects/asc170022p/mtragoza/mambaforge/envs/lung-project/lib/python3.10/site-packages/nnunetv2/utilities/plans_handling/plans_handler.py:37: UserWarning: Detected old nnU-Net plans format. Attempting to reconstruct network architecture parameters. If this fails, rerun nnUNetv2_plan_experiment for your dataset. If you use a custom architecture, please downgrade nnU-Net to the version you implemented this or update your implementation + plans.\n",
      "  warnings.warn(\"Detected old nnU-Net plans format. Attempting to reconstruct network architecture \"\n",
      "100%|██████████| 1/1 [00:00<00:00, 111.22it/s]\n"
     ]
    },
    {
     "name": "stdout",
     "output_type": "stream",
     "text": [
      "  Predicted in 7.25s\n",
      "Resampling...\n",
      "  cropping from (256, 256, 94) to (256, 204, 94)\n",
      "Predicting...\n"
     ]
    },
    {
     "name": "stderr",
     "output_type": "stream",
     "text": [
      "100%|██████████| 80/80 [00:04<00:00, 17.63it/s]\n"
     ]
    },
    {
     "name": "stdout",
     "output_type": "stream",
     "text": [
      "  Predicted in 28.16s\n",
      "Saving segmentations...\n",
      "Creating lung_vessels.nii.gz\n",
      "\n",
      "Creating lung_trachea_bronchia.nii.gz"
     ]
    },
    {
     "data": {
      "application/vnd.jupyter.widget-view+json": {
       "model_id": "2314c80d49914811bf9717f0ec5b5712",
       "version_major": 2,
       "version_minor": 0
      },
      "text/plain": [
       "  0%|          | 0/2 [00:00<?, ?it/s]"
      ]
     },
     "metadata": {},
     "output_type": "display_data"
    },
    {
     "name": "stdout",
     "output_type": "stream",
     "text": [
      "  Saved in 0.47s\n",
      "\n",
      "If you use this tool please cite: https://pubs.rsna.org/doi/10.1148/ryai.230024\n",
      "\n",
      "Resampling...\n",
      "  Resampled in 2.53s\n",
      "Predicting...\n"
     ]
    },
    {
     "name": "stderr",
     "output_type": "stream",
     "text": [
      "/ocean/projects/asc170022p/mtragoza/mambaforge/envs/lung-project/lib/python3.10/site-packages/nnunetv2/utilities/plans_handling/plans_handler.py:37: UserWarning: Detected old nnU-Net plans format. Attempting to reconstruct network architecture parameters. If this fails, rerun nnUNetv2_plan_experiment for your dataset. If you use a custom architecture, please downgrade nnU-Net to the version you implemented this or update your implementation + plans.\n",
      "  warnings.warn(\"Detected old nnU-Net plans format. Attempting to reconstruct network architecture \"\n",
      "100%|██████████| 18/18 [00:00<00:00, 23.13it/s]\n"
     ]
    },
    {
     "name": "stdout",
     "output_type": "stream",
     "text": [
      "  Predicted in 9.70s\n"
     ]
    },
    {
     "name": "stderr",
     "output_type": "stream",
     "text": [
      "100%|██████████| 1/1 [00:00<00:00,  7.83it/s]\n",
      "100%|██████████| 1/1 [00:00<00:00,  8.15it/s]\n"
     ]
    },
    {
     "name": "stdout",
     "output_type": "stream",
     "text": [
      "Resampling...\n",
      "Saving segmentations...\n",
      "Creating body_trunc.nii.gz\n",
      "Creating body_extremities.nii.gz\n"
     ]
    },
    {
     "data": {
      "application/vnd.jupyter.widget-view+json": {
       "model_id": "266e1904b2de4a6ea30573137bb249e4",
       "version_major": 2,
       "version_minor": 0
      },
      "text/plain": [
       "  0%|          | 0/2 [00:00<?, ?it/s]"
      ]
     },
     "metadata": {},
     "output_type": "display_data"
    },
    {
     "name": "stdout",
     "output_type": "stream",
     "text": [
      "  Saved in 0.36s\n",
      "Creating body.nii.gz\n",
      "Creating skin.nii.gz\n",
      "Segmenting Case2Pack phase 20\n",
      "\n",
      "If you use this tool please cite: https://pubs.rsna.org/doi/10.1148/ryai.230024\n",
      "\n",
      "Generating rough body segmentation...\n",
      "Resampling...\n",
      "  Resampled in 0.24s\n",
      "Predicting...\n"
     ]
    },
    {
     "name": "stderr",
     "output_type": "stream",
     "text": [
      "/ocean/projects/asc170022p/mtragoza/mambaforge/envs/lung-project/lib/python3.10/site-packages/nnunetv2/utilities/plans_handling/plans_handler.py:37: UserWarning: Detected old nnU-Net plans format. Attempting to reconstruct network architecture parameters. If this fails, rerun nnUNetv2_plan_experiment for your dataset. If you use a custom architecture, please downgrade nnU-Net to the version you implemented this or update your implementation + plans.\n",
      "  warnings.warn(\"Detected old nnU-Net plans format. Attempting to reconstruct network architecture \"\n",
      "100%|██████████| 1/1 [00:00<00:00, 109.39it/s]\n"
     ]
    },
    {
     "name": "stdout",
     "output_type": "stream",
     "text": [
      "  Predicted in 7.15s\n",
      "Resampling...\n",
      "  cropping from (256, 256, 94) to (256, 204, 94)\n",
      "Resampling...\n",
      "  Resampled in 1.97s\n",
      "Predicting part 1 of 1 ...\n"
     ]
    },
    {
     "name": "stderr",
     "output_type": "stream",
     "text": [
      "100%|██████████| 8/8 [00:00<00:00, 32.16it/s]\n"
     ]
    },
    {
     "name": "stdout",
     "output_type": "stream",
     "text": [
      "  Predicted in 9.43s\n",
      "Resampling...\n",
      "Saving segmentations...\n"
     ]
    },
    {
     "data": {
      "application/vnd.jupyter.widget-view+json": {
       "model_id": "8300f9b511b345e9a44a2ec33a221f77",
       "version_major": 2,
       "version_minor": 0
      },
      "text/plain": [
       "  0%|          | 0/5 [00:00<?, ?it/s]"
      ]
     },
     "metadata": {},
     "output_type": "display_data"
    },
    {
     "name": "stdout",
     "output_type": "stream",
     "text": [
      "  Saved in 0.75s\n",
      "\n",
      "If you use this tool please cite: https://pubs.rsna.org/doi/10.1148/ryai.230024\n",
      "\n",
      "Generating rough body segmentation...\n",
      "Resampling...\n",
      "  Resampled in 0.24s\n",
      "Predicting...\n"
     ]
    },
    {
     "name": "stderr",
     "output_type": "stream",
     "text": [
      "/ocean/projects/asc170022p/mtragoza/mambaforge/envs/lung-project/lib/python3.10/site-packages/nnunetv2/utilities/plans_handling/plans_handler.py:37: UserWarning: Detected old nnU-Net plans format. Attempting to reconstruct network architecture parameters. If this fails, rerun nnUNetv2_plan_experiment for your dataset. If you use a custom architecture, please downgrade nnU-Net to the version you implemented this or update your implementation + plans.\n",
      "  warnings.warn(\"Detected old nnU-Net plans format. Attempting to reconstruct network architecture \"\n",
      "100%|██████████| 1/1 [00:00<00:00, 106.43it/s]\n"
     ]
    },
    {
     "name": "stdout",
     "output_type": "stream",
     "text": [
      "  Predicted in 7.18s\n",
      "Resampling...\n",
      "  cropping from (256, 256, 94) to (256, 204, 94)\n",
      "Predicting...\n"
     ]
    },
    {
     "name": "stderr",
     "output_type": "stream",
     "text": [
      "100%|██████████| 80/80 [00:04<00:00, 17.63it/s]\n"
     ]
    },
    {
     "name": "stdout",
     "output_type": "stream",
     "text": [
      "  Predicted in 28.43s\n",
      "Saving segmentations...\n"
     ]
    },
    {
     "data": {
      "application/vnd.jupyter.widget-view+json": {
       "model_id": "6af3e8334f874e64bf7ef928dce1358b",
       "version_major": 2,
       "version_minor": 0
      },
      "text/plain": [
       "  0%|          | 0/2 [00:00<?, ?it/s]"
      ]
     },
     "metadata": {},
     "output_type": "display_data"
    },
    {
     "name": "stdout",
     "output_type": "stream",
     "text": [
      "Creating lung_trachea_bronchia.nii.gzCreating lung_vessels.nii.gz\n",
      "\n",
      "  Saved in 0.53s\n",
      "\n",
      "If you use this tool please cite: https://pubs.rsna.org/doi/10.1148/ryai.230024\n",
      "\n",
      "Resampling...\n",
      "  Resampled in 2.52s\n",
      "Predicting...\n"
     ]
    },
    {
     "name": "stderr",
     "output_type": "stream",
     "text": [
      "/ocean/projects/asc170022p/mtragoza/mambaforge/envs/lung-project/lib/python3.10/site-packages/nnunetv2/utilities/plans_handling/plans_handler.py:37: UserWarning: Detected old nnU-Net plans format. Attempting to reconstruct network architecture parameters. If this fails, rerun nnUNetv2_plan_experiment for your dataset. If you use a custom architecture, please downgrade nnU-Net to the version you implemented this or update your implementation + plans.\n",
      "  warnings.warn(\"Detected old nnU-Net plans format. Attempting to reconstruct network architecture \"\n",
      "100%|██████████| 18/18 [00:00<00:00, 22.85it/s]\n"
     ]
    },
    {
     "name": "stdout",
     "output_type": "stream",
     "text": [
      "  Predicted in 9.65s\n"
     ]
    },
    {
     "name": "stderr",
     "output_type": "stream",
     "text": [
      "100%|██████████| 1/1 [00:00<00:00,  7.85it/s]\n",
      "100%|██████████| 1/1 [00:00<00:00,  8.04it/s]\n"
     ]
    },
    {
     "name": "stdout",
     "output_type": "stream",
     "text": [
      "Resampling...\n",
      "Saving segmentations...\n",
      "Creating body_trunc.nii.gz\n",
      "Creating body_extremities.nii.gz\n"
     ]
    },
    {
     "data": {
      "application/vnd.jupyter.widget-view+json": {
       "model_id": "51e8e3832ec1451d8a18b32d7d1131bd",
       "version_major": 2,
       "version_minor": 0
      },
      "text/plain": [
       "  0%|          | 0/2 [00:00<?, ?it/s]"
      ]
     },
     "metadata": {},
     "output_type": "display_data"
    },
    {
     "name": "stdout",
     "output_type": "stream",
     "text": [
      "  Saved in 0.34s\n",
      "Creating body.nii.gz\n",
      "Creating skin.nii.gz\n",
      "Segmenting Case2Pack phase 30\n",
      "\n",
      "If you use this tool please cite: https://pubs.rsna.org/doi/10.1148/ryai.230024\n",
      "\n",
      "Generating rough body segmentation...\n",
      "Resampling...\n",
      "  Resampled in 0.24s\n",
      "Predicting...\n"
     ]
    },
    {
     "name": "stderr",
     "output_type": "stream",
     "text": [
      "/ocean/projects/asc170022p/mtragoza/mambaforge/envs/lung-project/lib/python3.10/site-packages/nnunetv2/utilities/plans_handling/plans_handler.py:37: UserWarning: Detected old nnU-Net plans format. Attempting to reconstruct network architecture parameters. If this fails, rerun nnUNetv2_plan_experiment for your dataset. If you use a custom architecture, please downgrade nnU-Net to the version you implemented this or update your implementation + plans.\n",
      "  warnings.warn(\"Detected old nnU-Net plans format. Attempting to reconstruct network architecture \"\n",
      "100%|██████████| 1/1 [00:00<00:00, 86.31it/s]\n"
     ]
    },
    {
     "name": "stdout",
     "output_type": "stream",
     "text": [
      "  Predicted in 7.06s\n",
      "Resampling...\n",
      "  cropping from (256, 256, 94) to (256, 204, 94)\n",
      "Resampling...\n",
      "  Resampled in 1.97s\n",
      "Predicting part 1 of 1 ...\n"
     ]
    },
    {
     "name": "stderr",
     "output_type": "stream",
     "text": [
      "100%|██████████| 8/8 [00:00<00:00, 32.68it/s]\n"
     ]
    },
    {
     "name": "stdout",
     "output_type": "stream",
     "text": [
      "  Predicted in 9.70s\n",
      "Resampling...\n",
      "Saving segmentations...\n"
     ]
    },
    {
     "data": {
      "application/vnd.jupyter.widget-view+json": {
       "model_id": "a8ad3a587c5d48d3aea01a44766f2513",
       "version_major": 2,
       "version_minor": 0
      },
      "text/plain": [
       "  0%|          | 0/5 [00:00<?, ?it/s]"
      ]
     },
     "metadata": {},
     "output_type": "display_data"
    },
    {
     "name": "stdout",
     "output_type": "stream",
     "text": [
      "  Saved in 0.58s\n",
      "\n",
      "If you use this tool please cite: https://pubs.rsna.org/doi/10.1148/ryai.230024\n",
      "\n",
      "Generating rough body segmentation...\n",
      "Resampling...\n",
      "  Resampled in 0.25s\n",
      "Predicting...\n"
     ]
    },
    {
     "name": "stderr",
     "output_type": "stream",
     "text": [
      "/ocean/projects/asc170022p/mtragoza/mambaforge/envs/lung-project/lib/python3.10/site-packages/nnunetv2/utilities/plans_handling/plans_handler.py:37: UserWarning: Detected old nnU-Net plans format. Attempting to reconstruct network architecture parameters. If this fails, rerun nnUNetv2_plan_experiment for your dataset. If you use a custom architecture, please downgrade nnU-Net to the version you implemented this or update your implementation + plans.\n",
      "  warnings.warn(\"Detected old nnU-Net plans format. Attempting to reconstruct network architecture \"\n",
      "100%|██████████| 1/1 [00:00<00:00, 91.51it/s]\n"
     ]
    },
    {
     "name": "stdout",
     "output_type": "stream",
     "text": [
      "  Predicted in 7.45s\n",
      "Resampling...\n",
      "  cropping from (256, 256, 94) to (256, 204, 94)\n",
      "Predicting...\n"
     ]
    },
    {
     "name": "stderr",
     "output_type": "stream",
     "text": [
      "100%|██████████| 80/80 [00:04<00:00, 17.61it/s]\n"
     ]
    },
    {
     "name": "stdout",
     "output_type": "stream",
     "text": [
      "  Predicted in 28.22s\n",
      "Saving segmentations...\n"
     ]
    },
    {
     "data": {
      "application/vnd.jupyter.widget-view+json": {
       "model_id": "a5d6d6a105964a90b686f523c17f619e",
       "version_major": 2,
       "version_minor": 0
      },
      "text/plain": [
       "  0%|          | 0/2 [00:00<?, ?it/s]"
      ]
     },
     "metadata": {},
     "output_type": "display_data"
    },
    {
     "name": "stdout",
     "output_type": "stream",
     "text": [
      "Creating lung_vessels.nii.gz\n",
      "Creating lung_trachea_bronchia.nii.gz\n",
      "  Saved in 31.81s\n",
      "\n",
      "If you use this tool please cite: https://pubs.rsna.org/doi/10.1148/ryai.230024\n",
      "\n",
      "Resampling...\n",
      "  Resampled in 2.52s\n",
      "Predicting...\n"
     ]
    },
    {
     "name": "stderr",
     "output_type": "stream",
     "text": [
      "/ocean/projects/asc170022p/mtragoza/mambaforge/envs/lung-project/lib/python3.10/site-packages/nnunetv2/utilities/plans_handling/plans_handler.py:37: UserWarning: Detected old nnU-Net plans format. Attempting to reconstruct network architecture parameters. If this fails, rerun nnUNetv2_plan_experiment for your dataset. If you use a custom architecture, please downgrade nnU-Net to the version you implemented this or update your implementation + plans.\n",
      "  warnings.warn(\"Detected old nnU-Net plans format. Attempting to reconstruct network architecture \"\n",
      "100%|██████████| 18/18 [00:00<00:00, 22.95it/s]\n"
     ]
    },
    {
     "name": "stdout",
     "output_type": "stream",
     "text": [
      "  Predicted in 11.24s\n"
     ]
    },
    {
     "name": "stderr",
     "output_type": "stream",
     "text": [
      "100%|██████████| 1/1 [00:00<00:00,  7.84it/s]\n",
      "100%|██████████| 1/1 [00:00<00:00,  8.22it/s]\n"
     ]
    },
    {
     "name": "stdout",
     "output_type": "stream",
     "text": [
      "Resampling...\n",
      "Saving segmentations...\n",
      "Creating body_trunc.nii.gz\n",
      "\n",
      "Creating body_extremities.nii.gz"
     ]
    },
    {
     "data": {
      "application/vnd.jupyter.widget-view+json": {
       "model_id": "fbab4614383048ecb1b7f13811cb2916",
       "version_major": 2,
       "version_minor": 0
      },
      "text/plain": [
       "  0%|          | 0/2 [00:00<?, ?it/s]"
      ]
     },
     "metadata": {},
     "output_type": "display_data"
    },
    {
     "name": "stdout",
     "output_type": "stream",
     "text": [
      "  Saved in 0.33s\n",
      "Creating body.nii.gz\n",
      "Creating skin.nii.gz\n",
      "Segmenting Case2Pack phase 40\n",
      "\n",
      "If you use this tool please cite: https://pubs.rsna.org/doi/10.1148/ryai.230024\n",
      "\n",
      "Generating rough body segmentation...\n",
      "Resampling...\n",
      "  Resampled in 0.24s\n",
      "Predicting...\n"
     ]
    },
    {
     "name": "stderr",
     "output_type": "stream",
     "text": [
      "/ocean/projects/asc170022p/mtragoza/mambaforge/envs/lung-project/lib/python3.10/site-packages/nnunetv2/utilities/plans_handling/plans_handler.py:37: UserWarning: Detected old nnU-Net plans format. Attempting to reconstruct network architecture parameters. If this fails, rerun nnUNetv2_plan_experiment for your dataset. If you use a custom architecture, please downgrade nnU-Net to the version you implemented this or update your implementation + plans.\n",
      "  warnings.warn(\"Detected old nnU-Net plans format. Attempting to reconstruct network architecture \"\n",
      "100%|██████████| 1/1 [00:00<00:00, 109.79it/s]\n"
     ]
    },
    {
     "name": "stdout",
     "output_type": "stream",
     "text": [
      "  Predicted in 10.10s\n",
      "Resampling...\n",
      "  cropping from (256, 256, 94) to (256, 204, 94)\n",
      "Resampling...\n",
      "  Resampled in 1.97s\n",
      "Predicting part 1 of 1 ...\n"
     ]
    },
    {
     "name": "stderr",
     "output_type": "stream",
     "text": [
      "100%|██████████| 8/8 [00:00<00:00, 32.96it/s]\n"
     ]
    },
    {
     "name": "stdout",
     "output_type": "stream",
     "text": [
      "  Predicted in 9.55s\n",
      "Resampling...\n",
      "Saving segmentations...\n"
     ]
    },
    {
     "data": {
      "application/vnd.jupyter.widget-view+json": {
       "model_id": "a7676de491f54561b281237d4d501715",
       "version_major": 2,
       "version_minor": 0
      },
      "text/plain": [
       "  0%|          | 0/5 [00:00<?, ?it/s]"
      ]
     },
     "metadata": {},
     "output_type": "display_data"
    },
    {
     "name": "stdout",
     "output_type": "stream",
     "text": [
      "  Saved in 1.33s\n",
      "\n",
      "If you use this tool please cite: https://pubs.rsna.org/doi/10.1148/ryai.230024\n",
      "\n",
      "Generating rough body segmentation...\n",
      "Resampling...\n",
      "  Resampled in 0.24s\n",
      "Predicting...\n"
     ]
    },
    {
     "name": "stderr",
     "output_type": "stream",
     "text": [
      "/ocean/projects/asc170022p/mtragoza/mambaforge/envs/lung-project/lib/python3.10/site-packages/nnunetv2/utilities/plans_handling/plans_handler.py:37: UserWarning: Detected old nnU-Net plans format. Attempting to reconstruct network architecture parameters. If this fails, rerun nnUNetv2_plan_experiment for your dataset. If you use a custom architecture, please downgrade nnU-Net to the version you implemented this or update your implementation + plans.\n",
      "  warnings.warn(\"Detected old nnU-Net plans format. Attempting to reconstruct network architecture \"\n",
      "100%|██████████| 1/1 [00:00<00:00, 110.09it/s]\n"
     ]
    },
    {
     "name": "stdout",
     "output_type": "stream",
     "text": [
      "  Predicted in 7.18s\n",
      "Resampling...\n",
      "  cropping from (256, 256, 94) to (256, 204, 94)\n",
      "Predicting...\n"
     ]
    },
    {
     "name": "stderr",
     "output_type": "stream",
     "text": [
      "100%|██████████| 80/80 [00:04<00:00, 17.68it/s]\n"
     ]
    },
    {
     "name": "stdout",
     "output_type": "stream",
     "text": [
      "  Predicted in 28.15s\n",
      "Saving segmentations...\n",
      "Creating lung_vessels.nii.gz\n",
      "Creating lung_trachea_bronchia.nii.gz\n"
     ]
    },
    {
     "data": {
      "application/vnd.jupyter.widget-view+json": {
       "model_id": "5cecbbe846114641ac24fa1a81d04f9a",
       "version_major": 2,
       "version_minor": 0
      },
      "text/plain": [
       "  0%|          | 0/2 [00:00<?, ?it/s]"
      ]
     },
     "metadata": {},
     "output_type": "display_data"
    },
    {
     "name": "stdout",
     "output_type": "stream",
     "text": [
      "  Saved in 0.88s\n",
      "\n",
      "If you use this tool please cite: https://pubs.rsna.org/doi/10.1148/ryai.230024\n",
      "\n",
      "Resampling...\n",
      "  Resampled in 2.53s\n",
      "Predicting...\n"
     ]
    },
    {
     "name": "stderr",
     "output_type": "stream",
     "text": [
      "/ocean/projects/asc170022p/mtragoza/mambaforge/envs/lung-project/lib/python3.10/site-packages/nnunetv2/utilities/plans_handling/plans_handler.py:37: UserWarning: Detected old nnU-Net plans format. Attempting to reconstruct network architecture parameters. If this fails, rerun nnUNetv2_plan_experiment for your dataset. If you use a custom architecture, please downgrade nnU-Net to the version you implemented this or update your implementation + plans.\n",
      "  warnings.warn(\"Detected old nnU-Net plans format. Attempting to reconstruct network architecture \"\n",
      "100%|██████████| 18/18 [00:00<00:00, 22.82it/s]\n"
     ]
    },
    {
     "name": "stdout",
     "output_type": "stream",
     "text": [
      "  Predicted in 9.55s\n"
     ]
    },
    {
     "name": "stderr",
     "output_type": "stream",
     "text": [
      "100%|██████████| 1/1 [00:00<00:00,  7.91it/s]\n",
      "100%|██████████| 1/1 [00:00<00:00,  8.20it/s]\n"
     ]
    },
    {
     "name": "stdout",
     "output_type": "stream",
     "text": [
      "Resampling...\n",
      "Saving segmentations...\n",
      "Creating body_trunc.nii.gz\n",
      "Creating body_extremities.nii.gz"
     ]
    },
    {
     "data": {
      "application/vnd.jupyter.widget-view+json": {
       "model_id": "b3e60da9b9c648afbcf8bfac0f27b275",
       "version_major": 2,
       "version_minor": 0
      },
      "text/plain": [
       "  0%|          | 0/2 [00:00<?, ?it/s]"
      ]
     },
     "metadata": {},
     "output_type": "display_data"
    },
    {
     "name": "stdout",
     "output_type": "stream",
     "text": [
      "\n",
      "  Saved in 0.36s\n",
      "Creating body.nii.gz\n",
      "Creating skin.nii.gz\n",
      "Segmenting Case2Pack phase 50\n",
      "\n",
      "If you use this tool please cite: https://pubs.rsna.org/doi/10.1148/ryai.230024\n",
      "\n",
      "Generating rough body segmentation...\n",
      "Resampling...\n",
      "  Resampled in 0.24s\n",
      "Predicting...\n"
     ]
    },
    {
     "name": "stderr",
     "output_type": "stream",
     "text": [
      "/ocean/projects/asc170022p/mtragoza/mambaforge/envs/lung-project/lib/python3.10/site-packages/nnunetv2/utilities/plans_handling/plans_handler.py:37: UserWarning: Detected old nnU-Net plans format. Attempting to reconstruct network architecture parameters. If this fails, rerun nnUNetv2_plan_experiment for your dataset. If you use a custom architecture, please downgrade nnU-Net to the version you implemented this or update your implementation + plans.\n",
      "  warnings.warn(\"Detected old nnU-Net plans format. Attempting to reconstruct network architecture \"\n",
      "100%|██████████| 1/1 [00:00<00:00, 106.75it/s]\n"
     ]
    },
    {
     "name": "stdout",
     "output_type": "stream",
     "text": [
      "  Predicted in 7.32s\n",
      "Resampling...\n",
      "  cropping from (256, 256, 94) to (256, 204, 94)\n",
      "Resampling...\n",
      "  Resampled in 1.97s\n",
      "Predicting part 1 of 1 ...\n"
     ]
    },
    {
     "name": "stderr",
     "output_type": "stream",
     "text": [
      "100%|██████████| 8/8 [00:00<00:00, 32.93it/s]\n"
     ]
    },
    {
     "name": "stdout",
     "output_type": "stream",
     "text": [
      "  Predicted in 9.47s\n",
      "Resampling...\n",
      "Saving segmentations...\n"
     ]
    },
    {
     "data": {
      "application/vnd.jupyter.widget-view+json": {
       "model_id": "613b94975e72485296e04f2fccb920b4",
       "version_major": 2,
       "version_minor": 0
      },
      "text/plain": [
       "  0%|          | 0/5 [00:00<?, ?it/s]"
      ]
     },
     "metadata": {},
     "output_type": "display_data"
    },
    {
     "name": "stdout",
     "output_type": "stream",
     "text": [
      "  Saved in 0.56s\n",
      "\n",
      "If you use this tool please cite: https://pubs.rsna.org/doi/10.1148/ryai.230024\n",
      "\n",
      "Generating rough body segmentation...\n",
      "Resampling...\n",
      "  Resampled in 0.25s\n",
      "Predicting...\n"
     ]
    },
    {
     "name": "stderr",
     "output_type": "stream",
     "text": [
      "/ocean/projects/asc170022p/mtragoza/mambaforge/envs/lung-project/lib/python3.10/site-packages/nnunetv2/utilities/plans_handling/plans_handler.py:37: UserWarning: Detected old nnU-Net plans format. Attempting to reconstruct network architecture parameters. If this fails, rerun nnUNetv2_plan_experiment for your dataset. If you use a custom architecture, please downgrade nnU-Net to the version you implemented this or update your implementation + plans.\n",
      "  warnings.warn(\"Detected old nnU-Net plans format. Attempting to reconstruct network architecture \"\n",
      "100%|██████████| 1/1 [00:00<00:00, 105.73it/s]\n"
     ]
    },
    {
     "name": "stdout",
     "output_type": "stream",
     "text": [
      "  Predicted in 7.27s\n",
      "Resampling...\n",
      "  cropping from (256, 256, 94) to (256, 204, 94)\n",
      "Predicting...\n"
     ]
    },
    {
     "name": "stderr",
     "output_type": "stream",
     "text": [
      "100%|██████████| 80/80 [00:04<00:00, 17.65it/s]\n"
     ]
    },
    {
     "name": "stdout",
     "output_type": "stream",
     "text": [
      "  Predicted in 28.17s\n",
      "Saving segmentations...\n",
      "Creating lung_vessels.nii.gz\n",
      "Creating lung_trachea_bronchia.nii.gz\n"
     ]
    },
    {
     "data": {
      "application/vnd.jupyter.widget-view+json": {
       "model_id": "76941281361946c9981e6ff181d81d5a",
       "version_major": 2,
       "version_minor": 0
      },
      "text/plain": [
       "  0%|          | 0/2 [00:00<?, ?it/s]"
      ]
     },
     "metadata": {},
     "output_type": "display_data"
    },
    {
     "name": "stdout",
     "output_type": "stream",
     "text": [
      "  Saved in 0.49s\n",
      "\n",
      "If you use this tool please cite: https://pubs.rsna.org/doi/10.1148/ryai.230024\n",
      "\n",
      "Resampling...\n",
      "  Resampled in 2.53s\n",
      "Predicting...\n"
     ]
    },
    {
     "name": "stderr",
     "output_type": "stream",
     "text": [
      "/ocean/projects/asc170022p/mtragoza/mambaforge/envs/lung-project/lib/python3.10/site-packages/nnunetv2/utilities/plans_handling/plans_handler.py:37: UserWarning: Detected old nnU-Net plans format. Attempting to reconstruct network architecture parameters. If this fails, rerun nnUNetv2_plan_experiment for your dataset. If you use a custom architecture, please downgrade nnU-Net to the version you implemented this or update your implementation + plans.\n",
      "  warnings.warn(\"Detected old nnU-Net plans format. Attempting to reconstruct network architecture \"\n",
      "100%|██████████| 18/18 [00:00<00:00, 23.24it/s]\n"
     ]
    },
    {
     "name": "stdout",
     "output_type": "stream",
     "text": [
      "  Predicted in 9.62s\n"
     ]
    },
    {
     "name": "stderr",
     "output_type": "stream",
     "text": [
      "100%|██████████| 1/1 [00:00<00:00,  7.78it/s]\n",
      "100%|██████████| 1/1 [00:00<00:00,  8.22it/s]\n"
     ]
    },
    {
     "name": "stdout",
     "output_type": "stream",
     "text": [
      "Resampling...\n",
      "Saving segmentations...\n",
      "Creating body_trunc.nii.gz\n",
      "Creating body_extremities.nii.gz\n"
     ]
    },
    {
     "data": {
      "application/vnd.jupyter.widget-view+json": {
       "model_id": "71c01043a01a4a52be9a578688cec6ed",
       "version_major": 2,
       "version_minor": 0
      },
      "text/plain": [
       "  0%|          | 0/2 [00:00<?, ?it/s]"
      ]
     },
     "metadata": {},
     "output_type": "display_data"
    },
    {
     "name": "stdout",
     "output_type": "stream",
     "text": [
      "  Saved in 0.32s\n",
      "Creating body.nii.gz\n",
      "Creating skin.nii.gz\n",
      "Segmenting Case2Pack phase 60\n",
      "\n",
      "If you use this tool please cite: https://pubs.rsna.org/doi/10.1148/ryai.230024\n",
      "\n",
      "Generating rough body segmentation...\n",
      "Resampling...\n",
      "  Resampled in 0.24s\n",
      "Predicting...\n"
     ]
    },
    {
     "name": "stderr",
     "output_type": "stream",
     "text": [
      "/ocean/projects/asc170022p/mtragoza/mambaforge/envs/lung-project/lib/python3.10/site-packages/nnunetv2/utilities/plans_handling/plans_handler.py:37: UserWarning: Detected old nnU-Net plans format. Attempting to reconstruct network architecture parameters. If this fails, rerun nnUNetv2_plan_experiment for your dataset. If you use a custom architecture, please downgrade nnU-Net to the version you implemented this or update your implementation + plans.\n",
      "  warnings.warn(\"Detected old nnU-Net plans format. Attempting to reconstruct network architecture \"\n",
      "100%|██████████| 1/1 [00:00<00:00, 92.08it/s]\n"
     ]
    },
    {
     "name": "stdout",
     "output_type": "stream",
     "text": [
      "  Predicted in 7.19s\n",
      "Resampling...\n",
      "  cropping from (256, 256, 94) to (256, 204, 94)\n",
      "Resampling...\n",
      "  Resampled in 1.97s\n",
      "Predicting part 1 of 1 ...\n"
     ]
    },
    {
     "name": "stderr",
     "output_type": "stream",
     "text": [
      "100%|██████████| 8/8 [00:00<00:00, 32.04it/s]\n"
     ]
    },
    {
     "name": "stdout",
     "output_type": "stream",
     "text": [
      "  Predicted in 9.54s\n",
      "Resampling...\n",
      "Saving segmentations...\n"
     ]
    },
    {
     "data": {
      "application/vnd.jupyter.widget-view+json": {
       "model_id": "0dc130b622f343faba20a20b77aec29d",
       "version_major": 2,
       "version_minor": 0
      },
      "text/plain": [
       "  0%|          | 0/5 [00:00<?, ?it/s]"
      ]
     },
     "metadata": {},
     "output_type": "display_data"
    },
    {
     "name": "stdout",
     "output_type": "stream",
     "text": [
      "  Saved in 0.60s\n",
      "\n",
      "If you use this tool please cite: https://pubs.rsna.org/doi/10.1148/ryai.230024\n",
      "\n",
      "Generating rough body segmentation...\n",
      "Resampling...\n",
      "  Resampled in 0.24s\n",
      "Predicting...\n"
     ]
    },
    {
     "name": "stderr",
     "output_type": "stream",
     "text": [
      "/ocean/projects/asc170022p/mtragoza/mambaforge/envs/lung-project/lib/python3.10/site-packages/nnunetv2/utilities/plans_handling/plans_handler.py:37: UserWarning: Detected old nnU-Net plans format. Attempting to reconstruct network architecture parameters. If this fails, rerun nnUNetv2_plan_experiment for your dataset. If you use a custom architecture, please downgrade nnU-Net to the version you implemented this or update your implementation + plans.\n",
      "  warnings.warn(\"Detected old nnU-Net plans format. Attempting to reconstruct network architecture \"\n",
      "100%|██████████| 1/1 [00:00<00:00, 97.42it/s]\n"
     ]
    },
    {
     "name": "stdout",
     "output_type": "stream",
     "text": [
      "  Predicted in 7.11s\n",
      "Resampling...\n",
      "  cropping from (256, 256, 94) to (256, 204, 94)\n",
      "Predicting...\n"
     ]
    },
    {
     "name": "stderr",
     "output_type": "stream",
     "text": [
      "100%|██████████| 80/80 [00:04<00:00, 17.67it/s]\n"
     ]
    },
    {
     "name": "stdout",
     "output_type": "stream",
     "text": [
      "  Predicted in 28.23s\n",
      "Saving segmentations...\n",
      "Creating lung_vessels.nii.gz\n",
      "\n",
      "Creating lung_trachea_bronchia.nii.gz"
     ]
    },
    {
     "data": {
      "application/vnd.jupyter.widget-view+json": {
       "model_id": "1ea85fd4a6d64d17a03cf8889a82e7eb",
       "version_major": 2,
       "version_minor": 0
      },
      "text/plain": [
       "  0%|          | 0/2 [00:00<?, ?it/s]"
      ]
     },
     "metadata": {},
     "output_type": "display_data"
    },
    {
     "name": "stdout",
     "output_type": "stream",
     "text": [
      "  Saved in 0.49s\n",
      "\n",
      "If you use this tool please cite: https://pubs.rsna.org/doi/10.1148/ryai.230024\n",
      "\n",
      "Resampling...\n",
      "  Resampled in 2.53s\n",
      "Predicting...\n"
     ]
    },
    {
     "name": "stderr",
     "output_type": "stream",
     "text": [
      "/ocean/projects/asc170022p/mtragoza/mambaforge/envs/lung-project/lib/python3.10/site-packages/nnunetv2/utilities/plans_handling/plans_handler.py:37: UserWarning: Detected old nnU-Net plans format. Attempting to reconstruct network architecture parameters. If this fails, rerun nnUNetv2_plan_experiment for your dataset. If you use a custom architecture, please downgrade nnU-Net to the version you implemented this or update your implementation + plans.\n",
      "  warnings.warn(\"Detected old nnU-Net plans format. Attempting to reconstruct network architecture \"\n",
      "100%|██████████| 18/18 [00:00<00:00, 23.12it/s]\n"
     ]
    },
    {
     "name": "stdout",
     "output_type": "stream",
     "text": [
      "  Predicted in 9.64s\n"
     ]
    },
    {
     "name": "stderr",
     "output_type": "stream",
     "text": [
      "100%|██████████| 1/1 [00:00<00:00,  7.90it/s]\n",
      "100%|██████████| 1/1 [00:00<00:00,  8.07it/s]\n"
     ]
    },
    {
     "name": "stdout",
     "output_type": "stream",
     "text": [
      "Resampling...\n",
      "Saving segmentations...\n",
      "Creating body_trunc.nii.gz\n",
      "Creating body_extremities.nii.gz\n"
     ]
    },
    {
     "data": {
      "application/vnd.jupyter.widget-view+json": {
       "model_id": "818b710ce6e44f8380c0e6d2d32d43c9",
       "version_major": 2,
       "version_minor": 0
      },
      "text/plain": [
       "  0%|          | 0/2 [00:00<?, ?it/s]"
      ]
     },
     "metadata": {},
     "output_type": "display_data"
    },
    {
     "name": "stdout",
     "output_type": "stream",
     "text": [
      "  Saved in 0.33s\n",
      "Creating body.nii.gz\n",
      "Creating skin.nii.gz\n",
      "Segmenting Case2Pack phase 70\n",
      "\n",
      "If you use this tool please cite: https://pubs.rsna.org/doi/10.1148/ryai.230024\n",
      "\n",
      "Generating rough body segmentation...\n",
      "Resampling...\n",
      "  Resampled in 0.24s\n",
      "Predicting...\n"
     ]
    },
    {
     "name": "stderr",
     "output_type": "stream",
     "text": [
      "/ocean/projects/asc170022p/mtragoza/mambaforge/envs/lung-project/lib/python3.10/site-packages/nnunetv2/utilities/plans_handling/plans_handler.py:37: UserWarning: Detected old nnU-Net plans format. Attempting to reconstruct network architecture parameters. If this fails, rerun nnUNetv2_plan_experiment for your dataset. If you use a custom architecture, please downgrade nnU-Net to the version you implemented this or update your implementation + plans.\n",
      "  warnings.warn(\"Detected old nnU-Net plans format. Attempting to reconstruct network architecture \"\n",
      "100%|██████████| 1/1 [00:00<00:00, 75.96it/s]\n"
     ]
    },
    {
     "name": "stdout",
     "output_type": "stream",
     "text": [
      "  Predicted in 7.16s\n",
      "Resampling...\n",
      "  cropping from (256, 256, 94) to (256, 204, 94)\n",
      "Resampling...\n",
      "  Resampled in 1.97s\n",
      "Predicting part 1 of 1 ...\n"
     ]
    },
    {
     "name": "stderr",
     "output_type": "stream",
     "text": [
      "100%|██████████| 8/8 [00:00<00:00, 32.12it/s]\n"
     ]
    },
    {
     "name": "stdout",
     "output_type": "stream",
     "text": [
      "  Predicted in 9.67s\n",
      "Resampling...\n",
      "Saving segmentations...\n"
     ]
    },
    {
     "data": {
      "application/vnd.jupyter.widget-view+json": {
       "model_id": "4c8c0a8556e44bd881259e9fd9604b50",
       "version_major": 2,
       "version_minor": 0
      },
      "text/plain": [
       "  0%|          | 0/5 [00:00<?, ?it/s]"
      ]
     },
     "metadata": {},
     "output_type": "display_data"
    },
    {
     "name": "stdout",
     "output_type": "stream",
     "text": [
      "  Saved in 0.55s\n",
      "\n",
      "If you use this tool please cite: https://pubs.rsna.org/doi/10.1148/ryai.230024\n",
      "\n",
      "Generating rough body segmentation...\n",
      "Resampling...\n",
      "  Resampled in 0.24s\n",
      "Predicting...\n"
     ]
    },
    {
     "name": "stderr",
     "output_type": "stream",
     "text": [
      "/ocean/projects/asc170022p/mtragoza/mambaforge/envs/lung-project/lib/python3.10/site-packages/nnunetv2/utilities/plans_handling/plans_handler.py:37: UserWarning: Detected old nnU-Net plans format. Attempting to reconstruct network architecture parameters. If this fails, rerun nnUNetv2_plan_experiment for your dataset. If you use a custom architecture, please downgrade nnU-Net to the version you implemented this or update your implementation + plans.\n",
      "  warnings.warn(\"Detected old nnU-Net plans format. Attempting to reconstruct network architecture \"\n",
      "100%|██████████| 1/1 [00:00<00:00, 106.09it/s]\n"
     ]
    },
    {
     "name": "stdout",
     "output_type": "stream",
     "text": [
      "  Predicted in 7.29s\n",
      "Resampling...\n",
      "  cropping from (256, 256, 94) to (256, 204, 94)\n",
      "Predicting...\n"
     ]
    },
    {
     "name": "stderr",
     "output_type": "stream",
     "text": [
      "100%|██████████| 80/80 [00:04<00:00, 17.66it/s]\n"
     ]
    },
    {
     "name": "stdout",
     "output_type": "stream",
     "text": [
      "  Predicted in 28.28s\n",
      "Saving segmentations...\n",
      "Creating lung_vessels.nii.gz"
     ]
    },
    {
     "data": {
      "application/vnd.jupyter.widget-view+json": {
       "model_id": "d5e670776da54783b1298748fc1b2e4c",
       "version_major": 2,
       "version_minor": 0
      },
      "text/plain": [
       "  0%|          | 0/2 [00:00<?, ?it/s]"
      ]
     },
     "metadata": {},
     "output_type": "display_data"
    },
    {
     "name": "stdout",
     "output_type": "stream",
     "text": [
      "\n",
      "Creating lung_trachea_bronchia.nii.gz\n",
      "  Saved in 13.93s\n",
      "\n",
      "If you use this tool please cite: https://pubs.rsna.org/doi/10.1148/ryai.230024\n",
      "\n",
      "Resampling...\n",
      "  Resampled in 2.53s\n",
      "Predicting...\n"
     ]
    },
    {
     "name": "stderr",
     "output_type": "stream",
     "text": [
      "/ocean/projects/asc170022p/mtragoza/mambaforge/envs/lung-project/lib/python3.10/site-packages/nnunetv2/utilities/plans_handling/plans_handler.py:37: UserWarning: Detected old nnU-Net plans format. Attempting to reconstruct network architecture parameters. If this fails, rerun nnUNetv2_plan_experiment for your dataset. If you use a custom architecture, please downgrade nnU-Net to the version you implemented this or update your implementation + plans.\n",
      "  warnings.warn(\"Detected old nnU-Net plans format. Attempting to reconstruct network architecture \"\n",
      "100%|██████████| 18/18 [00:00<00:00, 22.80it/s]\n"
     ]
    },
    {
     "name": "stdout",
     "output_type": "stream",
     "text": [
      "  Predicted in 9.53s\n"
     ]
    },
    {
     "name": "stderr",
     "output_type": "stream",
     "text": [
      "100%|██████████| 1/1 [00:00<00:00,  7.77it/s]\n",
      "100%|██████████| 1/1 [00:00<00:00,  8.09it/s]\n"
     ]
    },
    {
     "name": "stdout",
     "output_type": "stream",
     "text": [
      "Resampling...\n",
      "Saving segmentations...\n",
      "Creating body_trunc.nii.gz\n",
      "Creating body_extremities.nii.gz\n"
     ]
    },
    {
     "data": {
      "application/vnd.jupyter.widget-view+json": {
       "model_id": "5487f3524bb244b4ba183ef4aa01f4e5",
       "version_major": 2,
       "version_minor": 0
      },
      "text/plain": [
       "  0%|          | 0/2 [00:00<?, ?it/s]"
      ]
     },
     "metadata": {},
     "output_type": "display_data"
    },
    {
     "name": "stdout",
     "output_type": "stream",
     "text": [
      "  Saved in 0.34s\n",
      "Creating body.nii.gz\n",
      "Creating skin.nii.gz\n",
      "Segmenting Case2Pack phase 80\n",
      "\n",
      "If you use this tool please cite: https://pubs.rsna.org/doi/10.1148/ryai.230024\n",
      "\n",
      "Generating rough body segmentation...\n",
      "Resampling...\n",
      "  Resampled in 0.24s\n",
      "Predicting...\n"
     ]
    },
    {
     "name": "stderr",
     "output_type": "stream",
     "text": [
      "/ocean/projects/asc170022p/mtragoza/mambaforge/envs/lung-project/lib/python3.10/site-packages/nnunetv2/utilities/plans_handling/plans_handler.py:37: UserWarning: Detected old nnU-Net plans format. Attempting to reconstruct network architecture parameters. If this fails, rerun nnUNetv2_plan_experiment for your dataset. If you use a custom architecture, please downgrade nnU-Net to the version you implemented this or update your implementation + plans.\n",
      "  warnings.warn(\"Detected old nnU-Net plans format. Attempting to reconstruct network architecture \"\n",
      "100%|██████████| 1/1 [00:00<00:00, 81.83it/s]\n"
     ]
    },
    {
     "name": "stdout",
     "output_type": "stream",
     "text": [
      "  Predicted in 7.29s\n",
      "Resampling...\n",
      "  cropping from (256, 256, 94) to (256, 204, 92)\n",
      "Resampling...\n",
      "  Resampled in 1.93s\n",
      "Predicting part 1 of 1 ...\n"
     ]
    },
    {
     "name": "stderr",
     "output_type": "stream",
     "text": [
      "100%|██████████| 8/8 [00:00<00:00, 32.49it/s]\n"
     ]
    },
    {
     "name": "stdout",
     "output_type": "stream",
     "text": [
      "  Predicted in 9.64s\n",
      "Resampling...\n",
      "Saving segmentations...\n"
     ]
    },
    {
     "data": {
      "application/vnd.jupyter.widget-view+json": {
       "model_id": "9d483d5d49cc4fd0bbdb01c2fd605770",
       "version_major": 2,
       "version_minor": 0
      },
      "text/plain": [
       "  0%|          | 0/5 [00:00<?, ?it/s]"
      ]
     },
     "metadata": {},
     "output_type": "display_data"
    },
    {
     "name": "stdout",
     "output_type": "stream",
     "text": [
      "  Saved in 0.56s\n",
      "\n",
      "If you use this tool please cite: https://pubs.rsna.org/doi/10.1148/ryai.230024\n",
      "\n",
      "Generating rough body segmentation...\n",
      "Resampling...\n",
      "  Resampled in 0.24s\n",
      "Predicting...\n"
     ]
    },
    {
     "name": "stderr",
     "output_type": "stream",
     "text": [
      "/ocean/projects/asc170022p/mtragoza/mambaforge/envs/lung-project/lib/python3.10/site-packages/nnunetv2/utilities/plans_handling/plans_handler.py:37: UserWarning: Detected old nnU-Net plans format. Attempting to reconstruct network architecture parameters. If this fails, rerun nnUNetv2_plan_experiment for your dataset. If you use a custom architecture, please downgrade nnU-Net to the version you implemented this or update your implementation + plans.\n",
      "  warnings.warn(\"Detected old nnU-Net plans format. Attempting to reconstruct network architecture \"\n",
      "100%|██████████| 1/1 [00:00<00:00, 81.82it/s]\n"
     ]
    },
    {
     "name": "stdout",
     "output_type": "stream",
     "text": [
      "  Predicted in 7.13s\n",
      "Resampling...\n",
      "  cropping from (256, 256, 94) to (256, 204, 92)\n",
      "Predicting...\n"
     ]
    },
    {
     "name": "stderr",
     "output_type": "stream",
     "text": [
      "100%|██████████| 80/80 [00:04<00:00, 17.65it/s]\n"
     ]
    },
    {
     "name": "stdout",
     "output_type": "stream",
     "text": [
      "  Predicted in 30.54s\n",
      "Saving segmentations...\n",
      "Creating lung_vessels.nii.gz\n",
      "Creating lung_trachea_bronchia.nii.gz"
     ]
    },
    {
     "data": {
      "application/vnd.jupyter.widget-view+json": {
       "model_id": "642aead1f0c14b11a1c84c2f3d2bbcf4",
       "version_major": 2,
       "version_minor": 0
      },
      "text/plain": [
       "  0%|          | 0/2 [00:00<?, ?it/s]"
      ]
     },
     "metadata": {},
     "output_type": "display_data"
    },
    {
     "name": "stdout",
     "output_type": "stream",
     "text": [
      "\n",
      "  Saved in 0.49s\n",
      "\n",
      "If you use this tool please cite: https://pubs.rsna.org/doi/10.1148/ryai.230024\n",
      "\n",
      "Resampling...\n",
      "  Resampled in 2.53s\n",
      "Predicting...\n"
     ]
    },
    {
     "name": "stderr",
     "output_type": "stream",
     "text": [
      "/ocean/projects/asc170022p/mtragoza/mambaforge/envs/lung-project/lib/python3.10/site-packages/nnunetv2/utilities/plans_handling/plans_handler.py:37: UserWarning: Detected old nnU-Net plans format. Attempting to reconstruct network architecture parameters. If this fails, rerun nnUNetv2_plan_experiment for your dataset. If you use a custom architecture, please downgrade nnU-Net to the version you implemented this or update your implementation + plans.\n",
      "  warnings.warn(\"Detected old nnU-Net plans format. Attempting to reconstruct network architecture \"\n",
      "100%|██████████| 18/18 [00:00<00:00, 23.07it/s]\n"
     ]
    },
    {
     "name": "stdout",
     "output_type": "stream",
     "text": [
      "  Predicted in 9.82s\n"
     ]
    },
    {
     "name": "stderr",
     "output_type": "stream",
     "text": [
      "100%|██████████| 1/1 [00:00<00:00,  7.93it/s]\n",
      "100%|██████████| 1/1 [00:00<00:00,  8.02it/s]\n"
     ]
    },
    {
     "name": "stdout",
     "output_type": "stream",
     "text": [
      "Resampling...\n",
      "Saving segmentations...\n",
      "Creating body_trunc.nii.gz\n",
      "Creating body_extremities.nii.gz\n"
     ]
    },
    {
     "data": {
      "application/vnd.jupyter.widget-view+json": {
       "model_id": "fb459299096e47ebaf3b0f686f045960",
       "version_major": 2,
       "version_minor": 0
      },
      "text/plain": [
       "  0%|          | 0/2 [00:00<?, ?it/s]"
      ]
     },
     "metadata": {},
     "output_type": "display_data"
    },
    {
     "name": "stdout",
     "output_type": "stream",
     "text": [
      "  Saved in 0.33s\n",
      "Creating body.nii.gz\n",
      "Creating skin.nii.gz\n",
      "Segmenting Case2Pack phase 90\n",
      "\n",
      "If you use this tool please cite: https://pubs.rsna.org/doi/10.1148/ryai.230024\n",
      "\n",
      "Generating rough body segmentation...\n",
      "Resampling...\n",
      "  Resampled in 0.24s\n",
      "Predicting...\n"
     ]
    },
    {
     "name": "stderr",
     "output_type": "stream",
     "text": [
      "/ocean/projects/asc170022p/mtragoza/mambaforge/envs/lung-project/lib/python3.10/site-packages/nnunetv2/utilities/plans_handling/plans_handler.py:37: UserWarning: Detected old nnU-Net plans format. Attempting to reconstruct network architecture parameters. If this fails, rerun nnUNetv2_plan_experiment for your dataset. If you use a custom architecture, please downgrade nnU-Net to the version you implemented this or update your implementation + plans.\n",
      "  warnings.warn(\"Detected old nnU-Net plans format. Attempting to reconstruct network architecture \"\n",
      "100%|██████████| 1/1 [00:00<00:00, 93.54it/s]\n"
     ]
    },
    {
     "name": "stdout",
     "output_type": "stream",
     "text": [
      "  Predicted in 7.22s\n",
      "Resampling...\n",
      "  cropping from (256, 256, 94) to (256, 204, 92)\n",
      "Resampling...\n",
      "  Resampled in 1.92s\n",
      "Predicting part 1 of 1 ...\n"
     ]
    },
    {
     "name": "stderr",
     "output_type": "stream",
     "text": [
      "100%|██████████| 8/8 [00:00<00:00, 33.09it/s]\n"
     ]
    },
    {
     "name": "stdout",
     "output_type": "stream",
     "text": [
      "  Predicted in 9.67s\n",
      "Resampling...\n",
      "Saving segmentations...\n"
     ]
    },
    {
     "data": {
      "application/vnd.jupyter.widget-view+json": {
       "model_id": "1da19bb0576d43229be48934049557c3",
       "version_major": 2,
       "version_minor": 0
      },
      "text/plain": [
       "  0%|          | 0/5 [00:00<?, ?it/s]"
      ]
     },
     "metadata": {},
     "output_type": "display_data"
    },
    {
     "name": "stdout",
     "output_type": "stream",
     "text": [
      "  Saved in 0.58s\n",
      "\n",
      "If you use this tool please cite: https://pubs.rsna.org/doi/10.1148/ryai.230024\n",
      "\n",
      "Generating rough body segmentation...\n",
      "Resampling...\n",
      "  Resampled in 0.24s\n",
      "Predicting...\n"
     ]
    },
    {
     "name": "stderr",
     "output_type": "stream",
     "text": [
      "/ocean/projects/asc170022p/mtragoza/mambaforge/envs/lung-project/lib/python3.10/site-packages/nnunetv2/utilities/plans_handling/plans_handler.py:37: UserWarning: Detected old nnU-Net plans format. Attempting to reconstruct network architecture parameters. If this fails, rerun nnUNetv2_plan_experiment for your dataset. If you use a custom architecture, please downgrade nnU-Net to the version you implemented this or update your implementation + plans.\n",
      "  warnings.warn(\"Detected old nnU-Net plans format. Attempting to reconstruct network architecture \"\n",
      "100%|██████████| 1/1 [00:00<00:00, 109.65it/s]\n"
     ]
    },
    {
     "name": "stdout",
     "output_type": "stream",
     "text": [
      "  Predicted in 7.18s\n",
      "Resampling...\n",
      "  cropping from (256, 256, 94) to (256, 204, 92)\n",
      "Predicting...\n"
     ]
    },
    {
     "name": "stderr",
     "output_type": "stream",
     "text": [
      "100%|██████████| 80/80 [00:04<00:00, 17.64it/s]\n"
     ]
    },
    {
     "name": "stdout",
     "output_type": "stream",
     "text": [
      "  Predicted in 28.06s\n",
      "Saving segmentations...\n",
      "Creating lung_vessels.nii.gz\n",
      "Creating lung_trachea_bronchia.nii.gz\n"
     ]
    },
    {
     "data": {
      "application/vnd.jupyter.widget-view+json": {
       "model_id": "9f2618f8efe54076b2826ed54a87fd7e",
       "version_major": 2,
       "version_minor": 0
      },
      "text/plain": [
       "  0%|          | 0/2 [00:00<?, ?it/s]"
      ]
     },
     "metadata": {},
     "output_type": "display_data"
    },
    {
     "name": "stdout",
     "output_type": "stream",
     "text": [
      "  Saved in 0.49s\n",
      "\n",
      "If you use this tool please cite: https://pubs.rsna.org/doi/10.1148/ryai.230024\n",
      "\n",
      "Resampling...\n",
      "  Resampled in 2.53s\n",
      "Predicting...\n"
     ]
    },
    {
     "name": "stderr",
     "output_type": "stream",
     "text": [
      "/ocean/projects/asc170022p/mtragoza/mambaforge/envs/lung-project/lib/python3.10/site-packages/nnunetv2/utilities/plans_handling/plans_handler.py:37: UserWarning: Detected old nnU-Net plans format. Attempting to reconstruct network architecture parameters. If this fails, rerun nnUNetv2_plan_experiment for your dataset. If you use a custom architecture, please downgrade nnU-Net to the version you implemented this or update your implementation + plans.\n",
      "  warnings.warn(\"Detected old nnU-Net plans format. Attempting to reconstruct network architecture \"\n",
      "100%|██████████| 18/18 [00:00<00:00, 23.19it/s]\n"
     ]
    },
    {
     "name": "stdout",
     "output_type": "stream",
     "text": [
      "  Predicted in 10.10s\n"
     ]
    },
    {
     "name": "stderr",
     "output_type": "stream",
     "text": [
      "100%|██████████| 1/1 [00:00<00:00,  7.40it/s]\n",
      "100%|██████████| 1/1 [00:00<00:00,  8.06it/s]\n"
     ]
    },
    {
     "name": "stdout",
     "output_type": "stream",
     "text": [
      "Resampling...\n",
      "Saving segmentations...\n",
      "Creating body_trunc.nii.gz\n",
      "Creating body_extremities.nii.gz\n"
     ]
    },
    {
     "data": {
      "application/vnd.jupyter.widget-view+json": {
       "model_id": "81a9a7f5150a47f6b2a368ab1630aacb",
       "version_major": 2,
       "version_minor": 0
      },
      "text/plain": [
       "  0%|          | 0/2 [00:00<?, ?it/s]"
      ]
     },
     "metadata": {},
     "output_type": "display_data"
    },
    {
     "name": "stdout",
     "output_type": "stream",
     "text": [
      "  Saved in 249.74s\n",
      "Creating body.nii.gz\n",
      "Creating skin.nii.gz\n",
      "Segmenting Case3Pack phase 0\n",
      "\n",
      "If you use this tool please cite: https://pubs.rsna.org/doi/10.1148/ryai.230024\n",
      "\n",
      "Generating rough body segmentation...\n",
      "Resampling...\n",
      "  Resampled in 0.23s\n",
      "Predicting...\n"
     ]
    },
    {
     "name": "stderr",
     "output_type": "stream",
     "text": [
      "/ocean/projects/asc170022p/mtragoza/mambaforge/envs/lung-project/lib/python3.10/site-packages/nnunetv2/utilities/plans_handling/plans_handler.py:37: UserWarning: Detected old nnU-Net plans format. Attempting to reconstruct network architecture parameters. If this fails, rerun nnUNetv2_plan_experiment for your dataset. If you use a custom architecture, please downgrade nnU-Net to the version you implemented this or update your implementation + plans.\n",
      "  warnings.warn(\"Detected old nnU-Net plans format. Attempting to reconstruct network architecture \"\n",
      "100%|██████████| 1/1 [00:02<00:00,  2.29s/it]\n"
     ]
    },
    {
     "name": "stdout",
     "output_type": "stream",
     "text": [
      "  Predicted in 10.35s\n",
      "Resampling...\n",
      "  cropping from (256, 256, 94) to (256, 206, 94)\n",
      "Resampling...\n",
      "  Resampled in 1.66s\n",
      "Predicting part 1 of 1 ...\n"
     ]
    },
    {
     "name": "stderr",
     "output_type": "stream",
     "text": [
      "100%|██████████| 8/8 [00:00<00:00, 23.02it/s]\n"
     ]
    },
    {
     "name": "stdout",
     "output_type": "stream",
     "text": [
      "  Predicted in 9.25s\n",
      "Resampling...\n",
      "Saving segmentations...\n"
     ]
    },
    {
     "data": {
      "application/vnd.jupyter.widget-view+json": {
       "model_id": "a2c6230c16cc473795e148bfef2c123d",
       "version_major": 2,
       "version_minor": 0
      },
      "text/plain": [
       "  0%|          | 0/5 [00:00<?, ?it/s]"
      ]
     },
     "metadata": {},
     "output_type": "display_data"
    },
    {
     "name": "stdout",
     "output_type": "stream",
     "text": [
      "  Saved in 0.65s\n",
      "\n",
      "If you use this tool please cite: https://pubs.rsna.org/doi/10.1148/ryai.230024\n",
      "\n",
      "Generating rough body segmentation...\n",
      "Resampling...\n",
      "  Resampled in 0.24s\n",
      "Predicting...\n"
     ]
    },
    {
     "name": "stderr",
     "output_type": "stream",
     "text": [
      "/ocean/projects/asc170022p/mtragoza/mambaforge/envs/lung-project/lib/python3.10/site-packages/nnunetv2/utilities/plans_handling/plans_handler.py:37: UserWarning: Detected old nnU-Net plans format. Attempting to reconstruct network architecture parameters. If this fails, rerun nnUNetv2_plan_experiment for your dataset. If you use a custom architecture, please downgrade nnU-Net to the version you implemented this or update your implementation + plans.\n",
      "  warnings.warn(\"Detected old nnU-Net plans format. Attempting to reconstruct network architecture \"\n",
      "100%|██████████| 1/1 [00:00<00:00, 106.62it/s]\n"
     ]
    },
    {
     "name": "stdout",
     "output_type": "stream",
     "text": [
      "  Predicted in 7.24s\n",
      "Resampling...\n",
      "  cropping from (256, 256, 94) to (256, 206, 94)\n",
      "Predicting...\n"
     ]
    },
    {
     "name": "stderr",
     "output_type": "stream",
     "text": [
      "100%|██████████| 80/80 [00:04<00:00, 17.68it/s]\n"
     ]
    },
    {
     "name": "stdout",
     "output_type": "stream",
     "text": [
      "  Predicted in 25.46s\n",
      "Saving segmentations...\n",
      "Creating lung_vessels.nii.gz\n",
      "Creating lung_trachea_bronchia.nii.gz"
     ]
    },
    {
     "data": {
      "application/vnd.jupyter.widget-view+json": {
       "model_id": "941a678c451c4529a9e9becbfc2081de",
       "version_major": 2,
       "version_minor": 0
      },
      "text/plain": [
       "  0%|          | 0/2 [00:00<?, ?it/s]"
      ]
     },
     "metadata": {},
     "output_type": "display_data"
    },
    {
     "name": "stdout",
     "output_type": "stream",
     "text": [
      "\n",
      "  Saved in 0.48s\n",
      "\n",
      "If you use this tool please cite: https://pubs.rsna.org/doi/10.1148/ryai.230024\n",
      "\n",
      "Resampling...\n",
      "  Resampled in 2.06s\n",
      "Predicting...\n"
     ]
    },
    {
     "name": "stderr",
     "output_type": "stream",
     "text": [
      "/ocean/projects/asc170022p/mtragoza/mambaforge/envs/lung-project/lib/python3.10/site-packages/nnunetv2/utilities/plans_handling/plans_handler.py:37: UserWarning: Detected old nnU-Net plans format. Attempting to reconstruct network architecture parameters. If this fails, rerun nnUNetv2_plan_experiment for your dataset. If you use a custom architecture, please downgrade nnU-Net to the version you implemented this or update your implementation + plans.\n",
      "  warnings.warn(\"Detected old nnU-Net plans format. Attempting to reconstruct network architecture \"\n",
      "100%|██████████| 8/8 [00:00<00:00, 33.89it/s]\n"
     ]
    },
    {
     "name": "stdout",
     "output_type": "stream",
     "text": [
      "  Predicted in 8.61s\n"
     ]
    },
    {
     "name": "stderr",
     "output_type": "stream",
     "text": [
      "100%|██████████| 1/1 [00:00<00:00, 10.05it/s]\n",
      "100%|██████████| 1/1 [00:00<00:00, 10.58it/s]\n"
     ]
    },
    {
     "name": "stdout",
     "output_type": "stream",
     "text": [
      "Resampling...\n",
      "Saving segmentations...\n",
      "Creating body_trunc.nii.gz"
     ]
    },
    {
     "data": {
      "application/vnd.jupyter.widget-view+json": {
       "model_id": "8351983310d843b2a00879613af0052a",
       "version_major": 2,
       "version_minor": 0
      },
      "text/plain": [
       "  0%|          | 0/2 [00:00<?, ?it/s]"
      ]
     },
     "metadata": {},
     "output_type": "display_data"
    },
    {
     "name": "stdout",
     "output_type": "stream",
     "text": [
      "\n",
      "Creating body_extremities.nii.gz\n",
      "  Saved in 0.33s\n",
      "Creating body.nii.gz\n",
      "Creating skin.nii.gz\n",
      "Segmenting Case3Pack phase 10\n",
      "\n",
      "If you use this tool please cite: https://pubs.rsna.org/doi/10.1148/ryai.230024\n",
      "\n",
      "Generating rough body segmentation...\n",
      "Resampling...\n",
      "  Resampled in 0.23s\n",
      "Predicting...\n"
     ]
    },
    {
     "name": "stderr",
     "output_type": "stream",
     "text": [
      "/ocean/projects/asc170022p/mtragoza/mambaforge/envs/lung-project/lib/python3.10/site-packages/nnunetv2/utilities/plans_handling/plans_handler.py:37: UserWarning: Detected old nnU-Net plans format. Attempting to reconstruct network architecture parameters. If this fails, rerun nnUNetv2_plan_experiment for your dataset. If you use a custom architecture, please downgrade nnU-Net to the version you implemented this or update your implementation + plans.\n",
      "  warnings.warn(\"Detected old nnU-Net plans format. Attempting to reconstruct network architecture \"\n",
      "100%|██████████| 1/1 [00:00<00:00, 95.50it/s]\n"
     ]
    },
    {
     "name": "stdout",
     "output_type": "stream",
     "text": [
      "  Predicted in 7.04s\n",
      "Resampling...\n",
      "  cropping from (256, 256, 94) to (256, 206, 94)\n",
      "Resampling...\n",
      "  Resampled in 1.62s\n",
      "Predicting part 1 of 1 ...\n"
     ]
    },
    {
     "name": "stderr",
     "output_type": "stream",
     "text": [
      "100%|██████████| 8/8 [00:00<00:00, 32.78it/s]\n"
     ]
    },
    {
     "name": "stdout",
     "output_type": "stream",
     "text": [
      "  Predicted in 9.08s\n",
      "Resampling...\n",
      "Saving segmentations...\n"
     ]
    },
    {
     "data": {
      "application/vnd.jupyter.widget-view+json": {
       "model_id": "f49a42030ec44995b1e4539d05f9b7d3",
       "version_major": 2,
       "version_minor": 0
      },
      "text/plain": [
       "  0%|          | 0/5 [00:00<?, ?it/s]"
      ]
     },
     "metadata": {},
     "output_type": "display_data"
    },
    {
     "name": "stdout",
     "output_type": "stream",
     "text": [
      "  Saved in 0.70s\n",
      "\n",
      "If you use this tool please cite: https://pubs.rsna.org/doi/10.1148/ryai.230024\n",
      "\n",
      "Generating rough body segmentation...\n",
      "Resampling...\n",
      "  Resampled in 0.23s\n",
      "Predicting...\n"
     ]
    },
    {
     "name": "stderr",
     "output_type": "stream",
     "text": [
      "/ocean/projects/asc170022p/mtragoza/mambaforge/envs/lung-project/lib/python3.10/site-packages/nnunetv2/utilities/plans_handling/plans_handler.py:37: UserWarning: Detected old nnU-Net plans format. Attempting to reconstruct network architecture parameters. If this fails, rerun nnUNetv2_plan_experiment for your dataset. If you use a custom architecture, please downgrade nnU-Net to the version you implemented this or update your implementation + plans.\n",
      "  warnings.warn(\"Detected old nnU-Net plans format. Attempting to reconstruct network architecture \"\n",
      "100%|██████████| 1/1 [00:00<00:00, 109.80it/s]\n"
     ]
    },
    {
     "name": "stdout",
     "output_type": "stream",
     "text": [
      "  Predicted in 7.20s\n",
      "Resampling...\n",
      "  cropping from (256, 256, 94) to (256, 206, 94)\n",
      "Predicting...\n"
     ]
    },
    {
     "name": "stderr",
     "output_type": "stream",
     "text": [
      "100%|██████████| 80/80 [00:04<00:00, 17.68it/s]\n"
     ]
    },
    {
     "name": "stdout",
     "output_type": "stream",
     "text": [
      "  Predicted in 25.62s\n",
      "Saving segmentations...\n",
      "Creating lung_vessels.nii.gz\n",
      "\n",
      "Creating lung_trachea_bronchia.nii.gz"
     ]
    },
    {
     "data": {
      "application/vnd.jupyter.widget-view+json": {
       "model_id": "e540405422524aeeb4857bb48eab5314",
       "version_major": 2,
       "version_minor": 0
      },
      "text/plain": [
       "  0%|          | 0/2 [00:00<?, ?it/s]"
      ]
     },
     "metadata": {},
     "output_type": "display_data"
    },
    {
     "name": "stdout",
     "output_type": "stream",
     "text": [
      "  Saved in 0.50s\n",
      "\n",
      "If you use this tool please cite: https://pubs.rsna.org/doi/10.1148/ryai.230024\n",
      "\n",
      "Resampling...\n",
      "  Resampled in 2.05s\n",
      "Predicting...\n"
     ]
    },
    {
     "name": "stderr",
     "output_type": "stream",
     "text": [
      "/ocean/projects/asc170022p/mtragoza/mambaforge/envs/lung-project/lib/python3.10/site-packages/nnunetv2/utilities/plans_handling/plans_handler.py:37: UserWarning: Detected old nnU-Net plans format. Attempting to reconstruct network architecture parameters. If this fails, rerun nnUNetv2_plan_experiment for your dataset. If you use a custom architecture, please downgrade nnU-Net to the version you implemented this or update your implementation + plans.\n",
      "  warnings.warn(\"Detected old nnU-Net plans format. Attempting to reconstruct network architecture \"\n",
      "100%|██████████| 8/8 [00:00<00:00, 33.23it/s]\n"
     ]
    },
    {
     "name": "stdout",
     "output_type": "stream",
     "text": [
      "  Predicted in 8.87s\n"
     ]
    },
    {
     "name": "stderr",
     "output_type": "stream",
     "text": [
      "100%|██████████| 1/1 [00:00<00:00,  9.71it/s]\n",
      "100%|██████████| 1/1 [00:00<00:00, 10.42it/s]\n"
     ]
    },
    {
     "name": "stdout",
     "output_type": "stream",
     "text": [
      "Resampling...\n",
      "Saving segmentations...\n",
      "Creating body_trunc.nii.gz\n",
      "Creating body_extremities.nii.gz\n"
     ]
    },
    {
     "data": {
      "application/vnd.jupyter.widget-view+json": {
       "model_id": "972132ec3c1540ccbf71194da3a75461",
       "version_major": 2,
       "version_minor": 0
      },
      "text/plain": [
       "  0%|          | 0/2 [00:00<?, ?it/s]"
      ]
     },
     "metadata": {},
     "output_type": "display_data"
    },
    {
     "name": "stdout",
     "output_type": "stream",
     "text": [
      "  Saved in 0.34s\n",
      "Creating body.nii.gz\n",
      "Creating skin.nii.gz\n",
      "Segmenting Case3Pack phase 20\n",
      "\n",
      "If you use this tool please cite: https://pubs.rsna.org/doi/10.1148/ryai.230024\n",
      "\n",
      "Generating rough body segmentation...\n",
      "Resampling...\n",
      "  Resampled in 0.23s\n",
      "Predicting...\n"
     ]
    },
    {
     "name": "stderr",
     "output_type": "stream",
     "text": [
      "/ocean/projects/asc170022p/mtragoza/mambaforge/envs/lung-project/lib/python3.10/site-packages/nnunetv2/utilities/plans_handling/plans_handler.py:37: UserWarning: Detected old nnU-Net plans format. Attempting to reconstruct network architecture parameters. If this fails, rerun nnUNetv2_plan_experiment for your dataset. If you use a custom architecture, please downgrade nnU-Net to the version you implemented this or update your implementation + plans.\n",
      "  warnings.warn(\"Detected old nnU-Net plans format. Attempting to reconstruct network architecture \"\n",
      "100%|██████████| 1/1 [00:00<00:00, 85.05it/s]\n"
     ]
    },
    {
     "name": "stdout",
     "output_type": "stream",
     "text": [
      "  Predicted in 7.09s\n",
      "Resampling...\n",
      "  cropping from (256, 256, 94) to (256, 206, 93)\n",
      "Resampling...\n",
      "  Resampled in 1.60s\n",
      "Predicting part 1 of 1 ...\n"
     ]
    },
    {
     "name": "stderr",
     "output_type": "stream",
     "text": [
      "100%|██████████| 8/8 [00:00<00:00, 32.74it/s]\n"
     ]
    },
    {
     "name": "stdout",
     "output_type": "stream",
     "text": [
      "  Predicted in 9.12s\n",
      "Resampling...\n",
      "Saving segmentations...\n"
     ]
    },
    {
     "data": {
      "application/vnd.jupyter.widget-view+json": {
       "model_id": "0ac62298f59343959a6a2437b342bc02",
       "version_major": 2,
       "version_minor": 0
      },
      "text/plain": [
       "  0%|          | 0/5 [00:00<?, ?it/s]"
      ]
     },
     "metadata": {},
     "output_type": "display_data"
    },
    {
     "name": "stdout",
     "output_type": "stream",
     "text": [
      "  Saved in 0.55s\n",
      "\n",
      "If you use this tool please cite: https://pubs.rsna.org/doi/10.1148/ryai.230024\n",
      "\n",
      "Generating rough body segmentation...\n",
      "Resampling...\n",
      "  Resampled in 0.23s\n",
      "Predicting...\n"
     ]
    },
    {
     "name": "stderr",
     "output_type": "stream",
     "text": [
      "/ocean/projects/asc170022p/mtragoza/mambaforge/envs/lung-project/lib/python3.10/site-packages/nnunetv2/utilities/plans_handling/plans_handler.py:37: UserWarning: Detected old nnU-Net plans format. Attempting to reconstruct network architecture parameters. If this fails, rerun nnUNetv2_plan_experiment for your dataset. If you use a custom architecture, please downgrade nnU-Net to the version you implemented this or update your implementation + plans.\n",
      "  warnings.warn(\"Detected old nnU-Net plans format. Attempting to reconstruct network architecture \"\n",
      "100%|██████████| 1/1 [00:00<00:00, 50.42it/s]\n"
     ]
    },
    {
     "name": "stdout",
     "output_type": "stream",
     "text": [
      "  Predicted in 7.27s\n",
      "Resampling...\n",
      "  cropping from (256, 256, 94) to (256, 206, 93)\n",
      "Predicting...\n"
     ]
    },
    {
     "name": "stderr",
     "output_type": "stream",
     "text": [
      "100%|██████████| 80/80 [00:04<00:00, 17.62it/s]\n"
     ]
    },
    {
     "name": "stdout",
     "output_type": "stream",
     "text": [
      "  Predicted in 25.27s\n",
      "Saving segmentations...\n",
      "Creating lung_vessels.nii.gz"
     ]
    },
    {
     "data": {
      "application/vnd.jupyter.widget-view+json": {
       "model_id": "790040910658494da69a52e092f36373",
       "version_major": 2,
       "version_minor": 0
      },
      "text/plain": [
       "  0%|          | 0/2 [00:00<?, ?it/s]"
      ]
     },
     "metadata": {},
     "output_type": "display_data"
    },
    {
     "name": "stdout",
     "output_type": "stream",
     "text": [
      "Creating lung_trachea_bronchia.nii.gz\n",
      "\n",
      "  Saved in 0.48s\n",
      "\n",
      "If you use this tool please cite: https://pubs.rsna.org/doi/10.1148/ryai.230024\n",
      "\n",
      "Resampling...\n",
      "  Resampled in 2.04s\n",
      "Predicting...\n"
     ]
    },
    {
     "name": "stderr",
     "output_type": "stream",
     "text": [
      "/ocean/projects/asc170022p/mtragoza/mambaforge/envs/lung-project/lib/python3.10/site-packages/nnunetv2/utilities/plans_handling/plans_handler.py:37: UserWarning: Detected old nnU-Net plans format. Attempting to reconstruct network architecture parameters. If this fails, rerun nnUNetv2_plan_experiment for your dataset. If you use a custom architecture, please downgrade nnU-Net to the version you implemented this or update your implementation + plans.\n",
      "  warnings.warn(\"Detected old nnU-Net plans format. Attempting to reconstruct network architecture \"\n",
      "100%|██████████| 8/8 [00:00<00:00, 33.86it/s]\n"
     ]
    },
    {
     "name": "stdout",
     "output_type": "stream",
     "text": [
      "  Predicted in 8.88s\n"
     ]
    },
    {
     "name": "stderr",
     "output_type": "stream",
     "text": [
      "100%|██████████| 1/1 [00:00<00:00,  9.72it/s]\n",
      "100%|██████████| 1/1 [00:00<00:00, 10.61it/s]\n"
     ]
    },
    {
     "name": "stdout",
     "output_type": "stream",
     "text": [
      "Resampling...\n",
      "Saving segmentations...\n",
      "Creating body_trunc.nii.gz\n",
      "Creating body_extremities.nii.gz\n"
     ]
    },
    {
     "data": {
      "application/vnd.jupyter.widget-view+json": {
       "model_id": "fd6feebb9edf42219f17ec84e95e26f7",
       "version_major": 2,
       "version_minor": 0
      },
      "text/plain": [
       "  0%|          | 0/2 [00:00<?, ?it/s]"
      ]
     },
     "metadata": {},
     "output_type": "display_data"
    },
    {
     "name": "stdout",
     "output_type": "stream",
     "text": [
      "  Saved in 0.91s\n",
      "Creating body.nii.gz\n",
      "Creating skin.nii.gz\n",
      "Segmenting Case3Pack phase 30\n",
      "\n",
      "If you use this tool please cite: https://pubs.rsna.org/doi/10.1148/ryai.230024\n",
      "\n",
      "Generating rough body segmentation...\n",
      "Resampling...\n",
      "  Resampled in 0.23s\n",
      "Predicting...\n"
     ]
    },
    {
     "name": "stderr",
     "output_type": "stream",
     "text": [
      "/ocean/projects/asc170022p/mtragoza/mambaforge/envs/lung-project/lib/python3.10/site-packages/nnunetv2/utilities/plans_handling/plans_handler.py:37: UserWarning: Detected old nnU-Net plans format. Attempting to reconstruct network architecture parameters. If this fails, rerun nnUNetv2_plan_experiment for your dataset. If you use a custom architecture, please downgrade nnU-Net to the version you implemented this or update your implementation + plans.\n",
      "  warnings.warn(\"Detected old nnU-Net plans format. Attempting to reconstruct network architecture \"\n",
      "100%|██████████| 1/1 [00:00<00:00, 89.76it/s]\n"
     ]
    },
    {
     "name": "stdout",
     "output_type": "stream",
     "text": [
      "  Predicted in 6.99s\n",
      "Resampling...\n",
      "  cropping from (256, 256, 94) to (256, 206, 93)\n",
      "Resampling...\n",
      "  Resampled in 1.60s\n",
      "Predicting part 1 of 1 ...\n"
     ]
    },
    {
     "name": "stderr",
     "output_type": "stream",
     "text": [
      "100%|██████████| 8/8 [00:00<00:00, 33.28it/s]\n"
     ]
    },
    {
     "name": "stdout",
     "output_type": "stream",
     "text": [
      "  Predicted in 9.27s\n",
      "Resampling...\n",
      "Saving segmentations...\n"
     ]
    },
    {
     "data": {
      "application/vnd.jupyter.widget-view+json": {
       "model_id": "7de55308f6bc4b3c94cac48266a053a0",
       "version_major": 2,
       "version_minor": 0
      },
      "text/plain": [
       "  0%|          | 0/5 [00:00<?, ?it/s]"
      ]
     },
     "metadata": {},
     "output_type": "display_data"
    },
    {
     "name": "stdout",
     "output_type": "stream",
     "text": [
      "  Saved in 0.64s\n",
      "\n",
      "If you use this tool please cite: https://pubs.rsna.org/doi/10.1148/ryai.230024\n",
      "\n",
      "Generating rough body segmentation...\n",
      "Resampling...\n",
      "  Resampled in 0.23s\n",
      "Predicting...\n"
     ]
    },
    {
     "name": "stderr",
     "output_type": "stream",
     "text": [
      "/ocean/projects/asc170022p/mtragoza/mambaforge/envs/lung-project/lib/python3.10/site-packages/nnunetv2/utilities/plans_handling/plans_handler.py:37: UserWarning: Detected old nnU-Net plans format. Attempting to reconstruct network architecture parameters. If this fails, rerun nnUNetv2_plan_experiment for your dataset. If you use a custom architecture, please downgrade nnU-Net to the version you implemented this or update your implementation + plans.\n",
      "  warnings.warn(\"Detected old nnU-Net plans format. Attempting to reconstruct network architecture \"\n",
      "100%|██████████| 1/1 [00:00<00:00, 109.86it/s]\n"
     ]
    },
    {
     "name": "stdout",
     "output_type": "stream",
     "text": [
      "  Predicted in 7.21s\n",
      "Resampling...\n",
      "  cropping from (256, 256, 94) to (256, 206, 93)\n",
      "Predicting...\n"
     ]
    },
    {
     "name": "stderr",
     "output_type": "stream",
     "text": [
      "100%|██████████| 80/80 [00:04<00:00, 17.63it/s]\n"
     ]
    },
    {
     "name": "stdout",
     "output_type": "stream",
     "text": [
      "  Predicted in 25.44s\n",
      "Saving segmentations...\n",
      "Creating lung_vessels.nii.gz\n",
      "Creating lung_trachea_bronchia.nii.gz\n"
     ]
    },
    {
     "data": {
      "application/vnd.jupyter.widget-view+json": {
       "model_id": "d2492b025fda43828c5d090568e96792",
       "version_major": 2,
       "version_minor": 0
      },
      "text/plain": [
       "  0%|          | 0/2 [00:00<?, ?it/s]"
      ]
     },
     "metadata": {},
     "output_type": "display_data"
    },
    {
     "name": "stdout",
     "output_type": "stream",
     "text": [
      "  Saved in 0.68s\n",
      "\n",
      "If you use this tool please cite: https://pubs.rsna.org/doi/10.1148/ryai.230024\n",
      "\n",
      "Resampling...\n",
      "  Resampled in 2.05s\n",
      "Predicting...\n"
     ]
    },
    {
     "name": "stderr",
     "output_type": "stream",
     "text": [
      "/ocean/projects/asc170022p/mtragoza/mambaforge/envs/lung-project/lib/python3.10/site-packages/nnunetv2/utilities/plans_handling/plans_handler.py:37: UserWarning: Detected old nnU-Net plans format. Attempting to reconstruct network architecture parameters. If this fails, rerun nnUNetv2_plan_experiment for your dataset. If you use a custom architecture, please downgrade nnU-Net to the version you implemented this or update your implementation + plans.\n",
      "  warnings.warn(\"Detected old nnU-Net plans format. Attempting to reconstruct network architecture \"\n",
      "100%|██████████| 8/8 [00:00<00:00, 33.27it/s]\n"
     ]
    },
    {
     "name": "stdout",
     "output_type": "stream",
     "text": [
      "  Predicted in 8.70s\n"
     ]
    },
    {
     "name": "stderr",
     "output_type": "stream",
     "text": [
      "100%|██████████| 1/1 [00:00<00:00, 10.20it/s]\n",
      "100%|██████████| 1/1 [00:00<00:00, 10.69it/s]\n"
     ]
    },
    {
     "name": "stdout",
     "output_type": "stream",
     "text": [
      "Resampling...\n",
      "Saving segmentations...\n",
      "Creating body_trunc.nii.gz\n",
      "Creating body_extremities.nii.gz\n"
     ]
    },
    {
     "data": {
      "application/vnd.jupyter.widget-view+json": {
       "model_id": "76e08fb667524e43acae57a493efe426",
       "version_major": 2,
       "version_minor": 0
      },
      "text/plain": [
       "  0%|          | 0/2 [00:00<?, ?it/s]"
      ]
     },
     "metadata": {},
     "output_type": "display_data"
    },
    {
     "name": "stdout",
     "output_type": "stream",
     "text": [
      "  Saved in 0.37s\n",
      "Creating body.nii.gz\n",
      "Creating skin.nii.gz\n",
      "Segmenting Case3Pack phase 40\n",
      "\n",
      "If you use this tool please cite: https://pubs.rsna.org/doi/10.1148/ryai.230024\n",
      "\n",
      "Generating rough body segmentation...\n",
      "Resampling...\n",
      "  Resampled in 0.23s\n",
      "Predicting...\n"
     ]
    },
    {
     "name": "stderr",
     "output_type": "stream",
     "text": [
      "/ocean/projects/asc170022p/mtragoza/mambaforge/envs/lung-project/lib/python3.10/site-packages/nnunetv2/utilities/plans_handling/plans_handler.py:37: UserWarning: Detected old nnU-Net plans format. Attempting to reconstruct network architecture parameters. If this fails, rerun nnUNetv2_plan_experiment for your dataset. If you use a custom architecture, please downgrade nnU-Net to the version you implemented this or update your implementation + plans.\n",
      "  warnings.warn(\"Detected old nnU-Net plans format. Attempting to reconstruct network architecture \"\n",
      "100%|██████████| 1/1 [00:00<00:00, 106.89it/s]\n"
     ]
    },
    {
     "name": "stdout",
     "output_type": "stream",
     "text": [
      "  Predicted in 7.10s\n",
      "Resampling...\n",
      "  cropping from (256, 256, 94) to (256, 206, 94)\n",
      "Resampling...\n",
      "  Resampled in 1.64s\n",
      "Predicting part 1 of 1 ...\n"
     ]
    },
    {
     "name": "stderr",
     "output_type": "stream",
     "text": [
      "100%|██████████| 8/8 [00:00<00:00, 32.72it/s]\n"
     ]
    },
    {
     "name": "stdout",
     "output_type": "stream",
     "text": [
      "  Predicted in 9.05s\n",
      "Resampling...\n",
      "Saving segmentations...\n"
     ]
    },
    {
     "data": {
      "application/vnd.jupyter.widget-view+json": {
       "model_id": "ac44381246c84855847766c425a36337",
       "version_major": 2,
       "version_minor": 0
      },
      "text/plain": [
       "  0%|          | 0/5 [00:00<?, ?it/s]"
      ]
     },
     "metadata": {},
     "output_type": "display_data"
    },
    {
     "name": "stdout",
     "output_type": "stream",
     "text": [
      "  Saved in 0.60s\n",
      "\n",
      "If you use this tool please cite: https://pubs.rsna.org/doi/10.1148/ryai.230024\n",
      "\n",
      "Generating rough body segmentation...\n",
      "Resampling...\n",
      "  Resampled in 0.23s\n",
      "Predicting...\n"
     ]
    },
    {
     "name": "stderr",
     "output_type": "stream",
     "text": [
      "/ocean/projects/asc170022p/mtragoza/mambaforge/envs/lung-project/lib/python3.10/site-packages/nnunetv2/utilities/plans_handling/plans_handler.py:37: UserWarning: Detected old nnU-Net plans format. Attempting to reconstruct network architecture parameters. If this fails, rerun nnUNetv2_plan_experiment for your dataset. If you use a custom architecture, please downgrade nnU-Net to the version you implemented this or update your implementation + plans.\n",
      "  warnings.warn(\"Detected old nnU-Net plans format. Attempting to reconstruct network architecture \"\n",
      "100%|██████████| 1/1 [00:00<00:00, 110.14it/s]\n"
     ]
    },
    {
     "name": "stdout",
     "output_type": "stream",
     "text": [
      "  Predicted in 7.23s\n",
      "Resampling...\n",
      "  cropping from (256, 256, 94) to (256, 206, 94)\n",
      "Predicting...\n"
     ]
    },
    {
     "name": "stderr",
     "output_type": "stream",
     "text": [
      "100%|██████████| 80/80 [00:04<00:00, 17.63it/s]\n"
     ]
    },
    {
     "name": "stdout",
     "output_type": "stream",
     "text": [
      "  Predicted in 25.48s\n",
      "Saving segmentations...\n",
      "Creating lung_vessels.nii.gz\n",
      "Creating lung_trachea_bronchia.nii.gz"
     ]
    },
    {
     "data": {
      "application/vnd.jupyter.widget-view+json": {
       "model_id": "db5a5bf597c94b098a3c592aae198438",
       "version_major": 2,
       "version_minor": 0
      },
      "text/plain": [
       "  0%|          | 0/2 [00:00<?, ?it/s]"
      ]
     },
     "metadata": {},
     "output_type": "display_data"
    },
    {
     "name": "stdout",
     "output_type": "stream",
     "text": [
      "\n",
      "  Saved in 0.48s\n",
      "\n",
      "If you use this tool please cite: https://pubs.rsna.org/doi/10.1148/ryai.230024\n",
      "\n",
      "Resampling...\n",
      "  Resampled in 2.04s\n",
      "Predicting...\n"
     ]
    },
    {
     "name": "stderr",
     "output_type": "stream",
     "text": [
      "/ocean/projects/asc170022p/mtragoza/mambaforge/envs/lung-project/lib/python3.10/site-packages/nnunetv2/utilities/plans_handling/plans_handler.py:37: UserWarning: Detected old nnU-Net plans format. Attempting to reconstruct network architecture parameters. If this fails, rerun nnUNetv2_plan_experiment for your dataset. If you use a custom architecture, please downgrade nnU-Net to the version you implemented this or update your implementation + plans.\n",
      "  warnings.warn(\"Detected old nnU-Net plans format. Attempting to reconstruct network architecture \"\n",
      "100%|██████████| 8/8 [00:00<00:00, 34.05it/s]\n"
     ]
    },
    {
     "name": "stdout",
     "output_type": "stream",
     "text": [
      "  Predicted in 8.83s\n"
     ]
    },
    {
     "name": "stderr",
     "output_type": "stream",
     "text": [
      "100%|██████████| 1/1 [00:00<00:00,  9.74it/s]\n",
      "100%|██████████| 1/1 [00:00<00:00, 10.19it/s]\n"
     ]
    },
    {
     "name": "stdout",
     "output_type": "stream",
     "text": [
      "Resampling...\n",
      "Saving segmentations...\n",
      "Creating body_trunc.nii.gz\n",
      "Creating body_extremities.nii.gz\n"
     ]
    },
    {
     "data": {
      "application/vnd.jupyter.widget-view+json": {
       "model_id": "62b84d12faa34e6784763dea771e178a",
       "version_major": 2,
       "version_minor": 0
      },
      "text/plain": [
       "  0%|          | 0/2 [00:00<?, ?it/s]"
      ]
     },
     "metadata": {},
     "output_type": "display_data"
    },
    {
     "name": "stdout",
     "output_type": "stream",
     "text": [
      "  Saved in 0.38s\n",
      "Creating body.nii.gz\n",
      "Creating skin.nii.gz\n",
      "Segmenting Case3Pack phase 50\n",
      "\n",
      "If you use this tool please cite: https://pubs.rsna.org/doi/10.1148/ryai.230024\n",
      "\n",
      "Generating rough body segmentation...\n",
      "Resampling...\n",
      "  Resampled in 0.23s\n",
      "Predicting...\n"
     ]
    },
    {
     "name": "stderr",
     "output_type": "stream",
     "text": [
      "/ocean/projects/asc170022p/mtragoza/mambaforge/envs/lung-project/lib/python3.10/site-packages/nnunetv2/utilities/plans_handling/plans_handler.py:37: UserWarning: Detected old nnU-Net plans format. Attempting to reconstruct network architecture parameters. If this fails, rerun nnUNetv2_plan_experiment for your dataset. If you use a custom architecture, please downgrade nnU-Net to the version you implemented this or update your implementation + plans.\n",
      "  warnings.warn(\"Detected old nnU-Net plans format. Attempting to reconstruct network architecture \"\n",
      "100%|██████████| 1/1 [00:00<00:00, 96.92it/s]\n"
     ]
    },
    {
     "name": "stdout",
     "output_type": "stream",
     "text": [
      "  Predicted in 7.01s\n",
      "Resampling...\n",
      "  cropping from (256, 256, 94) to (256, 206, 94)\n",
      "Resampling...\n",
      "  Resampled in 1.63s\n",
      "Predicting part 1 of 1 ...\n"
     ]
    },
    {
     "name": "stderr",
     "output_type": "stream",
     "text": [
      "100%|██████████| 8/8 [00:00<00:00, 33.25it/s]\n"
     ]
    },
    {
     "name": "stdout",
     "output_type": "stream",
     "text": [
      "  Predicted in 9.08s\n",
      "Resampling...\n",
      "Saving segmentations...\n"
     ]
    },
    {
     "data": {
      "application/vnd.jupyter.widget-view+json": {
       "model_id": "6d4832ead8cb4a0db824cbdd805cb57f",
       "version_major": 2,
       "version_minor": 0
      },
      "text/plain": [
       "  0%|          | 0/5 [00:00<?, ?it/s]"
      ]
     },
     "metadata": {},
     "output_type": "display_data"
    },
    {
     "name": "stdout",
     "output_type": "stream",
     "text": [
      "  Saved in 0.58s\n",
      "\n",
      "If you use this tool please cite: https://pubs.rsna.org/doi/10.1148/ryai.230024\n",
      "\n",
      "Generating rough body segmentation...\n",
      "Resampling...\n",
      "  Resampled in 0.24s\n",
      "Predicting...\n"
     ]
    },
    {
     "name": "stderr",
     "output_type": "stream",
     "text": [
      "/ocean/projects/asc170022p/mtragoza/mambaforge/envs/lung-project/lib/python3.10/site-packages/nnunetv2/utilities/plans_handling/plans_handler.py:37: UserWarning: Detected old nnU-Net plans format. Attempting to reconstruct network architecture parameters. If this fails, rerun nnUNetv2_plan_experiment for your dataset. If you use a custom architecture, please downgrade nnU-Net to the version you implemented this or update your implementation + plans.\n",
      "  warnings.warn(\"Detected old nnU-Net plans format. Attempting to reconstruct network architecture \"\n",
      "100%|██████████| 1/1 [00:00<00:00, 109.28it/s]\n"
     ]
    },
    {
     "name": "stdout",
     "output_type": "stream",
     "text": [
      "  Predicted in 7.18s\n",
      "Resampling...\n",
      "  cropping from (256, 256, 94) to (256, 206, 94)\n",
      "Predicting...\n"
     ]
    },
    {
     "name": "stderr",
     "output_type": "stream",
     "text": [
      "100%|██████████| 80/80 [00:04<00:00, 17.63it/s]\n"
     ]
    },
    {
     "name": "stdout",
     "output_type": "stream",
     "text": [
      "  Predicted in 25.38s\n",
      "Saving segmentations...\n",
      "Creating lung_vessels.nii.gz\n",
      "Creating lung_trachea_bronchia.nii.gz\n"
     ]
    },
    {
     "data": {
      "application/vnd.jupyter.widget-view+json": {
       "model_id": "dd48f2636fec49fdbe41182bb996ee22",
       "version_major": 2,
       "version_minor": 0
      },
      "text/plain": [
       "  0%|          | 0/2 [00:00<?, ?it/s]"
      ]
     },
     "metadata": {},
     "output_type": "display_data"
    },
    {
     "name": "stdout",
     "output_type": "stream",
     "text": [
      "  Saved in 0.58s\n",
      "\n",
      "If you use this tool please cite: https://pubs.rsna.org/doi/10.1148/ryai.230024\n",
      "\n",
      "Resampling...\n",
      "  Resampled in 2.06s\n",
      "Predicting...\n"
     ]
    },
    {
     "name": "stderr",
     "output_type": "stream",
     "text": [
      "/ocean/projects/asc170022p/mtragoza/mambaforge/envs/lung-project/lib/python3.10/site-packages/nnunetv2/utilities/plans_handling/plans_handler.py:37: UserWarning: Detected old nnU-Net plans format. Attempting to reconstruct network architecture parameters. If this fails, rerun nnUNetv2_plan_experiment for your dataset. If you use a custom architecture, please downgrade nnU-Net to the version you implemented this or update your implementation + plans.\n",
      "  warnings.warn(\"Detected old nnU-Net plans format. Attempting to reconstruct network architecture \"\n",
      "100%|██████████| 8/8 [00:00<00:00, 34.04it/s]\n"
     ]
    },
    {
     "name": "stdout",
     "output_type": "stream",
     "text": [
      "  Predicted in 8.53s\n"
     ]
    },
    {
     "name": "stderr",
     "output_type": "stream",
     "text": [
      "100%|██████████| 1/1 [00:00<00:00, 10.16it/s]\n",
      "100%|██████████| 1/1 [00:00<00:00, 10.47it/s]\n"
     ]
    },
    {
     "name": "stdout",
     "output_type": "stream",
     "text": [
      "Resampling...\n",
      "Saving segmentations...\n",
      "Creating body_trunc.nii.gz\n"
     ]
    },
    {
     "data": {
      "application/vnd.jupyter.widget-view+json": {
       "model_id": "8d00e9c1b9e94f779cf8f884ef02b7b3",
       "version_major": 2,
       "version_minor": 0
      },
      "text/plain": [
       "  0%|          | 0/2 [00:00<?, ?it/s]"
      ]
     },
     "metadata": {},
     "output_type": "display_data"
    },
    {
     "name": "stdout",
     "output_type": "stream",
     "text": [
      "Creating body_extremities.nii.gz\n",
      "  Saved in 1.84s\n",
      "Creating body.nii.gz\n",
      "Creating skin.nii.gz\n",
      "Segmenting Case3Pack phase 60\n",
      "\n",
      "If you use this tool please cite: https://pubs.rsna.org/doi/10.1148/ryai.230024\n",
      "\n",
      "Generating rough body segmentation...\n",
      "Resampling...\n",
      "  Resampled in 0.23s\n",
      "Predicting...\n"
     ]
    },
    {
     "name": "stderr",
     "output_type": "stream",
     "text": [
      "/ocean/projects/asc170022p/mtragoza/mambaforge/envs/lung-project/lib/python3.10/site-packages/nnunetv2/utilities/plans_handling/plans_handler.py:37: UserWarning: Detected old nnU-Net plans format. Attempting to reconstruct network architecture parameters. If this fails, rerun nnUNetv2_plan_experiment for your dataset. If you use a custom architecture, please downgrade nnU-Net to the version you implemented this or update your implementation + plans.\n",
      "  warnings.warn(\"Detected old nnU-Net plans format. Attempting to reconstruct network architecture \"\n",
      "100%|██████████| 1/1 [00:00<00:00, 108.84it/s]\n"
     ]
    },
    {
     "name": "stdout",
     "output_type": "stream",
     "text": [
      "  Predicted in 7.16s\n",
      "Resampling...\n",
      "  cropping from (256, 256, 94) to (256, 206, 93)\n",
      "Resampling...\n",
      "  Resampled in 1.60s\n",
      "Predicting part 1 of 1 ...\n"
     ]
    },
    {
     "name": "stderr",
     "output_type": "stream",
     "text": [
      "100%|██████████| 8/8 [00:00<00:00, 32.99it/s]\n"
     ]
    },
    {
     "name": "stdout",
     "output_type": "stream",
     "text": [
      "  Predicted in 9.04s\n",
      "Resampling...\n",
      "Saving segmentations...\n"
     ]
    },
    {
     "data": {
      "application/vnd.jupyter.widget-view+json": {
       "model_id": "d4dc8fbc95da4d63a64e88c6759fdfc0",
       "version_major": 2,
       "version_minor": 0
      },
      "text/plain": [
       "  0%|          | 0/5 [00:00<?, ?it/s]"
      ]
     },
     "metadata": {},
     "output_type": "display_data"
    },
    {
     "name": "stdout",
     "output_type": "stream",
     "text": [
      "  Saved in 1.03s\n",
      "\n",
      "If you use this tool please cite: https://pubs.rsna.org/doi/10.1148/ryai.230024\n",
      "\n",
      "Generating rough body segmentation...\n",
      "Resampling...\n",
      "  Resampled in 0.24s\n",
      "Predicting...\n"
     ]
    },
    {
     "name": "stderr",
     "output_type": "stream",
     "text": [
      "/ocean/projects/asc170022p/mtragoza/mambaforge/envs/lung-project/lib/python3.10/site-packages/nnunetv2/utilities/plans_handling/plans_handler.py:37: UserWarning: Detected old nnU-Net plans format. Attempting to reconstruct network architecture parameters. If this fails, rerun nnUNetv2_plan_experiment for your dataset. If you use a custom architecture, please downgrade nnU-Net to the version you implemented this or update your implementation + plans.\n",
      "  warnings.warn(\"Detected old nnU-Net plans format. Attempting to reconstruct network architecture \"\n",
      "100%|██████████| 1/1 [00:00<00:00, 108.08it/s]\n"
     ]
    },
    {
     "name": "stdout",
     "output_type": "stream",
     "text": [
      "  Predicted in 8.15s\n",
      "Resampling...\n",
      "  cropping from (256, 256, 94) to (256, 206, 93)\n",
      "Predicting...\n"
     ]
    },
    {
     "name": "stderr",
     "output_type": "stream",
     "text": [
      "100%|██████████| 80/80 [00:04<00:00, 17.64it/s]\n"
     ]
    },
    {
     "name": "stdout",
     "output_type": "stream",
     "text": [
      "  Predicted in 25.44s\n",
      "Saving segmentations...\n",
      "Creating lung_vessels.nii.gz\n",
      "Creating lung_trachea_bronchia.nii.gz\n"
     ]
    },
    {
     "data": {
      "application/vnd.jupyter.widget-view+json": {
       "model_id": "1b9943b27068487b88bdbed82a4dce86",
       "version_major": 2,
       "version_minor": 0
      },
      "text/plain": [
       "  0%|          | 0/2 [00:00<?, ?it/s]"
      ]
     },
     "metadata": {},
     "output_type": "display_data"
    },
    {
     "name": "stdout",
     "output_type": "stream",
     "text": [
      "  Saved in 0.52s\n",
      "\n",
      "If you use this tool please cite: https://pubs.rsna.org/doi/10.1148/ryai.230024\n",
      "\n",
      "Resampling...\n",
      "  Resampled in 2.05s\n",
      "Predicting...\n"
     ]
    },
    {
     "name": "stderr",
     "output_type": "stream",
     "text": [
      "/ocean/projects/asc170022p/mtragoza/mambaforge/envs/lung-project/lib/python3.10/site-packages/nnunetv2/utilities/plans_handling/plans_handler.py:37: UserWarning: Detected old nnU-Net plans format. Attempting to reconstruct network architecture parameters. If this fails, rerun nnUNetv2_plan_experiment for your dataset. If you use a custom architecture, please downgrade nnU-Net to the version you implemented this or update your implementation + plans.\n",
      "  warnings.warn(\"Detected old nnU-Net plans format. Attempting to reconstruct network architecture \"\n",
      "100%|██████████| 8/8 [00:00<00:00, 33.74it/s]\n"
     ]
    },
    {
     "name": "stdout",
     "output_type": "stream",
     "text": [
      "  Predicted in 8.75s\n"
     ]
    },
    {
     "name": "stderr",
     "output_type": "stream",
     "text": [
      "100%|██████████| 1/1 [00:00<00:00, 10.06it/s]\n",
      "100%|██████████| 1/1 [00:00<00:00, 11.06it/s]\n"
     ]
    },
    {
     "name": "stdout",
     "output_type": "stream",
     "text": [
      "Resampling...\n",
      "Saving segmentations...\n",
      "Creating body_trunc.nii.gz\n",
      "Creating body_extremities.nii.gz\n"
     ]
    },
    {
     "data": {
      "application/vnd.jupyter.widget-view+json": {
       "model_id": "55a17c03725f4fc2bb3cca6f1c7dbad0",
       "version_major": 2,
       "version_minor": 0
      },
      "text/plain": [
       "  0%|          | 0/2 [00:00<?, ?it/s]"
      ]
     },
     "metadata": {},
     "output_type": "display_data"
    },
    {
     "name": "stdout",
     "output_type": "stream",
     "text": [
      "  Saved in 0.34s\n",
      "Creating body.nii.gz\n",
      "Creating skin.nii.gz\n",
      "Segmenting Case3Pack phase 70\n",
      "\n",
      "If you use this tool please cite: https://pubs.rsna.org/doi/10.1148/ryai.230024\n",
      "\n",
      "Generating rough body segmentation...\n",
      "Resampling...\n",
      "  Resampled in 0.23s\n",
      "Predicting...\n"
     ]
    },
    {
     "name": "stderr",
     "output_type": "stream",
     "text": [
      "/ocean/projects/asc170022p/mtragoza/mambaforge/envs/lung-project/lib/python3.10/site-packages/nnunetv2/utilities/plans_handling/plans_handler.py:37: UserWarning: Detected old nnU-Net plans format. Attempting to reconstruct network architecture parameters. If this fails, rerun nnUNetv2_plan_experiment for your dataset. If you use a custom architecture, please downgrade nnU-Net to the version you implemented this or update your implementation + plans.\n",
      "  warnings.warn(\"Detected old nnU-Net plans format. Attempting to reconstruct network architecture \"\n",
      "100%|██████████| 1/1 [00:00<00:00, 110.27it/s]\n"
     ]
    },
    {
     "name": "stdout",
     "output_type": "stream",
     "text": [
      "  Predicted in 7.21s\n",
      "Resampling...\n",
      "  cropping from (256, 256, 94) to (256, 206, 93)\n",
      "Resampling...\n",
      "  Resampled in 1.61s\n",
      "Predicting part 1 of 1 ...\n"
     ]
    },
    {
     "name": "stderr",
     "output_type": "stream",
     "text": [
      "100%|██████████| 8/8 [00:00<00:00, 32.63it/s]\n"
     ]
    },
    {
     "name": "stdout",
     "output_type": "stream",
     "text": [
      "  Predicted in 9.09s\n",
      "Resampling...\n",
      "Saving segmentations...\n"
     ]
    },
    {
     "data": {
      "application/vnd.jupyter.widget-view+json": {
       "model_id": "9373c8869ff549c8bf58dd67fc59971c",
       "version_major": 2,
       "version_minor": 0
      },
      "text/plain": [
       "  0%|          | 0/5 [00:00<?, ?it/s]"
      ]
     },
     "metadata": {},
     "output_type": "display_data"
    },
    {
     "name": "stdout",
     "output_type": "stream",
     "text": [
      "  Saved in 0.67s\n",
      "\n",
      "If you use this tool please cite: https://pubs.rsna.org/doi/10.1148/ryai.230024\n",
      "\n",
      "Generating rough body segmentation...\n",
      "Resampling...\n",
      "  Resampled in 0.23s\n",
      "Predicting...\n"
     ]
    },
    {
     "name": "stderr",
     "output_type": "stream",
     "text": [
      "/ocean/projects/asc170022p/mtragoza/mambaforge/envs/lung-project/lib/python3.10/site-packages/nnunetv2/utilities/plans_handling/plans_handler.py:37: UserWarning: Detected old nnU-Net plans format. Attempting to reconstruct network architecture parameters. If this fails, rerun nnUNetv2_plan_experiment for your dataset. If you use a custom architecture, please downgrade nnU-Net to the version you implemented this or update your implementation + plans.\n",
      "  warnings.warn(\"Detected old nnU-Net plans format. Attempting to reconstruct network architecture \"\n",
      "100%|██████████| 1/1 [00:00<00:00, 74.44it/s]\n"
     ]
    },
    {
     "name": "stdout",
     "output_type": "stream",
     "text": [
      "  Predicted in 7.23s\n",
      "Resampling...\n",
      "  cropping from (256, 256, 94) to (256, 206, 93)\n",
      "Predicting...\n"
     ]
    },
    {
     "name": "stderr",
     "output_type": "stream",
     "text": [
      "100%|██████████| 80/80 [00:04<00:00, 17.64it/s]\n"
     ]
    },
    {
     "name": "stdout",
     "output_type": "stream",
     "text": [
      "  Predicted in 25.39s\n",
      "Saving segmentations...\n",
      "Creating lung_vessels.nii.gz\n",
      "Creating lung_trachea_bronchia.nii.gz"
     ]
    },
    {
     "data": {
      "application/vnd.jupyter.widget-view+json": {
       "model_id": "48cbecaa83a347bda99dbb9c84cdad9f",
       "version_major": 2,
       "version_minor": 0
      },
      "text/plain": [
       "  0%|          | 0/2 [00:00<?, ?it/s]"
      ]
     },
     "metadata": {},
     "output_type": "display_data"
    },
    {
     "name": "stdout",
     "output_type": "stream",
     "text": [
      "\n",
      "  Saved in 0.60s\n",
      "\n",
      "If you use this tool please cite: https://pubs.rsna.org/doi/10.1148/ryai.230024\n",
      "\n",
      "Resampling...\n",
      "  Resampled in 2.05s\n",
      "Predicting...\n"
     ]
    },
    {
     "name": "stderr",
     "output_type": "stream",
     "text": [
      "/ocean/projects/asc170022p/mtragoza/mambaforge/envs/lung-project/lib/python3.10/site-packages/nnunetv2/utilities/plans_handling/plans_handler.py:37: UserWarning: Detected old nnU-Net plans format. Attempting to reconstruct network architecture parameters. If this fails, rerun nnUNetv2_plan_experiment for your dataset. If you use a custom architecture, please downgrade nnU-Net to the version you implemented this or update your implementation + plans.\n",
      "  warnings.warn(\"Detected old nnU-Net plans format. Attempting to reconstruct network architecture \"\n",
      "100%|██████████| 8/8 [00:00<00:00, 34.74it/s]\n"
     ]
    },
    {
     "name": "stdout",
     "output_type": "stream",
     "text": [
      "  Predicted in 8.88s\n"
     ]
    },
    {
     "name": "stderr",
     "output_type": "stream",
     "text": [
      "100%|██████████| 1/1 [00:00<00:00,  9.60it/s]\n",
      "100%|██████████| 1/1 [00:00<00:00, 10.43it/s]\n"
     ]
    },
    {
     "name": "stdout",
     "output_type": "stream",
     "text": [
      "Resampling...\n",
      "Saving segmentations...\n",
      "Creating body_trunc.nii.gz\n",
      "\n",
      "Creating body_extremities.nii.gz"
     ]
    },
    {
     "data": {
      "application/vnd.jupyter.widget-view+json": {
       "model_id": "d3ae125433084ff4a2720de3e8d0f6cc",
       "version_major": 2,
       "version_minor": 0
      },
      "text/plain": [
       "  0%|          | 0/2 [00:00<?, ?it/s]"
      ]
     },
     "metadata": {},
     "output_type": "display_data"
    },
    {
     "name": "stdout",
     "output_type": "stream",
     "text": [
      "  Saved in 0.33s\n",
      "Creating body.nii.gz\n",
      "Creating skin.nii.gz\n",
      "Segmenting Case3Pack phase 80\n",
      "\n",
      "If you use this tool please cite: https://pubs.rsna.org/doi/10.1148/ryai.230024\n",
      "\n",
      "Generating rough body segmentation...\n",
      "Resampling...\n",
      "  Resampled in 0.23s\n",
      "Predicting...\n"
     ]
    },
    {
     "name": "stderr",
     "output_type": "stream",
     "text": [
      "/ocean/projects/asc170022p/mtragoza/mambaforge/envs/lung-project/lib/python3.10/site-packages/nnunetv2/utilities/plans_handling/plans_handler.py:37: UserWarning: Detected old nnU-Net plans format. Attempting to reconstruct network architecture parameters. If this fails, rerun nnUNetv2_plan_experiment for your dataset. If you use a custom architecture, please downgrade nnU-Net to the version you implemented this or update your implementation + plans.\n",
      "  warnings.warn(\"Detected old nnU-Net plans format. Attempting to reconstruct network architecture \"\n",
      "100%|██████████| 1/1 [00:00<00:00, 102.80it/s]\n"
     ]
    },
    {
     "name": "stdout",
     "output_type": "stream",
     "text": [
      "  Predicted in 7.18s\n",
      "Resampling...\n",
      "  cropping from (256, 256, 94) to (256, 200, 93)\n",
      "Resampling...\n",
      "  Resampled in 1.55s\n",
      "Predicting part 1 of 1 ...\n"
     ]
    },
    {
     "name": "stderr",
     "output_type": "stream",
     "text": [
      "100%|██████████| 8/8 [00:00<00:00, 32.68it/s]\n"
     ]
    },
    {
     "name": "stdout",
     "output_type": "stream",
     "text": [
      "  Predicted in 8.89s\n",
      "Resampling...\n",
      "Saving segmentations...\n"
     ]
    },
    {
     "data": {
      "application/vnd.jupyter.widget-view+json": {
       "model_id": "161be01b048b4b05815a060008323d8a",
       "version_major": 2,
       "version_minor": 0
      },
      "text/plain": [
       "  0%|          | 0/5 [00:00<?, ?it/s]"
      ]
     },
     "metadata": {},
     "output_type": "display_data"
    },
    {
     "name": "stdout",
     "output_type": "stream",
     "text": [
      "  Saved in 0.63s\n",
      "\n",
      "If you use this tool please cite: https://pubs.rsna.org/doi/10.1148/ryai.230024\n",
      "\n",
      "Generating rough body segmentation...\n",
      "Resampling...\n",
      "  Resampled in 0.23s\n",
      "Predicting...\n"
     ]
    },
    {
     "name": "stderr",
     "output_type": "stream",
     "text": [
      "/ocean/projects/asc170022p/mtragoza/mambaforge/envs/lung-project/lib/python3.10/site-packages/nnunetv2/utilities/plans_handling/plans_handler.py:37: UserWarning: Detected old nnU-Net plans format. Attempting to reconstruct network architecture parameters. If this fails, rerun nnUNetv2_plan_experiment for your dataset. If you use a custom architecture, please downgrade nnU-Net to the version you implemented this or update your implementation + plans.\n",
      "  warnings.warn(\"Detected old nnU-Net plans format. Attempting to reconstruct network architecture \"\n",
      "100%|██████████| 1/1 [00:00<00:00, 109.56it/s]\n"
     ]
    },
    {
     "name": "stdout",
     "output_type": "stream",
     "text": [
      "  Predicted in 7.15s\n",
      "Resampling...\n",
      "  cropping from (256, 256, 94) to (256, 200, 93)\n",
      "Predicting...\n"
     ]
    },
    {
     "name": "stderr",
     "output_type": "stream",
     "text": [
      "100%|██████████| 64/64 [00:03<00:00, 17.83it/s]\n"
     ]
    },
    {
     "name": "stdout",
     "output_type": "stream",
     "text": [
      "  Predicted in 24.02s\n",
      "Saving segmentations...\n",
      "Creating lung_vessels.nii.gz\n",
      "Creating lung_trachea_bronchia.nii.gz\n"
     ]
    },
    {
     "data": {
      "application/vnd.jupyter.widget-view+json": {
       "model_id": "47d9f8fdd5e14a57b9e35401885ee60a",
       "version_major": 2,
       "version_minor": 0
      },
      "text/plain": [
       "  0%|          | 0/2 [00:00<?, ?it/s]"
      ]
     },
     "metadata": {},
     "output_type": "display_data"
    },
    {
     "name": "stdout",
     "output_type": "stream",
     "text": [
      "  Saved in 31.37s\n",
      "\n",
      "If you use this tool please cite: https://pubs.rsna.org/doi/10.1148/ryai.230024\n",
      "\n",
      "Resampling...\n",
      "  Resampled in 2.05s\n",
      "Predicting...\n"
     ]
    },
    {
     "name": "stderr",
     "output_type": "stream",
     "text": [
      "/ocean/projects/asc170022p/mtragoza/mambaforge/envs/lung-project/lib/python3.10/site-packages/nnunetv2/utilities/plans_handling/plans_handler.py:37: UserWarning: Detected old nnU-Net plans format. Attempting to reconstruct network architecture parameters. If this fails, rerun nnUNetv2_plan_experiment for your dataset. If you use a custom architecture, please downgrade nnU-Net to the version you implemented this or update your implementation + plans.\n",
      "  warnings.warn(\"Detected old nnU-Net plans format. Attempting to reconstruct network architecture \"\n",
      "100%|██████████| 8/8 [00:00<00:00, 34.24it/s]\n"
     ]
    },
    {
     "name": "stdout",
     "output_type": "stream",
     "text": [
      "  Predicted in 8.91s\n"
     ]
    },
    {
     "name": "stderr",
     "output_type": "stream",
     "text": [
      "100%|██████████| 1/1 [00:00<00:00,  9.78it/s]\n",
      "100%|██████████| 1/1 [00:00<00:00, 10.67it/s]\n"
     ]
    },
    {
     "name": "stdout",
     "output_type": "stream",
     "text": [
      "Resampling...\n",
      "Saving segmentations...\n",
      "Creating body_trunc.nii.gz"
     ]
    },
    {
     "data": {
      "application/vnd.jupyter.widget-view+json": {
       "model_id": "28fecac0da244970b0eeafa6c6ecd4b1",
       "version_major": 2,
       "version_minor": 0
      },
      "text/plain": [
       "  0%|          | 0/2 [00:00<?, ?it/s]"
      ]
     },
     "metadata": {},
     "output_type": "display_data"
    },
    {
     "name": "stdout",
     "output_type": "stream",
     "text": [
      "\n",
      "Creating body_extremities.nii.gz\n",
      "  Saved in 0.40s\n",
      "Creating body.nii.gz\n",
      "Creating skin.nii.gz\n",
      "Segmenting Case3Pack phase 90\n",
      "\n",
      "If you use this tool please cite: https://pubs.rsna.org/doi/10.1148/ryai.230024\n",
      "\n",
      "Generating rough body segmentation...\n",
      "Resampling...\n",
      "  Resampled in 0.23s\n",
      "Predicting...\n"
     ]
    },
    {
     "name": "stderr",
     "output_type": "stream",
     "text": [
      "/ocean/projects/asc170022p/mtragoza/mambaforge/envs/lung-project/lib/python3.10/site-packages/nnunetv2/utilities/plans_handling/plans_handler.py:37: UserWarning: Detected old nnU-Net plans format. Attempting to reconstruct network architecture parameters. If this fails, rerun nnUNetv2_plan_experiment for your dataset. If you use a custom architecture, please downgrade nnU-Net to the version you implemented this or update your implementation + plans.\n",
      "  warnings.warn(\"Detected old nnU-Net plans format. Attempting to reconstruct network architecture \"\n",
      "100%|██████████| 1/1 [00:00<00:00, 97.61it/s]\n"
     ]
    },
    {
     "name": "stdout",
     "output_type": "stream",
     "text": [
      "  Predicted in 7.28s\n",
      "Resampling...\n",
      "  cropping from (256, 256, 94) to (256, 206, 93)\n",
      "Resampling...\n",
      "  Resampled in 1.60s\n",
      "Predicting part 1 of 1 ...\n"
     ]
    },
    {
     "name": "stderr",
     "output_type": "stream",
     "text": [
      "100%|██████████| 8/8 [00:00<00:00, 31.89it/s]\n"
     ]
    },
    {
     "name": "stdout",
     "output_type": "stream",
     "text": [
      "  Predicted in 9.19s\n",
      "Resampling...\n",
      "Saving segmentations...\n"
     ]
    },
    {
     "data": {
      "application/vnd.jupyter.widget-view+json": {
       "model_id": "2cbc87017e094d1e9a5ff6d29e48e0a1",
       "version_major": 2,
       "version_minor": 0
      },
      "text/plain": [
       "  0%|          | 0/5 [00:00<?, ?it/s]"
      ]
     },
     "metadata": {},
     "output_type": "display_data"
    },
    {
     "name": "stdout",
     "output_type": "stream",
     "text": [
      "  Saved in 0.57s\n",
      "\n",
      "If you use this tool please cite: https://pubs.rsna.org/doi/10.1148/ryai.230024\n",
      "\n",
      "Generating rough body segmentation...\n",
      "Resampling...\n",
      "  Resampled in 0.24s\n",
      "Predicting...\n"
     ]
    },
    {
     "name": "stderr",
     "output_type": "stream",
     "text": [
      "/ocean/projects/asc170022p/mtragoza/mambaforge/envs/lung-project/lib/python3.10/site-packages/nnunetv2/utilities/plans_handling/plans_handler.py:37: UserWarning: Detected old nnU-Net plans format. Attempting to reconstruct network architecture parameters. If this fails, rerun nnUNetv2_plan_experiment for your dataset. If you use a custom architecture, please downgrade nnU-Net to the version you implemented this or update your implementation + plans.\n",
      "  warnings.warn(\"Detected old nnU-Net plans format. Attempting to reconstruct network architecture \"\n",
      "100%|██████████| 1/1 [00:00<00:00, 95.61it/s]\n"
     ]
    },
    {
     "name": "stdout",
     "output_type": "stream",
     "text": [
      "  Predicted in 7.14s\n",
      "Resampling...\n",
      "  cropping from (256, 256, 94) to (256, 206, 93)\n",
      "Predicting...\n"
     ]
    },
    {
     "name": "stderr",
     "output_type": "stream",
     "text": [
      "100%|██████████| 80/80 [00:04<00:00, 17.65it/s]\n"
     ]
    },
    {
     "name": "stdout",
     "output_type": "stream",
     "text": [
      "  Predicted in 25.48s\n",
      "Saving segmentations...\n",
      "Creating lung_vessels.nii.gz\n",
      "Creating lung_trachea_bronchia.nii.gz\n"
     ]
    },
    {
     "data": {
      "application/vnd.jupyter.widget-view+json": {
       "model_id": "82d1a3d0a4a242e5ba54f119e2c7039c",
       "version_major": 2,
       "version_minor": 0
      },
      "text/plain": [
       "  0%|          | 0/2 [00:00<?, ?it/s]"
      ]
     },
     "metadata": {},
     "output_type": "display_data"
    },
    {
     "name": "stdout",
     "output_type": "stream",
     "text": [
      "  Saved in 0.51s\n",
      "\n",
      "If you use this tool please cite: https://pubs.rsna.org/doi/10.1148/ryai.230024\n",
      "\n",
      "Resampling...\n",
      "  Resampled in 2.05s\n",
      "Predicting...\n"
     ]
    },
    {
     "name": "stderr",
     "output_type": "stream",
     "text": [
      "/ocean/projects/asc170022p/mtragoza/mambaforge/envs/lung-project/lib/python3.10/site-packages/nnunetv2/utilities/plans_handling/plans_handler.py:37: UserWarning: Detected old nnU-Net plans format. Attempting to reconstruct network architecture parameters. If this fails, rerun nnUNetv2_plan_experiment for your dataset. If you use a custom architecture, please downgrade nnU-Net to the version you implemented this or update your implementation + plans.\n",
      "  warnings.warn(\"Detected old nnU-Net plans format. Attempting to reconstruct network architecture \"\n",
      "100%|██████████| 8/8 [00:00<00:00, 33.28it/s]\n"
     ]
    },
    {
     "name": "stdout",
     "output_type": "stream",
     "text": [
      "  Predicted in 8.64s\n"
     ]
    },
    {
     "name": "stderr",
     "output_type": "stream",
     "text": [
      "100%|██████████| 1/1 [00:00<00:00,  9.71it/s]\n",
      "100%|██████████| 1/1 [00:00<00:00, 10.42it/s]\n"
     ]
    },
    {
     "name": "stdout",
     "output_type": "stream",
     "text": [
      "Resampling...\n",
      "Saving segmentations...\n",
      "Creating body_trunc.nii.gz\n",
      "Creating body_extremities.nii.gz"
     ]
    },
    {
     "data": {
      "application/vnd.jupyter.widget-view+json": {
       "model_id": "e35742e61e9741418237e8f29fbd6c02",
       "version_major": 2,
       "version_minor": 0
      },
      "text/plain": [
       "  0%|          | 0/2 [00:00<?, ?it/s]"
      ]
     },
     "metadata": {},
     "output_type": "display_data"
    },
    {
     "name": "stdout",
     "output_type": "stream",
     "text": [
      "\n",
      "  Saved in 0.35s\n",
      "Creating body.nii.gz\n",
      "Creating skin.nii.gz\n",
      "Segmenting Case4Pack phase 0\n",
      "\n",
      "If you use this tool please cite: https://pubs.rsna.org/doi/10.1148/ryai.230024\n",
      "\n",
      "Generating rough body segmentation...\n",
      "Resampling...\n",
      "  Resampled in 0.22s\n",
      "Predicting...\n"
     ]
    },
    {
     "name": "stderr",
     "output_type": "stream",
     "text": [
      "/ocean/projects/asc170022p/mtragoza/mambaforge/envs/lung-project/lib/python3.10/site-packages/nnunetv2/utilities/plans_handling/plans_handler.py:37: UserWarning: Detected old nnU-Net plans format. Attempting to reconstruct network architecture parameters. If this fails, rerun nnUNetv2_plan_experiment for your dataset. If you use a custom architecture, please downgrade nnU-Net to the version you implemented this or update your implementation + plans.\n",
      "  warnings.warn(\"Detected old nnU-Net plans format. Attempting to reconstruct network architecture \"\n",
      "100%|██████████| 1/1 [00:00<00:00, 78.76it/s]\n"
     ]
    },
    {
     "name": "stdout",
     "output_type": "stream",
     "text": [
      "  Predicted in 7.08s\n",
      "Resampling...\n",
      "  cropping from (256, 256, 94) to (256, 216, 94)\n",
      "Resampling...\n",
      "  Resampled in 1.46s\n",
      "Predicting part 1 of 1 ...\n"
     ]
    },
    {
     "name": "stderr",
     "output_type": "stream",
     "text": [
      "100%|██████████| 8/8 [00:00<00:00, 32.53it/s]\n"
     ]
    },
    {
     "name": "stdout",
     "output_type": "stream",
     "text": [
      "  Predicted in 9.12s\n",
      "Resampling...\n",
      "Saving segmentations...\n"
     ]
    },
    {
     "data": {
      "application/vnd.jupyter.widget-view+json": {
       "model_id": "03b86338c31140cea0f008930ff84e5e",
       "version_major": 2,
       "version_minor": 0
      },
      "text/plain": [
       "  0%|          | 0/5 [00:00<?, ?it/s]"
      ]
     },
     "metadata": {},
     "output_type": "display_data"
    },
    {
     "name": "stdout",
     "output_type": "stream",
     "text": [
      "  Saved in 0.59s\n",
      "\n",
      "If you use this tool please cite: https://pubs.rsna.org/doi/10.1148/ryai.230024\n",
      "\n",
      "Generating rough body segmentation...\n",
      "Resampling...\n",
      "  Resampled in 0.22s\n",
      "Predicting...\n"
     ]
    },
    {
     "name": "stderr",
     "output_type": "stream",
     "text": [
      "/ocean/projects/asc170022p/mtragoza/mambaforge/envs/lung-project/lib/python3.10/site-packages/nnunetv2/utilities/plans_handling/plans_handler.py:37: UserWarning: Detected old nnU-Net plans format. Attempting to reconstruct network architecture parameters. If this fails, rerun nnUNetv2_plan_experiment for your dataset. If you use a custom architecture, please downgrade nnU-Net to the version you implemented this or update your implementation + plans.\n",
      "  warnings.warn(\"Detected old nnU-Net plans format. Attempting to reconstruct network architecture \"\n",
      "100%|██████████| 1/1 [00:00<00:00, 109.97it/s]\n"
     ]
    },
    {
     "name": "stdout",
     "output_type": "stream",
     "text": [
      "  Predicted in 7.16s\n",
      "Resampling...\n",
      "  cropping from (256, 256, 94) to (256, 216, 94)\n",
      "Predicting...\n"
     ]
    },
    {
     "name": "stderr",
     "output_type": "stream",
     "text": [
      "100%|██████████| 60/60 [00:03<00:00, 17.93it/s]\n"
     ]
    },
    {
     "name": "stdout",
     "output_type": "stream",
     "text": [
      "  Predicted in 23.36s\n",
      "Saving segmentations...\n",
      "Creating lung_vessels.nii.gz\n",
      "Creating lung_trachea_bronchia.nii.gz\n"
     ]
    },
    {
     "data": {
      "application/vnd.jupyter.widget-view+json": {
       "model_id": "73caf224b3424324889d089481bd19a4",
       "version_major": 2,
       "version_minor": 0
      },
      "text/plain": [
       "  0%|          | 0/2 [00:00<?, ?it/s]"
      ]
     },
     "metadata": {},
     "output_type": "display_data"
    },
    {
     "name": "stdout",
     "output_type": "stream",
     "text": [
      "  Saved in 0.53s\n",
      "\n",
      "If you use this tool please cite: https://pubs.rsna.org/doi/10.1148/ryai.230024\n",
      "\n",
      "Resampling...\n",
      "  Resampled in 1.76s\n",
      "Predicting...\n"
     ]
    },
    {
     "name": "stderr",
     "output_type": "stream",
     "text": [
      "/ocean/projects/asc170022p/mtragoza/mambaforge/envs/lung-project/lib/python3.10/site-packages/nnunetv2/utilities/plans_handling/plans_handler.py:37: UserWarning: Detected old nnU-Net plans format. Attempting to reconstruct network architecture parameters. If this fails, rerun nnUNetv2_plan_experiment for your dataset. If you use a custom architecture, please downgrade nnU-Net to the version you implemented this or update your implementation + plans.\n",
      "  warnings.warn(\"Detected old nnU-Net plans format. Attempting to reconstruct network architecture \"\n",
      "100%|██████████| 8/8 [00:00<00:00, 33.27it/s]\n"
     ]
    },
    {
     "name": "stdout",
     "output_type": "stream",
     "text": [
      "  Predicted in 8.65s\n"
     ]
    },
    {
     "name": "stderr",
     "output_type": "stream",
     "text": [
      "100%|██████████| 1/1 [00:00<00:00, 11.15it/s]\n",
      "100%|██████████| 1/1 [00:00<00:00, 15.12it/s]"
     ]
    },
    {
     "name": "stdout",
     "output_type": "stream",
     "text": [
      "Resampling...\n"
     ]
    },
    {
     "name": "stderr",
     "output_type": "stream",
     "text": [
      "\n"
     ]
    },
    {
     "name": "stdout",
     "output_type": "stream",
     "text": [
      "Saving segmentations...\n",
      "Creating body_trunc.nii.gz\n",
      "Creating body_extremities.nii.gz\n"
     ]
    },
    {
     "data": {
      "application/vnd.jupyter.widget-view+json": {
       "model_id": "3cf1d9e7c6b14777b5d58a1170e26a67",
       "version_major": 2,
       "version_minor": 0
      },
      "text/plain": [
       "  0%|          | 0/2 [00:00<?, ?it/s]"
      ]
     },
     "metadata": {},
     "output_type": "display_data"
    },
    {
     "name": "stdout",
     "output_type": "stream",
     "text": [
      "  Saved in 0.36s\n",
      "Creating body.nii.gz\n",
      "Creating skin.nii.gz\n",
      "Segmenting Case4Pack phase 10\n",
      "\n",
      "If you use this tool please cite: https://pubs.rsna.org/doi/10.1148/ryai.230024\n",
      "\n",
      "Generating rough body segmentation...\n",
      "Resampling...\n",
      "  Resampled in 0.22s\n",
      "Predicting...\n"
     ]
    },
    {
     "name": "stderr",
     "output_type": "stream",
     "text": [
      "/ocean/projects/asc170022p/mtragoza/mambaforge/envs/lung-project/lib/python3.10/site-packages/nnunetv2/utilities/plans_handling/plans_handler.py:37: UserWarning: Detected old nnU-Net plans format. Attempting to reconstruct network architecture parameters. If this fails, rerun nnUNetv2_plan_experiment for your dataset. If you use a custom architecture, please downgrade nnU-Net to the version you implemented this or update your implementation + plans.\n",
      "  warnings.warn(\"Detected old nnU-Net plans format. Attempting to reconstruct network architecture \"\n",
      "100%|██████████| 1/1 [00:00<00:00, 104.77it/s]\n"
     ]
    },
    {
     "name": "stdout",
     "output_type": "stream",
     "text": [
      "  Predicted in 7.14s\n",
      "Resampling...\n",
      "  cropping from (256, 256, 94) to (256, 222, 94)\n",
      "Resampling...\n",
      "  Resampled in 1.50s\n",
      "Predicting part 1 of 1 ...\n"
     ]
    },
    {
     "name": "stderr",
     "output_type": "stream",
     "text": [
      "100%|██████████| 8/8 [00:00<00:00, 32.28it/s]\n"
     ]
    },
    {
     "name": "stdout",
     "output_type": "stream",
     "text": [
      "  Predicted in 9.22s\n",
      "Resampling...\n",
      "Saving segmentations...\n"
     ]
    },
    {
     "data": {
      "application/vnd.jupyter.widget-view+json": {
       "model_id": "b3ccfac345bf41a9aa5ceefe43808bd2",
       "version_major": 2,
       "version_minor": 0
      },
      "text/plain": [
       "  0%|          | 0/5 [00:00<?, ?it/s]"
      ]
     },
     "metadata": {},
     "output_type": "display_data"
    },
    {
     "name": "stdout",
     "output_type": "stream",
     "text": [
      "  Saved in 104.10s\n",
      "\n",
      "If you use this tool please cite: https://pubs.rsna.org/doi/10.1148/ryai.230024\n",
      "\n",
      "Generating rough body segmentation...\n",
      "Resampling...\n",
      "  Resampled in 0.22s\n",
      "Predicting...\n"
     ]
    },
    {
     "name": "stderr",
     "output_type": "stream",
     "text": [
      "/ocean/projects/asc170022p/mtragoza/mambaforge/envs/lung-project/lib/python3.10/site-packages/nnunetv2/utilities/plans_handling/plans_handler.py:37: UserWarning: Detected old nnU-Net plans format. Attempting to reconstruct network architecture parameters. If this fails, rerun nnUNetv2_plan_experiment for your dataset. If you use a custom architecture, please downgrade nnU-Net to the version you implemented this or update your implementation + plans.\n",
      "  warnings.warn(\"Detected old nnU-Net plans format. Attempting to reconstruct network architecture \"\n",
      "100%|██████████| 1/1 [00:00<00:00, 101.59it/s]\n"
     ]
    },
    {
     "name": "stdout",
     "output_type": "stream",
     "text": [
      "  Predicted in 7.07s\n",
      "Resampling...\n",
      "  cropping from (256, 256, 94) to (256, 222, 94)\n",
      "Predicting...\n"
     ]
    },
    {
     "name": "stderr",
     "output_type": "stream",
     "text": [
      "100%|██████████| 60/60 [00:03<00:00, 17.96it/s]\n"
     ]
    },
    {
     "name": "stdout",
     "output_type": "stream",
     "text": [
      "  Predicted in 23.55s\n",
      "Saving segmentations...\n",
      "Creating lung_vessels.nii.gz\n"
     ]
    },
    {
     "data": {
      "application/vnd.jupyter.widget-view+json": {
       "model_id": "b35a8ab3932d4307a007c45f46aa840e",
       "version_major": 2,
       "version_minor": 0
      },
      "text/plain": [
       "  0%|          | 0/2 [00:00<?, ?it/s]"
      ]
     },
     "metadata": {},
     "output_type": "display_data"
    },
    {
     "name": "stdout",
     "output_type": "stream",
     "text": [
      "Creating lung_trachea_bronchia.nii.gz\n",
      "  Saved in 0.53s\n",
      "\n",
      "If you use this tool please cite: https://pubs.rsna.org/doi/10.1148/ryai.230024\n",
      "\n",
      "Resampling...\n",
      "  Resampled in 1.76s\n",
      "Predicting...\n"
     ]
    },
    {
     "name": "stderr",
     "output_type": "stream",
     "text": [
      "/ocean/projects/asc170022p/mtragoza/mambaforge/envs/lung-project/lib/python3.10/site-packages/nnunetv2/utilities/plans_handling/plans_handler.py:37: UserWarning: Detected old nnU-Net plans format. Attempting to reconstruct network architecture parameters. If this fails, rerun nnUNetv2_plan_experiment for your dataset. If you use a custom architecture, please downgrade nnU-Net to the version you implemented this or update your implementation + plans.\n",
      "  warnings.warn(\"Detected old nnU-Net plans format. Attempting to reconstruct network architecture \"\n",
      "100%|██████████| 8/8 [00:00<00:00, 33.71it/s]\n"
     ]
    },
    {
     "name": "stdout",
     "output_type": "stream",
     "text": [
      "  Predicted in 8.70s\n"
     ]
    },
    {
     "name": "stderr",
     "output_type": "stream",
     "text": [
      "100%|██████████| 1/1 [00:00<00:00, 10.87it/s]\n",
      "100%|██████████| 1/1 [00:00<00:00, 15.16it/s]"
     ]
    },
    {
     "name": "stdout",
     "output_type": "stream",
     "text": [
      "Resampling...\n"
     ]
    },
    {
     "name": "stderr",
     "output_type": "stream",
     "text": [
      "\n"
     ]
    },
    {
     "name": "stdout",
     "output_type": "stream",
     "text": [
      "Saving segmentations...\n",
      "Creating body_trunc.nii.gz\n",
      "Creating body_extremities.nii.gz"
     ]
    },
    {
     "data": {
      "application/vnd.jupyter.widget-view+json": {
       "model_id": "48151fe01a154dc9ad563827a5c273c1",
       "version_major": 2,
       "version_minor": 0
      },
      "text/plain": [
       "  0%|          | 0/2 [00:00<?, ?it/s]"
      ]
     },
     "metadata": {},
     "output_type": "display_data"
    },
    {
     "name": "stdout",
     "output_type": "stream",
     "text": [
      "\n",
      "  Saved in 0.41s\n",
      "Creating body.nii.gz\n",
      "Creating skin.nii.gz\n",
      "Segmenting Case4Pack phase 20\n",
      "\n",
      "If you use this tool please cite: https://pubs.rsna.org/doi/10.1148/ryai.230024\n",
      "\n",
      "Generating rough body segmentation...\n",
      "Resampling...\n",
      "  Resampled in 0.22s\n",
      "Predicting...\n"
     ]
    },
    {
     "name": "stderr",
     "output_type": "stream",
     "text": [
      "/ocean/projects/asc170022p/mtragoza/mambaforge/envs/lung-project/lib/python3.10/site-packages/nnunetv2/utilities/plans_handling/plans_handler.py:37: UserWarning: Detected old nnU-Net plans format. Attempting to reconstruct network architecture parameters. If this fails, rerun nnUNetv2_plan_experiment for your dataset. If you use a custom architecture, please downgrade nnU-Net to the version you implemented this or update your implementation + plans.\n",
      "  warnings.warn(\"Detected old nnU-Net plans format. Attempting to reconstruct network architecture \"\n",
      "100%|██████████| 1/1 [00:00<00:00, 76.32it/s]\n"
     ]
    },
    {
     "name": "stdout",
     "output_type": "stream",
     "text": [
      "  Predicted in 6.95s\n",
      "Resampling...\n",
      "  cropping from (256, 256, 94) to (256, 222, 94)\n",
      "Resampling...\n",
      "  Resampled in 1.50s\n",
      "Predicting part 1 of 1 ...\n"
     ]
    },
    {
     "name": "stderr",
     "output_type": "stream",
     "text": [
      "100%|██████████| 8/8 [00:00<00:00, 33.37it/s]\n"
     ]
    },
    {
     "name": "stdout",
     "output_type": "stream",
     "text": [
      "  Predicted in 8.90s\n",
      "Resampling...\n",
      "Saving segmentations...\n"
     ]
    },
    {
     "data": {
      "application/vnd.jupyter.widget-view+json": {
       "model_id": "72e7f6649a594af982f27b4a1677b032",
       "version_major": 2,
       "version_minor": 0
      },
      "text/plain": [
       "  0%|          | 0/5 [00:00<?, ?it/s]"
      ]
     },
     "metadata": {},
     "output_type": "display_data"
    },
    {
     "name": "stdout",
     "output_type": "stream",
     "text": [
      "  Saved in 0.66s\n",
      "\n",
      "If you use this tool please cite: https://pubs.rsna.org/doi/10.1148/ryai.230024\n",
      "\n",
      "Generating rough body segmentation...\n",
      "Resampling...\n",
      "  Resampled in 0.22s\n",
      "Predicting...\n"
     ]
    },
    {
     "name": "stderr",
     "output_type": "stream",
     "text": [
      "/ocean/projects/asc170022p/mtragoza/mambaforge/envs/lung-project/lib/python3.10/site-packages/nnunetv2/utilities/plans_handling/plans_handler.py:37: UserWarning: Detected old nnU-Net plans format. Attempting to reconstruct network architecture parameters. If this fails, rerun nnUNetv2_plan_experiment for your dataset. If you use a custom architecture, please downgrade nnU-Net to the version you implemented this or update your implementation + plans.\n",
      "  warnings.warn(\"Detected old nnU-Net plans format. Attempting to reconstruct network architecture \"\n",
      "100%|██████████| 1/1 [00:00<00:00, 95.26it/s]\n"
     ]
    },
    {
     "name": "stdout",
     "output_type": "stream",
     "text": [
      "  Predicted in 6.95s\n",
      "Resampling...\n",
      "  cropping from (256, 256, 94) to (256, 222, 94)\n",
      "Predicting...\n"
     ]
    },
    {
     "name": "stderr",
     "output_type": "stream",
     "text": [
      "100%|██████████| 60/60 [00:03<00:00, 17.89it/s]\n"
     ]
    },
    {
     "name": "stdout",
     "output_type": "stream",
     "text": [
      "  Predicted in 23.84s\n",
      "Saving segmentations...\n",
      "Creating lung_vessels.nii.gz\n",
      "Creating lung_trachea_bronchia.nii.gz\n"
     ]
    },
    {
     "data": {
      "application/vnd.jupyter.widget-view+json": {
       "model_id": "1513d9d4672d43c287066c2e3191dd96",
       "version_major": 2,
       "version_minor": 0
      },
      "text/plain": [
       "  0%|          | 0/2 [00:00<?, ?it/s]"
      ]
     },
     "metadata": {},
     "output_type": "display_data"
    },
    {
     "name": "stdout",
     "output_type": "stream",
     "text": [
      "  Saved in 0.51s\n",
      "\n",
      "If you use this tool please cite: https://pubs.rsna.org/doi/10.1148/ryai.230024\n",
      "\n",
      "Resampling...\n",
      "  Resampled in 1.76s\n",
      "Predicting...\n"
     ]
    },
    {
     "name": "stderr",
     "output_type": "stream",
     "text": [
      "/ocean/projects/asc170022p/mtragoza/mambaforge/envs/lung-project/lib/python3.10/site-packages/nnunetv2/utilities/plans_handling/plans_handler.py:37: UserWarning: Detected old nnU-Net plans format. Attempting to reconstruct network architecture parameters. If this fails, rerun nnUNetv2_plan_experiment for your dataset. If you use a custom architecture, please downgrade nnU-Net to the version you implemented this or update your implementation + plans.\n",
      "  warnings.warn(\"Detected old nnU-Net plans format. Attempting to reconstruct network architecture \"\n",
      "100%|██████████| 8/8 [00:00<00:00, 33.72it/s]\n"
     ]
    },
    {
     "name": "stdout",
     "output_type": "stream",
     "text": [
      "  Predicted in 8.56s\n"
     ]
    },
    {
     "name": "stderr",
     "output_type": "stream",
     "text": [
      "100%|██████████| 1/1 [00:00<00:00, 11.06it/s]\n",
      "100%|██████████| 1/1 [00:00<00:00, 15.08it/s]"
     ]
    },
    {
     "name": "stdout",
     "output_type": "stream",
     "text": [
      "Resampling...\n"
     ]
    },
    {
     "name": "stderr",
     "output_type": "stream",
     "text": [
      "\n"
     ]
    },
    {
     "name": "stdout",
     "output_type": "stream",
     "text": [
      "Saving segmentations...\n",
      "Creating body_trunc.nii.gz\n"
     ]
    },
    {
     "data": {
      "application/vnd.jupyter.widget-view+json": {
       "model_id": "46065170731344afa0c529d094754b87",
       "version_major": 2,
       "version_minor": 0
      },
      "text/plain": [
       "  0%|          | 0/2 [00:00<?, ?it/s]"
      ]
     },
     "metadata": {},
     "output_type": "display_data"
    },
    {
     "name": "stdout",
     "output_type": "stream",
     "text": [
      "Creating body_extremities.nii.gz\n",
      "  Saved in 0.34s\n",
      "Creating body.nii.gz\n",
      "Creating skin.nii.gz\n",
      "Segmenting Case4Pack phase 30\n",
      "\n",
      "If you use this tool please cite: https://pubs.rsna.org/doi/10.1148/ryai.230024\n",
      "\n",
      "Generating rough body segmentation...\n",
      "Resampling...\n",
      "  Resampled in 0.23s\n",
      "Predicting...\n"
     ]
    },
    {
     "name": "stderr",
     "output_type": "stream",
     "text": [
      "/ocean/projects/asc170022p/mtragoza/mambaforge/envs/lung-project/lib/python3.10/site-packages/nnunetv2/utilities/plans_handling/plans_handler.py:37: UserWarning: Detected old nnU-Net plans format. Attempting to reconstruct network architecture parameters. If this fails, rerun nnUNetv2_plan_experiment for your dataset. If you use a custom architecture, please downgrade nnU-Net to the version you implemented this or update your implementation + plans.\n",
      "  warnings.warn(\"Detected old nnU-Net plans format. Attempting to reconstruct network architecture \"\n",
      "100%|██████████| 1/1 [00:00<00:00, 110.49it/s]\n"
     ]
    },
    {
     "name": "stdout",
     "output_type": "stream",
     "text": [
      "  Predicted in 6.97s\n",
      "Resampling...\n",
      "  cropping from (256, 256, 94) to (256, 216, 94)\n",
      "Resampling...\n",
      "  Resampled in 1.48s\n",
      "Predicting part 1 of 1 ...\n"
     ]
    },
    {
     "name": "stderr",
     "output_type": "stream",
     "text": [
      "100%|██████████| 8/8 [00:00<00:00, 33.02it/s]\n"
     ]
    },
    {
     "name": "stdout",
     "output_type": "stream",
     "text": [
      "  Predicted in 9.09s\n",
      "Resampling...\n",
      "Saving segmentations...\n"
     ]
    },
    {
     "data": {
      "application/vnd.jupyter.widget-view+json": {
       "model_id": "b68f6cfe8aad431f94168c9624b755f6",
       "version_major": 2,
       "version_minor": 0
      },
      "text/plain": [
       "  0%|          | 0/5 [00:00<?, ?it/s]"
      ]
     },
     "metadata": {},
     "output_type": "display_data"
    },
    {
     "name": "stdout",
     "output_type": "stream",
     "text": [
      "  Saved in 0.55s\n",
      "\n",
      "If you use this tool please cite: https://pubs.rsna.org/doi/10.1148/ryai.230024\n",
      "\n",
      "Generating rough body segmentation...\n",
      "Resampling...\n",
      "  Resampled in 0.22s\n",
      "Predicting...\n"
     ]
    },
    {
     "name": "stderr",
     "output_type": "stream",
     "text": [
      "/ocean/projects/asc170022p/mtragoza/mambaforge/envs/lung-project/lib/python3.10/site-packages/nnunetv2/utilities/plans_handling/plans_handler.py:37: UserWarning: Detected old nnU-Net plans format. Attempting to reconstruct network architecture parameters. If this fails, rerun nnUNetv2_plan_experiment for your dataset. If you use a custom architecture, please downgrade nnU-Net to the version you implemented this or update your implementation + plans.\n",
      "  warnings.warn(\"Detected old nnU-Net plans format. Attempting to reconstruct network architecture \"\n",
      "100%|██████████| 1/1 [00:00<00:00, 92.52it/s]\n"
     ]
    },
    {
     "name": "stdout",
     "output_type": "stream",
     "text": [
      "  Predicted in 7.03s\n",
      "Resampling...\n",
      "  cropping from (256, 256, 94) to (256, 216, 94)\n",
      "Predicting...\n"
     ]
    },
    {
     "name": "stderr",
     "output_type": "stream",
     "text": [
      "100%|██████████| 60/60 [00:03<00:00, 17.92it/s]\n"
     ]
    },
    {
     "name": "stdout",
     "output_type": "stream",
     "text": [
      "  Predicted in 23.21s\n",
      "Saving segmentations...\n",
      "Creating lung_vessels.nii.gz\n",
      "Creating lung_trachea_bronchia.nii.gz\n"
     ]
    },
    {
     "data": {
      "application/vnd.jupyter.widget-view+json": {
       "model_id": "1b35b66be6b34f2480823e2bd7ec1ecf",
       "version_major": 2,
       "version_minor": 0
      },
      "text/plain": [
       "  0%|          | 0/2 [00:00<?, ?it/s]"
      ]
     },
     "metadata": {},
     "output_type": "display_data"
    },
    {
     "name": "stdout",
     "output_type": "stream",
     "text": [
      "  Saved in 0.54s\n",
      "\n",
      "If you use this tool please cite: https://pubs.rsna.org/doi/10.1148/ryai.230024\n",
      "\n",
      "Resampling...\n",
      "  Resampled in 1.77s\n",
      "Predicting...\n"
     ]
    },
    {
     "name": "stderr",
     "output_type": "stream",
     "text": [
      "/ocean/projects/asc170022p/mtragoza/mambaforge/envs/lung-project/lib/python3.10/site-packages/nnunetv2/utilities/plans_handling/plans_handler.py:37: UserWarning: Detected old nnU-Net plans format. Attempting to reconstruct network architecture parameters. If this fails, rerun nnUNetv2_plan_experiment for your dataset. If you use a custom architecture, please downgrade nnU-Net to the version you implemented this or update your implementation + plans.\n",
      "  warnings.warn(\"Detected old nnU-Net plans format. Attempting to reconstruct network architecture \"\n",
      "100%|██████████| 8/8 [00:00<00:00, 34.40it/s]\n"
     ]
    },
    {
     "name": "stdout",
     "output_type": "stream",
     "text": [
      "  Predicted in 8.48s\n"
     ]
    },
    {
     "name": "stderr",
     "output_type": "stream",
     "text": [
      "100%|██████████| 1/1 [00:00<00:00, 10.97it/s]\n",
      "100%|██████████| 1/1 [00:00<00:00, 15.19it/s]"
     ]
    },
    {
     "name": "stdout",
     "output_type": "stream",
     "text": [
      "Resampling...\n"
     ]
    },
    {
     "name": "stderr",
     "output_type": "stream",
     "text": [
      "\n"
     ]
    },
    {
     "name": "stdout",
     "output_type": "stream",
     "text": [
      "Saving segmentations...\n",
      "Creating body_trunc.nii.gz\n",
      "Creating body_extremities.nii.gz"
     ]
    },
    {
     "data": {
      "application/vnd.jupyter.widget-view+json": {
       "model_id": "316edefe652c468d8700b3948c8fa046",
       "version_major": 2,
       "version_minor": 0
      },
      "text/plain": [
       "  0%|          | 0/2 [00:00<?, ?it/s]"
      ]
     },
     "metadata": {},
     "output_type": "display_data"
    },
    {
     "name": "stdout",
     "output_type": "stream",
     "text": [
      "\n",
      "  Saved in 0.38s\n",
      "Creating body.nii.gz\n",
      "Creating skin.nii.gz\n",
      "Segmenting Case4Pack phase 40\n",
      "\n",
      "If you use this tool please cite: https://pubs.rsna.org/doi/10.1148/ryai.230024\n",
      "\n",
      "Generating rough body segmentation...\n",
      "Resampling...\n",
      "  Resampled in 0.23s\n",
      "Predicting...\n"
     ]
    },
    {
     "name": "stderr",
     "output_type": "stream",
     "text": [
      "/ocean/projects/asc170022p/mtragoza/mambaforge/envs/lung-project/lib/python3.10/site-packages/nnunetv2/utilities/plans_handling/plans_handler.py:37: UserWarning: Detected old nnU-Net plans format. Attempting to reconstruct network architecture parameters. If this fails, rerun nnUNetv2_plan_experiment for your dataset. If you use a custom architecture, please downgrade nnU-Net to the version you implemented this or update your implementation + plans.\n",
      "  warnings.warn(\"Detected old nnU-Net plans format. Attempting to reconstruct network architecture \"\n",
      "100%|██████████| 1/1 [00:00<00:00, 62.90it/s]\n"
     ]
    },
    {
     "name": "stdout",
     "output_type": "stream",
     "text": [
      "  Predicted in 7.04s\n",
      "Resampling...\n",
      "  cropping from (256, 256, 94) to (256, 222, 94)\n",
      "Resampling...\n",
      "  Resampled in 1.51s\n",
      "Predicting part 1 of 1 ...\n"
     ]
    },
    {
     "name": "stderr",
     "output_type": "stream",
     "text": [
      "100%|██████████| 8/8 [00:00<00:00, 33.04it/s]\n"
     ]
    },
    {
     "name": "stdout",
     "output_type": "stream",
     "text": [
      "  Predicted in 8.88s\n",
      "Resampling...\n",
      "Saving segmentations...\n"
     ]
    },
    {
     "data": {
      "application/vnd.jupyter.widget-view+json": {
       "model_id": "087c71d9e1f94a4bbe8fb904a53e41dc",
       "version_major": 2,
       "version_minor": 0
      },
      "text/plain": [
       "  0%|          | 0/5 [00:00<?, ?it/s]"
      ]
     },
     "metadata": {},
     "output_type": "display_data"
    },
    {
     "name": "stdout",
     "output_type": "stream",
     "text": [
      "  Saved in 0.64s\n",
      "\n",
      "If you use this tool please cite: https://pubs.rsna.org/doi/10.1148/ryai.230024\n",
      "\n",
      "Generating rough body segmentation...\n",
      "Resampling...\n",
      "  Resampled in 0.22s\n",
      "Predicting...\n"
     ]
    },
    {
     "name": "stderr",
     "output_type": "stream",
     "text": [
      "/ocean/projects/asc170022p/mtragoza/mambaforge/envs/lung-project/lib/python3.10/site-packages/nnunetv2/utilities/plans_handling/plans_handler.py:37: UserWarning: Detected old nnU-Net plans format. Attempting to reconstruct network architecture parameters. If this fails, rerun nnUNetv2_plan_experiment for your dataset. If you use a custom architecture, please downgrade nnU-Net to the version you implemented this or update your implementation + plans.\n",
      "  warnings.warn(\"Detected old nnU-Net plans format. Attempting to reconstruct network architecture \"\n",
      "100%|██████████| 1/1 [00:00<00:00, 98.27it/s]\n"
     ]
    },
    {
     "name": "stdout",
     "output_type": "stream",
     "text": [
      "  Predicted in 7.03s\n",
      "Resampling...\n",
      "  cropping from (256, 256, 94) to (256, 222, 94)\n",
      "Predicting...\n"
     ]
    },
    {
     "name": "stderr",
     "output_type": "stream",
     "text": [
      "100%|██████████| 60/60 [00:03<00:00, 17.88it/s]\n"
     ]
    },
    {
     "name": "stdout",
     "output_type": "stream",
     "text": [
      "  Predicted in 23.60s\n",
      "Saving segmentations...\n",
      "Creating lung_vessels.nii.gz\n",
      "Creating lung_trachea_bronchia.nii.gz\n"
     ]
    },
    {
     "data": {
      "application/vnd.jupyter.widget-view+json": {
       "model_id": "e837a79a5d8c4c44ab11372f14d193ec",
       "version_major": 2,
       "version_minor": 0
      },
      "text/plain": [
       "  0%|          | 0/2 [00:00<?, ?it/s]"
      ]
     },
     "metadata": {},
     "output_type": "display_data"
    },
    {
     "name": "stdout",
     "output_type": "stream",
     "text": [
      "  Saved in 0.56s\n",
      "\n",
      "If you use this tool please cite: https://pubs.rsna.org/doi/10.1148/ryai.230024\n",
      "\n",
      "Resampling...\n",
      "  Resampled in 1.76s\n",
      "Predicting...\n"
     ]
    },
    {
     "name": "stderr",
     "output_type": "stream",
     "text": [
      "/ocean/projects/asc170022p/mtragoza/mambaforge/envs/lung-project/lib/python3.10/site-packages/nnunetv2/utilities/plans_handling/plans_handler.py:37: UserWarning: Detected old nnU-Net plans format. Attempting to reconstruct network architecture parameters. If this fails, rerun nnUNetv2_plan_experiment for your dataset. If you use a custom architecture, please downgrade nnU-Net to the version you implemented this or update your implementation + plans.\n",
      "  warnings.warn(\"Detected old nnU-Net plans format. Attempting to reconstruct network architecture \"\n",
      "100%|██████████| 8/8 [00:00<00:00, 33.21it/s]\n"
     ]
    },
    {
     "name": "stdout",
     "output_type": "stream",
     "text": [
      "  Predicted in 8.71s\n"
     ]
    },
    {
     "name": "stderr",
     "output_type": "stream",
     "text": [
      "100%|██████████| 1/1 [00:00<00:00, 10.19it/s]\n",
      "100%|██████████| 1/1 [00:00<00:00, 15.12it/s]"
     ]
    },
    {
     "name": "stdout",
     "output_type": "stream",
     "text": [
      "Resampling...\n"
     ]
    },
    {
     "name": "stderr",
     "output_type": "stream",
     "text": [
      "\n"
     ]
    },
    {
     "name": "stdout",
     "output_type": "stream",
     "text": [
      "Saving segmentations...\n",
      "Creating body_trunc.nii.gz\n"
     ]
    },
    {
     "data": {
      "application/vnd.jupyter.widget-view+json": {
       "model_id": "d733fb67c7fc4a3fa38c1c42caa91273",
       "version_major": 2,
       "version_minor": 0
      },
      "text/plain": [
       "  0%|          | 0/2 [00:00<?, ?it/s]"
      ]
     },
     "metadata": {},
     "output_type": "display_data"
    },
    {
     "name": "stdout",
     "output_type": "stream",
     "text": [
      "Creating body_extremities.nii.gz\n",
      "  Saved in 0.39s\n",
      "Creating body.nii.gz\n",
      "Creating skin.nii.gz\n",
      "Segmenting Case4Pack phase 50\n",
      "\n",
      "If you use this tool please cite: https://pubs.rsna.org/doi/10.1148/ryai.230024\n",
      "\n",
      "Generating rough body segmentation...\n",
      "Resampling...\n",
      "  Resampled in 0.22s\n",
      "Predicting...\n"
     ]
    },
    {
     "name": "stderr",
     "output_type": "stream",
     "text": [
      "/ocean/projects/asc170022p/mtragoza/mambaforge/envs/lung-project/lib/python3.10/site-packages/nnunetv2/utilities/plans_handling/plans_handler.py:37: UserWarning: Detected old nnU-Net plans format. Attempting to reconstruct network architecture parameters. If this fails, rerun nnUNetv2_plan_experiment for your dataset. If you use a custom architecture, please downgrade nnU-Net to the version you implemented this or update your implementation + plans.\n",
      "  warnings.warn(\"Detected old nnU-Net plans format. Attempting to reconstruct network architecture \"\n",
      "100%|██████████| 1/1 [00:00<00:00, 83.52it/s]\n"
     ]
    },
    {
     "name": "stdout",
     "output_type": "stream",
     "text": [
      "  Predicted in 7.06s\n",
      "Resampling...\n",
      "  cropping from (256, 256, 94) to (256, 222, 92)\n",
      "Resampling...\n",
      "  Resampled in 1.47s\n",
      "Predicting part 1 of 1 ...\n"
     ]
    },
    {
     "name": "stderr",
     "output_type": "stream",
     "text": [
      "100%|██████████| 8/8 [00:00<00:00, 32.72it/s]\n"
     ]
    },
    {
     "name": "stdout",
     "output_type": "stream",
     "text": [
      "  Predicted in 9.04s\n",
      "Resampling...\n",
      "Saving segmentations...\n"
     ]
    },
    {
     "data": {
      "application/vnd.jupyter.widget-view+json": {
       "model_id": "d56adb1aba114983bcf6fafd9fe4978d",
       "version_major": 2,
       "version_minor": 0
      },
      "text/plain": [
       "  0%|          | 0/5 [00:00<?, ?it/s]"
      ]
     },
     "metadata": {},
     "output_type": "display_data"
    },
    {
     "name": "stdout",
     "output_type": "stream",
     "text": [
      "  Saved in 0.60s\n",
      "\n",
      "If you use this tool please cite: https://pubs.rsna.org/doi/10.1148/ryai.230024\n",
      "\n",
      "Generating rough body segmentation...\n",
      "Resampling...\n",
      "  Resampled in 0.22s\n",
      "Predicting...\n"
     ]
    },
    {
     "name": "stderr",
     "output_type": "stream",
     "text": [
      "/ocean/projects/asc170022p/mtragoza/mambaforge/envs/lung-project/lib/python3.10/site-packages/nnunetv2/utilities/plans_handling/plans_handler.py:37: UserWarning: Detected old nnU-Net plans format. Attempting to reconstruct network architecture parameters. If this fails, rerun nnUNetv2_plan_experiment for your dataset. If you use a custom architecture, please downgrade nnU-Net to the version you implemented this or update your implementation + plans.\n",
      "  warnings.warn(\"Detected old nnU-Net plans format. Attempting to reconstruct network architecture \"\n",
      "100%|██████████| 1/1 [00:00<00:00, 106.75it/s]\n"
     ]
    },
    {
     "name": "stdout",
     "output_type": "stream",
     "text": [
      "  Predicted in 6.99s\n",
      "Resampling...\n",
      "  cropping from (256, 256, 94) to (256, 222, 92)\n",
      "Predicting...\n"
     ]
    },
    {
     "name": "stderr",
     "output_type": "stream",
     "text": [
      "100%|██████████| 60/60 [00:03<00:00, 17.95it/s]\n"
     ]
    },
    {
     "name": "stdout",
     "output_type": "stream",
     "text": [
      "  Predicted in 23.26s\n",
      "Saving segmentations...\n",
      "Creating lung_vessels.nii.gz"
     ]
    },
    {
     "data": {
      "application/vnd.jupyter.widget-view+json": {
       "model_id": "fedbcd4939a041d69eedb660e67e165f",
       "version_major": 2,
       "version_minor": 0
      },
      "text/plain": [
       "  0%|          | 0/2 [00:00<?, ?it/s]"
      ]
     },
     "metadata": {},
     "output_type": "display_data"
    },
    {
     "name": "stdout",
     "output_type": "stream",
     "text": [
      "\n",
      "Creating lung_trachea_bronchia.nii.gz\n",
      "  Saved in 0.63s\n",
      "\n",
      "If you use this tool please cite: https://pubs.rsna.org/doi/10.1148/ryai.230024\n",
      "\n",
      "Resampling...\n",
      "  Resampled in 1.76s\n",
      "Predicting...\n"
     ]
    },
    {
     "name": "stderr",
     "output_type": "stream",
     "text": [
      "/ocean/projects/asc170022p/mtragoza/mambaforge/envs/lung-project/lib/python3.10/site-packages/nnunetv2/utilities/plans_handling/plans_handler.py:37: UserWarning: Detected old nnU-Net plans format. Attempting to reconstruct network architecture parameters. If this fails, rerun nnUNetv2_plan_experiment for your dataset. If you use a custom architecture, please downgrade nnU-Net to the version you implemented this or update your implementation + plans.\n",
      "  warnings.warn(\"Detected old nnU-Net plans format. Attempting to reconstruct network architecture \"\n",
      "100%|██████████| 8/8 [00:00<00:00, 33.23it/s]\n"
     ]
    },
    {
     "name": "stdout",
     "output_type": "stream",
     "text": [
      "  Predicted in 8.72s\n"
     ]
    },
    {
     "name": "stderr",
     "output_type": "stream",
     "text": [
      "100%|██████████| 1/1 [00:00<00:00, 11.00it/s]\n",
      "100%|██████████| 1/1 [00:00<00:00, 15.24it/s]"
     ]
    },
    {
     "name": "stdout",
     "output_type": "stream",
     "text": [
      "Resampling...\n"
     ]
    },
    {
     "name": "stderr",
     "output_type": "stream",
     "text": [
      "\n"
     ]
    },
    {
     "name": "stdout",
     "output_type": "stream",
     "text": [
      "Saving segmentations...\n",
      "Creating body_trunc.nii.gz\n",
      "Creating body_extremities.nii.gz"
     ]
    },
    {
     "data": {
      "application/vnd.jupyter.widget-view+json": {
       "model_id": "dbba3414b67a48d8b4265923a41627dc",
       "version_major": 2,
       "version_minor": 0
      },
      "text/plain": [
       "  0%|          | 0/2 [00:00<?, ?it/s]"
      ]
     },
     "metadata": {},
     "output_type": "display_data"
    },
    {
     "name": "stdout",
     "output_type": "stream",
     "text": [
      "\n",
      "  Saved in 0.44s\n",
      "Creating body.nii.gz\n",
      "Creating skin.nii.gz\n",
      "Segmenting Case4Pack phase 60\n",
      "\n",
      "If you use this tool please cite: https://pubs.rsna.org/doi/10.1148/ryai.230024\n",
      "\n",
      "Generating rough body segmentation...\n",
      "Resampling...\n",
      "  Resampled in 0.22s\n",
      "Predicting...\n"
     ]
    },
    {
     "name": "stderr",
     "output_type": "stream",
     "text": [
      "/ocean/projects/asc170022p/mtragoza/mambaforge/envs/lung-project/lib/python3.10/site-packages/nnunetv2/utilities/plans_handling/plans_handler.py:37: UserWarning: Detected old nnU-Net plans format. Attempting to reconstruct network architecture parameters. If this fails, rerun nnUNetv2_plan_experiment for your dataset. If you use a custom architecture, please downgrade nnU-Net to the version you implemented this or update your implementation + plans.\n",
      "  warnings.warn(\"Detected old nnU-Net plans format. Attempting to reconstruct network architecture \"\n",
      "100%|██████████| 1/1 [00:00<00:00, 81.58it/s]\n"
     ]
    },
    {
     "name": "stdout",
     "output_type": "stream",
     "text": [
      "  Predicted in 6.94s\n",
      "Resampling...\n",
      "  cropping from (256, 256, 94) to (256, 222, 92)\n",
      "Resampling...\n",
      "  Resampled in 1.47s\n",
      "Predicting part 1 of 1 ...\n"
     ]
    },
    {
     "name": "stderr",
     "output_type": "stream",
     "text": [
      "100%|██████████| 8/8 [00:00<00:00, 33.09it/s]\n"
     ]
    },
    {
     "name": "stdout",
     "output_type": "stream",
     "text": [
      "  Predicted in 9.06s\n",
      "Resampling...\n",
      "Saving segmentations...\n"
     ]
    },
    {
     "data": {
      "application/vnd.jupyter.widget-view+json": {
       "model_id": "deb557e053784d48a4498a15ddefaaf7",
       "version_major": 2,
       "version_minor": 0
      },
      "text/plain": [
       "  0%|          | 0/5 [00:00<?, ?it/s]"
      ]
     },
     "metadata": {},
     "output_type": "display_data"
    },
    {
     "name": "stdout",
     "output_type": "stream",
     "text": [
      "  Saved in 0.62s\n",
      "\n",
      "If you use this tool please cite: https://pubs.rsna.org/doi/10.1148/ryai.230024\n",
      "\n",
      "Generating rough body segmentation...\n",
      "Resampling...\n",
      "  Resampled in 0.22s\n",
      "Predicting...\n"
     ]
    },
    {
     "name": "stderr",
     "output_type": "stream",
     "text": [
      "/ocean/projects/asc170022p/mtragoza/mambaforge/envs/lung-project/lib/python3.10/site-packages/nnunetv2/utilities/plans_handling/plans_handler.py:37: UserWarning: Detected old nnU-Net plans format. Attempting to reconstruct network architecture parameters. If this fails, rerun nnUNetv2_plan_experiment for your dataset. If you use a custom architecture, please downgrade nnU-Net to the version you implemented this or update your implementation + plans.\n",
      "  warnings.warn(\"Detected old nnU-Net plans format. Attempting to reconstruct network architecture \"\n",
      "100%|██████████| 1/1 [00:00<00:00, 105.97it/s]\n"
     ]
    },
    {
     "name": "stdout",
     "output_type": "stream",
     "text": [
      "  Predicted in 7.02s\n",
      "Resampling...\n",
      "  cropping from (256, 256, 94) to (256, 222, 92)\n",
      "Predicting...\n"
     ]
    },
    {
     "name": "stderr",
     "output_type": "stream",
     "text": [
      "100%|██████████| 60/60 [00:03<00:00, 17.89it/s]\n"
     ]
    },
    {
     "name": "stdout",
     "output_type": "stream",
     "text": [
      "  Predicted in 23.22s\n",
      "Saving segmentations...\n",
      "Creating lung_vessels.nii.gz\n",
      "Creating lung_trachea_bronchia.nii.gz\n"
     ]
    },
    {
     "data": {
      "application/vnd.jupyter.widget-view+json": {
       "model_id": "0f6862c3c51947328c3561e15aaa243b",
       "version_major": 2,
       "version_minor": 0
      },
      "text/plain": [
       "  0%|          | 0/2 [00:00<?, ?it/s]"
      ]
     },
     "metadata": {},
     "output_type": "display_data"
    },
    {
     "name": "stdout",
     "output_type": "stream",
     "text": [
      "  Saved in 0.52s\n",
      "\n",
      "If you use this tool please cite: https://pubs.rsna.org/doi/10.1148/ryai.230024\n",
      "\n",
      "Resampling...\n",
      "  Resampled in 1.76s\n",
      "Predicting...\n"
     ]
    },
    {
     "name": "stderr",
     "output_type": "stream",
     "text": [
      "/ocean/projects/asc170022p/mtragoza/mambaforge/envs/lung-project/lib/python3.10/site-packages/nnunetv2/utilities/plans_handling/plans_handler.py:37: UserWarning: Detected old nnU-Net plans format. Attempting to reconstruct network architecture parameters. If this fails, rerun nnUNetv2_plan_experiment for your dataset. If you use a custom architecture, please downgrade nnU-Net to the version you implemented this or update your implementation + plans.\n",
      "  warnings.warn(\"Detected old nnU-Net plans format. Attempting to reconstruct network architecture \"\n",
      "100%|██████████| 8/8 [00:00<00:00, 33.26it/s]\n"
     ]
    },
    {
     "name": "stdout",
     "output_type": "stream",
     "text": [
      "  Predicted in 8.43s\n"
     ]
    },
    {
     "name": "stderr",
     "output_type": "stream",
     "text": [
      "100%|██████████| 1/1 [00:00<00:00, 10.88it/s]\n",
      "100%|██████████| 1/1 [00:00<00:00, 14.98it/s]"
     ]
    },
    {
     "name": "stdout",
     "output_type": "stream",
     "text": [
      "Resampling...\n"
     ]
    },
    {
     "name": "stderr",
     "output_type": "stream",
     "text": [
      "\n"
     ]
    },
    {
     "name": "stdout",
     "output_type": "stream",
     "text": [
      "Saving segmentations...\n",
      "Creating body_trunc.nii.gz"
     ]
    },
    {
     "data": {
      "application/vnd.jupyter.widget-view+json": {
       "model_id": "890d364373a24a759b86b6f0126643bc",
       "version_major": 2,
       "version_minor": 0
      },
      "text/plain": [
       "  0%|          | 0/2 [00:00<?, ?it/s]"
      ]
     },
     "metadata": {},
     "output_type": "display_data"
    },
    {
     "name": "stdout",
     "output_type": "stream",
     "text": [
      "\n",
      "Creating body_extremities.nii.gz\n",
      "  Saved in 168.01s\n",
      "Creating body.nii.gz\n",
      "Creating skin.nii.gz\n",
      "Segmenting Case4Pack phase 70\n",
      "\n",
      "If you use this tool please cite: https://pubs.rsna.org/doi/10.1148/ryai.230024\n",
      "\n",
      "Generating rough body segmentation...\n",
      "Resampling...\n",
      "  Resampled in 0.22s\n",
      "Predicting...\n"
     ]
    },
    {
     "name": "stderr",
     "output_type": "stream",
     "text": [
      "/ocean/projects/asc170022p/mtragoza/mambaforge/envs/lung-project/lib/python3.10/site-packages/nnunetv2/utilities/plans_handling/plans_handler.py:37: UserWarning: Detected old nnU-Net plans format. Attempting to reconstruct network architecture parameters. If this fails, rerun nnUNetv2_plan_experiment for your dataset. If you use a custom architecture, please downgrade nnU-Net to the version you implemented this or update your implementation + plans.\n",
      "  warnings.warn(\"Detected old nnU-Net plans format. Attempting to reconstruct network architecture \"\n",
      "100%|██████████| 1/1 [00:00<00:00, 104.23it/s]\n"
     ]
    },
    {
     "name": "stdout",
     "output_type": "stream",
     "text": [
      "  Predicted in 7.17s\n",
      "Resampling...\n",
      "  cropping from (256, 256, 94) to (256, 222, 92)\n",
      "Resampling...\n",
      "  Resampled in 1.47s\n",
      "Predicting part 1 of 1 ...\n"
     ]
    },
    {
     "name": "stderr",
     "output_type": "stream",
     "text": [
      "100%|██████████| 8/8 [00:00<00:00, 32.02it/s]\n"
     ]
    },
    {
     "name": "stdout",
     "output_type": "stream",
     "text": [
      "  Predicted in 8.86s\n",
      "Resampling...\n",
      "Saving segmentations...\n"
     ]
    },
    {
     "data": {
      "application/vnd.jupyter.widget-view+json": {
       "model_id": "ed45321ef22a415ba70d02e69802d919",
       "version_major": 2,
       "version_minor": 0
      },
      "text/plain": [
       "  0%|          | 0/5 [00:00<?, ?it/s]"
      ]
     },
     "metadata": {},
     "output_type": "display_data"
    },
    {
     "name": "stdout",
     "output_type": "stream",
     "text": [
      "  Saved in 0.76s\n",
      "\n",
      "If you use this tool please cite: https://pubs.rsna.org/doi/10.1148/ryai.230024\n",
      "\n",
      "Generating rough body segmentation...\n",
      "Resampling...\n",
      "  Resampled in 0.22s\n",
      "Predicting...\n"
     ]
    },
    {
     "name": "stderr",
     "output_type": "stream",
     "text": [
      "/ocean/projects/asc170022p/mtragoza/mambaforge/envs/lung-project/lib/python3.10/site-packages/nnunetv2/utilities/plans_handling/plans_handler.py:37: UserWarning: Detected old nnU-Net plans format. Attempting to reconstruct network architecture parameters. If this fails, rerun nnUNetv2_plan_experiment for your dataset. If you use a custom architecture, please downgrade nnU-Net to the version you implemented this or update your implementation + plans.\n",
      "  warnings.warn(\"Detected old nnU-Net plans format. Attempting to reconstruct network architecture \"\n",
      "100%|██████████| 1/1 [00:00<00:00, 94.78it/s]\n"
     ]
    },
    {
     "name": "stdout",
     "output_type": "stream",
     "text": [
      "  Predicted in 7.06s\n",
      "Resampling...\n",
      "  cropping from (256, 256, 94) to (256, 222, 92)\n",
      "Predicting...\n"
     ]
    },
    {
     "name": "stderr",
     "output_type": "stream",
     "text": [
      "100%|██████████| 60/60 [00:03<00:00, 17.94it/s]\n"
     ]
    },
    {
     "name": "stdout",
     "output_type": "stream",
     "text": [
      "  Predicted in 23.35s\n",
      "Saving segmentations...\n",
      "Creating lung_vessels.nii.gz\n",
      "Creating lung_trachea_bronchia.nii.gz\n"
     ]
    },
    {
     "data": {
      "application/vnd.jupyter.widget-view+json": {
       "model_id": "2f971e0a3c8f4c3f838db10c6d63ef49",
       "version_major": 2,
       "version_minor": 0
      },
      "text/plain": [
       "  0%|          | 0/2 [00:00<?, ?it/s]"
      ]
     },
     "metadata": {},
     "output_type": "display_data"
    },
    {
     "name": "stdout",
     "output_type": "stream",
     "text": [
      "  Saved in 0.53s\n",
      "\n",
      "If you use this tool please cite: https://pubs.rsna.org/doi/10.1148/ryai.230024\n",
      "\n",
      "Resampling...\n",
      "  Resampled in 1.77s\n",
      "Predicting...\n"
     ]
    },
    {
     "name": "stderr",
     "output_type": "stream",
     "text": [
      "/ocean/projects/asc170022p/mtragoza/mambaforge/envs/lung-project/lib/python3.10/site-packages/nnunetv2/utilities/plans_handling/plans_handler.py:37: UserWarning: Detected old nnU-Net plans format. Attempting to reconstruct network architecture parameters. If this fails, rerun nnUNetv2_plan_experiment for your dataset. If you use a custom architecture, please downgrade nnU-Net to the version you implemented this or update your implementation + plans.\n",
      "  warnings.warn(\"Detected old nnU-Net plans format. Attempting to reconstruct network architecture \"\n",
      "100%|██████████| 8/8 [00:00<00:00, 33.26it/s]\n"
     ]
    },
    {
     "name": "stdout",
     "output_type": "stream",
     "text": [
      "  Predicted in 8.70s\n"
     ]
    },
    {
     "name": "stderr",
     "output_type": "stream",
     "text": [
      "100%|██████████| 1/1 [00:00<00:00, 10.91it/s]\n",
      "100%|██████████| 1/1 [00:00<00:00, 15.09it/s]"
     ]
    },
    {
     "name": "stdout",
     "output_type": "stream",
     "text": [
      "Resampling...\n"
     ]
    },
    {
     "name": "stderr",
     "output_type": "stream",
     "text": [
      "\n"
     ]
    },
    {
     "name": "stdout",
     "output_type": "stream",
     "text": [
      "Saving segmentations...\n",
      "Creating body_trunc.nii.gz\n",
      "Creating body_extremities.nii.gz\n"
     ]
    },
    {
     "data": {
      "application/vnd.jupyter.widget-view+json": {
       "model_id": "4d27888e2e9646a8bce8e7fa0cdf98c1",
       "version_major": 2,
       "version_minor": 0
      },
      "text/plain": [
       "  0%|          | 0/2 [00:00<?, ?it/s]"
      ]
     },
     "metadata": {},
     "output_type": "display_data"
    },
    {
     "name": "stdout",
     "output_type": "stream",
     "text": [
      "  Saved in 0.35s\n",
      "Creating body.nii.gz\n",
      "Creating skin.nii.gz\n",
      "Segmenting Case4Pack phase 80\n",
      "\n",
      "If you use this tool please cite: https://pubs.rsna.org/doi/10.1148/ryai.230024\n",
      "\n",
      "Generating rough body segmentation...\n",
      "Resampling...\n",
      "  Resampled in 0.23s\n",
      "Predicting...\n"
     ]
    },
    {
     "name": "stderr",
     "output_type": "stream",
     "text": [
      "/ocean/projects/asc170022p/mtragoza/mambaforge/envs/lung-project/lib/python3.10/site-packages/nnunetv2/utilities/plans_handling/plans_handler.py:37: UserWarning: Detected old nnU-Net plans format. Attempting to reconstruct network architecture parameters. If this fails, rerun nnUNetv2_plan_experiment for your dataset. If you use a custom architecture, please downgrade nnU-Net to the version you implemented this or update your implementation + plans.\n",
      "  warnings.warn(\"Detected old nnU-Net plans format. Attempting to reconstruct network architecture \"\n",
      "100%|██████████| 1/1 [00:00<00:00, 91.34it/s]\n"
     ]
    },
    {
     "name": "stdout",
     "output_type": "stream",
     "text": [
      "  Predicted in 7.04s\n",
      "Resampling...\n",
      "  cropping from (256, 256, 94) to (256, 216, 94)\n",
      "Resampling...\n",
      "  Resampled in 1.47s\n",
      "Predicting part 1 of 1 ...\n"
     ]
    },
    {
     "name": "stderr",
     "output_type": "stream",
     "text": [
      "100%|██████████| 8/8 [00:00<00:00, 33.24it/s]\n"
     ]
    },
    {
     "name": "stdout",
     "output_type": "stream",
     "text": [
      "  Predicted in 8.85s\n",
      "Resampling...\n",
      "Saving segmentations...\n"
     ]
    },
    {
     "data": {
      "application/vnd.jupyter.widget-view+json": {
       "model_id": "9bce7bc342b94f448451248224ab270e",
       "version_major": 2,
       "version_minor": 0
      },
      "text/plain": [
       "  0%|          | 0/5 [00:00<?, ?it/s]"
      ]
     },
     "metadata": {},
     "output_type": "display_data"
    },
    {
     "name": "stdout",
     "output_type": "stream",
     "text": [
      "  Saved in 0.64s\n",
      "\n",
      "If you use this tool please cite: https://pubs.rsna.org/doi/10.1148/ryai.230024\n",
      "\n",
      "Generating rough body segmentation...\n",
      "Resampling...\n",
      "  Resampled in 0.23s\n",
      "Predicting...\n"
     ]
    },
    {
     "name": "stderr",
     "output_type": "stream",
     "text": [
      "/ocean/projects/asc170022p/mtragoza/mambaforge/envs/lung-project/lib/python3.10/site-packages/nnunetv2/utilities/plans_handling/plans_handler.py:37: UserWarning: Detected old nnU-Net plans format. Attempting to reconstruct network architecture parameters. If this fails, rerun nnUNetv2_plan_experiment for your dataset. If you use a custom architecture, please downgrade nnU-Net to the version you implemented this or update your implementation + plans.\n",
      "  warnings.warn(\"Detected old nnU-Net plans format. Attempting to reconstruct network architecture \"\n",
      "100%|██████████| 1/1 [00:00<00:00, 75.84it/s]\n"
     ]
    },
    {
     "name": "stdout",
     "output_type": "stream",
     "text": [
      "  Predicted in 7.05s\n",
      "Resampling...\n",
      "  cropping from (256, 256, 94) to (256, 216, 94)\n",
      "Predicting...\n"
     ]
    },
    {
     "name": "stderr",
     "output_type": "stream",
     "text": [
      "100%|██████████| 60/60 [00:03<00:00, 17.90it/s]\n"
     ]
    },
    {
     "name": "stdout",
     "output_type": "stream",
     "text": [
      "  Predicted in 23.26s\n",
      "Saving segmentations...\n",
      "Creating lung_trachea_bronchia.nii.gzCreating lung_vessels.nii.gz"
     ]
    },
    {
     "data": {
      "application/vnd.jupyter.widget-view+json": {
       "model_id": "073b5ffef1fc46a88f7bf78c09271f0a",
       "version_major": 2,
       "version_minor": 0
      },
      "text/plain": [
       "  0%|          | 0/2 [00:00<?, ?it/s]"
      ]
     },
     "metadata": {},
     "output_type": "display_data"
    },
    {
     "name": "stdout",
     "output_type": "stream",
     "text": [
      "\n",
      "\n",
      "  Saved in 0.48s\n",
      "\n",
      "If you use this tool please cite: https://pubs.rsna.org/doi/10.1148/ryai.230024\n",
      "\n",
      "Resampling...\n",
      "  Resampled in 1.77s\n",
      "Predicting...\n"
     ]
    },
    {
     "name": "stderr",
     "output_type": "stream",
     "text": [
      "/ocean/projects/asc170022p/mtragoza/mambaforge/envs/lung-project/lib/python3.10/site-packages/nnunetv2/utilities/plans_handling/plans_handler.py:37: UserWarning: Detected old nnU-Net plans format. Attempting to reconstruct network architecture parameters. If this fails, rerun nnUNetv2_plan_experiment for your dataset. If you use a custom architecture, please downgrade nnU-Net to the version you implemented this or update your implementation + plans.\n",
      "  warnings.warn(\"Detected old nnU-Net plans format. Attempting to reconstruct network architecture \"\n",
      "100%|██████████| 8/8 [00:00<00:00, 34.61it/s]\n"
     ]
    },
    {
     "name": "stdout",
     "output_type": "stream",
     "text": [
      "  Predicted in 8.50s\n"
     ]
    },
    {
     "name": "stderr",
     "output_type": "stream",
     "text": [
      "100%|██████████| 1/1 [00:00<00:00, 11.01it/s]\n",
      "100%|██████████| 1/1 [00:00<00:00, 15.00it/s]"
     ]
    },
    {
     "name": "stdout",
     "output_type": "stream",
     "text": [
      "Resampling...\n"
     ]
    },
    {
     "name": "stderr",
     "output_type": "stream",
     "text": [
      "\n"
     ]
    },
    {
     "name": "stdout",
     "output_type": "stream",
     "text": [
      "Saving segmentations...\n",
      "Creating body_trunc.nii.gz\n",
      "Creating body_extremities.nii.gz"
     ]
    },
    {
     "data": {
      "application/vnd.jupyter.widget-view+json": {
       "model_id": "b1c8232f24ad40d0b1a7011389d2a3d4",
       "version_major": 2,
       "version_minor": 0
      },
      "text/plain": [
       "  0%|          | 0/2 [00:00<?, ?it/s]"
      ]
     },
     "metadata": {},
     "output_type": "display_data"
    },
    {
     "name": "stdout",
     "output_type": "stream",
     "text": [
      "\n",
      "  Saved in 187.43s\n",
      "Creating body.nii.gz\n",
      "Creating skin.nii.gz\n",
      "Segmenting Case4Pack phase 90\n",
      "\n",
      "If you use this tool please cite: https://pubs.rsna.org/doi/10.1148/ryai.230024\n",
      "\n",
      "Generating rough body segmentation...\n",
      "Resampling...\n",
      "  Resampled in 0.23s\n",
      "Predicting...\n"
     ]
    },
    {
     "name": "stderr",
     "output_type": "stream",
     "text": [
      "/ocean/projects/asc170022p/mtragoza/mambaforge/envs/lung-project/lib/python3.10/site-packages/nnunetv2/utilities/plans_handling/plans_handler.py:37: UserWarning: Detected old nnU-Net plans format. Attempting to reconstruct network architecture parameters. If this fails, rerun nnUNetv2_plan_experiment for your dataset. If you use a custom architecture, please downgrade nnU-Net to the version you implemented this or update your implementation + plans.\n",
      "  warnings.warn(\"Detected old nnU-Net plans format. Attempting to reconstruct network architecture \"\n",
      "100%|██████████| 1/1 [00:00<00:00, 80.89it/s]\n"
     ]
    },
    {
     "name": "stdout",
     "output_type": "stream",
     "text": [
      "  Predicted in 7.50s\n",
      "Resampling...\n",
      "  cropping from (256, 256, 94) to (256, 216, 94)\n",
      "Resampling...\n",
      "  Resampled in 1.47s\n",
      "Predicting part 1 of 1 ...\n"
     ]
    },
    {
     "name": "stderr",
     "output_type": "stream",
     "text": [
      "100%|██████████| 8/8 [00:00<00:00, 32.14it/s]\n"
     ]
    },
    {
     "name": "stdout",
     "output_type": "stream",
     "text": [
      "  Predicted in 9.24s\n",
      "Resampling...\n",
      "Saving segmentations...\n"
     ]
    },
    {
     "data": {
      "application/vnd.jupyter.widget-view+json": {
       "model_id": "8cd440fb616b4775bce5c1311a98b761",
       "version_major": 2,
       "version_minor": 0
      },
      "text/plain": [
       "  0%|          | 0/5 [00:00<?, ?it/s]"
      ]
     },
     "metadata": {},
     "output_type": "display_data"
    },
    {
     "name": "stdout",
     "output_type": "stream",
     "text": [
      "  Saved in 369.56s\n",
      "\n",
      "If you use this tool please cite: https://pubs.rsna.org/doi/10.1148/ryai.230024\n",
      "\n",
      "Generating rough body segmentation...\n",
      "Resampling...\n",
      "  Resampled in 0.23s\n",
      "Predicting...\n"
     ]
    },
    {
     "name": "stderr",
     "output_type": "stream",
     "text": [
      "/ocean/projects/asc170022p/mtragoza/mambaforge/envs/lung-project/lib/python3.10/site-packages/nnunetv2/utilities/plans_handling/plans_handler.py:37: UserWarning: Detected old nnU-Net plans format. Attempting to reconstruct network architecture parameters. If this fails, rerun nnUNetv2_plan_experiment for your dataset. If you use a custom architecture, please downgrade nnU-Net to the version you implemented this or update your implementation + plans.\n",
      "  warnings.warn(\"Detected old nnU-Net plans format. Attempting to reconstruct network architecture \"\n",
      "100%|██████████| 1/1 [00:00<00:00, 95.00it/s]\n"
     ]
    },
    {
     "name": "stdout",
     "output_type": "stream",
     "text": [
      "  Predicted in 7.32s\n",
      "Resampling...\n",
      "  cropping from (256, 256, 94) to (256, 216, 94)\n",
      "Predicting...\n"
     ]
    },
    {
     "name": "stderr",
     "output_type": "stream",
     "text": [
      "100%|██████████| 60/60 [00:03<00:00, 17.96it/s]\n"
     ]
    },
    {
     "name": "stdout",
     "output_type": "stream",
     "text": [
      "  Predicted in 23.63s\n",
      "Saving segmentations...\n"
     ]
    },
    {
     "data": {
      "application/vnd.jupyter.widget-view+json": {
       "model_id": "32ea616cfbed409cba64f2e40ab59835",
       "version_major": 2,
       "version_minor": 0
      },
      "text/plain": [
       "  0%|          | 0/2 [00:00<?, ?it/s]"
      ]
     },
     "metadata": {},
     "output_type": "display_data"
    },
    {
     "name": "stdout",
     "output_type": "stream",
     "text": [
      "Creating lung_vessels.nii.gz\n",
      "Creating lung_trachea_bronchia.nii.gz\n",
      "  Saved in 0.79s\n",
      "\n",
      "If you use this tool please cite: https://pubs.rsna.org/doi/10.1148/ryai.230024\n",
      "\n",
      "Resampling...\n",
      "  Resampled in 1.76s\n",
      "Predicting...\n"
     ]
    },
    {
     "name": "stderr",
     "output_type": "stream",
     "text": [
      "/ocean/projects/asc170022p/mtragoza/mambaforge/envs/lung-project/lib/python3.10/site-packages/nnunetv2/utilities/plans_handling/plans_handler.py:37: UserWarning: Detected old nnU-Net plans format. Attempting to reconstruct network architecture parameters. If this fails, rerun nnUNetv2_plan_experiment for your dataset. If you use a custom architecture, please downgrade nnU-Net to the version you implemented this or update your implementation + plans.\n",
      "  warnings.warn(\"Detected old nnU-Net plans format. Attempting to reconstruct network architecture \"\n",
      "100%|██████████| 8/8 [00:00<00:00, 33.23it/s]\n"
     ]
    },
    {
     "name": "stdout",
     "output_type": "stream",
     "text": [
      "  Predicted in 8.79s\n"
     ]
    },
    {
     "name": "stderr",
     "output_type": "stream",
     "text": [
      "100%|██████████| 1/1 [00:00<00:00, 10.93it/s]\n",
      "100%|██████████| 1/1 [00:00<00:00, 14.92it/s]"
     ]
    },
    {
     "name": "stdout",
     "output_type": "stream",
     "text": [
      "Resampling...\n"
     ]
    },
    {
     "name": "stderr",
     "output_type": "stream",
     "text": [
      "\n"
     ]
    },
    {
     "name": "stdout",
     "output_type": "stream",
     "text": [
      "Saving segmentations...\n",
      "Creating body_trunc.nii.gz\n",
      "Creating body_extremities.nii.gz\n"
     ]
    },
    {
     "data": {
      "application/vnd.jupyter.widget-view+json": {
       "model_id": "b8a052028c7d44a6994fb5a5e20d3d02",
       "version_major": 2,
       "version_minor": 0
      },
      "text/plain": [
       "  0%|          | 0/2 [00:00<?, ?it/s]"
      ]
     },
     "metadata": {},
     "output_type": "display_data"
    },
    {
     "name": "stdout",
     "output_type": "stream",
     "text": [
      "  Saved in 0.33s\n",
      "Creating body.nii.gz\n",
      "Creating skin.nii.gz\n",
      "Segmenting Case5Pack phase 0\n",
      "\n",
      "If you use this tool please cite: https://pubs.rsna.org/doi/10.1148/ryai.230024\n",
      "\n",
      "Generating rough body segmentation...\n",
      "Resampling...\n",
      "  Resampled in 0.23s\n",
      "Predicting...\n"
     ]
    },
    {
     "name": "stderr",
     "output_type": "stream",
     "text": [
      "/ocean/projects/asc170022p/mtragoza/mambaforge/envs/lung-project/lib/python3.10/site-packages/nnunetv2/utilities/plans_handling/plans_handler.py:37: UserWarning: Detected old nnU-Net plans format. Attempting to reconstruct network architecture parameters. If this fails, rerun nnUNetv2_plan_experiment for your dataset. If you use a custom architecture, please downgrade nnU-Net to the version you implemented this or update your implementation + plans.\n",
      "  warnings.warn(\"Detected old nnU-Net plans format. Attempting to reconstruct network architecture \"\n",
      "100%|██████████| 1/1 [00:00<00:00, 74.15it/s]\n"
     ]
    },
    {
     "name": "stdout",
     "output_type": "stream",
     "text": [
      "  Predicted in 7.22s\n",
      "Resampling...\n",
      "  cropping from (256, 256, 94) to (256, 207, 94)\n",
      "Resampling...\n",
      "  Resampled in 1.78s\n",
      "Predicting part 1 of 1 ...\n"
     ]
    },
    {
     "name": "stderr",
     "output_type": "stream",
     "text": [
      "100%|██████████| 8/8 [00:00<00:00, 31.86it/s]\n"
     ]
    },
    {
     "name": "stdout",
     "output_type": "stream",
     "text": [
      "  Predicted in 9.44s\n",
      "Resampling...\n",
      "Saving segmentations...\n"
     ]
    },
    {
     "data": {
      "application/vnd.jupyter.widget-view+json": {
       "model_id": "cbb557c5cf6d43d5a455591dc69c7338",
       "version_major": 2,
       "version_minor": 0
      },
      "text/plain": [
       "  0%|          | 0/5 [00:00<?, ?it/s]"
      ]
     },
     "metadata": {},
     "output_type": "display_data"
    },
    {
     "name": "stdout",
     "output_type": "stream",
     "text": [
      "  Saved in 197.68s\n",
      "\n",
      "If you use this tool please cite: https://pubs.rsna.org/doi/10.1148/ryai.230024\n",
      "\n",
      "Generating rough body segmentation...\n",
      "Resampling...\n",
      "  Resampled in 0.24s\n",
      "Predicting...\n"
     ]
    },
    {
     "name": "stderr",
     "output_type": "stream",
     "text": [
      "/ocean/projects/asc170022p/mtragoza/mambaforge/envs/lung-project/lib/python3.10/site-packages/nnunetv2/utilities/plans_handling/plans_handler.py:37: UserWarning: Detected old nnU-Net plans format. Attempting to reconstruct network architecture parameters. If this fails, rerun nnUNetv2_plan_experiment for your dataset. If you use a custom architecture, please downgrade nnU-Net to the version you implemented this or update your implementation + plans.\n",
      "  warnings.warn(\"Detected old nnU-Net plans format. Attempting to reconstruct network architecture \"\n",
      "100%|██████████| 1/1 [00:00<00:00, 91.90it/s]\n"
     ]
    },
    {
     "name": "stdout",
     "output_type": "stream",
     "text": [
      "  Predicted in 9.56s\n",
      "Resampling...\n",
      "  cropping from (256, 256, 94) to (256, 207, 94)\n",
      "Predicting...\n"
     ]
    },
    {
     "name": "stderr",
     "output_type": "stream",
     "text": [
      "100%|██████████| 80/80 [00:04<00:00, 17.68it/s]\n"
     ]
    },
    {
     "name": "stdout",
     "output_type": "stream",
     "text": [
      "  Predicted in 26.36s\n",
      "Saving segmentations...\n"
     ]
    },
    {
     "data": {
      "application/vnd.jupyter.widget-view+json": {
       "model_id": "545b4b46fbeb4fa180eb252aab1b013b",
       "version_major": 2,
       "version_minor": 0
      },
      "text/plain": [
       "  0%|          | 0/2 [00:00<?, ?it/s]"
      ]
     },
     "metadata": {},
     "output_type": "display_data"
    },
    {
     "name": "stdout",
     "output_type": "stream",
     "text": [
      "Creating lung_trachea_bronchia.nii.gzCreating lung_vessels.nii.gz\n",
      "\n",
      "  Saved in 0.55s\n",
      "\n",
      "If you use this tool please cite: https://pubs.rsna.org/doi/10.1148/ryai.230024\n",
      "\n",
      "Resampling...\n",
      "  Resampled in 2.17s\n",
      "Predicting...\n"
     ]
    },
    {
     "name": "stderr",
     "output_type": "stream",
     "text": [
      "/ocean/projects/asc170022p/mtragoza/mambaforge/envs/lung-project/lib/python3.10/site-packages/nnunetv2/utilities/plans_handling/plans_handler.py:37: UserWarning: Detected old nnU-Net plans format. Attempting to reconstruct network architecture parameters. If this fails, rerun nnUNetv2_plan_experiment for your dataset. If you use a custom architecture, please downgrade nnU-Net to the version you implemented this or update your implementation + plans.\n",
      "  warnings.warn(\"Detected old nnU-Net plans format. Attempting to reconstruct network architecture \"\n",
      "100%|██████████| 8/8 [00:00<00:00, 33.58it/s]\n"
     ]
    },
    {
     "name": "stdout",
     "output_type": "stream",
     "text": [
      "  Predicted in 8.96s\n"
     ]
    },
    {
     "name": "stderr",
     "output_type": "stream",
     "text": [
      "100%|██████████| 1/1 [00:00<00:00,  8.99it/s]\n",
      "100%|██████████| 1/1 [00:00<00:00, 12.24it/s]\n"
     ]
    },
    {
     "name": "stdout",
     "output_type": "stream",
     "text": [
      "Resampling...\n",
      "Saving segmentations...\n",
      "Creating body_trunc.nii.gz\n",
      "Creating body_extremities.nii.gz\n"
     ]
    },
    {
     "data": {
      "application/vnd.jupyter.widget-view+json": {
       "model_id": "b14ee9808c0b494ead5b9da84c49cc64",
       "version_major": 2,
       "version_minor": 0
      },
      "text/plain": [
       "  0%|          | 0/2 [00:00<?, ?it/s]"
      ]
     },
     "metadata": {},
     "output_type": "display_data"
    },
    {
     "name": "stdout",
     "output_type": "stream",
     "text": [
      "  Saved in 0.38s\n",
      "Creating body.nii.gz\n",
      "Creating skin.nii.gz\n",
      "Segmenting Case5Pack phase 10\n",
      "\n",
      "If you use this tool please cite: https://pubs.rsna.org/doi/10.1148/ryai.230024\n",
      "\n",
      "Generating rough body segmentation...\n",
      "Resampling...\n",
      "  Resampled in 0.23s\n",
      "Predicting...\n"
     ]
    },
    {
     "name": "stderr",
     "output_type": "stream",
     "text": [
      "/ocean/projects/asc170022p/mtragoza/mambaforge/envs/lung-project/lib/python3.10/site-packages/nnunetv2/utilities/plans_handling/plans_handler.py:37: UserWarning: Detected old nnU-Net plans format. Attempting to reconstruct network architecture parameters. If this fails, rerun nnUNetv2_plan_experiment for your dataset. If you use a custom architecture, please downgrade nnU-Net to the version you implemented this or update your implementation + plans.\n",
      "  warnings.warn(\"Detected old nnU-Net plans format. Attempting to reconstruct network architecture \"\n",
      "100%|██████████| 1/1 [00:00<00:00, 77.04it/s]\n"
     ]
    },
    {
     "name": "stdout",
     "output_type": "stream",
     "text": [
      "  Predicted in 7.27s\n",
      "Resampling...\n",
      "  cropping from (256, 256, 94) to (256, 207, 94)\n",
      "Resampling...\n",
      "  Resampled in 1.72s\n",
      "Predicting part 1 of 1 ...\n"
     ]
    },
    {
     "name": "stderr",
     "output_type": "stream",
     "text": [
      "100%|██████████| 8/8 [00:00<00:00, 31.91it/s]\n"
     ]
    },
    {
     "name": "stdout",
     "output_type": "stream",
     "text": [
      "  Predicted in 9.48s\n",
      "Resampling...\n",
      "Saving segmentations...\n"
     ]
    },
    {
     "data": {
      "application/vnd.jupyter.widget-view+json": {
       "model_id": "1b3f471a867e4547beed06443608d768",
       "version_major": 2,
       "version_minor": 0
      },
      "text/plain": [
       "  0%|          | 0/5 [00:00<?, ?it/s]"
      ]
     },
     "metadata": {},
     "output_type": "display_data"
    },
    {
     "name": "stdout",
     "output_type": "stream",
     "text": [
      "  Saved in 0.58s\n",
      "\n",
      "If you use this tool please cite: https://pubs.rsna.org/doi/10.1148/ryai.230024\n",
      "\n",
      "Generating rough body segmentation...\n",
      "Resampling...\n",
      "  Resampled in 0.23s\n",
      "Predicting...\n"
     ]
    },
    {
     "name": "stderr",
     "output_type": "stream",
     "text": [
      "/ocean/projects/asc170022p/mtragoza/mambaforge/envs/lung-project/lib/python3.10/site-packages/nnunetv2/utilities/plans_handling/plans_handler.py:37: UserWarning: Detected old nnU-Net plans format. Attempting to reconstruct network architecture parameters. If this fails, rerun nnUNetv2_plan_experiment for your dataset. If you use a custom architecture, please downgrade nnU-Net to the version you implemented this or update your implementation + plans.\n",
      "  warnings.warn(\"Detected old nnU-Net plans format. Attempting to reconstruct network architecture \"\n",
      "100%|██████████| 1/1 [00:00<00:00, 91.00it/s]\n"
     ]
    },
    {
     "name": "stdout",
     "output_type": "stream",
     "text": [
      "  Predicted in 7.37s\n",
      "Resampling...\n",
      "  cropping from (256, 256, 94) to (256, 207, 94)\n",
      "Predicting...\n"
     ]
    },
    {
     "name": "stderr",
     "output_type": "stream",
     "text": [
      "100%|██████████| 80/80 [00:04<00:00, 17.67it/s]\n"
     ]
    },
    {
     "name": "stdout",
     "output_type": "stream",
     "text": [
      "  Predicted in 26.34s\n",
      "Saving segmentations...\n",
      "Creating lung_vessels.nii.gz\n",
      "Creating lung_trachea_bronchia.nii.gz\n"
     ]
    },
    {
     "data": {
      "application/vnd.jupyter.widget-view+json": {
       "model_id": "26841c3e78964f4bb30aafdd10716ec1",
       "version_major": 2,
       "version_minor": 0
      },
      "text/plain": [
       "  0%|          | 0/2 [00:00<?, ?it/s]"
      ]
     },
     "metadata": {},
     "output_type": "display_data"
    },
    {
     "name": "stdout",
     "output_type": "stream",
     "text": [
      "  Saved in 0.51s\n",
      "\n",
      "If you use this tool please cite: https://pubs.rsna.org/doi/10.1148/ryai.230024\n",
      "\n",
      "Resampling...\n",
      "  Resampled in 2.17s\n",
      "Predicting...\n"
     ]
    },
    {
     "name": "stderr",
     "output_type": "stream",
     "text": [
      "/ocean/projects/asc170022p/mtragoza/mambaforge/envs/lung-project/lib/python3.10/site-packages/nnunetv2/utilities/plans_handling/plans_handler.py:37: UserWarning: Detected old nnU-Net plans format. Attempting to reconstruct network architecture parameters. If this fails, rerun nnUNetv2_plan_experiment for your dataset. If you use a custom architecture, please downgrade nnU-Net to the version you implemented this or update your implementation + plans.\n",
      "  warnings.warn(\"Detected old nnU-Net plans format. Attempting to reconstruct network architecture \"\n",
      "100%|██████████| 8/8 [00:00<00:00, 33.90it/s]\n"
     ]
    },
    {
     "name": "stdout",
     "output_type": "stream",
     "text": [
      "  Predicted in 9.65s\n"
     ]
    },
    {
     "name": "stderr",
     "output_type": "stream",
     "text": [
      "100%|██████████| 1/1 [00:00<00:00,  8.85it/s]\n",
      "100%|██████████| 1/1 [00:00<00:00, 11.98it/s]\n"
     ]
    },
    {
     "name": "stdout",
     "output_type": "stream",
     "text": [
      "Resampling...\n",
      "Saving segmentations...\n",
      "Creating body_trunc.nii.gz\n",
      "\n",
      "Creating body_extremities.nii.gz"
     ]
    },
    {
     "data": {
      "application/vnd.jupyter.widget-view+json": {
       "model_id": "66b4532614474377b732d57a93107486",
       "version_major": 2,
       "version_minor": 0
      },
      "text/plain": [
       "  0%|          | 0/2 [00:00<?, ?it/s]"
      ]
     },
     "metadata": {},
     "output_type": "display_data"
    },
    {
     "name": "stdout",
     "output_type": "stream",
     "text": [
      "  Saved in 0.36s\n",
      "Creating body.nii.gz\n",
      "Creating skin.nii.gz\n",
      "Segmenting Case5Pack phase 20\n",
      "\n",
      "If you use this tool please cite: https://pubs.rsna.org/doi/10.1148/ryai.230024\n",
      "\n",
      "Generating rough body segmentation...\n",
      "Resampling...\n",
      "  Resampled in 0.23s\n",
      "Predicting...\n"
     ]
    },
    {
     "name": "stderr",
     "output_type": "stream",
     "text": [
      "/ocean/projects/asc170022p/mtragoza/mambaforge/envs/lung-project/lib/python3.10/site-packages/nnunetv2/utilities/plans_handling/plans_handler.py:37: UserWarning: Detected old nnU-Net plans format. Attempting to reconstruct network architecture parameters. If this fails, rerun nnUNetv2_plan_experiment for your dataset. If you use a custom architecture, please downgrade nnU-Net to the version you implemented this or update your implementation + plans.\n",
      "  warnings.warn(\"Detected old nnU-Net plans format. Attempting to reconstruct network architecture \"\n",
      "100%|██████████| 1/1 [00:00<00:00, 82.99it/s]\n"
     ]
    },
    {
     "name": "stdout",
     "output_type": "stream",
     "text": [
      "  Predicted in 7.26s\n",
      "Resampling...\n",
      "  cropping from (256, 256, 94) to (256, 207, 93)\n",
      "Resampling...\n",
      "  Resampled in 1.70s\n",
      "Predicting part 1 of 1 ...\n"
     ]
    },
    {
     "name": "stderr",
     "output_type": "stream",
     "text": [
      "100%|██████████| 8/8 [00:00<00:00, 32.11it/s]\n"
     ]
    },
    {
     "name": "stdout",
     "output_type": "stream",
     "text": [
      "  Predicted in 9.47s\n",
      "Resampling...\n",
      "Saving segmentations...\n"
     ]
    },
    {
     "data": {
      "application/vnd.jupyter.widget-view+json": {
       "model_id": "0cd993642cc246e3a92d2288b736ab27",
       "version_major": 2,
       "version_minor": 0
      },
      "text/plain": [
       "  0%|          | 0/5 [00:00<?, ?it/s]"
      ]
     },
     "metadata": {},
     "output_type": "display_data"
    },
    {
     "name": "stdout",
     "output_type": "stream",
     "text": [
      "  Saved in 0.56s\n",
      "\n",
      "If you use this tool please cite: https://pubs.rsna.org/doi/10.1148/ryai.230024\n",
      "\n",
      "Generating rough body segmentation...\n",
      "Resampling...\n",
      "  Resampled in 0.23s\n",
      "Predicting...\n"
     ]
    },
    {
     "name": "stderr",
     "output_type": "stream",
     "text": [
      "/ocean/projects/asc170022p/mtragoza/mambaforge/envs/lung-project/lib/python3.10/site-packages/nnunetv2/utilities/plans_handling/plans_handler.py:37: UserWarning: Detected old nnU-Net plans format. Attempting to reconstruct network architecture parameters. If this fails, rerun nnUNetv2_plan_experiment for your dataset. If you use a custom architecture, please downgrade nnU-Net to the version you implemented this or update your implementation + plans.\n",
      "  warnings.warn(\"Detected old nnU-Net plans format. Attempting to reconstruct network architecture \"\n",
      "100%|██████████| 1/1 [00:00<00:00, 95.47it/s]\n"
     ]
    },
    {
     "name": "stdout",
     "output_type": "stream",
     "text": [
      "  Predicted in 7.21s\n",
      "Resampling...\n",
      "  cropping from (256, 256, 94) to (256, 207, 93)\n",
      "Predicting...\n"
     ]
    },
    {
     "name": "stderr",
     "output_type": "stream",
     "text": [
      "100%|██████████| 80/80 [00:04<00:00, 17.61it/s]\n"
     ]
    },
    {
     "name": "stdout",
     "output_type": "stream",
     "text": [
      "  Predicted in 27.12s\n",
      "Saving segmentations...\n"
     ]
    },
    {
     "data": {
      "application/vnd.jupyter.widget-view+json": {
       "model_id": "93f57cdb09484ef3b545dac5becc1fd3",
       "version_major": 2,
       "version_minor": 0
      },
      "text/plain": [
       "  0%|          | 0/2 [00:00<?, ?it/s]"
      ]
     },
     "metadata": {},
     "output_type": "display_data"
    },
    {
     "name": "stdout",
     "output_type": "stream",
     "text": [
      "Creating lung_vessels.nii.gz\n",
      "Creating lung_trachea_bronchia.nii.gz\n",
      "  Saved in 0.51s\n",
      "\n",
      "If you use this tool please cite: https://pubs.rsna.org/doi/10.1148/ryai.230024\n",
      "\n",
      "Resampling...\n",
      "  Resampled in 2.16s\n",
      "Predicting...\n"
     ]
    },
    {
     "name": "stderr",
     "output_type": "stream",
     "text": [
      "/ocean/projects/asc170022p/mtragoza/mambaforge/envs/lung-project/lib/python3.10/site-packages/nnunetv2/utilities/plans_handling/plans_handler.py:37: UserWarning: Detected old nnU-Net plans format. Attempting to reconstruct network architecture parameters. If this fails, rerun nnUNetv2_plan_experiment for your dataset. If you use a custom architecture, please downgrade nnU-Net to the version you implemented this or update your implementation + plans.\n",
      "  warnings.warn(\"Detected old nnU-Net plans format. Attempting to reconstruct network architecture \"\n",
      "100%|██████████| 8/8 [00:00<00:00, 33.73it/s]\n"
     ]
    },
    {
     "name": "stdout",
     "output_type": "stream",
     "text": [
      "  Predicted in 9.14s\n"
     ]
    },
    {
     "name": "stderr",
     "output_type": "stream",
     "text": [
      "100%|██████████| 1/1 [00:00<00:00,  8.93it/s]\n",
      "100%|██████████| 1/1 [00:00<00:00, 12.25it/s]\n"
     ]
    },
    {
     "name": "stdout",
     "output_type": "stream",
     "text": [
      "Resampling...\n",
      "Saving segmentations...\n"
     ]
    },
    {
     "data": {
      "application/vnd.jupyter.widget-view+json": {
       "model_id": "c7b2c253142a4a8d8357a08ba41ec52d",
       "version_major": 2,
       "version_minor": 0
      },
      "text/plain": [
       "  0%|          | 0/2 [00:00<?, ?it/s]"
      ]
     },
     "metadata": {},
     "output_type": "display_data"
    },
    {
     "name": "stdout",
     "output_type": "stream",
     "text": [
      "Creating body_trunc.nii.gz\n",
      "Creating body_extremities.nii.gz\n",
      "  Saved in 1.99s\n",
      "Creating body.nii.gz\n",
      "Creating skin.nii.gz\n",
      "Segmenting Case5Pack phase 30\n",
      "\n",
      "If you use this tool please cite: https://pubs.rsna.org/doi/10.1148/ryai.230024\n",
      "\n",
      "Generating rough body segmentation...\n",
      "Resampling...\n",
      "  Resampled in 0.23s\n",
      "Predicting...\n"
     ]
    },
    {
     "name": "stderr",
     "output_type": "stream",
     "text": [
      "/ocean/projects/asc170022p/mtragoza/mambaforge/envs/lung-project/lib/python3.10/site-packages/nnunetv2/utilities/plans_handling/plans_handler.py:37: UserWarning: Detected old nnU-Net plans format. Attempting to reconstruct network architecture parameters. If this fails, rerun nnUNetv2_plan_experiment for your dataset. If you use a custom architecture, please downgrade nnU-Net to the version you implemented this or update your implementation + plans.\n",
      "  warnings.warn(\"Detected old nnU-Net plans format. Attempting to reconstruct network architecture \"\n",
      "100%|██████████| 1/1 [00:00<00:00, 78.57it/s]\n"
     ]
    },
    {
     "name": "stdout",
     "output_type": "stream",
     "text": [
      "  Predicted in 7.21s\n",
      "Resampling...\n",
      "  cropping from (256, 256, 94) to (256, 207, 91)\n",
      "Resampling...\n",
      "  Resampled in 1.65s\n",
      "Predicting part 1 of 1 ...\n"
     ]
    },
    {
     "name": "stderr",
     "output_type": "stream",
     "text": [
      "100%|██████████| 8/8 [00:00<00:00, 31.89it/s]\n"
     ]
    },
    {
     "name": "stdout",
     "output_type": "stream",
     "text": [
      "  Predicted in 9.36s\n",
      "Resampling...\n",
      "Saving segmentations...\n"
     ]
    },
    {
     "data": {
      "application/vnd.jupyter.widget-view+json": {
       "model_id": "1150de0e14604c9e8a126098e5703f89",
       "version_major": 2,
       "version_minor": 0
      },
      "text/plain": [
       "  0%|          | 0/5 [00:00<?, ?it/s]"
      ]
     },
     "metadata": {},
     "output_type": "display_data"
    },
    {
     "name": "stdout",
     "output_type": "stream",
     "text": [
      "  Saved in 0.64s\n",
      "\n",
      "If you use this tool please cite: https://pubs.rsna.org/doi/10.1148/ryai.230024\n",
      "\n",
      "Generating rough body segmentation...\n",
      "Resampling...\n",
      "  Resampled in 0.23s\n",
      "Predicting...\n"
     ]
    },
    {
     "name": "stderr",
     "output_type": "stream",
     "text": [
      "/ocean/projects/asc170022p/mtragoza/mambaforge/envs/lung-project/lib/python3.10/site-packages/nnunetv2/utilities/plans_handling/plans_handler.py:37: UserWarning: Detected old nnU-Net plans format. Attempting to reconstruct network architecture parameters. If this fails, rerun nnUNetv2_plan_experiment for your dataset. If you use a custom architecture, please downgrade nnU-Net to the version you implemented this or update your implementation + plans.\n",
      "  warnings.warn(\"Detected old nnU-Net plans format. Attempting to reconstruct network architecture \"\n",
      "100%|██████████| 1/1 [00:00<00:00, 48.30it/s]\n"
     ]
    },
    {
     "name": "stdout",
     "output_type": "stream",
     "text": [
      "  Predicted in 7.28s\n",
      "Resampling...\n",
      "  cropping from (256, 256, 94) to (256, 207, 91)\n",
      "Predicting...\n"
     ]
    },
    {
     "name": "stderr",
     "output_type": "stream",
     "text": [
      "100%|██████████| 80/80 [00:04<00:00, 17.61it/s]\n"
     ]
    },
    {
     "name": "stdout",
     "output_type": "stream",
     "text": [
      "  Predicted in 25.97s\n",
      "Saving segmentations...\n",
      "Creating lung_vessels.nii.gz\n",
      "\n",
      "Creating lung_trachea_bronchia.nii.gz"
     ]
    },
    {
     "data": {
      "application/vnd.jupyter.widget-view+json": {
       "model_id": "defeaedd5a9b43949428cfa9809b8e43",
       "version_major": 2,
       "version_minor": 0
      },
      "text/plain": [
       "  0%|          | 0/2 [00:00<?, ?it/s]"
      ]
     },
     "metadata": {},
     "output_type": "display_data"
    },
    {
     "name": "stdout",
     "output_type": "stream",
     "text": [
      "  Saved in 0.48s\n",
      "\n",
      "If you use this tool please cite: https://pubs.rsna.org/doi/10.1148/ryai.230024\n",
      "\n",
      "Resampling...\n",
      "  Resampled in 2.16s\n",
      "Predicting...\n"
     ]
    },
    {
     "name": "stderr",
     "output_type": "stream",
     "text": [
      "/ocean/projects/asc170022p/mtragoza/mambaforge/envs/lung-project/lib/python3.10/site-packages/nnunetv2/utilities/plans_handling/plans_handler.py:37: UserWarning: Detected old nnU-Net plans format. Attempting to reconstruct network architecture parameters. If this fails, rerun nnUNetv2_plan_experiment for your dataset. If you use a custom architecture, please downgrade nnU-Net to the version you implemented this or update your implementation + plans.\n",
      "  warnings.warn(\"Detected old nnU-Net plans format. Attempting to reconstruct network architecture \"\n",
      "100%|██████████| 8/8 [00:00<00:00, 33.28it/s]\n"
     ]
    },
    {
     "name": "stdout",
     "output_type": "stream",
     "text": [
      "  Predicted in 9.04s\n"
     ]
    },
    {
     "name": "stderr",
     "output_type": "stream",
     "text": [
      "100%|██████████| 1/1 [00:00<00:00,  9.03it/s]\n",
      "100%|██████████| 1/1 [00:00<00:00, 12.19it/s]\n"
     ]
    },
    {
     "name": "stdout",
     "output_type": "stream",
     "text": [
      "Resampling...\n",
      "Saving segmentations...\n",
      "Creating body_trunc.nii.gz\n",
      "Creating body_extremities.nii.gz\n"
     ]
    },
    {
     "data": {
      "application/vnd.jupyter.widget-view+json": {
       "model_id": "06b2966f16a54a289aa7631c16710e1f",
       "version_major": 2,
       "version_minor": 0
      },
      "text/plain": [
       "  0%|          | 0/2 [00:00<?, ?it/s]"
      ]
     },
     "metadata": {},
     "output_type": "display_data"
    },
    {
     "name": "stdout",
     "output_type": "stream",
     "text": [
      "  Saved in 0.35s\n",
      "Creating body.nii.gz\n",
      "Creating skin.nii.gz\n",
      "Segmenting Case5Pack phase 40\n",
      "\n",
      "If you use this tool please cite: https://pubs.rsna.org/doi/10.1148/ryai.230024\n",
      "\n",
      "Generating rough body segmentation...\n",
      "Resampling...\n",
      "  Resampled in 0.23s\n",
      "Predicting...\n"
     ]
    },
    {
     "name": "stderr",
     "output_type": "stream",
     "text": [
      "/ocean/projects/asc170022p/mtragoza/mambaforge/envs/lung-project/lib/python3.10/site-packages/nnunetv2/utilities/plans_handling/plans_handler.py:37: UserWarning: Detected old nnU-Net plans format. Attempting to reconstruct network architecture parameters. If this fails, rerun nnUNetv2_plan_experiment for your dataset. If you use a custom architecture, please downgrade nnU-Net to the version you implemented this or update your implementation + plans.\n",
      "  warnings.warn(\"Detected old nnU-Net plans format. Attempting to reconstruct network architecture \"\n",
      "100%|██████████| 1/1 [00:00<00:00, 105.37it/s]\n"
     ]
    },
    {
     "name": "stdout",
     "output_type": "stream",
     "text": [
      "  Predicted in 7.34s\n",
      "Resampling...\n",
      "  cropping from (256, 256, 94) to (256, 207, 91)\n",
      "Resampling...\n",
      "  Resampled in 1.66s\n",
      "Predicting part 1 of 1 ...\n"
     ]
    },
    {
     "name": "stderr",
     "output_type": "stream",
     "text": [
      "100%|██████████| 8/8 [00:00<00:00, 32.89it/s]\n"
     ]
    },
    {
     "name": "stdout",
     "output_type": "stream",
     "text": [
      "  Predicted in 9.18s\n",
      "Resampling...\n",
      "Saving segmentations...\n"
     ]
    },
    {
     "data": {
      "application/vnd.jupyter.widget-view+json": {
       "model_id": "e26fbcd05b7c47448c3b4946c1f32cf5",
       "version_major": 2,
       "version_minor": 0
      },
      "text/plain": [
       "  0%|          | 0/5 [00:00<?, ?it/s]"
      ]
     },
     "metadata": {},
     "output_type": "display_data"
    },
    {
     "name": "stdout",
     "output_type": "stream",
     "text": [
      "  Saved in 0.62s\n",
      "\n",
      "If you use this tool please cite: https://pubs.rsna.org/doi/10.1148/ryai.230024\n",
      "\n",
      "Generating rough body segmentation...\n",
      "Resampling...\n",
      "  Resampled in 0.23s\n",
      "Predicting...\n"
     ]
    },
    {
     "name": "stderr",
     "output_type": "stream",
     "text": [
      "/ocean/projects/asc170022p/mtragoza/mambaforge/envs/lung-project/lib/python3.10/site-packages/nnunetv2/utilities/plans_handling/plans_handler.py:37: UserWarning: Detected old nnU-Net plans format. Attempting to reconstruct network architecture parameters. If this fails, rerun nnUNetv2_plan_experiment for your dataset. If you use a custom architecture, please downgrade nnU-Net to the version you implemented this or update your implementation + plans.\n",
      "  warnings.warn(\"Detected old nnU-Net plans format. Attempting to reconstruct network architecture \"\n",
      "100%|██████████| 1/1 [00:00<00:00, 84.02it/s]\n"
     ]
    },
    {
     "name": "stdout",
     "output_type": "stream",
     "text": [
      "  Predicted in 7.16s\n",
      "Resampling...\n",
      "  cropping from (256, 256, 94) to (256, 207, 91)\n",
      "Predicting...\n"
     ]
    },
    {
     "name": "stderr",
     "output_type": "stream",
     "text": [
      "100%|██████████| 80/80 [00:04<00:00, 17.62it/s]\n"
     ]
    },
    {
     "name": "stdout",
     "output_type": "stream",
     "text": [
      "  Predicted in 25.91s\n",
      "Saving segmentations...\n",
      "Creating lung_vessels.nii.gz\n",
      "Creating lung_trachea_bronchia.nii.gz"
     ]
    },
    {
     "data": {
      "application/vnd.jupyter.widget-view+json": {
       "model_id": "f008a0525b0b4ebc8d6566e6fc1fe5b1",
       "version_major": 2,
       "version_minor": 0
      },
      "text/plain": [
       "  0%|          | 0/2 [00:00<?, ?it/s]"
      ]
     },
     "metadata": {},
     "output_type": "display_data"
    },
    {
     "name": "stdout",
     "output_type": "stream",
     "text": [
      "\n",
      "  Saved in 0.46s\n",
      "\n",
      "If you use this tool please cite: https://pubs.rsna.org/doi/10.1148/ryai.230024\n",
      "\n",
      "Resampling...\n",
      "  Resampled in 2.17s\n",
      "Predicting...\n"
     ]
    },
    {
     "name": "stderr",
     "output_type": "stream",
     "text": [
      "/ocean/projects/asc170022p/mtragoza/mambaforge/envs/lung-project/lib/python3.10/site-packages/nnunetv2/utilities/plans_handling/plans_handler.py:37: UserWarning: Detected old nnU-Net plans format. Attempting to reconstruct network architecture parameters. If this fails, rerun nnUNetv2_plan_experiment for your dataset. If you use a custom architecture, please downgrade nnU-Net to the version you implemented this or update your implementation + plans.\n",
      "  warnings.warn(\"Detected old nnU-Net plans format. Attempting to reconstruct network architecture \"\n",
      "100%|██████████| 8/8 [00:00<00:00, 34.31it/s]\n"
     ]
    },
    {
     "name": "stdout",
     "output_type": "stream",
     "text": [
      "  Predicted in 8.79s\n"
     ]
    },
    {
     "name": "stderr",
     "output_type": "stream",
     "text": [
      "100%|██████████| 1/1 [00:00<00:00,  9.10it/s]\n",
      "100%|██████████| 1/1 [00:00<00:00, 12.45it/s]\n"
     ]
    },
    {
     "name": "stdout",
     "output_type": "stream",
     "text": [
      "Resampling...\n",
      "Saving segmentations...\n",
      "Creating body_trunc.nii.gz\n",
      "Creating body_extremities.nii.gz"
     ]
    },
    {
     "data": {
      "application/vnd.jupyter.widget-view+json": {
       "model_id": "2e0a58cff6b04529b5c6d9067cb13bd1",
       "version_major": 2,
       "version_minor": 0
      },
      "text/plain": [
       "  0%|          | 0/2 [00:00<?, ?it/s]"
      ]
     },
     "metadata": {},
     "output_type": "display_data"
    },
    {
     "name": "stdout",
     "output_type": "stream",
     "text": [
      "\n",
      "  Saved in 0.35s\n",
      "Creating body.nii.gz\n",
      "Creating skin.nii.gz\n",
      "Segmenting Case5Pack phase 50\n",
      "\n",
      "If you use this tool please cite: https://pubs.rsna.org/doi/10.1148/ryai.230024\n",
      "\n",
      "Generating rough body segmentation...\n",
      "Resampling...\n",
      "  Resampled in 0.23s\n",
      "Predicting...\n"
     ]
    },
    {
     "name": "stderr",
     "output_type": "stream",
     "text": [
      "/ocean/projects/asc170022p/mtragoza/mambaforge/envs/lung-project/lib/python3.10/site-packages/nnunetv2/utilities/plans_handling/plans_handler.py:37: UserWarning: Detected old nnU-Net plans format. Attempting to reconstruct network architecture parameters. If this fails, rerun nnUNetv2_plan_experiment for your dataset. If you use a custom architecture, please downgrade nnU-Net to the version you implemented this or update your implementation + plans.\n",
      "  warnings.warn(\"Detected old nnU-Net plans format. Attempting to reconstruct network architecture \"\n",
      "100%|██████████| 1/1 [00:00<00:00, 108.37it/s]\n"
     ]
    },
    {
     "name": "stdout",
     "output_type": "stream",
     "text": [
      "  Predicted in 7.24s\n",
      "Resampling...\n",
      "  cropping from (256, 256, 94) to (256, 207, 91)\n",
      "Resampling...\n",
      "  Resampled in 1.66s\n",
      "Predicting part 1 of 1 ...\n"
     ]
    },
    {
     "name": "stderr",
     "output_type": "stream",
     "text": [
      "100%|██████████| 8/8 [00:00<00:00, 32.37it/s]\n"
     ]
    },
    {
     "name": "stdout",
     "output_type": "stream",
     "text": [
      "  Predicted in 9.45s\n",
      "Resampling...\n",
      "Saving segmentations...\n"
     ]
    },
    {
     "data": {
      "application/vnd.jupyter.widget-view+json": {
       "model_id": "2cae044fbdf8490c865975a90a8adcee",
       "version_major": 2,
       "version_minor": 0
      },
      "text/plain": [
       "  0%|          | 0/5 [00:00<?, ?it/s]"
      ]
     },
     "metadata": {},
     "output_type": "display_data"
    },
    {
     "name": "stdout",
     "output_type": "stream",
     "text": [
      "  Saved in 0.57s\n",
      "\n",
      "If you use this tool please cite: https://pubs.rsna.org/doi/10.1148/ryai.230024\n",
      "\n",
      "Generating rough body segmentation...\n",
      "Resampling...\n",
      "  Resampled in 0.23s\n",
      "Predicting...\n"
     ]
    },
    {
     "name": "stderr",
     "output_type": "stream",
     "text": [
      "/ocean/projects/asc170022p/mtragoza/mambaforge/envs/lung-project/lib/python3.10/site-packages/nnunetv2/utilities/plans_handling/plans_handler.py:37: UserWarning: Detected old nnU-Net plans format. Attempting to reconstruct network architecture parameters. If this fails, rerun nnUNetv2_plan_experiment for your dataset. If you use a custom architecture, please downgrade nnU-Net to the version you implemented this or update your implementation + plans.\n",
      "  warnings.warn(\"Detected old nnU-Net plans format. Attempting to reconstruct network architecture \"\n",
      "100%|██████████| 1/1 [00:00<00:00, 53.11it/s]\n"
     ]
    },
    {
     "name": "stdout",
     "output_type": "stream",
     "text": [
      "  Predicted in 7.50s\n",
      "Resampling...\n",
      "  cropping from (256, 256, 94) to (256, 207, 91)\n",
      "Predicting...\n"
     ]
    },
    {
     "name": "stderr",
     "output_type": "stream",
     "text": [
      "100%|██████████| 80/80 [00:04<00:00, 17.60it/s]\n"
     ]
    },
    {
     "name": "stdout",
     "output_type": "stream",
     "text": [
      "  Predicted in 25.86s\n",
      "Saving segmentations...\n",
      "Creating lung_vessels.nii.gz\n",
      "Creating lung_trachea_bronchia.nii.gz\n"
     ]
    },
    {
     "data": {
      "application/vnd.jupyter.widget-view+json": {
       "model_id": "ddad64b4527247c0bc025ed68e4c1ea2",
       "version_major": 2,
       "version_minor": 0
      },
      "text/plain": [
       "  0%|          | 0/2 [00:00<?, ?it/s]"
      ]
     },
     "metadata": {},
     "output_type": "display_data"
    },
    {
     "name": "stdout",
     "output_type": "stream",
     "text": [
      "  Saved in 0.51s\n",
      "\n",
      "If you use this tool please cite: https://pubs.rsna.org/doi/10.1148/ryai.230024\n",
      "\n",
      "Resampling...\n",
      "  Resampled in 2.16s\n",
      "Predicting...\n"
     ]
    },
    {
     "name": "stderr",
     "output_type": "stream",
     "text": [
      "/ocean/projects/asc170022p/mtragoza/mambaforge/envs/lung-project/lib/python3.10/site-packages/nnunetv2/utilities/plans_handling/plans_handler.py:37: UserWarning: Detected old nnU-Net plans format. Attempting to reconstruct network architecture parameters. If this fails, rerun nnUNetv2_plan_experiment for your dataset. If you use a custom architecture, please downgrade nnU-Net to the version you implemented this or update your implementation + plans.\n",
      "  warnings.warn(\"Detected old nnU-Net plans format. Attempting to reconstruct network architecture \"\n",
      "100%|██████████| 8/8 [00:00<00:00, 33.65it/s]\n"
     ]
    },
    {
     "name": "stdout",
     "output_type": "stream",
     "text": [
      "  Predicted in 9.06s\n"
     ]
    },
    {
     "name": "stderr",
     "output_type": "stream",
     "text": [
      "100%|██████████| 1/1 [00:00<00:00,  9.04it/s]\n",
      "100%|██████████| 1/1 [00:00<00:00, 12.22it/s]\n"
     ]
    },
    {
     "name": "stdout",
     "output_type": "stream",
     "text": [
      "Resampling...\n",
      "Saving segmentations...\n",
      "Creating body_trunc.nii.gz\n",
      "Creating body_extremities.nii.gz"
     ]
    },
    {
     "data": {
      "application/vnd.jupyter.widget-view+json": {
       "model_id": "bb1b3b79687d4d78a00ac5a63cfededb",
       "version_major": 2,
       "version_minor": 0
      },
      "text/plain": [
       "  0%|          | 0/2 [00:00<?, ?it/s]"
      ]
     },
     "metadata": {},
     "output_type": "display_data"
    },
    {
     "name": "stdout",
     "output_type": "stream",
     "text": [
      "\n",
      "  Saved in 0.37s\n",
      "Creating body.nii.gz\n",
      "Creating skin.nii.gz\n",
      "Segmenting Case5Pack phase 60\n",
      "\n",
      "If you use this tool please cite: https://pubs.rsna.org/doi/10.1148/ryai.230024\n",
      "\n",
      "Generating rough body segmentation...\n",
      "Resampling...\n",
      "  Resampled in 0.24s\n",
      "Predicting...\n"
     ]
    },
    {
     "name": "stderr",
     "output_type": "stream",
     "text": [
      "/ocean/projects/asc170022p/mtragoza/mambaforge/envs/lung-project/lib/python3.10/site-packages/nnunetv2/utilities/plans_handling/plans_handler.py:37: UserWarning: Detected old nnU-Net plans format. Attempting to reconstruct network architecture parameters. If this fails, rerun nnUNetv2_plan_experiment for your dataset. If you use a custom architecture, please downgrade nnU-Net to the version you implemented this or update your implementation + plans.\n",
      "  warnings.warn(\"Detected old nnU-Net plans format. Attempting to reconstruct network architecture \"\n",
      "100%|██████████| 1/1 [00:00<00:00, 97.71it/s]\n"
     ]
    },
    {
     "name": "stdout",
     "output_type": "stream",
     "text": [
      "  Predicted in 7.25s\n",
      "Resampling...\n",
      "  cropping from (256, 256, 94) to (256, 202, 91)\n",
      "Resampling...\n",
      "  Resampled in 1.62s\n",
      "Predicting part 1 of 1 ...\n"
     ]
    },
    {
     "name": "stderr",
     "output_type": "stream",
     "text": [
      "100%|██████████| 8/8 [00:00<00:00, 32.21it/s]\n"
     ]
    },
    {
     "name": "stdout",
     "output_type": "stream",
     "text": [
      "  Predicted in 9.23s\n",
      "Resampling...\n",
      "Saving segmentations...\n"
     ]
    },
    {
     "data": {
      "application/vnd.jupyter.widget-view+json": {
       "model_id": "1dec90a43d16415e9ff4bca10b88a9a4",
       "version_major": 2,
       "version_minor": 0
      },
      "text/plain": [
       "  0%|          | 0/5 [00:00<?, ?it/s]"
      ]
     },
     "metadata": {},
     "output_type": "display_data"
    },
    {
     "name": "stdout",
     "output_type": "stream",
     "text": [
      "  Saved in 0.55s\n",
      "\n",
      "If you use this tool please cite: https://pubs.rsna.org/doi/10.1148/ryai.230024\n",
      "\n",
      "Generating rough body segmentation...\n",
      "Resampling...\n",
      "  Resampled in 0.23s\n",
      "Predicting...\n"
     ]
    },
    {
     "name": "stderr",
     "output_type": "stream",
     "text": [
      "/ocean/projects/asc170022p/mtragoza/mambaforge/envs/lung-project/lib/python3.10/site-packages/nnunetv2/utilities/plans_handling/plans_handler.py:37: UserWarning: Detected old nnU-Net plans format. Attempting to reconstruct network architecture parameters. If this fails, rerun nnUNetv2_plan_experiment for your dataset. If you use a custom architecture, please downgrade nnU-Net to the version you implemented this or update your implementation + plans.\n",
      "  warnings.warn(\"Detected old nnU-Net plans format. Attempting to reconstruct network architecture \"\n",
      "100%|██████████| 1/1 [00:00<00:00, 107.70it/s]\n"
     ]
    },
    {
     "name": "stdout",
     "output_type": "stream",
     "text": [
      "  Predicted in 7.28s\n",
      "Resampling...\n",
      "  cropping from (256, 256, 94) to (256, 202, 91)\n",
      "Predicting...\n"
     ]
    },
    {
     "name": "stderr",
     "output_type": "stream",
     "text": [
      "100%|██████████| 80/80 [00:04<00:00, 17.62it/s]\n"
     ]
    },
    {
     "name": "stdout",
     "output_type": "stream",
     "text": [
      "  Predicted in 25.53s\n",
      "Saving segmentations...\n",
      "Creating lung_vessels.nii.gz\n",
      "Creating lung_trachea_bronchia.nii.gz"
     ]
    },
    {
     "data": {
      "application/vnd.jupyter.widget-view+json": {
       "model_id": "2bbde407ce414640bd81edcf34fa0896",
       "version_major": 2,
       "version_minor": 0
      },
      "text/plain": [
       "  0%|          | 0/2 [00:00<?, ?it/s]"
      ]
     },
     "metadata": {},
     "output_type": "display_data"
    },
    {
     "name": "stdout",
     "output_type": "stream",
     "text": [
      "\n",
      "  Saved in 0.46s\n",
      "\n",
      "If you use this tool please cite: https://pubs.rsna.org/doi/10.1148/ryai.230024\n",
      "\n",
      "Resampling...\n",
      "  Resampled in 2.16s\n",
      "Predicting...\n"
     ]
    },
    {
     "name": "stderr",
     "output_type": "stream",
     "text": [
      "/ocean/projects/asc170022p/mtragoza/mambaforge/envs/lung-project/lib/python3.10/site-packages/nnunetv2/utilities/plans_handling/plans_handler.py:37: UserWarning: Detected old nnU-Net plans format. Attempting to reconstruct network architecture parameters. If this fails, rerun nnUNetv2_plan_experiment for your dataset. If you use a custom architecture, please downgrade nnU-Net to the version you implemented this or update your implementation + plans.\n",
      "  warnings.warn(\"Detected old nnU-Net plans format. Attempting to reconstruct network architecture \"\n",
      "100%|██████████| 8/8 [00:00<00:00, 33.20it/s]\n"
     ]
    },
    {
     "name": "stdout",
     "output_type": "stream",
     "text": [
      "  Predicted in 8.69s\n"
     ]
    },
    {
     "name": "stderr",
     "output_type": "stream",
     "text": [
      "100%|██████████| 1/1 [00:00<00:00,  9.03it/s]\n",
      "100%|██████████| 1/1 [00:00<00:00, 12.46it/s]\n"
     ]
    },
    {
     "name": "stdout",
     "output_type": "stream",
     "text": [
      "Resampling...\n",
      "Saving segmentations...\n",
      "Creating body_trunc.nii.gz\n",
      "Creating body_extremities.nii.gz\n"
     ]
    },
    {
     "data": {
      "application/vnd.jupyter.widget-view+json": {
       "model_id": "7baa61f5e87544e8844f4c5a6ff648c7",
       "version_major": 2,
       "version_minor": 0
      },
      "text/plain": [
       "  0%|          | 0/2 [00:00<?, ?it/s]"
      ]
     },
     "metadata": {},
     "output_type": "display_data"
    },
    {
     "name": "stdout",
     "output_type": "stream",
     "text": [
      "  Saved in 0.36s\n",
      "Creating body.nii.gz\n",
      "Creating skin.nii.gz\n",
      "Segmenting Case5Pack phase 70\n",
      "\n",
      "If you use this tool please cite: https://pubs.rsna.org/doi/10.1148/ryai.230024\n",
      "\n",
      "Generating rough body segmentation...\n",
      "Resampling...\n",
      "  Resampled in 0.23s\n",
      "Predicting...\n"
     ]
    },
    {
     "name": "stderr",
     "output_type": "stream",
     "text": [
      "/ocean/projects/asc170022p/mtragoza/mambaforge/envs/lung-project/lib/python3.10/site-packages/nnunetv2/utilities/plans_handling/plans_handler.py:37: UserWarning: Detected old nnU-Net plans format. Attempting to reconstruct network architecture parameters. If this fails, rerun nnUNetv2_plan_experiment for your dataset. If you use a custom architecture, please downgrade nnU-Net to the version you implemented this or update your implementation + plans.\n",
      "  warnings.warn(\"Detected old nnU-Net plans format. Attempting to reconstruct network architecture \"\n",
      "100%|██████████| 1/1 [00:00<00:00, 93.91it/s]\n"
     ]
    },
    {
     "name": "stdout",
     "output_type": "stream",
     "text": [
      "  Predicted in 7.21s\n",
      "Resampling...\n",
      "  cropping from (256, 256, 94) to (256, 207, 93)\n",
      "Resampling...\n",
      "  Resampled in 1.69s\n",
      "Predicting part 1 of 1 ...\n"
     ]
    },
    {
     "name": "stderr",
     "output_type": "stream",
     "text": [
      "100%|██████████| 8/8 [00:00<00:00, 32.02it/s]\n"
     ]
    },
    {
     "name": "stdout",
     "output_type": "stream",
     "text": [
      "  Predicted in 9.30s\n",
      "Resampling...\n",
      "Saving segmentations...\n"
     ]
    },
    {
     "data": {
      "application/vnd.jupyter.widget-view+json": {
       "model_id": "2620204d00854607a5fc240a9115d0f2",
       "version_major": 2,
       "version_minor": 0
      },
      "text/plain": [
       "  0%|          | 0/5 [00:00<?, ?it/s]"
      ]
     },
     "metadata": {},
     "output_type": "display_data"
    },
    {
     "name": "stdout",
     "output_type": "stream",
     "text": [
      "  Saved in 0.57s\n",
      "\n",
      "If you use this tool please cite: https://pubs.rsna.org/doi/10.1148/ryai.230024\n",
      "\n",
      "Generating rough body segmentation...\n",
      "Resampling...\n",
      "  Resampled in 0.23s\n",
      "Predicting...\n"
     ]
    },
    {
     "name": "stderr",
     "output_type": "stream",
     "text": [
      "/ocean/projects/asc170022p/mtragoza/mambaforge/envs/lung-project/lib/python3.10/site-packages/nnunetv2/utilities/plans_handling/plans_handler.py:37: UserWarning: Detected old nnU-Net plans format. Attempting to reconstruct network architecture parameters. If this fails, rerun nnUNetv2_plan_experiment for your dataset. If you use a custom architecture, please downgrade nnU-Net to the version you implemented this or update your implementation + plans.\n",
      "  warnings.warn(\"Detected old nnU-Net plans format. Attempting to reconstruct network architecture \"\n",
      "100%|██████████| 1/1 [00:00<00:00, 105.55it/s]\n"
     ]
    },
    {
     "name": "stdout",
     "output_type": "stream",
     "text": [
      "  Predicted in 7.28s\n",
      "Resampling...\n",
      "  cropping from (256, 256, 94) to (256, 207, 93)\n",
      "Predicting...\n"
     ]
    },
    {
     "name": "stderr",
     "output_type": "stream",
     "text": [
      "100%|██████████| 80/80 [00:04<00:00, 17.64it/s]\n"
     ]
    },
    {
     "name": "stdout",
     "output_type": "stream",
     "text": [
      "  Predicted in 26.17s\n",
      "Saving segmentations...\n",
      "Creating lung_vessels.nii.gz\n",
      "Creating lung_trachea_bronchia.nii.gz\n"
     ]
    },
    {
     "data": {
      "application/vnd.jupyter.widget-view+json": {
       "model_id": "be1aa401cd604a8590c75c16c568bdef",
       "version_major": 2,
       "version_minor": 0
      },
      "text/plain": [
       "  0%|          | 0/2 [00:00<?, ?it/s]"
      ]
     },
     "metadata": {},
     "output_type": "display_data"
    },
    {
     "name": "stdout",
     "output_type": "stream",
     "text": [
      "  Saved in 0.44s\n",
      "\n",
      "If you use this tool please cite: https://pubs.rsna.org/doi/10.1148/ryai.230024\n",
      "\n",
      "Resampling...\n",
      "  Resampled in 2.17s\n",
      "Predicting...\n"
     ]
    },
    {
     "name": "stderr",
     "output_type": "stream",
     "text": [
      "/ocean/projects/asc170022p/mtragoza/mambaforge/envs/lung-project/lib/python3.10/site-packages/nnunetv2/utilities/plans_handling/plans_handler.py:37: UserWarning: Detected old nnU-Net plans format. Attempting to reconstruct network architecture parameters. If this fails, rerun nnUNetv2_plan_experiment for your dataset. If you use a custom architecture, please downgrade nnU-Net to the version you implemented this or update your implementation + plans.\n",
      "  warnings.warn(\"Detected old nnU-Net plans format. Attempting to reconstruct network architecture \"\n",
      "100%|██████████| 8/8 [00:00<00:00, 34.65it/s]\n"
     ]
    },
    {
     "name": "stdout",
     "output_type": "stream",
     "text": [
      "  Predicted in 8.83s\n"
     ]
    },
    {
     "name": "stderr",
     "output_type": "stream",
     "text": [
      "100%|██████████| 1/1 [00:00<00:00,  9.02it/s]\n",
      "100%|██████████| 1/1 [00:00<00:00, 11.90it/s]\n"
     ]
    },
    {
     "name": "stdout",
     "output_type": "stream",
     "text": [
      "Resampling...\n",
      "Saving segmentations...\n",
      "Creating body_trunc.nii.gz\n",
      "Creating body_extremities.nii.gz\n"
     ]
    },
    {
     "data": {
      "application/vnd.jupyter.widget-view+json": {
       "model_id": "72e7da4464054e5381d5bf17bf5c5f69",
       "version_major": 2,
       "version_minor": 0
      },
      "text/plain": [
       "  0%|          | 0/2 [00:00<?, ?it/s]"
      ]
     },
     "metadata": {},
     "output_type": "display_data"
    },
    {
     "name": "stdout",
     "output_type": "stream",
     "text": [
      "  Saved in 0.32s\n",
      "Creating body.nii.gz\n",
      "Creating skin.nii.gz\n",
      "Segmenting Case5Pack phase 80\n",
      "\n",
      "If you use this tool please cite: https://pubs.rsna.org/doi/10.1148/ryai.230024\n",
      "\n",
      "Generating rough body segmentation...\n",
      "Resampling...\n",
      "  Resampled in 0.23s\n",
      "Predicting...\n"
     ]
    },
    {
     "name": "stderr",
     "output_type": "stream",
     "text": [
      "/ocean/projects/asc170022p/mtragoza/mambaforge/envs/lung-project/lib/python3.10/site-packages/nnunetv2/utilities/plans_handling/plans_handler.py:37: UserWarning: Detected old nnU-Net plans format. Attempting to reconstruct network architecture parameters. If this fails, rerun nnUNetv2_plan_experiment for your dataset. If you use a custom architecture, please downgrade nnU-Net to the version you implemented this or update your implementation + plans.\n",
      "  warnings.warn(\"Detected old nnU-Net plans format. Attempting to reconstruct network architecture \"\n",
      "100%|██████████| 1/1 [00:00<00:00, 66.49it/s]\n"
     ]
    },
    {
     "name": "stdout",
     "output_type": "stream",
     "text": [
      "  Predicted in 7.36s\n",
      "Resampling...\n",
      "  cropping from (256, 256, 94) to (256, 202, 94)\n",
      "Resampling...\n",
      "  Resampled in 1.68s\n",
      "Predicting part 1 of 1 ...\n"
     ]
    },
    {
     "name": "stderr",
     "output_type": "stream",
     "text": [
      "100%|██████████| 8/8 [00:00<00:00, 33.19it/s]\n"
     ]
    },
    {
     "name": "stdout",
     "output_type": "stream",
     "text": [
      "  Predicted in 9.35s\n",
      "Resampling...\n",
      "Saving segmentations...\n"
     ]
    },
    {
     "data": {
      "application/vnd.jupyter.widget-view+json": {
       "model_id": "4926863ed99646a0a02486a67b626c09",
       "version_major": 2,
       "version_minor": 0
      },
      "text/plain": [
       "  0%|          | 0/5 [00:00<?, ?it/s]"
      ]
     },
     "metadata": {},
     "output_type": "display_data"
    },
    {
     "name": "stdout",
     "output_type": "stream",
     "text": [
      "  Saved in 0.60s\n",
      "\n",
      "If you use this tool please cite: https://pubs.rsna.org/doi/10.1148/ryai.230024\n",
      "\n",
      "Generating rough body segmentation...\n",
      "Resampling...\n",
      "  Resampled in 0.23s\n",
      "Predicting...\n"
     ]
    },
    {
     "name": "stderr",
     "output_type": "stream",
     "text": [
      "/ocean/projects/asc170022p/mtragoza/mambaforge/envs/lung-project/lib/python3.10/site-packages/nnunetv2/utilities/plans_handling/plans_handler.py:37: UserWarning: Detected old nnU-Net plans format. Attempting to reconstruct network architecture parameters. If this fails, rerun nnUNetv2_plan_experiment for your dataset. If you use a custom architecture, please downgrade nnU-Net to the version you implemented this or update your implementation + plans.\n",
      "  warnings.warn(\"Detected old nnU-Net plans format. Attempting to reconstruct network architecture \"\n",
      "100%|██████████| 1/1 [00:00<00:00, 108.56it/s]\n"
     ]
    },
    {
     "name": "stdout",
     "output_type": "stream",
     "text": [
      "  Predicted in 7.36s\n",
      "Resampling...\n",
      "  cropping from (256, 256, 94) to (256, 202, 94)\n",
      "Predicting...\n"
     ]
    },
    {
     "name": "stderr",
     "output_type": "stream",
     "text": [
      "100%|██████████| 80/80 [00:04<00:00, 17.61it/s]\n"
     ]
    },
    {
     "name": "stdout",
     "output_type": "stream",
     "text": [
      "  Predicted in 26.15s\n",
      "Saving segmentations...\n",
      "Creating lung_vessels.nii.gz\n",
      "Creating lung_trachea_bronchia.nii.gz"
     ]
    },
    {
     "data": {
      "application/vnd.jupyter.widget-view+json": {
       "model_id": "630162e52d03472ea9360d98099ec8f1",
       "version_major": 2,
       "version_minor": 0
      },
      "text/plain": [
       "  0%|          | 0/2 [00:00<?, ?it/s]"
      ]
     },
     "metadata": {},
     "output_type": "display_data"
    },
    {
     "name": "stdout",
     "output_type": "stream",
     "text": [
      "\n",
      "  Saved in 0.56s\n",
      "\n",
      "If you use this tool please cite: https://pubs.rsna.org/doi/10.1148/ryai.230024\n",
      "\n",
      "Resampling...\n",
      "  Resampled in 2.17s\n",
      "Predicting...\n"
     ]
    },
    {
     "name": "stderr",
     "output_type": "stream",
     "text": [
      "/ocean/projects/asc170022p/mtragoza/mambaforge/envs/lung-project/lib/python3.10/site-packages/nnunetv2/utilities/plans_handling/plans_handler.py:37: UserWarning: Detected old nnU-Net plans format. Attempting to reconstruct network architecture parameters. If this fails, rerun nnUNetv2_plan_experiment for your dataset. If you use a custom architecture, please downgrade nnU-Net to the version you implemented this or update your implementation + plans.\n",
      "  warnings.warn(\"Detected old nnU-Net plans format. Attempting to reconstruct network architecture \"\n",
      "100%|██████████| 8/8 [00:00<00:00, 34.05it/s]\n"
     ]
    },
    {
     "name": "stdout",
     "output_type": "stream",
     "text": [
      "  Predicted in 8.97s\n"
     ]
    },
    {
     "name": "stderr",
     "output_type": "stream",
     "text": [
      "100%|██████████| 1/1 [00:00<00:00,  9.16it/s]\n",
      "100%|██████████| 1/1 [00:00<00:00, 12.72it/s]\n"
     ]
    },
    {
     "name": "stdout",
     "output_type": "stream",
     "text": [
      "Resampling...\n",
      "Saving segmentations...\n",
      "Creating body_trunc.nii.gz\n",
      "Creating body_extremities.nii.gz"
     ]
    },
    {
     "data": {
      "application/vnd.jupyter.widget-view+json": {
       "model_id": "b761714284464adc9651ee96f3043120",
       "version_major": 2,
       "version_minor": 0
      },
      "text/plain": [
       "  0%|          | 0/2 [00:00<?, ?it/s]"
      ]
     },
     "metadata": {},
     "output_type": "display_data"
    },
    {
     "name": "stdout",
     "output_type": "stream",
     "text": [
      "\n",
      "  Saved in 0.38s\n",
      "Creating body.nii.gz\n",
      "Creating skin.nii.gz\n",
      "Segmenting Case5Pack phase 90\n",
      "\n",
      "If you use this tool please cite: https://pubs.rsna.org/doi/10.1148/ryai.230024\n",
      "\n",
      "Generating rough body segmentation...\n",
      "Resampling...\n",
      "  Resampled in 0.23s\n",
      "Predicting...\n"
     ]
    },
    {
     "name": "stderr",
     "output_type": "stream",
     "text": [
      "/ocean/projects/asc170022p/mtragoza/mambaforge/envs/lung-project/lib/python3.10/site-packages/nnunetv2/utilities/plans_handling/plans_handler.py:37: UserWarning: Detected old nnU-Net plans format. Attempting to reconstruct network architecture parameters. If this fails, rerun nnUNetv2_plan_experiment for your dataset. If you use a custom architecture, please downgrade nnU-Net to the version you implemented this or update your implementation + plans.\n",
      "  warnings.warn(\"Detected old nnU-Net plans format. Attempting to reconstruct network architecture \"\n",
      "100%|██████████| 1/1 [00:00<00:00, 76.85it/s]\n"
     ]
    },
    {
     "name": "stdout",
     "output_type": "stream",
     "text": [
      "  Predicted in 7.43s\n",
      "Resampling...\n",
      "  cropping from (256, 256, 94) to (256, 202, 94)\n",
      "Resampling...\n",
      "  Resampled in 1.68s\n",
      "Predicting part 1 of 1 ...\n"
     ]
    },
    {
     "name": "stderr",
     "output_type": "stream",
     "text": [
      "100%|██████████| 8/8 [00:00<00:00, 32.62it/s]\n"
     ]
    },
    {
     "name": "stdout",
     "output_type": "stream",
     "text": [
      "  Predicted in 9.18s\n",
      "Resampling...\n",
      "Saving segmentations...\n"
     ]
    },
    {
     "data": {
      "application/vnd.jupyter.widget-view+json": {
       "model_id": "326c48c179ef41849de3e04cba01db7c",
       "version_major": 2,
       "version_minor": 0
      },
      "text/plain": [
       "  0%|          | 0/5 [00:00<?, ?it/s]"
      ]
     },
     "metadata": {},
     "output_type": "display_data"
    },
    {
     "name": "stdout",
     "output_type": "stream",
     "text": [
      "  Saved in 0.59s\n",
      "\n",
      "If you use this tool please cite: https://pubs.rsna.org/doi/10.1148/ryai.230024\n",
      "\n",
      "Generating rough body segmentation...\n",
      "Resampling...\n",
      "  Resampled in 0.23s\n",
      "Predicting...\n"
     ]
    },
    {
     "name": "stderr",
     "output_type": "stream",
     "text": [
      "/ocean/projects/asc170022p/mtragoza/mambaforge/envs/lung-project/lib/python3.10/site-packages/nnunetv2/utilities/plans_handling/plans_handler.py:37: UserWarning: Detected old nnU-Net plans format. Attempting to reconstruct network architecture parameters. If this fails, rerun nnUNetv2_plan_experiment for your dataset. If you use a custom architecture, please downgrade nnU-Net to the version you implemented this or update your implementation + plans.\n",
      "  warnings.warn(\"Detected old nnU-Net plans format. Attempting to reconstruct network architecture \"\n",
      "100%|██████████| 1/1 [00:00<00:00, 109.07it/s]\n"
     ]
    },
    {
     "name": "stdout",
     "output_type": "stream",
     "text": [
      "  Predicted in 7.33s\n",
      "Resampling...\n",
      "  cropping from (256, 256, 94) to (256, 202, 94)\n",
      "Predicting...\n"
     ]
    },
    {
     "name": "stderr",
     "output_type": "stream",
     "text": [
      "100%|██████████| 80/80 [00:04<00:00, 17.59it/s]\n"
     ]
    },
    {
     "name": "stdout",
     "output_type": "stream",
     "text": [
      "  Predicted in 26.02s\n",
      "Saving segmentations...\n",
      "Creating lung_vessels.nii.gz\n",
      "Creating lung_trachea_bronchia.nii.gz\n"
     ]
    },
    {
     "data": {
      "application/vnd.jupyter.widget-view+json": {
       "model_id": "3229e40821884c03ab2313429a70ec43",
       "version_major": 2,
       "version_minor": 0
      },
      "text/plain": [
       "  0%|          | 0/2 [00:00<?, ?it/s]"
      ]
     },
     "metadata": {},
     "output_type": "display_data"
    },
    {
     "name": "stdout",
     "output_type": "stream",
     "text": [
      "  Saved in 0.79s\n",
      "\n",
      "If you use this tool please cite: https://pubs.rsna.org/doi/10.1148/ryai.230024\n",
      "\n",
      "Resampling...\n",
      "  Resampled in 2.17s\n",
      "Predicting...\n"
     ]
    },
    {
     "name": "stderr",
     "output_type": "stream",
     "text": [
      "/ocean/projects/asc170022p/mtragoza/mambaforge/envs/lung-project/lib/python3.10/site-packages/nnunetv2/utilities/plans_handling/plans_handler.py:37: UserWarning: Detected old nnU-Net plans format. Attempting to reconstruct network architecture parameters. If this fails, rerun nnUNetv2_plan_experiment for your dataset. If you use a custom architecture, please downgrade nnU-Net to the version you implemented this or update your implementation + plans.\n",
      "  warnings.warn(\"Detected old nnU-Net plans format. Attempting to reconstruct network architecture \"\n",
      "100%|██████████| 8/8 [00:00<00:00, 33.35it/s]\n"
     ]
    },
    {
     "name": "stdout",
     "output_type": "stream",
     "text": [
      "  Predicted in 8.77s\n"
     ]
    },
    {
     "name": "stderr",
     "output_type": "stream",
     "text": [
      "100%|██████████| 1/1 [00:00<00:00,  9.35it/s]\n",
      "100%|██████████| 1/1 [00:00<00:00, 12.72it/s]\n"
     ]
    },
    {
     "name": "stdout",
     "output_type": "stream",
     "text": [
      "Resampling...\n",
      "Saving segmentations...\n",
      "Creating body_trunc.nii.gz\n",
      "Creating body_extremities.nii.gz"
     ]
    },
    {
     "data": {
      "application/vnd.jupyter.widget-view+json": {
       "model_id": "ab012513f1dc4de6a5fb672a391e4b3e",
       "version_major": 2,
       "version_minor": 0
      },
      "text/plain": [
       "  0%|          | 0/2 [00:00<?, ?it/s]"
      ]
     },
     "metadata": {},
     "output_type": "display_data"
    },
    {
     "name": "stdout",
     "output_type": "stream",
     "text": [
      "\n",
      "  Saved in 0.40s\n",
      "Creating body.nii.gz\n",
      "Creating skin.nii.gz\n",
      "Segmenting Case6Pack phase 0\n",
      "\n",
      "If you use this tool please cite: https://pubs.rsna.org/doi/10.1148/ryai.230024\n",
      "\n",
      "Generating rough body segmentation...\n",
      "Resampling...\n",
      "  Resampled in 0.26s\n",
      "Predicting...\n"
     ]
    },
    {
     "name": "stderr",
     "output_type": "stream",
     "text": [
      "/ocean/projects/asc170022p/mtragoza/mambaforge/envs/lung-project/lib/python3.10/site-packages/nnunetv2/utilities/plans_handling/plans_handler.py:37: UserWarning: Detected old nnU-Net plans format. Attempting to reconstruct network architecture parameters. If this fails, rerun nnUNetv2_plan_experiment for your dataset. If you use a custom architecture, please downgrade nnU-Net to the version you implemented this or update your implementation + plans.\n",
      "  warnings.warn(\"Detected old nnU-Net plans format. Attempting to reconstruct network architecture \"\n",
      "100%|██████████| 1/1 [00:00<00:00, 86.62it/s]\n"
     ]
    },
    {
     "name": "stdout",
     "output_type": "stream",
     "text": [
      "  Predicted in 7.28s\n",
      "Resampling...\n",
      "  cropping from (256, 256, 94) to (249, 171, 82)\n",
      "Resampling...\n",
      "  Resampled in 2.08s\n",
      "Predicting part 1 of 1 ...\n"
     ]
    },
    {
     "name": "stderr",
     "output_type": "stream",
     "text": [
      "100%|██████████| 8/8 [00:00<00:00, 32.70it/s]\n"
     ]
    },
    {
     "name": "stdout",
     "output_type": "stream",
     "text": [
      "  Predicted in 9.68s\n",
      "Resampling...\n",
      "Saving segmentations...\n"
     ]
    },
    {
     "data": {
      "application/vnd.jupyter.widget-view+json": {
       "model_id": "867f9ed7df564558b04321df0a1232fe",
       "version_major": 2,
       "version_minor": 0
      },
      "text/plain": [
       "  0%|          | 0/5 [00:00<?, ?it/s]"
      ]
     },
     "metadata": {},
     "output_type": "display_data"
    },
    {
     "name": "stdout",
     "output_type": "stream",
     "text": [
      "  Saved in 0.63s\n",
      "\n",
      "If you use this tool please cite: https://pubs.rsna.org/doi/10.1148/ryai.230024\n",
      "\n",
      "Generating rough body segmentation...\n",
      "Resampling...\n",
      "  Resampled in 0.27s\n",
      "Predicting...\n"
     ]
    },
    {
     "name": "stderr",
     "output_type": "stream",
     "text": [
      "/ocean/projects/asc170022p/mtragoza/mambaforge/envs/lung-project/lib/python3.10/site-packages/nnunetv2/utilities/plans_handling/plans_handler.py:37: UserWarning: Detected old nnU-Net plans format. Attempting to reconstruct network architecture parameters. If this fails, rerun nnUNetv2_plan_experiment for your dataset. If you use a custom architecture, please downgrade nnU-Net to the version you implemented this or update your implementation + plans.\n",
      "  warnings.warn(\"Detected old nnU-Net plans format. Attempting to reconstruct network architecture \"\n",
      "100%|██████████| 1/1 [00:00<00:00, 96.05it/s]\n"
     ]
    },
    {
     "name": "stdout",
     "output_type": "stream",
     "text": [
      "  Predicted in 7.28s\n",
      "Resampling...\n",
      "  cropping from (256, 256, 94) to (249, 171, 82)\n",
      "Predicting...\n"
     ]
    },
    {
     "name": "stderr",
     "output_type": "stream",
     "text": [
      "100%|██████████| 100/100 [00:05<00:00, 17.44it/s]\n"
     ]
    },
    {
     "name": "stdout",
     "output_type": "stream",
     "text": [
      "  Predicted in 30.01s\n",
      "Saving segmentations...\n",
      "Creating lung_vessels.nii.gz\n",
      "Creating lung_trachea_bronchia.nii.gz\n"
     ]
    },
    {
     "data": {
      "application/vnd.jupyter.widget-view+json": {
       "model_id": "9c2629ea14234d5d894367760cbb0904",
       "version_major": 2,
       "version_minor": 0
      },
      "text/plain": [
       "  0%|          | 0/2 [00:00<?, ?it/s]"
      ]
     },
     "metadata": {},
     "output_type": "display_data"
    },
    {
     "name": "stdout",
     "output_type": "stream",
     "text": [
      "  Saved in 0.50s\n",
      "\n",
      "If you use this tool please cite: https://pubs.rsna.org/doi/10.1148/ryai.230024\n",
      "\n",
      "Resampling...\n",
      "  Resampled in 3.69s\n",
      "Predicting...\n"
     ]
    },
    {
     "name": "stderr",
     "output_type": "stream",
     "text": [
      "/ocean/projects/asc170022p/mtragoza/mambaforge/envs/lung-project/lib/python3.10/site-packages/nnunetv2/utilities/plans_handling/plans_handler.py:37: UserWarning: Detected old nnU-Net plans format. Attempting to reconstruct network architecture parameters. If this fails, rerun nnUNetv2_plan_experiment for your dataset. If you use a custom architecture, please downgrade nnU-Net to the version you implemented this or update your implementation + plans.\n",
      "  warnings.warn(\"Detected old nnU-Net plans format. Attempting to reconstruct network architecture \"\n",
      "100%|██████████| 27/27 [00:01<00:00, 21.19it/s]\n"
     ]
    },
    {
     "name": "stdout",
     "output_type": "stream",
     "text": [
      "  Predicted in 10.80s\n"
     ]
    },
    {
     "name": "stderr",
     "output_type": "stream",
     "text": [
      "100%|██████████| 1/1 [00:00<00:00,  5.40it/s]\n",
      "100%|██████████| 1/1 [00:00<00:00,  5.60it/s]\n"
     ]
    },
    {
     "name": "stdout",
     "output_type": "stream",
     "text": [
      "Resampling...\n",
      "Saving segmentations...\n",
      "Creating body_trunc.nii.gz\n",
      "Creating body_extremities.nii.gz"
     ]
    },
    {
     "data": {
      "application/vnd.jupyter.widget-view+json": {
       "model_id": "b12745adc4f8418691eada2a82a22342",
       "version_major": 2,
       "version_minor": 0
      },
      "text/plain": [
       "  0%|          | 0/2 [00:00<?, ?it/s]"
      ]
     },
     "metadata": {},
     "output_type": "display_data"
    },
    {
     "name": "stdout",
     "output_type": "stream",
     "text": [
      "\n",
      "  Saved in 0.35s\n",
      "Creating body.nii.gz\n",
      "Creating skin.nii.gz\n",
      "Segmenting Case6Pack phase 10\n",
      "\n",
      "If you use this tool please cite: https://pubs.rsna.org/doi/10.1148/ryai.230024\n",
      "\n",
      "Generating rough body segmentation...\n",
      "Resampling...\n",
      "  Resampled in 0.26s\n",
      "Predicting...\n"
     ]
    },
    {
     "name": "stderr",
     "output_type": "stream",
     "text": [
      "/ocean/projects/asc170022p/mtragoza/mambaforge/envs/lung-project/lib/python3.10/site-packages/nnunetv2/utilities/plans_handling/plans_handler.py:37: UserWarning: Detected old nnU-Net plans format. Attempting to reconstruct network architecture parameters. If this fails, rerun nnUNetv2_plan_experiment for your dataset. If you use a custom architecture, please downgrade nnU-Net to the version you implemented this or update your implementation + plans.\n",
      "  warnings.warn(\"Detected old nnU-Net plans format. Attempting to reconstruct network architecture \"\n",
      "100%|██████████| 1/1 [00:00<00:00, 105.70it/s]\n"
     ]
    },
    {
     "name": "stdout",
     "output_type": "stream",
     "text": [
      "  Predicted in 7.31s\n",
      "Resampling...\n",
      "  cropping from (256, 256, 94) to (249, 171, 82)\n",
      "Resampling...\n",
      "  Resampled in 2.10s\n",
      "Predicting part 1 of 1 ...\n"
     ]
    },
    {
     "name": "stderr",
     "output_type": "stream",
     "text": [
      "100%|██████████| 8/8 [00:00<00:00, 32.16it/s]\n"
     ]
    },
    {
     "name": "stdout",
     "output_type": "stream",
     "text": [
      "  Predicted in 9.77s\n",
      "Resampling...\n",
      "Saving segmentations...\n"
     ]
    },
    {
     "data": {
      "application/vnd.jupyter.widget-view+json": {
       "model_id": "aa791f2f17244a52b08fee5742911faa",
       "version_major": 2,
       "version_minor": 0
      },
      "text/plain": [
       "  0%|          | 0/5 [00:00<?, ?it/s]"
      ]
     },
     "metadata": {},
     "output_type": "display_data"
    },
    {
     "name": "stdout",
     "output_type": "stream",
     "text": [
      "  Saved in 0.58s\n",
      "\n",
      "If you use this tool please cite: https://pubs.rsna.org/doi/10.1148/ryai.230024\n",
      "\n",
      "Generating rough body segmentation...\n",
      "Resampling...\n",
      "  Resampled in 0.26s\n",
      "Predicting...\n"
     ]
    },
    {
     "name": "stderr",
     "output_type": "stream",
     "text": [
      "/ocean/projects/asc170022p/mtragoza/mambaforge/envs/lung-project/lib/python3.10/site-packages/nnunetv2/utilities/plans_handling/plans_handler.py:37: UserWarning: Detected old nnU-Net plans format. Attempting to reconstruct network architecture parameters. If this fails, rerun nnUNetv2_plan_experiment for your dataset. If you use a custom architecture, please downgrade nnU-Net to the version you implemented this or update your implementation + plans.\n",
      "  warnings.warn(\"Detected old nnU-Net plans format. Attempting to reconstruct network architecture \"\n",
      "100%|██████████| 1/1 [00:00<00:00, 103.98it/s]\n"
     ]
    },
    {
     "name": "stdout",
     "output_type": "stream",
     "text": [
      "  Predicted in 7.44s\n",
      "Resampling...\n",
      "  cropping from (256, 256, 94) to (249, 171, 82)\n",
      "Predicting...\n"
     ]
    },
    {
     "name": "stderr",
     "output_type": "stream",
     "text": [
      "100%|██████████| 100/100 [00:05<00:00, 17.43it/s]\n"
     ]
    },
    {
     "name": "stdout",
     "output_type": "stream",
     "text": [
      "  Predicted in 29.94s\n",
      "Saving segmentations...\n",
      "Creating lung_vessels.nii.gz\n",
      "Creating lung_trachea_bronchia.nii.gz\n"
     ]
    },
    {
     "data": {
      "application/vnd.jupyter.widget-view+json": {
       "model_id": "e0fdf85940e1464e9307eda2b7a07936",
       "version_major": 2,
       "version_minor": 0
      },
      "text/plain": [
       "  0%|          | 0/2 [00:00<?, ?it/s]"
      ]
     },
     "metadata": {},
     "output_type": "display_data"
    },
    {
     "name": "stdout",
     "output_type": "stream",
     "text": [
      "  Saved in 0.51s\n",
      "\n",
      "If you use this tool please cite: https://pubs.rsna.org/doi/10.1148/ryai.230024\n",
      "\n",
      "Resampling...\n",
      "  Resampled in 3.67s\n",
      "Predicting...\n"
     ]
    },
    {
     "name": "stderr",
     "output_type": "stream",
     "text": [
      "/ocean/projects/asc170022p/mtragoza/mambaforge/envs/lung-project/lib/python3.10/site-packages/nnunetv2/utilities/plans_handling/plans_handler.py:37: UserWarning: Detected old nnU-Net plans format. Attempting to reconstruct network architecture parameters. If this fails, rerun nnUNetv2_plan_experiment for your dataset. If you use a custom architecture, please downgrade nnU-Net to the version you implemented this or update your implementation + plans.\n",
      "  warnings.warn(\"Detected old nnU-Net plans format. Attempting to reconstruct network architecture \"\n",
      "100%|██████████| 27/27 [00:01<00:00, 21.07it/s]\n"
     ]
    },
    {
     "name": "stdout",
     "output_type": "stream",
     "text": [
      "  Predicted in 10.62s\n"
     ]
    },
    {
     "name": "stderr",
     "output_type": "stream",
     "text": [
      "100%|██████████| 1/1 [00:00<00:00,  5.43it/s]\n",
      "100%|██████████| 1/1 [00:00<00:00,  5.46it/s]\n"
     ]
    },
    {
     "name": "stdout",
     "output_type": "stream",
     "text": [
      "Resampling...\n",
      "Saving segmentations...\n",
      "Creating body_trunc.nii.gz\n",
      "Creating body_extremities.nii.gz"
     ]
    },
    {
     "data": {
      "application/vnd.jupyter.widget-view+json": {
       "model_id": "638c2ff340824c59b03db2e6bf0df859",
       "version_major": 2,
       "version_minor": 0
      },
      "text/plain": [
       "  0%|          | 0/2 [00:00<?, ?it/s]"
      ]
     },
     "metadata": {},
     "output_type": "display_data"
    },
    {
     "name": "stdout",
     "output_type": "stream",
     "text": [
      "\n",
      "  Saved in 0.37s\n",
      "Creating body.nii.gz\n",
      "Creating skin.nii.gz\n",
      "Segmenting Case6Pack phase 20\n",
      "\n",
      "If you use this tool please cite: https://pubs.rsna.org/doi/10.1148/ryai.230024\n",
      "\n",
      "Generating rough body segmentation...\n",
      "Resampling...\n",
      "  Resampled in 0.26s\n",
      "Predicting...\n"
     ]
    },
    {
     "name": "stderr",
     "output_type": "stream",
     "text": [
      "/ocean/projects/asc170022p/mtragoza/mambaforge/envs/lung-project/lib/python3.10/site-packages/nnunetv2/utilities/plans_handling/plans_handler.py:37: UserWarning: Detected old nnU-Net plans format. Attempting to reconstruct network architecture parameters. If this fails, rerun nnUNetv2_plan_experiment for your dataset. If you use a custom architecture, please downgrade nnU-Net to the version you implemented this or update your implementation + plans.\n",
      "  warnings.warn(\"Detected old nnU-Net plans format. Attempting to reconstruct network architecture \"\n",
      "100%|██████████| 1/1 [00:00<00:00, 79.59it/s]\n"
     ]
    },
    {
     "name": "stdout",
     "output_type": "stream",
     "text": [
      "  Predicted in 7.57s\n",
      "Resampling...\n",
      "  cropping from (256, 256, 94) to (244, 171, 78)\n",
      "Resampling...\n",
      "  Resampled in 1.92s\n",
      "Predicting part 1 of 1 ...\n"
     ]
    },
    {
     "name": "stderr",
     "output_type": "stream",
     "text": [
      "100%|██████████| 8/8 [00:00<00:00, 31.96it/s]\n"
     ]
    },
    {
     "name": "stdout",
     "output_type": "stream",
     "text": [
      "  Predicted in 9.62s\n",
      "Resampling...\n",
      "Saving segmentations...\n"
     ]
    },
    {
     "data": {
      "application/vnd.jupyter.widget-view+json": {
       "model_id": "1745effaa1dd49fab5c98c3036d07c23",
       "version_major": 2,
       "version_minor": 0
      },
      "text/plain": [
       "  0%|          | 0/5 [00:00<?, ?it/s]"
      ]
     },
     "metadata": {},
     "output_type": "display_data"
    },
    {
     "name": "stdout",
     "output_type": "stream",
     "text": [
      "  Saved in 4.40s\n",
      "\n",
      "If you use this tool please cite: https://pubs.rsna.org/doi/10.1148/ryai.230024\n",
      "\n",
      "Generating rough body segmentation...\n",
      "Resampling...\n",
      "  Resampled in 0.27s\n",
      "Predicting...\n"
     ]
    },
    {
     "name": "stderr",
     "output_type": "stream",
     "text": [
      "/ocean/projects/asc170022p/mtragoza/mambaforge/envs/lung-project/lib/python3.10/site-packages/nnunetv2/utilities/plans_handling/plans_handler.py:37: UserWarning: Detected old nnU-Net plans format. Attempting to reconstruct network architecture parameters. If this fails, rerun nnUNetv2_plan_experiment for your dataset. If you use a custom architecture, please downgrade nnU-Net to the version you implemented this or update your implementation + plans.\n",
      "  warnings.warn(\"Detected old nnU-Net plans format. Attempting to reconstruct network architecture \"\n",
      "100%|██████████| 1/1 [00:00<00:00, 75.99it/s]\n"
     ]
    },
    {
     "name": "stdout",
     "output_type": "stream",
     "text": [
      "  Predicted in 7.35s\n",
      "Resampling...\n",
      "  cropping from (256, 256, 94) to (244, 171, 78)\n",
      "Predicting...\n"
     ]
    },
    {
     "name": "stderr",
     "output_type": "stream",
     "text": [
      "100%|██████████| 100/100 [00:05<00:00, 17.44it/s]\n"
     ]
    },
    {
     "name": "stdout",
     "output_type": "stream",
     "text": [
      "  Predicted in 28.97s\n",
      "Saving segmentations...\n"
     ]
    },
    {
     "data": {
      "application/vnd.jupyter.widget-view+json": {
       "model_id": "7c93066680bc416b99e6ef929985af23",
       "version_major": 2,
       "version_minor": 0
      },
      "text/plain": [
       "  0%|          | 0/2 [00:00<?, ?it/s]"
      ]
     },
     "metadata": {},
     "output_type": "display_data"
    },
    {
     "name": "stdout",
     "output_type": "stream",
     "text": [
      "Creating lung_vessels.nii.gz\n",
      "Creating lung_trachea_bronchia.nii.gz\n",
      "  Saved in 1.47s\n",
      "\n",
      "If you use this tool please cite: https://pubs.rsna.org/doi/10.1148/ryai.230024\n",
      "\n",
      "Resampling...\n",
      "  Resampled in 3.70s\n",
      "Predicting...\n"
     ]
    },
    {
     "name": "stderr",
     "output_type": "stream",
     "text": [
      "/ocean/projects/asc170022p/mtragoza/mambaforge/envs/lung-project/lib/python3.10/site-packages/nnunetv2/utilities/plans_handling/plans_handler.py:37: UserWarning: Detected old nnU-Net plans format. Attempting to reconstruct network architecture parameters. If this fails, rerun nnUNetv2_plan_experiment for your dataset. If you use a custom architecture, please downgrade nnU-Net to the version you implemented this or update your implementation + plans.\n",
      "  warnings.warn(\"Detected old nnU-Net plans format. Attempting to reconstruct network architecture \"\n",
      "100%|██████████| 27/27 [00:01<00:00, 21.04it/s]\n"
     ]
    },
    {
     "name": "stdout",
     "output_type": "stream",
     "text": [
      "  Predicted in 10.86s\n"
     ]
    },
    {
     "name": "stderr",
     "output_type": "stream",
     "text": [
      "100%|██████████| 1/1 [00:00<00:00,  5.41it/s]\n",
      "100%|██████████| 1/1 [00:00<00:00,  5.54it/s]\n"
     ]
    },
    {
     "name": "stdout",
     "output_type": "stream",
     "text": [
      "Resampling...\n",
      "Saving segmentations...\n",
      "Creating body_trunc.nii.gz\n",
      "Creating body_extremities.nii.gz\n"
     ]
    },
    {
     "data": {
      "application/vnd.jupyter.widget-view+json": {
       "model_id": "e87d6e2c73484d52a90907f1797c9781",
       "version_major": 2,
       "version_minor": 0
      },
      "text/plain": [
       "  0%|          | 0/2 [00:00<?, ?it/s]"
      ]
     },
     "metadata": {},
     "output_type": "display_data"
    },
    {
     "name": "stdout",
     "output_type": "stream",
     "text": [
      "  Saved in 0.34s\n",
      "Creating body.nii.gz\n",
      "Creating skin.nii.gz\n",
      "Segmenting Case6Pack phase 30\n",
      "\n",
      "If you use this tool please cite: https://pubs.rsna.org/doi/10.1148/ryai.230024\n",
      "\n",
      "Generating rough body segmentation...\n",
      "Resampling...\n",
      "  Resampled in 0.26s\n",
      "Predicting...\n"
     ]
    },
    {
     "name": "stderr",
     "output_type": "stream",
     "text": [
      "/ocean/projects/asc170022p/mtragoza/mambaforge/envs/lung-project/lib/python3.10/site-packages/nnunetv2/utilities/plans_handling/plans_handler.py:37: UserWarning: Detected old nnU-Net plans format. Attempting to reconstruct network architecture parameters. If this fails, rerun nnUNetv2_plan_experiment for your dataset. If you use a custom architecture, please downgrade nnU-Net to the version you implemented this or update your implementation + plans.\n",
      "  warnings.warn(\"Detected old nnU-Net plans format. Attempting to reconstruct network architecture \"\n",
      "100%|██████████| 1/1 [00:00<00:00, 86.10it/s]\n"
     ]
    },
    {
     "name": "stdout",
     "output_type": "stream",
     "text": [
      "  Predicted in 7.32s\n",
      "Resampling...\n",
      "  cropping from (256, 256, 94) to (244, 171, 76)\n",
      "Resampling...\n",
      "  Resampled in 1.86s\n",
      "Predicting part 1 of 1 ...\n"
     ]
    },
    {
     "name": "stderr",
     "output_type": "stream",
     "text": [
      "100%|██████████| 8/8 [00:00<00:00, 32.75it/s]\n"
     ]
    },
    {
     "name": "stdout",
     "output_type": "stream",
     "text": [
      "  Predicted in 9.81s\n",
      "Resampling...\n",
      "Saving segmentations...\n"
     ]
    },
    {
     "data": {
      "application/vnd.jupyter.widget-view+json": {
       "model_id": "645e407d9d234198b00c4cb8ce90e822",
       "version_major": 2,
       "version_minor": 0
      },
      "text/plain": [
       "  0%|          | 0/5 [00:00<?, ?it/s]"
      ]
     },
     "metadata": {},
     "output_type": "display_data"
    },
    {
     "name": "stdout",
     "output_type": "stream",
     "text": [
      "  Saved in 0.55s\n",
      "\n",
      "If you use this tool please cite: https://pubs.rsna.org/doi/10.1148/ryai.230024\n",
      "\n",
      "Generating rough body segmentation...\n",
      "Resampling...\n",
      "  Resampled in 0.26s\n",
      "Predicting...\n"
     ]
    },
    {
     "name": "stderr",
     "output_type": "stream",
     "text": [
      "/ocean/projects/asc170022p/mtragoza/mambaforge/envs/lung-project/lib/python3.10/site-packages/nnunetv2/utilities/plans_handling/plans_handler.py:37: UserWarning: Detected old nnU-Net plans format. Attempting to reconstruct network architecture parameters. If this fails, rerun nnUNetv2_plan_experiment for your dataset. If you use a custom architecture, please downgrade nnU-Net to the version you implemented this or update your implementation + plans.\n",
      "  warnings.warn(\"Detected old nnU-Net plans format. Attempting to reconstruct network architecture \"\n",
      "100%|██████████| 1/1 [00:00<00:00, 93.20it/s]\n"
     ]
    },
    {
     "name": "stdout",
     "output_type": "stream",
     "text": [
      "  Predicted in 7.33s\n",
      "Resampling...\n",
      "  cropping from (256, 256, 94) to (244, 171, 76)\n",
      "Predicting...\n"
     ]
    },
    {
     "name": "stderr",
     "output_type": "stream",
     "text": [
      "100%|██████████| 100/100 [00:05<00:00, 17.44it/s]\n"
     ]
    },
    {
     "name": "stdout",
     "output_type": "stream",
     "text": [
      "  Predicted in 28.50s\n",
      "Saving segmentations...\n",
      "Creating lung_vessels.nii.gz\n",
      "Creating lung_trachea_bronchia.nii.gz\n"
     ]
    },
    {
     "data": {
      "application/vnd.jupyter.widget-view+json": {
       "model_id": "f79bf5481bf7458c976d1d0c2d996f73",
       "version_major": 2,
       "version_minor": 0
      },
      "text/plain": [
       "  0%|          | 0/2 [00:00<?, ?it/s]"
      ]
     },
     "metadata": {},
     "output_type": "display_data"
    },
    {
     "name": "stdout",
     "output_type": "stream",
     "text": [
      "  Saved in 0.50s\n",
      "\n",
      "If you use this tool please cite: https://pubs.rsna.org/doi/10.1148/ryai.230024\n",
      "\n",
      "Resampling...\n",
      "  Resampled in 3.69s\n",
      "Predicting...\n"
     ]
    },
    {
     "name": "stderr",
     "output_type": "stream",
     "text": [
      "/ocean/projects/asc170022p/mtragoza/mambaforge/envs/lung-project/lib/python3.10/site-packages/nnunetv2/utilities/plans_handling/plans_handler.py:37: UserWarning: Detected old nnU-Net plans format. Attempting to reconstruct network architecture parameters. If this fails, rerun nnUNetv2_plan_experiment for your dataset. If you use a custom architecture, please downgrade nnU-Net to the version you implemented this or update your implementation + plans.\n",
      "  warnings.warn(\"Detected old nnU-Net plans format. Attempting to reconstruct network architecture \"\n",
      "100%|██████████| 27/27 [00:01<00:00, 21.11it/s]\n"
     ]
    },
    {
     "name": "stdout",
     "output_type": "stream",
     "text": [
      "  Predicted in 10.81s\n"
     ]
    },
    {
     "name": "stderr",
     "output_type": "stream",
     "text": [
      "100%|██████████| 1/1 [00:00<00:00,  5.35it/s]\n",
      "100%|██████████| 1/1 [00:00<00:00,  5.21it/s]\n"
     ]
    },
    {
     "name": "stdout",
     "output_type": "stream",
     "text": [
      "Resampling...\n",
      "Saving segmentations...\n",
      "Creating body_trunc.nii.gz\n",
      "Creating body_extremities.nii.gz\n"
     ]
    },
    {
     "data": {
      "application/vnd.jupyter.widget-view+json": {
       "model_id": "fc67d6375d6f46da9a1d091dde6cf8a6",
       "version_major": 2,
       "version_minor": 0
      },
      "text/plain": [
       "  0%|          | 0/2 [00:00<?, ?it/s]"
      ]
     },
     "metadata": {},
     "output_type": "display_data"
    },
    {
     "name": "stdout",
     "output_type": "stream",
     "text": [
      "  Saved in 0.36s\n",
      "Creating body.nii.gz\n",
      "Creating skin.nii.gz\n",
      "Segmenting Case6Pack phase 40\n",
      "\n",
      "If you use this tool please cite: https://pubs.rsna.org/doi/10.1148/ryai.230024\n",
      "\n",
      "Generating rough body segmentation...\n",
      "Resampling...\n",
      "  Resampled in 0.26s\n",
      "Predicting...\n"
     ]
    },
    {
     "name": "stderr",
     "output_type": "stream",
     "text": [
      "/ocean/projects/asc170022p/mtragoza/mambaforge/envs/lung-project/lib/python3.10/site-packages/nnunetv2/utilities/plans_handling/plans_handler.py:37: UserWarning: Detected old nnU-Net plans format. Attempting to reconstruct network architecture parameters. If this fails, rerun nnUNetv2_plan_experiment for your dataset. If you use a custom architecture, please downgrade nnU-Net to the version you implemented this or update your implementation + plans.\n",
      "  warnings.warn(\"Detected old nnU-Net plans format. Attempting to reconstruct network architecture \"\n",
      "100%|██████████| 1/1 [00:00<00:00, 78.22it/s]\n"
     ]
    },
    {
     "name": "stdout",
     "output_type": "stream",
     "text": [
      "  Predicted in 7.29s\n",
      "Resampling...\n",
      "  cropping from (256, 256, 94) to (244, 162, 75)\n",
      "Resampling...\n",
      "  Resampled in 1.76s\n",
      "Predicting part 1 of 1 ...\n"
     ]
    },
    {
     "name": "stderr",
     "output_type": "stream",
     "text": [
      "100%|██████████| 8/8 [00:00<00:00, 32.77it/s]\n"
     ]
    },
    {
     "name": "stdout",
     "output_type": "stream",
     "text": [
      "  Predicted in 9.74s\n",
      "Resampling...\n",
      "Saving segmentations...\n"
     ]
    },
    {
     "data": {
      "application/vnd.jupyter.widget-view+json": {
       "model_id": "0f2335ad8f49461a903146054f101e2e",
       "version_major": 2,
       "version_minor": 0
      },
      "text/plain": [
       "  0%|          | 0/5 [00:00<?, ?it/s]"
      ]
     },
     "metadata": {},
     "output_type": "display_data"
    },
    {
     "name": "stdout",
     "output_type": "stream",
     "text": [
      "  Saved in 0.56s\n",
      "\n",
      "If you use this tool please cite: https://pubs.rsna.org/doi/10.1148/ryai.230024\n",
      "\n",
      "Generating rough body segmentation...\n",
      "Resampling...\n",
      "  Resampled in 0.26s\n",
      "Predicting...\n"
     ]
    },
    {
     "name": "stderr",
     "output_type": "stream",
     "text": [
      "/ocean/projects/asc170022p/mtragoza/mambaforge/envs/lung-project/lib/python3.10/site-packages/nnunetv2/utilities/plans_handling/plans_handler.py:37: UserWarning: Detected old nnU-Net plans format. Attempting to reconstruct network architecture parameters. If this fails, rerun nnUNetv2_plan_experiment for your dataset. If you use a custom architecture, please downgrade nnU-Net to the version you implemented this or update your implementation + plans.\n",
      "  warnings.warn(\"Detected old nnU-Net plans format. Attempting to reconstruct network architecture \"\n",
      "100%|██████████| 1/1 [00:00<00:00, 95.01it/s]\n"
     ]
    },
    {
     "name": "stdout",
     "output_type": "stream",
     "text": [
      "  Predicted in 7.21s\n",
      "Resampling...\n",
      "  cropping from (256, 256, 94) to (244, 162, 75)\n",
      "Predicting...\n"
     ]
    },
    {
     "name": "stderr",
     "output_type": "stream",
     "text": [
      "100%|██████████| 60/60 [00:03<00:00, 17.87it/s]\n"
     ]
    },
    {
     "name": "stdout",
     "output_type": "stream",
     "text": [
      "  Predicted in 25.12s\n",
      "Saving segmentations...\n",
      "Creating lung_vessels.nii.gz\n",
      "Creating lung_trachea_bronchia.nii.gz\n"
     ]
    },
    {
     "data": {
      "application/vnd.jupyter.widget-view+json": {
       "model_id": "317b5c87bc084b9084ca9cbf5be64c4c",
       "version_major": 2,
       "version_minor": 0
      },
      "text/plain": [
       "  0%|          | 0/2 [00:00<?, ?it/s]"
      ]
     },
     "metadata": {},
     "output_type": "display_data"
    },
    {
     "name": "stdout",
     "output_type": "stream",
     "text": [
      "  Saved in 0.49s\n",
      "\n",
      "If you use this tool please cite: https://pubs.rsna.org/doi/10.1148/ryai.230024\n",
      "\n",
      "Resampling...\n",
      "  Resampled in 3.68s\n",
      "Predicting...\n"
     ]
    },
    {
     "name": "stderr",
     "output_type": "stream",
     "text": [
      "/ocean/projects/asc170022p/mtragoza/mambaforge/envs/lung-project/lib/python3.10/site-packages/nnunetv2/utilities/plans_handling/plans_handler.py:37: UserWarning: Detected old nnU-Net plans format. Attempting to reconstruct network architecture parameters. If this fails, rerun nnUNetv2_plan_experiment for your dataset. If you use a custom architecture, please downgrade nnU-Net to the version you implemented this or update your implementation + plans.\n",
      "  warnings.warn(\"Detected old nnU-Net plans format. Attempting to reconstruct network architecture \"\n",
      "100%|██████████| 27/27 [00:01<00:00, 21.10it/s]\n"
     ]
    },
    {
     "name": "stdout",
     "output_type": "stream",
     "text": [
      "  Predicted in 11.04s\n"
     ]
    },
    {
     "name": "stderr",
     "output_type": "stream",
     "text": [
      "100%|██████████| 1/1 [00:00<00:00,  5.25it/s]\n",
      "100%|██████████| 1/1 [00:00<00:00,  5.40it/s]\n"
     ]
    },
    {
     "name": "stdout",
     "output_type": "stream",
     "text": [
      "Resampling...\n",
      "Saving segmentations...\n",
      "Creating body_trunc.nii.gz\n",
      "Creating body_extremities.nii.gz\n"
     ]
    },
    {
     "data": {
      "application/vnd.jupyter.widget-view+json": {
       "model_id": "43aad08855874919accdd50d357c24c2",
       "version_major": 2,
       "version_minor": 0
      },
      "text/plain": [
       "  0%|          | 0/2 [00:00<?, ?it/s]"
      ]
     },
     "metadata": {},
     "output_type": "display_data"
    },
    {
     "name": "stdout",
     "output_type": "stream",
     "text": [
      "  Saved in 0.32s\n",
      "Creating body.nii.gz\n",
      "Creating skin.nii.gz\n",
      "Segmenting Case6Pack phase 50\n",
      "\n",
      "If you use this tool please cite: https://pubs.rsna.org/doi/10.1148/ryai.230024\n",
      "\n",
      "Generating rough body segmentation...\n",
      "Resampling...\n",
      "  Resampled in 0.26s\n",
      "Predicting...\n"
     ]
    },
    {
     "name": "stderr",
     "output_type": "stream",
     "text": [
      "/ocean/projects/asc170022p/mtragoza/mambaforge/envs/lung-project/lib/python3.10/site-packages/nnunetv2/utilities/plans_handling/plans_handler.py:37: UserWarning: Detected old nnU-Net plans format. Attempting to reconstruct network architecture parameters. If this fails, rerun nnUNetv2_plan_experiment for your dataset. If you use a custom architecture, please downgrade nnU-Net to the version you implemented this or update your implementation + plans.\n",
      "  warnings.warn(\"Detected old nnU-Net plans format. Attempting to reconstruct network architecture \"\n",
      "100%|██████████| 1/1 [00:00<00:00, 77.68it/s]\n"
     ]
    },
    {
     "name": "stdout",
     "output_type": "stream",
     "text": [
      "  Predicted in 7.38s\n",
      "Resampling...\n",
      "  cropping from (256, 256, 94) to (244, 162, 75)\n",
      "Resampling...\n",
      "  Resampled in 1.76s\n",
      "Predicting part 1 of 1 ...\n"
     ]
    },
    {
     "name": "stderr",
     "output_type": "stream",
     "text": [
      "100%|██████████| 8/8 [00:00<00:00, 32.34it/s]\n"
     ]
    },
    {
     "name": "stdout",
     "output_type": "stream",
     "text": [
      "  Predicted in 9.41s\n",
      "Resampling...\n",
      "Saving segmentations...\n"
     ]
    },
    {
     "data": {
      "application/vnd.jupyter.widget-view+json": {
       "model_id": "b72ec9f640c74715b09895687c6529a0",
       "version_major": 2,
       "version_minor": 0
      },
      "text/plain": [
       "  0%|          | 0/5 [00:00<?, ?it/s]"
      ]
     },
     "metadata": {},
     "output_type": "display_data"
    },
    {
     "name": "stdout",
     "output_type": "stream",
     "text": [
      "  Saved in 3.77s\n",
      "\n",
      "If you use this tool please cite: https://pubs.rsna.org/doi/10.1148/ryai.230024\n",
      "\n",
      "Generating rough body segmentation...\n",
      "Resampling...\n",
      "  Resampled in 0.26s\n",
      "Predicting...\n"
     ]
    },
    {
     "name": "stderr",
     "output_type": "stream",
     "text": [
      "/ocean/projects/asc170022p/mtragoza/mambaforge/envs/lung-project/lib/python3.10/site-packages/nnunetv2/utilities/plans_handling/plans_handler.py:37: UserWarning: Detected old nnU-Net plans format. Attempting to reconstruct network architecture parameters. If this fails, rerun nnUNetv2_plan_experiment for your dataset. If you use a custom architecture, please downgrade nnU-Net to the version you implemented this or update your implementation + plans.\n",
      "  warnings.warn(\"Detected old nnU-Net plans format. Attempting to reconstruct network architecture \"\n",
      "100%|██████████| 1/1 [00:00<00:00, 100.07it/s]\n"
     ]
    },
    {
     "name": "stdout",
     "output_type": "stream",
     "text": [
      "  Predicted in 7.48s\n",
      "Resampling...\n",
      "  cropping from (256, 256, 94) to (244, 162, 75)\n",
      "Predicting...\n"
     ]
    },
    {
     "name": "stderr",
     "output_type": "stream",
     "text": [
      "100%|██████████| 60/60 [00:03<00:00, 17.93it/s]\n"
     ]
    },
    {
     "name": "stdout",
     "output_type": "stream",
     "text": [
      "  Predicted in 25.17s\n",
      "Saving segmentations...\n",
      "Creating lung_vessels.nii.gz\n",
      "Creating lung_trachea_bronchia.nii.gz\n"
     ]
    },
    {
     "data": {
      "application/vnd.jupyter.widget-view+json": {
       "model_id": "fc0db41873c541679179cb8e4e2e2c9a",
       "version_major": 2,
       "version_minor": 0
      },
      "text/plain": [
       "  0%|          | 0/2 [00:00<?, ?it/s]"
      ]
     },
     "metadata": {},
     "output_type": "display_data"
    },
    {
     "name": "stdout",
     "output_type": "stream",
     "text": [
      "  Saved in 0.46s\n",
      "\n",
      "If you use this tool please cite: https://pubs.rsna.org/doi/10.1148/ryai.230024\n",
      "\n",
      "Resampling...\n",
      "  Resampled in 3.68s\n",
      "Predicting...\n"
     ]
    },
    {
     "name": "stderr",
     "output_type": "stream",
     "text": [
      "/ocean/projects/asc170022p/mtragoza/mambaforge/envs/lung-project/lib/python3.10/site-packages/nnunetv2/utilities/plans_handling/plans_handler.py:37: UserWarning: Detected old nnU-Net plans format. Attempting to reconstruct network architecture parameters. If this fails, rerun nnUNetv2_plan_experiment for your dataset. If you use a custom architecture, please downgrade nnU-Net to the version you implemented this or update your implementation + plans.\n",
      "  warnings.warn(\"Detected old nnU-Net plans format. Attempting to reconstruct network architecture \"\n",
      "100%|██████████| 27/27 [00:01<00:00, 21.10it/s]\n"
     ]
    },
    {
     "name": "stdout",
     "output_type": "stream",
     "text": [
      "  Predicted in 11.02s\n"
     ]
    },
    {
     "name": "stderr",
     "output_type": "stream",
     "text": [
      "100%|██████████| 1/1 [00:00<00:00,  5.34it/s]\n",
      "100%|██████████| 1/1 [00:00<00:00,  5.56it/s]\n"
     ]
    },
    {
     "name": "stdout",
     "output_type": "stream",
     "text": [
      "Resampling...\n",
      "Saving segmentations...\n",
      "Creating body_trunc.nii.gz\n",
      "Creating body_extremities.nii.gz\n"
     ]
    },
    {
     "data": {
      "application/vnd.jupyter.widget-view+json": {
       "model_id": "e070def10c5c4c7ab67e1ea7ed51ba51",
       "version_major": 2,
       "version_minor": 0
      },
      "text/plain": [
       "  0%|          | 0/2 [00:00<?, ?it/s]"
      ]
     },
     "metadata": {},
     "output_type": "display_data"
    },
    {
     "name": "stdout",
     "output_type": "stream",
     "text": [
      "  Saved in 0.35s\n",
      "Creating body.nii.gz\n",
      "Creating skin.nii.gz\n",
      "Segmenting Case6Pack phase 60\n",
      "\n",
      "If you use this tool please cite: https://pubs.rsna.org/doi/10.1148/ryai.230024\n",
      "\n",
      "Generating rough body segmentation...\n",
      "Resampling...\n",
      "  Resampled in 0.26s\n",
      "Predicting...\n"
     ]
    },
    {
     "name": "stderr",
     "output_type": "stream",
     "text": [
      "/ocean/projects/asc170022p/mtragoza/mambaforge/envs/lung-project/lib/python3.10/site-packages/nnunetv2/utilities/plans_handling/plans_handler.py:37: UserWarning: Detected old nnU-Net plans format. Attempting to reconstruct network architecture parameters. If this fails, rerun nnUNetv2_plan_experiment for your dataset. If you use a custom architecture, please downgrade nnU-Net to the version you implemented this or update your implementation + plans.\n",
      "  warnings.warn(\"Detected old nnU-Net plans format. Attempting to reconstruct network architecture \"\n",
      "100%|██████████| 1/1 [00:00<00:00, 94.92it/s]\n"
     ]
    },
    {
     "name": "stdout",
     "output_type": "stream",
     "text": [
      "  Predicted in 7.32s\n",
      "Resampling...\n",
      "  cropping from (256, 256, 94) to (244, 162, 78)\n",
      "Resampling...\n",
      "  Resampled in 1.82s\n",
      "Predicting part 1 of 1 ...\n"
     ]
    },
    {
     "name": "stderr",
     "output_type": "stream",
     "text": [
      "100%|██████████| 8/8 [00:00<00:00, 31.89it/s]\n"
     ]
    },
    {
     "name": "stdout",
     "output_type": "stream",
     "text": [
      "  Predicted in 9.59s\n",
      "Resampling...\n",
      "Saving segmentations...\n"
     ]
    },
    {
     "data": {
      "application/vnd.jupyter.widget-view+json": {
       "model_id": "8b772966c56a4218b4b00b15dc200655",
       "version_major": 2,
       "version_minor": 0
      },
      "text/plain": [
       "  0%|          | 0/5 [00:00<?, ?it/s]"
      ]
     },
     "metadata": {},
     "output_type": "display_data"
    },
    {
     "name": "stdout",
     "output_type": "stream",
     "text": [
      "  Saved in 0.56s\n",
      "\n",
      "If you use this tool please cite: https://pubs.rsna.org/doi/10.1148/ryai.230024\n",
      "\n",
      "Generating rough body segmentation...\n",
      "Resampling...\n",
      "  Resampled in 0.26s\n",
      "Predicting...\n"
     ]
    },
    {
     "name": "stderr",
     "output_type": "stream",
     "text": [
      "/ocean/projects/asc170022p/mtragoza/mambaforge/envs/lung-project/lib/python3.10/site-packages/nnunetv2/utilities/plans_handling/plans_handler.py:37: UserWarning: Detected old nnU-Net plans format. Attempting to reconstruct network architecture parameters. If this fails, rerun nnUNetv2_plan_experiment for your dataset. If you use a custom architecture, please downgrade nnU-Net to the version you implemented this or update your implementation + plans.\n",
      "  warnings.warn(\"Detected old nnU-Net plans format. Attempting to reconstruct network architecture \"\n",
      "100%|██████████| 1/1 [00:00<00:00, 82.70it/s]\n"
     ]
    },
    {
     "name": "stdout",
     "output_type": "stream",
     "text": [
      "  Predicted in 7.31s\n",
      "Resampling...\n",
      "  cropping from (256, 256, 94) to (244, 162, 78)\n",
      "Predicting...\n"
     ]
    },
    {
     "name": "stderr",
     "output_type": "stream",
     "text": [
      "100%|██████████| 80/80 [00:04<00:00, 17.63it/s]\n"
     ]
    },
    {
     "name": "stdout",
     "output_type": "stream",
     "text": [
      "  Predicted in 26.95s\n",
      "Saving segmentations...\n",
      "Creating lung_vessels.nii.gz\n",
      "Creating lung_trachea_bronchia.nii.gz\n"
     ]
    },
    {
     "data": {
      "application/vnd.jupyter.widget-view+json": {
       "model_id": "5bf71801dcec4679a822efd999523cf7",
       "version_major": 2,
       "version_minor": 0
      },
      "text/plain": [
       "  0%|          | 0/2 [00:00<?, ?it/s]"
      ]
     },
     "metadata": {},
     "output_type": "display_data"
    },
    {
     "name": "stdout",
     "output_type": "stream",
     "text": [
      "  Saved in 0.63s\n",
      "\n",
      "If you use this tool please cite: https://pubs.rsna.org/doi/10.1148/ryai.230024\n",
      "\n",
      "Resampling...\n",
      "  Resampled in 3.69s\n",
      "Predicting...\n"
     ]
    },
    {
     "name": "stderr",
     "output_type": "stream",
     "text": [
      "/ocean/projects/asc170022p/mtragoza/mambaforge/envs/lung-project/lib/python3.10/site-packages/nnunetv2/utilities/plans_handling/plans_handler.py:37: UserWarning: Detected old nnU-Net plans format. Attempting to reconstruct network architecture parameters. If this fails, rerun nnUNetv2_plan_experiment for your dataset. If you use a custom architecture, please downgrade nnU-Net to the version you implemented this or update your implementation + plans.\n",
      "  warnings.warn(\"Detected old nnU-Net plans format. Attempting to reconstruct network architecture \"\n",
      "100%|██████████| 27/27 [00:01<00:00, 21.08it/s]\n"
     ]
    },
    {
     "name": "stdout",
     "output_type": "stream",
     "text": [
      "  Predicted in 10.89s\n"
     ]
    },
    {
     "name": "stderr",
     "output_type": "stream",
     "text": [
      "100%|██████████| 1/1 [00:00<00:00,  5.38it/s]\n",
      "100%|██████████| 1/1 [00:00<00:00,  5.35it/s]\n"
     ]
    },
    {
     "name": "stdout",
     "output_type": "stream",
     "text": [
      "Resampling...\n",
      "Saving segmentations...\n",
      "Creating body_trunc.nii.gz\n",
      "Creating body_extremities.nii.gz"
     ]
    },
    {
     "data": {
      "application/vnd.jupyter.widget-view+json": {
       "model_id": "13b4d411de534cc095be72f7202abb29",
       "version_major": 2,
       "version_minor": 0
      },
      "text/plain": [
       "  0%|          | 0/2 [00:00<?, ?it/s]"
      ]
     },
     "metadata": {},
     "output_type": "display_data"
    },
    {
     "name": "stdout",
     "output_type": "stream",
     "text": [
      "\n",
      "  Saved in 0.38s\n",
      "Creating body.nii.gz\n",
      "Creating skin.nii.gz\n",
      "Segmenting Case6Pack phase 70\n",
      "\n",
      "If you use this tool please cite: https://pubs.rsna.org/doi/10.1148/ryai.230024\n",
      "\n",
      "Generating rough body segmentation...\n",
      "Resampling...\n",
      "  Resampled in 0.26s\n",
      "Predicting...\n"
     ]
    },
    {
     "name": "stderr",
     "output_type": "stream",
     "text": [
      "/ocean/projects/asc170022p/mtragoza/mambaforge/envs/lung-project/lib/python3.10/site-packages/nnunetv2/utilities/plans_handling/plans_handler.py:37: UserWarning: Detected old nnU-Net plans format. Attempting to reconstruct network architecture parameters. If this fails, rerun nnUNetv2_plan_experiment for your dataset. If you use a custom architecture, please downgrade nnU-Net to the version you implemented this or update your implementation + plans.\n",
      "  warnings.warn(\"Detected old nnU-Net plans format. Attempting to reconstruct network architecture \"\n",
      "100%|██████████| 1/1 [00:00<00:00, 78.99it/s]\n"
     ]
    },
    {
     "name": "stdout",
     "output_type": "stream",
     "text": [
      "  Predicted in 7.26s\n",
      "Resampling...\n",
      "  cropping from (256, 256, 94) to (244, 166, 75)\n",
      "Resampling...\n",
      "  Resampled in 1.81s\n",
      "Predicting part 1 of 1 ...\n"
     ]
    },
    {
     "name": "stderr",
     "output_type": "stream",
     "text": [
      "100%|██████████| 8/8 [00:00<00:00, 32.43it/s]\n"
     ]
    },
    {
     "name": "stdout",
     "output_type": "stream",
     "text": [
      "  Predicted in 9.49s\n",
      "Resampling...\n",
      "Saving segmentations...\n"
     ]
    },
    {
     "data": {
      "application/vnd.jupyter.widget-view+json": {
       "model_id": "5df817436cd7489a86351b441309d084",
       "version_major": 2,
       "version_minor": 0
      },
      "text/plain": [
       "  0%|          | 0/5 [00:00<?, ?it/s]"
      ]
     },
     "metadata": {},
     "output_type": "display_data"
    },
    {
     "name": "stdout",
     "output_type": "stream",
     "text": [
      "  Saved in 3.99s\n",
      "\n",
      "If you use this tool please cite: https://pubs.rsna.org/doi/10.1148/ryai.230024\n",
      "\n",
      "Generating rough body segmentation...\n",
      "Resampling...\n",
      "  Resampled in 0.26s\n",
      "Predicting...\n"
     ]
    },
    {
     "name": "stderr",
     "output_type": "stream",
     "text": [
      "/ocean/projects/asc170022p/mtragoza/mambaforge/envs/lung-project/lib/python3.10/site-packages/nnunetv2/utilities/plans_handling/plans_handler.py:37: UserWarning: Detected old nnU-Net plans format. Attempting to reconstruct network architecture parameters. If this fails, rerun nnUNetv2_plan_experiment for your dataset. If you use a custom architecture, please downgrade nnU-Net to the version you implemented this or update your implementation + plans.\n",
      "  warnings.warn(\"Detected old nnU-Net plans format. Attempting to reconstruct network architecture \"\n",
      "100%|██████████| 1/1 [00:00<00:00,  2.51it/s]\n"
     ]
    },
    {
     "name": "stdout",
     "output_type": "stream",
     "text": [
      "  Predicted in 7.76s\n",
      "Resampling...\n",
      "  cropping from (256, 256, 94) to (244, 166, 75)\n",
      "Predicting...\n"
     ]
    },
    {
     "name": "stderr",
     "output_type": "stream",
     "text": [
      "100%|██████████| 75/75 [00:04<00:00, 17.69it/s]\n"
     ]
    },
    {
     "name": "stdout",
     "output_type": "stream",
     "text": [
      "  Predicted in 26.54s\n",
      "Saving segmentations...\n",
      "Creating lung_vessels.nii.gz\n",
      "Creating lung_trachea_bronchia.nii.gz"
     ]
    },
    {
     "data": {
      "application/vnd.jupyter.widget-view+json": {
       "model_id": "cb5af7e7c1804857b441752e1e5b980d",
       "version_major": 2,
       "version_minor": 0
      },
      "text/plain": [
       "  0%|          | 0/2 [00:00<?, ?it/s]"
      ]
     },
     "metadata": {},
     "output_type": "display_data"
    },
    {
     "name": "stdout",
     "output_type": "stream",
     "text": [
      "\n",
      "  Saved in 4.69s\n",
      "\n",
      "If you use this tool please cite: https://pubs.rsna.org/doi/10.1148/ryai.230024\n",
      "\n",
      "Resampling...\n",
      "  Resampled in 3.67s\n",
      "Predicting...\n"
     ]
    },
    {
     "name": "stderr",
     "output_type": "stream",
     "text": [
      "/ocean/projects/asc170022p/mtragoza/mambaforge/envs/lung-project/lib/python3.10/site-packages/nnunetv2/utilities/plans_handling/plans_handler.py:37: UserWarning: Detected old nnU-Net plans format. Attempting to reconstruct network architecture parameters. If this fails, rerun nnUNetv2_plan_experiment for your dataset. If you use a custom architecture, please downgrade nnU-Net to the version you implemented this or update your implementation + plans.\n",
      "  warnings.warn(\"Detected old nnU-Net plans format. Attempting to reconstruct network architecture \"\n",
      "100%|██████████| 27/27 [00:01<00:00, 21.16it/s]\n"
     ]
    },
    {
     "name": "stdout",
     "output_type": "stream",
     "text": [
      "  Predicted in 10.94s\n"
     ]
    },
    {
     "name": "stderr",
     "output_type": "stream",
     "text": [
      "100%|██████████| 1/1 [00:00<00:00,  5.30it/s]\n",
      "100%|██████████| 1/1 [00:00<00:00,  5.45it/s]\n"
     ]
    },
    {
     "name": "stdout",
     "output_type": "stream",
     "text": [
      "Resampling...\n",
      "Saving segmentations...\n",
      "Creating body_trunc.nii.gz\n"
     ]
    },
    {
     "data": {
      "application/vnd.jupyter.widget-view+json": {
       "model_id": "afa6bc17006e4082b57c5254bb3b3c37",
       "version_major": 2,
       "version_minor": 0
      },
      "text/plain": [
       "  0%|          | 0/2 [00:00<?, ?it/s]"
      ]
     },
     "metadata": {},
     "output_type": "display_data"
    },
    {
     "name": "stdout",
     "output_type": "stream",
     "text": [
      "Creating body_extremities.nii.gz\n",
      "  Saved in 0.36s\n",
      "Creating body.nii.gz\n",
      "Creating skin.nii.gz\n",
      "Segmenting Case6Pack phase 80\n",
      "\n",
      "If you use this tool please cite: https://pubs.rsna.org/doi/10.1148/ryai.230024\n",
      "\n",
      "Generating rough body segmentation...\n",
      "Resampling...\n",
      "  Resampled in 0.26s\n",
      "Predicting...\n"
     ]
    },
    {
     "name": "stderr",
     "output_type": "stream",
     "text": [
      "/ocean/projects/asc170022p/mtragoza/mambaforge/envs/lung-project/lib/python3.10/site-packages/nnunetv2/utilities/plans_handling/plans_handler.py:37: UserWarning: Detected old nnU-Net plans format. Attempting to reconstruct network architecture parameters. If this fails, rerun nnUNetv2_plan_experiment for your dataset. If you use a custom architecture, please downgrade nnU-Net to the version you implemented this or update your implementation + plans.\n",
      "  warnings.warn(\"Detected old nnU-Net plans format. Attempting to reconstruct network architecture \"\n",
      "100%|██████████| 1/1 [00:00<00:00, 94.80it/s]\n"
     ]
    },
    {
     "name": "stdout",
     "output_type": "stream",
     "text": [
      "  Predicted in 7.39s\n",
      "Resampling...\n",
      "  cropping from (256, 256, 94) to (249, 162, 80)\n",
      "Resampling...\n",
      "  Resampled in 1.92s\n",
      "Predicting part 1 of 1 ...\n"
     ]
    },
    {
     "name": "stderr",
     "output_type": "stream",
     "text": [
      "100%|██████████| 8/8 [00:00<00:00, 32.53it/s]\n"
     ]
    },
    {
     "name": "stdout",
     "output_type": "stream",
     "text": [
      "  Predicted in 9.66s\n",
      "Resampling...\n",
      "Saving segmentations...\n"
     ]
    },
    {
     "data": {
      "application/vnd.jupyter.widget-view+json": {
       "model_id": "b2e17bee760f438e85f598c428dcda74",
       "version_major": 2,
       "version_minor": 0
      },
      "text/plain": [
       "  0%|          | 0/5 [00:00<?, ?it/s]"
      ]
     },
     "metadata": {},
     "output_type": "display_data"
    },
    {
     "name": "stdout",
     "output_type": "stream",
     "text": [
      "  Saved in 0.58s\n",
      "\n",
      "If you use this tool please cite: https://pubs.rsna.org/doi/10.1148/ryai.230024\n",
      "\n",
      "Generating rough body segmentation...\n",
      "Resampling...\n",
      "  Resampled in 0.26s\n",
      "Predicting...\n"
     ]
    },
    {
     "name": "stderr",
     "output_type": "stream",
     "text": [
      "/ocean/projects/asc170022p/mtragoza/mambaforge/envs/lung-project/lib/python3.10/site-packages/nnunetv2/utilities/plans_handling/plans_handler.py:37: UserWarning: Detected old nnU-Net plans format. Attempting to reconstruct network architecture parameters. If this fails, rerun nnUNetv2_plan_experiment for your dataset. If you use a custom architecture, please downgrade nnU-Net to the version you implemented this or update your implementation + plans.\n",
      "  warnings.warn(\"Detected old nnU-Net plans format. Attempting to reconstruct network architecture \"\n",
      "100%|██████████| 1/1 [00:00<00:00, 66.61it/s]\n"
     ]
    },
    {
     "name": "stdout",
     "output_type": "stream",
     "text": [
      "  Predicted in 7.34s\n",
      "Resampling...\n",
      "  cropping from (256, 256, 94) to (249, 162, 80)\n",
      "Predicting...\n"
     ]
    },
    {
     "name": "stderr",
     "output_type": "stream",
     "text": [
      "100%|██████████| 80/80 [00:04<00:00, 17.62it/s]\n"
     ]
    },
    {
     "name": "stdout",
     "output_type": "stream",
     "text": [
      "  Predicted in 28.03s\n",
      "Saving segmentations...\n",
      "Creating lung_vessels.nii.gz\n",
      "Creating lung_trachea_bronchia.nii.gz\n"
     ]
    },
    {
     "data": {
      "application/vnd.jupyter.widget-view+json": {
       "model_id": "518b7bb33d8f482eb5c3646196a2ccd7",
       "version_major": 2,
       "version_minor": 0
      },
      "text/plain": [
       "  0%|          | 0/2 [00:00<?, ?it/s]"
      ]
     },
     "metadata": {},
     "output_type": "display_data"
    },
    {
     "name": "stdout",
     "output_type": "stream",
     "text": [
      "  Saved in 0.48s\n",
      "\n",
      "If you use this tool please cite: https://pubs.rsna.org/doi/10.1148/ryai.230024\n",
      "\n",
      "Resampling...\n",
      "  Resampled in 3.72s\n",
      "Predicting...\n"
     ]
    },
    {
     "name": "stderr",
     "output_type": "stream",
     "text": [
      "/ocean/projects/asc170022p/mtragoza/mambaforge/envs/lung-project/lib/python3.10/site-packages/nnunetv2/utilities/plans_handling/plans_handler.py:37: UserWarning: Detected old nnU-Net plans format. Attempting to reconstruct network architecture parameters. If this fails, rerun nnUNetv2_plan_experiment for your dataset. If you use a custom architecture, please downgrade nnU-Net to the version you implemented this or update your implementation + plans.\n",
      "  warnings.warn(\"Detected old nnU-Net plans format. Attempting to reconstruct network architecture \"\n",
      "100%|██████████| 27/27 [00:01<00:00, 21.23it/s]\n"
     ]
    },
    {
     "name": "stdout",
     "output_type": "stream",
     "text": [
      "  Predicted in 10.95s\n"
     ]
    },
    {
     "name": "stderr",
     "output_type": "stream",
     "text": [
      "100%|██████████| 1/1 [00:00<00:00,  5.33it/s]\n",
      "100%|██████████| 1/1 [00:00<00:00,  5.56it/s]\n"
     ]
    },
    {
     "name": "stdout",
     "output_type": "stream",
     "text": [
      "Resampling...\n",
      "Saving segmentations...\n",
      "Creating body_trunc.nii.gz\n"
     ]
    },
    {
     "data": {
      "application/vnd.jupyter.widget-view+json": {
       "model_id": "d0f3ce5376c6466bb40db307eb6c70e1",
       "version_major": 2,
       "version_minor": 0
      },
      "text/plain": [
       "  0%|          | 0/2 [00:00<?, ?it/s]"
      ]
     },
     "metadata": {},
     "output_type": "display_data"
    },
    {
     "name": "stdout",
     "output_type": "stream",
     "text": [
      "Creating body_extremities.nii.gz\n",
      "  Saved in 0.32s\n",
      "Creating body.nii.gz\n",
      "Creating skin.nii.gz\n",
      "Segmenting Case6Pack phase 90\n",
      "\n",
      "If you use this tool please cite: https://pubs.rsna.org/doi/10.1148/ryai.230024\n",
      "\n",
      "Generating rough body segmentation...\n",
      "Resampling...\n",
      "  Resampled in 0.26s\n",
      "Predicting...\n"
     ]
    },
    {
     "name": "stderr",
     "output_type": "stream",
     "text": [
      "/ocean/projects/asc170022p/mtragoza/mambaforge/envs/lung-project/lib/python3.10/site-packages/nnunetv2/utilities/plans_handling/plans_handler.py:37: UserWarning: Detected old nnU-Net plans format. Attempting to reconstruct network architecture parameters. If this fails, rerun nnUNetv2_plan_experiment for your dataset. If you use a custom architecture, please downgrade nnU-Net to the version you implemented this or update your implementation + plans.\n",
      "  warnings.warn(\"Detected old nnU-Net plans format. Attempting to reconstruct network architecture \"\n",
      "100%|██████████| 1/1 [00:00<00:00, 97.87it/s]\n"
     ]
    },
    {
     "name": "stdout",
     "output_type": "stream",
     "text": [
      "  Predicted in 7.37s\n",
      "Resampling...\n",
      "  cropping from (256, 256, 94) to (249, 171, 80)\n",
      "Resampling...\n",
      "  Resampled in 2.03s\n",
      "Predicting part 1 of 1 ...\n"
     ]
    },
    {
     "name": "stderr",
     "output_type": "stream",
     "text": [
      "100%|██████████| 8/8 [00:00<00:00, 32.01it/s]\n"
     ]
    },
    {
     "name": "stdout",
     "output_type": "stream",
     "text": [
      "  Predicted in 9.82s\n",
      "Resampling...\n",
      "Saving segmentations...\n"
     ]
    },
    {
     "data": {
      "application/vnd.jupyter.widget-view+json": {
       "model_id": "9d17b89058e74c5fb3e109ac14096785",
       "version_major": 2,
       "version_minor": 0
      },
      "text/plain": [
       "  0%|          | 0/5 [00:00<?, ?it/s]"
      ]
     },
     "metadata": {},
     "output_type": "display_data"
    },
    {
     "name": "stdout",
     "output_type": "stream",
     "text": [
      "  Saved in 0.57s\n",
      "\n",
      "If you use this tool please cite: https://pubs.rsna.org/doi/10.1148/ryai.230024\n",
      "\n",
      "Generating rough body segmentation...\n",
      "Resampling...\n",
      "  Resampled in 0.26s\n",
      "Predicting...\n"
     ]
    },
    {
     "name": "stderr",
     "output_type": "stream",
     "text": [
      "/ocean/projects/asc170022p/mtragoza/mambaforge/envs/lung-project/lib/python3.10/site-packages/nnunetv2/utilities/plans_handling/plans_handler.py:37: UserWarning: Detected old nnU-Net plans format. Attempting to reconstruct network architecture parameters. If this fails, rerun nnUNetv2_plan_experiment for your dataset. If you use a custom architecture, please downgrade nnU-Net to the version you implemented this or update your implementation + plans.\n",
      "  warnings.warn(\"Detected old nnU-Net plans format. Attempting to reconstruct network architecture \"\n",
      "100%|██████████| 1/1 [00:00<00:00, 79.73it/s]\n"
     ]
    },
    {
     "name": "stdout",
     "output_type": "stream",
     "text": [
      "  Predicted in 7.46s\n",
      "Resampling...\n",
      "  cropping from (256, 256, 94) to (249, 171, 80)\n",
      "Predicting...\n"
     ]
    },
    {
     "name": "stderr",
     "output_type": "stream",
     "text": [
      "100%|██████████| 100/100 [00:05<00:00, 17.43it/s]\n"
     ]
    },
    {
     "name": "stdout",
     "output_type": "stream",
     "text": [
      "  Predicted in 29.59s\n",
      "Saving segmentations...\n",
      "Creating lung_vessels.nii.gz\n",
      "Creating lung_trachea_bronchia.nii.gz\n"
     ]
    },
    {
     "data": {
      "application/vnd.jupyter.widget-view+json": {
       "model_id": "a88e52a617ca4a3ba20f2c2772b5f99e",
       "version_major": 2,
       "version_minor": 0
      },
      "text/plain": [
       "  0%|          | 0/2 [00:00<?, ?it/s]"
      ]
     },
     "metadata": {},
     "output_type": "display_data"
    },
    {
     "name": "stdout",
     "output_type": "stream",
     "text": [
      "  Saved in 0.52s\n",
      "\n",
      "If you use this tool please cite: https://pubs.rsna.org/doi/10.1148/ryai.230024\n",
      "\n",
      "Resampling...\n",
      "  Resampled in 3.69s\n",
      "Predicting...\n"
     ]
    },
    {
     "name": "stderr",
     "output_type": "stream",
     "text": [
      "/ocean/projects/asc170022p/mtragoza/mambaforge/envs/lung-project/lib/python3.10/site-packages/nnunetv2/utilities/plans_handling/plans_handler.py:37: UserWarning: Detected old nnU-Net plans format. Attempting to reconstruct network architecture parameters. If this fails, rerun nnUNetv2_plan_experiment for your dataset. If you use a custom architecture, please downgrade nnU-Net to the version you implemented this or update your implementation + plans.\n",
      "  warnings.warn(\"Detected old nnU-Net plans format. Attempting to reconstruct network architecture \"\n",
      "100%|██████████| 27/27 [00:01<00:00, 21.12it/s]\n"
     ]
    },
    {
     "name": "stdout",
     "output_type": "stream",
     "text": [
      "  Predicted in 10.87s\n"
     ]
    },
    {
     "name": "stderr",
     "output_type": "stream",
     "text": [
      "100%|██████████| 1/1 [00:00<00:00,  5.46it/s]\n",
      "100%|██████████| 1/1 [00:00<00:00,  5.50it/s]\n"
     ]
    },
    {
     "name": "stdout",
     "output_type": "stream",
     "text": [
      "Resampling...\n",
      "Saving segmentations...\n",
      "Creating body_trunc.nii.gz\n",
      "Creating body_extremities.nii.gz\n"
     ]
    },
    {
     "data": {
      "application/vnd.jupyter.widget-view+json": {
       "model_id": "c11534ff130b4df988a5f070933311e6",
       "version_major": 2,
       "version_minor": 0
      },
      "text/plain": [
       "  0%|          | 0/2 [00:00<?, ?it/s]"
      ]
     },
     "metadata": {},
     "output_type": "display_data"
    },
    {
     "name": "stdout",
     "output_type": "stream",
     "text": [
      "  Saved in 410.86s\n",
      "Creating body.nii.gz\n",
      "Creating skin.nii.gz\n",
      "Segmenting Case7Pack phase 0\n",
      "\n",
      "If you use this tool please cite: https://pubs.rsna.org/doi/10.1148/ryai.230024\n",
      "\n",
      "Generating rough body segmentation...\n",
      "Resampling...\n",
      "  Resampled in 0.28s\n",
      "Predicting...\n"
     ]
    },
    {
     "name": "stderr",
     "output_type": "stream",
     "text": [
      "/ocean/projects/asc170022p/mtragoza/mambaforge/envs/lung-project/lib/python3.10/site-packages/nnunetv2/utilities/plans_handling/plans_handler.py:37: UserWarning: Detected old nnU-Net plans format. Attempting to reconstruct network architecture parameters. If this fails, rerun nnUNetv2_plan_experiment for your dataset. If you use a custom architecture, please downgrade nnU-Net to the version you implemented this or update your implementation + plans.\n",
      "  warnings.warn(\"Detected old nnU-Net plans format. Attempting to reconstruct network architecture \"\n",
      "100%|██████████| 1/1 [00:00<00:00, 74.68it/s]\n"
     ]
    },
    {
     "name": "stdout",
     "output_type": "stream",
     "text": [
      "  Predicted in 7.99s\n",
      "Resampling...\n",
      "  cropping from (256, 256, 94) to (235, 162, 85)\n",
      "Resampling...\n",
      "  Resampled in 2.28s\n",
      "Predicting part 1 of 1 ...\n"
     ]
    },
    {
     "name": "stderr",
     "output_type": "stream",
     "text": [
      "100%|██████████| 8/8 [00:00<00:00, 31.90it/s]\n"
     ]
    },
    {
     "name": "stdout",
     "output_type": "stream",
     "text": [
      "  Predicted in 10.02s\n",
      "Resampling...\n",
      "Saving segmentations...\n"
     ]
    },
    {
     "data": {
      "application/vnd.jupyter.widget-view+json": {
       "model_id": "b447900f7f2144e3a198a70568351dce",
       "version_major": 2,
       "version_minor": 0
      },
      "text/plain": [
       "  0%|          | 0/5 [00:00<?, ?it/s]"
      ]
     },
     "metadata": {},
     "output_type": "display_data"
    },
    {
     "name": "stdout",
     "output_type": "stream",
     "text": [
      "  Saved in 30.89s\n",
      "\n",
      "If you use this tool please cite: https://pubs.rsna.org/doi/10.1148/ryai.230024\n",
      "\n",
      "Generating rough body segmentation...\n",
      "Resampling...\n",
      "  Resampled in 0.28s\n",
      "Predicting...\n"
     ]
    },
    {
     "name": "stderr",
     "output_type": "stream",
     "text": [
      "/ocean/projects/asc170022p/mtragoza/mambaforge/envs/lung-project/lib/python3.10/site-packages/nnunetv2/utilities/plans_handling/plans_handler.py:37: UserWarning: Detected old nnU-Net plans format. Attempting to reconstruct network architecture parameters. If this fails, rerun nnUNetv2_plan_experiment for your dataset. If you use a custom architecture, please downgrade nnU-Net to the version you implemented this or update your implementation + plans.\n",
      "  warnings.warn(\"Detected old nnU-Net plans format. Attempting to reconstruct network architecture \"\n",
      "100%|██████████| 1/1 [00:00<00:00, 102.39it/s]\n"
     ]
    },
    {
     "name": "stdout",
     "output_type": "stream",
     "text": [
      "  Predicted in 7.61s\n",
      "Resampling...\n",
      "  cropping from (256, 256, 94) to (235, 162, 85)\n",
      "Predicting...\n"
     ]
    },
    {
     "name": "stderr",
     "output_type": "stream",
     "text": [
      "100%|██████████| 100/100 [00:05<00:00, 17.48it/s]\n"
     ]
    },
    {
     "name": "stdout",
     "output_type": "stream",
     "text": [
      "  Predicted in 31.88s\n",
      "Saving segmentations...\n",
      "Creating lung_vessels.nii.gz\n",
      "\n",
      "Creating lung_trachea_bronchia.nii.gz"
     ]
    },
    {
     "data": {
      "application/vnd.jupyter.widget-view+json": {
       "model_id": "f04f1a55a9ed46e6ad407eae844c6800",
       "version_major": 2,
       "version_minor": 0
      },
      "text/plain": [
       "  0%|          | 0/2 [00:00<?, ?it/s]"
      ]
     },
     "metadata": {},
     "output_type": "display_data"
    },
    {
     "name": "stdout",
     "output_type": "stream",
     "text": [
      "  Saved in 0.53s\n",
      "\n",
      "If you use this tool please cite: https://pubs.rsna.org/doi/10.1148/ryai.230024\n",
      "\n",
      "Resampling...\n",
      "  Resampled in 4.39s\n",
      "Predicting...\n"
     ]
    },
    {
     "name": "stderr",
     "output_type": "stream",
     "text": [
      "/ocean/projects/asc170022p/mtragoza/mambaforge/envs/lung-project/lib/python3.10/site-packages/nnunetv2/utilities/plans_handling/plans_handler.py:37: UserWarning: Detected old nnU-Net plans format. Attempting to reconstruct network architecture parameters. If this fails, rerun nnUNetv2_plan_experiment for your dataset. If you use a custom architecture, please downgrade nnU-Net to the version you implemented this or update your implementation + plans.\n",
      "  warnings.warn(\"Detected old nnU-Net plans format. Attempting to reconstruct network architecture \"\n",
      "100%|██████████| 27/27 [00:01<00:00, 21.31it/s]\n"
     ]
    },
    {
     "name": "stdout",
     "output_type": "stream",
     "text": [
      "  Predicted in 11.32s\n"
     ]
    },
    {
     "name": "stderr",
     "output_type": "stream",
     "text": [
      "100%|██████████| 1/1 [00:00<00:00,  4.84it/s]\n",
      "100%|██████████| 1/1 [00:00<00:00,  4.71it/s]"
     ]
    },
    {
     "name": "stdout",
     "output_type": "stream",
     "text": [
      "Resampling...\n",
      "Saving segmentations...\n"
     ]
    },
    {
     "name": "stderr",
     "output_type": "stream",
     "text": [
      "\n"
     ]
    },
    {
     "name": "stdout",
     "output_type": "stream",
     "text": [
      "Creating body_trunc.nii.gz\n",
      "Creating body_extremities.nii.gz"
     ]
    },
    {
     "data": {
      "application/vnd.jupyter.widget-view+json": {
       "model_id": "9f4b38e4be5940bbba55a84c3b8dbf40",
       "version_major": 2,
       "version_minor": 0
      },
      "text/plain": [
       "  0%|          | 0/2 [00:00<?, ?it/s]"
      ]
     },
     "metadata": {},
     "output_type": "display_data"
    },
    {
     "name": "stdout",
     "output_type": "stream",
     "text": [
      "\n",
      "  Saved in 0.43s\n",
      "Creating body.nii.gz\n",
      "Creating skin.nii.gz\n",
      "Segmenting Case7Pack phase 10\n",
      "\n",
      "If you use this tool please cite: https://pubs.rsna.org/doi/10.1148/ryai.230024\n",
      "\n",
      "Generating rough body segmentation...\n",
      "Resampling...\n",
      "  Resampled in 0.27s\n",
      "Predicting...\n"
     ]
    },
    {
     "name": "stderr",
     "output_type": "stream",
     "text": [
      "/ocean/projects/asc170022p/mtragoza/mambaforge/envs/lung-project/lib/python3.10/site-packages/nnunetv2/utilities/plans_handling/plans_handler.py:37: UserWarning: Detected old nnU-Net plans format. Attempting to reconstruct network architecture parameters. If this fails, rerun nnUNetv2_plan_experiment for your dataset. If you use a custom architecture, please downgrade nnU-Net to the version you implemented this or update your implementation + plans.\n",
      "  warnings.warn(\"Detected old nnU-Net plans format. Attempting to reconstruct network architecture \"\n",
      "100%|██████████| 1/1 [00:00<00:00, 70.54it/s]\n"
     ]
    },
    {
     "name": "stdout",
     "output_type": "stream",
     "text": [
      "  Predicted in 7.62s\n",
      "Resampling...\n",
      "  cropping from (256, 256, 94) to (235, 162, 86)\n",
      "Resampling...\n",
      "  Resampled in 2.31s\n",
      "Predicting part 1 of 1 ...\n"
     ]
    },
    {
     "name": "stderr",
     "output_type": "stream",
     "text": [
      "100%|██████████| 8/8 [00:00<00:00, 32.87it/s]\n"
     ]
    },
    {
     "name": "stdout",
     "output_type": "stream",
     "text": [
      "  Predicted in 10.61s\n",
      "Resampling...\n",
      "Saving segmentations...\n"
     ]
    },
    {
     "data": {
      "application/vnd.jupyter.widget-view+json": {
       "model_id": "ed58ee058b094b2586f7282334437f53",
       "version_major": 2,
       "version_minor": 0
      },
      "text/plain": [
       "  0%|          | 0/5 [00:00<?, ?it/s]"
      ]
     },
     "metadata": {},
     "output_type": "display_data"
    },
    {
     "name": "stdout",
     "output_type": "stream",
     "text": [
      "  Saved in 0.58s\n",
      "\n",
      "If you use this tool please cite: https://pubs.rsna.org/doi/10.1148/ryai.230024\n",
      "\n",
      "Generating rough body segmentation...\n",
      "Resampling...\n",
      "  Resampled in 0.27s\n",
      "Predicting...\n"
     ]
    },
    {
     "name": "stderr",
     "output_type": "stream",
     "text": [
      "/ocean/projects/asc170022p/mtragoza/mambaforge/envs/lung-project/lib/python3.10/site-packages/nnunetv2/utilities/plans_handling/plans_handler.py:37: UserWarning: Detected old nnU-Net plans format. Attempting to reconstruct network architecture parameters. If this fails, rerun nnUNetv2_plan_experiment for your dataset. If you use a custom architecture, please downgrade nnU-Net to the version you implemented this or update your implementation + plans.\n",
      "  warnings.warn(\"Detected old nnU-Net plans format. Attempting to reconstruct network architecture \"\n",
      "100%|██████████| 1/1 [00:00<00:00, 75.62it/s]\n"
     ]
    },
    {
     "name": "stdout",
     "output_type": "stream",
     "text": [
      "  Predicted in 7.60s\n",
      "Resampling...\n",
      "  cropping from (256, 256, 94) to (235, 162, 86)\n",
      "Predicting...\n"
     ]
    },
    {
     "name": "stderr",
     "output_type": "stream",
     "text": [
      "100%|██████████| 100/100 [00:05<00:00, 17.47it/s]\n"
     ]
    },
    {
     "name": "stdout",
     "output_type": "stream",
     "text": [
      "  Predicted in 32.01s\n",
      "Saving segmentations...\n",
      "Creating lung_vessels.nii.gz\n",
      "Creating lung_trachea_bronchia.nii.gz\n"
     ]
    },
    {
     "data": {
      "application/vnd.jupyter.widget-view+json": {
       "model_id": "fee7f9c5640447e1b9009d0fcd27db26",
       "version_major": 2,
       "version_minor": 0
      },
      "text/plain": [
       "  0%|          | 0/2 [00:00<?, ?it/s]"
      ]
     },
     "metadata": {},
     "output_type": "display_data"
    },
    {
     "name": "stdout",
     "output_type": "stream",
     "text": [
      "  Saved in 0.49s\n",
      "\n",
      "If you use this tool please cite: https://pubs.rsna.org/doi/10.1148/ryai.230024\n",
      "\n",
      "Resampling...\n",
      "  Resampled in 4.36s\n",
      "Predicting...\n"
     ]
    },
    {
     "name": "stderr",
     "output_type": "stream",
     "text": [
      "/ocean/projects/asc170022p/mtragoza/mambaforge/envs/lung-project/lib/python3.10/site-packages/nnunetv2/utilities/plans_handling/plans_handler.py:37: UserWarning: Detected old nnU-Net plans format. Attempting to reconstruct network architecture parameters. If this fails, rerun nnUNetv2_plan_experiment for your dataset. If you use a custom architecture, please downgrade nnU-Net to the version you implemented this or update your implementation + plans.\n",
      "  warnings.warn(\"Detected old nnU-Net plans format. Attempting to reconstruct network architecture \"\n",
      "100%|██████████| 27/27 [00:01<00:00, 21.10it/s]\n"
     ]
    },
    {
     "name": "stdout",
     "output_type": "stream",
     "text": [
      "  Predicted in 11.36s\n"
     ]
    },
    {
     "name": "stderr",
     "output_type": "stream",
     "text": [
      "100%|██████████| 1/1 [00:00<00:00,  4.78it/s]\n",
      "100%|██████████| 1/1 [00:00<00:00,  4.51it/s]"
     ]
    },
    {
     "name": "stdout",
     "output_type": "stream",
     "text": [
      "Resampling...\n",
      "Saving segmentations...\n"
     ]
    },
    {
     "name": "stderr",
     "output_type": "stream",
     "text": [
      "\n"
     ]
    },
    {
     "name": "stdout",
     "output_type": "stream",
     "text": [
      "Creating body_trunc.nii.gz\n",
      "Creating body_extremities.nii.gz\n"
     ]
    },
    {
     "data": {
      "application/vnd.jupyter.widget-view+json": {
       "model_id": "c7dc3734ee634f0ab36bde8b4940dfbe",
       "version_major": 2,
       "version_minor": 0
      },
      "text/plain": [
       "  0%|          | 0/2 [00:00<?, ?it/s]"
      ]
     },
     "metadata": {},
     "output_type": "display_data"
    },
    {
     "name": "stdout",
     "output_type": "stream",
     "text": [
      "  Saved in 0.41s\n",
      "Creating body.nii.gz\n",
      "Creating skin.nii.gz\n",
      "Segmenting Case7Pack phase 20\n",
      "\n",
      "If you use this tool please cite: https://pubs.rsna.org/doi/10.1148/ryai.230024\n",
      "\n",
      "Generating rough body segmentation...\n",
      "Resampling...\n",
      "  Resampled in 0.27s\n",
      "Predicting...\n"
     ]
    },
    {
     "name": "stderr",
     "output_type": "stream",
     "text": [
      "/ocean/projects/asc170022p/mtragoza/mambaforge/envs/lung-project/lib/python3.10/site-packages/nnunetv2/utilities/plans_handling/plans_handler.py:37: UserWarning: Detected old nnU-Net plans format. Attempting to reconstruct network architecture parameters. If this fails, rerun nnUNetv2_plan_experiment for your dataset. If you use a custom architecture, please downgrade nnU-Net to the version you implemented this or update your implementation + plans.\n",
      "  warnings.warn(\"Detected old nnU-Net plans format. Attempting to reconstruct network architecture \"\n",
      "100%|██████████| 1/1 [00:00<00:00, 94.87it/s]\n"
     ]
    },
    {
     "name": "stdout",
     "output_type": "stream",
     "text": [
      "  Predicted in 7.59s\n",
      "Resampling...\n",
      "  cropping from (256, 256, 94) to (235, 158, 86)\n",
      "Resampling...\n",
      "  Resampled in 2.26s\n",
      "Predicting part 1 of 1 ...\n"
     ]
    },
    {
     "name": "stderr",
     "output_type": "stream",
     "text": [
      "100%|██████████| 8/8 [00:00<00:00, 32.38it/s]\n"
     ]
    },
    {
     "name": "stdout",
     "output_type": "stream",
     "text": [
      "  Predicted in 10.31s\n",
      "Resampling...\n",
      "Saving segmentations...\n"
     ]
    },
    {
     "data": {
      "application/vnd.jupyter.widget-view+json": {
       "model_id": "022512ffca68480ab25655d520e16587",
       "version_major": 2,
       "version_minor": 0
      },
      "text/plain": [
       "  0%|          | 0/5 [00:00<?, ?it/s]"
      ]
     },
     "metadata": {},
     "output_type": "display_data"
    },
    {
     "name": "stdout",
     "output_type": "stream",
     "text": [
      "  Saved in 0.58s\n",
      "\n",
      "If you use this tool please cite: https://pubs.rsna.org/doi/10.1148/ryai.230024\n",
      "\n",
      "Generating rough body segmentation...\n",
      "Resampling...\n",
      "  Resampled in 0.28s\n",
      "Predicting...\n"
     ]
    },
    {
     "name": "stderr",
     "output_type": "stream",
     "text": [
      "/ocean/projects/asc170022p/mtragoza/mambaforge/envs/lung-project/lib/python3.10/site-packages/nnunetv2/utilities/plans_handling/plans_handler.py:37: UserWarning: Detected old nnU-Net plans format. Attempting to reconstruct network architecture parameters. If this fails, rerun nnUNetv2_plan_experiment for your dataset. If you use a custom architecture, please downgrade nnU-Net to the version you implemented this or update your implementation + plans.\n",
      "  warnings.warn(\"Detected old nnU-Net plans format. Attempting to reconstruct network architecture \"\n",
      "100%|██████████| 1/1 [00:00<00:00, 85.43it/s]\n"
     ]
    },
    {
     "name": "stdout",
     "output_type": "stream",
     "text": [
      "  Predicted in 7.61s\n",
      "Resampling...\n",
      "  cropping from (256, 256, 94) to (235, 158, 86)\n",
      "Predicting...\n"
     ]
    },
    {
     "name": "stderr",
     "output_type": "stream",
     "text": [
      "100%|██████████| 100/100 [00:05<00:00, 17.49it/s]\n"
     ]
    },
    {
     "name": "stdout",
     "output_type": "stream",
     "text": [
      "  Predicted in 31.49s\n",
      "Saving segmentations...\n",
      "Creating lung_vessels.nii.gz\n",
      "Creating lung_trachea_bronchia.nii.gz"
     ]
    },
    {
     "data": {
      "application/vnd.jupyter.widget-view+json": {
       "model_id": "8931adf17cd44563948f8b1473c391ef",
       "version_major": 2,
       "version_minor": 0
      },
      "text/plain": [
       "  0%|          | 0/2 [00:00<?, ?it/s]"
      ]
     },
     "metadata": {},
     "output_type": "display_data"
    },
    {
     "name": "stdout",
     "output_type": "stream",
     "text": [
      "\n",
      "  Saved in 0.52s\n",
      "\n",
      "If you use this tool please cite: https://pubs.rsna.org/doi/10.1148/ryai.230024\n",
      "\n",
      "Resampling...\n",
      "  Resampled in 4.33s\n",
      "Predicting...\n"
     ]
    },
    {
     "name": "stderr",
     "output_type": "stream",
     "text": [
      "/ocean/projects/asc170022p/mtragoza/mambaforge/envs/lung-project/lib/python3.10/site-packages/nnunetv2/utilities/plans_handling/plans_handler.py:37: UserWarning: Detected old nnU-Net plans format. Attempting to reconstruct network architecture parameters. If this fails, rerun nnUNetv2_plan_experiment for your dataset. If you use a custom architecture, please downgrade nnU-Net to the version you implemented this or update your implementation + plans.\n",
      "  warnings.warn(\"Detected old nnU-Net plans format. Attempting to reconstruct network architecture \"\n",
      "100%|██████████| 27/27 [00:01<00:00, 21.23it/s]\n"
     ]
    },
    {
     "name": "stdout",
     "output_type": "stream",
     "text": [
      "  Predicted in 11.23s\n"
     ]
    },
    {
     "name": "stderr",
     "output_type": "stream",
     "text": [
      "100%|██████████| 1/1 [00:00<00:00,  4.83it/s]\n",
      "100%|██████████| 1/1 [00:00<00:00,  4.57it/s]"
     ]
    },
    {
     "name": "stdout",
     "output_type": "stream",
     "text": [
      "Resampling...\n",
      "Saving segmentations...\n"
     ]
    },
    {
     "name": "stderr",
     "output_type": "stream",
     "text": [
      "\n"
     ]
    },
    {
     "name": "stdout",
     "output_type": "stream",
     "text": [
      "Creating body_trunc.nii.gz\n",
      "Creating body_extremities.nii.gz\n"
     ]
    },
    {
     "data": {
      "application/vnd.jupyter.widget-view+json": {
       "model_id": "6bead7b81d0841df898f4c0283947040",
       "version_major": 2,
       "version_minor": 0
      },
      "text/plain": [
       "  0%|          | 0/2 [00:00<?, ?it/s]"
      ]
     },
     "metadata": {},
     "output_type": "display_data"
    },
    {
     "name": "stdout",
     "output_type": "stream",
     "text": [
      "  Saved in 0.40s\n",
      "Creating body.nii.gz\n",
      "Creating skin.nii.gz\n",
      "Segmenting Case7Pack phase 30\n",
      "\n",
      "If you use this tool please cite: https://pubs.rsna.org/doi/10.1148/ryai.230024\n",
      "\n",
      "Generating rough body segmentation...\n",
      "Resampling...\n",
      "  Resampled in 0.27s\n",
      "Predicting...\n"
     ]
    },
    {
     "name": "stderr",
     "output_type": "stream",
     "text": [
      "/ocean/projects/asc170022p/mtragoza/mambaforge/envs/lung-project/lib/python3.10/site-packages/nnunetv2/utilities/plans_handling/plans_handler.py:37: UserWarning: Detected old nnU-Net plans format. Attempting to reconstruct network architecture parameters. If this fails, rerun nnUNetv2_plan_experiment for your dataset. If you use a custom architecture, please downgrade nnU-Net to the version you implemented this or update your implementation + plans.\n",
      "  warnings.warn(\"Detected old nnU-Net plans format. Attempting to reconstruct network architecture \"\n",
      "100%|██████████| 1/1 [00:00<00:00, 90.17it/s]\n"
     ]
    },
    {
     "name": "stdout",
     "output_type": "stream",
     "text": [
      "  Predicted in 7.49s\n",
      "Resampling...\n",
      "  cropping from (256, 256, 94) to (235, 158, 85)\n",
      "Resampling...\n",
      "  Resampled in 2.24s\n",
      "Predicting part 1 of 1 ...\n"
     ]
    },
    {
     "name": "stderr",
     "output_type": "stream",
     "text": [
      "100%|██████████| 8/8 [00:00<00:00, 33.32it/s]\n"
     ]
    },
    {
     "name": "stdout",
     "output_type": "stream",
     "text": [
      "  Predicted in 9.92s\n",
      "Resampling...\n",
      "Saving segmentations...\n"
     ]
    },
    {
     "data": {
      "application/vnd.jupyter.widget-view+json": {
       "model_id": "7ce58966c79845ae850c4a1d0b775646",
       "version_major": 2,
       "version_minor": 0
      },
      "text/plain": [
       "  0%|          | 0/5 [00:00<?, ?it/s]"
      ]
     },
     "metadata": {},
     "output_type": "display_data"
    },
    {
     "name": "stdout",
     "output_type": "stream",
     "text": [
      "  Saved in 0.64s\n",
      "\n",
      "If you use this tool please cite: https://pubs.rsna.org/doi/10.1148/ryai.230024\n",
      "\n",
      "Generating rough body segmentation...\n",
      "Resampling...\n",
      "  Resampled in 0.28s\n",
      "Predicting...\n"
     ]
    },
    {
     "name": "stderr",
     "output_type": "stream",
     "text": [
      "/ocean/projects/asc170022p/mtragoza/mambaforge/envs/lung-project/lib/python3.10/site-packages/nnunetv2/utilities/plans_handling/plans_handler.py:37: UserWarning: Detected old nnU-Net plans format. Attempting to reconstruct network architecture parameters. If this fails, rerun nnUNetv2_plan_experiment for your dataset. If you use a custom architecture, please downgrade nnU-Net to the version you implemented this or update your implementation + plans.\n",
      "  warnings.warn(\"Detected old nnU-Net plans format. Attempting to reconstruct network architecture \"\n",
      "100%|██████████| 1/1 [00:00<00:00, 92.26it/s]\n"
     ]
    },
    {
     "name": "stdout",
     "output_type": "stream",
     "text": [
      "  Predicted in 7.41s\n",
      "Resampling...\n",
      "  cropping from (256, 256, 94) to (235, 158, 85)\n",
      "Predicting...\n"
     ]
    },
    {
     "name": "stderr",
     "output_type": "stream",
     "text": [
      "100%|██████████| 100/100 [00:05<00:00, 17.48it/s]\n"
     ]
    },
    {
     "name": "stdout",
     "output_type": "stream",
     "text": [
      "  Predicted in 31.43s\n",
      "Saving segmentations...\n",
      "Creating lung_vessels.nii.gz\n",
      "Creating lung_trachea_bronchia.nii.gz"
     ]
    },
    {
     "data": {
      "application/vnd.jupyter.widget-view+json": {
       "model_id": "a82623f544444ec792a6eb43b7fcc240",
       "version_major": 2,
       "version_minor": 0
      },
      "text/plain": [
       "  0%|          | 0/2 [00:00<?, ?it/s]"
      ]
     },
     "metadata": {},
     "output_type": "display_data"
    },
    {
     "name": "stdout",
     "output_type": "stream",
     "text": [
      "\n",
      "  Saved in 0.60s\n",
      "\n",
      "If you use this tool please cite: https://pubs.rsna.org/doi/10.1148/ryai.230024\n",
      "\n",
      "Resampling...\n",
      "  Resampled in 4.40s\n",
      "Predicting...\n"
     ]
    },
    {
     "name": "stderr",
     "output_type": "stream",
     "text": [
      "/ocean/projects/asc170022p/mtragoza/mambaforge/envs/lung-project/lib/python3.10/site-packages/nnunetv2/utilities/plans_handling/plans_handler.py:37: UserWarning: Detected old nnU-Net plans format. Attempting to reconstruct network architecture parameters. If this fails, rerun nnUNetv2_plan_experiment for your dataset. If you use a custom architecture, please downgrade nnU-Net to the version you implemented this or update your implementation + plans.\n",
      "  warnings.warn(\"Detected old nnU-Net plans format. Attempting to reconstruct network architecture \"\n",
      "100%|██████████| 27/27 [00:01<00:00, 21.18it/s]\n"
     ]
    },
    {
     "name": "stdout",
     "output_type": "stream",
     "text": [
      "  Predicted in 11.25s\n"
     ]
    },
    {
     "name": "stderr",
     "output_type": "stream",
     "text": [
      "100%|██████████| 1/1 [00:00<00:00,  4.58it/s]\n",
      "100%|██████████| 1/1 [00:00<00:00,  4.55it/s]"
     ]
    },
    {
     "name": "stdout",
     "output_type": "stream",
     "text": [
      "Resampling...\n",
      "Saving segmentations...\n"
     ]
    },
    {
     "name": "stderr",
     "output_type": "stream",
     "text": [
      "\n"
     ]
    },
    {
     "name": "stdout",
     "output_type": "stream",
     "text": [
      "Creating body_trunc.nii.gz\n",
      "Creating body_extremities.nii.gz"
     ]
    },
    {
     "data": {
      "application/vnd.jupyter.widget-view+json": {
       "model_id": "16d2289941054cc3ba4d777715ebc656",
       "version_major": 2,
       "version_minor": 0
      },
      "text/plain": [
       "  0%|          | 0/2 [00:00<?, ?it/s]"
      ]
     },
     "metadata": {},
     "output_type": "display_data"
    },
    {
     "name": "stdout",
     "output_type": "stream",
     "text": [
      "\n",
      "  Saved in 0.38s\n",
      "Creating body.nii.gz\n",
      "Creating skin.nii.gz\n",
      "Segmenting Case7Pack phase 40\n",
      "\n",
      "If you use this tool please cite: https://pubs.rsna.org/doi/10.1148/ryai.230024\n",
      "\n",
      "Generating rough body segmentation...\n",
      "Resampling...\n",
      "  Resampled in 0.28s\n",
      "Predicting...\n"
     ]
    },
    {
     "name": "stderr",
     "output_type": "stream",
     "text": [
      "/ocean/projects/asc170022p/mtragoza/mambaforge/envs/lung-project/lib/python3.10/site-packages/nnunetv2/utilities/plans_handling/plans_handler.py:37: UserWarning: Detected old nnU-Net plans format. Attempting to reconstruct network architecture parameters. If this fails, rerun nnUNetv2_plan_experiment for your dataset. If you use a custom architecture, please downgrade nnU-Net to the version you implemented this or update your implementation + plans.\n",
      "  warnings.warn(\"Detected old nnU-Net plans format. Attempting to reconstruct network architecture \"\n",
      "100%|██████████| 1/1 [00:00<00:00, 94.01it/s]\n"
     ]
    },
    {
     "name": "stdout",
     "output_type": "stream",
     "text": [
      "  Predicted in 7.49s\n",
      "Resampling...\n",
      "  cropping from (256, 256, 94) to (235, 158, 86)\n",
      "Resampling...\n",
      "  Resampled in 2.24s\n",
      "Predicting part 1 of 1 ...\n"
     ]
    },
    {
     "name": "stderr",
     "output_type": "stream",
     "text": [
      "100%|██████████| 8/8 [00:00<00:00, 32.10it/s]\n"
     ]
    },
    {
     "name": "stdout",
     "output_type": "stream",
     "text": [
      "  Predicted in 10.21s\n",
      "Resampling...\n",
      "Saving segmentations...\n"
     ]
    },
    {
     "data": {
      "application/vnd.jupyter.widget-view+json": {
       "model_id": "07dc14895ee04a04be567c3fdf2d1a95",
       "version_major": 2,
       "version_minor": 0
      },
      "text/plain": [
       "  0%|          | 0/5 [00:00<?, ?it/s]"
      ]
     },
     "metadata": {},
     "output_type": "display_data"
    },
    {
     "name": "stdout",
     "output_type": "stream",
     "text": [
      "  Saved in 0.58s\n",
      "\n",
      "If you use this tool please cite: https://pubs.rsna.org/doi/10.1148/ryai.230024\n",
      "\n",
      "Generating rough body segmentation...\n",
      "Resampling...\n",
      "  Resampled in 0.28s\n",
      "Predicting...\n"
     ]
    },
    {
     "name": "stderr",
     "output_type": "stream",
     "text": [
      "/ocean/projects/asc170022p/mtragoza/mambaforge/envs/lung-project/lib/python3.10/site-packages/nnunetv2/utilities/plans_handling/plans_handler.py:37: UserWarning: Detected old nnU-Net plans format. Attempting to reconstruct network architecture parameters. If this fails, rerun nnUNetv2_plan_experiment for your dataset. If you use a custom architecture, please downgrade nnU-Net to the version you implemented this or update your implementation + plans.\n",
      "  warnings.warn(\"Detected old nnU-Net plans format. Attempting to reconstruct network architecture \"\n",
      "100%|██████████| 1/1 [00:00<00:00, 103.52it/s]\n"
     ]
    },
    {
     "name": "stdout",
     "output_type": "stream",
     "text": [
      "  Predicted in 7.59s\n",
      "Resampling...\n",
      "  cropping from (256, 256, 94) to (235, 158, 86)\n",
      "Predicting...\n"
     ]
    },
    {
     "name": "stderr",
     "output_type": "stream",
     "text": [
      "100%|██████████| 100/100 [00:05<00:00, 17.49it/s]\n"
     ]
    },
    {
     "name": "stdout",
     "output_type": "stream",
     "text": [
      "  Predicted in 31.46s\n",
      "Saving segmentations...\n",
      "Creating lung_vessels.nii.gz\n",
      "\n",
      "Creating lung_trachea_bronchia.nii.gz"
     ]
    },
    {
     "data": {
      "application/vnd.jupyter.widget-view+json": {
       "model_id": "cf597d27f855433b88efab729ab96071",
       "version_major": 2,
       "version_minor": 0
      },
      "text/plain": [
       "  0%|          | 0/2 [00:00<?, ?it/s]"
      ]
     },
     "metadata": {},
     "output_type": "display_data"
    },
    {
     "name": "stdout",
     "output_type": "stream",
     "text": [
      "  Saved in 0.50s\n",
      "\n",
      "If you use this tool please cite: https://pubs.rsna.org/doi/10.1148/ryai.230024\n",
      "\n",
      "Resampling...\n",
      "  Resampled in 4.40s\n",
      "Predicting...\n"
     ]
    },
    {
     "name": "stderr",
     "output_type": "stream",
     "text": [
      "/ocean/projects/asc170022p/mtragoza/mambaforge/envs/lung-project/lib/python3.10/site-packages/nnunetv2/utilities/plans_handling/plans_handler.py:37: UserWarning: Detected old nnU-Net plans format. Attempting to reconstruct network architecture parameters. If this fails, rerun nnUNetv2_plan_experiment for your dataset. If you use a custom architecture, please downgrade nnU-Net to the version you implemented this or update your implementation + plans.\n",
      "  warnings.warn(\"Detected old nnU-Net plans format. Attempting to reconstruct network architecture \"\n",
      "100%|██████████| 27/27 [00:01<00:00, 21.10it/s]\n"
     ]
    },
    {
     "name": "stdout",
     "output_type": "stream",
     "text": [
      "  Predicted in 11.31s\n"
     ]
    },
    {
     "name": "stderr",
     "output_type": "stream",
     "text": [
      "100%|██████████| 1/1 [00:00<00:00,  4.54it/s]\n",
      "100%|██████████| 1/1 [00:00<00:00,  4.49it/s]"
     ]
    },
    {
     "name": "stdout",
     "output_type": "stream",
     "text": [
      "Resampling...\n",
      "Saving segmentations...\n"
     ]
    },
    {
     "name": "stderr",
     "output_type": "stream",
     "text": [
      "\n"
     ]
    },
    {
     "name": "stdout",
     "output_type": "stream",
     "text": [
      "Creating body_trunc.nii.gz\n",
      "Creating body_extremities.nii.gz\n"
     ]
    },
    {
     "data": {
      "application/vnd.jupyter.widget-view+json": {
       "model_id": "e78312f2435d4edaa5f956c9f1c17b4a",
       "version_major": 2,
       "version_minor": 0
      },
      "text/plain": [
       "  0%|          | 0/2 [00:00<?, ?it/s]"
      ]
     },
     "metadata": {},
     "output_type": "display_data"
    },
    {
     "name": "stdout",
     "output_type": "stream",
     "text": [
      "  Saved in 0.37s\n",
      "Creating body.nii.gz\n",
      "Creating skin.nii.gz\n",
      "Segmenting Case7Pack phase 50\n",
      "\n",
      "If you use this tool please cite: https://pubs.rsna.org/doi/10.1148/ryai.230024\n",
      "\n",
      "Generating rough body segmentation...\n",
      "Resampling...\n",
      "  Resampled in 0.28s\n",
      "Predicting...\n"
     ]
    },
    {
     "name": "stderr",
     "output_type": "stream",
     "text": [
      "/ocean/projects/asc170022p/mtragoza/mambaforge/envs/lung-project/lib/python3.10/site-packages/nnunetv2/utilities/plans_handling/plans_handler.py:37: UserWarning: Detected old nnU-Net plans format. Attempting to reconstruct network architecture parameters. If this fails, rerun nnUNetv2_plan_experiment for your dataset. If you use a custom architecture, please downgrade nnU-Net to the version you implemented this or update your implementation + plans.\n",
      "  warnings.warn(\"Detected old nnU-Net plans format. Attempting to reconstruct network architecture \"\n",
      "100%|██████████| 1/1 [00:00<00:00, 82.48it/s]\n"
     ]
    },
    {
     "name": "stdout",
     "output_type": "stream",
     "text": [
      "  Predicted in 7.52s\n",
      "Resampling...\n",
      "  cropping from (256, 256, 94) to (235, 158, 86)\n",
      "Resampling...\n",
      "  Resampled in 2.27s\n",
      "Predicting part 1 of 1 ...\n"
     ]
    },
    {
     "name": "stderr",
     "output_type": "stream",
     "text": [
      "100%|██████████| 8/8 [00:00<00:00, 32.31it/s]\n"
     ]
    },
    {
     "name": "stdout",
     "output_type": "stream",
     "text": [
      "  Predicted in 10.27s\n",
      "Resampling...\n",
      "Saving segmentations...\n"
     ]
    },
    {
     "data": {
      "application/vnd.jupyter.widget-view+json": {
       "model_id": "f7a09b5dbe684437826b1ef14d28c48b",
       "version_major": 2,
       "version_minor": 0
      },
      "text/plain": [
       "  0%|          | 0/5 [00:00<?, ?it/s]"
      ]
     },
     "metadata": {},
     "output_type": "display_data"
    },
    {
     "name": "stdout",
     "output_type": "stream",
     "text": [
      "  Saved in 0.69s\n",
      "\n",
      "If you use this tool please cite: https://pubs.rsna.org/doi/10.1148/ryai.230024\n",
      "\n",
      "Generating rough body segmentation...\n",
      "Resampling...\n",
      "  Resampled in 0.28s\n",
      "Predicting...\n"
     ]
    },
    {
     "name": "stderr",
     "output_type": "stream",
     "text": [
      "/ocean/projects/asc170022p/mtragoza/mambaforge/envs/lung-project/lib/python3.10/site-packages/nnunetv2/utilities/plans_handling/plans_handler.py:37: UserWarning: Detected old nnU-Net plans format. Attempting to reconstruct network architecture parameters. If this fails, rerun nnUNetv2_plan_experiment for your dataset. If you use a custom architecture, please downgrade nnU-Net to the version you implemented this or update your implementation + plans.\n",
      "  warnings.warn(\"Detected old nnU-Net plans format. Attempting to reconstruct network architecture \"\n",
      "100%|██████████| 1/1 [00:00<00:00, 109.61it/s]\n"
     ]
    },
    {
     "name": "stdout",
     "output_type": "stream",
     "text": [
      "  Predicted in 8.34s\n",
      "Resampling...\n",
      "  cropping from (256, 256, 94) to (235, 158, 86)\n",
      "Predicting...\n"
     ]
    },
    {
     "name": "stderr",
     "output_type": "stream",
     "text": [
      "100%|██████████| 100/100 [00:05<00:00, 17.47it/s]\n"
     ]
    },
    {
     "name": "stdout",
     "output_type": "stream",
     "text": [
      "  Predicted in 31.66s\n",
      "Saving segmentations...\n",
      "Creating lung_vessels.nii.gz\n",
      "Creating lung_trachea_bronchia.nii.gz\n"
     ]
    },
    {
     "data": {
      "application/vnd.jupyter.widget-view+json": {
       "model_id": "26e6b93a195644e2aafd00b5e23305cb",
       "version_major": 2,
       "version_minor": 0
      },
      "text/plain": [
       "  0%|          | 0/2 [00:00<?, ?it/s]"
      ]
     },
     "metadata": {},
     "output_type": "display_data"
    },
    {
     "name": "stdout",
     "output_type": "stream",
     "text": [
      "  Saved in 0.52s\n",
      "\n",
      "If you use this tool please cite: https://pubs.rsna.org/doi/10.1148/ryai.230024\n",
      "\n",
      "Resampling...\n",
      "  Resampled in 4.37s\n",
      "Predicting...\n"
     ]
    },
    {
     "name": "stderr",
     "output_type": "stream",
     "text": [
      "/ocean/projects/asc170022p/mtragoza/mambaforge/envs/lung-project/lib/python3.10/site-packages/nnunetv2/utilities/plans_handling/plans_handler.py:37: UserWarning: Detected old nnU-Net plans format. Attempting to reconstruct network architecture parameters. If this fails, rerun nnUNetv2_plan_experiment for your dataset. If you use a custom architecture, please downgrade nnU-Net to the version you implemented this or update your implementation + plans.\n",
      "  warnings.warn(\"Detected old nnU-Net plans format. Attempting to reconstruct network architecture \"\n",
      "100%|██████████| 27/27 [00:01<00:00, 21.26it/s]\n"
     ]
    },
    {
     "name": "stdout",
     "output_type": "stream",
     "text": [
      "  Predicted in 11.43s\n"
     ]
    },
    {
     "name": "stderr",
     "output_type": "stream",
     "text": [
      "100%|██████████| 1/1 [00:00<00:00,  4.19it/s]\n",
      "100%|██████████| 1/1 [00:00<00:00,  4.44it/s]"
     ]
    },
    {
     "name": "stdout",
     "output_type": "stream",
     "text": [
      "Resampling...\n",
      "Saving segmentations...\n"
     ]
    },
    {
     "name": "stderr",
     "output_type": "stream",
     "text": [
      "\n"
     ]
    },
    {
     "name": "stdout",
     "output_type": "stream",
     "text": [
      "Creating body_trunc.nii.gz\n",
      "Creating body_extremities.nii.gz"
     ]
    },
    {
     "data": {
      "application/vnd.jupyter.widget-view+json": {
       "model_id": "62039acf33ca43399666883a4ca0240d",
       "version_major": 2,
       "version_minor": 0
      },
      "text/plain": [
       "  0%|          | 0/2 [00:00<?, ?it/s]"
      ]
     },
     "metadata": {},
     "output_type": "display_data"
    },
    {
     "name": "stdout",
     "output_type": "stream",
     "text": [
      "\n",
      "  Saved in 0.39s\n",
      "Creating body.nii.gz\n",
      "Creating skin.nii.gz\n",
      "Segmenting Case7Pack phase 60\n",
      "\n",
      "If you use this tool please cite: https://pubs.rsna.org/doi/10.1148/ryai.230024\n",
      "\n",
      "Generating rough body segmentation...\n",
      "Resampling...\n",
      "  Resampled in 0.27s\n",
      "Predicting...\n"
     ]
    },
    {
     "name": "stderr",
     "output_type": "stream",
     "text": [
      "/ocean/projects/asc170022p/mtragoza/mambaforge/envs/lung-project/lib/python3.10/site-packages/nnunetv2/utilities/plans_handling/plans_handler.py:37: UserWarning: Detected old nnU-Net plans format. Attempting to reconstruct network architecture parameters. If this fails, rerun nnUNetv2_plan_experiment for your dataset. If you use a custom architecture, please downgrade nnU-Net to the version you implemented this or update your implementation + plans.\n",
      "  warnings.warn(\"Detected old nnU-Net plans format. Attempting to reconstruct network architecture \"\n",
      "100%|██████████| 1/1 [00:00<00:00, 76.66it/s]\n"
     ]
    },
    {
     "name": "stdout",
     "output_type": "stream",
     "text": [
      "  Predicted in 7.68s\n",
      "Resampling...\n",
      "  cropping from (256, 256, 94) to (235, 158, 71)\n",
      "Resampling...\n",
      "  Resampled in 1.89s\n",
      "Predicting part 1 of 1 ...\n"
     ]
    },
    {
     "name": "stderr",
     "output_type": "stream",
     "text": [
      "100%|██████████| 8/8 [00:00<00:00, 33.11it/s]\n"
     ]
    },
    {
     "name": "stdout",
     "output_type": "stream",
     "text": [
      "  Predicted in 9.65s\n",
      "Resampling...\n",
      "Saving segmentations...\n"
     ]
    },
    {
     "data": {
      "application/vnd.jupyter.widget-view+json": {
       "model_id": "efeff8440ec4440782aaf349ffbd8d70",
       "version_major": 2,
       "version_minor": 0
      },
      "text/plain": [
       "  0%|          | 0/5 [00:00<?, ?it/s]"
      ]
     },
     "metadata": {},
     "output_type": "display_data"
    },
    {
     "name": "stdout",
     "output_type": "stream",
     "text": [
      "  Saved in 0.59s\n",
      "\n",
      "If you use this tool please cite: https://pubs.rsna.org/doi/10.1148/ryai.230024\n",
      "\n",
      "Generating rough body segmentation...\n",
      "Resampling...\n",
      "  Resampled in 0.28s\n",
      "Predicting...\n"
     ]
    },
    {
     "name": "stderr",
     "output_type": "stream",
     "text": [
      "/ocean/projects/asc170022p/mtragoza/mambaforge/envs/lung-project/lib/python3.10/site-packages/nnunetv2/utilities/plans_handling/plans_handler.py:37: UserWarning: Detected old nnU-Net plans format. Attempting to reconstruct network architecture parameters. If this fails, rerun nnUNetv2_plan_experiment for your dataset. If you use a custom architecture, please downgrade nnU-Net to the version you implemented this or update your implementation + plans.\n",
      "  warnings.warn(\"Detected old nnU-Net plans format. Attempting to reconstruct network architecture \"\n",
      "100%|██████████| 1/1 [00:00<00:00, 95.17it/s]\n"
     ]
    },
    {
     "name": "stdout",
     "output_type": "stream",
     "text": [
      "  Predicted in 7.62s\n",
      "Resampling...\n",
      "  cropping from (256, 256, 94) to (235, 158, 71)\n",
      "Predicting...\n"
     ]
    },
    {
     "name": "stderr",
     "output_type": "stream",
     "text": [
      "100%|██████████| 100/100 [00:05<00:00, 17.45it/s]\n"
     ]
    },
    {
     "name": "stdout",
     "output_type": "stream",
     "text": [
      "  Predicted in 28.52s\n",
      "Saving segmentations...\n",
      "Creating lung_vessels.nii.gz\n",
      "Creating lung_trachea_bronchia.nii.gz\n"
     ]
    },
    {
     "data": {
      "application/vnd.jupyter.widget-view+json": {
       "model_id": "3cccbc75e9ae40829d0110e6f15bf873",
       "version_major": 2,
       "version_minor": 0
      },
      "text/plain": [
       "  0%|          | 0/2 [00:00<?, ?it/s]"
      ]
     },
     "metadata": {},
     "output_type": "display_data"
    },
    {
     "name": "stdout",
     "output_type": "stream",
     "text": [
      "  Saved in 0.51s\n",
      "\n",
      "If you use this tool please cite: https://pubs.rsna.org/doi/10.1148/ryai.230024\n",
      "\n",
      "Resampling...\n",
      "  Resampled in 4.36s\n",
      "Predicting...\n"
     ]
    },
    {
     "name": "stderr",
     "output_type": "stream",
     "text": [
      "/ocean/projects/asc170022p/mtragoza/mambaforge/envs/lung-project/lib/python3.10/site-packages/nnunetv2/utilities/plans_handling/plans_handler.py:37: UserWarning: Detected old nnU-Net plans format. Attempting to reconstruct network architecture parameters. If this fails, rerun nnUNetv2_plan_experiment for your dataset. If you use a custom architecture, please downgrade nnU-Net to the version you implemented this or update your implementation + plans.\n",
      "  warnings.warn(\"Detected old nnU-Net plans format. Attempting to reconstruct network architecture \"\n",
      "100%|██████████| 27/27 [00:01<00:00, 21.17it/s]\n"
     ]
    },
    {
     "name": "stdout",
     "output_type": "stream",
     "text": [
      "  Predicted in 11.22s\n"
     ]
    },
    {
     "name": "stderr",
     "output_type": "stream",
     "text": [
      "100%|██████████| 1/1 [00:00<00:00,  4.85it/s]\n",
      "100%|██████████| 1/1 [00:00<00:00,  4.62it/s]"
     ]
    },
    {
     "name": "stdout",
     "output_type": "stream",
     "text": [
      "Resampling...\n",
      "Saving segmentations...\n"
     ]
    },
    {
     "name": "stderr",
     "output_type": "stream",
     "text": [
      "\n"
     ]
    },
    {
     "name": "stdout",
     "output_type": "stream",
     "text": [
      "Creating body_trunc.nii.gz\n",
      "Creating body_extremities.nii.gz\n"
     ]
    },
    {
     "data": {
      "application/vnd.jupyter.widget-view+json": {
       "model_id": "d5d21cabca6d4f25b2c36b2f86a61fe9",
       "version_major": 2,
       "version_minor": 0
      },
      "text/plain": [
       "  0%|          | 0/2 [00:00<?, ?it/s]"
      ]
     },
     "metadata": {},
     "output_type": "display_data"
    },
    {
     "name": "stdout",
     "output_type": "stream",
     "text": [
      "  Saved in 0.39s\n",
      "Creating body.nii.gz\n",
      "Creating skin.nii.gz\n",
      "Segmenting Case7Pack phase 70\n",
      "\n",
      "If you use this tool please cite: https://pubs.rsna.org/doi/10.1148/ryai.230024\n",
      "\n",
      "Generating rough body segmentation...\n",
      "Resampling...\n",
      "  Resampled in 0.27s\n",
      "Predicting...\n"
     ]
    },
    {
     "name": "stderr",
     "output_type": "stream",
     "text": [
      "/ocean/projects/asc170022p/mtragoza/mambaforge/envs/lung-project/lib/python3.10/site-packages/nnunetv2/utilities/plans_handling/plans_handler.py:37: UserWarning: Detected old nnU-Net plans format. Attempting to reconstruct network architecture parameters. If this fails, rerun nnUNetv2_plan_experiment for your dataset. If you use a custom architecture, please downgrade nnU-Net to the version you implemented this or update your implementation + plans.\n",
      "  warnings.warn(\"Detected old nnU-Net plans format. Attempting to reconstruct network architecture \"\n",
      "100%|██████████| 1/1 [00:00<00:00, 78.94it/s]\n"
     ]
    },
    {
     "name": "stdout",
     "output_type": "stream",
     "text": [
      "  Predicted in 7.65s\n",
      "Resampling...\n",
      "  cropping from (256, 256, 94) to (235, 158, 86)\n",
      "Resampling...\n",
      "  Resampled in 2.24s\n",
      "Predicting part 1 of 1 ...\n"
     ]
    },
    {
     "name": "stderr",
     "output_type": "stream",
     "text": [
      "100%|██████████| 8/8 [00:00<00:00, 31.98it/s]\n"
     ]
    },
    {
     "name": "stdout",
     "output_type": "stream",
     "text": [
      "  Predicted in 10.15s\n",
      "Resampling...\n",
      "Saving segmentations...\n"
     ]
    },
    {
     "data": {
      "application/vnd.jupyter.widget-view+json": {
       "model_id": "285f16ab36fe45c8aaf9b638f8f04728",
       "version_major": 2,
       "version_minor": 0
      },
      "text/plain": [
       "  0%|          | 0/5 [00:00<?, ?it/s]"
      ]
     },
     "metadata": {},
     "output_type": "display_data"
    },
    {
     "name": "stdout",
     "output_type": "stream",
     "text": [
      "  Saved in 0.69s\n",
      "\n",
      "If you use this tool please cite: https://pubs.rsna.org/doi/10.1148/ryai.230024\n",
      "\n",
      "Generating rough body segmentation...\n",
      "Resampling...\n",
      "  Resampled in 0.28s\n",
      "Predicting...\n"
     ]
    },
    {
     "name": "stderr",
     "output_type": "stream",
     "text": [
      "/ocean/projects/asc170022p/mtragoza/mambaforge/envs/lung-project/lib/python3.10/site-packages/nnunetv2/utilities/plans_handling/plans_handler.py:37: UserWarning: Detected old nnU-Net plans format. Attempting to reconstruct network architecture parameters. If this fails, rerun nnUNetv2_plan_experiment for your dataset. If you use a custom architecture, please downgrade nnU-Net to the version you implemented this or update your implementation + plans.\n",
      "  warnings.warn(\"Detected old nnU-Net plans format. Attempting to reconstruct network architecture \"\n",
      "100%|██████████| 1/1 [00:00<00:00, 108.95it/s]\n"
     ]
    },
    {
     "name": "stdout",
     "output_type": "stream",
     "text": [
      "  Predicted in 7.53s\n",
      "Resampling...\n",
      "  cropping from (256, 256, 94) to (235, 158, 86)\n",
      "Predicting...\n"
     ]
    },
    {
     "name": "stderr",
     "output_type": "stream",
     "text": [
      "100%|██████████| 100/100 [00:05<00:00, 17.45it/s]\n"
     ]
    },
    {
     "name": "stdout",
     "output_type": "stream",
     "text": [
      "  Predicted in 31.53s\n",
      "Saving segmentations...\n",
      "Creating lung_vessels.nii.gz\n",
      "Creating lung_trachea_bronchia.nii.gz"
     ]
    },
    {
     "data": {
      "application/vnd.jupyter.widget-view+json": {
       "model_id": "eb04fa39e2b845d4861e03855cb62d56",
       "version_major": 2,
       "version_minor": 0
      },
      "text/plain": [
       "  0%|          | 0/2 [00:00<?, ?it/s]"
      ]
     },
     "metadata": {},
     "output_type": "display_data"
    },
    {
     "name": "stdout",
     "output_type": "stream",
     "text": [
      "\n",
      "  Saved in 0.53s\n",
      "\n",
      "If you use this tool please cite: https://pubs.rsna.org/doi/10.1148/ryai.230024\n",
      "\n",
      "Resampling...\n",
      "  Resampled in 4.39s\n",
      "Predicting...\n"
     ]
    },
    {
     "name": "stderr",
     "output_type": "stream",
     "text": [
      "/ocean/projects/asc170022p/mtragoza/mambaforge/envs/lung-project/lib/python3.10/site-packages/nnunetv2/utilities/plans_handling/plans_handler.py:37: UserWarning: Detected old nnU-Net plans format. Attempting to reconstruct network architecture parameters. If this fails, rerun nnUNetv2_plan_experiment for your dataset. If you use a custom architecture, please downgrade nnU-Net to the version you implemented this or update your implementation + plans.\n",
      "  warnings.warn(\"Detected old nnU-Net plans format. Attempting to reconstruct network architecture \"\n",
      "100%|██████████| 27/27 [00:01<00:00, 21.14it/s]\n"
     ]
    },
    {
     "name": "stdout",
     "output_type": "stream",
     "text": [
      "  Predicted in 11.11s\n"
     ]
    },
    {
     "name": "stderr",
     "output_type": "stream",
     "text": [
      "100%|██████████| 1/1 [00:00<00:00,  4.46it/s]\n",
      "100%|██████████| 1/1 [00:00<00:00,  4.59it/s]"
     ]
    },
    {
     "name": "stdout",
     "output_type": "stream",
     "text": [
      "Resampling...\n",
      "Saving segmentations...\n"
     ]
    },
    {
     "name": "stderr",
     "output_type": "stream",
     "text": [
      "\n"
     ]
    },
    {
     "name": "stdout",
     "output_type": "stream",
     "text": [
      "Creating body_trunc.nii.gz\n",
      "Creating body_extremities.nii.gz\n"
     ]
    },
    {
     "data": {
      "application/vnd.jupyter.widget-view+json": {
       "model_id": "c0e06bdefe4341d2817d2d2242d900d4",
       "version_major": 2,
       "version_minor": 0
      },
      "text/plain": [
       "  0%|          | 0/2 [00:00<?, ?it/s]"
      ]
     },
     "metadata": {},
     "output_type": "display_data"
    },
    {
     "name": "stdout",
     "output_type": "stream",
     "text": [
      "  Saved in 0.56s\n",
      "Creating body.nii.gz\n",
      "Creating skin.nii.gz\n",
      "Segmenting Case7Pack phase 80\n",
      "\n",
      "If you use this tool please cite: https://pubs.rsna.org/doi/10.1148/ryai.230024\n",
      "\n",
      "Generating rough body segmentation...\n",
      "Resampling...\n",
      "  Resampled in 0.29s\n",
      "Predicting...\n"
     ]
    },
    {
     "name": "stderr",
     "output_type": "stream",
     "text": [
      "/ocean/projects/asc170022p/mtragoza/mambaforge/envs/lung-project/lib/python3.10/site-packages/nnunetv2/utilities/plans_handling/plans_handler.py:37: UserWarning: Detected old nnU-Net plans format. Attempting to reconstruct network architecture parameters. If this fails, rerun nnUNetv2_plan_experiment for your dataset. If you use a custom architecture, please downgrade nnU-Net to the version you implemented this or update your implementation + plans.\n",
      "  warnings.warn(\"Detected old nnU-Net plans format. Attempting to reconstruct network architecture \"\n",
      "100%|██████████| 1/1 [00:00<00:00, 76.80it/s]\n"
     ]
    },
    {
     "name": "stdout",
     "output_type": "stream",
     "text": [
      "  Predicted in 7.54s\n",
      "Resampling...\n",
      "  cropping from (256, 256, 94) to (235, 158, 86)\n",
      "Resampling...\n",
      "  Resampled in 2.24s\n",
      "Predicting part 1 of 1 ...\n"
     ]
    },
    {
     "name": "stderr",
     "output_type": "stream",
     "text": [
      "100%|██████████| 8/8 [00:00<00:00, 32.20it/s]\n"
     ]
    },
    {
     "name": "stdout",
     "output_type": "stream",
     "text": [
      "  Predicted in 10.21s\n",
      "Resampling...\n",
      "Saving segmentations...\n"
     ]
    },
    {
     "data": {
      "application/vnd.jupyter.widget-view+json": {
       "model_id": "a8dcc17476ff45998c196b9fc818a195",
       "version_major": 2,
       "version_minor": 0
      },
      "text/plain": [
       "  0%|          | 0/5 [00:00<?, ?it/s]"
      ]
     },
     "metadata": {},
     "output_type": "display_data"
    },
    {
     "name": "stdout",
     "output_type": "stream",
     "text": [
      "  Saved in 0.70s\n",
      "\n",
      "If you use this tool please cite: https://pubs.rsna.org/doi/10.1148/ryai.230024\n",
      "\n",
      "Generating rough body segmentation...\n",
      "Resampling...\n",
      "  Resampled in 0.28s\n",
      "Predicting...\n"
     ]
    },
    {
     "name": "stderr",
     "output_type": "stream",
     "text": [
      "/ocean/projects/asc170022p/mtragoza/mambaforge/envs/lung-project/lib/python3.10/site-packages/nnunetv2/utilities/plans_handling/plans_handler.py:37: UserWarning: Detected old nnU-Net plans format. Attempting to reconstruct network architecture parameters. If this fails, rerun nnUNetv2_plan_experiment for your dataset. If you use a custom architecture, please downgrade nnU-Net to the version you implemented this or update your implementation + plans.\n",
      "  warnings.warn(\"Detected old nnU-Net plans format. Attempting to reconstruct network architecture \"\n",
      "100%|██████████| 1/1 [00:00<00:00, 84.79it/s]\n"
     ]
    },
    {
     "name": "stdout",
     "output_type": "stream",
     "text": [
      "  Predicted in 7.45s\n",
      "Resampling...\n",
      "  cropping from (256, 256, 94) to (235, 158, 86)\n",
      "Predicting...\n"
     ]
    },
    {
     "name": "stderr",
     "output_type": "stream",
     "text": [
      "100%|██████████| 100/100 [00:05<00:00, 17.47it/s]\n"
     ]
    },
    {
     "name": "stdout",
     "output_type": "stream",
     "text": [
      "  Predicted in 31.45s\n",
      "Saving segmentations...\n",
      "Creating lung_vessels.nii.gz\n",
      "Creating lung_trachea_bronchia.nii.gz\n"
     ]
    },
    {
     "data": {
      "application/vnd.jupyter.widget-view+json": {
       "model_id": "9665c6eec242481a96e119253288824b",
       "version_major": 2,
       "version_minor": 0
      },
      "text/plain": [
       "  0%|          | 0/2 [00:00<?, ?it/s]"
      ]
     },
     "metadata": {},
     "output_type": "display_data"
    },
    {
     "name": "stdout",
     "output_type": "stream",
     "text": [
      "  Saved in 0.52s\n",
      "\n",
      "If you use this tool please cite: https://pubs.rsna.org/doi/10.1148/ryai.230024\n",
      "\n",
      "Resampling...\n",
      "  Resampled in 4.35s\n",
      "Predicting...\n"
     ]
    },
    {
     "name": "stderr",
     "output_type": "stream",
     "text": [
      "/ocean/projects/asc170022p/mtragoza/mambaforge/envs/lung-project/lib/python3.10/site-packages/nnunetv2/utilities/plans_handling/plans_handler.py:37: UserWarning: Detected old nnU-Net plans format. Attempting to reconstruct network architecture parameters. If this fails, rerun nnUNetv2_plan_experiment for your dataset. If you use a custom architecture, please downgrade nnU-Net to the version you implemented this or update your implementation + plans.\n",
      "  warnings.warn(\"Detected old nnU-Net plans format. Attempting to reconstruct network architecture \"\n",
      "100%|██████████| 27/27 [00:01<00:00, 21.11it/s]\n"
     ]
    },
    {
     "name": "stdout",
     "output_type": "stream",
     "text": [
      "  Predicted in 11.36s\n"
     ]
    },
    {
     "name": "stderr",
     "output_type": "stream",
     "text": [
      "100%|██████████| 1/1 [00:00<00:00,  4.75it/s]\n",
      "100%|██████████| 1/1 [00:00<00:00,  4.44it/s]"
     ]
    },
    {
     "name": "stdout",
     "output_type": "stream",
     "text": [
      "Resampling...\n",
      "Saving segmentations...\n"
     ]
    },
    {
     "name": "stderr",
     "output_type": "stream",
     "text": [
      "\n"
     ]
    },
    {
     "name": "stdout",
     "output_type": "stream",
     "text": [
      "Creating body_trunc.nii.gz\n",
      "Creating body_extremities.nii.gz\n"
     ]
    },
    {
     "data": {
      "application/vnd.jupyter.widget-view+json": {
       "model_id": "1219bd0533b248f29251a8366e0c4957",
       "version_major": 2,
       "version_minor": 0
      },
      "text/plain": [
       "  0%|          | 0/2 [00:00<?, ?it/s]"
      ]
     },
     "metadata": {},
     "output_type": "display_data"
    },
    {
     "name": "stdout",
     "output_type": "stream",
     "text": [
      "  Saved in 0.43s\n",
      "Creating body.nii.gz\n",
      "Creating skin.nii.gz\n",
      "Segmenting Case7Pack phase 90\n",
      "\n",
      "If you use this tool please cite: https://pubs.rsna.org/doi/10.1148/ryai.230024\n",
      "\n",
      "Generating rough body segmentation...\n",
      "Resampling...\n",
      "  Resampled in 0.29s\n",
      "Predicting...\n"
     ]
    },
    {
     "name": "stderr",
     "output_type": "stream",
     "text": [
      "/ocean/projects/asc170022p/mtragoza/mambaforge/envs/lung-project/lib/python3.10/site-packages/nnunetv2/utilities/plans_handling/plans_handler.py:37: UserWarning: Detected old nnU-Net plans format. Attempting to reconstruct network architecture parameters. If this fails, rerun nnUNetv2_plan_experiment for your dataset. If you use a custom architecture, please downgrade nnU-Net to the version you implemented this or update your implementation + plans.\n",
      "  warnings.warn(\"Detected old nnU-Net plans format. Attempting to reconstruct network architecture \"\n",
      "100%|██████████| 1/1 [00:00<00:00, 101.42it/s]\n"
     ]
    },
    {
     "name": "stdout",
     "output_type": "stream",
     "text": [
      "  Predicted in 7.50s\n",
      "Resampling...\n",
      "  cropping from (256, 256, 94) to (235, 162, 86)\n",
      "Resampling...\n",
      "  Resampled in 2.30s\n",
      "Predicting part 1 of 1 ...\n"
     ]
    },
    {
     "name": "stderr",
     "output_type": "stream",
     "text": [
      "100%|██████████| 8/8 [00:00<00:00, 32.20it/s]\n"
     ]
    },
    {
     "name": "stdout",
     "output_type": "stream",
     "text": [
      "  Predicted in 10.46s\n",
      "Resampling...\n",
      "Saving segmentations...\n"
     ]
    },
    {
     "data": {
      "application/vnd.jupyter.widget-view+json": {
       "model_id": "7df9b40dee534c7db545ee79afa19172",
       "version_major": 2,
       "version_minor": 0
      },
      "text/plain": [
       "  0%|          | 0/5 [00:00<?, ?it/s]"
      ]
     },
     "metadata": {},
     "output_type": "display_data"
    },
    {
     "name": "stdout",
     "output_type": "stream",
     "text": [
      "  Saved in 0.60s\n",
      "\n",
      "If you use this tool please cite: https://pubs.rsna.org/doi/10.1148/ryai.230024\n",
      "\n",
      "Generating rough body segmentation...\n",
      "Resampling...\n",
      "  Resampled in 0.28s\n",
      "Predicting...\n"
     ]
    },
    {
     "name": "stderr",
     "output_type": "stream",
     "text": [
      "/ocean/projects/asc170022p/mtragoza/mambaforge/envs/lung-project/lib/python3.10/site-packages/nnunetv2/utilities/plans_handling/plans_handler.py:37: UserWarning: Detected old nnU-Net plans format. Attempting to reconstruct network architecture parameters. If this fails, rerun nnUNetv2_plan_experiment for your dataset. If you use a custom architecture, please downgrade nnU-Net to the version you implemented this or update your implementation + plans.\n",
      "  warnings.warn(\"Detected old nnU-Net plans format. Attempting to reconstruct network architecture \"\n",
      "100%|██████████| 1/1 [00:00<00:00, 93.11it/s]\n"
     ]
    },
    {
     "name": "stdout",
     "output_type": "stream",
     "text": [
      "  Predicted in 7.52s\n",
      "Resampling...\n",
      "  cropping from (256, 256, 94) to (235, 162, 86)\n",
      "Predicting...\n"
     ]
    },
    {
     "name": "stderr",
     "output_type": "stream",
     "text": [
      "100%|██████████| 100/100 [00:05<00:00, 17.46it/s]\n"
     ]
    },
    {
     "name": "stdout",
     "output_type": "stream",
     "text": [
      "  Predicted in 31.81s\n",
      "Saving segmentations...\n",
      "Creating lung_vessels.nii.gz\n",
      "Creating lung_trachea_bronchia.nii.gz\n"
     ]
    },
    {
     "data": {
      "application/vnd.jupyter.widget-view+json": {
       "model_id": "a6cf9bf5e2cd4e3d866edaa85694afcf",
       "version_major": 2,
       "version_minor": 0
      },
      "text/plain": [
       "  0%|          | 0/2 [00:00<?, ?it/s]"
      ]
     },
     "metadata": {},
     "output_type": "display_data"
    },
    {
     "name": "stdout",
     "output_type": "stream",
     "text": [
      "  Saved in 0.61s\n",
      "\n",
      "If you use this tool please cite: https://pubs.rsna.org/doi/10.1148/ryai.230024\n",
      "\n",
      "Resampling...\n",
      "  Resampled in 4.37s\n",
      "Predicting...\n"
     ]
    },
    {
     "name": "stderr",
     "output_type": "stream",
     "text": [
      "/ocean/projects/asc170022p/mtragoza/mambaforge/envs/lung-project/lib/python3.10/site-packages/nnunetv2/utilities/plans_handling/plans_handler.py:37: UserWarning: Detected old nnU-Net plans format. Attempting to reconstruct network architecture parameters. If this fails, rerun nnUNetv2_plan_experiment for your dataset. If you use a custom architecture, please downgrade nnU-Net to the version you implemented this or update your implementation + plans.\n",
      "  warnings.warn(\"Detected old nnU-Net plans format. Attempting to reconstruct network architecture \"\n",
      "100%|██████████| 27/27 [00:01<00:00, 21.11it/s]\n"
     ]
    },
    {
     "name": "stdout",
     "output_type": "stream",
     "text": [
      "  Predicted in 11.40s\n"
     ]
    },
    {
     "name": "stderr",
     "output_type": "stream",
     "text": [
      "100%|██████████| 1/1 [00:00<00:00,  4.59it/s]\n",
      "100%|██████████| 1/1 [00:00<00:00,  4.57it/s]"
     ]
    },
    {
     "name": "stdout",
     "output_type": "stream",
     "text": [
      "Resampling...\n",
      "Saving segmentations...\n"
     ]
    },
    {
     "name": "stderr",
     "output_type": "stream",
     "text": [
      "\n"
     ]
    },
    {
     "name": "stdout",
     "output_type": "stream",
     "text": [
      "Creating body_trunc.nii.gz\n",
      "Creating body_extremities.nii.gz\n"
     ]
    },
    {
     "data": {
      "application/vnd.jupyter.widget-view+json": {
       "model_id": "69974b66436f4a50979e810b21950c85",
       "version_major": 2,
       "version_minor": 0
      },
      "text/plain": [
       "  0%|          | 0/2 [00:00<?, ?it/s]"
      ]
     },
     "metadata": {},
     "output_type": "display_data"
    },
    {
     "name": "stdout",
     "output_type": "stream",
     "text": [
      "  Saved in 0.37s\n",
      "Creating body.nii.gz\n",
      "Creating skin.nii.gz\n",
      "Segmenting Case8Deploy phase 0\n",
      "\n",
      "If you use this tool please cite: https://pubs.rsna.org/doi/10.1148/ryai.230024\n",
      "\n",
      "Generating rough body segmentation...\n",
      "Resampling...\n",
      "  Resampled in 0.27s\n",
      "Predicting...\n"
     ]
    },
    {
     "name": "stderr",
     "output_type": "stream",
     "text": [
      "/ocean/projects/asc170022p/mtragoza/mambaforge/envs/lung-project/lib/python3.10/site-packages/nnunetv2/utilities/plans_handling/plans_handler.py:37: UserWarning: Detected old nnU-Net plans format. Attempting to reconstruct network architecture parameters. If this fails, rerun nnUNetv2_plan_experiment for your dataset. If you use a custom architecture, please downgrade nnU-Net to the version you implemented this or update your implementation + plans.\n",
      "  warnings.warn(\"Detected old nnU-Net plans format. Attempting to reconstruct network architecture \"\n",
      "100%|██████████| 1/1 [00:00<00:00, 89.03it/s]\n"
     ]
    },
    {
     "name": "stdout",
     "output_type": "stream",
     "text": [
      "  Predicted in 7.56s\n",
      "Resampling...\n",
      "  cropping from (256, 256, 94) to (240, 189, 82)\n",
      "Resampling...\n",
      "  Resampled in 2.19s\n",
      "Predicting part 1 of 1 ...\n"
     ]
    },
    {
     "name": "stderr",
     "output_type": "stream",
     "text": [
      "100%|██████████| 8/8 [00:00<00:00, 32.15it/s]\n"
     ]
    },
    {
     "name": "stdout",
     "output_type": "stream",
     "text": [
      "  Predicted in 10.22s\n",
      "Resampling...\n",
      "Saving segmentations...\n"
     ]
    },
    {
     "data": {
      "application/vnd.jupyter.widget-view+json": {
       "model_id": "0f52a9defeef41a9a4b567a39ba8d803",
       "version_major": 2,
       "version_minor": 0
      },
      "text/plain": [
       "  0%|          | 0/5 [00:00<?, ?it/s]"
      ]
     },
     "metadata": {},
     "output_type": "display_data"
    },
    {
     "name": "stdout",
     "output_type": "stream",
     "text": [
      "  Saved in 0.63s\n",
      "\n",
      "If you use this tool please cite: https://pubs.rsna.org/doi/10.1148/ryai.230024\n",
      "\n",
      "Generating rough body segmentation...\n",
      "Resampling...\n",
      "  Resampled in 0.27s\n",
      "Predicting...\n"
     ]
    },
    {
     "name": "stderr",
     "output_type": "stream",
     "text": [
      "/ocean/projects/asc170022p/mtragoza/mambaforge/envs/lung-project/lib/python3.10/site-packages/nnunetv2/utilities/plans_handling/plans_handler.py:37: UserWarning: Detected old nnU-Net plans format. Attempting to reconstruct network architecture parameters. If this fails, rerun nnUNetv2_plan_experiment for your dataset. If you use a custom architecture, please downgrade nnU-Net to the version you implemented this or update your implementation + plans.\n",
      "  warnings.warn(\"Detected old nnU-Net plans format. Attempting to reconstruct network architecture \"\n",
      "100%|██████████| 1/1 [00:00<00:00, 83.69it/s]\n"
     ]
    },
    {
     "name": "stdout",
     "output_type": "stream",
     "text": [
      "  Predicted in 7.29s\n",
      "Resampling...\n",
      "  cropping from (256, 256, 94) to (240, 189, 82)\n",
      "Predicting...\n"
     ]
    },
    {
     "name": "stderr",
     "output_type": "stream",
     "text": [
      "100%|██████████| 100/100 [00:05<00:00, 17.45it/s]\n"
     ]
    },
    {
     "name": "stdout",
     "output_type": "stream",
     "text": [
      "  Predicted in 31.31s\n",
      "Saving segmentations...\n",
      "Creating lung_vessels.nii.gz\n",
      "Creating lung_trachea_bronchia.nii.gz\n"
     ]
    },
    {
     "data": {
      "application/vnd.jupyter.widget-view+json": {
       "model_id": "59f702d850eb481ea5df72108bc44710",
       "version_major": 2,
       "version_minor": 0
      },
      "text/plain": [
       "  0%|          | 0/2 [00:00<?, ?it/s]"
      ]
     },
     "metadata": {},
     "output_type": "display_data"
    },
    {
     "name": "stdout",
     "output_type": "stream",
     "text": [
      "  Saved in 0.47s\n",
      "\n",
      "If you use this tool please cite: https://pubs.rsna.org/doi/10.1148/ryai.230024\n",
      "\n",
      "Resampling...\n",
      "  Resampled in 3.72s\n",
      "Predicting...\n"
     ]
    },
    {
     "name": "stderr",
     "output_type": "stream",
     "text": [
      "/ocean/projects/asc170022p/mtragoza/mambaforge/envs/lung-project/lib/python3.10/site-packages/nnunetv2/utilities/plans_handling/plans_handler.py:37: UserWarning: Detected old nnU-Net plans format. Attempting to reconstruct network architecture parameters. If this fails, rerun nnUNetv2_plan_experiment for your dataset. If you use a custom architecture, please downgrade nnU-Net to the version you implemented this or update your implementation + plans.\n",
      "  warnings.warn(\"Detected old nnU-Net plans format. Attempting to reconstruct network architecture \"\n",
      "100%|██████████| 27/27 [00:01<00:00, 21.10it/s]\n"
     ]
    },
    {
     "name": "stdout",
     "output_type": "stream",
     "text": [
      "  Predicted in 11.00s\n"
     ]
    },
    {
     "name": "stderr",
     "output_type": "stream",
     "text": [
      "100%|██████████| 1/1 [00:00<00:00,  5.17it/s]\n",
      "100%|██████████| 1/1 [00:00<00:00,  5.61it/s]\n"
     ]
    },
    {
     "name": "stdout",
     "output_type": "stream",
     "text": [
      "Resampling...\n",
      "Saving segmentations...\n",
      "Creating body_trunc.nii.gz\n",
      "Creating body_extremities.nii.gz\n"
     ]
    },
    {
     "data": {
      "application/vnd.jupyter.widget-view+json": {
       "model_id": "ad2758b3e6004586b45e4db023501d24",
       "version_major": 2,
       "version_minor": 0
      },
      "text/plain": [
       "  0%|          | 0/2 [00:00<?, ?it/s]"
      ]
     },
     "metadata": {},
     "output_type": "display_data"
    },
    {
     "name": "stdout",
     "output_type": "stream",
     "text": [
      "  Saved in 0.39s\n",
      "Creating body.nii.gz\n",
      "Creating skin.nii.gz\n",
      "Segmenting Case8Deploy phase 10\n",
      "\n",
      "If you use this tool please cite: https://pubs.rsna.org/doi/10.1148/ryai.230024\n",
      "\n",
      "Generating rough body segmentation...\n",
      "Resampling...\n",
      "  Resampled in 0.27s\n",
      "Predicting...\n"
     ]
    },
    {
     "name": "stderr",
     "output_type": "stream",
     "text": [
      "/ocean/projects/asc170022p/mtragoza/mambaforge/envs/lung-project/lib/python3.10/site-packages/nnunetv2/utilities/plans_handling/plans_handler.py:37: UserWarning: Detected old nnU-Net plans format. Attempting to reconstruct network architecture parameters. If this fails, rerun nnUNetv2_plan_experiment for your dataset. If you use a custom architecture, please downgrade nnU-Net to the version you implemented this or update your implementation + plans.\n",
      "  warnings.warn(\"Detected old nnU-Net plans format. Attempting to reconstruct network architecture \"\n",
      "100%|██████████| 1/1 [00:00<00:00, 95.58it/s]\n"
     ]
    },
    {
     "name": "stdout",
     "output_type": "stream",
     "text": [
      "  Predicted in 7.51s\n",
      "Resampling...\n",
      "  cropping from (256, 256, 94) to (235, 189, 82)\n",
      "Resampling...\n",
      "  Resampled in 2.15s\n",
      "Predicting part 1 of 1 ...\n"
     ]
    },
    {
     "name": "stderr",
     "output_type": "stream",
     "text": [
      "100%|██████████| 8/8 [00:00<00:00, 32.42it/s]\n"
     ]
    },
    {
     "name": "stdout",
     "output_type": "stream",
     "text": [
      "  Predicted in 10.04s\n",
      "Resampling...\n",
      "Saving segmentations...\n"
     ]
    },
    {
     "data": {
      "application/vnd.jupyter.widget-view+json": {
       "model_id": "e3d7e3eaa93e483599903b1f9ec99f95",
       "version_major": 2,
       "version_minor": 0
      },
      "text/plain": [
       "  0%|          | 0/5 [00:00<?, ?it/s]"
      ]
     },
     "metadata": {},
     "output_type": "display_data"
    },
    {
     "name": "stdout",
     "output_type": "stream",
     "text": [
      "  Saved in 2.64s\n",
      "\n",
      "If you use this tool please cite: https://pubs.rsna.org/doi/10.1148/ryai.230024\n",
      "\n",
      "Generating rough body segmentation...\n",
      "Resampling...\n",
      "  Resampled in 0.27s\n",
      "Predicting...\n"
     ]
    },
    {
     "name": "stderr",
     "output_type": "stream",
     "text": [
      "/ocean/projects/asc170022p/mtragoza/mambaforge/envs/lung-project/lib/python3.10/site-packages/nnunetv2/utilities/plans_handling/plans_handler.py:37: UserWarning: Detected old nnU-Net plans format. Attempting to reconstruct network architecture parameters. If this fails, rerun nnUNetv2_plan_experiment for your dataset. If you use a custom architecture, please downgrade nnU-Net to the version you implemented this or update your implementation + plans.\n",
      "  warnings.warn(\"Detected old nnU-Net plans format. Attempting to reconstruct network architecture \"\n",
      "100%|██████████| 1/1 [00:00<00:00, 78.62it/s]\n"
     ]
    },
    {
     "name": "stdout",
     "output_type": "stream",
     "text": [
      "  Predicted in 7.51s\n",
      "Resampling...\n",
      "  cropping from (256, 256, 94) to (235, 189, 82)\n",
      "Predicting...\n"
     ]
    },
    {
     "name": "stderr",
     "output_type": "stream",
     "text": [
      "100%|██████████| 100/100 [00:05<00:00, 17.45it/s]\n"
     ]
    },
    {
     "name": "stdout",
     "output_type": "stream",
     "text": [
      "  Predicted in 30.88s\n",
      "Saving segmentations...\n",
      "Creating lung_vessels.nii.gz\n",
      "Creating lung_trachea_bronchia.nii.gz\n"
     ]
    },
    {
     "data": {
      "application/vnd.jupyter.widget-view+json": {
       "model_id": "3f024a4f861f4d8aaa247bae598184da",
       "version_major": 2,
       "version_minor": 0
      },
      "text/plain": [
       "  0%|          | 0/2 [00:00<?, ?it/s]"
      ]
     },
     "metadata": {},
     "output_type": "display_data"
    },
    {
     "name": "stdout",
     "output_type": "stream",
     "text": [
      "  Saved in 0.48s\n",
      "\n",
      "If you use this tool please cite: https://pubs.rsna.org/doi/10.1148/ryai.230024\n",
      "\n",
      "Resampling...\n",
      "  Resampled in 3.70s\n",
      "Predicting...\n"
     ]
    },
    {
     "name": "stderr",
     "output_type": "stream",
     "text": [
      "/ocean/projects/asc170022p/mtragoza/mambaforge/envs/lung-project/lib/python3.10/site-packages/nnunetv2/utilities/plans_handling/plans_handler.py:37: UserWarning: Detected old nnU-Net plans format. Attempting to reconstruct network architecture parameters. If this fails, rerun nnUNetv2_plan_experiment for your dataset. If you use a custom architecture, please downgrade nnU-Net to the version you implemented this or update your implementation + plans.\n",
      "  warnings.warn(\"Detected old nnU-Net plans format. Attempting to reconstruct network architecture \"\n",
      "100%|██████████| 27/27 [00:01<00:00, 21.06it/s]\n"
     ]
    },
    {
     "name": "stdout",
     "output_type": "stream",
     "text": [
      "  Predicted in 11.27s\n"
     ]
    },
    {
     "name": "stderr",
     "output_type": "stream",
     "text": [
      "100%|██████████| 1/1 [00:00<00:00,  4.99it/s]\n",
      "100%|██████████| 1/1 [00:00<00:00,  5.43it/s]\n"
     ]
    },
    {
     "name": "stdout",
     "output_type": "stream",
     "text": [
      "Resampling...\n",
      "Saving segmentations...\n",
      "Creating body_trunc.nii.gz\n",
      "Creating body_extremities.nii.gz\n"
     ]
    },
    {
     "data": {
      "application/vnd.jupyter.widget-view+json": {
       "model_id": "230e095757c84bc2b4bf7083955d5917",
       "version_major": 2,
       "version_minor": 0
      },
      "text/plain": [
       "  0%|          | 0/2 [00:00<?, ?it/s]"
      ]
     },
     "metadata": {},
     "output_type": "display_data"
    },
    {
     "name": "stdout",
     "output_type": "stream",
     "text": [
      "  Saved in 0.39s\n",
      "Creating body.nii.gz\n",
      "Creating skin.nii.gz\n",
      "Segmenting Case8Deploy phase 20\n",
      "\n",
      "If you use this tool please cite: https://pubs.rsna.org/doi/10.1148/ryai.230024\n",
      "\n",
      "Generating rough body segmentation...\n",
      "Resampling...\n",
      "  Resampled in 0.27s\n",
      "Predicting...\n"
     ]
    },
    {
     "name": "stderr",
     "output_type": "stream",
     "text": [
      "/ocean/projects/asc170022p/mtragoza/mambaforge/envs/lung-project/lib/python3.10/site-packages/nnunetv2/utilities/plans_handling/plans_handler.py:37: UserWarning: Detected old nnU-Net plans format. Attempting to reconstruct network architecture parameters. If this fails, rerun nnUNetv2_plan_experiment for your dataset. If you use a custom architecture, please downgrade nnU-Net to the version you implemented this or update your implementation + plans.\n",
      "  warnings.warn(\"Detected old nnU-Net plans format. Attempting to reconstruct network architecture \"\n",
      "100%|██████████| 1/1 [00:00<00:00, 91.17it/s]\n"
     ]
    },
    {
     "name": "stdout",
     "output_type": "stream",
     "text": [
      "  Predicted in 7.46s\n",
      "Resampling...\n",
      "  cropping from (256, 256, 94) to (235, 185, 83)\n",
      "Resampling...\n",
      "  Resampled in 2.14s\n",
      "Predicting part 1 of 1 ...\n"
     ]
    },
    {
     "name": "stderr",
     "output_type": "stream",
     "text": [
      "100%|██████████| 8/8 [00:00<00:00, 33.41it/s]\n"
     ]
    },
    {
     "name": "stdout",
     "output_type": "stream",
     "text": [
      "  Predicted in 10.14s\n",
      "Resampling...\n",
      "Saving segmentations...\n"
     ]
    },
    {
     "data": {
      "application/vnd.jupyter.widget-view+json": {
       "model_id": "fa82ec3b25434c73b49b7e4596d97c34",
       "version_major": 2,
       "version_minor": 0
      },
      "text/plain": [
       "  0%|          | 0/5 [00:00<?, ?it/s]"
      ]
     },
     "metadata": {},
     "output_type": "display_data"
    },
    {
     "name": "stdout",
     "output_type": "stream",
     "text": [
      "  Saved in 17.52s\n",
      "\n",
      "If you use this tool please cite: https://pubs.rsna.org/doi/10.1148/ryai.230024\n",
      "\n",
      "Generating rough body segmentation...\n",
      "Resampling...\n",
      "  Resampled in 0.27s\n",
      "Predicting...\n"
     ]
    },
    {
     "name": "stderr",
     "output_type": "stream",
     "text": [
      "/ocean/projects/asc170022p/mtragoza/mambaforge/envs/lung-project/lib/python3.10/site-packages/nnunetv2/utilities/plans_handling/plans_handler.py:37: UserWarning: Detected old nnU-Net plans format. Attempting to reconstruct network architecture parameters. If this fails, rerun nnUNetv2_plan_experiment for your dataset. If you use a custom architecture, please downgrade nnU-Net to the version you implemented this or update your implementation + plans.\n",
      "  warnings.warn(\"Detected old nnU-Net plans format. Attempting to reconstruct network architecture \"\n",
      "100%|██████████| 1/1 [00:00<00:00, 108.25it/s]\n"
     ]
    },
    {
     "name": "stdout",
     "output_type": "stream",
     "text": [
      "  Predicted in 7.66s\n",
      "Resampling...\n",
      "  cropping from (256, 256, 94) to (235, 185, 83)\n",
      "Predicting...\n"
     ]
    },
    {
     "name": "stderr",
     "output_type": "stream",
     "text": [
      "100%|██████████| 100/100 [00:05<00:00, 17.45it/s]\n"
     ]
    },
    {
     "name": "stdout",
     "output_type": "stream",
     "text": [
      "  Predicted in 30.83s\n",
      "Saving segmentations...\n",
      "Creating lung_vessels.nii.gz\n",
      "Creating lung_trachea_bronchia.nii.gz\n"
     ]
    },
    {
     "data": {
      "application/vnd.jupyter.widget-view+json": {
       "model_id": "df549b9d199c458087f71331f583675e",
       "version_major": 2,
       "version_minor": 0
      },
      "text/plain": [
       "  0%|          | 0/2 [00:00<?, ?it/s]"
      ]
     },
     "metadata": {},
     "output_type": "display_data"
    },
    {
     "name": "stdout",
     "output_type": "stream",
     "text": [
      "  Saved in 1.85s\n",
      "\n",
      "If you use this tool please cite: https://pubs.rsna.org/doi/10.1148/ryai.230024\n",
      "\n",
      "Resampling...\n",
      "  Resampled in 3.70s\n",
      "Predicting...\n"
     ]
    },
    {
     "name": "stderr",
     "output_type": "stream",
     "text": [
      "/ocean/projects/asc170022p/mtragoza/mambaforge/envs/lung-project/lib/python3.10/site-packages/nnunetv2/utilities/plans_handling/plans_handler.py:37: UserWarning: Detected old nnU-Net plans format. Attempting to reconstruct network architecture parameters. If this fails, rerun nnUNetv2_plan_experiment for your dataset. If you use a custom architecture, please downgrade nnU-Net to the version you implemented this or update your implementation + plans.\n",
      "  warnings.warn(\"Detected old nnU-Net plans format. Attempting to reconstruct network architecture \"\n",
      "100%|██████████| 27/27 [00:01<00:00, 21.10it/s]\n"
     ]
    },
    {
     "name": "stdout",
     "output_type": "stream",
     "text": [
      "  Predicted in 10.91s\n"
     ]
    },
    {
     "name": "stderr",
     "output_type": "stream",
     "text": [
      "100%|██████████| 1/1 [00:00<00:00,  5.41it/s]\n",
      "100%|██████████| 1/1 [00:00<00:00,  5.45it/s]\n"
     ]
    },
    {
     "name": "stdout",
     "output_type": "stream",
     "text": [
      "Resampling...\n",
      "Saving segmentations...\n",
      "Creating body_trunc.nii.gz\n",
      "Creating body_extremities.nii.gz\n"
     ]
    },
    {
     "data": {
      "application/vnd.jupyter.widget-view+json": {
       "model_id": "47fb293bcb6a4b5b93a45c184cfdd31c",
       "version_major": 2,
       "version_minor": 0
      },
      "text/plain": [
       "  0%|          | 0/2 [00:00<?, ?it/s]"
      ]
     },
     "metadata": {},
     "output_type": "display_data"
    },
    {
     "name": "stdout",
     "output_type": "stream",
     "text": [
      "  Saved in 0.38s\n",
      "Creating body.nii.gz\n",
      "Creating skin.nii.gz\n",
      "Segmenting Case8Deploy phase 30\n",
      "\n",
      "If you use this tool please cite: https://pubs.rsna.org/doi/10.1148/ryai.230024\n",
      "\n",
      "Generating rough body segmentation...\n",
      "Resampling...\n",
      "  Resampled in 0.27s\n",
      "Predicting...\n"
     ]
    },
    {
     "name": "stderr",
     "output_type": "stream",
     "text": [
      "/ocean/projects/asc170022p/mtragoza/mambaforge/envs/lung-project/lib/python3.10/site-packages/nnunetv2/utilities/plans_handling/plans_handler.py:37: UserWarning: Detected old nnU-Net plans format. Attempting to reconstruct network architecture parameters. If this fails, rerun nnUNetv2_plan_experiment for your dataset. If you use a custom architecture, please downgrade nnU-Net to the version you implemented this or update your implementation + plans.\n",
      "  warnings.warn(\"Detected old nnU-Net plans format. Attempting to reconstruct network architecture \"\n",
      "100%|██████████| 1/1 [00:00<00:00, 69.95it/s]\n"
     ]
    },
    {
     "name": "stdout",
     "output_type": "stream",
     "text": [
      "  Predicted in 7.46s\n",
      "Resampling...\n",
      "  cropping from (256, 256, 94) to (235, 185, 83)\n",
      "Resampling...\n",
      "  Resampled in 2.14s\n",
      "Predicting part 1 of 1 ...\n"
     ]
    },
    {
     "name": "stderr",
     "output_type": "stream",
     "text": [
      "100%|██████████| 8/8 [00:00<00:00, 32.91it/s]\n"
     ]
    },
    {
     "name": "stdout",
     "output_type": "stream",
     "text": [
      "  Predicted in 10.15s\n",
      "Resampling...\n",
      "Saving segmentations...\n"
     ]
    },
    {
     "data": {
      "application/vnd.jupyter.widget-view+json": {
       "model_id": "d7d5999abd6b446490fb8e25c01420e0",
       "version_major": 2,
       "version_minor": 0
      },
      "text/plain": [
       "  0%|          | 0/5 [00:00<?, ?it/s]"
      ]
     },
     "metadata": {},
     "output_type": "display_data"
    },
    {
     "name": "stdout",
     "output_type": "stream",
     "text": [
      "  Saved in 0.59s\n",
      "\n",
      "If you use this tool please cite: https://pubs.rsna.org/doi/10.1148/ryai.230024\n",
      "\n",
      "Generating rough body segmentation...\n",
      "Resampling...\n",
      "  Resampled in 0.27s\n",
      "Predicting...\n"
     ]
    },
    {
     "name": "stderr",
     "output_type": "stream",
     "text": [
      "/ocean/projects/asc170022p/mtragoza/mambaforge/envs/lung-project/lib/python3.10/site-packages/nnunetv2/utilities/plans_handling/plans_handler.py:37: UserWarning: Detected old nnU-Net plans format. Attempting to reconstruct network architecture parameters. If this fails, rerun nnUNetv2_plan_experiment for your dataset. If you use a custom architecture, please downgrade nnU-Net to the version you implemented this or update your implementation + plans.\n",
      "  warnings.warn(\"Detected old nnU-Net plans format. Attempting to reconstruct network architecture \"\n",
      "100%|██████████| 1/1 [00:00<00:00, 102.29it/s]\n"
     ]
    },
    {
     "name": "stdout",
     "output_type": "stream",
     "text": [
      "  Predicted in 7.69s\n",
      "Resampling...\n",
      "  cropping from (256, 256, 94) to (235, 185, 83)\n",
      "Predicting...\n"
     ]
    },
    {
     "name": "stderr",
     "output_type": "stream",
     "text": [
      "100%|██████████| 100/100 [00:05<00:00, 17.47it/s]\n"
     ]
    },
    {
     "name": "stdout",
     "output_type": "stream",
     "text": [
      "  Predicted in 30.69s\n",
      "Saving segmentations...\n",
      "Creating lung_vessels.nii.gz\n",
      "Creating lung_trachea_bronchia.nii.gz\n"
     ]
    },
    {
     "data": {
      "application/vnd.jupyter.widget-view+json": {
       "model_id": "aba443a2460b49648affb2907f2a3835",
       "version_major": 2,
       "version_minor": 0
      },
      "text/plain": [
       "  0%|          | 0/2 [00:00<?, ?it/s]"
      ]
     },
     "metadata": {},
     "output_type": "display_data"
    },
    {
     "name": "stdout",
     "output_type": "stream",
     "text": [
      "  Saved in 0.54s\n",
      "\n",
      "If you use this tool please cite: https://pubs.rsna.org/doi/10.1148/ryai.230024\n",
      "\n",
      "Resampling...\n",
      "  Resampled in 3.71s\n",
      "Predicting...\n"
     ]
    },
    {
     "name": "stderr",
     "output_type": "stream",
     "text": [
      "/ocean/projects/asc170022p/mtragoza/mambaforge/envs/lung-project/lib/python3.10/site-packages/nnunetv2/utilities/plans_handling/plans_handler.py:37: UserWarning: Detected old nnU-Net plans format. Attempting to reconstruct network architecture parameters. If this fails, rerun nnUNetv2_plan_experiment for your dataset. If you use a custom architecture, please downgrade nnU-Net to the version you implemented this or update your implementation + plans.\n",
      "  warnings.warn(\"Detected old nnU-Net plans format. Attempting to reconstruct network architecture \"\n",
      "100%|██████████| 27/27 [00:01<00:00, 21.25it/s]\n"
     ]
    },
    {
     "name": "stdout",
     "output_type": "stream",
     "text": [
      "  Predicted in 10.94s\n"
     ]
    },
    {
     "name": "stderr",
     "output_type": "stream",
     "text": [
      "100%|██████████| 1/1 [00:00<00:00,  5.32it/s]\n",
      "100%|██████████| 1/1 [00:00<00:00,  5.43it/s]\n"
     ]
    },
    {
     "name": "stdout",
     "output_type": "stream",
     "text": [
      "Resampling...\n",
      "Saving segmentations...\n",
      "Creating body_trunc.nii.gz\n",
      "Creating body_extremities.nii.gz\n"
     ]
    },
    {
     "data": {
      "application/vnd.jupyter.widget-view+json": {
       "model_id": "375fbcc6f56442d7923ac893c140b3ea",
       "version_major": 2,
       "version_minor": 0
      },
      "text/plain": [
       "  0%|          | 0/2 [00:00<?, ?it/s]"
      ]
     },
     "metadata": {},
     "output_type": "display_data"
    },
    {
     "name": "stdout",
     "output_type": "stream",
     "text": [
      "  Saved in 0.36s\n",
      "Creating body.nii.gz\n",
      "Creating skin.nii.gz\n",
      "Segmenting Case8Deploy phase 40\n",
      "\n",
      "If you use this tool please cite: https://pubs.rsna.org/doi/10.1148/ryai.230024\n",
      "\n",
      "Generating rough body segmentation...\n",
      "Resampling...\n",
      "  Resampled in 0.27s\n",
      "Predicting...\n"
     ]
    },
    {
     "name": "stderr",
     "output_type": "stream",
     "text": [
      "/ocean/projects/asc170022p/mtragoza/mambaforge/envs/lung-project/lib/python3.10/site-packages/nnunetv2/utilities/plans_handling/plans_handler.py:37: UserWarning: Detected old nnU-Net plans format. Attempting to reconstruct network architecture parameters. If this fails, rerun nnUNetv2_plan_experiment for your dataset. If you use a custom architecture, please downgrade nnU-Net to the version you implemented this or update your implementation + plans.\n",
      "  warnings.warn(\"Detected old nnU-Net plans format. Attempting to reconstruct network architecture \"\n",
      "100%|██████████| 1/1 [00:00<00:00, 75.81it/s]\n"
     ]
    },
    {
     "name": "stdout",
     "output_type": "stream",
     "text": [
      "  Predicted in 7.54s\n",
      "Resampling...\n",
      "  cropping from (256, 256, 94) to (230, 185, 78)\n",
      "Resampling...\n",
      "  Resampled in 1.96s\n",
      "Predicting part 1 of 1 ...\n"
     ]
    },
    {
     "name": "stderr",
     "output_type": "stream",
     "text": [
      "100%|██████████| 8/8 [00:00<00:00, 32.69it/s]\n"
     ]
    },
    {
     "name": "stdout",
     "output_type": "stream",
     "text": [
      "  Predicted in 9.99s\n",
      "Resampling...\n",
      "Saving segmentations...\n"
     ]
    },
    {
     "data": {
      "application/vnd.jupyter.widget-view+json": {
       "model_id": "2ff93b56ecb24664bd8d6e983b101245",
       "version_major": 2,
       "version_minor": 0
      },
      "text/plain": [
       "  0%|          | 0/5 [00:00<?, ?it/s]"
      ]
     },
     "metadata": {},
     "output_type": "display_data"
    },
    {
     "name": "stdout",
     "output_type": "stream",
     "text": [
      "  Saved in 0.59s\n",
      "\n",
      "If you use this tool please cite: https://pubs.rsna.org/doi/10.1148/ryai.230024\n",
      "\n",
      "Generating rough body segmentation...\n",
      "Resampling...\n",
      "  Resampled in 0.27s\n",
      "Predicting...\n"
     ]
    },
    {
     "name": "stderr",
     "output_type": "stream",
     "text": [
      "/ocean/projects/asc170022p/mtragoza/mambaforge/envs/lung-project/lib/python3.10/site-packages/nnunetv2/utilities/plans_handling/plans_handler.py:37: UserWarning: Detected old nnU-Net plans format. Attempting to reconstruct network architecture parameters. If this fails, rerun nnUNetv2_plan_experiment for your dataset. If you use a custom architecture, please downgrade nnU-Net to the version you implemented this or update your implementation + plans.\n",
      "  warnings.warn(\"Detected old nnU-Net plans format. Attempting to reconstruct network architecture \"\n",
      "100%|██████████| 1/1 [00:00<00:00, 107.65it/s]\n"
     ]
    },
    {
     "name": "stdout",
     "output_type": "stream",
     "text": [
      "  Predicted in 7.67s\n",
      "Resampling...\n",
      "  cropping from (256, 256, 94) to (230, 185, 78)\n",
      "Predicting...\n"
     ]
    },
    {
     "name": "stderr",
     "output_type": "stream",
     "text": [
      "100%|██████████| 100/100 [00:05<00:00, 17.47it/s]\n"
     ]
    },
    {
     "name": "stdout",
     "output_type": "stream",
     "text": [
      "  Predicted in 29.17s\n",
      "Saving segmentations...\n",
      "Creating lung_vessels.nii.gz"
     ]
    },
    {
     "data": {
      "application/vnd.jupyter.widget-view+json": {
       "model_id": "25c27e631cd2470e8f1d71216ea3eaa9",
       "version_major": 2,
       "version_minor": 0
      },
      "text/plain": [
       "  0%|          | 0/2 [00:00<?, ?it/s]"
      ]
     },
     "metadata": {},
     "output_type": "display_data"
    },
    {
     "name": "stdout",
     "output_type": "stream",
     "text": [
      "\n",
      "Creating lung_trachea_bronchia.nii.gz\n",
      "  Saved in 0.48s\n",
      "\n",
      "If you use this tool please cite: https://pubs.rsna.org/doi/10.1148/ryai.230024\n",
      "\n",
      "Resampling...\n",
      "  Resampled in 3.67s\n",
      "Predicting...\n"
     ]
    },
    {
     "name": "stderr",
     "output_type": "stream",
     "text": [
      "/ocean/projects/asc170022p/mtragoza/mambaforge/envs/lung-project/lib/python3.10/site-packages/nnunetv2/utilities/plans_handling/plans_handler.py:37: UserWarning: Detected old nnU-Net plans format. Attempting to reconstruct network architecture parameters. If this fails, rerun nnUNetv2_plan_experiment for your dataset. If you use a custom architecture, please downgrade nnU-Net to the version you implemented this or update your implementation + plans.\n",
      "  warnings.warn(\"Detected old nnU-Net plans format. Attempting to reconstruct network architecture \"\n",
      "100%|██████████| 27/27 [00:01<00:00, 21.17it/s]\n"
     ]
    },
    {
     "name": "stdout",
     "output_type": "stream",
     "text": [
      "  Predicted in 11.01s\n"
     ]
    },
    {
     "name": "stderr",
     "output_type": "stream",
     "text": [
      "100%|██████████| 1/1 [00:00<00:00,  5.36it/s]\n",
      "100%|██████████| 1/1 [00:00<00:00,  5.38it/s]\n"
     ]
    },
    {
     "name": "stdout",
     "output_type": "stream",
     "text": [
      "Resampling...\n",
      "Saving segmentations...\n",
      "Creating body_trunc.nii.gz\n",
      "Creating body_extremities.nii.gz\n"
     ]
    },
    {
     "data": {
      "application/vnd.jupyter.widget-view+json": {
       "model_id": "2386a75356664682bba503cecda45705",
       "version_major": 2,
       "version_minor": 0
      },
      "text/plain": [
       "  0%|          | 0/2 [00:00<?, ?it/s]"
      ]
     },
     "metadata": {},
     "output_type": "display_data"
    },
    {
     "name": "stdout",
     "output_type": "stream",
     "text": [
      "  Saved in 0.40s\n",
      "Creating body.nii.gz\n",
      "Creating skin.nii.gz\n",
      "Segmenting Case8Deploy phase 50\n",
      "\n",
      "If you use this tool please cite: https://pubs.rsna.org/doi/10.1148/ryai.230024\n",
      "\n",
      "Generating rough body segmentation...\n",
      "Resampling...\n",
      "  Resampled in 0.27s\n",
      "Predicting...\n"
     ]
    },
    {
     "name": "stderr",
     "output_type": "stream",
     "text": [
      "/ocean/projects/asc170022p/mtragoza/mambaforge/envs/lung-project/lib/python3.10/site-packages/nnunetv2/utilities/plans_handling/plans_handler.py:37: UserWarning: Detected old nnU-Net plans format. Attempting to reconstruct network architecture parameters. If this fails, rerun nnUNetv2_plan_experiment for your dataset. If you use a custom architecture, please downgrade nnU-Net to the version you implemented this or update your implementation + plans.\n",
      "  warnings.warn(\"Detected old nnU-Net plans format. Attempting to reconstruct network architecture \"\n",
      "100%|██████████| 1/1 [00:00<00:00, 102.04it/s]\n"
     ]
    },
    {
     "name": "stdout",
     "output_type": "stream",
     "text": [
      "  Predicted in 7.50s\n",
      "Resampling...\n",
      "  cropping from (256, 256, 94) to (230, 185, 83)\n",
      "Resampling...\n",
      "  Resampled in 2.09s\n",
      "Predicting part 1 of 1 ...\n"
     ]
    },
    {
     "name": "stderr",
     "output_type": "stream",
     "text": [
      "100%|██████████| 8/8 [00:00<00:00, 33.30it/s]\n"
     ]
    },
    {
     "name": "stdout",
     "output_type": "stream",
     "text": [
      "  Predicted in 10.13s\n",
      "Resampling...\n",
      "Saving segmentations...\n"
     ]
    },
    {
     "data": {
      "application/vnd.jupyter.widget-view+json": {
       "model_id": "b23c336e3ed4439eab06426d79d758ee",
       "version_major": 2,
       "version_minor": 0
      },
      "text/plain": [
       "  0%|          | 0/5 [00:00<?, ?it/s]"
      ]
     },
     "metadata": {},
     "output_type": "display_data"
    },
    {
     "name": "stdout",
     "output_type": "stream",
     "text": [
      "  Saved in 0.59s\n",
      "\n",
      "If you use this tool please cite: https://pubs.rsna.org/doi/10.1148/ryai.230024\n",
      "\n",
      "Generating rough body segmentation...\n",
      "Resampling...\n",
      "  Resampled in 0.27s\n",
      "Predicting...\n"
     ]
    },
    {
     "name": "stderr",
     "output_type": "stream",
     "text": [
      "/ocean/projects/asc170022p/mtragoza/mambaforge/envs/lung-project/lib/python3.10/site-packages/nnunetv2/utilities/plans_handling/plans_handler.py:37: UserWarning: Detected old nnU-Net plans format. Attempting to reconstruct network architecture parameters. If this fails, rerun nnUNetv2_plan_experiment for your dataset. If you use a custom architecture, please downgrade nnU-Net to the version you implemented this or update your implementation + plans.\n",
      "  warnings.warn(\"Detected old nnU-Net plans format. Attempting to reconstruct network architecture \"\n",
      "100%|██████████| 1/1 [00:00<00:00, 81.92it/s]\n"
     ]
    },
    {
     "name": "stdout",
     "output_type": "stream",
     "text": [
      "  Predicted in 7.54s\n",
      "Resampling...\n",
      "  cropping from (256, 256, 94) to (230, 185, 83)\n",
      "Predicting...\n"
     ]
    },
    {
     "name": "stderr",
     "output_type": "stream",
     "text": [
      "100%|██████████| 100/100 [00:05<00:00, 17.49it/s]\n"
     ]
    },
    {
     "name": "stdout",
     "output_type": "stream",
     "text": [
      "  Predicted in 30.37s\n",
      "Saving segmentations...\n",
      "Creating lung_vessels.nii.gz\n",
      "\n",
      "Creating lung_trachea_bronchia.nii.gz"
     ]
    },
    {
     "data": {
      "application/vnd.jupyter.widget-view+json": {
       "model_id": "d2074f7776b94a6f8961eb8df689eb68",
       "version_major": 2,
       "version_minor": 0
      },
      "text/plain": [
       "  0%|          | 0/2 [00:00<?, ?it/s]"
      ]
     },
     "metadata": {},
     "output_type": "display_data"
    },
    {
     "name": "stdout",
     "output_type": "stream",
     "text": [
      "  Saved in 82.24s\n",
      "\n",
      "If you use this tool please cite: https://pubs.rsna.org/doi/10.1148/ryai.230024\n",
      "\n",
      "Resampling...\n",
      "  Resampled in 3.71s\n",
      "Predicting...\n"
     ]
    },
    {
     "name": "stderr",
     "output_type": "stream",
     "text": [
      "/ocean/projects/asc170022p/mtragoza/mambaforge/envs/lung-project/lib/python3.10/site-packages/nnunetv2/utilities/plans_handling/plans_handler.py:37: UserWarning: Detected old nnU-Net plans format. Attempting to reconstruct network architecture parameters. If this fails, rerun nnUNetv2_plan_experiment for your dataset. If you use a custom architecture, please downgrade nnU-Net to the version you implemented this or update your implementation + plans.\n",
      "  warnings.warn(\"Detected old nnU-Net plans format. Attempting to reconstruct network architecture \"\n",
      "100%|██████████| 27/27 [00:01<00:00, 21.13it/s]\n"
     ]
    },
    {
     "name": "stdout",
     "output_type": "stream",
     "text": [
      "  Predicted in 10.98s\n"
     ]
    },
    {
     "name": "stderr",
     "output_type": "stream",
     "text": [
      "100%|██████████| 1/1 [00:00<00:00,  4.82it/s]\n",
      "100%|██████████| 1/1 [00:00<00:00,  5.60it/s]\n"
     ]
    },
    {
     "name": "stdout",
     "output_type": "stream",
     "text": [
      "Resampling...\n",
      "Saving segmentations...\n",
      "Creating body_trunc.nii.gz\n",
      "Creating body_extremities.nii.gz\n"
     ]
    },
    {
     "data": {
      "application/vnd.jupyter.widget-view+json": {
       "model_id": "2c50a08bd80740f9b68e716d79267e1c",
       "version_major": 2,
       "version_minor": 0
      },
      "text/plain": [
       "  0%|          | 0/2 [00:00<?, ?it/s]"
      ]
     },
     "metadata": {},
     "output_type": "display_data"
    },
    {
     "name": "stdout",
     "output_type": "stream",
     "text": [
      "  Saved in 0.35s\n",
      "Creating body.nii.gz\n",
      "Creating skin.nii.gz\n",
      "Segmenting Case8Deploy phase 60\n",
      "\n",
      "If you use this tool please cite: https://pubs.rsna.org/doi/10.1148/ryai.230024\n",
      "\n",
      "Generating rough body segmentation...\n",
      "Resampling...\n",
      "  Resampled in 0.27s\n",
      "Predicting...\n"
     ]
    },
    {
     "name": "stderr",
     "output_type": "stream",
     "text": [
      "/ocean/projects/asc170022p/mtragoza/mambaforge/envs/lung-project/lib/python3.10/site-packages/nnunetv2/utilities/plans_handling/plans_handler.py:37: UserWarning: Detected old nnU-Net plans format. Attempting to reconstruct network architecture parameters. If this fails, rerun nnUNetv2_plan_experiment for your dataset. If you use a custom architecture, please downgrade nnU-Net to the version you implemented this or update your implementation + plans.\n",
      "  warnings.warn(\"Detected old nnU-Net plans format. Attempting to reconstruct network architecture \"\n",
      "100%|██████████| 1/1 [00:01<00:00,  1.13s/it]\n"
     ]
    },
    {
     "name": "stdout",
     "output_type": "stream",
     "text": [
      "  Predicted in 11.42s\n",
      "Resampling...\n",
      "  cropping from (256, 256, 94) to (230, 185, 82)\n",
      "Resampling...\n",
      "  Resampled in 2.07s\n",
      "Predicting part 1 of 1 ...\n"
     ]
    },
    {
     "name": "stderr",
     "output_type": "stream",
     "text": [
      "100%|██████████| 8/8 [00:00<00:00, 29.24it/s]\n"
     ]
    },
    {
     "name": "stdout",
     "output_type": "stream",
     "text": [
      "  Predicted in 10.09s\n",
      "Resampling...\n",
      "Saving segmentations...\n"
     ]
    },
    {
     "data": {
      "application/vnd.jupyter.widget-view+json": {
       "model_id": "6228331ea8dc4c25a8a220bd30c81780",
       "version_major": 2,
       "version_minor": 0
      },
      "text/plain": [
       "  0%|          | 0/5 [00:00<?, ?it/s]"
      ]
     },
     "metadata": {},
     "output_type": "display_data"
    },
    {
     "name": "stdout",
     "output_type": "stream",
     "text": [
      "  Saved in 0.59s\n",
      "\n",
      "If you use this tool please cite: https://pubs.rsna.org/doi/10.1148/ryai.230024\n",
      "\n",
      "Generating rough body segmentation...\n",
      "Resampling...\n",
      "  Resampled in 0.27s\n",
      "Predicting...\n"
     ]
    },
    {
     "name": "stderr",
     "output_type": "stream",
     "text": [
      "/ocean/projects/asc170022p/mtragoza/mambaforge/envs/lung-project/lib/python3.10/site-packages/nnunetv2/utilities/plans_handling/plans_handler.py:37: UserWarning: Detected old nnU-Net plans format. Attempting to reconstruct network architecture parameters. If this fails, rerun nnUNetv2_plan_experiment for your dataset. If you use a custom architecture, please downgrade nnU-Net to the version you implemented this or update your implementation + plans.\n",
      "  warnings.warn(\"Detected old nnU-Net plans format. Attempting to reconstruct network architecture \"\n",
      "100%|██████████| 1/1 [00:00<00:00, 89.74it/s]\n"
     ]
    },
    {
     "name": "stdout",
     "output_type": "stream",
     "text": [
      "  Predicted in 7.53s\n",
      "Resampling...\n",
      "  cropping from (256, 256, 94) to (230, 185, 82)\n",
      "Predicting...\n"
     ]
    },
    {
     "name": "stderr",
     "output_type": "stream",
     "text": [
      "100%|██████████| 100/100 [00:05<00:00, 17.49it/s]\n"
     ]
    },
    {
     "name": "stdout",
     "output_type": "stream",
     "text": [
      "  Predicted in 30.37s\n",
      "Saving segmentations...\n"
     ]
    },
    {
     "data": {
      "application/vnd.jupyter.widget-view+json": {
       "model_id": "9cf2ab3456aa484f8ab269b145c0aafa",
       "version_major": 2,
       "version_minor": 0
      },
      "text/plain": [
       "  0%|          | 0/2 [00:00<?, ?it/s]"
      ]
     },
     "metadata": {},
     "output_type": "display_data"
    },
    {
     "name": "stdout",
     "output_type": "stream",
     "text": [
      "Creating lung_vessels.nii.gzCreating lung_trachea_bronchia.nii.gz\n",
      "\n",
      "  Saved in 0.53s\n",
      "\n",
      "If you use this tool please cite: https://pubs.rsna.org/doi/10.1148/ryai.230024\n",
      "\n",
      "Resampling...\n",
      "  Resampled in 3.73s\n",
      "Predicting...\n"
     ]
    },
    {
     "name": "stderr",
     "output_type": "stream",
     "text": [
      "/ocean/projects/asc170022p/mtragoza/mambaforge/envs/lung-project/lib/python3.10/site-packages/nnunetv2/utilities/plans_handling/plans_handler.py:37: UserWarning: Detected old nnU-Net plans format. Attempting to reconstruct network architecture parameters. If this fails, rerun nnUNetv2_plan_experiment for your dataset. If you use a custom architecture, please downgrade nnU-Net to the version you implemented this or update your implementation + plans.\n",
      "  warnings.warn(\"Detected old nnU-Net plans format. Attempting to reconstruct network architecture \"\n",
      "100%|██████████| 27/27 [00:01<00:00, 21.28it/s]\n"
     ]
    },
    {
     "name": "stdout",
     "output_type": "stream",
     "text": [
      "  Predicted in 10.88s\n"
     ]
    },
    {
     "name": "stderr",
     "output_type": "stream",
     "text": [
      "100%|██████████| 1/1 [00:00<00:00,  5.37it/s]\n",
      "100%|██████████| 1/1 [00:00<00:00,  6.20it/s]\n"
     ]
    },
    {
     "name": "stdout",
     "output_type": "stream",
     "text": [
      "Resampling...\n",
      "Saving segmentations...\n",
      "Creating body_trunc.nii.gz\n",
      "Creating body_extremities.nii.gz"
     ]
    },
    {
     "data": {
      "application/vnd.jupyter.widget-view+json": {
       "model_id": "4d992eb01f0d42be8414d7e41a1f7544",
       "version_major": 2,
       "version_minor": 0
      },
      "text/plain": [
       "  0%|          | 0/2 [00:00<?, ?it/s]"
      ]
     },
     "metadata": {},
     "output_type": "display_data"
    },
    {
     "name": "stdout",
     "output_type": "stream",
     "text": [
      "\n",
      "  Saved in 0.44s\n",
      "Creating body.nii.gz\n",
      "Creating skin.nii.gz\n",
      "Segmenting Case8Deploy phase 70\n",
      "\n",
      "If you use this tool please cite: https://pubs.rsna.org/doi/10.1148/ryai.230024\n",
      "\n",
      "Generating rough body segmentation...\n",
      "Resampling...\n",
      "  Resampled in 0.27s\n",
      "Predicting...\n"
     ]
    },
    {
     "name": "stderr",
     "output_type": "stream",
     "text": [
      "/ocean/projects/asc170022p/mtragoza/mambaforge/envs/lung-project/lib/python3.10/site-packages/nnunetv2/utilities/plans_handling/plans_handler.py:37: UserWarning: Detected old nnU-Net plans format. Attempting to reconstruct network architecture parameters. If this fails, rerun nnUNetv2_plan_experiment for your dataset. If you use a custom architecture, please downgrade nnU-Net to the version you implemented this or update your implementation + plans.\n",
      "  warnings.warn(\"Detected old nnU-Net plans format. Attempting to reconstruct network architecture \"\n",
      "100%|██████████| 1/1 [00:00<00:00, 108.86it/s]\n"
     ]
    },
    {
     "name": "stdout",
     "output_type": "stream",
     "text": [
      "  Predicted in 7.66s\n",
      "Resampling...\n",
      "  cropping from (256, 256, 94) to (230, 185, 75)\n",
      "Resampling...\n",
      "  Resampled in 1.90s\n",
      "Predicting part 1 of 1 ...\n"
     ]
    },
    {
     "name": "stderr",
     "output_type": "stream",
     "text": [
      "100%|██████████| 8/8 [00:00<00:00, 32.79it/s]\n"
     ]
    },
    {
     "name": "stdout",
     "output_type": "stream",
     "text": [
      "  Predicted in 9.68s\n",
      "Resampling...\n",
      "Saving segmentations...\n"
     ]
    },
    {
     "data": {
      "application/vnd.jupyter.widget-view+json": {
       "model_id": "3f966ad4cc7f4bc68d2e3f0e0c9d9935",
       "version_major": 2,
       "version_minor": 0
      },
      "text/plain": [
       "  0%|          | 0/5 [00:00<?, ?it/s]"
      ]
     },
     "metadata": {},
     "output_type": "display_data"
    },
    {
     "name": "stdout",
     "output_type": "stream",
     "text": [
      "  Saved in 0.60s\n",
      "\n",
      "If you use this tool please cite: https://pubs.rsna.org/doi/10.1148/ryai.230024\n",
      "\n",
      "Generating rough body segmentation...\n",
      "Resampling...\n",
      "  Resampled in 0.27s\n",
      "Predicting...\n"
     ]
    },
    {
     "name": "stderr",
     "output_type": "stream",
     "text": [
      "/ocean/projects/asc170022p/mtragoza/mambaforge/envs/lung-project/lib/python3.10/site-packages/nnunetv2/utilities/plans_handling/plans_handler.py:37: UserWarning: Detected old nnU-Net plans format. Attempting to reconstruct network architecture parameters. If this fails, rerun nnUNetv2_plan_experiment for your dataset. If you use a custom architecture, please downgrade nnU-Net to the version you implemented this or update your implementation + plans.\n",
      "  warnings.warn(\"Detected old nnU-Net plans format. Attempting to reconstruct network architecture \"\n",
      "100%|██████████| 1/1 [00:00<00:00, 82.09it/s]\n"
     ]
    },
    {
     "name": "stdout",
     "output_type": "stream",
     "text": [
      "  Predicted in 7.65s\n",
      "Resampling...\n",
      "  cropping from (256, 256, 94) to (230, 185, 75)\n",
      "Predicting...\n"
     ]
    },
    {
     "name": "stderr",
     "output_type": "stream",
     "text": [
      "100%|██████████| 75/75 [00:04<00:00, 17.69it/s]\n"
     ]
    },
    {
     "name": "stdout",
     "output_type": "stream",
     "text": [
      "  Predicted in 27.32s\n",
      "Saving segmentations...\n",
      "Creating lung_vessels.nii.gz\n",
      "Creating lung_trachea_bronchia.nii.gz\n"
     ]
    },
    {
     "data": {
      "application/vnd.jupyter.widget-view+json": {
       "model_id": "fb97bf8a07ba46c2b9957a013c7f88c2",
       "version_major": 2,
       "version_minor": 0
      },
      "text/plain": [
       "  0%|          | 0/2 [00:00<?, ?it/s]"
      ]
     },
     "metadata": {},
     "output_type": "display_data"
    },
    {
     "name": "stdout",
     "output_type": "stream",
     "text": [
      "  Saved in 0.54s\n",
      "\n",
      "If you use this tool please cite: https://pubs.rsna.org/doi/10.1148/ryai.230024\n",
      "\n",
      "Resampling...\n",
      "  Resampled in 3.71s\n",
      "Predicting...\n"
     ]
    },
    {
     "name": "stderr",
     "output_type": "stream",
     "text": [
      "/ocean/projects/asc170022p/mtragoza/mambaforge/envs/lung-project/lib/python3.10/site-packages/nnunetv2/utilities/plans_handling/plans_handler.py:37: UserWarning: Detected old nnU-Net plans format. Attempting to reconstruct network architecture parameters. If this fails, rerun nnUNetv2_plan_experiment for your dataset. If you use a custom architecture, please downgrade nnU-Net to the version you implemented this or update your implementation + plans.\n",
      "  warnings.warn(\"Detected old nnU-Net plans format. Attempting to reconstruct network architecture \"\n",
      "100%|██████████| 27/27 [00:01<00:00, 21.27it/s]\n"
     ]
    },
    {
     "name": "stdout",
     "output_type": "stream",
     "text": [
      "  Predicted in 11.14s\n"
     ]
    },
    {
     "name": "stderr",
     "output_type": "stream",
     "text": [
      "100%|██████████| 1/1 [00:00<00:00,  5.23it/s]\n",
      "100%|██████████| 1/1 [00:00<00:00,  5.43it/s]\n"
     ]
    },
    {
     "name": "stdout",
     "output_type": "stream",
     "text": [
      "Resampling...\n",
      "Saving segmentations...\n",
      "Creating body_trunc.nii.gz\n",
      "\n",
      "Creating body_extremities.nii.gz"
     ]
    },
    {
     "data": {
      "application/vnd.jupyter.widget-view+json": {
       "model_id": "3eaee91c197641aaacf21fec636e4551",
       "version_major": 2,
       "version_minor": 0
      },
      "text/plain": [
       "  0%|          | 0/2 [00:00<?, ?it/s]"
      ]
     },
     "metadata": {},
     "output_type": "display_data"
    },
    {
     "name": "stdout",
     "output_type": "stream",
     "text": [
      "  Saved in 0.40s\n",
      "Creating body.nii.gz\n",
      "Creating skin.nii.gz\n",
      "Segmenting Case8Deploy phase 80\n",
      "\n",
      "If you use this tool please cite: https://pubs.rsna.org/doi/10.1148/ryai.230024\n",
      "\n",
      "Generating rough body segmentation...\n",
      "Resampling...\n",
      "  Resampled in 0.27s\n",
      "Predicting...\n"
     ]
    },
    {
     "name": "stderr",
     "output_type": "stream",
     "text": [
      "/ocean/projects/asc170022p/mtragoza/mambaforge/envs/lung-project/lib/python3.10/site-packages/nnunetv2/utilities/plans_handling/plans_handler.py:37: UserWarning: Detected old nnU-Net plans format. Attempting to reconstruct network architecture parameters. If this fails, rerun nnUNetv2_plan_experiment for your dataset. If you use a custom architecture, please downgrade nnU-Net to the version you implemented this or update your implementation + plans.\n",
      "  warnings.warn(\"Detected old nnU-Net plans format. Attempting to reconstruct network architecture \"\n",
      "100%|██████████| 1/1 [00:00<00:00, 92.53it/s]\n"
     ]
    },
    {
     "name": "stdout",
     "output_type": "stream",
     "text": [
      "  Predicted in 7.47s\n",
      "Resampling...\n",
      "  cropping from (256, 256, 94) to (230, 185, 80)\n",
      "Resampling...\n",
      "  Resampled in 2.02s\n",
      "Predicting part 1 of 1 ...\n"
     ]
    },
    {
     "name": "stderr",
     "output_type": "stream",
     "text": [
      "100%|██████████| 8/8 [00:00<00:00, 31.91it/s]\n"
     ]
    },
    {
     "name": "stdout",
     "output_type": "stream",
     "text": [
      "  Predicted in 10.41s\n",
      "Resampling...\n",
      "Saving segmentations...\n"
     ]
    },
    {
     "data": {
      "application/vnd.jupyter.widget-view+json": {
       "model_id": "b6b5aa0862e145b7b5bd1fe2fec881fa",
       "version_major": 2,
       "version_minor": 0
      },
      "text/plain": [
       "  0%|          | 0/5 [00:00<?, ?it/s]"
      ]
     },
     "metadata": {},
     "output_type": "display_data"
    },
    {
     "name": "stdout",
     "output_type": "stream",
     "text": [
      "  Saved in 0.58s\n",
      "\n",
      "If you use this tool please cite: https://pubs.rsna.org/doi/10.1148/ryai.230024\n",
      "\n",
      "Generating rough body segmentation...\n",
      "Resampling...\n",
      "  Resampled in 0.27s\n",
      "Predicting...\n"
     ]
    },
    {
     "name": "stderr",
     "output_type": "stream",
     "text": [
      "/ocean/projects/asc170022p/mtragoza/mambaforge/envs/lung-project/lib/python3.10/site-packages/nnunetv2/utilities/plans_handling/plans_handler.py:37: UserWarning: Detected old nnU-Net plans format. Attempting to reconstruct network architecture parameters. If this fails, rerun nnUNetv2_plan_experiment for your dataset. If you use a custom architecture, please downgrade nnU-Net to the version you implemented this or update your implementation + plans.\n",
      "  warnings.warn(\"Detected old nnU-Net plans format. Attempting to reconstruct network architecture \"\n",
      "100%|██████████| 1/1 [00:00<00:00, 83.10it/s]\n"
     ]
    },
    {
     "name": "stdout",
     "output_type": "stream",
     "text": [
      "  Predicted in 7.68s\n",
      "Resampling...\n",
      "  cropping from (256, 256, 94) to (230, 185, 80)\n",
      "Predicting...\n"
     ]
    },
    {
     "name": "stderr",
     "output_type": "stream",
     "text": [
      "100%|██████████| 100/100 [00:05<00:00, 17.46it/s]\n"
     ]
    },
    {
     "name": "stdout",
     "output_type": "stream",
     "text": [
      "  Predicted in 29.90s\n",
      "Saving segmentations...\n",
      "Creating lung_vessels.nii.gz\n",
      "Creating lung_trachea_bronchia.nii.gz\n"
     ]
    },
    {
     "data": {
      "application/vnd.jupyter.widget-view+json": {
       "model_id": "c06551ad9e274273afeb30f1d4da0989",
       "version_major": 2,
       "version_minor": 0
      },
      "text/plain": [
       "  0%|          | 0/2 [00:00<?, ?it/s]"
      ]
     },
     "metadata": {},
     "output_type": "display_data"
    },
    {
     "name": "stdout",
     "output_type": "stream",
     "text": [
      "  Saved in 0.52s\n",
      "\n",
      "If you use this tool please cite: https://pubs.rsna.org/doi/10.1148/ryai.230024\n",
      "\n",
      "Resampling...\n",
      "  Resampled in 3.70s\n",
      "Predicting...\n"
     ]
    },
    {
     "name": "stderr",
     "output_type": "stream",
     "text": [
      "/ocean/projects/asc170022p/mtragoza/mambaforge/envs/lung-project/lib/python3.10/site-packages/nnunetv2/utilities/plans_handling/plans_handler.py:37: UserWarning: Detected old nnU-Net plans format. Attempting to reconstruct network architecture parameters. If this fails, rerun nnUNetv2_plan_experiment for your dataset. If you use a custom architecture, please downgrade nnU-Net to the version you implemented this or update your implementation + plans.\n",
      "  warnings.warn(\"Detected old nnU-Net plans format. Attempting to reconstruct network architecture \"\n",
      "100%|██████████| 27/27 [00:01<00:00, 21.12it/s]\n"
     ]
    },
    {
     "name": "stdout",
     "output_type": "stream",
     "text": [
      "  Predicted in 11.20s\n"
     ]
    },
    {
     "name": "stderr",
     "output_type": "stream",
     "text": [
      "100%|██████████| 1/1 [00:00<00:00,  5.34it/s]\n",
      "100%|██████████| 1/1 [00:00<00:00,  5.57it/s]\n"
     ]
    },
    {
     "name": "stdout",
     "output_type": "stream",
     "text": [
      "Resampling...\n",
      "Saving segmentations...\n",
      "Creating body_trunc.nii.gz\n",
      "Creating body_extremities.nii.gz\n"
     ]
    },
    {
     "data": {
      "application/vnd.jupyter.widget-view+json": {
       "model_id": "6f3e70df6a0349f8bd2739f47e07b3b0",
       "version_major": 2,
       "version_minor": 0
      },
      "text/plain": [
       "  0%|          | 0/2 [00:00<?, ?it/s]"
      ]
     },
     "metadata": {},
     "output_type": "display_data"
    },
    {
     "name": "stdout",
     "output_type": "stream",
     "text": [
      "  Saved in 0.40s\n",
      "Creating body.nii.gz\n",
      "Creating skin.nii.gz\n",
      "Segmenting Case8Deploy phase 90\n",
      "\n",
      "If you use this tool please cite: https://pubs.rsna.org/doi/10.1148/ryai.230024\n",
      "\n",
      "Generating rough body segmentation...\n",
      "Resampling...\n",
      "  Resampled in 0.28s\n",
      "Predicting...\n"
     ]
    },
    {
     "name": "stderr",
     "output_type": "stream",
     "text": [
      "/ocean/projects/asc170022p/mtragoza/mambaforge/envs/lung-project/lib/python3.10/site-packages/nnunetv2/utilities/plans_handling/plans_handler.py:37: UserWarning: Detected old nnU-Net plans format. Attempting to reconstruct network architecture parameters. If this fails, rerun nnUNetv2_plan_experiment for your dataset. If you use a custom architecture, please downgrade nnU-Net to the version you implemented this or update your implementation + plans.\n",
      "  warnings.warn(\"Detected old nnU-Net plans format. Attempting to reconstruct network architecture \"\n",
      "100%|██████████| 1/1 [00:00<00:00,  1.51it/s]\n"
     ]
    },
    {
     "name": "stdout",
     "output_type": "stream",
     "text": [
      "  Predicted in 9.78s\n",
      "Resampling...\n",
      "  cropping from (256, 256, 94) to (235, 189, 82)\n",
      "Resampling...\n",
      "  Resampled in 2.16s\n",
      "Predicting part 1 of 1 ...\n"
     ]
    },
    {
     "name": "stderr",
     "output_type": "stream",
     "text": [
      "100%|██████████| 8/8 [00:00<00:00, 31.92it/s]\n"
     ]
    },
    {
     "name": "stdout",
     "output_type": "stream",
     "text": [
      "  Predicted in 10.36s\n",
      "Resampling...\n",
      "Saving segmentations...\n"
     ]
    },
    {
     "data": {
      "application/vnd.jupyter.widget-view+json": {
       "model_id": "279d36b4a5e3492a86c2e744f149768a",
       "version_major": 2,
       "version_minor": 0
      },
      "text/plain": [
       "  0%|          | 0/5 [00:00<?, ?it/s]"
      ]
     },
     "metadata": {},
     "output_type": "display_data"
    },
    {
     "name": "stdout",
     "output_type": "stream",
     "text": [
      "  Saved in 69.00s\n",
      "\n",
      "If you use this tool please cite: https://pubs.rsna.org/doi/10.1148/ryai.230024\n",
      "\n",
      "Generating rough body segmentation...\n",
      "Resampling...\n",
      "  Resampled in 0.27s\n",
      "Predicting...\n"
     ]
    },
    {
     "name": "stderr",
     "output_type": "stream",
     "text": [
      "/ocean/projects/asc170022p/mtragoza/mambaforge/envs/lung-project/lib/python3.10/site-packages/nnunetv2/utilities/plans_handling/plans_handler.py:37: UserWarning: Detected old nnU-Net plans format. Attempting to reconstruct network architecture parameters. If this fails, rerun nnUNetv2_plan_experiment for your dataset. If you use a custom architecture, please downgrade nnU-Net to the version you implemented this or update your implementation + plans.\n",
      "  warnings.warn(\"Detected old nnU-Net plans format. Attempting to reconstruct network architecture \"\n",
      "100%|██████████| 1/1 [00:00<00:00, 78.33it/s]\n"
     ]
    },
    {
     "name": "stdout",
     "output_type": "stream",
     "text": [
      "  Predicted in 7.92s\n",
      "Resampling...\n",
      "  cropping from (256, 256, 94) to (235, 189, 82)\n",
      "Predicting...\n"
     ]
    },
    {
     "name": "stderr",
     "output_type": "stream",
     "text": [
      "100%|██████████| 100/100 [00:05<00:00, 17.47it/s]\n"
     ]
    },
    {
     "name": "stdout",
     "output_type": "stream",
     "text": [
      "  Predicted in 31.31s\n",
      "Saving segmentations...\n",
      "Creating lung_vessels.nii.gz\n",
      "Creating lung_trachea_bronchia.nii.gz"
     ]
    },
    {
     "data": {
      "application/vnd.jupyter.widget-view+json": {
       "model_id": "d80c32cdfae6428691e4a512e23fa47e",
       "version_major": 2,
       "version_minor": 0
      },
      "text/plain": [
       "  0%|          | 0/2 [00:00<?, ?it/s]"
      ]
     },
     "metadata": {},
     "output_type": "display_data"
    },
    {
     "name": "stdout",
     "output_type": "stream",
     "text": [
      "\n",
      "  Saved in 0.46s\n",
      "\n",
      "If you use this tool please cite: https://pubs.rsna.org/doi/10.1148/ryai.230024\n",
      "\n",
      "Resampling...\n",
      "  Resampled in 3.73s\n",
      "Predicting...\n"
     ]
    },
    {
     "name": "stderr",
     "output_type": "stream",
     "text": [
      "/ocean/projects/asc170022p/mtragoza/mambaforge/envs/lung-project/lib/python3.10/site-packages/nnunetv2/utilities/plans_handling/plans_handler.py:37: UserWarning: Detected old nnU-Net plans format. Attempting to reconstruct network architecture parameters. If this fails, rerun nnUNetv2_plan_experiment for your dataset. If you use a custom architecture, please downgrade nnU-Net to the version you implemented this or update your implementation + plans.\n",
      "  warnings.warn(\"Detected old nnU-Net plans format. Attempting to reconstruct network architecture \"\n",
      "100%|██████████| 27/27 [00:01<00:00, 21.11it/s]\n"
     ]
    },
    {
     "name": "stdout",
     "output_type": "stream",
     "text": [
      "  Predicted in 11.34s\n"
     ]
    },
    {
     "name": "stderr",
     "output_type": "stream",
     "text": [
      "100%|██████████| 1/1 [00:00<00:00,  5.32it/s]\n",
      "100%|██████████| 1/1 [00:00<00:00,  5.46it/s]\n"
     ]
    },
    {
     "name": "stdout",
     "output_type": "stream",
     "text": [
      "Resampling...\n",
      "Saving segmentations...\n",
      "Creating body_trunc.nii.gz\n",
      "\n",
      "Creating body_extremities.nii.gz"
     ]
    },
    {
     "data": {
      "application/vnd.jupyter.widget-view+json": {
       "model_id": "3e789195f4394edba2b45edbd85d9f1b",
       "version_major": 2,
       "version_minor": 0
      },
      "text/plain": [
       "  0%|          | 0/2 [00:00<?, ?it/s]"
      ]
     },
     "metadata": {},
     "output_type": "display_data"
    },
    {
     "name": "stdout",
     "output_type": "stream",
     "text": [
      "  Saved in 0.35s\n",
      "Creating body.nii.gz\n",
      "Creating skin.nii.gz\n",
      "Segmenting Case9Pack phase 0\n",
      "\n",
      "If you use this tool please cite: https://pubs.rsna.org/doi/10.1148/ryai.230024\n",
      "\n",
      "Generating rough body segmentation...\n",
      "Resampling...\n",
      "  Resampled in 0.27s\n",
      "Predicting...\n"
     ]
    },
    {
     "name": "stderr",
     "output_type": "stream",
     "text": [
      "/ocean/projects/asc170022p/mtragoza/mambaforge/envs/lung-project/lib/python3.10/site-packages/nnunetv2/utilities/plans_handling/plans_handler.py:37: UserWarning: Detected old nnU-Net plans format. Attempting to reconstruct network architecture parameters. If this fails, rerun nnUNetv2_plan_experiment for your dataset. If you use a custom architecture, please downgrade nnU-Net to the version you implemented this or update your implementation + plans.\n",
      "  warnings.warn(\"Detected old nnU-Net plans format. Attempting to reconstruct network architecture \"\n",
      "100%|██████████| 1/1 [00:00<00:00, 104.55it/s]\n"
     ]
    },
    {
     "name": "stdout",
     "output_type": "stream",
     "text": [
      "  Predicted in 7.82s\n",
      "Resampling...\n",
      "  cropping from (256, 256, 94) to (208, 171, 69)\n",
      "Resampling...\n",
      "  Resampled in 1.48s\n",
      "Predicting part 1 of 1 ...\n"
     ]
    },
    {
     "name": "stderr",
     "output_type": "stream",
     "text": [
      "100%|██████████| 8/8 [00:00<00:00, 31.87it/s]\n"
     ]
    },
    {
     "name": "stdout",
     "output_type": "stream",
     "text": [
      "  Predicted in 9.56s\n",
      "Resampling...\n",
      "Saving segmentations...\n"
     ]
    },
    {
     "data": {
      "application/vnd.jupyter.widget-view+json": {
       "model_id": "a2d04943c1e04ac8a5209a9980ef7453",
       "version_major": 2,
       "version_minor": 0
      },
      "text/plain": [
       "  0%|          | 0/5 [00:00<?, ?it/s]"
      ]
     },
     "metadata": {},
     "output_type": "display_data"
    },
    {
     "name": "stdout",
     "output_type": "stream",
     "text": [
      "  Saved in 1815.19s\n",
      "\n",
      "If you use this tool please cite: https://pubs.rsna.org/doi/10.1148/ryai.230024\n",
      "\n",
      "Generating rough body segmentation...\n",
      "Resampling...\n",
      "  Resampled in 0.27s\n",
      "Predicting...\n"
     ]
    },
    {
     "name": "stderr",
     "output_type": "stream",
     "text": [
      "/ocean/projects/asc170022p/mtragoza/mambaforge/envs/lung-project/lib/python3.10/site-packages/nnunetv2/utilities/plans_handling/plans_handler.py:37: UserWarning: Detected old nnU-Net plans format. Attempting to reconstruct network architecture parameters. If this fails, rerun nnUNetv2_plan_experiment for your dataset. If you use a custom architecture, please downgrade nnU-Net to the version you implemented this or update your implementation + plans.\n",
      "  warnings.warn(\"Detected old nnU-Net plans format. Attempting to reconstruct network architecture \"\n",
      "100%|██████████| 1/1 [00:00<00:00, 102.30it/s]\n"
     ]
    },
    {
     "name": "stdout",
     "output_type": "stream",
     "text": [
      "  Predicted in 10.21s\n",
      "Resampling...\n",
      "  cropping from (256, 256, 94) to (208, 171, 69)\n",
      "Predicting...\n"
     ]
    },
    {
     "name": "stderr",
     "output_type": "stream",
     "text": [
      "100%|██████████| 60/60 [00:03<00:00, 17.98it/s]\n"
     ]
    },
    {
     "name": "stdout",
     "output_type": "stream",
     "text": [
      "  Predicted in 24.28s\n",
      "Saving segmentations...\n",
      "Creating lung_vessels.nii.gz\n",
      "\n",
      "Creating lung_trachea_bronchia.nii.gz"
     ]
    },
    {
     "data": {
      "application/vnd.jupyter.widget-view+json": {
       "model_id": "5c0e91e4c44244cf9f98487e143c9c26",
       "version_major": 2,
       "version_minor": 0
      },
      "text/plain": [
       "  0%|          | 0/2 [00:00<?, ?it/s]"
      ]
     },
     "metadata": {},
     "output_type": "display_data"
    },
    {
     "name": "stdout",
     "output_type": "stream",
     "text": [
      "  Saved in 0.47s\n",
      "\n",
      "If you use this tool please cite: https://pubs.rsna.org/doi/10.1148/ryai.230024\n",
      "\n",
      "Resampling...\n",
      "  Resampled in 3.70s\n",
      "Predicting...\n"
     ]
    },
    {
     "name": "stderr",
     "output_type": "stream",
     "text": [
      "/ocean/projects/asc170022p/mtragoza/mambaforge/envs/lung-project/lib/python3.10/site-packages/nnunetv2/utilities/plans_handling/plans_handler.py:37: UserWarning: Detected old nnU-Net plans format. Attempting to reconstruct network architecture parameters. If this fails, rerun nnUNetv2_plan_experiment for your dataset. If you use a custom architecture, please downgrade nnU-Net to the version you implemented this or update your implementation + plans.\n",
      "  warnings.warn(\"Detected old nnU-Net plans format. Attempting to reconstruct network architecture \"\n",
      "100%|██████████| 27/27 [00:01<00:00, 21.30it/s]\n"
     ]
    },
    {
     "name": "stdout",
     "output_type": "stream",
     "text": [
      "  Predicted in 11.88s\n"
     ]
    },
    {
     "name": "stderr",
     "output_type": "stream",
     "text": [
      "100%|██████████| 1/1 [00:00<00:00,  5.01it/s]\n",
      "100%|██████████| 1/1 [00:00<00:00,  5.48it/s]\n"
     ]
    },
    {
     "name": "stdout",
     "output_type": "stream",
     "text": [
      "Resampling...\n",
      "Saving segmentations...\n",
      "Creating body_trunc.nii.gz\n",
      "\n"
     ]
    },
    {
     "data": {
      "application/vnd.jupyter.widget-view+json": {
       "model_id": "4c549608646c418a9e6f4b2b52733531",
       "version_major": 2,
       "version_minor": 0
      },
      "text/plain": [
       "  0%|          | 0/2 [00:00<?, ?it/s]"
      ]
     },
     "metadata": {},
     "output_type": "display_data"
    },
    {
     "name": "stdout",
     "output_type": "stream",
     "text": [
      "Creating body_extremities.nii.gz  Saved in 42.49s\n",
      "Creating body.nii.gz\n",
      "Creating skin.nii.gz\n",
      "Segmenting Case9Pack phase 10\n",
      "\n",
      "If you use this tool please cite: https://pubs.rsna.org/doi/10.1148/ryai.230024\n",
      "\n",
      "Generating rough body segmentation...\n",
      "Resampling...\n",
      "  Resampled in 0.27s\n",
      "Predicting...\n"
     ]
    },
    {
     "name": "stderr",
     "output_type": "stream",
     "text": [
      "/ocean/projects/asc170022p/mtragoza/mambaforge/envs/lung-project/lib/python3.10/site-packages/nnunetv2/utilities/plans_handling/plans_handler.py:37: UserWarning: Detected old nnU-Net plans format. Attempting to reconstruct network architecture parameters. If this fails, rerun nnUNetv2_plan_experiment for your dataset. If you use a custom architecture, please downgrade nnU-Net to the version you implemented this or update your implementation + plans.\n",
      "  warnings.warn(\"Detected old nnU-Net plans format. Attempting to reconstruct network architecture \"\n",
      "100%|██████████| 1/1 [00:00<00:00, 91.99it/s]\n"
     ]
    },
    {
     "name": "stdout",
     "output_type": "stream",
     "text": [
      "  Predicted in 8.03s\n",
      "Resampling...\n",
      "  cropping from (256, 256, 94) to (208, 171, 71)\n",
      "Resampling...\n",
      "  Resampled in 1.52s\n",
      "Predicting part 1 of 1 ...\n"
     ]
    },
    {
     "name": "stderr",
     "output_type": "stream",
     "text": [
      "100%|██████████| 8/8 [00:00<00:00, 32.14it/s]\n"
     ]
    },
    {
     "name": "stdout",
     "output_type": "stream",
     "text": [
      "  Predicted in 9.91s\n",
      "Resampling...\n",
      "Saving segmentations...\n"
     ]
    },
    {
     "data": {
      "application/vnd.jupyter.widget-view+json": {
       "model_id": "3da25e74581e452faf08c300eff46cc7",
       "version_major": 2,
       "version_minor": 0
      },
      "text/plain": [
       "  0%|          | 0/5 [00:00<?, ?it/s]"
      ]
     },
     "metadata": {},
     "output_type": "display_data"
    },
    {
     "name": "stdout",
     "output_type": "stream",
     "text": [
      "  Saved in 994.23s\n",
      "\n",
      "If you use this tool please cite: https://pubs.rsna.org/doi/10.1148/ryai.230024\n",
      "\n",
      "Generating rough body segmentation...\n",
      "Resampling...\n",
      "  Resampled in 0.27s\n",
      "Predicting...\n"
     ]
    },
    {
     "name": "stderr",
     "output_type": "stream",
     "text": [
      "/ocean/projects/asc170022p/mtragoza/mambaforge/envs/lung-project/lib/python3.10/site-packages/nnunetv2/utilities/plans_handling/plans_handler.py:37: UserWarning: Detected old nnU-Net plans format. Attempting to reconstruct network architecture parameters. If this fails, rerun nnUNetv2_plan_experiment for your dataset. If you use a custom architecture, please downgrade nnU-Net to the version you implemented this or update your implementation + plans.\n",
      "  warnings.warn(\"Detected old nnU-Net plans format. Attempting to reconstruct network architecture \"\n",
      "100%|██████████| 1/1 [00:01<00:00,  1.13s/it]\n"
     ]
    },
    {
     "name": "stdout",
     "output_type": "stream",
     "text": [
      "  Predicted in 12.68s\n",
      "Resampling...\n",
      "  cropping from (256, 256, 94) to (208, 171, 71)\n",
      "Predicting...\n"
     ]
    },
    {
     "name": "stderr",
     "output_type": "stream",
     "text": [
      "100%|██████████| 60/60 [00:03<00:00, 17.65it/s]\n"
     ]
    },
    {
     "name": "stdout",
     "output_type": "stream",
     "text": [
      "  Predicted in 24.42s\n",
      "Saving segmentations...\n"
     ]
    },
    {
     "data": {
      "application/vnd.jupyter.widget-view+json": {
       "model_id": "81bb7f1febce45fda68c5cc6e0c5c3c8",
       "version_major": 2,
       "version_minor": 0
      },
      "text/plain": [
       "  0%|          | 0/2 [00:00<?, ?it/s]"
      ]
     },
     "metadata": {},
     "output_type": "display_data"
    },
    {
     "name": "stdout",
     "output_type": "stream",
     "text": [
      "Creating lung_trachea_bronchia.nii.gzCreating lung_vessels.nii.gz\n",
      "\n",
      "  Saved in 0.58s\n",
      "\n",
      "If you use this tool please cite: https://pubs.rsna.org/doi/10.1148/ryai.230024\n",
      "\n",
      "Resampling...\n",
      "  Resampled in 3.69s\n",
      "Predicting...\n"
     ]
    },
    {
     "name": "stderr",
     "output_type": "stream",
     "text": [
      "/ocean/projects/asc170022p/mtragoza/mambaforge/envs/lung-project/lib/python3.10/site-packages/nnunetv2/utilities/plans_handling/plans_handler.py:37: UserWarning: Detected old nnU-Net plans format. Attempting to reconstruct network architecture parameters. If this fails, rerun nnUNetv2_plan_experiment for your dataset. If you use a custom architecture, please downgrade nnU-Net to the version you implemented this or update your implementation + plans.\n",
      "  warnings.warn(\"Detected old nnU-Net plans format. Attempting to reconstruct network architecture \"\n",
      "100%|██████████| 27/27 [00:01<00:00, 21.10it/s]\n"
     ]
    },
    {
     "name": "stdout",
     "output_type": "stream",
     "text": [
      "  Predicted in 11.75s\n"
     ]
    },
    {
     "name": "stderr",
     "output_type": "stream",
     "text": [
      "100%|██████████| 1/1 [00:00<00:00,  5.11it/s]\n",
      "100%|██████████| 1/1 [00:00<00:00,  5.46it/s]\n"
     ]
    },
    {
     "name": "stdout",
     "output_type": "stream",
     "text": [
      "Resampling...\n",
      "Saving segmentations...\n",
      "Creating body_trunc.nii.gz\n",
      "Creating body_extremities.nii.gz\n"
     ]
    },
    {
     "data": {
      "application/vnd.jupyter.widget-view+json": {
       "model_id": "e0bf3c614d4746979123853cadab8665",
       "version_major": 2,
       "version_minor": 0
      },
      "text/plain": [
       "  0%|          | 0/2 [00:00<?, ?it/s]"
      ]
     },
     "metadata": {},
     "output_type": "display_data"
    },
    {
     "name": "stdout",
     "output_type": "stream",
     "text": [
      "  Saved in 2.00s\n",
      "Creating body.nii.gz\n",
      "Creating skin.nii.gz\n",
      "Segmenting Case9Pack phase 20\n",
      "\n",
      "If you use this tool please cite: https://pubs.rsna.org/doi/10.1148/ryai.230024\n",
      "\n",
      "Generating rough body segmentation...\n",
      "Resampling...\n",
      "  Resampled in 0.27s\n",
      "Predicting...\n"
     ]
    },
    {
     "name": "stderr",
     "output_type": "stream",
     "text": [
      "/ocean/projects/asc170022p/mtragoza/mambaforge/envs/lung-project/lib/python3.10/site-packages/nnunetv2/utilities/plans_handling/plans_handler.py:37: UserWarning: Detected old nnU-Net plans format. Attempting to reconstruct network architecture parameters. If this fails, rerun nnUNetv2_plan_experiment for your dataset. If you use a custom architecture, please downgrade nnU-Net to the version you implemented this or update your implementation + plans.\n",
      "  warnings.warn(\"Detected old nnU-Net plans format. Attempting to reconstruct network architecture \"\n",
      "100%|██████████| 1/1 [00:00<00:00, 77.41it/s]\n"
     ]
    },
    {
     "name": "stdout",
     "output_type": "stream",
     "text": [
      "  Predicted in 8.13s\n",
      "Resampling...\n",
      "  cropping from (256, 256, 94) to (208, 171, 73)\n",
      "Resampling...\n",
      "  Resampled in 1.56s\n",
      "Predicting part 1 of 1 ...\n"
     ]
    },
    {
     "name": "stderr",
     "output_type": "stream",
     "text": [
      "100%|██████████| 8/8 [00:00<00:00, 32.62it/s]\n"
     ]
    },
    {
     "name": "stdout",
     "output_type": "stream",
     "text": [
      "  Predicted in 10.30s\n",
      "Resampling...\n",
      "Saving segmentations...\n"
     ]
    },
    {
     "data": {
      "application/vnd.jupyter.widget-view+json": {
       "model_id": "4cb0089b96a34bf499a9a7f629895891",
       "version_major": 2,
       "version_minor": 0
      },
      "text/plain": [
       "  0%|          | 0/5 [00:00<?, ?it/s]"
      ]
     },
     "metadata": {},
     "output_type": "display_data"
    },
    {
     "name": "stdout",
     "output_type": "stream",
     "text": [
      "  Saved in 0.55s\n",
      "\n",
      "If you use this tool please cite: https://pubs.rsna.org/doi/10.1148/ryai.230024\n",
      "\n",
      "Generating rough body segmentation...\n",
      "Resampling...\n",
      "  Resampled in 0.27s\n",
      "Predicting...\n"
     ]
    },
    {
     "name": "stderr",
     "output_type": "stream",
     "text": [
      "/ocean/projects/asc170022p/mtragoza/mambaforge/envs/lung-project/lib/python3.10/site-packages/nnunetv2/utilities/plans_handling/plans_handler.py:37: UserWarning: Detected old nnU-Net plans format. Attempting to reconstruct network architecture parameters. If this fails, rerun nnUNetv2_plan_experiment for your dataset. If you use a custom architecture, please downgrade nnU-Net to the version you implemented this or update your implementation + plans.\n",
      "  warnings.warn(\"Detected old nnU-Net plans format. Attempting to reconstruct network architecture \"\n",
      "100%|██████████| 1/1 [00:00<00:00, 95.16it/s]\n"
     ]
    },
    {
     "name": "stdout",
     "output_type": "stream",
     "text": [
      "  Predicted in 8.03s\n",
      "Resampling...\n",
      "  cropping from (256, 256, 94) to (208, 171, 73)\n",
      "Predicting...\n"
     ]
    },
    {
     "name": "stderr",
     "output_type": "stream",
     "text": [
      "100%|██████████| 60/60 [00:03<00:00, 17.96it/s]\n"
     ]
    },
    {
     "name": "stdout",
     "output_type": "stream",
     "text": [
      "  Predicted in 24.29s\n",
      "Saving segmentations...\n",
      "Creating lung_vessels.nii.gz"
     ]
    },
    {
     "data": {
      "application/vnd.jupyter.widget-view+json": {
       "model_id": "3a11cb6bdbd54d638ff89b4d4ad88972",
       "version_major": 2,
       "version_minor": 0
      },
      "text/plain": [
       "  0%|          | 0/2 [00:00<?, ?it/s]"
      ]
     },
     "metadata": {},
     "output_type": "display_data"
    },
    {
     "name": "stdout",
     "output_type": "stream",
     "text": [
      "\n",
      "Creating lung_trachea_bronchia.nii.gz\n",
      "  Saved in 0.56s\n",
      "\n",
      "If you use this tool please cite: https://pubs.rsna.org/doi/10.1148/ryai.230024\n",
      "\n",
      "Resampling...\n",
      "  Resampled in 3.73s\n",
      "Predicting...\n"
     ]
    },
    {
     "name": "stderr",
     "output_type": "stream",
     "text": [
      "/ocean/projects/asc170022p/mtragoza/mambaforge/envs/lung-project/lib/python3.10/site-packages/nnunetv2/utilities/plans_handling/plans_handler.py:37: UserWarning: Detected old nnU-Net plans format. Attempting to reconstruct network architecture parameters. If this fails, rerun nnUNetv2_plan_experiment for your dataset. If you use a custom architecture, please downgrade nnU-Net to the version you implemented this or update your implementation + plans.\n",
      "  warnings.warn(\"Detected old nnU-Net plans format. Attempting to reconstruct network architecture \"\n",
      "100%|██████████| 27/27 [00:01<00:00, 21.14it/s]\n"
     ]
    },
    {
     "name": "stdout",
     "output_type": "stream",
     "text": [
      "  Predicted in 11.72s\n"
     ]
    },
    {
     "name": "stderr",
     "output_type": "stream",
     "text": [
      "100%|██████████| 1/1 [00:00<00:00,  5.05it/s]\n",
      "100%|██████████| 1/1 [00:00<00:00,  5.47it/s]\n"
     ]
    },
    {
     "name": "stdout",
     "output_type": "stream",
     "text": [
      "Resampling...\n",
      "Saving segmentations...\n",
      "Creating body_trunc.nii.gz\n"
     ]
    },
    {
     "data": {
      "application/vnd.jupyter.widget-view+json": {
       "model_id": "3aa7a925d0c847b896dee742ac833438",
       "version_major": 2,
       "version_minor": 0
      },
      "text/plain": [
       "  0%|          | 0/2 [00:00<?, ?it/s]"
      ]
     },
     "metadata": {},
     "output_type": "display_data"
    },
    {
     "name": "stdout",
     "output_type": "stream",
     "text": [
      "Creating body_extremities.nii.gz\n",
      "  Saved in 0.37s\n",
      "Creating body.nii.gz\n",
      "Creating skin.nii.gz\n",
      "Segmenting Case9Pack phase 30\n",
      "\n",
      "If you use this tool please cite: https://pubs.rsna.org/doi/10.1148/ryai.230024\n",
      "\n",
      "Generating rough body segmentation...\n",
      "Resampling...\n",
      "  Resampled in 0.27s\n",
      "Predicting...\n"
     ]
    },
    {
     "name": "stderr",
     "output_type": "stream",
     "text": [
      "/ocean/projects/asc170022p/mtragoza/mambaforge/envs/lung-project/lib/python3.10/site-packages/nnunetv2/utilities/plans_handling/plans_handler.py:37: UserWarning: Detected old nnU-Net plans format. Attempting to reconstruct network architecture parameters. If this fails, rerun nnUNetv2_plan_experiment for your dataset. If you use a custom architecture, please downgrade nnU-Net to the version you implemented this or update your implementation + plans.\n",
      "  warnings.warn(\"Detected old nnU-Net plans format. Attempting to reconstruct network architecture \"\n",
      "100%|██████████| 1/1 [00:00<00:00, 76.75it/s]\n"
     ]
    },
    {
     "name": "stdout",
     "output_type": "stream",
     "text": [
      "  Predicted in 8.16s\n",
      "Resampling...\n",
      "  cropping from (256, 256, 94) to (208, 167, 65)\n",
      "Resampling...\n",
      "  Resampled in 1.36s\n",
      "Predicting part 1 of 1 ...\n"
     ]
    },
    {
     "name": "stderr",
     "output_type": "stream",
     "text": [
      "100%|██████████| 8/8 [00:00<00:00, 31.96it/s]\n"
     ]
    },
    {
     "name": "stdout",
     "output_type": "stream",
     "text": [
      "  Predicted in 9.83s\n",
      "Resampling...\n",
      "Saving segmentations...\n"
     ]
    },
    {
     "data": {
      "application/vnd.jupyter.widget-view+json": {
       "model_id": "8c156d6eb1fa4068ada60b93565746a1",
       "version_major": 2,
       "version_minor": 0
      },
      "text/plain": [
       "  0%|          | 0/5 [00:00<?, ?it/s]"
      ]
     },
     "metadata": {},
     "output_type": "display_data"
    },
    {
     "name": "stdout",
     "output_type": "stream",
     "text": [
      "  Saved in 0.59s\n",
      "\n",
      "If you use this tool please cite: https://pubs.rsna.org/doi/10.1148/ryai.230024\n",
      "\n",
      "Generating rough body segmentation...\n",
      "Resampling...\n",
      "  Resampled in 0.27s\n",
      "Predicting...\n"
     ]
    },
    {
     "name": "stderr",
     "output_type": "stream",
     "text": [
      "/ocean/projects/asc170022p/mtragoza/mambaforge/envs/lung-project/lib/python3.10/site-packages/nnunetv2/utilities/plans_handling/plans_handler.py:37: UserWarning: Detected old nnU-Net plans format. Attempting to reconstruct network architecture parameters. If this fails, rerun nnUNetv2_plan_experiment for your dataset. If you use a custom architecture, please downgrade nnU-Net to the version you implemented this or update your implementation + plans.\n",
      "  warnings.warn(\"Detected old nnU-Net plans format. Attempting to reconstruct network architecture \"\n",
      "100%|██████████| 1/1 [00:00<00:00, 48.16it/s]\n"
     ]
    },
    {
     "name": "stdout",
     "output_type": "stream",
     "text": [
      "  Predicted in 8.17s\n",
      "Resampling...\n",
      "  cropping from (256, 256, 94) to (208, 167, 65)\n",
      "Predicting...\n"
     ]
    },
    {
     "name": "stderr",
     "output_type": "stream",
     "text": [
      "100%|██████████| 60/60 [00:03<00:00, 17.94it/s]\n"
     ]
    },
    {
     "name": "stdout",
     "output_type": "stream",
     "text": [
      "  Predicted in 22.65s\n",
      "Saving segmentations...\n",
      "Creating lung_vessels.nii.gz\n",
      "Creating lung_trachea_bronchia.nii.gz"
     ]
    },
    {
     "data": {
      "application/vnd.jupyter.widget-view+json": {
       "model_id": "92533b7524e244188d408cec2f3189c5",
       "version_major": 2,
       "version_minor": 0
      },
      "text/plain": [
       "  0%|          | 0/2 [00:00<?, ?it/s]"
      ]
     },
     "metadata": {},
     "output_type": "display_data"
    },
    {
     "name": "stdout",
     "output_type": "stream",
     "text": [
      "\n",
      "  Saved in 0.47s\n",
      "\n",
      "If you use this tool please cite: https://pubs.rsna.org/doi/10.1148/ryai.230024\n",
      "\n",
      "Resampling...\n",
      "  Resampled in 3.70s\n",
      "Predicting...\n"
     ]
    },
    {
     "name": "stderr",
     "output_type": "stream",
     "text": [
      "/ocean/projects/asc170022p/mtragoza/mambaforge/envs/lung-project/lib/python3.10/site-packages/nnunetv2/utilities/plans_handling/plans_handler.py:37: UserWarning: Detected old nnU-Net plans format. Attempting to reconstruct network architecture parameters. If this fails, rerun nnUNetv2_plan_experiment for your dataset. If you use a custom architecture, please downgrade nnU-Net to the version you implemented this or update your implementation + plans.\n",
      "  warnings.warn(\"Detected old nnU-Net plans format. Attempting to reconstruct network architecture \"\n",
      "100%|██████████| 27/27 [00:01<00:00, 21.25it/s]\n"
     ]
    },
    {
     "name": "stdout",
     "output_type": "stream",
     "text": [
      "  Predicted in 11.68s\n"
     ]
    },
    {
     "name": "stderr",
     "output_type": "stream",
     "text": [
      "100%|██████████| 1/1 [00:00<00:00,  5.29it/s]\n",
      "100%|██████████| 1/1 [00:00<00:00,  5.51it/s]\n"
     ]
    },
    {
     "name": "stdout",
     "output_type": "stream",
     "text": [
      "Resampling...\n",
      "Saving segmentations...\n",
      "Creating body_trunc.nii.gz\n",
      "\n",
      "Creating body_extremities.nii.gz"
     ]
    },
    {
     "data": {
      "application/vnd.jupyter.widget-view+json": {
       "model_id": "4ac9e4d0c6ff48f5a21ff6af25454ab5",
       "version_major": 2,
       "version_minor": 0
      },
      "text/plain": [
       "  0%|          | 0/2 [00:00<?, ?it/s]"
      ]
     },
     "metadata": {},
     "output_type": "display_data"
    },
    {
     "name": "stdout",
     "output_type": "stream",
     "text": [
      "  Saved in 0.41s\n",
      "Creating body.nii.gz\n",
      "Creating skin.nii.gz\n",
      "Segmenting Case9Pack phase 40\n",
      "\n",
      "If you use this tool please cite: https://pubs.rsna.org/doi/10.1148/ryai.230024\n",
      "\n",
      "Generating rough body segmentation...\n",
      "Resampling...\n",
      "  Resampled in 0.27s\n",
      "Predicting...\n"
     ]
    },
    {
     "name": "stderr",
     "output_type": "stream",
     "text": [
      "/ocean/projects/asc170022p/mtragoza/mambaforge/envs/lung-project/lib/python3.10/site-packages/nnunetv2/utilities/plans_handling/plans_handler.py:37: UserWarning: Detected old nnU-Net plans format. Attempting to reconstruct network architecture parameters. If this fails, rerun nnUNetv2_plan_experiment for your dataset. If you use a custom architecture, please downgrade nnU-Net to the version you implemented this or update your implementation + plans.\n",
      "  warnings.warn(\"Detected old nnU-Net plans format. Attempting to reconstruct network architecture \"\n",
      "100%|██████████| 1/1 [00:00<00:00, 94.56it/s]\n"
     ]
    },
    {
     "name": "stdout",
     "output_type": "stream",
     "text": [
      "  Predicted in 8.14s\n",
      "Resampling...\n",
      "  cropping from (256, 256, 94) to (208, 167, 65)\n",
      "Resampling...\n",
      "  Resampled in 1.34s\n",
      "Predicting part 1 of 1 ...\n"
     ]
    },
    {
     "name": "stderr",
     "output_type": "stream",
     "text": [
      "100%|██████████| 8/8 [00:00<00:00, 33.24it/s]\n"
     ]
    },
    {
     "name": "stdout",
     "output_type": "stream",
     "text": [
      "  Predicted in 9.95s\n",
      "Resampling...\n",
      "Saving segmentations...\n"
     ]
    },
    {
     "data": {
      "application/vnd.jupyter.widget-view+json": {
       "model_id": "0c83aeb61305431695b5eb0e13e1a08b",
       "version_major": 2,
       "version_minor": 0
      },
      "text/plain": [
       "  0%|          | 0/5 [00:00<?, ?it/s]"
      ]
     },
     "metadata": {},
     "output_type": "display_data"
    },
    {
     "name": "stdout",
     "output_type": "stream",
     "text": [
      "  Saved in 0.62s\n",
      "\n",
      "If you use this tool please cite: https://pubs.rsna.org/doi/10.1148/ryai.230024\n",
      "\n",
      "Generating rough body segmentation...\n",
      "Resampling...\n",
      "  Resampled in 0.27s\n",
      "Predicting...\n"
     ]
    },
    {
     "name": "stderr",
     "output_type": "stream",
     "text": [
      "/ocean/projects/asc170022p/mtragoza/mambaforge/envs/lung-project/lib/python3.10/site-packages/nnunetv2/utilities/plans_handling/plans_handler.py:37: UserWarning: Detected old nnU-Net plans format. Attempting to reconstruct network architecture parameters. If this fails, rerun nnUNetv2_plan_experiment for your dataset. If you use a custom architecture, please downgrade nnU-Net to the version you implemented this or update your implementation + plans.\n",
      "  warnings.warn(\"Detected old nnU-Net plans format. Attempting to reconstruct network architecture \"\n",
      "100%|██████████| 1/1 [00:00<00:00, 104.49it/s]\n"
     ]
    },
    {
     "name": "stdout",
     "output_type": "stream",
     "text": [
      "  Predicted in 8.33s\n",
      "Resampling...\n",
      "  cropping from (256, 256, 94) to (208, 167, 65)\n",
      "Predicting...\n"
     ]
    },
    {
     "name": "stderr",
     "output_type": "stream",
     "text": [
      "100%|██████████| 60/60 [00:03<00:00, 17.94it/s]\n"
     ]
    },
    {
     "name": "stdout",
     "output_type": "stream",
     "text": [
      "  Predicted in 22.62s\n",
      "Saving segmentations...\n",
      "Creating lung_vessels.nii.gz\n",
      "Creating lung_trachea_bronchia.nii.gz"
     ]
    },
    {
     "data": {
      "application/vnd.jupyter.widget-view+json": {
       "model_id": "80b6cc8716b34ea493e3c78b69cd8b0e",
       "version_major": 2,
       "version_minor": 0
      },
      "text/plain": [
       "  0%|          | 0/2 [00:00<?, ?it/s]"
      ]
     },
     "metadata": {},
     "output_type": "display_data"
    },
    {
     "name": "stdout",
     "output_type": "stream",
     "text": [
      "\n",
      "  Saved in 0.46s\n",
      "\n",
      "If you use this tool please cite: https://pubs.rsna.org/doi/10.1148/ryai.230024\n",
      "\n",
      "Resampling...\n",
      "  Resampled in 3.70s\n",
      "Predicting...\n"
     ]
    },
    {
     "name": "stderr",
     "output_type": "stream",
     "text": [
      "/ocean/projects/asc170022p/mtragoza/mambaforge/envs/lung-project/lib/python3.10/site-packages/nnunetv2/utilities/plans_handling/plans_handler.py:37: UserWarning: Detected old nnU-Net plans format. Attempting to reconstruct network architecture parameters. If this fails, rerun nnUNetv2_plan_experiment for your dataset. If you use a custom architecture, please downgrade nnU-Net to the version you implemented this or update your implementation + plans.\n",
      "  warnings.warn(\"Detected old nnU-Net plans format. Attempting to reconstruct network architecture \"\n",
      "100%|██████████| 27/27 [00:01<00:00, 21.25it/s]\n"
     ]
    },
    {
     "name": "stdout",
     "output_type": "stream",
     "text": [
      "  Predicted in 12.68s\n"
     ]
    },
    {
     "name": "stderr",
     "output_type": "stream",
     "text": [
      "100%|██████████| 1/1 [00:00<00:00,  5.23it/s]\n",
      "100%|██████████| 1/1 [00:00<00:00,  5.43it/s]\n"
     ]
    },
    {
     "name": "stdout",
     "output_type": "stream",
     "text": [
      "Resampling...\n",
      "Saving segmentations...\n",
      "Creating body_trunc.nii.gz\n"
     ]
    },
    {
     "data": {
      "application/vnd.jupyter.widget-view+json": {
       "model_id": "3f7d6151aa204153a6f753aa9408319c",
       "version_major": 2,
       "version_minor": 0
      },
      "text/plain": [
       "  0%|          | 0/2 [00:00<?, ?it/s]"
      ]
     },
     "metadata": {},
     "output_type": "display_data"
    },
    {
     "name": "stdout",
     "output_type": "stream",
     "text": [
      "Creating body_extremities.nii.gz\n",
      "  Saved in 0.43s\n",
      "Creating body.nii.gz\n",
      "Creating skin.nii.gz\n",
      "Segmenting Case9Pack phase 50\n",
      "\n",
      "If you use this tool please cite: https://pubs.rsna.org/doi/10.1148/ryai.230024\n",
      "\n",
      "Generating rough body segmentation...\n",
      "Resampling...\n",
      "  Resampled in 0.27s\n",
      "Predicting...\n"
     ]
    },
    {
     "name": "stderr",
     "output_type": "stream",
     "text": [
      "/ocean/projects/asc170022p/mtragoza/mambaforge/envs/lung-project/lib/python3.10/site-packages/nnunetv2/utilities/plans_handling/plans_handler.py:37: UserWarning: Detected old nnU-Net plans format. Attempting to reconstruct network architecture parameters. If this fails, rerun nnUNetv2_plan_experiment for your dataset. If you use a custom architecture, please downgrade nnU-Net to the version you implemented this or update your implementation + plans.\n",
      "  warnings.warn(\"Detected old nnU-Net plans format. Attempting to reconstruct network architecture \"\n",
      "100%|██████████| 1/1 [00:00<00:00, 95.12it/s]\n"
     ]
    },
    {
     "name": "stdout",
     "output_type": "stream",
     "text": [
      "  Predicted in 8.23s\n",
      "Resampling...\n",
      "  cropping from (256, 256, 94) to (208, 167, 74)\n",
      "Resampling...\n",
      "  Resampled in 1.52s\n",
      "Predicting part 1 of 1 ...\n"
     ]
    },
    {
     "name": "stderr",
     "output_type": "stream",
     "text": [
      "100%|██████████| 8/8 [00:00<00:00, 32.37it/s]\n"
     ]
    },
    {
     "name": "stdout",
     "output_type": "stream",
     "text": [
      "  Predicted in 10.06s\n",
      "Resampling...\n",
      "Saving segmentations...\n"
     ]
    },
    {
     "data": {
      "application/vnd.jupyter.widget-view+json": {
       "model_id": "98d05398ce11413a99916ee7a50573fd",
       "version_major": 2,
       "version_minor": 0
      },
      "text/plain": [
       "  0%|          | 0/5 [00:00<?, ?it/s]"
      ]
     },
     "metadata": {},
     "output_type": "display_data"
    },
    {
     "name": "stdout",
     "output_type": "stream",
     "text": [
      "  Saved in 0.54s\n",
      "\n",
      "If you use this tool please cite: https://pubs.rsna.org/doi/10.1148/ryai.230024\n",
      "\n",
      "Generating rough body segmentation...\n",
      "Resampling...\n",
      "  Resampled in 0.27s\n",
      "Predicting...\n"
     ]
    },
    {
     "name": "stderr",
     "output_type": "stream",
     "text": [
      "/ocean/projects/asc170022p/mtragoza/mambaforge/envs/lung-project/lib/python3.10/site-packages/nnunetv2/utilities/plans_handling/plans_handler.py:37: UserWarning: Detected old nnU-Net plans format. Attempting to reconstruct network architecture parameters. If this fails, rerun nnUNetv2_plan_experiment for your dataset. If you use a custom architecture, please downgrade nnU-Net to the version you implemented this or update your implementation + plans.\n",
      "  warnings.warn(\"Detected old nnU-Net plans format. Attempting to reconstruct network architecture \"\n",
      "100%|██████████| 1/1 [00:00<00:00, 78.54it/s]\n"
     ]
    },
    {
     "name": "stdout",
     "output_type": "stream",
     "text": [
      "  Predicted in 8.31s\n",
      "Resampling...\n",
      "  cropping from (256, 256, 94) to (208, 167, 74)\n",
      "Predicting...\n"
     ]
    },
    {
     "name": "stderr",
     "output_type": "stream",
     "text": [
      "100%|██████████| 60/60 [00:03<00:00, 17.88it/s]\n"
     ]
    },
    {
     "name": "stdout",
     "output_type": "stream",
     "text": [
      "  Predicted in 24.18s\n",
      "Saving segmentations...\n",
      "Creating lung_vessels.nii.gz\n",
      "\n"
     ]
    },
    {
     "data": {
      "application/vnd.jupyter.widget-view+json": {
       "model_id": "bd77012d8fde4dc88992b4149984cc2d",
       "version_major": 2,
       "version_minor": 0
      },
      "text/plain": [
       "  0%|          | 0/2 [00:00<?, ?it/s]"
      ]
     },
     "metadata": {},
     "output_type": "display_data"
    },
    {
     "name": "stdout",
     "output_type": "stream",
     "text": [
      "Creating lung_trachea_bronchia.nii.gz  Saved in 0.46s\n",
      "\n",
      "If you use this tool please cite: https://pubs.rsna.org/doi/10.1148/ryai.230024\n",
      "\n",
      "Resampling...\n",
      "  Resampled in 3.71s\n",
      "Predicting...\n"
     ]
    },
    {
     "name": "stderr",
     "output_type": "stream",
     "text": [
      "/ocean/projects/asc170022p/mtragoza/mambaforge/envs/lung-project/lib/python3.10/site-packages/nnunetv2/utilities/plans_handling/plans_handler.py:37: UserWarning: Detected old nnU-Net plans format. Attempting to reconstruct network architecture parameters. If this fails, rerun nnUNetv2_plan_experiment for your dataset. If you use a custom architecture, please downgrade nnU-Net to the version you implemented this or update your implementation + plans.\n",
      "  warnings.warn(\"Detected old nnU-Net plans format. Attempting to reconstruct network architecture \"\n",
      "100%|██████████| 27/27 [00:01<00:00, 21.16it/s]\n"
     ]
    },
    {
     "name": "stdout",
     "output_type": "stream",
     "text": [
      "  Predicted in 11.92s\n"
     ]
    },
    {
     "name": "stderr",
     "output_type": "stream",
     "text": [
      "100%|██████████| 1/1 [00:00<00:00,  5.04it/s]\n",
      "100%|██████████| 1/1 [00:00<00:00,  5.55it/s]\n"
     ]
    },
    {
     "name": "stdout",
     "output_type": "stream",
     "text": [
      "Resampling...\n",
      "Saving segmentations...\n",
      "Creating body_trunc.nii.gz\n",
      "Creating body_extremities.nii.gz\n"
     ]
    },
    {
     "data": {
      "application/vnd.jupyter.widget-view+json": {
       "model_id": "3508dcc662bf47fa858637dc7861e1fa",
       "version_major": 2,
       "version_minor": 0
      },
      "text/plain": [
       "  0%|          | 0/2 [00:00<?, ?it/s]"
      ]
     },
     "metadata": {},
     "output_type": "display_data"
    },
    {
     "name": "stdout",
     "output_type": "stream",
     "text": [
      "  Saved in 0.38s\n",
      "Creating body.nii.gz\n",
      "Creating skin.nii.gz\n",
      "Segmenting Case9Pack phase 60\n",
      "\n",
      "If you use this tool please cite: https://pubs.rsna.org/doi/10.1148/ryai.230024\n",
      "\n",
      "Generating rough body segmentation...\n",
      "Resampling...\n",
      "  Resampled in 0.27s\n",
      "Predicting...\n"
     ]
    },
    {
     "name": "stderr",
     "output_type": "stream",
     "text": [
      "/ocean/projects/asc170022p/mtragoza/mambaforge/envs/lung-project/lib/python3.10/site-packages/nnunetv2/utilities/plans_handling/plans_handler.py:37: UserWarning: Detected old nnU-Net plans format. Attempting to reconstruct network architecture parameters. If this fails, rerun nnUNetv2_plan_experiment for your dataset. If you use a custom architecture, please downgrade nnU-Net to the version you implemented this or update your implementation + plans.\n",
      "  warnings.warn(\"Detected old nnU-Net plans format. Attempting to reconstruct network architecture \"\n",
      "100%|██████████| 1/1 [00:00<00:00, 90.20it/s]\n"
     ]
    },
    {
     "name": "stdout",
     "output_type": "stream",
     "text": [
      "  Predicted in 8.29s\n",
      "Resampling...\n",
      "  cropping from (256, 256, 94) to (208, 167, 65)\n",
      "Resampling...\n",
      "  Resampled in 1.34s\n",
      "Predicting part 1 of 1 ...\n"
     ]
    },
    {
     "name": "stderr",
     "output_type": "stream",
     "text": [
      "100%|██████████| 8/8 [00:00<00:00, 31.97it/s]\n"
     ]
    },
    {
     "name": "stdout",
     "output_type": "stream",
     "text": [
      "  Predicted in 10.04s\n",
      "Resampling...\n",
      "Saving segmentations...\n"
     ]
    },
    {
     "data": {
      "application/vnd.jupyter.widget-view+json": {
       "model_id": "a6a98ff7fcec4f6a878b8c7520f848df",
       "version_major": 2,
       "version_minor": 0
      },
      "text/plain": [
       "  0%|          | 0/5 [00:00<?, ?it/s]"
      ]
     },
     "metadata": {},
     "output_type": "display_data"
    },
    {
     "name": "stdout",
     "output_type": "stream",
     "text": [
      "  Saved in 0.55s\n",
      "\n",
      "If you use this tool please cite: https://pubs.rsna.org/doi/10.1148/ryai.230024\n",
      "\n",
      "Generating rough body segmentation...\n",
      "Resampling...\n",
      "  Resampled in 0.27s\n",
      "Predicting...\n"
     ]
    },
    {
     "name": "stderr",
     "output_type": "stream",
     "text": [
      "/ocean/projects/asc170022p/mtragoza/mambaforge/envs/lung-project/lib/python3.10/site-packages/nnunetv2/utilities/plans_handling/plans_handler.py:37: UserWarning: Detected old nnU-Net plans format. Attempting to reconstruct network architecture parameters. If this fails, rerun nnUNetv2_plan_experiment for your dataset. If you use a custom architecture, please downgrade nnU-Net to the version you implemented this or update your implementation + plans.\n",
      "  warnings.warn(\"Detected old nnU-Net plans format. Attempting to reconstruct network architecture \"\n",
      "100%|██████████| 1/1 [00:00<00:00, 48.03it/s]\n"
     ]
    },
    {
     "name": "stdout",
     "output_type": "stream",
     "text": [
      "  Predicted in 8.22s\n",
      "Resampling...\n",
      "  cropping from (256, 256, 94) to (208, 167, 65)\n",
      "Predicting...\n"
     ]
    },
    {
     "name": "stderr",
     "output_type": "stream",
     "text": [
      "100%|██████████| 60/60 [00:03<00:00, 17.91it/s]\n"
     ]
    },
    {
     "name": "stdout",
     "output_type": "stream",
     "text": [
      "  Predicted in 22.65s\n",
      "Saving segmentations...\n",
      "Creating lung_vessels.nii.gz\n",
      "Creating lung_trachea_bronchia.nii.gz\n"
     ]
    },
    {
     "data": {
      "application/vnd.jupyter.widget-view+json": {
       "model_id": "d9c7474bf00d4538bee5e47ef73abf30",
       "version_major": 2,
       "version_minor": 0
      },
      "text/plain": [
       "  0%|          | 0/2 [00:00<?, ?it/s]"
      ]
     },
     "metadata": {},
     "output_type": "display_data"
    },
    {
     "name": "stdout",
     "output_type": "stream",
     "text": [
      "  Saved in 0.46s\n",
      "\n",
      "If you use this tool please cite: https://pubs.rsna.org/doi/10.1148/ryai.230024\n",
      "\n",
      "Resampling...\n",
      "  Resampled in 3.71s\n",
      "Predicting...\n"
     ]
    },
    {
     "name": "stderr",
     "output_type": "stream",
     "text": [
      "/ocean/projects/asc170022p/mtragoza/mambaforge/envs/lung-project/lib/python3.10/site-packages/nnunetv2/utilities/plans_handling/plans_handler.py:37: UserWarning: Detected old nnU-Net plans format. Attempting to reconstruct network architecture parameters. If this fails, rerun nnUNetv2_plan_experiment for your dataset. If you use a custom architecture, please downgrade nnU-Net to the version you implemented this or update your implementation + plans.\n",
      "  warnings.warn(\"Detected old nnU-Net plans format. Attempting to reconstruct network architecture \"\n",
      "100%|██████████| 27/27 [00:01<00:00, 21.17it/s]\n"
     ]
    },
    {
     "name": "stdout",
     "output_type": "stream",
     "text": [
      "  Predicted in 11.72s\n"
     ]
    },
    {
     "name": "stderr",
     "output_type": "stream",
     "text": [
      "100%|██████████| 1/1 [00:00<00:00,  5.32it/s]\n",
      "100%|██████████| 1/1 [00:00<00:00,  5.66it/s]\n"
     ]
    },
    {
     "name": "stdout",
     "output_type": "stream",
     "text": [
      "Resampling...\n",
      "Saving segmentations...\n",
      "Creating body_trunc.nii.gz\n",
      "Creating body_extremities.nii.gz\n"
     ]
    },
    {
     "data": {
      "application/vnd.jupyter.widget-view+json": {
       "model_id": "50fabecff6f848b59e5c9b3250bf6cb8",
       "version_major": 2,
       "version_minor": 0
      },
      "text/plain": [
       "  0%|          | 0/2 [00:00<?, ?it/s]"
      ]
     },
     "metadata": {},
     "output_type": "display_data"
    },
    {
     "name": "stdout",
     "output_type": "stream",
     "text": [
      "  Saved in 0.35s\n",
      "Creating body.nii.gz\n",
      "Creating skin.nii.gz\n",
      "Segmenting Case9Pack phase 70\n",
      "\n",
      "If you use this tool please cite: https://pubs.rsna.org/doi/10.1148/ryai.230024\n",
      "\n",
      "Generating rough body segmentation...\n",
      "Resampling...\n",
      "  Resampled in 0.27s\n",
      "Predicting...\n"
     ]
    },
    {
     "name": "stderr",
     "output_type": "stream",
     "text": [
      "/ocean/projects/asc170022p/mtragoza/mambaforge/envs/lung-project/lib/python3.10/site-packages/nnunetv2/utilities/plans_handling/plans_handler.py:37: UserWarning: Detected old nnU-Net plans format. Attempting to reconstruct network architecture parameters. If this fails, rerun nnUNetv2_plan_experiment for your dataset. If you use a custom architecture, please downgrade nnU-Net to the version you implemented this or update your implementation + plans.\n",
      "  warnings.warn(\"Detected old nnU-Net plans format. Attempting to reconstruct network architecture \"\n",
      "100%|██████████| 1/1 [00:00<00:00, 76.07it/s]\n"
     ]
    },
    {
     "name": "stdout",
     "output_type": "stream",
     "text": [
      "  Predicted in 8.32s\n",
      "Resampling...\n",
      "  cropping from (256, 256, 94) to (208, 167, 76)\n",
      "Resampling...\n",
      "  Resampled in 1.57s\n",
      "Predicting part 1 of 1 ...\n"
     ]
    },
    {
     "name": "stderr",
     "output_type": "stream",
     "text": [
      "100%|██████████| 8/8 [00:00<00:00, 32.96it/s]\n"
     ]
    },
    {
     "name": "stdout",
     "output_type": "stream",
     "text": [
      "  Predicted in 10.25s\n",
      "Resampling...\n",
      "Saving segmentations...\n"
     ]
    },
    {
     "data": {
      "application/vnd.jupyter.widget-view+json": {
       "model_id": "2a582576f4ad4dc29fd3c30ac49443c1",
       "version_major": 2,
       "version_minor": 0
      },
      "text/plain": [
       "  0%|          | 0/5 [00:00<?, ?it/s]"
      ]
     },
     "metadata": {},
     "output_type": "display_data"
    },
    {
     "name": "stdout",
     "output_type": "stream",
     "text": [
      "  Saved in 0.55s\n",
      "\n",
      "If you use this tool please cite: https://pubs.rsna.org/doi/10.1148/ryai.230024\n",
      "\n",
      "Generating rough body segmentation...\n",
      "Resampling...\n",
      "  Resampled in 0.27s\n",
      "Predicting...\n"
     ]
    },
    {
     "name": "stderr",
     "output_type": "stream",
     "text": [
      "/ocean/projects/asc170022p/mtragoza/mambaforge/envs/lung-project/lib/python3.10/site-packages/nnunetv2/utilities/plans_handling/plans_handler.py:37: UserWarning: Detected old nnU-Net plans format. Attempting to reconstruct network architecture parameters. If this fails, rerun nnUNetv2_plan_experiment for your dataset. If you use a custom architecture, please downgrade nnU-Net to the version you implemented this or update your implementation + plans.\n",
      "  warnings.warn(\"Detected old nnU-Net plans format. Attempting to reconstruct network architecture \"\n",
      "100%|██████████| 1/1 [00:00<00:00, 93.37it/s]\n"
     ]
    },
    {
     "name": "stdout",
     "output_type": "stream",
     "text": [
      "  Predicted in 8.16s\n",
      "Resampling...\n",
      "  cropping from (256, 256, 94) to (208, 167, 76)\n",
      "Predicting...\n"
     ]
    },
    {
     "name": "stderr",
     "output_type": "stream",
     "text": [
      "100%|██████████| 80/80 [00:04<00:00, 17.62it/s]\n"
     ]
    },
    {
     "name": "stdout",
     "output_type": "stream",
     "text": [
      "  Predicted in 25.52s\n",
      "Saving segmentations...\n",
      "Creating lung_vessels.nii.gz\n",
      "Creating lung_trachea_bronchia.nii.gz"
     ]
    },
    {
     "data": {
      "application/vnd.jupyter.widget-view+json": {
       "model_id": "59fc06b367f742f29e0ff7dc1523cf44",
       "version_major": 2,
       "version_minor": 0
      },
      "text/plain": [
       "  0%|          | 0/2 [00:00<?, ?it/s]"
      ]
     },
     "metadata": {},
     "output_type": "display_data"
    },
    {
     "name": "stdout",
     "output_type": "stream",
     "text": [
      "\n",
      "  Saved in 0.48s\n",
      "\n",
      "If you use this tool please cite: https://pubs.rsna.org/doi/10.1148/ryai.230024\n",
      "\n",
      "Resampling...\n",
      "  Resampled in 3.69s\n",
      "Predicting...\n"
     ]
    },
    {
     "name": "stderr",
     "output_type": "stream",
     "text": [
      "/ocean/projects/asc170022p/mtragoza/mambaforge/envs/lung-project/lib/python3.10/site-packages/nnunetv2/utilities/plans_handling/plans_handler.py:37: UserWarning: Detected old nnU-Net plans format. Attempting to reconstruct network architecture parameters. If this fails, rerun nnUNetv2_plan_experiment for your dataset. If you use a custom architecture, please downgrade nnU-Net to the version you implemented this or update your implementation + plans.\n",
      "  warnings.warn(\"Detected old nnU-Net plans format. Attempting to reconstruct network architecture \"\n",
      "100%|██████████| 27/27 [00:01<00:00, 21.11it/s]\n"
     ]
    },
    {
     "name": "stdout",
     "output_type": "stream",
     "text": [
      "  Predicted in 11.80s\n"
     ]
    },
    {
     "name": "stderr",
     "output_type": "stream",
     "text": [
      "100%|██████████| 1/1 [00:00<00:00,  5.57it/s]\n",
      "100%|██████████| 1/1 [00:00<00:00,  5.49it/s]\n"
     ]
    },
    {
     "name": "stdout",
     "output_type": "stream",
     "text": [
      "Resampling...\n",
      "Saving segmentations...\n",
      "Creating body_trunc.nii.gz\n",
      "Creating body_extremities.nii.gz"
     ]
    },
    {
     "data": {
      "application/vnd.jupyter.widget-view+json": {
       "model_id": "e61e83994cd84fc2a802153f4c998590",
       "version_major": 2,
       "version_minor": 0
      },
      "text/plain": [
       "  0%|          | 0/2 [00:00<?, ?it/s]"
      ]
     },
     "metadata": {},
     "output_type": "display_data"
    },
    {
     "name": "stdout",
     "output_type": "stream",
     "text": [
      "\n",
      "  Saved in 0.38s\n",
      "Creating body.nii.gz\n",
      "Creating skin.nii.gz\n",
      "Segmenting Case9Pack phase 80\n",
      "\n",
      "If you use this tool please cite: https://pubs.rsna.org/doi/10.1148/ryai.230024\n",
      "\n",
      "Generating rough body segmentation...\n",
      "Resampling...\n",
      "  Resampled in 0.27s\n",
      "Predicting...\n"
     ]
    },
    {
     "name": "stderr",
     "output_type": "stream",
     "text": [
      "/ocean/projects/asc170022p/mtragoza/mambaforge/envs/lung-project/lib/python3.10/site-packages/nnunetv2/utilities/plans_handling/plans_handler.py:37: UserWarning: Detected old nnU-Net plans format. Attempting to reconstruct network architecture parameters. If this fails, rerun nnUNetv2_plan_experiment for your dataset. If you use a custom architecture, please downgrade nnU-Net to the version you implemented this or update your implementation + plans.\n",
      "  warnings.warn(\"Detected old nnU-Net plans format. Attempting to reconstruct network architecture \"\n",
      "100%|██████████| 1/1 [00:00<00:00, 95.13it/s]\n"
     ]
    },
    {
     "name": "stdout",
     "output_type": "stream",
     "text": [
      "  Predicted in 8.17s\n",
      "Resampling...\n",
      "  cropping from (256, 256, 94) to (208, 167, 76)\n",
      "Resampling...\n",
      "  Resampled in 1.56s\n",
      "Predicting part 1 of 1 ...\n"
     ]
    },
    {
     "name": "stderr",
     "output_type": "stream",
     "text": [
      "100%|██████████| 8/8 [00:00<00:00, 33.04it/s]\n"
     ]
    },
    {
     "name": "stdout",
     "output_type": "stream",
     "text": [
      "  Predicted in 10.28s\n",
      "Resampling...\n",
      "Saving segmentations...\n"
     ]
    },
    {
     "data": {
      "application/vnd.jupyter.widget-view+json": {
       "model_id": "ebffb257f1d242c89f540487f0c86c02",
       "version_major": 2,
       "version_minor": 0
      },
      "text/plain": [
       "  0%|          | 0/5 [00:00<?, ?it/s]"
      ]
     },
     "metadata": {},
     "output_type": "display_data"
    },
    {
     "name": "stdout",
     "output_type": "stream",
     "text": [
      "  Saved in 0.62s\n",
      "\n",
      "If you use this tool please cite: https://pubs.rsna.org/doi/10.1148/ryai.230024\n",
      "\n",
      "Generating rough body segmentation...\n",
      "Resampling...\n",
      "  Resampled in 0.27s\n",
      "Predicting...\n"
     ]
    },
    {
     "name": "stderr",
     "output_type": "stream",
     "text": [
      "/ocean/projects/asc170022p/mtragoza/mambaforge/envs/lung-project/lib/python3.10/site-packages/nnunetv2/utilities/plans_handling/plans_handler.py:37: UserWarning: Detected old nnU-Net plans format. Attempting to reconstruct network architecture parameters. If this fails, rerun nnUNetv2_plan_experiment for your dataset. If you use a custom architecture, please downgrade nnU-Net to the version you implemented this or update your implementation + plans.\n",
      "  warnings.warn(\"Detected old nnU-Net plans format. Attempting to reconstruct network architecture \"\n",
      "100%|██████████| 1/1 [00:00<00:00, 95.19it/s]\n"
     ]
    },
    {
     "name": "stdout",
     "output_type": "stream",
     "text": [
      "  Predicted in 8.24s\n",
      "Resampling...\n",
      "  cropping from (256, 256, 94) to (208, 167, 76)\n",
      "Predicting...\n"
     ]
    },
    {
     "name": "stderr",
     "output_type": "stream",
     "text": [
      "100%|██████████| 80/80 [00:04<00:00, 17.63it/s]\n"
     ]
    },
    {
     "name": "stdout",
     "output_type": "stream",
     "text": [
      "  Predicted in 25.72s\n",
      "Saving segmentations...\n",
      "Creating lung_vessels.nii.gz\n"
     ]
    },
    {
     "data": {
      "application/vnd.jupyter.widget-view+json": {
       "model_id": "8418df3c1a2c4a72890e88d88ffaa1fc",
       "version_major": 2,
       "version_minor": 0
      },
      "text/plain": [
       "  0%|          | 0/2 [00:00<?, ?it/s]"
      ]
     },
     "metadata": {},
     "output_type": "display_data"
    },
    {
     "name": "stdout",
     "output_type": "stream",
     "text": [
      "Creating lung_trachea_bronchia.nii.gz\n",
      "  Saved in 0.54s\n",
      "\n",
      "If you use this tool please cite: https://pubs.rsna.org/doi/10.1148/ryai.230024\n",
      "\n",
      "Resampling...\n",
      "  Resampled in 3.69s\n",
      "Predicting...\n"
     ]
    },
    {
     "name": "stderr",
     "output_type": "stream",
     "text": [
      "/ocean/projects/asc170022p/mtragoza/mambaforge/envs/lung-project/lib/python3.10/site-packages/nnunetv2/utilities/plans_handling/plans_handler.py:37: UserWarning: Detected old nnU-Net plans format. Attempting to reconstruct network architecture parameters. If this fails, rerun nnUNetv2_plan_experiment for your dataset. If you use a custom architecture, please downgrade nnU-Net to the version you implemented this or update your implementation + plans.\n",
      "  warnings.warn(\"Detected old nnU-Net plans format. Attempting to reconstruct network architecture \"\n",
      "100%|██████████| 27/27 [00:01<00:00, 21.07it/s]\n"
     ]
    },
    {
     "name": "stdout",
     "output_type": "stream",
     "text": [
      "  Predicted in 11.82s\n"
     ]
    },
    {
     "name": "stderr",
     "output_type": "stream",
     "text": [
      "100%|██████████| 1/1 [00:00<00:00,  5.29it/s]\n",
      "100%|██████████| 1/1 [00:00<00:00,  5.63it/s]\n"
     ]
    },
    {
     "name": "stdout",
     "output_type": "stream",
     "text": [
      "Resampling...\n",
      "Saving segmentations...\n",
      "Creating body_trunc.nii.gz"
     ]
    },
    {
     "data": {
      "application/vnd.jupyter.widget-view+json": {
       "model_id": "646f45713da449d58c7c990d9b9fbab9",
       "version_major": 2,
       "version_minor": 0
      },
      "text/plain": [
       "  0%|          | 0/2 [00:00<?, ?it/s]"
      ]
     },
     "metadata": {},
     "output_type": "display_data"
    },
    {
     "name": "stdout",
     "output_type": "stream",
     "text": [
      "\n",
      "Creating body_extremities.nii.gz\n",
      "  Saved in 0.39s\n",
      "Creating body.nii.gz\n",
      "Creating skin.nii.gz\n",
      "Segmenting Case9Pack phase 90\n",
      "\n",
      "If you use this tool please cite: https://pubs.rsna.org/doi/10.1148/ryai.230024\n",
      "\n",
      "Generating rough body segmentation...\n",
      "Resampling...\n",
      "  Resampled in 0.27s\n",
      "Predicting...\n"
     ]
    },
    {
     "name": "stderr",
     "output_type": "stream",
     "text": [
      "/ocean/projects/asc170022p/mtragoza/mambaforge/envs/lung-project/lib/python3.10/site-packages/nnunetv2/utilities/plans_handling/plans_handler.py:37: UserWarning: Detected old nnU-Net plans format. Attempting to reconstruct network architecture parameters. If this fails, rerun nnUNetv2_plan_experiment for your dataset. If you use a custom architecture, please downgrade nnU-Net to the version you implemented this or update your implementation + plans.\n",
      "  warnings.warn(\"Detected old nnU-Net plans format. Attempting to reconstruct network architecture \"\n",
      "100%|██████████| 1/1 [00:00<00:00, 94.86it/s]\n"
     ]
    },
    {
     "name": "stdout",
     "output_type": "stream",
     "text": [
      "  Predicted in 8.26s\n",
      "Resampling...\n",
      "  cropping from (256, 256, 94) to (208, 167, 67)\n",
      "Resampling...\n",
      "  Resampled in 1.38s\n",
      "Predicting part 1 of 1 ...\n"
     ]
    },
    {
     "name": "stderr",
     "output_type": "stream",
     "text": [
      "100%|██████████| 8/8 [00:00<00:00, 32.66it/s]\n"
     ]
    },
    {
     "name": "stdout",
     "output_type": "stream",
     "text": [
      "  Predicted in 10.02s\n",
      "Resampling...\n",
      "Saving segmentations...\n"
     ]
    },
    {
     "data": {
      "application/vnd.jupyter.widget-view+json": {
       "model_id": "ac80478089d146a6a15ec57c903ecb77",
       "version_major": 2,
       "version_minor": 0
      },
      "text/plain": [
       "  0%|          | 0/5 [00:00<?, ?it/s]"
      ]
     },
     "metadata": {},
     "output_type": "display_data"
    },
    {
     "name": "stdout",
     "output_type": "stream",
     "text": [
      "  Saved in 0.54s\n",
      "\n",
      "If you use this tool please cite: https://pubs.rsna.org/doi/10.1148/ryai.230024\n",
      "\n",
      "Generating rough body segmentation...\n",
      "Resampling...\n",
      "  Resampled in 0.27s\n",
      "Predicting...\n"
     ]
    },
    {
     "name": "stderr",
     "output_type": "stream",
     "text": [
      "/ocean/projects/asc170022p/mtragoza/mambaforge/envs/lung-project/lib/python3.10/site-packages/nnunetv2/utilities/plans_handling/plans_handler.py:37: UserWarning: Detected old nnU-Net plans format. Attempting to reconstruct network architecture parameters. If this fails, rerun nnUNetv2_plan_experiment for your dataset. If you use a custom architecture, please downgrade nnU-Net to the version you implemented this or update your implementation + plans.\n",
      "  warnings.warn(\"Detected old nnU-Net plans format. Attempting to reconstruct network architecture \"\n",
      "100%|██████████| 1/1 [00:00<00:00, 108.46it/s]\n"
     ]
    },
    {
     "name": "stdout",
     "output_type": "stream",
     "text": [
      "  Predicted in 8.25s\n",
      "Resampling...\n",
      "  cropping from (256, 256, 94) to (208, 167, 67)\n",
      "Predicting...\n"
     ]
    },
    {
     "name": "stderr",
     "output_type": "stream",
     "text": [
      "100%|██████████| 60/60 [00:03<00:00, 17.89it/s]\n"
     ]
    },
    {
     "name": "stdout",
     "output_type": "stream",
     "text": [
      "  Predicted in 23.13s\n",
      "Saving segmentations...\n",
      "Creating lung_vessels.nii.gz\n",
      "\n"
     ]
    },
    {
     "data": {
      "application/vnd.jupyter.widget-view+json": {
       "model_id": "41669b94f49544979502eec17d648e40",
       "version_major": 2,
       "version_minor": 0
      },
      "text/plain": [
       "  0%|          | 0/2 [00:00<?, ?it/s]"
      ]
     },
     "metadata": {},
     "output_type": "display_data"
    },
    {
     "name": "stdout",
     "output_type": "stream",
     "text": [
      "Creating lung_trachea_bronchia.nii.gz  Saved in 0.51s\n",
      "\n",
      "If you use this tool please cite: https://pubs.rsna.org/doi/10.1148/ryai.230024\n",
      "\n",
      "Resampling...\n",
      "  Resampled in 3.68s\n",
      "Predicting...\n"
     ]
    },
    {
     "name": "stderr",
     "output_type": "stream",
     "text": [
      "/ocean/projects/asc170022p/mtragoza/mambaforge/envs/lung-project/lib/python3.10/site-packages/nnunetv2/utilities/plans_handling/plans_handler.py:37: UserWarning: Detected old nnU-Net plans format. Attempting to reconstruct network architecture parameters. If this fails, rerun nnUNetv2_plan_experiment for your dataset. If you use a custom architecture, please downgrade nnU-Net to the version you implemented this or update your implementation + plans.\n",
      "  warnings.warn(\"Detected old nnU-Net plans format. Attempting to reconstruct network architecture \"\n",
      "100%|██████████| 27/27 [00:01<00:00, 21.05it/s]\n"
     ]
    },
    {
     "name": "stdout",
     "output_type": "stream",
     "text": [
      "  Predicted in 11.62s\n"
     ]
    },
    {
     "name": "stderr",
     "output_type": "stream",
     "text": [
      "100%|██████████| 1/1 [00:00<00:00,  5.32it/s]\n",
      "100%|██████████| 1/1 [00:00<00:00,  5.59it/s]\n"
     ]
    },
    {
     "name": "stdout",
     "output_type": "stream",
     "text": [
      "Resampling...\n",
      "Saving segmentations...\n",
      "Creating body_trunc.nii.gz\n"
     ]
    },
    {
     "data": {
      "application/vnd.jupyter.widget-view+json": {
       "model_id": "0dc645cceb044e869be485c2f5137923",
       "version_major": 2,
       "version_minor": 0
      },
      "text/plain": [
       "  0%|          | 0/2 [00:00<?, ?it/s]"
      ]
     },
     "metadata": {},
     "output_type": "display_data"
    },
    {
     "name": "stdout",
     "output_type": "stream",
     "text": [
      "Creating body_extremities.nii.gz\n",
      "  Saved in 19.95s\n",
      "Creating body.nii.gz\n",
      "Creating skin.nii.gz\n",
      "Segmenting Case10Pack phase 0\n",
      "\n",
      "If you use this tool please cite: https://pubs.rsna.org/doi/10.1148/ryai.230024\n",
      "\n",
      "Generating rough body segmentation...\n",
      "Resampling...\n",
      "  Resampled in 0.25s\n",
      "Predicting...\n"
     ]
    },
    {
     "name": "stderr",
     "output_type": "stream",
     "text": [
      "/ocean/projects/asc170022p/mtragoza/mambaforge/envs/lung-project/lib/python3.10/site-packages/nnunetv2/utilities/plans_handling/plans_handler.py:37: UserWarning: Detected old nnU-Net plans format. Attempting to reconstruct network architecture parameters. If this fails, rerun nnUNetv2_plan_experiment for your dataset. If you use a custom architecture, please downgrade nnU-Net to the version you implemented this or update your implementation + plans.\n",
      "  warnings.warn(\"Detected old nnU-Net plans format. Attempting to reconstruct network architecture \"\n",
      "100%|██████████| 1/1 [00:00<00:00,  1.46it/s]\n"
     ]
    },
    {
     "name": "stdout",
     "output_type": "stream",
     "text": [
      "  Predicted in 16.67s\n",
      "Resampling...\n",
      "  cropping from (256, 256, 94) to (214, 199, 93)\n",
      "Resampling...\n",
      "  Resampled in 1.95s\n",
      "Predicting part 1 of 1 ...\n"
     ]
    },
    {
     "name": "stderr",
     "output_type": "stream",
     "text": [
      "100%|██████████| 8/8 [00:00<00:00, 32.84it/s]\n"
     ]
    },
    {
     "name": "stdout",
     "output_type": "stream",
     "text": [
      "  Predicted in 10.73s\n",
      "Resampling...\n",
      "Saving segmentations...\n"
     ]
    },
    {
     "data": {
      "application/vnd.jupyter.widget-view+json": {
       "model_id": "be0db3ae39f7449b944b3da5c3c02b23",
       "version_major": 2,
       "version_minor": 0
      },
      "text/plain": [
       "  0%|          | 0/5 [00:00<?, ?it/s]"
      ]
     },
     "metadata": {},
     "output_type": "display_data"
    },
    {
     "name": "stdout",
     "output_type": "stream",
     "text": [
      "  Saved in 0.57s\n",
      "\n",
      "If you use this tool please cite: https://pubs.rsna.org/doi/10.1148/ryai.230024\n",
      "\n",
      "Generating rough body segmentation...\n",
      "Resampling...\n",
      "  Resampled in 0.25s\n",
      "Predicting...\n"
     ]
    },
    {
     "name": "stderr",
     "output_type": "stream",
     "text": [
      "/ocean/projects/asc170022p/mtragoza/mambaforge/envs/lung-project/lib/python3.10/site-packages/nnunetv2/utilities/plans_handling/plans_handler.py:37: UserWarning: Detected old nnU-Net plans format. Attempting to reconstruct network architecture parameters. If this fails, rerun nnUNetv2_plan_experiment for your dataset. If you use a custom architecture, please downgrade nnU-Net to the version you implemented this or update your implementation + plans.\n",
      "  warnings.warn(\"Detected old nnU-Net plans format. Attempting to reconstruct network architecture \"\n",
      "100%|██████████| 1/1 [00:00<00:00, 93.91it/s]\n"
     ]
    },
    {
     "name": "stdout",
     "output_type": "stream",
     "text": [
      "  Predicted in 8.28s\n",
      "Resampling...\n",
      "  cropping from (256, 256, 94) to (214, 199, 93)\n",
      "Predicting...\n"
     ]
    },
    {
     "name": "stderr",
     "output_type": "stream",
     "text": [
      "100%|██████████| 80/80 [00:04<00:00, 17.68it/s]\n"
     ]
    },
    {
     "name": "stdout",
     "output_type": "stream",
     "text": [
      "  Predicted in 29.05s\n",
      "Saving segmentations...\n",
      "Creating lung_vessels.nii.gz\n",
      "Creating lung_trachea_bronchia.nii.gz\n"
     ]
    },
    {
     "data": {
      "application/vnd.jupyter.widget-view+json": {
       "model_id": "a00f7417ae564ca1b31ccc0f61eb2607",
       "version_major": 2,
       "version_minor": 0
      },
      "text/plain": [
       "  0%|          | 0/2 [00:00<?, ?it/s]"
      ]
     },
     "metadata": {},
     "output_type": "display_data"
    },
    {
     "name": "stdout",
     "output_type": "stream",
     "text": [
      "  Saved in 0.50s\n",
      "\n",
      "If you use this tool please cite: https://pubs.rsna.org/doi/10.1148/ryai.230024\n",
      "\n",
      "Resampling...\n",
      "  Resampled in 3.08s\n",
      "Predicting...\n"
     ]
    },
    {
     "name": "stderr",
     "output_type": "stream",
     "text": [
      "/ocean/projects/asc170022p/mtragoza/mambaforge/envs/lung-project/lib/python3.10/site-packages/nnunetv2/utilities/plans_handling/plans_handler.py:37: UserWarning: Detected old nnU-Net plans format. Attempting to reconstruct network architecture parameters. If this fails, rerun nnUNetv2_plan_experiment for your dataset. If you use a custom architecture, please downgrade nnU-Net to the version you implemented this or update your implementation + plans.\n",
      "  warnings.warn(\"Detected old nnU-Net plans format. Attempting to reconstruct network architecture \"\n",
      "100%|██████████| 27/27 [00:01<00:00, 21.09it/s]\n"
     ]
    },
    {
     "name": "stdout",
     "output_type": "stream",
     "text": [
      "  Predicted in 11.50s\n"
     ]
    },
    {
     "name": "stderr",
     "output_type": "stream",
     "text": [
      "100%|██████████| 1/1 [00:00<00:00,  6.66it/s]\n",
      "100%|██████████| 1/1 [00:00<00:00,  6.96it/s]\n"
     ]
    },
    {
     "name": "stdout",
     "output_type": "stream",
     "text": [
      "Resampling...\n",
      "Saving segmentations...\n",
      "Creating body_trunc.nii.gz\n",
      "Creating body_extremities.nii.gz"
     ]
    },
    {
     "data": {
      "application/vnd.jupyter.widget-view+json": {
       "model_id": "0597d919017543138a7dd0befd8e848f",
       "version_major": 2,
       "version_minor": 0
      },
      "text/plain": [
       "  0%|          | 0/2 [00:00<?, ?it/s]"
      ]
     },
     "metadata": {},
     "output_type": "display_data"
    },
    {
     "name": "stdout",
     "output_type": "stream",
     "text": [
      "\n",
      "  Saved in 0.35s\n",
      "Creating body.nii.gz\n",
      "Creating skin.nii.gz\n",
      "Segmenting Case10Pack phase 10\n",
      "\n",
      "If you use this tool please cite: https://pubs.rsna.org/doi/10.1148/ryai.230024\n",
      "\n",
      "Generating rough body segmentation...\n",
      "Resampling...\n",
      "  Resampled in 0.25s\n",
      "Predicting...\n"
     ]
    },
    {
     "name": "stderr",
     "output_type": "stream",
     "text": [
      "/ocean/projects/asc170022p/mtragoza/mambaforge/envs/lung-project/lib/python3.10/site-packages/nnunetv2/utilities/plans_handling/plans_handler.py:37: UserWarning: Detected old nnU-Net plans format. Attempting to reconstruct network architecture parameters. If this fails, rerun nnUNetv2_plan_experiment for your dataset. If you use a custom architecture, please downgrade nnU-Net to the version you implemented this or update your implementation + plans.\n",
      "  warnings.warn(\"Detected old nnU-Net plans format. Attempting to reconstruct network architecture \"\n",
      "100%|██████████| 1/1 [00:00<00:00, 100.72it/s]\n"
     ]
    },
    {
     "name": "stdout",
     "output_type": "stream",
     "text": [
      "  Predicted in 8.60s\n",
      "Resampling...\n",
      "  cropping from (256, 256, 94) to (214, 204, 93)\n",
      "Resampling...\n",
      "  Resampled in 2.00s\n",
      "Predicting part 1 of 1 ...\n"
     ]
    },
    {
     "name": "stderr",
     "output_type": "stream",
     "text": [
      "100%|██████████| 8/8 [00:00<00:00, 31.90it/s]\n"
     ]
    },
    {
     "name": "stdout",
     "output_type": "stream",
     "text": [
      "  Predicted in 10.85s\n",
      "Resampling...\n",
      "Saving segmentations...\n"
     ]
    },
    {
     "data": {
      "application/vnd.jupyter.widget-view+json": {
       "model_id": "81954f60b8f149ce88fea447da35b001",
       "version_major": 2,
       "version_minor": 0
      },
      "text/plain": [
       "  0%|          | 0/5 [00:00<?, ?it/s]"
      ]
     },
     "metadata": {},
     "output_type": "display_data"
    },
    {
     "name": "stdout",
     "output_type": "stream",
     "text": [
      "  Saved in 3.77s\n",
      "\n",
      "If you use this tool please cite: https://pubs.rsna.org/doi/10.1148/ryai.230024\n",
      "\n",
      "Generating rough body segmentation...\n",
      "Resampling...\n",
      "  Resampled in 0.25s\n",
      "Predicting...\n"
     ]
    },
    {
     "name": "stderr",
     "output_type": "stream",
     "text": [
      "/ocean/projects/asc170022p/mtragoza/mambaforge/envs/lung-project/lib/python3.10/site-packages/nnunetv2/utilities/plans_handling/plans_handler.py:37: UserWarning: Detected old nnU-Net plans format. Attempting to reconstruct network architecture parameters. If this fails, rerun nnUNetv2_plan_experiment for your dataset. If you use a custom architecture, please downgrade nnU-Net to the version you implemented this or update your implementation + plans.\n",
      "  warnings.warn(\"Detected old nnU-Net plans format. Attempting to reconstruct network architecture \"\n",
      "100%|██████████| 1/1 [00:00<00:00, 70.38it/s]\n"
     ]
    },
    {
     "name": "stdout",
     "output_type": "stream",
     "text": [
      "  Predicted in 8.35s\n",
      "Resampling...\n",
      "  cropping from (256, 256, 94) to (214, 204, 93)\n",
      "Predicting...\n"
     ]
    },
    {
     "name": "stderr",
     "output_type": "stream",
     "text": [
      "100%|██████████| 80/80 [00:04<00:00, 17.69it/s]\n"
     ]
    },
    {
     "name": "stdout",
     "output_type": "stream",
     "text": [
      "  Predicted in 29.52s\n",
      "Saving segmentations...\n",
      "Creating lung_vessels.nii.gz\n",
      "Creating lung_trachea_bronchia.nii.gz\n"
     ]
    },
    {
     "data": {
      "application/vnd.jupyter.widget-view+json": {
       "model_id": "6182690f85954fa684c72f78d778cda7",
       "version_major": 2,
       "version_minor": 0
      },
      "text/plain": [
       "  0%|          | 0/2 [00:00<?, ?it/s]"
      ]
     },
     "metadata": {},
     "output_type": "display_data"
    },
    {
     "name": "stdout",
     "output_type": "stream",
     "text": [
      "  Saved in 18.79s\n",
      "\n",
      "If you use this tool please cite: https://pubs.rsna.org/doi/10.1148/ryai.230024\n",
      "\n",
      "Resampling...\n",
      "  Resampled in 3.06s\n",
      "Predicting...\n"
     ]
    },
    {
     "name": "stderr",
     "output_type": "stream",
     "text": [
      "/ocean/projects/asc170022p/mtragoza/mambaforge/envs/lung-project/lib/python3.10/site-packages/nnunetv2/utilities/plans_handling/plans_handler.py:37: UserWarning: Detected old nnU-Net plans format. Attempting to reconstruct network architecture parameters. If this fails, rerun nnUNetv2_plan_experiment for your dataset. If you use a custom architecture, please downgrade nnU-Net to the version you implemented this or update your implementation + plans.\n",
      "  warnings.warn(\"Detected old nnU-Net plans format. Attempting to reconstruct network architecture \"\n",
      "100%|██████████| 27/27 [00:01<00:00, 21.17it/s]\n"
     ]
    },
    {
     "name": "stdout",
     "output_type": "stream",
     "text": [
      "  Predicted in 11.56s\n"
     ]
    },
    {
     "name": "stderr",
     "output_type": "stream",
     "text": [
      "100%|██████████| 1/1 [00:00<00:00,  6.77it/s]\n",
      "100%|██████████| 1/1 [00:00<00:00,  6.98it/s]\n"
     ]
    },
    {
     "name": "stdout",
     "output_type": "stream",
     "text": [
      "Resampling...\n",
      "Saving segmentations...\n",
      "Creating body_trunc.nii.gz\n",
      "Creating body_extremities.nii.gz"
     ]
    },
    {
     "data": {
      "application/vnd.jupyter.widget-view+json": {
       "model_id": "22c12c26c65c4062bd24ed36813fe8c0",
       "version_major": 2,
       "version_minor": 0
      },
      "text/plain": [
       "  0%|          | 0/2 [00:00<?, ?it/s]"
      ]
     },
     "metadata": {},
     "output_type": "display_data"
    },
    {
     "name": "stdout",
     "output_type": "stream",
     "text": [
      "\n",
      "  Saved in 0.72s\n",
      "Creating body.nii.gz\n",
      "Creating skin.nii.gz\n",
      "Segmenting Case10Pack phase 20\n",
      "\n",
      "If you use this tool please cite: https://pubs.rsna.org/doi/10.1148/ryai.230024\n",
      "\n",
      "Generating rough body segmentation...\n",
      "Resampling...\n",
      "  Resampled in 0.25s\n",
      "Predicting...\n"
     ]
    },
    {
     "name": "stderr",
     "output_type": "stream",
     "text": [
      "/ocean/projects/asc170022p/mtragoza/mambaforge/envs/lung-project/lib/python3.10/site-packages/nnunetv2/utilities/plans_handling/plans_handler.py:37: UserWarning: Detected old nnU-Net plans format. Attempting to reconstruct network architecture parameters. If this fails, rerun nnUNetv2_plan_experiment for your dataset. If you use a custom architecture, please downgrade nnU-Net to the version you implemented this or update your implementation + plans.\n",
      "  warnings.warn(\"Detected old nnU-Net plans format. Attempting to reconstruct network architecture \"\n",
      "100%|██████████| 1/1 [00:00<00:00, 98.94it/s]\n"
     ]
    },
    {
     "name": "stdout",
     "output_type": "stream",
     "text": [
      "  Predicted in 8.43s\n",
      "Resampling...\n",
      "  cropping from (256, 256, 94) to (209, 204, 91)\n",
      "Resampling...\n",
      "  Resampled in 1.92s\n",
      "Predicting part 1 of 1 ...\n"
     ]
    },
    {
     "name": "stderr",
     "output_type": "stream",
     "text": [
      "100%|██████████| 8/8 [00:00<00:00, 32.37it/s]\n"
     ]
    },
    {
     "name": "stdout",
     "output_type": "stream",
     "text": [
      "  Predicted in 10.75s\n",
      "Resampling...\n",
      "Saving segmentations...\n"
     ]
    },
    {
     "data": {
      "application/vnd.jupyter.widget-view+json": {
       "model_id": "d431e89fd5144f77b6b486e6eef490ee",
       "version_major": 2,
       "version_minor": 0
      },
      "text/plain": [
       "  0%|          | 0/5 [00:00<?, ?it/s]"
      ]
     },
     "metadata": {},
     "output_type": "display_data"
    },
    {
     "name": "stdout",
     "output_type": "stream",
     "text": [
      "  Saved in 0.68s\n",
      "\n",
      "If you use this tool please cite: https://pubs.rsna.org/doi/10.1148/ryai.230024\n",
      "\n",
      "Generating rough body segmentation...\n",
      "Resampling...\n",
      "  Resampled in 0.25s\n",
      "Predicting...\n"
     ]
    },
    {
     "name": "stderr",
     "output_type": "stream",
     "text": [
      "/ocean/projects/asc170022p/mtragoza/mambaforge/envs/lung-project/lib/python3.10/site-packages/nnunetv2/utilities/plans_handling/plans_handler.py:37: UserWarning: Detected old nnU-Net plans format. Attempting to reconstruct network architecture parameters. If this fails, rerun nnUNetv2_plan_experiment for your dataset. If you use a custom architecture, please downgrade nnU-Net to the version you implemented this or update your implementation + plans.\n",
      "  warnings.warn(\"Detected old nnU-Net plans format. Attempting to reconstruct network architecture \"\n",
      "100%|██████████| 1/1 [00:00<00:00, 107.86it/s]\n"
     ]
    },
    {
     "name": "stdout",
     "output_type": "stream",
     "text": [
      "  Predicted in 8.42s\n",
      "Resampling...\n",
      "  cropping from (256, 256, 94) to (209, 204, 91)\n",
      "Predicting...\n"
     ]
    },
    {
     "name": "stderr",
     "output_type": "stream",
     "text": [
      "100%|██████████| 80/80 [00:04<00:00, 17.63it/s]\n"
     ]
    },
    {
     "name": "stdout",
     "output_type": "stream",
     "text": [
      "  Predicted in 28.70s\n",
      "Saving segmentations...\n",
      "Creating lung_vessels.nii.gz\n",
      "Creating lung_trachea_bronchia.nii.gz\n"
     ]
    },
    {
     "data": {
      "application/vnd.jupyter.widget-view+json": {
       "model_id": "33b24e35e89b483c815511730b97740d",
       "version_major": 2,
       "version_minor": 0
      },
      "text/plain": [
       "  0%|          | 0/2 [00:00<?, ?it/s]"
      ]
     },
     "metadata": {},
     "output_type": "display_data"
    },
    {
     "name": "stdout",
     "output_type": "stream",
     "text": [
      "  Saved in 0.47s\n",
      "\n",
      "If you use this tool please cite: https://pubs.rsna.org/doi/10.1148/ryai.230024\n",
      "\n",
      "Resampling...\n",
      "  Resampled in 3.06s\n",
      "Predicting...\n"
     ]
    },
    {
     "name": "stderr",
     "output_type": "stream",
     "text": [
      "/ocean/projects/asc170022p/mtragoza/mambaforge/envs/lung-project/lib/python3.10/site-packages/nnunetv2/utilities/plans_handling/plans_handler.py:37: UserWarning: Detected old nnU-Net plans format. Attempting to reconstruct network architecture parameters. If this fails, rerun nnUNetv2_plan_experiment for your dataset. If you use a custom architecture, please downgrade nnU-Net to the version you implemented this or update your implementation + plans.\n",
      "  warnings.warn(\"Detected old nnU-Net plans format. Attempting to reconstruct network architecture \"\n",
      "100%|██████████| 27/27 [00:01<00:00, 21.28it/s]\n"
     ]
    },
    {
     "name": "stdout",
     "output_type": "stream",
     "text": [
      "  Predicted in 11.47s\n"
     ]
    },
    {
     "name": "stderr",
     "output_type": "stream",
     "text": [
      "100%|██████████| 1/1 [00:00<00:00,  6.73it/s]\n",
      "100%|██████████| 1/1 [00:00<00:00,  7.00it/s]\n"
     ]
    },
    {
     "name": "stdout",
     "output_type": "stream",
     "text": [
      "Resampling...\n",
      "Saving segmentations...\n",
      "Creating body_trunc.nii.gz\n",
      "Creating body_extremities.nii.gz"
     ]
    },
    {
     "data": {
      "application/vnd.jupyter.widget-view+json": {
       "model_id": "93d42cd29439438ca9f401be0975ddaa",
       "version_major": 2,
       "version_minor": 0
      },
      "text/plain": [
       "  0%|          | 0/2 [00:00<?, ?it/s]"
      ]
     },
     "metadata": {},
     "output_type": "display_data"
    },
    {
     "name": "stdout",
     "output_type": "stream",
     "text": [
      "\n",
      "  Saved in 0.72s\n",
      "Creating body.nii.gz\n",
      "Creating skin.nii.gz\n",
      "Segmenting Case10Pack phase 30\n",
      "\n",
      "If you use this tool please cite: https://pubs.rsna.org/doi/10.1148/ryai.230024\n",
      "\n",
      "Generating rough body segmentation...\n",
      "Resampling...\n",
      "  Resampled in 0.27s\n",
      "Predicting...\n"
     ]
    },
    {
     "name": "stderr",
     "output_type": "stream",
     "text": [
      "/ocean/projects/asc170022p/mtragoza/mambaforge/envs/lung-project/lib/python3.10/site-packages/nnunetv2/utilities/plans_handling/plans_handler.py:37: UserWarning: Detected old nnU-Net plans format. Attempting to reconstruct network architecture parameters. If this fails, rerun nnUNetv2_plan_experiment for your dataset. If you use a custom architecture, please downgrade nnU-Net to the version you implemented this or update your implementation + plans.\n",
      "  warnings.warn(\"Detected old nnU-Net plans format. Attempting to reconstruct network architecture \"\n",
      "100%|██████████| 1/1 [00:00<00:00, 94.99it/s]\n"
     ]
    },
    {
     "name": "stdout",
     "output_type": "stream",
     "text": [
      "  Predicted in 8.35s\n",
      "Resampling...\n",
      "  cropping from (256, 256, 94) to (209, 204, 78)\n",
      "Resampling...\n",
      "  Resampled in 1.64s\n",
      "Predicting part 1 of 1 ...\n"
     ]
    },
    {
     "name": "stderr",
     "output_type": "stream",
     "text": [
      "100%|██████████| 8/8 [00:00<00:00, 33.14it/s]\n"
     ]
    },
    {
     "name": "stdout",
     "output_type": "stream",
     "text": [
      "  Predicted in 10.44s\n",
      "Resampling...\n",
      "Saving segmentations...\n"
     ]
    },
    {
     "data": {
      "application/vnd.jupyter.widget-view+json": {
       "model_id": "20d7915a8b264f729ebf238fce5d7fdf",
       "version_major": 2,
       "version_minor": 0
      },
      "text/plain": [
       "  0%|          | 0/5 [00:00<?, ?it/s]"
      ]
     },
     "metadata": {},
     "output_type": "display_data"
    },
    {
     "name": "stdout",
     "output_type": "stream",
     "text": [
      "  Saved in 0.58s\n",
      "\n",
      "If you use this tool please cite: https://pubs.rsna.org/doi/10.1148/ryai.230024\n",
      "\n",
      "Generating rough body segmentation...\n",
      "Resampling...\n",
      "  Resampled in 0.25s\n",
      "Predicting...\n"
     ]
    },
    {
     "name": "stderr",
     "output_type": "stream",
     "text": [
      "/ocean/projects/asc170022p/mtragoza/mambaforge/envs/lung-project/lib/python3.10/site-packages/nnunetv2/utilities/plans_handling/plans_handler.py:37: UserWarning: Detected old nnU-Net plans format. Attempting to reconstruct network architecture parameters. If this fails, rerun nnUNetv2_plan_experiment for your dataset. If you use a custom architecture, please downgrade nnU-Net to the version you implemented this or update your implementation + plans.\n",
      "  warnings.warn(\"Detected old nnU-Net plans format. Attempting to reconstruct network architecture \"\n",
      "100%|██████████| 1/1 [00:00<00:00, 73.83it/s]\n"
     ]
    },
    {
     "name": "stdout",
     "output_type": "stream",
     "text": [
      "  Predicted in 8.28s\n",
      "Resampling...\n",
      "  cropping from (256, 256, 94) to (209, 204, 78)\n",
      "Predicting...\n"
     ]
    },
    {
     "name": "stderr",
     "output_type": "stream",
     "text": [
      "100%|██████████| 60/60 [00:03<00:00, 17.90it/s]\n"
     ]
    },
    {
     "name": "stdout",
     "output_type": "stream",
     "text": [
      "  Predicted in 25.33s\n",
      "Saving segmentations...\n",
      "Creating lung_vessels.nii.gz\n",
      "Creating lung_trachea_bronchia.nii.gz\n"
     ]
    },
    {
     "data": {
      "application/vnd.jupyter.widget-view+json": {
       "model_id": "c6cc625689c7466e8d2fc37cf599ea3f",
       "version_major": 2,
       "version_minor": 0
      },
      "text/plain": [
       "  0%|          | 0/2 [00:00<?, ?it/s]"
      ]
     },
     "metadata": {},
     "output_type": "display_data"
    },
    {
     "name": "stdout",
     "output_type": "stream",
     "text": [
      "  Saved in 0.48s\n",
      "\n",
      "If you use this tool please cite: https://pubs.rsna.org/doi/10.1148/ryai.230024\n",
      "\n",
      "Resampling...\n",
      "  Resampled in 3.06s\n",
      "Predicting...\n"
     ]
    },
    {
     "name": "stderr",
     "output_type": "stream",
     "text": [
      "/ocean/projects/asc170022p/mtragoza/mambaforge/envs/lung-project/lib/python3.10/site-packages/nnunetv2/utilities/plans_handling/plans_handler.py:37: UserWarning: Detected old nnU-Net plans format. Attempting to reconstruct network architecture parameters. If this fails, rerun nnUNetv2_plan_experiment for your dataset. If you use a custom architecture, please downgrade nnU-Net to the version you implemented this or update your implementation + plans.\n",
      "  warnings.warn(\"Detected old nnU-Net plans format. Attempting to reconstruct network architecture \"\n",
      "100%|██████████| 27/27 [00:01<00:00, 21.13it/s]\n"
     ]
    },
    {
     "name": "stdout",
     "output_type": "stream",
     "text": [
      "  Predicted in 11.47s\n"
     ]
    },
    {
     "name": "stderr",
     "output_type": "stream",
     "text": [
      "100%|██████████| 1/1 [00:00<00:00,  6.72it/s]\n",
      "100%|██████████| 1/1 [00:00<00:00,  6.83it/s]\n"
     ]
    },
    {
     "name": "stdout",
     "output_type": "stream",
     "text": [
      "Resampling...\n",
      "Saving segmentations...\n",
      "Creating body_trunc.nii.gz\n"
     ]
    },
    {
     "data": {
      "application/vnd.jupyter.widget-view+json": {
       "model_id": "b1b17c857d6344349b5f6e72ce7bfd35",
       "version_major": 2,
       "version_minor": 0
      },
      "text/plain": [
       "  0%|          | 0/2 [00:00<?, ?it/s]"
      ]
     },
     "metadata": {},
     "output_type": "display_data"
    },
    {
     "name": "stdout",
     "output_type": "stream",
     "text": [
      "Creating body_extremities.nii.gz\n",
      "  Saved in 0.47s\n",
      "Creating body.nii.gz\n",
      "Creating skin.nii.gz\n",
      "Segmenting Case10Pack phase 40\n",
      "\n",
      "If you use this tool please cite: https://pubs.rsna.org/doi/10.1148/ryai.230024\n",
      "\n",
      "Generating rough body segmentation...\n",
      "Resampling...\n",
      "  Resampled in 0.26s\n",
      "Predicting...\n"
     ]
    },
    {
     "name": "stderr",
     "output_type": "stream",
     "text": [
      "/ocean/projects/asc170022p/mtragoza/mambaforge/envs/lung-project/lib/python3.10/site-packages/nnunetv2/utilities/plans_handling/plans_handler.py:37: UserWarning: Detected old nnU-Net plans format. Attempting to reconstruct network architecture parameters. If this fails, rerun nnUNetv2_plan_experiment for your dataset. If you use a custom architecture, please downgrade nnU-Net to the version you implemented this or update your implementation + plans.\n",
      "  warnings.warn(\"Detected old nnU-Net plans format. Attempting to reconstruct network architecture \"\n",
      "100%|██████████| 1/1 [00:00<00:00, 106.91it/s]\n"
     ]
    },
    {
     "name": "stdout",
     "output_type": "stream",
     "text": [
      "  Predicted in 8.52s\n",
      "Resampling...\n",
      "  cropping from (256, 256, 94) to (209, 199, 78)\n",
      "Resampling...\n",
      "  Resampled in 1.60s\n",
      "Predicting part 1 of 1 ...\n"
     ]
    },
    {
     "name": "stderr",
     "output_type": "stream",
     "text": [
      "100%|██████████| 8/8 [00:00<00:00, 32.03it/s]\n"
     ]
    },
    {
     "name": "stdout",
     "output_type": "stream",
     "text": [
      "  Predicted in 10.53s\n",
      "Resampling...\n",
      "Saving segmentations...\n"
     ]
    },
    {
     "data": {
      "application/vnd.jupyter.widget-view+json": {
       "model_id": "7fde0cd4bf66463f853f46ea7317e705",
       "version_major": 2,
       "version_minor": 0
      },
      "text/plain": [
       "  0%|          | 0/5 [00:00<?, ?it/s]"
      ]
     },
     "metadata": {},
     "output_type": "display_data"
    },
    {
     "name": "stdout",
     "output_type": "stream",
     "text": [
      "  Saved in 0.86s\n",
      "\n",
      "If you use this tool please cite: https://pubs.rsna.org/doi/10.1148/ryai.230024\n",
      "\n",
      "Generating rough body segmentation...\n",
      "Resampling...\n",
      "  Resampled in 0.25s\n",
      "Predicting...\n"
     ]
    },
    {
     "name": "stderr",
     "output_type": "stream",
     "text": [
      "/ocean/projects/asc170022p/mtragoza/mambaforge/envs/lung-project/lib/python3.10/site-packages/nnunetv2/utilities/plans_handling/plans_handler.py:37: UserWarning: Detected old nnU-Net plans format. Attempting to reconstruct network architecture parameters. If this fails, rerun nnUNetv2_plan_experiment for your dataset. If you use a custom architecture, please downgrade nnU-Net to the version you implemented this or update your implementation + plans.\n",
      "  warnings.warn(\"Detected old nnU-Net plans format. Attempting to reconstruct network architecture \"\n",
      "100%|██████████| 1/1 [00:00<00:00, 101.23it/s]\n"
     ]
    },
    {
     "name": "stdout",
     "output_type": "stream",
     "text": [
      "  Predicted in 8.27s\n",
      "Resampling...\n",
      "  cropping from (256, 256, 94) to (209, 199, 78)\n",
      "Predicting...\n"
     ]
    },
    {
     "name": "stderr",
     "output_type": "stream",
     "text": [
      "100%|██████████| 60/60 [00:03<00:00, 17.89it/s]\n"
     ]
    },
    {
     "name": "stdout",
     "output_type": "stream",
     "text": [
      "  Predicted in 24.93s\n",
      "Saving segmentations...\n",
      "Creating lung_vessels.nii.gz\n",
      "Creating lung_trachea_bronchia.nii.gz"
     ]
    },
    {
     "data": {
      "application/vnd.jupyter.widget-view+json": {
       "model_id": "adb5e85ca9014d82b9ca0ce4223a7564",
       "version_major": 2,
       "version_minor": 0
      },
      "text/plain": [
       "  0%|          | 0/2 [00:00<?, ?it/s]"
      ]
     },
     "metadata": {},
     "output_type": "display_data"
    },
    {
     "name": "stdout",
     "output_type": "stream",
     "text": [
      "\n",
      "  Saved in 0.48s\n",
      "\n",
      "If you use this tool please cite: https://pubs.rsna.org/doi/10.1148/ryai.230024\n",
      "\n",
      "Resampling...\n",
      "  Resampled in 3.08s\n",
      "Predicting...\n"
     ]
    },
    {
     "name": "stderr",
     "output_type": "stream",
     "text": [
      "/ocean/projects/asc170022p/mtragoza/mambaforge/envs/lung-project/lib/python3.10/site-packages/nnunetv2/utilities/plans_handling/plans_handler.py:37: UserWarning: Detected old nnU-Net plans format. Attempting to reconstruct network architecture parameters. If this fails, rerun nnUNetv2_plan_experiment for your dataset. If you use a custom architecture, please downgrade nnU-Net to the version you implemented this or update your implementation + plans.\n",
      "  warnings.warn(\"Detected old nnU-Net plans format. Attempting to reconstruct network architecture \"\n",
      "100%|██████████| 27/27 [00:01<00:00, 21.05it/s]\n"
     ]
    },
    {
     "name": "stdout",
     "output_type": "stream",
     "text": [
      "  Predicted in 11.54s\n"
     ]
    },
    {
     "name": "stderr",
     "output_type": "stream",
     "text": [
      "100%|██████████| 1/1 [00:00<00:00,  6.73it/s]\n",
      "100%|██████████| 1/1 [00:00<00:00,  6.98it/s]\n"
     ]
    },
    {
     "name": "stdout",
     "output_type": "stream",
     "text": [
      "Resampling...\n",
      "Saving segmentations...\n",
      "Creating body_trunc.nii.gz\n",
      "Creating body_extremities.nii.gz"
     ]
    },
    {
     "data": {
      "application/vnd.jupyter.widget-view+json": {
       "model_id": "c0b4d41719e9491fa6b917a8c1a5c6ce",
       "version_major": 2,
       "version_minor": 0
      },
      "text/plain": [
       "  0%|          | 0/2 [00:00<?, ?it/s]"
      ]
     },
     "metadata": {},
     "output_type": "display_data"
    },
    {
     "name": "stdout",
     "output_type": "stream",
     "text": [
      "\n",
      "  Saved in 0.38s\n",
      "Creating body.nii.gz\n",
      "Creating skin.nii.gz\n",
      "Segmenting Case10Pack phase 50\n",
      "\n",
      "If you use this tool please cite: https://pubs.rsna.org/doi/10.1148/ryai.230024\n",
      "\n",
      "Generating rough body segmentation...\n",
      "Resampling...\n",
      "  Resampled in 0.26s\n",
      "Predicting...\n"
     ]
    },
    {
     "name": "stderr",
     "output_type": "stream",
     "text": [
      "/ocean/projects/asc170022p/mtragoza/mambaforge/envs/lung-project/lib/python3.10/site-packages/nnunetv2/utilities/plans_handling/plans_handler.py:37: UserWarning: Detected old nnU-Net plans format. Attempting to reconstruct network architecture parameters. If this fails, rerun nnUNetv2_plan_experiment for your dataset. If you use a custom architecture, please downgrade nnU-Net to the version you implemented this or update your implementation + plans.\n",
      "  warnings.warn(\"Detected old nnU-Net plans format. Attempting to reconstruct network architecture \"\n",
      "100%|██████████| 1/1 [00:00<00:00, 107.81it/s]\n"
     ]
    },
    {
     "name": "stdout",
     "output_type": "stream",
     "text": [
      "  Predicted in 8.27s\n",
      "Resampling...\n",
      "  cropping from (256, 256, 94) to (209, 199, 78)\n",
      "Resampling...\n",
      "  Resampled in 1.61s\n",
      "Predicting part 1 of 1 ...\n"
     ]
    },
    {
     "name": "stderr",
     "output_type": "stream",
     "text": [
      "100%|██████████| 8/8 [00:00<00:00, 33.04it/s]\n"
     ]
    },
    {
     "name": "stdout",
     "output_type": "stream",
     "text": [
      "  Predicted in 10.27s\n",
      "Resampling...\n",
      "Saving segmentations...\n"
     ]
    },
    {
     "data": {
      "application/vnd.jupyter.widget-view+json": {
       "model_id": "f3edb01f2c8b4d0492d2e07a5efe1003",
       "version_major": 2,
       "version_minor": 0
      },
      "text/plain": [
       "  0%|          | 0/5 [00:00<?, ?it/s]"
      ]
     },
     "metadata": {},
     "output_type": "display_data"
    },
    {
     "name": "stdout",
     "output_type": "stream",
     "text": [
      "  Saved in 0.92s\n",
      "\n",
      "If you use this tool please cite: https://pubs.rsna.org/doi/10.1148/ryai.230024\n",
      "\n",
      "Generating rough body segmentation...\n",
      "Resampling...\n",
      "  Resampled in 0.25s\n",
      "Predicting...\n"
     ]
    },
    {
     "name": "stderr",
     "output_type": "stream",
     "text": [
      "/ocean/projects/asc170022p/mtragoza/mambaforge/envs/lung-project/lib/python3.10/site-packages/nnunetv2/utilities/plans_handling/plans_handler.py:37: UserWarning: Detected old nnU-Net plans format. Attempting to reconstruct network architecture parameters. If this fails, rerun nnUNetv2_plan_experiment for your dataset. If you use a custom architecture, please downgrade nnU-Net to the version you implemented this or update your implementation + plans.\n",
      "  warnings.warn(\"Detected old nnU-Net plans format. Attempting to reconstruct network architecture \"\n",
      "100%|██████████| 1/1 [00:00<00:00, 89.99it/s]\n"
     ]
    },
    {
     "name": "stdout",
     "output_type": "stream",
     "text": [
      "  Predicted in 8.27s\n",
      "Resampling...\n",
      "  cropping from (256, 256, 94) to (209, 199, 78)\n",
      "Predicting...\n"
     ]
    },
    {
     "name": "stderr",
     "output_type": "stream",
     "text": [
      "100%|██████████| 60/60 [00:03<00:00, 17.89it/s]\n"
     ]
    },
    {
     "name": "stdout",
     "output_type": "stream",
     "text": [
      "  Predicted in 24.80s\n",
      "Saving segmentations...\n",
      "Creating lung_vessels.nii.gz\n",
      "Creating lung_trachea_bronchia.nii.gz"
     ]
    },
    {
     "data": {
      "application/vnd.jupyter.widget-view+json": {
       "model_id": "f4d3a7ee69a24ba8bbfaf6f71b389478",
       "version_major": 2,
       "version_minor": 0
      },
      "text/plain": [
       "  0%|          | 0/2 [00:00<?, ?it/s]"
      ]
     },
     "metadata": {},
     "output_type": "display_data"
    },
    {
     "name": "stdout",
     "output_type": "stream",
     "text": [
      "\n",
      "  Saved in 0.50s\n",
      "\n",
      "If you use this tool please cite: https://pubs.rsna.org/doi/10.1148/ryai.230024\n",
      "\n",
      "Resampling...\n",
      "  Resampled in 3.07s\n",
      "Predicting...\n"
     ]
    },
    {
     "name": "stderr",
     "output_type": "stream",
     "text": [
      "/ocean/projects/asc170022p/mtragoza/mambaforge/envs/lung-project/lib/python3.10/site-packages/nnunetv2/utilities/plans_handling/plans_handler.py:37: UserWarning: Detected old nnU-Net plans format. Attempting to reconstruct network architecture parameters. If this fails, rerun nnUNetv2_plan_experiment for your dataset. If you use a custom architecture, please downgrade nnU-Net to the version you implemented this or update your implementation + plans.\n",
      "  warnings.warn(\"Detected old nnU-Net plans format. Attempting to reconstruct network architecture \"\n",
      "100%|██████████| 27/27 [00:01<00:00, 21.08it/s]\n"
     ]
    },
    {
     "name": "stdout",
     "output_type": "stream",
     "text": [
      "  Predicted in 11.41s\n"
     ]
    },
    {
     "name": "stderr",
     "output_type": "stream",
     "text": [
      "100%|██████████| 1/1 [00:00<00:00,  6.70it/s]\n",
      "100%|██████████| 1/1 [00:00<00:00,  6.95it/s]\n"
     ]
    },
    {
     "name": "stdout",
     "output_type": "stream",
     "text": [
      "Resampling...\n",
      "Saving segmentations...\n",
      "Creating body_trunc.nii.gz\n",
      "Creating body_extremities.nii.gz\n"
     ]
    },
    {
     "data": {
      "application/vnd.jupyter.widget-view+json": {
       "model_id": "56a6ea709bd6402ea5bc98f705701237",
       "version_major": 2,
       "version_minor": 0
      },
      "text/plain": [
       "  0%|          | 0/2 [00:00<?, ?it/s]"
      ]
     },
     "metadata": {},
     "output_type": "display_data"
    },
    {
     "name": "stdout",
     "output_type": "stream",
     "text": [
      "  Saved in 0.38s\n",
      "Creating body.nii.gz\n",
      "Creating skin.nii.gz\n",
      "Segmenting Case10Pack phase 60\n",
      "\n",
      "If you use this tool please cite: https://pubs.rsna.org/doi/10.1148/ryai.230024\n",
      "\n",
      "Generating rough body segmentation...\n",
      "Resampling...\n",
      "  Resampled in 0.25s\n",
      "Predicting...\n"
     ]
    },
    {
     "name": "stderr",
     "output_type": "stream",
     "text": [
      "/ocean/projects/asc170022p/mtragoza/mambaforge/envs/lung-project/lib/python3.10/site-packages/nnunetv2/utilities/plans_handling/plans_handler.py:37: UserWarning: Detected old nnU-Net plans format. Attempting to reconstruct network architecture parameters. If this fails, rerun nnUNetv2_plan_experiment for your dataset. If you use a custom architecture, please downgrade nnU-Net to the version you implemented this or update your implementation + plans.\n",
      "  warnings.warn(\"Detected old nnU-Net plans format. Attempting to reconstruct network architecture \"\n",
      "100%|██████████| 1/1 [00:00<00:00, 92.55it/s]\n"
     ]
    },
    {
     "name": "stdout",
     "output_type": "stream",
     "text": [
      "  Predicted in 8.18s\n",
      "Resampling...\n",
      "  cropping from (256, 256, 94) to (209, 204, 78)\n",
      "Resampling...\n",
      "  Resampled in 1.64s\n",
      "Predicting part 1 of 1 ...\n"
     ]
    },
    {
     "name": "stderr",
     "output_type": "stream",
     "text": [
      "100%|██████████| 8/8 [00:00<00:00, 31.92it/s]\n"
     ]
    },
    {
     "name": "stdout",
     "output_type": "stream",
     "text": [
      "  Predicted in 10.38s\n",
      "Resampling...\n",
      "Saving segmentations...\n"
     ]
    },
    {
     "data": {
      "application/vnd.jupyter.widget-view+json": {
       "model_id": "c224175a5be54268a602023a706918ec",
       "version_major": 2,
       "version_minor": 0
      },
      "text/plain": [
       "  0%|          | 0/5 [00:00<?, ?it/s]"
      ]
     },
     "metadata": {},
     "output_type": "display_data"
    },
    {
     "name": "stdout",
     "output_type": "stream",
     "text": [
      "  Saved in 0.60s\n",
      "\n",
      "If you use this tool please cite: https://pubs.rsna.org/doi/10.1148/ryai.230024\n",
      "\n",
      "Generating rough body segmentation...\n",
      "Resampling...\n",
      "  Resampled in 0.25s\n",
      "Predicting...\n"
     ]
    },
    {
     "name": "stderr",
     "output_type": "stream",
     "text": [
      "/ocean/projects/asc170022p/mtragoza/mambaforge/envs/lung-project/lib/python3.10/site-packages/nnunetv2/utilities/plans_handling/plans_handler.py:37: UserWarning: Detected old nnU-Net plans format. Attempting to reconstruct network architecture parameters. If this fails, rerun nnUNetv2_plan_experiment for your dataset. If you use a custom architecture, please downgrade nnU-Net to the version you implemented this or update your implementation + plans.\n",
      "  warnings.warn(\"Detected old nnU-Net plans format. Attempting to reconstruct network architecture \"\n",
      "100%|██████████| 1/1 [00:00<00:00, 80.16it/s]\n"
     ]
    },
    {
     "name": "stdout",
     "output_type": "stream",
     "text": [
      "  Predicted in 8.24s\n",
      "Resampling...\n",
      "  cropping from (256, 256, 94) to (209, 204, 78)\n",
      "Predicting...\n"
     ]
    },
    {
     "name": "stderr",
     "output_type": "stream",
     "text": [
      "100%|██████████| 60/60 [00:03<00:00, 17.92it/s]\n"
     ]
    },
    {
     "name": "stdout",
     "output_type": "stream",
     "text": [
      "  Predicted in 25.22s\n",
      "Saving segmentations...\n",
      "Creating lung_vessels.nii.gz\n",
      "Creating lung_trachea_bronchia.nii.gz\n"
     ]
    },
    {
     "data": {
      "application/vnd.jupyter.widget-view+json": {
       "model_id": "8b6da24765144942b80b9be57e6a7a7e",
       "version_major": 2,
       "version_minor": 0
      },
      "text/plain": [
       "  0%|          | 0/2 [00:00<?, ?it/s]"
      ]
     },
     "metadata": {},
     "output_type": "display_data"
    },
    {
     "name": "stdout",
     "output_type": "stream",
     "text": [
      "  Saved in 0.47s\n",
      "\n",
      "If you use this tool please cite: https://pubs.rsna.org/doi/10.1148/ryai.230024\n",
      "\n",
      "Resampling...\n",
      "  Resampled in 3.08s\n",
      "Predicting...\n"
     ]
    },
    {
     "name": "stderr",
     "output_type": "stream",
     "text": [
      "/ocean/projects/asc170022p/mtragoza/mambaforge/envs/lung-project/lib/python3.10/site-packages/nnunetv2/utilities/plans_handling/plans_handler.py:37: UserWarning: Detected old nnU-Net plans format. Attempting to reconstruct network architecture parameters. If this fails, rerun nnUNetv2_plan_experiment for your dataset. If you use a custom architecture, please downgrade nnU-Net to the version you implemented this or update your implementation + plans.\n",
      "  warnings.warn(\"Detected old nnU-Net plans format. Attempting to reconstruct network architecture \"\n",
      "100%|██████████| 27/27 [00:01<00:00, 21.07it/s]\n"
     ]
    },
    {
     "name": "stdout",
     "output_type": "stream",
     "text": [
      "  Predicted in 11.33s\n"
     ]
    },
    {
     "name": "stderr",
     "output_type": "stream",
     "text": [
      "100%|██████████| 1/1 [00:00<00:00,  6.54it/s]\n",
      "100%|██████████| 1/1 [00:00<00:00,  6.96it/s]\n"
     ]
    },
    {
     "name": "stdout",
     "output_type": "stream",
     "text": [
      "Resampling...\n",
      "Saving segmentations...\n",
      "Creating body_trunc.nii.gz\n",
      "\n",
      "Creating body_extremities.nii.gz"
     ]
    },
    {
     "data": {
      "application/vnd.jupyter.widget-view+json": {
       "model_id": "0ba04ebe3c7a48b3848ea25ce80ffe76",
       "version_major": 2,
       "version_minor": 0
      },
      "text/plain": [
       "  0%|          | 0/2 [00:00<?, ?it/s]"
      ]
     },
     "metadata": {},
     "output_type": "display_data"
    },
    {
     "name": "stdout",
     "output_type": "stream",
     "text": [
      "  Saved in 0.91s\n",
      "Creating body.nii.gz\n",
      "Creating skin.nii.gz\n",
      "Segmenting Case10Pack phase 70\n",
      "\n",
      "If you use this tool please cite: https://pubs.rsna.org/doi/10.1148/ryai.230024\n",
      "\n",
      "Generating rough body segmentation...\n",
      "Resampling...\n",
      "  Resampled in 0.25s\n",
      "Predicting...\n"
     ]
    },
    {
     "name": "stderr",
     "output_type": "stream",
     "text": [
      "/ocean/projects/asc170022p/mtragoza/mambaforge/envs/lung-project/lib/python3.10/site-packages/nnunetv2/utilities/plans_handling/plans_handler.py:37: UserWarning: Detected old nnU-Net plans format. Attempting to reconstruct network architecture parameters. If this fails, rerun nnUNetv2_plan_experiment for your dataset. If you use a custom architecture, please downgrade nnU-Net to the version you implemented this or update your implementation + plans.\n",
      "  warnings.warn(\"Detected old nnU-Net plans format. Attempting to reconstruct network architecture \"\n",
      "100%|██████████| 1/1 [00:00<00:00, 105.66it/s]\n"
     ]
    },
    {
     "name": "stdout",
     "output_type": "stream",
     "text": [
      "  Predicted in 8.30s\n",
      "Resampling...\n",
      "  cropping from (256, 256, 94) to (204, 204, 91)\n",
      "Resampling...\n",
      "  Resampled in 1.88s\n",
      "Predicting part 1 of 1 ...\n"
     ]
    },
    {
     "name": "stderr",
     "output_type": "stream",
     "text": [
      "100%|██████████| 8/8 [00:00<00:00, 32.49it/s]\n"
     ]
    },
    {
     "name": "stdout",
     "output_type": "stream",
     "text": [
      "  Predicted in 10.49s\n",
      "Resampling...\n",
      "Saving segmentations...\n"
     ]
    },
    {
     "data": {
      "application/vnd.jupyter.widget-view+json": {
       "model_id": "a406f8f1240a4776952ed2ba593fb106",
       "version_major": 2,
       "version_minor": 0
      },
      "text/plain": [
       "  0%|          | 0/5 [00:00<?, ?it/s]"
      ]
     },
     "metadata": {},
     "output_type": "display_data"
    },
    {
     "name": "stdout",
     "output_type": "stream",
     "text": [
      "  Saved in 0.63s\n",
      "\n",
      "If you use this tool please cite: https://pubs.rsna.org/doi/10.1148/ryai.230024\n",
      "\n",
      "Generating rough body segmentation...\n",
      "Resampling...\n",
      "  Resampled in 0.25s\n",
      "Predicting...\n"
     ]
    },
    {
     "name": "stderr",
     "output_type": "stream",
     "text": [
      "/ocean/projects/asc170022p/mtragoza/mambaforge/envs/lung-project/lib/python3.10/site-packages/nnunetv2/utilities/plans_handling/plans_handler.py:37: UserWarning: Detected old nnU-Net plans format. Attempting to reconstruct network architecture parameters. If this fails, rerun nnUNetv2_plan_experiment for your dataset. If you use a custom architecture, please downgrade nnU-Net to the version you implemented this or update your implementation + plans.\n",
      "  warnings.warn(\"Detected old nnU-Net plans format. Attempting to reconstruct network architecture \"\n",
      "100%|██████████| 1/1 [00:00<00:00, 75.18it/s]\n"
     ]
    },
    {
     "name": "stdout",
     "output_type": "stream",
     "text": [
      "  Predicted in 8.22s\n",
      "Resampling...\n",
      "  cropping from (256, 256, 94) to (204, 204, 91)\n",
      "Predicting...\n"
     ]
    },
    {
     "name": "stderr",
     "output_type": "stream",
     "text": [
      "100%|██████████| 80/80 [00:04<00:00, 17.60it/s]\n"
     ]
    },
    {
     "name": "stdout",
     "output_type": "stream",
     "text": [
      "  Predicted in 28.53s\n",
      "Saving segmentations...\n",
      "Creating lung_vessels.nii.gz\n",
      "Creating lung_trachea_bronchia.nii.gz"
     ]
    },
    {
     "data": {
      "application/vnd.jupyter.widget-view+json": {
       "model_id": "75c8a4b205cf4a908dadabbc91cc59f8",
       "version_major": 2,
       "version_minor": 0
      },
      "text/plain": [
       "  0%|          | 0/2 [00:00<?, ?it/s]"
      ]
     },
     "metadata": {},
     "output_type": "display_data"
    },
    {
     "name": "stdout",
     "output_type": "stream",
     "text": [
      "\n",
      "  Saved in 0.51s\n",
      "\n",
      "If you use this tool please cite: https://pubs.rsna.org/doi/10.1148/ryai.230024\n",
      "\n",
      "Resampling...\n",
      "  Resampled in 3.06s\n",
      "Predicting...\n"
     ]
    },
    {
     "name": "stderr",
     "output_type": "stream",
     "text": [
      "/ocean/projects/asc170022p/mtragoza/mambaforge/envs/lung-project/lib/python3.10/site-packages/nnunetv2/utilities/plans_handling/plans_handler.py:37: UserWarning: Detected old nnU-Net plans format. Attempting to reconstruct network architecture parameters. If this fails, rerun nnUNetv2_plan_experiment for your dataset. If you use a custom architecture, please downgrade nnU-Net to the version you implemented this or update your implementation + plans.\n",
      "  warnings.warn(\"Detected old nnU-Net plans format. Attempting to reconstruct network architecture \"\n",
      "100%|██████████| 27/27 [00:01<00:00, 21.25it/s]\n"
     ]
    },
    {
     "name": "stdout",
     "output_type": "stream",
     "text": [
      "  Predicted in 11.33s\n"
     ]
    },
    {
     "name": "stderr",
     "output_type": "stream",
     "text": [
      "100%|██████████| 1/1 [00:00<00:00,  6.83it/s]\n",
      "100%|██████████| 1/1 [00:00<00:00,  7.00it/s]\n"
     ]
    },
    {
     "name": "stdout",
     "output_type": "stream",
     "text": [
      "Resampling...\n",
      "Saving segmentations...\n",
      "Creating body_trunc.nii.gz\n",
      "Creating body_extremities.nii.gz\n"
     ]
    },
    {
     "data": {
      "application/vnd.jupyter.widget-view+json": {
       "model_id": "1a48c5d6d23247acbdec0d2d164d90e8",
       "version_major": 2,
       "version_minor": 0
      },
      "text/plain": [
       "  0%|          | 0/2 [00:00<?, ?it/s]"
      ]
     },
     "metadata": {},
     "output_type": "display_data"
    },
    {
     "name": "stdout",
     "output_type": "stream",
     "text": [
      "  Saved in 0.47s\n",
      "Creating body.nii.gz\n",
      "Creating skin.nii.gz\n",
      "Segmenting Case10Pack phase 80\n",
      "\n",
      "If you use this tool please cite: https://pubs.rsna.org/doi/10.1148/ryai.230024\n",
      "\n",
      "Generating rough body segmentation...\n",
      "Resampling...\n",
      "  Resampled in 0.25s\n",
      "Predicting...\n"
     ]
    },
    {
     "name": "stderr",
     "output_type": "stream",
     "text": [
      "/ocean/projects/asc170022p/mtragoza/mambaforge/envs/lung-project/lib/python3.10/site-packages/nnunetv2/utilities/plans_handling/plans_handler.py:37: UserWarning: Detected old nnU-Net plans format. Attempting to reconstruct network architecture parameters. If this fails, rerun nnUNetv2_plan_experiment for your dataset. If you use a custom architecture, please downgrade nnU-Net to the version you implemented this or update your implementation + plans.\n",
      "  warnings.warn(\"Detected old nnU-Net plans format. Attempting to reconstruct network architecture \"\n",
      "100%|██████████| 1/1 [00:00<00:00, 103.45it/s]\n"
     ]
    },
    {
     "name": "stdout",
     "output_type": "stream",
     "text": [
      "  Predicted in 8.15s\n",
      "Resampling...\n",
      "  cropping from (256, 256, 94) to (209, 204, 93)\n",
      "Resampling...\n",
      "  Resampled in 1.96s\n",
      "Predicting part 1 of 1 ...\n"
     ]
    },
    {
     "name": "stderr",
     "output_type": "stream",
     "text": [
      "100%|██████████| 8/8 [00:00<00:00, 32.63it/s]\n"
     ]
    },
    {
     "name": "stdout",
     "output_type": "stream",
     "text": [
      "  Predicted in 10.65s\n",
      "Resampling...\n",
      "Saving segmentations...\n"
     ]
    },
    {
     "data": {
      "application/vnd.jupyter.widget-view+json": {
       "model_id": "43a5b35b123d413c9851a751f09e5995",
       "version_major": 2,
       "version_minor": 0
      },
      "text/plain": [
       "  0%|          | 0/5 [00:00<?, ?it/s]"
      ]
     },
     "metadata": {},
     "output_type": "display_data"
    },
    {
     "name": "stdout",
     "output_type": "stream",
     "text": [
      "  Saved in 0.65s\n",
      "\n",
      "If you use this tool please cite: https://pubs.rsna.org/doi/10.1148/ryai.230024\n",
      "\n",
      "Generating rough body segmentation...\n",
      "Resampling...\n",
      "  Resampled in 0.25s\n",
      "Predicting...\n"
     ]
    },
    {
     "name": "stderr",
     "output_type": "stream",
     "text": [
      "/ocean/projects/asc170022p/mtragoza/mambaforge/envs/lung-project/lib/python3.10/site-packages/nnunetv2/utilities/plans_handling/plans_handler.py:37: UserWarning: Detected old nnU-Net plans format. Attempting to reconstruct network architecture parameters. If this fails, rerun nnUNetv2_plan_experiment for your dataset. If you use a custom architecture, please downgrade nnU-Net to the version you implemented this or update your implementation + plans.\n",
      "  warnings.warn(\"Detected old nnU-Net plans format. Attempting to reconstruct network architecture \"\n",
      "100%|██████████| 1/1 [00:00<00:00, 104.03it/s]\n"
     ]
    },
    {
     "name": "stdout",
     "output_type": "stream",
     "text": [
      "  Predicted in 8.19s\n",
      "Resampling...\n",
      "  cropping from (256, 256, 94) to (209, 204, 93)\n",
      "Predicting...\n"
     ]
    },
    {
     "name": "stderr",
     "output_type": "stream",
     "text": [
      "100%|██████████| 80/80 [00:04<00:00, 17.62it/s]\n"
     ]
    },
    {
     "name": "stdout",
     "output_type": "stream",
     "text": [
      "  Predicted in 28.85s\n",
      "Saving segmentations...\n",
      "Creating lung_vessels.nii.gz\n"
     ]
    },
    {
     "data": {
      "application/vnd.jupyter.widget-view+json": {
       "model_id": "f183cbc8f5c04d4aba71234c4ed5fc62",
       "version_major": 2,
       "version_minor": 0
      },
      "text/plain": [
       "  0%|          | 0/2 [00:00<?, ?it/s]"
      ]
     },
     "metadata": {},
     "output_type": "display_data"
    },
    {
     "name": "stdout",
     "output_type": "stream",
     "text": [
      "Creating lung_trachea_bronchia.nii.gz\n",
      "  Saved in 0.51s\n",
      "\n",
      "If you use this tool please cite: https://pubs.rsna.org/doi/10.1148/ryai.230024\n",
      "\n",
      "Resampling...\n",
      "  Resampled in 3.06s\n",
      "Predicting...\n"
     ]
    },
    {
     "name": "stderr",
     "output_type": "stream",
     "text": [
      "/ocean/projects/asc170022p/mtragoza/mambaforge/envs/lung-project/lib/python3.10/site-packages/nnunetv2/utilities/plans_handling/plans_handler.py:37: UserWarning: Detected old nnU-Net plans format. Attempting to reconstruct network architecture parameters. If this fails, rerun nnUNetv2_plan_experiment for your dataset. If you use a custom architecture, please downgrade nnU-Net to the version you implemented this or update your implementation + plans.\n",
      "  warnings.warn(\"Detected old nnU-Net plans format. Attempting to reconstruct network architecture \"\n",
      "100%|██████████| 27/27 [00:01<00:00, 21.21it/s]\n"
     ]
    },
    {
     "name": "stdout",
     "output_type": "stream",
     "text": [
      "  Predicted in 11.09s\n"
     ]
    },
    {
     "name": "stderr",
     "output_type": "stream",
     "text": [
      "100%|██████████| 1/1 [00:00<00:00,  6.58it/s]\n",
      "100%|██████████| 1/1 [00:00<00:00,  7.02it/s]\n"
     ]
    },
    {
     "name": "stdout",
     "output_type": "stream",
     "text": [
      "Resampling...\n",
      "Saving segmentations...\n",
      "Creating body_trunc.nii.gz\n",
      "Creating body_extremities.nii.gz\n"
     ]
    },
    {
     "data": {
      "application/vnd.jupyter.widget-view+json": {
       "model_id": "b214cc2af621452288490d1ffb44c64c",
       "version_major": 2,
       "version_minor": 0
      },
      "text/plain": [
       "  0%|          | 0/2 [00:00<?, ?it/s]"
      ]
     },
     "metadata": {},
     "output_type": "display_data"
    },
    {
     "name": "stdout",
     "output_type": "stream",
     "text": [
      "  Saved in 0.52s\n",
      "Creating body.nii.gz\n",
      "Creating skin.nii.gz\n",
      "Segmenting Case10Pack phase 90\n",
      "\n",
      "If you use this tool please cite: https://pubs.rsna.org/doi/10.1148/ryai.230024\n",
      "\n",
      "Generating rough body segmentation...\n",
      "Resampling...\n",
      "  Resampled in 0.26s\n",
      "Predicting...\n"
     ]
    },
    {
     "name": "stderr",
     "output_type": "stream",
     "text": [
      "/ocean/projects/asc170022p/mtragoza/mambaforge/envs/lung-project/lib/python3.10/site-packages/nnunetv2/utilities/plans_handling/plans_handler.py:37: UserWarning: Detected old nnU-Net plans format. Attempting to reconstruct network architecture parameters. If this fails, rerun nnUNetv2_plan_experiment for your dataset. If you use a custom architecture, please downgrade nnU-Net to the version you implemented this or update your implementation + plans.\n",
      "  warnings.warn(\"Detected old nnU-Net plans format. Attempting to reconstruct network architecture \"\n",
      "100%|██████████| 1/1 [00:00<00:00, 105.58it/s]\n"
     ]
    },
    {
     "name": "stdout",
     "output_type": "stream",
     "text": [
      "  Predicted in 8.21s\n",
      "Resampling...\n",
      "  cropping from (256, 256, 94) to (214, 204, 93)\n",
      "Resampling...\n",
      "  Resampled in 2.00s\n",
      "Predicting part 1 of 1 ...\n"
     ]
    },
    {
     "name": "stderr",
     "output_type": "stream",
     "text": [
      "100%|██████████| 8/8 [00:00<00:00, 32.40it/s]\n"
     ]
    },
    {
     "name": "stdout",
     "output_type": "stream",
     "text": [
      "  Predicted in 10.54s\n",
      "Resampling...\n",
      "Saving segmentations...\n"
     ]
    },
    {
     "data": {
      "application/vnd.jupyter.widget-view+json": {
       "model_id": "cf3ad82bb1664f078a8f0a43f2c0eae5",
       "version_major": 2,
       "version_minor": 0
      },
      "text/plain": [
       "  0%|          | 0/5 [00:00<?, ?it/s]"
      ]
     },
     "metadata": {},
     "output_type": "display_data"
    },
    {
     "name": "stdout",
     "output_type": "stream",
     "text": [
      "  Saved in 0.61s\n",
      "\n",
      "If you use this tool please cite: https://pubs.rsna.org/doi/10.1148/ryai.230024\n",
      "\n",
      "Generating rough body segmentation...\n",
      "Resampling...\n",
      "  Resampled in 0.25s\n",
      "Predicting...\n"
     ]
    },
    {
     "name": "stderr",
     "output_type": "stream",
     "text": [
      "/ocean/projects/asc170022p/mtragoza/mambaforge/envs/lung-project/lib/python3.10/site-packages/nnunetv2/utilities/plans_handling/plans_handler.py:37: UserWarning: Detected old nnU-Net plans format. Attempting to reconstruct network architecture parameters. If this fails, rerun nnUNetv2_plan_experiment for your dataset. If you use a custom architecture, please downgrade nnU-Net to the version you implemented this or update your implementation + plans.\n",
      "  warnings.warn(\"Detected old nnU-Net plans format. Attempting to reconstruct network architecture \"\n",
      "100%|██████████| 1/1 [00:00<00:00, 79.60it/s]\n"
     ]
    },
    {
     "name": "stdout",
     "output_type": "stream",
     "text": [
      "  Predicted in 8.13s\n",
      "Resampling...\n",
      "  cropping from (256, 256, 94) to (214, 204, 93)\n",
      "Predicting...\n"
     ]
    },
    {
     "name": "stderr",
     "output_type": "stream",
     "text": [
      "100%|██████████| 80/80 [00:04<00:00, 17.65it/s]\n"
     ]
    },
    {
     "name": "stdout",
     "output_type": "stream",
     "text": [
      "  Predicted in 29.11s\n",
      "Saving segmentations...\n",
      "Creating lung_vessels.nii.gz"
     ]
    },
    {
     "data": {
      "application/vnd.jupyter.widget-view+json": {
       "model_id": "e0072e9b641f487f89ec625a171fa7d5",
       "version_major": 2,
       "version_minor": 0
      },
      "text/plain": [
       "  0%|          | 0/2 [00:00<?, ?it/s]"
      ]
     },
     "metadata": {},
     "output_type": "display_data"
    },
    {
     "name": "stdout",
     "output_type": "stream",
     "text": [
      "\n",
      "Creating lung_trachea_bronchia.nii.gz\n",
      "  Saved in 0.51s\n",
      "\n",
      "If you use this tool please cite: https://pubs.rsna.org/doi/10.1148/ryai.230024\n",
      "\n",
      "Resampling...\n",
      "  Resampled in 3.07s\n",
      "Predicting...\n"
     ]
    },
    {
     "name": "stderr",
     "output_type": "stream",
     "text": [
      "/ocean/projects/asc170022p/mtragoza/mambaforge/envs/lung-project/lib/python3.10/site-packages/nnunetv2/utilities/plans_handling/plans_handler.py:37: UserWarning: Detected old nnU-Net plans format. Attempting to reconstruct network architecture parameters. If this fails, rerun nnUNetv2_plan_experiment for your dataset. If you use a custom architecture, please downgrade nnU-Net to the version you implemented this or update your implementation + plans.\n",
      "  warnings.warn(\"Detected old nnU-Net plans format. Attempting to reconstruct network architecture \"\n",
      "100%|██████████| 27/27 [00:01<00:00, 21.08it/s]\n"
     ]
    },
    {
     "name": "stdout",
     "output_type": "stream",
     "text": [
      "  Predicted in 11.21s\n"
     ]
    },
    {
     "name": "stderr",
     "output_type": "stream",
     "text": [
      "100%|██████████| 1/1 [00:00<00:00,  6.75it/s]\n",
      "100%|██████████| 1/1 [00:00<00:00,  6.66it/s]\n"
     ]
    },
    {
     "name": "stdout",
     "output_type": "stream",
     "text": [
      "Resampling...\n",
      "Saving segmentations...\n",
      "Creating body_trunc.nii.gz\n",
      "Creating body_extremities.nii.gz\n"
     ]
    },
    {
     "data": {
      "application/vnd.jupyter.widget-view+json": {
       "model_id": "65255b5f54aa4cd3b33dd99004a99b00",
       "version_major": 2,
       "version_minor": 0
      },
      "text/plain": [
       "  0%|          | 0/2 [00:00<?, ?it/s]"
      ]
     },
     "metadata": {},
     "output_type": "display_data"
    },
    {
     "name": "stdout",
     "output_type": "stream",
     "text": [
      "  Saved in 0.46s\n",
      "Creating body.nii.gz\n",
      "Creating skin.nii.gz\n",
      "CPU times: user 33min, sys: 8min 52s, total: 41min 53s\n",
      "Wall time: 4h 14min 1s\n"
     ]
    }
   ],
   "source": [
    "%%time\n",
    "\n",
    "for case in emory4dct.cases:\n",
    "    for phase in emory4dct.phases:\n",
    "        print(f'Segmenting {case.case_name} phase {phase}')\n",
    "        \n",
    "        image_file = case.nifti_file(phase=phase)\n",
    "        mask_file = case.mask_file(phase=phase, roi='lung_combined_mask')\n",
    "        mask_dir = mask_file.parent\n",
    "        \n",
    "        totalsegmentator(\n",
    "            input=image_file,\n",
    "            output=mask_dir,\n",
    "            task='total',\n",
    "            roi_subset=[\n",
    "                'lung_upper_lobe_right',\n",
    "                'lung_middle_lobe_right',\n",
    "                'lung_lower_lobe_right',\n",
    "                'lung_upper_lobe_left',\n",
    "                'lung_lower_lobe_left'\n",
    "            ],\n",
    "        )\n",
    "        totalsegmentator(\n",
    "            input=image_file,\n",
    "            output=mask_dir,\n",
    "            task='lung_vessels'\n",
    "        )\n",
    "        totalsegmentator(\n",
    "            input=image_file,\n",
    "            output=mask_dir,\n",
    "            task='body'\n",
    "        )\n",
    "        mask_nii = combine_masks(\n",
    "            mask_dir=mask_dir,\n",
    "            class_type='lung'\n",
    "        )\n",
    "\n",
    "        # select only the largest connected regions\n",
    "        mask_data = mask_nii.get_fdata()\n",
    "        new_mask_data = select_regions_by_size(mask_data)\n",
    "        new_mask_nii = nib.nifti1.Nifti1Image(new_mask_data, mask_nii.affine)        \n",
    "        \n",
    "        nib.save(new_mask_nii, mask_file)"
   ]
  },
  {
   "cell_type": "code",
   "execution_count": 5,
   "id": "8079a93b",
   "metadata": {
    "scrolled": false
   },
   "outputs": [
    {
     "name": "stdout",
     "output_type": "stream",
     "text": [
      "Loading ../data/Emory-4DCT/Case1Pack/NIFTI/case1_T00.nii.gz\n",
      "Loading ../data/Emory-4DCT/Case1Pack/NIFTI/case1_T10.nii.gz\n",
      "Loading ../data/Emory-4DCT/Case1Pack/NIFTI/case1_T20.nii.gz\n",
      "Loading ../data/Emory-4DCT/Case1Pack/NIFTI/case1_T30.nii.gz\n",
      "Loading ../data/Emory-4DCT/Case1Pack/NIFTI/case1_T40.nii.gz\n",
      "Loading ../data/Emory-4DCT/Case1Pack/NIFTI/case1_T50.nii.gz\n",
      "Loading ../data/Emory-4DCT/Case1Pack/NIFTI/case1_T60.nii.gz\n",
      "Loading ../data/Emory-4DCT/Case1Pack/NIFTI/case1_T70.nii.gz\n",
      "Loading ../data/Emory-4DCT/Case1Pack/NIFTI/case1_T80.nii.gz\n",
      "Loading ../data/Emory-4DCT/Case1Pack/NIFTI/case1_T90.nii.gz\n",
      "Loading ../data/Emory-4DCT/Case1Pack/TotalSegment/case1_T00/lung_combined_mask.nii.gz\n",
      "Loading ../data/Emory-4DCT/Case1Pack/TotalSegment/case1_T10/lung_combined_mask.nii.gz\n",
      "Loading ../data/Emory-4DCT/Case1Pack/TotalSegment/case1_T20/lung_combined_mask.nii.gz\n",
      "Loading ../data/Emory-4DCT/Case1Pack/TotalSegment/case1_T30/lung_combined_mask.nii.gz\n",
      "Loading ../data/Emory-4DCT/Case1Pack/TotalSegment/case1_T40/lung_combined_mask.nii.gz\n",
      "Loading ../data/Emory-4DCT/Case1Pack/TotalSegment/case1_T50/lung_combined_mask.nii.gz\n",
      "Loading ../data/Emory-4DCT/Case1Pack/TotalSegment/case1_T60/lung_combined_mask.nii.gz\n",
      "Loading ../data/Emory-4DCT/Case1Pack/TotalSegment/case1_T70/lung_combined_mask.nii.gz\n",
      "Loading ../data/Emory-4DCT/Case1Pack/TotalSegment/case1_T80/lung_combined_mask.nii.gz\n",
      "Loading ../data/Emory-4DCT/Case1Pack/TotalSegment/case1_T90/lung_combined_mask.nii.gz\n"
     ]
    }
   ],
   "source": [
    "case = emory4dct[0]\n",
    "case.load_niftis()\n",
    "case.load_masks(roi='lung_combined_mask')"
   ]
  },
  {
   "cell_type": "code",
   "execution_count": 6,
   "id": "839e1d59",
   "metadata": {},
   "outputs": [
    {
     "data": {
      "application/javascript": [
       "/* Put everything inside the global mpl namespace */\n",
       "/* global mpl */\n",
       "window.mpl = {};\n",
       "\n",
       "mpl.get_websocket_type = function () {\n",
       "    if (typeof WebSocket !== 'undefined') {\n",
       "        return WebSocket;\n",
       "    } else if (typeof MozWebSocket !== 'undefined') {\n",
       "        return MozWebSocket;\n",
       "    } else {\n",
       "        alert(\n",
       "            'Your browser does not have WebSocket support. ' +\n",
       "                'Please try Chrome, Safari or Firefox ≥ 6. ' +\n",
       "                'Firefox 4 and 5 are also supported but you ' +\n",
       "                'have to enable WebSockets in about:config.'\n",
       "        );\n",
       "    }\n",
       "};\n",
       "\n",
       "mpl.figure = function (figure_id, websocket, ondownload, parent_element) {\n",
       "    this.id = figure_id;\n",
       "\n",
       "    this.ws = websocket;\n",
       "\n",
       "    this.supports_binary = this.ws.binaryType !== undefined;\n",
       "\n",
       "    if (!this.supports_binary) {\n",
       "        var warnings = document.getElementById('mpl-warnings');\n",
       "        if (warnings) {\n",
       "            warnings.style.display = 'block';\n",
       "            warnings.textContent =\n",
       "                'This browser does not support binary websocket messages. ' +\n",
       "                'Performance may be slow.';\n",
       "        }\n",
       "    }\n",
       "\n",
       "    this.imageObj = new Image();\n",
       "\n",
       "    this.context = undefined;\n",
       "    this.message = undefined;\n",
       "    this.canvas = undefined;\n",
       "    this.rubberband_canvas = undefined;\n",
       "    this.rubberband_context = undefined;\n",
       "    this.format_dropdown = undefined;\n",
       "\n",
       "    this.image_mode = 'full';\n",
       "\n",
       "    this.root = document.createElement('div');\n",
       "    this.root.setAttribute('style', 'display: inline-block');\n",
       "    this._root_extra_style(this.root);\n",
       "\n",
       "    parent_element.appendChild(this.root);\n",
       "\n",
       "    this._init_header(this);\n",
       "    this._init_canvas(this);\n",
       "    this._init_toolbar(this);\n",
       "\n",
       "    var fig = this;\n",
       "\n",
       "    this.waiting = false;\n",
       "\n",
       "    this.ws.onopen = function () {\n",
       "        fig.send_message('supports_binary', { value: fig.supports_binary });\n",
       "        fig.send_message('send_image_mode', {});\n",
       "        if (fig.ratio !== 1) {\n",
       "            fig.send_message('set_device_pixel_ratio', {\n",
       "                device_pixel_ratio: fig.ratio,\n",
       "            });\n",
       "        }\n",
       "        fig.send_message('refresh', {});\n",
       "    };\n",
       "\n",
       "    this.imageObj.onload = function () {\n",
       "        if (fig.image_mode === 'full') {\n",
       "            // Full images could contain transparency (where diff images\n",
       "            // almost always do), so we need to clear the canvas so that\n",
       "            // there is no ghosting.\n",
       "            fig.context.clearRect(0, 0, fig.canvas.width, fig.canvas.height);\n",
       "        }\n",
       "        fig.context.drawImage(fig.imageObj, 0, 0);\n",
       "    };\n",
       "\n",
       "    this.imageObj.onunload = function () {\n",
       "        fig.ws.close();\n",
       "    };\n",
       "\n",
       "    this.ws.onmessage = this._make_on_message_function(this);\n",
       "\n",
       "    this.ondownload = ondownload;\n",
       "};\n",
       "\n",
       "mpl.figure.prototype._init_header = function () {\n",
       "    var titlebar = document.createElement('div');\n",
       "    titlebar.classList =\n",
       "        'ui-dialog-titlebar ui-widget-header ui-corner-all ui-helper-clearfix';\n",
       "    var titletext = document.createElement('div');\n",
       "    titletext.classList = 'ui-dialog-title';\n",
       "    titletext.setAttribute(\n",
       "        'style',\n",
       "        'width: 100%; text-align: center; padding: 3px;'\n",
       "    );\n",
       "    titlebar.appendChild(titletext);\n",
       "    this.root.appendChild(titlebar);\n",
       "    this.header = titletext;\n",
       "};\n",
       "\n",
       "mpl.figure.prototype._canvas_extra_style = function (_canvas_div) {};\n",
       "\n",
       "mpl.figure.prototype._root_extra_style = function (_canvas_div) {};\n",
       "\n",
       "mpl.figure.prototype._init_canvas = function () {\n",
       "    var fig = this;\n",
       "\n",
       "    var canvas_div = (this.canvas_div = document.createElement('div'));\n",
       "    canvas_div.setAttribute('tabindex', '0');\n",
       "    canvas_div.setAttribute(\n",
       "        'style',\n",
       "        'border: 1px solid #ddd;' +\n",
       "            'box-sizing: content-box;' +\n",
       "            'clear: both;' +\n",
       "            'min-height: 1px;' +\n",
       "            'min-width: 1px;' +\n",
       "            'outline: 0;' +\n",
       "            'overflow: hidden;' +\n",
       "            'position: relative;' +\n",
       "            'resize: both;' +\n",
       "            'z-index: 2;'\n",
       "    );\n",
       "\n",
       "    function on_keyboard_event_closure(name) {\n",
       "        return function (event) {\n",
       "            return fig.key_event(event, name);\n",
       "        };\n",
       "    }\n",
       "\n",
       "    canvas_div.addEventListener(\n",
       "        'keydown',\n",
       "        on_keyboard_event_closure('key_press')\n",
       "    );\n",
       "    canvas_div.addEventListener(\n",
       "        'keyup',\n",
       "        on_keyboard_event_closure('key_release')\n",
       "    );\n",
       "\n",
       "    this._canvas_extra_style(canvas_div);\n",
       "    this.root.appendChild(canvas_div);\n",
       "\n",
       "    var canvas = (this.canvas = document.createElement('canvas'));\n",
       "    canvas.classList.add('mpl-canvas');\n",
       "    canvas.setAttribute(\n",
       "        'style',\n",
       "        'box-sizing: content-box;' +\n",
       "            'pointer-events: none;' +\n",
       "            'position: relative;' +\n",
       "            'z-index: 0;'\n",
       "    );\n",
       "\n",
       "    this.context = canvas.getContext('2d');\n",
       "\n",
       "    var backingStore =\n",
       "        this.context.backingStorePixelRatio ||\n",
       "        this.context.webkitBackingStorePixelRatio ||\n",
       "        this.context.mozBackingStorePixelRatio ||\n",
       "        this.context.msBackingStorePixelRatio ||\n",
       "        this.context.oBackingStorePixelRatio ||\n",
       "        this.context.backingStorePixelRatio ||\n",
       "        1;\n",
       "\n",
       "    this.ratio = (window.devicePixelRatio || 1) / backingStore;\n",
       "\n",
       "    var rubberband_canvas = (this.rubberband_canvas = document.createElement(\n",
       "        'canvas'\n",
       "    ));\n",
       "    rubberband_canvas.setAttribute(\n",
       "        'style',\n",
       "        'box-sizing: content-box;' +\n",
       "            'left: 0;' +\n",
       "            'pointer-events: none;' +\n",
       "            'position: absolute;' +\n",
       "            'top: 0;' +\n",
       "            'z-index: 1;'\n",
       "    );\n",
       "\n",
       "    // Apply a ponyfill if ResizeObserver is not implemented by browser.\n",
       "    if (this.ResizeObserver === undefined) {\n",
       "        if (window.ResizeObserver !== undefined) {\n",
       "            this.ResizeObserver = window.ResizeObserver;\n",
       "        } else {\n",
       "            var obs = _JSXTOOLS_RESIZE_OBSERVER({});\n",
       "            this.ResizeObserver = obs.ResizeObserver;\n",
       "        }\n",
       "    }\n",
       "\n",
       "    this.resizeObserverInstance = new this.ResizeObserver(function (entries) {\n",
       "        var nentries = entries.length;\n",
       "        for (var i = 0; i < nentries; i++) {\n",
       "            var entry = entries[i];\n",
       "            var width, height;\n",
       "            if (entry.contentBoxSize) {\n",
       "                if (entry.contentBoxSize instanceof Array) {\n",
       "                    // Chrome 84 implements new version of spec.\n",
       "                    width = entry.contentBoxSize[0].inlineSize;\n",
       "                    height = entry.contentBoxSize[0].blockSize;\n",
       "                } else {\n",
       "                    // Firefox implements old version of spec.\n",
       "                    width = entry.contentBoxSize.inlineSize;\n",
       "                    height = entry.contentBoxSize.blockSize;\n",
       "                }\n",
       "            } else {\n",
       "                // Chrome <84 implements even older version of spec.\n",
       "                width = entry.contentRect.width;\n",
       "                height = entry.contentRect.height;\n",
       "            }\n",
       "\n",
       "            // Keep the size of the canvas and rubber band canvas in sync with\n",
       "            // the canvas container.\n",
       "            if (entry.devicePixelContentBoxSize) {\n",
       "                // Chrome 84 implements new version of spec.\n",
       "                canvas.setAttribute(\n",
       "                    'width',\n",
       "                    entry.devicePixelContentBoxSize[0].inlineSize\n",
       "                );\n",
       "                canvas.setAttribute(\n",
       "                    'height',\n",
       "                    entry.devicePixelContentBoxSize[0].blockSize\n",
       "                );\n",
       "            } else {\n",
       "                canvas.setAttribute('width', width * fig.ratio);\n",
       "                canvas.setAttribute('height', height * fig.ratio);\n",
       "            }\n",
       "            /* This rescales the canvas back to display pixels, so that it\n",
       "             * appears correct on HiDPI screens. */\n",
       "            canvas.style.width = width + 'px';\n",
       "            canvas.style.height = height + 'px';\n",
       "\n",
       "            rubberband_canvas.setAttribute('width', width);\n",
       "            rubberband_canvas.setAttribute('height', height);\n",
       "\n",
       "            // And update the size in Python. We ignore the initial 0/0 size\n",
       "            // that occurs as the element is placed into the DOM, which should\n",
       "            // otherwise not happen due to the minimum size styling.\n",
       "            if (fig.ws.readyState == 1 && width != 0 && height != 0) {\n",
       "                fig.request_resize(width, height);\n",
       "            }\n",
       "        }\n",
       "    });\n",
       "    this.resizeObserverInstance.observe(canvas_div);\n",
       "\n",
       "    function on_mouse_event_closure(name) {\n",
       "        /* User Agent sniffing is bad, but WebKit is busted:\n",
       "         * https://bugs.webkit.org/show_bug.cgi?id=144526\n",
       "         * https://bugs.webkit.org/show_bug.cgi?id=181818\n",
       "         * The worst that happens here is that they get an extra browser\n",
       "         * selection when dragging, if this check fails to catch them.\n",
       "         */\n",
       "        var UA = navigator.userAgent;\n",
       "        var isWebKit = /AppleWebKit/.test(UA) && !/Chrome/.test(UA);\n",
       "        if(isWebKit) {\n",
       "            return function (event) {\n",
       "                /* This prevents the web browser from automatically changing to\n",
       "                 * the text insertion cursor when the button is pressed. We\n",
       "                 * want to control all of the cursor setting manually through\n",
       "                 * the 'cursor' event from matplotlib */\n",
       "                event.preventDefault()\n",
       "                return fig.mouse_event(event, name);\n",
       "            };\n",
       "        } else {\n",
       "            return function (event) {\n",
       "                return fig.mouse_event(event, name);\n",
       "            };\n",
       "        }\n",
       "    }\n",
       "\n",
       "    canvas_div.addEventListener(\n",
       "        'mousedown',\n",
       "        on_mouse_event_closure('button_press')\n",
       "    );\n",
       "    canvas_div.addEventListener(\n",
       "        'mouseup',\n",
       "        on_mouse_event_closure('button_release')\n",
       "    );\n",
       "    canvas_div.addEventListener(\n",
       "        'dblclick',\n",
       "        on_mouse_event_closure('dblclick')\n",
       "    );\n",
       "    // Throttle sequential mouse events to 1 every 20ms.\n",
       "    canvas_div.addEventListener(\n",
       "        'mousemove',\n",
       "        on_mouse_event_closure('motion_notify')\n",
       "    );\n",
       "\n",
       "    canvas_div.addEventListener(\n",
       "        'mouseenter',\n",
       "        on_mouse_event_closure('figure_enter')\n",
       "    );\n",
       "    canvas_div.addEventListener(\n",
       "        'mouseleave',\n",
       "        on_mouse_event_closure('figure_leave')\n",
       "    );\n",
       "\n",
       "    canvas_div.addEventListener('wheel', function (event) {\n",
       "        if (event.deltaY < 0) {\n",
       "            event.step = 1;\n",
       "        } else {\n",
       "            event.step = -1;\n",
       "        }\n",
       "        on_mouse_event_closure('scroll')(event);\n",
       "    });\n",
       "\n",
       "    canvas_div.appendChild(canvas);\n",
       "    canvas_div.appendChild(rubberband_canvas);\n",
       "\n",
       "    this.rubberband_context = rubberband_canvas.getContext('2d');\n",
       "    this.rubberband_context.strokeStyle = '#000000';\n",
       "\n",
       "    this._resize_canvas = function (width, height, forward) {\n",
       "        if (forward) {\n",
       "            canvas_div.style.width = width + 'px';\n",
       "            canvas_div.style.height = height + 'px';\n",
       "        }\n",
       "    };\n",
       "\n",
       "    // Disable right mouse context menu.\n",
       "    canvas_div.addEventListener('contextmenu', function (_e) {\n",
       "        event.preventDefault();\n",
       "        return false;\n",
       "    });\n",
       "\n",
       "    function set_focus() {\n",
       "        canvas.focus();\n",
       "        canvas_div.focus();\n",
       "    }\n",
       "\n",
       "    window.setTimeout(set_focus, 100);\n",
       "};\n",
       "\n",
       "mpl.figure.prototype._init_toolbar = function () {\n",
       "    var fig = this;\n",
       "\n",
       "    var toolbar = document.createElement('div');\n",
       "    toolbar.classList = 'mpl-toolbar';\n",
       "    this.root.appendChild(toolbar);\n",
       "\n",
       "    function on_click_closure(name) {\n",
       "        return function (_event) {\n",
       "            return fig.toolbar_button_onclick(name);\n",
       "        };\n",
       "    }\n",
       "\n",
       "    function on_mouseover_closure(tooltip) {\n",
       "        return function (event) {\n",
       "            if (!event.currentTarget.disabled) {\n",
       "                return fig.toolbar_button_onmouseover(tooltip);\n",
       "            }\n",
       "        };\n",
       "    }\n",
       "\n",
       "    fig.buttons = {};\n",
       "    var buttonGroup = document.createElement('div');\n",
       "    buttonGroup.classList = 'mpl-button-group';\n",
       "    for (var toolbar_ind in mpl.toolbar_items) {\n",
       "        var name = mpl.toolbar_items[toolbar_ind][0];\n",
       "        var tooltip = mpl.toolbar_items[toolbar_ind][1];\n",
       "        var image = mpl.toolbar_items[toolbar_ind][2];\n",
       "        var method_name = mpl.toolbar_items[toolbar_ind][3];\n",
       "\n",
       "        if (!name) {\n",
       "            /* Instead of a spacer, we start a new button group. */\n",
       "            if (buttonGroup.hasChildNodes()) {\n",
       "                toolbar.appendChild(buttonGroup);\n",
       "            }\n",
       "            buttonGroup = document.createElement('div');\n",
       "            buttonGroup.classList = 'mpl-button-group';\n",
       "            continue;\n",
       "        }\n",
       "\n",
       "        var button = (fig.buttons[name] = document.createElement('button'));\n",
       "        button.classList = 'mpl-widget';\n",
       "        button.setAttribute('role', 'button');\n",
       "        button.setAttribute('aria-disabled', 'false');\n",
       "        button.addEventListener('click', on_click_closure(method_name));\n",
       "        button.addEventListener('mouseover', on_mouseover_closure(tooltip));\n",
       "\n",
       "        var icon_img = document.createElement('img');\n",
       "        icon_img.src = '_images/' + image + '.png';\n",
       "        icon_img.srcset = '_images/' + image + '_large.png 2x';\n",
       "        icon_img.alt = tooltip;\n",
       "        button.appendChild(icon_img);\n",
       "\n",
       "        buttonGroup.appendChild(button);\n",
       "    }\n",
       "\n",
       "    if (buttonGroup.hasChildNodes()) {\n",
       "        toolbar.appendChild(buttonGroup);\n",
       "    }\n",
       "\n",
       "    var fmt_picker = document.createElement('select');\n",
       "    fmt_picker.classList = 'mpl-widget';\n",
       "    toolbar.appendChild(fmt_picker);\n",
       "    this.format_dropdown = fmt_picker;\n",
       "\n",
       "    for (var ind in mpl.extensions) {\n",
       "        var fmt = mpl.extensions[ind];\n",
       "        var option = document.createElement('option');\n",
       "        option.selected = fmt === mpl.default_extension;\n",
       "        option.innerHTML = fmt;\n",
       "        fmt_picker.appendChild(option);\n",
       "    }\n",
       "\n",
       "    var status_bar = document.createElement('span');\n",
       "    status_bar.classList = 'mpl-message';\n",
       "    toolbar.appendChild(status_bar);\n",
       "    this.message = status_bar;\n",
       "};\n",
       "\n",
       "mpl.figure.prototype.request_resize = function (x_pixels, y_pixels) {\n",
       "    // Request matplotlib to resize the figure. Matplotlib will then trigger a resize in the client,\n",
       "    // which will in turn request a refresh of the image.\n",
       "    this.send_message('resize', { width: x_pixels, height: y_pixels });\n",
       "};\n",
       "\n",
       "mpl.figure.prototype.send_message = function (type, properties) {\n",
       "    properties['type'] = type;\n",
       "    properties['figure_id'] = this.id;\n",
       "    this.ws.send(JSON.stringify(properties));\n",
       "};\n",
       "\n",
       "mpl.figure.prototype.send_draw_message = function () {\n",
       "    if (!this.waiting) {\n",
       "        this.waiting = true;\n",
       "        this.ws.send(JSON.stringify({ type: 'draw', figure_id: this.id }));\n",
       "    }\n",
       "};\n",
       "\n",
       "mpl.figure.prototype.handle_save = function (fig, _msg) {\n",
       "    var format_dropdown = fig.format_dropdown;\n",
       "    var format = format_dropdown.options[format_dropdown.selectedIndex].value;\n",
       "    fig.ondownload(fig, format);\n",
       "};\n",
       "\n",
       "mpl.figure.prototype.handle_resize = function (fig, msg) {\n",
       "    var size = msg['size'];\n",
       "    if (size[0] !== fig.canvas.width || size[1] !== fig.canvas.height) {\n",
       "        fig._resize_canvas(size[0], size[1], msg['forward']);\n",
       "        fig.send_message('refresh', {});\n",
       "    }\n",
       "};\n",
       "\n",
       "mpl.figure.prototype.handle_rubberband = function (fig, msg) {\n",
       "    var x0 = msg['x0'] / fig.ratio;\n",
       "    var y0 = (fig.canvas.height - msg['y0']) / fig.ratio;\n",
       "    var x1 = msg['x1'] / fig.ratio;\n",
       "    var y1 = (fig.canvas.height - msg['y1']) / fig.ratio;\n",
       "    x0 = Math.floor(x0) + 0.5;\n",
       "    y0 = Math.floor(y0) + 0.5;\n",
       "    x1 = Math.floor(x1) + 0.5;\n",
       "    y1 = Math.floor(y1) + 0.5;\n",
       "    var min_x = Math.min(x0, x1);\n",
       "    var min_y = Math.min(y0, y1);\n",
       "    var width = Math.abs(x1 - x0);\n",
       "    var height = Math.abs(y1 - y0);\n",
       "\n",
       "    fig.rubberband_context.clearRect(\n",
       "        0,\n",
       "        0,\n",
       "        fig.canvas.width / fig.ratio,\n",
       "        fig.canvas.height / fig.ratio\n",
       "    );\n",
       "\n",
       "    fig.rubberband_context.strokeRect(min_x, min_y, width, height);\n",
       "};\n",
       "\n",
       "mpl.figure.prototype.handle_figure_label = function (fig, msg) {\n",
       "    // Updates the figure title.\n",
       "    fig.header.textContent = msg['label'];\n",
       "};\n",
       "\n",
       "mpl.figure.prototype.handle_cursor = function (fig, msg) {\n",
       "    fig.canvas_div.style.cursor = msg['cursor'];\n",
       "};\n",
       "\n",
       "mpl.figure.prototype.handle_message = function (fig, msg) {\n",
       "    fig.message.textContent = msg['message'];\n",
       "};\n",
       "\n",
       "mpl.figure.prototype.handle_draw = function (fig, _msg) {\n",
       "    // Request the server to send over a new figure.\n",
       "    fig.send_draw_message();\n",
       "};\n",
       "\n",
       "mpl.figure.prototype.handle_image_mode = function (fig, msg) {\n",
       "    fig.image_mode = msg['mode'];\n",
       "};\n",
       "\n",
       "mpl.figure.prototype.handle_history_buttons = function (fig, msg) {\n",
       "    for (var key in msg) {\n",
       "        if (!(key in fig.buttons)) {\n",
       "            continue;\n",
       "        }\n",
       "        fig.buttons[key].disabled = !msg[key];\n",
       "        fig.buttons[key].setAttribute('aria-disabled', !msg[key]);\n",
       "    }\n",
       "};\n",
       "\n",
       "mpl.figure.prototype.handle_navigate_mode = function (fig, msg) {\n",
       "    if (msg['mode'] === 'PAN') {\n",
       "        fig.buttons['Pan'].classList.add('active');\n",
       "        fig.buttons['Zoom'].classList.remove('active');\n",
       "    } else if (msg['mode'] === 'ZOOM') {\n",
       "        fig.buttons['Pan'].classList.remove('active');\n",
       "        fig.buttons['Zoom'].classList.add('active');\n",
       "    } else {\n",
       "        fig.buttons['Pan'].classList.remove('active');\n",
       "        fig.buttons['Zoom'].classList.remove('active');\n",
       "    }\n",
       "};\n",
       "\n",
       "mpl.figure.prototype.updated_canvas_event = function () {\n",
       "    // Called whenever the canvas gets updated.\n",
       "    this.send_message('ack', {});\n",
       "};\n",
       "\n",
       "// A function to construct a web socket function for onmessage handling.\n",
       "// Called in the figure constructor.\n",
       "mpl.figure.prototype._make_on_message_function = function (fig) {\n",
       "    return function socket_on_message(evt) {\n",
       "        if (evt.data instanceof Blob) {\n",
       "            var img = evt.data;\n",
       "            if (img.type !== 'image/png') {\n",
       "                /* FIXME: We get \"Resource interpreted as Image but\n",
       "                 * transferred with MIME type text/plain:\" errors on\n",
       "                 * Chrome.  But how to set the MIME type?  It doesn't seem\n",
       "                 * to be part of the websocket stream */\n",
       "                img.type = 'image/png';\n",
       "            }\n",
       "\n",
       "            /* Free the memory for the previous frames */\n",
       "            if (fig.imageObj.src) {\n",
       "                (window.URL || window.webkitURL).revokeObjectURL(\n",
       "                    fig.imageObj.src\n",
       "                );\n",
       "            }\n",
       "\n",
       "            fig.imageObj.src = (window.URL || window.webkitURL).createObjectURL(\n",
       "                img\n",
       "            );\n",
       "            fig.updated_canvas_event();\n",
       "            fig.waiting = false;\n",
       "            return;\n",
       "        } else if (\n",
       "            typeof evt.data === 'string' &&\n",
       "            evt.data.slice(0, 21) === 'data:image/png;base64'\n",
       "        ) {\n",
       "            fig.imageObj.src = evt.data;\n",
       "            fig.updated_canvas_event();\n",
       "            fig.waiting = false;\n",
       "            return;\n",
       "        }\n",
       "\n",
       "        var msg = JSON.parse(evt.data);\n",
       "        var msg_type = msg['type'];\n",
       "\n",
       "        // Call the  \"handle_{type}\" callback, which takes\n",
       "        // the figure and JSON message as its only arguments.\n",
       "        try {\n",
       "            var callback = fig['handle_' + msg_type];\n",
       "        } catch (e) {\n",
       "            console.log(\n",
       "                \"No handler for the '\" + msg_type + \"' message type: \",\n",
       "                msg\n",
       "            );\n",
       "            return;\n",
       "        }\n",
       "\n",
       "        if (callback) {\n",
       "            try {\n",
       "                // console.log(\"Handling '\" + msg_type + \"' message: \", msg);\n",
       "                callback(fig, msg);\n",
       "            } catch (e) {\n",
       "                console.log(\n",
       "                    \"Exception inside the 'handler_\" + msg_type + \"' callback:\",\n",
       "                    e,\n",
       "                    e.stack,\n",
       "                    msg\n",
       "                );\n",
       "            }\n",
       "        }\n",
       "    };\n",
       "};\n",
       "\n",
       "function getModifiers(event) {\n",
       "    var mods = [];\n",
       "    if (event.ctrlKey) {\n",
       "        mods.push('ctrl');\n",
       "    }\n",
       "    if (event.altKey) {\n",
       "        mods.push('alt');\n",
       "    }\n",
       "    if (event.shiftKey) {\n",
       "        mods.push('shift');\n",
       "    }\n",
       "    if (event.metaKey) {\n",
       "        mods.push('meta');\n",
       "    }\n",
       "    return mods;\n",
       "}\n",
       "\n",
       "/*\n",
       " * return a copy of an object with only non-object keys\n",
       " * we need this to avoid circular references\n",
       " * https://stackoverflow.com/a/24161582/3208463\n",
       " */\n",
       "function simpleKeys(original) {\n",
       "    return Object.keys(original).reduce(function (obj, key) {\n",
       "        if (typeof original[key] !== 'object') {\n",
       "            obj[key] = original[key];\n",
       "        }\n",
       "        return obj;\n",
       "    }, {});\n",
       "}\n",
       "\n",
       "mpl.figure.prototype.mouse_event = function (event, name) {\n",
       "    if (name === 'button_press') {\n",
       "        this.canvas.focus();\n",
       "        this.canvas_div.focus();\n",
       "    }\n",
       "\n",
       "    // from https://stackoverflow.com/q/1114465\n",
       "    var boundingRect = this.canvas.getBoundingClientRect();\n",
       "    var x = (event.clientX - boundingRect.left) * this.ratio;\n",
       "    var y = (event.clientY - boundingRect.top) * this.ratio;\n",
       "\n",
       "    this.send_message(name, {\n",
       "        x: x,\n",
       "        y: y,\n",
       "        button: event.button,\n",
       "        step: event.step,\n",
       "        modifiers: getModifiers(event),\n",
       "        guiEvent: simpleKeys(event),\n",
       "    });\n",
       "\n",
       "    return false;\n",
       "};\n",
       "\n",
       "mpl.figure.prototype._key_event_extra = function (_event, _name) {\n",
       "    // Handle any extra behaviour associated with a key event\n",
       "};\n",
       "\n",
       "mpl.figure.prototype.key_event = function (event, name) {\n",
       "    // Prevent repeat events\n",
       "    if (name === 'key_press') {\n",
       "        if (event.key === this._key) {\n",
       "            return;\n",
       "        } else {\n",
       "            this._key = event.key;\n",
       "        }\n",
       "    }\n",
       "    if (name === 'key_release') {\n",
       "        this._key = null;\n",
       "    }\n",
       "\n",
       "    var value = '';\n",
       "    if (event.ctrlKey && event.key !== 'Control') {\n",
       "        value += 'ctrl+';\n",
       "    }\n",
       "    else if (event.altKey && event.key !== 'Alt') {\n",
       "        value += 'alt+';\n",
       "    }\n",
       "    else if (event.shiftKey && event.key !== 'Shift') {\n",
       "        value += 'shift+';\n",
       "    }\n",
       "\n",
       "    value += 'k' + event.key;\n",
       "\n",
       "    this._key_event_extra(event, name);\n",
       "\n",
       "    this.send_message(name, { key: value, guiEvent: simpleKeys(event) });\n",
       "    return false;\n",
       "};\n",
       "\n",
       "mpl.figure.prototype.toolbar_button_onclick = function (name) {\n",
       "    if (name === 'download') {\n",
       "        this.handle_save(this, null);\n",
       "    } else {\n",
       "        this.send_message('toolbar_button', { name: name });\n",
       "    }\n",
       "};\n",
       "\n",
       "mpl.figure.prototype.toolbar_button_onmouseover = function (tooltip) {\n",
       "    this.message.textContent = tooltip;\n",
       "};\n",
       "\n",
       "///////////////// REMAINING CONTENT GENERATED BY embed_js.py /////////////////\n",
       "// prettier-ignore\n",
       "var _JSXTOOLS_RESIZE_OBSERVER=function(A){var t,i=new WeakMap,n=new WeakMap,a=new WeakMap,r=new WeakMap,o=new Set;function s(e){if(!(this instanceof s))throw new TypeError(\"Constructor requires 'new' operator\");i.set(this,e)}function h(){throw new TypeError(\"Function is not a constructor\")}function c(e,t,i,n){e=0 in arguments?Number(arguments[0]):0,t=1 in arguments?Number(arguments[1]):0,i=2 in arguments?Number(arguments[2]):0,n=3 in arguments?Number(arguments[3]):0,this.right=(this.x=this.left=e)+(this.width=i),this.bottom=(this.y=this.top=t)+(this.height=n),Object.freeze(this)}function d(){t=requestAnimationFrame(d);var s=new WeakMap,p=new Set;o.forEach((function(t){r.get(t).forEach((function(i){var r=t instanceof window.SVGElement,o=a.get(t),d=r?0:parseFloat(o.paddingTop),f=r?0:parseFloat(o.paddingRight),l=r?0:parseFloat(o.paddingBottom),u=r?0:parseFloat(o.paddingLeft),g=r?0:parseFloat(o.borderTopWidth),m=r?0:parseFloat(o.borderRightWidth),w=r?0:parseFloat(o.borderBottomWidth),b=u+f,F=d+l,v=(r?0:parseFloat(o.borderLeftWidth))+m,W=g+w,y=r?0:t.offsetHeight-W-t.clientHeight,E=r?0:t.offsetWidth-v-t.clientWidth,R=b+v,z=F+W,M=r?t.width:parseFloat(o.width)-R-E,O=r?t.height:parseFloat(o.height)-z-y;if(n.has(t)){var k=n.get(t);if(k[0]===M&&k[1]===O)return}n.set(t,[M,O]);var S=Object.create(h.prototype);S.target=t,S.contentRect=new c(u,d,M,O),s.has(i)||(s.set(i,[]),p.add(i)),s.get(i).push(S)}))})),p.forEach((function(e){i.get(e).call(e,s.get(e),e)}))}return s.prototype.observe=function(i){if(i instanceof window.Element){r.has(i)||(r.set(i,new Set),o.add(i),a.set(i,window.getComputedStyle(i)));var n=r.get(i);n.has(this)||n.add(this),cancelAnimationFrame(t),t=requestAnimationFrame(d)}},s.prototype.unobserve=function(i){if(i instanceof window.Element&&r.has(i)){var n=r.get(i);n.has(this)&&(n.delete(this),n.size||(r.delete(i),o.delete(i))),n.size||r.delete(i),o.size||cancelAnimationFrame(t)}},A.DOMRectReadOnly=c,A.ResizeObserver=s,A.ResizeObserverEntry=h,A}; // eslint-disable-line\n",
       "mpl.toolbar_items = [[\"Home\", \"Reset original view\", \"fa fa-home\", \"home\"], [\"Back\", \"Back to previous view\", \"fa fa-arrow-left\", \"back\"], [\"Forward\", \"Forward to next view\", \"fa fa-arrow-right\", \"forward\"], [\"\", \"\", \"\", \"\"], [\"Pan\", \"Left button pans, Right button zooms\\nx/y fixes axis, CTRL fixes aspect\", \"fa fa-arrows\", \"pan\"], [\"Zoom\", \"Zoom to rectangle\\nx/y fixes axis\", \"fa fa-square-o\", \"zoom\"], [\"\", \"\", \"\", \"\"], [\"Download\", \"Download plot\", \"fa fa-floppy-o\", \"download\"]];\n",
       "\n",
       "mpl.extensions = [\"eps\", \"jpeg\", \"pgf\", \"pdf\", \"png\", \"ps\", \"raw\", \"svg\", \"tif\", \"webp\"];\n",
       "\n",
       "mpl.default_extension = \"png\";/* global mpl */\n",
       "\n",
       "var comm_websocket_adapter = function (comm) {\n",
       "    // Create a \"websocket\"-like object which calls the given IPython comm\n",
       "    // object with the appropriate methods. Currently this is a non binary\n",
       "    // socket, so there is still some room for performance tuning.\n",
       "    var ws = {};\n",
       "\n",
       "    ws.binaryType = comm.kernel.ws.binaryType;\n",
       "    ws.readyState = comm.kernel.ws.readyState;\n",
       "    function updateReadyState(_event) {\n",
       "        if (comm.kernel.ws) {\n",
       "            ws.readyState = comm.kernel.ws.readyState;\n",
       "        } else {\n",
       "            ws.readyState = 3; // Closed state.\n",
       "        }\n",
       "    }\n",
       "    comm.kernel.ws.addEventListener('open', updateReadyState);\n",
       "    comm.kernel.ws.addEventListener('close', updateReadyState);\n",
       "    comm.kernel.ws.addEventListener('error', updateReadyState);\n",
       "\n",
       "    ws.close = function () {\n",
       "        comm.close();\n",
       "    };\n",
       "    ws.send = function (m) {\n",
       "        //console.log('sending', m);\n",
       "        comm.send(m);\n",
       "    };\n",
       "    // Register the callback with on_msg.\n",
       "    comm.on_msg(function (msg) {\n",
       "        //console.log('receiving', msg['content']['data'], msg);\n",
       "        var data = msg['content']['data'];\n",
       "        if (data['blob'] !== undefined) {\n",
       "            data = {\n",
       "                data: new Blob(msg['buffers'], { type: data['blob'] }),\n",
       "            };\n",
       "        }\n",
       "        // Pass the mpl event to the overridden (by mpl) onmessage function.\n",
       "        ws.onmessage(data);\n",
       "    });\n",
       "    return ws;\n",
       "};\n",
       "\n",
       "mpl.mpl_figure_comm = function (comm, msg) {\n",
       "    // This is the function which gets called when the mpl process\n",
       "    // starts-up an IPython Comm through the \"matplotlib\" channel.\n",
       "\n",
       "    var id = msg.content.data.id;\n",
       "    // Get hold of the div created by the display call when the Comm\n",
       "    // socket was opened in Python.\n",
       "    var element = document.getElementById(id);\n",
       "    var ws_proxy = comm_websocket_adapter(comm);\n",
       "\n",
       "    function ondownload(figure, _format) {\n",
       "        window.open(figure.canvas.toDataURL());\n",
       "    }\n",
       "\n",
       "    var fig = new mpl.figure(id, ws_proxy, ondownload, element);\n",
       "\n",
       "    // Call onopen now - mpl needs it, as it is assuming we've passed it a real\n",
       "    // web socket which is closed, not our websocket->open comm proxy.\n",
       "    ws_proxy.onopen();\n",
       "\n",
       "    fig.parent_element = element;\n",
       "    fig.cell_info = mpl.find_output_cell(\"<div id='\" + id + \"'></div>\");\n",
       "    if (!fig.cell_info) {\n",
       "        console.error('Failed to find cell for figure', id, fig);\n",
       "        return;\n",
       "    }\n",
       "    fig.cell_info[0].output_area.element.on(\n",
       "        'cleared',\n",
       "        { fig: fig },\n",
       "        fig._remove_fig_handler\n",
       "    );\n",
       "};\n",
       "\n",
       "mpl.figure.prototype.handle_close = function (fig, msg) {\n",
       "    var width = fig.canvas.width / fig.ratio;\n",
       "    fig.cell_info[0].output_area.element.off(\n",
       "        'cleared',\n",
       "        fig._remove_fig_handler\n",
       "    );\n",
       "    fig.resizeObserverInstance.unobserve(fig.canvas_div);\n",
       "\n",
       "    // Update the output cell to use the data from the current canvas.\n",
       "    fig.push_to_output();\n",
       "    var dataURL = fig.canvas.toDataURL();\n",
       "    // Re-enable the keyboard manager in IPython - without this line, in FF,\n",
       "    // the notebook keyboard shortcuts fail.\n",
       "    IPython.keyboard_manager.enable();\n",
       "    fig.parent_element.innerHTML =\n",
       "        '<img src=\"' + dataURL + '\" width=\"' + width + '\">';\n",
       "    fig.close_ws(fig, msg);\n",
       "};\n",
       "\n",
       "mpl.figure.prototype.close_ws = function (fig, msg) {\n",
       "    fig.send_message('closing', msg);\n",
       "    // fig.ws.close()\n",
       "};\n",
       "\n",
       "mpl.figure.prototype.push_to_output = function (_remove_interactive) {\n",
       "    // Turn the data on the canvas into data in the output cell.\n",
       "    var width = this.canvas.width / this.ratio;\n",
       "    var dataURL = this.canvas.toDataURL();\n",
       "    this.cell_info[1]['text/html'] =\n",
       "        '<img src=\"' + dataURL + '\" width=\"' + width + '\">';\n",
       "};\n",
       "\n",
       "mpl.figure.prototype.updated_canvas_event = function () {\n",
       "    // Tell IPython that the notebook contents must change.\n",
       "    IPython.notebook.set_dirty(true);\n",
       "    this.send_message('ack', {});\n",
       "    var fig = this;\n",
       "    // Wait a second, then push the new image to the DOM so\n",
       "    // that it is saved nicely (might be nice to debounce this).\n",
       "    setTimeout(function () {\n",
       "        fig.push_to_output();\n",
       "    }, 1000);\n",
       "};\n",
       "\n",
       "mpl.figure.prototype._init_toolbar = function () {\n",
       "    var fig = this;\n",
       "\n",
       "    var toolbar = document.createElement('div');\n",
       "    toolbar.classList = 'btn-toolbar';\n",
       "    this.root.appendChild(toolbar);\n",
       "\n",
       "    function on_click_closure(name) {\n",
       "        return function (_event) {\n",
       "            return fig.toolbar_button_onclick(name);\n",
       "        };\n",
       "    }\n",
       "\n",
       "    function on_mouseover_closure(tooltip) {\n",
       "        return function (event) {\n",
       "            if (!event.currentTarget.disabled) {\n",
       "                return fig.toolbar_button_onmouseover(tooltip);\n",
       "            }\n",
       "        };\n",
       "    }\n",
       "\n",
       "    fig.buttons = {};\n",
       "    var buttonGroup = document.createElement('div');\n",
       "    buttonGroup.classList = 'btn-group';\n",
       "    var button;\n",
       "    for (var toolbar_ind in mpl.toolbar_items) {\n",
       "        var name = mpl.toolbar_items[toolbar_ind][0];\n",
       "        var tooltip = mpl.toolbar_items[toolbar_ind][1];\n",
       "        var image = mpl.toolbar_items[toolbar_ind][2];\n",
       "        var method_name = mpl.toolbar_items[toolbar_ind][3];\n",
       "\n",
       "        if (!name) {\n",
       "            /* Instead of a spacer, we start a new button group. */\n",
       "            if (buttonGroup.hasChildNodes()) {\n",
       "                toolbar.appendChild(buttonGroup);\n",
       "            }\n",
       "            buttonGroup = document.createElement('div');\n",
       "            buttonGroup.classList = 'btn-group';\n",
       "            continue;\n",
       "        }\n",
       "\n",
       "        button = fig.buttons[name] = document.createElement('button');\n",
       "        button.classList = 'btn btn-default';\n",
       "        button.href = '#';\n",
       "        button.title = name;\n",
       "        button.innerHTML = '<i class=\"fa ' + image + ' fa-lg\"></i>';\n",
       "        button.addEventListener('click', on_click_closure(method_name));\n",
       "        button.addEventListener('mouseover', on_mouseover_closure(tooltip));\n",
       "        buttonGroup.appendChild(button);\n",
       "    }\n",
       "\n",
       "    if (buttonGroup.hasChildNodes()) {\n",
       "        toolbar.appendChild(buttonGroup);\n",
       "    }\n",
       "\n",
       "    // Add the status bar.\n",
       "    var status_bar = document.createElement('span');\n",
       "    status_bar.classList = 'mpl-message pull-right';\n",
       "    toolbar.appendChild(status_bar);\n",
       "    this.message = status_bar;\n",
       "\n",
       "    // Add the close button to the window.\n",
       "    var buttongrp = document.createElement('div');\n",
       "    buttongrp.classList = 'btn-group inline pull-right';\n",
       "    button = document.createElement('button');\n",
       "    button.classList = 'btn btn-mini btn-primary';\n",
       "    button.href = '#';\n",
       "    button.title = 'Stop Interaction';\n",
       "    button.innerHTML = '<i class=\"fa fa-power-off icon-remove icon-large\"></i>';\n",
       "    button.addEventListener('click', function (_evt) {\n",
       "        fig.handle_close(fig, {});\n",
       "    });\n",
       "    button.addEventListener(\n",
       "        'mouseover',\n",
       "        on_mouseover_closure('Stop Interaction')\n",
       "    );\n",
       "    buttongrp.appendChild(button);\n",
       "    var titlebar = this.root.querySelector('.ui-dialog-titlebar');\n",
       "    titlebar.insertBefore(buttongrp, titlebar.firstChild);\n",
       "};\n",
       "\n",
       "mpl.figure.prototype._remove_fig_handler = function (event) {\n",
       "    var fig = event.data.fig;\n",
       "    if (event.target !== this) {\n",
       "        // Ignore bubbled events from children.\n",
       "        return;\n",
       "    }\n",
       "    fig.close_ws(fig, {});\n",
       "};\n",
       "\n",
       "mpl.figure.prototype._root_extra_style = function (el) {\n",
       "    el.style.boxSizing = 'content-box'; // override notebook setting of border-box.\n",
       "};\n",
       "\n",
       "mpl.figure.prototype._canvas_extra_style = function (el) {\n",
       "    // this is important to make the div 'focusable\n",
       "    el.setAttribute('tabindex', 0);\n",
       "    // reach out to IPython and tell the keyboard manager to turn it's self\n",
       "    // off when our div gets focus\n",
       "\n",
       "    // location in version 3\n",
       "    if (IPython.notebook.keyboard_manager) {\n",
       "        IPython.notebook.keyboard_manager.register_events(el);\n",
       "    } else {\n",
       "        // location in version 2\n",
       "        IPython.keyboard_manager.register_events(el);\n",
       "    }\n",
       "};\n",
       "\n",
       "mpl.figure.prototype._key_event_extra = function (event, _name) {\n",
       "    // Check for shift+enter\n",
       "    if (event.shiftKey && event.which === 13) {\n",
       "        this.canvas_div.blur();\n",
       "        // select the cell after this one\n",
       "        var index = IPython.notebook.find_cell_index(this.cell_info[0]);\n",
       "        IPython.notebook.select(index + 1);\n",
       "    }\n",
       "};\n",
       "\n",
       "mpl.figure.prototype.handle_save = function (fig, _msg) {\n",
       "    fig.ondownload(fig, null);\n",
       "};\n",
       "\n",
       "mpl.find_output_cell = function (html_output) {\n",
       "    // Return the cell and output element which can be found *uniquely* in the notebook.\n",
       "    // Note - this is a bit hacky, but it is done because the \"notebook_saving.Notebook\"\n",
       "    // IPython event is triggered only after the cells have been serialised, which for\n",
       "    // our purposes (turning an active figure into a static one), is too late.\n",
       "    var cells = IPython.notebook.get_cells();\n",
       "    var ncells = cells.length;\n",
       "    for (var i = 0; i < ncells; i++) {\n",
       "        var cell = cells[i];\n",
       "        if (cell.cell_type === 'code') {\n",
       "            for (var j = 0; j < cell.output_area.outputs.length; j++) {\n",
       "                var data = cell.output_area.outputs[j];\n",
       "                if (data.data) {\n",
       "                    // IPython >= 3 moved mimebundle to data attribute of output\n",
       "                    data = data.data;\n",
       "                }\n",
       "                if (data['text/html'] === html_output) {\n",
       "                    return [cell, data, j];\n",
       "                }\n",
       "            }\n",
       "        }\n",
       "    }\n",
       "};\n",
       "\n",
       "// Register the function which deals with the matplotlib target/channel.\n",
       "// The kernel may be null if the page has been refreshed.\n",
       "if (IPython.notebook.kernel !== null) {\n",
       "    IPython.notebook.kernel.comm_manager.register_target(\n",
       "        'matplotlib',\n",
       "        mpl.mpl_figure_comm\n",
       "    );\n",
       "}\n"
      ],
      "text/plain": [
       "<IPython.core.display.Javascript object>"
      ]
     },
     "metadata": {},
     "output_type": "display_data"
    },
    {
     "data": {
      "text/html": [
       "<img src=\"data:image/png;base64,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\" width=\"645\">"
      ],
      "text/plain": [
       "<IPython.core.display.HTML object>"
      ]
     },
     "metadata": {},
     "output_type": "display_data"
    },
    {
     "data": {
      "application/vnd.jupyter.widget-view+json": {
       "model_id": "78412df931ca46c3b2779783d3489dea",
       "version_major": 2,
       "version_minor": 0
      },
      "text/plain": [
       "interactive(children=(SelectionSlider(description='phase', options=((0, 0), (10, 1), (20, 2), (30, 3), (40, 4)…"
      ]
     },
     "metadata": {},
     "output_type": "display_data"
    },
    {
     "data": {
      "text/plain": [
       "<project.visual.XArrayViewer at 0x151bc914fa00>"
      ]
     },
     "execution_count": 6,
     "metadata": {},
     "output_type": "execute_result"
    }
   ],
   "source": [
    "project.visual.view(case.anat + 1000*case.mask, x='x', y='z', cmap='Greys_r', vmin=-1000, vmax=1000)"
   ]
  },
  {
   "cell_type": "code",
   "execution_count": 10,
   "id": "834df00b",
   "metadata": {},
   "outputs": [
    {
     "name": "stdout",
     "output_type": "stream",
     "text": [
      "CPU times: user 5.5 s, sys: 30.7 ms, total: 5.53 s\n",
      "Wall time: 5.55 s\n"
     ]
    },
    {
     "data": {
      "text/plain": [
       "<meshio mesh object>\n",
       "  Number of points: 15272\n",
       "  Number of cells:\n",
       "    triangle: 20676\n",
       "    tetra: 75912"
      ]
     },
     "execution_count": 10,
     "metadata": {},
     "output_type": "execute_result"
    }
   ],
   "source": [
    "%%time\n",
    "mask = case.mask.sel(phase=0, roi='lung_combined_mask')\n",
    "mesh = pygalmesh.generate_from_array(\n",
    "    mask.values.astype(np.uint16),\n",
    "    voxel_size=case.resolution,\n",
    "    max_cell_circumradius=5.0, # mm\n",
    "    odt=True\n",
    ")\n",
    "mesh = project.meshing.remove_unused_points(mesh)\n",
    "mesh"
   ]
  },
  {
   "cell_type": "code",
   "execution_count": 15,
   "id": "d8a09a90",
   "metadata": {},
   "outputs": [],
   "source": [
    "%autoreload"
   ]
  },
  {
   "cell_type": "code",
   "execution_count": 24,
   "id": "0675b54b",
   "metadata": {
    "scrolled": true
   },
   "outputs": [
    {
     "name": "stdout",
     "output_type": "stream",
     "text": [
      "Loading ../data/Emory-4DCT/Case1Pack/NIFTI/case1_T00.nii.gz\n",
      "Loading ../data/Emory-4DCT/Case1Pack/NIFTI/case1_T10.nii.gz\n",
      "Loading ../data/Emory-4DCT/Case1Pack/NIFTI/case1_T20.nii.gz\n",
      "Loading ../data/Emory-4DCT/Case1Pack/NIFTI/case1_T30.nii.gz\n",
      "Loading ../data/Emory-4DCT/Case1Pack/NIFTI/case1_T40.nii.gz\n",
      "Loading ../data/Emory-4DCT/Case1Pack/NIFTI/case1_T50.nii.gz\n",
      "Loading ../data/Emory-4DCT/Case1Pack/NIFTI/case1_T60.nii.gz\n",
      "Loading ../data/Emory-4DCT/Case1Pack/NIFTI/case1_T70.nii.gz\n",
      "Loading ../data/Emory-4DCT/Case1Pack/NIFTI/case1_T80.nii.gz\n",
      "Loading ../data/Emory-4DCT/Case1Pack/NIFTI/case1_T90.nii.gz\n",
      "Loading ../data/Emory-4DCT/Case1Pack/TotalSegment/case1_T00/lung_combined_mask.nii.gz\n",
      "Loading ../data/Emory-4DCT/Case1Pack/TotalSegment/case1_T10/lung_combined_mask.nii.gz\n",
      "Loading ../data/Emory-4DCT/Case1Pack/TotalSegment/case1_T20/lung_combined_mask.nii.gz\n",
      "Loading ../data/Emory-4DCT/Case1Pack/TotalSegment/case1_T30/lung_combined_mask.nii.gz\n",
      "Loading ../data/Emory-4DCT/Case1Pack/TotalSegment/case1_T40/lung_combined_mask.nii.gz\n",
      "Loading ../data/Emory-4DCT/Case1Pack/TotalSegment/case1_T50/lung_combined_mask.nii.gz\n",
      "Loading ../data/Emory-4DCT/Case1Pack/TotalSegment/case1_T60/lung_combined_mask.nii.gz\n",
      "Loading ../data/Emory-4DCT/Case1Pack/TotalSegment/case1_T70/lung_combined_mask.nii.gz\n",
      "Loading ../data/Emory-4DCT/Case1Pack/TotalSegment/case1_T80/lung_combined_mask.nii.gz\n",
      "Loading ../data/Emory-4DCT/Case1Pack/TotalSegment/case1_T90/lung_combined_mask.nii.gz\n",
      "Saving ../data/Emory-4DCT/Case1Pack/pygalmesh/case1_T00_5.xdmf... (15273, 3)\n",
      "Saving ../data/Emory-4DCT/Case1Pack/pygalmesh/case1_T00_10.xdmf... (2199, 3)\n",
      "Saving ../data/Emory-4DCT/Case1Pack/pygalmesh/case1_T00_20.xdmf... (346, 3)\n",
      "Saving ../data/Emory-4DCT/Case1Pack/pygalmesh/case1_T10_5.xdmf... (15096, 3)\n",
      "Saving ../data/Emory-4DCT/Case1Pack/pygalmesh/case1_T10_10.xdmf... (2149, 3)\n",
      "Saving ../data/Emory-4DCT/Case1Pack/pygalmesh/case1_T10_20.xdmf... (328, 3)\n",
      "Saving ../data/Emory-4DCT/Case1Pack/pygalmesh/case1_T20_5.xdmf... (14696, 3)\n",
      "Saving ../data/Emory-4DCT/Case1Pack/pygalmesh/case1_T20_10.xdmf... (2109, 3)\n",
      "Saving ../data/Emory-4DCT/Case1Pack/pygalmesh/case1_T20_20.xdmf... (314, 3)\n",
      "Saving ../data/Emory-4DCT/Case1Pack/pygalmesh/case1_T30_5.xdmf... (14517, 3)\n",
      "Saving ../data/Emory-4DCT/Case1Pack/pygalmesh/case1_T30_10.xdmf... (2065, 3)\n",
      "Saving ../data/Emory-4DCT/Case1Pack/pygalmesh/case1_T30_20.xdmf... (319, 3)\n",
      "Saving ../data/Emory-4DCT/Case1Pack/pygalmesh/case1_T40_5.xdmf... (14190, 3)\n",
      "Saving ../data/Emory-4DCT/Case1Pack/pygalmesh/case1_T40_10.xdmf... (2069, 3)\n",
      "Saving ../data/Emory-4DCT/Case1Pack/pygalmesh/case1_T40_20.xdmf... (300, 3)\n",
      "Saving ../data/Emory-4DCT/Case1Pack/pygalmesh/case1_T50_5.xdmf... (14047, 3)\n",
      "Saving ../data/Emory-4DCT/Case1Pack/pygalmesh/case1_T50_10.xdmf... (2020, 3)\n",
      "Saving ../data/Emory-4DCT/Case1Pack/pygalmesh/case1_T50_20.xdmf... (305, 3)\n",
      "Saving ../data/Emory-4DCT/Case1Pack/pygalmesh/case1_T60_5.xdmf... (14045, 3)\n",
      "Saving ../data/Emory-4DCT/Case1Pack/pygalmesh/case1_T60_10.xdmf... (2026, 3)\n",
      "Saving ../data/Emory-4DCT/Case1Pack/pygalmesh/case1_T60_20.xdmf... (314, 3)\n",
      "Saving ../data/Emory-4DCT/Case1Pack/pygalmesh/case1_T70_5.xdmf... (14386, 3)\n",
      "Saving ../data/Emory-4DCT/Case1Pack/pygalmesh/case1_T70_10.xdmf... (2066, 3)\n",
      "Saving ../data/Emory-4DCT/Case1Pack/pygalmesh/case1_T70_20.xdmf... (320, 3)\n",
      "Saving ../data/Emory-4DCT/Case1Pack/pygalmesh/case1_T80_5.xdmf... (14733, 3)\n",
      "Saving ../data/Emory-4DCT/Case1Pack/pygalmesh/case1_T80_10.xdmf... (2134, 3)\n",
      "Saving ../data/Emory-4DCT/Case1Pack/pygalmesh/case1_T80_20.xdmf... (322, 3)\n",
      "Saving ../data/Emory-4DCT/Case1Pack/pygalmesh/case1_T90_5.xdmf... (15116, 3)\n",
      "Saving ../data/Emory-4DCT/Case1Pack/pygalmesh/case1_T90_10.xdmf... (2168, 3)\n",
      "Saving ../data/Emory-4DCT/Case1Pack/pygalmesh/case1_T90_20.xdmf... (336, 3)\n",
      "Loading ../data/Emory-4DCT/Case2Pack/NIFTI/case2_T00.nii.gz\n",
      "Loading ../data/Emory-4DCT/Case2Pack/NIFTI/case2_T10.nii.gz\n",
      "Loading ../data/Emory-4DCT/Case2Pack/NIFTI/case2_T20.nii.gz\n",
      "Loading ../data/Emory-4DCT/Case2Pack/NIFTI/case2_T30.nii.gz\n",
      "Loading ../data/Emory-4DCT/Case2Pack/NIFTI/case2_T40.nii.gz\n",
      "Loading ../data/Emory-4DCT/Case2Pack/NIFTI/case2_T50.nii.gz\n",
      "Loading ../data/Emory-4DCT/Case2Pack/NIFTI/case2_T60.nii.gz\n",
      "Loading ../data/Emory-4DCT/Case2Pack/NIFTI/case2_T70.nii.gz\n",
      "Loading ../data/Emory-4DCT/Case2Pack/NIFTI/case2_T80.nii.gz\n",
      "Loading ../data/Emory-4DCT/Case2Pack/NIFTI/case2_T90.nii.gz\n",
      "Loading ../data/Emory-4DCT/Case2Pack/TotalSegment/case2_T00/lung_combined_mask.nii.gz\n",
      "Loading ../data/Emory-4DCT/Case2Pack/TotalSegment/case2_T10/lung_combined_mask.nii.gz\n",
      "Loading ../data/Emory-4DCT/Case2Pack/TotalSegment/case2_T20/lung_combined_mask.nii.gz\n",
      "Loading ../data/Emory-4DCT/Case2Pack/TotalSegment/case2_T30/lung_combined_mask.nii.gz\n",
      "Loading ../data/Emory-4DCT/Case2Pack/TotalSegment/case2_T40/lung_combined_mask.nii.gz\n",
      "Loading ../data/Emory-4DCT/Case2Pack/TotalSegment/case2_T50/lung_combined_mask.nii.gz\n",
      "Loading ../data/Emory-4DCT/Case2Pack/TotalSegment/case2_T60/lung_combined_mask.nii.gz\n",
      "Loading ../data/Emory-4DCT/Case2Pack/TotalSegment/case2_T70/lung_combined_mask.nii.gz\n",
      "Loading ../data/Emory-4DCT/Case2Pack/TotalSegment/case2_T80/lung_combined_mask.nii.gz\n",
      "Loading ../data/Emory-4DCT/Case2Pack/TotalSegment/case2_T90/lung_combined_mask.nii.gz\n",
      "Saving ../data/Emory-4DCT/Case2Pack/pygalmesh/case2_T00_5.xdmf... (33329, 3)\n",
      "Saving ../data/Emory-4DCT/Case2Pack/pygalmesh/case2_T00_10.xdmf... (4679, 3)\n",
      "Saving ../data/Emory-4DCT/Case2Pack/pygalmesh/case2_T00_20.xdmf... (683, 3)\n",
      "Saving ../data/Emory-4DCT/Case2Pack/pygalmesh/case2_T10_5.xdmf... (32779, 3)\n",
      "Saving ../data/Emory-4DCT/Case2Pack/pygalmesh/case2_T10_10.xdmf... (4611, 3)\n",
      "Saving ../data/Emory-4DCT/Case2Pack/pygalmesh/case2_T10_20.xdmf... (679, 3)\n",
      "Saving ../data/Emory-4DCT/Case2Pack/pygalmesh/case2_T20_5.xdmf... (31736, 3)\n",
      "Saving ../data/Emory-4DCT/Case2Pack/pygalmesh/case2_T20_10.xdmf... (4461, 3)\n",
      "Saving ../data/Emory-4DCT/Case2Pack/pygalmesh/case2_T20_20.xdmf... (655, 3)\n",
      "Saving ../data/Emory-4DCT/Case2Pack/pygalmesh/case2_T30_5.xdmf... (31169, 3)\n",
      "Saving ../data/Emory-4DCT/Case2Pack/pygalmesh/case2_T30_10.xdmf... (4382, 3)\n",
      "Saving ../data/Emory-4DCT/Case2Pack/pygalmesh/case2_T30_20.xdmf... (632, 3)\n",
      "Saving ../data/Emory-4DCT/Case2Pack/pygalmesh/case2_T40_5.xdmf... (30804, 3)\n",
      "Saving ../data/Emory-4DCT/Case2Pack/pygalmesh/case2_T40_10.xdmf... (4311, 3)\n",
      "Saving ../data/Emory-4DCT/Case2Pack/pygalmesh/case2_T40_20.xdmf... (640, 3)\n",
      "Saving ../data/Emory-4DCT/Case2Pack/pygalmesh/case2_T50_5.xdmf... (30649, 3)\n",
      "Saving ../data/Emory-4DCT/Case2Pack/pygalmesh/case2_T50_10.xdmf... (4312, 3)\n",
      "Saving ../data/Emory-4DCT/Case2Pack/pygalmesh/case2_T50_20.xdmf... (642, 3)\n",
      "Saving ../data/Emory-4DCT/Case2Pack/pygalmesh/case2_T60_5.xdmf... (31052, 3)\n",
      "Saving ../data/Emory-4DCT/Case2Pack/pygalmesh/case2_T60_10.xdmf... (4341, 3)\n",
      "Saving ../data/Emory-4DCT/Case2Pack/pygalmesh/case2_T60_20.xdmf... (630, 3)\n",
      "Saving ../data/Emory-4DCT/Case2Pack/pygalmesh/case2_T70_5.xdmf... (31566, 3)\n",
      "Saving ../data/Emory-4DCT/Case2Pack/pygalmesh/case2_T70_10.xdmf... (4430, 3)\n",
      "Saving ../data/Emory-4DCT/Case2Pack/pygalmesh/case2_T70_20.xdmf... (662, 3)\n",
      "Saving ../data/Emory-4DCT/Case2Pack/pygalmesh/case2_T80_5.xdmf... (32541, 3)\n",
      "Saving ../data/Emory-4DCT/Case2Pack/pygalmesh/case2_T80_10.xdmf... (4541, 3)\n",
      "Saving ../data/Emory-4DCT/Case2Pack/pygalmesh/case2_T80_20.xdmf... (670, 3)\n",
      "Saving ../data/Emory-4DCT/Case2Pack/pygalmesh/case2_T90_5.xdmf... (33295, 3)\n",
      "Saving ../data/Emory-4DCT/Case2Pack/pygalmesh/case2_T90_10.xdmf... (4618, 3)\n",
      "Saving ../data/Emory-4DCT/Case2Pack/pygalmesh/case2_T90_20.xdmf... (677, 3)\n",
      "Loading ../data/Emory-4DCT/Case3Pack/NIFTI/case3_T00.nii.gz\n",
      "Loading ../data/Emory-4DCT/Case3Pack/NIFTI/case3_T10.nii.gz\n",
      "Loading ../data/Emory-4DCT/Case3Pack/NIFTI/case3_T20.nii.gz\n",
      "Loading ../data/Emory-4DCT/Case3Pack/NIFTI/case3_T30.nii.gz\n",
      "Loading ../data/Emory-4DCT/Case3Pack/NIFTI/case3_T40.nii.gz\n",
      "Loading ../data/Emory-4DCT/Case3Pack/NIFTI/case3_T50.nii.gz\n",
      "Loading ../data/Emory-4DCT/Case3Pack/NIFTI/case3_T60.nii.gz\n",
      "Loading ../data/Emory-4DCT/Case3Pack/NIFTI/case3_T70.nii.gz\n",
      "Loading ../data/Emory-4DCT/Case3Pack/NIFTI/case3_T80.nii.gz\n",
      "Loading ../data/Emory-4DCT/Case3Pack/NIFTI/case3_T90.nii.gz\n",
      "Loading ../data/Emory-4DCT/Case3Pack/TotalSegment/case3_T00/lung_combined_mask.nii.gz\n",
      "Loading ../data/Emory-4DCT/Case3Pack/TotalSegment/case3_T10/lung_combined_mask.nii.gz\n",
      "Loading ../data/Emory-4DCT/Case3Pack/TotalSegment/case3_T20/lung_combined_mask.nii.gz\n"
     ]
    },
    {
     "name": "stdout",
     "output_type": "stream",
     "text": [
      "Loading ../data/Emory-4DCT/Case3Pack/TotalSegment/case3_T30/lung_combined_mask.nii.gz\n",
      "Loading ../data/Emory-4DCT/Case3Pack/TotalSegment/case3_T40/lung_combined_mask.nii.gz\n",
      "Loading ../data/Emory-4DCT/Case3Pack/TotalSegment/case3_T50/lung_combined_mask.nii.gz\n",
      "Loading ../data/Emory-4DCT/Case3Pack/TotalSegment/case3_T60/lung_combined_mask.nii.gz\n",
      "Loading ../data/Emory-4DCT/Case3Pack/TotalSegment/case3_T70/lung_combined_mask.nii.gz\n",
      "Loading ../data/Emory-4DCT/Case3Pack/TotalSegment/case3_T80/lung_combined_mask.nii.gz\n",
      "Loading ../data/Emory-4DCT/Case3Pack/TotalSegment/case3_T90/lung_combined_mask.nii.gz\n",
      "Saving ../data/Emory-4DCT/Case3Pack/pygalmesh/case3_T00_5.xdmf... (25560, 3)\n",
      "Saving ../data/Emory-4DCT/Case3Pack/pygalmesh/case3_T00_10.xdmf... (3610, 3)\n",
      "Saving ../data/Emory-4DCT/Case3Pack/pygalmesh/case3_T00_20.xdmf... (535, 3)\n",
      "Saving ../data/Emory-4DCT/Case3Pack/pygalmesh/case3_T10_5.xdmf... (25389, 3)\n",
      "Saving ../data/Emory-4DCT/Case3Pack/pygalmesh/case3_T10_10.xdmf... (3618, 3)\n",
      "Saving ../data/Emory-4DCT/Case3Pack/pygalmesh/case3_T10_20.xdmf... (530, 3)\n",
      "Saving ../data/Emory-4DCT/Case3Pack/pygalmesh/case3_T20_5.xdmf... (24268, 3)\n",
      "Saving ../data/Emory-4DCT/Case3Pack/pygalmesh/case3_T20_10.xdmf... (3420, 3)\n",
      "Saving ../data/Emory-4DCT/Case3Pack/pygalmesh/case3_T20_20.xdmf... (502, 3)\n",
      "Saving ../data/Emory-4DCT/Case3Pack/pygalmesh/case3_T30_5.xdmf... (23807, 3)\n",
      "Saving ../data/Emory-4DCT/Case3Pack/pygalmesh/case3_T30_10.xdmf... (3374, 3)\n",
      "Saving ../data/Emory-4DCT/Case3Pack/pygalmesh/case3_T30_20.xdmf... (488, 3)\n",
      "Saving ../data/Emory-4DCT/Case3Pack/pygalmesh/case3_T40_5.xdmf... (23253, 3)\n",
      "Saving ../data/Emory-4DCT/Case3Pack/pygalmesh/case3_T40_10.xdmf... (3315, 3)\n",
      "Saving ../data/Emory-4DCT/Case3Pack/pygalmesh/case3_T40_20.xdmf... (481, 3)\n",
      "Saving ../data/Emory-4DCT/Case3Pack/pygalmesh/case3_T50_5.xdmf... (23094, 3)\n",
      "Saving ../data/Emory-4DCT/Case3Pack/pygalmesh/case3_T50_10.xdmf... (3267, 3)\n",
      "Saving ../data/Emory-4DCT/Case3Pack/pygalmesh/case3_T50_20.xdmf... (482, 3)\n",
      "Saving ../data/Emory-4DCT/Case3Pack/pygalmesh/case3_T60_5.xdmf... (23309, 3)\n",
      "Saving ../data/Emory-4DCT/Case3Pack/pygalmesh/case3_T60_10.xdmf... (3282, 3)\n",
      "Saving ../data/Emory-4DCT/Case3Pack/pygalmesh/case3_T60_20.xdmf... (497, 3)\n",
      "Saving ../data/Emory-4DCT/Case3Pack/pygalmesh/case3_T70_5.xdmf... (23918, 3)\n",
      "Saving ../data/Emory-4DCT/Case3Pack/pygalmesh/case3_T70_10.xdmf... (3360, 3)\n",
      "Saving ../data/Emory-4DCT/Case3Pack/pygalmesh/case3_T70_20.xdmf... (500, 3)\n",
      "Saving ../data/Emory-4DCT/Case3Pack/pygalmesh/case3_T80_5.xdmf... (24259, 3)\n",
      "Saving ../data/Emory-4DCT/Case3Pack/pygalmesh/case3_T80_10.xdmf... (3445, 3)\n",
      "Saving ../data/Emory-4DCT/Case3Pack/pygalmesh/case3_T80_20.xdmf... (515, 3)\n",
      "Saving ../data/Emory-4DCT/Case3Pack/pygalmesh/case3_T90_5.xdmf... (25254, 3)\n",
      "Saving ../data/Emory-4DCT/Case3Pack/pygalmesh/case3_T90_10.xdmf... (3551, 3)\n",
      "Saving ../data/Emory-4DCT/Case3Pack/pygalmesh/case3_T90_20.xdmf... (532, 3)\n",
      "Loading ../data/Emory-4DCT/Case4Pack/NIFTI/case4_T00.nii.gz\n",
      "Loading ../data/Emory-4DCT/Case4Pack/NIFTI/case4_T10.nii.gz\n",
      "Loading ../data/Emory-4DCT/Case4Pack/NIFTI/case4_T20.nii.gz\n",
      "Loading ../data/Emory-4DCT/Case4Pack/NIFTI/case4_T30.nii.gz\n",
      "Loading ../data/Emory-4DCT/Case4Pack/NIFTI/case4_T40.nii.gz\n",
      "Loading ../data/Emory-4DCT/Case4Pack/NIFTI/case4_T50.nii.gz\n",
      "Loading ../data/Emory-4DCT/Case4Pack/NIFTI/case4_T60.nii.gz\n",
      "Loading ../data/Emory-4DCT/Case4Pack/NIFTI/case4_T70.nii.gz\n",
      "Loading ../data/Emory-4DCT/Case4Pack/NIFTI/case4_T80.nii.gz\n",
      "Loading ../data/Emory-4DCT/Case4Pack/NIFTI/case4_T90.nii.gz\n",
      "Loading ../data/Emory-4DCT/Case4Pack/TotalSegment/case4_T00/lung_combined_mask.nii.gz\n",
      "Loading ../data/Emory-4DCT/Case4Pack/TotalSegment/case4_T10/lung_combined_mask.nii.gz\n",
      "Loading ../data/Emory-4DCT/Case4Pack/TotalSegment/case4_T20/lung_combined_mask.nii.gz\n",
      "Loading ../data/Emory-4DCT/Case4Pack/TotalSegment/case4_T30/lung_combined_mask.nii.gz\n",
      "Loading ../data/Emory-4DCT/Case4Pack/TotalSegment/case4_T40/lung_combined_mask.nii.gz\n",
      "Loading ../data/Emory-4DCT/Case4Pack/TotalSegment/case4_T50/lung_combined_mask.nii.gz\n",
      "Loading ../data/Emory-4DCT/Case4Pack/TotalSegment/case4_T60/lung_combined_mask.nii.gz\n",
      "Loading ../data/Emory-4DCT/Case4Pack/TotalSegment/case4_T70/lung_combined_mask.nii.gz\n",
      "Loading ../data/Emory-4DCT/Case4Pack/TotalSegment/case4_T80/lung_combined_mask.nii.gz\n",
      "Loading ../data/Emory-4DCT/Case4Pack/TotalSegment/case4_T90/lung_combined_mask.nii.gz\n",
      "Saving ../data/Emory-4DCT/Case4Pack/pygalmesh/case4_T00_5.xdmf... (18649, 3)\n",
      "Saving ../data/Emory-4DCT/Case5Pack/pygalmesh/case5_T00_5.xdmf... (21293, 3)\n",
      "Saving ../data/Emory-4DCT/Case5Pack/pygalmesh/case5_T00_10.xdmf... (3015, 3)\n",
      "Saving ../data/Emory-4DCT/Case5Pack/pygalmesh/case5_T00_20.xdmf... (464, 3)\n",
      "Saving ../data/Emory-4DCT/Case5Pack/pygalmesh/case5_T10_5.xdmf... (20973, 3)\n",
      "Saving ../data/Emory-4DCT/Case5Pack/pygalmesh/case5_T10_10.xdmf... (2939, 3)\n",
      "Saving ../data/Emory-4DCT/Case5Pack/pygalmesh/case5_T10_20.xdmf... (436, 3)\n",
      "Saving ../data/Emory-4DCT/Case5Pack/pygalmesh/case5_T20_5.xdmf... (20273, 3)\n",
      "Saving ../data/Emory-4DCT/Case5Pack/pygalmesh/case5_T20_10.xdmf... (2888, 3)\n",
      "Saving ../data/Emory-4DCT/Case5Pack/pygalmesh/case5_T20_20.xdmf... (440, 3)\n",
      "Saving ../data/Emory-4DCT/Case5Pack/pygalmesh/case5_T30_5.xdmf... (19811, 3)\n",
      "Saving ../data/Emory-4DCT/Case5Pack/pygalmesh/case5_T30_10.xdmf... (2814, 3)\n",
      "Saving ../data/Emory-4DCT/Case5Pack/pygalmesh/case5_T30_20.xdmf... (431, 3)\n",
      "Saving ../data/Emory-4DCT/Case5Pack/pygalmesh/case5_T40_5.xdmf... (19611, 3)\n",
      "Saving ../data/Emory-4DCT/Case5Pack/pygalmesh/case5_T40_10.xdmf... (2796, 3)\n",
      "Saving ../data/Emory-4DCT/Case5Pack/pygalmesh/case5_T40_20.xdmf... (409, 3)\n",
      "Saving ../data/Emory-4DCT/Case5Pack/pygalmesh/case5_T50_5.xdmf... (19487, 3)\n",
      "Saving ../data/Emory-4DCT/Case5Pack/pygalmesh/case5_T50_10.xdmf... (2764, 3)\n",
      "Saving ../data/Emory-4DCT/Case5Pack/pygalmesh/case5_T50_20.xdmf... (433, 3)\n",
      "Saving ../data/Emory-4DCT/Case5Pack/pygalmesh/case5_T60_5.xdmf... (19467, 3)\n",
      "Saving ../data/Emory-4DCT/Case5Pack/pygalmesh/case5_T60_10.xdmf... (2755, 3)\n",
      "Saving ../data/Emory-4DCT/Case5Pack/pygalmesh/case5_T60_20.xdmf... (436, 3)\n",
      "Saving ../data/Emory-4DCT/Case5Pack/pygalmesh/case5_T70_5.xdmf... (19675, 3)\n",
      "Saving ../data/Emory-4DCT/Case5Pack/pygalmesh/case5_T70_10.xdmf... (2813, 3)\n",
      "Saving ../data/Emory-4DCT/Case5Pack/pygalmesh/case5_T70_20.xdmf... (430, 3)\n",
      "Saving ../data/Emory-4DCT/Case5Pack/pygalmesh/case5_T80_5.xdmf... (20341, 3)\n",
      "Saving ../data/Emory-4DCT/Case5Pack/pygalmesh/case5_T80_10.xdmf... (2884, 3)\n",
      "Saving ../data/Emory-4DCT/Case5Pack/pygalmesh/case5_T80_20.xdmf... (448, 3)\n",
      "Saving ../data/Emory-4DCT/Case5Pack/pygalmesh/case5_T90_5.xdmf... (20978, 3)\n",
      "Saving ../data/Emory-4DCT/Case5Pack/pygalmesh/case5_T90_10.xdmf... (2962, 3)\n",
      "Saving ../data/Emory-4DCT/Case5Pack/pygalmesh/case5_T90_20.xdmf... (444, 3)\n",
      "Loading ../data/Emory-4DCT/Case6Pack/NIFTI/case6_T00.nii.gz\n",
      "Loading ../data/Emory-4DCT/Case6Pack/NIFTI/case6_T10.nii.gz\n",
      "Loading ../data/Emory-4DCT/Case6Pack/NIFTI/case6_T20.nii.gz\n",
      "Loading ../data/Emory-4DCT/Case6Pack/NIFTI/case6_T30.nii.gz\n",
      "Loading ../data/Emory-4DCT/Case6Pack/NIFTI/case6_T40.nii.gz\n",
      "Loading ../data/Emory-4DCT/Case6Pack/NIFTI/case6_T50.nii.gz\n",
      "Loading ../data/Emory-4DCT/Case6Pack/NIFTI/case6_T60.nii.gz\n",
      "Loading ../data/Emory-4DCT/Case6Pack/NIFTI/case6_T70.nii.gz\n",
      "Loading ../data/Emory-4DCT/Case6Pack/NIFTI/case6_T80.nii.gz\n",
      "Loading ../data/Emory-4DCT/Case6Pack/NIFTI/case6_T90.nii.gz\n",
      "Loading ../data/Emory-4DCT/Case6Pack/TotalSegment/case6_T00/lung_combined_mask.nii.gz\n",
      "Loading ../data/Emory-4DCT/Case6Pack/TotalSegment/case6_T10/lung_combined_mask.nii.gz\n",
      "Loading ../data/Emory-4DCT/Case6Pack/TotalSegment/case6_T20/lung_combined_mask.nii.gz\n",
      "Loading ../data/Emory-4DCT/Case6Pack/TotalSegment/case6_T30/lung_combined_mask.nii.gz\n",
      "Loading ../data/Emory-4DCT/Case6Pack/TotalSegment/case6_T40/lung_combined_mask.nii.gz\n",
      "Loading ../data/Emory-4DCT/Case6Pack/TotalSegment/case6_T50/lung_combined_mask.nii.gz\n",
      "Loading ../data/Emory-4DCT/Case6Pack/TotalSegment/case6_T60/lung_combined_mask.nii.gz\n",
      "Loading ../data/Emory-4DCT/Case6Pack/TotalSegment/case6_T70/lung_combined_mask.nii.gz\n",
      "Loading ../data/Emory-4DCT/Case6Pack/TotalSegment/case6_T80/lung_combined_mask.nii.gz\n",
      "Loading ../data/Emory-4DCT/Case6Pack/TotalSegment/case6_T90/lung_combined_mask.nii.gz\n"
     ]
    },
    {
     "name": "stdout",
     "output_type": "stream",
     "text": [
      "Saving ../data/Emory-4DCT/Case6Pack/pygalmesh/case6_T00_5.xdmf... (19701, 3)\n",
      "Saving ../data/Emory-4DCT/Case6Pack/pygalmesh/case6_T00_10.xdmf... (2808, 3)\n",
      "Saving ../data/Emory-4DCT/Case6Pack/pygalmesh/case6_T00_20.xdmf... (414, 3)\n",
      "Saving ../data/Emory-4DCT/Case6Pack/pygalmesh/case6_T10_5.xdmf... (19389, 3)\n",
      "Saving ../data/Emory-4DCT/Case6Pack/pygalmesh/case6_T10_10.xdmf... (2776, 3)\n",
      "Saving ../data/Emory-4DCT/Case6Pack/pygalmesh/case6_T10_20.xdmf... (423, 3)\n",
      "Saving ../data/Emory-4DCT/Case6Pack/pygalmesh/case6_T20_5.xdmf... (18114, 3)\n",
      "Saving ../data/Emory-4DCT/Case6Pack/pygalmesh/case6_T20_10.xdmf... (2576, 3)\n",
      "Saving ../data/Emory-4DCT/Case6Pack/pygalmesh/case6_T20_20.xdmf... (219, 3)\n",
      "Saving ../data/Emory-4DCT/Case6Pack/pygalmesh/case6_T30_5.xdmf... (17368, 3)\n",
      "Saving ../data/Emory-4DCT/Case6Pack/pygalmesh/case6_T30_10.xdmf... (2441, 3)\n",
      "Saving ../data/Emory-4DCT/Case6Pack/pygalmesh/case6_T30_20.xdmf... (372, 3)\n",
      "Saving ../data/Emory-4DCT/Case6Pack/pygalmesh/case6_T40_5.xdmf... (15976, 3)\n",
      "Saving ../data/Emory-4DCT/Case6Pack/pygalmesh/case6_T40_10.xdmf... (2288, 3)\n",
      "Saving ../data/Emory-4DCT/Case6Pack/pygalmesh/case6_T40_20.xdmf... (342, 3)\n",
      "Saving ../data/Emory-4DCT/Case6Pack/pygalmesh/case6_T50_5.xdmf... (15551, 3)\n",
      "Saving ../data/Emory-4DCT/Case6Pack/pygalmesh/case6_T50_10.xdmf... (2229, 3)\n",
      "Saving ../data/Emory-4DCT/Case6Pack/pygalmesh/case6_T50_20.xdmf... (336, 3)\n",
      "Saving ../data/Emory-4DCT/Case6Pack/pygalmesh/case6_T60_5.xdmf... (15597, 3)\n",
      "Saving ../data/Emory-4DCT/Case6Pack/pygalmesh/case6_T60_10.xdmf... (2240, 3)\n",
      "Saving ../data/Emory-4DCT/Case6Pack/pygalmesh/case6_T60_20.xdmf... (344, 3)\n",
      "Saving ../data/Emory-4DCT/Case6Pack/pygalmesh/case6_T70_5.xdmf... (9498, 3)\n",
      "Saving ../data/Emory-4DCT/Case6Pack/pygalmesh/case6_T70_10.xdmf... (1373, 3)\n",
      "Saving ../data/Emory-4DCT/Case6Pack/pygalmesh/case6_T70_20.xdmf... (201, 3)\n",
      "Saving ../data/Emory-4DCT/Case6Pack/pygalmesh/case6_T80_5.xdmf... (18283, 3)\n",
      "Saving ../data/Emory-4DCT/Case6Pack/pygalmesh/case6_T80_10.xdmf... (2608, 3)\n",
      "Saving ../data/Emory-4DCT/Case6Pack/pygalmesh/case6_T80_20.xdmf... (399, 3)\n",
      "Saving ../data/Emory-4DCT/Case6Pack/pygalmesh/case6_T90_5.xdmf... (19382, 3)\n",
      "Saving ../data/Emory-4DCT/Case6Pack/pygalmesh/case6_T90_10.xdmf... (2742, 3)\n",
      "Saving ../data/Emory-4DCT/Case6Pack/pygalmesh/case6_T90_20.xdmf... (404, 3)\n",
      "Loading ../data/Emory-4DCT/Case7Pack/NIFTI/case7_T00.nii.gz\n",
      "Loading ../data/Emory-4DCT/Case7Pack/NIFTI/case7_T10.nii.gz\n",
      "Loading ../data/Emory-4DCT/Case7Pack/NIFTI/case7_T20.nii.gz\n",
      "Loading ../data/Emory-4DCT/Case7Pack/NIFTI/case7_T30.nii.gz\n",
      "Loading ../data/Emory-4DCT/Case7Pack/NIFTI/case7_T40.nii.gz\n",
      "Loading ../data/Emory-4DCT/Case7Pack/NIFTI/case7_T50.nii.gz\n",
      "Loading ../data/Emory-4DCT/Case7Pack/NIFTI/case7_T60.nii.gz\n",
      "Loading ../data/Emory-4DCT/Case7Pack/NIFTI/case7_T70.nii.gz\n",
      "Loading ../data/Emory-4DCT/Case7Pack/NIFTI/case7_T80.nii.gz\n",
      "Loading ../data/Emory-4DCT/Case7Pack/NIFTI/case7_T90.nii.gz\n",
      "Loading ../data/Emory-4DCT/Case7Pack/TotalSegment/case7_T00/lung_combined_mask.nii.gz\n",
      "Loading ../data/Emory-4DCT/Case7Pack/TotalSegment/case7_T10/lung_combined_mask.nii.gz\n",
      "Loading ../data/Emory-4DCT/Case7Pack/TotalSegment/case7_T20/lung_combined_mask.nii.gz\n",
      "Loading ../data/Emory-4DCT/Case7Pack/TotalSegment/case7_T30/lung_combined_mask.nii.gz\n",
      "Loading ../data/Emory-4DCT/Case7Pack/TotalSegment/case7_T40/lung_combined_mask.nii.gz\n",
      "Loading ../data/Emory-4DCT/Case7Pack/TotalSegment/case7_T50/lung_combined_mask.nii.gz\n",
      "Loading ../data/Emory-4DCT/Case7Pack/TotalSegment/case7_T60/lung_combined_mask.nii.gz\n",
      "Loading ../data/Emory-4DCT/Case7Pack/TotalSegment/case7_T70/lung_combined_mask.nii.gz\n",
      "Loading ../data/Emory-4DCT/Case7Pack/TotalSegment/case7_T80/lung_combined_mask.nii.gz\n",
      "Loading ../data/Emory-4DCT/Case7Pack/TotalSegment/case7_T90/lung_combined_mask.nii.gz\n",
      "Saving ../data/Emory-4DCT/Case7Pack/pygalmesh/case7_T00_5.xdmf... (23911, 3)\n",
      "Saving ../data/Emory-4DCT/Case7Pack/pygalmesh/case7_T00_10.xdmf... (3401, 3)\n",
      "Saving ../data/Emory-4DCT/Case7Pack/pygalmesh/case7_T00_20.xdmf... (492, 3)\n",
      "Saving ../data/Emory-4DCT/Case7Pack/pygalmesh/case7_T10_5.xdmf... (23106, 3)\n",
      "Saving ../data/Emory-4DCT/Case7Pack/pygalmesh/case7_T10_10.xdmf... (3254, 3)\n",
      "Saving ../data/Emory-4DCT/Case7Pack/pygalmesh/case7_T10_20.xdmf... (499, 3)\n",
      "Saving ../data/Emory-4DCT/Case7Pack/pygalmesh/case7_T20_5.xdmf... (22238, 3)\n",
      "Saving ../data/Emory-4DCT/Case7Pack/pygalmesh/case7_T20_10.xdmf... (3163, 3)\n",
      "Saving ../data/Emory-4DCT/Case7Pack/pygalmesh/case7_T20_20.xdmf... (474, 3)\n",
      "Saving ../data/Emory-4DCT/Case7Pack/pygalmesh/case7_T30_5.xdmf... (21174, 3)\n",
      "Saving ../data/Emory-4DCT/Case7Pack/pygalmesh/case7_T30_10.xdmf... (3027, 3)\n",
      "Saving ../data/Emory-4DCT/Case7Pack/pygalmesh/case7_T30_20.xdmf... (447, 3)\n",
      "Saving ../data/Emory-4DCT/Case7Pack/pygalmesh/case7_T40_5.xdmf... (20616, 3)\n",
      "Saving ../data/Emory-4DCT/Case7Pack/pygalmesh/case7_T40_10.xdmf... (2943, 3)\n",
      "Saving ../data/Emory-4DCT/Case7Pack/pygalmesh/case7_T40_20.xdmf... (436, 3)\n",
      "Saving ../data/Emory-4DCT/Case7Pack/pygalmesh/case7_T50_5.xdmf... (19794, 3)\n",
      "Saving ../data/Emory-4DCT/Case7Pack/pygalmesh/case7_T50_10.xdmf... (2836, 3)\n",
      "Saving ../data/Emory-4DCT/Case7Pack/pygalmesh/case7_T50_20.xdmf... (418, 3)\n",
      "Saving ../data/Emory-4DCT/Case7Pack/pygalmesh/case7_T60_5.xdmf... (19768, 3)\n",
      "Saving ../data/Emory-4DCT/Case7Pack/pygalmesh/case7_T60_10.xdmf... (2852, 3)\n",
      "Saving ../data/Emory-4DCT/Case7Pack/pygalmesh/case7_T60_20.xdmf... (416, 3)\n",
      "Saving ../data/Emory-4DCT/Case7Pack/pygalmesh/case7_T70_5.xdmf... (20715, 3)\n",
      "Saving ../data/Emory-4DCT/Case7Pack/pygalmesh/case7_T70_10.xdmf... (2954, 3)\n",
      "Saving ../data/Emory-4DCT/Case7Pack/pygalmesh/case7_T70_20.xdmf... (440, 3)\n",
      "Saving ../data/Emory-4DCT/Case7Pack/pygalmesh/case7_T80_5.xdmf... (22215, 3)\n",
      "Saving ../data/Emory-4DCT/Case7Pack/pygalmesh/case7_T80_10.xdmf... (3194, 3)\n",
      "Saving ../data/Emory-4DCT/Case7Pack/pygalmesh/case7_T80_20.xdmf... (486, 3)\n",
      "Saving ../data/Emory-4DCT/Case7Pack/pygalmesh/case7_T90_5.xdmf... (23152, 3)\n",
      "Saving ../data/Emory-4DCT/Case7Pack/pygalmesh/case7_T90_10.xdmf... (3268, 3)\n",
      "Saving ../data/Emory-4DCT/Case7Pack/pygalmesh/case7_T90_20.xdmf... (495, 3)\n",
      "Loading ../data/Emory-4DCT/Case8Deploy/NIFTI/case8_T00.nii.gz\n",
      "Loading ../data/Emory-4DCT/Case8Deploy/NIFTI/case8_T10.nii.gz\n",
      "Loading ../data/Emory-4DCT/Case8Deploy/NIFTI/case8_T20.nii.gz\n",
      "Loading ../data/Emory-4DCT/Case8Deploy/NIFTI/case8_T30.nii.gz\n",
      "Loading ../data/Emory-4DCT/Case8Deploy/NIFTI/case8_T40.nii.gz\n",
      "Loading ../data/Emory-4DCT/Case8Deploy/NIFTI/case8_T50.nii.gz\n",
      "Loading ../data/Emory-4DCT/Case8Deploy/NIFTI/case8_T60.nii.gz\n",
      "Loading ../data/Emory-4DCT/Case8Deploy/NIFTI/case8_T70.nii.gz\n",
      "Loading ../data/Emory-4DCT/Case8Deploy/NIFTI/case8_T80.nii.gz\n",
      "Loading ../data/Emory-4DCT/Case8Deploy/NIFTI/case8_T90.nii.gz\n",
      "Loading ../data/Emory-4DCT/Case8Deploy/TotalSegment/case8_T00/lung_combined_mask.nii.gz\n",
      "Loading ../data/Emory-4DCT/Case8Deploy/TotalSegment/case8_T10/lung_combined_mask.nii.gz\n",
      "Loading ../data/Emory-4DCT/Case8Deploy/TotalSegment/case8_T20/lung_combined_mask.nii.gz\n",
      "Loading ../data/Emory-4DCT/Case8Deploy/TotalSegment/case8_T30/lung_combined_mask.nii.gz\n",
      "Loading ../data/Emory-4DCT/Case8Deploy/TotalSegment/case8_T40/lung_combined_mask.nii.gz\n",
      "Loading ../data/Emory-4DCT/Case8Deploy/TotalSegment/case8_T50/lung_combined_mask.nii.gz\n",
      "Loading ../data/Emory-4DCT/Case8Deploy/TotalSegment/case8_T60/lung_combined_mask.nii.gz\n",
      "Loading ../data/Emory-4DCT/Case8Deploy/TotalSegment/case8_T70/lung_combined_mask.nii.gz\n",
      "Loading ../data/Emory-4DCT/Case8Deploy/TotalSegment/case8_T80/lung_combined_mask.nii.gz\n",
      "Loading ../data/Emory-4DCT/Case8Deploy/TotalSegment/case8_T90/lung_combined_mask.nii.gz\n",
      "Saving ../data/Emory-4DCT/Case8Deploy/pygalmesh/case8_T00_5.xdmf... (34937, 3)\n",
      "Saving ../data/Emory-4DCT/Case8Deploy/pygalmesh/case8_T00_10.xdmf... (4893, 3)\n",
      "Saving ../data/Emory-4DCT/Case8Deploy/pygalmesh/case8_T00_20.xdmf... (730, 3)\n",
      "Saving ../data/Emory-4DCT/Case8Deploy/pygalmesh/case8_T10_5.xdmf... (34218, 3)\n",
      "Saving ../data/Emory-4DCT/Case8Deploy/pygalmesh/case8_T10_10.xdmf... (4821, 3)\n",
      "Saving ../data/Emory-4DCT/Case8Deploy/pygalmesh/case8_T10_20.xdmf... (698, 3)\n",
      "Saving ../data/Emory-4DCT/Case8Deploy/pygalmesh/case8_T20_5.xdmf... (32584, 3)\n",
      "Saving ../data/Emory-4DCT/Case8Deploy/pygalmesh/case8_T20_10.xdmf... (4572, 3)\n",
      "Saving ../data/Emory-4DCT/Case8Deploy/pygalmesh/case8_T20_20.xdmf... (679, 3)\n"
     ]
    },
    {
     "name": "stdout",
     "output_type": "stream",
     "text": [
      "Saving ../data/Emory-4DCT/Case8Deploy/pygalmesh/case8_T30_5.xdmf... (31119, 3)\n",
      "Saving ../data/Emory-4DCT/Case8Deploy/pygalmesh/case8_T30_10.xdmf... (4353, 3)\n",
      "Saving ../data/Emory-4DCT/Case8Deploy/pygalmesh/case8_T30_20.xdmf... (647, 3)\n",
      "Saving ../data/Emory-4DCT/Case8Deploy/pygalmesh/case8_T40_5.xdmf... (29950, 3)\n",
      "Saving ../data/Emory-4DCT/Case8Deploy/pygalmesh/case8_T40_10.xdmf... (4214, 3)\n",
      "Saving ../data/Emory-4DCT/Case8Deploy/pygalmesh/case8_T40_20.xdmf... (642, 3)\n",
      "Saving ../data/Emory-4DCT/Case8Deploy/pygalmesh/case8_T50_5.xdmf... (29220, 3)\n",
      "Saving ../data/Emory-4DCT/Case8Deploy/pygalmesh/case8_T50_10.xdmf... (4086, 3)\n",
      "Saving ../data/Emory-4DCT/Case8Deploy/pygalmesh/case8_T50_20.xdmf... (629, 3)\n",
      "Saving ../data/Emory-4DCT/Case8Deploy/pygalmesh/case8_T60_5.xdmf... (28542, 3)\n",
      "Saving ../data/Emory-4DCT/Case8Deploy/pygalmesh/case8_T60_10.xdmf... (4029, 3)\n",
      "Saving ../data/Emory-4DCT/Case8Deploy/pygalmesh/case8_T60_20.xdmf... (608, 3)\n",
      "Saving ../data/Emory-4DCT/Case8Deploy/pygalmesh/case8_T70_5.xdmf... (28889, 3)\n",
      "Saving ../data/Emory-4DCT/Case8Deploy/pygalmesh/case8_T70_10.xdmf... (4062, 3)\n",
      "Saving ../data/Emory-4DCT/Case8Deploy/pygalmesh/case8_T70_20.xdmf... (607, 3)\n",
      "Saving ../data/Emory-4DCT/Case8Deploy/pygalmesh/case8_T80_5.xdmf... (31538, 3)\n",
      "Saving ../data/Emory-4DCT/Case8Deploy/pygalmesh/case8_T80_10.xdmf... (4430, 3)\n",
      "Saving ../data/Emory-4DCT/Case8Deploy/pygalmesh/case8_T80_20.xdmf... (659, 3)\n",
      "Saving ../data/Emory-4DCT/Case8Deploy/pygalmesh/case8_T90_5.xdmf... (33887, 3)\n",
      "Saving ../data/Emory-4DCT/Case8Deploy/pygalmesh/case8_T90_10.xdmf... (4750, 3)\n",
      "Saving ../data/Emory-4DCT/Case8Deploy/pygalmesh/case8_T90_20.xdmf... (711, 3)\n",
      "Loading ../data/Emory-4DCT/Case9Pack/NIFTI/case9_T00.nii.gz\n",
      "Loading ../data/Emory-4DCT/Case9Pack/NIFTI/case9_T10.nii.gz\n",
      "Loading ../data/Emory-4DCT/Case9Pack/NIFTI/case9_T20.nii.gz\n",
      "Loading ../data/Emory-4DCT/Case9Pack/NIFTI/case9_T30.nii.gz\n",
      "Loading ../data/Emory-4DCT/Case9Pack/NIFTI/case9_T40.nii.gz\n",
      "Loading ../data/Emory-4DCT/Case9Pack/NIFTI/case9_T50.nii.gz\n",
      "Loading ../data/Emory-4DCT/Case9Pack/NIFTI/case9_T60.nii.gz\n",
      "Loading ../data/Emory-4DCT/Case9Pack/NIFTI/case9_T70.nii.gz\n",
      "Loading ../data/Emory-4DCT/Case9Pack/NIFTI/case9_T80.nii.gz\n",
      "Loading ../data/Emory-4DCT/Case9Pack/NIFTI/case9_T90.nii.gz\n",
      "Loading ../data/Emory-4DCT/Case9Pack/TotalSegment/case9_T00/lung_combined_mask.nii.gz\n",
      "Loading ../data/Emory-4DCT/Case9Pack/TotalSegment/case9_T10/lung_combined_mask.nii.gz\n",
      "Loading ../data/Emory-4DCT/Case9Pack/TotalSegment/case9_T20/lung_combined_mask.nii.gz\n",
      "Loading ../data/Emory-4DCT/Case9Pack/TotalSegment/case9_T30/lung_combined_mask.nii.gz\n",
      "Loading ../data/Emory-4DCT/Case9Pack/TotalSegment/case9_T40/lung_combined_mask.nii.gz\n",
      "Loading ../data/Emory-4DCT/Case9Pack/TotalSegment/case9_T50/lung_combined_mask.nii.gz\n",
      "Loading ../data/Emory-4DCT/Case9Pack/TotalSegment/case9_T60/lung_combined_mask.nii.gz\n",
      "Loading ../data/Emory-4DCT/Case9Pack/TotalSegment/case9_T70/lung_combined_mask.nii.gz\n",
      "Loading ../data/Emory-4DCT/Case9Pack/TotalSegment/case9_T80/lung_combined_mask.nii.gz\n",
      "Loading ../data/Emory-4DCT/Case9Pack/TotalSegment/case9_T90/lung_combined_mask.nii.gz\n",
      "Saving ../data/Emory-4DCT/Case9Pack/pygalmesh/case9_T00_5.xdmf... (12825, 3)\n",
      "Saving ../data/Emory-4DCT/Case9Pack/pygalmesh/case9_T00_10.xdmf... (1822, 3)\n",
      "Saving ../data/Emory-4DCT/Case9Pack/pygalmesh/case9_T00_20.xdmf... (270, 3)\n",
      "Saving ../data/Emory-4DCT/Case9Pack/pygalmesh/case9_T10_5.xdmf... (12657, 3)\n",
      "Saving ../data/Emory-4DCT/Case9Pack/pygalmesh/case9_T10_10.xdmf... (1847, 3)\n",
      "Saving ../data/Emory-4DCT/Case9Pack/pygalmesh/case9_T10_20.xdmf... (276, 3)\n",
      "Saving ../data/Emory-4DCT/Case9Pack/pygalmesh/case9_T20_5.xdmf... (12055, 3)\n",
      "Saving ../data/Emory-4DCT/Case9Pack/pygalmesh/case9_T20_10.xdmf... (1727, 3)\n",
      "Saving ../data/Emory-4DCT/Case9Pack/pygalmesh/case9_T20_20.xdmf... (269, 3)\n",
      "Saving ../data/Emory-4DCT/Case9Pack/pygalmesh/case9_T30_5.xdmf... (11713, 3)\n",
      "Saving ../data/Emory-4DCT/Case9Pack/pygalmesh/case9_T30_10.xdmf... (1705, 3)\n",
      "Saving ../data/Emory-4DCT/Case9Pack/pygalmesh/case9_T30_20.xdmf... (255, 3)\n",
      "Saving ../data/Emory-4DCT/Case9Pack/pygalmesh/case9_T40_5.xdmf... (11404, 3)\n",
      "Saving ../data/Emory-4DCT/Case9Pack/pygalmesh/case9_T40_10.xdmf... (1670, 3)\n",
      "Saving ../data/Emory-4DCT/Case9Pack/pygalmesh/case9_T40_20.xdmf... (256, 3)\n",
      "Saving ../data/Emory-4DCT/Case9Pack/pygalmesh/case9_T50_5.xdmf... (11171, 3)\n",
      "Saving ../data/Emory-4DCT/Case9Pack/pygalmesh/case9_T50_10.xdmf... (1612, 3)\n",
      "Saving ../data/Emory-4DCT/Case9Pack/pygalmesh/case9_T50_20.xdmf... (244, 3)\n",
      "Saving ../data/Emory-4DCT/Case9Pack/pygalmesh/case9_T60_5.xdmf... (11220, 3)\n",
      "Saving ../data/Emory-4DCT/Case9Pack/pygalmesh/case9_T60_10.xdmf... (1625, 3)\n",
      "Saving ../data/Emory-4DCT/Case9Pack/pygalmesh/case9_T60_20.xdmf... (241, 3)\n",
      "Saving ../data/Emory-4DCT/Case9Pack/pygalmesh/case9_T70_5.xdmf... (11499, 3)\n",
      "Saving ../data/Emory-4DCT/Case9Pack/pygalmesh/case9_T70_10.xdmf... (944, 3)\n",
      "Saving ../data/Emory-4DCT/Case9Pack/pygalmesh/case9_T70_20.xdmf... (153, 3)\n",
      "Saving ../data/Emory-4DCT/Case9Pack/pygalmesh/case9_T80_5.xdmf... (12095, 3)\n",
      "Saving ../data/Emory-4DCT/Case9Pack/pygalmesh/case9_T80_10.xdmf... (1738, 3)\n",
      "Saving ../data/Emory-4DCT/Case9Pack/pygalmesh/case9_T80_20.xdmf... (155, 3)\n",
      "Saving ../data/Emory-4DCT/Case9Pack/pygalmesh/case9_T90_5.xdmf... (12573, 3)\n",
      "Saving ../data/Emory-4DCT/Case9Pack/pygalmesh/case9_T90_10.xdmf... (1824, 3)\n",
      "Saving ../data/Emory-4DCT/Case9Pack/pygalmesh/case9_T90_20.xdmf... (273, 3)\n",
      "Loading ../data/Emory-4DCT/Case10Pack/NIFTI/case10_T00.nii.gz\n",
      "Loading ../data/Emory-4DCT/Case10Pack/NIFTI/case10_T10.nii.gz\n",
      "Loading ../data/Emory-4DCT/Case10Pack/NIFTI/case10_T20.nii.gz\n",
      "Loading ../data/Emory-4DCT/Case10Pack/NIFTI/case10_T30.nii.gz\n",
      "Loading ../data/Emory-4DCT/Case10Pack/NIFTI/case10_T40.nii.gz\n",
      "Loading ../data/Emory-4DCT/Case10Pack/NIFTI/case10_T50.nii.gz\n",
      "Loading ../data/Emory-4DCT/Case10Pack/NIFTI/case10_T60.nii.gz\n",
      "Loading ../data/Emory-4DCT/Case10Pack/NIFTI/case10_T70.nii.gz\n",
      "Loading ../data/Emory-4DCT/Case10Pack/NIFTI/case10_T80.nii.gz\n",
      "Loading ../data/Emory-4DCT/Case10Pack/NIFTI/case10_T90.nii.gz\n",
      "Loading ../data/Emory-4DCT/Case10Pack/TotalSegment/case10_T00/lung_combined_mask.nii.gz\n",
      "Loading ../data/Emory-4DCT/Case10Pack/TotalSegment/case10_T10/lung_combined_mask.nii.gz\n",
      "Loading ../data/Emory-4DCT/Case10Pack/TotalSegment/case10_T20/lung_combined_mask.nii.gz\n",
      "Loading ../data/Emory-4DCT/Case10Pack/TotalSegment/case10_T30/lung_combined_mask.nii.gz\n",
      "Loading ../data/Emory-4DCT/Case10Pack/TotalSegment/case10_T40/lung_combined_mask.nii.gz\n",
      "Loading ../data/Emory-4DCT/Case10Pack/TotalSegment/case10_T50/lung_combined_mask.nii.gz\n",
      "Loading ../data/Emory-4DCT/Case10Pack/TotalSegment/case10_T60/lung_combined_mask.nii.gz\n",
      "Loading ../data/Emory-4DCT/Case10Pack/TotalSegment/case10_T70/lung_combined_mask.nii.gz\n",
      "Loading ../data/Emory-4DCT/Case10Pack/TotalSegment/case10_T80/lung_combined_mask.nii.gz\n",
      "Loading ../data/Emory-4DCT/Case10Pack/TotalSegment/case10_T90/lung_combined_mask.nii.gz\n",
      "Saving ../data/Emory-4DCT/Case10Pack/pygalmesh/case10_T00_5.xdmf... (20805, 3)\n",
      "Saving ../data/Emory-4DCT/Case10Pack/pygalmesh/case10_T00_10.xdmf... (2981, 3)\n",
      "Saving ../data/Emory-4DCT/Case10Pack/pygalmesh/case10_T00_20.xdmf... (453, 3)\n",
      "Saving ../data/Emory-4DCT/Case10Pack/pygalmesh/case10_T10_5.xdmf... (20380, 3)\n",
      "Saving ../data/Emory-4DCT/Case10Pack/pygalmesh/case10_T10_10.xdmf... (2918, 3)\n",
      "Saving ../data/Emory-4DCT/Case10Pack/pygalmesh/case10_T10_20.xdmf... (447, 3)\n",
      "Saving ../data/Emory-4DCT/Case10Pack/pygalmesh/case10_T20_5.xdmf... (19553, 3)\n",
      "Saving ../data/Emory-4DCT/Case10Pack/pygalmesh/case10_T20_10.xdmf... (2774, 3)\n",
      "Saving ../data/Emory-4DCT/Case10Pack/pygalmesh/case10_T20_20.xdmf... (436, 3)\n",
      "Saving ../data/Emory-4DCT/Case10Pack/pygalmesh/case10_T30_5.xdmf... (18706, 3)\n",
      "Saving ../data/Emory-4DCT/Case10Pack/pygalmesh/case10_T30_10.xdmf... (2673, 3)\n",
      "Saving ../data/Emory-4DCT/Case10Pack/pygalmesh/case10_T30_20.xdmf... (416, 3)\n",
      "Saving ../data/Emory-4DCT/Case10Pack/pygalmesh/case10_T40_5.xdmf... (18251, 3)\n",
      "Saving ../data/Emory-4DCT/Case10Pack/pygalmesh/case10_T40_10.xdmf... (2618, 3)\n",
      "Saving ../data/Emory-4DCT/Case10Pack/pygalmesh/case10_T40_20.xdmf... (382, 3)\n",
      "Saving ../data/Emory-4DCT/Case10Pack/pygalmesh/case10_T50_5.xdmf... (17996, 3)\n",
      "Saving ../data/Emory-4DCT/Case10Pack/pygalmesh/case10_T50_10.xdmf... (2583, 3)\n",
      "Saving ../data/Emory-4DCT/Case10Pack/pygalmesh/case10_T50_20.xdmf... (396, 3)\n"
     ]
    },
    {
     "name": "stdout",
     "output_type": "stream",
     "text": [
      "Saving ../data/Emory-4DCT/Case10Pack/pygalmesh/case10_T60_5.xdmf... (17883, 3)\n",
      "Saving ../data/Emory-4DCT/Case10Pack/pygalmesh/case10_T60_10.xdmf... (2550, 3)\n",
      "Saving ../data/Emory-4DCT/Case10Pack/pygalmesh/case10_T60_20.xdmf... (378, 3)\n",
      "Saving ../data/Emory-4DCT/Case10Pack/pygalmesh/case10_T70_5.xdmf... (18157, 3)\n",
      "Saving ../data/Emory-4DCT/Case10Pack/pygalmesh/case10_T70_10.xdmf... (2593, 3)\n",
      "Saving ../data/Emory-4DCT/Case10Pack/pygalmesh/case10_T70_20.xdmf... (382, 3)\n",
      "Saving ../data/Emory-4DCT/Case10Pack/pygalmesh/case10_T80_5.xdmf... (19195, 3)\n",
      "Saving ../data/Emory-4DCT/Case10Pack/pygalmesh/case10_T80_10.xdmf... (2753, 3)\n",
      "Saving ../data/Emory-4DCT/Case10Pack/pygalmesh/case10_T80_20.xdmf... (416, 3)\n",
      "Saving ../data/Emory-4DCT/Case10Pack/pygalmesh/case10_T90_5.xdmf... (20199, 3)\n",
      "Saving ../data/Emory-4DCT/Case10Pack/pygalmesh/case10_T90_10.xdmf... (2875, 3)\n",
      "Saving ../data/Emory-4DCT/Case10Pack/pygalmesh/case10_T90_20.xdmf... (451, 3)\n",
      "CPU times: user 15min 20s, sys: 11.3 s, total: 15min 31s\n",
      "Wall time: 36min 39s\n"
     ]
    }
   ],
   "source": [
    "%%time\n",
    "for case in emory4dct.cases:\n",
    "    case.load_niftis()\n",
    "    case.load_masks(roi='lung_combined_mask')\n",
    "    for phase in emory4dct.phases:\n",
    "        for radius in [5, 10, 20]:\n",
    "            mask = case.mask.sel(phase=phase, roi='lung_combined_mask')\n",
    "            mesh = pygalmesh.generate_from_array(\n",
    "                mask.values.astype(np.uint16),\n",
    "                voxel_size=case.resolution,\n",
    "                max_cell_circumradius=float(radius), # mm\n",
    "                odt=True\n",
    "            )\n",
    "            case.mesh_dir.mkdir(exist_ok=True)\n",
    "            mesh_file = case.mesh_file(phase, radius)\n",
    "            mesh_cells = [(mesh.cells[1].type, mesh.cells[1].data)]\n",
    "            print(f'Saving {mesh_file}... {mesh.points.shape}')\n",
    "            meshio.write_points_cells(mesh_file, mesh.points, mesh_cells)          \n",
    "            "
   ]
  },
  {
   "cell_type": "code",
   "execution_count": null,
   "id": "f62a1951",
   "metadata": {},
   "outputs": [],
   "source": []
  }
 ],
 "metadata": {
  "kernelspec": {
   "display_name": "lung-project",
   "language": "python",
   "name": "lung-project"
  },
  "language_info": {
   "codemirror_mode": {
    "name": "ipython",
    "version": 3
   },
   "file_extension": ".py",
   "mimetype": "text/x-python",
   "name": "python",
   "nbconvert_exporter": "python",
   "pygments_lexer": "ipython3",
   "version": "3.10.14"
  }
 },
 "nbformat": 4,
 "nbformat_minor": 5
}
