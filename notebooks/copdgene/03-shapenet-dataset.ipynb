{
 "cells": [
  {
   "cell_type": "code",
   "execution_count": 1,
   "id": "59155ce3-557a-48e5-8af6-8d262fea7214",
   "metadata": {},
   "outputs": [],
   "source": [
    "%load_ext autoreload\n",
    "%autoreload 2\n",
    "%matplotlib widget"
   ]
  },
  {
   "cell_type": "code",
   "execution_count": 2,
   "id": "beaf4c32-5253-4fef-ba88-952ca71a0a12",
   "metadata": {},
   "outputs": [
    {
     "name": "stderr",
     "output_type": "stream",
     "text": [
      "/ocean/projects/asc170022p/mtragoza/mambaforge/envs/warp/lib/python3.11/site-packages/ufl/__init__.py:250: UserWarning: pkg_resources is deprecated as an API. See https://setuptools.pypa.io/en/latest/pkg_resources.html. The pkg_resources package is slated for removal as early as 2025-11-30. Refrain from using this package or pin to Setuptools<81.\n",
      "  import pkg_resources\n"
     ]
    },
    {
     "data": {
      "text/plain": [
       "True"
      ]
     },
     "execution_count": 2,
     "metadata": {},
     "output_type": "execute_result"
    }
   ],
   "source": [
    "import sys, os, pathlib\n",
    "os.environ['PKG_CONFIG_PATH'] = '/ocean/projects/asc170022p/mtragoza/mambaforge/envs/lung-project/lib/pkgconfig'\n",
    "\n",
    "import numpy as np\n",
    "import pandas as pd\n",
    "import nibabel as nib\n",
    "import torch\n",
    "\n",
    "sys.path.append('../..')\n",
    "import project\n",
    "\n",
    "torch.cuda.is_available()"
   ]
  },
  {
   "cell_type": "code",
   "execution_count": 3,
   "id": "3f7becb1-cf81-487f-b53f-3b294f46f46e",
   "metadata": {},
   "outputs": [
    {
     "name": "stdout",
     "output_type": "stream",
     "text": [
      "/ocean/projects/asc170022p/mtragoza/lung-project/notebooks/copdgene\n"
     ]
    }
   ],
   "source": [
    "!pwd"
   ]
  },
  {
   "cell_type": "code",
   "execution_count": 7,
   "id": "97f363a9-ac6d-49ca-8c2d-411d55cf6900",
   "metadata": {},
   "outputs": [
    {
     "name": "stdout",
     "output_type": "stream",
     "text": [
      "categories.synset.csv  metadata.csv    models-binvox\t    taxonomy.txt\n",
      "densities.csv\t       models-COLLADA  models-binvox-solid\n",
      "materials.csv\t       models-OBJ      models-textures\n"
     ]
    }
   ],
   "source": [
    "!ls ../../data/ShapeNetSem"
   ]
  },
  {
   "cell_type": "code",
   "execution_count": 11,
   "id": "1970c289-590f-4ed9-90ff-845e7ef6136e",
   "metadata": {},
   "outputs": [
    {
     "name": "stdout",
     "output_type": "stream",
     "text": [
      "ls: cannot access 'models-OBJ': No such file or directory\n"
     ]
    }
   ],
   "source": [
    "!ls models-OBJ"
   ]
  },
  {
   "cell_type": "code",
   "execution_count": null,
   "id": "a54a21f4-1f09-4e03-b303-37d33d00a6a6",
   "metadata": {},
   "outputs": [],
   "source": []
  }
 ],
 "metadata": {
  "kernelspec": {
   "display_name": "warp",
   "language": "python",
   "name": "warp"
  },
  "language_info": {
   "codemirror_mode": {
    "name": "ipython",
    "version": 3
   },
   "file_extension": ".py",
   "mimetype": "text/x-python",
   "name": "python",
   "nbconvert_exporter": "python",
   "pygments_lexer": "ipython3",
   "version": "3.11.13"
  }
 },
 "nbformat": 4,
 "nbformat_minor": 5
}
