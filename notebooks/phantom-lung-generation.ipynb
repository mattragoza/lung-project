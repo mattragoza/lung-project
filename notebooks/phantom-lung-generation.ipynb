{
 "cells": [
  {
   "cell_type": "code",
   "execution_count": null,
   "id": "f0d9a487",
   "metadata": {},
   "outputs": [],
   "source": [
    "%matplotlib notebook\n",
    "%load_ext autoreload"
   ]
  },
  {
   "cell_type": "code",
   "execution_count": null,
   "id": "c0387a8a",
   "metadata": {},
   "outputs": [],
   "source": [
    "import sys, os\n",
    "os.environ['PKG_CONFIG_PATH'] = '/ocean/projects/asc170022p/mtragoza/mambaforge/envs/lung-project/lib/pkgconfig'\n",
    "\n",
    "import numpy as np\n",
    "import xarray as xr\n",
    "\n",
    "sys.path.append('..')\n",
    "import project"
   ]
  },
  {
   "cell_type": "code",
   "execution_count": null,
   "id": "1ca7eaec",
   "metadata": {
    "scrolled": false
   },
   "outputs": [],
   "source": [
    "ps = project.phantom.PhantomSet(f'../data/phantom_lung_1000', 100)\n",
    "p = ps[4]\n",
    "p.load_niftis()\n",
    "p.load_mesh(10)\n",
    "\n",
    "xview = project.visual.XArrayViewer\n",
    "xview(p.anat)\n",
    "xview(p.elast)\n",
    "xview(p.disp)\n",
    "p.mesh"
   ]
  },
  {
   "cell_type": "code",
   "execution_count": null,
   "id": "d56f6633",
   "metadata": {},
   "outputs": [],
   "source": [
    "%autoreload\n",
    "\n",
    "for bias_range in [250, 0]:\n",
    "    print(f'GENERATING PHANTOMS WITH BIAS RANGE {bias_range}')\n",
    "    ps = project.phantom.PhantomSet(\n",
    "        data_root=f'../data/phantom_lung_{bias_range}',\n",
    "        num_phantoms=100\n",
    "    )\n",
    "    ps.generate(\n",
    "        mask_file='../data/Emory-4DCT/Case1Pack/TotalSegment/case1_T00/lung_regions.nii.gz',\n",
    "        mesh_radius=10,\n",
    "        bias_range=bias_range\n",
    "    )"
   ]
  },
  {
   "cell_type": "code",
   "execution_count": null,
   "id": "53d39299",
   "metadata": {
    "scrolled": false
   },
   "outputs": [],
   "source": [
    "p = ps.phantoms[2]\n",
    "p.load_niftis()\n",
    "p.load_mesh(10)\n",
    "project.visual.XArrayViewer(p.anat)\n",
    "project.visual.XArrayViewer(p.elast)\n",
    "project.visual.XArrayViewer(p.disp)\n",
    "p.mesh"
   ]
  },
  {
   "cell_type": "code",
   "execution_count": null,
   "id": "9b05f29a",
   "metadata": {},
   "outputs": [],
   "source": []
  }
 ],
 "metadata": {
  "kernelspec": {
   "display_name": "lung-project",
   "language": "python",
   "name": "lung-project"
  },
  "language_info": {
   "codemirror_mode": {
    "name": "ipython",
    "version": 3
   },
   "file_extension": ".py",
   "mimetype": "text/x-python",
   "name": "python",
   "nbconvert_exporter": "python",
   "pygments_lexer": "ipython3",
   "version": "3.10.15"
  }
 },
 "nbformat": 4,
 "nbformat_minor": 5
}
