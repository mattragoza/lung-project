{
 "cells": [
  {
   "cell_type": "code",
   "execution_count": 1,
   "id": "fb2b1754",
   "metadata": {},
   "outputs": [
    {
     "data": {
      "text/plain": [
       "'/ocean/projects/asc170022p/mtragoza/lung-project/notebooks'"
      ]
     },
     "execution_count": 1,
     "metadata": {},
     "output_type": "execute_result"
    }
   ],
   "source": [
    "%matplotlib notebook\n",
    "%load_ext autoreload\n",
    "%autoreload 1\n",
    "%pwd"
   ]
  },
  {
   "cell_type": "code",
   "execution_count": 2,
   "id": "0245cf96",
   "metadata": {},
   "outputs": [
    {
     "name": "stderr",
     "output_type": "stream",
     "text": [
      "--------------------------------------------------------------------------\n",
      "WARNING: There is at least one non-excluded one OpenFabrics device found,\n",
      "but there are no active ports detected (or Open MPI was unable to use\n",
      "them).  This is most certainly not what you wanted.  Check your\n",
      "cables, subnet manager configuration, etc.  The openib BTL will be\n",
      "ignored for this job.\n",
      "\n",
      "  Local host: dv002\n",
      "--------------------------------------------------------------------------\n"
     ]
    },
    {
     "ename": "RuntimeError",
     "evalue": "Could not find DOLFIN pkg-config file. Please make sure appropriate paths are set.",
     "output_type": "error",
     "traceback": [
      "\u001b[0;31m---------------------------------------------------------------------------\u001b[0m",
      "\u001b[0;31mRuntimeError\u001b[0m                              Traceback (most recent call last)",
      "Cell \u001b[0;32mIn[2], line 6\u001b[0m\n\u001b[1;32m      3\u001b[0m \u001b[38;5;28;01mimport\u001b[39;00m \u001b[38;5;21;01mxarray\u001b[39;00m \u001b[38;5;28;01mas\u001b[39;00m \u001b[38;5;21;01mxr\u001b[39;00m\n\u001b[1;32m      5\u001b[0m sys\u001b[38;5;241m.\u001b[39mpath\u001b[38;5;241m.\u001b[39mappend(\u001b[38;5;124m'\u001b[39m\u001b[38;5;124m..\u001b[39m\u001b[38;5;124m'\u001b[39m)\n\u001b[0;32m----> 6\u001b[0m \u001b[38;5;28;01mimport\u001b[39;00m \u001b[38;5;21;01mproject\u001b[39;00m\n",
      "File \u001b[0;32m/ocean/projects/asc170022p/mtragoza/lung-project/notebooks/../project/__init__.py:1\u001b[0m\n\u001b[0;32m----> 1\u001b[0m \u001b[38;5;28;01mfrom\u001b[39;00m \u001b[38;5;21;01m.\u001b[39;00m \u001b[38;5;28;01mimport\u001b[39;00m (\n\u001b[1;32m      2\u001b[0m \tdata, imaging, interpolate, meshing, model, output, pde, utils, visual\n\u001b[1;32m      3\u001b[0m )\n",
      "File \u001b[0;32m/ocean/projects/asc170022p/mtragoza/lung-project/notebooks/../project/data.py:4\u001b[0m\n\u001b[1;32m      1\u001b[0m \u001b[38;5;28;01mimport\u001b[39;00m \u001b[38;5;21;01mnumpy\u001b[39;00m \u001b[38;5;28;01mas\u001b[39;00m \u001b[38;5;21;01mnp\u001b[39;00m\n\u001b[1;32m      2\u001b[0m \u001b[38;5;28;01mimport\u001b[39;00m \u001b[38;5;21;01mtorch\u001b[39;00m\n\u001b[0;32m----> 4\u001b[0m \u001b[38;5;28;01mfrom\u001b[39;00m \u001b[38;5;21;01m.\u001b[39;00m \u001b[38;5;28;01mimport\u001b[39;00m utils\n\u001b[1;32m      7\u001b[0m \u001b[38;5;28;01mclass\u001b[39;00m \u001b[38;5;21;01mPDEDataset\u001b[39;00m(torch\u001b[38;5;241m.\u001b[39mutils\u001b[38;5;241m.\u001b[39mdata\u001b[38;5;241m.\u001b[39mDataset):\n\u001b[1;32m      9\u001b[0m     \u001b[38;5;129m@classmethod\u001b[39m\n\u001b[1;32m     10\u001b[0m     \u001b[38;5;28;01mdef\u001b[39;00m \u001b[38;5;21mgenerate\u001b[39m(\n\u001b[1;32m     11\u001b[0m         \u001b[38;5;28mcls\u001b[39m,\n\u001b[0;32m   (...)\u001b[0m\n\u001b[1;32m     19\u001b[0m     ):\n\u001b[1;32m     20\u001b[0m         \u001b[38;5;66;03m# define spatial and frequency domain\u001b[39;00m\n",
      "File \u001b[0;32m/ocean/projects/asc170022p/mtragoza/lung-project/notebooks/../project/utils.py:5\u001b[0m\n\u001b[1;32m      3\u001b[0m \u001b[38;5;28;01mimport\u001b[39;00m \u001b[38;5;21;01mtorch\u001b[39;00m\n\u001b[1;32m      4\u001b[0m \u001b[38;5;28;01mimport\u001b[39;00m \u001b[38;5;21;01mtorch\u001b[39;00m\u001b[38;5;21;01m.\u001b[39;00m\u001b[38;5;21;01mnn\u001b[39;00m\u001b[38;5;21;01m.\u001b[39;00m\u001b[38;5;21;01mfunctional\u001b[39;00m \u001b[38;5;28;01mas\u001b[39;00m \u001b[38;5;21;01mF\u001b[39;00m\n\u001b[0;32m----> 5\u001b[0m \u001b[38;5;28;01mimport\u001b[39;00m \u001b[38;5;21;01mtorch_fenics\u001b[39;00m\n\u001b[1;32m      6\u001b[0m \u001b[38;5;28;01mimport\u001b[39;00m \u001b[38;5;21;01mfenics\u001b[39;00m \u001b[38;5;28;01mas\u001b[39;00m \u001b[38;5;21;01mfe\u001b[39;00m\n\u001b[1;32m      8\u001b[0m \u001b[38;5;66;03m# functions for converting between image-like arrays \u001b[39;00m\n\u001b[1;32m      9\u001b[0m \u001b[38;5;66;03m#   and vectors of dofs for a finite element basis\u001b[39;00m\n",
      "File \u001b[0;32m/ocean/projects/asc170022p/mtragoza/mambaforge/envs/lung-project/lib/python3.10/site-packages/torch_fenics/__init__.py:1\u001b[0m\n\u001b[0;32m----> 1\u001b[0m \u001b[38;5;28;01mimport\u001b[39;00m \u001b[38;5;21;01mfenics\u001b[39;00m\n\u001b[1;32m      2\u001b[0m fenics\u001b[38;5;241m.\u001b[39mset_log_level(fenics\u001b[38;5;241m.\u001b[39mLogLevel\u001b[38;5;241m.\u001b[39mERROR)\n\u001b[1;32m      4\u001b[0m \u001b[38;5;28;01mfrom\u001b[39;00m \u001b[38;5;21;01m.\u001b[39;00m\u001b[38;5;21;01mtorch_fenics\u001b[39;00m \u001b[38;5;28;01mimport\u001b[39;00m FEniCSModule\n",
      "File \u001b[0;32m/ocean/projects/asc170022p/mtragoza/mambaforge/envs/lung-project/lib/python3.10/site-packages/fenics/__init__.py:7\u001b[0m\n\u001b[1;32m      1\u001b[0m \u001b[38;5;66;03m# -*- coding: utf-8 -*-\u001b[39;00m\n\u001b[1;32m      2\u001b[0m \u001b[38;5;124;03m\"\"\"Main module for FEniCS.\u001b[39;00m\n\u001b[1;32m      3\u001b[0m \n\u001b[1;32m      4\u001b[0m \u001b[38;5;124;03mThis module is identical with the main DOLFIN module.\u001b[39;00m\n\u001b[1;32m      5\u001b[0m \u001b[38;5;124;03m\"\"\"\u001b[39;00m\n\u001b[0;32m----> 7\u001b[0m \u001b[38;5;28;01mfrom\u001b[39;00m \u001b[38;5;21;01mdolfin\u001b[39;00m \u001b[38;5;28;01mimport\u001b[39;00m \u001b[38;5;241m*\u001b[39m\n",
      "File \u001b[0;32m/ocean/projects/asc170022p/mtragoza/mambaforge/envs/lung-project/lib/python3.10/site-packages/dolfin/__init__.py:142\u001b[0m\n\u001b[1;32m    139\u001b[0m \u001b[38;5;28;01mfrom\u001b[39;00m \u001b[38;5;21;01m.\u001b[39;00m\u001b[38;5;21;01mcommon\u001b[39;00m\u001b[38;5;21;01m.\u001b[39;00m\u001b[38;5;21;01mtimer\u001b[39;00m \u001b[38;5;28;01mimport\u001b[39;00m Timer, timed\n\u001b[1;32m    140\u001b[0m \u001b[38;5;28;01mfrom\u001b[39;00m \u001b[38;5;21;01m.\u001b[39;00m\u001b[38;5;21;01mcommon\u001b[39;00m\u001b[38;5;21;01m.\u001b[39;00m\u001b[38;5;21;01mplotting\u001b[39;00m \u001b[38;5;28;01mimport\u001b[39;00m plot\n\u001b[0;32m--> 142\u001b[0m \u001b[38;5;28;01mfrom\u001b[39;00m \u001b[38;5;21;01m.\u001b[39;00m\u001b[38;5;21;01mfem\u001b[39;00m\u001b[38;5;21;01m.\u001b[39;00m\u001b[38;5;21;01massembling\u001b[39;00m \u001b[38;5;28;01mimport\u001b[39;00m (assemble, assemble_system, assemble_multimesh,\n\u001b[1;32m    143\u001b[0m                              SystemAssembler, assemble_local)\n\u001b[1;32m    144\u001b[0m \u001b[38;5;28;01mfrom\u001b[39;00m \u001b[38;5;21;01m.\u001b[39;00m\u001b[38;5;21;01mfem\u001b[39;00m\u001b[38;5;21;01m.\u001b[39;00m\u001b[38;5;21;01mform\u001b[39;00m \u001b[38;5;28;01mimport\u001b[39;00m Form\n\u001b[1;32m    145\u001b[0m \u001b[38;5;28;01mfrom\u001b[39;00m \u001b[38;5;21;01m.\u001b[39;00m\u001b[38;5;21;01mfem\u001b[39;00m\u001b[38;5;21;01m.\u001b[39;00m\u001b[38;5;21;01mnorms\u001b[39;00m \u001b[38;5;28;01mimport\u001b[39;00m norm, errornorm\n",
      "File \u001b[0;32m/ocean/projects/asc170022p/mtragoza/mambaforge/envs/lung-project/lib/python3.10/site-packages/dolfin/fem/assembling.py:34\u001b[0m\n\u001b[1;32m     32\u001b[0m \u001b[38;5;28;01mimport\u001b[39;00m \u001b[38;5;21;01mufl\u001b[39;00m\n\u001b[1;32m     33\u001b[0m \u001b[38;5;28;01mimport\u001b[39;00m \u001b[38;5;21;01mdolfin\u001b[39;00m\u001b[38;5;21;01m.\u001b[39;00m\u001b[38;5;21;01mcpp\u001b[39;00m \u001b[38;5;28;01mas\u001b[39;00m \u001b[38;5;21;01mcpp\u001b[39;00m\n\u001b[0;32m---> 34\u001b[0m \u001b[38;5;28;01mfrom\u001b[39;00m \u001b[38;5;21;01mdolfin\u001b[39;00m\u001b[38;5;21;01m.\u001b[39;00m\u001b[38;5;21;01mfem\u001b[39;00m\u001b[38;5;21;01m.\u001b[39;00m\u001b[38;5;21;01mform\u001b[39;00m \u001b[38;5;28;01mimport\u001b[39;00m Form\n\u001b[1;32m     35\u001b[0m \u001b[38;5;28;01mfrom\u001b[39;00m \u001b[38;5;21;01mdolfin\u001b[39;00m \u001b[38;5;28;01mimport\u001b[39;00m MPI\n\u001b[1;32m     36\u001b[0m \u001b[38;5;28;01mfrom\u001b[39;00m \u001b[38;5;21;01mdolfin\u001b[39;00m\u001b[38;5;21;01m.\u001b[39;00m\u001b[38;5;21;01mfunction\u001b[39;00m\u001b[38;5;21;01m.\u001b[39;00m\u001b[38;5;21;01mmultimeshfunction\u001b[39;00m \u001b[38;5;28;01mimport\u001b[39;00m MultiMeshFunction\n",
      "File \u001b[0;32m/ocean/projects/asc170022p/mtragoza/mambaforge/envs/lung-project/lib/python3.10/site-packages/dolfin/fem/form.py:12\u001b[0m\n\u001b[1;32m     10\u001b[0m \u001b[38;5;28;01mimport\u001b[39;00m \u001b[38;5;21;01mufl\u001b[39;00m\n\u001b[1;32m     11\u001b[0m \u001b[38;5;28;01mimport\u001b[39;00m \u001b[38;5;21;01mdolfin\u001b[39;00m\u001b[38;5;21;01m.\u001b[39;00m\u001b[38;5;21;01mcpp\u001b[39;00m \u001b[38;5;28;01mas\u001b[39;00m \u001b[38;5;21;01mcpp\u001b[39;00m\n\u001b[0;32m---> 12\u001b[0m \u001b[38;5;28;01mfrom\u001b[39;00m \u001b[38;5;21;01mdolfin\u001b[39;00m\u001b[38;5;21;01m.\u001b[39;00m\u001b[38;5;21;01mjit\u001b[39;00m\u001b[38;5;21;01m.\u001b[39;00m\u001b[38;5;21;01mjit\u001b[39;00m \u001b[38;5;28;01mimport\u001b[39;00m dolfin_pc, ffc_jit\n\u001b[1;32m     15\u001b[0m \u001b[38;5;28;01mclass\u001b[39;00m \u001b[38;5;21;01mForm\u001b[39;00m(cpp\u001b[38;5;241m.\u001b[39mfem\u001b[38;5;241m.\u001b[39mForm):\n\u001b[1;32m     16\u001b[0m     \u001b[38;5;28;01mdef\u001b[39;00m \u001b[38;5;21m__init__\u001b[39m(\u001b[38;5;28mself\u001b[39m, form, \u001b[38;5;241m*\u001b[39m\u001b[38;5;241m*\u001b[39mkwargs):\n\u001b[1;32m     17\u001b[0m \n\u001b[1;32m     18\u001b[0m         \u001b[38;5;66;03m# Check form argument\u001b[39;00m\n",
      "File \u001b[0;32m/ocean/projects/asc170022p/mtragoza/mambaforge/envs/lung-project/lib/python3.10/site-packages/dolfin/jit/jit.py:18\u001b[0m\n\u001b[1;32m     16\u001b[0m     dolfin_pc \u001b[38;5;241m=\u001b[39m pkgconfig\u001b[38;5;241m.\u001b[39mparse(\u001b[38;5;124m\"\u001b[39m\u001b[38;5;124mdolfin\u001b[39m\u001b[38;5;124m\"\u001b[39m)\n\u001b[1;32m     17\u001b[0m \u001b[38;5;28;01melse\u001b[39;00m:\n\u001b[0;32m---> 18\u001b[0m     \u001b[38;5;28;01mraise\u001b[39;00m \u001b[38;5;167;01mRuntimeError\u001b[39;00m(\u001b[38;5;124m\"\u001b[39m\u001b[38;5;124mCould not find DOLFIN pkg-config file. Please make sure appropriate paths are set.\u001b[39m\u001b[38;5;124m\"\u001b[39m)\n\u001b[1;32m     21\u001b[0m \u001b[38;5;66;03m# Copied over from site-packages\u001b[39;00m\n\u001b[1;32m     22\u001b[0m \u001b[38;5;28;01mdef\u001b[39;00m \u001b[38;5;21mmpi_jit_decorator\u001b[39m(local_jit, \u001b[38;5;241m*\u001b[39margs, \u001b[38;5;241m*\u001b[39m\u001b[38;5;241m*\u001b[39mkwargs):\n",
      "\u001b[0;31mRuntimeError\u001b[0m: Could not find DOLFIN pkg-config file. Please make sure appropriate paths are set."
     ]
    }
   ],
   "source": [
    "import sys, os\n",
    "import numpy as np\n",
    "import xarray as xr\n",
    "\n",
    "sys.path.append('..')\n",
    "import project"
   ]
  },
  {
   "cell_type": "code",
   "execution_count": null,
   "id": "21f443c8",
   "metadata": {},
   "outputs": [],
   "source": [
    "ds = project.Emory4DCTCase(data_root='data/Emory-4DCT')\n",
    "ds.load_niftis()"
   ]
  },
  {
   "cell_type": "code",
   "execution_count": null,
   "id": "b3acc2d1",
   "metadata": {},
   "outputs": [],
   "source": [
    "def register_corrfield(case, fixed_phase, moving_phase):\n",
    "\n",
    "    image_dir = case.nifti_dir.resolve()\n",
    "    mask_dir = case.mask_dir.resolve()\n",
    "    output_dir = case.case_dir.resolve() / 'CorrField'\n",
    "    os.makedirs(output_dir, exist_ok=True)\n",
    "    \n",
    "    fixed_name = f'case{case.case_id}_T{fixed_phase:02d}'\n",
    "    fixed_image = image_dir / (fixed_name + '.nii.gz')\n",
    "    fixed_mask = mask_dir / fixed_name / 'lung_combined_mask.nii.gz'\n",
    "    \n",
    "    moving_name = f'case{case.case_id}_T{moving_phase:02d}'\n",
    "    moving_image = image_dir / (moving_name + '.nii.gz')\n",
    "    \n",
    "    reg_name = f'case{case.case_id}_T{moving_phase:02d}_T{fixed_phase:02d}'\n",
    "    output_path = output_dir / reg_name\n",
    "\n",
    "    try:\n",
    "        cwd = os.getcwd()\n",
    "        os.chdir('../Lung250M-4B')\n",
    "        import corrfield\n",
    "        args = corrfield.parse_args(f'-F {fixed_image} -M {moving_image} -m {fixed_mask} -O {output_path}'.split())\n",
    "        corrfield.main(args)\n",
    "    except:\n",
    "        os.chdir(cwd)\n",
    "        raise\n",
    "    finally:\n",
    "        os.chdir(cwd)"
   ]
  },
  {
   "cell_type": "code",
   "execution_count": null,
   "id": "ce673872",
   "metadata": {},
   "outputs": [],
   "source": [
    "%pwd"
   ]
  },
  {
   "cell_type": "code",
   "execution_count": null,
   "id": "b79ee3ac",
   "metadata": {},
   "outputs": [],
   "source": [
    "register_corrfield(case, moving_phase=50, fixed_phase=0)"
   ]
  },
  {
   "cell_type": "code",
   "execution_count": null,
   "id": "df132d0c",
   "metadata": {},
   "outputs": [],
   "source": [
    "import nibabel as nib\n",
    "import xarray as xr\n",
    "import hvplot.xarray\n",
    "\n",
    "a = nib.load('/ocean/projects/asc170022p/mtragoza/lung-project/data/Emory-4DCT/Case1Pack/CorrField/case1_T00_T50.nii.gz')\n",
    "\n",
    "xr.DataArray(\n",
    "    a.get_fdata().astype(np.float32)[0],\n",
    "    dims=['x', 'y', 'z', 'component'],\n",
    "    coords={\n",
    "        'x': np.arange(256) * 0.97,\n",
    "        'y': np.arange(256) * 0.97,\n",
    "        'z': np.arange(94) * 2.5,\n",
    "        'component': ['x', 'y', 'z']\n",
    "    }\n",
    ").hvplot(groupby=['y', 'component'], x='x', y='z', data_aspect=1, clim=(-10, 10), cmap='seismic')"
   ]
  },
  {
   "cell_type": "code",
   "execution_count": null,
   "id": "23cc9aa7",
   "metadata": {},
   "outputs": [],
   "source": [
    "case.view(groupby=['phase', 'y'], x='x', y='z')"
   ]
  },
  {
   "cell_type": "code",
   "execution_count": null,
   "id": "d090daf1",
   "metadata": {
    "scrolled": true
   },
   "outputs": [],
   "source": [
    "%%time\n",
    "\n",
    "spatial_shape = [case.array.sizes[d] for d in 'xyz']\n",
    "spatial_coords = [case.array.coords[d] for d in 'xyz']\n",
    "\n",
    "input_points = utils.nd_coords(spatial_coords)\n",
    "output_points = F.apply(input_points)\n",
    "U = output_points - input_points\n",
    "\n",
    "displacement = xr.DataArray(\n",
    "    U.reshape(spatial_shape + [3]),\n",
    "    dims=['x', 'y', 'z', 'component'],\n",
    "    coords={\n",
    "        'x': case.array.x,\n",
    "        'y': case.array.y,\n",
    "        'z': case.array.z,\n",
    "        'component': ['x', 'y', 'z']\n",
    "    }\n",
    ")\n",
    "displacement"
   ]
  },
  {
   "cell_type": "code",
   "execution_count": null,
   "id": "95344936",
   "metadata": {},
   "outputs": [],
   "source": [
    "data.view_array(displacement, groupby=['y', 'component'], x='x', y='z')"
   ]
  },
  {
   "cell_type": "code",
   "execution_count": null,
   "id": "1c7ceab2",
   "metadata": {},
   "outputs": [],
   "source": [
    "import torch\n",
    "import torch.nn.functional as F"
   ]
  },
  {
   "cell_type": "code",
   "execution_count": null,
   "id": "8d7356cf",
   "metadata": {},
   "outputs": [],
   "source": [
    "F.affine_grid(torch.eye(2, 3).unsqueeze(0), (1, 1, 3, 3), align_corners=True).shape"
   ]
  },
  {
   "cell_type": "code",
   "execution_count": null,
   "id": "1edfe7cf",
   "metadata": {},
   "outputs": [],
   "source": [
    "img_mov_warped = F.grid_sample(\n",
    "    img_mov,\n",
    "    F.affine_grid(\n",
    "        torch.eye(3, )\n",
    "    )\n",
    ")"
   ]
  },
  {
   "cell_type": "code",
   "execution_count": null,
   "id": "e99837a3",
   "metadata": {},
   "outputs": [],
   "source": [
    "sys.path.append('../Lung250M-4B')\n",
    "import corrfield\n",
    "\n",
    "corrfield.utils."
   ]
  },
  {
   "cell_type": "code",
   "execution_count": null,
   "id": "aa76adf4",
   "metadata": {},
   "outputs": [],
   "source": [
    "\n",
    "\n",
    "F.grid_sample(\n",
    "    input=torch.zeros(1,1,),\n",
    "    grid=torch.zeros(3),\n",
    "    mode='bilinear'\n",
    ").shape"
   ]
  },
  {
   "cell_type": "code",
   "execution_count": null,
   "id": "8e7afdb5",
   "metadata": {},
   "outputs": [],
   "source": []
  }
 ],
 "metadata": {
  "kernelspec": {
   "display_name": "lung-project",
   "language": "python",
   "name": "lung-project"
  },
  "language_info": {
   "codemirror_mode": {
    "name": "ipython",
    "version": 3
   },
   "file_extension": ".py",
   "mimetype": "text/x-python",
   "name": "python",
   "nbconvert_exporter": "python",
   "pygments_lexer": "ipython3",
   "version": "3.10.14"
  }
 },
 "nbformat": 4,
 "nbformat_minor": 5
}
